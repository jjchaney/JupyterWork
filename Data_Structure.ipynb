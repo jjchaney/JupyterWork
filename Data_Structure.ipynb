{
 "cells": [
  {
   "cell_type": "markdown",
   "metadata": {},
   "source": [
    "<b><center>UNCLASSIFIED</center></b>"
   ]
  },
  {
   "cell_type": "markdown",
   "metadata": {},
   "source": [
    "<img src=\"./GRAPHICS/Banner.png\" width=\"110%\">"
   ]
  },
  {
   "cell_type": "markdown",
   "metadata": {},
   "source": [
    "# Lesson 3: Data Structures"
   ]
  },
  {
   "cell_type": "markdown",
   "metadata": {},
   "source": [
    "<hr>\n",
    "## Table of Contents\n",
    "\n",
    "* [3.1. Objectives](#Objectives)<br>\n",
    "* [3.2. Overview](#Overview)<br>\n",
    "* [3.3. Review](#Review)<br>\n",
    "* [3.4. Lesson: Data Structures](#Lesson)<br>\n",
    "    * [3.4.1. Lists, Tuples, and Strings](#Lists)<br>\n",
    "    * [3.4.2. Common Operations Across Sequences](#Common)<br>\n",
    "    * [3.4.3. Indexing and Slicing a Sequence](#Indexing)<br>\n",
    "    * [3.4.4. Unordered Data Structures: Sets and Dictionaries](#Unordered)<br>\n",
    "* [3.5. Guided Exercise: String and List Operations](#Guided-Exercise)<br>\n",
    "* [3.6. Practical Exercises](#Practical-Exercises)<br>\n",
    "    * [3.6.1. Practical Exercise 1: Dealing with Dirty Data](#PE1)<br>\n",
    "    * [3.6.2 Practical Exercise 2: Indexing and Slicing Sequence Data Structures](#PE2)<br>\n",
    "    * [3.6.3. Practical Exercise 3: String and List Operations & Indexing and Slicing Sequence Data Structures](#PE3)<br>\n",
    "    * [3.6.4. Practical Exercise 4: Tuples](#PE4)<br>\n",
    "    * [3.6.5. Practical Exercise 5: Sets](#PE5)<br>\n",
    "* [3.7. Administrative Notes](#Administrative)<br>"
   ]
  },
  {
   "cell_type": "markdown",
   "metadata": {},
   "source": [
    "<a id='Objectives'></a>\n",
    "## 3.1 Objectives\n",
    "Using conditionals, loops, Python dictionaries, local data, the CSV Library, and the Glob Library, students will be able to:\n",
    " - Examine the implications of using computation to solve a problem\n",
    "     - Discuss best practices for using computation to solve a problem\n",
    "     - Suggest types of problems that can be solved through computation\n",
    "     - Show how computation can solve a problem\n",
    "     <br><br>\n",
    " -  Recognize key computer science concepts\n",
    "     -  Identify various data types and structures used in Python scripting\n"
   ]
  },
  {
   "cell_type": "markdown",
   "metadata": {},
   "source": [
    "<hr>\n",
    "<a id='Overview'></a>\n",
    "## 3.2. Overview\n",
    "\n",
    "The following lesson is divided into three main parts:\n",
    "\n",
    "* Lesson: Python Data Structures \n",
    "* Guided Exercise: String and List Operations \n",
    "* Practical Exercises "
   ]
  },
  {
   "cell_type": "markdown",
   "metadata": {},
   "source": [
    "<b><font color=\"firebrick\">Instructor Guidance:</font> Refer back to Lesson 1 and relate the four steps of problem-solving using Computational Thinking (Decomposition, Pattern Recognition, Abstraction, & Algorithm Design) to lessons, exercises, examples, student questions/comments, etc., as appropriate throughout this lesson.</b>"
   ]
  },
  {
   "cell_type": "markdown",
   "metadata": {},
   "source": [
    "<hr>\n",
    "<a id='Review'></a>\n",
    "## 3.3. Review"
   ]
  },
  {
   "cell_type": "markdown",
   "metadata": {},
   "source": [
    "Review the following Python data types. Explain in your own words what each data type is. In today's lesson, we will be learning about sequences and groups, which we've added to the table.\n",
    "\n",
    "| Plain Language Description                              | Python Data Type | `type()` Output |\n",
    "| :------------------------------------------ | :---------------: | :-------------: |\n",
    "| True or False                               | Boolean          | `bool`            |\n",
    "| Whole Numbers                               | Integer          | `int`             |\n",
    "| Decimal Numbers                             | Float            | `float`           |\n",
    "| Sequences of characters including letters, <br>numbers, formatting characters, and/or punctuation   | String   | `str` |\n",
    "| Nothingness, non-existence; not the same as <br>zero or empty                 | None          | `NoneType`            |\n",
    "| Sequences or groups                                       | List             | `list`            |\n",
    "|                                             | Tuple            |` tuple`           |\n",
    "|                                             | Set              | `set`             |\n",
    "|                                             | Dictionary       | `dict`            |"
   ]
  },
  {
   "cell_type": "markdown",
   "metadata": {},
   "source": [
    "***\n",
    "<a id='Lesson'></a>\n",
    "## 3.4. Lesson: Data Structures\n",
    "\n",
    "<a id='Lists'></a>\n",
    "### 3.4.1. Sequences: Lists, Tuples, Strings\n",
    "<hr>\n",
    "#### References:\n",
    "* [Python: Data Structures](https://docs.python.org/3.4/tutorial/datastructures.html#data-structures)\n",
    "<hr>\n",
    "\n",
    "A sequence in Python is an ordered grouping of elements.  Each element of a sequence is assigned an _index_, a number that denotes its place in the sequence. The first item in a Python sequence has index `[0]`, the second has index `[1]`, and so on.\n",
    "\n",
    "Let's take a look at a very basic sequence: the string `'Hello!'` (Remember that Python treats strings as sequences of individual characters.)\n",
    "\n",
    "<img src=\"./GRAPHICS/arrayIndex.png\" width=\"50%\">\n",
    "\n",
    "Note that Python supports negative indexing too, with the last element in the sequence having the index `[-1]`. That means each element in a sequence can be accessed with two indexes, a positive one and a negative one."
   ]
  },
  {
   "cell_type": "markdown",
   "metadata": {},
   "source": [
    "<hr>\n",
    "#### 3.4.1.1. Sequences: Lists\n",
    "<hr>\n",
    "#### References:\n",
    "* [Python: More on Lists](https://docs.python.org/3.4/tutorial/datastructures.html#more-on-lists)\n",
    "* [Effbot: An Introduction to Python Lists](http://www.effbot.org/zone/python-list.htm)\n",
    "<hr>\n",
    "\n",
    "Lists are simply containers for holding objects in a given order. Lists are _mutable_, meaning they allow you to add, remove, or overwrite individual elements inside them. In Python, lists are always wrapped in square brackets: `[]`."
   ]
  },
  {
   "cell_type": "markdown",
   "metadata": {},
   "source": [
    "#### 3.4.1.1.1. Creating Lists\n",
    "To initialize or create an empty list, we can use the built-in `list()` function."
   ]
  },
  {
   "cell_type": "code",
   "execution_count": 1,
   "metadata": {
    "collapsed": false
   },
   "outputs": [
    {
     "data": {
      "text/plain": [
       "[]"
      ]
     },
     "execution_count": 1,
     "metadata": {},
     "output_type": "execute_result"
    }
   ],
   "source": [
    "empty_list_1 = list()\n",
    "empty_list_1 "
   ]
  },
  {
   "cell_type": "markdown",
   "metadata": {},
   "source": [
    "Or we can simply use an open square bracket immediately followed by a closed square bracket."
   ]
  },
  {
   "cell_type": "code",
   "execution_count": 2,
   "metadata": {
    "collapsed": false
   },
   "outputs": [
    {
     "data": {
      "text/plain": [
       "[]"
      ]
     },
     "execution_count": 2,
     "metadata": {},
     "output_type": "execute_result"
    }
   ],
   "source": [
    "empty_list_2 = []\n",
    "empty_list_2"
   ]
  },
  {
   "cell_type": "markdown",
   "metadata": {},
   "source": [
    "You also have the ability to initialize and populate a list at the same time. Just wrap the items, separated by commas, in a set of brackets. Here, we create a list of integers:"
   ]
  },
  {
   "cell_type": "code",
   "execution_count": 3,
   "metadata": {
    "collapsed": false
   },
   "outputs": [
    {
     "data": {
      "text/plain": [
       "[0, 1, 2, 3, 4, 5, 6, 7, 8, 9]"
      ]
     },
     "execution_count": 3,
     "metadata": {},
     "output_type": "execute_result"
    }
   ],
   "source": [
    "numbers_list = [0, 1, 2, 3, 4, 5, 6, 7, 8, 9]\n",
    "numbers_list"
   ]
  },
  {
   "cell_type": "markdown",
   "metadata": {},
   "source": [
    "Lists can contain elements of any data type."
   ]
  },
  {
   "cell_type": "code",
   "execution_count": 4,
   "metadata": {
    "collapsed": false
   },
   "outputs": [
    {
     "data": {
      "text/plain": [
       "['Talk', 'is', 'cheap.', 'Show', 'me', 'the', 'code.', ' - Linus Torvalds']"
      ]
     },
     "execution_count": 4,
     "metadata": {},
     "output_type": "execute_result"
    }
   ],
   "source": [
    "str_list = ['Talk','is','cheap.',       \n",
    "            'Show','me','the','code.',\n",
    "            ' - Linus Torvalds']\n",
    "str_list"
   ]
  },
  {
   "cell_type": "markdown",
   "metadata": {},
   "source": [
    "Lists can also contain data structures, such as lists. Lists stored inside other lists are often called _nested_ lists."
   ]
  },
  {
   "cell_type": "code",
   "execution_count": 5,
   "metadata": {
    "collapsed": false
   },
   "outputs": [
    {
     "data": {
      "text/plain": [
       "['a', 'b', 'c', ['d', 'e', 'f']]"
      ]
     },
     "execution_count": 5,
     "metadata": {},
     "output_type": "execute_result"
    }
   ],
   "source": [
    "list_of_lists = ['a', 'b', 'c', ['d', 'e', 'f']]\n",
    "list_of_lists"
   ]
  },
  {
   "cell_type": "markdown",
   "metadata": {},
   "source": [
    "#### 3.4.1.1.2. List Methods and Operations\n",
    "\n",
    "There are a number of methods (i.e. functions) that can be applied to lists. Let's initialize a list of fruit names to explore some of these methods."
   ]
  },
  {
   "cell_type": "code",
   "execution_count": 6,
   "metadata": {
    "collapsed": false
   },
   "outputs": [
    {
     "data": {
      "text/plain": [
       "['apricot', 'applez', 'bananas', 'cherries', 'clementines']"
      ]
     },
     "execution_count": 6,
     "metadata": {},
     "output_type": "execute_result"
    }
   ],
   "source": [
    "juicy_fruit = ['apricot', 'applez', 'bananas', 'cherries', 'clementines']\n",
    "juicy_fruit"
   ]
  },
  {
   "cell_type": "markdown",
   "metadata": {},
   "source": [
    "Writing a set of brackets with an integer after a list will access or extract an element from the list. The integer inside the brackets refers to the index location of the item to extract. This is sometimes referred to as _bracket notation_. Overwriting the extracted element using the assignment operator (`=`) will change that element inside your list.\n",
    "\n",
    "| Syntax                 | Description                               |\n",
    "|:----------------------:|-------------------------------------------|\n",
    "| `list_variable[n] = x` |Sets the item at index `[n]` to  `x` |"
   ]
  },
  {
   "cell_type": "code",
   "execution_count": 7,
   "metadata": {
    "collapsed": false
   },
   "outputs": [
    {
     "data": {
      "text/plain": [
       "['apricot', 'apples', 'bananas', 'cherries', 'clementines']"
      ]
     },
     "execution_count": 7,
     "metadata": {},
     "output_type": "execute_result"
    }
   ],
   "source": [
    "juicy_fruit[1] = 'apples'\n",
    "juicy_fruit"
   ]
  },
  {
   "cell_type": "markdown",
   "metadata": {},
   "source": [
    "The `.append()` method adds an item to the end of a list.\n",
    "\n",
    "| Syntax                | Description                               |\n",
    "|:----------------------:|-------------------------------------------|\n",
    "|`list_variable.append(x)` | Adds `x` to the end of the list |"
   ]
  },
  {
   "cell_type": "code",
   "execution_count": 8,
   "metadata": {
    "collapsed": false
   },
   "outputs": [
    {
     "data": {
      "text/plain": [
       "['apricot', 'apples', 'bananas', 'cherries', 'clementines', 'dragon fruit']"
      ]
     },
     "execution_count": 8,
     "metadata": {},
     "output_type": "execute_result"
    }
   ],
   "source": [
    "juicy_fruit.append('dragon fruit')\n",
    "juicy_fruit"
   ]
  },
  {
   "cell_type": "markdown",
   "metadata": {},
   "source": [
    "The `.extend()` method is similar to `.append()`, however instead of adding a single element to a list it adds multiple items, one by one. Because `.extend()` expects to add multiple items, you must pass it a sequence (such as a list) as an argument.\n",
    "\n",
    "| Syntax               | Description                               |\n",
    "|:----------------------:|-------------------------------------------|\n",
    "|`list_variable.extend(my_list)`    | Appends each item in `my_list` to a list. |"
   ]
  },
  {
   "cell_type": "code",
   "execution_count": 9,
   "metadata": {
    "collapsed": false,
    "scrolled": true
   },
   "outputs": [
    {
     "data": {
      "text/plain": [
       "['apricot',\n",
       " 'apples',\n",
       " 'bananas',\n",
       " 'cherries',\n",
       " 'clementines',\n",
       " 'dragon fruit',\n",
       " 'fig',\n",
       " 'grapefruit']"
      ]
     },
     "execution_count": 9,
     "metadata": {},
     "output_type": "execute_result"
    }
   ],
   "source": [
    "juicy_fruit.extend(['fig','grapefruit'])\n",
    "juicy_fruit"
   ]
  },
  {
   "cell_type": "markdown",
   "metadata": {},
   "source": [
    "The `.insert()` method also adds an item to a list, however it adds it in the position we specify. The new item will be placed at the index we put in the first argument, moving all later elements in the list to make room.\n",
    "\n",
    "| Syntax               | Description                               |\n",
    "|:----------------------:|-------------------------------------------|\n",
    "|`list_variable.insert(i, x)`        | Inserts `x` at index `i` in the list |"
   ]
  },
  {
   "cell_type": "code",
   "execution_count": 10,
   "metadata": {
    "collapsed": false
   },
   "outputs": [
    {
     "data": {
      "text/plain": [
       "['apricot',\n",
       " 'apples',\n",
       " 'elderberry',\n",
       " 'bananas',\n",
       " 'cherries',\n",
       " 'clementines',\n",
       " 'dragon fruit',\n",
       " 'fig',\n",
       " 'grapefruit']"
      ]
     },
     "execution_count": 10,
     "metadata": {},
     "output_type": "execute_result"
    }
   ],
   "source": [
    "juicy_fruit.insert(2, 'elderberry')\n",
    "juicy_fruit"
   ]
  },
  {
   "cell_type": "markdown",
   "metadata": {},
   "source": [
    "The `.remove()` method searches a list for the value specified as its argument, and removes the first instance of the value from the collection.\n",
    "\n",
    "| Syntax               | Description                               |\n",
    "|:----------------------:|-------------------------------------------|\n",
    "|`list_variable.remove(x)`          | Removes the first appearance of `x` in the list |"
   ]
  },
  {
   "cell_type": "code",
   "execution_count": 11,
   "metadata": {
    "collapsed": false
   },
   "outputs": [
    {
     "data": {
      "text/plain": [
       "['apricot',\n",
       " 'elderberry',\n",
       " 'bananas',\n",
       " 'cherries',\n",
       " 'clementines',\n",
       " 'dragon fruit',\n",
       " 'fig',\n",
       " 'grapefruit']"
      ]
     },
     "execution_count": 11,
     "metadata": {},
     "output_type": "execute_result"
    }
   ],
   "source": [
    "juicy_fruit.remove('apples')\n",
    "juicy_fruit"
   ]
  },
  {
   "cell_type": "markdown",
   "metadata": {},
   "source": [
    "The `.pop()` method also removes an item from the list. But instead of searching by the item's value, it finds the item to remove by index. Furthermore, the item is not only removed, but _returned_, meaning that it is made available to be, for instance, stored in a new variable.\n",
    "\n",
    "| Syntax               | Description                               |\n",
    "|:----------------------:|-------------------------------------------|\n",
    "|`list_variable.pop(i)` | Removes the item at index `i` in the list and returns that item |"
   ]
  },
  {
   "cell_type": "code",
   "execution_count": 12,
   "metadata": {
    "collapsed": false
   },
   "outputs": [
    {
     "data": {
      "text/plain": [
       "'cherries'"
      ]
     },
     "execution_count": 12,
     "metadata": {},
     "output_type": "execute_result"
    }
   ],
   "source": [
    "popped_item = juicy_fruit.pop(3)\n",
    "popped_item"
   ]
  },
  {
   "cell_type": "code",
   "execution_count": 13,
   "metadata": {
    "collapsed": false
   },
   "outputs": [
    {
     "data": {
      "text/plain": [
       "['apricot',\n",
       " 'elderberry',\n",
       " 'bananas',\n",
       " 'clementines',\n",
       " 'dragon fruit',\n",
       " 'fig',\n",
       " 'grapefruit']"
      ]
     },
     "execution_count": 13,
     "metadata": {},
     "output_type": "execute_result"
    }
   ],
   "source": [
    "juicy_fruit"
   ]
  },
  {
   "cell_type": "markdown",
   "metadata": {},
   "source": [
    "The `.index()` method searches a list for a given value, and returns the index position of the first instance of the value. If the value is not in the list, this method throws an error.\n",
    "\n",
    "| Syntax               | Description                               |\n",
    "|:----------------------:|-------------------------------------------|\n",
    "|`list_variable.index(x)`          | Returns the index where `x` first appears in the list <br>Throws an error if `x` is not contained in the list |"
   ]
  },
  {
   "cell_type": "code",
   "execution_count": 14,
   "metadata": {
    "collapsed": false
   },
   "outputs": [
    {
     "data": {
      "text/plain": [
       "3"
      ]
     },
     "execution_count": 14,
     "metadata": {},
     "output_type": "execute_result"
    }
   ],
   "source": [
    "juicy_fruit.index('clementines')"
   ]
  },
  {
   "cell_type": "markdown",
   "metadata": {},
   "source": [
    "The `.count()` method counts the number of times a value appears in a list.\n",
    "\n",
    "| Syntax               | Description                               |\n",
    "|:----------------------:|-------------------------------------------|\n",
    "|`list_variable.count(x)`| Counts the number of times `x` appears in the list |"
   ]
  },
  {
   "cell_type": "code",
   "execution_count": 15,
   "metadata": {
    "collapsed": false
   },
   "outputs": [
    {
     "data": {
      "text/plain": [
       "1"
      ]
     },
     "execution_count": 15,
     "metadata": {},
     "output_type": "execute_result"
    }
   ],
   "source": [
    "juicy_fruit.count('fig')"
   ]
  },
  {
   "cell_type": "markdown",
   "metadata": {},
   "source": [
    "The `.sort()` method sorts your list. By default, it sorts the list in ascending order, however, to sort in descending order pass it the optional `reverse=True` argument.\n",
    "\n",
    "| Syntax               | Description                               |\n",
    "|:----------------------:|-------------------------------------------|\n",
    "|`list_variable.sort(reverse=False)`    | Sorts the list |"
   ]
  },
  {
   "cell_type": "code",
   "execution_count": 16,
   "metadata": {
    "collapsed": false
   },
   "outputs": [
    {
     "data": {
      "text/plain": [
       "['grapefruit',\n",
       " 'fig',\n",
       " 'elderberry',\n",
       " 'dragon fruit',\n",
       " 'clementines',\n",
       " 'bananas',\n",
       " 'apricot']"
      ]
     },
     "execution_count": 16,
     "metadata": {},
     "output_type": "execute_result"
    }
   ],
   "source": [
    "juicy_fruit.sort(reverse=True)\n",
    "juicy_fruit"
   ]
  },
  {
   "cell_type": "markdown",
   "metadata": {},
   "source": [
    "<hr>\n",
    "#### 3.4.1.2. Data Structures: Mutable vs. Immutable\n",
    "\n",
    "Before we move on to our next two data structures, it is important to discuss <i>mutability</i>.\n",
    "\n",
    "Not all Python objects handle changes the same way.\n",
    "\n",
    "* An object that can be altered is considered to be <i>mutable</i>.\n",
    "\n",
    "* An object that cannot be altered is considered to be <i>immutable</i>.\n",
    "\n",
    "What does this mean? You can make changes to individual pieces of of mutable objects, such as lists. In contrast, individual pieces of immutable objects cannot be changed. The only way to change immutable objects is to overwrite the entire structure. Below is some example code showing how you would change the second item in a list (mutable) versus a tuple (immutable). You can overwrite the individual item in the list, but you need to overwrite the entire tuple to change a single item.\n",
    "\n",
    ">List Example:\n",
    "```python\n",
    "my_list = ['a', 'b', 'c']\n",
    ">\n",
    "my_list[1] = 'd'\n",
    "```\n",
    ">Tuple Example:\n",
    "```python\n",
    "my_tuple = ('a', 'b', 'c')\n",
    ">\n",
    "my_tuple = ('a', 'd', 'c')\n",
    "```\n",
    "\n",
    "We will discuss the implications of mutability more in the following sections.\n",
    "<br><br>\n",
    "\n",
    "<center><b>Mutability of Common Types</b></center>\n",
    "\n",
    "| Immutable   | Mutable      |\n",
    "| :-----------:| :------------:|\n",
    "| int         | list         |\n",
    "| float       | dictionary   |\n",
    "| bool        | set          |\n",
    "| string      |              |\n",
    "| tuple       |              |"
   ]
  },
  {
   "cell_type": "markdown",
   "metadata": {},
   "source": [
    "<hr>\n",
    "#### 3.4.1.3. Sequences: Tuples\n",
    "<hr>\n",
    "#### References:\n",
    "* [Python: Tuples and Sequences](https://docs.python.org/3.4/tutorial/datastructures.html#tuples-and-sequences)\n",
    "* [TutorialsPoint: Python - Tuples](https://www.tutorialspoint.com/python/python_tuples.htm)\n",
    "<hr>\n",
    "\n",
    "Tuples are immutable Python sequences. Like all sequences, items in a tuple are in a set order and are accessible by a numeric index. Like all immutable objects, tuples will not allow you to add, subtract, or edit individual items. To change a value in a tuple, we need to overwrite the entire structure with a new one.\n",
    "\n",
    "Tuples are always wrapped in parentheses: `()`."
   ]
  },
  {
   "cell_type": "markdown",
   "metadata": {},
   "source": [
    "#### 3.4.1.3.1. Creating Tuples\n",
    "\n",
    "To initialize or create an empty tuple, we can use the built-in `tuple()` function."
   ]
  },
  {
   "cell_type": "code",
   "execution_count": 17,
   "metadata": {
    "collapsed": false
   },
   "outputs": [
    {
     "data": {
      "text/plain": [
       "()"
      ]
     },
     "execution_count": 17,
     "metadata": {},
     "output_type": "execute_result"
    }
   ],
   "source": [
    "empty_tuple_1 = tuple()\n",
    "empty_tuple_1"
   ]
  },
  {
   "cell_type": "markdown",
   "metadata": {},
   "source": [
    "Or, we can simply use an open parenthesis immediately followed by a close parenthesis."
   ]
  },
  {
   "cell_type": "code",
   "execution_count": 18,
   "metadata": {
    "collapsed": false
   },
   "outputs": [
    {
     "data": {
      "text/plain": [
       "()"
      ]
     },
     "execution_count": 18,
     "metadata": {},
     "output_type": "execute_result"
    }
   ],
   "source": [
    "empty_tuple_2 = ()\n",
    "empty_tuple_2"
   ]
  },
  {
   "cell_type": "markdown",
   "metadata": {},
   "source": [
    "You also have the ability to initialize and populate a tuple at the same time. Here, we create a tuple containing days of the week."
   ]
  },
  {
   "cell_type": "code",
   "execution_count": 19,
   "metadata": {
    "collapsed": false
   },
   "outputs": [
    {
     "data": {
      "text/plain": [
       "('Monday', 'Tuesday', 'Wednesday', 'Thursday', 'Friday')"
      ]
     },
     "execution_count": 19,
     "metadata": {},
     "output_type": "execute_result"
    }
   ],
   "source": [
    "multi_element_tuple = ('Monday', 'Tuesday', 'Wednesday', 'Thursday', 'Friday') \n",
    "multi_element_tuple"
   ]
  },
  {
   "cell_type": "markdown",
   "metadata": {},
   "source": [
    "Notice what happens if we try to modify one of the elements of a tuple."
   ]
  },
  {
   "cell_type": "code",
   "execution_count": 20,
   "metadata": {
    "collapsed": false
   },
   "outputs": [
    {
     "ename": "TypeError",
     "evalue": "'tuple' object does not support item assignment",
     "output_type": "error",
     "traceback": [
      "\u001b[0;31m---------------------------------------------------------------------------\u001b[0m",
      "\u001b[0;31mTypeError\u001b[0m                                 Traceback (most recent call last)",
      "\u001b[0;32m<ipython-input-20-aae319db90a3>\u001b[0m in \u001b[0;36m<module>\u001b[0;34m()\u001b[0m\n\u001b[0;32m----> 1\u001b[0;31m \u001b[0mmulti_element_tuple\u001b[0m\u001b[1;33m[\u001b[0m\u001b[1;36m0\u001b[0m\u001b[1;33m]\u001b[0m  \u001b[1;33m=\u001b[0m \u001b[1;34m'Lunes'\u001b[0m\u001b[1;33m\u001b[0m\u001b[0m\n\u001b[0m",
      "\u001b[0;31mTypeError\u001b[0m: 'tuple' object does not support item assignment"
     ]
    }
   ],
   "source": [
    "multi_element_tuple[0]  = 'Lunes'"
   ]
  },
  {
   "cell_type": "markdown",
   "metadata": {},
   "source": [
    "Creating tuples containing just a single element is tricky, because Python ignores parentheses when they wrap a single item. For example, `(1)` is interpreted as the integer `1`, and `([1, 2])` is interpreted as the list `[1, 2]`. Because of this behavior, we need to add a trailing comma after the element in order to tell Python to create a tuple containing that item.\n",
    "\n",
    "The following is not a tuple!"
   ]
  },
  {
   "cell_type": "code",
   "execution_count": 21,
   "metadata": {
    "collapsed": false
   },
   "outputs": [
    {
     "data": {
      "text/plain": [
       "1"
      ]
     },
     "execution_count": 21,
     "metadata": {},
     "output_type": "execute_result"
    }
   ],
   "source": [
    "(1)"
   ]
  },
  {
   "cell_type": "markdown",
   "metadata": {},
   "source": [
    "To create a single element tuple, insert a trailing comma like so."
   ]
  },
  {
   "cell_type": "code",
   "execution_count": 22,
   "metadata": {
    "collapsed": false
   },
   "outputs": [
    {
     "data": {
      "text/plain": [
       "(1,)"
      ]
     },
     "execution_count": 22,
     "metadata": {},
     "output_type": "execute_result"
    }
   ],
   "source": [
    "(1,)"
   ]
  },
  {
   "cell_type": "markdown",
   "metadata": {},
   "source": [
    "<hr>\n",
    "#### 3.4.1.4. Sequences: Strings\n",
    "<hr>\n",
    "#### References:\n",
    "* [Python: Strings](https://docs.python.org/3.4/tutorial/introduction.html#strings)\n",
    "* [Python: string - Common string operations](https://docs.python.org/3.4/library/string.html#module-string)\n",
    "* [Wikipedia: ASCII](https://simple.wikipedia.org/wiki/ASCII)\n",
    "* [Wikipedia: Unicode](https://en.wikipedia.org/wiki/Unicode)\n",
    "* [Wikipedia: Emoji](https://en.wikipedia.org/wiki/Emoji)\n",
    "<hr>\n",
    "\n",
    "Strings are immutable sequences of zero or more characters. In Python 3, strings can include extended character sets such as Unicode. Example Unicode characters are shown below:\n",
    "\n",
    "| Type of Characters    | Unicode Characters |\n",
    "|:----------------------:|:------------------------------------------------:|\n",
    "| Foreign Languages     | ` 片仮名, カタカナ    فارسی    राष्ट्र सेवकोत्तम `  |\n",
    "| Emoji                 | ` ✈️    ⛄️    🦄    🐐 `|\n",
    "| Symbols               | ` ∑     ∆    √     ⊠ `|\n",
    "\n",
    "Strings are always wrapped in quotation marks. We can use single quotes (`''`), double quotes (`\"\"`), or three sets of quotation marks often called triple quotes (`\"\"\" \"\"\"`)."
   ]
  },
  {
   "cell_type": "markdown",
   "metadata": {},
   "source": [
    "#### 3.4.1.4.1. Creating Strings\n",
    "To initialize or create an empty string, we can use the built-in `str()` function."
   ]
  },
  {
   "cell_type": "code",
   "execution_count": 23,
   "metadata": {
    "collapsed": false
   },
   "outputs": [
    {
     "data": {
      "text/plain": [
       "''"
      ]
     },
     "execution_count": 23,
     "metadata": {},
     "output_type": "execute_result"
    }
   ],
   "source": [
    "empty_string_1 = str()\n",
    "empty_string_1"
   ]
  },
  {
   "cell_type": "markdown",
   "metadata": {},
   "source": [
    "Or we can simply use a set of single, double, or triple quotation marks."
   ]
  },
  {
   "cell_type": "code",
   "execution_count": 24,
   "metadata": {
    "collapsed": false
   },
   "outputs": [
    {
     "data": {
      "text/plain": [
       "''"
      ]
     },
     "execution_count": 24,
     "metadata": {},
     "output_type": "execute_result"
    }
   ],
   "source": [
    "empty_string_2 = ''\n",
    "empty_string_2"
   ]
  },
  {
   "cell_type": "markdown",
   "metadata": {},
   "source": [
    "You also have the ability to initialize and populate a string at the same time."
   ]
  },
  {
   "cell_type": "code",
   "execution_count": 25,
   "metadata": {
    "collapsed": false
   },
   "outputs": [
    {
     "data": {
      "text/plain": [
       "'George'"
      ]
     },
     "execution_count": 25,
     "metadata": {},
     "output_type": "execute_result"
    }
   ],
   "source": [
    "first_name = 'George'\n",
    "first_name"
   ]
  },
  {
   "cell_type": "code",
   "execution_count": 26,
   "metadata": {
    "collapsed": false
   },
   "outputs": [
    {
     "data": {
      "text/plain": [
       "'Washington'"
      ]
     },
     "execution_count": 26,
     "metadata": {},
     "output_type": "execute_result"
    }
   ],
   "source": [
    "last_name = \"Washington\"\n",
    "last_name"
   ]
  },
  {
   "cell_type": "markdown",
   "metadata": {},
   "source": [
    "We can use three sets of quotation marks to define a string that spans multiple lines. Note that the whitespace (new lines, spaces, and tabs) is included as part of the string."
   ]
  },
  {
   "cell_type": "code",
   "execution_count": 27,
   "metadata": {
    "collapsed": false
   },
   "outputs": [
    {
     "data": {
      "text/plain": [
       "'Oh, tú, tú eres el imán y yo soy el metal\\n              Me voy acercando y voy armando el plan\\n              Sólo con pensarlo se acelera el pulso\\n              Oh, yeah Ya, ya me está gustando más de lo normal\\n              Todos mis sentidos van pidiendo más\\n              Esto hay que tomarlo sin ningún apuro'"
      ]
     },
     "execution_count": 27,
     "metadata": {},
     "output_type": "execute_result"
    }
   ],
   "source": [
    "despacito = \"\"\"Oh, tú, tú eres el imán y yo soy el metal\n",
    "              Me voy acercando y voy armando el plan\n",
    "              Sólo con pensarlo se acelera el pulso\n",
    "              Oh, yeah Ya, ya me está gustando más de lo normal\n",
    "              Todos mis sentidos van pidiendo más\n",
    "              Esto hay que tomarlo sin ningún apuro\"\"\"\n",
    "\n",
    "despacito"
   ]
  },
  {
   "cell_type": "markdown",
   "metadata": {},
   "source": [
    ">NOTE: In Jupyter Notebooks, there are two ways to display output:\n",
    ">\n",
    ">1. The `print()` function\n",
    ">2. If the last line in a code cell produces an output, that is, if it returns something, that output will display under the cell after it runs.\n",
    ">\n",
    ">Each approach produces slightly different outputs, especially when the output is a string. Run the cell below and compare the output it produces with the output from the previous code cell."
   ]
  },
  {
   "cell_type": "code",
   "execution_count": 28,
   "metadata": {
    "collapsed": false
   },
   "outputs": [
    {
     "name": "stdout",
     "output_type": "stream",
     "text": [
      "Oh, tú, tú eres el imán y yo soy el metal\n",
      "              Me voy acercando y voy armando el plan\n",
      "              Sólo con pensarlo se acelera el pulso\n",
      "              Oh, yeah Ya, ya me está gustando más de lo normal\n",
      "              Todos mis sentidos van pidiendo más\n",
      "              Esto hay que tomarlo sin ningún apuro\n"
     ]
    }
   ],
   "source": [
    "print(despacito)"
   ]
  },
  {
   "cell_type": "markdown",
   "metadata": {},
   "source": [
    "As you can see, printing strings gets rid of the quotation mark wrapper characters and interprets the whitespace characters (`\\n` for example) as actual whitespace on the page. "
   ]
  },
  {
   "cell_type": "markdown",
   "metadata": {},
   "source": [
    "Putting a `u` before the open quotation mark of a string tells Python to interpret the string as Unicode."
   ]
  },
  {
   "cell_type": "code",
   "execution_count": 29,
   "metadata": {
    "collapsed": false
   },
   "outputs": [
    {
     "data": {
      "text/plain": [
       "'✈'"
      ]
     },
     "execution_count": 29,
     "metadata": {},
     "output_type": "execute_result"
    }
   ],
   "source": [
    "unicode_str = u'\\u2708'\n",
    "unicode_str"
   ]
  },
  {
   "cell_type": "markdown",
   "metadata": {},
   "source": [
    "#### 3.4.1.4.2. String Methods and Operations</b>\n",
    "<hr>\n",
    "#### References:\n",
    "* [Python: string - Common string operations](https://docs.python.org/3.4/library/string.html)\n",
    "<hr>\n",
    "\n",
    "There are a number of string methods that can be applied to manipulate strings. Remember that strings are immutable, so these methods all return modified copies of the original string, leaving the original string unaltered."
   ]
  },
  {
   "cell_type": "markdown",
   "metadata": {},
   "source": [
    "The `.upper()` method produces a new string where all alphabetic characters are upper case.\n",
    "\n",
    "| Syntax               | Description                               |\n",
    "|:----------------------:|-------------------------------------------|\n",
    "|`string_variable.upper()`        | Returns an upper case string |"
   ]
  },
  {
   "cell_type": "code",
   "execution_count": 30,
   "metadata": {
    "collapsed": false
   },
   "outputs": [
    {
     "data": {
      "text/plain": [
       "'HELLO'"
      ]
     },
     "execution_count": 30,
     "metadata": {},
     "output_type": "execute_result"
    }
   ],
   "source": [
    "'hello'.upper()"
   ]
  },
  {
   "cell_type": "markdown",
   "metadata": {},
   "source": [
    "The `.lower()` method produces a new string where all alphabetic characters are lower case.\n",
    "\n",
    "| Syntax               | Description                               |\n",
    "|:----------------------:|-------------------------------------------|\n",
    "|`string_variable.lower()`                              | Returns a lower case string |"
   ]
  },
  {
   "cell_type": "code",
   "execution_count": 31,
   "metadata": {
    "collapsed": false
   },
   "outputs": [
    {
     "data": {
      "text/plain": [
       "'goodbye'"
      ]
     },
     "execution_count": 31,
     "metadata": {},
     "output_type": "execute_result"
    }
   ],
   "source": [
    "'GOODBYE'.lower()"
   ]
  },
  {
   "cell_type": "markdown",
   "metadata": {},
   "source": [
    "The `.title()` method produces a new string where the first letter of each word is capitalized and the remaining letters are lower case.\n",
    "\n",
    "| Syntax               | Description                               |\n",
    "|:----------------------:|-------------------------------------------|\n",
    "|`string_variable.title()`         | Returns a title case string |"
   ]
  },
  {
   "cell_type": "code",
   "execution_count": 32,
   "metadata": {
    "collapsed": false
   },
   "outputs": [
    {
     "data": {
      "text/plain": [
       "'Python'"
      ]
     },
     "execution_count": 32,
     "metadata": {},
     "output_type": "execute_result"
    }
   ],
   "source": [
    "'pYtHoN'.title()"
   ]
  },
  {
   "cell_type": "markdown",
   "metadata": {},
   "source": [
    "The `.strip()` method removes leading and trailing characters from a string. The default character `.strip()` removes is the space (`' '`), but it will remove any character we pass into the function's argument.\n",
    "\n",
    "| Syntax               | Description                               |\n",
    "|:----------------------:|-------------------------------------------|\n",
    "|`string_variable.strip(chars)` | Removes any character found in `chars` from the beginning and end of a string |"
   ]
  },
  {
   "cell_type": "code",
   "execution_count": 33,
   "metadata": {
    "collapsed": false
   },
   "outputs": [
    {
     "data": {
      "text/plain": [
       "'234032'"
      ]
     },
     "execution_count": 33,
     "metadata": {},
     "output_type": "execute_result"
    }
   ],
   "source": [
    "'       1234032E    '.strip('1E ')"
   ]
  },
  {
   "cell_type": "markdown",
   "metadata": {},
   "source": [
    "The `.replace()` method returns a copy of the original string where every instance of a specified substring (the first argument) is replaced with a replacement string (the second argument).\n",
    "\n",
    "| Syntax               | Description                               |\n",
    "|:----------------------:|-------------------------------------------|\n",
    "|`string_variable.replace(find, replacement)` | Replaces all occurrences of `find` with `replacement` |"
   ]
  },
  {
   "cell_type": "code",
   "execution_count": 34,
   "metadata": {
    "collapsed": false
   },
   "outputs": [
    {
     "data": {
      "text/plain": [
       "'01-01-2000'"
      ]
     },
     "execution_count": 34,
     "metadata": {},
     "output_type": "execute_result"
    }
   ],
   "source": [
    "'01/01/2000'.replace('/', '-')"
   ]
  },
  {
   "cell_type": "markdown",
   "metadata": {},
   "source": [
    "The `.zfill()` method lengthens a string by adding zeros to the left hand side. The argument it takes is an integer denoting how long you want the returned string to be, not how many zeros you want to add.\n",
    "\n",
    "| Syntax               | Description                               |\n",
    "|:----------------------:|-------------------------------------------|\n",
    "|`string_variable.zfill(integer)`  | Returns a zero-padded string of length `integer` |"
   ]
  },
  {
   "cell_type": "code",
   "execution_count": 35,
   "metadata": {
    "collapsed": false
   },
   "outputs": [
    {
     "data": {
      "text/plain": [
       "'0045'"
      ]
     },
     "execution_count": 35,
     "metadata": {},
     "output_type": "execute_result"
    }
   ],
   "source": [
    "'45'.zfill(4)"
   ]
  },
  {
   "cell_type": "markdown",
   "metadata": {},
   "source": [
    "| Syntax               | Description                               |\n",
    "|:----------------------:|-------------------------------------------|\n",
    "|`string_variable.find(sub_string)`    | Searches a string for `sub_string` and returns the index location of first <br>character of the first instance of `sub_string` or `-1` if substring is not found |"
   ]
  },
  {
   "cell_type": "code",
   "execution_count": 36,
   "metadata": {
    "collapsed": false
   },
   "outputs": [
    {
     "data": {
      "text/plain": [
       "17"
      ]
     },
     "execution_count": 36,
     "metadata": {},
     "output_type": "execute_result"
    }
   ],
   "source": [
    "states = 'Alabama, Alaska, Arizona, Arkansas...'\n",
    "states.find('Arizona')"
   ]
  },
  {
   "cell_type": "code",
   "execution_count": 37,
   "metadata": {
    "collapsed": false
   },
   "outputs": [
    {
     "data": {
      "text/plain": [
       "-1"
      ]
     },
     "execution_count": 37,
     "metadata": {},
     "output_type": "execute_result"
    }
   ],
   "source": [
    "states.find('Colorado')"
   ]
  },
  {
   "cell_type": "markdown",
   "metadata": {},
   "source": [
    "The `.split()` method creates a list of strings from a single string by splitting the original string by a specified delimiter. The delimiter can be a single character or multiple characters, and the default if no argument is passed is to split on whitespace characters.\n",
    "\n",
    "| Syntax               | Description                               |\n",
    "|:----------------------:|-------------------------------------------|\n",
    "|`string_variable.split(sub_string)`   | Splits a string into a list of strings using `sub_string` as a delimiter|"
   ]
  },
  {
   "cell_type": "code",
   "execution_count": 38,
   "metadata": {
    "collapsed": false
   },
   "outputs": [
    {
     "data": {
      "text/plain": [
       "['A', 'bunch', 'of', 'words', 'separated', 'by', 'spaces']"
      ]
     },
     "execution_count": 38,
     "metadata": {},
     "output_type": "execute_result"
    }
   ],
   "source": [
    "sentence = 'A bunch of words separated by spaces'\n",
    "sentence.split()"
   ]
  },
  {
   "cell_type": "markdown",
   "metadata": {},
   "source": [
    "The `.join()` method does the inverse of `.split()`. It creates a single string from a list of strings by joining them around another string. The syntax for this method can be a little confusing, so try to remember that the list of strings is the argument inside the parentheses and the join string is that you call the method on. \n",
    "\n",
    "| Syntax               | Description                               |\n",
    "|:----------------------:|-------------------------------------------|\n",
    "|`string_variable.join(list_of_strings)`   | Creates one string from a list of strings by joining them with `string_variable`|"
   ]
  },
  {
   "cell_type": "code",
   "execution_count": 39,
   "metadata": {
    "collapsed": false
   },
   "outputs": [
    {
     "data": {
      "text/plain": [
       "'A---bunch---of---words---separated---by---spaces'"
      ]
     },
     "execution_count": 39,
     "metadata": {},
     "output_type": "execute_result"
    }
   ],
   "source": [
    "'---'.join(sentence.split())"
   ]
  },
  {
   "cell_type": "markdown",
   "metadata": {},
   "source": [
    "The relationship between the `.split()` and `.join()` functions can be described by this graphic:\n",
    "\n",
    "<img src=\"./GRAPHICS/StringSplitJoin.png\" width=\"33%\">"
   ]
  },
  {
   "cell_type": "markdown",
   "metadata": {},
   "source": [
    "We can concatenate or merge two strings by adding them together using the plus sign (`+`)."
   ]
  },
  {
   "cell_type": "code",
   "execution_count": 40,
   "metadata": {
    "collapsed": false
   },
   "outputs": [
    {
     "data": {
      "text/plain": [
       "'GeorgeWashington'"
      ]
     },
     "execution_count": 40,
     "metadata": {},
     "output_type": "execute_result"
    }
   ],
   "source": [
    "first_name + last_name"
   ]
  },
  {
   "cell_type": "markdown",
   "metadata": {},
   "source": [
    "We can repeat strings by multiplying them by an integer. Just like in math, multiplication is just repeated addition."
   ]
  },
  {
   "cell_type": "code",
   "execution_count": 41,
   "metadata": {
    "collapsed": false
   },
   "outputs": [
    {
     "data": {
      "text/plain": [
       "'GeorgeGeorgeGeorge'"
      ]
     },
     "execution_count": 41,
     "metadata": {},
     "output_type": "execute_result"
    }
   ],
   "source": [
    "first_name * 3"
   ]
  },
  {
   "cell_type": "markdown",
   "metadata": {},
   "source": [
    "Finally, we can cast objects to strings with the `str()` function."
   ]
  },
  {
   "cell_type": "code",
   "execution_count": 42,
   "metadata": {
    "collapsed": false
   },
   "outputs": [
    {
     "data": {
      "text/plain": [
       "'3.1415'"
      ]
     },
     "execution_count": 42,
     "metadata": {},
     "output_type": "execute_result"
    }
   ],
   "source": [
    "str(3.1415)"
   ]
  },
  {
   "cell_type": "markdown",
   "metadata": {},
   "source": [
    "#### 3.4.1.4.3. String Mutability\n",
    "\n",
    "Since strings are immutable, individual pieces of them cannot be changed. In order to permanently change the contents of a string variable, you must overwrite it.\n",
    "\n",
    "For example, calling `.title()` on `my_string` below does not change the value of `my_string`. The method returns a modified copy of the original string. This is different from the list methods we learned, which all operate _in-place_, meaning that they change the actual value stored in the variable rather than return a copy."
   ]
  },
  {
   "cell_type": "code",
   "execution_count": 43,
   "metadata": {
    "collapsed": false
   },
   "outputs": [
    {
     "data": {
      "text/plain": [
       "'This Is My Test String!'"
      ]
     },
     "execution_count": 43,
     "metadata": {},
     "output_type": "execute_result"
    }
   ],
   "source": [
    "my_string = 'tHiS iS mY tEsT sTrInG!'\n",
    "my_string.title()"
   ]
  },
  {
   "cell_type": "markdown",
   "metadata": {},
   "source": [
    "Output the variable again to see that it is unchanged. "
   ]
  },
  {
   "cell_type": "code",
   "execution_count": 44,
   "metadata": {
    "collapsed": false
   },
   "outputs": [
    {
     "data": {
      "text/plain": [
       "'tHiS iS mY tEsT sTrInG!'"
      ]
     },
     "execution_count": 44,
     "metadata": {},
     "output_type": "execute_result"
    }
   ],
   "source": [
    "my_string"
   ]
  },
  {
   "cell_type": "markdown",
   "metadata": {},
   "source": [
    "This is similar to adding two numbers, but never storing their sum. To hold on to the result of an operation, we need to store it in a variable."
   ]
  },
  {
   "cell_type": "code",
   "execution_count": 45,
   "metadata": {
    "collapsed": false
   },
   "outputs": [
    {
     "data": {
      "text/plain": [
       "8"
      ]
     },
     "execution_count": 45,
     "metadata": {},
     "output_type": "execute_result"
    }
   ],
   "source": [
    "my_int = 5\n",
    "my_int + 3"
   ]
  },
  {
   "cell_type": "code",
   "execution_count": 46,
   "metadata": {
    "collapsed": false,
    "scrolled": true
   },
   "outputs": [
    {
     "data": {
      "text/plain": [
       "5"
      ]
     },
     "execution_count": 46,
     "metadata": {},
     "output_type": "execute_result"
    }
   ],
   "source": [
    "my_int"
   ]
  },
  {
   "cell_type": "markdown",
   "metadata": {},
   "source": [
    "In order to make string manipulations persist in memory permanent, we must assign the modified copies they return to variables. Often, we'll simply assign the new string to the same variable that held the original string. This overwrites the variable, permanently getting rid of the old string and replacing it with the new one."
   ]
  },
  {
   "cell_type": "code",
   "execution_count": 47,
   "metadata": {
    "collapsed": true
   },
   "outputs": [],
   "source": [
    "my_string = my_string.title()"
   ]
  },
  {
   "cell_type": "code",
   "execution_count": 48,
   "metadata": {
    "collapsed": false
   },
   "outputs": [
    {
     "data": {
      "text/plain": [
       "'This Is My Test String!'"
      ]
     },
     "execution_count": 48,
     "metadata": {},
     "output_type": "execute_result"
    }
   ],
   "source": [
    "my_string"
   ]
  },
  {
   "cell_type": "markdown",
   "metadata": {},
   "source": [
    "<hr>\n",
    "<a id='Common'></a>\n",
    "### 3.4.2. Common Operations Across Sequences\n",
    "\n",
    "There are certain operations you can do on any sequence. These operations include indexing, slicing, adding, multiplying, and checking for membership. In addition, Python has built-in functions for finding the length of a sequence and for finding its largest and smallest elements. To demonstrate these capabilities, let's set up a few sample sequences."
   ]
  },
  {
   "cell_type": "code",
   "execution_count": 49,
   "metadata": {
    "collapsed": true
   },
   "outputs": [],
   "source": [
    "sample_string = 'four score and seven years ago'\n",
    "\n",
    "sample_list = [4, 20, 7]\n",
    "\n",
    "sample_tuple = ('Abe', 1863)"
   ]
  },
  {
   "cell_type": "markdown",
   "metadata": {},
   "source": [
    "The `max()` function will take any collection and return the maximum value. If your collection has mixed types (e.g. integers and strings), this function will throw an error.\n",
    "\n",
    "| Syntax               | Description                               |\n",
    "|:----------------------:|-------------------------------------------|\n",
    "|`max(my_sequence)`    | Returns the maximum value contained in the sequence |"
   ]
  },
  {
   "cell_type": "markdown",
   "metadata": {},
   "source": [
    "Calling `max()` on a string (remember, a sequence of characters) returns the maximum ASCII value."
   ]
  },
  {
   "cell_type": "code",
   "execution_count": 50,
   "metadata": {
    "collapsed": false
   },
   "outputs": [
    {
     "data": {
      "text/plain": [
       "'y'"
      ]
     },
     "execution_count": 50,
     "metadata": {},
     "output_type": "execute_result"
    }
   ],
   "source": [
    "max(sample_string)"
   ]
  },
  {
   "cell_type": "markdown",
   "metadata": {},
   "source": [
    "Since `sample_list` contains only numbers, `max()` will return the largest number."
   ]
  },
  {
   "cell_type": "code",
   "execution_count": 51,
   "metadata": {
    "collapsed": false
   },
   "outputs": [
    {
     "data": {
      "text/plain": [
       "20"
      ]
     },
     "execution_count": 51,
     "metadata": {},
     "output_type": "execute_result"
    }
   ],
   "source": [
    "max(sample_list)"
   ]
  },
  {
   "cell_type": "markdown",
   "metadata": {},
   "source": [
    "Our `sample_tuple` has mixed types, so `max()` will throw an error."
   ]
  },
  {
   "cell_type": "code",
   "execution_count": 52,
   "metadata": {
    "collapsed": false
   },
   "outputs": [
    {
     "ename": "TypeError",
     "evalue": "unorderable types: int() > str()",
     "output_type": "error",
     "traceback": [
      "\u001b[0;31m---------------------------------------------------------------------------\u001b[0m",
      "\u001b[0;31mTypeError\u001b[0m                                 Traceback (most recent call last)",
      "\u001b[0;32m<ipython-input-52-ede8e1ed7681>\u001b[0m in \u001b[0;36m<module>\u001b[0;34m()\u001b[0m\n\u001b[0;32m----> 1\u001b[0;31m \u001b[0mmax\u001b[0m\u001b[1;33m(\u001b[0m\u001b[0msample_tuple\u001b[0m\u001b[1;33m)\u001b[0m\u001b[1;33m\u001b[0m\u001b[0m\n\u001b[0m",
      "\u001b[0;31mTypeError\u001b[0m: unorderable types: int() > str()"
     ]
    }
   ],
   "source": [
    "max(sample_tuple)"
   ]
  },
  {
   "cell_type": "markdown",
   "metadata": {},
   "source": [
    "The `min()` function will take any collection and return the minimum value. If your collection has mixed types (e.g. integers and strings), this function will throw an error.\n",
    "\n",
    "| Syntax               | Description                               |\n",
    "|:----------------------:|-------------------------------------------|\n",
    "|`min(my_sequence)`    | Returns the minimum value contained in the sequence |"
   ]
  },
  {
   "cell_type": "markdown",
   "metadata": {},
   "source": [
    "Calling `min()` on a string (remember, a sequence of characters) returns the minimum ASCII value."
   ]
  },
  {
   "cell_type": "code",
   "execution_count": 53,
   "metadata": {
    "collapsed": false
   },
   "outputs": [
    {
     "data": {
      "text/plain": [
       "' '"
      ]
     },
     "execution_count": 53,
     "metadata": {},
     "output_type": "execute_result"
    }
   ],
   "source": [
    "min(sample_string)"
   ]
  },
  {
   "cell_type": "markdown",
   "metadata": {},
   "source": [
    "Since `sample_list` contains only numbers, `min()` will return the smallest number."
   ]
  },
  {
   "cell_type": "code",
   "execution_count": 54,
   "metadata": {
    "collapsed": false
   },
   "outputs": [
    {
     "data": {
      "text/plain": [
       "4"
      ]
     },
     "execution_count": 54,
     "metadata": {},
     "output_type": "execute_result"
    }
   ],
   "source": [
    "min(sample_list)"
   ]
  },
  {
   "cell_type": "markdown",
   "metadata": {},
   "source": [
    "Our `sample_tuple` has mixed types, so `min()` will throw an error."
   ]
  },
  {
   "cell_type": "code",
   "execution_count": 55,
   "metadata": {
    "collapsed": false
   },
   "outputs": [
    {
     "ename": "TypeError",
     "evalue": "unorderable types: int() < str()",
     "output_type": "error",
     "traceback": [
      "\u001b[0;31m---------------------------------------------------------------------------\u001b[0m",
      "\u001b[0;31mTypeError\u001b[0m                                 Traceback (most recent call last)",
      "\u001b[0;32m<ipython-input-55-e086112cb142>\u001b[0m in \u001b[0;36m<module>\u001b[0;34m()\u001b[0m\n\u001b[0;32m----> 1\u001b[0;31m \u001b[0mmin\u001b[0m\u001b[1;33m(\u001b[0m\u001b[0msample_tuple\u001b[0m\u001b[1;33m)\u001b[0m\u001b[1;33m\u001b[0m\u001b[0m\n\u001b[0m",
      "\u001b[0;31mTypeError\u001b[0m: unorderable types: int() < str()"
     ]
    }
   ],
   "source": [
    "min(sample_tuple)"
   ]
  },
  {
   "cell_type": "markdown",
   "metadata": {},
   "source": [
    "The `len()` function finds the length of a sequence, or the number of items in a collection.\n",
    "\n",
    "| Syntax               | Description                               |\n",
    "|:----------------------:|-------------------------------------------|\n",
    "|`len(my_sequence)`    | Returns the length of the sequence as an integer |"
   ]
  },
  {
   "cell_type": "markdown",
   "metadata": {},
   "source": [
    "Since the elements of a string are individual characters, `len()` counts the number of characters when passed a string."
   ]
  },
  {
   "cell_type": "code",
   "execution_count": 56,
   "metadata": {
    "collapsed": false
   },
   "outputs": [
    {
     "data": {
      "text/plain": [
       "30"
      ]
     },
     "execution_count": 56,
     "metadata": {},
     "output_type": "execute_result"
    }
   ],
   "source": [
    "len(sample_string)"
   ]
  },
  {
   "cell_type": "markdown",
   "metadata": {},
   "source": [
    "When passed a collection or sequence, `len()` counts the number of elements. Nested collections like sub-lists are counted as a single item."
   ]
  },
  {
   "cell_type": "code",
   "execution_count": 57,
   "metadata": {
    "collapsed": false
   },
   "outputs": [
    {
     "data": {
      "text/plain": [
       "3"
      ]
     },
     "execution_count": 57,
     "metadata": {},
     "output_type": "execute_result"
    }
   ],
   "source": [
    "len(sample_list)"
   ]
  },
  {
   "cell_type": "code",
   "execution_count": 58,
   "metadata": {
    "collapsed": false
   },
   "outputs": [
    {
     "data": {
      "text/plain": [
       "2"
      ]
     },
     "execution_count": 58,
     "metadata": {},
     "output_type": "execute_result"
    }
   ],
   "source": [
    "len(sample_tuple)"
   ]
  },
  {
   "cell_type": "markdown",
   "metadata": {},
   "source": [
    "The `sorted()` function is like the `.sort()` list method, except it doesn't operate in-place. That is, it doesn't change the value of the original variable, but instead returns a sorted copy of the sequence.\n",
    "\n",
    "| Syntax               | Description                               |\n",
    "|:----------------------:|-------------------------------------------|\n",
    "|`sorted(my_sequence)`    | Returns a sorted copy of the sequence |"
   ]
  },
  {
   "cell_type": "markdown",
   "metadata": {},
   "source": [
    "When called on a string, `sorted()` breaks the string into a list of individual characters and then sorts it, and we get a list as the result."
   ]
  },
  {
   "cell_type": "code",
   "execution_count": 59,
   "metadata": {
    "collapsed": false
   },
   "outputs": [
    {
     "data": {
      "text/plain": [
       "[' ',\n",
       " ' ',\n",
       " ' ',\n",
       " ' ',\n",
       " ' ',\n",
       " 'a',\n",
       " 'a',\n",
       " 'a',\n",
       " 'c',\n",
       " 'd',\n",
       " 'e',\n",
       " 'e',\n",
       " 'e',\n",
       " 'e',\n",
       " 'f',\n",
       " 'g',\n",
       " 'n',\n",
       " 'n',\n",
       " 'o',\n",
       " 'o',\n",
       " 'o',\n",
       " 'r',\n",
       " 'r',\n",
       " 'r',\n",
       " 's',\n",
       " 's',\n",
       " 's',\n",
       " 'u',\n",
       " 'v',\n",
       " 'y']"
      ]
     },
     "execution_count": 59,
     "metadata": {},
     "output_type": "execute_result"
    }
   ],
   "source": [
    "sorted(sample_string)"
   ]
  },
  {
   "cell_type": "code",
   "execution_count": 60,
   "metadata": {
    "collapsed": false
   },
   "outputs": [
    {
     "data": {
      "text/plain": [
       "[4, 7, 20]"
      ]
     },
     "execution_count": 60,
     "metadata": {},
     "output_type": "execute_result"
    }
   ],
   "source": [
    "sorted(sample_list)"
   ]
  },
  {
   "cell_type": "markdown",
   "metadata": {},
   "source": [
    "When called on a tuple, `sorted()` casts the tuple to a list before sorting and returns a sorted list (the same behavior as with a string). However, since our `sample_tuple` has mixed types, we get an error here when trying to sort it."
   ]
  },
  {
   "cell_type": "code",
   "execution_count": 61,
   "metadata": {
    "collapsed": false
   },
   "outputs": [
    {
     "ename": "TypeError",
     "evalue": "unorderable types: int() < str()",
     "output_type": "error",
     "traceback": [
      "\u001b[0;31m---------------------------------------------------------------------------\u001b[0m",
      "\u001b[0;31mTypeError\u001b[0m                                 Traceback (most recent call last)",
      "\u001b[0;32m<ipython-input-61-6b96dc867a5e>\u001b[0m in \u001b[0;36m<module>\u001b[0;34m()\u001b[0m\n\u001b[0;32m----> 1\u001b[0;31m \u001b[0msorted\u001b[0m\u001b[1;33m(\u001b[0m\u001b[0msample_tuple\u001b[0m\u001b[1;33m)\u001b[0m\u001b[1;33m\u001b[0m\u001b[0m\n\u001b[0m",
      "\u001b[0;31mTypeError\u001b[0m: unorderable types: int() < str()"
     ]
    }
   ],
   "source": [
    "sorted(sample_tuple)"
   ]
  },
  {
   "cell_type": "markdown",
   "metadata": {},
   "source": [
    "<hr>\n",
    "<a id='Indexing'></a>\n",
    "### 3.4.3. Indexing and Slicing a Sequence\n",
    "<hr>\n",
    "<img src=\"./GRAPHICS/ArrayIndex.png\" width=\"50%\">\n",
    "<hr>\n",
    "#### 3.4.3.1. Indexing\n",
    "\n",
    "You can also access elements of a sequence directly using their location or index using _bracket notation_. Remember in Python we start counting from zero.\n",
    "\n",
    "| Syntax               | Description                               |\n",
    "|:----------------------:|-------------------------------------------|\n",
    "|`sequence[i]`   | Returns the element at index `i` |"
   ]
  },
  {
   "cell_type": "markdown",
   "metadata": {},
   "source": [
    "When we use bracket notation on strings, we get back the character in the given position.  "
   ]
  },
  {
   "cell_type": "code",
   "execution_count": 62,
   "metadata": {
    "collapsed": false
   },
   "outputs": [
    {
     "data": {
      "text/plain": [
       "'four score and seven years ago'"
      ]
     },
     "execution_count": 62,
     "metadata": {},
     "output_type": "execute_result"
    }
   ],
   "source": [
    "sample_string"
   ]
  },
  {
   "cell_type": "code",
   "execution_count": 63,
   "metadata": {
    "collapsed": false
   },
   "outputs": [
    {
     "data": {
      "text/plain": [
       "'f'"
      ]
     },
     "execution_count": 63,
     "metadata": {},
     "output_type": "execute_result"
    }
   ],
   "source": [
    "sample_string[0] "
   ]
  },
  {
   "cell_type": "markdown",
   "metadata": {
    "collapsed": true
   },
   "source": [
    "We use the exact same notation to access the elements of a list."
   ]
  },
  {
   "cell_type": "code",
   "execution_count": 64,
   "metadata": {
    "collapsed": false
   },
   "outputs": [
    {
     "data": {
      "text/plain": [
       "[4, 20, 7]"
      ]
     },
     "execution_count": 64,
     "metadata": {},
     "output_type": "execute_result"
    }
   ],
   "source": [
    "sample_list"
   ]
  },
  {
   "cell_type": "code",
   "execution_count": 65,
   "metadata": {
    "collapsed": false
   },
   "outputs": [
    {
     "data": {
      "text/plain": [
       "20"
      ]
     },
     "execution_count": 65,
     "metadata": {},
     "output_type": "execute_result"
    }
   ],
   "source": [
    "sample_list[1]"
   ]
  },
  {
   "cell_type": "markdown",
   "metadata": {},
   "source": [
    "And the same notation works on tuples. Any sequence, or any ordered object, has an index and can therefore be accessed in this way."
   ]
  },
  {
   "cell_type": "code",
   "execution_count": 66,
   "metadata": {
    "collapsed": false
   },
   "outputs": [
    {
     "data": {
      "text/plain": [
       "'Abe'"
      ]
     },
     "execution_count": 66,
     "metadata": {},
     "output_type": "execute_result"
    }
   ],
   "source": [
    "sample_tuple[0]"
   ]
  },
  {
   "cell_type": "markdown",
   "metadata": {},
   "source": [
    "We can access elements of a sequence by specifying their position using positive or negative indexes. Recall that negative indexes count backwards from the end of the sequence, and thus are often more useful when the item we want to access comes near the end of our sequence. Below, we access the same character in `sample_string` with both its positive and negative index."
   ]
  },
  {
   "cell_type": "code",
   "execution_count": 67,
   "metadata": {
    "collapsed": false,
    "scrolled": true
   },
   "outputs": [
    {
     "data": {
      "text/plain": [
       "'y'"
      ]
     },
     "execution_count": 67,
     "metadata": {},
     "output_type": "execute_result"
    }
   ],
   "source": [
    "sample_string[21]"
   ]
  },
  {
   "cell_type": "code",
   "execution_count": 68,
   "metadata": {
    "collapsed": false
   },
   "outputs": [
    {
     "data": {
      "text/plain": [
       "'y'"
      ]
     },
     "execution_count": 68,
     "metadata": {},
     "output_type": "execute_result"
    }
   ],
   "source": [
    "sample_string[-9]"
   ]
  },
  {
   "cell_type": "markdown",
   "metadata": {},
   "source": [
    "Notice what happens if we try to access an index that is not contained in our sequence."
   ]
  },
  {
   "cell_type": "code",
   "execution_count": 69,
   "metadata": {
    "collapsed": false
   },
   "outputs": [
    {
     "ename": "IndexError",
     "evalue": "string index out of range",
     "output_type": "error",
     "traceback": [
      "\u001b[0;31m---------------------------------------------------------------------------\u001b[0m",
      "\u001b[0;31mIndexError\u001b[0m                                Traceback (most recent call last)",
      "\u001b[0;32m<ipython-input-69-abb0b2c3449e>\u001b[0m in \u001b[0;36m<module>\u001b[0;34m()\u001b[0m\n\u001b[0;32m----> 1\u001b[0;31m \u001b[0msample_string\u001b[0m\u001b[1;33m[\u001b[0m\u001b[1;36m100\u001b[0m\u001b[1;33m]\u001b[0m\u001b[1;33m\u001b[0m\u001b[0m\n\u001b[0m",
      "\u001b[0;31mIndexError\u001b[0m: string index out of range"
     ]
    }
   ],
   "source": [
    "sample_string[100]"
   ]
  },
  {
   "cell_type": "markdown",
   "metadata": {},
   "source": [
    "Python has a special error type for this, called an `IndexError`. It basically says that Python can't grab the item at the provided index because it doesn't exist."
   ]
  },
  {
   "cell_type": "markdown",
   "metadata": {},
   "source": [
    "<hr>\n",
    "#### 3.4.3.2. Slicing\n",
    "\n",
    "Slicing is similar to indexing except you are accessing multiple items instead of a single element. A slice can be of any size from zero elements up to the length of the entire collection.\n",
    "\n",
    "| Syntax               | Description                               |\n",
    "|:----------------------:|-------------------------------------------|\n",
    "|`sequence[start_index:stop_index]`| Returns the elements from `start_index` up to but not including `stop_index`|\n",
    "\n",
    "Below we access all characters from index `5` up to but not including index `10`:"
   ]
  },
  {
   "cell_type": "code",
   "execution_count": 70,
   "metadata": {
    "collapsed": false
   },
   "outputs": [
    {
     "data": {
      "text/plain": [
       "'score'"
      ]
     },
     "execution_count": 70,
     "metadata": {},
     "output_type": "execute_result"
    }
   ],
   "source": [
    "sample_string[5:10] "
   ]
  },
  {
   "cell_type": "markdown",
   "metadata": {},
   "source": [
    "Here we are accessing all characters from index `0` up to but not including index `4`."
   ]
  },
  {
   "cell_type": "code",
   "execution_count": 71,
   "metadata": {
    "collapsed": false
   },
   "outputs": [
    {
     "data": {
      "text/plain": [
       "'four'"
      ]
     },
     "execution_count": 71,
     "metadata": {},
     "output_type": "execute_result"
    }
   ],
   "source": [
    "sample_string[0:4]"
   ]
  },
  {
   "cell_type": "markdown",
   "metadata": {},
   "source": [
    "If you do not specify a `start_index`, it is assumed to be `0`. Here we are accessing all characters from the start of the string up to but not including index 4, which gives us the same result as the slice above. "
   ]
  },
  {
   "cell_type": "code",
   "execution_count": 72,
   "metadata": {
    "collapsed": false
   },
   "outputs": [
    {
     "data": {
      "text/plain": [
       "'four'"
      ]
     },
     "execution_count": 72,
     "metadata": {},
     "output_type": "execute_result"
    }
   ],
   "source": [
    "sample_string[:4]"
   ]
  },
  {
   "cell_type": "markdown",
   "metadata": {},
   "source": [
    "Here we are accessing all characters from index `15` up to but not including index `-1`."
   ]
  },
  {
   "cell_type": "code",
   "execution_count": 73,
   "metadata": {
    "collapsed": false
   },
   "outputs": [
    {
     "data": {
      "text/plain": [
       "'seven years ag'"
      ]
     },
     "execution_count": 73,
     "metadata": {},
     "output_type": "execute_result"
    }
   ],
   "source": [
    "sample_string[15:-1]"
   ]
  },
  {
   "cell_type": "markdown",
   "metadata": {},
   "source": [
    "If you do not specify an `end_index`, the slice will include everything from the `start_index` up to and including the end of the sequence. Here we are accessing all characters from index `15` onward."
   ]
  },
  {
   "cell_type": "code",
   "execution_count": 74,
   "metadata": {
    "collapsed": false
   },
   "outputs": [
    {
     "data": {
      "text/plain": [
       "'seven years ago'"
      ]
     },
     "execution_count": 74,
     "metadata": {},
     "output_type": "execute_result"
    }
   ],
   "source": [
    "sample_string[15:]"
   ]
  },
  {
   "cell_type": "markdown",
   "metadata": {},
   "source": [
    "If you do not specify a `start_index` or an `end_index`, the slice will include the entire sequence. This is effectively making a complete copy of the sequence."
   ]
  },
  {
   "cell_type": "code",
   "execution_count": 75,
   "metadata": {
    "collapsed": false
   },
   "outputs": [
    {
     "data": {
      "text/plain": [
       "'four score and seven years ago'"
      ]
     },
     "execution_count": 75,
     "metadata": {},
     "output_type": "execute_result"
    }
   ],
   "source": [
    "sample_string[:] "
   ]
  },
  {
   "cell_type": "markdown",
   "metadata": {},
   "source": [
    "<hr>\n",
    "<a id='Unordered'></a>\n",
    "### 3.4.4. Unordered Data Structures: Sets and Dictionaries\n",
    "\n",
    "<hr>\n",
    "Sequences are like pill boxes.  They contain pieces of data in an orderly fashion, where each box is given an address or index.\n",
    "\n",
    "<img src=\"./GRAPHICS/list_pillbox.png\" width=\"33%\">\n",
    "\n",
    "Unordered collections, on the other hand, are like pill bottles.  While they also contain pieces of data, there is not an inherent order or numerical addressing system.  Unordered collections have no index and therefore cannot be accessed with numerical indexes.\n",
    "\n",
    "<img src=\"./GRAPHICS/list_pillbottle.png\" width=\"15%\">\n",
    "\n",
    "<hr>\n",
    "#### 3.4.4.1. Sets\n",
    "<hr>\n",
    "#### References:\n",
    "* [Python: Sets](https://docs.python.org/3.4/tutorial/datastructures.html#sets)\n",
    "<hr>\n",
    "\n",
    "Python sets are mutable, unordered collections with no duplicates. Like all unordered collections, sets are not considered sequences and do not support indexing or slicing. Basic uses of sets include membership testing and deduplication. Sets also support mathematical operations like union, intersection, difference, and symmetric difference. \n",
    "\n",
    "Sets are always wrapped in curly braces: `{}`"
   ]
  },
  {
   "cell_type": "markdown",
   "metadata": {
    "collapsed": true
   },
   "source": [
    "#### 3.4.4.1.1. Creating Sets"
   ]
  },
  {
   "cell_type": "markdown",
   "metadata": {},
   "source": [
    "Unlike the other collections we've seen so far, there's only one way to create an empty set, and that is to call the `set()` function with no arguments."
   ]
  },
  {
   "cell_type": "code",
   "execution_count": 76,
   "metadata": {
    "collapsed": false
   },
   "outputs": [
    {
     "data": {
      "text/plain": [
       "set()"
      ]
     },
     "execution_count": 76,
     "metadata": {},
     "output_type": "execute_result"
    }
   ],
   "source": [
    "my_set = set()                      \n",
    "my_set"
   ]
  },
  {
   "cell_type": "markdown",
   "metadata": {},
   "source": [
    "To create a pre-populated set, wrap multiple elements in curly braces."
   ]
  },
  {
   "cell_type": "code",
   "execution_count": 77,
   "metadata": {
    "collapsed": false
   },
   "outputs": [
    {
     "data": {
      "text/plain": [
       "{1, 3.1415, 'a'}"
      ]
     },
     "execution_count": 77,
     "metadata": {},
     "output_type": "execute_result"
    }
   ],
   "source": [
    "my_set = {1, 'a', 3.1415}\n",
    "my_set"
   ]
  },
  {
   "cell_type": "markdown",
   "metadata": {},
   "source": [
    "One special feature of sets is that they automatically drop duplicate values. All values in a set must be unique."
   ]
  },
  {
   "cell_type": "code",
   "execution_count": 78,
   "metadata": {
    "collapsed": false
   },
   "outputs": [
    {
     "data": {
      "text/plain": [
       "{1, 3, 4, 5}"
      ]
     },
     "execution_count": 78,
     "metadata": {},
     "output_type": "execute_result"
    }
   ],
   "source": [
    "my_set = {1, 1, 1, 3, 4, 5}\n",
    "my_set"
   ]
  },
  {
   "cell_type": "markdown",
   "metadata": {},
   "source": [
    "#### 3.4.4.1.2. Set Methods and Operations\n",
    "\n",
    "To add elements to a set, use the `.add()` method. Note that this is an in-place operation, changing the variable's underlying value."
   ]
  },
  {
   "cell_type": "code",
   "execution_count": 79,
   "metadata": {
    "collapsed": false
   },
   "outputs": [
    {
     "data": {
      "text/plain": [
       "{1, 3, 4, 5, 297}"
      ]
     },
     "execution_count": 79,
     "metadata": {},
     "output_type": "execute_result"
    }
   ],
   "source": [
    "my_set.add(297)\n",
    "my_set"
   ]
  },
  {
   "cell_type": "markdown",
   "metadata": {},
   "source": [
    "To remove individual elements from a set, use the `.remove()` method. This operation also occurs in-place."
   ]
  },
  {
   "cell_type": "code",
   "execution_count": 80,
   "metadata": {
    "collapsed": false
   },
   "outputs": [
    {
     "data": {
      "text/plain": [
       "{3, 4, 5, 297}"
      ]
     },
     "execution_count": 80,
     "metadata": {},
     "output_type": "execute_result"
    }
   ],
   "source": [
    "my_set.remove(1)\n",
    "my_set"
   ]
  },
  {
   "cell_type": "markdown",
   "metadata": {},
   "source": [
    "We can test for membership with the <font color=\"green\"><b>in</b></font> keyword:"
   ]
  },
  {
   "cell_type": "code",
   "execution_count": 81,
   "metadata": {
    "collapsed": false
   },
   "outputs": [
    {
     "data": {
      "text/plain": [
       "True"
      ]
     },
     "execution_count": 81,
     "metadata": {},
     "output_type": "execute_result"
    }
   ],
   "source": [
    "297 in my_set"
   ]
  },
  {
   "cell_type": "markdown",
   "metadata": {},
   "source": [
    "A set appears visually as such:"
   ]
  },
  {
   "cell_type": "markdown",
   "metadata": {},
   "source": [
    "<img src=\"./GRAPHICS/FoodExample.png\" width=\"50%\">"
   ]
  },
  {
   "cell_type": "markdown",
   "metadata": {},
   "source": [
    "The set data structure unlocks set-specific mathematical operations. You may be familiar with set arithmetic from working with Venn diagrams. People sometimes refer to set operations as _cross referencing_.\n",
    "\n",
    "In the following examples, assume you are given two sets: `A` and `B`."
   ]
  },
  {
   "cell_type": "markdown",
   "metadata": {},
   "source": [
    "| Code| Mathematical Operation  | Description                       | Graphical Representation   |\n",
    "|:----------------------:|:-----:|:------------------------------:|:----------------------------:|\n",
    "| `A & B`|Intersection | Returns elements that appear in both set A and set B| <img src=\"./GRAPHICS/intersection2.png\" width=\"50%\">|\n",
    "| `A` &#124; `B`|Union| Returns elements in either set A or set B |<img src=\"./GRAPHICS/union2.png\" width=\"50%\">|\n",
    "| `A ^ B`|Symmetric Set Difference| Returns elements in set A or set B, but not in both|<img src=\"./GRAPHICS/symmetricdiff.png\" width=\"50%\">|\n",
    "|`A - B` |Left Set Difference|Returns elements only in set A but not set B|<img src=\"./GRAPHICS/diff1.png\" width=\"50%\"> |\n",
    "|`B - A`|Right Set Difference|Returns elements only in set B but not set A|<img src=\"./GRAPHICS/diff2.png\" width=\"50%\"> |"
   ]
  },
  {
   "cell_type": "markdown",
   "metadata": {},
   "source": [
    "As an example, let's look at two sets of employee names."
   ]
  },
  {
   "cell_type": "code",
   "execution_count": 82,
   "metadata": {
    "collapsed": true
   },
   "outputs": [],
   "source": [
    "team_members = {'Smith', 'Daniels', 'Robertson', 'Chen', 'Winters', 'Baker', 'Johnson', 'Blake'}                    \n",
    "\n",
    "completed_mandatory_training = {'Winters', 'Robertson', 'Smith'}"
   ]
  },
  {
   "cell_type": "markdown",
   "metadata": {},
   "source": [
    "Who still needs to complete mandatory training? To find out, we could take the set difference."
   ]
  },
  {
   "cell_type": "code",
   "execution_count": 83,
   "metadata": {
    "collapsed": false
   },
   "outputs": [
    {
     "data": {
      "text/plain": [
       "{'Baker', 'Blake', 'Chen', 'Daniels', 'Johnson'}"
      ]
     },
     "execution_count": 83,
     "metadata": {},
     "output_type": "execute_result"
    }
   ],
   "source": [
    "team_members - completed_mandatory_training"
   ]
  },
  {
   "cell_type": "markdown",
   "metadata": {},
   "source": [
    "<hr>\n",
    "#### 3.4.4.2. Dictionaries\n",
    "<hr>\n",
    "#### References:\n",
    "* [Python: Dictionaries](https://docs.python.org/3.4/tutorial/datastructures.html#dictionaries)\n",
    "\n",
    "<hr>\n",
    "\n",
    "Dictionaries are collections of key-value pairs. Unlike sequences, which are indexed numerically, dictionaries are indexed by keys, which can be any immutable type. Strings, numbers, and tuples can all serve as keys in a dictionary, for example.\n",
    "\n",
    "Dictionaries share many properties with sets:\n",
    "* Both sets and dictionaries are unordered\n",
    "* Both sets and dictionaries are wrapped in curly braces\n",
    "* Sets must have unique entries, dictionaries must have unique keys"
   ]
  },
  {
   "cell_type": "markdown",
   "metadata": {},
   "source": [
    "#### 3.4.4.2.1. Creating Dictionaries"
   ]
  },
  {
   "cell_type": "markdown",
   "metadata": {},
   "source": [
    "Like sets, dictionaries use curly braces as wrappers. However, a set of empty curly braces gets interpreted as an empty dictionary, not a set."
   ]
  },
  {
   "cell_type": "code",
   "execution_count": 84,
   "metadata": {
    "collapsed": false
   },
   "outputs": [
    {
     "data": {
      "text/plain": [
       "{}"
      ]
     },
     "execution_count": 84,
     "metadata": {},
     "output_type": "execute_result"
    }
   ],
   "source": [
    "empty_dictionary = {}\n",
    "empty_dictionary"
   ]
  },
  {
   "cell_type": "markdown",
   "metadata": {},
   "source": [
    "We can also set up a dictionary that's populated with entries. Note that each entry in the dictionary below is a pair of values separated by a colon (`:`). To the left of the colon is the entry's _key_, and to the right is the _value_. Dictionary entries are always structured like this: `key: value`."
   ]
  },
  {
   "cell_type": "code",
   "execution_count": 85,
   "metadata": {
    "collapsed": false
   },
   "outputs": [
    {
     "data": {
      "text/plain": [
       "{'hello': 'bonjour', 'thank you': 'merci', 'world': 'monde'}"
      ]
     },
     "execution_count": 85,
     "metadata": {},
     "output_type": "execute_result"
    }
   ],
   "source": [
    "english_french_dictionary = {'hello': 'bonjour',\n",
    "                             'world': 'monde',\n",
    "                             'thank you': 'merci'}\n",
    "english_french_dictionary"
   ]
  },
  {
   "cell_type": "markdown",
   "metadata": {},
   "source": [
    "#### 3.4.4.2.2. Dict Methods and Operations"
   ]
  },
  {
   "cell_type": "markdown",
   "metadata": {
    "collapsed": true
   },
   "source": [
    "To access a value inside a dictionary, we use bracket notation. But instead of putting a numeric index inside the brackets, we put a key.\n",
    "\n",
    ">Example:\n",
    "```python\n",
    "dict_variable[key]\n",
    "```"
   ]
  },
  {
   "cell_type": "markdown",
   "metadata": {},
   "source": [
    "Below, we access the value stored at the key `'hello'` in our `english_french_dictionary`."
   ]
  },
  {
   "cell_type": "code",
   "execution_count": 86,
   "metadata": {
    "collapsed": false
   },
   "outputs": [
    {
     "data": {
      "text/plain": [
       "'bonjour'"
      ]
     },
     "execution_count": 86,
     "metadata": {},
     "output_type": "execute_result"
    }
   ],
   "source": [
    "english_french_dictionary['hello']"
   ]
  },
  {
   "cell_type": "markdown",
   "metadata": {},
   "source": [
    "Dictionaries are mutable, so we can create or modify key-value pairs individually without overwriting the entire structure. The syntax to create or edit an entry's value mirrors the syntax for overwriting an item in a list.\n",
    "\n",
    ">Example:\n",
    "```python\n",
    "dict_variable[key] = value\n",
    "```"
   ]
  },
  {
   "cell_type": "markdown",
   "metadata": {},
   "source": [
    "Let's add an entry to our dictionary from above."
   ]
  },
  {
   "cell_type": "code",
   "execution_count": 87,
   "metadata": {
    "collapsed": false
   },
   "outputs": [
    {
     "data": {
      "text/plain": [
       "{'good bye': 'au revoir',\n",
       " 'hello': 'bonjour',\n",
       " 'thank you': 'merci',\n",
       " 'world': 'monde'}"
      ]
     },
     "execution_count": 87,
     "metadata": {},
     "output_type": "execute_result"
    }
   ],
   "source": [
    "english_french_dictionary['good bye'] = 'au revoir'\n",
    "english_french_dictionary"
   ]
  },
  {
   "cell_type": "markdown",
   "metadata": {
    "collapsed": true
   },
   "source": [
    "Deleting a key-value pair from a dictionary requires the `del` keyword. Be careful, as deletions using `del` permanently wipe the entry from memory.\n",
    "\n",
    ">Example:\n",
    "```python\n",
    "del dict_variable[key]\n",
    "```"
   ]
  },
  {
   "cell_type": "code",
   "execution_count": 88,
   "metadata": {
    "collapsed": false
   },
   "outputs": [
    {
     "data": {
      "text/plain": [
       "{'hello': 'bonjour', 'thank you': 'merci', 'world': 'monde'}"
      ]
     },
     "execution_count": 88,
     "metadata": {},
     "output_type": "execute_result"
    }
   ],
   "source": [
    "del english_french_dictionary['good bye']\n",
    "\n",
    "english_french_dictionary"
   ]
  },
  {
   "cell_type": "markdown",
   "metadata": {},
   "source": [
    "We can quickly glance through all of the keys in a dictionary using the `.keys()` method. This method returns a list-like object."
   ]
  },
  {
   "cell_type": "code",
   "execution_count": 89,
   "metadata": {
    "collapsed": false
   },
   "outputs": [
    {
     "data": {
      "text/plain": [
       "dict_keys(['hello', 'world', 'thank you'])"
      ]
     },
     "execution_count": 89,
     "metadata": {},
     "output_type": "execute_result"
    }
   ],
   "source": [
    "english_french_dictionary.keys()"
   ]
  },
  {
   "cell_type": "markdown",
   "metadata": {},
   "source": [
    "Additionally, we can look at the values in a dictionary using the `.values()` method."
   ]
  },
  {
   "cell_type": "code",
   "execution_count": 90,
   "metadata": {
    "collapsed": false
   },
   "outputs": [
    {
     "data": {
      "text/plain": [
       "dict_values(['bonjour', 'monde', 'merci'])"
      ]
     },
     "execution_count": 90,
     "metadata": {},
     "output_type": "execute_result"
    }
   ],
   "source": [
    "english_french_dictionary.values()"
   ]
  },
  {
   "cell_type": "markdown",
   "metadata": {},
   "source": [
    "The `.items()` method gives us a list-like object of key-value pairs stored as tuples."
   ]
  },
  {
   "cell_type": "code",
   "execution_count": 91,
   "metadata": {
    "collapsed": false
   },
   "outputs": [
    {
     "data": {
      "text/plain": [
       "dict_items([('hello', 'bonjour'), ('world', 'monde'), ('thank you', 'merci')])"
      ]
     },
     "execution_count": 91,
     "metadata": {},
     "output_type": "execute_result"
    }
   ],
   "source": [
    "english_french_dictionary.items()"
   ]
  },
  {
   "cell_type": "markdown",
   "metadata": {},
   "source": [
    "<hr>\n",
    "<a id='Guided-Exercise'></a>\n",
    "## 3.5. Guided Exercise: String and List Operations"
   ]
  },
  {
   "cell_type": "markdown",
   "metadata": {},
   "source": [
    "<b><font color=\"brick\">Instructor Guidance</font>: Refer back to Lesson 1 and relate the four steps of problem-solving using Computational Thinking (Decomposition, Pattern Recognition, Abstraction, & Algorithm Design) as appropriate throughout these exercises.</b>"
   ]
  },
  {
   "cell_type": "markdown",
   "metadata": {},
   "source": [
    "<hr>\n",
    "#### References:\n",
    "* [Python: Built-in Functions](https://docs.python.org/3.4/library/functions.html)\n",
    "* [Python:  string - Common string operations](https://docs.python.org/3.4/library/string.html)\n",
    "\n",
    "<hr>"
   ]
  },
  {
   "cell_type": "markdown",
   "metadata": {},
   "source": [
    "Problem 1. For the given geocoordinates below, write code that evaluates each point and determines if the point is a latitude.  \n",
    "```python\n",
    "coord_a = '454545N'\n",
    "coord_b = '0342313E'\n",
    "coord_c = '1421623W'\n",
    "coord_d = '881053S'\n",
    "```"
   ]
  },
  {
   "cell_type": "markdown",
   "metadata": {},
   "source": [
    "First, we need to store our inputs in variables so we can access them in our script."
   ]
  },
  {
   "cell_type": "code",
   "execution_count": 92,
   "metadata": {
    "collapsed": true
   },
   "outputs": [],
   "source": [
    "coord_a = '454545N'\n",
    "coord_b = '0342313E'\n",
    "coord_c = '1421623W'\n",
    "coord_d = '881053S'"
   ]
  },
  {
   "cell_type": "markdown",
   "metadata": {},
   "source": [
    "We know that latitudes can be either north or south, so we can look for the characters `N` or `S` in each string to determine whether it's a latitude. Since we're searching for either one of the two characters, we join two membership tests with the `or` logical operator."
   ]
  },
  {
   "cell_type": "code",
   "execution_count": 93,
   "metadata": {
    "collapsed": false
   },
   "outputs": [
    {
     "data": {
      "text/plain": [
       "True"
      ]
     },
     "execution_count": 93,
     "metadata": {},
     "output_type": "execute_result"
    }
   ],
   "source": [
    "'N' in coord_a or 'S' in coord_a"
   ]
  },
  {
   "cell_type": "markdown",
   "metadata": {},
   "source": [
    "Let's run our test on all of the remaining coordinates."
   ]
  },
  {
   "cell_type": "code",
   "execution_count": 94,
   "metadata": {
    "collapsed": false
   },
   "outputs": [
    {
     "data": {
      "text/plain": [
       "False"
      ]
     },
     "execution_count": 94,
     "metadata": {},
     "output_type": "execute_result"
    }
   ],
   "source": [
    "'N' in coord_b or 'S' in coord_b"
   ]
  },
  {
   "cell_type": "code",
   "execution_count": 95,
   "metadata": {
    "collapsed": false
   },
   "outputs": [
    {
     "data": {
      "text/plain": [
       "False"
      ]
     },
     "execution_count": 95,
     "metadata": {},
     "output_type": "execute_result"
    }
   ],
   "source": [
    "'N' in coord_c or 'S' in coord_c"
   ]
  },
  {
   "cell_type": "code",
   "execution_count": 96,
   "metadata": {
    "collapsed": false
   },
   "outputs": [
    {
     "data": {
      "text/plain": [
       "True"
      ]
     },
     "execution_count": 96,
     "metadata": {},
     "output_type": "execute_result"
    }
   ],
   "source": [
    "'N' in coord_d or 'S' in coord_d"
   ]
  },
  {
   "cell_type": "markdown",
   "metadata": {
    "collapsed": true
   },
   "source": [
    "Problem 2. For the given geocoordinates below, write code that evaluates each point and determines if the point is a longitude.  \n",
    "```python\n",
    "points = ['342312N', '1023202E', '1005642E', '1800000W']\n",
    "```"
   ]
  },
  {
   "cell_type": "markdown",
   "metadata": {},
   "source": [
    "First, let's store the inputs in memory."
   ]
  },
  {
   "cell_type": "code",
   "execution_count": 97,
   "metadata": {
    "collapsed": true
   },
   "outputs": [],
   "source": [
    "points = ['342312N', '1023202E', '1005642E', '1800000W'] "
   ]
  },
  {
   "cell_type": "markdown",
   "metadata": {},
   "source": [
    "We can deploy a similar test we used above to check for latitudes, just changing it slightly to look for `E` or `W` instead. However, our inputs are also slightly different from before. Rather than having four separate strings, we have one list of strings. We need to alter our code to access the individual list elements before running our tests. Do you remember how to access items in a list?"
   ]
  },
  {
   "cell_type": "code",
   "execution_count": 98,
   "metadata": {
    "collapsed": false
   },
   "outputs": [
    {
     "data": {
      "text/plain": [
       "'342312N'"
      ]
     },
     "execution_count": 98,
     "metadata": {},
     "output_type": "execute_result"
    }
   ],
   "source": [
    "points[0]"
   ]
  },
  {
   "cell_type": "code",
   "execution_count": 99,
   "metadata": {
    "collapsed": false
   },
   "outputs": [
    {
     "data": {
      "text/plain": [
       "False"
      ]
     },
     "execution_count": 99,
     "metadata": {},
     "output_type": "execute_result"
    }
   ],
   "source": [
    "'E' in points[0] or 'W' in points[0] "
   ]
  },
  {
   "cell_type": "markdown",
   "metadata": {},
   "source": [
    "Looks like it worked! Let's run the test on the remaining coordinates."
   ]
  },
  {
   "cell_type": "code",
   "execution_count": 100,
   "metadata": {
    "collapsed": false
   },
   "outputs": [
    {
     "data": {
      "text/plain": [
       "True"
      ]
     },
     "execution_count": 100,
     "metadata": {},
     "output_type": "execute_result"
    }
   ],
   "source": [
    "'E' in points[1] or 'W' in points[1] "
   ]
  },
  {
   "cell_type": "code",
   "execution_count": 101,
   "metadata": {
    "collapsed": false
   },
   "outputs": [
    {
     "data": {
      "text/plain": [
       "True"
      ]
     },
     "execution_count": 101,
     "metadata": {},
     "output_type": "execute_result"
    }
   ],
   "source": [
    "'E' in points[2] or 'W' in points[2] "
   ]
  },
  {
   "cell_type": "code",
   "execution_count": 102,
   "metadata": {
    "collapsed": false
   },
   "outputs": [
    {
     "data": {
      "text/plain": [
       "True"
      ]
     },
     "execution_count": 102,
     "metadata": {},
     "output_type": "execute_result"
    }
   ],
   "source": [
    "'E' in points[3] or 'W' in points[3] "
   ]
  },
  {
   "cell_type": "markdown",
   "metadata": {},
   "source": [
    "#### Follow-up Questions:\n",
    "1. This is an example of membership testing. What other types of data can you run membership tests on?\n",
    "2. What is the data type of the input(s) in Problem 1?\n",
    "3. What is the data type of the input(s) in Problem 2?"
   ]
  },
  {
   "cell_type": "markdown",
   "metadata": {},
   "source": [
    "<a id='Practical-Exercises'></a>\n",
    "\n",
    "<hr>\n",
    "<a id='Practical-Exercises'></a>\n",
    "## 3.6. Practical Exercises "
   ]
  },
  {
   "cell_type": "markdown",
   "metadata": {},
   "source": [
    "<b><font color=\"brick\">Instructor Guidance</font>: Refer back to Lesson 1 and relate the four steps of problem-solving using Computational Thinking (Decomposition, Pattern Recognition, Abstraction, & Algorithm Design) as appropriate throughout these exercises.\n",
    "\n",
    "<font color=\"brick\">Instructor Guidance</font>: The practical exercises deemed most important due to content and/or a cumulative result, which should be completed first in the interest of maximum training value in relation to time are Practical Exercises 1, 3, and 5. Ensure you go over the exercise solutions and (as necessary) the processes to arrive at the solutions with the students.\n",
    "\n",
    "<font color=\"brick\">Instructor Guidance</font>: Follow-up questions are designed to be asked by the facilitators individually as each student completes the task and has it looked at by a facilitator.</b>"
   ]
  },
  {
   "cell_type": "markdown",
   "metadata": {},
   "source": [
    "<a id='PE1'></a>\n",
    "### 3.6.1. Practical Exercise 1: Dealing with Dirty Data\n",
    "<hr>\n",
    "#### References:\n",
    "* [Python: string - Common string operations](https://docs.python.org/3.4/library/string.html)\n",
    "<hr>\n",
    "\n",
    "Often, data is dirty, improperly or inconsistently formatted.  What is wrong with the data below and how would you clean it up?  There is usually more than one way to clean up data.  Can you think of two ways for each example? Assume the code you write will be used for cleaning up these two examples only, not all possible inputs.\n",
    "\n",
    "```python\n",
    "latitude = 'n435421'\n",
    "longitude = ' 1200001E '\n",
    "```\n",
    "\n",
    "The desired formats are as follows:\n",
    "* longitude: `DDDMMSS` + `E` or `W` (Example: `432602N`)\n",
    "* latitude: `DDMMSS` + `N` or `S` (Example: `1104523E`)\n",
    "\n",
    "Latitude ranges from 0 to 90 degrees, and longitude ranges from 0 to 180 degrees."
   ]
  },
  {
   "cell_type": "code",
   "execution_count": 103,
   "metadata": {
    "collapsed": true
   },
   "outputs": [],
   "source": [
    "## YOUR CODE GOES HERE ##"
   ]
  },
  {
   "cell_type": "code",
   "execution_count": 104,
   "metadata": {
    "collapsed": false
   },
   "outputs": [
    {
     "name": "stdout",
     "output_type": "stream",
     "text": [
      "435421N\n",
      "1200001E\n"
     ]
    }
   ],
   "source": [
    "## INSTRUCTION SOLUTION(S) ##\n",
    "latitude = 'n435421'\n",
    "longitude = ' 1200001E '\n",
    "\n",
    "print(latitude[1:] + 'N')\n",
    "\n",
    "print(longitude.strip())"
   ]
  },
  {
   "cell_type": "markdown",
   "metadata": {},
   "source": [
    "<hr>\n",
    "<a id='PE2'></a>\n",
    "### 3.6.2. Practical Exercise 2: Indexing and Slicing Sequence Data Structures\n",
    "\n",
    "<hr>\n",
    "\n",
    "#### References:\n",
    "* [Python: Strings](https://docs.python.org/3.4/tutorial/introduction.html#strings)\n",
    "* [Wikipedia: Mount Nyiragongo](https://en.wikipedia.org/wiki/Mount_Nyiragongo)\n",
    "<hr>\n",
    "\n",
    "How would you slice the following string to get the desired information? Assume the code you write will only be used on the following string. You don't need to account for the possibility of different paragraphs.\n",
    "\n",
    "```python\n",
    "temp_string = \"\"\"Mount Nyiragongo is an active stratovolcano with an elevation of 3,470 metres (11,380 ft) \n",
    "in the Virunga Mountains associated with the Albertine Rift. It is located inside Virunga National Park, \n",
    "in the Democratic Republic of the Congo, about 20 km (12 mi) north of the town of Goma and Lake Kivu and \n",
    "just west of the border with Rwanda.\"\"\"\n",
    "```\n",
    "\n",
    "Information to extract:\n",
    "1. Volcano Name (`Mount Nyiragongo`)\n",
    "2. Elevation (`3,470 metres`)"
   ]
  },
  {
   "cell_type": "code",
   "execution_count": 105,
   "metadata": {
    "collapsed": true
   },
   "outputs": [],
   "source": [
    "## YOUR CODE GOES HERE ##"
   ]
  },
  {
   "cell_type": "code",
   "execution_count": 106,
   "metadata": {
    "collapsed": false
   },
   "outputs": [
    {
     "name": "stdout",
     "output_type": "stream",
     "text": [
      "Mount Nyiragongo \n",
      "3,470 metres\n"
     ]
    }
   ],
   "source": [
    "## INSTRUCTION SOLUTION(S) ##\n",
    "temp_string = \"\"\"Mount Nyiragongo is an active stratovolcano with an elevation of 3,470 metres (11,380 ft) \n",
    "in the Virunga Mountains associated with the Albertine Rift. It is located inside Virunga National Park, \n",
    "in the Democratic Republic of the Congo, about 20 km (12 mi) north of the town of Goma and Lake Kivu and \n",
    "just west of the border with Rwanda.\"\"\"\n",
    "\n",
    "print(temp_string[:17])\n",
    "print(temp_string[65:77])"
   ]
  },
  {
   "cell_type": "markdown",
   "metadata": {
    "collapsed": true
   },
   "source": [
    "<hr>\n",
    "<a id='PE3'></a>\n",
    "### 3.6.3. Practical Exercise 3: String and List Operations & Indexing and Slicing Sequence Data Structures\n",
    "<hr>\n",
    "#### References:\n",
    "* [Python: Strings](https://docs.python.org/3.4/tutorial/introduction.html#strings)\n",
    "* [Python: Lists](https://docs.python.org/3.4/tutorial/introduction.html#lists)\n",
    "* [Wikipedia: Mount Nyiragongo](https://en.wikipedia.org/wiki/Mount_Nyiragongo)\n",
    "<hr>\n",
    "\n",
    "Split the following string into a list and slice the list to get the same information as above.\n",
    "\n",
    "```python\n",
    "temp_string = \"\"\"Mount Nyiragongo is an active stratovolcano with an elevation of 3,470 metres (11,380 ft) \n",
    "in the Virunga Mountains associated with the Albertine Rift. It is located inside Virunga National Park, \n",
    "in the Democratic Republic of the Congo, about 20 km (12 mi) north of the town of Goma and Lake Kivu and \n",
    "just west of the border with Rwanda.\"\"\"\n",
    "```\n",
    "\n",
    "Information to extract:\n",
    "1. Volcano Name (`Mount Nyiragongo`)\n",
    "2. Elevation (`3,470 metres`)"
   ]
  },
  {
   "cell_type": "code",
   "execution_count": 107,
   "metadata": {
    "collapsed": true
   },
   "outputs": [],
   "source": [
    "## YOUR CODE GOES HERE ##"
   ]
  },
  {
   "cell_type": "code",
   "execution_count": 108,
   "metadata": {
    "collapsed": false
   },
   "outputs": [
    {
     "name": "stdout",
     "output_type": "stream",
     "text": [
      "Mount Nyiragongo\n",
      "3,470 metres\n"
     ]
    }
   ],
   "source": [
    "## INSTRUCTION SOLUTION(S) ##\n",
    "temp_string = \"\"\"Mount Nyiragongo is an active stratovolcano with an elevation of 3,470 metres (11,380 ft) \n",
    "in the Virunga Mountains associated with the Albertine Rift. It is located inside Virunga National Park, \n",
    "in the Democratic Republic of the Congo, about 20 km (12 mi) north of the town of Goma and Lake Kivu and \n",
    "just west of the border with Rwanda.\"\"\"\n",
    "\n",
    "temp_list = temp_string.split(' ')\n",
    "\n",
    "print(' '.join(temp_list[:2]))\n",
    "print(' '.join(temp_list[10:12]))"
   ]
  },
  {
   "cell_type": "markdown",
   "metadata": {
    "collapsed": true
   },
   "source": [
    "<hr>\n",
    "<a id='PE4'></a>\n",
    "### 3.6.4. Practical Exercise 4: Tuples\n",
    "<hr>\n",
    "#### References:\n",
    "* [Wikipedia: Tuple](https://en.wikipedia.org/wiki/Tuple)\n",
    "<hr>"
   ]
  },
  {
   "cell_type": "markdown",
   "metadata": {},
   "source": [
    "Problem 1. Given the following tuple, create a string joining all the elements in the tuple into a single word.  \n",
    "```python\n",
    "a_tuple = ('c', 'l', 'a', 's', 's', 'r', 'o', 'o', 'm')\n",
    "```"
   ]
  },
  {
   "cell_type": "code",
   "execution_count": 109,
   "metadata": {
    "collapsed": true
   },
   "outputs": [],
   "source": [
    "## YOUR CODE GOES HERE ##"
   ]
  },
  {
   "cell_type": "code",
   "execution_count": 110,
   "metadata": {
    "collapsed": false
   },
   "outputs": [
    {
     "data": {
      "text/plain": [
       "'classroom'"
      ]
     },
     "execution_count": 110,
     "metadata": {},
     "output_type": "execute_result"
    }
   ],
   "source": [
    "## INSTRUCTION SOLUTION(S) ##\n",
    "a_tuple = ('c', 'l', 'a', 's', 's', 'r', 'o', 'o', 'm')\n",
    "\n",
    "''.join(a_tuple)"
   ]
  },
  {
   "cell_type": "markdown",
   "metadata": {},
   "source": [
    "Problem 2. Get the 3rd element by its positive index, and the 5th element by its negative index from the tuple below:\n",
    "```python\n",
    "b_tuple = (3, 4, 6, 3, 4, 7, 8, 8, 10, 437, 'b', 'd', 's', 's')\n",
    "```"
   ]
  },
  {
   "cell_type": "code",
   "execution_count": 111,
   "metadata": {
    "collapsed": true
   },
   "outputs": [],
   "source": [
    "## YOUR CODE GOES HERE ##"
   ]
  },
  {
   "cell_type": "code",
   "execution_count": 112,
   "metadata": {
    "collapsed": false
   },
   "outputs": [
    {
     "data": {
      "text/plain": [
       "(6, 4)"
      ]
     },
     "execution_count": 112,
     "metadata": {},
     "output_type": "execute_result"
    }
   ],
   "source": [
    "## INSTRUCTION SOLUTION(S) ##\n",
    "b_tuple = (3, 4, 6, 3, 4, 7, 8, 8, 10, 437, 'b', 'd', 's', 's')\n",
    "\n",
    "b_tuple[2], b_tuple[-10]"
   ]
  },
  {
   "cell_type": "markdown",
   "metadata": {},
   "source": [
    "Problem 3. How do you merge the below tuple with `a_tuple` from above, creating one new tuple with all the elements from both?  \n",
    "\n",
    "HINT: Because tuples are immutable, you cannot add items into a tuple.  However, like strings (which are also immutable), you can concatenate them with the plus sign (`+`).  \n",
    "```python\n",
    "c_tuple = (5, 9)\n",
    "```"
   ]
  },
  {
   "cell_type": "code",
   "execution_count": 113,
   "metadata": {
    "collapsed": true
   },
   "outputs": [],
   "source": [
    "## YOUR CODE GOES HERE ##"
   ]
  },
  {
   "cell_type": "code",
   "execution_count": 114,
   "metadata": {
    "collapsed": false
   },
   "outputs": [
    {
     "data": {
      "text/plain": [
       "('c', 'l', 'a', 's', 's', 'r', 'o', 'o', 'm', 5, 9)"
      ]
     },
     "execution_count": 114,
     "metadata": {},
     "output_type": "execute_result"
    }
   ],
   "source": [
    "## INSTRUCTION SOLUTION(S) ##\n",
    "c_tuple = (5, 9)\n",
    "\n",
    "a_tuple + c_tuple"
   ]
  },
  {
   "cell_type": "markdown",
   "metadata": {},
   "source": [
    "<hr>\n",
    "<a id='PE5'></a>\n",
    "### 3.6.5. Practical Exercise 5: Sets \n",
    "<hr>\n",
    "#### References:\n",
    "* [Wikipedia: Set theory](https://en.wikipedia.org/wiki/Set_theory)\n",
    "<hr>"
   ]
  },
  {
   "cell_type": "markdown",
   "metadata": {},
   "source": [
    "Problem 1. Remove `8` from the set below and add `1000` to the set. \n",
    "```python\n",
    "a_set = {3, 4, 6, 8, 10, 125}\n",
    "```"
   ]
  },
  {
   "cell_type": "code",
   "execution_count": 115,
   "metadata": {
    "collapsed": true
   },
   "outputs": [],
   "source": [
    "## YOUR CODE GOES HERE ##"
   ]
  },
  {
   "cell_type": "code",
   "execution_count": 116,
   "metadata": {
    "collapsed": false
   },
   "outputs": [
    {
     "data": {
      "text/plain": [
       "{3, 4, 6, 10, 125, 1000}"
      ]
     },
     "execution_count": 116,
     "metadata": {},
     "output_type": "execute_result"
    }
   ],
   "source": [
    "## INSTRUCTION SOLUTION(S) ##\n",
    "a_set = {3, 4, 6, 8, 10, 125}\n",
    "\n",
    "a_set.remove(8)\n",
    "\n",
    "a_set.add(1000)\n",
    "a_set"
   ]
  },
  {
   "cell_type": "markdown",
   "metadata": {},
   "source": [
    "Problem 2. What is the intersection of the two sets below?\n",
    "```python    \n",
    "set1 = {1,4,3,5}\n",
    "set2 = {1,7,9,4}\n",
    "```"
   ]
  },
  {
   "cell_type": "code",
   "execution_count": 117,
   "metadata": {
    "collapsed": true
   },
   "outputs": [],
   "source": [
    "## YOUR CODE GOES HERE ##"
   ]
  },
  {
   "cell_type": "code",
   "execution_count": 118,
   "metadata": {
    "collapsed": false
   },
   "outputs": [
    {
     "data": {
      "text/plain": [
       "{1, 4}"
      ]
     },
     "execution_count": 118,
     "metadata": {},
     "output_type": "execute_result"
    }
   ],
   "source": [
    "## INSTRUCTION SOLUTION(S) ##\n",
    "set1 = {1,4,3,5}\n",
    "set2 = {1,7,9,4}\n",
    "\n",
    "set1 & set2"
   ]
  },
  {
   "cell_type": "markdown",
   "metadata": {},
   "source": [
    "Problem 3. What is the union of the two sets above?  "
   ]
  },
  {
   "cell_type": "code",
   "execution_count": 119,
   "metadata": {
    "collapsed": true
   },
   "outputs": [],
   "source": [
    "## YOUR CODE GOES HERE ##"
   ]
  },
  {
   "cell_type": "code",
   "execution_count": 120,
   "metadata": {
    "collapsed": false
   },
   "outputs": [
    {
     "data": {
      "text/plain": [
       "{1, 3, 4, 5, 7, 9}"
      ]
     },
     "execution_count": 120,
     "metadata": {},
     "output_type": "execute_result"
    }
   ],
   "source": [
    "## INSTRUCTION SOLUTION(S) ##\n",
    "set1 | set2"
   ]
  },
  {
   "cell_type": "markdown",
   "metadata": {},
   "source": [
    "Problem 4. How do you get rid of all the duplicates in the list below using sets?\n",
    "```python\n",
    "a_list = [3, 4, 6, 3, 4, 7, 8, 8, 10, 437, 'b', 'd', 's', 's']\n",
    "```"
   ]
  },
  {
   "cell_type": "code",
   "execution_count": 121,
   "metadata": {
    "collapsed": true
   },
   "outputs": [],
   "source": [
    "## YOUR CODE GOES HERE ##"
   ]
  },
  {
   "cell_type": "code",
   "execution_count": 122,
   "metadata": {
    "collapsed": false
   },
   "outputs": [
    {
     "data": {
      "text/plain": [
       "{3, 4, 'd', 6, 7, 8, 10, 's', 437, 'b'}"
      ]
     },
     "execution_count": 122,
     "metadata": {},
     "output_type": "execute_result"
    }
   ],
   "source": [
    "## INSTRUCTION SOLUTION(S) ##\n",
    "a_list = [3, 4, 6, 3, 4, 7, 8, 8, 10, 437, 'b', 'd', 's', 's']\n",
    "\n",
    "set(a_list)"
   ]
  },
  {
   "cell_type": "markdown",
   "metadata": {},
   "source": [
    "<hr>\n",
    "<a id='Administrative'></a>\n",
    "## 3.7. Administrative Notes\n",
    "* Save your Lesson 3 .ipynb file to your H drive."
   ]
  },
  {
   "cell_type": "markdown",
   "metadata": {},
   "source": [
    "<b><center>UNCLASSIFIED</center></b>"
   ]
  }
 ],
 "metadata": {
  "anaconda-cloud": {},
  "kernelspec": {
   "display_name": "Python [default]",
   "language": "python",
   "name": "python3"
  },
  "language_info": {
   "codemirror_mode": {
    "name": "ipython",
    "version": 3
   },
   "file_extension": ".py",
   "mimetype": "text/x-python",
   "name": "python",
   "nbconvert_exporter": "python",
   "pygments_lexer": "ipython3",
   "version": "3.5.2"
  }
 },
 "nbformat": 4,
 "nbformat_minor": 1
}
