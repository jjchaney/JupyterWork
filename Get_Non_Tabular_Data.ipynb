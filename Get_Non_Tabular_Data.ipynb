{
 "cells": [
  {
   "cell_type": "markdown",
   "metadata": {},
   "source": [
    "<b><center>UNCLASSIFIED</center></b>"
   ]
  },
  {
   "cell_type": "markdown",
   "metadata": {},
   "source": [
    "<img src=\"./GRAPHICS/Banner.png\" width=\"110%\">"
   ]
  },
  {
   "cell_type": "markdown",
   "metadata": {},
   "source": [
    "# Lesson 7: Getting Non-Tabular Data"
   ]
  },
  {
   "cell_type": "markdown",
   "metadata": {},
   "source": [
    "***\n",
    "\n",
    "## Table of Contents\n",
    "\n",
    "* [7.1. Objectives](#Objectives)<br>\n",
    "* [7.2. Overview](#Overview)<br>\n",
    "* [7.3. Review](#Review)<br>\n",
    "   * [7.3.1. Reading a CSV File](#CSV)<br>\n",
    "   * [7.3.2. Using .DictReader() to Read a CSV File](#DictReader)<br>\n",
    "* [7.4. Lesson: Getting Non-Tabular Data](#Lesson)<br>\n",
    "   * [7.4.1. Dictionaries](#Dictionaries)<br>\n",
    "   * [7.4.2. JavaScript Object Notation (JSON)](#JSON)<br>\n",
    "   * [7.4.2. GeoJSON](#GeoJSON)<br>\n",
    "* [7.5. Guided Exercise: JSON and Dictionaries](#Guided-Exercise)<br>\n",
    "* [7.6. Practical Exercises](#Practical-Exercises)<br>\n",
    "   * [7.6.1. Practical Exercise 1: Read a JSON File](#PE1)<br>\n",
    "   * [7.6.2. Practical Exercise 1: How Many Earthquakes?](#PE2)<br>\n",
    "   * [7.6.3. Practical Exercise 2: Magnitude of the Strongest Earthquake](#PE3)<br>\n",
    "   * [7.6.4. Practical Exercise 3: Strongest Earthquake](#PE4)<br>\n",
    "   * [7.6.5. Practical Exercise 4: Most Recent Earthquake](#PE5)<br>\n",
    "   * [7.6.6. Practical Exercise 5: Write Earthquake Dictionary](#PE6)<br>\n",
    "* [7.7. Administrative Notes](#Administrative)<br>"
   ]
  },
  {
   "cell_type": "markdown",
   "metadata": {},
   "source": [
    "***\n",
    "<a id='Objectives'></a>\n",
    "## 7.1. Objectives\n",
    "Using conditionals, loops, Python dictionaries, local data, the CSV Library, and the Glob Library, students will be able to:\n",
    "\n",
    "* Examine the implications of using computation to solve a problem\n",
    "    * Discuss best practices for using computation to solve a problem\n",
    "    * Suggest types of problems that can be solved through computation\n",
    "    * Show how computation can solve a problem\n",
    "<br><br>    \n",
    "* Recognize key computer science concepts\n",
    "    * Recognize how queries operate\n",
    "<br><br>    \n",
    "* Demonstrate the ability to build basic scripts using Python scripting language\n",
    "    * Use various data types and structures in Python scripting\n",
    "    * Collect data using Python scripting\n",
    "    * Extract data using Python scripting\n",
    "    * Develop advanced data structures using Python scripting"
   ]
  },
  {
   "cell_type": "markdown",
   "metadata": {},
   "source": [
    "*** \n",
    "<a id='Overview'></a>\n",
    "## 7.2. Overview\n",
    "The following lesson is divided into three main parts:\n",
    "* Lesson: Getting Non-Tabular Data\n",
    "* Guided Exercise: JSON and Dictionaries\n",
    "* Practical Exercises"
   ]
  },
  {
   "cell_type": "markdown",
   "metadata": {},
   "source": [
    "<b><font color=\"brick\">Instructor Guidance</font>: Refer back to Lesson 1 and relate the four steps of problem-solving using Computational Thinking (Decomposition, Pattern Recognition, Abstraction, & Algorithm Design) to lessons, exercises, examples, student questions/comments, etc., as appropriate throughout this lesson.</b>"
   ]
  },
  {
   "cell_type": "markdown",
   "metadata": {},
   "source": [
    "<a id='Review'></a>\n",
    "## 7.3. Review\n",
    "<img src=\"./GRAPHICS/csvReader.png\" width=\"35%\">"
   ]
  },
  {
   "cell_type": "markdown",
   "metadata": {},
   "source": [
    "<hr> <a id='CSV'></a>\n",
    "### 7.3.1. Reading a Basic CSV File\n",
    "\n",
    "`csv.reader()` returns an object that can be iterated through to obtain the data in each row of the file. To retain the data, it must be appended to a list. Run the code cells below to import data from a local CSV file. First, we need to import the CSV Library."
   ]
  },
  {
   "cell_type": "code",
   "execution_count": 1,
   "metadata": {
    "collapsed": true
   },
   "outputs": [],
   "source": [
    "import csv"
   ]
  },
  {
   "cell_type": "markdown",
   "metadata": {},
   "source": [
    "Then, we can read in the data."
   ]
  },
  {
   "cell_type": "code",
   "execution_count": 2,
   "metadata": {
    "collapsed": false
   },
   "outputs": [
    {
     "data": {
      "text/plain": [
       "[['Name', 'Weight', 'Diet', 'Average Lifespan'],\n",
       " ['Giraffe', '2600', 'Shrubbery', '25'],\n",
       " ['Moose', '1300', 'Shrubbery', '20'],\n",
       " ['Giant Panda', '220', 'Bamboo', '20'],\n",
       " ['Red Panda', '14', 'Bamboo', '14'],\n",
       " ['Hippopotamus', '3800', 'Grass', '45'],\n",
       " ['Lion', '400', 'Gazelle', '12'],\n",
       " ['Tortoise', '100', 'Grass', '100']]"
      ]
     },
     "execution_count": 2,
     "metadata": {},
     "output_type": "execute_result"
    }
   ],
   "source": [
    "with open('data/animal/animal_info_land.csv') as csvfile:\n",
    "    \n",
    "    animal = csv.reader(csvfile)\n",
    "    \n",
    "    land_animals = []\n",
    "    \n",
    "    for row in animal:\n",
    "        land_animals.append(row)\n",
    "        \n",
    "land_animals"
   ]
  },
  {
   "cell_type": "markdown",
   "metadata": {},
   "source": [
    "1. What is the data type of each row?\n",
    "2. What are all of the data types of the items in each row?\n",
    "3. Does this structure make sense as a way to store information from a file? Why or why not?"
   ]
  },
  {
   "cell_type": "markdown",
   "metadata": {},
   "source": [
    "<hr>\n",
    "#### 7.3.1.1. Writing to a CSV File\n",
    "Writer objects can take data in your script, convert it into a string, and write it to a given file. The `.writer()` method creates a writer object. Using that object, we can call `.writerows()`, which requires a list of lists as an argument."
   ]
  },
  {
   "cell_type": "code",
   "execution_count": 3,
   "metadata": {
    "collapsed": true
   },
   "outputs": [],
   "source": [
    "with open('data/animal/animal_output.csv', mode='w', newline='') as csvfile:\n",
    "    \n",
    "    writer = csv.writer(csvfile)\n",
    "    \n",
    "    writer.writerows(land_animals)"
   ]
  },
  {
   "cell_type": "markdown",
   "metadata": {},
   "source": [
    "Now let's read the file we just wrote to make sure it worked."
   ]
  },
  {
   "cell_type": "code",
   "execution_count": 4,
   "metadata": {
    "collapsed": false
   },
   "outputs": [
    {
     "data": {
      "text/plain": [
       "[['Name', 'Weight', 'Diet', 'Average Lifespan'],\n",
       " ['Giraffe', '2600', 'Shrubbery', '25'],\n",
       " ['Moose', '1300', 'Shrubbery', '20'],\n",
       " ['Giant Panda', '220', 'Bamboo', '20'],\n",
       " ['Red Panda', '14', 'Bamboo', '14'],\n",
       " ['Hippopotamus', '3800', 'Grass', '45'],\n",
       " ['Lion', '400', 'Gazelle', '12'],\n",
       " ['Tortoise', '100', 'Grass', '100']]"
      ]
     },
     "execution_count": 4,
     "metadata": {},
     "output_type": "execute_result"
    }
   ],
   "source": [
    "animals_list = []\n",
    "\n",
    "with open('data/animal/animal_output.csv') as csvfile:\n",
    "    \n",
    "    animal = csv.reader(csvfile)\n",
    "    \n",
    "    for row in animal:\n",
    "        animals_list.append(row)\n",
    "\n",
    "animals_list"
   ]
  },
  {
   "cell_type": "markdown",
   "metadata": {},
   "source": [
    "<hr> <a id='DictReader'></a>\n",
    "### 7.3.2. Using `.DictReader()` to Read a CSV File\n",
    "\n",
    "Another way to interpret CSV data is as a list of dictionaries.\n",
    "\n",
    "`.DictReader()` is similar to `.reader()` in function but it stores the data in a different way. It formats each row as a dictionary, using the first row of data as the keys. To retain the data outside of `csv.DictReader` object, append each dictionary to a list or other data structure for you to manipulate later in the code. Below, we read in the animals dataset as dictionaries."
   ]
  },
  {
   "cell_type": "code",
   "execution_count": 5,
   "metadata": {
    "collapsed": false
   },
   "outputs": [
    {
     "name": "stdout",
     "output_type": "stream",
     "text": [
      "{'Diet': 'Shrubbery', 'Average Lifespan': '25', 'Weight': '2600', 'Name': 'Giraffe'}\n",
      "{'Diet': 'Shrubbery', 'Average Lifespan': '20', 'Weight': '1300', 'Name': 'Moose'}\n",
      "{'Diet': 'Bamboo', 'Average Lifespan': '20', 'Weight': '220', 'Name': 'Giant Panda'}\n",
      "{'Diet': 'Bamboo', 'Average Lifespan': '14', 'Weight': '14', 'Name': 'Red Panda'}\n",
      "{'Diet': 'Grass', 'Average Lifespan': '45', 'Weight': '3800', 'Name': 'Hippopotamus'}\n",
      "{'Diet': 'Gazelle', 'Average Lifespan': '12', 'Weight': '400', 'Name': 'Lion'}\n",
      "{'Diet': 'Grass', 'Average Lifespan': '100', 'Weight': '100', 'Name': 'Tortoise'}\n",
      "\n",
      " <csv.DictReader object at 0x000002E4447AFDD8>\n"
     ]
    }
   ],
   "source": [
    "with open('data/animal/animal_info_land.csv',mode='r') as csvfile:\n",
    "    animal = csv.DictReader(csvfile)\n",
    "    for row in animal:\n",
    "        print(row)\n",
    "print('\\n',animal)"
   ]
  },
  {
   "cell_type": "markdown",
   "metadata": {},
   "source": [
    "The code above prints each dictionary. How should the code be modified to add each row (dictionary) to a list?"
   ]
  },
  {
   "cell_type": "code",
   "execution_count": 6,
   "metadata": {
    "collapsed": false
   },
   "outputs": [
    {
     "data": {
      "text/plain": [
       "[{'Average Lifespan': '25',\n",
       "  'Diet': 'Shrubbery',\n",
       "  'Name': 'Giraffe',\n",
       "  'Weight': '2600'},\n",
       " {'Average Lifespan': '20',\n",
       "  'Diet': 'Shrubbery',\n",
       "  'Name': 'Moose',\n",
       "  'Weight': '1300'},\n",
       " {'Average Lifespan': '20',\n",
       "  'Diet': 'Bamboo',\n",
       "  'Name': 'Giant Panda',\n",
       "  'Weight': '220'},\n",
       " {'Average Lifespan': '14',\n",
       "  'Diet': 'Bamboo',\n",
       "  'Name': 'Red Panda',\n",
       "  'Weight': '14'},\n",
       " {'Average Lifespan': '45',\n",
       "  'Diet': 'Grass',\n",
       "  'Name': 'Hippopotamus',\n",
       "  'Weight': '3800'},\n",
       " {'Average Lifespan': '12',\n",
       "  'Diet': 'Gazelle',\n",
       "  'Name': 'Lion',\n",
       "  'Weight': '400'},\n",
       " {'Average Lifespan': '100',\n",
       "  'Diet': 'Grass',\n",
       "  'Name': 'Tortoise',\n",
       "  'Weight': '100'}]"
      ]
     },
     "execution_count": 6,
     "metadata": {},
     "output_type": "execute_result"
    }
   ],
   "source": [
    "dict_land_animals = []\n",
    "\n",
    "with open('data/animal/animal_info_land.csv') as csvfile:\n",
    "    \n",
    "    animal = csv.DictReader(csvfile)\n",
    "    \n",
    "    for row in animal:\n",
    "        dict_land_animals.append(row)\n",
    "\n",
    "dict_land_animals"
   ]
  },
  {
   "cell_type": "markdown",
   "metadata": {},
   "source": [
    "Now we can access the information by label instead of index position. Below, we iterate through the list of dictionaries we just created and print out the values in the `Name` and `Weight` columns."
   ]
  },
  {
   "cell_type": "code",
   "execution_count": 7,
   "metadata": {
    "collapsed": false
   },
   "outputs": [
    {
     "name": "stdout",
     "output_type": "stream",
     "text": [
      "Giraffe 2600\n",
      "Moose 1300\n",
      "Giant Panda 220\n",
      "Red Panda 14\n",
      "Hippopotamus 3800\n",
      "Lion 400\n",
      "Tortoise 100\n"
     ]
    }
   ],
   "source": [
    "for animal in dict_land_animals:\n",
    "    \n",
    "    print(animal['Name'], animal['Weight'])"
   ]
  },
  {
   "cell_type": "markdown",
   "metadata": {},
   "source": [
    "<hr>\n",
    "#### 7.3.2.1. Using `.DictWriter()` to Write to a CSV File\n",
    "\n",
    "Writer objects can take data, convert it into a string, and write it to a given file. `csv.DictWriter()` is similar in behavior to `csv.writer()`, but takes a list of dictionaries as input rather than a list of lists. You must also pass the `fieldnames` argument, a list of strings matching the column headers of your table.\n",
    "\n",
    "```python\n",
    "csv.DictWriter(csvfile, fieldnames)\n",
    "```\n",
    "\n",
    "Let's add a new row of data to `dict_land_animals`."
   ]
  },
  {
   "cell_type": "code",
   "execution_count": 8,
   "metadata": {
    "collapsed": false
   },
   "outputs": [
    {
     "data": {
      "text/plain": [
       "[{'Average Lifespan': '25',\n",
       "  'Diet': 'Shrubbery',\n",
       "  'Name': 'Giraffe',\n",
       "  'Weight': '2600'},\n",
       " {'Average Lifespan': '20',\n",
       "  'Diet': 'Shrubbery',\n",
       "  'Name': 'Moose',\n",
       "  'Weight': '1300'},\n",
       " {'Average Lifespan': '20',\n",
       "  'Diet': 'Bamboo',\n",
       "  'Name': 'Giant Panda',\n",
       "  'Weight': '220'},\n",
       " {'Average Lifespan': '14',\n",
       "  'Diet': 'Bamboo',\n",
       "  'Name': 'Red Panda',\n",
       "  'Weight': '14'},\n",
       " {'Average Lifespan': '45',\n",
       "  'Diet': 'Grass',\n",
       "  'Name': 'Hippopotamus',\n",
       "  'Weight': '3800'},\n",
       " {'Average Lifespan': '12',\n",
       "  'Diet': 'Gazelle',\n",
       "  'Name': 'Lion',\n",
       "  'Weight': '400'},\n",
       " {'Average Lifespan': '100',\n",
       "  'Diet': 'Grass',\n",
       "  'Name': 'Tortoise',\n",
       "  'Weight': '100'},\n",
       " {'Average Lifespan': 10,\n",
       "  'Diet': 'Deer, Gazelle',\n",
       "  'Name': 'Tiger',\n",
       "  'Weight': 450}]"
      ]
     },
     "execution_count": 8,
     "metadata": {},
     "output_type": "execute_result"
    }
   ],
   "source": [
    "tiger_data = {'Name': 'Tiger', 'Diet': 'Deer, Gazelle', 'Average Lifespan': 10, 'Weight': 450}\n",
    "\n",
    "dict_land_animals.append(tiger_data)\n",
    "dict_land_animals"
   ]
  },
  {
   "cell_type": "code",
   "execution_count": 9,
   "metadata": {
    "collapsed": true
   },
   "outputs": [],
   "source": [
    "with open('data/animal/animal_dict_output.csv', mode='w', newline='') as csvfile:\n",
    "    \n",
    "    writer = csv.DictWriter(csvfile, fieldnames=dict_land_animals[0].keys())\n",
    "    \n",
    "    writer.writeheader()\n",
    "    \n",
    "    writer.writerows(dict_land_animals)"
   ]
  },
  {
   "cell_type": "markdown",
   "metadata": {},
   "source": [
    "Read the data back in to make sure it worked."
   ]
  },
  {
   "cell_type": "code",
   "execution_count": 10,
   "metadata": {
    "collapsed": false
   },
   "outputs": [
    {
     "data": {
      "text/plain": [
       "[{'Average Lifespan': '25',\n",
       "  'Diet': 'Shrubbery',\n",
       "  'Name': 'Giraffe',\n",
       "  'Weight': '2600'},\n",
       " {'Average Lifespan': '20',\n",
       "  'Diet': 'Shrubbery',\n",
       "  'Name': 'Moose',\n",
       "  'Weight': '1300'},\n",
       " {'Average Lifespan': '20',\n",
       "  'Diet': 'Bamboo',\n",
       "  'Name': 'Giant Panda',\n",
       "  'Weight': '220'},\n",
       " {'Average Lifespan': '14',\n",
       "  'Diet': 'Bamboo',\n",
       "  'Name': 'Red Panda',\n",
       "  'Weight': '14'},\n",
       " {'Average Lifespan': '45',\n",
       "  'Diet': 'Grass',\n",
       "  'Name': 'Hippopotamus',\n",
       "  'Weight': '3800'},\n",
       " {'Average Lifespan': '12',\n",
       "  'Diet': 'Gazelle',\n",
       "  'Name': 'Lion',\n",
       "  'Weight': '400'},\n",
       " {'Average Lifespan': '100',\n",
       "  'Diet': 'Grass',\n",
       "  'Name': 'Tortoise',\n",
       "  'Weight': '100'},\n",
       " {'Average Lifespan': '10',\n",
       "  'Diet': 'Deer, Gazelle',\n",
       "  'Name': 'Tiger',\n",
       "  'Weight': '450'}]"
      ]
     },
     "execution_count": 10,
     "metadata": {},
     "output_type": "execute_result"
    }
   ],
   "source": [
    "animals = []\n",
    "\n",
    "with open('data/animal/animal_dict_output.csv') as csvfile:\n",
    "    \n",
    "    animal = csv.DictReader(csvfile)\n",
    "    \n",
    "    for row in animal:\n",
    "        animals.append(row)\n",
    "\n",
    "animals"
   ]
  },
  {
   "cell_type": "markdown",
   "metadata": {},
   "source": [
    "<hr>\n",
    "<a id='Lesson'></a>\n",
    "## 7.4. Lesson: Getting Non-Tabular Data "
   ]
  },
  {
   "cell_type": "markdown",
   "metadata": {},
   "source": [
    "<hr> <a id='Dictionaries'></a>\n",
    "### 7.4.1. Dictionaries\n",
    "A driver's license is a great example of a common object in our daily lives that uses key-value pairs. Each data point is linked to a key that describes what it is. \n",
    "\n",
    "<img src=\"./GRAPHICS/DriversLicense.png\" width=\"35%\"><br>\n",
    "\n",
    "For practice, we are going to capture data from the Driver's License as a dictionary. To create a dictionary from scratch, wrap a set of key-value pairs in curly brackets (`{}`)."
   ]
  },
  {
   "cell_type": "code",
   "execution_count": 11,
   "metadata": {
    "collapsed": false
   },
   "outputs": [
    {
     "data": {
      "text/plain": [
       "{'CLASS': 3,\n",
       " 'CTY': 'O',\n",
       " 'DOB': '06/03/1981',\n",
       " 'EXP': '06/03/2008',\n",
       " 'EYES': 'BRO',\n",
       " 'HAIR': 'BRO',\n",
       " 'HT': '5-10',\n",
       " 'ISSUE DATE': '06/18/1998',\n",
       " 'SEX': 'M',\n",
       " 'WT': 150}"
      ]
     },
     "execution_count": 11,
     "metadata": {},
     "output_type": "execute_result"
    }
   ],
   "source": [
    "mclovin = {'DOB': '06/03/1981',\n",
    "           'EXP': '06/03/2008',\n",
    "           'HT': '5-10',\n",
    "           'WT': 150,\n",
    "           'HAIR': 'BRO',\n",
    "           'EYES': 'BRO',\n",
    "           'SEX': 'M',\n",
    "           'CTY': 'O',\n",
    "           'ISSUE DATE': '06/18/1998',\n",
    "           'CLASS': 3}\n",
    "\n",
    "mclovin"
   ]
  },
  {
   "cell_type": "markdown",
   "metadata": {},
   "source": [
    "If you are ever unsure of an object's data type, use the `type()` function."
   ]
  },
  {
   "cell_type": "code",
   "execution_count": 12,
   "metadata": {
    "collapsed": false
   },
   "outputs": [
    {
     "data": {
      "text/plain": [
       "dict"
      ]
     },
     "execution_count": 12,
     "metadata": {},
     "output_type": "execute_result"
    }
   ],
   "source": [
    "type(mclovin)"
   ]
  },
  {
   "cell_type": "markdown",
   "metadata": {},
   "source": [
    "Python dictionaries have several special methods. How would we find the keys in `mclovin`?"
   ]
  },
  {
   "cell_type": "code",
   "execution_count": 13,
   "metadata": {
    "collapsed": false
   },
   "outputs": [
    {
     "data": {
      "text/plain": [
       "dict_keys(['HT', 'EYES', 'DOB', 'HAIR', 'WT', 'SEX', 'EXP', 'CLASS', 'ISSUE DATE', 'CTY'])"
      ]
     },
     "execution_count": 13,
     "metadata": {},
     "output_type": "execute_result"
    }
   ],
   "source": [
    "mclovin.keys()"
   ]
  },
  {
   "cell_type": "markdown",
   "metadata": {},
   "source": [
    "We access data inside dictionaries using bracket notation. Inside the brackets we write the key of the item we want to retrieve. But if we try to access a key the dictionary doesn't have, we'll get an error."
   ]
  },
  {
   "cell_type": "code",
   "execution_count": 14,
   "metadata": {
    "collapsed": false,
    "scrolled": true
   },
   "outputs": [
    {
     "ename": "KeyError",
     "evalue": "'DONOR'",
     "output_type": "error",
     "traceback": [
      "\u001b[0;31m---------------------------------------------------------------------------\u001b[0m",
      "\u001b[0;31mKeyError\u001b[0m                                  Traceback (most recent call last)",
      "\u001b[0;32m<ipython-input-14-2cd8dee84d4d>\u001b[0m in \u001b[0;36m<module>\u001b[0;34m()\u001b[0m\n\u001b[0;32m----> 1\u001b[0;31m \u001b[0mmclovin\u001b[0m\u001b[1;33m[\u001b[0m\u001b[1;34m'DONOR'\u001b[0m\u001b[1;33m]\u001b[0m\u001b[1;33m\u001b[0m\u001b[0m\n\u001b[0m",
      "\u001b[0;31mKeyError\u001b[0m: 'DONOR'"
     ]
    }
   ],
   "source": [
    "mclovin['DONOR']"
   ]
  },
  {
   "cell_type": "markdown",
   "metadata": {},
   "source": [
    "To prevent errors from halting your code, you can use an `if` block to only access a key if you can first find it in the dictionary."
   ]
  },
  {
   "cell_type": "code",
   "execution_count": 15,
   "metadata": {
    "collapsed": false
   },
   "outputs": [
    {
     "name": "stdout",
     "output_type": "stream",
     "text": [
      "McLovin's donor status is not on his license. Moving on...\n"
     ]
    }
   ],
   "source": [
    "if 'DONOR' in mclovin.keys():\n",
    "    print(mclovin['DONOR'])\n",
    "    \n",
    "else:\n",
    "    print(\"McLovin's donor status is not on his license. Moving on...\")"
   ]
  },
  {
   "cell_type": "markdown",
   "metadata": {},
   "source": [
    "`.keys()` is also useful for getting a better understanding of your data. When we receive a new, unfamiliar dataset, we can use this method to get a preview of what our dictionary holds."
   ]
  },
  {
   "cell_type": "code",
   "execution_count": 16,
   "metadata": {
    "collapsed": false
   },
   "outputs": [
    {
     "data": {
      "text/plain": [
       "dict_keys(['HT', 'EYES', 'DOB', 'HAIR', 'WT', 'SEX', 'EXP', 'CLASS', 'ISSUE DATE', 'CTY'])"
      ]
     },
     "execution_count": 16,
     "metadata": {},
     "output_type": "execute_result"
    }
   ],
   "source": [
    "mclovin.keys()"
   ]
  },
  {
   "cell_type": "markdown",
   "metadata": {},
   "source": [
    "If we did not know ahead of time that we were dealing with a driver's license, we could look at this list of keys and infer get a clue as to what the data is about. We will spend more time diving into data later today and throughout the remainder of this course.\n",
    "\n",
    "You can use a similar method for retrieving the values in a dictionary. Like `.keys()`, `.values()` returns a list-like object, which we can perform membership tests on and iterate over using `for` loops."
   ]
  },
  {
   "cell_type": "code",
   "execution_count": 17,
   "metadata": {
    "collapsed": false
   },
   "outputs": [
    {
     "data": {
      "text/plain": [
       "dict_values(['5-10', 'BRO', '06/03/1981', 'BRO', 150, 'M', '06/03/2008', 3, '06/18/1998', 'O'])"
      ]
     },
     "execution_count": 17,
     "metadata": {},
     "output_type": "execute_result"
    }
   ],
   "source": [
    "mclovin.values()"
   ]
  },
  {
   "cell_type": "markdown",
   "metadata": {},
   "source": [
    "Although the `.values()` function is used less frequently than the `.keys()` function, it can still be a very useful function in that it helps us quickly acquire information about a dictionary if it contains data of the same type. A good example of this would be a dictionary that contains only numerical data."
   ]
  },
  {
   "cell_type": "code",
   "execution_count": 18,
   "metadata": {
    "collapsed": false
   },
   "outputs": [
    {
     "data": {
      "text/plain": [
       "dict_values([18, 18, 2, 20, 14, 17, 13, 18, 21, 15, 2, 9, 7, 12, 16])"
      ]
     },
     "execution_count": 18,
     "metadata": {},
     "output_type": "execute_result"
    }
   ],
   "source": [
    "apples = {'A': 14,\n",
    "          'B': 18,\n",
    "          'C': 2,\n",
    "          'D': 17,\n",
    "          'E': 12,\n",
    "          'F': 18,\n",
    "          'G': 16,\n",
    "          'H': 9,\n",
    "          'I': 7,\n",
    "          'J': 2,\n",
    "          'K': 18,\n",
    "          'L': 20,\n",
    "          'M': 13,\n",
    "          'N': 15,\n",
    "          'O': 21}\n",
    "\n",
    "apples.values()"
   ]
  },
  {
   "cell_type": "markdown",
   "metadata": {},
   "source": [
    "Isolating the values allows us to perform operations that we would be able to do on a dictionary. In this case, we can find the maximum or minimum of our dictionary's values."
   ]
  },
  {
   "cell_type": "code",
   "execution_count": 19,
   "metadata": {
    "collapsed": false
   },
   "outputs": [
    {
     "data": {
      "text/plain": [
       "21"
      ]
     },
     "execution_count": 19,
     "metadata": {},
     "output_type": "execute_result"
    }
   ],
   "source": [
    "max(apples.values())"
   ]
  },
  {
   "cell_type": "code",
   "execution_count": 20,
   "metadata": {
    "collapsed": false
   },
   "outputs": [
    {
     "data": {
      "text/plain": [
       "2"
      ]
     },
     "execution_count": 20,
     "metadata": {},
     "output_type": "execute_result"
    }
   ],
   "source": [
    "min(apples.values())"
   ]
  },
  {
   "cell_type": "markdown",
   "metadata": {},
   "source": [
    "We can also use the `.items()` method to retrieve both the keys and values from a dictionary as a list of tuples."
   ]
  },
  {
   "cell_type": "code",
   "execution_count": 21,
   "metadata": {
    "collapsed": false
   },
   "outputs": [
    {
     "data": {
      "text/plain": [
       "dict_items([('HT', '5-10'), ('EYES', 'BRO'), ('DOB', '06/03/1981'), ('HAIR', 'BRO'), ('WT', 150), ('SEX', 'M'), ('EXP', '06/03/2008'), ('CLASS', 3), ('ISSUE DATE', '06/18/1998'), ('CTY', 'O')])"
      ]
     },
     "execution_count": 21,
     "metadata": {},
     "output_type": "execute_result"
    }
   ],
   "source": [
    "mclovin.items()"
   ]
  },
  {
   "cell_type": "markdown",
   "metadata": {},
   "source": [
    "`.items()` is typically used in conjunction with <font color=green><b>for</b></font> loops to iterate over dictionaries and perform some action."
   ]
  },
  {
   "cell_type": "code",
   "execution_count": 22,
   "metadata": {
    "collapsed": false
   },
   "outputs": [
    {
     "name": "stdout",
     "output_type": "stream",
     "text": [
      "HT ==> 5-10\n",
      "EYES ==> BRO\n",
      "DOB ==> 06/03/1981\n",
      "HAIR ==> BRO\n",
      "WT ==> 150\n",
      "SEX ==> M\n",
      "EXP ==> 06/03/2008\n",
      "CLASS ==> 3\n",
      "ISSUE DATE ==> 06/18/1998\n",
      "CTY ==> O\n"
     ]
    }
   ],
   "source": [
    "for key, value in mclovin.items():\n",
    "    \n",
    "    print(key, '==>', value)"
   ]
  },
  {
   "cell_type": "markdown",
   "metadata": {},
   "source": [
    "The for loop above uses multiple assignment to assign the key and value to separate variables."
   ]
  },
  {
   "cell_type": "markdown",
   "metadata": {},
   "source": [
    "#### 7.4.1.1 Nested Dictionaries\n",
    "\n",
    "So far, all our dictionaries' values have been individual pieces of data, like strings or integers. However, values can be any data type or data structure. \n",
    "\n",
    "Here's McLovin's driver's license structured a little differently:"
   ]
  },
  {
   "cell_type": "code",
   "execution_count": 23,
   "metadata": {
    "collapsed": true
   },
   "outputs": [],
   "source": [
    "mclovin_nested = {'ADDRESS': {'CITY': 'HONOLULU', 'STREET': '892 MOMONA ST', 'ZIP': '96820'},\n",
    "                  'DRIVER': {'DOB': '06/03/1981',\n",
    "                             'EYES': 'BRO',\n",
    "                             'HAIR': 'BRO',\n",
    "                             'HT': '5-10',\n",
    "                             'NAME': 'McLOVIN',\n",
    "                             'SEX': 'M',\n",
    "                             'WT': 150},\n",
    "                  'LICENSE': [['ISSUE DATE', '06/18/1998'],\n",
    "                              ['EXP', '06/03/2008'],\n",
    "                              ['CLASS', 3],\n",
    "                              ['RESTR', ''],\n",
    "                              ['ENDORSE', ''],\n",
    "                              ['ISSUING STATE', 'Hawaii'],\n",
    "                              ['NUMBER', '01-47-87441'],\n",
    "                              ['CTY', 'O']]\n",
    "                  }"
   ]
  },
  {
   "cell_type": "markdown",
   "metadata": {},
   "source": [
    "How many key-value pairs does the above dictionary have? We can find out using the `len()` function."
   ]
  },
  {
   "cell_type": "code",
   "execution_count": 24,
   "metadata": {
    "collapsed": false
   },
   "outputs": [
    {
     "data": {
      "text/plain": [
       "3"
      ]
     },
     "execution_count": 24,
     "metadata": {},
     "output_type": "execute_result"
    }
   ],
   "source": [
    "len(mclovin_nested)"
   ]
  },
  {
   "cell_type": "markdown",
   "metadata": {},
   "source": [
    "What is an advantage of using nested data structures? While they are slightly more complicated to build, nested dictionaries can organize our information better. Nested dictionaries are great at capturing hierarchical data, where there are multiple tiers of classification. Above, we pooled the driver's license data into three subgroups. Thus we have three top-level keys in our dictionary. Each key, however, holds another structure rather than a single value.\n",
    "\n",
    "Large dictionaries are not very readable when printed to the screen."
   ]
  },
  {
   "cell_type": "code",
   "execution_count": 25,
   "metadata": {
    "collapsed": false
   },
   "outputs": [
    {
     "name": "stdout",
     "output_type": "stream",
     "text": [
      "{'LICENSE': [['ISSUE DATE', '06/18/1998'], ['EXP', '06/03/2008'], ['CLASS', 3], ['RESTR', ''], ['ENDORSE', ''], ['ISSUING STATE', 'Hawaii'], ['NUMBER', '01-47-87441'], ['CTY', 'O']], 'ADDRESS': {'STREET': '892 MOMONA ST', 'CITY': 'HONOLULU', 'ZIP': '96820'}, 'DRIVER': {'HT': '5-10', 'EYES': 'BRO', 'DOB': '06/03/1981', 'NAME': 'McLOVIN', 'WT': 150, 'HAIR': 'BRO', 'SEX': 'M'}}\n"
     ]
    }
   ],
   "source": [
    "print(mclovin_nested)"
   ]
  },
  {
   "cell_type": "markdown",
   "metadata": {},
   "source": [
    "A common workaround for this is to use the Pretty Print Library. This library's `pprint` function indents our data so that it is easier to read."
   ]
  },
  {
   "cell_type": "code",
   "execution_count": 26,
   "metadata": {
    "collapsed": true
   },
   "outputs": [],
   "source": [
    "import pprint"
   ]
  },
  {
   "cell_type": "markdown",
   "metadata": {},
   "source": [
    "`pprint` is the name of both the library and the method, so you we need to call it as we do below. This is similar to `glob.glob()`."
   ]
  },
  {
   "cell_type": "code",
   "execution_count": 27,
   "metadata": {
    "collapsed": false
   },
   "outputs": [
    {
     "name": "stdout",
     "output_type": "stream",
     "text": [
      "{'ADDRESS': {'CITY': 'HONOLULU', 'STREET': '892 MOMONA ST', 'ZIP': '96820'},\n",
      " 'DRIVER': {'DOB': '06/03/1981',\n",
      "            'EYES': 'BRO',\n",
      "            'HAIR': 'BRO',\n",
      "            'HT': '5-10',\n",
      "            'NAME': 'McLOVIN',\n",
      "            'SEX': 'M',\n",
      "            'WT': 150},\n",
      " 'LICENSE': [['ISSUE DATE', '06/18/1998'],\n",
      "             ['EXP', '06/03/2008'],\n",
      "             ['CLASS', 3],\n",
      "             ['RESTR', ''],\n",
      "             ['ENDORSE', ''],\n",
      "             ['ISSUING STATE', 'Hawaii'],\n",
      "             ['NUMBER', '01-47-87441'],\n",
      "             ['CTY', 'O']]}\n"
     ]
    }
   ],
   "source": [
    "pprint.pprint(mclovin_nested)"
   ]
  },
  {
   "cell_type": "markdown",
   "metadata": {},
   "source": [
    "<hr> <a id='JSON'></a>\n",
    "### 7.4.2. JavaScript Object Notation (JSON)\n",
    "<hr>\n",
    "<a id='JSONReferences'></a>\n",
    "#### References:</b>\n",
    "* [Python 3.4: JSON Library](https://docs.python.org/3.4/library/json.html)\n",
    "* [JSON.org: Introducing JSON](http://json.org/)\n",
    "* [The Hitchhiker's Guide to JSON](http://docs.python-guide.org/en/latest/scenarios/json/)\n",
    "\n",
    "<hr>\n",
    "\n",
    "#### 7.4.2.1. Introducing JSON\n",
    "\n",
    "JSON is a lightweight, language-independent data format that is:\n",
    "* Easy for humans to read and write\n",
    "* Easy for machines to parse and generate\n",
    "\n",
    "JSON is easy for people to read and write because it requires less complicated syntax than other formats. Yet it is structured in a particular way, allowing computers to parse it reliably.\n",
    "\n",
    "Given its roots in JavaScript, JSON has slightly different data types than Python. However, Python data structures are modeled after JSON and so they share a very similar syntax."
   ]
  },
  {
   "cell_type": "markdown",
   "metadata": {},
   "source": [
    "***\n",
    "#### 7.4.2.2. JSON Basic Data Types\n",
    "\n",
    "| Data Type | Description                                                                                 |\n",
    "|:---------:|---------------------------------------------------------------------------------------------|\n",
    "|Number| A signed decimal number that may contain a fractional part and may use exponential E notation, <br>but cannot include non-numbers like `NaN`. The format makes no distinction between integer and floating-point.  |\n",
    "|String| A sequence of zero or more Unicode characters. Strings are delimited with double quotes and <br>support a backslash escaping syntax. |\n",
    "|Boolean| Either of the values `true` or `false` |\n",
    "|Array| An ordered list of zero or more values, each of which may be of any type. Arrays use square bracket <br>notation with elements being comma-separated. |\n",
    "|Object| An unordered collection of name/value pairs where the names (also called keys) are strings. Objects <br>are delimited with curly brackets and use commas to separate each pair, while within each pair the colon `:` <br>character separates the key or name from its value. |\n",
    "|null| An empty value, using the word `null`. |"
   ]
  },
  {
   "cell_type": "markdown",
   "metadata": {},
   "source": [
    "***\n",
    "#### 7.4.2.3. Comparing JSON Strings and Python Dictionaries \n",
    "In order to grasp these differences, let's compare a JSON string with a Python dictionary equivalent of the given JSON string.\n",
    "\n",
    "JSON String Example:\n",
    "```python\n",
    "\"\"\"\n",
    "{\n",
    "    \"FirstName\": \"John\",\n",
    "    \"LastName\": \"Brown\",\n",
    "    \"StudentNumber\": \"123456\",\n",
    "    \"Registered\": true,\n",
    "    \"CoursesTaken\": [\"Computer Science\", \"Networks\", \"Python\"],\n",
    "    \"Personal\": {\"Height\": \"6ft\", \"Weight\": \"180lb\", \"HairColor\": \"black\"},\n",
    "    \"Others\": null\n",
    "}\n",
    "\"\"\"\n",
    "```\n",
    "\n",
    "Python Dictionary Example:\n",
    "```python\n",
    "{\n",
    "    'FirstName':'John', \n",
    "    'LastName':'Brown', \n",
    "    'StudentNumber':'123456', \n",
    "    'Registered': True, \n",
    "    'CoursesTaken':['Computer Science', 'Networks','Python'],\n",
    "    'Personal':{'Height': '6ft', 'Weight': '180lb', 'HairColor':'black'}, \n",
    "    'Others': None\n",
    "}\n",
    "\n",
    "```\n",
    "While these data types are similar, they are not quite identical. JSON strings and Python dictionaries share a number of similarities and differences:"
   ]
  },
  {
   "cell_type": "markdown",
   "metadata": {},
   "source": [
    "| Characteristic |JSON   | Python Dictionaries    |\n",
    "| :----| :-----:|:----------------:|\n",
    "| Uses key-value pairs to store data| ✔️ | ✔️|\n",
    "| Can be complex in nature (nested) | ✔️ | ✔️|\n",
    "| Order matters when comparing      | ✔️ | ✖️|\n",
    "| Stored in memory as               |String| Dictionary|\n",
    "| Strings wrapped in                |Double Quotes | Single or Double Quotes|\n",
    "| Keyword for \"nothingness\"         |`null`|`None`|\n"
   ]
  },
  {
   "cell_type": "markdown",
   "metadata": {},
   "source": [
    "Because Python and JSON share a similar structure, we can easily convert data back and forth between Python data structures and JSON-fomatted strings. Lets quickly go over the JSON Library."
   ]
  },
  {
   "cell_type": "markdown",
   "metadata": {},
   "source": [
    "***\n",
    "#### 7.4.2.4. Converting a JSON-Formatted String or file into a Dictionary\n",
    "To convert a JSON-formatted string or file into a Python data structure use the following:\n",
    "```python    \n",
    "json.loads(json_formatted_string)    ## Converts a JSON string to a Python dictionary ##\n",
    "\n",
    "json.load(file_obj_with_json)        ## Converts a JSON file to a Python dictionary ##\n",
    "```\n",
    "To convert a Python data structure into a JSON-formatted string or file use the following:\n",
    "```python\n",
    "json.dumps(my_dictionary)            ## Converts a Python dictionary to a JSON string ##\n",
    "\n",
    "json.dump(my_dictionary, file_obj)   ## Converts a Python dictionary to a JSON file ##\n",
    "```\n",
    "\n",
    "NOTE: `json.loads()` and `json.dumps()` are inverse functions, and `json.load()` and `json.dump()` are inverse functions. Using `json.load()` and `json.dump()` turns a three step process (1. Open file; 2. Read string; 3. Convert string to dictionary) to a two step process (1. Open file; 2. Load dictionary). Of course, you're free to use which ever method you prefer in your own scripts. "
   ]
  },
  {
   "cell_type": "markdown",
   "metadata": {},
   "source": [
    "<img src=\"./GRAPHICS/JSON.png\" width=\"45%\">"
   ]
  },
  {
   "cell_type": "markdown",
   "metadata": {},
   "source": [
    "For additional details about the JSON Library, check out some of these [references](#JSONReferences). In the code cell below, let's output `mclovin` to remind ourselves what it looks like."
   ]
  },
  {
   "cell_type": "code",
   "execution_count": 28,
   "metadata": {
    "collapsed": false
   },
   "outputs": [
    {
     "data": {
      "text/plain": [
       "{'CLASS': 3,\n",
       " 'CTY': 'O',\n",
       " 'DOB': '06/03/1981',\n",
       " 'EXP': '06/03/2008',\n",
       " 'EYES': 'BRO',\n",
       " 'HAIR': 'BRO',\n",
       " 'HT': '5-10',\n",
       " 'ISSUE DATE': '06/18/1998',\n",
       " 'SEX': 'M',\n",
       " 'WT': 150}"
      ]
     },
     "execution_count": 28,
     "metadata": {},
     "output_type": "execute_result"
    }
   ],
   "source": [
    "mclovin"
   ]
  },
  {
   "cell_type": "markdown",
   "metadata": {},
   "source": [
    "Now let's convert `mclovin` into a JSON-formatted string and print the output. But first we need to import the JSON Library."
   ]
  },
  {
   "cell_type": "code",
   "execution_count": 29,
   "metadata": {
    "collapsed": true
   },
   "outputs": [],
   "source": [
    "import json"
   ]
  },
  {
   "cell_type": "markdown",
   "metadata": {},
   "source": [
    "We use `.dumps()` to convert the `mclovin` dictionary into a string. Can you see the differences and similarities between the two outputs?"
   ]
  },
  {
   "cell_type": "code",
   "execution_count": 30,
   "metadata": {
    "collapsed": false
   },
   "outputs": [
    {
     "data": {
      "text/plain": [
       "'{\"HT\": \"5-10\", \"EYES\": \"BRO\", \"DOB\": \"06/03/1981\", \"HAIR\": \"BRO\", \"WT\": 150, \"SEX\": \"M\", \"EXP\": \"06/03/2008\", \"CLASS\": 3, \"ISSUE DATE\": \"06/18/1998\", \"CTY\": \"O\"}'"
      ]
     },
     "execution_count": 30,
     "metadata": {},
     "output_type": "execute_result"
    }
   ],
   "source": [
    "mclovin_string = json.dumps(mclovin)\n",
    "mclovin_string"
   ]
  },
  {
   "cell_type": "markdown",
   "metadata": {
    "collapsed": true
   },
   "source": [
    "We just converted a Python dictionary to a JSON-formatted string.  How would we do the opposite? Use the `.loads()` method."
   ]
  },
  {
   "cell_type": "code",
   "execution_count": 31,
   "metadata": {
    "collapsed": false,
    "scrolled": true
   },
   "outputs": [
    {
     "data": {
      "text/plain": [
       "{'CLASS': 3,\n",
       " 'CTY': 'O',\n",
       " 'DOB': '06/03/1981',\n",
       " 'EXP': '06/03/2008',\n",
       " 'EYES': 'BRO',\n",
       " 'HAIR': 'BRO',\n",
       " 'HT': '5-10',\n",
       " 'ISSUE DATE': '06/18/1998',\n",
       " 'SEX': 'M',\n",
       " 'WT': 150}"
      ]
     },
     "execution_count": 31,
     "metadata": {},
     "output_type": "execute_result"
    }
   ],
   "source": [
    "json_final_dict = json.loads(mclovin_string)\n",
    "json_final_dict"
   ]
  },
  {
   "cell_type": "markdown",
   "metadata": {},
   "source": [
    "To convert a python dictionary into a JSON-formatted file, that is a text file that contains a JSON-formatted string, use `json.dump()`. It takes two arguments, so when you use it it will look something like this:\n",
    "\n",
    "```python\n",
    "json.dump(my_dict, file_obj)\n",
    "```\n",
    "Arguments:\n",
    "* `my_dict` can be any Python dictionary\n",
    "* `file_obj` can be any file open in `'w'` mode\n",
    "\n",
    "Most commonly, we'll use the `with open()` syntax to create a file object to write to. Let's create a new dictionary to write to a file as a JSON string."
   ]
  },
  {
   "cell_type": "code",
   "execution_count": 32,
   "metadata": {
    "collapsed": true
   },
   "outputs": [],
   "source": [
    "employees = {'0001': {'name': 'Ludovicus', 'tenure': 7, 'title': 'manager'},\n",
    "             '0002': {'name': 'Emeric', 'tenure': 2, 'title': 'associate'},\n",
    "             '0003': {'name': 'Anacletus', 'tenure': 10, 'title': 'senior manager'},\n",
    "             '0004': {'name': 'Omondi', 'tenure': 5, 'title': 'senior associate'},\n",
    "             '0005': {'name': 'Augustina', 'tenure': 8, 'title': 'manager'},\n",
    "             '0006': {'name': 'Cassia', 'tenure': 1, 'title': 'intern'},\n",
    "             '0007': {'name': 'Murna', 'tenure': 14, 'title': 'vice president'}\n",
    "            }"
   ]
  },
  {
   "cell_type": "markdown",
   "metadata": {},
   "source": [
    "With this data stored in memory as a dictionary, we can write it to a file with `.dump()`."
   ]
  },
  {
   "cell_type": "code",
   "execution_count": 33,
   "metadata": {
    "collapsed": true
   },
   "outputs": [],
   "source": [
    "with open('employee_file.json', 'w') as f:\n",
    "    json.dump(employees, f)"
   ]
  },
  {
   "cell_type": "markdown",
   "metadata": {},
   "source": [
    "To do the opposite, and convert a JSON-formatted file into a python dictionary, use `.load()`. This is also used most commonly in a `with open()` block as follows. Below we load the data we just wrote to a file back into memory, converting it on the fly from a JSON string to a Python dictionary."
   ]
  },
  {
   "cell_type": "code",
   "execution_count": 34,
   "metadata": {
    "collapsed": true
   },
   "outputs": [],
   "source": [
    "with open('employee_file.json') as f:\n",
    "    new_dict = json.load(f)"
   ]
  },
  {
   "cell_type": "markdown",
   "metadata": {},
   "source": [
    "Let's inspect our data structure to make sure it worked."
   ]
  },
  {
   "cell_type": "code",
   "execution_count": 35,
   "metadata": {
    "collapsed": false
   },
   "outputs": [
    {
     "data": {
      "text/plain": [
       "{'0001': {'name': 'Ludovicus', 'tenure': 7, 'title': 'manager'},\n",
       " '0002': {'name': 'Emeric', 'tenure': 2, 'title': 'associate'},\n",
       " '0003': {'name': 'Anacletus', 'tenure': 10, 'title': 'senior manager'},\n",
       " '0004': {'name': 'Omondi', 'tenure': 5, 'title': 'senior associate'},\n",
       " '0005': {'name': 'Augustina', 'tenure': 8, 'title': 'manager'},\n",
       " '0006': {'name': 'Cassia', 'tenure': 1, 'title': 'intern'},\n",
       " '0007': {'name': 'Murna', 'tenure': 14, 'title': 'vice president'}}"
      ]
     },
     "execution_count": 35,
     "metadata": {},
     "output_type": "execute_result"
    }
   ],
   "source": [
    "new_dict"
   ]
  },
  {
   "cell_type": "markdown",
   "metadata": {},
   "source": [
    "With the four methods we just introduced, `.dumps()`, `.loads()`, `.dump()`, and `.load()`, you have the ability to read and write JSON-formatted data from and to files. This is a great way to share data among and across teams, as many technologies and coding languages have built-in functionality for interpreting JSON."
   ]
  },
  {
   "cell_type": "markdown",
   "metadata": {},
   "source": [
    "<hr> <a id='GeoJSON'></a>\n",
    "### 7.4.3. GeoJSON\n",
    "<hr>\n",
    "#### References:\n",
    "* [Wikipedia: GeoJSON](https://en.wikipedia.org/wiki/GeoJSON)\n",
    "* [USGS Earthquake Hazards Program: All Earthquakes in the Last Hour](https://earthquake.usgs.gov/earthquakes/feed/v1.0/summary/all_hour.geojson)\n",
    "\n",
    "<hr>\n",
    "#### 7.4.3.1. Introducing GeoJSON\n",
    "A specific application of the JSON format that may be of some interest for this class is GeoJSON, which is an open standard format designed for representing simple geographical features, along with their non-spatial attributes.\n",
    "\n",
    "GeoJSON is a subset of JSON formatting, which means that while all GeoJSON strings follow JSON formatting, not all JSON strings follow GeoJSON formatting (for example, none of the JSON strings that we have shown above fit GeoJSON formatting)."
   ]
  },
  {
   "cell_type": "markdown",
   "metadata": {},
   "source": [
    "<img src=\"./GRAPHICS/subset.png\" width=\"30%\">"
   ]
  },
  {
   "cell_type": "markdown",
   "metadata": {},
   "source": [
    "When we create a new GeoJSON object, it must always build from the following basic template:"
   ]
  },
  {
   "cell_type": "code",
   "execution_count": 36,
   "metadata": {
    "collapsed": true
   },
   "outputs": [],
   "source": [
    "earthquakes = {\n",
    "  'type': 'FeatureCollection',\n",
    "  'features': []\n",
    "}"
   ]
  },
  {
   "cell_type": "markdown",
   "metadata": {},
   "source": [
    "The above GeoJSON does not contain any meaningful data; it's just scaffold that all valid GeoJSON must start from.  To spruce up our data structure, we can add an element to the features list. For our purposes, this element will be another JSON object (think Python dictionary) with keys `'type'`,`'geometry'`, and `'properties'`."
   ]
  },
  {
   "cell_type": "code",
   "execution_count": 37,
   "metadata": {
    "collapsed": true
   },
   "outputs": [],
   "source": [
    "earthquakes = {\n",
    "  'type': 'FeatureCollection',\n",
    "  'features': [\n",
    "              { \n",
    "              'type': 'Feature',\n",
    "              'geometry': {\n",
    "                           'type': 'Point',\n",
    "                           'coordinates\"': [125.6, 10.1]\n",
    "                          },\n",
    "              'properties': {\n",
    "                             'name': 'Dinagat Islands'\n",
    "                            }\n",
    "              }\n",
    "              ]\n",
    "}    "
   ]
  },
  {
   "cell_type": "markdown",
   "metadata": {},
   "source": [
    "Let's deconstruct the feature object we added to our GeoJSON.\n",
    "\n",
    "* `'type'` will always be the string `'Feature'`.\n",
    "* `'geometry'` will always be another object.\n",
    "    * `'type'` will be a string corresponding to one of the geometry types listed below\n",
    "    * `'coordinates'` will be a list of numerical coordinates defining the shape of the geometry<br><br>\n",
    "* `'properties'` will be another object with user defined keys and values. This is where you can add in some interesting custom data.\n",
    "\n",
    "Most key-value pairs in GeoJSON have an assumed value or list of valid values. Additional complexity and customization comes from adding more features to our features list and adding more content to the `properties` key."
   ]
  },
  {
   "cell_type": "markdown",
   "metadata": {},
   "source": [
    "***\n",
    "#### 7.4.3.2. Types of Geometries Using GeoJSON \n",
    "Let's take a look at the types of geometries we can define using GeoJSON. GeoJSON supports the following geometry types:\n",
    "\n",
    "| Type of Geometry | Example | | Type of Geometry | Example |\n",
    "|:-----------------:|:----------------:| |:-----------------:|:----------------:|\n",
    "|Point |<img src=\"./GRAPHICS/51px_SFA_Point.png\" width=\"100%\">| | LineString|<img src=\"./GRAPHICS/51px_SFA_LineString.png\" width=\"100%\">|\n",
    "|Polygon |<img src=\"./GRAPHICS/SFA_Polygon_Svg.png\" width=\"100%\">| | MultiPoint |<img src=\"./GRAPHICS/51px_SFA_MultiPoint.png\" width=\"100%\">|\n",
    "| MultiLineString |<img src=\"./GRAPHICS/51px_SFA_MultiLine.png\" width=\"100%\">| |MultiPolygon |<img src=\"./GRAPHICS/SFA_MultiPolygon.png\" width=\"100%\">|"
   ]
  },
  {
   "cell_type": "markdown",
   "metadata": {},
   "source": [
    "***\n",
    "#### 7.4.3.3. Playing with GeoJSON\n",
    "With GeoJSON, we can capture individual points of interest, borders, 2D areas, and much more. Let's look at an example, complete the steps below.\n",
    "\n",
    "Step 1. Load a sample of USGS data from a local file."
   ]
  },
  {
   "cell_type": "code",
   "execution_count": 38,
   "metadata": {
    "collapsed": true
   },
   "outputs": [],
   "source": [
    "with open('data/USGS_Earthquake_Data_Single.geojson') as f:\n",
    "     quake_data = f.read()"
   ]
  },
  {
   "cell_type": "markdown",
   "metadata": {},
   "source": [
    "Step 2. Highlight and copy the `quake_data` text.  "
   ]
  },
  {
   "cell_type": "code",
   "execution_count": 39,
   "metadata": {
    "collapsed": false
   },
   "outputs": [
    {
     "name": "stdout",
     "output_type": "stream",
     "text": [
      "{\"type\":\"FeatureCollection\",\"metadata\":{\"generated\":1516122464000,\"url\":\"https://earthquake.usgs.gov/earthquakes/feed/v1.0/summary/all_hour.geojson\",\"title\":\"USGS All Earthquakes, Past Hour\",\"status\":200,\"api\":\"1.5.8\",\"count\":1},\"features\":[{\"type\":\"Feature\",\"properties\":{\"mag\":1.5,\"place\":\"9km WSW of North Nenana, Alaska\",\"time\":1516119891807,\"updated\":1516120348239,\"tz\":-540,\"url\":\"https://earthquake.usgs.gov/earthquakes/eventpage/ak18070078\",\"detail\":\"https://earthquake.usgs.gov/earthquakes/feed/v1.0/detail/ak18070078.geojson\",\"felt\":null,\"cdi\":null,\"mmi\":null,\"alert\":null,\"status\":\"automatic\",\"tsunami\":0,\"sig\":35,\"net\":\"ak\",\"code\":\"18070078\",\"ids\":\",ak18070078,\",\"sources\":\",ak,\",\"types\":\",geoserve,origin,\",\"nst\":null,\"dmin\":null,\"rms\":0.65,\"gap\":null,\"magType\":\"ml\",\"type\":\"earthquake\",\"title\":\"M 1.5 - 9km WSW of North Nenana, Alaska\"},\"geometry\":{\"type\":\"Point\",\"coordinates\":[-149.3078,64.5602,8.6]},\"id\":\"ak18070078\"}],\"bbox\":[-155.4211731,19.2338333,2.85,-89.6829987,64.5602,64.22]}\n"
     ]
    }
   ],
   "source": [
    "print(quake_data)"
   ]
  },
  {
   "cell_type": "markdown",
   "metadata": {},
   "source": [
    "Step 3. Go to [GeoJSON.io](http://geojson.io).\n",
    "\n",
    "Step 4. Paste the copied text into the white pane on the right side of the screen. "
   ]
  },
  {
   "cell_type": "markdown",
   "metadata": {},
   "source": [
    "<a id='Guided-Exercise'></a>\n",
    "<hr>\n",
    "## 7.5. Guided Exercise: JSON and Dictionaries"
   ]
  },
  {
   "cell_type": "markdown",
   "metadata": {},
   "source": [
    "<b><font color = \"brick\">Instructor Guidance</font>: Refer back to Lesson 1 and relate the four steps of problem-solving using Computational Thinking (Decomposition, Pattern Recognition, Abstraction, & Algorithm Design) as appropriate throughout these exercises.</b>"
   ]
  },
  {
   "cell_type": "markdown",
   "metadata": {},
   "source": [
    "Now that we've learned more about JSON and dictionaries, lets cover how to incorporate them into your analytic workflows. We'll retrieve USGS data from the files at the following locations:\n",
    "\n",
    "```python        \n",
    "    'data/USGS_Earthquake_Data_Single.geojson'\n",
    "    'data/USGS_Earthquake_Data_Multiple.geojson'\n",
    "```\n",
    "\n",
    "We first open `USGS_Earthquake_Data_Single.json`, which has data about a single earthquake, and convert its JSON string into a dictionary. Then we'll explore the dictionary's keys and values."
   ]
  },
  {
   "cell_type": "code",
   "execution_count": 40,
   "metadata": {
    "collapsed": false,
    "scrolled": true
   },
   "outputs": [
    {
     "data": {
      "text/plain": [
       "{'bbox': [-155.4211731, 19.2338333, 2.85, -89.6829987, 64.5602, 64.22],\n",
       " 'features': [{'geometry': {'coordinates': [-149.3078, 64.5602, 8.6],\n",
       "    'type': 'Point'},\n",
       "   'id': 'ak18070078',\n",
       "   'properties': {'alert': None,\n",
       "    'cdi': None,\n",
       "    'code': '18070078',\n",
       "    'detail': 'https://earthquake.usgs.gov/earthquakes/feed/v1.0/detail/ak18070078.geojson',\n",
       "    'dmin': None,\n",
       "    'felt': None,\n",
       "    'gap': None,\n",
       "    'ids': ',ak18070078,',\n",
       "    'mag': 1.5,\n",
       "    'magType': 'ml',\n",
       "    'mmi': None,\n",
       "    'net': 'ak',\n",
       "    'nst': None,\n",
       "    'place': '9km WSW of North Nenana, Alaska',\n",
       "    'rms': 0.65,\n",
       "    'sig': 35,\n",
       "    'sources': ',ak,',\n",
       "    'status': 'automatic',\n",
       "    'time': 1516119891807,\n",
       "    'title': 'M 1.5 - 9km WSW of North Nenana, Alaska',\n",
       "    'tsunami': 0,\n",
       "    'type': 'earthquake',\n",
       "    'types': ',geoserve,origin,',\n",
       "    'tz': -540,\n",
       "    'updated': 1516120348239,\n",
       "    'url': 'https://earthquake.usgs.gov/earthquakes/eventpage/ak18070078'},\n",
       "   'type': 'Feature'}],\n",
       " 'metadata': {'api': '1.5.8',\n",
       "  'count': 1,\n",
       "  'generated': 1516122464000,\n",
       "  'status': 200,\n",
       "  'title': 'USGS All Earthquakes, Past Hour',\n",
       "  'url': 'https://earthquake.usgs.gov/earthquakes/feed/v1.0/summary/all_hour.geojson'},\n",
       " 'type': 'FeatureCollection'}"
      ]
     },
     "execution_count": 40,
     "metadata": {},
     "output_type": "execute_result"
    }
   ],
   "source": [
    "with open('data/USGS_Earthquake_Data_Single.geojson') as f:\n",
    "    USGS_dict_single = json.load(f)\n",
    "\n",
    "USGS_dict_single"
   ]
  },
  {
   "cell_type": "markdown",
   "metadata": {},
   "source": [
    "Remember that you can use `pprint.pprint()` if you find it helpful for exploring your data."
   ]
  },
  {
   "cell_type": "code",
   "execution_count": 41,
   "metadata": {
    "collapsed": false,
    "scrolled": true
   },
   "outputs": [
    {
     "name": "stdout",
     "output_type": "stream",
     "text": [
      "{'bbox': [-155.4211731, 19.2338333, 2.85, -89.6829987, 64.5602, 64.22],\n",
      " 'features': [{'geometry': {'coordinates': [-149.3078, 64.5602, 8.6],\n",
      "                            'type': 'Point'},\n",
      "               'id': 'ak18070078',\n",
      "               'properties': {'alert': None,\n",
      "                              'cdi': None,\n",
      "                              'code': '18070078',\n",
      "                              'detail': 'https://earthquake.usgs.gov/earthquakes/feed/v1.0/detail/ak18070078.geojson',\n",
      "                              'dmin': None,\n",
      "                              'felt': None,\n",
      "                              'gap': None,\n",
      "                              'ids': ',ak18070078,',\n",
      "                              'mag': 1.5,\n",
      "                              'magType': 'ml',\n",
      "                              'mmi': None,\n",
      "                              'net': 'ak',\n",
      "                              'nst': None,\n",
      "                              'place': '9km WSW of North Nenana, Alaska',\n",
      "                              'rms': 0.65,\n",
      "                              'sig': 35,\n",
      "                              'sources': ',ak,',\n",
      "                              'status': 'automatic',\n",
      "                              'time': 1516119891807,\n",
      "                              'title': 'M 1.5 - 9km WSW of North Nenana, '\n",
      "                                       'Alaska',\n",
      "                              'tsunami': 0,\n",
      "                              'type': 'earthquake',\n",
      "                              'types': ',geoserve,origin,',\n",
      "                              'tz': -540,\n",
      "                              'updated': 1516120348239,\n",
      "                              'url': 'https://earthquake.usgs.gov/earthquakes/eventpage/ak18070078'},\n",
      "               'type': 'Feature'}],\n",
      " 'metadata': {'api': '1.5.8',\n",
      "              'count': 1,\n",
      "              'generated': 1516122464000,\n",
      "              'status': 200,\n",
      "              'title': 'USGS All Earthquakes, Past Hour',\n",
      "              'url': 'https://earthquake.usgs.gov/earthquakes/feed/v1.0/summary/all_hour.geojson'},\n",
      " 'type': 'FeatureCollection'}\n"
     ]
    }
   ],
   "source": [
    "import pprint\n",
    "\n",
    "pprint.pprint(USGS_dict_single)"
   ]
  },
  {
   "cell_type": "markdown",
   "metadata": {},
   "source": [
    "With large data structures, it's often more helpful to print the keys than the entire structure at once."
   ]
  },
  {
   "cell_type": "code",
   "execution_count": 42,
   "metadata": {
    "collapsed": false
   },
   "outputs": [
    {
     "data": {
      "text/plain": [
       "dict_keys(['type', 'features', 'metadata', 'bbox'])"
      ]
     },
     "execution_count": 42,
     "metadata": {},
     "output_type": "execute_result"
    }
   ],
   "source": [
    "USGS_dict_single.keys()"
   ]
  },
  {
   "cell_type": "markdown",
   "metadata": {},
   "source": [
    "To pull out a value from the dictionary, pass a key name into a set of brackets. Let's explore the `features` key, where most of the interesting data lives."
   ]
  },
  {
   "cell_type": "code",
   "execution_count": 43,
   "metadata": {
    "collapsed": false,
    "scrolled": true
   },
   "outputs": [
    {
     "data": {
      "text/plain": [
       "[{'geometry': {'coordinates': [-149.3078, 64.5602, 8.6], 'type': 'Point'},\n",
       "  'id': 'ak18070078',\n",
       "  'properties': {'alert': None,\n",
       "   'cdi': None,\n",
       "   'code': '18070078',\n",
       "   'detail': 'https://earthquake.usgs.gov/earthquakes/feed/v1.0/detail/ak18070078.geojson',\n",
       "   'dmin': None,\n",
       "   'felt': None,\n",
       "   'gap': None,\n",
       "   'ids': ',ak18070078,',\n",
       "   'mag': 1.5,\n",
       "   'magType': 'ml',\n",
       "   'mmi': None,\n",
       "   'net': 'ak',\n",
       "   'nst': None,\n",
       "   'place': '9km WSW of North Nenana, Alaska',\n",
       "   'rms': 0.65,\n",
       "   'sig': 35,\n",
       "   'sources': ',ak,',\n",
       "   'status': 'automatic',\n",
       "   'time': 1516119891807,\n",
       "   'title': 'M 1.5 - 9km WSW of North Nenana, Alaska',\n",
       "   'tsunami': 0,\n",
       "   'type': 'earthquake',\n",
       "   'types': ',geoserve,origin,',\n",
       "   'tz': -540,\n",
       "   'updated': 1516120348239,\n",
       "   'url': 'https://earthquake.usgs.gov/earthquakes/eventpage/ak18070078'},\n",
       "  'type': 'Feature'}]"
      ]
     },
     "execution_count": 43,
     "metadata": {},
     "output_type": "execute_result"
    }
   ],
   "source": [
    "USGS_dict_single['features']"
   ]
  },
  {
   "cell_type": "markdown",
   "metadata": {},
   "source": [
    "Let's also explore the `metadata` key."
   ]
  },
  {
   "cell_type": "code",
   "execution_count": 44,
   "metadata": {
    "collapsed": false
   },
   "outputs": [
    {
     "data": {
      "text/plain": [
       "{'api': '1.5.8',\n",
       " 'count': 1,\n",
       " 'generated': 1516122464000,\n",
       " 'status': 200,\n",
       " 'title': 'USGS All Earthquakes, Past Hour',\n",
       " 'url': 'https://earthquake.usgs.gov/earthquakes/feed/v1.0/summary/all_hour.geojson'}"
      ]
     },
     "execution_count": 44,
     "metadata": {},
     "output_type": "execute_result"
    }
   ],
   "source": [
    "USGS_dict_single['metadata']"
   ]
  },
  {
   "cell_type": "markdown",
   "metadata": {},
   "source": [
    "Next, we open `USGS_Earthquake_Data_Multiple.json`, which contains data on multiple earthquakes. The data about the earthquakes is stored in `features` as a list of dictionaries. We will need to loop through the `features` list to access each earthquake's details."
   ]
  },
  {
   "cell_type": "code",
   "execution_count": 45,
   "metadata": {
    "collapsed": false,
    "scrolled": true
   },
   "outputs": [
    {
     "data": {
      "text/plain": [
       "{'bbox': [-155.4211731, 19.2338333, 2.85, -89.6829987, 64.5602, 64.22],\n",
       " 'features': [{'geometry': {'coordinates': [-155.4211731, 19.2338333, 32.01],\n",
       "    'type': 'Point'},\n",
       "   'id': 'hv70015412',\n",
       "   'properties': {'alert': None,\n",
       "    'cdi': None,\n",
       "    'code': '70015412',\n",
       "    'detail': 'https://earthquake.usgs.gov/earthquakes/feed/v1.0/detail/hv70015412.geojson',\n",
       "    'dmin': 0.02266,\n",
       "    'felt': None,\n",
       "    'gap': 143,\n",
       "    'ids': ',hv70015412,',\n",
       "    'mag': 1.85,\n",
       "    'magType': 'md',\n",
       "    'mmi': None,\n",
       "    'net': 'hv',\n",
       "    'nst': 21,\n",
       "    'place': '6km ENE of Pahala, Hawaii',\n",
       "    'rms': 0.15,\n",
       "    'sig': 53,\n",
       "    'sources': ',hv,',\n",
       "    'status': 'automatic',\n",
       "    'time': 1516121936210,\n",
       "    'title': 'M 1.9 - 6km ENE of Pahala, Hawaii',\n",
       "    'tsunami': 0,\n",
       "    'type': 'earthquake',\n",
       "    'types': ',geoserve,origin,phase-data,',\n",
       "    'tz': -600,\n",
       "    'updated': 1516122134300,\n",
       "    'url': 'https://earthquake.usgs.gov/earthquakes/eventpage/hv70015412'},\n",
       "   'type': 'Feature'},\n",
       "  {'geometry': {'coordinates': [-89.6829987, 36.1686668, 12.52],\n",
       "    'type': 'Point'},\n",
       "   'id': 'nm60186242',\n",
       "   'properties': {'alert': None,\n",
       "    'cdi': 3.3,\n",
       "    'code': '60186242',\n",
       "    'detail': 'https://earthquake.usgs.gov/earthquakes/feed/v1.0/detail/nm60186242.geojson',\n",
       "    'dmin': 0.1469,\n",
       "    'felt': 5,\n",
       "    'gap': 32,\n",
       "    'ids': ',nm60186242,us2000ck11,',\n",
       "    'mag': 3.55,\n",
       "    'magType': 'md',\n",
       "    'mmi': 4.19,\n",
       "    'net': 'nm',\n",
       "    'nst': 36,\n",
       "    'place': '3km SW of Caruthersville, Missouri',\n",
       "    'rms': 0.2,\n",
       "    'sig': 196,\n",
       "    'sources': ',nm,us,',\n",
       "    'status': 'reviewed',\n",
       "    'time': 1516121874720,\n",
       "    'title': 'M 3.6 - 3km SW of Caruthersville, Missouri',\n",
       "    'tsunami': 0,\n",
       "    'type': 'earthquake',\n",
       "    'types': ',dyfi,geoserve,origin,phase-data,shakemap,',\n",
       "    'tz': -360,\n",
       "    'updated': 1516122386040,\n",
       "    'url': 'https://earthquake.usgs.gov/earthquakes/eventpage/nm60186242'},\n",
       "   'type': 'Feature'},\n",
       "  {'geometry': {'coordinates': [-121.9256668, 41.0385017, 15.71],\n",
       "    'type': 'Point'},\n",
       "   'id': 'nc72954910',\n",
       "   'properties': {'alert': None,\n",
       "    'cdi': None,\n",
       "    'code': '72954910',\n",
       "    'detail': 'https://earthquake.usgs.gov/earthquakes/feed/v1.0/detail/nc72954910.geojson',\n",
       "    'dmin': 0.26,\n",
       "    'felt': None,\n",
       "    'gap': 164,\n",
       "    'ids': ',nc72954910,',\n",
       "    'mag': 2.38,\n",
       "    'magType': 'md',\n",
       "    'mmi': None,\n",
       "    'net': 'nc',\n",
       "    'nst': 12,\n",
       "    'place': '3km NW of Big Bend, CA',\n",
       "    'rms': 0.06,\n",
       "    'sig': 87,\n",
       "    'sources': ',nc,',\n",
       "    'status': 'automatic',\n",
       "    'time': 1516121554420,\n",
       "    'title': 'M 2.4 - 3km NW of Big Bend, CA',\n",
       "    'tsunami': 0,\n",
       "    'type': 'earthquake',\n",
       "    'types': ',geoserve,nearby-cities,origin,phase-data,scitech-link,',\n",
       "    'tz': -480,\n",
       "    'updated': 1516121943484,\n",
       "    'url': 'https://earthquake.usgs.gov/earthquakes/eventpage/nc72954910'},\n",
       "   'type': 'Feature'},\n",
       "  {'geometry': {'coordinates': [-115.631, 33.1648333, 2.85], 'type': 'Point'},\n",
       "   'id': 'ci38088480',\n",
       "   'properties': {'alert': None,\n",
       "    'cdi': None,\n",
       "    'code': '38088480',\n",
       "    'detail': 'https://earthquake.usgs.gov/earthquakes/feed/v1.0/detail/ci38088480.geojson',\n",
       "    'dmin': 0.01802,\n",
       "    'felt': None,\n",
       "    'gap': 64,\n",
       "    'ids': ',ci38088480,',\n",
       "    'mag': 1.64,\n",
       "    'magType': 'ml',\n",
       "    'mmi': None,\n",
       "    'net': 'ci',\n",
       "    'nst': 23,\n",
       "    'place': '12km WNW of Calipatria, CA',\n",
       "    'rms': 0.21,\n",
       "    'sig': 41,\n",
       "    'sources': ',ci,',\n",
       "    'status': 'automatic',\n",
       "    'time': 1516121528620,\n",
       "    'title': 'M 1.6 - 12km WNW of Calipatria, CA',\n",
       "    'tsunami': 0,\n",
       "    'type': 'earthquake',\n",
       "    'types': ',focal-mechanism,geoserve,nearby-cities,origin,phase-data,scitech-link,',\n",
       "    'tz': -480,\n",
       "    'updated': 1516122199300,\n",
       "    'url': 'https://earthquake.usgs.gov/earthquakes/eventpage/ci38088480'},\n",
       "   'type': 'Feature'},\n",
       "  {'geometry': {'coordinates': [-117.9105, 33.3176667, 64.22],\n",
       "    'type': 'Point'},\n",
       "   'id': 'ci38088472',\n",
       "   'properties': {'alert': None,\n",
       "    'cdi': None,\n",
       "    'code': '38088472',\n",
       "    'detail': 'https://earthquake.usgs.gov/earthquakes/feed/v1.0/detail/ci38088472.geojson',\n",
       "    'dmin': 0.4616,\n",
       "    'felt': None,\n",
       "    'gap': 230,\n",
       "    'ids': ',ci38088472,',\n",
       "    'mag': 2.45,\n",
       "    'magType': 'ml',\n",
       "    'mmi': None,\n",
       "    'net': 'ci',\n",
       "    'nst': 14,\n",
       "    'place': '26km SW of Dana Point, CA',\n",
       "    'rms': 0.2,\n",
       "    'sig': 92,\n",
       "    'sources': ',ci,',\n",
       "    'status': 'automatic',\n",
       "    'time': 1516120146890,\n",
       "    'title': 'M 2.5 - 26km SW of Dana Point, CA',\n",
       "    'tsunami': 0,\n",
       "    'type': 'earthquake',\n",
       "    'types': ',geoserve,nearby-cities,origin,phase-data,scitech-link,',\n",
       "    'tz': -480,\n",
       "    'updated': 1516120377032,\n",
       "    'url': 'https://earthquake.usgs.gov/earthquakes/eventpage/ci38088472'},\n",
       "   'type': 'Feature'},\n",
       "  {'geometry': {'coordinates': [-149.3078, 64.5602, 8.6], 'type': 'Point'},\n",
       "   'id': 'ak18070078',\n",
       "   'properties': {'alert': None,\n",
       "    'cdi': None,\n",
       "    'code': '18070078',\n",
       "    'detail': 'https://earthquake.usgs.gov/earthquakes/feed/v1.0/detail/ak18070078.geojson',\n",
       "    'dmin': None,\n",
       "    'felt': None,\n",
       "    'gap': None,\n",
       "    'ids': ',ak18070078,',\n",
       "    'mag': 1.5,\n",
       "    'magType': 'ml',\n",
       "    'mmi': None,\n",
       "    'net': 'ak',\n",
       "    'nst': None,\n",
       "    'place': '9km WSW of North Nenana, Alaska',\n",
       "    'rms': 0.65,\n",
       "    'sig': 35,\n",
       "    'sources': ',ak,',\n",
       "    'status': 'automatic',\n",
       "    'time': 1516119891807,\n",
       "    'title': 'M 1.5 - 9km WSW of North Nenana, Alaska',\n",
       "    'tsunami': 0,\n",
       "    'type': 'earthquake',\n",
       "    'types': ',geoserve,origin,',\n",
       "    'tz': -540,\n",
       "    'updated': 1516120348239,\n",
       "    'url': 'https://earthquake.usgs.gov/earthquakes/eventpage/ak18070078'},\n",
       "   'type': 'Feature'}],\n",
       " 'metadata': {'api': '1.5.8',\n",
       "  'count': 6,\n",
       "  'generated': 1516122464000,\n",
       "  'status': 200,\n",
       "  'title': 'USGS All Earthquakes, Past Hour',\n",
       "  'url': 'https://earthquake.usgs.gov/earthquakes/feed/v1.0/summary/all_hour.geojson'},\n",
       " 'type': 'FeatureCollection'}"
      ]
     },
     "execution_count": 45,
     "metadata": {},
     "output_type": "execute_result"
    }
   ],
   "source": [
    "with open('data/USGS_Earthquake_Data_Multiple.geojson') as f:\n",
    "    USGS_dict_multiple = json.load(f)\n",
    "\n",
    "USGS_dict_multiple"
   ]
  },
  {
   "cell_type": "markdown",
   "metadata": {},
   "source": [
    "There is a lot of data here, so rather than read it all at once, it's smarter to dissect the larger structure, understand how it is organized, and then dive further into the data as necessary."
   ]
  },
  {
   "cell_type": "code",
   "execution_count": 46,
   "metadata": {
    "collapsed": false
   },
   "outputs": [
    {
     "data": {
      "text/plain": [
       "dict_keys(['type', 'features', 'metadata', 'bbox'])"
      ]
     },
     "execution_count": 46,
     "metadata": {},
     "output_type": "execute_result"
    }
   ],
   "source": [
    "USGS_dict_multiple.keys()"
   ]
  },
  {
   "cell_type": "markdown",
   "metadata": {},
   "source": [
    "Seeing the top-level keys is helpful, but sometimes we want to see the values too. We can use creative `print()` statements to accomplish this in a readable way."
   ]
  },
  {
   "cell_type": "code",
   "execution_count": 47,
   "metadata": {
    "collapsed": false,
    "scrolled": true
   },
   "outputs": [
    {
     "name": "stdout",
     "output_type": "stream",
     "text": [
      "type ==> FeatureCollection\n",
      "------------------------------\n",
      "features ==> [{'geometry': {'type': 'Point', 'coordinates': [-155.4211731, 19.2338333, 32.01]}, 'type': 'Feature', 'id': 'hv70015412', 'properties': {'code': '70015412', 'tz': -600, 'tsunami': 0, 'sig': 53, 'magType': 'md', 'felt': None, 'place': '6km ENE of Pahala, Hawaii', 'mag': 1.85, 'time': 1516121936210, 'alert': None, 'cdi': None, 'sources': ',hv,', 'updated': 1516122134300, 'net': 'hv', 'rms': 0.15, 'title': 'M 1.9 - 6km ENE of Pahala, Hawaii', 'types': ',geoserve,origin,phase-data,', 'gap': 143, 'nst': 21, 'dmin': 0.02266, 'detail': 'https://earthquake.usgs.gov/earthquakes/feed/v1.0/detail/hv70015412.geojson', 'type': 'earthquake', 'ids': ',hv70015412,', 'status': 'automatic', 'mmi': None, 'url': 'https://earthquake.usgs.gov/earthquakes/eventpage/hv70015412'}}, {'geometry': {'type': 'Point', 'coordinates': [-89.6829987, 36.1686668, 12.52]}, 'type': 'Feature', 'id': 'nm60186242', 'properties': {'code': '60186242', 'tz': -360, 'tsunami': 0, 'sig': 196, 'magType': 'md', 'felt': 5, 'place': '3km SW of Caruthersville, Missouri', 'mag': 3.55, 'time': 1516121874720, 'alert': None, 'cdi': 3.3, 'sources': ',nm,us,', 'updated': 1516122386040, 'net': 'nm', 'rms': 0.2, 'title': 'M 3.6 - 3km SW of Caruthersville, Missouri', 'types': ',dyfi,geoserve,origin,phase-data,shakemap,', 'gap': 32, 'nst': 36, 'dmin': 0.1469, 'detail': 'https://earthquake.usgs.gov/earthquakes/feed/v1.0/detail/nm60186242.geojson', 'type': 'earthquake', 'ids': ',nm60186242,us2000ck11,', 'status': 'reviewed', 'mmi': 4.19, 'url': 'https://earthquake.usgs.gov/earthquakes/eventpage/nm60186242'}}, {'geometry': {'type': 'Point', 'coordinates': [-121.9256668, 41.0385017, 15.71]}, 'type': 'Feature', 'id': 'nc72954910', 'properties': {'code': '72954910', 'tz': -480, 'tsunami': 0, 'sig': 87, 'magType': 'md', 'felt': None, 'place': '3km NW of Big Bend, CA', 'mag': 2.38, 'time': 1516121554420, 'alert': None, 'cdi': None, 'sources': ',nc,', 'updated': 1516121943484, 'net': 'nc', 'rms': 0.06, 'title': 'M 2.4 - 3km NW of Big Bend, CA', 'types': ',geoserve,nearby-cities,origin,phase-data,scitech-link,', 'gap': 164, 'nst': 12, 'dmin': 0.26, 'detail': 'https://earthquake.usgs.gov/earthquakes/feed/v1.0/detail/nc72954910.geojson', 'type': 'earthquake', 'ids': ',nc72954910,', 'status': 'automatic', 'mmi': None, 'url': 'https://earthquake.usgs.gov/earthquakes/eventpage/nc72954910'}}, {'geometry': {'type': 'Point', 'coordinates': [-115.631, 33.1648333, 2.85]}, 'type': 'Feature', 'id': 'ci38088480', 'properties': {'code': '38088480', 'tz': -480, 'tsunami': 0, 'sig': 41, 'magType': 'ml', 'felt': None, 'place': '12km WNW of Calipatria, CA', 'mag': 1.64, 'time': 1516121528620, 'alert': None, 'cdi': None, 'sources': ',ci,', 'updated': 1516122199300, 'net': 'ci', 'rms': 0.21, 'title': 'M 1.6 - 12km WNW of Calipatria, CA', 'types': ',focal-mechanism,geoserve,nearby-cities,origin,phase-data,scitech-link,', 'gap': 64, 'nst': 23, 'dmin': 0.01802, 'detail': 'https://earthquake.usgs.gov/earthquakes/feed/v1.0/detail/ci38088480.geojson', 'type': 'earthquake', 'ids': ',ci38088480,', 'status': 'automatic', 'mmi': None, 'url': 'https://earthquake.usgs.gov/earthquakes/eventpage/ci38088480'}}, {'geometry': {'type': 'Point', 'coordinates': [-117.9105, 33.3176667, 64.22]}, 'type': 'Feature', 'id': 'ci38088472', 'properties': {'code': '38088472', 'tz': -480, 'tsunami': 0, 'sig': 92, 'magType': 'ml', 'felt': None, 'place': '26km SW of Dana Point, CA', 'mag': 2.45, 'time': 1516120146890, 'alert': None, 'cdi': None, 'sources': ',ci,', 'updated': 1516120377032, 'net': 'ci', 'rms': 0.2, 'title': 'M 2.5 - 26km SW of Dana Point, CA', 'types': ',geoserve,nearby-cities,origin,phase-data,scitech-link,', 'gap': 230, 'nst': 14, 'dmin': 0.4616, 'detail': 'https://earthquake.usgs.gov/earthquakes/feed/v1.0/detail/ci38088472.geojson', 'type': 'earthquake', 'ids': ',ci38088472,', 'status': 'automatic', 'mmi': None, 'url': 'https://earthquake.usgs.gov/earthquakes/eventpage/ci38088472'}}, {'geometry': {'type': 'Point', 'coordinates': [-149.3078, 64.5602, 8.6]}, 'type': 'Feature', 'id': 'ak18070078', 'properties': {'code': '18070078', 'tz': -540, 'tsunami': 0, 'sig': 35, 'magType': 'ml', 'felt': None, 'place': '9km WSW of North Nenana, Alaska', 'mag': 1.5, 'time': 1516119891807, 'alert': None, 'cdi': None, 'sources': ',ak,', 'updated': 1516120348239, 'net': 'ak', 'rms': 0.65, 'title': 'M 1.5 - 9km WSW of North Nenana, Alaska', 'types': ',geoserve,origin,', 'gap': None, 'nst': None, 'dmin': None, 'detail': 'https://earthquake.usgs.gov/earthquakes/feed/v1.0/detail/ak18070078.geojson', 'type': 'earthquake', 'ids': ',ak18070078,', 'status': 'automatic', 'mmi': None, 'url': 'https://earthquake.usgs.gov/earthquakes/eventpage/ak18070078'}}]\n",
      "------------------------------\n",
      "metadata ==> {'title': 'USGS All Earthquakes, Past Hour', 'count': 6, 'generated': 1516122464000, 'api': '1.5.8', 'status': 200, 'url': 'https://earthquake.usgs.gov/earthquakes/feed/v1.0/summary/all_hour.geojson'}\n",
      "------------------------------\n",
      "bbox ==> [-155.4211731, 19.2338333, 2.85, -89.6829987, 64.5602, 64.22]\n",
      "------------------------------\n"
     ]
    }
   ],
   "source": [
    "for key, value in USGS_dict_multiple.items():    \n",
    "    print(key, '==>', value)\n",
    "    print('-' * 30)"
   ]
  },
  {
   "cell_type": "markdown",
   "metadata": {},
   "source": [
    "The `features` value is still hard to read because of its large amount of data. However, we know that the value here is always a list (or, in JSON parlance, an array). This means we can loop through this value and print each individual piece. Let's try that."
   ]
  },
  {
   "cell_type": "code",
   "execution_count": 48,
   "metadata": {
    "collapsed": false,
    "scrolled": true
   },
   "outputs": [
    {
     "name": "stdout",
     "output_type": "stream",
     "text": [
      "{'geometry': {'type': 'Point', 'coordinates': [-155.4211731, 19.2338333, 32.01]}, 'type': 'Feature', 'id': 'hv70015412', 'properties': {'code': '70015412', 'tz': -600, 'tsunami': 0, 'sig': 53, 'magType': 'md', 'felt': None, 'place': '6km ENE of Pahala, Hawaii', 'mag': 1.85, 'time': 1516121936210, 'alert': None, 'cdi': None, 'sources': ',hv,', 'updated': 1516122134300, 'net': 'hv', 'rms': 0.15, 'title': 'M 1.9 - 6km ENE of Pahala, Hawaii', 'types': ',geoserve,origin,phase-data,', 'gap': 143, 'nst': 21, 'dmin': 0.02266, 'detail': 'https://earthquake.usgs.gov/earthquakes/feed/v1.0/detail/hv70015412.geojson', 'type': 'earthquake', 'ids': ',hv70015412,', 'status': 'automatic', 'mmi': None, 'url': 'https://earthquake.usgs.gov/earthquakes/eventpage/hv70015412'}}\n",
      "------------------------------\n",
      "{'geometry': {'type': 'Point', 'coordinates': [-89.6829987, 36.1686668, 12.52]}, 'type': 'Feature', 'id': 'nm60186242', 'properties': {'code': '60186242', 'tz': -360, 'tsunami': 0, 'sig': 196, 'magType': 'md', 'felt': 5, 'place': '3km SW of Caruthersville, Missouri', 'mag': 3.55, 'time': 1516121874720, 'alert': None, 'cdi': 3.3, 'sources': ',nm,us,', 'updated': 1516122386040, 'net': 'nm', 'rms': 0.2, 'title': 'M 3.6 - 3km SW of Caruthersville, Missouri', 'types': ',dyfi,geoserve,origin,phase-data,shakemap,', 'gap': 32, 'nst': 36, 'dmin': 0.1469, 'detail': 'https://earthquake.usgs.gov/earthquakes/feed/v1.0/detail/nm60186242.geojson', 'type': 'earthquake', 'ids': ',nm60186242,us2000ck11,', 'status': 'reviewed', 'mmi': 4.19, 'url': 'https://earthquake.usgs.gov/earthquakes/eventpage/nm60186242'}}\n",
      "------------------------------\n",
      "{'geometry': {'type': 'Point', 'coordinates': [-121.9256668, 41.0385017, 15.71]}, 'type': 'Feature', 'id': 'nc72954910', 'properties': {'code': '72954910', 'tz': -480, 'tsunami': 0, 'sig': 87, 'magType': 'md', 'felt': None, 'place': '3km NW of Big Bend, CA', 'mag': 2.38, 'time': 1516121554420, 'alert': None, 'cdi': None, 'sources': ',nc,', 'updated': 1516121943484, 'net': 'nc', 'rms': 0.06, 'title': 'M 2.4 - 3km NW of Big Bend, CA', 'types': ',geoserve,nearby-cities,origin,phase-data,scitech-link,', 'gap': 164, 'nst': 12, 'dmin': 0.26, 'detail': 'https://earthquake.usgs.gov/earthquakes/feed/v1.0/detail/nc72954910.geojson', 'type': 'earthquake', 'ids': ',nc72954910,', 'status': 'automatic', 'mmi': None, 'url': 'https://earthquake.usgs.gov/earthquakes/eventpage/nc72954910'}}\n",
      "------------------------------\n",
      "{'geometry': {'type': 'Point', 'coordinates': [-115.631, 33.1648333, 2.85]}, 'type': 'Feature', 'id': 'ci38088480', 'properties': {'code': '38088480', 'tz': -480, 'tsunami': 0, 'sig': 41, 'magType': 'ml', 'felt': None, 'place': '12km WNW of Calipatria, CA', 'mag': 1.64, 'time': 1516121528620, 'alert': None, 'cdi': None, 'sources': ',ci,', 'updated': 1516122199300, 'net': 'ci', 'rms': 0.21, 'title': 'M 1.6 - 12km WNW of Calipatria, CA', 'types': ',focal-mechanism,geoserve,nearby-cities,origin,phase-data,scitech-link,', 'gap': 64, 'nst': 23, 'dmin': 0.01802, 'detail': 'https://earthquake.usgs.gov/earthquakes/feed/v1.0/detail/ci38088480.geojson', 'type': 'earthquake', 'ids': ',ci38088480,', 'status': 'automatic', 'mmi': None, 'url': 'https://earthquake.usgs.gov/earthquakes/eventpage/ci38088480'}}\n",
      "------------------------------\n",
      "{'geometry': {'type': 'Point', 'coordinates': [-117.9105, 33.3176667, 64.22]}, 'type': 'Feature', 'id': 'ci38088472', 'properties': {'code': '38088472', 'tz': -480, 'tsunami': 0, 'sig': 92, 'magType': 'ml', 'felt': None, 'place': '26km SW of Dana Point, CA', 'mag': 2.45, 'time': 1516120146890, 'alert': None, 'cdi': None, 'sources': ',ci,', 'updated': 1516120377032, 'net': 'ci', 'rms': 0.2, 'title': 'M 2.5 - 26km SW of Dana Point, CA', 'types': ',geoserve,nearby-cities,origin,phase-data,scitech-link,', 'gap': 230, 'nst': 14, 'dmin': 0.4616, 'detail': 'https://earthquake.usgs.gov/earthquakes/feed/v1.0/detail/ci38088472.geojson', 'type': 'earthquake', 'ids': ',ci38088472,', 'status': 'automatic', 'mmi': None, 'url': 'https://earthquake.usgs.gov/earthquakes/eventpage/ci38088472'}}\n",
      "------------------------------\n",
      "{'geometry': {'type': 'Point', 'coordinates': [-149.3078, 64.5602, 8.6]}, 'type': 'Feature', 'id': 'ak18070078', 'properties': {'code': '18070078', 'tz': -540, 'tsunami': 0, 'sig': 35, 'magType': 'ml', 'felt': None, 'place': '9km WSW of North Nenana, Alaska', 'mag': 1.5, 'time': 1516119891807, 'alert': None, 'cdi': None, 'sources': ',ak,', 'updated': 1516120348239, 'net': 'ak', 'rms': 0.65, 'title': 'M 1.5 - 9km WSW of North Nenana, Alaska', 'types': ',geoserve,origin,', 'gap': None, 'nst': None, 'dmin': None, 'detail': 'https://earthquake.usgs.gov/earthquakes/feed/v1.0/detail/ak18070078.geojson', 'type': 'earthquake', 'ids': ',ak18070078,', 'status': 'automatic', 'mmi': None, 'url': 'https://earthquake.usgs.gov/earthquakes/eventpage/ak18070078'}}\n",
      "------------------------------\n"
     ]
    }
   ],
   "source": [
    "for feature in USGS_dict_multiple['features']:\n",
    "    print(feature)\n",
    "    print('-' * 30)"
   ]
  },
  {
   "cell_type": "markdown",
   "metadata": {},
   "source": [
    "There is still a lot here to digest. But we are working with yet more nested data structures, and diving deeper into them will allow us to make use of all this data."
   ]
  },
  {
   "cell_type": "markdown",
   "metadata": {},
   "source": [
    "<a id='Practical-Exercises'></a>\n",
    "<hr>\n",
    "## 7.6. Practical Exercises"
   ]
  },
  {
   "cell_type": "markdown",
   "metadata": {},
   "source": [
    "<b><font color=\"brick\">Instructor Guidance</font>: Refer back to Lesson 1 and relate the four steps of problem-solving using Computational Thinking (Decomposition, Pattern Recognition, Abstraction, & Algorithm Design) as appropriate throughout these exercises.\n",
    "\n",
    "<font color=\"brick\">Instructor Guidance</font>: The practical exercises deemed most important due to content and/or a cumulative result, which should be completed first in the interest of maximum training value in relation to time are Practical Exercises 1, 2, 3, and 5. Ensure you go over the exercise solutions and (as necessary) the processes to arrive at the solutions with the students.\n",
    "\n",
    "<font color=\"brick\">Instructor Guidance</font>: Follow-up questions are designed to be asked by the facilitators individually as each student completes the task and has it looked at by a facilitator.</b>"
   ]
  },
  {
   "cell_type": "markdown",
   "metadata": {},
   "source": [
    "<hr>\n",
    "#### References:\n",
    "* [USGS Real-time Notifications, Feeds, and Web Services](https://earthquake.usgs.gov/earthquakes/feed/)\n",
    "* [USGS GeoJSON Detail Format](https://earthquake.usgs.gov/earthquakes/feed/v1.0/geojson_detail.php)\n",
    "<hr>"
   ]
  },
  {
   "cell_type": "markdown",
   "metadata": {},
   "source": [
    "***\n",
    "<a id='PE1'></a>\n",
    "### 7.6.1. Practical Exercise 1: Read a JSON file\n",
    "\n",
    "Read in the file at the location below and store it into memory. The data object you create should be a dictionary.\n",
    "\n",
    "```python\n",
    "'data/all_hour.geojson'\n",
    "```\n",
    "\n",
    "HINT: You've learned two different ways to turn JSON into dictionaries in this lesson."
   ]
  },
  {
   "cell_type": "code",
   "execution_count": 49,
   "metadata": {
    "collapsed": true
   },
   "outputs": [],
   "source": [
    "## YOUR CODE GOES HERE ##"
   ]
  },
  {
   "cell_type": "code",
   "execution_count": 50,
   "metadata": {
    "collapsed": false,
    "scrolled": true
   },
   "outputs": [
    {
     "data": {
      "text/plain": [
       "{'bbox': [-151.3175, 38.7966652, 2.75, -122.6373367, 62.3983, 88.3],\n",
       " 'features': [{'geometry': {'coordinates': [-146.6432, 61.4872, 31.7],\n",
       "    'type': 'Point'},\n",
       "   'id': 'ak18070801',\n",
       "   'properties': {'alert': None,\n",
       "    'cdi': None,\n",
       "    'code': '18070801',\n",
       "    'detail': 'https://earthquake.usgs.gov/earthquakes/feed/v1.0/detail/ak18070801.geojson',\n",
       "    'dmin': None,\n",
       "    'felt': None,\n",
       "    'gap': None,\n",
       "    'ids': ',ak18070801,',\n",
       "    'mag': 1.9,\n",
       "    'magType': 'ml',\n",
       "    'mmi': None,\n",
       "    'net': 'ak',\n",
       "    'nst': None,\n",
       "    'place': '42km NNW of Valdez, Alaska',\n",
       "    'rms': 0.28,\n",
       "    'sig': 56,\n",
       "    'sources': ',ak,',\n",
       "    'status': 'automatic',\n",
       "    'time': 1516125572570,\n",
       "    'title': 'M 1.9 - 42km NNW of Valdez, Alaska',\n",
       "    'tsunami': 0,\n",
       "    'type': 'earthquake',\n",
       "    'types': ',geoserve,origin,',\n",
       "    'tz': -540,\n",
       "    'updated': 1516125733258,\n",
       "    'url': 'https://earthquake.usgs.gov/earthquakes/eventpage/ak18070801'},\n",
       "   'type': 'Feature'},\n",
       "  {'geometry': {'coordinates': [-122.7825012, 38.7966652, 2.75],\n",
       "    'type': 'Point'},\n",
       "   'id': 'nc72954920',\n",
       "   'properties': {'alert': None,\n",
       "    'cdi': None,\n",
       "    'code': '72954920',\n",
       "    'detail': 'https://earthquake.usgs.gov/earthquakes/feed/v1.0/detail/nc72954920.geojson',\n",
       "    'dmin': 0.00548,\n",
       "    'felt': None,\n",
       "    'gap': 98,\n",
       "    'ids': ',nc72954920,',\n",
       "    'mag': 0.77,\n",
       "    'magType': 'md',\n",
       "    'mmi': None,\n",
       "    'net': 'nc',\n",
       "    'nst': 9,\n",
       "    'place': '3km NW of The Geysers, CA',\n",
       "    'rms': 0.04,\n",
       "    'sig': 9,\n",
       "    'sources': ',nc,',\n",
       "    'status': 'automatic',\n",
       "    'time': 1516125465450,\n",
       "    'title': 'M 0.8 - 3km NW of The Geysers, CA',\n",
       "    'tsunami': 0,\n",
       "    'type': 'earthquake',\n",
       "    'types': ',geoserve,nearby-cities,origin,phase-data,',\n",
       "    'tz': -480,\n",
       "    'updated': 1516125564668,\n",
       "    'url': 'https://earthquake.usgs.gov/earthquakes/eventpage/nc72954920'},\n",
       "   'type': 'Feature'},\n",
       "  {'geometry': {'coordinates': [-122.7990036, 38.8154984, 3.7],\n",
       "    'type': 'Point'},\n",
       "   'id': 'nc72954915',\n",
       "   'properties': {'alert': None,\n",
       "    'cdi': None,\n",
       "    'code': '72954915',\n",
       "    'detail': 'https://earthquake.usgs.gov/earthquakes/feed/v1.0/detail/nc72954915.geojson',\n",
       "    'dmin': 0.008056,\n",
       "    'felt': None,\n",
       "    'gap': 103,\n",
       "    'ids': ',nc72954915,',\n",
       "    'mag': 0.33,\n",
       "    'magType': 'md',\n",
       "    'mmi': None,\n",
       "    'net': 'nc',\n",
       "    'nst': 6,\n",
       "    'place': '6km NW of The Geysers, CA',\n",
       "    'rms': 0.01,\n",
       "    'sig': 2,\n",
       "    'sources': ',nc,',\n",
       "    'status': 'automatic',\n",
       "    'time': 1516123435050,\n",
       "    'title': 'M 0.3 - 6km NW of The Geysers, CA',\n",
       "    'tsunami': 0,\n",
       "    'type': 'earthquake',\n",
       "    'types': ',geoserve,nearby-cities,origin,phase-data,scitech-link,',\n",
       "    'tz': -480,\n",
       "    'updated': 1516124522242,\n",
       "    'url': 'https://earthquake.usgs.gov/earthquakes/eventpage/nc72954915'},\n",
       "   'type': 'Feature'},\n",
       "  {'geometry': {'coordinates': [-122.6373367, 46.0838318, 41.63],\n",
       "    'type': 'Point'},\n",
       "   'id': 'uw61343232',\n",
       "   'properties': {'alert': None,\n",
       "    'cdi': None,\n",
       "    'code': '61343232',\n",
       "    'detail': 'https://earthquake.usgs.gov/earthquakes/feed/v1.0/detail/uw61343232.geojson',\n",
       "    'dmin': 0.2277,\n",
       "    'felt': None,\n",
       "    'gap': 268,\n",
       "    'ids': ',uw61343232,',\n",
       "    'mag': 1.86,\n",
       "    'magType': 'md',\n",
       "    'mmi': None,\n",
       "    'net': 'uw',\n",
       "    'nst': 17,\n",
       "    'place': '18km ENE of Kalama, Washington',\n",
       "    'rms': 0.28,\n",
       "    'sig': 53,\n",
       "    'sources': ',uw,',\n",
       "    'status': 'automatic',\n",
       "    'time': 1516122710650,\n",
       "    'title': 'M 1.9 - 18km ENE of Kalama, Washington',\n",
       "    'tsunami': 0,\n",
       "    'type': 'earthquake',\n",
       "    'types': ',geoserve,origin,phase-data,',\n",
       "    'tz': -480,\n",
       "    'updated': 1516122860210,\n",
       "    'url': 'https://earthquake.usgs.gov/earthquakes/eventpage/uw61343232'},\n",
       "   'type': 'Feature'},\n",
       "  {'geometry': {'coordinates': [-151.3175, 62.3983, 88.3], 'type': 'Point'},\n",
       "   'id': 'ak18070112',\n",
       "   'properties': {'alert': None,\n",
       "    'cdi': None,\n",
       "    'code': '18070112',\n",
       "    'detail': 'https://earthquake.usgs.gov/earthquakes/feed/v1.0/detail/ak18070112.geojson',\n",
       "    'dmin': None,\n",
       "    'felt': None,\n",
       "    'gap': None,\n",
       "    'ids': ',ak18070112,',\n",
       "    'mag': 1.5,\n",
       "    'magType': 'ml',\n",
       "    'mmi': None,\n",
       "    'net': 'ak',\n",
       "    'nst': None,\n",
       "    'place': '63km W of Talkeetna, Alaska',\n",
       "    'rms': 0.18,\n",
       "    'sig': 35,\n",
       "    'sources': ',ak,',\n",
       "    'status': 'automatic',\n",
       "    'time': 1516122645370,\n",
       "    'title': 'M 1.5 - 63km W of Talkeetna, Alaska',\n",
       "    'tsunami': 0,\n",
       "    'type': 'earthquake',\n",
       "    'types': ',geoserve,origin,',\n",
       "    'tz': -540,\n",
       "    'updated': 1516122967607,\n",
       "    'url': 'https://earthquake.usgs.gov/earthquakes/eventpage/ak18070112'},\n",
       "   'type': 'Feature'}],\n",
       " 'metadata': {'api': '1.5.8',\n",
       "  'count': 5,\n",
       "  'generated': 1516125965000,\n",
       "  'status': 200,\n",
       "  'title': 'USGS All Earthquakes, Past Hour',\n",
       "  'url': 'https://earthquake.usgs.gov/earthquakes/feed/v1.0/summary/all_hour.geojson'},\n",
       " 'type': 'FeatureCollection'}"
      ]
     },
     "execution_count": 50,
     "metadata": {},
     "output_type": "execute_result"
    }
   ],
   "source": [
    "## INSTRUCTION SOLUTION(S) ##\n",
    "with open('data/all_hour.geojson') as f:\n",
    "    USGS_dict = json.load(f)\n",
    "    \n",
    "USGS_dict"
   ]
  },
  {
   "cell_type": "markdown",
   "metadata": {},
   "source": [
    "Use the dataset (above) to answer the remaining practical exercises."
   ]
  },
  {
   "cell_type": "markdown",
   "metadata": {},
   "source": [
    "***\n",
    "<a id='PE2'></a>\n",
    "### 7.6.2. Practical Exercise 2: How Many Earthquakes\n",
    "How many earthquakes are in the dataset?\n",
    "\n",
    "HINT: Look at the value of the `'metadata'` key, or count the number of objects in the `features` key."
   ]
  },
  {
   "cell_type": "code",
   "execution_count": 51,
   "metadata": {
    "collapsed": true
   },
   "outputs": [],
   "source": [
    "## YOUR CODE GOES HERE ##"
   ]
  },
  {
   "cell_type": "code",
   "execution_count": 52,
   "metadata": {
    "collapsed": false
   },
   "outputs": [
    {
     "data": {
      "text/plain": [
       "5"
      ]
     },
     "execution_count": 52,
     "metadata": {},
     "output_type": "execute_result"
    }
   ],
   "source": [
    "## INSTRUCTION SOLUTION(S) ##\n",
    "\n",
    "USGS_dict['metadata']['count'] "
   ]
  },
  {
   "cell_type": "markdown",
   "metadata": {},
   "source": [
    "<hr> <a id='PE3'></a>\n",
    "### 7.6.3. Practical Exercise 3: Magnitude of the Strongest Earthquake\n",
    "\n",
    "What is the magnitude of the strongest earthquake? \n",
    "\n",
    "HINT: Within the `'features'` key, look at `'properties'`."
   ]
  },
  {
   "cell_type": "code",
   "execution_count": 53,
   "metadata": {
    "collapsed": true
   },
   "outputs": [],
   "source": [
    "## YOUR CODE GOES HERE ##"
   ]
  },
  {
   "cell_type": "code",
   "execution_count": 54,
   "metadata": {
    "collapsed": false
   },
   "outputs": [
    {
     "data": {
      "text/plain": [
       "1.9"
      ]
     },
     "execution_count": 54,
     "metadata": {},
     "output_type": "execute_result"
    }
   ],
   "source": [
    "## INSTRUCTION SOLUTION(S) ##\n",
    "\n",
    "magnitudes = []\n",
    "\n",
    "for feature in USGS_dict['features']:\n",
    "    \n",
    "    magnitudes.append(feature['properties']['mag'])\n",
    "\n",
    "max(magnitudes)"
   ]
  },
  {
   "cell_type": "markdown",
   "metadata": {
    "collapsed": true
   },
   "source": [
    "<hr> <a id='PE4'></a>\n",
    "### 7.6.4. Practical Exercise 4: Strongest Earthquake\n",
    "What is the location and timestamp of the strongest earthquake?"
   ]
  },
  {
   "cell_type": "code",
   "execution_count": 55,
   "metadata": {
    "collapsed": true
   },
   "outputs": [],
   "source": [
    "## YOUR CODE GOES HERE ##"
   ]
  },
  {
   "cell_type": "code",
   "execution_count": 56,
   "metadata": {
    "collapsed": false
   },
   "outputs": [
    {
     "name": "stdout",
     "output_type": "stream",
     "text": [
      "42km NNW of Valdez, Alaska\n",
      "1516125572570\n"
     ]
    }
   ],
   "source": [
    "## INSTRUCTION SOLUTION(S) ##\n",
    "for feature in USGS_dict['features']:\n",
    "    \n",
    "    if feature['properties']['mag'] == max(magnitudes):\n",
    "        \n",
    "        print(feature['properties']['place'])\n",
    "        print(feature['properties']['time'])"
   ]
  },
  {
   "cell_type": "markdown",
   "metadata": {},
   "source": [
    "<hr> <a id='PE5'></a>\n",
    "### 7.6.5. Practical Exercise 5: Most Recent Earthquake\n",
    "\n",
    "Where was the most recent earthquake. When did it happen? \n",
    "\n",
    "HINT: The most recent time will have the largest `'time'` value."
   ]
  },
  {
   "cell_type": "code",
   "execution_count": 57,
   "metadata": {
    "collapsed": true
   },
   "outputs": [],
   "source": [
    "## YOUR CODE GOES HERE ##"
   ]
  },
  {
   "cell_type": "code",
   "execution_count": 58,
   "metadata": {
    "collapsed": false
   },
   "outputs": [
    {
     "name": "stdout",
     "output_type": "stream",
     "text": [
      "42km NNW of Valdez, Alaska\n",
      "1516125572570\n"
     ]
    }
   ],
   "source": [
    "## INSTRUCTION SOLUTION(S) ##\n",
    "times = []\n",
    "\n",
    "for feature in USGS_dict['features']:\n",
    "    \n",
    "    times.append(feature['properties']['time'])\n",
    "\n",
    "for feature in USGS_dict['features']:\n",
    "    \n",
    "    if feature['properties']['time'] == max(times):\n",
    "        \n",
    "        print(feature['properties']['place'])\n",
    "        print(feature['properties']['time'])"
   ]
  },
  {
   "cell_type": "code",
   "execution_count": 59,
   "metadata": {
    "collapsed": false
   },
   "outputs": [
    {
     "data": {
      "text/plain": [
       "'2018-01-16 12:59:32'"
      ]
     },
     "execution_count": 59,
     "metadata": {},
     "output_type": "execute_result"
    }
   ],
   "source": [
    "## INSTRUCTION SOLUTION(S) (ALTERNATE) ##\n",
    "\n",
    "from datetime import datetime\n",
    "\n",
    "newest = int(max(times)) / 1000\n",
    "\n",
    "dt = datetime.fromtimestamp(newest).strftime('%Y-%m-%d %H:%M:%S')\n",
    "dt"
   ]
  },
  {
   "cell_type": "markdown",
   "metadata": {},
   "source": [
    "<hr> <a id='PE6'></a>\n",
    "### 7.6.6. Practical Exercise 6: Write Earthquake Dictionary\n",
    "\n",
    "Write out our earthquake dictionary as a JSON string to a local file. If you don't get any errors, use the File Explorer on your computer to ensure the file is where you expect."
   ]
  },
  {
   "cell_type": "code",
   "execution_count": 60,
   "metadata": {
    "collapsed": true
   },
   "outputs": [],
   "source": [
    "## YOUR CODE GOES HERE ##"
   ]
  },
  {
   "cell_type": "code",
   "execution_count": 61,
   "metadata": {
    "collapsed": true
   },
   "outputs": [],
   "source": [
    "## INSTRUCTION SOLUTION(S) ##\n",
    "with open('data/all_hour_out.geojson', 'w') as f:\n",
    "    json.dump(earthquakes, f)"
   ]
  },
  {
   "cell_type": "markdown",
   "metadata": {},
   "source": [
    "<b>Follow-up Questions:</b>\n",
    "1. What data structures did you create and use to answer the questions? Why?\n",
    "2. What built-in functions or methods did you use to answer the questions? \n",
    "3. What data structures give you the most difficult time? Why?"
   ]
  },
  {
   "cell_type": "markdown",
   "metadata": {},
   "source": [
    "<a id='Administrative'></a>\n",
    "<hr>\n",
    "## 7.7. Administrative Notes:\n",
    "* Save your Lesson 7 .ipynb file to your H drive"
   ]
  },
  {
   "cell_type": "markdown",
   "metadata": {},
   "source": [
    "<b><center>UNCLASSIFIED</center></b>"
   ]
  }
 ],
 "metadata": {
  "anaconda-cloud": {},
  "kernelspec": {
   "display_name": "Python [default]",
   "language": "python",
   "name": "python3"
  },
  "language_info": {
   "codemirror_mode": {
    "name": "ipython",
    "version": 3
   },
   "file_extension": ".py",
   "mimetype": "text/x-python",
   "name": "python",
   "nbconvert_exporter": "python",
   "pygments_lexer": "ipython3",
   "version": "3.5.2"
  }
 },
 "nbformat": 4,
 "nbformat_minor": 1
}
