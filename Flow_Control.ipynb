{
 "cells": [
  {
   "cell_type": "markdown",
   "metadata": {},
   "source": [
    "<b><center>UNCLASSIFIED</center></b>"
   ]
  },
  {
   "cell_type": "markdown",
   "metadata": {},
   "source": [
    "<img src=\"./GRAPHICS/Banner.png\" width=\"110%\">"
   ]
  },
  {
   "cell_type": "markdown",
   "metadata": {},
   "source": [
    "# Lesson 4: Flow Control"
   ]
  },
  {
   "cell_type": "markdown",
   "metadata": {},
   "source": [
    "***\n",
    "## Table of Contents\n",
    "\n",
    "* [4.1. Objectives](#Objectives)<br>\n",
    "* [4.2. Overview](#Overview)<br>\n",
    "* [4.3. Review](#Review)<br>\n",
    "     * [4.3.1. Lists](#Lists)<br>\n",
    "     * [4.3.2. Tuples](#Tuples)<br>\n",
    "     * [4.3.3. Strings](#Strings)<br>\n",
    "     * [4.3.4. Sets](#Sets)<br>\n",
    "     * [4.3.5. Dictionaries](#Dictionaries)<br>\n",
    "* [4.4. Lesson: Flow Control](#Lesson)\n",
    "    * [4.4.1. If Statements](#if)<br>\n",
    "    * [4.4.2. Iterating through a Sequence: Loops](#for)<br>\n",
    "    * [4.4.3. Functions](#Functions)<br>\n",
    "* [4.5. Guided Exercise: Loops and Conditionals](#guided)\n",
    "* [4.6. Practical Exercises](#Practical)\n",
    "    * [4.6.1. Practical Exercise 1: Latitude or Longitude](#PE1)<br>\n",
    "    * [4.6.2. Practical Exercise 2: Lists in a List](#PE2)<br>\n",
    "    * [4.6.3. Practical Exercise 3: Using an if Statement](#PE3)<br>\n",
    "    * [4.6.4. Practical Exercise 4: Converting Celsius and Fahrenheit](#PE4)<br>\n",
    "    * [4.6.5. Practical Exercise 5: Iterating through a List & Boolean Operations](#PE5)<br>\n",
    "    * [4.6.6. Practical Exercise 6: Calculate a Dog's Age](#PE6)<br>\n",
    "    * [4.6.7. Practical Exercise 7: Find the Max](#PE7)<br>\n",
    "    * [4.6.8. Practical Exercise 8: Guessing Game](#PE8)<br>\n",
    "* [4.7. Administrative Notes](#Administrative)<br>"
   ]
  },
  {
   "cell_type": "markdown",
   "metadata": {},
   "source": [
    "<a id=\"Objectives\"></a>\n",
    "## 4.1. Objectives\n",
    "Using conditionals, loops, Python dictionaries, local data, the CSV Library, and the Glob Library, students will be able to:\n",
    " - Examine the implications of using computation to solve a problem\n",
    "     - Discuss best practices for using computation to solve a problem\n",
    "     - Suggest types of problems that can be solved through computation\n",
    "     - Show how computation can solve a problem\n",
    "     <br><br>\n",
    " -  Recognize key computer science concepts\n",
    "     -  Identify various data types and structures used in Python scripting\n",
    "     -  Recognize how queries operate"
   ]
  },
  {
   "cell_type": "markdown",
   "metadata": {},
   "source": [
    "<hr>\n",
    "<a id=\"Overview\"></a>\n",
    "## 4.2. Overview\n",
    "The following lesson is divided into three main parts:\n",
    "\n",
    "* Lesson: Python Loops and Conditionals\n",
    "* Guided Exercise: Loops and Conditionals\n",
    "* Practical Exercises"
   ]
  },
  {
   "cell_type": "markdown",
   "metadata": {},
   "source": [
    "<b><font color=\"brick\">Instructor Guidance</font>: Refer back to Lesson 1 and relate the four steps of problem-solving using Computational Thinking (Decomposition, Pattern Recognition, Abstraction, & Algorithm Design) to lessons, exercises, examples, student questions/comments, etc., as appropriate throughout this lesson.</b>"
   ]
  },
  {
   "cell_type": "markdown",
   "metadata": {},
   "source": [
    "<hr>\n",
    "<a id=\"Review\"></a>\n",
    "## 4.3. Review"
   ]
  },
  {
   "cell_type": "markdown",
   "metadata": {},
   "source": [
    "*** \n",
    "<a id='Lists'></a>\n",
    "### 4.3.1. Lists\n",
    "<hr>\n",
    "#### References:\n",
    "* [Python: More on Lists](https://docs.python.org/3.4/tutorial/datastructures.html#more-on-lists)\n",
    "* [Effbot: An Introduction to Python Lists](http://www.effbot.org/zone/python-list.htm)\n",
    "\n",
    "<hr>\n",
    "Lists are simply containers for holding objects in a given order. Lists are mutable, meaning they allow you to add, remove, or overwrite individual elements inside them. In Python, lists are always wrapped in square brackets: `[]`.\n",
    "<hr>\n",
    "\n",
    "#### 4.3.1.1. Creating Lists"
   ]
  },
  {
   "cell_type": "markdown",
   "metadata": {},
   "source": [
    "You can create an empty list with a set of square brackets."
   ]
  },
  {
   "cell_type": "code",
   "execution_count": 1,
   "metadata": {
    "collapsed": true
   },
   "outputs": [],
   "source": [
    "empty_list_2 = []"
   ]
  },
  {
   "cell_type": "markdown",
   "metadata": {},
   "source": [
    "You can also create a list with items in it by separating the items with commas."
   ]
  },
  {
   "cell_type": "code",
   "execution_count": 2,
   "metadata": {
    "collapsed": true
   },
   "outputs": [],
   "source": [
    "numbers_list = [0, 1, 2, 3, 4, 5, 6, 7, 8, 9]"
   ]
  },
  {
   "cell_type": "markdown",
   "metadata": {},
   "source": [
    "Lists can contain other collections inside them, such as other lists. But remember that a list within a list is considered a single item. How many items are in the following list? What function could you use to count them?"
   ]
  },
  {
   "cell_type": "code",
   "execution_count": 3,
   "metadata": {},
   "outputs": [
    {
     "data": {
      "text/plain": [
       "['a', 'b', 'c', ['d', 'e', 'f']]"
      ]
     },
     "execution_count": 3,
     "metadata": {},
     "output_type": "execute_result"
    }
   ],
   "source": [
    "list_of_lists = ['a', 'b', 'c', ['d', 'e', 'f']]\n",
    "list_of_lists"
   ]
  },
  {
   "cell_type": "markdown",
   "metadata": {},
   "source": [
    "<hr>\n",
    "#### 4.3.1.2. List Methods and Operations"
   ]
  },
  {
   "cell_type": "markdown",
   "metadata": {},
   "source": [
    "There are a number of list methods that can be applied to manipulate lists. This table lists all the methods and operations we covered in the previous lesson. \n",
    "\n",
    "\n",
    "| Syntax               | Description                               |\n",
    "|:----------------------:|-------------------------------------------|\n",
    "| `list_variable[n] = x` |Sets the item at index `n` to be `x` |\n",
    "|`list_variable.append(x)` | Appends `x` to the end of the list |\n",
    "|`list_variable.extend(my_list)`    | Appends each item in `my_list` to a list. |\n",
    "|`list_variable.insert(i, x)`        | Inserts `x` at index `i` in the list |\n",
    "|`list_variable.remove(x)`          | Removes the first appearance of `x` in the list |\n",
    "|`list_variable.pop(i)` | Removes the items at index `i` in the list and returns that value |\n",
    "|`list_variable.index(x)`          | Returns the index where `x` first appears in the list <br>Throws an error if `x` is not contained in the list |\n",
    "|`list_variable.count(x)`| Counts the number of times `x` appears in the list |\n",
    "|`list_variable.sort(reverse=False)`    | Sorts the list |"
   ]
  },
  {
   "cell_type": "markdown",
   "metadata": {},
   "source": [
    "Let's initialize a list and demonstrate the above methods."
   ]
  },
  {
   "cell_type": "code",
   "execution_count": 4,
   "metadata": {},
   "outputs": [
    {
     "data": {
      "text/plain": [
       "['a', 'b', 'c', ['d', 'e', 'f']]"
      ]
     },
     "execution_count": 4,
     "metadata": {},
     "output_type": "execute_result"
    }
   ],
   "source": [
    "list_of_lists = ['a', 'b', 'c', ['d', 'e', 'f']]\n",
    "list_of_lists"
   ]
  },
  {
   "cell_type": "markdown",
   "metadata": {},
   "source": [
    "We access an element in a list using bracket notation."
   ]
  },
  {
   "cell_type": "code",
   "execution_count": 5,
   "metadata": {},
   "outputs": [
    {
     "data": {
      "text/plain": [
       "['a', '2', 'c', ['d', 'e', 'f']]"
      ]
     },
     "execution_count": 5,
     "metadata": {},
     "output_type": "execute_result"
    }
   ],
   "source": [
    "list_of_lists[1] = '2'\n",
    "list_of_lists"
   ]
  },
  {
   "cell_type": "markdown",
   "metadata": {},
   "source": [
    "`.append()` adds an item to the end of a list."
   ]
  },
  {
   "cell_type": "code",
   "execution_count": 6,
   "metadata": {},
   "outputs": [
    {
     "data": {
      "text/plain": [
       "['a', '2', 'c', ['d', 'e', 'f'], 'g']"
      ]
     },
     "execution_count": 6,
     "metadata": {},
     "output_type": "execute_result"
    }
   ],
   "source": [
    "list_of_lists.append('g')\n",
    "list_of_lists"
   ]
  },
  {
   "cell_type": "markdown",
   "metadata": {},
   "source": [
    "`.extend()` adds multiple items from a collection to the end of a list, one at a time."
   ]
  },
  {
   "cell_type": "code",
   "execution_count": 7,
   "metadata": {},
   "outputs": [
    {
     "data": {
      "text/plain": [
       "['a', '2', 'c', ['d', 'e', 'f'], 'g', 'h', 'i', 'j']"
      ]
     },
     "execution_count": 7,
     "metadata": {},
     "output_type": "execute_result"
    }
   ],
   "source": [
    "list_of_lists.extend(['h', 'i', 'j'])\n",
    "list_of_lists"
   ]
  },
  {
   "cell_type": "markdown",
   "metadata": {},
   "source": [
    "`.insert()` adds an element to a list at a specified position."
   ]
  },
  {
   "cell_type": "code",
   "execution_count": 8,
   "metadata": {},
   "outputs": [
    {
     "data": {
      "text/plain": [
       "['a', 'b', '2', 'c', ['d', 'e', 'f'], 'g', 'h', 'i', 'j']"
      ]
     },
     "execution_count": 8,
     "metadata": {},
     "output_type": "execute_result"
    }
   ],
   "source": [
    "list_of_lists.insert(1, 'b')\n",
    "list_of_lists"
   ]
  },
  {
   "cell_type": "markdown",
   "metadata": {},
   "source": [
    "`.remove()` removes the first instance of a specified value from a list."
   ]
  },
  {
   "cell_type": "code",
   "execution_count": 9,
   "metadata": {},
   "outputs": [
    {
     "data": {
      "text/plain": [
       "['a', 'b', 'c', ['d', 'e', 'f'], 'g', 'h', 'i', 'j']"
      ]
     },
     "execution_count": 9,
     "metadata": {},
     "output_type": "execute_result"
    }
   ],
   "source": [
    "list_of_lists.remove('2')\n",
    "list_of_lists"
   ]
  },
  {
   "cell_type": "markdown",
   "metadata": {},
   "source": [
    "`.pop()` removes an element from a specified position in a list, and returns the removed element."
   ]
  },
  {
   "cell_type": "code",
   "execution_count": 10,
   "metadata": {},
   "outputs": [
    {
     "data": {
      "text/plain": [
       "['d', 'e', 'f']"
      ]
     },
     "execution_count": 10,
     "metadata": {},
     "output_type": "execute_result"
    }
   ],
   "source": [
    "removed_elt = list_of_lists.pop(3)\n",
    "removed_elt"
   ]
  },
  {
   "cell_type": "code",
   "execution_count": 11,
   "metadata": {},
   "outputs": [
    {
     "data": {
      "text/plain": [
       "['a', 'b', 'c', 'g', 'h', 'i', 'j']"
      ]
     },
     "execution_count": 11,
     "metadata": {},
     "output_type": "execute_result"
    }
   ],
   "source": [
    "list_of_lists"
   ]
  },
  {
   "cell_type": "markdown",
   "metadata": {},
   "source": [
    "`.index()` searches a list for a given value, and returns the index position of the value."
   ]
  },
  {
   "cell_type": "code",
   "execution_count": 12,
   "metadata": {},
   "outputs": [
    {
     "data": {
      "text/plain": [
       "4"
      ]
     },
     "execution_count": 12,
     "metadata": {},
     "output_type": "execute_result"
    }
   ],
   "source": [
    "list_of_lists.index('h')"
   ]
  },
  {
   "cell_type": "markdown",
   "metadata": {},
   "source": [
    "`.count()` counts the number of times a given value appears in a list."
   ]
  },
  {
   "cell_type": "code",
   "execution_count": 13,
   "metadata": {},
   "outputs": [
    {
     "data": {
      "text/plain": [
       "1"
      ]
     },
     "execution_count": 13,
     "metadata": {},
     "output_type": "execute_result"
    }
   ],
   "source": [
    "list_of_lists.count('c')"
   ]
  },
  {
   "cell_type": "markdown",
   "metadata": {},
   "source": [
    "`.sort()` sorts the values in a list. You can sort ascending or descending."
   ]
  },
  {
   "cell_type": "code",
   "execution_count": 14,
   "metadata": {},
   "outputs": [
    {
     "data": {
      "text/plain": [
       "['j', 'i', 'h', 'g', 'c', 'b', 'a']"
      ]
     },
     "execution_count": 14,
     "metadata": {},
     "output_type": "execute_result"
    }
   ],
   "source": [
    "list_of_lists.sort(reverse=True)\n",
    "list_of_lists"
   ]
  },
  {
   "cell_type": "code",
   "execution_count": 15,
   "metadata": {
    "collapsed": true
   },
   "outputs": [],
   "source": [
    "## Try some code ideas here ##"
   ]
  },
  {
   "cell_type": "markdown",
   "metadata": {},
   "source": [
    "*** \n",
    "<a id='Tuples'></a>\n",
    "### 4.3.2. Tuples\n",
    "<hr>\n",
    "#### References:\n",
    "* [Python: Tuples](https://docs.python.org/3.4/tutorial/datastructures.html#tuples-and-sequences)\n",
    "* [TutorialsPoint: Python - Tuples](https://www.tutorialspoint.com/python/python_tuples.htm)\n",
    "<hr>\n",
    "\n",
    "Tuples are immutable Python sequences. Like all sequences, items in a tuple are in a set order and are accessible by a numeric index. Like all immutable objects, tuples will not allow you to add, subtract, or edit individual items. To change a value in a tuple, we need to overwrite the entire structure with a new one.\n",
    "\n",
    "Tuples are always wrapped in parentheses: `()`."
   ]
  },
  {
   "cell_type": "markdown",
   "metadata": {},
   "source": [
    "<hr>\n",
    "#### 4.3.2.1. Creating Tuples"
   ]
  },
  {
   "cell_type": "markdown",
   "metadata": {},
   "source": [
    "You can create an empty tuple with a set of empty parentheses."
   ]
  },
  {
   "cell_type": "code",
   "execution_count": 16,
   "metadata": {},
   "outputs": [
    {
     "data": {
      "text/plain": [
       "()"
      ]
     },
     "execution_count": 16,
     "metadata": {},
     "output_type": "execute_result"
    }
   ],
   "source": [
    "my_tuple = ()\n",
    "my_tuple"
   ]
  },
  {
   "cell_type": "markdown",
   "metadata": {},
   "source": [
    "You can also create a tuple with items in it by separating items with commas."
   ]
  },
  {
   "cell_type": "code",
   "execution_count": 17,
   "metadata": {},
   "outputs": [
    {
     "data": {
      "text/plain": [
       "('Monday', 'Tuesday', 'Wednesday', 'Thursday', 'Friday')"
      ]
     },
     "execution_count": 17,
     "metadata": {},
     "output_type": "execute_result"
    }
   ],
   "source": [
    "weekdays = ('Monday', 'Tuesday', 'Wednesday', 'Thursday', 'Friday') \n",
    "weekdays"
   ]
  },
  {
   "cell_type": "markdown",
   "metadata": {},
   "source": [
    "Tuples are immutable, meaning we can't modify individual elements without overwriting the entire structure. That's why the following throws an error."
   ]
  },
  {
   "cell_type": "code",
   "execution_count": 18,
   "metadata": {},
   "outputs": [
    {
     "ename": "TypeError",
     "evalue": "'tuple' object does not support item assignment",
     "output_type": "error",
     "traceback": [
      "\u001b[1;31m---------------------------------------------------------------------------\u001b[0m",
      "\u001b[1;31mTypeError\u001b[0m                                 Traceback (most recent call last)",
      "\u001b[1;32m<ipython-input-18-95cd66473bc2>\u001b[0m in \u001b[0;36m<module>\u001b[1;34m()\u001b[0m\n\u001b[1;32m----> 1\u001b[1;33m \u001b[0mweekdays\u001b[0m\u001b[1;33m[\u001b[0m\u001b[1;36m0\u001b[0m\u001b[1;33m]\u001b[0m \u001b[1;33m=\u001b[0m \u001b[1;34m'Lunes'\u001b[0m\u001b[1;33m\u001b[0m\u001b[0m\n\u001b[0m",
      "\u001b[1;31mTypeError\u001b[0m: 'tuple' object does not support item assignment"
     ]
    }
   ],
   "source": [
    "weekdays[0] = 'Lunes'"
   ]
  },
  {
   "cell_type": "markdown",
   "metadata": {},
   "source": [
    "*** \n",
    "<a id='Strings'></a>\n",
    "### 4.3.3. Strings\n",
    "<hr>\n",
    "#### References:\n",
    "* [Python: Strings](https://docs.python.org/3.4/tutorial/introduction.html#strings)\n",
    "* [Python: String Library](https://docs.python.org/3.4/library/string.html#module-string)\n",
    "* [Wikipedia: ASCII](https://simple.wikipedia.org/wiki/ASCII)\n",
    "* [Wikipedia: Unicode](https://en.wikipedia.org/wiki/Unicode)\n",
    "* [Wikipedia: Emoji](https://en.wikipedia.org/wiki/Emoji)\n",
    "<hr>\n",
    "\n",
    "Strings are immutable sequences of zero or more characters. In Python 3, strings can include extended character sets such as Unicode. Example Unicode characters are shown below:\n",
    "\n",
    "| Type of Characters    | Unicode Characters |\n",
    "|:----------------------:|:------------------------------------------------:|\n",
    "| Foreign Languages     | ` 片仮名, カタカナ    فارسی    राष्ट्र सेवकोत्तम `  |\n",
    "| Emoji                 | ` ✈️    ⛄️    🦄    🐐 `|\n",
    "| Symbols               | ` ∑     ∆    √     ⊠ `|"
   ]
  },
  {
   "cell_type": "markdown",
   "metadata": {},
   "source": [
    "<hr>    \n",
    "#### 4.3.3.1. Creating Strings"
   ]
  },
  {
   "cell_type": "markdown",
   "metadata": {},
   "source": [
    "You can create an empty string with an empty set of quotation marks. You can use single or double quotes."
   ]
  },
  {
   "cell_type": "code",
   "execution_count": 19,
   "metadata": {},
   "outputs": [
    {
     "data": {
      "text/plain": [
       "''"
      ]
     },
     "execution_count": 19,
     "metadata": {},
     "output_type": "execute_result"
    }
   ],
   "source": [
    "my_string = ''\n",
    "my_string"
   ]
  },
  {
   "cell_type": "markdown",
   "metadata": {},
   "source": [
    "You can also create a string with characters in it by wrapping characters in quotation marks."
   ]
  },
  {
   "cell_type": "code",
   "execution_count": 20,
   "metadata": {},
   "outputs": [
    {
     "data": {
      "text/plain": [
       "'The United States of America'"
      ]
     },
     "execution_count": 20,
     "metadata": {},
     "output_type": "execute_result"
    }
   ],
   "source": [
    "my_string = 'The United States of America'\n",
    "my_string"
   ]
  },
  {
   "cell_type": "markdown",
   "metadata": {},
   "source": [
    "Multi-line strings require three sets of quotation marks, often called triple quotes. Whitespace is included. Note how we can actually see the new line characters (`\\n`) when we output the string."
   ]
  },
  {
   "cell_type": "code",
   "execution_count": 21,
   "metadata": {},
   "outputs": [
    {
     "data": {
      "text/plain": [
       "'This is\\n               a string that\\n               spans multiple lines!'"
      ]
     },
     "execution_count": 21,
     "metadata": {},
     "output_type": "execute_result"
    }
   ],
   "source": [
    "my_string = \"\"\"This is\n",
    "               a string that\n",
    "               spans multiple lines!\"\"\"\n",
    "my_string"
   ]
  },
  {
   "cell_type": "code",
   "execution_count": 22,
   "metadata": {
    "collapsed": true
   },
   "outputs": [],
   "source": [
    "## Try some code ideas here ##"
   ]
  },
  {
   "cell_type": "markdown",
   "metadata": {},
   "source": [
    "<hr>\n",
    "#### 4.3.3.2. String Methods and Operations\n",
    "<hr>\n",
    "#### References:\n",
    "* [Python: Common String Operations](https://docs.python.org/3.4/library/string.html)\n",
    "<hr>\n",
    "\n",
    "There are a number of string methods that can be applied to manipulate string contents. These methods all return modified copies of the original strings.\n",
    "\n",
    "| Method               | Description                               |\n",
    "|:----------------------:|-------------------------------------------|\n",
    "|`string_variable.upper()`        | Converts all of the alpha characters to upper case |\n",
    "|`string_variable.lower()`                              | Converts all of the alpha characters to lower case |\n",
    "|`string_variable.title()`         | Converts a string to title case in which the first letter of <br>each word is capitalized and the remaining letters are <br>lower case |\n",
    "|`string_variable.strip(chars)` | Removes any character found in `chars` from the beginning and end of a string|\n",
    "|`string_variable.split(sub_string)`   | Splits a string into a list of strings using `sub_string` as a delimiter |\n",
    "|`string_variable.replace(find, replacement)` | Replaces all occurrences of `find` with `replacement` |\n",
    "|`string_variable.zfill(integer)`  | Returns a zero-padded string of length `integer` |"
   ]
  },
  {
   "cell_type": "markdown",
   "metadata": {},
   "source": [
    "`.upper()` returns a string with all capital letters."
   ]
  },
  {
   "cell_type": "code",
   "execution_count": 23,
   "metadata": {},
   "outputs": [
    {
     "data": {
      "text/plain": [
       "'HELLO'"
      ]
     },
     "execution_count": 23,
     "metadata": {},
     "output_type": "execute_result"
    }
   ],
   "source": [
    "'hello'.upper()"
   ]
  },
  {
   "cell_type": "markdown",
   "metadata": {},
   "source": [
    "`.lower()` returns a string with all lowercase letters."
   ]
  },
  {
   "cell_type": "code",
   "execution_count": 24,
   "metadata": {},
   "outputs": [
    {
     "data": {
      "text/plain": [
       "'goodbye'"
      ]
     },
     "execution_count": 24,
     "metadata": {},
     "output_type": "execute_result"
    }
   ],
   "source": [
    "'GOODBYE'.lower() "
   ]
  },
  {
   "cell_type": "markdown",
   "metadata": {},
   "source": [
    "`.title()` returns a string where the first letter of each word is capitalized, and the other letters are lowercase."
   ]
  },
  {
   "cell_type": "code",
   "execution_count": 25,
   "metadata": {},
   "outputs": [
    {
     "data": {
      "text/plain": [
       "'Python'"
      ]
     },
     "execution_count": 25,
     "metadata": {},
     "output_type": "execute_result"
    }
   ],
   "source": [
    "'pYtHoN'.title()"
   ]
  },
  {
   "cell_type": "markdown",
   "metadata": {},
   "source": [
    "`.strip()` removes characters from the beginning and the end of a string. By default it removes whitespace."
   ]
  },
  {
   "cell_type": "code",
   "execution_count": 26,
   "metadata": {},
   "outputs": [
    {
     "data": {
      "text/plain": [
       "'1234032E'"
      ]
     },
     "execution_count": 26,
     "metadata": {},
     "output_type": "execute_result"
    }
   ],
   "source": [
    "'       1234032E    '.strip()"
   ]
  },
  {
   "cell_type": "markdown",
   "metadata": {},
   "source": [
    "`.split()` returns a list of strings separated by a specified delimiter. The default delimiter is a space."
   ]
  },
  {
   "cell_type": "code",
   "execution_count": 27,
   "metadata": {},
   "outputs": [
    {
     "data": {
      "text/plain": [
       "['A', 'bunch', 'of', 'words', 'separated', 'by', 'spaces']"
      ]
     },
     "execution_count": 27,
     "metadata": {},
     "output_type": "execute_result"
    }
   ],
   "source": [
    "'A bunch of words separated by spaces'.split()"
   ]
  },
  {
   "cell_type": "markdown",
   "metadata": {},
   "source": [
    "`.replace()` returns a string where every instance of a specified substring is replaced with a replacement string."
   ]
  },
  {
   "cell_type": "code",
   "execution_count": 28,
   "metadata": {},
   "outputs": [
    {
     "data": {
      "text/plain": [
       "'01-01-2000'"
      ]
     },
     "execution_count": 28,
     "metadata": {},
     "output_type": "execute_result"
    }
   ],
   "source": [
    "'01/01/2000'.replace('/','-')"
   ]
  },
  {
   "cell_type": "markdown",
   "metadata": {},
   "source": [
    "`.zfill()` pads a string with `0`s until the string is of the specified length."
   ]
  },
  {
   "cell_type": "code",
   "execution_count": 29,
   "metadata": {},
   "outputs": [
    {
     "data": {
      "text/plain": [
       "'000782'"
      ]
     },
     "execution_count": 29,
     "metadata": {},
     "output_type": "execute_result"
    }
   ],
   "source": [
    "'782'.zfill(6) "
   ]
  },
  {
   "cell_type": "markdown",
   "metadata": {},
   "source": [
    "You can concatenate strings with the plus sign (`+`)."
   ]
  },
  {
   "cell_type": "code",
   "execution_count": 32,
   "metadata": {},
   "outputs": [
    {
     "data": {
      "text/plain": [
       "'I am learning how to code in Python!'"
      ]
     },
     "execution_count": 32,
     "metadata": {},
     "output_type": "execute_result"
    }
   ],
   "source": [
    "'I am learning ' + 'how to ' + 'code in Python!'"
   ]
  },
  {
   "cell_type": "markdown",
   "metadata": {},
   "source": [
    "You can also multiply strings, which is just repeated addition."
   ]
  },
  {
   "cell_type": "code",
   "execution_count": 35,
   "metadata": {},
   "outputs": [
    {
     "data": {
      "text/plain": [
       "'Hello!Hello!Hello!'"
      ]
     },
     "execution_count": 35,
     "metadata": {},
     "output_type": "execute_result"
    }
   ],
   "source": [
    "'Hello!' * 3 "
   ]
  },
  {
   "cell_type": "markdown",
   "metadata": {},
   "source": [
    "Finally, you can cast other data types to strings using the `str()` function."
   ]
  },
  {
   "cell_type": "code",
   "execution_count": 36,
   "metadata": {},
   "outputs": [
    {
     "data": {
      "text/plain": [
       "'3.1415'"
      ]
     },
     "execution_count": 36,
     "metadata": {},
     "output_type": "execute_result"
    }
   ],
   "source": [
    "string_pi = str(3.1415)\n",
    "string_pi"
   ]
  },
  {
   "cell_type": "code",
   "execution_count": 37,
   "metadata": {
    "collapsed": true
   },
   "outputs": [],
   "source": [
    "## Try some code ideas here ##"
   ]
  },
  {
   "cell_type": "markdown",
   "metadata": {},
   "source": [
    "*** \n",
    "<a id='Sets'></a>\n",
    "### 4.3.4. Sets\n",
    "<hr>\n",
    "#### References:\n",
    "* [Python: Sets](https://docs.python.org/3.4/tutorial/datastructures.html#sets)\n",
    "<hr>\n",
    "\n",
    "Python sets are mutable, unordered collections with no duplicates. Like all unordered collections, sets are not considered sequences and do not support indexing or slicing. Basic uses of sets include membership testing and deduplication. Sets also support mathematical operations like union, intersection, difference, and symmetric difference. \n",
    "\n",
    "Sets are always wrapped in curly braces: `{}`"
   ]
  },
  {
   "cell_type": "markdown",
   "metadata": {},
   "source": [
    "<hr>\n",
    "#### 4.3.4.1. Creating Sets"
   ]
  },
  {
   "cell_type": "markdown",
   "metadata": {},
   "source": [
    "You must use the `set()` function to create an empty set."
   ]
  },
  {
   "cell_type": "code",
   "execution_count": 38,
   "metadata": {},
   "outputs": [
    {
     "data": {
      "text/plain": [
       "set()"
      ]
     },
     "execution_count": 38,
     "metadata": {},
     "output_type": "execute_result"
    }
   ],
   "source": [
    "my_set = set()\n",
    "my_set"
   ]
  },
  {
   "cell_type": "markdown",
   "metadata": {},
   "source": [
    "You can also create a set with elements in it by separating the elements by a comma. Remember that sets automatically drop duplicate values."
   ]
  },
  {
   "cell_type": "code",
   "execution_count": 39,
   "metadata": {},
   "outputs": [
    {
     "data": {
      "text/plain": [
       "{1, 3, 4, 5, 8}"
      ]
     },
     "execution_count": 39,
     "metadata": {},
     "output_type": "execute_result"
    }
   ],
   "source": [
    "my_set = {1, 1, 1, 3, 4, 5, 8} \n",
    "my_set"
   ]
  },
  {
   "cell_type": "markdown",
   "metadata": {},
   "source": [
    "<hr>\n",
    "#### 4.3.4.2. Set Methods and Operations"
   ]
  },
  {
   "cell_type": "markdown",
   "metadata": {},
   "source": [
    "The `.add()` method adds an item to a set. You can also remove a value with `.remove()`."
   ]
  },
  {
   "cell_type": "code",
   "execution_count": 40,
   "metadata": {},
   "outputs": [
    {
     "data": {
      "text/plain": [
       "{1, 3, 4, 5, 8, 297}"
      ]
     },
     "execution_count": 40,
     "metadata": {},
     "output_type": "execute_result"
    }
   ],
   "source": [
    "my_set.add(297)\n",
    "my_set"
   ]
  },
  {
   "cell_type": "markdown",
   "metadata": {},
   "source": [
    "Sets are good for membership tests because they don't contain duplicates and can look up values fast."
   ]
  },
  {
   "cell_type": "code",
   "execution_count": 41,
   "metadata": {},
   "outputs": [
    {
     "data": {
      "text/plain": [
       "True"
      ]
     },
     "execution_count": 41,
     "metadata": {},
     "output_type": "execute_result"
    }
   ],
   "source": [
    "297 in my_set"
   ]
  },
  {
   "cell_type": "markdown",
   "metadata": {},
   "source": [
    "You can cast other sequences and collections into sets using the `set()` function. Casting a string to a set returns a set of all unique characters in the string."
   ]
  },
  {
   "cell_type": "code",
   "execution_count": 42,
   "metadata": {},
   "outputs": [
    {
     "data": {
      "text/plain": [
       "({'a', 'b', 'c', 'd', 'r'}, {'a', 'c', 'l', 'm', 'z'})"
      ]
     },
     "execution_count": 42,
     "metadata": {},
     "output_type": "execute_result"
    }
   ],
   "source": [
    "set1 = set('abracadabra')\n",
    "set2 = set('alacazam')\n",
    "\n",
    "set1, set2"
   ]
  },
  {
   "cell_type": "markdown",
   "metadata": {},
   "source": [
    "Sets support mathematical operations such as union and intersection. Below we find the set difference, or the elements in `set1` that are not in `set2`."
   ]
  },
  {
   "cell_type": "code",
   "execution_count": 43,
   "metadata": {},
   "outputs": [
    {
     "data": {
      "text/plain": [
       "{'b', 'd', 'r'}"
      ]
     },
     "execution_count": 43,
     "metadata": {},
     "output_type": "execute_result"
    }
   ],
   "source": [
    "set1 - set2  "
   ]
  },
  {
   "cell_type": "markdown",
   "metadata": {},
   "source": [
    "The pipe character (`|`) creates a union of two sets."
   ]
  },
  {
   "cell_type": "code",
   "execution_count": 44,
   "metadata": {},
   "outputs": [
    {
     "data": {
      "text/plain": [
       "{'a', 'b', 'c', 'd', 'l', 'm', 'r', 'z'}"
      ]
     },
     "execution_count": 44,
     "metadata": {},
     "output_type": "execute_result"
    }
   ],
   "source": [
    "set1 | set2"
   ]
  },
  {
   "cell_type": "markdown",
   "metadata": {},
   "source": [
    "The ampersand (`&`) returns the intersection of two sets."
   ]
  },
  {
   "cell_type": "code",
   "execution_count": 45,
   "metadata": {},
   "outputs": [
    {
     "data": {
      "text/plain": [
       "{'a', 'c'}"
      ]
     },
     "execution_count": 45,
     "metadata": {},
     "output_type": "execute_result"
    }
   ],
   "source": [
    "set1 & set2"
   ]
  },
  {
   "cell_type": "markdown",
   "metadata": {},
   "source": [
    "Finally, the carrot (`^`) returns the symmetric set difference, or the items that are in either of two sets but not in both. This is equivalent to the union minus the intersection."
   ]
  },
  {
   "cell_type": "code",
   "execution_count": 46,
   "metadata": {},
   "outputs": [
    {
     "data": {
      "text/plain": [
       "{'b', 'd', 'l', 'm', 'r', 'z'}"
      ]
     },
     "execution_count": 46,
     "metadata": {},
     "output_type": "execute_result"
    }
   ],
   "source": [
    "set1 ^ set2"
   ]
  },
  {
   "cell_type": "code",
   "execution_count": 47,
   "metadata": {
    "collapsed": true
   },
   "outputs": [],
   "source": [
    "## Try some code ideas here ##"
   ]
  },
  {
   "cell_type": "markdown",
   "metadata": {},
   "source": [
    "*** \n",
    "<a id='Dictionaries'></a>\n",
    "### 4.3.5. Dictionaries\n",
    "<hr>\n",
    "#### References:\n",
    "* [Python: Dictionaries](https://docs.python.org/3.4/tutorial/datastructures.html#dictionaries)\n",
    "<hr>\n",
    "\n",
    "Dictionaries are collections of key-value pairs. Unlike sequences, which are indexed numerically, dictionaries are indexed by keys, which can be any immutable type. Strings, numbers, and tuples can all serve as keys in a dictionary, for example.\n",
    "\n",
    "Dictionaries share many properties with sets:\n",
    "* Both sets and dictionaries are unordered\n",
    "* Both sets and dictionaries are wrapped in curly braces\n",
    "* Sets must have unique entries, dictionaries must have unique keys"
   ]
  },
  {
   "cell_type": "markdown",
   "metadata": {},
   "source": [
    "<hr>\n",
    "#### 4.3.5.1. Creating Dictionaries"
   ]
  },
  {
   "cell_type": "markdown",
   "metadata": {},
   "source": [
    "You can create an empty dictionary with an empty set of curly braces."
   ]
  },
  {
   "cell_type": "code",
   "execution_count": 48,
   "metadata": {},
   "outputs": [
    {
     "data": {
      "text/plain": [
       "{}"
      ]
     },
     "execution_count": 48,
     "metadata": {},
     "output_type": "execute_result"
    }
   ],
   "source": [
    "my_dict = {}\n",
    "my_dict"
   ]
  },
  {
   "cell_type": "markdown",
   "metadata": {},
   "source": [
    "You can also create a dictionary with entries in it. To do so, separate the entries with commas. Each entry is a key and a value, separated by a colon, like this: `key: value`. Values in a dictionary can be any data type, whereas keys in a dictionary must be of an immutable data type."
   ]
  },
  {
   "cell_type": "code",
   "execution_count": 49,
   "metadata": {},
   "outputs": [
    {
     "data": {
      "text/plain": [
       "{'user1': {'age': 25, 'fname': 'john', 'lname': 'doe'},\n",
       " 'user2': {'age': 32, 'fname': 'jane', 'lname': 'doe'}}"
      ]
     },
     "execution_count": 49,
     "metadata": {},
     "output_type": "execute_result"
    }
   ],
   "source": [
    "users = {'user1': {'fname':'john',\n",
    "                   'lname':'doe',\n",
    "                   'age':25}, \n",
    "         'user2': {'fname':'jane',\n",
    "                   'lname':'doe',\n",
    "                   'age':32}\n",
    "        }\n",
    "users"
   ]
  },
  {
   "cell_type": "markdown",
   "metadata": {},
   "source": [
    "<hr>\n",
    "#### 4.3.5.2. Dict Methods and Operations"
   ]
  },
  {
   "cell_type": "markdown",
   "metadata": {},
   "source": [
    "You can access a value in a dictionary by using bracket notation and specifying its key."
   ]
  },
  {
   "cell_type": "code",
   "execution_count": 50,
   "metadata": {},
   "outputs": [
    {
     "data": {
      "text/plain": [
       "{'age': 25, 'fname': 'john', 'lname': 'doe'}"
      ]
     },
     "execution_count": 50,
     "metadata": {},
     "output_type": "execute_result"
    }
   ],
   "source": [
    "users['user1']"
   ]
  },
  {
   "cell_type": "markdown",
   "metadata": {},
   "source": [
    "`.keys()` returns a list-like object with all the keys in a dictionary."
   ]
  },
  {
   "cell_type": "code",
   "execution_count": 51,
   "metadata": {},
   "outputs": [
    {
     "data": {
      "text/plain": [
       "dict_keys(['fname', 'lname', 'age'])"
      ]
     },
     "execution_count": 51,
     "metadata": {},
     "output_type": "execute_result"
    }
   ],
   "source": [
    "users['user1'].keys()"
   ]
  },
  {
   "cell_type": "markdown",
   "metadata": {},
   "source": [
    "`.values()` returns a list-like object with all the values in a dictionary."
   ]
  },
  {
   "cell_type": "code",
   "execution_count": 52,
   "metadata": {},
   "outputs": [
    {
     "data": {
      "text/plain": [
       "dict_values(['john', 'doe', 25])"
      ]
     },
     "execution_count": 52,
     "metadata": {},
     "output_type": "execute_result"
    }
   ],
   "source": [
    "users['user1'].values()"
   ]
  },
  {
   "cell_type": "markdown",
   "metadata": {},
   "source": [
    "`.items()` returns a list-like object where each entry in the dictionary is represented as a tuple, like: `(key, value)`."
   ]
  },
  {
   "cell_type": "code",
   "execution_count": 53,
   "metadata": {},
   "outputs": [
    {
     "data": {
      "text/plain": [
       "dict_items([('fname', 'john'), ('lname', 'doe'), ('age', 25)])"
      ]
     },
     "execution_count": 53,
     "metadata": {},
     "output_type": "execute_result"
    }
   ],
   "source": [
    "users['user1'].items()"
   ]
  },
  {
   "cell_type": "markdown",
   "metadata": {},
   "source": [
    "To add a key-value pair to a dictionary, use bracket notation as if you were accessing a value, and then use the assignment operator (`=`) to specify which value should be linked to that key."
   ]
  },
  {
   "cell_type": "code",
   "execution_count": 54,
   "metadata": {},
   "outputs": [
    {
     "data": {
      "text/plain": [
       "{'user1': {'age': 25, 'fname': 'john', 'lname': 'doe'},\n",
       " 'user2': {'age': 32, 'fname': 'jane', 'lname': 'doe'},\n",
       " 'user3': {'age': 28, 'fname': 'bob', 'lname': 'doe'}}"
      ]
     },
     "execution_count": 54,
     "metadata": {},
     "output_type": "execute_result"
    }
   ],
   "source": [
    "users['user3'] = {'age': 28, 'fname': 'bob', 'lname': 'doe'}\n",
    "users"
   ]
  },
  {
   "cell_type": "markdown",
   "metadata": {},
   "source": [
    "The `del` keyword permanently deletes a key-value pair in a dictionary."
   ]
  },
  {
   "cell_type": "code",
   "execution_count": 55,
   "metadata": {},
   "outputs": [
    {
     "data": {
      "text/plain": [
       "{'user1': {'age': 25, 'fname': 'john', 'lname': 'doe'},\n",
       " 'user3': {'age': 28, 'fname': 'bob', 'lname': 'doe'}}"
      ]
     },
     "execution_count": 55,
     "metadata": {},
     "output_type": "execute_result"
    }
   ],
   "source": [
    "del users['user2']\n",
    "\n",
    "users"
   ]
  },
  {
   "cell_type": "code",
   "execution_count": 56,
   "metadata": {
    "collapsed": true
   },
   "outputs": [],
   "source": [
    "## Try some code ideas here ##"
   ]
  },
  {
   "cell_type": "markdown",
   "metadata": {},
   "source": [
    "<hr>\n",
    "<a id=\"Lesson\"></a>\n",
    "## 4.4. Lesson: Flow Control "
   ]
  },
  {
   "cell_type": "markdown",
   "metadata": {},
   "source": [
    "<a id=\"if\"></a>\n",
    "### 4.4.1. If Statements\n",
    "<hr>\n",
    "#### References:\n",
    "* [Python: The if statement](https://docs.python.org/3.4/reference/compound_stmts.html#if)\n",
    "* [TutorialsPoint: Python IF...ELIF...ELSE Statements](https://www.tutorialspoint.com/python/python_if_else.htm)\n",
    "<hr>\n",
    "\n",
    "The <font color=green>**if**</font> statement is used for conditional execution. The graphic and code below illustrates how Boolean test expressions are used to control when certain pieces of code execute within your script.\n",
    "\n",
    "<img src=\"./GRAPHICS/IfElse.png\" width=\"33%\"><br>\n",
    "\n",
    "```python\n",
    "if boolean_test_expression:\n",
    "    do_something()\n",
    "    \n",
    "elif second_boolean_test_expression:\n",
    "    do_something_else()\n",
    "    \n",
    "else:\n",
    "    do_a_third_thing()\n",
    "```\n",
    "\n",
    "Below is a simple if statement. It contains the keyword <font color=green>**if**</font> followed by a Boolean expression. The <font color=green>**if**</font> statement works like this: if the Boolean expression following the <font color=green>**if**</font> evaluates to `True`, any code indented underneath it will run. If the Boolean expression evaluates to `False`, all the indented lines will be skipped."
   ]
  },
  {
   "cell_type": "code",
   "execution_count": 57,
   "metadata": {},
   "outputs": [
    {
     "name": "stdout",
     "output_type": "stream",
     "text": [
      "This line of code was executed!\n"
     ]
    }
   ],
   "source": [
    "if 1 == 1:\n",
    "    print('This line of code was executed!')"
   ]
  },
  {
   "cell_type": "markdown",
   "metadata": {},
   "source": [
    "An <font color=green>**else**</font> statement will execute if the <font color=green>**if**</font> statement above it evaluates to `False`. Below, the Boolean expression after the <font color=green>**if**</font> (`1 != 1`) is `False`, so the first `print()` is skipped and the code under the <font color=green>**else**</font> is executed."
   ]
  },
  {
   "cell_type": "code",
   "execution_count": 58,
   "metadata": {},
   "outputs": [
    {
     "name": "stdout",
     "output_type": "stream",
     "text": [
      "The \"else\" code was executed!\n"
     ]
    }
   ],
   "source": [
    "if 1 != 1:\n",
    "    print('This \"if\" code was executed!')\n",
    "else:\n",
    "    print('The \"else\" code was executed!')"
   ]
  },
  {
   "cell_type": "markdown",
   "metadata": {},
   "source": [
    "Conditional execution is useful when we want to check certain values stored in our script's memory before executing some lines of code. Below, we make sure that our `stock_value` is greater than `20000` before we execute a line that prints `SELL!`."
   ]
  },
  {
   "cell_type": "code",
   "execution_count": 59,
   "metadata": {
    "collapsed": true
   },
   "outputs": [],
   "source": [
    "stock_value = 14000"
   ]
  },
  {
   "cell_type": "code",
   "execution_count": 60,
   "metadata": {
    "collapsed": true
   },
   "outputs": [],
   "source": [
    "if stock_value > 20000:\n",
    "    print('SELL!')"
   ]
  },
  {
   "cell_type": "markdown",
   "metadata": {},
   "source": [
    "The `print()` statement above didn't execute because the Boolean expression (`stock_value > 20000`) evaluates to `False`. We could add an `else` statement to run some code in this case, but let's say we want to be more nuanced than just outputting one of two messages. We can use an `elif` statement in between the `if` and `else` to add another condition to check for."
   ]
  },
  {
   "cell_type": "code",
   "execution_count": 61,
   "metadata": {},
   "outputs": [
    {
     "name": "stdout",
     "output_type": "stream",
     "text": [
      "HOLD!\n"
     ]
    }
   ],
   "source": [
    "if stock_value > 20000:\n",
    "    print('SELL!')\n",
    "elif stock_value < 8000:\n",
    "    print('BUY!')\n",
    "else:\n",
    "    print('HOLD!')"
   ]
  },
  {
   "cell_type": "markdown",
   "metadata": {},
   "source": [
    "Exercise: Change the value of `stock_value` to get each print statement to run. Each time you change your variable's value, make sure you run the cell to save the new value to memory."
   ]
  },
  {
   "cell_type": "code",
   "execution_count": 62,
   "metadata": {
    "collapsed": true
   },
   "outputs": [],
   "source": [
    "stock_value = 14000"
   ]
  },
  {
   "cell_type": "code",
   "execution_count": 63,
   "metadata": {},
   "outputs": [
    {
     "name": "stdout",
     "output_type": "stream",
     "text": [
      "HOLD!\n"
     ]
    }
   ],
   "source": [
    "if stock_value > 20000:\n",
    "    print('SELL!')\n",
    "elif stock_value < 8000:\n",
    "    print('BUY!')\n",
    "else:\n",
    "    print('HOLD!')"
   ]
  },
  {
   "cell_type": "code",
   "execution_count": 64,
   "metadata": {
    "collapsed": true
   },
   "outputs": [],
   "source": [
    "## Try some code ideas here ##"
   ]
  },
  {
   "cell_type": "markdown",
   "metadata": {},
   "source": [
    "<hr>\n",
    "#### 4.4.1.1. Great, but why is this useful?\n",
    "Conditionals are great because they allow our code to make decisions. We can test for certain conditions and the code can take action dependent on those conditions being true or false. This enables the code to do our work for us.\n",
    "\n",
    "If our code detects one condition, it takes one action, otherwise, we may have it do something else. Look at the following snippet of text from a Bloomberg article:  <a href=\"https://www.bloomberg.com/news/articles/2018-01-11/oil-reaches-70-a-barrel-for-first-time-in-three-years\">Oil Reaches $70 a Barrel for First Time in Three Years</a>. This article is about oil prices. But how might we use conditionals to have our code figure this out on its own?"
   ]
  },
  {
   "cell_type": "code",
   "execution_count": 65,
   "metadata": {
    "collapsed": true
   },
   "outputs": [],
   "source": [
    "article = \"\"\"Oil topped $70 a barrel in London for the first time in three years as production cuts by OPEC and rising demand whittle away a global surplus.\n",
    "Brent crude futures, used in the pricing of more than half the world’s oil, rose as much as 1.2 percent to the highest since Dec. 4, 2014. \n",
    "Prices rallied after the longest stretch of declines in U.S. inventories during winter in a decade. \n",
    "Oil’s rally shows that the Organization of Petroleum Exporting Countries and its allies are succeeding in clearing the glut triggered by the growth of U.S. shale oil. \n",
    "Prices have also been supported by concerns that supply disruptions could stem from rising political tensions in OPEC members Iran and Venezuela.\n",
    "“Pretty much all of the fundamental boxes are supportive of the current rally and a bit more,” said Paul Horsnell, head of commodities research at Standard Chartered Plc in London.\n",
    "Brent for March settlement advanced to $69.90 a barrel on the London-based ICE Futures Europe exchange at 11:28 Eastern time.\n",
    "With the climb in crude, there are growing signs that OPEC could be falling into a trap it had sought to avoid. \n",
    "Rising prices are putting U.S. production on track to rival both Saudi Arabia and Russia, \n",
    "with output likely to exceed 10 million barrels a day as soon as next month and top 11 million before the end of 2019, \n",
    "according to Energy Information Administration forecasts.\n",
    "“Seventy dollars is too much,” said Eugen Weinberg, head of commodities research at Commerzbank AG in Frankfurt. \n",
    "“It’s not completely unexpected, given the price momentum. But there will be a reaction in U.S. shale, and OPEC’s strategy will backfire massively.”\n",
    "Iran has warned that the group risks overheating the market with oil at current levels. \n",
    "OPEC’s members aren’t keen on Brent prices above $60 a barrel because of the potential for more shale output, Iran’s Oil Minister \n",
    "Bijan Namdar Zanganeh said, according to the ministry’s news service Shana.\"\"\""
   ]
  },
  {
   "cell_type": "markdown",
   "metadata": {},
   "source": [
    "We can look for the presence of the string `'oil'` in the article using a membership test. This could be a good first clue that the article might be about oil."
   ]
  },
  {
   "cell_type": "code",
   "execution_count": 66,
   "metadata": {},
   "outputs": [
    {
     "name": "stdout",
     "output_type": "stream",
     "text": [
      "The article may be about oil.\n"
     ]
    }
   ],
   "source": [
    "if 'oil' in article:\n",
    "    print('The article may be about oil.')\n",
    "else:\n",
    "    print('The article may not be about oil.')"
   ]
  },
  {
   "cell_type": "markdown",
   "metadata": {},
   "source": [
    "We found the string `'oil'` within the string stored in our `article` variable. That's interesting, but the Boolean expression (`'oil' in article`) would evaluate to `True` if `article` contained the word \"foil\" or the word \"turmoil\". Also, there are instances of the word \"oil\" that we'd miss with this Boolean expression, such as `'Oil'`. We can add more checks to make our code smarter by adding more `if` statements."
   ]
  },
  {
   "cell_type": "code",
   "execution_count": 67,
   "metadata": {},
   "outputs": [
    {
     "name": "stdout",
     "output_type": "stream",
     "text": [
      "The article contains the string \"oil\".\n",
      "The article contains the string \" oil \".\n",
      "The article contains the string \"Oil\".\n"
     ]
    }
   ],
   "source": [
    "if 'oil' in article:\n",
    "    print('The article contains the string \"oil\".')\n",
    "if ' oil ' in article:\n",
    "    print('The article contains the string \" oil \".')\n",
    "if 'Oil' in article:\n",
    "    print('The article contains the string \"Oil\".')"
   ]
  },
  {
   "cell_type": "markdown",
   "metadata": {},
   "source": [
    "This tells us more, as our code has found both `'Oil'` and `' oil '` (with spaces around it) in our string `article`. But consider this, the string `' oil '` won't be found if the string `'oil`' isn't, so we can nest the one `if` statement under the other so that our code will skip the more stringent test if the broader one fails."
   ]
  },
  {
   "cell_type": "code",
   "execution_count": 68,
   "metadata": {},
   "outputs": [
    {
     "name": "stdout",
     "output_type": "stream",
     "text": [
      "The article contains the string \"oil\".\n",
      "The article contains the string \" oil \".\n",
      "The article contains the string \"Oil\".\n"
     ]
    }
   ],
   "source": [
    "if 'oil' in article:\n",
    "    print('The article contains the string \"oil\".')\n",
    "    \n",
    "    if ' oil ' in article:\n",
    "        print('The article contains the string \" oil \".')\n",
    "        \n",
    "if 'Oil' in article:\n",
    "    print('The article contains the string \"Oil\".')"
   ]
  },
  {
   "cell_type": "markdown",
   "metadata": {},
   "source": [
    "All three `print()` statements still executed because all the Boolean expressions evaluate to `True`. Let's make our program smarter still. We only want to check for `'Oil'` if we can't find `'oil'`, so we tell Python to do this with an `elif` statement. The code indented under `elif` will be skipped if the `if`'s Boolean expression evaluates to `True`."
   ]
  },
  {
   "cell_type": "code",
   "execution_count": 69,
   "metadata": {},
   "outputs": [
    {
     "name": "stdout",
     "output_type": "stream",
     "text": [
      "The article contains the string \"oil\".\n",
      "The article contains the string \" oil \".\n"
     ]
    }
   ],
   "source": [
    "if 'oil' in article:\n",
    "    print('The article contains the string \"oil\".')\n",
    "    \n",
    "    if ' oil ' in article:\n",
    "        print('The article contains the string \" oil \".')\n",
    "        \n",
    "elif 'Oil' in article:\n",
    "    print('The article contains the string \"Oil\".')"
   ]
  },
  {
   "cell_type": "markdown",
   "metadata": {},
   "source": [
    "Finally, let's add an `else` statement to print a different message if neither `'oil'` nor `'Oil'` is found."
   ]
  },
  {
   "cell_type": "code",
   "execution_count": 70,
   "metadata": {},
   "outputs": [
    {
     "name": "stdout",
     "output_type": "stream",
     "text": [
      "The article contains the string \"oil\".\n",
      "The article contains the string \" oil \".\n"
     ]
    }
   ],
   "source": [
    "if 'oil' in article:\n",
    "    print('The article contains the string \"oil\".')\n",
    "    \n",
    "    if ' oil ' in article:\n",
    "        print('The article contains the string \" oil \".')\n",
    "        \n",
    "elif 'Oil' in article:\n",
    "    print('The article contains the string \"Oil\".')\n",
    "    \n",
    "else:\n",
    "    print('The article is probably not about oil')"
   ]
  },
  {
   "cell_type": "markdown",
   "metadata": {},
   "source": [
    "Pieces of code containing `if`, `elif`, and `else` statements are called `if` _blocks_. An `if` block can have one `if`, zero to many `elif`s, and one `else`. After the `else`, any new `if` statement begin their own `if` block. Knowing which lines belong to which `if` block is important, because only one indented piece of code will run inside each `if` block. After a true Boolean expression is evaluated, the rest of the `if` block will be skipped."
   ]
  },
  {
   "cell_type": "markdown",
   "metadata": {},
   "source": [
    "<hr>\n",
    "#### 4.4.1.2. Try it Out\n",
    "\n",
    "Exercise: Write an <font color=green>**if**</font> block to check whether someone is old enough to vote and print a decision message. "
   ]
  },
  {
   "cell_type": "code",
   "execution_count": 71,
   "metadata": {
    "collapsed": true
   },
   "outputs": [],
   "source": [
    "## YOUR CODE GOES HERE ##"
   ]
  },
  {
   "cell_type": "code",
   "execution_count": 72,
   "metadata": {},
   "outputs": [
    {
     "name": "stdout",
     "output_type": "stream",
     "text": [
      "You cannot vote\n"
     ]
    }
   ],
   "source": [
    "## INSTRUCTION SOLUTION(S) ##\n",
    "age = 4\n",
    "\n",
    "if age >= 18:\n",
    "    print('You can vote')\n",
    "    \n",
    "else:\n",
    "    print('You cannot vote')"
   ]
  },
  {
   "cell_type": "markdown",
   "metadata": {},
   "source": [
    "<hr>\n",
    "<a id=\"for\"></a>\n",
    "### 4.4.2. Iterating through a Sequence: Loops\n",
    "<hr>\n",
    "#### References:\n",
    "* [Python: The for statement](https://docs.python.org/3.4/reference/compound_stmts.html?highlight=while%20statement#the-for-statement)\n",
    "<hr>\n",
    "\n",
    "The power of computation is the ability to do a lot of actions very quickly. Imagine you have thousands of data points to analyze. First, you write some `if` statements to intelligently parse, cleanse, and account for the data, perhaps looking at some individual data points as examples to guide you. Now you have a script that works. But how do you actually execute your script on each of your thousands of data points?\n",
    "\n",
    "Python makes iterating, or looping, through a collection of data points easy and intuitive. Python has a statement called a `for` loop that automatically steps through a data collection, and allows you to execute code on the collection's individual elements. A `for` loop allows us to, for example, run a set of `if` blocks on each of the data points in a large data set. The following is a template for a `for` loop in Python.\n",
    "\n",
    "```python\n",
    "for item in collection:\n",
    "    do_something()\n",
    "```"
   ]
  },
  {
   "cell_type": "markdown",
   "metadata": {},
   "source": [
    "Start with a simple list of integers. The `for` loop takes each integer in the list in consecutive order and stores it temporarily in the variable `num`. This gives us the ability to operate on that variable in the indented space under the `for` statement. Because it temporarily holds each item in the list, `num` is called a _temporary variable_."
   ]
  },
  {
   "cell_type": "code",
   "execution_count": 73,
   "metadata": {
    "collapsed": true
   },
   "outputs": [],
   "source": [
    "num_list = [9, 12, 15, 18, 21, 24, 27, 30, 33, 36, 39]"
   ]
  },
  {
   "cell_type": "code",
   "execution_count": 74,
   "metadata": {},
   "outputs": [
    {
     "name": "stdout",
     "output_type": "stream",
     "text": [
      "19\n",
      "22\n",
      "25\n",
      "28\n",
      "31\n",
      "34\n",
      "37\n",
      "40\n",
      "43\n",
      "46\n",
      "49\n"
     ]
    }
   ],
   "source": [
    "for num in num_list:\n",
    "    num += 10\n",
    "    print(num)"
   ]
  },
  {
   "cell_type": "markdown",
   "metadata": {},
   "source": [
    "This works for any collection, including strings. Since strings are sequences of characters, the `for` loop iteratively grabs each character in the string."
   ]
  },
  {
   "cell_type": "code",
   "execution_count": 75,
   "metadata": {
    "collapsed": true
   },
   "outputs": [],
   "source": [
    "animals = 'dogs and cats'"
   ]
  },
  {
   "cell_type": "code",
   "execution_count": 76,
   "metadata": {},
   "outputs": [
    {
     "name": "stdout",
     "output_type": "stream",
     "text": [
      "D\n",
      "O\n",
      "G\n",
      "S\n",
      " \n",
      "A\n",
      "N\n",
      "D\n",
      " \n",
      "C\n",
      "A\n",
      "T\n",
      "S\n"
     ]
    }
   ],
   "source": [
    "for char in animals:\n",
    "    print(char.upper())"
   ]
  },
  {
   "cell_type": "markdown",
   "metadata": {},
   "source": [
    "Each character in `animals` is stored in the variable `char` and processed individually. In this case, we used the `for` loop to change each element using the `.upper()` method.  \n",
    "\n",
    "When you are working with data, you often want to store your processed data in new collections that you create. Above, all we did was print the data on the screen. What if we want to store it instead in another list?"
   ]
  },
  {
   "cell_type": "code",
   "execution_count": 77,
   "metadata": {
    "collapsed": true
   },
   "outputs": [],
   "source": [
    "new_list = []\n",
    "\n",
    "for num in num_list:\n",
    "    new_list.append(num - 100)"
   ]
  },
  {
   "cell_type": "markdown",
   "metadata": {},
   "source": [
    "Now we have a new collection with modified data to work with!"
   ]
  },
  {
   "cell_type": "code",
   "execution_count": 78,
   "metadata": {},
   "outputs": [
    {
     "data": {
      "text/plain": [
       "[-91, -88, -85, -82, -79, -76, -73, -70, -67, -64, -61]"
      ]
     },
     "execution_count": 78,
     "metadata": {},
     "output_type": "execute_result"
    }
   ],
   "source": [
    "new_list"
   ]
  },
  {
   "cell_type": "markdown",
   "metadata": {},
   "source": [
    "#### Discussion Question:\n",
    "What is the variable `num` doing in the <font color=green>**for**</font> loop above?"
   ]
  },
  {
   "cell_type": "markdown",
   "metadata": {},
   "source": [
    "<hr>\n",
    "#### 4.4.2.1. Temporary Variables\n",
    "\n",
    "Python <font color=green>**for**</font> loops require us to define a variable to store each element from our sequence. We saw this above with `num` and `char`. Temporary variable names follow the same naming conventions as normal Python variables, and you can name them whatever you want. Most of the time, it helps to choose descriptive temporary variable names.\n",
    "\n",
    "You can also put any code you want in a `for` loop's indented space, including conditionals and other `for` loops."
   ]
  },
  {
   "cell_type": "code",
   "execution_count": 79,
   "metadata": {},
   "outputs": [
    {
     "name": "stdout",
     "output_type": "stream",
     "text": [
      "dog\n",
      "cat\n",
      "SNAKE!\n",
      "rabbit\n",
      "LION!\n",
      "mouse\n"
     ]
    }
   ],
   "source": [
    "animals_list = ['dog', 'cat', 'snake', 'rabbit', 'lion', 'mouse']\n",
    "\n",
    "for animal in animals_list:\n",
    "    \n",
    "    if animal in ['snake', 'lion']:\n",
    "        print(animal.upper() + '!')\n",
    "        \n",
    "    else:\n",
    "        print(animal)"
   ]
  },
  {
   "cell_type": "markdown",
   "metadata": {},
   "source": [
    "#### 4.4.2.1.1. Try it Out\n",
    "\n",
    "Exercise: Write a <font color=green>**for**</font> loop using one or more of the following sequences, or a collection you make on yourself."
   ]
  },
  {
   "cell_type": "code",
   "execution_count": 80,
   "metadata": {
    "collapsed": true
   },
   "outputs": [],
   "source": [
    "countries = ['USA', 'Mexico', 'Canada']\n",
    "\n",
    "numbers = [2, 4, 86, 190]\n",
    "\n",
    "sample_string = 'This is a Sample String'"
   ]
  },
  {
   "cell_type": "code",
   "execution_count": 81,
   "metadata": {
    "collapsed": true
   },
   "outputs": [],
   "source": [
    "## YOUR CODE GOES HERE ##"
   ]
  },
  {
   "cell_type": "code",
   "execution_count": 82,
   "metadata": {},
   "outputs": [
    {
     "name": "stdout",
     "output_type": "stream",
     "text": [
      "USA\n",
      "Mexico\n",
      "Canada\n"
     ]
    }
   ],
   "source": [
    "## INSTRUCTION SOLUTION(S) ##\n",
    "for country in countries:\n",
    "    print(country)"
   ]
  },
  {
   "cell_type": "markdown",
   "metadata": {},
   "source": [
    "<hr>\n",
    "#### 4.4.2.2. While Loops\n",
    "<hr>\n",
    "#### References:\n",
    "* [Python: The while statement](https://docs.python.org/3.4/reference/compound_stmts.html#while)\n",
    "* [TutorialsPoint: Python - Loops](https://www.tutorialspoint.com/python/python_loops.htm)\n",
    "<hr>\n",
    "\n",
    "The <b><font color=\"green\">while</font></b> loop repeats a statement or group of statements while a given Boolean test expression is <b><font color=\"green\">True</font></b>. The <b><font color=\"green\">while</font></b> loop tests the Boolean test expression before executing the loop body.\n",
    "\n",
    "<img src=\"./GRAPHICS/While_Loop.png\" width=\"33%\"><br>\n",
    "\n",
    "The code below shows the syntax for implementing a <b><font color=\"green\">while</font></b> loop. Once the Boolean expression becomes <b><font color=\"green\">False</font></b>, the loop is terminated.\n",
    "```python\n",
    "while boolean_expression:\n",
    "    do_something()\n",
    "```\n",
    "The <b><font color=\"green\">while</font></b> loop is different from the <b><font color=\"green\">for</font></b> loop in that it will keep looping until its condition evaluates to <b><font color=\"green\">False</font></b>."
   ]
  },
  {
   "cell_type": "code",
   "execution_count": 83,
   "metadata": {
    "collapsed": true
   },
   "outputs": [],
   "source": [
    "count = 0"
   ]
  },
  {
   "cell_type": "code",
   "execution_count": 84,
   "metadata": {},
   "outputs": [
    {
     "name": "stdout",
     "output_type": "stream",
     "text": [
      "0\n",
      "1\n",
      "2\n",
      "3\n",
      "4\n",
      "5\n",
      "6\n",
      "7\n",
      "8\n",
      "9\n"
     ]
    }
   ],
   "source": [
    "while count != 10:\n",
    "    print(count)\n",
    "    count += 1"
   ]
  },
  {
   "cell_type": "markdown",
   "metadata": {},
   "source": [
    "Just like in a <font color=green>**for**</font> loop, we can put any code we want inside a <font color=green>**while**</font> loop, including conditionals and other loops. For example:"
   ]
  },
  {
   "cell_type": "code",
   "execution_count": 85,
   "metadata": {},
   "outputs": [
    {
     "name": "stdout",
     "output_type": "stream",
     "text": [
      "Count = 0\n",
      "condition: True\n",
      "Count = 1\n",
      "condition: True\n",
      "Count = 2\n",
      "condition: True\n",
      "Count = 3\n",
      "condition: True\n",
      "Count = 4\n",
      "condition: True\n",
      "Count = 5\n",
      "condition: True\n",
      "Count = 6\n",
      "condition: True\n",
      "Count = 7\n",
      "condition: True\n",
      "Count = 8\n",
      "condition: True\n",
      "Count = 9\n",
      "condition: True\n",
      "Count = 10\n",
      "condition: False <--- DONE\n"
     ]
    }
   ],
   "source": [
    "count = 0\n",
    "boolean_val = False\n",
    "\n",
    "while boolean_val == False:\n",
    "    print('Count =', count)\n",
    "    \n",
    "    if count == 10:\n",
    "        boolean_val = True\n",
    "        print('condition:', boolean_val == False, '<--- DONE')\n",
    "        \n",
    "    else:\n",
    "        count += 1\n",
    "        print('condition:', boolean_val == False)"
   ]
  },
  {
   "cell_type": "markdown",
   "metadata": {},
   "source": [
    "A <b><font color=\"green\">while</font></b> loop's Boolean expression can check anything in our script. Above, we set the variables `count` to `0` and `boolean_val` to <b><font color=\"green\">False</font></b>. \n",
    "\n",
    "With each pass through the loop, the <b><font color=\"green\">while</font></b> statement checks if `boolean_val` is <b><font color=\"green\">False</font></b>. In the body of the loop, if the value of `count` is not equal to `10`, the <b><font color=\"green\">else</font></b> code is executed, which adds `1` to the value of `count`. When `count` equals `10`, `boolean_val` is set to <b><font color=\"green\">True</font></b> and the <b><font color=\"green\">while</font></b> loop terminates."
   ]
  },
  {
   "cell_type": "markdown",
   "metadata": {},
   "source": [
    "<hr>\n",
    "#### 4.4.2.3. Testing Other Conditions"
   ]
  },
  {
   "cell_type": "markdown",
   "metadata": {},
   "source": [
    "In the next example, we define the variable `temperature` as `115`. We use the <b><font color=\"green\">while</font></b> loop to print out `temperature`. Since we subtract `1` from `temperature` on each pass through the loop, eventually, `temperature` reaches `112` and the loop is terminated. Our script then moves to the next line of code that's not indented under the <b><font color=\"green\">while</font></b>."
   ]
  },
  {
   "cell_type": "code",
   "execution_count": 86,
   "metadata": {},
   "outputs": [
    {
     "name": "stdout",
     "output_type": "stream",
     "text": [
      "115\n",
      "114\n",
      "113\n",
      "The tea is cool enough.\n"
     ]
    }
   ],
   "source": [
    "temperature = 115  \n",
    "\n",
    "while temperature > 112:\n",
    "    print(temperature)\n",
    "    temperature -= 1\n",
    "\n",
    "print('The tea is cool enough.')"
   ]
  },
  {
   "cell_type": "markdown",
   "metadata": {},
   "source": [
    "<hr>\n",
    "#### 4.4.2.4. Infinite Loops"
   ]
  },
  {
   "cell_type": "markdown",
   "metadata": {},
   "source": [
    "Use caution when using <font color=green>**while**</font> loops. Since, a <b><font color=\"green\">while</font></b> loop will continue until its Boolean expression is false, it is possible for a loop to continue forever. Infinite loops usually break your script, and should be avoided.\n",
    "\n",
    "Below, we're written a <b><font color=\"green\">while</font></b> loop that will execute infinitely, because its condition will never be false. We didn't put this in a code cell because running it could cause your notebook to freeze!\n",
    "\n",
    "```python\n",
    "while 1 > 0:\n",
    "    print('I am running!')\n",
    "```\n",
    "\n",
    "If you end up running an infinite loop in your notebook, you'll need to manually interrupt the process. The \"Interrupt\" option in the notebook's \"Kernel\" menu will attempt to interrupt any ongoing Python operations. If this option does not work, try using \"Restart & Clear Output.\" This will restart the kernel and clear the output from every cell in the notebook. \n",
    "\n",
    "NOTE: Restarting your kernel wipes all variables from memory, so you will need to rerun your cells starting from the top of the notebook."
   ]
  },
  {
   "cell_type": "markdown",
   "metadata": {},
   "source": [
    "<hr>\n",
    "#### 4.4.2.5. Break and Continue\n",
    "<hr>\n",
    "#### References:\n",
    "* [Python: break and continue Statements, and else Clauses on Loops](https://docs.python.org/3.4/tutorial/controlflow.html#break-and-continue-statements-and-else-clauses-on-loops)\n",
    "* [TutorialsPoint: Python break, continue and pass Statements](http://www.tutorialspoint.com/python/python_loop_control.htm)\n",
    "<hr>\n",
    "\n",
    "The <font color=green>**break**</font> statement terminates the `for` or `while` loop it is nested under. Programmers sometimes put a <font color=green>**break**</font> statement in `while` loops they are developing to make sure they don't run infinitely. But <font color=green>**break**</font> statements are useful in other cases too, such as terminating a `for` loop if a certain condition is met. The graphic below illustrates how <font color=green>**break**</font> statement affect the flow of your code.\n",
    "\n",
    "![](./GRAPHICS/break.png)\n",
    "\n",
    "Below is a `for` loop that iterates through each character in a string. If the current character is a `'g'`, the <font color=green>**break**</font> statement is executed and the loop ends."
   ]
  },
  {
   "cell_type": "code",
   "execution_count": 87,
   "metadata": {},
   "outputs": [
    {
     "name": "stdout",
     "output_type": "stream",
     "text": [
      "Current Character: H\n",
      "Current Character: e\n",
      "Current Character: l\n",
      "Current Character: l\n",
      "Current Character: o\n",
      "Current Character: .\n",
      "Current Character:  \n",
      "Current Character: M\n",
      "Current Character: y\n",
      "Current Character:  \n",
      "Current Character: n\n",
      "Current Character: a\n",
      "Current Character: m\n",
      "Current Character: e\n",
      "Current Character:  \n",
      "Current Character: i\n",
      "Current Character: s\n",
      "Current Character:  \n",
      "Current Character: I\n",
      "Current Character: n\n",
      "Current Character: i\n"
     ]
    }
   ],
   "source": [
    "for letter in 'Hello. My name is Inigo Montoya. You killed my father. Prepare to die.':     \n",
    "    if letter == 'g':\n",
    "        break\n",
    "        \n",
    "    print('Current Character:', letter)"
   ]
  },
  {
   "cell_type": "markdown",
   "metadata": {},
   "source": [
    "The `for` loop below doesn't hit the <font color=green>**break**</font> statement until `count` equals `6`. Until then, the code prints the value of `count`."
   ]
  },
  {
   "cell_type": "code",
   "execution_count": 88,
   "metadata": {},
   "outputs": [
    {
     "name": "stdout",
     "output_type": "stream",
     "text": [
      "count: 9\n",
      "count: 8\n",
      "count: 7\n",
      "Done!\n"
     ]
    }
   ],
   "source": [
    "count = 10\n",
    "\n",
    "while count > 0:\n",
    "    count -= 1\n",
    "    \n",
    "    if count == 6:\n",
    "        break\n",
    "        \n",
    "    print('count:', count)\n",
    "    \n",
    "print('Done!')"
   ]
  },
  {
   "cell_type": "markdown",
   "metadata": {},
   "source": [
    "Another flow control statement is <font color=green>**continue**</font>. It skips any code following it in the closest `for` or `while` loop, and begins the next loop iteration. This is similar to <font color=green>**break**</font>, but instead of terminating the entire loop it just terminates the current iteration and the loop continues to execute. The graphic below illustrates how the <font color=green>**continue**</font> statement affects the flow of your code.\n",
    "\n",
    "![](./GRAPHICS/continue.png)\n",
    "\n",
    "The <font color=green>**continue**</font> statement can only be used in <font color=green>**while**</font> and <font color=green>**for**</font> loops. Note the difference between the output of the following code cell and the previous one. The print statement is skipped when `count` equals `6`, but the loop continues with the next iteration."
   ]
  },
  {
   "cell_type": "code",
   "execution_count": 89,
   "metadata": {},
   "outputs": [
    {
     "name": "stdout",
     "output_type": "stream",
     "text": [
      "count: 9\n",
      "count: 8\n",
      "count: 7\n",
      "count: 5\n",
      "count: 4\n",
      "count: 3\n",
      "count: 2\n",
      "count: 1\n",
      "count: 0\n",
      "Done!\n"
     ]
    }
   ],
   "source": [
    "count = 10\n",
    "\n",
    "while count > 0:\n",
    "    count -= 1\n",
    "    \n",
    "    if count == 6:\n",
    "        continue\n",
    "        \n",
    "    print('count:', count)\n",
    "    \n",
    "print('Done!')"
   ]
  },
  {
   "cell_type": "code",
   "execution_count": 90,
   "metadata": {
    "collapsed": true
   },
   "outputs": [],
   "source": [
    "## Try some code ideas here ##"
   ]
  },
  {
   "cell_type": "markdown",
   "metadata": {},
   "source": [
    "<hr>\n",
    "<a id=\"Functions\"></a>\n",
    "### 4.4.3. Functions\n",
    "<hr>\n",
    "#### References:\n",
    "* [Python: Defining Functions](https://docs.python.org/3.5/tutorial/controlflow.html#defining-functions)\n",
    "* [TutorialsPoint: Python - Functions](https://www.tutorialspoint.com/python/python_functions.htm)\n",
    "<hr>\n",
    "\n",
    "Functions in Python are blocks of organized, reusable code. Once you define a function, you just have to call its name to run the code stored inside. Thus running a function is often referred to as _calling_ the function. Below is a basic template for a function in Python.\n",
    "\n",
    "```Python        \n",
    "def function_name():\n",
    "    do_something()\n",
    " ```  \n",
    "\n",
    "To define a new function, you use the <font color=green>**def**</font> keyword, followed by the function name and a set of parentheses. The code you want your function to run is indented under the <font color=green>**def**</font> statement. To call a function, we simply type its name followed by a set of parentheses, like this:\n",
    "\n",
    "```Python\n",
    "function_name()\n",
    "```\n",
    "\n",
    "First, a simple example. Below is a function called `sample_function()` that just runs one `print()` statement."
   ]
  },
  {
   "cell_type": "code",
   "execution_count": 91,
   "metadata": {
    "collapsed": true
   },
   "outputs": [],
   "source": [
    "def sample_function():\n",
    "    print('Hello World!')"
   ]
  },
  {
   "cell_type": "markdown",
   "metadata": {},
   "source": [
    "We just defined `sample_function()`. We don't see the output from the `print()` statement because we haven't really run the code yet. Figuratively speaking, we just saved a code recipe. Anytime we want to follow the recipe, we just have to type the function name."
   ]
  },
  {
   "cell_type": "code",
   "execution_count": 92,
   "metadata": {},
   "outputs": [
    {
     "name": "stdout",
     "output_type": "stream",
     "text": [
      "Hello World!\n"
     ]
    }
   ],
   "source": [
    "sample_function()"
   ]
  },
  {
   "cell_type": "markdown",
   "metadata": {},
   "source": [
    "We can also use values from our script inside functions. To do so, pass those values as arguments, or parameters, into the function. Give the function a temporary variable inside the parentheses in the <font color=green>**def**</font> statement. Then use that temporary variable anywhere you want to use a value when the function executes. Below is a simple example. The value stored in the temporary variable `name` will be concatenated with other strings and printed out when the function runs."
   ]
  },
  {
   "cell_type": "code",
   "execution_count": 93,
   "metadata": {
    "collapsed": true
   },
   "outputs": [],
   "source": [
    "def say_goodmorning(name):\n",
    "    print('Good morning, ' + name + '!')"
   ]
  },
  {
   "cell_type": "markdown",
   "metadata": {},
   "source": [
    "Now we can call the function with any string value we want. Here, we just pass in a literal string, but we could also pass our function a variable that holds a string as well."
   ]
  },
  {
   "cell_type": "code",
   "execution_count": 94,
   "metadata": {},
   "outputs": [
    {
     "name": "stdout",
     "output_type": "stream",
     "text": [
      "Good morning, John!\n"
     ]
    }
   ],
   "source": [
    "say_goodmorning('John')"
   ]
  },
  {
   "cell_type": "markdown",
   "metadata": {},
   "source": [
    "We can use multiple parameters to define more complex functions."
   ]
  },
  {
   "cell_type": "code",
   "execution_count": 95,
   "metadata": {
    "collapsed": true
   },
   "outputs": [],
   "source": [
    "def say_goodnight(friends, current_time, bedtime):\n",
    "    while current_time < bedtime:\n",
    "        print(\"It's\", current_time, \"PM\")\n",
    "        current_time += 1\n",
    "        \n",
    "    for friend in friends:\n",
    "        print('Goodnight', friend + '!')"
   ]
  },
  {
   "cell_type": "markdown",
   "metadata": {},
   "source": [
    "Often, variable names in your script will match the temporary variables that make up the arguments in your function. But even if they have the same name, the variable in the function and the one in your script are treated as separate entities. Below we define three variables in our script and then pass those variables into our function."
   ]
  },
  {
   "cell_type": "code",
   "execution_count": 96,
   "metadata": {
    "collapsed": true
   },
   "outputs": [],
   "source": [
    "friends = ['John', 'Kerri', 'Delfina', 'Rajesh', 'Elija', 'Seth']\n",
    "bedtime = 9\n",
    "current_time = 5"
   ]
  },
  {
   "cell_type": "code",
   "execution_count": 97,
   "metadata": {},
   "outputs": [
    {
     "name": "stdout",
     "output_type": "stream",
     "text": [
      "It's 5 PM\n",
      "It's 6 PM\n",
      "It's 7 PM\n",
      "It's 8 PM\n",
      "Goodnight John!\n",
      "Goodnight Kerri!\n",
      "Goodnight Delfina!\n",
      "Goodnight Rajesh!\n",
      "Goodnight Elija!\n",
      "Goodnight Seth!\n"
     ]
    }
   ],
   "source": [
    "say_goodnight(friends, current_time, bedtime)"
   ]
  },
  {
   "cell_type": "markdown",
   "metadata": {},
   "source": [
    "<hr>\n",
    "#### 4.4.3.1. The Return Statement\n",
    "\n",
    "\n",
    "The <b><font color=\"green\">return</font></b> statement exits a function, optionally passing back a value as output back into the script. If you don't include a <b><font color=\"green\">return</font></b> statement, your function will return <b><font color=\"green\">None</font></b>. Same goes for if you include a <b><font color=\"green\">return</font></b> statement with nothing after it.\n",
    "\n",
    "Below is a function where we compute the square of a number and then return the result. Note that if an expression follows the <b><font color=\"green\">return</font></b> statement, the expression will be evaluated and the result will be returned."
   ]
  },
  {
   "cell_type": "code",
   "execution_count": 98,
   "metadata": {
    "collapsed": true
   },
   "outputs": [],
   "source": [
    "def squared(number):\n",
    "    return number * number"
   ]
  },
  {
   "cell_type": "markdown",
   "metadata": {},
   "source": [
    "Now when we call this function, we see the squared result as output. This means we can store the output into a variable for use later."
   ]
  },
  {
   "cell_type": "code",
   "execution_count": 99,
   "metadata": {},
   "outputs": [
    {
     "data": {
      "text/plain": [
       "36"
      ]
     },
     "execution_count": 99,
     "metadata": {},
     "output_type": "execute_result"
    }
   ],
   "source": [
    "squared(6)"
   ]
  },
  {
   "cell_type": "code",
   "execution_count": 100,
   "metadata": {},
   "outputs": [
    {
     "data": {
      "text/plain": [
       "36"
      ]
     },
     "execution_count": 100,
     "metadata": {},
     "output_type": "execute_result"
    }
   ],
   "source": [
    "my_num = squared(6)\n",
    "my_num"
   ]
  },
  {
   "cell_type": "markdown",
   "metadata": {},
   "source": [
    "The <b><font color=\"green\">return</font></b> statement allows us to return a value from the function to use outside of the function in our larger script. If we change the function `squared()` above, removing the <b><font color=\"green\">return</font></b> statement and substituting in a `print()` statement instead, we'll see the use of <b><font color=\"green\">return</font></b>."
   ]
  },
  {
   "cell_type": "code",
   "execution_count": 101,
   "metadata": {
    "collapsed": true
   },
   "outputs": [],
   "source": [
    "def squared(number):\n",
    "    print(number * number)"
   ]
  },
  {
   "cell_type": "markdown",
   "metadata": {},
   "source": [
    "When we call this new function, we'll see the squared result printed to the screen, but nothing will be output. This means the number was printed but it's not available to store into a variable in our script."
   ]
  },
  {
   "cell_type": "code",
   "execution_count": 102,
   "metadata": {},
   "outputs": [
    {
     "name": "stdout",
     "output_type": "stream",
     "text": [
      "36\n"
     ]
    }
   ],
   "source": [
    "squared(6)"
   ]
  },
  {
   "cell_type": "code",
   "execution_count": 103,
   "metadata": {},
   "outputs": [
    {
     "name": "stdout",
     "output_type": "stream",
     "text": [
      "36\n",
      "None\n"
     ]
    }
   ],
   "source": [
    "my_num = squared(6)\n",
    "\n",
    "print(my_num)"
   ]
  },
  {
   "cell_type": "markdown",
   "metadata": {},
   "source": [
    "Sometimes functions do not need to <b><font color=\"green\">return</font></b> an output in order to accomplish their tasks. Examples include changing an existing data object or closing a file. For instance, the `.append()` method for lists doesn't return anything (technically, it returns <b><font color=\"green\">None</font></b>), but rather changes the underlying object that it operates on. We can see this by saving the result of a `.append()` call to a variable and printing it out."
   ]
  },
  {
   "cell_type": "code",
   "execution_count": 104,
   "metadata": {},
   "outputs": [
    {
     "name": "stdout",
     "output_type": "stream",
     "text": [
      "None\n"
     ]
    }
   ],
   "source": [
    "test_var = friends.append('Susana')\n",
    "\n",
    "print(test_var)"
   ]
  },
  {
   "cell_type": "markdown",
   "metadata": {},
   "source": [
    "<hr>\n",
    "#### 4.4.3.2. Variable Namespaces\n",
    "\n",
    "Variables in Python exist in *namespaces*. A namespace is like a mini universe where variable and function names are mapped to specific values and pieces of code. In one universe, the variable `my_num` might store the value `5`, while in another the variable `my_num` might store `7437`. Variables created inside functions are only accessible inside those functions. The parts of your code where a variable is accessible is called the variable's *scope*. \n",
    "\n",
    "Scope determines:\n",
    "* What segments of your code have access to a variable\n",
    "* What value the variable will map to when called  \n",
    "* What will be impacted when that variable is edited\n",
    "\n",
    "Look at this simple example first:\n",
    "\n",
    "```python\n",
    "def say_goodmorning(name):\n",
    "    print('Good morning, ' + name + '!')\n",
    "    \n",
    "print(name)\n",
    "```   \n",
    "What will happen if you execute this script? Try it below."
   ]
  },
  {
   "cell_type": "code",
   "execution_count": 105,
   "metadata": {},
   "outputs": [
    {
     "ename": "NameError",
     "evalue": "name 'name' is not defined",
     "output_type": "error",
     "traceback": [
      "\u001b[1;31m---------------------------------------------------------------------------\u001b[0m",
      "\u001b[1;31mNameError\u001b[0m                                 Traceback (most recent call last)",
      "\u001b[1;32m<ipython-input-105-61b3796cb33a>\u001b[0m in \u001b[0;36m<module>\u001b[1;34m()\u001b[0m\n\u001b[0;32m      2\u001b[0m     \u001b[0mprint\u001b[0m\u001b[1;33m(\u001b[0m\u001b[1;34m'Good morning, '\u001b[0m \u001b[1;33m+\u001b[0m \u001b[0mname\u001b[0m \u001b[1;33m+\u001b[0m \u001b[1;34m'!'\u001b[0m\u001b[1;33m)\u001b[0m\u001b[1;33m\u001b[0m\u001b[0m\n\u001b[0;32m      3\u001b[0m \u001b[1;33m\u001b[0m\u001b[0m\n\u001b[1;32m----> 4\u001b[1;33m \u001b[0mprint\u001b[0m\u001b[1;33m(\u001b[0m\u001b[0mname\u001b[0m\u001b[1;33m)\u001b[0m\u001b[1;33m\u001b[0m\u001b[0m\n\u001b[0m",
      "\u001b[1;31mNameError\u001b[0m: name 'name' is not defined"
     ]
    }
   ],
   "source": [
    "def say_goodmorning(name):\n",
    "    print('Good morning, ' + name + '!')\n",
    "    \n",
    "print(name)"
   ]
  },
  {
   "cell_type": "markdown",
   "metadata": {},
   "source": [
    "The variable `name` is only used inside the function `say_goodmorning()`. The function's namespace contains the variable, but our script's namespace doesn't. Therefore, the variable isn't defined when we try to access it in the larger script. Your larger script's namespace is often called the _global_ namespace.\n",
    "\n",
    "Let's look at another example. The `namespace_example()` function requires three values to be passed in. The entire function has access to those three variables because they exist within its scope. This function prints the three values passed in, increments each by one, and then prints the new incremented values."
   ]
  },
  {
   "cell_type": "code",
   "execution_count": 106,
   "metadata": {
    "collapsed": true
   },
   "outputs": [],
   "source": [
    "def namespace_example(x, y, z):\n",
    "    \n",
    "    print(x, y, z)\n",
    "    \n",
    "    x += 1\n",
    "    y += 1\n",
    "    z += 1\n",
    "    \n",
    "    print(x, y, z)"
   ]
  },
  {
   "cell_type": "markdown",
   "metadata": {},
   "source": [
    "Let's test the function out."
   ]
  },
  {
   "cell_type": "code",
   "execution_count": 107,
   "metadata": {},
   "outputs": [
    {
     "name": "stdout",
     "output_type": "stream",
     "text": [
      "1 2 3\n",
      "2 3 4\n"
     ]
    }
   ],
   "source": [
    "namespace_example(1, 2, 3)"
   ]
  },
  {
   "cell_type": "markdown",
   "metadata": {},
   "source": [
    "Now, the following variables are initialized in the script's global namespace"
   ]
  },
  {
   "cell_type": "code",
   "execution_count": 108,
   "metadata": {
    "collapsed": true
   },
   "outputs": [],
   "source": [
    "x = 1\n",
    "y = 2\n",
    "z = 3"
   ]
  },
  {
   "cell_type": "markdown",
   "metadata": {},
   "source": [
    "We'll now call the function with the global variables as arguments. The global values of `x`, `y`, and `z` are passed into the function's namespace, altered inside of the function, and then printed. "
   ]
  },
  {
   "cell_type": "code",
   "execution_count": 109,
   "metadata": {},
   "outputs": [
    {
     "name": "stdout",
     "output_type": "stream",
     "text": [
      "1 2 3\n",
      "2 3 4\n"
     ]
    }
   ],
   "source": [
    "namespace_example(x, y, z)"
   ]
  },
  {
   "cell_type": "markdown",
   "metadata": {},
   "source": [
    "All this behavior happens within the function's namespace, so when we check the values of `x`, `y`, and `z` in our global script, we see the original, unaltered values."
   ]
  },
  {
   "cell_type": "code",
   "execution_count": 110,
   "metadata": {
    "scrolled": true
   },
   "outputs": [
    {
     "data": {
      "text/plain": [
       "(1, 2, 3)"
      ]
     },
     "execution_count": 110,
     "metadata": {},
     "output_type": "execute_result"
    }
   ],
   "source": [
    "x, y, z"
   ]
  },
  {
   "cell_type": "markdown",
   "metadata": {},
   "source": [
    "<hr>\n",
    "<a id=\"guided\"></a>\n",
    "## 4.5. Guided Exercise: Loops and Conditionals"
   ]
  },
  {
   "cell_type": "markdown",
   "metadata": {},
   "source": [
    "<b><font color = \"brick\">Instructor Guidance</font>: Refer back to Lesson 1 and relate the four steps of problem-solving using Computational Thinking (Decomposition, Pattern Recognition, Abstraction, & Algorithm Design) as appropriate throughout these exercises.</b>"
   ]
  },
  {
   "cell_type": "markdown",
   "metadata": {},
   "source": [
    "<hr>\n",
    "#### References:\n",
    "* [Python: Built-in Functions](https://docs.python.org/3.4/library/functions.html)\n",
    "* [Python: The for statement](https://docs.python.org/3.4/reference/compound_stmts.html?highlight=while%20statement#the-for-statement)\n",
    "* [Python: The if statement](https://docs.python.org/3.4/reference/compound_stmts.html#if)\n",
    "* [TutorialsPoint: Python IF...ELIF...ELSE Statements](https://www.tutorialspoint.com/python/python_if_else.htm)\n",
    "* [Python: The while statement](https://docs.python.org/3.4/reference/compound_stmts.html#while)\n",
    "* [TutorialsPoint: Python - Loops](https://www.tutorialspoint.com/python/python_loops.htm)\n",
    "* [Python: break and continue Statements, and Else clauses on Loops](https://docs.python.org/3.4/tutorial/controlflow.html#break-and-continue-statements-and-else-clauses-on-loops)\n",
    "* [TutorialsPoint: Python break, continue and pass Statements](http://www.tutorialspoint.com/python/python_loop_control.htm)\n",
    "* [Python: Defining Functions](https://docs.python.org/3.5/tutorial/controlflow.html#defining-functions)\n",
    "* [TutorialsPoint: Python - Functions](https://www.tutorialspoint.com/python/python_functions.htm)\n",
    "<hr>"
   ]
  },
  {
   "cell_type": "markdown",
   "metadata": {},
   "source": [
    "### Directions\n",
    "Part 1. Given a list of users and the credit card of their choice along with the number of transactions using that card, find out which credit card has the most users, and which has the most transactions.\n",
    "\n",
    "```python\n",
    "sales_list = [['Dave D.', 'Visa', 31], ['Will W.', 'Mastercard', 20], ['Sally S.', 'Discover', 400],\n",
    "              ['Mike M.', 'Visa', 45], ['Eddie E.', 'Mastercard', 32], ['Jessie J.', 'Mastercard', 16],\n",
    "              ['Matthew M.', 'Discover', 25], ['Jake J.', 'Visa', 21], ['Lennie L.', 'Mastercard', 54],\n",
    "              ['Johnny C.', 'Visa', 61], ['Rebecca R.', 'Discover', 31], ['Josh B.', 'Visa', 45]]\n",
    "```"
   ]
  },
  {
   "cell_type": "markdown",
   "metadata": {},
   "source": [
    "First, apply computational thinking:   \n",
    "\n",
    "\n",
    ">1. **Decomposition:** Breaking down data, processes, or problems into smaller, manageable parts\n",
    ">    1. Inputs: A list of lists\n",
    ">    2. Outputs: The most popular credit card (Part 1), and the card with highest number of transactions (Part 2)\n",
    "<br><br>    \n",
    ">2. **Pattern Recognition:** Observing patterns, trends, and regularities in data\n",
    ">    1. We have a list of lists, where the first item of the sublist is the name of the card holder, the second item is the card type, and the third item is the number of transactions.\n",
    "<br><br>       \n",
    ">3. **Abstraction:** Identifying the general principles that generate these patterns\n",
    ">    1. We see three different types of credit cards, but with larger data sets other credit card types could appear.\n",
    ">    2. We see a variance in the number of transactions from 20 to 400, but this variance could increase with more data points.\n",
    "<br><br>\n",
    ">4. **Algorithm Design:** Developing the step by step instructions for solving this and similar problems \n",
    ">     1. Input the list.   \n",
    ">     2. Count the number of users with each card.<br>\n",
    "    >     B1. Define a dictionary to hold the counts for each card type.                                                \n",
    "    >     B2. Iterate through the each sublist, check the item at index `1`, and increment the value for that card.\n",
    ">     3. Find the maximum count of the card types dictionary.                                                         \n",
    ">     4. Iterate through the items of the dictionary and print the key value pair for which the value is equal to maximum count.                                                                                               "
   ]
  },
  {
   "cell_type": "markdown",
   "metadata": {},
   "source": [
    "First, we save our inputs into memory."
   ]
  },
  {
   "cell_type": "code",
   "execution_count": 111,
   "metadata": {
    "collapsed": true
   },
   "outputs": [],
   "source": [
    "cards_list = [['Dave D.', 'Visa', 31], ['Will W.', 'Mastercard', 20], ['Sally S.', 'Discover', 400],\n",
    "              ['Mike M.', 'Visa', 45], ['Eddie E.', 'Mastercard', 32], ['Jessie J.', 'Mastercard', 16],\n",
    "              ['Matthew M.', 'Discover', 25], ['Jake J.', 'Visa', 21], ['Lennie L.', 'Mastercard', 54],\n",
    "              ['Johnny C.', 'Visa', 61], ['Rebecca R.', 'Discover', 31], ['Josh Baker', 'Visa', 45]]"
   ]
  },
  {
   "cell_type": "markdown",
   "metadata": {},
   "source": [
    "Next, we define a dictionary to hold user counts for each card type. We only have three different card types, so we can initialize and populate the dictionary manually."
   ]
  },
  {
   "cell_type": "code",
   "execution_count": 112,
   "metadata": {
    "collapsed": true
   },
   "outputs": [],
   "source": [
    "card_count = {'Visa': 0, 'Mastercard': 0, 'Discover': 0}"
   ]
  },
  {
   "cell_type": "markdown",
   "metadata": {},
   "source": [
    "We then use a nested `for` loop here to count up the credit card users for each type. The first `for` loop iterates through each sublist in `cards_list`. We store the sublist into the temporary variable `card_user`, because each sublist contains the complete information for a single user. We then need to check which type of card the user has. Rather than write three different `if` statements that check for each different card type, we use another `for` loop that iterates over each card type in the dataset (grabbing the types from our `card_count` dictionary's keys). For each card type, if the type matches the data in the current `card_user` list, we increment the count associated with that card type in the dictionary."
   ]
  },
  {
   "cell_type": "code",
   "execution_count": 113,
   "metadata": {
    "collapsed": true
   },
   "outputs": [],
   "source": [
    "for card_user in cards_list:\n",
    "    \n",
    "    for card_type in card_count.keys():\n",
    "        \n",
    "        if card_user[1] == card_type:\n",
    "            card_count[card_type] += 1"
   ]
  },
  {
   "cell_type": "code",
   "execution_count": 114,
   "metadata": {},
   "outputs": [
    {
     "data": {
      "text/plain": [
       "{'Discover': 3, 'Mastercard': 4, 'Visa': 5}"
      ]
     },
     "execution_count": 114,
     "metadata": {},
     "output_type": "execute_result"
    }
   ],
   "source": [
    "card_count"
   ]
  },
  {
   "cell_type": "markdown",
   "metadata": {},
   "source": [
    "We can look at the values in `card_count` and say which one has the most users, but how could we get our script to do this for us? First we'll pull out the values from our dictionary using `.values()`, and pass them into the `max()` function. "
   ]
  },
  {
   "cell_type": "code",
   "execution_count": 115,
   "metadata": {},
   "outputs": [
    {
     "data": {
      "text/plain": [
       "5"
      ]
     },
     "execution_count": 115,
     "metadata": {},
     "output_type": "execute_result"
    }
   ],
   "source": [
    "max_users = max(card_count.values())\n",
    "max_users"
   ]
  },
  {
   "cell_type": "markdown",
   "metadata": {},
   "source": [
    "Now that we know the maximum number of users, we'll step through the `card_count` dictionary checking at each step if the value equals that number. If it does, we'll print the card name and number of users to the screen. The easiest way to iterate through a dictionary is to use `.items()` to generate a list of key-value pairs, and use double assignment to save one variable that stores the key and another that stores the value."
   ]
  },
  {
   "cell_type": "code",
   "execution_count": 116,
   "metadata": {},
   "outputs": [
    {
     "name": "stdout",
     "output_type": "stream",
     "text": [
      "Visa has the most users: 5\n"
     ]
    }
   ],
   "source": [
    "for key, value in card_count.items():  \n",
    "    \n",
    "    if value == max_users:\n",
    "        \n",
    "        print(key, 'has the most users:', value)"
   ]
  },
  {
   "cell_type": "markdown",
   "metadata": {},
   "source": [
    "Part 2. Now we'll determine which card has the highest total number of transactions in our list. The process is very similar to finding the card with the most users. Instead of adding `1` to the count everytime we see a card type, we need to add the number of transactions for that user. We'll start with a new dictionary with all the values set to `0`."
   ]
  },
  {
   "cell_type": "code",
   "execution_count": 117,
   "metadata": {
    "collapsed": true
   },
   "outputs": [],
   "source": [
    "transaction_count = {'Visa': 0, 'Mastercard': 0, 'Discover': 0}"
   ]
  },
  {
   "cell_type": "code",
   "execution_count": 118,
   "metadata": {
    "collapsed": true
   },
   "outputs": [],
   "source": [
    "for card_user in cards_list:\n",
    "    \n",
    "    for card_type in transaction_count.keys():\n",
    "        \n",
    "        if card_user[1] == card_type:\n",
    "            transaction_count[card_type] += card_user[2]"
   ]
  },
  {
   "cell_type": "markdown",
   "metadata": {},
   "source": [
    "We've just counted up all the transactions. Now lets find and save the maximum value."
   ]
  },
  {
   "cell_type": "code",
   "execution_count": 119,
   "metadata": {},
   "outputs": [
    {
     "data": {
      "text/plain": [
       "456"
      ]
     },
     "execution_count": 119,
     "metadata": {},
     "output_type": "execute_result"
    }
   ],
   "source": [
    "max_transactions = max(transaction_count.values())\n",
    "max_transactions"
   ]
  },
  {
   "cell_type": "code",
   "execution_count": 120,
   "metadata": {},
   "outputs": [
    {
     "name": "stdout",
     "output_type": "stream",
     "text": [
      "Discover has the most transactions: 456\n"
     ]
    }
   ],
   "source": [
    "for key, value in transaction_count.items():\n",
    "    \n",
    "    if value == max_transactions:\n",
    "        \n",
    "        print(key, 'has the most transactions:', value)"
   ]
  },
  {
   "cell_type": "markdown",
   "metadata": {},
   "source": [
    "<hr>\n",
    "<a class=\"anchor\" id=\"practical\"></a>\n",
    "## 4.6. Practical Exercises"
   ]
  },
  {
   "cell_type": "markdown",
   "metadata": {},
   "source": [
    "<b><font color=\"brick\">Instructor Guidance</font>: Refer back to Lesson 1 and relate the four steps of problem-solving using Computational Thinking (Decomposition, Pattern Recognition, Abstraction, & Algorithm Design) as appropriate throughout these exercises.\n",
    "\n",
    "<font color=\"brick\">Instructor Guidance</font>: The practical exercises deemed most important due to content and/or a cumulative result, which should be completed first in the interest of maximum training value in relation to time are Practical Exercises 1, 2, 3, and 4. Ensure you go over the exercise solutions and (as necessary) the processes to arrive at the solutions with the students.\n",
    "\n",
    "<font color=\"brick\">Instructor Guidance</font>: Follow-up questions are designed to be asked by the facilitators individually as each student completes the task and has it looked at by a facilitator.</b>"
   ]
  },
  {
   "cell_type": "markdown",
   "metadata": {},
   "source": [
    "<a id=\"PE1\"></a>\n",
    "### 4.6.1. Practical Exercise 1: Latitude or Longitude"
   ]
  },
  {
   "cell_type": "markdown",
   "metadata": {},
   "source": [
    "<hr>\n",
    "#### References:\n",
    "* [Python: Boolean Operations](https://docs.python.org/3.4/reference/expressions.html#or)\n",
    "\n",
    "<hr>\n",
    "\n",
    "\n",
    "You are given a list of geocoordinates. Write code that evaluates each point, and prints the point plus `'Latitude'` if the point is a latitude or `'Longitude'` if the point is a longitude.\n",
    "\n",
    "```Python\n",
    "points = ['454545N', '0342313E', '1421623W', '342312N', '1023202E', \n",
    "          '1005642E', '0873403W', '881053S', '294142S', '1800000W']\n",
    "```"
   ]
  },
  {
   "cell_type": "code",
   "execution_count": 121,
   "metadata": {
    "collapsed": true
   },
   "outputs": [],
   "source": [
    "## YOUR CODE GOES HERE ##"
   ]
  },
  {
   "cell_type": "code",
   "execution_count": 122,
   "metadata": {},
   "outputs": [
    {
     "name": "stdout",
     "output_type": "stream",
     "text": [
      "454545N Latitude\n",
      "0342313E Longitude\n",
      "1421623W Longitude\n",
      "342312N Latitude\n",
      "1023202E Longitude\n",
      "1005642E Longitude\n",
      "0873403W Longitude\n",
      "881053S Latitude\n",
      "294142S Latitude\n",
      "1800000W Longitude\n"
     ]
    }
   ],
   "source": [
    "## INSTRUCTION SOLUTION(S) ##\n",
    "points = ['454545N', '0342313E', '1421623W', '342312N', '1023202E', \n",
    "          '1005642E', '0873403W', '881053S', '294142S', '1800000W']\n",
    "\n",
    "for point in points:\n",
    "    \n",
    "    if ('N' in point) or ('S' in point):\n",
    "        print(point + ' Latitude')\n",
    "        \n",
    "    if ('E' in point) or ('W' in point):\n",
    "        print(point + ' Longitude')"
   ]
  },
  {
   "cell_type": "markdown",
   "metadata": {},
   "source": [
    "<hr>\n",
    "<a id=\"PE2\"></a>\n",
    "### 4.6.2. Practical Exercise 2: Lists in a List"
   ]
  },
  {
   "cell_type": "markdown",
   "metadata": {},
   "source": [
    "Add up all the numbers in this list of lists.\n",
    "```Python    \n",
    "numbers = [[5, 4, 2], [4, 2, 5, 7], [4, 2, 8, 0, 1, 2]]\n",
    "```    \n",
    "HINT: Answer is 46"
   ]
  },
  {
   "cell_type": "code",
   "execution_count": 123,
   "metadata": {
    "collapsed": true
   },
   "outputs": [],
   "source": [
    "## YOUR CODE GOES HERE ##"
   ]
  },
  {
   "cell_type": "code",
   "execution_count": 124,
   "metadata": {},
   "outputs": [
    {
     "name": "stdout",
     "output_type": "stream",
     "text": [
      "46\n",
      "46\n"
     ]
    }
   ],
   "source": [
    "## INSTRUCTION SOLUTION(S) ##\n",
    "numbers = [[5, 4, 2], [4, 2, 5, 7], [4, 2, 8, 0, 1, 2]]\n",
    "\n",
    "i = 0\n",
    "for small_list in numbers:\n",
    "    for n in small_list:\n",
    "        i += n      \n",
    "print(i)\n",
    "\n",
    "\n",
    "## ALTERNATE SOLUTION ##\n",
    "numbers = [[5, 4, 2], [4, 2, 5, 7], [4, 2, 8, 0, 1, 2]]\n",
    "\n",
    "i = 0\n",
    "for small_list in numbers:\n",
    "    i += sum(small_list)\n",
    "print(i)"
   ]
  },
  {
   "cell_type": "markdown",
   "metadata": {},
   "source": [
    "<hr>\n",
    "<a id=\"PE3\"></a>\n",
    "### 4.6.3. Practical Exercise 3: Using an if Statement"
   ]
  },
  {
   "cell_type": "markdown",
   "metadata": {},
   "source": [
    "<hr>\n",
    "#### References:\n",
    "* [Python: Boolean Operations](https://docs.python.org/3.4/reference/expressions.html#and)\n",
    "<hr>\n",
    "\n",
    "Using an <b><font color=\"green\">if</font></b> statement, create a script that takes a grade as a number and prints the letter grade you got.\n",
    "\n",
    "| Example Input | Expected Output |\n",
    "|:-------------:|:---------------:|\n",
    "|`92`|`A`|\n",
    "|`89`|`B`|\n",
    "|`75`|`C`|\n",
    "|`66`|`D`|"
   ]
  },
  {
   "cell_type": "code",
   "execution_count": 125,
   "metadata": {
    "collapsed": true
   },
   "outputs": [],
   "source": [
    "## YOUR CODE GOES HERE ##"
   ]
  },
  {
   "cell_type": "code",
   "execution_count": 126,
   "metadata": {},
   "outputs": [
    {
     "name": "stdout",
     "output_type": "stream",
     "text": [
      "Student got a C\n"
     ]
    }
   ],
   "source": [
    "## INSTRUCTION SOLUTION(S) ##\n",
    "grade = 79.9\n",
    "\n",
    "if grade >= 90:\n",
    "    print('Student got a A')\n",
    "    \n",
    "elif grade >= 80:\n",
    "    print('Student got a B')\n",
    "    \n",
    "elif grade >= 70:\n",
    "    print('Student got a C')\n",
    "    \n",
    "elif grade >= 60:\n",
    "    print('Student got a D')\n",
    "    \n",
    "else:\n",
    "    print('Student did not pass')"
   ]
  },
  {
   "cell_type": "markdown",
   "metadata": {},
   "source": [
    "<hr>\n",
    "<a id=\"PE4\"></a>\n",
    "### 4.6.4. Practical Exercise 4: Converting Celsius and Fahrenheit"
   ]
  },
  {
   "cell_type": "markdown",
   "metadata": {},
   "source": [
    "Write two functions: one that converts Celsius to Fahrenheit, and one that converts Fahrenheit to Celsius. Formulas are as follows:\n",
    "```Python\n",
    "Fahrenheit = (Celsius * (9/5)) + 32.0\n",
    "\n",
    "Celsius = (Fahrenheit - 32.0) / (9/5)\n",
    "  ```  \n",
    "Use the following table to test your functions:\n",
    "\n",
    "| Fahrenheit | Celsius |\n",
    "|:-----:|:-----:|\n",
    "| 212 F | 100 C |\n",
    "| 32 F  | 0 C   |\n",
    "| -40 F | -40 C |"
   ]
  },
  {
   "cell_type": "code",
   "execution_count": 127,
   "metadata": {
    "collapsed": true
   },
   "outputs": [],
   "source": [
    "## YOUR CODE GOES HERE ##"
   ]
  },
  {
   "cell_type": "code",
   "execution_count": 128,
   "metadata": {},
   "outputs": [
    {
     "data": {
      "text/plain": [
       "100.0"
      ]
     },
     "execution_count": 128,
     "metadata": {},
     "output_type": "execute_result"
    }
   ],
   "source": [
    "## INSTRUCTION SOLUTION(S) ##\n",
    "def convert_2_celsius(f):\n",
    "    return (f - 32.0) / (9/5)\n",
    "\n",
    "def convert_2_farenheit(c):\n",
    "    return (c * (9/5)) + 32.0\n",
    "\n",
    "convert_2_celsius(212)\n",
    "#convert_2_farenheit(0)"
   ]
  },
  {
   "cell_type": "markdown",
   "metadata": {},
   "source": [
    "**Bonus**"
   ]
  },
  {
   "cell_type": "markdown",
   "metadata": {},
   "source": [
    "Take a list of Fahrenheit temperatures and convert each one to Celsius using a loop.\n",
    "\n",
    "```python\n",
    "f_temps = [212, 100, 50, 45, 32, 23, 8, 0, -13, -19, -40]\n",
    "```\n",
    "\n",
    "NOTE: Python has a built-in `round()` function."
   ]
  },
  {
   "cell_type": "code",
   "execution_count": 129,
   "metadata": {},
   "outputs": [
    {
     "name": "stdout",
     "output_type": "stream",
     "text": [
      "100\n",
      "38\n",
      "10\n",
      "7\n",
      "0\n",
      "-5\n",
      "-13\n",
      "-18\n",
      "-25\n",
      "-28\n",
      "-40\n"
     ]
    }
   ],
   "source": [
    "## INSTRUCTION SOLUTION(S) ##\n",
    "f_temps = [212, 100, 50, 45, 32, 23, 8, 0, -13, -19, -40]\n",
    "\n",
    "for temp in f_temps:\n",
    "    print(round(convert_2_celsius(temp)))"
   ]
  },
  {
   "cell_type": "markdown",
   "metadata": {},
   "source": [
    "<hr>\n",
    "<a id=\"PE5\"></a>\n",
    "### 4.6.5. Practical Exercise 5: Iterating through a List & Boolean Operations \n",
    "<hr>\n",
    "#### References:\n",
    "* [Wikipedia: Prime number](https://en.wikipedia.org/wiki/Prime_number)\n",
    "* [Python: The for statement](https://docs.python.org/3.4/reference/compound_stmts.html?highlight=while%20statement#the-for-statement)\n",
    "* [Python: The if statement](https://docs.python.org/3.4/reference/compound_stmts.html?highlight=while%20statement#if)\n",
    "* [Python: Binary arithmetic operations](https://docs.python.org/2/reference/expressions.html#binary-arithmetic-operations)\n",
    "<hr>\n",
    "\n",
    "Given a list of the integers 1 through 100, iterate through the list and print only those integers divisible by 3 and 5.\n",
    "```python\n",
    "numbers = [1, 2, 3, 4, 5, 6, 7, 8, 9, 10, 11, 12, 13, 14, 15, 16, 17, 18, 19, 20, \n",
    "           21, 22, 23, 24, 25, 26, 27, 28, 29, 30, 31, 32, 33, 34, 35, 36, 37, 38, 39, 40, \n",
    "           41, 42, 43, 44, 45, 46, 47, 48, 49, 50, 51, 52, 53, 54, 55, 56, 57, 58, 59, 60, \n",
    "           61, 62, 63, 64, 65, 66, 67, 68, 69, 70, 71, 72, 73, 74, 75, 76, 77, 78, 79, 80, \n",
    "           81, 82, 83, 84, 85, 86, 87, 88, 89, 90, 91, 92, 93, 94, 95, 96, 97, 98, 99, 100]\n",
    "```"
   ]
  },
  {
   "cell_type": "code",
   "execution_count": 130,
   "metadata": {
    "collapsed": true
   },
   "outputs": [],
   "source": [
    "## YOUR CODE GOES HERE ##"
   ]
  },
  {
   "cell_type": "code",
   "execution_count": 131,
   "metadata": {},
   "outputs": [
    {
     "name": "stdout",
     "output_type": "stream",
     "text": [
      "15\n",
      "30\n",
      "45\n",
      "60\n",
      "75\n",
      "90\n"
     ]
    }
   ],
   "source": [
    "## INSTRUCTION SOLUTION(S) ##\n",
    "numbers = [1, 2, 3, 4, 5, 6, 7, 8, 9, 10, 11, 12, 13, 14, 15, 16, 17, 18, 19, 20, \n",
    "           21, 22, 23, 24, 25, 26, 27, 28, 29, 30, 31, 32, 33, 34, 35, 36, 37, 38, 39, 40, \n",
    "           41, 42, 43, 44, 45, 46, 47, 48, 49, 50, 51, 52, 53, 54, 55, 56, 57, 58, 59, 60, \n",
    "           61, 62, 63, 64, 65, 66, 67, 68, 69, 70, 71, 72, 73, 74, 75, 76, 77, 78, 79, 80, \n",
    "           81, 82, 83, 84, 85, 86, 87, 88, 89, 90, 91, 92, 93, 94, 95, 96, 97, 98, 99, 100]\n",
    "    \n",
    "for num in numbers:\n",
    "    \n",
    "    if (num % 3 == 0) and (num % 5 == 0):\n",
    "        \n",
    "        print(num)"
   ]
  },
  {
   "cell_type": "markdown",
   "metadata": {},
   "source": [
    "## <hr>\n",
    "<a id=\"PE6\"></a>\n",
    "### 4.6.6. Practical Exercise 6: Calculating a Dog's Age\n",
    "\n",
    "Write a Python program to calculate age in dog years.\n",
    "\n",
    "Use the following formula: For the first 2 years, a human year is equal to 10.5 dog years. After that, each human year equals 4 dog years.\n",
    "\n",
    "Checking the results:\n",
    "\n",
    "| Human Years | Dog Years |\n",
    "|:-----:|:-----:|\n",
    "| 15 | 73 |\n",
    "| 10  | 53   |\n",
    "| 3 | 25 |"
   ]
  },
  {
   "cell_type": "code",
   "execution_count": 132,
   "metadata": {
    "collapsed": true
   },
   "outputs": [],
   "source": [
    "## YOUR CODE GOES HERE ##"
   ]
  },
  {
   "cell_type": "code",
   "execution_count": 133,
   "metadata": {},
   "outputs": [
    {
     "data": {
      "text/plain": [
       "25"
      ]
     },
     "execution_count": 133,
     "metadata": {},
     "output_type": "execute_result"
    }
   ],
   "source": [
    "## INSTRUCTION SOLUTION(S) ##\n",
    "age = 3\n",
    "\n",
    "if age < 0:\n",
    "    print('Age must be positive number.')\n",
    "    \n",
    "elif age <= 2:\n",
    "    dog_years = age * 10.5\n",
    "    \n",
    "else:\n",
    "    dog_years = 21 + (age - 2) * 4\n",
    "\n",
    "dog_years"
   ]
  },
  {
   "cell_type": "markdown",
   "metadata": {},
   "source": [
    "<hr>\n",
    "<a id=\"PE7\"></a>\n",
    "### 4.6.7. Practical Exercise 7: Find the Max\n",
    "\n",
    "Write a Python function to find the max of three numbers. Do not use the built in `max()` function. But you may define your own function that finds the maximum of two numbers, and use that in your function to find the maximum of three numbers."
   ]
  },
  {
   "cell_type": "code",
   "execution_count": 134,
   "metadata": {
    "collapsed": true
   },
   "outputs": [],
   "source": [
    "## YOUR CODE GOES HERE ##"
   ]
  },
  {
   "cell_type": "code",
   "execution_count": 135,
   "metadata": {},
   "outputs": [
    {
     "data": {
      "text/plain": [
       "10"
      ]
     },
     "execution_count": 135,
     "metadata": {},
     "output_type": "execute_result"
    }
   ],
   "source": [
    "## INSTRUCTION SOLUTION(S) ##\n",
    "def max_of_two(x, y):\n",
    "    if x > y:\n",
    "        return x\n",
    "    return y\n",
    "\n",
    "def max_of_three(x, y, z):\n",
    "    return max_of_two(x, max_of_two(y, z))\n",
    "\n",
    "max_of_three(10, 6, -5)"
   ]
  },
  {
   "cell_type": "markdown",
   "metadata": {},
   "source": [
    "<hr>\n",
    "<a id=\"PE8\"></a>\n",
    "### 4.6.8. Practical Exercise 8: Guessing Game"
   ]
  },
  {
   "cell_type": "markdown",
   "metadata": {},
   "source": [
    "<hr>\n",
    "#### References:\n",
    "* [Python: Functions for sequences](https://docs.python.org/3/library/random.html#random.randint)\n",
    "<hr>\n",
    "\n",
    "Create a game to guess the number that the computer randomly generates. Generate a random number between 1 and 9 inclusive using `random.randint()`. For more information, see [Python: Functions for sequences](https://docs.python.org/3/library/random.html#random.randint). Enter your own number, then have computer print out if you were too high, low, or you got it right. The code below will get you started. It initializes a random number and saves a guess.\n",
    "```python\n",
    "import random\n",
    "\n",
    "number = random.randint(1, 9)\n",
    "guess = 4\n",
    "```"
   ]
  },
  {
   "cell_type": "code",
   "execution_count": 136,
   "metadata": {
    "collapsed": true
   },
   "outputs": [],
   "source": [
    "## YOUR CODE GOES HERE ##"
   ]
  },
  {
   "cell_type": "code",
   "execution_count": 137,
   "metadata": {},
   "outputs": [
    {
     "name": "stdout",
     "output_type": "stream",
     "text": [
      "Too low!\n"
     ]
    }
   ],
   "source": [
    "## INSTRUCTION SOLUTION(S) ##\n",
    "import random\n",
    "\n",
    "number = random.randint(1, 9)\n",
    "guess = 4\n",
    "\n",
    "if guess < number:\n",
    "    print('Too low!')\n",
    "    \n",
    "elif guess > number:\n",
    "    print('Too high!')\n",
    "    \n",
    "else:\n",
    "    print('You got it!')"
   ]
  },
  {
   "cell_type": "markdown",
   "metadata": {},
   "source": [
    "<hr>\n",
    "<a id='Administrative'></a>\n",
    "## 4.7. Administrative Notes\n",
    "* Save your Lesson 4 .ipynb file to your H drive."
   ]
  }
 ],
 "metadata": {
  "anaconda-cloud": {},
  "celltoolbar": "Raw Cell Format",
  "kernelspec": {
   "display_name": "Python 2",
   "language": "python",
   "name": "python2"
  },
  "language_info": {
   "codemirror_mode": {
    "name": "ipython",
    "version": 2
   },
   "file_extension": ".py",
   "mimetype": "text/x-python",
   "name": "python",
   "nbconvert_exporter": "python",
   "pygments_lexer": "ipython2",
   "version": "2.7.14"
  }
 },
 "nbformat": 4,
 "nbformat_minor": 2
}
