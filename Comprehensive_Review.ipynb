{
 "cells": [
  {
   "cell_type": "markdown",
   "metadata": {},
   "source": [
    "<img src=\"./GRAPHICS/Banner.png\" width=\"110%\">"
   ]
  },
  {
   "cell_type": "markdown",
   "metadata": {},
   "source": [
    "# <center>**FINAL EXERCISE**</center>"
   ]
  },
  {
   "cell_type": "markdown",
   "metadata": {},
   "source": [
    "## Table of Contents\n",
    "\n",
    "[Overview](#Overview)<br>\n",
    "[Notes](#Notes)<br>\n",
    "[Collaboration Policy](#Collaboration)<br>\n",
    "\n",
    "[Final Exercise](#Exercise)<br>\n",
    ">[Training Records](#Intro)\n",
    "\n",
    ">1. [Part 1: Describe the Training Records Dataset](#Part1)<br>\n",
    ">   1.1. [Explore the contents of the data folder.](#1.1)<br>\n",
    ">   1.2. [Identify the types of data that are in the dataset.](#1.2) <br>\n",
    ">   1.3. [Use Glob to identify all the files.](#1.3)<br>\n",
    ">   1.4. [Read in the data.](#1.4)<br>\n",
    ">   1.5. [Extract the first name of the first employee in the list.](#1.5)<br>\n",
    ">   1.6. [Identify the number of records in your list.](#1.6)<br><br>\n",
    ">2. [Part 2: Analyze the Data](#Part2)<br>\n",
    ">   2.1. [Identify the classes the first employee in your list has not taken.](#2.1)<br>\n",
    ">   2.2. [Identify the courses any employee has not taken.](#2.2)<br>\n",
    ">   2.3. [Apply the function to all employees.](#2.3)<br>\n",
    ">   2.4. [Identify which employee(s) have completed all the courses.](#2.4)<br>\n",
    ">3. [Part 3: Restructure the Data](#Part3)<br>\n",
    ">   3.1. [Write the data to a file.](#3.1)<br>"
   ]
  },
  {
   "cell_type": "markdown",
   "metadata": {},
   "source": [
    "***\n",
    "## Objectives:\n",
    "\n",
    "Using conditionals, loops, Python dictionaries, local data, the CSV Library, and the Glob Library, students will be able to:\n",
    "* Examine the implications of using computation to solve a problem\n",
    "    * Discuss best practices for using computation to solve a problem\n",
    "    * Suggest types of problems that can be solved through computation\n",
    "    * Show how computation can solve a problem\n",
    "<br><br>    \n",
    "* Recognize key computer science concepts\n",
    "    * Identify data types used in Python scripting\n",
    "    * Identify data structures used in Python scripting\n",
    "    * Define variables and strings\n",
    "    * Recognize how queries operate\n",
    "<br><br>    \n",
    "* Demonstrate the ability to build basic scripts using Python scripting language\n",
    "    * Use various data types and structures in Python scripting\n",
    "    * Collect data using Python scripting\n",
    "    * Extract data using Python scripting\n",
    "    * Develop advanced data structures using Python scripting"
   ]
  },
  {
   "cell_type": "markdown",
   "metadata": {},
   "source": [
    "***\n",
    "<a id='Overview'></a>\n",
    "## Overview:\n",
    "\n",
    "This final exercise is a formal evaluation of the Python scripting language at a fundamental level. This exercise requires students to apply their knowledge of the Python scripting language and tests their ability to analyze a real-world dataset utilizing Python.\n",
    "\n",
    "This final exercise is divided into three parts.\n",
    "\n",
    "* Part 1 is focused on describing the dataset.<br>\n",
    "* Part 2 is focused on conducting exploratory analysis of the datasets.<br>\n",
    "* Part 3 is focused on restructuring the data for use outside of Python.<br>"
   ]
  },
  {
   "cell_type": "markdown",
   "metadata": {},
   "source": [
    "***\n",
    "<a id='Notes'></a>                  \n",
    "## Notes:\n",
    "\n",
    "This Final Exercise is an open-book assessment.\n",
    " * You are free to use the following:\n",
    "   * All of the notes taken during class\n",
    "   * All of the provided student material (including all solutions)\n",
    "   * All of the available search engines/online tools\n",
    "   * Facilitators'/classmates' assistance\n",
    " "
   ]
  },
  {
   "cell_type": "markdown",
   "metadata": {},
   "source": [
    "***\n",
    "<a id='Collaboration'></a>\n",
    "## Collaboration Policy:\n",
    "\n",
    "During the final exercise, students are encouraged to collaborate. If you choose to collaborate with fellow students, any code cells that were developed as part of a collaborative effort must be annotated by commenting in (`##`) the names of all collaborators. Sharing .ipynb files with classmates is not considered a form of collaboration. When asked by a technical facilitator, students should be able to explain how each answer was generated.    "
   ]
  },
  {
   "cell_type": "markdown",
   "metadata": {},
   "source": [
    "***\n",
    "<a id='Exercise'></a>\n",
    "## Final Exercise\n",
    "***\n",
    "<a id='Intro'></a>\n",
    "### Training Records\n",
    "\n",
    "Using the “best practices” you have learned during the past week, how would you address the following problem?\n",
    "\n",
    "You were just promoted to the position of training manager within your company, You have a dataset that contains information about the company’s training history and you need to review the status of various training courses offered to the staff. \n",
    "\n",
    "In your current role, you are expected to generate a report that addresses the following, in regard to mandatory training:\n",
    "\n",
    "* The level of compliance for each employee\n",
    "* In general, which training courses have been taken\n",
    "* In general, which training courses have not been taken\n",
    "\n",
    "You will also need to create a file that can be read by the email server and used to automatically generate emails notifying people who have not taken specific training.  You have learned that the email server takes JSON-formatted data."
   ]
  },
  {
   "cell_type": "markdown",
   "metadata": {},
   "source": [
    "***\n",
    "<a id=\"Part1\"></a>\n",
    "### Part 1: Describe the Training Records Dataset\n",
    "\n",
    "Since you were just promoted to your new position, you will need to explore the data to see what sort of data you have.\n",
    "\n",
    "\n",
    "Take a couple minutes to explore and characterize the training dataset. The data for this final exercise can be found in:\n",
    "\n",
    "    data/training_records/ \n",
    "\n",
    "Open a few of the files to determine what type of data you are working with. Begin the final exercise once you have a good understanding of the dataset fields and format."
   ]
  },
  {
   "cell_type": "markdown",
   "metadata": {},
   "source": [
    "***\n",
    "<a id=\"1.1\"></a>\n",
    "#### 1.1. Explore the contents of the data folder.\n",
    "\n",
    "What are the file formats? Can you identify any limitations, inconsistencies, or distortions of the data? Comments are sufficient to answer this question."
   ]
  },
  {
   "cell_type": "code",
   "execution_count": null,
   "metadata": {
    "collapsed": true
   },
   "outputs": [],
   "source": [
    "## YOUR ANSWER GOES HERE ##\n",
    "## NO CODE REQUIRED ##"
   ]
  },
  {
   "cell_type": "markdown",
   "metadata": {},
   "source": [
    "***\n",
    "<a id=\"1.2\"></a>\n",
    "#### 1.2.  Identify the types of data that are in the dataset (i.e., Booleans, strings, integers).\n",
    "Comments are sufficient to answer this question."
   ]
  },
  {
   "cell_type": "code",
   "execution_count": null,
   "metadata": {
    "collapsed": true
   },
   "outputs": [],
   "source": [
    "## YOUR ANSWER GOES HERE ##\n",
    "## NO CODE REQUIRED ##"
   ]
  },
  {
   "cell_type": "markdown",
   "metadata": {},
   "source": [
    "***\n",
    "<a id=\"1.3\"></a>\n",
    "#### 1.3. Use Glob to identify all the files.\n",
    "    \n",
    "Using the glob library, create a list of filenames in the folder\n",
    "   \n",
    "    data/training_records/"
   ]
  },
  {
   "cell_type": "code",
   "execution_count": null,
   "metadata": {
    "collapsed": true
   },
   "outputs": [],
   "source": [
    "## YOUR CODE GOES HERE ##"
   ]
  },
  {
   "cell_type": "markdown",
   "metadata": {},
   "source": [
    "***\n",
    "<a id=\"1.4\"></a>\n",
    "#### 1.4 Read in the data.\n",
    "\n",
    "Use the list of filenames created in 1.3 to read in all the files.  Use the DictReader from the CSV library, so that your final data structure is a list of dictionaries. "
   ]
  },
  {
   "cell_type": "code",
   "execution_count": null,
   "metadata": {
    "collapsed": true
   },
   "outputs": [],
   "source": [
    "## YOUR CODE GOES HERE ##"
   ]
  },
  {
   "cell_type": "markdown",
   "metadata": {},
   "source": [
    "***\n",
    "<a id=\"1.5\"></a>\n",
    "#### 1.5. Extract the first name of the first employee in the list.\n",
    "\n",
    "Access the first employee's dictionary from the list (use indexing). Once inside the employee's dictionary, grab his/her first name."
   ]
  },
  {
   "cell_type": "code",
   "execution_count": null,
   "metadata": {
    "collapsed": true
   },
   "outputs": [],
   "source": [
    "## YOUR CODE GOES HERE ##"
   ]
  },
  {
   "cell_type": "markdown",
   "metadata": {},
   "source": [
    "***\n",
    "<a id=\"1.6\"></a>\n",
    "#### 1.6. Identify the number of records in your list.\n",
    "\n",
    "How many records are in your list?"
   ]
  },
  {
   "cell_type": "code",
   "execution_count": null,
   "metadata": {
    "collapsed": true
   },
   "outputs": [],
   "source": [
    "## YOUR CODE GOES HERE ##"
   ]
  },
  {
   "cell_type": "markdown",
   "metadata": {},
   "source": [
    "<hr>\n",
    "<img src=\"./GRAPHICS/stoppart1a.png\" width=\"90%\">\n",
    "<hr>"
   ]
  },
  {
   "cell_type": "markdown",
   "metadata": {},
   "source": [
    "<a id=\"Part2\"></a>\n",
    "### Part 2: Analyze the Data\n",
    "***\n",
    "<a id=\"2.1\"></a>\n",
    "#### 2.1. Identify the classes the first employee in your list has not taken. \n",
    "\n",
    "Hint: An employee has not taken a course if the value is '0'. Your output should be a list of course names.\n",
    "\n",
    "Sample Output: `['Anti-Terrorism/Force Protection', 'Timekeeping Requirements']`"
   ]
  },
  {
   "cell_type": "code",
   "execution_count": null,
   "metadata": {
    "collapsed": true
   },
   "outputs": [],
   "source": [
    "## YOUR CODE GOES HERE ##"
   ]
  },
  {
   "cell_type": "markdown",
   "metadata": {},
   "source": [
    "***\n",
    "<a id=\"2.2\"></a>\n",
    "#### 2.2. Identify the courses any employee has not taken.\n",
    "\n",
    "Turn the code you just developed, for finding the courses that a given employee has not taken, into a function generalized for any employee's data. The function should return a list of courses the employee has not taken. **Complete the Computational Thinking steps before attempting to code (Part 2.2.1).**\n",
    "\n",
    "***\n",
    "##### 2.2.1. Apply Computational Thinking\n",
    "Work through the computational thinking steps to accomplish this task. Comments are sufficient to answer the computational thinking portion of this question. No actual code is required.\n",
    "\n",
    ">##### Step 1. Decomposition\n",
    ">* What are the inputs you will need?\n",
    ">* What should the output(s) look like?\n",
    ">* Do you need to break the problem into smaller parts?"
   ]
  },
  {
   "cell_type": "code",
   "execution_count": null,
   "metadata": {
    "collapsed": true
   },
   "outputs": [],
   "source": [
    "## YOUR ANSWER GOES HERE ##\n",
    "## NO CODE REQUIRED ##"
   ]
  },
  {
   "cell_type": "markdown",
   "metadata": {},
   "source": [
    ">##### Step 2. Pattern Recognition\n",
    ">* What are the patterns or commonalities in the data?\n",
    ">* Are there fringe cases to deal with?"
   ]
  },
  {
   "cell_type": "code",
   "execution_count": null,
   "metadata": {
    "collapsed": true
   },
   "outputs": [],
   "source": [
    "## YOUR ANSWER GOES HERE ##\n",
    "## NO CODE REQUIRED ##"
   ]
  },
  {
   "cell_type": "markdown",
   "metadata": {},
   "source": [
    ">##### Step 3. Abstraction\n",
    ">* In plain language, work out the process for accomplishing this task."
   ]
  },
  {
   "cell_type": "code",
   "execution_count": null,
   "metadata": {
    "collapsed": true
   },
   "outputs": [],
   "source": [
    "## YOUR ANSWER GOES HERE ##\n",
    "## NO CODE REQUIRED ##"
   ]
  },
  {
   "cell_type": "markdown",
   "metadata": {},
   "source": [
    ">##### Step 4. Algorithmic Design\n",
    ">* Write a solution in pseudo-code."
   ]
  },
  {
   "cell_type": "code",
   "execution_count": null,
   "metadata": {
    "collapsed": true
   },
   "outputs": [],
   "source": [
    "## YOUR PSUEDO-CODE GOES HERE ##\n",
    "## NO CODE REQUIRED ##"
   ]
  },
  {
   "cell_type": "markdown",
   "metadata": {},
   "source": [
    "***\n",
    "##### 2.2.2. Create Executable Code\n",
    "Now, turn your solution into executable code.  Test your function with the first employee in your list."
   ]
  },
  {
   "cell_type": "code",
   "execution_count": null,
   "metadata": {
    "collapsed": true
   },
   "outputs": [],
   "source": [
    "## YOUR CODE GOES HERE ##"
   ]
  },
  {
   "cell_type": "markdown",
   "metadata": {},
   "source": [
    "***\n",
    "<a id=\"2.3\"></a>\n",
    "#### 2.3. Apply the function to all employees.\n",
    "\n",
    "We want to email each employee with a list of courses they have not completed. \n",
    "\n",
    "Apply the function you just created in the previous problem to each employee. Store the results in a dictionary with the employee ID as the key and the list of courses returned by your function as the value.\n",
    "\n",
    "Below is an example output dictionary\n",
    "\n",
    "    {\n",
    "         '0114': ['Staying Out of Trouble on the Internet'],\n",
    "         '0190': ['Equal Opportunity', 'Information Assurance'],\n",
    "         '0195': ['Anti-Terrorism/Force Protection'],\n",
    "         '0286': ['Anti-Terrorism/Force Protection', 'Timekeeping Requirements'],\n",
    "         '0405': ['Anti-Terrorism/Force Protection',\n",
    "                  'Equal Opportunity',\n",
    "                  'Workplace Safety and First Aid']\n",
    "     }"
   ]
  },
  {
   "cell_type": "code",
   "execution_count": null,
   "metadata": {
    "collapsed": true
   },
   "outputs": [],
   "source": [
    "## YOUR CODE GOES HERE ##"
   ]
  },
  {
   "cell_type": "markdown",
   "metadata": {},
   "source": [
    "***\n",
    "<a id=\"2.4\"></a>\n",
    "#### 2.4. Identify which employee(s) have completed all the courses.\n",
    "\n",
    "Using your dictionary, find the employee id(s) of the employee(s) who have completed all the courses.\n",
    "\n",
    "Hint: the length of their incomplete courses list should be zero"
   ]
  },
  {
   "cell_type": "code",
   "execution_count": null,
   "metadata": {
    "collapsed": true
   },
   "outputs": [],
   "source": [
    "## YOUR CODE GOES HERE ##"
   ]
  },
  {
   "cell_type": "markdown",
   "metadata": {},
   "source": [
    "<hr>\n",
    "<img src=\"./GRAPHICS/stoppart2a.png\" width=\"90%\">\n",
    "<hr>"
   ]
  },
  {
   "cell_type": "markdown",
   "metadata": {},
   "source": [
    "<a id=\"Part3\"></a>\n",
    "### Part 3: Write the data\n",
    "***\n",
    "<a id=\"3.1\"></a>\n",
    "#### 3.1. Write the data to a file.\n",
    "\n",
    "The email server takes a JSON with the format of the dictionary you created above. \n",
    "\n",
    "Write that dictionary out to a JSON file located in the `data` folder. "
   ]
  },
  {
   "cell_type": "code",
   "execution_count": null,
   "metadata": {
    "collapsed": true
   },
   "outputs": [],
   "source": [
    "## YOUR CODE GOES HERE ##"
   ]
  },
  {
   "cell_type": "markdown",
   "metadata": {},
   "source": [
    "<hr>\n",
    "<img src=\"./GRAPHICS/stoppart3a.png\" width=\"90%\">\n",
    "<hr>"
   ]
  },
  {
   "cell_type": "markdown",
   "metadata": {},
   "source": [
    "## Administrative Notes:\n",
    "* Save your completed FinalExercise_Student_v1.0.ipynb file as `YourBlackboardUserID_Cohort#_Final.ipynb`   \n",
    "    - Example: `1234567_24_Final.ipynb`  <br><br>\n",
    "* Save your `YourBlackboardUserID_Cohort#_Final.ipynb` as a .zip file\n",
    "   1. Right-click the file\n",
    "   2. Select Send to>Compressed (zipped) folder<br><br>\n",
    " \n",
    "* Submit `YourBlackboardUserID_Cohort#_Final.zip` via Blackboard\n",
    "    1. Log in to Blackboard and go to the Data Literacy Community of Practice (CoP)\n",
    "    2. Select CSCI2011 - Fundamentals of Problem Solving Using Python I (left side of the CoP)\n",
    "    3. Select CSCI2011 Final Exercise\n",
    "    4. Select Submit CSCI2011 Final Exercise\n",
    "    4. Under the Assignment Submission section, attach your reviewed and completed `YourBlackboardUserID_Cohort#_Final.zip` file\n",
    "    5. Select Submit\n",
    "    6. Confirm with the facilitator that `YourBlackboardUserID_Cohort#_Final.zip` was received<br><br>\n",
    "    \n",
    "* Complete the end of course survey via Blackboard\n",
    "    1. Log in to Blackboard and go to the Data Literacy Community of Practice (CoP)\n",
    "    2. Select CSCI2011 - Fundamentals of Problem Solving Using Python I (left side of the CoP)\n",
    "    3. Select CSCI2011 End of Course Survey\n",
    "    4. Select the EOC Survey associated with your assigned session "
   ]
  }
 ],
 "metadata": {
  "anaconda-cloud": {},
  "kernelspec": {
   "display_name": "Python [default]",
   "language": "python",
   "name": "python3"
  },
  "language_info": {
   "codemirror_mode": {
    "name": "ipython",
    "version": 3
   },
   "file_extension": ".py",
   "mimetype": "text/x-python",
   "name": "python",
   "nbconvert_exporter": "python",
   "pygments_lexer": "ipython3",
   "version": "3.5.2"
  }
 },
 "nbformat": 4,
 "nbformat_minor": 2
}
