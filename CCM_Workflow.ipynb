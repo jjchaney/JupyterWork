{
 "cells": [
  {
   "cell_type": "markdown",
   "metadata": {},
   "source": [
    "# CCM Logical workflow and testing journal"
   ]
  },
  {
   "cell_type": "markdown",
   "metadata": {},
   "source": [
    "This notebook will be used for processing and refining the CCM script.\n",
    "All algorithms used in this workflow are derived from FM 5-33"
   ]
  },
  {
   "cell_type": "code",
   "execution_count": 118,
   "metadata": {
    "collapsed": true
   },
   "outputs": [],
   "source": [
    "from IPython.display import Image"
   ]
  },
  {
   "cell_type": "code",
   "execution_count": null,
   "metadata": {
    "collapsed": true
   },
   "outputs": [],
   "source": [
    "# Import Statements\n",
    "# Script function parameters ===============================\n",
    "import os, sys, math, traceback, random, types\n",
    "import arcpy\n",
    "from arcpy import env\n",
    "from arcpy import da\n",
    "from arcpy import sa\n"
   ]
  },
  {
   "cell_type": "markdown",
   "metadata": {},
   "source": [
    "# Environments Settings"
   ]
  },
  {
   "cell_type": "markdown",
   "metadata": {},
   "source": [
    "# =================================================="
   ]
  },
  {
   "cell_type": "raw",
   "metadata": {},
   "source": [
    "This section will be used for setting up the workspace environments"
   ]
  },
  {
   "cell_type": "code",
   "execution_count": null,
   "metadata": {
    "collapsed": true
   },
   "outputs": [],
   "source": [
    "arcpy.env.workspace = r\"E:\\02_Work\\02_GIS\\01_Topo_WS\\03_Analysis\\Special\\03_Test_Plans\\AnalysisOverlays.gdb\"\n",
    "workspace = arcpy.env.workspace\n",
    "arcpy.env.overwriteOutput = True\n"
   ]
  },
  {
   "cell_type": "markdown",
   "metadata": {},
   "source": [
    "# Defining Constants"
   ]
  },
  {
   "cell_type": "markdown",
   "metadata": {},
   "source": [
    "First, the dictionaries used in this script will need to be created. \n",
    "This includes the following dictionaries:\n",
    "vehicleDict \n",
    "slopeCat"
   ]
  },
  {
   "cell_type": "raw",
   "metadata": {},
   "source": [
    "vehicleDict is a dictionary within a dictionary\n",
    "vehicle index is as follows:\n",
    "Vehicle = dictionary key"
   ]
  },
  {
   "cell_type": "markdown",
   "metadata": {},
   "source": [
    "#  =================================================="
   ]
  },
  {
   "cell_type": "markdown",
   "metadata": {},
   "source": [
    "### TODO: Determine how to calculate/resolve None type fields"
   ]
  },
  {
   "cell_type": "code",
   "execution_count": 24,
   "metadata": {
    "collapsed": true
   },
   "outputs": [
    {
     "data": {
      "text/plain": [
       "{'M1': {'VCI1': 25,\n",
       "  'VCI50': 58,\n",
       "  'maxOffRoadGrad': 53,\n",
       "  'maxOnRoadGrad': 68.7,\n",
       "  'maxRoadSpeed': 71,\n",
       "  'milLoadClass': 60,\n",
       "  'minTurnRad': 9.9,\n",
       "  'overrideDiameterBreast': 0.25,\n",
       "  'vehLength': 9.9,\n",
       "  'vehicleWidth': 3.65},\n",
       " 'M109': {'VCI1': 25,\n",
       "  'VCI50': 57,\n",
       "  'maxOffRoadGrad': 45,\n",
       "  'maxOnRoadGrad': 60,\n",
       "  'maxRoadSpeed': 56,\n",
       "  'milLoadClass': 24,\n",
       "  'minTurnRad': 6.6,\n",
       "  'overrideDiameterBreast': 0.12,\n",
       "  'vehLength': 6.6,\n",
       "  'vehicleWidth': 3.1},\n",
       " 'M113': {'VCI1': 17,\n",
       "  'VCI50': 40,\n",
       "  'maxOffRoadGrad': 45,\n",
       "  'maxOnRoadGrad': 60,\n",
       "  'maxRoadSpeed': 48,\n",
       "  'milLoadClass': 12,\n",
       "  'minTurnRad': 4.8,\n",
       "  'overrideDiameterBreast': 0.1,\n",
       "  'vehLength': 4.8,\n",
       "  'vehicleWidth': 2.69},\n",
       " 'M151': {'VCI1': 19,\n",
       "  'VCI50': 44,\n",
       "  'maxOffRoadGrad': 28,\n",
       "  'maxOnRoadGrad': 60,\n",
       "  'maxRoadSpeed': 50,\n",
       "  'milLoadClass': None,\n",
       "  'minTurnRad': 5.8,\n",
       "  'overrideDiameterBreast': 0.04,\n",
       "  'vehLength': 3.35,\n",
       "  'vehicleWidth': 1.69},\n",
       " 'M2': {'VCI1': 15,\n",
       "  'VCI50': 35,\n",
       "  'maxOffRoadGrad': None,\n",
       "  'maxOnRoadGrad': 60,\n",
       "  'maxRoadSpeed': 66,\n",
       "  'milLoadClass': 24,\n",
       "  'minTurnRad': 6.2,\n",
       "  'overrideDiameterBreast': None,\n",
       "  'vehLength': 6.2,\n",
       "  'vehicleWidth': 6.2},\n",
       " 'M3': {'VCI1': 15,\n",
       "  'VCI50': 35,\n",
       "  'maxOffRoadGrad': None,\n",
       "  'maxOnRoadGrad': 60,\n",
       "  'maxRoadSpeed': 66,\n",
       "  'milLoadClass': 24,\n",
       "  'minTurnRad': 6.2,\n",
       "  'overrideDiameterBreast': None,\n",
       "  'vehLength': 6.2,\n",
       "  'vehicleWidth': 6.2},\n",
       " 'M35A2': {'VCI1': 26,\n",
       "  'VCI50': 59,\n",
       "  'maxOffRoadGrad': 30,\n",
       "  'maxOnRoadGrad': 64,\n",
       "  'maxRoadSpeed': 56,\n",
       "  'milLoadClass': 10,\n",
       "  'minTurnRad': 5.3,\n",
       "  'overrideDiameterBreast': 0.06,\n",
       "  'vehLength': 6.7,\n",
       "  'vehicleWidth': 2.43},\n",
       " 'M48AVLB': {'VCI1': 26,\n",
       "  'VCI50': 60,\n",
       "  'maxOffRoadGrad': None,\n",
       "  'maxOnRoadGrad': 30,\n",
       "  'maxRoadSpeed': 48,\n",
       "  'milLoadClass': 62,\n",
       "  'minTurnRad': 9.6,\n",
       "  'overrideDiameterBreast': None,\n",
       "  'vehLength': 9.6,\n",
       "  'vehicleWidth': 4.3},\n",
       " 'M60A1': {'VCI1': 20,\n",
       "  'VCI50': 48,\n",
       "  'maxOffRoadGrad': 45,\n",
       "  'maxOnRoadGrad': 60,\n",
       "  'maxRoadSpeed': 48,\n",
       "  'milLoadClass': 54,\n",
       "  'minTurnRad': 9.4,\n",
       "  'overrideDiameterBreast': 0.15,\n",
       "  'vehLength': 9.4,\n",
       "  'vehicleWidth': 3.63},\n",
       " 'M60AVLB': {'VCI1': 22,\n",
       "  'VCI50': 51,\n",
       "  'maxOffRoadGrad': None,\n",
       "  'maxOnRoadGrad': 30,\n",
       "  'maxRoadSpeed': 51,\n",
       "  'milLoadClass': 63,\n",
       "  'minTurnRad': 9.6,\n",
       "  'overrideDiameterBreast': None,\n",
       "  'vehLength': 9.6,\n",
       "  'vehicleWidth': 4.3},\n",
       " 'MLR5': {'VCI1': None,\n",
       "  'VCI50': None,\n",
       "  'maxOffRoadGrad': None,\n",
       "  'maxOnRoadGrad': 60,\n",
       "  'maxRoadSpeed': 64,\n",
       "  'milLoadClass': 28,\n",
       "  'minTurnRad': 6.97,\n",
       "  'overrideDiameterBreast': None,\n",
       "  'vehLength': 6.97,\n",
       "  'vehicleWidth': 2.97},\n",
       " 'T62': {'VCI1': 21,\n",
       "  'VCI50': 49,\n",
       "  'maxOffRoadGrad': 45,\n",
       "  'maxOnRoadGrad': 62,\n",
       "  'maxRoadSpeed': 50,\n",
       "  'milLoadClass': 42,\n",
       "  'minTurnRad': 9.33,\n",
       "  'overrideDiameterBreast': 0.15,\n",
       "  'vehLength': 9.33,\n",
       "  'vehicleWidth': 3.37},\n",
       " 'T72': {'VCI1': 25,\n",
       "  'VCI50': 60,\n",
       "  'maxOffRoadGrad': 45,\n",
       "  'maxOnRoadGrad': 62,\n",
       "  'maxRoadSpeed': 60,\n",
       "  'milLoadClass': 45,\n",
       "  'minTurnRad': 9.2,\n",
       "  'overrideDiameterBreast': 0.18,\n",
       "  'vehLength': 9.2,\n",
       "  'vehicleWidth': 3.38}}"
      ]
     },
     "execution_count": 24,
     "metadata": {},
     "output_type": "execute_result"
    }
   ],
   "source": [
    "# if errors occur in computation, assign all values as float by adding .0 to each value\n",
    "vehicleDict = {'M1':{'maxRoadSpeed':71,'maxOnRoadGrad':68.7,'maxOffRoadGrad':53, 'vehicleWidth':3.65, 'overrideDiameterBreast':0.25, 'VCI1':25, 'VCI50':58,'minTurnRad':9.9,'vehLength':9.9, 'milLoadClass':60},\n",
    "              'M60A1':{'maxRoadSpeed':48,'maxOnRoadGrad':60,'maxOffRoadGrad':45,'vehicleWidth':3.63, 'overrideDiameterBreast':0.15, 'VCI1':20, 'VCI50':48,'minTurnRad':9.4,'vehLength':9.4, 'milLoadClass':54},\n",
    "               'M109':{'maxRoadSpeed':56,'maxOnRoadGrad':60,'maxOffRoadGrad':45,'vehicleWidth':3.10, 'overrideDiameterBreast':0.12, 'VCI1':25, 'VCI50':57,'minTurnRad':6.6,'vehLength':6.6, 'milLoadClass':24},\n",
    "              'M113':{'maxRoadSpeed':48,'maxOnRoadGrad':60,'maxOffRoadGrad':45,'vehicleWidth':2.69, 'overrideDiameterBreast':0.10, 'VCI1':17, 'VCI50':40,'minTurnRad':4.8,'vehLength':4.8, 'milLoadClass':12},\n",
    "              'M35A2':{'maxRoadSpeed':56,'maxOnRoadGrad':64,'maxOffRoadGrad':30,'vehicleWidth':2.43, 'overrideDiameterBreast':0.06, 'VCI1':26, 'VCI50':59,'minTurnRad':5.3,'vehLength':6.7, 'milLoadClass':10},\n",
    "              'M151':{'maxRoadSpeed':50,'maxOnRoadGrad':60,'maxOffRoadGrad':28,'vehicleWidth':1.69, 'overrideDiameterBreast':0.04, 'VCI1':19, 'VCI50':44,'minTurnRad':5.8,'vehLength':3.35, 'milLoadClass':None},\n",
    "              'T62':{'maxRoadSpeed':50,'maxOnRoadGrad':62,'maxOffRoadGrad':45,'vehicleWidth':3.37, 'overrideDiameterBreast':0.15, 'VCI1':21, 'VCI50':49,'minTurnRad':9.33,'vehLength':9.33, 'milLoadClass':42},\n",
    "              'T72':{'maxRoadSpeed':60,'maxOnRoadGrad':62,'maxOffRoadGrad':45,'vehicleWidth':3.38, 'overrideDiameterBreast':0.18, 'VCI1':25, 'VCI50':60,'minTurnRad':9.2,'vehLength':9.2, 'milLoadClass':45},\n",
    "              'M2':{'maxRoadSpeed':66,'maxOnRoadGrad':60,'maxOffRoadGrad':None,'vehicleWidth':6.2, 'overrideDiameterBreast':None, 'VCI1':15, 'VCI50':35,'minTurnRad':6.2,'vehLength':6.2, 'milLoadClass':24},\n",
    "              'M3':{'maxRoadSpeed':66,'maxOnRoadGrad':60,'maxOffRoadGrad':None,'vehicleWidth':6.2, 'overrideDiameterBreast':None, 'VCI1':15, 'VCI50':35,'minTurnRad':6.2,'vehLength':6.2, 'milLoadClass':24},\n",
    "              'M48AVLB':{'maxRoadSpeed':48,'maxOnRoadGrad':30,'maxOffRoadGrad':None,'vehicleWidth':4.3, 'overrideDiameterBreast':None, 'VCI1':26, 'VCI50':60,'minTurnRad':9.6,'vehLength':9.6, 'milLoadClass':62},\n",
    "              'M60AVLB':{'maxRoadSpeed':51,'maxOnRoadGrad':30,'maxOffRoadGrad':None,'vehicleWidth':4.3, 'overrideDiameterBreast':None, 'VCI1':22, 'VCI50':51,'minTurnRad':9.6,'vehLength':9.6, 'milLoadClass':63},\n",
    "              'MLR5':{'maxRoadSpeed':64,'maxOnRoadGrad':60,'maxOffRoadGrad':None,'vehicleWidth':2.97, 'overrideDiameterBreast':None, 'VCI1':None, 'VCI50':None,'minTurnRad':6.97,'vehLength':6.97, 'milLoadClass':28}}\n",
    "vehicleDict"
   ]
  },
  {
   "cell_type": "raw",
   "metadata": {},
   "source": [
    "Above dictionary successfully integrates vehicle type with associated vehicle characteristics.\n",
    "Dictionary needs to be queariable to pull specified data.\n",
    "Test dictioanry by creating a queary that identifies the following characteristics of the M1:\n",
    "maxOnRoadGrad, maxOffRoadGrad, maxRoadSpeed"
   ]
  },
  {
   "cell_type": "raw",
   "metadata": {},
   "source": [
    "Below Dictionary is used for the GSC grid codes used for slope category"
   ]
  },
  {
   "cell_type": "code",
   "execution_count": 20,
   "metadata": {},
   "outputs": [
    {
     "name": "stdout",
     "output_type": "stream",
     "text": [
      "5\n",
      "35.0\n"
     ]
    }
   ],
   "source": [
    "slopeCategory = {1: 1.5, 2: 6.5, 3:15.0, 4:25.0, 5:35.0, 6:37.5,7:0}\n",
    "slopeCategory\n",
    "\n",
    "gslope = int(input())\n",
    "slpval = slopeCategory[gslope]\n",
    "print(slpval)"
   ]
  },
  {
   "cell_type": "code",
   "execution_count": 6,
   "metadata": {},
   "outputs": [
    {
     "name": "stdout",
     "output_type": "stream",
     "text": [
      "1.5\n"
     ]
    }
   ],
   "source": [
    "print(slopeCategory[1])"
   ]
  },
  {
   "cell_type": "markdown",
   "metadata": {},
   "source": [
    "## Dictionaries defined\n",
    "## Arguments for F1--- ==> Speed/Slope Category"
   ]
  },
  {
   "cell_type": "code",
   "execution_count": 25,
   "metadata": {},
   "outputs": [
    {
     "name": "stdout",
     "output_type": "stream",
     "text": [
      "Please choose from the list below to determine vehicle specs:\n",
      " dict_keys(['M1', 'M60A1', 'M109', 'M113', 'M35A2', 'M151', 'T62', 'T72', 'M2', 'M3', 'M48AVLB', 'M60AVLB', 'MLR5']) \n",
      "\n",
      "Inputs are case sensitive\n",
      "M1\n",
      "The Max Off Road Gradability is:  53 %\n"
     ]
    }
   ],
   "source": [
    "# queary statement for specs from M1\n",
    "\n",
    "print('Please choose from the list below to determine vehicle specs:\\n', vehicleDict.keys(), '\\n')\n",
    "print('Inputs are case sensitive')\n",
    "## variable assigned for vehicle of choice in list\n",
    "ccmVehicle = str(input())# test 'M1' = 71\n",
    "\n",
    "## variable for calling sub dictionary vehicle type (i.e.., M1, M60A1, M109 etc...)\n",
    "dict_of_info = vehicleDict[ccmVehicle]\n",
    "\n",
    "## variable storing the results of the hehicle types specific sub attribute\n",
    "query1 = dict_of_info['maxOffRoadGrad']\n",
    "print('The Max Off Road Gradability is: ', query1, '%')"
   ]
  },
  {
   "cell_type": "raw",
   "metadata": {},
   "source": [
    "Rename query 1 cell and assign as global variable for calling in formula.\n",
    "\n",
    "for example. F1 is = max off-road-gradability minus grouns slope divided by max-on-road gradability minus max speed. For formula, use query1 = maxOffGrad"
   ]
  },
  {
   "cell_type": "code",
   "execution_count": null,
   "metadata": {},
   "outputs": [],
   "source": [
    "maxOffGrad = dict_of_info['maxOffRoadGrad'] # Test for val == 53, \n",
    "maxOffGrad\n",
    "if maxOffGrad == 53:\n",
    "    print(True)"
   ]
  },
  {
   "cell_type": "raw",
   "metadata": {},
   "source": [
    "Now test formula for answering based on vehicle type to Calculate F1 \n",
    "ex. based on 'M1' \n",
    "F1 = 45 - 15 / 60 -48\n",
    "F1 = 24.0 kpk"
   ]
  },
  {
   "cell_type": "code",
   "execution_count": null,
   "metadata": {},
   "outputs": [],
   "source": [
    "# Formula check to verify F1 = 24\n",
    "F1 = (45-15)/(60/48)  # Answer is float((45.0 - 15.0)/(60.0 / 48.0))\n",
    "F1"
   ]
  },
  {
   "cell_type": "markdown",
   "metadata": {},
   "source": [
    "# Working solution for None type values in condition"
   ]
  },
  {
   "cell_type": "code",
   "execution_count": null,
   "metadata": {},
   "outputs": [],
   "source": [
    "## formula check using variables for calc\n",
    "\n",
    "##assign variables\n",
    "\n",
    "maxOffGrad = dict_of_info['maxOffRoadGrad']\n",
    "gSlope = 15\n",
    "maxOnGrad = dict_of_info['maxOnRoadGrad']\n",
    "maxSpeed = dict_of_info['maxRoadSpeed']\n",
    "print(maxOffGrad,gSlope,maxOnGrad,maxSpeed)\n",
    "\n",
    "## why does this equal zero???\n",
    "## pulls random values from dict, need callers for each sub-query\n",
    "for val in dict_of_info:\n",
    "    if val == None:\n",
    "        None == 0\n",
    "        F1 = float((maxOffGrad-gSlope)/(maxOnGrad/maxSpeed))\n",
    "        print(maxOffGrad)\n",
    "        if F1 > 0:\n",
    "            F1 = 0\n",
    "\n",
    "print(\"This does not validate against M1, recheck full script\", F1)\n",
    "#print(float((0-15)/(60/64)))"
   ]
  },
  {
   "cell_type": "code",
   "execution_count": null,
   "metadata": {},
   "outputs": [],
   "source": [
    "##assign variables\n",
    "print('Please choose from the list below to determine vehicle specs:\\n', vehicleDict.keys(), '\\n')\n",
    "print('Inputs are case sensitive')\n",
    "## variable assigned for vehicle of choice in list\n",
    "ccmVehicle = str(input())# test 'M1' = 71\n",
    "\n",
    "## variable for calling sub dictionary vehicle type (i.e.., M1, M60A1, M109 etc...)\n",
    "dict_of_info = vehicleDict[ccmVehicle]\n",
    "\n",
    "## variable storing the results of the hehicle types specific sub attribute\n",
    "print('The expression used to evaluate for ground/slope(F1) for ', ccmVehicle, 'is:')\n",
    "maxOffGrad = dict_of_info['maxOffRoadGrad']\n",
    "gSlope = 15\n",
    "maxOnGrad = dict_of_info['maxOnRoadGrad']\n",
    "maxSpeed = dict_of_info['maxRoadSpeed']\n",
    "# need if statement to handle None values(assume most restrictive... None == NoGO or Zero)\n",
    "\n",
    "# Argument for calculating F1 rounded to nearest hundredth\n",
    "print('(',maxOffGrad,'-',gSlope,')','/','(',maxOnGrad,'/',maxSpeed,')')\n",
    "\n",
    "## pulls random values from dict, need callers for each sub-query\n",
    "F1 = round((maxOffGrad-gSlope)/(maxOnGrad/maxSpeed),2)\n",
    "print(\"\\n    The speed slope factor determines the extent that any slope \\n  will deteriorate the speed of the vehicle without consideration\\n  for any other physical factor.\\n\")\n",
    "print(\"The speed/slope factor represented by F1 is: \", F1)"
   ]
  },
  {
   "cell_type": "markdown",
   "metadata": {},
   "source": [
    "# Working Arguments for selecting GSC values"
   ]
  },
  {
   "cell_type": "raw",
   "metadata": {},
   "source": [
    "As with the vehicle table lookup, create a query tool that collects a GSC table and\n",
    "outputs the user defined value that corelated to index. This will be adjusted later \n",
    "to iterate over attribute field."
   ]
  },
  {
   "cell_type": "code",
   "execution_count": 23,
   "metadata": {
    "scrolled": false
   },
   "outputs": [
    {
     "name": "stdout",
     "output_type": "stream",
     "text": [
      "dict_keys([1, 2, 3, 4, 5, 6, 7])\n",
      "Please choose from the list to determine slope category:\n",
      "5\n",
      "The Grid Code value for  5 is  35.0\n"
     ]
    }
   ],
   "source": [
    "# Variables for query of Slope Category\n",
    "print( slopeCategory.keys())\n",
    "print('Please choose from the list to determine slope category:')\n",
    "\n",
    "## variable assigned for GSC grid code in list\n",
    "gslope = int(input())# test '5' = 35\n",
    "\n",
    "## variable for calling slope item from gslope input\n",
    "slpval = slopeCategory[gslope] # ex. gslope (5) = slpval(35)\n",
    "print('The Grid Code value for ', gslope, 'is ', slpval)"
   ]
  },
  {
   "cell_type": "markdown",
   "metadata": {},
   "source": [
    "# Argument for F1 using Dictionaries"
   ]
  },
  {
   "cell_type": "markdown",
   "metadata": {},
   "source": [
    "This section should finalize the arguments from the 2 dictionaries and call in all the \n",
    "values stored in the listed variables then return a value based on the expression and the formula for F1"
   ]
  },
  {
   "cell_type": "code",
   "execution_count": 26,
   "metadata": {},
   "outputs": [
    {
     "name": "stdout",
     "output_type": "stream",
     "text": [
      "The expression used to evaluate for ground/slope(F1) for  M1 is:\n",
      "( 53 - 35.0 ) / ( 68.7 / 71 )\n",
      "\n",
      "    The speed slope factor determines the extent that any slope \n",
      "  will deteriorate the speed of the vehicle without consideration\n",
      "  for any other physical factor.\n",
      "\n",
      "The speed/slope factor represented by F1 is:  18.6\n"
     ]
    }
   ],
   "source": [
    "## variable storing the results of the slope values\n",
    "print('The expression used to evaluate for ground/slope(F1) for ', ccmVehicle, 'is:')\n",
    "maxOffGrad = dict_of_info['maxOffRoadGrad']\n",
    "maxOnGrad = dict_of_info['maxOnRoadGrad']\n",
    "maxSpeed = dict_of_info['maxRoadSpeed']\n",
    "# need if statement to handle None values(assume most restrictive... None == NoGO or Zero)\n",
    "\n",
    "# Argument for calculating F1 rounded to nearest hundredth\n",
    "print('(',maxOffGrad,'-',slpval,')','/','(',maxOnGrad,'/',maxSpeed,')')\n",
    "\n",
    "## pulls random values from dict, need callers for each sub-query\n",
    "F1 = round((maxOffGrad-slpval)/(maxOnGrad/maxSpeed),2)\n",
    "print(\"\\n    The speed slope factor determines the extent that any slope \\n  will deteriorate the speed of the vehicle without consideration\\n  for any other physical factor.\\n\")\n",
    "print(\"The speed/slope factor represented by F1 is: \", F1)"
   ]
  },
  {
   "cell_type": "code",
   "execution_count": null,
   "metadata": {},
   "outputs": [],
   "source": [
    "## example of rounding function used to control outputs and ensure they are rounded to the nearest hundredth\n",
    "print( round(F1,2))"
   ]
  },
  {
   "cell_type": "markdown",
   "metadata": {},
   "source": [
    "# Final F1 (Excludes Heading/Constants/Environments)"
   ]
  },
  {
   "cell_type": "code",
   "execution_count": 30,
   "metadata": {},
   "outputs": [
    {
     "name": "stdout",
     "output_type": "stream",
     "text": [
      "Please choose from the list below to determine vehicle specs:\n",
      " dict_keys(['M1', 'M60A1', 'M109', 'M113', 'M35A2', 'M151', 'T62', 'T72', 'M2', 'M3', 'M48AVLB', 'M60AVLB', 'MLR5']) \n",
      "\n",
      "Inputs are case sensitive\n",
      "M1\n",
      "Please choose from the below list to determine slope category:\n",
      "\n",
      " dict_keys([1, 2, 3, 4, 5, 6, 7])\n",
      "3\n",
      "The Grid Code value for  3 is  15.0\n",
      "The expression used to evaluate for ground/slope(F1) for  M1 is:\n",
      "( 53 - 15.0 ) / ( 68.7 / 71 )\n",
      "\n",
      "    The speed slope factor determines the extent that any slope \n",
      "  will deteriorate the speed of the vehicle without consideration\n",
      "  for any other physical factor.\n",
      "\n",
      "The speed/slope factor represented by F1 is:  39.27\n"
     ]
    }
   ],
   "source": [
    "##assign variables\n",
    "print('Please choose from the list below to determine vehicle specs:\\n', vehicleDict.keys(), '\\n')\n",
    "print('Inputs are case sensitive')\n",
    "## variable assigned for vehicle of choice in list\n",
    "ccmVehicle = str(input())# test 'M1' = 71\n",
    "\n",
    "## variable for calling sub dictionary vehicle type (i.e.., M1, M60A1, M109 etc...)\n",
    "dict_of_info = vehicleDict[ccmVehicle]\n",
    "\n",
    "# Variables for query of Slope Category\n",
    "print('Please choose from the below list to determine slope category:')\n",
    "print('\\n',slopeCategory.keys())\n",
    "\n",
    "## variable assigned for GSC grid code in list\n",
    "gslope = int(input())# test '5' = 35\n",
    "\n",
    "## variable for calling slope item from gslope input\n",
    "slpval = slopeCategory[gslope] # ex. gslope (5) = slpval(35)\n",
    "print('The Grid Code value for ', gslope, 'is ', slpval)\n",
    "\n",
    "## variable storing the results of the slope values\n",
    "print('The expression used to evaluate for ground/slope(F1) for ', ccmVehicle, 'is:')\n",
    "maxOffGrad = dict_of_info['maxOffRoadGrad']\n",
    "maxOnGrad = dict_of_info['maxOnRoadGrad']\n",
    "maxSpeed = dict_of_info['maxRoadSpeed']\n",
    "# need if statement to handle None values(assume most restrictive... None == NoGO or Zero)\n",
    "\n",
    "# Argument for calculating F1 rounded to nearest hundredth\n",
    "print('(',maxOffGrad,'-',slpval,')','/','(',maxOnGrad,'/',maxSpeed,')')\n",
    "\n",
    "## pulls random values from dict, need callers for each sub-query\n",
    "F1 = round((maxOffGrad-slpval)/(maxOnGrad/maxSpeed),2)\n",
    "print(\"\\n    The speed slope factor determines the extent that any slope \\n  will deteriorate the speed of the vehicle without consideration\\n  for any other physical factor.\\n\")\n",
    "print(\"The speed/slope factor represented by F1 is: \", F1)"
   ]
  },
  {
   "cell_type": "raw",
   "metadata": {},
   "source": [
    "\n",
    "\n",
    "\n",
    "\n",
    "\n",
    "                              ***Break for first part of CCM script***\n",
    "\n",
    "\n",
    "\n",
    "\n",
    "\n",
    "\n"
   ]
  },
  {
   "cell_type": "markdown",
   "metadata": {},
   "source": [
    "# Using environments & scratch space"
   ]
  },
  {
   "cell_type": "markdown",
   "metadata": {},
   "source": [
    "Create new feature class in working directory and print items from existing feature classes from existing datasets"
   ]
  },
  {
   "cell_type": "code",
   "execution_count": 31,
   "metadata": {
    "collapsed": true
   },
   "outputs": [],
   "source": [
    "import os, sys, math, traceback, random, types\n",
    "import arcpy\n",
    "from arcpy import env\n",
    "from arcpy import da\n",
    "from arcpy import sa\n",
    "\n",
    "arcpy.env.workspace = r\"E:\\02_Work\\02_GIS\\01_Topo_WS\\03_Analysis\\Special\\03_Test_Plans\\AnalysisOverlays.gdb\"\n",
    "workspace = arcpy.env.workspace\n",
    "arcpy.env.overwriteOutput = True"
   ]
  },
  {
   "cell_type": "code",
   "execution_count": 88,
   "metadata": {},
   "outputs": [],
   "source": [
    "# Featureclass input variables\n",
    "\n",
    "slope = r\"E:\\02_Work\\02_GIS\\01_Topo_WS\\03_Analysis\\Special\\03_Test_Plans\\MCGDBv2.gdb\\Specialized\\PhysiographySrfExt\"\n",
    "surfmat = r\"E:\\02_Work\\02_GIS\\01_Topo_WS\\03_Analysis\\Special\\03_Test_Plans\\MCGDBv2.gdb\\Specialized\\PhysiographySrf\"\n",
    "hydro = r\"E:\\02_Work\\02_GIS\\01_Topo_WS\\03_Analysis\\Special\\03_Test_Plans\\MCGDBv2.gdb\\Specialized\\HydrographySrf\"\n",
    "synthFeature = arcpy.CreateFeatureclass_management(out_path=workspace,out_name='syth2')\n"
   ]
  },
  {
   "cell_type": "markdown",
   "metadata": {},
   "source": [
    "Feature created Successfully using arcpy module. The next thing I need to do is to query against the existing feature classes. I want the associated table values from MCGDB to be selected and moved to the synthFeature:\n",
    "Create table SGCL in SynthFeature\n",
    "    for SGCL in PhysiographySrf\n",
    "        if SGCL NOT Null:\n",
    "            copy data and paste in SGCL in SynthFeature"
   ]
  },
  {
   "cell_type": "code",
   "execution_count": 89,
   "metadata": {},
   "outputs": [
    {
     "data": {
      "text/plain": [
       "<Result 'E:\\\\02_Work\\\\02_GIS\\\\01_Topo_WS\\\\03_Analysis\\\\Special\\\\03_Test_Plans\\\\AnalysisOverlays.gdb\\\\syth2'>"
      ]
     },
     "execution_count": 89,
     "metadata": {},
     "output_type": "execute_result"
    }
   ],
   "source": [
    "## Add fields to SynthFeature\n",
    "## Note* This section is intended to be removed once the CCM is finalized since the synthFeature \n",
    "## should be a permanent feature in the future and may not need to be created each time tool is ran\n",
    "arcpy.AddFields_management(synthFeature,[['SGCL','DOUBLE'],\n",
    "                                         ['SDCL','DOUBLE'],\n",
    "                                         ['F1','DOUBLE'],\n",
    "                                         ['F2','DOUBLE']])\n"
   ]
  },
  {
   "cell_type": "markdown",
   "metadata": {},
   "source": [
    "# Cursor didn't work, need better argument"
   ]
  },
  {
   "cell_type": "code",
   "execution_count": 68,
   "metadata": {
    "collapsed": true
   },
   "outputs": [
    {
     "ename": "TypeError",
     "evalue": "string indices must be integers",
     "output_type": "error",
     "traceback": [
      "\u001b[1;31m---------------------------------------------------------------------------\u001b[0m",
      "\u001b[1;31mTypeError\u001b[0m                                 Traceback (most recent call last)",
      "\u001b[1;32m<ipython-input-68-4133c90fa911>\u001b[0m in \u001b[0;36m<module>\u001b[1;34m()\u001b[0m\n\u001b[0;32m      1\u001b[0m \u001b[1;31m# Create the search and update features respectively\u001b[0m\u001b[1;33m\u001b[0m\u001b[1;33m\u001b[0m\u001b[0m\n\u001b[0;32m      2\u001b[0m \u001b[1;33m\u001b[0m\u001b[0m\n\u001b[1;32m----> 3\u001b[1;33m \u001b[0min_data\u001b[0m \u001b[1;33m=\u001b[0m \u001b[1;33m(\u001b[0m\u001b[0mslope\u001b[0m\u001b[1;33m[\u001b[0m\u001b[1;34m'SGCL'\u001b[0m\u001b[1;33m]\u001b[0m\u001b[1;33m)\u001b[0m\u001b[1;33m\u001b[0m\u001b[0m\n\u001b[0m\u001b[0;32m      4\u001b[0m \u001b[1;33m\u001b[0m\u001b[0m\n\u001b[0;32m      5\u001b[0m \u001b[0mout_data\u001b[0m \u001b[1;33m=\u001b[0m \u001b[1;33m(\u001b[0m\u001b[0msynthFeature\u001b[0m\u001b[1;33m[\u001b[0m\u001b[1;34m'SGCL'\u001b[0m\u001b[1;33m]\u001b[0m\u001b[1;33m)\u001b[0m\u001b[1;33m\u001b[0m\u001b[0m\n",
      "\u001b[1;31mTypeError\u001b[0m: string indices must be integers"
     ]
    }
   ],
   "source": [
    "# Create the search and update features respectively\n",
    "\n",
    "with arcpy.da.UpdateCursor(synthFeature,['SGCL']) as cursor:\n",
    "    for row in cursor:\n",
    "        Get values from slope and populate SGCL\n",
    "        row = Copy_management(slope,'SGCL')\n",
    "        cursor.updateRow(row)\n"
   ]
  },
  {
   "cell_type": "markdown",
   "metadata": {},
   "source": [
    "# Using Field Mapping for script"
   ]
  },
  {
   "cell_type": "markdown",
   "metadata": {},
   "source": [
    "## Need ALL fields and object maps before creating final code"
   ]
  },
  {
   "cell_type": "markdown",
   "metadata": {},
   "source": [
    "#### Field Mapping works to copy selected features into the target synthesis feature"
   ]
  },
  {
   "cell_type": "code",
   "execution_count": 91,
   "metadata": {},
   "outputs": [],
   "source": [
    "# Create the required FieldMap and FieldMappings objects\n",
    "fm_sgcl = arcpy.FieldMap()\n",
    "fm_sdcl = arcpy.FieldMap()\n",
    "\n",
    "fms = arcpy.FieldMappings()\n",
    "\n",
    "# Get the field names \n",
    "slp_sgcl = \"SGCL\"\n",
    "smc_sdcl = \"SDCL\"\n",
    "\n",
    "# Add fields to their corresponding FieldMap objects\n",
    "\n",
    "fm_sgcl.addInputField(slope, slp_sgcl)\n",
    "fm_sdcl.addInputField(surfmat,smc_sdcl)\n",
    "\n",
    "# Set the output field properties for both FieldMap objects\n",
    "sgcl_name = fm_sgcl.outputField\n",
    "sgcl_name.name = 'SGCL'\n",
    "fm_sgcl.outputField = sgcl_name\n",
    "\n",
    "sdcl_name = fm_sdcl.outputField\n",
    "sdcl_name.name = 'SDCL'\n",
    "fm_sdcl.outputField = sdcl_name\n",
    "\n",
    "# Add the FieldMap objects to the FieldMappings object\n",
    "fms.addFieldMap(fm_sgcl)\n",
    "fms.addFieldMap(fm_sdcl)\n",
    "\n",
    "# Merge the two feature classes\n",
    "arcpy.Merge_management([slope, surfmat], synthFeature, fms)\n",
    "\n",
    "del fm_sgcl, fm_sdcl"
   ]
  },
  {
   "cell_type": "markdown",
   "metadata": {},
   "source": [
    "Field mapping is dropping my empty F1 and F2 fields after executing. Try creating F1 after field map."
   ]
  },
  {
   "cell_type": "code",
   "execution_count": 94,
   "metadata": {},
   "outputs": [
    {
     "data": {
      "text/plain": [
       "<Result 'E:\\\\02_Work\\\\02_GIS\\\\01_Topo_WS\\\\03_Analysis\\\\Special\\\\03_Test_Plans\\\\AnalysisOverlays.gdb\\\\syth2'>"
      ]
     },
     "execution_count": 94,
     "metadata": {},
     "output_type": "execute_result"
    }
   ],
   "source": [
    "arcpy.AddField_management(synthFeature,'F1','DOUBLE')"
   ]
  },
  {
   "cell_type": "markdown",
   "metadata": {},
   "source": [
    "# At this point, I have a Featureclass named synthFeature.\n",
    "# Synthfeature contains the fields SGCL, SDCL, and F1\n",
    "# I now need to use the synthfeature to calculate F1"
   ]
  },
  {
   "cell_type": "markdown",
   "metadata": {},
   "source": [
    "Pre code logic\n",
    "using the user selected input for vehicle type, iterate over the F1 field by calculating for each item in SGCL table.\n",
    "\n",
    "Below is execution of F1 in ArcGIS Pro"
   ]
  },
  {
   "cell_type": "markdown",
   "metadata": {},
   "source": [
    "![image](files/pics/F1_Calc.jpg)"
   ]
  },
  {
   "cell_type": "code",
   "execution_count": 119,
   "metadata": {},
   "outputs": [
    {
     "ename": "KeyError",
     "evalue": "None",
     "output_type": "error",
     "traceback": [
      "\u001b[1;31m---------------------------------------------------------------------------\u001b[0m",
      "\u001b[1;31mKeyError\u001b[0m                                  Traceback (most recent call last)",
      "\u001b[1;32m<expression>\u001b[0m in \u001b[0;36m<module>\u001b[1;34m()\u001b[0m\n",
      "\u001b[1;32m<string>\u001b[0m in \u001b[0;36mCalcF1\u001b[1;34m(SGCL)\u001b[0m\n",
      "\u001b[1;31mKeyError\u001b[0m: None"
     ]
    },
    {
     "ename": "KeyError",
     "evalue": "None",
     "output_type": "error",
     "traceback": [
      "\u001b[1;31m---------------------------------------------------------------------------\u001b[0m",
      "\u001b[1;31mKeyError\u001b[0m                                  Traceback (most recent call last)",
      "\u001b[1;32m<expression>\u001b[0m in \u001b[0;36m<module>\u001b[1;34m()\u001b[0m\n",
      "\u001b[1;32m<string>\u001b[0m in \u001b[0;36mCalcF1\u001b[1;34m(SGCL)\u001b[0m\n",
      "\u001b[1;31mKeyError\u001b[0m: None"
     ]
    },
    {
     "ename": "KeyError",
     "evalue": "None",
     "output_type": "error",
     "traceback": [
      "\u001b[1;31m---------------------------------------------------------------------------\u001b[0m",
      "\u001b[1;31mKeyError\u001b[0m                                  Traceback (most recent call last)",
      "\u001b[1;32m<expression>\u001b[0m in \u001b[0;36m<module>\u001b[1;34m()\u001b[0m\n",
      "\u001b[1;32m<string>\u001b[0m in \u001b[0;36mCalcF1\u001b[1;34m(SGCL)\u001b[0m\n",
      "\u001b[1;31mKeyError\u001b[0m: None"
     ]
    },
    {
     "ename": "KeyError",
     "evalue": "None",
     "output_type": "error",
     "traceback": [
      "\u001b[1;31m---------------------------------------------------------------------------\u001b[0m",
      "\u001b[1;31mKeyError\u001b[0m                                  Traceback (most recent call last)",
      "\u001b[1;32m<expression>\u001b[0m in \u001b[0;36m<module>\u001b[1;34m()\u001b[0m\n",
      "\u001b[1;32m<string>\u001b[0m in \u001b[0;36mCalcF1\u001b[1;34m(SGCL)\u001b[0m\n",
      "\u001b[1;31mKeyError\u001b[0m: None"
     ]
    },
    {
     "ename": "KeyError",
     "evalue": "None",
     "output_type": "error",
     "traceback": [
      "\u001b[1;31m---------------------------------------------------------------------------\u001b[0m",
      "\u001b[1;31mKeyError\u001b[0m                                  Traceback (most recent call last)",
      "\u001b[1;32m<expression>\u001b[0m in \u001b[0;36m<module>\u001b[1;34m()\u001b[0m\n",
      "\u001b[1;32m<string>\u001b[0m in \u001b[0;36mCalcF1\u001b[1;34m(SGCL)\u001b[0m\n",
      "\u001b[1;31mKeyError\u001b[0m: None"
     ]
    },
    {
     "ename": "KeyError",
     "evalue": "None",
     "output_type": "error",
     "traceback": [
      "\u001b[1;31m---------------------------------------------------------------------------\u001b[0m",
      "\u001b[1;31mKeyError\u001b[0m                                  Traceback (most recent call last)",
      "\u001b[1;32m<expression>\u001b[0m in \u001b[0;36m<module>\u001b[1;34m()\u001b[0m\n",
      "\u001b[1;32m<string>\u001b[0m in \u001b[0;36mCalcF1\u001b[1;34m(SGCL)\u001b[0m\n",
      "\u001b[1;31mKeyError\u001b[0m: None"
     ]
    },
    {
     "ename": "KeyError",
     "evalue": "None",
     "output_type": "error",
     "traceback": [
      "\u001b[1;31m---------------------------------------------------------------------------\u001b[0m",
      "\u001b[1;31mKeyError\u001b[0m                                  Traceback (most recent call last)",
      "\u001b[1;32m<expression>\u001b[0m in \u001b[0;36m<module>\u001b[1;34m()\u001b[0m\n",
      "\u001b[1;32m<string>\u001b[0m in \u001b[0;36mCalcF1\u001b[1;34m(SGCL)\u001b[0m\n",
      "\u001b[1;31mKeyError\u001b[0m: None"
     ]
    },
    {
     "ename": "KeyError",
     "evalue": "None",
     "output_type": "error",
     "traceback": [
      "\u001b[1;31m---------------------------------------------------------------------------\u001b[0m",
      "\u001b[1;31mKeyError\u001b[0m                                  Traceback (most recent call last)",
      "\u001b[1;32m<expression>\u001b[0m in \u001b[0;36m<module>\u001b[1;34m()\u001b[0m\n",
      "\u001b[1;32m<string>\u001b[0m in \u001b[0;36mCalcF1\u001b[1;34m(SGCL)\u001b[0m\n",
      "\u001b[1;31mKeyError\u001b[0m: None"
     ]
    },
    {
     "ename": "KeyError",
     "evalue": "None",
     "output_type": "error",
     "traceback": [
      "\u001b[1;31m---------------------------------------------------------------------------\u001b[0m",
      "\u001b[1;31mKeyError\u001b[0m                                  Traceback (most recent call last)",
      "\u001b[1;32m<expression>\u001b[0m in \u001b[0;36m<module>\u001b[1;34m()\u001b[0m\n",
      "\u001b[1;32m<string>\u001b[0m in \u001b[0;36mCalcF1\u001b[1;34m(SGCL)\u001b[0m\n",
      "\u001b[1;31mKeyError\u001b[0m: None"
     ]
    },
    {
     "ename": "KeyError",
     "evalue": "None",
     "output_type": "error",
     "traceback": [
      "\u001b[1;31m---------------------------------------------------------------------------\u001b[0m",
      "\u001b[1;31mKeyError\u001b[0m                                  Traceback (most recent call last)",
      "\u001b[1;32m<expression>\u001b[0m in \u001b[0;36m<module>\u001b[1;34m()\u001b[0m\n",
      "\u001b[1;32m<string>\u001b[0m in \u001b[0;36mCalcF1\u001b[1;34m(SGCL)\u001b[0m\n",
      "\u001b[1;31mKeyError\u001b[0m: None"
     ]
    },
    {
     "ename": "KeyError",
     "evalue": "None",
     "output_type": "error",
     "traceback": [
      "\u001b[1;31m---------------------------------------------------------------------------\u001b[0m",
      "\u001b[1;31mKeyError\u001b[0m                                  Traceback (most recent call last)",
      "\u001b[1;32m<expression>\u001b[0m in \u001b[0;36m<module>\u001b[1;34m()\u001b[0m\n",
      "\u001b[1;32m<string>\u001b[0m in \u001b[0;36mCalcF1\u001b[1;34m(SGCL)\u001b[0m\n",
      "\u001b[1;31mKeyError\u001b[0m: None"
     ]
    },
    {
     "ename": "KeyError",
     "evalue": "None",
     "output_type": "error",
     "traceback": [
      "\u001b[1;31m---------------------------------------------------------------------------\u001b[0m",
      "\u001b[1;31mKeyError\u001b[0m                                  Traceback (most recent call last)",
      "\u001b[1;32m<expression>\u001b[0m in \u001b[0;36m<module>\u001b[1;34m()\u001b[0m\n",
      "\u001b[1;32m<string>\u001b[0m in \u001b[0;36mCalcF1\u001b[1;34m(SGCL)\u001b[0m\n",
      "\u001b[1;31mKeyError\u001b[0m: None"
     ]
    },
    {
     "ename": "KeyError",
     "evalue": "None",
     "output_type": "error",
     "traceback": [
      "\u001b[1;31m---------------------------------------------------------------------------\u001b[0m",
      "\u001b[1;31mKeyError\u001b[0m                                  Traceback (most recent call last)",
      "\u001b[1;32m<expression>\u001b[0m in \u001b[0;36m<module>\u001b[1;34m()\u001b[0m\n",
      "\u001b[1;32m<string>\u001b[0m in \u001b[0;36mCalcF1\u001b[1;34m(SGCL)\u001b[0m\n",
      "\u001b[1;31mKeyError\u001b[0m: None"
     ]
    },
    {
     "ename": "KeyError",
     "evalue": "None",
     "output_type": "error",
     "traceback": [
      "\u001b[1;31m---------------------------------------------------------------------------\u001b[0m",
      "\u001b[1;31mKeyError\u001b[0m                                  Traceback (most recent call last)",
      "\u001b[1;32m<expression>\u001b[0m in \u001b[0;36m<module>\u001b[1;34m()\u001b[0m\n",
      "\u001b[1;32m<string>\u001b[0m in \u001b[0;36mCalcF1\u001b[1;34m(SGCL)\u001b[0m\n",
      "\u001b[1;31mKeyError\u001b[0m: None"
     ]
    },
    {
     "ename": "KeyError",
     "evalue": "None",
     "output_type": "error",
     "traceback": [
      "\u001b[1;31m---------------------------------------------------------------------------\u001b[0m",
      "\u001b[1;31mKeyError\u001b[0m                                  Traceback (most recent call last)",
      "\u001b[1;32m<expression>\u001b[0m in \u001b[0;36m<module>\u001b[1;34m()\u001b[0m\n",
      "\u001b[1;32m<string>\u001b[0m in \u001b[0;36mCalcF1\u001b[1;34m(SGCL)\u001b[0m\n",
      "\u001b[1;31mKeyError\u001b[0m: None"
     ]
    },
    {
     "ename": "KeyError",
     "evalue": "None",
     "output_type": "error",
     "traceback": [
      "\u001b[1;31m---------------------------------------------------------------------------\u001b[0m",
      "\u001b[1;31mKeyError\u001b[0m                                  Traceback (most recent call last)",
      "\u001b[1;32m<expression>\u001b[0m in \u001b[0;36m<module>\u001b[1;34m()\u001b[0m\n",
      "\u001b[1;32m<string>\u001b[0m in \u001b[0;36mCalcF1\u001b[1;34m(SGCL)\u001b[0m\n",
      "\u001b[1;31mKeyError\u001b[0m: None"
     ]
    },
    {
     "ename": "KeyError",
     "evalue": "None",
     "output_type": "error",
     "traceback": [
      "\u001b[1;31m---------------------------------------------------------------------------\u001b[0m",
      "\u001b[1;31mKeyError\u001b[0m                                  Traceback (most recent call last)",
      "\u001b[1;32m<expression>\u001b[0m in \u001b[0;36m<module>\u001b[1;34m()\u001b[0m\n",
      "\u001b[1;32m<string>\u001b[0m in \u001b[0;36mCalcF1\u001b[1;34m(SGCL)\u001b[0m\n",
      "\u001b[1;31mKeyError\u001b[0m: None"
     ]
    },
    {
     "ename": "KeyError",
     "evalue": "None",
     "output_type": "error",
     "traceback": [
      "\u001b[1;31m---------------------------------------------------------------------------\u001b[0m",
      "\u001b[1;31mKeyError\u001b[0m                                  Traceback (most recent call last)",
      "\u001b[1;32m<expression>\u001b[0m in \u001b[0;36m<module>\u001b[1;34m()\u001b[0m\n",
      "\u001b[1;32m<string>\u001b[0m in \u001b[0;36mCalcF1\u001b[1;34m(SGCL)\u001b[0m\n",
      "\u001b[1;31mKeyError\u001b[0m: None"
     ]
    },
    {
     "ename": "KeyError",
     "evalue": "None",
     "output_type": "error",
     "traceback": [
      "\u001b[1;31m---------------------------------------------------------------------------\u001b[0m",
      "\u001b[1;31mKeyError\u001b[0m                                  Traceback (most recent call last)",
      "\u001b[1;32m<expression>\u001b[0m in \u001b[0;36m<module>\u001b[1;34m()\u001b[0m\n",
      "\u001b[1;32m<string>\u001b[0m in \u001b[0;36mCalcF1\u001b[1;34m(SGCL)\u001b[0m\n",
      "\u001b[1;31mKeyError\u001b[0m: None"
     ]
    },
    {
     "ename": "KeyError",
     "evalue": "None",
     "output_type": "error",
     "traceback": [
      "\u001b[1;31m---------------------------------------------------------------------------\u001b[0m",
      "\u001b[1;31mKeyError\u001b[0m                                  Traceback (most recent call last)",
      "\u001b[1;32m<expression>\u001b[0m in \u001b[0;36m<module>\u001b[1;34m()\u001b[0m\n",
      "\u001b[1;32m<string>\u001b[0m in \u001b[0;36mCalcF1\u001b[1;34m(SGCL)\u001b[0m\n",
      "\u001b[1;31mKeyError\u001b[0m: None"
     ]
    },
    {
     "ename": "KeyError",
     "evalue": "None",
     "output_type": "error",
     "traceback": [
      "\u001b[1;31m---------------------------------------------------------------------------\u001b[0m",
      "\u001b[1;31mKeyError\u001b[0m                                  Traceback (most recent call last)",
      "\u001b[1;32m<expression>\u001b[0m in \u001b[0;36m<module>\u001b[1;34m()\u001b[0m\n",
      "\u001b[1;32m<string>\u001b[0m in \u001b[0;36mCalcF1\u001b[1;34m(SGCL)\u001b[0m\n",
      "\u001b[1;31mKeyError\u001b[0m: None"
     ]
    },
    {
     "ename": "KeyError",
     "evalue": "None",
     "output_type": "error",
     "traceback": [
      "\u001b[1;31m---------------------------------------------------------------------------\u001b[0m",
      "\u001b[1;31mKeyError\u001b[0m                                  Traceback (most recent call last)",
      "\u001b[1;32m<expression>\u001b[0m in \u001b[0;36m<module>\u001b[1;34m()\u001b[0m\n",
      "\u001b[1;32m<string>\u001b[0m in \u001b[0;36mCalcF1\u001b[1;34m(SGCL)\u001b[0m\n",
      "\u001b[1;31mKeyError\u001b[0m: None"
     ]
    },
    {
     "ename": "KeyError",
     "evalue": "None",
     "output_type": "error",
     "traceback": [
      "\u001b[1;31m---------------------------------------------------------------------------\u001b[0m",
      "\u001b[1;31mKeyError\u001b[0m                                  Traceback (most recent call last)",
      "\u001b[1;32m<expression>\u001b[0m in \u001b[0;36m<module>\u001b[1;34m()\u001b[0m\n",
      "\u001b[1;32m<string>\u001b[0m in \u001b[0;36mCalcF1\u001b[1;34m(SGCL)\u001b[0m\n",
      "\u001b[1;31mKeyError\u001b[0m: None"
     ]
    },
    {
     "ename": "KeyError",
     "evalue": "None",
     "output_type": "error",
     "traceback": [
      "\u001b[1;31m---------------------------------------------------------------------------\u001b[0m",
      "\u001b[1;31mKeyError\u001b[0m                                  Traceback (most recent call last)",
      "\u001b[1;32m<expression>\u001b[0m in \u001b[0;36m<module>\u001b[1;34m()\u001b[0m\n",
      "\u001b[1;32m<string>\u001b[0m in \u001b[0;36mCalcF1\u001b[1;34m(SGCL)\u001b[0m\n",
      "\u001b[1;31mKeyError\u001b[0m: None"
     ]
    },
    {
     "ename": "KeyError",
     "evalue": "None",
     "output_type": "error",
     "traceback": [
      "\u001b[1;31m---------------------------------------------------------------------------\u001b[0m",
      "\u001b[1;31mKeyError\u001b[0m                                  Traceback (most recent call last)",
      "\u001b[1;32m<expression>\u001b[0m in \u001b[0;36m<module>\u001b[1;34m()\u001b[0m\n",
      "\u001b[1;32m<string>\u001b[0m in \u001b[0;36mCalcF1\u001b[1;34m(SGCL)\u001b[0m\n",
      "\u001b[1;31mKeyError\u001b[0m: None"
     ]
    },
    {
     "ename": "KeyError",
     "evalue": "None",
     "output_type": "error",
     "traceback": [
      "\u001b[1;31m---------------------------------------------------------------------------\u001b[0m",
      "\u001b[1;31mKeyError\u001b[0m                                  Traceback (most recent call last)",
      "\u001b[1;32m<expression>\u001b[0m in \u001b[0;36m<module>\u001b[1;34m()\u001b[0m\n",
      "\u001b[1;32m<string>\u001b[0m in \u001b[0;36mCalcF1\u001b[1;34m(SGCL)\u001b[0m\n",
      "\u001b[1;31mKeyError\u001b[0m: None"
     ]
    },
    {
     "ename": "KeyError",
     "evalue": "None",
     "output_type": "error",
     "traceback": [
      "\u001b[1;31m---------------------------------------------------------------------------\u001b[0m",
      "\u001b[1;31mKeyError\u001b[0m                                  Traceback (most recent call last)",
      "\u001b[1;32m<expression>\u001b[0m in \u001b[0;36m<module>\u001b[1;34m()\u001b[0m\n",
      "\u001b[1;32m<string>\u001b[0m in \u001b[0;36mCalcF1\u001b[1;34m(SGCL)\u001b[0m\n",
      "\u001b[1;31mKeyError\u001b[0m: None"
     ]
    },
    {
     "ename": "KeyError",
     "evalue": "None",
     "output_type": "error",
     "traceback": [
      "\u001b[1;31m---------------------------------------------------------------------------\u001b[0m",
      "\u001b[1;31mKeyError\u001b[0m                                  Traceback (most recent call last)",
      "\u001b[1;32m<expression>\u001b[0m in \u001b[0;36m<module>\u001b[1;34m()\u001b[0m\n",
      "\u001b[1;32m<string>\u001b[0m in \u001b[0;36mCalcF1\u001b[1;34m(SGCL)\u001b[0m\n",
      "\u001b[1;31mKeyError\u001b[0m: None"
     ]
    },
    {
     "ename": "KeyError",
     "evalue": "None",
     "output_type": "error",
     "traceback": [
      "\u001b[1;31m---------------------------------------------------------------------------\u001b[0m",
      "\u001b[1;31mKeyError\u001b[0m                                  Traceback (most recent call last)",
      "\u001b[1;32m<expression>\u001b[0m in \u001b[0;36m<module>\u001b[1;34m()\u001b[0m\n",
      "\u001b[1;32m<string>\u001b[0m in \u001b[0;36mCalcF1\u001b[1;34m(SGCL)\u001b[0m\n",
      "\u001b[1;31mKeyError\u001b[0m: None"
     ]
    },
    {
     "ename": "KeyError",
     "evalue": "None",
     "output_type": "error",
     "traceback": [
      "\u001b[1;31m---------------------------------------------------------------------------\u001b[0m",
      "\u001b[1;31mKeyError\u001b[0m                                  Traceback (most recent call last)",
      "\u001b[1;32m<expression>\u001b[0m in \u001b[0;36m<module>\u001b[1;34m()\u001b[0m\n",
      "\u001b[1;32m<string>\u001b[0m in \u001b[0;36mCalcF1\u001b[1;34m(SGCL)\u001b[0m\n",
      "\u001b[1;31mKeyError\u001b[0m: None"
     ]
    },
    {
     "ename": "KeyError",
     "evalue": "None",
     "output_type": "error",
     "traceback": [
      "\u001b[1;31m---------------------------------------------------------------------------\u001b[0m",
      "\u001b[1;31mKeyError\u001b[0m                                  Traceback (most recent call last)",
      "\u001b[1;32m<expression>\u001b[0m in \u001b[0;36m<module>\u001b[1;34m()\u001b[0m\n",
      "\u001b[1;32m<string>\u001b[0m in \u001b[0;36mCalcF1\u001b[1;34m(SGCL)\u001b[0m\n",
      "\u001b[1;31mKeyError\u001b[0m: None"
     ]
    },
    {
     "ename": "KeyError",
     "evalue": "None",
     "output_type": "error",
     "traceback": [
      "\u001b[1;31m---------------------------------------------------------------------------\u001b[0m",
      "\u001b[1;31mKeyError\u001b[0m                                  Traceback (most recent call last)",
      "\u001b[1;32m<expression>\u001b[0m in \u001b[0;36m<module>\u001b[1;34m()\u001b[0m\n",
      "\u001b[1;32m<string>\u001b[0m in \u001b[0;36mCalcF1\u001b[1;34m(SGCL)\u001b[0m\n",
      "\u001b[1;31mKeyError\u001b[0m: None"
     ]
    },
    {
     "ename": "KeyError",
     "evalue": "None",
     "output_type": "error",
     "traceback": [
      "\u001b[1;31m---------------------------------------------------------------------------\u001b[0m",
      "\u001b[1;31mKeyError\u001b[0m                                  Traceback (most recent call last)",
      "\u001b[1;32m<expression>\u001b[0m in \u001b[0;36m<module>\u001b[1;34m()\u001b[0m\n",
      "\u001b[1;32m<string>\u001b[0m in \u001b[0;36mCalcF1\u001b[1;34m(SGCL)\u001b[0m\n",
      "\u001b[1;31mKeyError\u001b[0m: None"
     ]
    },
    {
     "ename": "KeyError",
     "evalue": "None",
     "output_type": "error",
     "traceback": [
      "\u001b[1;31m---------------------------------------------------------------------------\u001b[0m",
      "\u001b[1;31mKeyError\u001b[0m                                  Traceback (most recent call last)",
      "\u001b[1;32m<expression>\u001b[0m in \u001b[0;36m<module>\u001b[1;34m()\u001b[0m\n",
      "\u001b[1;32m<string>\u001b[0m in \u001b[0;36mCalcF1\u001b[1;34m(SGCL)\u001b[0m\n",
      "\u001b[1;31mKeyError\u001b[0m: None"
     ]
    },
    {
     "ename": "KeyError",
     "evalue": "None",
     "output_type": "error",
     "traceback": [
      "\u001b[1;31m---------------------------------------------------------------------------\u001b[0m",
      "\u001b[1;31mKeyError\u001b[0m                                  Traceback (most recent call last)",
      "\u001b[1;32m<expression>\u001b[0m in \u001b[0;36m<module>\u001b[1;34m()\u001b[0m\n",
      "\u001b[1;32m<string>\u001b[0m in \u001b[0;36mCalcF1\u001b[1;34m(SGCL)\u001b[0m\n",
      "\u001b[1;31mKeyError\u001b[0m: None"
     ]
    },
    {
     "ename": "KeyError",
     "evalue": "None",
     "output_type": "error",
     "traceback": [
      "\u001b[1;31m---------------------------------------------------------------------------\u001b[0m",
      "\u001b[1;31mKeyError\u001b[0m                                  Traceback (most recent call last)",
      "\u001b[1;32m<expression>\u001b[0m in \u001b[0;36m<module>\u001b[1;34m()\u001b[0m\n",
      "\u001b[1;32m<string>\u001b[0m in \u001b[0;36mCalcF1\u001b[1;34m(SGCL)\u001b[0m\n",
      "\u001b[1;31mKeyError\u001b[0m: None"
     ]
    },
    {
     "ename": "KeyError",
     "evalue": "None",
     "output_type": "error",
     "traceback": [
      "\u001b[1;31m---------------------------------------------------------------------------\u001b[0m",
      "\u001b[1;31mKeyError\u001b[0m                                  Traceback (most recent call last)",
      "\u001b[1;32m<expression>\u001b[0m in \u001b[0;36m<module>\u001b[1;34m()\u001b[0m\n",
      "\u001b[1;32m<string>\u001b[0m in \u001b[0;36mCalcF1\u001b[1;34m(SGCL)\u001b[0m\n",
      "\u001b[1;31mKeyError\u001b[0m: None"
     ]
    },
    {
     "ename": "KeyError",
     "evalue": "None",
     "output_type": "error",
     "traceback": [
      "\u001b[1;31m---------------------------------------------------------------------------\u001b[0m",
      "\u001b[1;31mKeyError\u001b[0m                                  Traceback (most recent call last)",
      "\u001b[1;32m<expression>\u001b[0m in \u001b[0;36m<module>\u001b[1;34m()\u001b[0m\n",
      "\u001b[1;32m<string>\u001b[0m in \u001b[0;36mCalcF1\u001b[1;34m(SGCL)\u001b[0m\n",
      "\u001b[1;31mKeyError\u001b[0m: None"
     ]
    },
    {
     "ename": "KeyError",
     "evalue": "None",
     "output_type": "error",
     "traceback": [
      "\u001b[1;31m---------------------------------------------------------------------------\u001b[0m",
      "\u001b[1;31mKeyError\u001b[0m                                  Traceback (most recent call last)",
      "\u001b[1;32m<expression>\u001b[0m in \u001b[0;36m<module>\u001b[1;34m()\u001b[0m\n",
      "\u001b[1;32m<string>\u001b[0m in \u001b[0;36mCalcF1\u001b[1;34m(SGCL)\u001b[0m\n",
      "\u001b[1;31mKeyError\u001b[0m: None"
     ]
    },
    {
     "ename": "KeyError",
     "evalue": "None",
     "output_type": "error",
     "traceback": [
      "\u001b[1;31m---------------------------------------------------------------------------\u001b[0m",
      "\u001b[1;31mKeyError\u001b[0m                                  Traceback (most recent call last)",
      "\u001b[1;32m<expression>\u001b[0m in \u001b[0;36m<module>\u001b[1;34m()\u001b[0m\n",
      "\u001b[1;32m<string>\u001b[0m in \u001b[0;36mCalcF1\u001b[1;34m(SGCL)\u001b[0m\n",
      "\u001b[1;31mKeyError\u001b[0m: None"
     ]
    },
    {
     "ename": "KeyError",
     "evalue": "None",
     "output_type": "error",
     "traceback": [
      "\u001b[1;31m---------------------------------------------------------------------------\u001b[0m",
      "\u001b[1;31mKeyError\u001b[0m                                  Traceback (most recent call last)",
      "\u001b[1;32m<expression>\u001b[0m in \u001b[0;36m<module>\u001b[1;34m()\u001b[0m\n",
      "\u001b[1;32m<string>\u001b[0m in \u001b[0;36mCalcF1\u001b[1;34m(SGCL)\u001b[0m\n",
      "\u001b[1;31mKeyError\u001b[0m: None"
     ]
    },
    {
     "ename": "KeyError",
     "evalue": "None",
     "output_type": "error",
     "traceback": [
      "\u001b[1;31m---------------------------------------------------------------------------\u001b[0m",
      "\u001b[1;31mKeyError\u001b[0m                                  Traceback (most recent call last)",
      "\u001b[1;32m<expression>\u001b[0m in \u001b[0;36m<module>\u001b[1;34m()\u001b[0m\n",
      "\u001b[1;32m<string>\u001b[0m in \u001b[0;36mCalcF1\u001b[1;34m(SGCL)\u001b[0m\n",
      "\u001b[1;31mKeyError\u001b[0m: None"
     ]
    },
    {
     "ename": "KeyError",
     "evalue": "None",
     "output_type": "error",
     "traceback": [
      "\u001b[1;31m---------------------------------------------------------------------------\u001b[0m",
      "\u001b[1;31mKeyError\u001b[0m                                  Traceback (most recent call last)",
      "\u001b[1;32m<expression>\u001b[0m in \u001b[0;36m<module>\u001b[1;34m()\u001b[0m\n",
      "\u001b[1;32m<string>\u001b[0m in \u001b[0;36mCalcF1\u001b[1;34m(SGCL)\u001b[0m\n",
      "\u001b[1;31mKeyError\u001b[0m: None"
     ]
    },
    {
     "ename": "KeyError",
     "evalue": "None",
     "output_type": "error",
     "traceback": [
      "\u001b[1;31m---------------------------------------------------------------------------\u001b[0m",
      "\u001b[1;31mKeyError\u001b[0m                                  Traceback (most recent call last)",
      "\u001b[1;32m<expression>\u001b[0m in \u001b[0;36m<module>\u001b[1;34m()\u001b[0m\n",
      "\u001b[1;32m<string>\u001b[0m in \u001b[0;36mCalcF1\u001b[1;34m(SGCL)\u001b[0m\n",
      "\u001b[1;31mKeyError\u001b[0m: None"
     ]
    },
    {
     "ename": "KeyError",
     "evalue": "None",
     "output_type": "error",
     "traceback": [
      "\u001b[1;31m---------------------------------------------------------------------------\u001b[0m",
      "\u001b[1;31mKeyError\u001b[0m                                  Traceback (most recent call last)",
      "\u001b[1;32m<expression>\u001b[0m in \u001b[0;36m<module>\u001b[1;34m()\u001b[0m\n",
      "\u001b[1;32m<string>\u001b[0m in \u001b[0;36mCalcF1\u001b[1;34m(SGCL)\u001b[0m\n",
      "\u001b[1;31mKeyError\u001b[0m: None"
     ]
    },
    {
     "ename": "KeyError",
     "evalue": "None",
     "output_type": "error",
     "traceback": [
      "\u001b[1;31m---------------------------------------------------------------------------\u001b[0m",
      "\u001b[1;31mKeyError\u001b[0m                                  Traceback (most recent call last)",
      "\u001b[1;32m<expression>\u001b[0m in \u001b[0;36m<module>\u001b[1;34m()\u001b[0m\n",
      "\u001b[1;32m<string>\u001b[0m in \u001b[0;36mCalcF1\u001b[1;34m(SGCL)\u001b[0m\n",
      "\u001b[1;31mKeyError\u001b[0m: None"
     ]
    },
    {
     "ename": "KeyError",
     "evalue": "None",
     "output_type": "error",
     "traceback": [
      "\u001b[1;31m---------------------------------------------------------------------------\u001b[0m",
      "\u001b[1;31mKeyError\u001b[0m                                  Traceback (most recent call last)",
      "\u001b[1;32m<expression>\u001b[0m in \u001b[0;36m<module>\u001b[1;34m()\u001b[0m\n",
      "\u001b[1;32m<string>\u001b[0m in \u001b[0;36mCalcF1\u001b[1;34m(SGCL)\u001b[0m\n",
      "\u001b[1;31mKeyError\u001b[0m: None"
     ]
    },
    {
     "ename": "KeyError",
     "evalue": "None",
     "output_type": "error",
     "traceback": [
      "\u001b[1;31m---------------------------------------------------------------------------\u001b[0m",
      "\u001b[1;31mKeyError\u001b[0m                                  Traceback (most recent call last)",
      "\u001b[1;32m<expression>\u001b[0m in \u001b[0;36m<module>\u001b[1;34m()\u001b[0m\n",
      "\u001b[1;32m<string>\u001b[0m in \u001b[0;36mCalcF1\u001b[1;34m(SGCL)\u001b[0m\n",
      "\u001b[1;31mKeyError\u001b[0m: None"
     ]
    },
    {
     "ename": "KeyError",
     "evalue": "None",
     "output_type": "error",
     "traceback": [
      "\u001b[1;31m---------------------------------------------------------------------------\u001b[0m",
      "\u001b[1;31mKeyError\u001b[0m                                  Traceback (most recent call last)",
      "\u001b[1;32m<expression>\u001b[0m in \u001b[0;36m<module>\u001b[1;34m()\u001b[0m\n",
      "\u001b[1;32m<string>\u001b[0m in \u001b[0;36mCalcF1\u001b[1;34m(SGCL)\u001b[0m\n",
      "\u001b[1;31mKeyError\u001b[0m: None"
     ]
    },
    {
     "ename": "KeyError",
     "evalue": "None",
     "output_type": "error",
     "traceback": [
      "\u001b[1;31m---------------------------------------------------------------------------\u001b[0m",
      "\u001b[1;31mKeyError\u001b[0m                                  Traceback (most recent call last)",
      "\u001b[1;32m<expression>\u001b[0m in \u001b[0;36m<module>\u001b[1;34m()\u001b[0m\n",
      "\u001b[1;32m<string>\u001b[0m in \u001b[0;36mCalcF1\u001b[1;34m(SGCL)\u001b[0m\n",
      "\u001b[1;31mKeyError\u001b[0m: None"
     ]
    },
    {
     "ename": "KeyError",
     "evalue": "None",
     "output_type": "error",
     "traceback": [
      "\u001b[1;31m---------------------------------------------------------------------------\u001b[0m",
      "\u001b[1;31mKeyError\u001b[0m                                  Traceback (most recent call last)",
      "\u001b[1;32m<expression>\u001b[0m in \u001b[0;36m<module>\u001b[1;34m()\u001b[0m\n",
      "\u001b[1;32m<string>\u001b[0m in \u001b[0;36mCalcF1\u001b[1;34m(SGCL)\u001b[0m\n",
      "\u001b[1;31mKeyError\u001b[0m: None"
     ]
    },
    {
     "ename": "KeyError",
     "evalue": "None",
     "output_type": "error",
     "traceback": [
      "\u001b[1;31m---------------------------------------------------------------------------\u001b[0m",
      "\u001b[1;31mKeyError\u001b[0m                                  Traceback (most recent call last)",
      "\u001b[1;32m<expression>\u001b[0m in \u001b[0;36m<module>\u001b[1;34m()\u001b[0m\n",
      "\u001b[1;32m<string>\u001b[0m in \u001b[0;36mCalcF1\u001b[1;34m(SGCL)\u001b[0m\n",
      "\u001b[1;31mKeyError\u001b[0m: None"
     ]
    },
    {
     "ename": "KeyError",
     "evalue": "None",
     "output_type": "error",
     "traceback": [
      "\u001b[1;31m---------------------------------------------------------------------------\u001b[0m",
      "\u001b[1;31mKeyError\u001b[0m                                  Traceback (most recent call last)",
      "\u001b[1;32m<expression>\u001b[0m in \u001b[0;36m<module>\u001b[1;34m()\u001b[0m\n",
      "\u001b[1;32m<string>\u001b[0m in \u001b[0;36mCalcF1\u001b[1;34m(SGCL)\u001b[0m\n",
      "\u001b[1;31mKeyError\u001b[0m: None"
     ]
    },
    {
     "ename": "KeyError",
     "evalue": "None",
     "output_type": "error",
     "traceback": [
      "\u001b[1;31m---------------------------------------------------------------------------\u001b[0m",
      "\u001b[1;31mKeyError\u001b[0m                                  Traceback (most recent call last)",
      "\u001b[1;32m<expression>\u001b[0m in \u001b[0;36m<module>\u001b[1;34m()\u001b[0m\n",
      "\u001b[1;32m<string>\u001b[0m in \u001b[0;36mCalcF1\u001b[1;34m(SGCL)\u001b[0m\n",
      "\u001b[1;31mKeyError\u001b[0m: None"
     ]
    },
    {
     "ename": "KeyError",
     "evalue": "None",
     "output_type": "error",
     "traceback": [
      "\u001b[1;31m---------------------------------------------------------------------------\u001b[0m",
      "\u001b[1;31mKeyError\u001b[0m                                  Traceback (most recent call last)",
      "\u001b[1;32m<expression>\u001b[0m in \u001b[0;36m<module>\u001b[1;34m()\u001b[0m\n",
      "\u001b[1;32m<string>\u001b[0m in \u001b[0;36mCalcF1\u001b[1;34m(SGCL)\u001b[0m\n",
      "\u001b[1;31mKeyError\u001b[0m: None"
     ]
    },
    {
     "ename": "KeyError",
     "evalue": "None",
     "output_type": "error",
     "traceback": [
      "\u001b[1;31m---------------------------------------------------------------------------\u001b[0m",
      "\u001b[1;31mKeyError\u001b[0m                                  Traceback (most recent call last)",
      "\u001b[1;32m<expression>\u001b[0m in \u001b[0;36m<module>\u001b[1;34m()\u001b[0m\n",
      "\u001b[1;32m<string>\u001b[0m in \u001b[0;36mCalcF1\u001b[1;34m(SGCL)\u001b[0m\n",
      "\u001b[1;31mKeyError\u001b[0m: None"
     ]
    },
    {
     "ename": "KeyError",
     "evalue": "None",
     "output_type": "error",
     "traceback": [
      "\u001b[1;31m---------------------------------------------------------------------------\u001b[0m",
      "\u001b[1;31mKeyError\u001b[0m                                  Traceback (most recent call last)",
      "\u001b[1;32m<expression>\u001b[0m in \u001b[0;36m<module>\u001b[1;34m()\u001b[0m\n",
      "\u001b[1;32m<string>\u001b[0m in \u001b[0;36mCalcF1\u001b[1;34m(SGCL)\u001b[0m\n",
      "\u001b[1;31mKeyError\u001b[0m: None"
     ]
    },
    {
     "ename": "KeyError",
     "evalue": "None",
     "output_type": "error",
     "traceback": [
      "\u001b[1;31m---------------------------------------------------------------------------\u001b[0m",
      "\u001b[1;31mKeyError\u001b[0m                                  Traceback (most recent call last)",
      "\u001b[1;32m<expression>\u001b[0m in \u001b[0;36m<module>\u001b[1;34m()\u001b[0m\n",
      "\u001b[1;32m<string>\u001b[0m in \u001b[0;36mCalcF1\u001b[1;34m(SGCL)\u001b[0m\n",
      "\u001b[1;31mKeyError\u001b[0m: None"
     ]
    },
    {
     "ename": "KeyError",
     "evalue": "None",
     "output_type": "error",
     "traceback": [
      "\u001b[1;31m---------------------------------------------------------------------------\u001b[0m",
      "\u001b[1;31mKeyError\u001b[0m                                  Traceback (most recent call last)",
      "\u001b[1;32m<expression>\u001b[0m in \u001b[0;36m<module>\u001b[1;34m()\u001b[0m\n",
      "\u001b[1;32m<string>\u001b[0m in \u001b[0;36mCalcF1\u001b[1;34m(SGCL)\u001b[0m\n",
      "\u001b[1;31mKeyError\u001b[0m: None"
     ]
    },
    {
     "ename": "KeyError",
     "evalue": "None",
     "output_type": "error",
     "traceback": [
      "\u001b[1;31m---------------------------------------------------------------------------\u001b[0m",
      "\u001b[1;31mKeyError\u001b[0m                                  Traceback (most recent call last)",
      "\u001b[1;32m<expression>\u001b[0m in \u001b[0;36m<module>\u001b[1;34m()\u001b[0m\n",
      "\u001b[1;32m<string>\u001b[0m in \u001b[0;36mCalcF1\u001b[1;34m(SGCL)\u001b[0m\n",
      "\u001b[1;31mKeyError\u001b[0m: None"
     ]
    },
    {
     "ename": "KeyError",
     "evalue": "None",
     "output_type": "error",
     "traceback": [
      "\u001b[1;31m---------------------------------------------------------------------------\u001b[0m",
      "\u001b[1;31mKeyError\u001b[0m                                  Traceback (most recent call last)",
      "\u001b[1;32m<expression>\u001b[0m in \u001b[0;36m<module>\u001b[1;34m()\u001b[0m\n",
      "\u001b[1;32m<string>\u001b[0m in \u001b[0;36mCalcF1\u001b[1;34m(SGCL)\u001b[0m\n",
      "\u001b[1;31mKeyError\u001b[0m: None"
     ]
    },
    {
     "ename": "KeyError",
     "evalue": "None",
     "output_type": "error",
     "traceback": [
      "\u001b[1;31m---------------------------------------------------------------------------\u001b[0m",
      "\u001b[1;31mKeyError\u001b[0m                                  Traceback (most recent call last)",
      "\u001b[1;32m<expression>\u001b[0m in \u001b[0;36m<module>\u001b[1;34m()\u001b[0m\n",
      "\u001b[1;32m<string>\u001b[0m in \u001b[0;36mCalcF1\u001b[1;34m(SGCL)\u001b[0m\n",
      "\u001b[1;31mKeyError\u001b[0m: None"
     ]
    },
    {
     "ename": "KeyError",
     "evalue": "None",
     "output_type": "error",
     "traceback": [
      "\u001b[1;31m---------------------------------------------------------------------------\u001b[0m",
      "\u001b[1;31mKeyError\u001b[0m                                  Traceback (most recent call last)",
      "\u001b[1;32m<expression>\u001b[0m in \u001b[0;36m<module>\u001b[1;34m()\u001b[0m\n",
      "\u001b[1;32m<string>\u001b[0m in \u001b[0;36mCalcF1\u001b[1;34m(SGCL)\u001b[0m\n",
      "\u001b[1;31mKeyError\u001b[0m: None"
     ]
    },
    {
     "ename": "KeyError",
     "evalue": "None",
     "output_type": "error",
     "traceback": [
      "\u001b[1;31m---------------------------------------------------------------------------\u001b[0m",
      "\u001b[1;31mKeyError\u001b[0m                                  Traceback (most recent call last)",
      "\u001b[1;32m<expression>\u001b[0m in \u001b[0;36m<module>\u001b[1;34m()\u001b[0m\n",
      "\u001b[1;32m<string>\u001b[0m in \u001b[0;36mCalcF1\u001b[1;34m(SGCL)\u001b[0m\n",
      "\u001b[1;31mKeyError\u001b[0m: None"
     ]
    },
    {
     "ename": "KeyError",
     "evalue": "None",
     "output_type": "error",
     "traceback": [
      "\u001b[1;31m---------------------------------------------------------------------------\u001b[0m",
      "\u001b[1;31mKeyError\u001b[0m                                  Traceback (most recent call last)",
      "\u001b[1;32m<expression>\u001b[0m in \u001b[0;36m<module>\u001b[1;34m()\u001b[0m\n",
      "\u001b[1;32m<string>\u001b[0m in \u001b[0;36mCalcF1\u001b[1;34m(SGCL)\u001b[0m\n",
      "\u001b[1;31mKeyError\u001b[0m: None"
     ]
    },
    {
     "ename": "KeyError",
     "evalue": "None",
     "output_type": "error",
     "traceback": [
      "\u001b[1;31m---------------------------------------------------------------------------\u001b[0m",
      "\u001b[1;31mKeyError\u001b[0m                                  Traceback (most recent call last)",
      "\u001b[1;32m<expression>\u001b[0m in \u001b[0;36m<module>\u001b[1;34m()\u001b[0m\n",
      "\u001b[1;32m<string>\u001b[0m in \u001b[0;36mCalcF1\u001b[1;34m(SGCL)\u001b[0m\n",
      "\u001b[1;31mKeyError\u001b[0m: None"
     ]
    },
    {
     "ename": "KeyError",
     "evalue": "None",
     "output_type": "error",
     "traceback": [
      "\u001b[1;31m---------------------------------------------------------------------------\u001b[0m",
      "\u001b[1;31mKeyError\u001b[0m                                  Traceback (most recent call last)",
      "\u001b[1;32m<expression>\u001b[0m in \u001b[0;36m<module>\u001b[1;34m()\u001b[0m\n",
      "\u001b[1;32m<string>\u001b[0m in \u001b[0;36mCalcF1\u001b[1;34m(SGCL)\u001b[0m\n",
      "\u001b[1;31mKeyError\u001b[0m: None"
     ]
    },
    {
     "ename": "KeyError",
     "evalue": "None",
     "output_type": "error",
     "traceback": [
      "\u001b[1;31m---------------------------------------------------------------------------\u001b[0m",
      "\u001b[1;31mKeyError\u001b[0m                                  Traceback (most recent call last)",
      "\u001b[1;32m<expression>\u001b[0m in \u001b[0;36m<module>\u001b[1;34m()\u001b[0m\n",
      "\u001b[1;32m<string>\u001b[0m in \u001b[0;36mCalcF1\u001b[1;34m(SGCL)\u001b[0m\n",
      "\u001b[1;31mKeyError\u001b[0m: None"
     ]
    },
    {
     "ename": "KeyError",
     "evalue": "None",
     "output_type": "error",
     "traceback": [
      "\u001b[1;31m---------------------------------------------------------------------------\u001b[0m",
      "\u001b[1;31mKeyError\u001b[0m                                  Traceback (most recent call last)",
      "\u001b[1;32m<expression>\u001b[0m in \u001b[0;36m<module>\u001b[1;34m()\u001b[0m\n",
      "\u001b[1;32m<string>\u001b[0m in \u001b[0;36mCalcF1\u001b[1;34m(SGCL)\u001b[0m\n",
      "\u001b[1;31mKeyError\u001b[0m: None"
     ]
    },
    {
     "ename": "KeyError",
     "evalue": "None",
     "output_type": "error",
     "traceback": [
      "\u001b[1;31m---------------------------------------------------------------------------\u001b[0m",
      "\u001b[1;31mKeyError\u001b[0m                                  Traceback (most recent call last)",
      "\u001b[1;32m<expression>\u001b[0m in \u001b[0;36m<module>\u001b[1;34m()\u001b[0m\n",
      "\u001b[1;32m<string>\u001b[0m in \u001b[0;36mCalcF1\u001b[1;34m(SGCL)\u001b[0m\n",
      "\u001b[1;31mKeyError\u001b[0m: None"
     ]
    },
    {
     "ename": "KeyError",
     "evalue": "None",
     "output_type": "error",
     "traceback": [
      "\u001b[1;31m---------------------------------------------------------------------------\u001b[0m",
      "\u001b[1;31mKeyError\u001b[0m                                  Traceback (most recent call last)",
      "\u001b[1;32m<expression>\u001b[0m in \u001b[0;36m<module>\u001b[1;34m()\u001b[0m\n",
      "\u001b[1;32m<string>\u001b[0m in \u001b[0;36mCalcF1\u001b[1;34m(SGCL)\u001b[0m\n",
      "\u001b[1;31mKeyError\u001b[0m: None"
     ]
    },
    {
     "ename": "KeyError",
     "evalue": "None",
     "output_type": "error",
     "traceback": [
      "\u001b[1;31m---------------------------------------------------------------------------\u001b[0m",
      "\u001b[1;31mKeyError\u001b[0m                                  Traceback (most recent call last)",
      "\u001b[1;32m<expression>\u001b[0m in \u001b[0;36m<module>\u001b[1;34m()\u001b[0m\n",
      "\u001b[1;32m<string>\u001b[0m in \u001b[0;36mCalcF1\u001b[1;34m(SGCL)\u001b[0m\n",
      "\u001b[1;31mKeyError\u001b[0m: None"
     ]
    },
    {
     "ename": "KeyError",
     "evalue": "None",
     "output_type": "error",
     "traceback": [
      "\u001b[1;31m---------------------------------------------------------------------------\u001b[0m",
      "\u001b[1;31mKeyError\u001b[0m                                  Traceback (most recent call last)",
      "\u001b[1;32m<expression>\u001b[0m in \u001b[0;36m<module>\u001b[1;34m()\u001b[0m\n",
      "\u001b[1;32m<string>\u001b[0m in \u001b[0;36mCalcF1\u001b[1;34m(SGCL)\u001b[0m\n",
      "\u001b[1;31mKeyError\u001b[0m: None"
     ]
    },
    {
     "ename": "KeyError",
     "evalue": "None",
     "output_type": "error",
     "traceback": [
      "\u001b[1;31m---------------------------------------------------------------------------\u001b[0m",
      "\u001b[1;31mKeyError\u001b[0m                                  Traceback (most recent call last)",
      "\u001b[1;32m<expression>\u001b[0m in \u001b[0;36m<module>\u001b[1;34m()\u001b[0m\n",
      "\u001b[1;32m<string>\u001b[0m in \u001b[0;36mCalcF1\u001b[1;34m(SGCL)\u001b[0m\n",
      "\u001b[1;31mKeyError\u001b[0m: None"
     ]
    },
    {
     "ename": "KeyError",
     "evalue": "None",
     "output_type": "error",
     "traceback": [
      "\u001b[1;31m---------------------------------------------------------------------------\u001b[0m",
      "\u001b[1;31mKeyError\u001b[0m                                  Traceback (most recent call last)",
      "\u001b[1;32m<expression>\u001b[0m in \u001b[0;36m<module>\u001b[1;34m()\u001b[0m\n",
      "\u001b[1;32m<string>\u001b[0m in \u001b[0;36mCalcF1\u001b[1;34m(SGCL)\u001b[0m\n",
      "\u001b[1;31mKeyError\u001b[0m: None"
     ]
    },
    {
     "ename": "KeyError",
     "evalue": "None",
     "output_type": "error",
     "traceback": [
      "\u001b[1;31m---------------------------------------------------------------------------\u001b[0m",
      "\u001b[1;31mKeyError\u001b[0m                                  Traceback (most recent call last)",
      "\u001b[1;32m<expression>\u001b[0m in \u001b[0;36m<module>\u001b[1;34m()\u001b[0m\n",
      "\u001b[1;32m<string>\u001b[0m in \u001b[0;36mCalcF1\u001b[1;34m(SGCL)\u001b[0m\n",
      "\u001b[1;31mKeyError\u001b[0m: None"
     ]
    },
    {
     "ename": "KeyError",
     "evalue": "None",
     "output_type": "error",
     "traceback": [
      "\u001b[1;31m---------------------------------------------------------------------------\u001b[0m",
      "\u001b[1;31mKeyError\u001b[0m                                  Traceback (most recent call last)",
      "\u001b[1;32m<expression>\u001b[0m in \u001b[0;36m<module>\u001b[1;34m()\u001b[0m\n",
      "\u001b[1;32m<string>\u001b[0m in \u001b[0;36mCalcF1\u001b[1;34m(SGCL)\u001b[0m\n",
      "\u001b[1;31mKeyError\u001b[0m: None"
     ]
    },
    {
     "ename": "KeyError",
     "evalue": "None",
     "output_type": "error",
     "traceback": [
      "\u001b[1;31m---------------------------------------------------------------------------\u001b[0m",
      "\u001b[1;31mKeyError\u001b[0m                                  Traceback (most recent call last)",
      "\u001b[1;32m<expression>\u001b[0m in \u001b[0;36m<module>\u001b[1;34m()\u001b[0m\n",
      "\u001b[1;32m<string>\u001b[0m in \u001b[0;36mCalcF1\u001b[1;34m(SGCL)\u001b[0m\n",
      "\u001b[1;31mKeyError\u001b[0m: None"
     ]
    },
    {
     "ename": "KeyError",
     "evalue": "None",
     "output_type": "error",
     "traceback": [
      "\u001b[1;31m---------------------------------------------------------------------------\u001b[0m",
      "\u001b[1;31mKeyError\u001b[0m                                  Traceback (most recent call last)",
      "\u001b[1;32m<expression>\u001b[0m in \u001b[0;36m<module>\u001b[1;34m()\u001b[0m\n",
      "\u001b[1;32m<string>\u001b[0m in \u001b[0;36mCalcF1\u001b[1;34m(SGCL)\u001b[0m\n",
      "\u001b[1;31mKeyError\u001b[0m: None"
     ]
    },
    {
     "ename": "KeyError",
     "evalue": "None",
     "output_type": "error",
     "traceback": [
      "\u001b[1;31m---------------------------------------------------------------------------\u001b[0m",
      "\u001b[1;31mKeyError\u001b[0m                                  Traceback (most recent call last)",
      "\u001b[1;32m<expression>\u001b[0m in \u001b[0;36m<module>\u001b[1;34m()\u001b[0m\n",
      "\u001b[1;32m<string>\u001b[0m in \u001b[0;36mCalcF1\u001b[1;34m(SGCL)\u001b[0m\n",
      "\u001b[1;31mKeyError\u001b[0m: None"
     ]
    },
    {
     "ename": "KeyError",
     "evalue": "None",
     "output_type": "error",
     "traceback": [
      "\u001b[1;31m---------------------------------------------------------------------------\u001b[0m",
      "\u001b[1;31mKeyError\u001b[0m                                  Traceback (most recent call last)",
      "\u001b[1;32m<expression>\u001b[0m in \u001b[0;36m<module>\u001b[1;34m()\u001b[0m\n",
      "\u001b[1;32m<string>\u001b[0m in \u001b[0;36mCalcF1\u001b[1;34m(SGCL)\u001b[0m\n",
      "\u001b[1;31mKeyError\u001b[0m: None"
     ]
    },
    {
     "ename": "KeyError",
     "evalue": "None",
     "output_type": "error",
     "traceback": [
      "\u001b[1;31m---------------------------------------------------------------------------\u001b[0m",
      "\u001b[1;31mKeyError\u001b[0m                                  Traceback (most recent call last)",
      "\u001b[1;32m<expression>\u001b[0m in \u001b[0;36m<module>\u001b[1;34m()\u001b[0m\n",
      "\u001b[1;32m<string>\u001b[0m in \u001b[0;36mCalcF1\u001b[1;34m(SGCL)\u001b[0m\n",
      "\u001b[1;31mKeyError\u001b[0m: None"
     ]
    },
    {
     "ename": "KeyError",
     "evalue": "None",
     "output_type": "error",
     "traceback": [
      "\u001b[1;31m---------------------------------------------------------------------------\u001b[0m",
      "\u001b[1;31mKeyError\u001b[0m                                  Traceback (most recent call last)",
      "\u001b[1;32m<expression>\u001b[0m in \u001b[0;36m<module>\u001b[1;34m()\u001b[0m\n",
      "\u001b[1;32m<string>\u001b[0m in \u001b[0;36mCalcF1\u001b[1;34m(SGCL)\u001b[0m\n",
      "\u001b[1;31mKeyError\u001b[0m: None"
     ]
    },
    {
     "ename": "KeyError",
     "evalue": "None",
     "output_type": "error",
     "traceback": [
      "\u001b[1;31m---------------------------------------------------------------------------\u001b[0m",
      "\u001b[1;31mKeyError\u001b[0m                                  Traceback (most recent call last)",
      "\u001b[1;32m<expression>\u001b[0m in \u001b[0;36m<module>\u001b[1;34m()\u001b[0m\n",
      "\u001b[1;32m<string>\u001b[0m in \u001b[0;36mCalcF1\u001b[1;34m(SGCL)\u001b[0m\n",
      "\u001b[1;31mKeyError\u001b[0m: None"
     ]
    },
    {
     "ename": "KeyError",
     "evalue": "None",
     "output_type": "error",
     "traceback": [
      "\u001b[1;31m---------------------------------------------------------------------------\u001b[0m",
      "\u001b[1;31mKeyError\u001b[0m                                  Traceback (most recent call last)",
      "\u001b[1;32m<expression>\u001b[0m in \u001b[0;36m<module>\u001b[1;34m()\u001b[0m\n",
      "\u001b[1;32m<string>\u001b[0m in \u001b[0;36mCalcF1\u001b[1;34m(SGCL)\u001b[0m\n",
      "\u001b[1;31mKeyError\u001b[0m: None"
     ]
    },
    {
     "ename": "KeyError",
     "evalue": "None",
     "output_type": "error",
     "traceback": [
      "\u001b[1;31m---------------------------------------------------------------------------\u001b[0m",
      "\u001b[1;31mKeyError\u001b[0m                                  Traceback (most recent call last)",
      "\u001b[1;32m<expression>\u001b[0m in \u001b[0;36m<module>\u001b[1;34m()\u001b[0m\n",
      "\u001b[1;32m<string>\u001b[0m in \u001b[0;36mCalcF1\u001b[1;34m(SGCL)\u001b[0m\n",
      "\u001b[1;31mKeyError\u001b[0m: None"
     ]
    },
    {
     "ename": "KeyError",
     "evalue": "None",
     "output_type": "error",
     "traceback": [
      "\u001b[1;31m---------------------------------------------------------------------------\u001b[0m",
      "\u001b[1;31mKeyError\u001b[0m                                  Traceback (most recent call last)",
      "\u001b[1;32m<expression>\u001b[0m in \u001b[0;36m<module>\u001b[1;34m()\u001b[0m\n",
      "\u001b[1;32m<string>\u001b[0m in \u001b[0;36mCalcF1\u001b[1;34m(SGCL)\u001b[0m\n",
      "\u001b[1;31mKeyError\u001b[0m: None"
     ]
    },
    {
     "ename": "KeyError",
     "evalue": "None",
     "output_type": "error",
     "traceback": [
      "\u001b[1;31m---------------------------------------------------------------------------\u001b[0m",
      "\u001b[1;31mKeyError\u001b[0m                                  Traceback (most recent call last)",
      "\u001b[1;32m<expression>\u001b[0m in \u001b[0;36m<module>\u001b[1;34m()\u001b[0m\n",
      "\u001b[1;32m<string>\u001b[0m in \u001b[0;36mCalcF1\u001b[1;34m(SGCL)\u001b[0m\n",
      "\u001b[1;31mKeyError\u001b[0m: None"
     ]
    },
    {
     "ename": "KeyError",
     "evalue": "None",
     "output_type": "error",
     "traceback": [
      "\u001b[1;31m---------------------------------------------------------------------------\u001b[0m",
      "\u001b[1;31mKeyError\u001b[0m                                  Traceback (most recent call last)",
      "\u001b[1;32m<expression>\u001b[0m in \u001b[0;36m<module>\u001b[1;34m()\u001b[0m\n",
      "\u001b[1;32m<string>\u001b[0m in \u001b[0;36mCalcF1\u001b[1;34m(SGCL)\u001b[0m\n",
      "\u001b[1;31mKeyError\u001b[0m: None"
     ]
    },
    {
     "ename": "KeyError",
     "evalue": "None",
     "output_type": "error",
     "traceback": [
      "\u001b[1;31m---------------------------------------------------------------------------\u001b[0m",
      "\u001b[1;31mKeyError\u001b[0m                                  Traceback (most recent call last)",
      "\u001b[1;32m<expression>\u001b[0m in \u001b[0;36m<module>\u001b[1;34m()\u001b[0m\n",
      "\u001b[1;32m<string>\u001b[0m in \u001b[0;36mCalcF1\u001b[1;34m(SGCL)\u001b[0m\n",
      "\u001b[1;31mKeyError\u001b[0m: None"
     ]
    },
    {
     "ename": "KeyError",
     "evalue": "None",
     "output_type": "error",
     "traceback": [
      "\u001b[1;31m---------------------------------------------------------------------------\u001b[0m",
      "\u001b[1;31mKeyError\u001b[0m                                  Traceback (most recent call last)",
      "\u001b[1;32m<expression>\u001b[0m in \u001b[0;36m<module>\u001b[1;34m()\u001b[0m\n",
      "\u001b[1;32m<string>\u001b[0m in \u001b[0;36mCalcF1\u001b[1;34m(SGCL)\u001b[0m\n",
      "\u001b[1;31mKeyError\u001b[0m: None"
     ]
    },
    {
     "ename": "KeyError",
     "evalue": "None",
     "output_type": "error",
     "traceback": [
      "\u001b[1;31m---------------------------------------------------------------------------\u001b[0m",
      "\u001b[1;31mKeyError\u001b[0m                                  Traceback (most recent call last)",
      "\u001b[1;32m<expression>\u001b[0m in \u001b[0;36m<module>\u001b[1;34m()\u001b[0m\n",
      "\u001b[1;32m<string>\u001b[0m in \u001b[0;36mCalcF1\u001b[1;34m(SGCL)\u001b[0m\n",
      "\u001b[1;31mKeyError\u001b[0m: None"
     ]
    },
    {
     "ename": "KeyError",
     "evalue": "None",
     "output_type": "error",
     "traceback": [
      "\u001b[1;31m---------------------------------------------------------------------------\u001b[0m",
      "\u001b[1;31mKeyError\u001b[0m                                  Traceback (most recent call last)",
      "\u001b[1;32m<expression>\u001b[0m in \u001b[0;36m<module>\u001b[1;34m()\u001b[0m\n",
      "\u001b[1;32m<string>\u001b[0m in \u001b[0;36mCalcF1\u001b[1;34m(SGCL)\u001b[0m\n",
      "\u001b[1;31mKeyError\u001b[0m: None"
     ]
    },
    {
     "ename": "KeyError",
     "evalue": "None",
     "output_type": "error",
     "traceback": [
      "\u001b[1;31m---------------------------------------------------------------------------\u001b[0m",
      "\u001b[1;31mKeyError\u001b[0m                                  Traceback (most recent call last)",
      "\u001b[1;32m<expression>\u001b[0m in \u001b[0;36m<module>\u001b[1;34m()\u001b[0m\n",
      "\u001b[1;32m<string>\u001b[0m in \u001b[0;36mCalcF1\u001b[1;34m(SGCL)\u001b[0m\n",
      "\u001b[1;31mKeyError\u001b[0m: None"
     ]
    },
    {
     "ename": "KeyError",
     "evalue": "None",
     "output_type": "error",
     "traceback": [
      "\u001b[1;31m---------------------------------------------------------------------------\u001b[0m",
      "\u001b[1;31mKeyError\u001b[0m                                  Traceback (most recent call last)",
      "\u001b[1;32m<expression>\u001b[0m in \u001b[0;36m<module>\u001b[1;34m()\u001b[0m\n",
      "\u001b[1;32m<string>\u001b[0m in \u001b[0;36mCalcF1\u001b[1;34m(SGCL)\u001b[0m\n",
      "\u001b[1;31mKeyError\u001b[0m: None"
     ]
    },
    {
     "ename": "KeyError",
     "evalue": "None",
     "output_type": "error",
     "traceback": [
      "\u001b[1;31m---------------------------------------------------------------------------\u001b[0m",
      "\u001b[1;31mKeyError\u001b[0m                                  Traceback (most recent call last)",
      "\u001b[1;32m<expression>\u001b[0m in \u001b[0;36m<module>\u001b[1;34m()\u001b[0m\n",
      "\u001b[1;32m<string>\u001b[0m in \u001b[0;36mCalcF1\u001b[1;34m(SGCL)\u001b[0m\n",
      "\u001b[1;31mKeyError\u001b[0m: None"
     ]
    },
    {
     "ename": "KeyError",
     "evalue": "None",
     "output_type": "error",
     "traceback": [
      "\u001b[1;31m---------------------------------------------------------------------------\u001b[0m",
      "\u001b[1;31mKeyError\u001b[0m                                  Traceback (most recent call last)",
      "\u001b[1;32m<expression>\u001b[0m in \u001b[0;36m<module>\u001b[1;34m()\u001b[0m\n",
      "\u001b[1;32m<string>\u001b[0m in \u001b[0;36mCalcF1\u001b[1;34m(SGCL)\u001b[0m\n",
      "\u001b[1;31mKeyError\u001b[0m: None"
     ]
    },
    {
     "ename": "KeyError",
     "evalue": "None",
     "output_type": "error",
     "traceback": [
      "\u001b[1;31m---------------------------------------------------------------------------\u001b[0m",
      "\u001b[1;31mKeyError\u001b[0m                                  Traceback (most recent call last)",
      "\u001b[1;32m<expression>\u001b[0m in \u001b[0;36m<module>\u001b[1;34m()\u001b[0m\n",
      "\u001b[1;32m<string>\u001b[0m in \u001b[0;36mCalcF1\u001b[1;34m(SGCL)\u001b[0m\n",
      "\u001b[1;31mKeyError\u001b[0m: None"
     ]
    },
    {
     "ename": "KeyError",
     "evalue": "None",
     "output_type": "error",
     "traceback": [
      "\u001b[1;31m---------------------------------------------------------------------------\u001b[0m",
      "\u001b[1;31mKeyError\u001b[0m                                  Traceback (most recent call last)",
      "\u001b[1;32m<expression>\u001b[0m in \u001b[0;36m<module>\u001b[1;34m()\u001b[0m\n",
      "\u001b[1;32m<string>\u001b[0m in \u001b[0;36mCalcF1\u001b[1;34m(SGCL)\u001b[0m\n",
      "\u001b[1;31mKeyError\u001b[0m: None"
     ]
    },
    {
     "ename": "KeyError",
     "evalue": "None",
     "output_type": "error",
     "traceback": [
      "\u001b[1;31m---------------------------------------------------------------------------\u001b[0m",
      "\u001b[1;31mKeyError\u001b[0m                                  Traceback (most recent call last)",
      "\u001b[1;32m<expression>\u001b[0m in \u001b[0;36m<module>\u001b[1;34m()\u001b[0m\n",
      "\u001b[1;32m<string>\u001b[0m in \u001b[0;36mCalcF1\u001b[1;34m(SGCL)\u001b[0m\n",
      "\u001b[1;31mKeyError\u001b[0m: None"
     ]
    },
    {
     "ename": "KeyError",
     "evalue": "None",
     "output_type": "error",
     "traceback": [
      "\u001b[1;31m---------------------------------------------------------------------------\u001b[0m",
      "\u001b[1;31mKeyError\u001b[0m                                  Traceback (most recent call last)",
      "\u001b[1;32m<expression>\u001b[0m in \u001b[0;36m<module>\u001b[1;34m()\u001b[0m\n",
      "\u001b[1;32m<string>\u001b[0m in \u001b[0;36mCalcF1\u001b[1;34m(SGCL)\u001b[0m\n",
      "\u001b[1;31mKeyError\u001b[0m: None"
     ]
    },
    {
     "ename": "KeyError",
     "evalue": "None",
     "output_type": "error",
     "traceback": [
      "\u001b[1;31m---------------------------------------------------------------------------\u001b[0m",
      "\u001b[1;31mKeyError\u001b[0m                                  Traceback (most recent call last)",
      "\u001b[1;32m<expression>\u001b[0m in \u001b[0;36m<module>\u001b[1;34m()\u001b[0m\n",
      "\u001b[1;32m<string>\u001b[0m in \u001b[0;36mCalcF1\u001b[1;34m(SGCL)\u001b[0m\n",
      "\u001b[1;31mKeyError\u001b[0m: None"
     ]
    },
    {
     "ename": "KeyError",
     "evalue": "None",
     "output_type": "error",
     "traceback": [
      "\u001b[1;31m---------------------------------------------------------------------------\u001b[0m",
      "\u001b[1;31mKeyError\u001b[0m                                  Traceback (most recent call last)",
      "\u001b[1;32m<expression>\u001b[0m in \u001b[0;36m<module>\u001b[1;34m()\u001b[0m\n",
      "\u001b[1;32m<string>\u001b[0m in \u001b[0;36mCalcF1\u001b[1;34m(SGCL)\u001b[0m\n",
      "\u001b[1;31mKeyError\u001b[0m: None"
     ]
    },
    {
     "ename": "KeyError",
     "evalue": "None",
     "output_type": "error",
     "traceback": [
      "\u001b[1;31m---------------------------------------------------------------------------\u001b[0m",
      "\u001b[1;31mKeyError\u001b[0m                                  Traceback (most recent call last)",
      "\u001b[1;32m<expression>\u001b[0m in \u001b[0;36m<module>\u001b[1;34m()\u001b[0m\n",
      "\u001b[1;32m<string>\u001b[0m in \u001b[0;36mCalcF1\u001b[1;34m(SGCL)\u001b[0m\n",
      "\u001b[1;31mKeyError\u001b[0m: None"
     ]
    },
    {
     "ename": "KeyError",
     "evalue": "None",
     "output_type": "error",
     "traceback": [
      "\u001b[1;31m---------------------------------------------------------------------------\u001b[0m",
      "\u001b[1;31mKeyError\u001b[0m                                  Traceback (most recent call last)",
      "\u001b[1;32m<expression>\u001b[0m in \u001b[0;36m<module>\u001b[1;34m()\u001b[0m\n",
      "\u001b[1;32m<string>\u001b[0m in \u001b[0;36mCalcF1\u001b[1;34m(SGCL)\u001b[0m\n",
      "\u001b[1;31mKeyError\u001b[0m: None"
     ]
    },
    {
     "ename": "KeyError",
     "evalue": "None",
     "output_type": "error",
     "traceback": [
      "\u001b[1;31m---------------------------------------------------------------------------\u001b[0m",
      "\u001b[1;31mKeyError\u001b[0m                                  Traceback (most recent call last)",
      "\u001b[1;32m<expression>\u001b[0m in \u001b[0;36m<module>\u001b[1;34m()\u001b[0m\n",
      "\u001b[1;32m<string>\u001b[0m in \u001b[0;36mCalcF1\u001b[1;34m(SGCL)\u001b[0m\n",
      "\u001b[1;31mKeyError\u001b[0m: None"
     ]
    },
    {
     "ename": "KeyError",
     "evalue": "None",
     "output_type": "error",
     "traceback": [
      "\u001b[1;31m---------------------------------------------------------------------------\u001b[0m",
      "\u001b[1;31mKeyError\u001b[0m                                  Traceback (most recent call last)",
      "\u001b[1;32m<expression>\u001b[0m in \u001b[0;36m<module>\u001b[1;34m()\u001b[0m\n",
      "\u001b[1;32m<string>\u001b[0m in \u001b[0;36mCalcF1\u001b[1;34m(SGCL)\u001b[0m\n",
      "\u001b[1;31mKeyError\u001b[0m: None"
     ]
    },
    {
     "ename": "KeyError",
     "evalue": "None",
     "output_type": "error",
     "traceback": [
      "\u001b[1;31m---------------------------------------------------------------------------\u001b[0m",
      "\u001b[1;31mKeyError\u001b[0m                                  Traceback (most recent call last)",
      "\u001b[1;32m<expression>\u001b[0m in \u001b[0;36m<module>\u001b[1;34m()\u001b[0m\n",
      "\u001b[1;32m<string>\u001b[0m in \u001b[0;36mCalcF1\u001b[1;34m(SGCL)\u001b[0m\n",
      "\u001b[1;31mKeyError\u001b[0m: None"
     ]
    },
    {
     "ename": "KeyError",
     "evalue": "None",
     "output_type": "error",
     "traceback": [
      "\u001b[1;31m---------------------------------------------------------------------------\u001b[0m",
      "\u001b[1;31mKeyError\u001b[0m                                  Traceback (most recent call last)",
      "\u001b[1;32m<expression>\u001b[0m in \u001b[0;36m<module>\u001b[1;34m()\u001b[0m\n",
      "\u001b[1;32m<string>\u001b[0m in \u001b[0;36mCalcF1\u001b[1;34m(SGCL)\u001b[0m\n",
      "\u001b[1;31mKeyError\u001b[0m: None"
     ]
    },
    {
     "ename": "KeyError",
     "evalue": "None",
     "output_type": "error",
     "traceback": [
      "\u001b[1;31m---------------------------------------------------------------------------\u001b[0m",
      "\u001b[1;31mKeyError\u001b[0m                                  Traceback (most recent call last)",
      "\u001b[1;32m<expression>\u001b[0m in \u001b[0;36m<module>\u001b[1;34m()\u001b[0m\n",
      "\u001b[1;32m<string>\u001b[0m in \u001b[0;36mCalcF1\u001b[1;34m(SGCL)\u001b[0m\n",
      "\u001b[1;31mKeyError\u001b[0m: None"
     ]
    },
    {
     "ename": "KeyError",
     "evalue": "None",
     "output_type": "error",
     "traceback": [
      "\u001b[1;31m---------------------------------------------------------------------------\u001b[0m",
      "\u001b[1;31mKeyError\u001b[0m                                  Traceback (most recent call last)",
      "\u001b[1;32m<expression>\u001b[0m in \u001b[0;36m<module>\u001b[1;34m()\u001b[0m\n",
      "\u001b[1;32m<string>\u001b[0m in \u001b[0;36mCalcF1\u001b[1;34m(SGCL)\u001b[0m\n",
      "\u001b[1;31mKeyError\u001b[0m: None"
     ]
    },
    {
     "ename": "KeyError",
     "evalue": "None",
     "output_type": "error",
     "traceback": [
      "\u001b[1;31m---------------------------------------------------------------------------\u001b[0m",
      "\u001b[1;31mKeyError\u001b[0m                                  Traceback (most recent call last)",
      "\u001b[1;32m<expression>\u001b[0m in \u001b[0;36m<module>\u001b[1;34m()\u001b[0m\n",
      "\u001b[1;32m<string>\u001b[0m in \u001b[0;36mCalcF1\u001b[1;34m(SGCL)\u001b[0m\n",
      "\u001b[1;31mKeyError\u001b[0m: None"
     ]
    },
    {
     "ename": "KeyError",
     "evalue": "None",
     "output_type": "error",
     "traceback": [
      "\u001b[1;31m---------------------------------------------------------------------------\u001b[0m",
      "\u001b[1;31mKeyError\u001b[0m                                  Traceback (most recent call last)",
      "\u001b[1;32m<expression>\u001b[0m in \u001b[0;36m<module>\u001b[1;34m()\u001b[0m\n",
      "\u001b[1;32m<string>\u001b[0m in \u001b[0;36mCalcF1\u001b[1;34m(SGCL)\u001b[0m\n",
      "\u001b[1;31mKeyError\u001b[0m: None"
     ]
    },
    {
     "ename": "KeyError",
     "evalue": "None",
     "output_type": "error",
     "traceback": [
      "\u001b[1;31m---------------------------------------------------------------------------\u001b[0m",
      "\u001b[1;31mKeyError\u001b[0m                                  Traceback (most recent call last)",
      "\u001b[1;32m<expression>\u001b[0m in \u001b[0;36m<module>\u001b[1;34m()\u001b[0m\n",
      "\u001b[1;32m<string>\u001b[0m in \u001b[0;36mCalcF1\u001b[1;34m(SGCL)\u001b[0m\n",
      "\u001b[1;31mKeyError\u001b[0m: None"
     ]
    },
    {
     "ename": "KeyError",
     "evalue": "None",
     "output_type": "error",
     "traceback": [
      "\u001b[1;31m---------------------------------------------------------------------------\u001b[0m",
      "\u001b[1;31mKeyError\u001b[0m                                  Traceback (most recent call last)",
      "\u001b[1;32m<expression>\u001b[0m in \u001b[0;36m<module>\u001b[1;34m()\u001b[0m\n",
      "\u001b[1;32m<string>\u001b[0m in \u001b[0;36mCalcF1\u001b[1;34m(SGCL)\u001b[0m\n",
      "\u001b[1;31mKeyError\u001b[0m: None"
     ]
    },
    {
     "ename": "KeyError",
     "evalue": "None",
     "output_type": "error",
     "traceback": [
      "\u001b[1;31m---------------------------------------------------------------------------\u001b[0m",
      "\u001b[1;31mKeyError\u001b[0m                                  Traceback (most recent call last)",
      "\u001b[1;32m<expression>\u001b[0m in \u001b[0;36m<module>\u001b[1;34m()\u001b[0m\n",
      "\u001b[1;32m<string>\u001b[0m in \u001b[0;36mCalcF1\u001b[1;34m(SGCL)\u001b[0m\n",
      "\u001b[1;31mKeyError\u001b[0m: None"
     ]
    },
    {
     "ename": "KeyError",
     "evalue": "None",
     "output_type": "error",
     "traceback": [
      "\u001b[1;31m---------------------------------------------------------------------------\u001b[0m",
      "\u001b[1;31mKeyError\u001b[0m                                  Traceback (most recent call last)",
      "\u001b[1;32m<expression>\u001b[0m in \u001b[0;36m<module>\u001b[1;34m()\u001b[0m\n",
      "\u001b[1;32m<string>\u001b[0m in \u001b[0;36mCalcF1\u001b[1;34m(SGCL)\u001b[0m\n",
      "\u001b[1;31mKeyError\u001b[0m: None"
     ]
    },
    {
     "ename": "KeyError",
     "evalue": "None",
     "output_type": "error",
     "traceback": [
      "\u001b[1;31m---------------------------------------------------------------------------\u001b[0m",
      "\u001b[1;31mKeyError\u001b[0m                                  Traceback (most recent call last)",
      "\u001b[1;32m<expression>\u001b[0m in \u001b[0;36m<module>\u001b[1;34m()\u001b[0m\n",
      "\u001b[1;32m<string>\u001b[0m in \u001b[0;36mCalcF1\u001b[1;34m(SGCL)\u001b[0m\n",
      "\u001b[1;31mKeyError\u001b[0m: None"
     ]
    },
    {
     "ename": "KeyError",
     "evalue": "None",
     "output_type": "error",
     "traceback": [
      "\u001b[1;31m---------------------------------------------------------------------------\u001b[0m",
      "\u001b[1;31mKeyError\u001b[0m                                  Traceback (most recent call last)",
      "\u001b[1;32m<expression>\u001b[0m in \u001b[0;36m<module>\u001b[1;34m()\u001b[0m\n",
      "\u001b[1;32m<string>\u001b[0m in \u001b[0;36mCalcF1\u001b[1;34m(SGCL)\u001b[0m\n",
      "\u001b[1;31mKeyError\u001b[0m: None"
     ]
    },
    {
     "ename": "KeyError",
     "evalue": "None",
     "output_type": "error",
     "traceback": [
      "\u001b[1;31m---------------------------------------------------------------------------\u001b[0m",
      "\u001b[1;31mKeyError\u001b[0m                                  Traceback (most recent call last)",
      "\u001b[1;32m<expression>\u001b[0m in \u001b[0;36m<module>\u001b[1;34m()\u001b[0m\n",
      "\u001b[1;32m<string>\u001b[0m in \u001b[0;36mCalcF1\u001b[1;34m(SGCL)\u001b[0m\n",
      "\u001b[1;31mKeyError\u001b[0m: None"
     ]
    },
    {
     "ename": "KeyError",
     "evalue": "None",
     "output_type": "error",
     "traceback": [
      "\u001b[1;31m---------------------------------------------------------------------------\u001b[0m",
      "\u001b[1;31mKeyError\u001b[0m                                  Traceback (most recent call last)",
      "\u001b[1;32m<expression>\u001b[0m in \u001b[0;36m<module>\u001b[1;34m()\u001b[0m\n",
      "\u001b[1;32m<string>\u001b[0m in \u001b[0;36mCalcF1\u001b[1;34m(SGCL)\u001b[0m\n",
      "\u001b[1;31mKeyError\u001b[0m: None"
     ]
    },
    {
     "ename": "KeyError",
     "evalue": "None",
     "output_type": "error",
     "traceback": [
      "\u001b[1;31m---------------------------------------------------------------------------\u001b[0m",
      "\u001b[1;31mKeyError\u001b[0m                                  Traceback (most recent call last)",
      "\u001b[1;32m<expression>\u001b[0m in \u001b[0;36m<module>\u001b[1;34m()\u001b[0m\n",
      "\u001b[1;32m<string>\u001b[0m in \u001b[0;36mCalcF1\u001b[1;34m(SGCL)\u001b[0m\n",
      "\u001b[1;31mKeyError\u001b[0m: None"
     ]
    },
    {
     "ename": "KeyError",
     "evalue": "None",
     "output_type": "error",
     "traceback": [
      "\u001b[1;31m---------------------------------------------------------------------------\u001b[0m",
      "\u001b[1;31mKeyError\u001b[0m                                  Traceback (most recent call last)",
      "\u001b[1;32m<expression>\u001b[0m in \u001b[0;36m<module>\u001b[1;34m()\u001b[0m\n",
      "\u001b[1;32m<string>\u001b[0m in \u001b[0;36mCalcF1\u001b[1;34m(SGCL)\u001b[0m\n",
      "\u001b[1;31mKeyError\u001b[0m: None"
     ]
    },
    {
     "ename": "KeyError",
     "evalue": "None",
     "output_type": "error",
     "traceback": [
      "\u001b[1;31m---------------------------------------------------------------------------\u001b[0m",
      "\u001b[1;31mKeyError\u001b[0m                                  Traceback (most recent call last)",
      "\u001b[1;32m<expression>\u001b[0m in \u001b[0;36m<module>\u001b[1;34m()\u001b[0m\n",
      "\u001b[1;32m<string>\u001b[0m in \u001b[0;36mCalcF1\u001b[1;34m(SGCL)\u001b[0m\n",
      "\u001b[1;31mKeyError\u001b[0m: None"
     ]
    },
    {
     "ename": "KeyError",
     "evalue": "None",
     "output_type": "error",
     "traceback": [
      "\u001b[1;31m---------------------------------------------------------------------------\u001b[0m",
      "\u001b[1;31mKeyError\u001b[0m                                  Traceback (most recent call last)",
      "\u001b[1;32m<expression>\u001b[0m in \u001b[0;36m<module>\u001b[1;34m()\u001b[0m\n",
      "\u001b[1;32m<string>\u001b[0m in \u001b[0;36mCalcF1\u001b[1;34m(SGCL)\u001b[0m\n",
      "\u001b[1;31mKeyError\u001b[0m: None"
     ]
    },
    {
     "ename": "KeyError",
     "evalue": "None",
     "output_type": "error",
     "traceback": [
      "\u001b[1;31m---------------------------------------------------------------------------\u001b[0m",
      "\u001b[1;31mKeyError\u001b[0m                                  Traceback (most recent call last)",
      "\u001b[1;32m<expression>\u001b[0m in \u001b[0;36m<module>\u001b[1;34m()\u001b[0m\n",
      "\u001b[1;32m<string>\u001b[0m in \u001b[0;36mCalcF1\u001b[1;34m(SGCL)\u001b[0m\n",
      "\u001b[1;31mKeyError\u001b[0m: None"
     ]
    },
    {
     "ename": "KeyError",
     "evalue": "None",
     "output_type": "error",
     "traceback": [
      "\u001b[1;31m---------------------------------------------------------------------------\u001b[0m",
      "\u001b[1;31mKeyError\u001b[0m                                  Traceback (most recent call last)",
      "\u001b[1;32m<expression>\u001b[0m in \u001b[0;36m<module>\u001b[1;34m()\u001b[0m\n",
      "\u001b[1;32m<string>\u001b[0m in \u001b[0;36mCalcF1\u001b[1;34m(SGCL)\u001b[0m\n",
      "\u001b[1;31mKeyError\u001b[0m: None"
     ]
    },
    {
     "ename": "KeyError",
     "evalue": "None",
     "output_type": "error",
     "traceback": [
      "\u001b[1;31m---------------------------------------------------------------------------\u001b[0m",
      "\u001b[1;31mKeyError\u001b[0m                                  Traceback (most recent call last)",
      "\u001b[1;32m<expression>\u001b[0m in \u001b[0;36m<module>\u001b[1;34m()\u001b[0m\n",
      "\u001b[1;32m<string>\u001b[0m in \u001b[0;36mCalcF1\u001b[1;34m(SGCL)\u001b[0m\n",
      "\u001b[1;31mKeyError\u001b[0m: None"
     ]
    },
    {
     "ename": "KeyError",
     "evalue": "None",
     "output_type": "error",
     "traceback": [
      "\u001b[1;31m---------------------------------------------------------------------------\u001b[0m",
      "\u001b[1;31mKeyError\u001b[0m                                  Traceback (most recent call last)",
      "\u001b[1;32m<expression>\u001b[0m in \u001b[0;36m<module>\u001b[1;34m()\u001b[0m\n",
      "\u001b[1;32m<string>\u001b[0m in \u001b[0;36mCalcF1\u001b[1;34m(SGCL)\u001b[0m\n",
      "\u001b[1;31mKeyError\u001b[0m: None"
     ]
    },
    {
     "ename": "KeyError",
     "evalue": "None",
     "output_type": "error",
     "traceback": [
      "\u001b[1;31m---------------------------------------------------------------------------\u001b[0m",
      "\u001b[1;31mKeyError\u001b[0m                                  Traceback (most recent call last)",
      "\u001b[1;32m<expression>\u001b[0m in \u001b[0;36m<module>\u001b[1;34m()\u001b[0m\n",
      "\u001b[1;32m<string>\u001b[0m in \u001b[0;36mCalcF1\u001b[1;34m(SGCL)\u001b[0m\n",
      "\u001b[1;31mKeyError\u001b[0m: None"
     ]
    },
    {
     "ename": "KeyError",
     "evalue": "None",
     "output_type": "error",
     "traceback": [
      "\u001b[1;31m---------------------------------------------------------------------------\u001b[0m",
      "\u001b[1;31mKeyError\u001b[0m                                  Traceback (most recent call last)",
      "\u001b[1;32m<expression>\u001b[0m in \u001b[0;36m<module>\u001b[1;34m()\u001b[0m\n",
      "\u001b[1;32m<string>\u001b[0m in \u001b[0;36mCalcF1\u001b[1;34m(SGCL)\u001b[0m\n",
      "\u001b[1;31mKeyError\u001b[0m: None"
     ]
    },
    {
     "ename": "KeyError",
     "evalue": "None",
     "output_type": "error",
     "traceback": [
      "\u001b[1;31m---------------------------------------------------------------------------\u001b[0m",
      "\u001b[1;31mKeyError\u001b[0m                                  Traceback (most recent call last)",
      "\u001b[1;32m<expression>\u001b[0m in \u001b[0;36m<module>\u001b[1;34m()\u001b[0m\n",
      "\u001b[1;32m<string>\u001b[0m in \u001b[0;36mCalcF1\u001b[1;34m(SGCL)\u001b[0m\n",
      "\u001b[1;31mKeyError\u001b[0m: None"
     ]
    },
    {
     "ename": "KeyError",
     "evalue": "None",
     "output_type": "error",
     "traceback": [
      "\u001b[1;31m---------------------------------------------------------------------------\u001b[0m",
      "\u001b[1;31mKeyError\u001b[0m                                  Traceback (most recent call last)",
      "\u001b[1;32m<expression>\u001b[0m in \u001b[0;36m<module>\u001b[1;34m()\u001b[0m\n",
      "\u001b[1;32m<string>\u001b[0m in \u001b[0;36mCalcF1\u001b[1;34m(SGCL)\u001b[0m\n",
      "\u001b[1;31mKeyError\u001b[0m: None"
     ]
    },
    {
     "ename": "KeyError",
     "evalue": "None",
     "output_type": "error",
     "traceback": [
      "\u001b[1;31m---------------------------------------------------------------------------\u001b[0m",
      "\u001b[1;31mKeyError\u001b[0m                                  Traceback (most recent call last)",
      "\u001b[1;32m<expression>\u001b[0m in \u001b[0;36m<module>\u001b[1;34m()\u001b[0m\n",
      "\u001b[1;32m<string>\u001b[0m in \u001b[0;36mCalcF1\u001b[1;34m(SGCL)\u001b[0m\n",
      "\u001b[1;31mKeyError\u001b[0m: None"
     ]
    },
    {
     "ename": "KeyError",
     "evalue": "None",
     "output_type": "error",
     "traceback": [
      "\u001b[1;31m---------------------------------------------------------------------------\u001b[0m",
      "\u001b[1;31mKeyError\u001b[0m                                  Traceback (most recent call last)",
      "\u001b[1;32m<expression>\u001b[0m in \u001b[0;36m<module>\u001b[1;34m()\u001b[0m\n",
      "\u001b[1;32m<string>\u001b[0m in \u001b[0;36mCalcF1\u001b[1;34m(SGCL)\u001b[0m\n",
      "\u001b[1;31mKeyError\u001b[0m: None"
     ]
    },
    {
     "ename": "KeyError",
     "evalue": "None",
     "output_type": "error",
     "traceback": [
      "\u001b[1;31m---------------------------------------------------------------------------\u001b[0m",
      "\u001b[1;31mKeyError\u001b[0m                                  Traceback (most recent call last)",
      "\u001b[1;32m<expression>\u001b[0m in \u001b[0;36m<module>\u001b[1;34m()\u001b[0m\n",
      "\u001b[1;32m<string>\u001b[0m in \u001b[0;36mCalcF1\u001b[1;34m(SGCL)\u001b[0m\n",
      "\u001b[1;31mKeyError\u001b[0m: None"
     ]
    },
    {
     "ename": "KeyError",
     "evalue": "None",
     "output_type": "error",
     "traceback": [
      "\u001b[1;31m---------------------------------------------------------------------------\u001b[0m",
      "\u001b[1;31mKeyError\u001b[0m                                  Traceback (most recent call last)",
      "\u001b[1;32m<expression>\u001b[0m in \u001b[0;36m<module>\u001b[1;34m()\u001b[0m\n",
      "\u001b[1;32m<string>\u001b[0m in \u001b[0;36mCalcF1\u001b[1;34m(SGCL)\u001b[0m\n",
      "\u001b[1;31mKeyError\u001b[0m: None"
     ]
    },
    {
     "ename": "KeyError",
     "evalue": "None",
     "output_type": "error",
     "traceback": [
      "\u001b[1;31m---------------------------------------------------------------------------\u001b[0m",
      "\u001b[1;31mKeyError\u001b[0m                                  Traceback (most recent call last)",
      "\u001b[1;32m<expression>\u001b[0m in \u001b[0;36m<module>\u001b[1;34m()\u001b[0m\n",
      "\u001b[1;32m<string>\u001b[0m in \u001b[0;36mCalcF1\u001b[1;34m(SGCL)\u001b[0m\n",
      "\u001b[1;31mKeyError\u001b[0m: None"
     ]
    },
    {
     "ename": "KeyError",
     "evalue": "None",
     "output_type": "error",
     "traceback": [
      "\u001b[1;31m---------------------------------------------------------------------------\u001b[0m",
      "\u001b[1;31mKeyError\u001b[0m                                  Traceback (most recent call last)",
      "\u001b[1;32m<expression>\u001b[0m in \u001b[0;36m<module>\u001b[1;34m()\u001b[0m\n",
      "\u001b[1;32m<string>\u001b[0m in \u001b[0;36mCalcF1\u001b[1;34m(SGCL)\u001b[0m\n",
      "\u001b[1;31mKeyError\u001b[0m: None"
     ]
    },
    {
     "ename": "KeyError",
     "evalue": "None",
     "output_type": "error",
     "traceback": [
      "\u001b[1;31m---------------------------------------------------------------------------\u001b[0m",
      "\u001b[1;31mKeyError\u001b[0m                                  Traceback (most recent call last)",
      "\u001b[1;32m<expression>\u001b[0m in \u001b[0;36m<module>\u001b[1;34m()\u001b[0m\n",
      "\u001b[1;32m<string>\u001b[0m in \u001b[0;36mCalcF1\u001b[1;34m(SGCL)\u001b[0m\n",
      "\u001b[1;31mKeyError\u001b[0m: None"
     ]
    },
    {
     "ename": "KeyError",
     "evalue": "None",
     "output_type": "error",
     "traceback": [
      "\u001b[1;31m---------------------------------------------------------------------------\u001b[0m",
      "\u001b[1;31mKeyError\u001b[0m                                  Traceback (most recent call last)",
      "\u001b[1;32m<expression>\u001b[0m in \u001b[0;36m<module>\u001b[1;34m()\u001b[0m\n",
      "\u001b[1;32m<string>\u001b[0m in \u001b[0;36mCalcF1\u001b[1;34m(SGCL)\u001b[0m\n",
      "\u001b[1;31mKeyError\u001b[0m: None"
     ]
    },
    {
     "ename": "KeyError",
     "evalue": "None",
     "output_type": "error",
     "traceback": [
      "\u001b[1;31m---------------------------------------------------------------------------\u001b[0m",
      "\u001b[1;31mKeyError\u001b[0m                                  Traceback (most recent call last)",
      "\u001b[1;32m<expression>\u001b[0m in \u001b[0;36m<module>\u001b[1;34m()\u001b[0m\n",
      "\u001b[1;32m<string>\u001b[0m in \u001b[0;36mCalcF1\u001b[1;34m(SGCL)\u001b[0m\n",
      "\u001b[1;31mKeyError\u001b[0m: None"
     ]
    },
    {
     "ename": "KeyError",
     "evalue": "None",
     "output_type": "error",
     "traceback": [
      "\u001b[1;31m---------------------------------------------------------------------------\u001b[0m",
      "\u001b[1;31mKeyError\u001b[0m                                  Traceback (most recent call last)",
      "\u001b[1;32m<expression>\u001b[0m in \u001b[0;36m<module>\u001b[1;34m()\u001b[0m\n",
      "\u001b[1;32m<string>\u001b[0m in \u001b[0;36mCalcF1\u001b[1;34m(SGCL)\u001b[0m\n",
      "\u001b[1;31mKeyError\u001b[0m: None"
     ]
    },
    {
     "ename": "KeyError",
     "evalue": "None",
     "output_type": "error",
     "traceback": [
      "\u001b[1;31m---------------------------------------------------------------------------\u001b[0m",
      "\u001b[1;31mKeyError\u001b[0m                                  Traceback (most recent call last)",
      "\u001b[1;32m<expression>\u001b[0m in \u001b[0;36m<module>\u001b[1;34m()\u001b[0m\n",
      "\u001b[1;32m<string>\u001b[0m in \u001b[0;36mCalcF1\u001b[1;34m(SGCL)\u001b[0m\n",
      "\u001b[1;31mKeyError\u001b[0m: None"
     ]
    },
    {
     "ename": "KeyError",
     "evalue": "None",
     "output_type": "error",
     "traceback": [
      "\u001b[1;31m---------------------------------------------------------------------------\u001b[0m",
      "\u001b[1;31mKeyError\u001b[0m                                  Traceback (most recent call last)",
      "\u001b[1;32m<expression>\u001b[0m in \u001b[0;36m<module>\u001b[1;34m()\u001b[0m\n",
      "\u001b[1;32m<string>\u001b[0m in \u001b[0;36mCalcF1\u001b[1;34m(SGCL)\u001b[0m\n",
      "\u001b[1;31mKeyError\u001b[0m: None"
     ]
    },
    {
     "ename": "KeyError",
     "evalue": "None",
     "output_type": "error",
     "traceback": [
      "\u001b[1;31m---------------------------------------------------------------------------\u001b[0m",
      "\u001b[1;31mKeyError\u001b[0m                                  Traceback (most recent call last)",
      "\u001b[1;32m<expression>\u001b[0m in \u001b[0;36m<module>\u001b[1;34m()\u001b[0m\n",
      "\u001b[1;32m<string>\u001b[0m in \u001b[0;36mCalcF1\u001b[1;34m(SGCL)\u001b[0m\n",
      "\u001b[1;31mKeyError\u001b[0m: None"
     ]
    },
    {
     "ename": "KeyError",
     "evalue": "None",
     "output_type": "error",
     "traceback": [
      "\u001b[1;31m---------------------------------------------------------------------------\u001b[0m",
      "\u001b[1;31mKeyError\u001b[0m                                  Traceback (most recent call last)",
      "\u001b[1;32m<expression>\u001b[0m in \u001b[0;36m<module>\u001b[1;34m()\u001b[0m\n",
      "\u001b[1;32m<string>\u001b[0m in \u001b[0;36mCalcF1\u001b[1;34m(SGCL)\u001b[0m\n",
      "\u001b[1;31mKeyError\u001b[0m: None"
     ]
    },
    {
     "ename": "KeyError",
     "evalue": "None",
     "output_type": "error",
     "traceback": [
      "\u001b[1;31m---------------------------------------------------------------------------\u001b[0m",
      "\u001b[1;31mKeyError\u001b[0m                                  Traceback (most recent call last)",
      "\u001b[1;32m<expression>\u001b[0m in \u001b[0;36m<module>\u001b[1;34m()\u001b[0m\n",
      "\u001b[1;32m<string>\u001b[0m in \u001b[0;36mCalcF1\u001b[1;34m(SGCL)\u001b[0m\n",
      "\u001b[1;31mKeyError\u001b[0m: None"
     ]
    },
    {
     "ename": "KeyError",
     "evalue": "None",
     "output_type": "error",
     "traceback": [
      "\u001b[1;31m---------------------------------------------------------------------------\u001b[0m",
      "\u001b[1;31mKeyError\u001b[0m                                  Traceback (most recent call last)",
      "\u001b[1;32m<expression>\u001b[0m in \u001b[0;36m<module>\u001b[1;34m()\u001b[0m\n",
      "\u001b[1;32m<string>\u001b[0m in \u001b[0;36mCalcF1\u001b[1;34m(SGCL)\u001b[0m\n",
      "\u001b[1;31mKeyError\u001b[0m: None"
     ]
    },
    {
     "ename": "KeyError",
     "evalue": "None",
     "output_type": "error",
     "traceback": [
      "\u001b[1;31m---------------------------------------------------------------------------\u001b[0m",
      "\u001b[1;31mKeyError\u001b[0m                                  Traceback (most recent call last)",
      "\u001b[1;32m<expression>\u001b[0m in \u001b[0;36m<module>\u001b[1;34m()\u001b[0m\n",
      "\u001b[1;32m<string>\u001b[0m in \u001b[0;36mCalcF1\u001b[1;34m(SGCL)\u001b[0m\n",
      "\u001b[1;31mKeyError\u001b[0m: None"
     ]
    },
    {
     "ename": "KeyError",
     "evalue": "None",
     "output_type": "error",
     "traceback": [
      "\u001b[1;31m---------------------------------------------------------------------------\u001b[0m",
      "\u001b[1;31mKeyError\u001b[0m                                  Traceback (most recent call last)",
      "\u001b[1;32m<expression>\u001b[0m in \u001b[0;36m<module>\u001b[1;34m()\u001b[0m\n",
      "\u001b[1;32m<string>\u001b[0m in \u001b[0;36mCalcF1\u001b[1;34m(SGCL)\u001b[0m\n",
      "\u001b[1;31mKeyError\u001b[0m: None"
     ]
    },
    {
     "ename": "KeyError",
     "evalue": "None",
     "output_type": "error",
     "traceback": [
      "\u001b[1;31m---------------------------------------------------------------------------\u001b[0m",
      "\u001b[1;31mKeyError\u001b[0m                                  Traceback (most recent call last)",
      "\u001b[1;32m<expression>\u001b[0m in \u001b[0;36m<module>\u001b[1;34m()\u001b[0m\n",
      "\u001b[1;32m<string>\u001b[0m in \u001b[0;36mCalcF1\u001b[1;34m(SGCL)\u001b[0m\n",
      "\u001b[1;31mKeyError\u001b[0m: None"
     ]
    },
    {
     "ename": "KeyError",
     "evalue": "None",
     "output_type": "error",
     "traceback": [
      "\u001b[1;31m---------------------------------------------------------------------------\u001b[0m",
      "\u001b[1;31mKeyError\u001b[0m                                  Traceback (most recent call last)",
      "\u001b[1;32m<expression>\u001b[0m in \u001b[0;36m<module>\u001b[1;34m()\u001b[0m\n",
      "\u001b[1;32m<string>\u001b[0m in \u001b[0;36mCalcF1\u001b[1;34m(SGCL)\u001b[0m\n",
      "\u001b[1;31mKeyError\u001b[0m: None"
     ]
    },
    {
     "ename": "KeyError",
     "evalue": "None",
     "output_type": "error",
     "traceback": [
      "\u001b[1;31m---------------------------------------------------------------------------\u001b[0m",
      "\u001b[1;31mKeyError\u001b[0m                                  Traceback (most recent call last)",
      "\u001b[1;32m<expression>\u001b[0m in \u001b[0;36m<module>\u001b[1;34m()\u001b[0m\n",
      "\u001b[1;32m<string>\u001b[0m in \u001b[0;36mCalcF1\u001b[1;34m(SGCL)\u001b[0m\n",
      "\u001b[1;31mKeyError\u001b[0m: None"
     ]
    },
    {
     "ename": "KeyError",
     "evalue": "None",
     "output_type": "error",
     "traceback": [
      "\u001b[1;31m---------------------------------------------------------------------------\u001b[0m",
      "\u001b[1;31mKeyError\u001b[0m                                  Traceback (most recent call last)",
      "\u001b[1;32m<expression>\u001b[0m in \u001b[0;36m<module>\u001b[1;34m()\u001b[0m\n",
      "\u001b[1;32m<string>\u001b[0m in \u001b[0;36mCalcF1\u001b[1;34m(SGCL)\u001b[0m\n",
      "\u001b[1;31mKeyError\u001b[0m: None"
     ]
    },
    {
     "ename": "KeyError",
     "evalue": "None",
     "output_type": "error",
     "traceback": [
      "\u001b[1;31m---------------------------------------------------------------------------\u001b[0m",
      "\u001b[1;31mKeyError\u001b[0m                                  Traceback (most recent call last)",
      "\u001b[1;32m<expression>\u001b[0m in \u001b[0;36m<module>\u001b[1;34m()\u001b[0m\n",
      "\u001b[1;32m<string>\u001b[0m in \u001b[0;36mCalcF1\u001b[1;34m(SGCL)\u001b[0m\n",
      "\u001b[1;31mKeyError\u001b[0m: None"
     ]
    },
    {
     "ename": "KeyError",
     "evalue": "None",
     "output_type": "error",
     "traceback": [
      "\u001b[1;31m---------------------------------------------------------------------------\u001b[0m",
      "\u001b[1;31mKeyError\u001b[0m                                  Traceback (most recent call last)",
      "\u001b[1;32m<expression>\u001b[0m in \u001b[0;36m<module>\u001b[1;34m()\u001b[0m\n",
      "\u001b[1;32m<string>\u001b[0m in \u001b[0;36mCalcF1\u001b[1;34m(SGCL)\u001b[0m\n",
      "\u001b[1;31mKeyError\u001b[0m: None"
     ]
    },
    {
     "ename": "KeyError",
     "evalue": "None",
     "output_type": "error",
     "traceback": [
      "\u001b[1;31m---------------------------------------------------------------------------\u001b[0m",
      "\u001b[1;31mKeyError\u001b[0m                                  Traceback (most recent call last)",
      "\u001b[1;32m<expression>\u001b[0m in \u001b[0;36m<module>\u001b[1;34m()\u001b[0m\n",
      "\u001b[1;32m<string>\u001b[0m in \u001b[0;36mCalcF1\u001b[1;34m(SGCL)\u001b[0m\n",
      "\u001b[1;31mKeyError\u001b[0m: None"
     ]
    },
    {
     "ename": "KeyError",
     "evalue": "None",
     "output_type": "error",
     "traceback": [
      "\u001b[1;31m---------------------------------------------------------------------------\u001b[0m",
      "\u001b[1;31mKeyError\u001b[0m                                  Traceback (most recent call last)",
      "\u001b[1;32m<expression>\u001b[0m in \u001b[0;36m<module>\u001b[1;34m()\u001b[0m\n",
      "\u001b[1;32m<string>\u001b[0m in \u001b[0;36mCalcF1\u001b[1;34m(SGCL)\u001b[0m\n",
      "\u001b[1;31mKeyError\u001b[0m: None"
     ]
    },
    {
     "ename": "KeyError",
     "evalue": "None",
     "output_type": "error",
     "traceback": [
      "\u001b[1;31m---------------------------------------------------------------------------\u001b[0m",
      "\u001b[1;31mKeyError\u001b[0m                                  Traceback (most recent call last)",
      "\u001b[1;32m<expression>\u001b[0m in \u001b[0;36m<module>\u001b[1;34m()\u001b[0m\n",
      "\u001b[1;32m<string>\u001b[0m in \u001b[0;36mCalcF1\u001b[1;34m(SGCL)\u001b[0m\n",
      "\u001b[1;31mKeyError\u001b[0m: None"
     ]
    },
    {
     "ename": "KeyError",
     "evalue": "None",
     "output_type": "error",
     "traceback": [
      "\u001b[1;31m---------------------------------------------------------------------------\u001b[0m",
      "\u001b[1;31mKeyError\u001b[0m                                  Traceback (most recent call last)",
      "\u001b[1;32m<expression>\u001b[0m in \u001b[0;36m<module>\u001b[1;34m()\u001b[0m\n",
      "\u001b[1;32m<string>\u001b[0m in \u001b[0;36mCalcF1\u001b[1;34m(SGCL)\u001b[0m\n",
      "\u001b[1;31mKeyError\u001b[0m: None"
     ]
    },
    {
     "ename": "KeyError",
     "evalue": "None",
     "output_type": "error",
     "traceback": [
      "\u001b[1;31m---------------------------------------------------------------------------\u001b[0m",
      "\u001b[1;31mKeyError\u001b[0m                                  Traceback (most recent call last)",
      "\u001b[1;32m<expression>\u001b[0m in \u001b[0;36m<module>\u001b[1;34m()\u001b[0m\n",
      "\u001b[1;32m<string>\u001b[0m in \u001b[0;36mCalcF1\u001b[1;34m(SGCL)\u001b[0m\n",
      "\u001b[1;31mKeyError\u001b[0m: None"
     ]
    },
    {
     "ename": "KeyError",
     "evalue": "None",
     "output_type": "error",
     "traceback": [
      "\u001b[1;31m---------------------------------------------------------------------------\u001b[0m",
      "\u001b[1;31mKeyError\u001b[0m                                  Traceback (most recent call last)",
      "\u001b[1;32m<expression>\u001b[0m in \u001b[0;36m<module>\u001b[1;34m()\u001b[0m\n",
      "\u001b[1;32m<string>\u001b[0m in \u001b[0;36mCalcF1\u001b[1;34m(SGCL)\u001b[0m\n",
      "\u001b[1;31mKeyError\u001b[0m: None"
     ]
    },
    {
     "ename": "KeyError",
     "evalue": "None",
     "output_type": "error",
     "traceback": [
      "\u001b[1;31m---------------------------------------------------------------------------\u001b[0m",
      "\u001b[1;31mKeyError\u001b[0m                                  Traceback (most recent call last)",
      "\u001b[1;32m<expression>\u001b[0m in \u001b[0;36m<module>\u001b[1;34m()\u001b[0m\n",
      "\u001b[1;32m<string>\u001b[0m in \u001b[0;36mCalcF1\u001b[1;34m(SGCL)\u001b[0m\n",
      "\u001b[1;31mKeyError\u001b[0m: None"
     ]
    },
    {
     "ename": "KeyError",
     "evalue": "None",
     "output_type": "error",
     "traceback": [
      "\u001b[1;31m---------------------------------------------------------------------------\u001b[0m",
      "\u001b[1;31mKeyError\u001b[0m                                  Traceback (most recent call last)",
      "\u001b[1;32m<expression>\u001b[0m in \u001b[0;36m<module>\u001b[1;34m()\u001b[0m\n",
      "\u001b[1;32m<string>\u001b[0m in \u001b[0;36mCalcF1\u001b[1;34m(SGCL)\u001b[0m\n",
      "\u001b[1;31mKeyError\u001b[0m: None"
     ]
    },
    {
     "ename": "KeyError",
     "evalue": "None",
     "output_type": "error",
     "traceback": [
      "\u001b[1;31m---------------------------------------------------------------------------\u001b[0m",
      "\u001b[1;31mKeyError\u001b[0m                                  Traceback (most recent call last)",
      "\u001b[1;32m<expression>\u001b[0m in \u001b[0;36m<module>\u001b[1;34m()\u001b[0m\n",
      "\u001b[1;32m<string>\u001b[0m in \u001b[0;36mCalcF1\u001b[1;34m(SGCL)\u001b[0m\n",
      "\u001b[1;31mKeyError\u001b[0m: None"
     ]
    },
    {
     "ename": "KeyError",
     "evalue": "None",
     "output_type": "error",
     "traceback": [
      "\u001b[1;31m---------------------------------------------------------------------------\u001b[0m",
      "\u001b[1;31mKeyError\u001b[0m                                  Traceback (most recent call last)",
      "\u001b[1;32m<expression>\u001b[0m in \u001b[0;36m<module>\u001b[1;34m()\u001b[0m\n",
      "\u001b[1;32m<string>\u001b[0m in \u001b[0;36mCalcF1\u001b[1;34m(SGCL)\u001b[0m\n",
      "\u001b[1;31mKeyError\u001b[0m: None"
     ]
    },
    {
     "ename": "KeyError",
     "evalue": "None",
     "output_type": "error",
     "traceback": [
      "\u001b[1;31m---------------------------------------------------------------------------\u001b[0m",
      "\u001b[1;31mKeyError\u001b[0m                                  Traceback (most recent call last)",
      "\u001b[1;32m<expression>\u001b[0m in \u001b[0;36m<module>\u001b[1;34m()\u001b[0m\n",
      "\u001b[1;32m<string>\u001b[0m in \u001b[0;36mCalcF1\u001b[1;34m(SGCL)\u001b[0m\n",
      "\u001b[1;31mKeyError\u001b[0m: None"
     ]
    },
    {
     "ename": "KeyError",
     "evalue": "None",
     "output_type": "error",
     "traceback": [
      "\u001b[1;31m---------------------------------------------------------------------------\u001b[0m",
      "\u001b[1;31mKeyError\u001b[0m                                  Traceback (most recent call last)",
      "\u001b[1;32m<expression>\u001b[0m in \u001b[0;36m<module>\u001b[1;34m()\u001b[0m\n",
      "\u001b[1;32m<string>\u001b[0m in \u001b[0;36mCalcF1\u001b[1;34m(SGCL)\u001b[0m\n",
      "\u001b[1;31mKeyError\u001b[0m: None"
     ]
    },
    {
     "ename": "KeyError",
     "evalue": "None",
     "output_type": "error",
     "traceback": [
      "\u001b[1;31m---------------------------------------------------------------------------\u001b[0m",
      "\u001b[1;31mKeyError\u001b[0m                                  Traceback (most recent call last)",
      "\u001b[1;32m<expression>\u001b[0m in \u001b[0;36m<module>\u001b[1;34m()\u001b[0m\n",
      "\u001b[1;32m<string>\u001b[0m in \u001b[0;36mCalcF1\u001b[1;34m(SGCL)\u001b[0m\n",
      "\u001b[1;31mKeyError\u001b[0m: None"
     ]
    },
    {
     "ename": "KeyError",
     "evalue": "None",
     "output_type": "error",
     "traceback": [
      "\u001b[1;31m---------------------------------------------------------------------------\u001b[0m",
      "\u001b[1;31mKeyError\u001b[0m                                  Traceback (most recent call last)",
      "\u001b[1;32m<expression>\u001b[0m in \u001b[0;36m<module>\u001b[1;34m()\u001b[0m\n",
      "\u001b[1;32m<string>\u001b[0m in \u001b[0;36mCalcF1\u001b[1;34m(SGCL)\u001b[0m\n",
      "\u001b[1;31mKeyError\u001b[0m: None"
     ]
    },
    {
     "ename": "KeyError",
     "evalue": "None",
     "output_type": "error",
     "traceback": [
      "\u001b[1;31m---------------------------------------------------------------------------\u001b[0m",
      "\u001b[1;31mKeyError\u001b[0m                                  Traceback (most recent call last)",
      "\u001b[1;32m<expression>\u001b[0m in \u001b[0;36m<module>\u001b[1;34m()\u001b[0m\n",
      "\u001b[1;32m<string>\u001b[0m in \u001b[0;36mCalcF1\u001b[1;34m(SGCL)\u001b[0m\n",
      "\u001b[1;31mKeyError\u001b[0m: None"
     ]
    },
    {
     "ename": "KeyError",
     "evalue": "None",
     "output_type": "error",
     "traceback": [
      "\u001b[1;31m---------------------------------------------------------------------------\u001b[0m",
      "\u001b[1;31mKeyError\u001b[0m                                  Traceback (most recent call last)",
      "\u001b[1;32m<expression>\u001b[0m in \u001b[0;36m<module>\u001b[1;34m()\u001b[0m\n",
      "\u001b[1;32m<string>\u001b[0m in \u001b[0;36mCalcF1\u001b[1;34m(SGCL)\u001b[0m\n",
      "\u001b[1;31mKeyError\u001b[0m: None"
     ]
    },
    {
     "ename": "KeyError",
     "evalue": "None",
     "output_type": "error",
     "traceback": [
      "\u001b[1;31m---------------------------------------------------------------------------\u001b[0m",
      "\u001b[1;31mKeyError\u001b[0m                                  Traceback (most recent call last)",
      "\u001b[1;32m<expression>\u001b[0m in \u001b[0;36m<module>\u001b[1;34m()\u001b[0m\n",
      "\u001b[1;32m<string>\u001b[0m in \u001b[0;36mCalcF1\u001b[1;34m(SGCL)\u001b[0m\n",
      "\u001b[1;31mKeyError\u001b[0m: None"
     ]
    },
    {
     "ename": "KeyError",
     "evalue": "None",
     "output_type": "error",
     "traceback": [
      "\u001b[1;31m---------------------------------------------------------------------------\u001b[0m",
      "\u001b[1;31mKeyError\u001b[0m                                  Traceback (most recent call last)",
      "\u001b[1;32m<expression>\u001b[0m in \u001b[0;36m<module>\u001b[1;34m()\u001b[0m\n",
      "\u001b[1;32m<string>\u001b[0m in \u001b[0;36mCalcF1\u001b[1;34m(SGCL)\u001b[0m\n",
      "\u001b[1;31mKeyError\u001b[0m: None"
     ]
    },
    {
     "ename": "KeyError",
     "evalue": "None",
     "output_type": "error",
     "traceback": [
      "\u001b[1;31m---------------------------------------------------------------------------\u001b[0m",
      "\u001b[1;31mKeyError\u001b[0m                                  Traceback (most recent call last)",
      "\u001b[1;32m<expression>\u001b[0m in \u001b[0;36m<module>\u001b[1;34m()\u001b[0m\n",
      "\u001b[1;32m<string>\u001b[0m in \u001b[0;36mCalcF1\u001b[1;34m(SGCL)\u001b[0m\n",
      "\u001b[1;31mKeyError\u001b[0m: None"
     ]
    },
    {
     "ename": "KeyError",
     "evalue": "None",
     "output_type": "error",
     "traceback": [
      "\u001b[1;31m---------------------------------------------------------------------------\u001b[0m",
      "\u001b[1;31mKeyError\u001b[0m                                  Traceback (most recent call last)",
      "\u001b[1;32m<expression>\u001b[0m in \u001b[0;36m<module>\u001b[1;34m()\u001b[0m\n",
      "\u001b[1;32m<string>\u001b[0m in \u001b[0;36mCalcF1\u001b[1;34m(SGCL)\u001b[0m\n",
      "\u001b[1;31mKeyError\u001b[0m: None"
     ]
    },
    {
     "ename": "KeyError",
     "evalue": "None",
     "output_type": "error",
     "traceback": [
      "\u001b[1;31m---------------------------------------------------------------------------\u001b[0m",
      "\u001b[1;31mKeyError\u001b[0m                                  Traceback (most recent call last)",
      "\u001b[1;32m<expression>\u001b[0m in \u001b[0;36m<module>\u001b[1;34m()\u001b[0m\n",
      "\u001b[1;32m<string>\u001b[0m in \u001b[0;36mCalcF1\u001b[1;34m(SGCL)\u001b[0m\n",
      "\u001b[1;31mKeyError\u001b[0m: None"
     ]
    },
    {
     "ename": "KeyError",
     "evalue": "None",
     "output_type": "error",
     "traceback": [
      "\u001b[1;31m---------------------------------------------------------------------------\u001b[0m",
      "\u001b[1;31mKeyError\u001b[0m                                  Traceback (most recent call last)",
      "\u001b[1;32m<expression>\u001b[0m in \u001b[0;36m<module>\u001b[1;34m()\u001b[0m\n",
      "\u001b[1;32m<string>\u001b[0m in \u001b[0;36mCalcF1\u001b[1;34m(SGCL)\u001b[0m\n",
      "\u001b[1;31mKeyError\u001b[0m: None"
     ]
    },
    {
     "ename": "KeyError",
     "evalue": "None",
     "output_type": "error",
     "traceback": [
      "\u001b[1;31m---------------------------------------------------------------------------\u001b[0m",
      "\u001b[1;31mKeyError\u001b[0m                                  Traceback (most recent call last)",
      "\u001b[1;32m<expression>\u001b[0m in \u001b[0;36m<module>\u001b[1;34m()\u001b[0m\n",
      "\u001b[1;32m<string>\u001b[0m in \u001b[0;36mCalcF1\u001b[1;34m(SGCL)\u001b[0m\n",
      "\u001b[1;31mKeyError\u001b[0m: None"
     ]
    },
    {
     "ename": "KeyError",
     "evalue": "None",
     "output_type": "error",
     "traceback": [
      "\u001b[1;31m---------------------------------------------------------------------------\u001b[0m",
      "\u001b[1;31mKeyError\u001b[0m                                  Traceback (most recent call last)",
      "\u001b[1;32m<expression>\u001b[0m in \u001b[0;36m<module>\u001b[1;34m()\u001b[0m\n",
      "\u001b[1;32m<string>\u001b[0m in \u001b[0;36mCalcF1\u001b[1;34m(SGCL)\u001b[0m\n",
      "\u001b[1;31mKeyError\u001b[0m: None"
     ]
    },
    {
     "ename": "KeyError",
     "evalue": "None",
     "output_type": "error",
     "traceback": [
      "\u001b[1;31m---------------------------------------------------------------------------\u001b[0m",
      "\u001b[1;31mKeyError\u001b[0m                                  Traceback (most recent call last)",
      "\u001b[1;32m<expression>\u001b[0m in \u001b[0;36m<module>\u001b[1;34m()\u001b[0m\n",
      "\u001b[1;32m<string>\u001b[0m in \u001b[0;36mCalcF1\u001b[1;34m(SGCL)\u001b[0m\n",
      "\u001b[1;31mKeyError\u001b[0m: None"
     ]
    },
    {
     "ename": "KeyError",
     "evalue": "None",
     "output_type": "error",
     "traceback": [
      "\u001b[1;31m---------------------------------------------------------------------------\u001b[0m",
      "\u001b[1;31mKeyError\u001b[0m                                  Traceback (most recent call last)",
      "\u001b[1;32m<expression>\u001b[0m in \u001b[0;36m<module>\u001b[1;34m()\u001b[0m\n",
      "\u001b[1;32m<string>\u001b[0m in \u001b[0;36mCalcF1\u001b[1;34m(SGCL)\u001b[0m\n",
      "\u001b[1;31mKeyError\u001b[0m: None"
     ]
    },
    {
     "ename": "KeyError",
     "evalue": "None",
     "output_type": "error",
     "traceback": [
      "\u001b[1;31m---------------------------------------------------------------------------\u001b[0m",
      "\u001b[1;31mKeyError\u001b[0m                                  Traceback (most recent call last)",
      "\u001b[1;32m<expression>\u001b[0m in \u001b[0;36m<module>\u001b[1;34m()\u001b[0m\n",
      "\u001b[1;32m<string>\u001b[0m in \u001b[0;36mCalcF1\u001b[1;34m(SGCL)\u001b[0m\n",
      "\u001b[1;31mKeyError\u001b[0m: None"
     ]
    },
    {
     "ename": "KeyError",
     "evalue": "None",
     "output_type": "error",
     "traceback": [
      "\u001b[1;31m---------------------------------------------------------------------------\u001b[0m",
      "\u001b[1;31mKeyError\u001b[0m                                  Traceback (most recent call last)",
      "\u001b[1;32m<expression>\u001b[0m in \u001b[0;36m<module>\u001b[1;34m()\u001b[0m\n",
      "\u001b[1;32m<string>\u001b[0m in \u001b[0;36mCalcF1\u001b[1;34m(SGCL)\u001b[0m\n",
      "\u001b[1;31mKeyError\u001b[0m: None"
     ]
    },
    {
     "ename": "KeyError",
     "evalue": "None",
     "output_type": "error",
     "traceback": [
      "\u001b[1;31m---------------------------------------------------------------------------\u001b[0m",
      "\u001b[1;31mKeyError\u001b[0m                                  Traceback (most recent call last)",
      "\u001b[1;32m<expression>\u001b[0m in \u001b[0;36m<module>\u001b[1;34m()\u001b[0m\n",
      "\u001b[1;32m<string>\u001b[0m in \u001b[0;36mCalcF1\u001b[1;34m(SGCL)\u001b[0m\n",
      "\u001b[1;31mKeyError\u001b[0m: None"
     ]
    },
    {
     "ename": "KeyError",
     "evalue": "None",
     "output_type": "error",
     "traceback": [
      "\u001b[1;31m---------------------------------------------------------------------------\u001b[0m",
      "\u001b[1;31mKeyError\u001b[0m                                  Traceback (most recent call last)",
      "\u001b[1;32m<expression>\u001b[0m in \u001b[0;36m<module>\u001b[1;34m()\u001b[0m\n",
      "\u001b[1;32m<string>\u001b[0m in \u001b[0;36mCalcF1\u001b[1;34m(SGCL)\u001b[0m\n",
      "\u001b[1;31mKeyError\u001b[0m: None"
     ]
    },
    {
     "ename": "KeyError",
     "evalue": "None",
     "output_type": "error",
     "traceback": [
      "\u001b[1;31m---------------------------------------------------------------------------\u001b[0m",
      "\u001b[1;31mKeyError\u001b[0m                                  Traceback (most recent call last)",
      "\u001b[1;32m<expression>\u001b[0m in \u001b[0;36m<module>\u001b[1;34m()\u001b[0m\n",
      "\u001b[1;32m<string>\u001b[0m in \u001b[0;36mCalcF1\u001b[1;34m(SGCL)\u001b[0m\n",
      "\u001b[1;31mKeyError\u001b[0m: None"
     ]
    },
    {
     "ename": "KeyError",
     "evalue": "None",
     "output_type": "error",
     "traceback": [
      "\u001b[1;31m---------------------------------------------------------------------------\u001b[0m",
      "\u001b[1;31mKeyError\u001b[0m                                  Traceback (most recent call last)",
      "\u001b[1;32m<expression>\u001b[0m in \u001b[0;36m<module>\u001b[1;34m()\u001b[0m\n",
      "\u001b[1;32m<string>\u001b[0m in \u001b[0;36mCalcF1\u001b[1;34m(SGCL)\u001b[0m\n",
      "\u001b[1;31mKeyError\u001b[0m: None"
     ]
    },
    {
     "ename": "KeyError",
     "evalue": "None",
     "output_type": "error",
     "traceback": [
      "\u001b[1;31m---------------------------------------------------------------------------\u001b[0m",
      "\u001b[1;31mKeyError\u001b[0m                                  Traceback (most recent call last)",
      "\u001b[1;32m<expression>\u001b[0m in \u001b[0;36m<module>\u001b[1;34m()\u001b[0m\n",
      "\u001b[1;32m<string>\u001b[0m in \u001b[0;36mCalcF1\u001b[1;34m(SGCL)\u001b[0m\n",
      "\u001b[1;31mKeyError\u001b[0m: None"
     ]
    },
    {
     "ename": "KeyError",
     "evalue": "None",
     "output_type": "error",
     "traceback": [
      "\u001b[1;31m---------------------------------------------------------------------------\u001b[0m",
      "\u001b[1;31mKeyError\u001b[0m                                  Traceback (most recent call last)",
      "\u001b[1;32m<expression>\u001b[0m in \u001b[0;36m<module>\u001b[1;34m()\u001b[0m\n",
      "\u001b[1;32m<string>\u001b[0m in \u001b[0;36mCalcF1\u001b[1;34m(SGCL)\u001b[0m\n",
      "\u001b[1;31mKeyError\u001b[0m: None"
     ]
    },
    {
     "ename": "KeyError",
     "evalue": "None",
     "output_type": "error",
     "traceback": [
      "\u001b[1;31m---------------------------------------------------------------------------\u001b[0m",
      "\u001b[1;31mKeyError\u001b[0m                                  Traceback (most recent call last)",
      "\u001b[1;32m<expression>\u001b[0m in \u001b[0;36m<module>\u001b[1;34m()\u001b[0m\n",
      "\u001b[1;32m<string>\u001b[0m in \u001b[0;36mCalcF1\u001b[1;34m(SGCL)\u001b[0m\n",
      "\u001b[1;31mKeyError\u001b[0m: None"
     ]
    },
    {
     "ename": "KeyError",
     "evalue": "None",
     "output_type": "error",
     "traceback": [
      "\u001b[1;31m---------------------------------------------------------------------------\u001b[0m",
      "\u001b[1;31mKeyError\u001b[0m                                  Traceback (most recent call last)",
      "\u001b[1;32m<expression>\u001b[0m in \u001b[0;36m<module>\u001b[1;34m()\u001b[0m\n",
      "\u001b[1;32m<string>\u001b[0m in \u001b[0;36mCalcF1\u001b[1;34m(SGCL)\u001b[0m\n",
      "\u001b[1;31mKeyError\u001b[0m: None"
     ]
    },
    {
     "ename": "KeyError",
     "evalue": "None",
     "output_type": "error",
     "traceback": [
      "\u001b[1;31m---------------------------------------------------------------------------\u001b[0m",
      "\u001b[1;31mKeyError\u001b[0m                                  Traceback (most recent call last)",
      "\u001b[1;32m<expression>\u001b[0m in \u001b[0;36m<module>\u001b[1;34m()\u001b[0m\n",
      "\u001b[1;32m<string>\u001b[0m in \u001b[0;36mCalcF1\u001b[1;34m(SGCL)\u001b[0m\n",
      "\u001b[1;31mKeyError\u001b[0m: None"
     ]
    },
    {
     "ename": "KeyError",
     "evalue": "None",
     "output_type": "error",
     "traceback": [
      "\u001b[1;31m---------------------------------------------------------------------------\u001b[0m",
      "\u001b[1;31mKeyError\u001b[0m                                  Traceback (most recent call last)",
      "\u001b[1;32m<expression>\u001b[0m in \u001b[0;36m<module>\u001b[1;34m()\u001b[0m\n",
      "\u001b[1;32m<string>\u001b[0m in \u001b[0;36mCalcF1\u001b[1;34m(SGCL)\u001b[0m\n",
      "\u001b[1;31mKeyError\u001b[0m: None"
     ]
    },
    {
     "ename": "KeyError",
     "evalue": "None",
     "output_type": "error",
     "traceback": [
      "\u001b[1;31m---------------------------------------------------------------------------\u001b[0m",
      "\u001b[1;31mKeyError\u001b[0m                                  Traceback (most recent call last)",
      "\u001b[1;32m<expression>\u001b[0m in \u001b[0;36m<module>\u001b[1;34m()\u001b[0m\n",
      "\u001b[1;32m<string>\u001b[0m in \u001b[0;36mCalcF1\u001b[1;34m(SGCL)\u001b[0m\n",
      "\u001b[1;31mKeyError\u001b[0m: None"
     ]
    },
    {
     "ename": "KeyError",
     "evalue": "None",
     "output_type": "error",
     "traceback": [
      "\u001b[1;31m---------------------------------------------------------------------------\u001b[0m",
      "\u001b[1;31mKeyError\u001b[0m                                  Traceback (most recent call last)",
      "\u001b[1;32m<expression>\u001b[0m in \u001b[0;36m<module>\u001b[1;34m()\u001b[0m\n",
      "\u001b[1;32m<string>\u001b[0m in \u001b[0;36mCalcF1\u001b[1;34m(SGCL)\u001b[0m\n",
      "\u001b[1;31mKeyError\u001b[0m: None"
     ]
    },
    {
     "ename": "KeyError",
     "evalue": "None",
     "output_type": "error",
     "traceback": [
      "\u001b[1;31m---------------------------------------------------------------------------\u001b[0m",
      "\u001b[1;31mKeyError\u001b[0m                                  Traceback (most recent call last)",
      "\u001b[1;32m<expression>\u001b[0m in \u001b[0;36m<module>\u001b[1;34m()\u001b[0m\n",
      "\u001b[1;32m<string>\u001b[0m in \u001b[0;36mCalcF1\u001b[1;34m(SGCL)\u001b[0m\n",
      "\u001b[1;31mKeyError\u001b[0m: None"
     ]
    },
    {
     "ename": "KeyError",
     "evalue": "None",
     "output_type": "error",
     "traceback": [
      "\u001b[1;31m---------------------------------------------------------------------------\u001b[0m",
      "\u001b[1;31mKeyError\u001b[0m                                  Traceback (most recent call last)",
      "\u001b[1;32m<expression>\u001b[0m in \u001b[0;36m<module>\u001b[1;34m()\u001b[0m\n",
      "\u001b[1;32m<string>\u001b[0m in \u001b[0;36mCalcF1\u001b[1;34m(SGCL)\u001b[0m\n",
      "\u001b[1;31mKeyError\u001b[0m: None"
     ]
    },
    {
     "ename": "KeyError",
     "evalue": "None",
     "output_type": "error",
     "traceback": [
      "\u001b[1;31m---------------------------------------------------------------------------\u001b[0m",
      "\u001b[1;31mKeyError\u001b[0m                                  Traceback (most recent call last)",
      "\u001b[1;32m<expression>\u001b[0m in \u001b[0;36m<module>\u001b[1;34m()\u001b[0m\n",
      "\u001b[1;32m<string>\u001b[0m in \u001b[0;36mCalcF1\u001b[1;34m(SGCL)\u001b[0m\n",
      "\u001b[1;31mKeyError\u001b[0m: None"
     ]
    },
    {
     "ename": "KeyError",
     "evalue": "None",
     "output_type": "error",
     "traceback": [
      "\u001b[1;31m---------------------------------------------------------------------------\u001b[0m",
      "\u001b[1;31mKeyError\u001b[0m                                  Traceback (most recent call last)",
      "\u001b[1;32m<expression>\u001b[0m in \u001b[0;36m<module>\u001b[1;34m()\u001b[0m\n",
      "\u001b[1;32m<string>\u001b[0m in \u001b[0;36mCalcF1\u001b[1;34m(SGCL)\u001b[0m\n",
      "\u001b[1;31mKeyError\u001b[0m: None"
     ]
    },
    {
     "ename": "KeyError",
     "evalue": "None",
     "output_type": "error",
     "traceback": [
      "\u001b[1;31m---------------------------------------------------------------------------\u001b[0m",
      "\u001b[1;31mKeyError\u001b[0m                                  Traceback (most recent call last)",
      "\u001b[1;32m<expression>\u001b[0m in \u001b[0;36m<module>\u001b[1;34m()\u001b[0m\n",
      "\u001b[1;32m<string>\u001b[0m in \u001b[0;36mCalcF1\u001b[1;34m(SGCL)\u001b[0m\n",
      "\u001b[1;31mKeyError\u001b[0m: None"
     ]
    },
    {
     "ename": "KeyError",
     "evalue": "None",
     "output_type": "error",
     "traceback": [
      "\u001b[1;31m---------------------------------------------------------------------------\u001b[0m",
      "\u001b[1;31mKeyError\u001b[0m                                  Traceback (most recent call last)",
      "\u001b[1;32m<expression>\u001b[0m in \u001b[0;36m<module>\u001b[1;34m()\u001b[0m\n",
      "\u001b[1;32m<string>\u001b[0m in \u001b[0;36mCalcF1\u001b[1;34m(SGCL)\u001b[0m\n",
      "\u001b[1;31mKeyError\u001b[0m: None"
     ]
    },
    {
     "ename": "KeyError",
     "evalue": "None",
     "output_type": "error",
     "traceback": [
      "\u001b[1;31m---------------------------------------------------------------------------\u001b[0m",
      "\u001b[1;31mKeyError\u001b[0m                                  Traceback (most recent call last)",
      "\u001b[1;32m<expression>\u001b[0m in \u001b[0;36m<module>\u001b[1;34m()\u001b[0m\n",
      "\u001b[1;32m<string>\u001b[0m in \u001b[0;36mCalcF1\u001b[1;34m(SGCL)\u001b[0m\n",
      "\u001b[1;31mKeyError\u001b[0m: None"
     ]
    },
    {
     "ename": "KeyError",
     "evalue": "None",
     "output_type": "error",
     "traceback": [
      "\u001b[1;31m---------------------------------------------------------------------------\u001b[0m",
      "\u001b[1;31mKeyError\u001b[0m                                  Traceback (most recent call last)",
      "\u001b[1;32m<expression>\u001b[0m in \u001b[0;36m<module>\u001b[1;34m()\u001b[0m\n",
      "\u001b[1;32m<string>\u001b[0m in \u001b[0;36mCalcF1\u001b[1;34m(SGCL)\u001b[0m\n",
      "\u001b[1;31mKeyError\u001b[0m: None"
     ]
    },
    {
     "ename": "KeyError",
     "evalue": "None",
     "output_type": "error",
     "traceback": [
      "\u001b[1;31m---------------------------------------------------------------------------\u001b[0m",
      "\u001b[1;31mKeyError\u001b[0m                                  Traceback (most recent call last)",
      "\u001b[1;32m<expression>\u001b[0m in \u001b[0;36m<module>\u001b[1;34m()\u001b[0m\n",
      "\u001b[1;32m<string>\u001b[0m in \u001b[0;36mCalcF1\u001b[1;34m(SGCL)\u001b[0m\n",
      "\u001b[1;31mKeyError\u001b[0m: None"
     ]
    },
    {
     "ename": "KeyError",
     "evalue": "None",
     "output_type": "error",
     "traceback": [
      "\u001b[1;31m---------------------------------------------------------------------------\u001b[0m",
      "\u001b[1;31mKeyError\u001b[0m                                  Traceback (most recent call last)",
      "\u001b[1;32m<expression>\u001b[0m in \u001b[0;36m<module>\u001b[1;34m()\u001b[0m\n",
      "\u001b[1;32m<string>\u001b[0m in \u001b[0;36mCalcF1\u001b[1;34m(SGCL)\u001b[0m\n",
      "\u001b[1;31mKeyError\u001b[0m: None"
     ]
    },
    {
     "ename": "KeyError",
     "evalue": "None",
     "output_type": "error",
     "traceback": [
      "\u001b[1;31m---------------------------------------------------------------------------\u001b[0m",
      "\u001b[1;31mKeyError\u001b[0m                                  Traceback (most recent call last)",
      "\u001b[1;32m<expression>\u001b[0m in \u001b[0;36m<module>\u001b[1;34m()\u001b[0m\n",
      "\u001b[1;32m<string>\u001b[0m in \u001b[0;36mCalcF1\u001b[1;34m(SGCL)\u001b[0m\n",
      "\u001b[1;31mKeyError\u001b[0m: None"
     ]
    },
    {
     "ename": "KeyError",
     "evalue": "None",
     "output_type": "error",
     "traceback": [
      "\u001b[1;31m---------------------------------------------------------------------------\u001b[0m",
      "\u001b[1;31mKeyError\u001b[0m                                  Traceback (most recent call last)",
      "\u001b[1;32m<expression>\u001b[0m in \u001b[0;36m<module>\u001b[1;34m()\u001b[0m\n",
      "\u001b[1;32m<string>\u001b[0m in \u001b[0;36mCalcF1\u001b[1;34m(SGCL)\u001b[0m\n",
      "\u001b[1;31mKeyError\u001b[0m: None"
     ]
    },
    {
     "ename": "KeyError",
     "evalue": "None",
     "output_type": "error",
     "traceback": [
      "\u001b[1;31m---------------------------------------------------------------------------\u001b[0m",
      "\u001b[1;31mKeyError\u001b[0m                                  Traceback (most recent call last)",
      "\u001b[1;32m<expression>\u001b[0m in \u001b[0;36m<module>\u001b[1;34m()\u001b[0m\n",
      "\u001b[1;32m<string>\u001b[0m in \u001b[0;36mCalcF1\u001b[1;34m(SGCL)\u001b[0m\n",
      "\u001b[1;31mKeyError\u001b[0m: None"
     ]
    },
    {
     "ename": "KeyError",
     "evalue": "None",
     "output_type": "error",
     "traceback": [
      "\u001b[1;31m---------------------------------------------------------------------------\u001b[0m",
      "\u001b[1;31mKeyError\u001b[0m                                  Traceback (most recent call last)",
      "\u001b[1;32m<expression>\u001b[0m in \u001b[0;36m<module>\u001b[1;34m()\u001b[0m\n",
      "\u001b[1;32m<string>\u001b[0m in \u001b[0;36mCalcF1\u001b[1;34m(SGCL)\u001b[0m\n",
      "\u001b[1;31mKeyError\u001b[0m: None"
     ]
    },
    {
     "ename": "KeyError",
     "evalue": "None",
     "output_type": "error",
     "traceback": [
      "\u001b[1;31m---------------------------------------------------------------------------\u001b[0m",
      "\u001b[1;31mKeyError\u001b[0m                                  Traceback (most recent call last)",
      "\u001b[1;32m<expression>\u001b[0m in \u001b[0;36m<module>\u001b[1;34m()\u001b[0m\n",
      "\u001b[1;32m<string>\u001b[0m in \u001b[0;36mCalcF1\u001b[1;34m(SGCL)\u001b[0m\n",
      "\u001b[1;31mKeyError\u001b[0m: None"
     ]
    },
    {
     "ename": "KeyError",
     "evalue": "None",
     "output_type": "error",
     "traceback": [
      "\u001b[1;31m---------------------------------------------------------------------------\u001b[0m",
      "\u001b[1;31mKeyError\u001b[0m                                  Traceback (most recent call last)",
      "\u001b[1;32m<expression>\u001b[0m in \u001b[0;36m<module>\u001b[1;34m()\u001b[0m\n",
      "\u001b[1;32m<string>\u001b[0m in \u001b[0;36mCalcF1\u001b[1;34m(SGCL)\u001b[0m\n",
      "\u001b[1;31mKeyError\u001b[0m: None"
     ]
    },
    {
     "ename": "KeyError",
     "evalue": "None",
     "output_type": "error",
     "traceback": [
      "\u001b[1;31m---------------------------------------------------------------------------\u001b[0m",
      "\u001b[1;31mKeyError\u001b[0m                                  Traceback (most recent call last)",
      "\u001b[1;32m<expression>\u001b[0m in \u001b[0;36m<module>\u001b[1;34m()\u001b[0m\n",
      "\u001b[1;32m<string>\u001b[0m in \u001b[0;36mCalcF1\u001b[1;34m(SGCL)\u001b[0m\n",
      "\u001b[1;31mKeyError\u001b[0m: None"
     ]
    },
    {
     "ename": "KeyError",
     "evalue": "None",
     "output_type": "error",
     "traceback": [
      "\u001b[1;31m---------------------------------------------------------------------------\u001b[0m",
      "\u001b[1;31mKeyError\u001b[0m                                  Traceback (most recent call last)",
      "\u001b[1;32m<expression>\u001b[0m in \u001b[0;36m<module>\u001b[1;34m()\u001b[0m\n",
      "\u001b[1;32m<string>\u001b[0m in \u001b[0;36mCalcF1\u001b[1;34m(SGCL)\u001b[0m\n",
      "\u001b[1;31mKeyError\u001b[0m: None"
     ]
    },
    {
     "ename": "KeyError",
     "evalue": "None",
     "output_type": "error",
     "traceback": [
      "\u001b[1;31m---------------------------------------------------------------------------\u001b[0m",
      "\u001b[1;31mKeyError\u001b[0m                                  Traceback (most recent call last)",
      "\u001b[1;32m<expression>\u001b[0m in \u001b[0;36m<module>\u001b[1;34m()\u001b[0m\n",
      "\u001b[1;32m<string>\u001b[0m in \u001b[0;36mCalcF1\u001b[1;34m(SGCL)\u001b[0m\n",
      "\u001b[1;31mKeyError\u001b[0m: None"
     ]
    },
    {
     "ename": "KeyError",
     "evalue": "None",
     "output_type": "error",
     "traceback": [
      "\u001b[1;31m---------------------------------------------------------------------------\u001b[0m",
      "\u001b[1;31mKeyError\u001b[0m                                  Traceback (most recent call last)",
      "\u001b[1;32m<expression>\u001b[0m in \u001b[0;36m<module>\u001b[1;34m()\u001b[0m\n",
      "\u001b[1;32m<string>\u001b[0m in \u001b[0;36mCalcF1\u001b[1;34m(SGCL)\u001b[0m\n",
      "\u001b[1;31mKeyError\u001b[0m: None"
     ]
    },
    {
     "ename": "KeyError",
     "evalue": "None",
     "output_type": "error",
     "traceback": [
      "\u001b[1;31m---------------------------------------------------------------------------\u001b[0m",
      "\u001b[1;31mKeyError\u001b[0m                                  Traceback (most recent call last)",
      "\u001b[1;32m<expression>\u001b[0m in \u001b[0;36m<module>\u001b[1;34m()\u001b[0m\n",
      "\u001b[1;32m<string>\u001b[0m in \u001b[0;36mCalcF1\u001b[1;34m(SGCL)\u001b[0m\n",
      "\u001b[1;31mKeyError\u001b[0m: None"
     ]
    },
    {
     "ename": "KeyError",
     "evalue": "None",
     "output_type": "error",
     "traceback": [
      "\u001b[1;31m---------------------------------------------------------------------------\u001b[0m",
      "\u001b[1;31mKeyError\u001b[0m                                  Traceback (most recent call last)",
      "\u001b[1;32m<expression>\u001b[0m in \u001b[0;36m<module>\u001b[1;34m()\u001b[0m\n",
      "\u001b[1;32m<string>\u001b[0m in \u001b[0;36mCalcF1\u001b[1;34m(SGCL)\u001b[0m\n",
      "\u001b[1;31mKeyError\u001b[0m: None"
     ]
    },
    {
     "ename": "KeyError",
     "evalue": "None",
     "output_type": "error",
     "traceback": [
      "\u001b[1;31m---------------------------------------------------------------------------\u001b[0m",
      "\u001b[1;31mKeyError\u001b[0m                                  Traceback (most recent call last)",
      "\u001b[1;32m<expression>\u001b[0m in \u001b[0;36m<module>\u001b[1;34m()\u001b[0m\n",
      "\u001b[1;32m<string>\u001b[0m in \u001b[0;36mCalcF1\u001b[1;34m(SGCL)\u001b[0m\n",
      "\u001b[1;31mKeyError\u001b[0m: None"
     ]
    },
    {
     "ename": "KeyError",
     "evalue": "None",
     "output_type": "error",
     "traceback": [
      "\u001b[1;31m---------------------------------------------------------------------------\u001b[0m",
      "\u001b[1;31mKeyError\u001b[0m                                  Traceback (most recent call last)",
      "\u001b[1;32m<expression>\u001b[0m in \u001b[0;36m<module>\u001b[1;34m()\u001b[0m\n",
      "\u001b[1;32m<string>\u001b[0m in \u001b[0;36mCalcF1\u001b[1;34m(SGCL)\u001b[0m\n",
      "\u001b[1;31mKeyError\u001b[0m: None"
     ]
    },
    {
     "ename": "KeyError",
     "evalue": "None",
     "output_type": "error",
     "traceback": [
      "\u001b[1;31m---------------------------------------------------------------------------\u001b[0m",
      "\u001b[1;31mKeyError\u001b[0m                                  Traceback (most recent call last)",
      "\u001b[1;32m<expression>\u001b[0m in \u001b[0;36m<module>\u001b[1;34m()\u001b[0m\n",
      "\u001b[1;32m<string>\u001b[0m in \u001b[0;36mCalcF1\u001b[1;34m(SGCL)\u001b[0m\n",
      "\u001b[1;31mKeyError\u001b[0m: None"
     ]
    },
    {
     "ename": "KeyError",
     "evalue": "None",
     "output_type": "error",
     "traceback": [
      "\u001b[1;31m---------------------------------------------------------------------------\u001b[0m",
      "\u001b[1;31mKeyError\u001b[0m                                  Traceback (most recent call last)",
      "\u001b[1;32m<expression>\u001b[0m in \u001b[0;36m<module>\u001b[1;34m()\u001b[0m\n",
      "\u001b[1;32m<string>\u001b[0m in \u001b[0;36mCalcF1\u001b[1;34m(SGCL)\u001b[0m\n",
      "\u001b[1;31mKeyError\u001b[0m: None"
     ]
    },
    {
     "ename": "KeyError",
     "evalue": "None",
     "output_type": "error",
     "traceback": [
      "\u001b[1;31m---------------------------------------------------------------------------\u001b[0m",
      "\u001b[1;31mKeyError\u001b[0m                                  Traceback (most recent call last)",
      "\u001b[1;32m<expression>\u001b[0m in \u001b[0;36m<module>\u001b[1;34m()\u001b[0m\n",
      "\u001b[1;32m<string>\u001b[0m in \u001b[0;36mCalcF1\u001b[1;34m(SGCL)\u001b[0m\n",
      "\u001b[1;31mKeyError\u001b[0m: None"
     ]
    },
    {
     "ename": "KeyError",
     "evalue": "None",
     "output_type": "error",
     "traceback": [
      "\u001b[1;31m---------------------------------------------------------------------------\u001b[0m",
      "\u001b[1;31mKeyError\u001b[0m                                  Traceback (most recent call last)",
      "\u001b[1;32m<expression>\u001b[0m in \u001b[0;36m<module>\u001b[1;34m()\u001b[0m\n",
      "\u001b[1;32m<string>\u001b[0m in \u001b[0;36mCalcF1\u001b[1;34m(SGCL)\u001b[0m\n",
      "\u001b[1;31mKeyError\u001b[0m: None"
     ]
    },
    {
     "ename": "KeyError",
     "evalue": "None",
     "output_type": "error",
     "traceback": [
      "\u001b[1;31m---------------------------------------------------------------------------\u001b[0m",
      "\u001b[1;31mKeyError\u001b[0m                                  Traceback (most recent call last)",
      "\u001b[1;32m<expression>\u001b[0m in \u001b[0;36m<module>\u001b[1;34m()\u001b[0m\n",
      "\u001b[1;32m<string>\u001b[0m in \u001b[0;36mCalcF1\u001b[1;34m(SGCL)\u001b[0m\n",
      "\u001b[1;31mKeyError\u001b[0m: None"
     ]
    },
    {
     "ename": "KeyError",
     "evalue": "None",
     "output_type": "error",
     "traceback": [
      "\u001b[1;31m---------------------------------------------------------------------------\u001b[0m",
      "\u001b[1;31mKeyError\u001b[0m                                  Traceback (most recent call last)",
      "\u001b[1;32m<expression>\u001b[0m in \u001b[0;36m<module>\u001b[1;34m()\u001b[0m\n",
      "\u001b[1;32m<string>\u001b[0m in \u001b[0;36mCalcF1\u001b[1;34m(SGCL)\u001b[0m\n",
      "\u001b[1;31mKeyError\u001b[0m: None"
     ]
    },
    {
     "ename": "KeyError",
     "evalue": "None",
     "output_type": "error",
     "traceback": [
      "\u001b[1;31m---------------------------------------------------------------------------\u001b[0m",
      "\u001b[1;31mKeyError\u001b[0m                                  Traceback (most recent call last)",
      "\u001b[1;32m<expression>\u001b[0m in \u001b[0;36m<module>\u001b[1;34m()\u001b[0m\n",
      "\u001b[1;32m<string>\u001b[0m in \u001b[0;36mCalcF1\u001b[1;34m(SGCL)\u001b[0m\n",
      "\u001b[1;31mKeyError\u001b[0m: None"
     ]
    },
    {
     "ename": "KeyError",
     "evalue": "None",
     "output_type": "error",
     "traceback": [
      "\u001b[1;31m---------------------------------------------------------------------------\u001b[0m",
      "\u001b[1;31mKeyError\u001b[0m                                  Traceback (most recent call last)",
      "\u001b[1;32m<expression>\u001b[0m in \u001b[0;36m<module>\u001b[1;34m()\u001b[0m\n",
      "\u001b[1;32m<string>\u001b[0m in \u001b[0;36mCalcF1\u001b[1;34m(SGCL)\u001b[0m\n",
      "\u001b[1;31mKeyError\u001b[0m: None"
     ]
    },
    {
     "ename": "KeyError",
     "evalue": "None",
     "output_type": "error",
     "traceback": [
      "\u001b[1;31m---------------------------------------------------------------------------\u001b[0m",
      "\u001b[1;31mKeyError\u001b[0m                                  Traceback (most recent call last)",
      "\u001b[1;32m<expression>\u001b[0m in \u001b[0;36m<module>\u001b[1;34m()\u001b[0m\n",
      "\u001b[1;32m<string>\u001b[0m in \u001b[0;36mCalcF1\u001b[1;34m(SGCL)\u001b[0m\n",
      "\u001b[1;31mKeyError\u001b[0m: None"
     ]
    },
    {
     "ename": "KeyError",
     "evalue": "None",
     "output_type": "error",
     "traceback": [
      "\u001b[1;31m---------------------------------------------------------------------------\u001b[0m",
      "\u001b[1;31mKeyError\u001b[0m                                  Traceback (most recent call last)",
      "\u001b[1;32m<expression>\u001b[0m in \u001b[0;36m<module>\u001b[1;34m()\u001b[0m\n",
      "\u001b[1;32m<string>\u001b[0m in \u001b[0;36mCalcF1\u001b[1;34m(SGCL)\u001b[0m\n",
      "\u001b[1;31mKeyError\u001b[0m: None"
     ]
    },
    {
     "ename": "KeyError",
     "evalue": "None",
     "output_type": "error",
     "traceback": [
      "\u001b[1;31m---------------------------------------------------------------------------\u001b[0m",
      "\u001b[1;31mKeyError\u001b[0m                                  Traceback (most recent call last)",
      "\u001b[1;32m<expression>\u001b[0m in \u001b[0;36m<module>\u001b[1;34m()\u001b[0m\n",
      "\u001b[1;32m<string>\u001b[0m in \u001b[0;36mCalcF1\u001b[1;34m(SGCL)\u001b[0m\n",
      "\u001b[1;31mKeyError\u001b[0m: None"
     ]
    },
    {
     "ename": "KeyError",
     "evalue": "None",
     "output_type": "error",
     "traceback": [
      "\u001b[1;31m---------------------------------------------------------------------------\u001b[0m",
      "\u001b[1;31mKeyError\u001b[0m                                  Traceback (most recent call last)",
      "\u001b[1;32m<expression>\u001b[0m in \u001b[0;36m<module>\u001b[1;34m()\u001b[0m\n",
      "\u001b[1;32m<string>\u001b[0m in \u001b[0;36mCalcF1\u001b[1;34m(SGCL)\u001b[0m\n",
      "\u001b[1;31mKeyError\u001b[0m: None"
     ]
    },
    {
     "ename": "KeyError",
     "evalue": "None",
     "output_type": "error",
     "traceback": [
      "\u001b[1;31m---------------------------------------------------------------------------\u001b[0m",
      "\u001b[1;31mKeyError\u001b[0m                                  Traceback (most recent call last)",
      "\u001b[1;32m<expression>\u001b[0m in \u001b[0;36m<module>\u001b[1;34m()\u001b[0m\n",
      "\u001b[1;32m<string>\u001b[0m in \u001b[0;36mCalcF1\u001b[1;34m(SGCL)\u001b[0m\n",
      "\u001b[1;31mKeyError\u001b[0m: None"
     ]
    },
    {
     "ename": "KeyError",
     "evalue": "None",
     "output_type": "error",
     "traceback": [
      "\u001b[1;31m---------------------------------------------------------------------------\u001b[0m",
      "\u001b[1;31mKeyError\u001b[0m                                  Traceback (most recent call last)",
      "\u001b[1;32m<expression>\u001b[0m in \u001b[0;36m<module>\u001b[1;34m()\u001b[0m\n",
      "\u001b[1;32m<string>\u001b[0m in \u001b[0;36mCalcF1\u001b[1;34m(SGCL)\u001b[0m\n",
      "\u001b[1;31mKeyError\u001b[0m: None"
     ]
    },
    {
     "ename": "KeyError",
     "evalue": "None",
     "output_type": "error",
     "traceback": [
      "\u001b[1;31m---------------------------------------------------------------------------\u001b[0m",
      "\u001b[1;31mKeyError\u001b[0m                                  Traceback (most recent call last)",
      "\u001b[1;32m<expression>\u001b[0m in \u001b[0;36m<module>\u001b[1;34m()\u001b[0m\n",
      "\u001b[1;32m<string>\u001b[0m in \u001b[0;36mCalcF1\u001b[1;34m(SGCL)\u001b[0m\n",
      "\u001b[1;31mKeyError\u001b[0m: None"
     ]
    },
    {
     "ename": "KeyError",
     "evalue": "None",
     "output_type": "error",
     "traceback": [
      "\u001b[1;31m---------------------------------------------------------------------------\u001b[0m",
      "\u001b[1;31mKeyError\u001b[0m                                  Traceback (most recent call last)",
      "\u001b[1;32m<expression>\u001b[0m in \u001b[0;36m<module>\u001b[1;34m()\u001b[0m\n",
      "\u001b[1;32m<string>\u001b[0m in \u001b[0;36mCalcF1\u001b[1;34m(SGCL)\u001b[0m\n",
      "\u001b[1;31mKeyError\u001b[0m: None"
     ]
    },
    {
     "ename": "KeyError",
     "evalue": "None",
     "output_type": "error",
     "traceback": [
      "\u001b[1;31m---------------------------------------------------------------------------\u001b[0m",
      "\u001b[1;31mKeyError\u001b[0m                                  Traceback (most recent call last)",
      "\u001b[1;32m<expression>\u001b[0m in \u001b[0;36m<module>\u001b[1;34m()\u001b[0m\n",
      "\u001b[1;32m<string>\u001b[0m in \u001b[0;36mCalcF1\u001b[1;34m(SGCL)\u001b[0m\n",
      "\u001b[1;31mKeyError\u001b[0m: None"
     ]
    },
    {
     "ename": "KeyError",
     "evalue": "None",
     "output_type": "error",
     "traceback": [
      "\u001b[1;31m---------------------------------------------------------------------------\u001b[0m",
      "\u001b[1;31mKeyError\u001b[0m                                  Traceback (most recent call last)",
      "\u001b[1;32m<expression>\u001b[0m in \u001b[0;36m<module>\u001b[1;34m()\u001b[0m\n",
      "\u001b[1;32m<string>\u001b[0m in \u001b[0;36mCalcF1\u001b[1;34m(SGCL)\u001b[0m\n",
      "\u001b[1;31mKeyError\u001b[0m: None"
     ]
    },
    {
     "ename": "KeyError",
     "evalue": "None",
     "output_type": "error",
     "traceback": [
      "\u001b[1;31m---------------------------------------------------------------------------\u001b[0m",
      "\u001b[1;31mKeyError\u001b[0m                                  Traceback (most recent call last)",
      "\u001b[1;32m<expression>\u001b[0m in \u001b[0;36m<module>\u001b[1;34m()\u001b[0m\n",
      "\u001b[1;32m<string>\u001b[0m in \u001b[0;36mCalcF1\u001b[1;34m(SGCL)\u001b[0m\n",
      "\u001b[1;31mKeyError\u001b[0m: None"
     ]
    },
    {
     "ename": "KeyError",
     "evalue": "None",
     "output_type": "error",
     "traceback": [
      "\u001b[1;31m---------------------------------------------------------------------------\u001b[0m",
      "\u001b[1;31mKeyError\u001b[0m                                  Traceback (most recent call last)",
      "\u001b[1;32m<expression>\u001b[0m in \u001b[0;36m<module>\u001b[1;34m()\u001b[0m\n",
      "\u001b[1;32m<string>\u001b[0m in \u001b[0;36mCalcF1\u001b[1;34m(SGCL)\u001b[0m\n",
      "\u001b[1;31mKeyError\u001b[0m: None"
     ]
    },
    {
     "ename": "KeyError",
     "evalue": "None",
     "output_type": "error",
     "traceback": [
      "\u001b[1;31m---------------------------------------------------------------------------\u001b[0m",
      "\u001b[1;31mKeyError\u001b[0m                                  Traceback (most recent call last)",
      "\u001b[1;32m<expression>\u001b[0m in \u001b[0;36m<module>\u001b[1;34m()\u001b[0m\n",
      "\u001b[1;32m<string>\u001b[0m in \u001b[0;36mCalcF1\u001b[1;34m(SGCL)\u001b[0m\n",
      "\u001b[1;31mKeyError\u001b[0m: None"
     ]
    },
    {
     "ename": "KeyError",
     "evalue": "None",
     "output_type": "error",
     "traceback": [
      "\u001b[1;31m---------------------------------------------------------------------------\u001b[0m",
      "\u001b[1;31mKeyError\u001b[0m                                  Traceback (most recent call last)",
      "\u001b[1;32m<expression>\u001b[0m in \u001b[0;36m<module>\u001b[1;34m()\u001b[0m\n",
      "\u001b[1;32m<string>\u001b[0m in \u001b[0;36mCalcF1\u001b[1;34m(SGCL)\u001b[0m\n",
      "\u001b[1;31mKeyError\u001b[0m: None"
     ]
    },
    {
     "ename": "KeyError",
     "evalue": "None",
     "output_type": "error",
     "traceback": [
      "\u001b[1;31m---------------------------------------------------------------------------\u001b[0m",
      "\u001b[1;31mKeyError\u001b[0m                                  Traceback (most recent call last)",
      "\u001b[1;32m<expression>\u001b[0m in \u001b[0;36m<module>\u001b[1;34m()\u001b[0m\n",
      "\u001b[1;32m<string>\u001b[0m in \u001b[0;36mCalcF1\u001b[1;34m(SGCL)\u001b[0m\n",
      "\u001b[1;31mKeyError\u001b[0m: None"
     ]
    },
    {
     "ename": "KeyError",
     "evalue": "None",
     "output_type": "error",
     "traceback": [
      "\u001b[1;31m---------------------------------------------------------------------------\u001b[0m",
      "\u001b[1;31mKeyError\u001b[0m                                  Traceback (most recent call last)",
      "\u001b[1;32m<expression>\u001b[0m in \u001b[0;36m<module>\u001b[1;34m()\u001b[0m\n",
      "\u001b[1;32m<string>\u001b[0m in \u001b[0;36mCalcF1\u001b[1;34m(SGCL)\u001b[0m\n",
      "\u001b[1;31mKeyError\u001b[0m: None"
     ]
    },
    {
     "ename": "KeyError",
     "evalue": "None",
     "output_type": "error",
     "traceback": [
      "\u001b[1;31m---------------------------------------------------------------------------\u001b[0m",
      "\u001b[1;31mKeyError\u001b[0m                                  Traceback (most recent call last)",
      "\u001b[1;32m<expression>\u001b[0m in \u001b[0;36m<module>\u001b[1;34m()\u001b[0m\n",
      "\u001b[1;32m<string>\u001b[0m in \u001b[0;36mCalcF1\u001b[1;34m(SGCL)\u001b[0m\n",
      "\u001b[1;31mKeyError\u001b[0m: None"
     ]
    },
    {
     "ename": "KeyError",
     "evalue": "None",
     "output_type": "error",
     "traceback": [
      "\u001b[1;31m---------------------------------------------------------------------------\u001b[0m",
      "\u001b[1;31mKeyError\u001b[0m                                  Traceback (most recent call last)",
      "\u001b[1;32m<expression>\u001b[0m in \u001b[0;36m<module>\u001b[1;34m()\u001b[0m\n",
      "\u001b[1;32m<string>\u001b[0m in \u001b[0;36mCalcF1\u001b[1;34m(SGCL)\u001b[0m\n",
      "\u001b[1;31mKeyError\u001b[0m: None"
     ]
    },
    {
     "ename": "KeyError",
     "evalue": "None",
     "output_type": "error",
     "traceback": [
      "\u001b[1;31m---------------------------------------------------------------------------\u001b[0m",
      "\u001b[1;31mKeyError\u001b[0m                                  Traceback (most recent call last)",
      "\u001b[1;32m<expression>\u001b[0m in \u001b[0;36m<module>\u001b[1;34m()\u001b[0m\n",
      "\u001b[1;32m<string>\u001b[0m in \u001b[0;36mCalcF1\u001b[1;34m(SGCL)\u001b[0m\n",
      "\u001b[1;31mKeyError\u001b[0m: None"
     ]
    },
    {
     "ename": "KeyError",
     "evalue": "None",
     "output_type": "error",
     "traceback": [
      "\u001b[1;31m---------------------------------------------------------------------------\u001b[0m",
      "\u001b[1;31mKeyError\u001b[0m                                  Traceback (most recent call last)",
      "\u001b[1;32m<expression>\u001b[0m in \u001b[0;36m<module>\u001b[1;34m()\u001b[0m\n",
      "\u001b[1;32m<string>\u001b[0m in \u001b[0;36mCalcF1\u001b[1;34m(SGCL)\u001b[0m\n",
      "\u001b[1;31mKeyError\u001b[0m: None"
     ]
    },
    {
     "ename": "KeyError",
     "evalue": "None",
     "output_type": "error",
     "traceback": [
      "\u001b[1;31m---------------------------------------------------------------------------\u001b[0m",
      "\u001b[1;31mKeyError\u001b[0m                                  Traceback (most recent call last)",
      "\u001b[1;32m<expression>\u001b[0m in \u001b[0;36m<module>\u001b[1;34m()\u001b[0m\n",
      "\u001b[1;32m<string>\u001b[0m in \u001b[0;36mCalcF1\u001b[1;34m(SGCL)\u001b[0m\n",
      "\u001b[1;31mKeyError\u001b[0m: None"
     ]
    },
    {
     "ename": "KeyError",
     "evalue": "None",
     "output_type": "error",
     "traceback": [
      "\u001b[1;31m---------------------------------------------------------------------------\u001b[0m",
      "\u001b[1;31mKeyError\u001b[0m                                  Traceback (most recent call last)",
      "\u001b[1;32m<expression>\u001b[0m in \u001b[0;36m<module>\u001b[1;34m()\u001b[0m\n",
      "\u001b[1;32m<string>\u001b[0m in \u001b[0;36mCalcF1\u001b[1;34m(SGCL)\u001b[0m\n",
      "\u001b[1;31mKeyError\u001b[0m: None"
     ]
    },
    {
     "ename": "KeyError",
     "evalue": "None",
     "output_type": "error",
     "traceback": [
      "\u001b[1;31m---------------------------------------------------------------------------\u001b[0m",
      "\u001b[1;31mKeyError\u001b[0m                                  Traceback (most recent call last)",
      "\u001b[1;32m<expression>\u001b[0m in \u001b[0;36m<module>\u001b[1;34m()\u001b[0m\n",
      "\u001b[1;32m<string>\u001b[0m in \u001b[0;36mCalcF1\u001b[1;34m(SGCL)\u001b[0m\n",
      "\u001b[1;31mKeyError\u001b[0m: None"
     ]
    },
    {
     "ename": "KeyError",
     "evalue": "None",
     "output_type": "error",
     "traceback": [
      "\u001b[1;31m---------------------------------------------------------------------------\u001b[0m",
      "\u001b[1;31mKeyError\u001b[0m                                  Traceback (most recent call last)",
      "\u001b[1;32m<expression>\u001b[0m in \u001b[0;36m<module>\u001b[1;34m()\u001b[0m\n",
      "\u001b[1;32m<string>\u001b[0m in \u001b[0;36mCalcF1\u001b[1;34m(SGCL)\u001b[0m\n",
      "\u001b[1;31mKeyError\u001b[0m: None"
     ]
    },
    {
     "ename": "KeyError",
     "evalue": "None",
     "output_type": "error",
     "traceback": [
      "\u001b[1;31m---------------------------------------------------------------------------\u001b[0m",
      "\u001b[1;31mKeyError\u001b[0m                                  Traceback (most recent call last)",
      "\u001b[1;32m<expression>\u001b[0m in \u001b[0;36m<module>\u001b[1;34m()\u001b[0m\n",
      "\u001b[1;32m<string>\u001b[0m in \u001b[0;36mCalcF1\u001b[1;34m(SGCL)\u001b[0m\n",
      "\u001b[1;31mKeyError\u001b[0m: None"
     ]
    },
    {
     "ename": "KeyError",
     "evalue": "None",
     "output_type": "error",
     "traceback": [
      "\u001b[1;31m---------------------------------------------------------------------------\u001b[0m",
      "\u001b[1;31mKeyError\u001b[0m                                  Traceback (most recent call last)",
      "\u001b[1;32m<expression>\u001b[0m in \u001b[0;36m<module>\u001b[1;34m()\u001b[0m\n",
      "\u001b[1;32m<string>\u001b[0m in \u001b[0;36mCalcF1\u001b[1;34m(SGCL)\u001b[0m\n",
      "\u001b[1;31mKeyError\u001b[0m: None"
     ]
    },
    {
     "ename": "KeyError",
     "evalue": "None",
     "output_type": "error",
     "traceback": [
      "\u001b[1;31m---------------------------------------------------------------------------\u001b[0m",
      "\u001b[1;31mKeyError\u001b[0m                                  Traceback (most recent call last)",
      "\u001b[1;32m<expression>\u001b[0m in \u001b[0;36m<module>\u001b[1;34m()\u001b[0m\n",
      "\u001b[1;32m<string>\u001b[0m in \u001b[0;36mCalcF1\u001b[1;34m(SGCL)\u001b[0m\n",
      "\u001b[1;31mKeyError\u001b[0m: None"
     ]
    },
    {
     "ename": "KeyError",
     "evalue": "None",
     "output_type": "error",
     "traceback": [
      "\u001b[1;31m---------------------------------------------------------------------------\u001b[0m",
      "\u001b[1;31mKeyError\u001b[0m                                  Traceback (most recent call last)",
      "\u001b[1;32m<expression>\u001b[0m in \u001b[0;36m<module>\u001b[1;34m()\u001b[0m\n",
      "\u001b[1;32m<string>\u001b[0m in \u001b[0;36mCalcF1\u001b[1;34m(SGCL)\u001b[0m\n",
      "\u001b[1;31mKeyError\u001b[0m: None"
     ]
    },
    {
     "ename": "KeyError",
     "evalue": "None",
     "output_type": "error",
     "traceback": [
      "\u001b[1;31m---------------------------------------------------------------------------\u001b[0m",
      "\u001b[1;31mKeyError\u001b[0m                                  Traceback (most recent call last)",
      "\u001b[1;32m<expression>\u001b[0m in \u001b[0;36m<module>\u001b[1;34m()\u001b[0m\n",
      "\u001b[1;32m<string>\u001b[0m in \u001b[0;36mCalcF1\u001b[1;34m(SGCL)\u001b[0m\n",
      "\u001b[1;31mKeyError\u001b[0m: None"
     ]
    },
    {
     "ename": "KeyError",
     "evalue": "None",
     "output_type": "error",
     "traceback": [
      "\u001b[1;31m---------------------------------------------------------------------------\u001b[0m",
      "\u001b[1;31mKeyError\u001b[0m                                  Traceback (most recent call last)",
      "\u001b[1;32m<expression>\u001b[0m in \u001b[0;36m<module>\u001b[1;34m()\u001b[0m\n",
      "\u001b[1;32m<string>\u001b[0m in \u001b[0;36mCalcF1\u001b[1;34m(SGCL)\u001b[0m\n",
      "\u001b[1;31mKeyError\u001b[0m: None"
     ]
    },
    {
     "ename": "KeyError",
     "evalue": "None",
     "output_type": "error",
     "traceback": [
      "\u001b[1;31m---------------------------------------------------------------------------\u001b[0m",
      "\u001b[1;31mKeyError\u001b[0m                                  Traceback (most recent call last)",
      "\u001b[1;32m<expression>\u001b[0m in \u001b[0;36m<module>\u001b[1;34m()\u001b[0m\n",
      "\u001b[1;32m<string>\u001b[0m in \u001b[0;36mCalcF1\u001b[1;34m(SGCL)\u001b[0m\n",
      "\u001b[1;31mKeyError\u001b[0m: None"
     ]
    },
    {
     "ename": "KeyError",
     "evalue": "None",
     "output_type": "error",
     "traceback": [
      "\u001b[1;31m---------------------------------------------------------------------------\u001b[0m",
      "\u001b[1;31mKeyError\u001b[0m                                  Traceback (most recent call last)",
      "\u001b[1;32m<expression>\u001b[0m in \u001b[0;36m<module>\u001b[1;34m()\u001b[0m\n",
      "\u001b[1;32m<string>\u001b[0m in \u001b[0;36mCalcF1\u001b[1;34m(SGCL)\u001b[0m\n",
      "\u001b[1;31mKeyError\u001b[0m: None"
     ]
    },
    {
     "ename": "KeyError",
     "evalue": "None",
     "output_type": "error",
     "traceback": [
      "\u001b[1;31m---------------------------------------------------------------------------\u001b[0m",
      "\u001b[1;31mKeyError\u001b[0m                                  Traceback (most recent call last)",
      "\u001b[1;32m<expression>\u001b[0m in \u001b[0;36m<module>\u001b[1;34m()\u001b[0m\n",
      "\u001b[1;32m<string>\u001b[0m in \u001b[0;36mCalcF1\u001b[1;34m(SGCL)\u001b[0m\n",
      "\u001b[1;31mKeyError\u001b[0m: None"
     ]
    },
    {
     "ename": "KeyError",
     "evalue": "None",
     "output_type": "error",
     "traceback": [
      "\u001b[1;31m---------------------------------------------------------------------------\u001b[0m",
      "\u001b[1;31mKeyError\u001b[0m                                  Traceback (most recent call last)",
      "\u001b[1;32m<expression>\u001b[0m in \u001b[0;36m<module>\u001b[1;34m()\u001b[0m\n",
      "\u001b[1;32m<string>\u001b[0m in \u001b[0;36mCalcF1\u001b[1;34m(SGCL)\u001b[0m\n",
      "\u001b[1;31mKeyError\u001b[0m: None"
     ]
    },
    {
     "ename": "KeyError",
     "evalue": "None",
     "output_type": "error",
     "traceback": [
      "\u001b[1;31m---------------------------------------------------------------------------\u001b[0m",
      "\u001b[1;31mKeyError\u001b[0m                                  Traceback (most recent call last)",
      "\u001b[1;32m<expression>\u001b[0m in \u001b[0;36m<module>\u001b[1;34m()\u001b[0m\n",
      "\u001b[1;32m<string>\u001b[0m in \u001b[0;36mCalcF1\u001b[1;34m(SGCL)\u001b[0m\n",
      "\u001b[1;31mKeyError\u001b[0m: None"
     ]
    },
    {
     "ename": "KeyError",
     "evalue": "None",
     "output_type": "error",
     "traceback": [
      "\u001b[1;31m---------------------------------------------------------------------------\u001b[0m",
      "\u001b[1;31mKeyError\u001b[0m                                  Traceback (most recent call last)",
      "\u001b[1;32m<expression>\u001b[0m in \u001b[0;36m<module>\u001b[1;34m()\u001b[0m\n",
      "\u001b[1;32m<string>\u001b[0m in \u001b[0;36mCalcF1\u001b[1;34m(SGCL)\u001b[0m\n",
      "\u001b[1;31mKeyError\u001b[0m: None"
     ]
    },
    {
     "ename": "KeyError",
     "evalue": "None",
     "output_type": "error",
     "traceback": [
      "\u001b[1;31m---------------------------------------------------------------------------\u001b[0m",
      "\u001b[1;31mKeyError\u001b[0m                                  Traceback (most recent call last)",
      "\u001b[1;32m<expression>\u001b[0m in \u001b[0;36m<module>\u001b[1;34m()\u001b[0m\n",
      "\u001b[1;32m<string>\u001b[0m in \u001b[0;36mCalcF1\u001b[1;34m(SGCL)\u001b[0m\n",
      "\u001b[1;31mKeyError\u001b[0m: None"
     ]
    },
    {
     "ename": "KeyError",
     "evalue": "None",
     "output_type": "error",
     "traceback": [
      "\u001b[1;31m---------------------------------------------------------------------------\u001b[0m",
      "\u001b[1;31mKeyError\u001b[0m                                  Traceback (most recent call last)",
      "\u001b[1;32m<expression>\u001b[0m in \u001b[0;36m<module>\u001b[1;34m()\u001b[0m\n",
      "\u001b[1;32m<string>\u001b[0m in \u001b[0;36mCalcF1\u001b[1;34m(SGCL)\u001b[0m\n",
      "\u001b[1;31mKeyError\u001b[0m: None"
     ]
    },
    {
     "ename": "KeyError",
     "evalue": "None",
     "output_type": "error",
     "traceback": [
      "\u001b[1;31m---------------------------------------------------------------------------\u001b[0m",
      "\u001b[1;31mKeyError\u001b[0m                                  Traceback (most recent call last)",
      "\u001b[1;32m<expression>\u001b[0m in \u001b[0;36m<module>\u001b[1;34m()\u001b[0m\n",
      "\u001b[1;32m<string>\u001b[0m in \u001b[0;36mCalcF1\u001b[1;34m(SGCL)\u001b[0m\n",
      "\u001b[1;31mKeyError\u001b[0m: None"
     ]
    },
    {
     "ename": "KeyError",
     "evalue": "None",
     "output_type": "error",
     "traceback": [
      "\u001b[1;31m---------------------------------------------------------------------------\u001b[0m",
      "\u001b[1;31mKeyError\u001b[0m                                  Traceback (most recent call last)",
      "\u001b[1;32m<expression>\u001b[0m in \u001b[0;36m<module>\u001b[1;34m()\u001b[0m\n",
      "\u001b[1;32m<string>\u001b[0m in \u001b[0;36mCalcF1\u001b[1;34m(SGCL)\u001b[0m\n",
      "\u001b[1;31mKeyError\u001b[0m: None"
     ]
    },
    {
     "ename": "KeyError",
     "evalue": "None",
     "output_type": "error",
     "traceback": [
      "\u001b[1;31m---------------------------------------------------------------------------\u001b[0m",
      "\u001b[1;31mKeyError\u001b[0m                                  Traceback (most recent call last)",
      "\u001b[1;32m<expression>\u001b[0m in \u001b[0;36m<module>\u001b[1;34m()\u001b[0m\n",
      "\u001b[1;32m<string>\u001b[0m in \u001b[0;36mCalcF1\u001b[1;34m(SGCL)\u001b[0m\n",
      "\u001b[1;31mKeyError\u001b[0m: None"
     ]
    },
    {
     "ename": "KeyError",
     "evalue": "None",
     "output_type": "error",
     "traceback": [
      "\u001b[1;31m---------------------------------------------------------------------------\u001b[0m",
      "\u001b[1;31mKeyError\u001b[0m                                  Traceback (most recent call last)",
      "\u001b[1;32m<expression>\u001b[0m in \u001b[0;36m<module>\u001b[1;34m()\u001b[0m\n",
      "\u001b[1;32m<string>\u001b[0m in \u001b[0;36mCalcF1\u001b[1;34m(SGCL)\u001b[0m\n",
      "\u001b[1;31mKeyError\u001b[0m: None"
     ]
    },
    {
     "ename": "KeyError",
     "evalue": "None",
     "output_type": "error",
     "traceback": [
      "\u001b[1;31m---------------------------------------------------------------------------\u001b[0m",
      "\u001b[1;31mKeyError\u001b[0m                                  Traceback (most recent call last)",
      "\u001b[1;32m<expression>\u001b[0m in \u001b[0;36m<module>\u001b[1;34m()\u001b[0m\n",
      "\u001b[1;32m<string>\u001b[0m in \u001b[0;36mCalcF1\u001b[1;34m(SGCL)\u001b[0m\n",
      "\u001b[1;31mKeyError\u001b[0m: None"
     ]
    },
    {
     "ename": "KeyError",
     "evalue": "None",
     "output_type": "error",
     "traceback": [
      "\u001b[1;31m---------------------------------------------------------------------------\u001b[0m",
      "\u001b[1;31mKeyError\u001b[0m                                  Traceback (most recent call last)",
      "\u001b[1;32m<expression>\u001b[0m in \u001b[0;36m<module>\u001b[1;34m()\u001b[0m\n",
      "\u001b[1;32m<string>\u001b[0m in \u001b[0;36mCalcF1\u001b[1;34m(SGCL)\u001b[0m\n",
      "\u001b[1;31mKeyError\u001b[0m: None"
     ]
    },
    {
     "ename": "KeyError",
     "evalue": "None",
     "output_type": "error",
     "traceback": [
      "\u001b[1;31m---------------------------------------------------------------------------\u001b[0m",
      "\u001b[1;31mKeyError\u001b[0m                                  Traceback (most recent call last)",
      "\u001b[1;32m<expression>\u001b[0m in \u001b[0;36m<module>\u001b[1;34m()\u001b[0m\n",
      "\u001b[1;32m<string>\u001b[0m in \u001b[0;36mCalcF1\u001b[1;34m(SGCL)\u001b[0m\n",
      "\u001b[1;31mKeyError\u001b[0m: None"
     ]
    },
    {
     "ename": "KeyError",
     "evalue": "None",
     "output_type": "error",
     "traceback": [
      "\u001b[1;31m---------------------------------------------------------------------------\u001b[0m",
      "\u001b[1;31mKeyError\u001b[0m                                  Traceback (most recent call last)",
      "\u001b[1;32m<expression>\u001b[0m in \u001b[0;36m<module>\u001b[1;34m()\u001b[0m\n",
      "\u001b[1;32m<string>\u001b[0m in \u001b[0;36mCalcF1\u001b[1;34m(SGCL)\u001b[0m\n",
      "\u001b[1;31mKeyError\u001b[0m: None"
     ]
    },
    {
     "ename": "KeyError",
     "evalue": "None",
     "output_type": "error",
     "traceback": [
      "\u001b[1;31m---------------------------------------------------------------------------\u001b[0m",
      "\u001b[1;31mKeyError\u001b[0m                                  Traceback (most recent call last)",
      "\u001b[1;32m<expression>\u001b[0m in \u001b[0;36m<module>\u001b[1;34m()\u001b[0m\n",
      "\u001b[1;32m<string>\u001b[0m in \u001b[0;36mCalcF1\u001b[1;34m(SGCL)\u001b[0m\n",
      "\u001b[1;31mKeyError\u001b[0m: None"
     ]
    },
    {
     "ename": "KeyError",
     "evalue": "None",
     "output_type": "error",
     "traceback": [
      "\u001b[1;31m---------------------------------------------------------------------------\u001b[0m",
      "\u001b[1;31mKeyError\u001b[0m                                  Traceback (most recent call last)",
      "\u001b[1;32m<expression>\u001b[0m in \u001b[0;36m<module>\u001b[1;34m()\u001b[0m\n",
      "\u001b[1;32m<string>\u001b[0m in \u001b[0;36mCalcF1\u001b[1;34m(SGCL)\u001b[0m\n",
      "\u001b[1;31mKeyError\u001b[0m: None"
     ]
    },
    {
     "ename": "KeyError",
     "evalue": "None",
     "output_type": "error",
     "traceback": [
      "\u001b[1;31m---------------------------------------------------------------------------\u001b[0m",
      "\u001b[1;31mKeyError\u001b[0m                                  Traceback (most recent call last)",
      "\u001b[1;32m<expression>\u001b[0m in \u001b[0;36m<module>\u001b[1;34m()\u001b[0m\n",
      "\u001b[1;32m<string>\u001b[0m in \u001b[0;36mCalcF1\u001b[1;34m(SGCL)\u001b[0m\n",
      "\u001b[1;31mKeyError\u001b[0m: None"
     ]
    },
    {
     "ename": "KeyError",
     "evalue": "None",
     "output_type": "error",
     "traceback": [
      "\u001b[1;31m---------------------------------------------------------------------------\u001b[0m",
      "\u001b[1;31mKeyError\u001b[0m                                  Traceback (most recent call last)",
      "\u001b[1;32m<expression>\u001b[0m in \u001b[0;36m<module>\u001b[1;34m()\u001b[0m\n",
      "\u001b[1;32m<string>\u001b[0m in \u001b[0;36mCalcF1\u001b[1;34m(SGCL)\u001b[0m\n",
      "\u001b[1;31mKeyError\u001b[0m: None"
     ]
    },
    {
     "ename": "KeyError",
     "evalue": "None",
     "output_type": "error",
     "traceback": [
      "\u001b[1;31m---------------------------------------------------------------------------\u001b[0m",
      "\u001b[1;31mKeyError\u001b[0m                                  Traceback (most recent call last)",
      "\u001b[1;32m<expression>\u001b[0m in \u001b[0;36m<module>\u001b[1;34m()\u001b[0m\n",
      "\u001b[1;32m<string>\u001b[0m in \u001b[0;36mCalcF1\u001b[1;34m(SGCL)\u001b[0m\n",
      "\u001b[1;31mKeyError\u001b[0m: None"
     ]
    },
    {
     "ename": "KeyError",
     "evalue": "None",
     "output_type": "error",
     "traceback": [
      "\u001b[1;31m---------------------------------------------------------------------------\u001b[0m",
      "\u001b[1;31mKeyError\u001b[0m                                  Traceback (most recent call last)",
      "\u001b[1;32m<expression>\u001b[0m in \u001b[0;36m<module>\u001b[1;34m()\u001b[0m\n",
      "\u001b[1;32m<string>\u001b[0m in \u001b[0;36mCalcF1\u001b[1;34m(SGCL)\u001b[0m\n",
      "\u001b[1;31mKeyError\u001b[0m: None"
     ]
    },
    {
     "ename": "KeyError",
     "evalue": "None",
     "output_type": "error",
     "traceback": [
      "\u001b[1;31m---------------------------------------------------------------------------\u001b[0m",
      "\u001b[1;31mKeyError\u001b[0m                                  Traceback (most recent call last)",
      "\u001b[1;32m<expression>\u001b[0m in \u001b[0;36m<module>\u001b[1;34m()\u001b[0m\n",
      "\u001b[1;32m<string>\u001b[0m in \u001b[0;36mCalcF1\u001b[1;34m(SGCL)\u001b[0m\n",
      "\u001b[1;31mKeyError\u001b[0m: None"
     ]
    },
    {
     "ename": "KeyError",
     "evalue": "None",
     "output_type": "error",
     "traceback": [
      "\u001b[1;31m---------------------------------------------------------------------------\u001b[0m",
      "\u001b[1;31mKeyError\u001b[0m                                  Traceback (most recent call last)",
      "\u001b[1;32m<expression>\u001b[0m in \u001b[0;36m<module>\u001b[1;34m()\u001b[0m\n",
      "\u001b[1;32m<string>\u001b[0m in \u001b[0;36mCalcF1\u001b[1;34m(SGCL)\u001b[0m\n",
      "\u001b[1;31mKeyError\u001b[0m: None"
     ]
    },
    {
     "ename": "KeyError",
     "evalue": "None",
     "output_type": "error",
     "traceback": [
      "\u001b[1;31m---------------------------------------------------------------------------\u001b[0m",
      "\u001b[1;31mKeyError\u001b[0m                                  Traceback (most recent call last)",
      "\u001b[1;32m<expression>\u001b[0m in \u001b[0;36m<module>\u001b[1;34m()\u001b[0m\n",
      "\u001b[1;32m<string>\u001b[0m in \u001b[0;36mCalcF1\u001b[1;34m(SGCL)\u001b[0m\n",
      "\u001b[1;31mKeyError\u001b[0m: None"
     ]
    },
    {
     "ename": "KeyError",
     "evalue": "None",
     "output_type": "error",
     "traceback": [
      "\u001b[1;31m---------------------------------------------------------------------------\u001b[0m",
      "\u001b[1;31mKeyError\u001b[0m                                  Traceback (most recent call last)",
      "\u001b[1;32m<expression>\u001b[0m in \u001b[0;36m<module>\u001b[1;34m()\u001b[0m\n",
      "\u001b[1;32m<string>\u001b[0m in \u001b[0;36mCalcF1\u001b[1;34m(SGCL)\u001b[0m\n",
      "\u001b[1;31mKeyError\u001b[0m: None"
     ]
    },
    {
     "ename": "KeyError",
     "evalue": "None",
     "output_type": "error",
     "traceback": [
      "\u001b[1;31m---------------------------------------------------------------------------\u001b[0m",
      "\u001b[1;31mKeyError\u001b[0m                                  Traceback (most recent call last)",
      "\u001b[1;32m<expression>\u001b[0m in \u001b[0;36m<module>\u001b[1;34m()\u001b[0m\n",
      "\u001b[1;32m<string>\u001b[0m in \u001b[0;36mCalcF1\u001b[1;34m(SGCL)\u001b[0m\n",
      "\u001b[1;31mKeyError\u001b[0m: None"
     ]
    },
    {
     "ename": "KeyError",
     "evalue": "None",
     "output_type": "error",
     "traceback": [
      "\u001b[1;31m---------------------------------------------------------------------------\u001b[0m",
      "\u001b[1;31mKeyError\u001b[0m                                  Traceback (most recent call last)",
      "\u001b[1;32m<expression>\u001b[0m in \u001b[0;36m<module>\u001b[1;34m()\u001b[0m\n",
      "\u001b[1;32m<string>\u001b[0m in \u001b[0;36mCalcF1\u001b[1;34m(SGCL)\u001b[0m\n",
      "\u001b[1;31mKeyError\u001b[0m: None"
     ]
    },
    {
     "ename": "KeyError",
     "evalue": "None",
     "output_type": "error",
     "traceback": [
      "\u001b[1;31m---------------------------------------------------------------------------\u001b[0m",
      "\u001b[1;31mKeyError\u001b[0m                                  Traceback (most recent call last)",
      "\u001b[1;32m<expression>\u001b[0m in \u001b[0;36m<module>\u001b[1;34m()\u001b[0m\n",
      "\u001b[1;32m<string>\u001b[0m in \u001b[0;36mCalcF1\u001b[1;34m(SGCL)\u001b[0m\n",
      "\u001b[1;31mKeyError\u001b[0m: None"
     ]
    },
    {
     "ename": "KeyError",
     "evalue": "None",
     "output_type": "error",
     "traceback": [
      "\u001b[1;31m---------------------------------------------------------------------------\u001b[0m",
      "\u001b[1;31mKeyError\u001b[0m                                  Traceback (most recent call last)",
      "\u001b[1;32m<expression>\u001b[0m in \u001b[0;36m<module>\u001b[1;34m()\u001b[0m\n",
      "\u001b[1;32m<string>\u001b[0m in \u001b[0;36mCalcF1\u001b[1;34m(SGCL)\u001b[0m\n",
      "\u001b[1;31mKeyError\u001b[0m: None"
     ]
    },
    {
     "ename": "KeyError",
     "evalue": "None",
     "output_type": "error",
     "traceback": [
      "\u001b[1;31m---------------------------------------------------------------------------\u001b[0m",
      "\u001b[1;31mKeyError\u001b[0m                                  Traceback (most recent call last)",
      "\u001b[1;32m<expression>\u001b[0m in \u001b[0;36m<module>\u001b[1;34m()\u001b[0m\n",
      "\u001b[1;32m<string>\u001b[0m in \u001b[0;36mCalcF1\u001b[1;34m(SGCL)\u001b[0m\n",
      "\u001b[1;31mKeyError\u001b[0m: None"
     ]
    },
    {
     "ename": "KeyError",
     "evalue": "None",
     "output_type": "error",
     "traceback": [
      "\u001b[1;31m---------------------------------------------------------------------------\u001b[0m",
      "\u001b[1;31mKeyError\u001b[0m                                  Traceback (most recent call last)",
      "\u001b[1;32m<expression>\u001b[0m in \u001b[0;36m<module>\u001b[1;34m()\u001b[0m\n",
      "\u001b[1;32m<string>\u001b[0m in \u001b[0;36mCalcF1\u001b[1;34m(SGCL)\u001b[0m\n",
      "\u001b[1;31mKeyError\u001b[0m: None"
     ]
    },
    {
     "ename": "KeyError",
     "evalue": "None",
     "output_type": "error",
     "traceback": [
      "\u001b[1;31m---------------------------------------------------------------------------\u001b[0m",
      "\u001b[1;31mKeyError\u001b[0m                                  Traceback (most recent call last)",
      "\u001b[1;32m<expression>\u001b[0m in \u001b[0;36m<module>\u001b[1;34m()\u001b[0m\n",
      "\u001b[1;32m<string>\u001b[0m in \u001b[0;36mCalcF1\u001b[1;34m(SGCL)\u001b[0m\n",
      "\u001b[1;31mKeyError\u001b[0m: None"
     ]
    },
    {
     "ename": "KeyError",
     "evalue": "None",
     "output_type": "error",
     "traceback": [
      "\u001b[1;31m---------------------------------------------------------------------------\u001b[0m",
      "\u001b[1;31mKeyError\u001b[0m                                  Traceback (most recent call last)",
      "\u001b[1;32m<expression>\u001b[0m in \u001b[0;36m<module>\u001b[1;34m()\u001b[0m\n",
      "\u001b[1;32m<string>\u001b[0m in \u001b[0;36mCalcF1\u001b[1;34m(SGCL)\u001b[0m\n",
      "\u001b[1;31mKeyError\u001b[0m: None"
     ]
    },
    {
     "ename": "KeyError",
     "evalue": "None",
     "output_type": "error",
     "traceback": [
      "\u001b[1;31m---------------------------------------------------------------------------\u001b[0m",
      "\u001b[1;31mKeyError\u001b[0m                                  Traceback (most recent call last)",
      "\u001b[1;32m<expression>\u001b[0m in \u001b[0;36m<module>\u001b[1;34m()\u001b[0m\n",
      "\u001b[1;32m<string>\u001b[0m in \u001b[0;36mCalcF1\u001b[1;34m(SGCL)\u001b[0m\n",
      "\u001b[1;31mKeyError\u001b[0m: None"
     ]
    },
    {
     "ename": "KeyError",
     "evalue": "None",
     "output_type": "error",
     "traceback": [
      "\u001b[1;31m---------------------------------------------------------------------------\u001b[0m",
      "\u001b[1;31mKeyError\u001b[0m                                  Traceback (most recent call last)",
      "\u001b[1;32m<expression>\u001b[0m in \u001b[0;36m<module>\u001b[1;34m()\u001b[0m\n",
      "\u001b[1;32m<string>\u001b[0m in \u001b[0;36mCalcF1\u001b[1;34m(SGCL)\u001b[0m\n",
      "\u001b[1;31mKeyError\u001b[0m: None"
     ]
    },
    {
     "ename": "KeyError",
     "evalue": "None",
     "output_type": "error",
     "traceback": [
      "\u001b[1;31m---------------------------------------------------------------------------\u001b[0m",
      "\u001b[1;31mKeyError\u001b[0m                                  Traceback (most recent call last)",
      "\u001b[1;32m<expression>\u001b[0m in \u001b[0;36m<module>\u001b[1;34m()\u001b[0m\n",
      "\u001b[1;32m<string>\u001b[0m in \u001b[0;36mCalcF1\u001b[1;34m(SGCL)\u001b[0m\n",
      "\u001b[1;31mKeyError\u001b[0m: None"
     ]
    },
    {
     "ename": "KeyError",
     "evalue": "None",
     "output_type": "error",
     "traceback": [
      "\u001b[1;31m---------------------------------------------------------------------------\u001b[0m",
      "\u001b[1;31mKeyError\u001b[0m                                  Traceback (most recent call last)",
      "\u001b[1;32m<expression>\u001b[0m in \u001b[0;36m<module>\u001b[1;34m()\u001b[0m\n",
      "\u001b[1;32m<string>\u001b[0m in \u001b[0;36mCalcF1\u001b[1;34m(SGCL)\u001b[0m\n",
      "\u001b[1;31mKeyError\u001b[0m: None"
     ]
    },
    {
     "ename": "KeyError",
     "evalue": "None",
     "output_type": "error",
     "traceback": [
      "\u001b[1;31m---------------------------------------------------------------------------\u001b[0m",
      "\u001b[1;31mKeyError\u001b[0m                                  Traceback (most recent call last)",
      "\u001b[1;32m<expression>\u001b[0m in \u001b[0;36m<module>\u001b[1;34m()\u001b[0m\n",
      "\u001b[1;32m<string>\u001b[0m in \u001b[0;36mCalcF1\u001b[1;34m(SGCL)\u001b[0m\n",
      "\u001b[1;31mKeyError\u001b[0m: None"
     ]
    },
    {
     "ename": "KeyError",
     "evalue": "None",
     "output_type": "error",
     "traceback": [
      "\u001b[1;31m---------------------------------------------------------------------------\u001b[0m",
      "\u001b[1;31mKeyError\u001b[0m                                  Traceback (most recent call last)",
      "\u001b[1;32m<expression>\u001b[0m in \u001b[0;36m<module>\u001b[1;34m()\u001b[0m\n",
      "\u001b[1;32m<string>\u001b[0m in \u001b[0;36mCalcF1\u001b[1;34m(SGCL)\u001b[0m\n",
      "\u001b[1;31mKeyError\u001b[0m: None"
     ]
    },
    {
     "ename": "KeyError",
     "evalue": "None",
     "output_type": "error",
     "traceback": [
      "\u001b[1;31m---------------------------------------------------------------------------\u001b[0m",
      "\u001b[1;31mKeyError\u001b[0m                                  Traceback (most recent call last)",
      "\u001b[1;32m<expression>\u001b[0m in \u001b[0;36m<module>\u001b[1;34m()\u001b[0m\n",
      "\u001b[1;32m<string>\u001b[0m in \u001b[0;36mCalcF1\u001b[1;34m(SGCL)\u001b[0m\n",
      "\u001b[1;31mKeyError\u001b[0m: None"
     ]
    },
    {
     "ename": "KeyError",
     "evalue": "None",
     "output_type": "error",
     "traceback": [
      "\u001b[1;31m---------------------------------------------------------------------------\u001b[0m",
      "\u001b[1;31mKeyError\u001b[0m                                  Traceback (most recent call last)",
      "\u001b[1;32m<expression>\u001b[0m in \u001b[0;36m<module>\u001b[1;34m()\u001b[0m\n",
      "\u001b[1;32m<string>\u001b[0m in \u001b[0;36mCalcF1\u001b[1;34m(SGCL)\u001b[0m\n",
      "\u001b[1;31mKeyError\u001b[0m: None"
     ]
    },
    {
     "ename": "KeyError",
     "evalue": "None",
     "output_type": "error",
     "traceback": [
      "\u001b[1;31m---------------------------------------------------------------------------\u001b[0m",
      "\u001b[1;31mKeyError\u001b[0m                                  Traceback (most recent call last)",
      "\u001b[1;32m<expression>\u001b[0m in \u001b[0;36m<module>\u001b[1;34m()\u001b[0m\n",
      "\u001b[1;32m<string>\u001b[0m in \u001b[0;36mCalcF1\u001b[1;34m(SGCL)\u001b[0m\n",
      "\u001b[1;31mKeyError\u001b[0m: None"
     ]
    },
    {
     "ename": "KeyError",
     "evalue": "None",
     "output_type": "error",
     "traceback": [
      "\u001b[1;31m---------------------------------------------------------------------------\u001b[0m",
      "\u001b[1;31mKeyError\u001b[0m                                  Traceback (most recent call last)",
      "\u001b[1;32m<expression>\u001b[0m in \u001b[0;36m<module>\u001b[1;34m()\u001b[0m\n",
      "\u001b[1;32m<string>\u001b[0m in \u001b[0;36mCalcF1\u001b[1;34m(SGCL)\u001b[0m\n",
      "\u001b[1;31mKeyError\u001b[0m: None"
     ]
    },
    {
     "ename": "KeyError",
     "evalue": "None",
     "output_type": "error",
     "traceback": [
      "\u001b[1;31m---------------------------------------------------------------------------\u001b[0m",
      "\u001b[1;31mKeyError\u001b[0m                                  Traceback (most recent call last)",
      "\u001b[1;32m<expression>\u001b[0m in \u001b[0;36m<module>\u001b[1;34m()\u001b[0m\n",
      "\u001b[1;32m<string>\u001b[0m in \u001b[0;36mCalcF1\u001b[1;34m(SGCL)\u001b[0m\n",
      "\u001b[1;31mKeyError\u001b[0m: None"
     ]
    },
    {
     "ename": "KeyError",
     "evalue": "None",
     "output_type": "error",
     "traceback": [
      "\u001b[1;31m---------------------------------------------------------------------------\u001b[0m",
      "\u001b[1;31mKeyError\u001b[0m                                  Traceback (most recent call last)",
      "\u001b[1;32m<expression>\u001b[0m in \u001b[0;36m<module>\u001b[1;34m()\u001b[0m\n",
      "\u001b[1;32m<string>\u001b[0m in \u001b[0;36mCalcF1\u001b[1;34m(SGCL)\u001b[0m\n",
      "\u001b[1;31mKeyError\u001b[0m: None"
     ]
    },
    {
     "ename": "KeyError",
     "evalue": "None",
     "output_type": "error",
     "traceback": [
      "\u001b[1;31m---------------------------------------------------------------------------\u001b[0m",
      "\u001b[1;31mKeyError\u001b[0m                                  Traceback (most recent call last)",
      "\u001b[1;32m<expression>\u001b[0m in \u001b[0;36m<module>\u001b[1;34m()\u001b[0m\n",
      "\u001b[1;32m<string>\u001b[0m in \u001b[0;36mCalcF1\u001b[1;34m(SGCL)\u001b[0m\n",
      "\u001b[1;31mKeyError\u001b[0m: None"
     ]
    },
    {
     "ename": "KeyError",
     "evalue": "None",
     "output_type": "error",
     "traceback": [
      "\u001b[1;31m---------------------------------------------------------------------------\u001b[0m",
      "\u001b[1;31mKeyError\u001b[0m                                  Traceback (most recent call last)",
      "\u001b[1;32m<expression>\u001b[0m in \u001b[0;36m<module>\u001b[1;34m()\u001b[0m\n",
      "\u001b[1;32m<string>\u001b[0m in \u001b[0;36mCalcF1\u001b[1;34m(SGCL)\u001b[0m\n",
      "\u001b[1;31mKeyError\u001b[0m: None"
     ]
    },
    {
     "ename": "KeyError",
     "evalue": "None",
     "output_type": "error",
     "traceback": [
      "\u001b[1;31m---------------------------------------------------------------------------\u001b[0m",
      "\u001b[1;31mKeyError\u001b[0m                                  Traceback (most recent call last)",
      "\u001b[1;32m<expression>\u001b[0m in \u001b[0;36m<module>\u001b[1;34m()\u001b[0m\n",
      "\u001b[1;32m<string>\u001b[0m in \u001b[0;36mCalcF1\u001b[1;34m(SGCL)\u001b[0m\n",
      "\u001b[1;31mKeyError\u001b[0m: None"
     ]
    },
    {
     "ename": "KeyError",
     "evalue": "None",
     "output_type": "error",
     "traceback": [
      "\u001b[1;31m---------------------------------------------------------------------------\u001b[0m",
      "\u001b[1;31mKeyError\u001b[0m                                  Traceback (most recent call last)",
      "\u001b[1;32m<expression>\u001b[0m in \u001b[0;36m<module>\u001b[1;34m()\u001b[0m\n",
      "\u001b[1;32m<string>\u001b[0m in \u001b[0;36mCalcF1\u001b[1;34m(SGCL)\u001b[0m\n",
      "\u001b[1;31mKeyError\u001b[0m: None"
     ]
    },
    {
     "ename": "KeyError",
     "evalue": "None",
     "output_type": "error",
     "traceback": [
      "\u001b[1;31m---------------------------------------------------------------------------\u001b[0m",
      "\u001b[1;31mKeyError\u001b[0m                                  Traceback (most recent call last)",
      "\u001b[1;32m<expression>\u001b[0m in \u001b[0;36m<module>\u001b[1;34m()\u001b[0m\n",
      "\u001b[1;32m<string>\u001b[0m in \u001b[0;36mCalcF1\u001b[1;34m(SGCL)\u001b[0m\n",
      "\u001b[1;31mKeyError\u001b[0m: None"
     ]
    },
    {
     "ename": "KeyError",
     "evalue": "None",
     "output_type": "error",
     "traceback": [
      "\u001b[1;31m---------------------------------------------------------------------------\u001b[0m",
      "\u001b[1;31mKeyError\u001b[0m                                  Traceback (most recent call last)",
      "\u001b[1;32m<expression>\u001b[0m in \u001b[0;36m<module>\u001b[1;34m()\u001b[0m\n",
      "\u001b[1;32m<string>\u001b[0m in \u001b[0;36mCalcF1\u001b[1;34m(SGCL)\u001b[0m\n",
      "\u001b[1;31mKeyError\u001b[0m: None"
     ]
    },
    {
     "ename": "KeyError",
     "evalue": "None",
     "output_type": "error",
     "traceback": [
      "\u001b[1;31m---------------------------------------------------------------------------\u001b[0m",
      "\u001b[1;31mKeyError\u001b[0m                                  Traceback (most recent call last)",
      "\u001b[1;32m<expression>\u001b[0m in \u001b[0;36m<module>\u001b[1;34m()\u001b[0m\n",
      "\u001b[1;32m<string>\u001b[0m in \u001b[0;36mCalcF1\u001b[1;34m(SGCL)\u001b[0m\n",
      "\u001b[1;31mKeyError\u001b[0m: None"
     ]
    },
    {
     "ename": "KeyError",
     "evalue": "None",
     "output_type": "error",
     "traceback": [
      "\u001b[1;31m---------------------------------------------------------------------------\u001b[0m",
      "\u001b[1;31mKeyError\u001b[0m                                  Traceback (most recent call last)",
      "\u001b[1;32m<expression>\u001b[0m in \u001b[0;36m<module>\u001b[1;34m()\u001b[0m\n",
      "\u001b[1;32m<string>\u001b[0m in \u001b[0;36mCalcF1\u001b[1;34m(SGCL)\u001b[0m\n",
      "\u001b[1;31mKeyError\u001b[0m: None"
     ]
    },
    {
     "ename": "KeyError",
     "evalue": "None",
     "output_type": "error",
     "traceback": [
      "\u001b[1;31m---------------------------------------------------------------------------\u001b[0m",
      "\u001b[1;31mKeyError\u001b[0m                                  Traceback (most recent call last)",
      "\u001b[1;32m<expression>\u001b[0m in \u001b[0;36m<module>\u001b[1;34m()\u001b[0m\n",
      "\u001b[1;32m<string>\u001b[0m in \u001b[0;36mCalcF1\u001b[1;34m(SGCL)\u001b[0m\n",
      "\u001b[1;31mKeyError\u001b[0m: None"
     ]
    },
    {
     "ename": "KeyError",
     "evalue": "None",
     "output_type": "error",
     "traceback": [
      "\u001b[1;31m---------------------------------------------------------------------------\u001b[0m",
      "\u001b[1;31mKeyError\u001b[0m                                  Traceback (most recent call last)",
      "\u001b[1;32m<expression>\u001b[0m in \u001b[0;36m<module>\u001b[1;34m()\u001b[0m\n",
      "\u001b[1;32m<string>\u001b[0m in \u001b[0;36mCalcF1\u001b[1;34m(SGCL)\u001b[0m\n",
      "\u001b[1;31mKeyError\u001b[0m: None"
     ]
    },
    {
     "ename": "KeyError",
     "evalue": "None",
     "output_type": "error",
     "traceback": [
      "\u001b[1;31m---------------------------------------------------------------------------\u001b[0m",
      "\u001b[1;31mKeyError\u001b[0m                                  Traceback (most recent call last)",
      "\u001b[1;32m<expression>\u001b[0m in \u001b[0;36m<module>\u001b[1;34m()\u001b[0m\n",
      "\u001b[1;32m<string>\u001b[0m in \u001b[0;36mCalcF1\u001b[1;34m(SGCL)\u001b[0m\n",
      "\u001b[1;31mKeyError\u001b[0m: None"
     ]
    },
    {
     "ename": "KeyError",
     "evalue": "None",
     "output_type": "error",
     "traceback": [
      "\u001b[1;31m---------------------------------------------------------------------------\u001b[0m",
      "\u001b[1;31mKeyError\u001b[0m                                  Traceback (most recent call last)",
      "\u001b[1;32m<expression>\u001b[0m in \u001b[0;36m<module>\u001b[1;34m()\u001b[0m\n",
      "\u001b[1;32m<string>\u001b[0m in \u001b[0;36mCalcF1\u001b[1;34m(SGCL)\u001b[0m\n",
      "\u001b[1;31mKeyError\u001b[0m: None"
     ]
    },
    {
     "ename": "KeyError",
     "evalue": "None",
     "output_type": "error",
     "traceback": [
      "\u001b[1;31m---------------------------------------------------------------------------\u001b[0m",
      "\u001b[1;31mKeyError\u001b[0m                                  Traceback (most recent call last)",
      "\u001b[1;32m<expression>\u001b[0m in \u001b[0;36m<module>\u001b[1;34m()\u001b[0m\n",
      "\u001b[1;32m<string>\u001b[0m in \u001b[0;36mCalcF1\u001b[1;34m(SGCL)\u001b[0m\n",
      "\u001b[1;31mKeyError\u001b[0m: None"
     ]
    },
    {
     "ename": "KeyError",
     "evalue": "None",
     "output_type": "error",
     "traceback": [
      "\u001b[1;31m---------------------------------------------------------------------------\u001b[0m",
      "\u001b[1;31mKeyError\u001b[0m                                  Traceback (most recent call last)",
      "\u001b[1;32m<expression>\u001b[0m in \u001b[0;36m<module>\u001b[1;34m()\u001b[0m\n",
      "\u001b[1;32m<string>\u001b[0m in \u001b[0;36mCalcF1\u001b[1;34m(SGCL)\u001b[0m\n",
      "\u001b[1;31mKeyError\u001b[0m: None"
     ]
    },
    {
     "ename": "KeyError",
     "evalue": "None",
     "output_type": "error",
     "traceback": [
      "\u001b[1;31m---------------------------------------------------------------------------\u001b[0m",
      "\u001b[1;31mKeyError\u001b[0m                                  Traceback (most recent call last)",
      "\u001b[1;32m<expression>\u001b[0m in \u001b[0;36m<module>\u001b[1;34m()\u001b[0m\n",
      "\u001b[1;32m<string>\u001b[0m in \u001b[0;36mCalcF1\u001b[1;34m(SGCL)\u001b[0m\n",
      "\u001b[1;31mKeyError\u001b[0m: None"
     ]
    },
    {
     "ename": "KeyError",
     "evalue": "None",
     "output_type": "error",
     "traceback": [
      "\u001b[1;31m---------------------------------------------------------------------------\u001b[0m",
      "\u001b[1;31mKeyError\u001b[0m                                  Traceback (most recent call last)",
      "\u001b[1;32m<expression>\u001b[0m in \u001b[0;36m<module>\u001b[1;34m()\u001b[0m\n",
      "\u001b[1;32m<string>\u001b[0m in \u001b[0;36mCalcF1\u001b[1;34m(SGCL)\u001b[0m\n",
      "\u001b[1;31mKeyError\u001b[0m: None"
     ]
    },
    {
     "ename": "KeyError",
     "evalue": "None",
     "output_type": "error",
     "traceback": [
      "\u001b[1;31m---------------------------------------------------------------------------\u001b[0m",
      "\u001b[1;31mKeyError\u001b[0m                                  Traceback (most recent call last)",
      "\u001b[1;32m<expression>\u001b[0m in \u001b[0;36m<module>\u001b[1;34m()\u001b[0m\n",
      "\u001b[1;32m<string>\u001b[0m in \u001b[0;36mCalcF1\u001b[1;34m(SGCL)\u001b[0m\n",
      "\u001b[1;31mKeyError\u001b[0m: None"
     ]
    },
    {
     "ename": "KeyError",
     "evalue": "None",
     "output_type": "error",
     "traceback": [
      "\u001b[1;31m---------------------------------------------------------------------------\u001b[0m",
      "\u001b[1;31mKeyError\u001b[0m                                  Traceback (most recent call last)",
      "\u001b[1;32m<expression>\u001b[0m in \u001b[0;36m<module>\u001b[1;34m()\u001b[0m\n",
      "\u001b[1;32m<string>\u001b[0m in \u001b[0;36mCalcF1\u001b[1;34m(SGCL)\u001b[0m\n",
      "\u001b[1;31mKeyError\u001b[0m: None"
     ]
    },
    {
     "ename": "KeyError",
     "evalue": "None",
     "output_type": "error",
     "traceback": [
      "\u001b[1;31m---------------------------------------------------------------------------\u001b[0m",
      "\u001b[1;31mKeyError\u001b[0m                                  Traceback (most recent call last)",
      "\u001b[1;32m<expression>\u001b[0m in \u001b[0;36m<module>\u001b[1;34m()\u001b[0m\n",
      "\u001b[1;32m<string>\u001b[0m in \u001b[0;36mCalcF1\u001b[1;34m(SGCL)\u001b[0m\n",
      "\u001b[1;31mKeyError\u001b[0m: None"
     ]
    },
    {
     "ename": "KeyError",
     "evalue": "None",
     "output_type": "error",
     "traceback": [
      "\u001b[1;31m---------------------------------------------------------------------------\u001b[0m",
      "\u001b[1;31mKeyError\u001b[0m                                  Traceback (most recent call last)",
      "\u001b[1;32m<expression>\u001b[0m in \u001b[0;36m<module>\u001b[1;34m()\u001b[0m\n",
      "\u001b[1;32m<string>\u001b[0m in \u001b[0;36mCalcF1\u001b[1;34m(SGCL)\u001b[0m\n",
      "\u001b[1;31mKeyError\u001b[0m: None"
     ]
    },
    {
     "ename": "KeyError",
     "evalue": "None",
     "output_type": "error",
     "traceback": [
      "\u001b[1;31m---------------------------------------------------------------------------\u001b[0m",
      "\u001b[1;31mKeyError\u001b[0m                                  Traceback (most recent call last)",
      "\u001b[1;32m<expression>\u001b[0m in \u001b[0;36m<module>\u001b[1;34m()\u001b[0m\n",
      "\u001b[1;32m<string>\u001b[0m in \u001b[0;36mCalcF1\u001b[1;34m(SGCL)\u001b[0m\n",
      "\u001b[1;31mKeyError\u001b[0m: None"
     ]
    },
    {
     "ename": "KeyError",
     "evalue": "None",
     "output_type": "error",
     "traceback": [
      "\u001b[1;31m---------------------------------------------------------------------------\u001b[0m",
      "\u001b[1;31mKeyError\u001b[0m                                  Traceback (most recent call last)",
      "\u001b[1;32m<expression>\u001b[0m in \u001b[0;36m<module>\u001b[1;34m()\u001b[0m\n",
      "\u001b[1;32m<string>\u001b[0m in \u001b[0;36mCalcF1\u001b[1;34m(SGCL)\u001b[0m\n",
      "\u001b[1;31mKeyError\u001b[0m: None"
     ]
    },
    {
     "ename": "KeyError",
     "evalue": "None",
     "output_type": "error",
     "traceback": [
      "\u001b[1;31m---------------------------------------------------------------------------\u001b[0m",
      "\u001b[1;31mKeyError\u001b[0m                                  Traceback (most recent call last)",
      "\u001b[1;32m<expression>\u001b[0m in \u001b[0;36m<module>\u001b[1;34m()\u001b[0m\n",
      "\u001b[1;32m<string>\u001b[0m in \u001b[0;36mCalcF1\u001b[1;34m(SGCL)\u001b[0m\n",
      "\u001b[1;31mKeyError\u001b[0m: None"
     ]
    },
    {
     "ename": "KeyError",
     "evalue": "None",
     "output_type": "error",
     "traceback": [
      "\u001b[1;31m---------------------------------------------------------------------------\u001b[0m",
      "\u001b[1;31mKeyError\u001b[0m                                  Traceback (most recent call last)",
      "\u001b[1;32m<expression>\u001b[0m in \u001b[0;36m<module>\u001b[1;34m()\u001b[0m\n",
      "\u001b[1;32m<string>\u001b[0m in \u001b[0;36mCalcF1\u001b[1;34m(SGCL)\u001b[0m\n",
      "\u001b[1;31mKeyError\u001b[0m: None"
     ]
    },
    {
     "ename": "KeyError",
     "evalue": "None",
     "output_type": "error",
     "traceback": [
      "\u001b[1;31m---------------------------------------------------------------------------\u001b[0m",
      "\u001b[1;31mKeyError\u001b[0m                                  Traceback (most recent call last)",
      "\u001b[1;32m<expression>\u001b[0m in \u001b[0;36m<module>\u001b[1;34m()\u001b[0m\n",
      "\u001b[1;32m<string>\u001b[0m in \u001b[0;36mCalcF1\u001b[1;34m(SGCL)\u001b[0m\n",
      "\u001b[1;31mKeyError\u001b[0m: None"
     ]
    },
    {
     "ename": "KeyError",
     "evalue": "None",
     "output_type": "error",
     "traceback": [
      "\u001b[1;31m---------------------------------------------------------------------------\u001b[0m",
      "\u001b[1;31mKeyError\u001b[0m                                  Traceback (most recent call last)",
      "\u001b[1;32m<expression>\u001b[0m in \u001b[0;36m<module>\u001b[1;34m()\u001b[0m\n",
      "\u001b[1;32m<string>\u001b[0m in \u001b[0;36mCalcF1\u001b[1;34m(SGCL)\u001b[0m\n",
      "\u001b[1;31mKeyError\u001b[0m: None"
     ]
    },
    {
     "ename": "KeyError",
     "evalue": "None",
     "output_type": "error",
     "traceback": [
      "\u001b[1;31m---------------------------------------------------------------------------\u001b[0m",
      "\u001b[1;31mKeyError\u001b[0m                                  Traceback (most recent call last)",
      "\u001b[1;32m<expression>\u001b[0m in \u001b[0;36m<module>\u001b[1;34m()\u001b[0m\n",
      "\u001b[1;32m<string>\u001b[0m in \u001b[0;36mCalcF1\u001b[1;34m(SGCL)\u001b[0m\n",
      "\u001b[1;31mKeyError\u001b[0m: None"
     ]
    },
    {
     "ename": "KeyError",
     "evalue": "None",
     "output_type": "error",
     "traceback": [
      "\u001b[1;31m---------------------------------------------------------------------------\u001b[0m",
      "\u001b[1;31mKeyError\u001b[0m                                  Traceback (most recent call last)",
      "\u001b[1;32m<expression>\u001b[0m in \u001b[0;36m<module>\u001b[1;34m()\u001b[0m\n",
      "\u001b[1;32m<string>\u001b[0m in \u001b[0;36mCalcF1\u001b[1;34m(SGCL)\u001b[0m\n",
      "\u001b[1;31mKeyError\u001b[0m: None"
     ]
    },
    {
     "ename": "KeyError",
     "evalue": "None",
     "output_type": "error",
     "traceback": [
      "\u001b[1;31m---------------------------------------------------------------------------\u001b[0m",
      "\u001b[1;31mKeyError\u001b[0m                                  Traceback (most recent call last)",
      "\u001b[1;32m<expression>\u001b[0m in \u001b[0;36m<module>\u001b[1;34m()\u001b[0m\n",
      "\u001b[1;32m<string>\u001b[0m in \u001b[0;36mCalcF1\u001b[1;34m(SGCL)\u001b[0m\n",
      "\u001b[1;31mKeyError\u001b[0m: None"
     ]
    },
    {
     "ename": "KeyError",
     "evalue": "None",
     "output_type": "error",
     "traceback": [
      "\u001b[1;31m---------------------------------------------------------------------------\u001b[0m",
      "\u001b[1;31mKeyError\u001b[0m                                  Traceback (most recent call last)",
      "\u001b[1;32m<expression>\u001b[0m in \u001b[0;36m<module>\u001b[1;34m()\u001b[0m\n",
      "\u001b[1;32m<string>\u001b[0m in \u001b[0;36mCalcF1\u001b[1;34m(SGCL)\u001b[0m\n",
      "\u001b[1;31mKeyError\u001b[0m: None"
     ]
    },
    {
     "ename": "KeyError",
     "evalue": "None",
     "output_type": "error",
     "traceback": [
      "\u001b[1;31m---------------------------------------------------------------------------\u001b[0m",
      "\u001b[1;31mKeyError\u001b[0m                                  Traceback (most recent call last)",
      "\u001b[1;32m<expression>\u001b[0m in \u001b[0;36m<module>\u001b[1;34m()\u001b[0m\n",
      "\u001b[1;32m<string>\u001b[0m in \u001b[0;36mCalcF1\u001b[1;34m(SGCL)\u001b[0m\n",
      "\u001b[1;31mKeyError\u001b[0m: None"
     ]
    },
    {
     "ename": "KeyError",
     "evalue": "None",
     "output_type": "error",
     "traceback": [
      "\u001b[1;31m---------------------------------------------------------------------------\u001b[0m",
      "\u001b[1;31mKeyError\u001b[0m                                  Traceback (most recent call last)",
      "\u001b[1;32m<expression>\u001b[0m in \u001b[0;36m<module>\u001b[1;34m()\u001b[0m\n",
      "\u001b[1;32m<string>\u001b[0m in \u001b[0;36mCalcF1\u001b[1;34m(SGCL)\u001b[0m\n",
      "\u001b[1;31mKeyError\u001b[0m: None"
     ]
    },
    {
     "ename": "KeyError",
     "evalue": "None",
     "output_type": "error",
     "traceback": [
      "\u001b[1;31m---------------------------------------------------------------------------\u001b[0m",
      "\u001b[1;31mKeyError\u001b[0m                                  Traceback (most recent call last)",
      "\u001b[1;32m<expression>\u001b[0m in \u001b[0;36m<module>\u001b[1;34m()\u001b[0m\n",
      "\u001b[1;32m<string>\u001b[0m in \u001b[0;36mCalcF1\u001b[1;34m(SGCL)\u001b[0m\n",
      "\u001b[1;31mKeyError\u001b[0m: None"
     ]
    },
    {
     "ename": "KeyError",
     "evalue": "None",
     "output_type": "error",
     "traceback": [
      "\u001b[1;31m---------------------------------------------------------------------------\u001b[0m",
      "\u001b[1;31mKeyError\u001b[0m                                  Traceback (most recent call last)",
      "\u001b[1;32m<expression>\u001b[0m in \u001b[0;36m<module>\u001b[1;34m()\u001b[0m\n",
      "\u001b[1;32m<string>\u001b[0m in \u001b[0;36mCalcF1\u001b[1;34m(SGCL)\u001b[0m\n",
      "\u001b[1;31mKeyError\u001b[0m: None"
     ]
    },
    {
     "ename": "KeyError",
     "evalue": "None",
     "output_type": "error",
     "traceback": [
      "\u001b[1;31m---------------------------------------------------------------------------\u001b[0m",
      "\u001b[1;31mKeyError\u001b[0m                                  Traceback (most recent call last)",
      "\u001b[1;32m<expression>\u001b[0m in \u001b[0;36m<module>\u001b[1;34m()\u001b[0m\n",
      "\u001b[1;32m<string>\u001b[0m in \u001b[0;36mCalcF1\u001b[1;34m(SGCL)\u001b[0m\n",
      "\u001b[1;31mKeyError\u001b[0m: None"
     ]
    },
    {
     "ename": "KeyError",
     "evalue": "None",
     "output_type": "error",
     "traceback": [
      "\u001b[1;31m---------------------------------------------------------------------------\u001b[0m",
      "\u001b[1;31mKeyError\u001b[0m                                  Traceback (most recent call last)",
      "\u001b[1;32m<expression>\u001b[0m in \u001b[0;36m<module>\u001b[1;34m()\u001b[0m\n",
      "\u001b[1;32m<string>\u001b[0m in \u001b[0;36mCalcF1\u001b[1;34m(SGCL)\u001b[0m\n",
      "\u001b[1;31mKeyError\u001b[0m: None"
     ]
    },
    {
     "ename": "KeyError",
     "evalue": "None",
     "output_type": "error",
     "traceback": [
      "\u001b[1;31m---------------------------------------------------------------------------\u001b[0m",
      "\u001b[1;31mKeyError\u001b[0m                                  Traceback (most recent call last)",
      "\u001b[1;32m<expression>\u001b[0m in \u001b[0;36m<module>\u001b[1;34m()\u001b[0m\n",
      "\u001b[1;32m<string>\u001b[0m in \u001b[0;36mCalcF1\u001b[1;34m(SGCL)\u001b[0m\n",
      "\u001b[1;31mKeyError\u001b[0m: None"
     ]
    },
    {
     "ename": "KeyError",
     "evalue": "None",
     "output_type": "error",
     "traceback": [
      "\u001b[1;31m---------------------------------------------------------------------------\u001b[0m",
      "\u001b[1;31mKeyError\u001b[0m                                  Traceback (most recent call last)",
      "\u001b[1;32m<expression>\u001b[0m in \u001b[0;36m<module>\u001b[1;34m()\u001b[0m\n",
      "\u001b[1;32m<string>\u001b[0m in \u001b[0;36mCalcF1\u001b[1;34m(SGCL)\u001b[0m\n",
      "\u001b[1;31mKeyError\u001b[0m: None"
     ]
    },
    {
     "ename": "KeyError",
     "evalue": "None",
     "output_type": "error",
     "traceback": [
      "\u001b[1;31m---------------------------------------------------------------------------\u001b[0m",
      "\u001b[1;31mKeyError\u001b[0m                                  Traceback (most recent call last)",
      "\u001b[1;32m<expression>\u001b[0m in \u001b[0;36m<module>\u001b[1;34m()\u001b[0m\n",
      "\u001b[1;32m<string>\u001b[0m in \u001b[0;36mCalcF1\u001b[1;34m(SGCL)\u001b[0m\n",
      "\u001b[1;31mKeyError\u001b[0m: None"
     ]
    },
    {
     "ename": "KeyError",
     "evalue": "None",
     "output_type": "error",
     "traceback": [
      "\u001b[1;31m---------------------------------------------------------------------------\u001b[0m",
      "\u001b[1;31mKeyError\u001b[0m                                  Traceback (most recent call last)",
      "\u001b[1;32m<expression>\u001b[0m in \u001b[0;36m<module>\u001b[1;34m()\u001b[0m\n",
      "\u001b[1;32m<string>\u001b[0m in \u001b[0;36mCalcF1\u001b[1;34m(SGCL)\u001b[0m\n",
      "\u001b[1;31mKeyError\u001b[0m: None"
     ]
    },
    {
     "ename": "KeyError",
     "evalue": "None",
     "output_type": "error",
     "traceback": [
      "\u001b[1;31m---------------------------------------------------------------------------\u001b[0m",
      "\u001b[1;31mKeyError\u001b[0m                                  Traceback (most recent call last)",
      "\u001b[1;32m<expression>\u001b[0m in \u001b[0;36m<module>\u001b[1;34m()\u001b[0m\n",
      "\u001b[1;32m<string>\u001b[0m in \u001b[0;36mCalcF1\u001b[1;34m(SGCL)\u001b[0m\n",
      "\u001b[1;31mKeyError\u001b[0m: None"
     ]
    },
    {
     "ename": "KeyError",
     "evalue": "None",
     "output_type": "error",
     "traceback": [
      "\u001b[1;31m---------------------------------------------------------------------------\u001b[0m",
      "\u001b[1;31mKeyError\u001b[0m                                  Traceback (most recent call last)",
      "\u001b[1;32m<expression>\u001b[0m in \u001b[0;36m<module>\u001b[1;34m()\u001b[0m\n",
      "\u001b[1;32m<string>\u001b[0m in \u001b[0;36mCalcF1\u001b[1;34m(SGCL)\u001b[0m\n",
      "\u001b[1;31mKeyError\u001b[0m: None"
     ]
    },
    {
     "ename": "KeyError",
     "evalue": "None",
     "output_type": "error",
     "traceback": [
      "\u001b[1;31m---------------------------------------------------------------------------\u001b[0m",
      "\u001b[1;31mKeyError\u001b[0m                                  Traceback (most recent call last)",
      "\u001b[1;32m<expression>\u001b[0m in \u001b[0;36m<module>\u001b[1;34m()\u001b[0m\n",
      "\u001b[1;32m<string>\u001b[0m in \u001b[0;36mCalcF1\u001b[1;34m(SGCL)\u001b[0m\n",
      "\u001b[1;31mKeyError\u001b[0m: None"
     ]
    },
    {
     "ename": "KeyError",
     "evalue": "None",
     "output_type": "error",
     "traceback": [
      "\u001b[1;31m---------------------------------------------------------------------------\u001b[0m",
      "\u001b[1;31mKeyError\u001b[0m                                  Traceback (most recent call last)",
      "\u001b[1;32m<expression>\u001b[0m in \u001b[0;36m<module>\u001b[1;34m()\u001b[0m\n",
      "\u001b[1;32m<string>\u001b[0m in \u001b[0;36mCalcF1\u001b[1;34m(SGCL)\u001b[0m\n",
      "\u001b[1;31mKeyError\u001b[0m: None"
     ]
    },
    {
     "ename": "KeyError",
     "evalue": "None",
     "output_type": "error",
     "traceback": [
      "\u001b[1;31m---------------------------------------------------------------------------\u001b[0m",
      "\u001b[1;31mKeyError\u001b[0m                                  Traceback (most recent call last)",
      "\u001b[1;32m<expression>\u001b[0m in \u001b[0;36m<module>\u001b[1;34m()\u001b[0m\n",
      "\u001b[1;32m<string>\u001b[0m in \u001b[0;36mCalcF1\u001b[1;34m(SGCL)\u001b[0m\n",
      "\u001b[1;31mKeyError\u001b[0m: None"
     ]
    },
    {
     "ename": "KeyError",
     "evalue": "None",
     "output_type": "error",
     "traceback": [
      "\u001b[1;31m---------------------------------------------------------------------------\u001b[0m",
      "\u001b[1;31mKeyError\u001b[0m                                  Traceback (most recent call last)",
      "\u001b[1;32m<expression>\u001b[0m in \u001b[0;36m<module>\u001b[1;34m()\u001b[0m\n",
      "\u001b[1;32m<string>\u001b[0m in \u001b[0;36mCalcF1\u001b[1;34m(SGCL)\u001b[0m\n",
      "\u001b[1;31mKeyError\u001b[0m: None"
     ]
    },
    {
     "ename": "KeyError",
     "evalue": "None",
     "output_type": "error",
     "traceback": [
      "\u001b[1;31m---------------------------------------------------------------------------\u001b[0m",
      "\u001b[1;31mKeyError\u001b[0m                                  Traceback (most recent call last)",
      "\u001b[1;32m<expression>\u001b[0m in \u001b[0;36m<module>\u001b[1;34m()\u001b[0m\n",
      "\u001b[1;32m<string>\u001b[0m in \u001b[0;36mCalcF1\u001b[1;34m(SGCL)\u001b[0m\n",
      "\u001b[1;31mKeyError\u001b[0m: None"
     ]
    },
    {
     "ename": "KeyError",
     "evalue": "None",
     "output_type": "error",
     "traceback": [
      "\u001b[1;31m---------------------------------------------------------------------------\u001b[0m",
      "\u001b[1;31mKeyError\u001b[0m                                  Traceback (most recent call last)",
      "\u001b[1;32m<expression>\u001b[0m in \u001b[0;36m<module>\u001b[1;34m()\u001b[0m\n",
      "\u001b[1;32m<string>\u001b[0m in \u001b[0;36mCalcF1\u001b[1;34m(SGCL)\u001b[0m\n",
      "\u001b[1;31mKeyError\u001b[0m: None"
     ]
    },
    {
     "ename": "KeyError",
     "evalue": "None",
     "output_type": "error",
     "traceback": [
      "\u001b[1;31m---------------------------------------------------------------------------\u001b[0m",
      "\u001b[1;31mKeyError\u001b[0m                                  Traceback (most recent call last)",
      "\u001b[1;32m<expression>\u001b[0m in \u001b[0;36m<module>\u001b[1;34m()\u001b[0m\n",
      "\u001b[1;32m<string>\u001b[0m in \u001b[0;36mCalcF1\u001b[1;34m(SGCL)\u001b[0m\n",
      "\u001b[1;31mKeyError\u001b[0m: None"
     ]
    },
    {
     "ename": "KeyError",
     "evalue": "None",
     "output_type": "error",
     "traceback": [
      "\u001b[1;31m---------------------------------------------------------------------------\u001b[0m",
      "\u001b[1;31mKeyError\u001b[0m                                  Traceback (most recent call last)",
      "\u001b[1;32m<expression>\u001b[0m in \u001b[0;36m<module>\u001b[1;34m()\u001b[0m\n",
      "\u001b[1;32m<string>\u001b[0m in \u001b[0;36mCalcF1\u001b[1;34m(SGCL)\u001b[0m\n",
      "\u001b[1;31mKeyError\u001b[0m: None"
     ]
    },
    {
     "ename": "KeyError",
     "evalue": "None",
     "output_type": "error",
     "traceback": [
      "\u001b[1;31m---------------------------------------------------------------------------\u001b[0m",
      "\u001b[1;31mKeyError\u001b[0m                                  Traceback (most recent call last)",
      "\u001b[1;32m<expression>\u001b[0m in \u001b[0;36m<module>\u001b[1;34m()\u001b[0m\n",
      "\u001b[1;32m<string>\u001b[0m in \u001b[0;36mCalcF1\u001b[1;34m(SGCL)\u001b[0m\n",
      "\u001b[1;31mKeyError\u001b[0m: None"
     ]
    },
    {
     "ename": "KeyError",
     "evalue": "None",
     "output_type": "error",
     "traceback": [
      "\u001b[1;31m---------------------------------------------------------------------------\u001b[0m",
      "\u001b[1;31mKeyError\u001b[0m                                  Traceback (most recent call last)",
      "\u001b[1;32m<expression>\u001b[0m in \u001b[0;36m<module>\u001b[1;34m()\u001b[0m\n",
      "\u001b[1;32m<string>\u001b[0m in \u001b[0;36mCalcF1\u001b[1;34m(SGCL)\u001b[0m\n",
      "\u001b[1;31mKeyError\u001b[0m: None"
     ]
    },
    {
     "ename": "KeyError",
     "evalue": "None",
     "output_type": "error",
     "traceback": [
      "\u001b[1;31m---------------------------------------------------------------------------\u001b[0m",
      "\u001b[1;31mKeyError\u001b[0m                                  Traceback (most recent call last)",
      "\u001b[1;32m<expression>\u001b[0m in \u001b[0;36m<module>\u001b[1;34m()\u001b[0m\n",
      "\u001b[1;32m<string>\u001b[0m in \u001b[0;36mCalcF1\u001b[1;34m(SGCL)\u001b[0m\n",
      "\u001b[1;31mKeyError\u001b[0m: None"
     ]
    },
    {
     "ename": "KeyError",
     "evalue": "None",
     "output_type": "error",
     "traceback": [
      "\u001b[1;31m---------------------------------------------------------------------------\u001b[0m",
      "\u001b[1;31mKeyError\u001b[0m                                  Traceback (most recent call last)",
      "\u001b[1;32m<expression>\u001b[0m in \u001b[0;36m<module>\u001b[1;34m()\u001b[0m\n",
      "\u001b[1;32m<string>\u001b[0m in \u001b[0;36mCalcF1\u001b[1;34m(SGCL)\u001b[0m\n",
      "\u001b[1;31mKeyError\u001b[0m: None"
     ]
    },
    {
     "ename": "KeyError",
     "evalue": "None",
     "output_type": "error",
     "traceback": [
      "\u001b[1;31m---------------------------------------------------------------------------\u001b[0m",
      "\u001b[1;31mKeyError\u001b[0m                                  Traceback (most recent call last)",
      "\u001b[1;32m<expression>\u001b[0m in \u001b[0;36m<module>\u001b[1;34m()\u001b[0m\n",
      "\u001b[1;32m<string>\u001b[0m in \u001b[0;36mCalcF1\u001b[1;34m(SGCL)\u001b[0m\n",
      "\u001b[1;31mKeyError\u001b[0m: None"
     ]
    },
    {
     "ename": "KeyError",
     "evalue": "None",
     "output_type": "error",
     "traceback": [
      "\u001b[1;31m---------------------------------------------------------------------------\u001b[0m",
      "\u001b[1;31mKeyError\u001b[0m                                  Traceback (most recent call last)",
      "\u001b[1;32m<expression>\u001b[0m in \u001b[0;36m<module>\u001b[1;34m()\u001b[0m\n",
      "\u001b[1;32m<string>\u001b[0m in \u001b[0;36mCalcF1\u001b[1;34m(SGCL)\u001b[0m\n",
      "\u001b[1;31mKeyError\u001b[0m: None"
     ]
    },
    {
     "ename": "KeyError",
     "evalue": "None",
     "output_type": "error",
     "traceback": [
      "\u001b[1;31m---------------------------------------------------------------------------\u001b[0m",
      "\u001b[1;31mKeyError\u001b[0m                                  Traceback (most recent call last)",
      "\u001b[1;32m<expression>\u001b[0m in \u001b[0;36m<module>\u001b[1;34m()\u001b[0m\n",
      "\u001b[1;32m<string>\u001b[0m in \u001b[0;36mCalcF1\u001b[1;34m(SGCL)\u001b[0m\n",
      "\u001b[1;31mKeyError\u001b[0m: None"
     ]
    },
    {
     "ename": "KeyError",
     "evalue": "None",
     "output_type": "error",
     "traceback": [
      "\u001b[1;31m---------------------------------------------------------------------------\u001b[0m",
      "\u001b[1;31mKeyError\u001b[0m                                  Traceback (most recent call last)",
      "\u001b[1;32m<expression>\u001b[0m in \u001b[0;36m<module>\u001b[1;34m()\u001b[0m\n",
      "\u001b[1;32m<string>\u001b[0m in \u001b[0;36mCalcF1\u001b[1;34m(SGCL)\u001b[0m\n",
      "\u001b[1;31mKeyError\u001b[0m: None"
     ]
    },
    {
     "ename": "KeyError",
     "evalue": "None",
     "output_type": "error",
     "traceback": [
      "\u001b[1;31m---------------------------------------------------------------------------\u001b[0m",
      "\u001b[1;31mKeyError\u001b[0m                                  Traceback (most recent call last)",
      "\u001b[1;32m<expression>\u001b[0m in \u001b[0;36m<module>\u001b[1;34m()\u001b[0m\n",
      "\u001b[1;32m<string>\u001b[0m in \u001b[0;36mCalcF1\u001b[1;34m(SGCL)\u001b[0m\n",
      "\u001b[1;31mKeyError\u001b[0m: None"
     ]
    },
    {
     "ename": "KeyError",
     "evalue": "None",
     "output_type": "error",
     "traceback": [
      "\u001b[1;31m---------------------------------------------------------------------------\u001b[0m",
      "\u001b[1;31mKeyError\u001b[0m                                  Traceback (most recent call last)",
      "\u001b[1;32m<expression>\u001b[0m in \u001b[0;36m<module>\u001b[1;34m()\u001b[0m\n",
      "\u001b[1;32m<string>\u001b[0m in \u001b[0;36mCalcF1\u001b[1;34m(SGCL)\u001b[0m\n",
      "\u001b[1;31mKeyError\u001b[0m: None"
     ]
    },
    {
     "ename": "KeyError",
     "evalue": "None",
     "output_type": "error",
     "traceback": [
      "\u001b[1;31m---------------------------------------------------------------------------\u001b[0m",
      "\u001b[1;31mKeyError\u001b[0m                                  Traceback (most recent call last)",
      "\u001b[1;32m<expression>\u001b[0m in \u001b[0;36m<module>\u001b[1;34m()\u001b[0m\n",
      "\u001b[1;32m<string>\u001b[0m in \u001b[0;36mCalcF1\u001b[1;34m(SGCL)\u001b[0m\n",
      "\u001b[1;31mKeyError\u001b[0m: None"
     ]
    },
    {
     "ename": "KeyError",
     "evalue": "None",
     "output_type": "error",
     "traceback": [
      "\u001b[1;31m---------------------------------------------------------------------------\u001b[0m",
      "\u001b[1;31mKeyError\u001b[0m                                  Traceback (most recent call last)",
      "\u001b[1;32m<expression>\u001b[0m in \u001b[0;36m<module>\u001b[1;34m()\u001b[0m\n",
      "\u001b[1;32m<string>\u001b[0m in \u001b[0;36mCalcF1\u001b[1;34m(SGCL)\u001b[0m\n",
      "\u001b[1;31mKeyError\u001b[0m: None"
     ]
    },
    {
     "ename": "KeyError",
     "evalue": "None",
     "output_type": "error",
     "traceback": [
      "\u001b[1;31m---------------------------------------------------------------------------\u001b[0m",
      "\u001b[1;31mKeyError\u001b[0m                                  Traceback (most recent call last)",
      "\u001b[1;32m<expression>\u001b[0m in \u001b[0;36m<module>\u001b[1;34m()\u001b[0m\n",
      "\u001b[1;32m<string>\u001b[0m in \u001b[0;36mCalcF1\u001b[1;34m(SGCL)\u001b[0m\n",
      "\u001b[1;31mKeyError\u001b[0m: None"
     ]
    },
    {
     "ename": "KeyError",
     "evalue": "None",
     "output_type": "error",
     "traceback": [
      "\u001b[1;31m---------------------------------------------------------------------------\u001b[0m",
      "\u001b[1;31mKeyError\u001b[0m                                  Traceback (most recent call last)",
      "\u001b[1;32m<expression>\u001b[0m in \u001b[0;36m<module>\u001b[1;34m()\u001b[0m\n",
      "\u001b[1;32m<string>\u001b[0m in \u001b[0;36mCalcF1\u001b[1;34m(SGCL)\u001b[0m\n",
      "\u001b[1;31mKeyError\u001b[0m: None"
     ]
    },
    {
     "ename": "KeyError",
     "evalue": "None",
     "output_type": "error",
     "traceback": [
      "\u001b[1;31m---------------------------------------------------------------------------\u001b[0m",
      "\u001b[1;31mKeyError\u001b[0m                                  Traceback (most recent call last)",
      "\u001b[1;32m<expression>\u001b[0m in \u001b[0;36m<module>\u001b[1;34m()\u001b[0m\n",
      "\u001b[1;32m<string>\u001b[0m in \u001b[0;36mCalcF1\u001b[1;34m(SGCL)\u001b[0m\n",
      "\u001b[1;31mKeyError\u001b[0m: None"
     ]
    },
    {
     "ename": "KeyError",
     "evalue": "None",
     "output_type": "error",
     "traceback": [
      "\u001b[1;31m---------------------------------------------------------------------------\u001b[0m",
      "\u001b[1;31mKeyError\u001b[0m                                  Traceback (most recent call last)",
      "\u001b[1;32m<expression>\u001b[0m in \u001b[0;36m<module>\u001b[1;34m()\u001b[0m\n",
      "\u001b[1;32m<string>\u001b[0m in \u001b[0;36mCalcF1\u001b[1;34m(SGCL)\u001b[0m\n",
      "\u001b[1;31mKeyError\u001b[0m: None"
     ]
    },
    {
     "ename": "KeyError",
     "evalue": "None",
     "output_type": "error",
     "traceback": [
      "\u001b[1;31m---------------------------------------------------------------------------\u001b[0m",
      "\u001b[1;31mKeyError\u001b[0m                                  Traceback (most recent call last)",
      "\u001b[1;32m<expression>\u001b[0m in \u001b[0;36m<module>\u001b[1;34m()\u001b[0m\n",
      "\u001b[1;32m<string>\u001b[0m in \u001b[0;36mCalcF1\u001b[1;34m(SGCL)\u001b[0m\n",
      "\u001b[1;31mKeyError\u001b[0m: None"
     ]
    },
    {
     "ename": "KeyError",
     "evalue": "None",
     "output_type": "error",
     "traceback": [
      "\u001b[1;31m---------------------------------------------------------------------------\u001b[0m",
      "\u001b[1;31mKeyError\u001b[0m                                  Traceback (most recent call last)",
      "\u001b[1;32m<expression>\u001b[0m in \u001b[0;36m<module>\u001b[1;34m()\u001b[0m\n",
      "\u001b[1;32m<string>\u001b[0m in \u001b[0;36mCalcF1\u001b[1;34m(SGCL)\u001b[0m\n",
      "\u001b[1;31mKeyError\u001b[0m: None"
     ]
    },
    {
     "ename": "KeyError",
     "evalue": "None",
     "output_type": "error",
     "traceback": [
      "\u001b[1;31m---------------------------------------------------------------------------\u001b[0m",
      "\u001b[1;31mKeyError\u001b[0m                                  Traceback (most recent call last)",
      "\u001b[1;32m<expression>\u001b[0m in \u001b[0;36m<module>\u001b[1;34m()\u001b[0m\n",
      "\u001b[1;32m<string>\u001b[0m in \u001b[0;36mCalcF1\u001b[1;34m(SGCL)\u001b[0m\n",
      "\u001b[1;31mKeyError\u001b[0m: None"
     ]
    },
    {
     "ename": "KeyError",
     "evalue": "None",
     "output_type": "error",
     "traceback": [
      "\u001b[1;31m---------------------------------------------------------------------------\u001b[0m",
      "\u001b[1;31mKeyError\u001b[0m                                  Traceback (most recent call last)",
      "\u001b[1;32m<expression>\u001b[0m in \u001b[0;36m<module>\u001b[1;34m()\u001b[0m\n",
      "\u001b[1;32m<string>\u001b[0m in \u001b[0;36mCalcF1\u001b[1;34m(SGCL)\u001b[0m\n",
      "\u001b[1;31mKeyError\u001b[0m: None"
     ]
    },
    {
     "ename": "KeyError",
     "evalue": "None",
     "output_type": "error",
     "traceback": [
      "\u001b[1;31m---------------------------------------------------------------------------\u001b[0m",
      "\u001b[1;31mKeyError\u001b[0m                                  Traceback (most recent call last)",
      "\u001b[1;32m<expression>\u001b[0m in \u001b[0;36m<module>\u001b[1;34m()\u001b[0m\n",
      "\u001b[1;32m<string>\u001b[0m in \u001b[0;36mCalcF1\u001b[1;34m(SGCL)\u001b[0m\n",
      "\u001b[1;31mKeyError\u001b[0m: None"
     ]
    },
    {
     "ename": "KeyError",
     "evalue": "None",
     "output_type": "error",
     "traceback": [
      "\u001b[1;31m---------------------------------------------------------------------------\u001b[0m",
      "\u001b[1;31mKeyError\u001b[0m                                  Traceback (most recent call last)",
      "\u001b[1;32m<expression>\u001b[0m in \u001b[0;36m<module>\u001b[1;34m()\u001b[0m\n",
      "\u001b[1;32m<string>\u001b[0m in \u001b[0;36mCalcF1\u001b[1;34m(SGCL)\u001b[0m\n",
      "\u001b[1;31mKeyError\u001b[0m: None"
     ]
    },
    {
     "ename": "KeyError",
     "evalue": "None",
     "output_type": "error",
     "traceback": [
      "\u001b[1;31m---------------------------------------------------------------------------\u001b[0m",
      "\u001b[1;31mKeyError\u001b[0m                                  Traceback (most recent call last)",
      "\u001b[1;32m<expression>\u001b[0m in \u001b[0;36m<module>\u001b[1;34m()\u001b[0m\n",
      "\u001b[1;32m<string>\u001b[0m in \u001b[0;36mCalcF1\u001b[1;34m(SGCL)\u001b[0m\n",
      "\u001b[1;31mKeyError\u001b[0m: None"
     ]
    },
    {
     "ename": "KeyError",
     "evalue": "None",
     "output_type": "error",
     "traceback": [
      "\u001b[1;31m---------------------------------------------------------------------------\u001b[0m",
      "\u001b[1;31mKeyError\u001b[0m                                  Traceback (most recent call last)",
      "\u001b[1;32m<expression>\u001b[0m in \u001b[0;36m<module>\u001b[1;34m()\u001b[0m\n",
      "\u001b[1;32m<string>\u001b[0m in \u001b[0;36mCalcF1\u001b[1;34m(SGCL)\u001b[0m\n",
      "\u001b[1;31mKeyError\u001b[0m: None"
     ]
    },
    {
     "ename": "KeyError",
     "evalue": "None",
     "output_type": "error",
     "traceback": [
      "\u001b[1;31m---------------------------------------------------------------------------\u001b[0m",
      "\u001b[1;31mKeyError\u001b[0m                                  Traceback (most recent call last)",
      "\u001b[1;32m<expression>\u001b[0m in \u001b[0;36m<module>\u001b[1;34m()\u001b[0m\n",
      "\u001b[1;32m<string>\u001b[0m in \u001b[0;36mCalcF1\u001b[1;34m(SGCL)\u001b[0m\n",
      "\u001b[1;31mKeyError\u001b[0m: None"
     ]
    },
    {
     "ename": "KeyError",
     "evalue": "None",
     "output_type": "error",
     "traceback": [
      "\u001b[1;31m---------------------------------------------------------------------------\u001b[0m",
      "\u001b[1;31mKeyError\u001b[0m                                  Traceback (most recent call last)",
      "\u001b[1;32m<expression>\u001b[0m in \u001b[0;36m<module>\u001b[1;34m()\u001b[0m\n",
      "\u001b[1;32m<string>\u001b[0m in \u001b[0;36mCalcF1\u001b[1;34m(SGCL)\u001b[0m\n",
      "\u001b[1;31mKeyError\u001b[0m: None"
     ]
    },
    {
     "ename": "KeyError",
     "evalue": "None",
     "output_type": "error",
     "traceback": [
      "\u001b[1;31m---------------------------------------------------------------------------\u001b[0m",
      "\u001b[1;31mKeyError\u001b[0m                                  Traceback (most recent call last)",
      "\u001b[1;32m<expression>\u001b[0m in \u001b[0;36m<module>\u001b[1;34m()\u001b[0m\n",
      "\u001b[1;32m<string>\u001b[0m in \u001b[0;36mCalcF1\u001b[1;34m(SGCL)\u001b[0m\n",
      "\u001b[1;31mKeyError\u001b[0m: None"
     ]
    },
    {
     "ename": "KeyError",
     "evalue": "None",
     "output_type": "error",
     "traceback": [
      "\u001b[1;31m---------------------------------------------------------------------------\u001b[0m",
      "\u001b[1;31mKeyError\u001b[0m                                  Traceback (most recent call last)",
      "\u001b[1;32m<expression>\u001b[0m in \u001b[0;36m<module>\u001b[1;34m()\u001b[0m\n",
      "\u001b[1;32m<string>\u001b[0m in \u001b[0;36mCalcF1\u001b[1;34m(SGCL)\u001b[0m\n",
      "\u001b[1;31mKeyError\u001b[0m: None"
     ]
    },
    {
     "ename": "KeyError",
     "evalue": "None",
     "output_type": "error",
     "traceback": [
      "\u001b[1;31m---------------------------------------------------------------------------\u001b[0m",
      "\u001b[1;31mKeyError\u001b[0m                                  Traceback (most recent call last)",
      "\u001b[1;32m<expression>\u001b[0m in \u001b[0;36m<module>\u001b[1;34m()\u001b[0m\n",
      "\u001b[1;32m<string>\u001b[0m in \u001b[0;36mCalcF1\u001b[1;34m(SGCL)\u001b[0m\n",
      "\u001b[1;31mKeyError\u001b[0m: None"
     ]
    },
    {
     "ename": "KeyError",
     "evalue": "None",
     "output_type": "error",
     "traceback": [
      "\u001b[1;31m---------------------------------------------------------------------------\u001b[0m",
      "\u001b[1;31mKeyError\u001b[0m                                  Traceback (most recent call last)",
      "\u001b[1;32m<expression>\u001b[0m in \u001b[0;36m<module>\u001b[1;34m()\u001b[0m\n",
      "\u001b[1;32m<string>\u001b[0m in \u001b[0;36mCalcF1\u001b[1;34m(SGCL)\u001b[0m\n",
      "\u001b[1;31mKeyError\u001b[0m: None"
     ]
    },
    {
     "ename": "KeyError",
     "evalue": "None",
     "output_type": "error",
     "traceback": [
      "\u001b[1;31m---------------------------------------------------------------------------\u001b[0m",
      "\u001b[1;31mKeyError\u001b[0m                                  Traceback (most recent call last)",
      "\u001b[1;32m<expression>\u001b[0m in \u001b[0;36m<module>\u001b[1;34m()\u001b[0m\n",
      "\u001b[1;32m<string>\u001b[0m in \u001b[0;36mCalcF1\u001b[1;34m(SGCL)\u001b[0m\n",
      "\u001b[1;31mKeyError\u001b[0m: None"
     ]
    },
    {
     "ename": "KeyError",
     "evalue": "None",
     "output_type": "error",
     "traceback": [
      "\u001b[1;31m---------------------------------------------------------------------------\u001b[0m",
      "\u001b[1;31mKeyError\u001b[0m                                  Traceback (most recent call last)",
      "\u001b[1;32m<expression>\u001b[0m in \u001b[0;36m<module>\u001b[1;34m()\u001b[0m\n",
      "\u001b[1;32m<string>\u001b[0m in \u001b[0;36mCalcF1\u001b[1;34m(SGCL)\u001b[0m\n",
      "\u001b[1;31mKeyError\u001b[0m: None"
     ]
    },
    {
     "ename": "KeyError",
     "evalue": "None",
     "output_type": "error",
     "traceback": [
      "\u001b[1;31m---------------------------------------------------------------------------\u001b[0m",
      "\u001b[1;31mKeyError\u001b[0m                                  Traceback (most recent call last)",
      "\u001b[1;32m<expression>\u001b[0m in \u001b[0;36m<module>\u001b[1;34m()\u001b[0m\n",
      "\u001b[1;32m<string>\u001b[0m in \u001b[0;36mCalcF1\u001b[1;34m(SGCL)\u001b[0m\n",
      "\u001b[1;31mKeyError\u001b[0m: None"
     ]
    },
    {
     "ename": "KeyError",
     "evalue": "None",
     "output_type": "error",
     "traceback": [
      "\u001b[1;31m---------------------------------------------------------------------------\u001b[0m",
      "\u001b[1;31mKeyError\u001b[0m                                  Traceback (most recent call last)",
      "\u001b[1;32m<expression>\u001b[0m in \u001b[0;36m<module>\u001b[1;34m()\u001b[0m\n",
      "\u001b[1;32m<string>\u001b[0m in \u001b[0;36mCalcF1\u001b[1;34m(SGCL)\u001b[0m\n",
      "\u001b[1;31mKeyError\u001b[0m: None"
     ]
    },
    {
     "ename": "KeyError",
     "evalue": "None",
     "output_type": "error",
     "traceback": [
      "\u001b[1;31m---------------------------------------------------------------------------\u001b[0m",
      "\u001b[1;31mKeyError\u001b[0m                                  Traceback (most recent call last)",
      "\u001b[1;32m<expression>\u001b[0m in \u001b[0;36m<module>\u001b[1;34m()\u001b[0m\n",
      "\u001b[1;32m<string>\u001b[0m in \u001b[0;36mCalcF1\u001b[1;34m(SGCL)\u001b[0m\n",
      "\u001b[1;31mKeyError\u001b[0m: None"
     ]
    },
    {
     "ename": "KeyError",
     "evalue": "None",
     "output_type": "error",
     "traceback": [
      "\u001b[1;31m---------------------------------------------------------------------------\u001b[0m",
      "\u001b[1;31mKeyError\u001b[0m                                  Traceback (most recent call last)",
      "\u001b[1;32m<expression>\u001b[0m in \u001b[0;36m<module>\u001b[1;34m()\u001b[0m\n",
      "\u001b[1;32m<string>\u001b[0m in \u001b[0;36mCalcF1\u001b[1;34m(SGCL)\u001b[0m\n",
      "\u001b[1;31mKeyError\u001b[0m: None"
     ]
    },
    {
     "ename": "KeyError",
     "evalue": "None",
     "output_type": "error",
     "traceback": [
      "\u001b[1;31m---------------------------------------------------------------------------\u001b[0m",
      "\u001b[1;31mKeyError\u001b[0m                                  Traceback (most recent call last)",
      "\u001b[1;32m<expression>\u001b[0m in \u001b[0;36m<module>\u001b[1;34m()\u001b[0m\n",
      "\u001b[1;32m<string>\u001b[0m in \u001b[0;36mCalcF1\u001b[1;34m(SGCL)\u001b[0m\n",
      "\u001b[1;31mKeyError\u001b[0m: None"
     ]
    },
    {
     "ename": "KeyError",
     "evalue": "None",
     "output_type": "error",
     "traceback": [
      "\u001b[1;31m---------------------------------------------------------------------------\u001b[0m",
      "\u001b[1;31mKeyError\u001b[0m                                  Traceback (most recent call last)",
      "\u001b[1;32m<expression>\u001b[0m in \u001b[0;36m<module>\u001b[1;34m()\u001b[0m\n",
      "\u001b[1;32m<string>\u001b[0m in \u001b[0;36mCalcF1\u001b[1;34m(SGCL)\u001b[0m\n",
      "\u001b[1;31mKeyError\u001b[0m: None"
     ]
    },
    {
     "ename": "KeyError",
     "evalue": "None",
     "output_type": "error",
     "traceback": [
      "\u001b[1;31m---------------------------------------------------------------------------\u001b[0m",
      "\u001b[1;31mKeyError\u001b[0m                                  Traceback (most recent call last)",
      "\u001b[1;32m<expression>\u001b[0m in \u001b[0;36m<module>\u001b[1;34m()\u001b[0m\n",
      "\u001b[1;32m<string>\u001b[0m in \u001b[0;36mCalcF1\u001b[1;34m(SGCL)\u001b[0m\n",
      "\u001b[1;31mKeyError\u001b[0m: None"
     ]
    },
    {
     "ename": "KeyError",
     "evalue": "None",
     "output_type": "error",
     "traceback": [
      "\u001b[1;31m---------------------------------------------------------------------------\u001b[0m",
      "\u001b[1;31mKeyError\u001b[0m                                  Traceback (most recent call last)",
      "\u001b[1;32m<expression>\u001b[0m in \u001b[0;36m<module>\u001b[1;34m()\u001b[0m\n",
      "\u001b[1;32m<string>\u001b[0m in \u001b[0;36mCalcF1\u001b[1;34m(SGCL)\u001b[0m\n",
      "\u001b[1;31mKeyError\u001b[0m: None"
     ]
    },
    {
     "ename": "KeyError",
     "evalue": "None",
     "output_type": "error",
     "traceback": [
      "\u001b[1;31m---------------------------------------------------------------------------\u001b[0m",
      "\u001b[1;31mKeyError\u001b[0m                                  Traceback (most recent call last)",
      "\u001b[1;32m<expression>\u001b[0m in \u001b[0;36m<module>\u001b[1;34m()\u001b[0m\n",
      "\u001b[1;32m<string>\u001b[0m in \u001b[0;36mCalcF1\u001b[1;34m(SGCL)\u001b[0m\n",
      "\u001b[1;31mKeyError\u001b[0m: None"
     ]
    },
    {
     "ename": "KeyError",
     "evalue": "None",
     "output_type": "error",
     "traceback": [
      "\u001b[1;31m---------------------------------------------------------------------------\u001b[0m",
      "\u001b[1;31mKeyError\u001b[0m                                  Traceback (most recent call last)",
      "\u001b[1;32m<expression>\u001b[0m in \u001b[0;36m<module>\u001b[1;34m()\u001b[0m\n",
      "\u001b[1;32m<string>\u001b[0m in \u001b[0;36mCalcF1\u001b[1;34m(SGCL)\u001b[0m\n",
      "\u001b[1;31mKeyError\u001b[0m: None"
     ]
    },
    {
     "ename": "KeyError",
     "evalue": "None",
     "output_type": "error",
     "traceback": [
      "\u001b[1;31m---------------------------------------------------------------------------\u001b[0m",
      "\u001b[1;31mKeyError\u001b[0m                                  Traceback (most recent call last)",
      "\u001b[1;32m<expression>\u001b[0m in \u001b[0;36m<module>\u001b[1;34m()\u001b[0m\n",
      "\u001b[1;32m<string>\u001b[0m in \u001b[0;36mCalcF1\u001b[1;34m(SGCL)\u001b[0m\n",
      "\u001b[1;31mKeyError\u001b[0m: None"
     ]
    },
    {
     "ename": "KeyError",
     "evalue": "None",
     "output_type": "error",
     "traceback": [
      "\u001b[1;31m---------------------------------------------------------------------------\u001b[0m",
      "\u001b[1;31mKeyError\u001b[0m                                  Traceback (most recent call last)",
      "\u001b[1;32m<expression>\u001b[0m in \u001b[0;36m<module>\u001b[1;34m()\u001b[0m\n",
      "\u001b[1;32m<string>\u001b[0m in \u001b[0;36mCalcF1\u001b[1;34m(SGCL)\u001b[0m\n",
      "\u001b[1;31mKeyError\u001b[0m: None"
     ]
    },
    {
     "ename": "KeyError",
     "evalue": "None",
     "output_type": "error",
     "traceback": [
      "\u001b[1;31m---------------------------------------------------------------------------\u001b[0m",
      "\u001b[1;31mKeyError\u001b[0m                                  Traceback (most recent call last)",
      "\u001b[1;32m<expression>\u001b[0m in \u001b[0;36m<module>\u001b[1;34m()\u001b[0m\n",
      "\u001b[1;32m<string>\u001b[0m in \u001b[0;36mCalcF1\u001b[1;34m(SGCL)\u001b[0m\n",
      "\u001b[1;31mKeyError\u001b[0m: None"
     ]
    },
    {
     "ename": "KeyError",
     "evalue": "None",
     "output_type": "error",
     "traceback": [
      "\u001b[1;31m---------------------------------------------------------------------------\u001b[0m",
      "\u001b[1;31mKeyError\u001b[0m                                  Traceback (most recent call last)",
      "\u001b[1;32m<expression>\u001b[0m in \u001b[0;36m<module>\u001b[1;34m()\u001b[0m\n",
      "\u001b[1;32m<string>\u001b[0m in \u001b[0;36mCalcF1\u001b[1;34m(SGCL)\u001b[0m\n",
      "\u001b[1;31mKeyError\u001b[0m: None"
     ]
    },
    {
     "ename": "KeyError",
     "evalue": "None",
     "output_type": "error",
     "traceback": [
      "\u001b[1;31m---------------------------------------------------------------------------\u001b[0m",
      "\u001b[1;31mKeyError\u001b[0m                                  Traceback (most recent call last)",
      "\u001b[1;32m<expression>\u001b[0m in \u001b[0;36m<module>\u001b[1;34m()\u001b[0m\n",
      "\u001b[1;32m<string>\u001b[0m in \u001b[0;36mCalcF1\u001b[1;34m(SGCL)\u001b[0m\n",
      "\u001b[1;31mKeyError\u001b[0m: None"
     ]
    },
    {
     "ename": "KeyError",
     "evalue": "None",
     "output_type": "error",
     "traceback": [
      "\u001b[1;31m---------------------------------------------------------------------------\u001b[0m",
      "\u001b[1;31mKeyError\u001b[0m                                  Traceback (most recent call last)",
      "\u001b[1;32m<expression>\u001b[0m in \u001b[0;36m<module>\u001b[1;34m()\u001b[0m\n",
      "\u001b[1;32m<string>\u001b[0m in \u001b[0;36mCalcF1\u001b[1;34m(SGCL)\u001b[0m\n",
      "\u001b[1;31mKeyError\u001b[0m: None"
     ]
    },
    {
     "ename": "KeyError",
     "evalue": "None",
     "output_type": "error",
     "traceback": [
      "\u001b[1;31m---------------------------------------------------------------------------\u001b[0m",
      "\u001b[1;31mKeyError\u001b[0m                                  Traceback (most recent call last)",
      "\u001b[1;32m<expression>\u001b[0m in \u001b[0;36m<module>\u001b[1;34m()\u001b[0m\n",
      "\u001b[1;32m<string>\u001b[0m in \u001b[0;36mCalcF1\u001b[1;34m(SGCL)\u001b[0m\n",
      "\u001b[1;31mKeyError\u001b[0m: None"
     ]
    },
    {
     "ename": "KeyError",
     "evalue": "None",
     "output_type": "error",
     "traceback": [
      "\u001b[1;31m---------------------------------------------------------------------------\u001b[0m",
      "\u001b[1;31mKeyError\u001b[0m                                  Traceback (most recent call last)",
      "\u001b[1;32m<expression>\u001b[0m in \u001b[0;36m<module>\u001b[1;34m()\u001b[0m\n",
      "\u001b[1;32m<string>\u001b[0m in \u001b[0;36mCalcF1\u001b[1;34m(SGCL)\u001b[0m\n",
      "\u001b[1;31mKeyError\u001b[0m: None"
     ]
    },
    {
     "ename": "KeyError",
     "evalue": "None",
     "output_type": "error",
     "traceback": [
      "\u001b[1;31m---------------------------------------------------------------------------\u001b[0m",
      "\u001b[1;31mKeyError\u001b[0m                                  Traceback (most recent call last)",
      "\u001b[1;32m<expression>\u001b[0m in \u001b[0;36m<module>\u001b[1;34m()\u001b[0m\n",
      "\u001b[1;32m<string>\u001b[0m in \u001b[0;36mCalcF1\u001b[1;34m(SGCL)\u001b[0m\n",
      "\u001b[1;31mKeyError\u001b[0m: None"
     ]
    },
    {
     "ename": "KeyError",
     "evalue": "None",
     "output_type": "error",
     "traceback": [
      "\u001b[1;31m---------------------------------------------------------------------------\u001b[0m",
      "\u001b[1;31mKeyError\u001b[0m                                  Traceback (most recent call last)",
      "\u001b[1;32m<expression>\u001b[0m in \u001b[0;36m<module>\u001b[1;34m()\u001b[0m\n",
      "\u001b[1;32m<string>\u001b[0m in \u001b[0;36mCalcF1\u001b[1;34m(SGCL)\u001b[0m\n",
      "\u001b[1;31mKeyError\u001b[0m: None"
     ]
    },
    {
     "ename": "KeyError",
     "evalue": "None",
     "output_type": "error",
     "traceback": [
      "\u001b[1;31m---------------------------------------------------------------------------\u001b[0m",
      "\u001b[1;31mKeyError\u001b[0m                                  Traceback (most recent call last)",
      "\u001b[1;32m<expression>\u001b[0m in \u001b[0;36m<module>\u001b[1;34m()\u001b[0m\n",
      "\u001b[1;32m<string>\u001b[0m in \u001b[0;36mCalcF1\u001b[1;34m(SGCL)\u001b[0m\n",
      "\u001b[1;31mKeyError\u001b[0m: None"
     ]
    },
    {
     "ename": "KeyError",
     "evalue": "None",
     "output_type": "error",
     "traceback": [
      "\u001b[1;31m---------------------------------------------------------------------------\u001b[0m",
      "\u001b[1;31mKeyError\u001b[0m                                  Traceback (most recent call last)",
      "\u001b[1;32m<expression>\u001b[0m in \u001b[0;36m<module>\u001b[1;34m()\u001b[0m\n",
      "\u001b[1;32m<string>\u001b[0m in \u001b[0;36mCalcF1\u001b[1;34m(SGCL)\u001b[0m\n",
      "\u001b[1;31mKeyError\u001b[0m: None"
     ]
    },
    {
     "ename": "KeyError",
     "evalue": "None",
     "output_type": "error",
     "traceback": [
      "\u001b[1;31m---------------------------------------------------------------------------\u001b[0m",
      "\u001b[1;31mKeyError\u001b[0m                                  Traceback (most recent call last)",
      "\u001b[1;32m<expression>\u001b[0m in \u001b[0;36m<module>\u001b[1;34m()\u001b[0m\n",
      "\u001b[1;32m<string>\u001b[0m in \u001b[0;36mCalcF1\u001b[1;34m(SGCL)\u001b[0m\n",
      "\u001b[1;31mKeyError\u001b[0m: None"
     ]
    },
    {
     "ename": "KeyError",
     "evalue": "None",
     "output_type": "error",
     "traceback": [
      "\u001b[1;31m---------------------------------------------------------------------------\u001b[0m",
      "\u001b[1;31mKeyError\u001b[0m                                  Traceback (most recent call last)",
      "\u001b[1;32m<expression>\u001b[0m in \u001b[0;36m<module>\u001b[1;34m()\u001b[0m\n",
      "\u001b[1;32m<string>\u001b[0m in \u001b[0;36mCalcF1\u001b[1;34m(SGCL)\u001b[0m\n",
      "\u001b[1;31mKeyError\u001b[0m: None"
     ]
    },
    {
     "ename": "KeyError",
     "evalue": "None",
     "output_type": "error",
     "traceback": [
      "\u001b[1;31m---------------------------------------------------------------------------\u001b[0m",
      "\u001b[1;31mKeyError\u001b[0m                                  Traceback (most recent call last)",
      "\u001b[1;32m<expression>\u001b[0m in \u001b[0;36m<module>\u001b[1;34m()\u001b[0m\n",
      "\u001b[1;32m<string>\u001b[0m in \u001b[0;36mCalcF1\u001b[1;34m(SGCL)\u001b[0m\n",
      "\u001b[1;31mKeyError\u001b[0m: None"
     ]
    },
    {
     "ename": "KeyError",
     "evalue": "None",
     "output_type": "error",
     "traceback": [
      "\u001b[1;31m---------------------------------------------------------------------------\u001b[0m",
      "\u001b[1;31mKeyError\u001b[0m                                  Traceback (most recent call last)",
      "\u001b[1;32m<expression>\u001b[0m in \u001b[0;36m<module>\u001b[1;34m()\u001b[0m\n",
      "\u001b[1;32m<string>\u001b[0m in \u001b[0;36mCalcF1\u001b[1;34m(SGCL)\u001b[0m\n",
      "\u001b[1;31mKeyError\u001b[0m: None"
     ]
    },
    {
     "ename": "KeyError",
     "evalue": "None",
     "output_type": "error",
     "traceback": [
      "\u001b[1;31m---------------------------------------------------------------------------\u001b[0m",
      "\u001b[1;31mKeyError\u001b[0m                                  Traceback (most recent call last)",
      "\u001b[1;32m<expression>\u001b[0m in \u001b[0;36m<module>\u001b[1;34m()\u001b[0m\n",
      "\u001b[1;32m<string>\u001b[0m in \u001b[0;36mCalcF1\u001b[1;34m(SGCL)\u001b[0m\n",
      "\u001b[1;31mKeyError\u001b[0m: None"
     ]
    },
    {
     "ename": "KeyError",
     "evalue": "None",
     "output_type": "error",
     "traceback": [
      "\u001b[1;31m---------------------------------------------------------------------------\u001b[0m",
      "\u001b[1;31mKeyError\u001b[0m                                  Traceback (most recent call last)",
      "\u001b[1;32m<expression>\u001b[0m in \u001b[0;36m<module>\u001b[1;34m()\u001b[0m\n",
      "\u001b[1;32m<string>\u001b[0m in \u001b[0;36mCalcF1\u001b[1;34m(SGCL)\u001b[0m\n",
      "\u001b[1;31mKeyError\u001b[0m: None"
     ]
    },
    {
     "ename": "KeyError",
     "evalue": "None",
     "output_type": "error",
     "traceback": [
      "\u001b[1;31m---------------------------------------------------------------------------\u001b[0m",
      "\u001b[1;31mKeyError\u001b[0m                                  Traceback (most recent call last)",
      "\u001b[1;32m<expression>\u001b[0m in \u001b[0;36m<module>\u001b[1;34m()\u001b[0m\n",
      "\u001b[1;32m<string>\u001b[0m in \u001b[0;36mCalcF1\u001b[1;34m(SGCL)\u001b[0m\n",
      "\u001b[1;31mKeyError\u001b[0m: None"
     ]
    },
    {
     "ename": "KeyError",
     "evalue": "None",
     "output_type": "error",
     "traceback": [
      "\u001b[1;31m---------------------------------------------------------------------------\u001b[0m",
      "\u001b[1;31mKeyError\u001b[0m                                  Traceback (most recent call last)",
      "\u001b[1;32m<expression>\u001b[0m in \u001b[0;36m<module>\u001b[1;34m()\u001b[0m\n",
      "\u001b[1;32m<string>\u001b[0m in \u001b[0;36mCalcF1\u001b[1;34m(SGCL)\u001b[0m\n",
      "\u001b[1;31mKeyError\u001b[0m: None"
     ]
    },
    {
     "ename": "KeyError",
     "evalue": "None",
     "output_type": "error",
     "traceback": [
      "\u001b[1;31m---------------------------------------------------------------------------\u001b[0m",
      "\u001b[1;31mKeyError\u001b[0m                                  Traceback (most recent call last)",
      "\u001b[1;32m<expression>\u001b[0m in \u001b[0;36m<module>\u001b[1;34m()\u001b[0m\n",
      "\u001b[1;32m<string>\u001b[0m in \u001b[0;36mCalcF1\u001b[1;34m(SGCL)\u001b[0m\n",
      "\u001b[1;31mKeyError\u001b[0m: None"
     ]
    },
    {
     "ename": "KeyError",
     "evalue": "None",
     "output_type": "error",
     "traceback": [
      "\u001b[1;31m---------------------------------------------------------------------------\u001b[0m",
      "\u001b[1;31mKeyError\u001b[0m                                  Traceback (most recent call last)",
      "\u001b[1;32m<expression>\u001b[0m in \u001b[0;36m<module>\u001b[1;34m()\u001b[0m\n",
      "\u001b[1;32m<string>\u001b[0m in \u001b[0;36mCalcF1\u001b[1;34m(SGCL)\u001b[0m\n",
      "\u001b[1;31mKeyError\u001b[0m: None"
     ]
    },
    {
     "ename": "KeyError",
     "evalue": "None",
     "output_type": "error",
     "traceback": [
      "\u001b[1;31m---------------------------------------------------------------------------\u001b[0m",
      "\u001b[1;31mKeyError\u001b[0m                                  Traceback (most recent call last)",
      "\u001b[1;32m<expression>\u001b[0m in \u001b[0;36m<module>\u001b[1;34m()\u001b[0m\n",
      "\u001b[1;32m<string>\u001b[0m in \u001b[0;36mCalcF1\u001b[1;34m(SGCL)\u001b[0m\n",
      "\u001b[1;31mKeyError\u001b[0m: None"
     ]
    },
    {
     "ename": "KeyError",
     "evalue": "None",
     "output_type": "error",
     "traceback": [
      "\u001b[1;31m---------------------------------------------------------------------------\u001b[0m",
      "\u001b[1;31mKeyError\u001b[0m                                  Traceback (most recent call last)",
      "\u001b[1;32m<expression>\u001b[0m in \u001b[0;36m<module>\u001b[1;34m()\u001b[0m\n",
      "\u001b[1;32m<string>\u001b[0m in \u001b[0;36mCalcF1\u001b[1;34m(SGCL)\u001b[0m\n",
      "\u001b[1;31mKeyError\u001b[0m: None"
     ]
    },
    {
     "ename": "KeyError",
     "evalue": "None",
     "output_type": "error",
     "traceback": [
      "\u001b[1;31m---------------------------------------------------------------------------\u001b[0m",
      "\u001b[1;31mKeyError\u001b[0m                                  Traceback (most recent call last)",
      "\u001b[1;32m<expression>\u001b[0m in \u001b[0;36m<module>\u001b[1;34m()\u001b[0m\n",
      "\u001b[1;32m<string>\u001b[0m in \u001b[0;36mCalcF1\u001b[1;34m(SGCL)\u001b[0m\n",
      "\u001b[1;31mKeyError\u001b[0m: None"
     ]
    },
    {
     "ename": "KeyError",
     "evalue": "None",
     "output_type": "error",
     "traceback": [
      "\u001b[1;31m---------------------------------------------------------------------------\u001b[0m",
      "\u001b[1;31mKeyError\u001b[0m                                  Traceback (most recent call last)",
      "\u001b[1;32m<expression>\u001b[0m in \u001b[0;36m<module>\u001b[1;34m()\u001b[0m\n",
      "\u001b[1;32m<string>\u001b[0m in \u001b[0;36mCalcF1\u001b[1;34m(SGCL)\u001b[0m\n",
      "\u001b[1;31mKeyError\u001b[0m: None"
     ]
    },
    {
     "ename": "KeyError",
     "evalue": "None",
     "output_type": "error",
     "traceback": [
      "\u001b[1;31m---------------------------------------------------------------------------\u001b[0m",
      "\u001b[1;31mKeyError\u001b[0m                                  Traceback (most recent call last)",
      "\u001b[1;32m<expression>\u001b[0m in \u001b[0;36m<module>\u001b[1;34m()\u001b[0m\n",
      "\u001b[1;32m<string>\u001b[0m in \u001b[0;36mCalcF1\u001b[1;34m(SGCL)\u001b[0m\n",
      "\u001b[1;31mKeyError\u001b[0m: None"
     ]
    },
    {
     "ename": "KeyError",
     "evalue": "None",
     "output_type": "error",
     "traceback": [
      "\u001b[1;31m---------------------------------------------------------------------------\u001b[0m",
      "\u001b[1;31mKeyError\u001b[0m                                  Traceback (most recent call last)",
      "\u001b[1;32m<expression>\u001b[0m in \u001b[0;36m<module>\u001b[1;34m()\u001b[0m\n",
      "\u001b[1;32m<string>\u001b[0m in \u001b[0;36mCalcF1\u001b[1;34m(SGCL)\u001b[0m\n",
      "\u001b[1;31mKeyError\u001b[0m: None"
     ]
    },
    {
     "ename": "KeyError",
     "evalue": "None",
     "output_type": "error",
     "traceback": [
      "\u001b[1;31m---------------------------------------------------------------------------\u001b[0m",
      "\u001b[1;31mKeyError\u001b[0m                                  Traceback (most recent call last)",
      "\u001b[1;32m<expression>\u001b[0m in \u001b[0;36m<module>\u001b[1;34m()\u001b[0m\n",
      "\u001b[1;32m<string>\u001b[0m in \u001b[0;36mCalcF1\u001b[1;34m(SGCL)\u001b[0m\n",
      "\u001b[1;31mKeyError\u001b[0m: None"
     ]
    },
    {
     "ename": "KeyError",
     "evalue": "None",
     "output_type": "error",
     "traceback": [
      "\u001b[1;31m---------------------------------------------------------------------------\u001b[0m",
      "\u001b[1;31mKeyError\u001b[0m                                  Traceback (most recent call last)",
      "\u001b[1;32m<expression>\u001b[0m in \u001b[0;36m<module>\u001b[1;34m()\u001b[0m\n",
      "\u001b[1;32m<string>\u001b[0m in \u001b[0;36mCalcF1\u001b[1;34m(SGCL)\u001b[0m\n",
      "\u001b[1;31mKeyError\u001b[0m: None"
     ]
    },
    {
     "ename": "KeyError",
     "evalue": "None",
     "output_type": "error",
     "traceback": [
      "\u001b[1;31m---------------------------------------------------------------------------\u001b[0m",
      "\u001b[1;31mKeyError\u001b[0m                                  Traceback (most recent call last)",
      "\u001b[1;32m<expression>\u001b[0m in \u001b[0;36m<module>\u001b[1;34m()\u001b[0m\n",
      "\u001b[1;32m<string>\u001b[0m in \u001b[0;36mCalcF1\u001b[1;34m(SGCL)\u001b[0m\n",
      "\u001b[1;31mKeyError\u001b[0m: None"
     ]
    },
    {
     "ename": "KeyError",
     "evalue": "None",
     "output_type": "error",
     "traceback": [
      "\u001b[1;31m---------------------------------------------------------------------------\u001b[0m",
      "\u001b[1;31mKeyError\u001b[0m                                  Traceback (most recent call last)",
      "\u001b[1;32m<expression>\u001b[0m in \u001b[0;36m<module>\u001b[1;34m()\u001b[0m\n",
      "\u001b[1;32m<string>\u001b[0m in \u001b[0;36mCalcF1\u001b[1;34m(SGCL)\u001b[0m\n",
      "\u001b[1;31mKeyError\u001b[0m: None"
     ]
    },
    {
     "ename": "KeyError",
     "evalue": "None",
     "output_type": "error",
     "traceback": [
      "\u001b[1;31m---------------------------------------------------------------------------\u001b[0m",
      "\u001b[1;31mKeyError\u001b[0m                                  Traceback (most recent call last)",
      "\u001b[1;32m<expression>\u001b[0m in \u001b[0;36m<module>\u001b[1;34m()\u001b[0m\n",
      "\u001b[1;32m<string>\u001b[0m in \u001b[0;36mCalcF1\u001b[1;34m(SGCL)\u001b[0m\n",
      "\u001b[1;31mKeyError\u001b[0m: None"
     ]
    },
    {
     "ename": "KeyError",
     "evalue": "None",
     "output_type": "error",
     "traceback": [
      "\u001b[1;31m---------------------------------------------------------------------------\u001b[0m",
      "\u001b[1;31mKeyError\u001b[0m                                  Traceback (most recent call last)",
      "\u001b[1;32m<expression>\u001b[0m in \u001b[0;36m<module>\u001b[1;34m()\u001b[0m\n",
      "\u001b[1;32m<string>\u001b[0m in \u001b[0;36mCalcF1\u001b[1;34m(SGCL)\u001b[0m\n",
      "\u001b[1;31mKeyError\u001b[0m: None"
     ]
    },
    {
     "ename": "KeyError",
     "evalue": "None",
     "output_type": "error",
     "traceback": [
      "\u001b[1;31m---------------------------------------------------------------------------\u001b[0m",
      "\u001b[1;31mKeyError\u001b[0m                                  Traceback (most recent call last)",
      "\u001b[1;32m<expression>\u001b[0m in \u001b[0;36m<module>\u001b[1;34m()\u001b[0m\n",
      "\u001b[1;32m<string>\u001b[0m in \u001b[0;36mCalcF1\u001b[1;34m(SGCL)\u001b[0m\n",
      "\u001b[1;31mKeyError\u001b[0m: None"
     ]
    },
    {
     "ename": "KeyError",
     "evalue": "None",
     "output_type": "error",
     "traceback": [
      "\u001b[1;31m---------------------------------------------------------------------------\u001b[0m",
      "\u001b[1;31mKeyError\u001b[0m                                  Traceback (most recent call last)",
      "\u001b[1;32m<expression>\u001b[0m in \u001b[0;36m<module>\u001b[1;34m()\u001b[0m\n",
      "\u001b[1;32m<string>\u001b[0m in \u001b[0;36mCalcF1\u001b[1;34m(SGCL)\u001b[0m\n",
      "\u001b[1;31mKeyError\u001b[0m: None"
     ]
    },
    {
     "ename": "KeyError",
     "evalue": "None",
     "output_type": "error",
     "traceback": [
      "\u001b[1;31m---------------------------------------------------------------------------\u001b[0m",
      "\u001b[1;31mKeyError\u001b[0m                                  Traceback (most recent call last)",
      "\u001b[1;32m<expression>\u001b[0m in \u001b[0;36m<module>\u001b[1;34m()\u001b[0m\n",
      "\u001b[1;32m<string>\u001b[0m in \u001b[0;36mCalcF1\u001b[1;34m(SGCL)\u001b[0m\n",
      "\u001b[1;31mKeyError\u001b[0m: None"
     ]
    },
    {
     "ename": "KeyError",
     "evalue": "None",
     "output_type": "error",
     "traceback": [
      "\u001b[1;31m---------------------------------------------------------------------------\u001b[0m",
      "\u001b[1;31mKeyError\u001b[0m                                  Traceback (most recent call last)",
      "\u001b[1;32m<expression>\u001b[0m in \u001b[0;36m<module>\u001b[1;34m()\u001b[0m\n",
      "\u001b[1;32m<string>\u001b[0m in \u001b[0;36mCalcF1\u001b[1;34m(SGCL)\u001b[0m\n",
      "\u001b[1;31mKeyError\u001b[0m: None"
     ]
    },
    {
     "ename": "KeyError",
     "evalue": "None",
     "output_type": "error",
     "traceback": [
      "\u001b[1;31m---------------------------------------------------------------------------\u001b[0m",
      "\u001b[1;31mKeyError\u001b[0m                                  Traceback (most recent call last)",
      "\u001b[1;32m<expression>\u001b[0m in \u001b[0;36m<module>\u001b[1;34m()\u001b[0m\n",
      "\u001b[1;32m<string>\u001b[0m in \u001b[0;36mCalcF1\u001b[1;34m(SGCL)\u001b[0m\n",
      "\u001b[1;31mKeyError\u001b[0m: None"
     ]
    },
    {
     "ename": "KeyError",
     "evalue": "None",
     "output_type": "error",
     "traceback": [
      "\u001b[1;31m---------------------------------------------------------------------------\u001b[0m",
      "\u001b[1;31mKeyError\u001b[0m                                  Traceback (most recent call last)",
      "\u001b[1;32m<expression>\u001b[0m in \u001b[0;36m<module>\u001b[1;34m()\u001b[0m\n",
      "\u001b[1;32m<string>\u001b[0m in \u001b[0;36mCalcF1\u001b[1;34m(SGCL)\u001b[0m\n",
      "\u001b[1;31mKeyError\u001b[0m: None"
     ]
    },
    {
     "ename": "KeyError",
     "evalue": "None",
     "output_type": "error",
     "traceback": [
      "\u001b[1;31m---------------------------------------------------------------------------\u001b[0m",
      "\u001b[1;31mKeyError\u001b[0m                                  Traceback (most recent call last)",
      "\u001b[1;32m<expression>\u001b[0m in \u001b[0;36m<module>\u001b[1;34m()\u001b[0m\n",
      "\u001b[1;32m<string>\u001b[0m in \u001b[0;36mCalcF1\u001b[1;34m(SGCL)\u001b[0m\n",
      "\u001b[1;31mKeyError\u001b[0m: None"
     ]
    },
    {
     "ename": "KeyError",
     "evalue": "None",
     "output_type": "error",
     "traceback": [
      "\u001b[1;31m---------------------------------------------------------------------------\u001b[0m",
      "\u001b[1;31mKeyError\u001b[0m                                  Traceback (most recent call last)",
      "\u001b[1;32m<expression>\u001b[0m in \u001b[0;36m<module>\u001b[1;34m()\u001b[0m\n",
      "\u001b[1;32m<string>\u001b[0m in \u001b[0;36mCalcF1\u001b[1;34m(SGCL)\u001b[0m\n",
      "\u001b[1;31mKeyError\u001b[0m: None"
     ]
    },
    {
     "ename": "KeyError",
     "evalue": "None",
     "output_type": "error",
     "traceback": [
      "\u001b[1;31m---------------------------------------------------------------------------\u001b[0m",
      "\u001b[1;31mKeyError\u001b[0m                                  Traceback (most recent call last)",
      "\u001b[1;32m<expression>\u001b[0m in \u001b[0;36m<module>\u001b[1;34m()\u001b[0m\n",
      "\u001b[1;32m<string>\u001b[0m in \u001b[0;36mCalcF1\u001b[1;34m(SGCL)\u001b[0m\n",
      "\u001b[1;31mKeyError\u001b[0m: None"
     ]
    },
    {
     "ename": "KeyError",
     "evalue": "None",
     "output_type": "error",
     "traceback": [
      "\u001b[1;31m---------------------------------------------------------------------------\u001b[0m",
      "\u001b[1;31mKeyError\u001b[0m                                  Traceback (most recent call last)",
      "\u001b[1;32m<expression>\u001b[0m in \u001b[0;36m<module>\u001b[1;34m()\u001b[0m\n",
      "\u001b[1;32m<string>\u001b[0m in \u001b[0;36mCalcF1\u001b[1;34m(SGCL)\u001b[0m\n",
      "\u001b[1;31mKeyError\u001b[0m: None"
     ]
    },
    {
     "ename": "KeyError",
     "evalue": "None",
     "output_type": "error",
     "traceback": [
      "\u001b[1;31m---------------------------------------------------------------------------\u001b[0m",
      "\u001b[1;31mKeyError\u001b[0m                                  Traceback (most recent call last)",
      "\u001b[1;32m<expression>\u001b[0m in \u001b[0;36m<module>\u001b[1;34m()\u001b[0m\n",
      "\u001b[1;32m<string>\u001b[0m in \u001b[0;36mCalcF1\u001b[1;34m(SGCL)\u001b[0m\n",
      "\u001b[1;31mKeyError\u001b[0m: None"
     ]
    },
    {
     "ename": "KeyError",
     "evalue": "None",
     "output_type": "error",
     "traceback": [
      "\u001b[1;31m---------------------------------------------------------------------------\u001b[0m",
      "\u001b[1;31mKeyError\u001b[0m                                  Traceback (most recent call last)",
      "\u001b[1;32m<expression>\u001b[0m in \u001b[0;36m<module>\u001b[1;34m()\u001b[0m\n",
      "\u001b[1;32m<string>\u001b[0m in \u001b[0;36mCalcF1\u001b[1;34m(SGCL)\u001b[0m\n",
      "\u001b[1;31mKeyError\u001b[0m: None"
     ]
    },
    {
     "ename": "KeyError",
     "evalue": "None",
     "output_type": "error",
     "traceback": [
      "\u001b[1;31m---------------------------------------------------------------------------\u001b[0m",
      "\u001b[1;31mKeyError\u001b[0m                                  Traceback (most recent call last)",
      "\u001b[1;32m<expression>\u001b[0m in \u001b[0;36m<module>\u001b[1;34m()\u001b[0m\n",
      "\u001b[1;32m<string>\u001b[0m in \u001b[0;36mCalcF1\u001b[1;34m(SGCL)\u001b[0m\n",
      "\u001b[1;31mKeyError\u001b[0m: None"
     ]
    },
    {
     "ename": "KeyError",
     "evalue": "None",
     "output_type": "error",
     "traceback": [
      "\u001b[1;31m---------------------------------------------------------------------------\u001b[0m",
      "\u001b[1;31mKeyError\u001b[0m                                  Traceback (most recent call last)",
      "\u001b[1;32m<expression>\u001b[0m in \u001b[0;36m<module>\u001b[1;34m()\u001b[0m\n",
      "\u001b[1;32m<string>\u001b[0m in \u001b[0;36mCalcF1\u001b[1;34m(SGCL)\u001b[0m\n",
      "\u001b[1;31mKeyError\u001b[0m: None"
     ]
    },
    {
     "ename": "KeyError",
     "evalue": "None",
     "output_type": "error",
     "traceback": [
      "\u001b[1;31m---------------------------------------------------------------------------\u001b[0m",
      "\u001b[1;31mKeyError\u001b[0m                                  Traceback (most recent call last)",
      "\u001b[1;32m<expression>\u001b[0m in \u001b[0;36m<module>\u001b[1;34m()\u001b[0m\n",
      "\u001b[1;32m<string>\u001b[0m in \u001b[0;36mCalcF1\u001b[1;34m(SGCL)\u001b[0m\n",
      "\u001b[1;31mKeyError\u001b[0m: None"
     ]
    },
    {
     "ename": "KeyError",
     "evalue": "None",
     "output_type": "error",
     "traceback": [
      "\u001b[1;31m---------------------------------------------------------------------------\u001b[0m",
      "\u001b[1;31mKeyError\u001b[0m                                  Traceback (most recent call last)",
      "\u001b[1;32m<expression>\u001b[0m in \u001b[0;36m<module>\u001b[1;34m()\u001b[0m\n",
      "\u001b[1;32m<string>\u001b[0m in \u001b[0;36mCalcF1\u001b[1;34m(SGCL)\u001b[0m\n",
      "\u001b[1;31mKeyError\u001b[0m: None"
     ]
    },
    {
     "ename": "KeyError",
     "evalue": "None",
     "output_type": "error",
     "traceback": [
      "\u001b[1;31m---------------------------------------------------------------------------\u001b[0m",
      "\u001b[1;31mKeyError\u001b[0m                                  Traceback (most recent call last)",
      "\u001b[1;32m<expression>\u001b[0m in \u001b[0;36m<module>\u001b[1;34m()\u001b[0m\n",
      "\u001b[1;32m<string>\u001b[0m in \u001b[0;36mCalcF1\u001b[1;34m(SGCL)\u001b[0m\n",
      "\u001b[1;31mKeyError\u001b[0m: None"
     ]
    },
    {
     "ename": "KeyError",
     "evalue": "None",
     "output_type": "error",
     "traceback": [
      "\u001b[1;31m---------------------------------------------------------------------------\u001b[0m",
      "\u001b[1;31mKeyError\u001b[0m                                  Traceback (most recent call last)",
      "\u001b[1;32m<expression>\u001b[0m in \u001b[0;36m<module>\u001b[1;34m()\u001b[0m\n",
      "\u001b[1;32m<string>\u001b[0m in \u001b[0;36mCalcF1\u001b[1;34m(SGCL)\u001b[0m\n",
      "\u001b[1;31mKeyError\u001b[0m: None"
     ]
    },
    {
     "ename": "KeyError",
     "evalue": "None",
     "output_type": "error",
     "traceback": [
      "\u001b[1;31m---------------------------------------------------------------------------\u001b[0m",
      "\u001b[1;31mKeyError\u001b[0m                                  Traceback (most recent call last)",
      "\u001b[1;32m<expression>\u001b[0m in \u001b[0;36m<module>\u001b[1;34m()\u001b[0m\n",
      "\u001b[1;32m<string>\u001b[0m in \u001b[0;36mCalcF1\u001b[1;34m(SGCL)\u001b[0m\n",
      "\u001b[1;31mKeyError\u001b[0m: None"
     ]
    },
    {
     "ename": "KeyError",
     "evalue": "None",
     "output_type": "error",
     "traceback": [
      "\u001b[1;31m---------------------------------------------------------------------------\u001b[0m",
      "\u001b[1;31mKeyError\u001b[0m                                  Traceback (most recent call last)",
      "\u001b[1;32m<expression>\u001b[0m in \u001b[0;36m<module>\u001b[1;34m()\u001b[0m\n",
      "\u001b[1;32m<string>\u001b[0m in \u001b[0;36mCalcF1\u001b[1;34m(SGCL)\u001b[0m\n",
      "\u001b[1;31mKeyError\u001b[0m: None"
     ]
    },
    {
     "ename": "KeyError",
     "evalue": "None",
     "output_type": "error",
     "traceback": [
      "\u001b[1;31m---------------------------------------------------------------------------\u001b[0m",
      "\u001b[1;31mKeyError\u001b[0m                                  Traceback (most recent call last)",
      "\u001b[1;32m<expression>\u001b[0m in \u001b[0;36m<module>\u001b[1;34m()\u001b[0m\n",
      "\u001b[1;32m<string>\u001b[0m in \u001b[0;36mCalcF1\u001b[1;34m(SGCL)\u001b[0m\n",
      "\u001b[1;31mKeyError\u001b[0m: None"
     ]
    },
    {
     "ename": "KeyError",
     "evalue": "None",
     "output_type": "error",
     "traceback": [
      "\u001b[1;31m---------------------------------------------------------------------------\u001b[0m",
      "\u001b[1;31mKeyError\u001b[0m                                  Traceback (most recent call last)",
      "\u001b[1;32m<expression>\u001b[0m in \u001b[0;36m<module>\u001b[1;34m()\u001b[0m\n",
      "\u001b[1;32m<string>\u001b[0m in \u001b[0;36mCalcF1\u001b[1;34m(SGCL)\u001b[0m\n",
      "\u001b[1;31mKeyError\u001b[0m: None"
     ]
    },
    {
     "ename": "KeyError",
     "evalue": "None",
     "output_type": "error",
     "traceback": [
      "\u001b[1;31m---------------------------------------------------------------------------\u001b[0m",
      "\u001b[1;31mKeyError\u001b[0m                                  Traceback (most recent call last)",
      "\u001b[1;32m<expression>\u001b[0m in \u001b[0;36m<module>\u001b[1;34m()\u001b[0m\n",
      "\u001b[1;32m<string>\u001b[0m in \u001b[0;36mCalcF1\u001b[1;34m(SGCL)\u001b[0m\n",
      "\u001b[1;31mKeyError\u001b[0m: None"
     ]
    },
    {
     "ename": "KeyError",
     "evalue": "None",
     "output_type": "error",
     "traceback": [
      "\u001b[1;31m---------------------------------------------------------------------------\u001b[0m",
      "\u001b[1;31mKeyError\u001b[0m                                  Traceback (most recent call last)",
      "\u001b[1;32m<expression>\u001b[0m in \u001b[0;36m<module>\u001b[1;34m()\u001b[0m\n",
      "\u001b[1;32m<string>\u001b[0m in \u001b[0;36mCalcF1\u001b[1;34m(SGCL)\u001b[0m\n",
      "\u001b[1;31mKeyError\u001b[0m: None"
     ]
    },
    {
     "ename": "KeyError",
     "evalue": "None",
     "output_type": "error",
     "traceback": [
      "\u001b[1;31m---------------------------------------------------------------------------\u001b[0m",
      "\u001b[1;31mKeyError\u001b[0m                                  Traceback (most recent call last)",
      "\u001b[1;32m<expression>\u001b[0m in \u001b[0;36m<module>\u001b[1;34m()\u001b[0m\n",
      "\u001b[1;32m<string>\u001b[0m in \u001b[0;36mCalcF1\u001b[1;34m(SGCL)\u001b[0m\n",
      "\u001b[1;31mKeyError\u001b[0m: None"
     ]
    },
    {
     "ename": "KeyError",
     "evalue": "None",
     "output_type": "error",
     "traceback": [
      "\u001b[1;31m---------------------------------------------------------------------------\u001b[0m",
      "\u001b[1;31mKeyError\u001b[0m                                  Traceback (most recent call last)",
      "\u001b[1;32m<expression>\u001b[0m in \u001b[0;36m<module>\u001b[1;34m()\u001b[0m\n",
      "\u001b[1;32m<string>\u001b[0m in \u001b[0;36mCalcF1\u001b[1;34m(SGCL)\u001b[0m\n",
      "\u001b[1;31mKeyError\u001b[0m: None"
     ]
    },
    {
     "ename": "KeyError",
     "evalue": "None",
     "output_type": "error",
     "traceback": [
      "\u001b[1;31m---------------------------------------------------------------------------\u001b[0m",
      "\u001b[1;31mKeyError\u001b[0m                                  Traceback (most recent call last)",
      "\u001b[1;32m<expression>\u001b[0m in \u001b[0;36m<module>\u001b[1;34m()\u001b[0m\n",
      "\u001b[1;32m<string>\u001b[0m in \u001b[0;36mCalcF1\u001b[1;34m(SGCL)\u001b[0m\n",
      "\u001b[1;31mKeyError\u001b[0m: None"
     ]
    },
    {
     "ename": "KeyError",
     "evalue": "None",
     "output_type": "error",
     "traceback": [
      "\u001b[1;31m---------------------------------------------------------------------------\u001b[0m",
      "\u001b[1;31mKeyError\u001b[0m                                  Traceback (most recent call last)",
      "\u001b[1;32m<expression>\u001b[0m in \u001b[0;36m<module>\u001b[1;34m()\u001b[0m\n",
      "\u001b[1;32m<string>\u001b[0m in \u001b[0;36mCalcF1\u001b[1;34m(SGCL)\u001b[0m\n",
      "\u001b[1;31mKeyError\u001b[0m: None"
     ]
    },
    {
     "ename": "KeyError",
     "evalue": "None",
     "output_type": "error",
     "traceback": [
      "\u001b[1;31m---------------------------------------------------------------------------\u001b[0m",
      "\u001b[1;31mKeyError\u001b[0m                                  Traceback (most recent call last)",
      "\u001b[1;32m<expression>\u001b[0m in \u001b[0;36m<module>\u001b[1;34m()\u001b[0m\n",
      "\u001b[1;32m<string>\u001b[0m in \u001b[0;36mCalcF1\u001b[1;34m(SGCL)\u001b[0m\n",
      "\u001b[1;31mKeyError\u001b[0m: None"
     ]
    },
    {
     "ename": "KeyError",
     "evalue": "None",
     "output_type": "error",
     "traceback": [
      "\u001b[1;31m---------------------------------------------------------------------------\u001b[0m",
      "\u001b[1;31mKeyError\u001b[0m                                  Traceback (most recent call last)",
      "\u001b[1;32m<expression>\u001b[0m in \u001b[0;36m<module>\u001b[1;34m()\u001b[0m\n",
      "\u001b[1;32m<string>\u001b[0m in \u001b[0;36mCalcF1\u001b[1;34m(SGCL)\u001b[0m\n",
      "\u001b[1;31mKeyError\u001b[0m: None"
     ]
    },
    {
     "ename": "KeyError",
     "evalue": "None",
     "output_type": "error",
     "traceback": [
      "\u001b[1;31m---------------------------------------------------------------------------\u001b[0m",
      "\u001b[1;31mKeyError\u001b[0m                                  Traceback (most recent call last)",
      "\u001b[1;32m<expression>\u001b[0m in \u001b[0;36m<module>\u001b[1;34m()\u001b[0m\n",
      "\u001b[1;32m<string>\u001b[0m in \u001b[0;36mCalcF1\u001b[1;34m(SGCL)\u001b[0m\n",
      "\u001b[1;31mKeyError\u001b[0m: None"
     ]
    },
    {
     "ename": "KeyError",
     "evalue": "None",
     "output_type": "error",
     "traceback": [
      "\u001b[1;31m---------------------------------------------------------------------------\u001b[0m",
      "\u001b[1;31mKeyError\u001b[0m                                  Traceback (most recent call last)",
      "\u001b[1;32m<expression>\u001b[0m in \u001b[0;36m<module>\u001b[1;34m()\u001b[0m\n",
      "\u001b[1;32m<string>\u001b[0m in \u001b[0;36mCalcF1\u001b[1;34m(SGCL)\u001b[0m\n",
      "\u001b[1;31mKeyError\u001b[0m: None"
     ]
    },
    {
     "ename": "KeyError",
     "evalue": "None",
     "output_type": "error",
     "traceback": [
      "\u001b[1;31m---------------------------------------------------------------------------\u001b[0m",
      "\u001b[1;31mKeyError\u001b[0m                                  Traceback (most recent call last)",
      "\u001b[1;32m<expression>\u001b[0m in \u001b[0;36m<module>\u001b[1;34m()\u001b[0m\n",
      "\u001b[1;32m<string>\u001b[0m in \u001b[0;36mCalcF1\u001b[1;34m(SGCL)\u001b[0m\n",
      "\u001b[1;31mKeyError\u001b[0m: None"
     ]
    },
    {
     "ename": "KeyError",
     "evalue": "None",
     "output_type": "error",
     "traceback": [
      "\u001b[1;31m---------------------------------------------------------------------------\u001b[0m",
      "\u001b[1;31mKeyError\u001b[0m                                  Traceback (most recent call last)",
      "\u001b[1;32m<expression>\u001b[0m in \u001b[0;36m<module>\u001b[1;34m()\u001b[0m\n",
      "\u001b[1;32m<string>\u001b[0m in \u001b[0;36mCalcF1\u001b[1;34m(SGCL)\u001b[0m\n",
      "\u001b[1;31mKeyError\u001b[0m: None"
     ]
    },
    {
     "ename": "KeyError",
     "evalue": "None",
     "output_type": "error",
     "traceback": [
      "\u001b[1;31m---------------------------------------------------------------------------\u001b[0m",
      "\u001b[1;31mKeyError\u001b[0m                                  Traceback (most recent call last)",
      "\u001b[1;32m<expression>\u001b[0m in \u001b[0;36m<module>\u001b[1;34m()\u001b[0m\n",
      "\u001b[1;32m<string>\u001b[0m in \u001b[0;36mCalcF1\u001b[1;34m(SGCL)\u001b[0m\n",
      "\u001b[1;31mKeyError\u001b[0m: None"
     ]
    },
    {
     "ename": "KeyError",
     "evalue": "None",
     "output_type": "error",
     "traceback": [
      "\u001b[1;31m---------------------------------------------------------------------------\u001b[0m",
      "\u001b[1;31mKeyError\u001b[0m                                  Traceback (most recent call last)",
      "\u001b[1;32m<expression>\u001b[0m in \u001b[0;36m<module>\u001b[1;34m()\u001b[0m\n",
      "\u001b[1;32m<string>\u001b[0m in \u001b[0;36mCalcF1\u001b[1;34m(SGCL)\u001b[0m\n",
      "\u001b[1;31mKeyError\u001b[0m: None"
     ]
    },
    {
     "ename": "KeyError",
     "evalue": "None",
     "output_type": "error",
     "traceback": [
      "\u001b[1;31m---------------------------------------------------------------------------\u001b[0m",
      "\u001b[1;31mKeyError\u001b[0m                                  Traceback (most recent call last)",
      "\u001b[1;32m<expression>\u001b[0m in \u001b[0;36m<module>\u001b[1;34m()\u001b[0m\n",
      "\u001b[1;32m<string>\u001b[0m in \u001b[0;36mCalcF1\u001b[1;34m(SGCL)\u001b[0m\n",
      "\u001b[1;31mKeyError\u001b[0m: None"
     ]
    },
    {
     "ename": "KeyError",
     "evalue": "None",
     "output_type": "error",
     "traceback": [
      "\u001b[1;31m---------------------------------------------------------------------------\u001b[0m",
      "\u001b[1;31mKeyError\u001b[0m                                  Traceback (most recent call last)",
      "\u001b[1;32m<expression>\u001b[0m in \u001b[0;36m<module>\u001b[1;34m()\u001b[0m\n",
      "\u001b[1;32m<string>\u001b[0m in \u001b[0;36mCalcF1\u001b[1;34m(SGCL)\u001b[0m\n",
      "\u001b[1;31mKeyError\u001b[0m: None"
     ]
    },
    {
     "ename": "KeyError",
     "evalue": "None",
     "output_type": "error",
     "traceback": [
      "\u001b[1;31m---------------------------------------------------------------------------\u001b[0m",
      "\u001b[1;31mKeyError\u001b[0m                                  Traceback (most recent call last)",
      "\u001b[1;32m<expression>\u001b[0m in \u001b[0;36m<module>\u001b[1;34m()\u001b[0m\n",
      "\u001b[1;32m<string>\u001b[0m in \u001b[0;36mCalcF1\u001b[1;34m(SGCL)\u001b[0m\n",
      "\u001b[1;31mKeyError\u001b[0m: None"
     ]
    },
    {
     "ename": "KeyError",
     "evalue": "None",
     "output_type": "error",
     "traceback": [
      "\u001b[1;31m---------------------------------------------------------------------------\u001b[0m",
      "\u001b[1;31mKeyError\u001b[0m                                  Traceback (most recent call last)",
      "\u001b[1;32m<expression>\u001b[0m in \u001b[0;36m<module>\u001b[1;34m()\u001b[0m\n",
      "\u001b[1;32m<string>\u001b[0m in \u001b[0;36mCalcF1\u001b[1;34m(SGCL)\u001b[0m\n",
      "\u001b[1;31mKeyError\u001b[0m: None"
     ]
    },
    {
     "ename": "KeyError",
     "evalue": "None",
     "output_type": "error",
     "traceback": [
      "\u001b[1;31m---------------------------------------------------------------------------\u001b[0m",
      "\u001b[1;31mKeyError\u001b[0m                                  Traceback (most recent call last)",
      "\u001b[1;32m<expression>\u001b[0m in \u001b[0;36m<module>\u001b[1;34m()\u001b[0m\n",
      "\u001b[1;32m<string>\u001b[0m in \u001b[0;36mCalcF1\u001b[1;34m(SGCL)\u001b[0m\n",
      "\u001b[1;31mKeyError\u001b[0m: None"
     ]
    },
    {
     "ename": "KeyError",
     "evalue": "None",
     "output_type": "error",
     "traceback": [
      "\u001b[1;31m---------------------------------------------------------------------------\u001b[0m",
      "\u001b[1;31mKeyError\u001b[0m                                  Traceback (most recent call last)",
      "\u001b[1;32m<expression>\u001b[0m in \u001b[0;36m<module>\u001b[1;34m()\u001b[0m\n",
      "\u001b[1;32m<string>\u001b[0m in \u001b[0;36mCalcF1\u001b[1;34m(SGCL)\u001b[0m\n",
      "\u001b[1;31mKeyError\u001b[0m: None"
     ]
    },
    {
     "ename": "KeyError",
     "evalue": "None",
     "output_type": "error",
     "traceback": [
      "\u001b[1;31m---------------------------------------------------------------------------\u001b[0m",
      "\u001b[1;31mKeyError\u001b[0m                                  Traceback (most recent call last)",
      "\u001b[1;32m<expression>\u001b[0m in \u001b[0;36m<module>\u001b[1;34m()\u001b[0m\n",
      "\u001b[1;32m<string>\u001b[0m in \u001b[0;36mCalcF1\u001b[1;34m(SGCL)\u001b[0m\n",
      "\u001b[1;31mKeyError\u001b[0m: None"
     ]
    },
    {
     "ename": "KeyError",
     "evalue": "None",
     "output_type": "error",
     "traceback": [
      "\u001b[1;31m---------------------------------------------------------------------------\u001b[0m",
      "\u001b[1;31mKeyError\u001b[0m                                  Traceback (most recent call last)",
      "\u001b[1;32m<expression>\u001b[0m in \u001b[0;36m<module>\u001b[1;34m()\u001b[0m\n",
      "\u001b[1;32m<string>\u001b[0m in \u001b[0;36mCalcF1\u001b[1;34m(SGCL)\u001b[0m\n",
      "\u001b[1;31mKeyError\u001b[0m: None"
     ]
    },
    {
     "ename": "KeyError",
     "evalue": "None",
     "output_type": "error",
     "traceback": [
      "\u001b[1;31m---------------------------------------------------------------------------\u001b[0m",
      "\u001b[1;31mKeyError\u001b[0m                                  Traceback (most recent call last)",
      "\u001b[1;32m<expression>\u001b[0m in \u001b[0;36m<module>\u001b[1;34m()\u001b[0m\n",
      "\u001b[1;32m<string>\u001b[0m in \u001b[0;36mCalcF1\u001b[1;34m(SGCL)\u001b[0m\n",
      "\u001b[1;31mKeyError\u001b[0m: None"
     ]
    },
    {
     "ename": "KeyError",
     "evalue": "None",
     "output_type": "error",
     "traceback": [
      "\u001b[1;31m---------------------------------------------------------------------------\u001b[0m",
      "\u001b[1;31mKeyError\u001b[0m                                  Traceback (most recent call last)",
      "\u001b[1;32m<expression>\u001b[0m in \u001b[0;36m<module>\u001b[1;34m()\u001b[0m\n",
      "\u001b[1;32m<string>\u001b[0m in \u001b[0;36mCalcF1\u001b[1;34m(SGCL)\u001b[0m\n",
      "\u001b[1;31mKeyError\u001b[0m: None"
     ]
    },
    {
     "ename": "KeyError",
     "evalue": "None",
     "output_type": "error",
     "traceback": [
      "\u001b[1;31m---------------------------------------------------------------------------\u001b[0m",
      "\u001b[1;31mKeyError\u001b[0m                                  Traceback (most recent call last)",
      "\u001b[1;32m<expression>\u001b[0m in \u001b[0;36m<module>\u001b[1;34m()\u001b[0m\n",
      "\u001b[1;32m<string>\u001b[0m in \u001b[0;36mCalcF1\u001b[1;34m(SGCL)\u001b[0m\n",
      "\u001b[1;31mKeyError\u001b[0m: None"
     ]
    },
    {
     "ename": "KeyError",
     "evalue": "None",
     "output_type": "error",
     "traceback": [
      "\u001b[1;31m---------------------------------------------------------------------------\u001b[0m",
      "\u001b[1;31mKeyError\u001b[0m                                  Traceback (most recent call last)",
      "\u001b[1;32m<expression>\u001b[0m in \u001b[0;36m<module>\u001b[1;34m()\u001b[0m\n",
      "\u001b[1;32m<string>\u001b[0m in \u001b[0;36mCalcF1\u001b[1;34m(SGCL)\u001b[0m\n",
      "\u001b[1;31mKeyError\u001b[0m: None"
     ]
    },
    {
     "ename": "KeyError",
     "evalue": "None",
     "output_type": "error",
     "traceback": [
      "\u001b[1;31m---------------------------------------------------------------------------\u001b[0m",
      "\u001b[1;31mKeyError\u001b[0m                                  Traceback (most recent call last)",
      "\u001b[1;32m<expression>\u001b[0m in \u001b[0;36m<module>\u001b[1;34m()\u001b[0m\n",
      "\u001b[1;32m<string>\u001b[0m in \u001b[0;36mCalcF1\u001b[1;34m(SGCL)\u001b[0m\n",
      "\u001b[1;31mKeyError\u001b[0m: None"
     ]
    },
    {
     "ename": "KeyError",
     "evalue": "None",
     "output_type": "error",
     "traceback": [
      "\u001b[1;31m---------------------------------------------------------------------------\u001b[0m",
      "\u001b[1;31mKeyError\u001b[0m                                  Traceback (most recent call last)",
      "\u001b[1;32m<expression>\u001b[0m in \u001b[0;36m<module>\u001b[1;34m()\u001b[0m\n",
      "\u001b[1;32m<string>\u001b[0m in \u001b[0;36mCalcF1\u001b[1;34m(SGCL)\u001b[0m\n",
      "\u001b[1;31mKeyError\u001b[0m: None"
     ]
    },
    {
     "ename": "KeyError",
     "evalue": "None",
     "output_type": "error",
     "traceback": [
      "\u001b[1;31m---------------------------------------------------------------------------\u001b[0m",
      "\u001b[1;31mKeyError\u001b[0m                                  Traceback (most recent call last)",
      "\u001b[1;32m<expression>\u001b[0m in \u001b[0;36m<module>\u001b[1;34m()\u001b[0m\n",
      "\u001b[1;32m<string>\u001b[0m in \u001b[0;36mCalcF1\u001b[1;34m(SGCL)\u001b[0m\n",
      "\u001b[1;31mKeyError\u001b[0m: None"
     ]
    },
    {
     "ename": "KeyError",
     "evalue": "None",
     "output_type": "error",
     "traceback": [
      "\u001b[1;31m---------------------------------------------------------------------------\u001b[0m",
      "\u001b[1;31mKeyError\u001b[0m                                  Traceback (most recent call last)",
      "\u001b[1;32m<expression>\u001b[0m in \u001b[0;36m<module>\u001b[1;34m()\u001b[0m\n",
      "\u001b[1;32m<string>\u001b[0m in \u001b[0;36mCalcF1\u001b[1;34m(SGCL)\u001b[0m\n",
      "\u001b[1;31mKeyError\u001b[0m: None"
     ]
    },
    {
     "ename": "KeyError",
     "evalue": "None",
     "output_type": "error",
     "traceback": [
      "\u001b[1;31m---------------------------------------------------------------------------\u001b[0m",
      "\u001b[1;31mKeyError\u001b[0m                                  Traceback (most recent call last)",
      "\u001b[1;32m<expression>\u001b[0m in \u001b[0;36m<module>\u001b[1;34m()\u001b[0m\n",
      "\u001b[1;32m<string>\u001b[0m in \u001b[0;36mCalcF1\u001b[1;34m(SGCL)\u001b[0m\n",
      "\u001b[1;31mKeyError\u001b[0m: None"
     ]
    },
    {
     "ename": "KeyError",
     "evalue": "None",
     "output_type": "error",
     "traceback": [
      "\u001b[1;31m---------------------------------------------------------------------------\u001b[0m",
      "\u001b[1;31mKeyError\u001b[0m                                  Traceback (most recent call last)",
      "\u001b[1;32m<expression>\u001b[0m in \u001b[0;36m<module>\u001b[1;34m()\u001b[0m\n",
      "\u001b[1;32m<string>\u001b[0m in \u001b[0;36mCalcF1\u001b[1;34m(SGCL)\u001b[0m\n",
      "\u001b[1;31mKeyError\u001b[0m: None"
     ]
    },
    {
     "ename": "KeyError",
     "evalue": "None",
     "output_type": "error",
     "traceback": [
      "\u001b[1;31m---------------------------------------------------------------------------\u001b[0m",
      "\u001b[1;31mKeyError\u001b[0m                                  Traceback (most recent call last)",
      "\u001b[1;32m<expression>\u001b[0m in \u001b[0;36m<module>\u001b[1;34m()\u001b[0m\n",
      "\u001b[1;32m<string>\u001b[0m in \u001b[0;36mCalcF1\u001b[1;34m(SGCL)\u001b[0m\n",
      "\u001b[1;31mKeyError\u001b[0m: None"
     ]
    },
    {
     "ename": "KeyError",
     "evalue": "None",
     "output_type": "error",
     "traceback": [
      "\u001b[1;31m---------------------------------------------------------------------------\u001b[0m",
      "\u001b[1;31mKeyError\u001b[0m                                  Traceback (most recent call last)",
      "\u001b[1;32m<expression>\u001b[0m in \u001b[0;36m<module>\u001b[1;34m()\u001b[0m\n",
      "\u001b[1;32m<string>\u001b[0m in \u001b[0;36mCalcF1\u001b[1;34m(SGCL)\u001b[0m\n",
      "\u001b[1;31mKeyError\u001b[0m: None"
     ]
    },
    {
     "ename": "KeyError",
     "evalue": "None",
     "output_type": "error",
     "traceback": [
      "\u001b[1;31m---------------------------------------------------------------------------\u001b[0m",
      "\u001b[1;31mKeyError\u001b[0m                                  Traceback (most recent call last)",
      "\u001b[1;32m<expression>\u001b[0m in \u001b[0;36m<module>\u001b[1;34m()\u001b[0m\n",
      "\u001b[1;32m<string>\u001b[0m in \u001b[0;36mCalcF1\u001b[1;34m(SGCL)\u001b[0m\n",
      "\u001b[1;31mKeyError\u001b[0m: None"
     ]
    },
    {
     "ename": "KeyError",
     "evalue": "None",
     "output_type": "error",
     "traceback": [
      "\u001b[1;31m---------------------------------------------------------------------------\u001b[0m",
      "\u001b[1;31mKeyError\u001b[0m                                  Traceback (most recent call last)",
      "\u001b[1;32m<expression>\u001b[0m in \u001b[0;36m<module>\u001b[1;34m()\u001b[0m\n",
      "\u001b[1;32m<string>\u001b[0m in \u001b[0;36mCalcF1\u001b[1;34m(SGCL)\u001b[0m\n",
      "\u001b[1;31mKeyError\u001b[0m: None"
     ]
    },
    {
     "ename": "KeyError",
     "evalue": "None",
     "output_type": "error",
     "traceback": [
      "\u001b[1;31m---------------------------------------------------------------------------\u001b[0m",
      "\u001b[1;31mKeyError\u001b[0m                                  Traceback (most recent call last)",
      "\u001b[1;32m<expression>\u001b[0m in \u001b[0;36m<module>\u001b[1;34m()\u001b[0m\n",
      "\u001b[1;32m<string>\u001b[0m in \u001b[0;36mCalcF1\u001b[1;34m(SGCL)\u001b[0m\n",
      "\u001b[1;31mKeyError\u001b[0m: None"
     ]
    },
    {
     "ename": "KeyError",
     "evalue": "None",
     "output_type": "error",
     "traceback": [
      "\u001b[1;31m---------------------------------------------------------------------------\u001b[0m",
      "\u001b[1;31mKeyError\u001b[0m                                  Traceback (most recent call last)",
      "\u001b[1;32m<expression>\u001b[0m in \u001b[0;36m<module>\u001b[1;34m()\u001b[0m\n",
      "\u001b[1;32m<string>\u001b[0m in \u001b[0;36mCalcF1\u001b[1;34m(SGCL)\u001b[0m\n",
      "\u001b[1;31mKeyError\u001b[0m: None"
     ]
    },
    {
     "ename": "KeyError",
     "evalue": "None",
     "output_type": "error",
     "traceback": [
      "\u001b[1;31m---------------------------------------------------------------------------\u001b[0m",
      "\u001b[1;31mKeyError\u001b[0m                                  Traceback (most recent call last)",
      "\u001b[1;32m<expression>\u001b[0m in \u001b[0;36m<module>\u001b[1;34m()\u001b[0m\n",
      "\u001b[1;32m<string>\u001b[0m in \u001b[0;36mCalcF1\u001b[1;34m(SGCL)\u001b[0m\n",
      "\u001b[1;31mKeyError\u001b[0m: None"
     ]
    },
    {
     "ename": "KeyError",
     "evalue": "None",
     "output_type": "error",
     "traceback": [
      "\u001b[1;31m---------------------------------------------------------------------------\u001b[0m",
      "\u001b[1;31mKeyError\u001b[0m                                  Traceback (most recent call last)",
      "\u001b[1;32m<expression>\u001b[0m in \u001b[0;36m<module>\u001b[1;34m()\u001b[0m\n",
      "\u001b[1;32m<string>\u001b[0m in \u001b[0;36mCalcF1\u001b[1;34m(SGCL)\u001b[0m\n",
      "\u001b[1;31mKeyError\u001b[0m: None"
     ]
    },
    {
     "ename": "KeyError",
     "evalue": "None",
     "output_type": "error",
     "traceback": [
      "\u001b[1;31m---------------------------------------------------------------------------\u001b[0m",
      "\u001b[1;31mKeyError\u001b[0m                                  Traceback (most recent call last)",
      "\u001b[1;32m<expression>\u001b[0m in \u001b[0;36m<module>\u001b[1;34m()\u001b[0m\n",
      "\u001b[1;32m<string>\u001b[0m in \u001b[0;36mCalcF1\u001b[1;34m(SGCL)\u001b[0m\n",
      "\u001b[1;31mKeyError\u001b[0m: None"
     ]
    },
    {
     "ename": "KeyError",
     "evalue": "None",
     "output_type": "error",
     "traceback": [
      "\u001b[1;31m---------------------------------------------------------------------------\u001b[0m",
      "\u001b[1;31mKeyError\u001b[0m                                  Traceback (most recent call last)",
      "\u001b[1;32m<expression>\u001b[0m in \u001b[0;36m<module>\u001b[1;34m()\u001b[0m\n",
      "\u001b[1;32m<string>\u001b[0m in \u001b[0;36mCalcF1\u001b[1;34m(SGCL)\u001b[0m\n",
      "\u001b[1;31mKeyError\u001b[0m: None"
     ]
    },
    {
     "ename": "KeyError",
     "evalue": "None",
     "output_type": "error",
     "traceback": [
      "\u001b[1;31m---------------------------------------------------------------------------\u001b[0m",
      "\u001b[1;31mKeyError\u001b[0m                                  Traceback (most recent call last)",
      "\u001b[1;32m<expression>\u001b[0m in \u001b[0;36m<module>\u001b[1;34m()\u001b[0m\n",
      "\u001b[1;32m<string>\u001b[0m in \u001b[0;36mCalcF1\u001b[1;34m(SGCL)\u001b[0m\n",
      "\u001b[1;31mKeyError\u001b[0m: None"
     ]
    },
    {
     "ename": "KeyError",
     "evalue": "None",
     "output_type": "error",
     "traceback": [
      "\u001b[1;31m---------------------------------------------------------------------------\u001b[0m",
      "\u001b[1;31mKeyError\u001b[0m                                  Traceback (most recent call last)",
      "\u001b[1;32m<expression>\u001b[0m in \u001b[0;36m<module>\u001b[1;34m()\u001b[0m\n",
      "\u001b[1;32m<string>\u001b[0m in \u001b[0;36mCalcF1\u001b[1;34m(SGCL)\u001b[0m\n",
      "\u001b[1;31mKeyError\u001b[0m: None"
     ]
    },
    {
     "ename": "KeyError",
     "evalue": "None",
     "output_type": "error",
     "traceback": [
      "\u001b[1;31m---------------------------------------------------------------------------\u001b[0m",
      "\u001b[1;31mKeyError\u001b[0m                                  Traceback (most recent call last)",
      "\u001b[1;32m<expression>\u001b[0m in \u001b[0;36m<module>\u001b[1;34m()\u001b[0m\n",
      "\u001b[1;32m<string>\u001b[0m in \u001b[0;36mCalcF1\u001b[1;34m(SGCL)\u001b[0m\n",
      "\u001b[1;31mKeyError\u001b[0m: None"
     ]
    },
    {
     "ename": "KeyError",
     "evalue": "None",
     "output_type": "error",
     "traceback": [
      "\u001b[1;31m---------------------------------------------------------------------------\u001b[0m",
      "\u001b[1;31mKeyError\u001b[0m                                  Traceback (most recent call last)",
      "\u001b[1;32m<expression>\u001b[0m in \u001b[0;36m<module>\u001b[1;34m()\u001b[0m\n",
      "\u001b[1;32m<string>\u001b[0m in \u001b[0;36mCalcF1\u001b[1;34m(SGCL)\u001b[0m\n",
      "\u001b[1;31mKeyError\u001b[0m: None"
     ]
    },
    {
     "ename": "KeyError",
     "evalue": "None",
     "output_type": "error",
     "traceback": [
      "\u001b[1;31m---------------------------------------------------------------------------\u001b[0m",
      "\u001b[1;31mKeyError\u001b[0m                                  Traceback (most recent call last)",
      "\u001b[1;32m<expression>\u001b[0m in \u001b[0;36m<module>\u001b[1;34m()\u001b[0m\n",
      "\u001b[1;32m<string>\u001b[0m in \u001b[0;36mCalcF1\u001b[1;34m(SGCL)\u001b[0m\n",
      "\u001b[1;31mKeyError\u001b[0m: None"
     ]
    },
    {
     "ename": "KeyError",
     "evalue": "None",
     "output_type": "error",
     "traceback": [
      "\u001b[1;31m---------------------------------------------------------------------------\u001b[0m",
      "\u001b[1;31mKeyError\u001b[0m                                  Traceback (most recent call last)",
      "\u001b[1;32m<expression>\u001b[0m in \u001b[0;36m<module>\u001b[1;34m()\u001b[0m\n",
      "\u001b[1;32m<string>\u001b[0m in \u001b[0;36mCalcF1\u001b[1;34m(SGCL)\u001b[0m\n",
      "\u001b[1;31mKeyError\u001b[0m: None"
     ]
    },
    {
     "ename": "KeyError",
     "evalue": "None",
     "output_type": "error",
     "traceback": [
      "\u001b[1;31m---------------------------------------------------------------------------\u001b[0m",
      "\u001b[1;31mKeyError\u001b[0m                                  Traceback (most recent call last)",
      "\u001b[1;32m<expression>\u001b[0m in \u001b[0;36m<module>\u001b[1;34m()\u001b[0m\n",
      "\u001b[1;32m<string>\u001b[0m in \u001b[0;36mCalcF1\u001b[1;34m(SGCL)\u001b[0m\n",
      "\u001b[1;31mKeyError\u001b[0m: None"
     ]
    },
    {
     "ename": "KeyError",
     "evalue": "None",
     "output_type": "error",
     "traceback": [
      "\u001b[1;31m---------------------------------------------------------------------------\u001b[0m",
      "\u001b[1;31mKeyError\u001b[0m                                  Traceback (most recent call last)",
      "\u001b[1;32m<expression>\u001b[0m in \u001b[0;36m<module>\u001b[1;34m()\u001b[0m\n",
      "\u001b[1;32m<string>\u001b[0m in \u001b[0;36mCalcF1\u001b[1;34m(SGCL)\u001b[0m\n",
      "\u001b[1;31mKeyError\u001b[0m: None"
     ]
    },
    {
     "ename": "KeyError",
     "evalue": "None",
     "output_type": "error",
     "traceback": [
      "\u001b[1;31m---------------------------------------------------------------------------\u001b[0m",
      "\u001b[1;31mKeyError\u001b[0m                                  Traceback (most recent call last)",
      "\u001b[1;32m<expression>\u001b[0m in \u001b[0;36m<module>\u001b[1;34m()\u001b[0m\n",
      "\u001b[1;32m<string>\u001b[0m in \u001b[0;36mCalcF1\u001b[1;34m(SGCL)\u001b[0m\n",
      "\u001b[1;31mKeyError\u001b[0m: None"
     ]
    },
    {
     "ename": "KeyError",
     "evalue": "None",
     "output_type": "error",
     "traceback": [
      "\u001b[1;31m---------------------------------------------------------------------------\u001b[0m",
      "\u001b[1;31mKeyError\u001b[0m                                  Traceback (most recent call last)",
      "\u001b[1;32m<expression>\u001b[0m in \u001b[0;36m<module>\u001b[1;34m()\u001b[0m\n",
      "\u001b[1;32m<string>\u001b[0m in \u001b[0;36mCalcF1\u001b[1;34m(SGCL)\u001b[0m\n",
      "\u001b[1;31mKeyError\u001b[0m: None"
     ]
    },
    {
     "ename": "KeyError",
     "evalue": "None",
     "output_type": "error",
     "traceback": [
      "\u001b[1;31m---------------------------------------------------------------------------\u001b[0m",
      "\u001b[1;31mKeyError\u001b[0m                                  Traceback (most recent call last)",
      "\u001b[1;32m<expression>\u001b[0m in \u001b[0;36m<module>\u001b[1;34m()\u001b[0m\n",
      "\u001b[1;32m<string>\u001b[0m in \u001b[0;36mCalcF1\u001b[1;34m(SGCL)\u001b[0m\n",
      "\u001b[1;31mKeyError\u001b[0m: None"
     ]
    },
    {
     "ename": "KeyError",
     "evalue": "None",
     "output_type": "error",
     "traceback": [
      "\u001b[1;31m---------------------------------------------------------------------------\u001b[0m",
      "\u001b[1;31mKeyError\u001b[0m                                  Traceback (most recent call last)",
      "\u001b[1;32m<expression>\u001b[0m in \u001b[0;36m<module>\u001b[1;34m()\u001b[0m\n",
      "\u001b[1;32m<string>\u001b[0m in \u001b[0;36mCalcF1\u001b[1;34m(SGCL)\u001b[0m\n",
      "\u001b[1;31mKeyError\u001b[0m: None"
     ]
    },
    {
     "ename": "KeyError",
     "evalue": "None",
     "output_type": "error",
     "traceback": [
      "\u001b[1;31m---------------------------------------------------------------------------\u001b[0m",
      "\u001b[1;31mKeyError\u001b[0m                                  Traceback (most recent call last)",
      "\u001b[1;32m<expression>\u001b[0m in \u001b[0;36m<module>\u001b[1;34m()\u001b[0m\n",
      "\u001b[1;32m<string>\u001b[0m in \u001b[0;36mCalcF1\u001b[1;34m(SGCL)\u001b[0m\n",
      "\u001b[1;31mKeyError\u001b[0m: None"
     ]
    },
    {
     "ename": "KeyError",
     "evalue": "None",
     "output_type": "error",
     "traceback": [
      "\u001b[1;31m---------------------------------------------------------------------------\u001b[0m",
      "\u001b[1;31mKeyError\u001b[0m                                  Traceback (most recent call last)",
      "\u001b[1;32m<expression>\u001b[0m in \u001b[0;36m<module>\u001b[1;34m()\u001b[0m\n",
      "\u001b[1;32m<string>\u001b[0m in \u001b[0;36mCalcF1\u001b[1;34m(SGCL)\u001b[0m\n",
      "\u001b[1;31mKeyError\u001b[0m: None"
     ]
    },
    {
     "ename": "KeyError",
     "evalue": "None",
     "output_type": "error",
     "traceback": [
      "\u001b[1;31m---------------------------------------------------------------------------\u001b[0m",
      "\u001b[1;31mKeyError\u001b[0m                                  Traceback (most recent call last)",
      "\u001b[1;32m<expression>\u001b[0m in \u001b[0;36m<module>\u001b[1;34m()\u001b[0m\n",
      "\u001b[1;32m<string>\u001b[0m in \u001b[0;36mCalcF1\u001b[1;34m(SGCL)\u001b[0m\n",
      "\u001b[1;31mKeyError\u001b[0m: None"
     ]
    },
    {
     "ename": "KeyError",
     "evalue": "None",
     "output_type": "error",
     "traceback": [
      "\u001b[1;31m---------------------------------------------------------------------------\u001b[0m",
      "\u001b[1;31mKeyError\u001b[0m                                  Traceback (most recent call last)",
      "\u001b[1;32m<expression>\u001b[0m in \u001b[0;36m<module>\u001b[1;34m()\u001b[0m\n",
      "\u001b[1;32m<string>\u001b[0m in \u001b[0;36mCalcF1\u001b[1;34m(SGCL)\u001b[0m\n",
      "\u001b[1;31mKeyError\u001b[0m: None"
     ]
    },
    {
     "ename": "KeyError",
     "evalue": "None",
     "output_type": "error",
     "traceback": [
      "\u001b[1;31m---------------------------------------------------------------------------\u001b[0m",
      "\u001b[1;31mKeyError\u001b[0m                                  Traceback (most recent call last)",
      "\u001b[1;32m<expression>\u001b[0m in \u001b[0;36m<module>\u001b[1;34m()\u001b[0m\n",
      "\u001b[1;32m<string>\u001b[0m in \u001b[0;36mCalcF1\u001b[1;34m(SGCL)\u001b[0m\n",
      "\u001b[1;31mKeyError\u001b[0m: None"
     ]
    },
    {
     "ename": "KeyError",
     "evalue": "None",
     "output_type": "error",
     "traceback": [
      "\u001b[1;31m---------------------------------------------------------------------------\u001b[0m",
      "\u001b[1;31mKeyError\u001b[0m                                  Traceback (most recent call last)",
      "\u001b[1;32m<expression>\u001b[0m in \u001b[0;36m<module>\u001b[1;34m()\u001b[0m\n",
      "\u001b[1;32m<string>\u001b[0m in \u001b[0;36mCalcF1\u001b[1;34m(SGCL)\u001b[0m\n",
      "\u001b[1;31mKeyError\u001b[0m: None"
     ]
    },
    {
     "ename": "KeyError",
     "evalue": "None",
     "output_type": "error",
     "traceback": [
      "\u001b[1;31m---------------------------------------------------------------------------\u001b[0m",
      "\u001b[1;31mKeyError\u001b[0m                                  Traceback (most recent call last)",
      "\u001b[1;32m<expression>\u001b[0m in \u001b[0;36m<module>\u001b[1;34m()\u001b[0m\n",
      "\u001b[1;32m<string>\u001b[0m in \u001b[0;36mCalcF1\u001b[1;34m(SGCL)\u001b[0m\n",
      "\u001b[1;31mKeyError\u001b[0m: None"
     ]
    },
    {
     "ename": "KeyError",
     "evalue": "None",
     "output_type": "error",
     "traceback": [
      "\u001b[1;31m---------------------------------------------------------------------------\u001b[0m",
      "\u001b[1;31mKeyError\u001b[0m                                  Traceback (most recent call last)",
      "\u001b[1;32m<expression>\u001b[0m in \u001b[0;36m<module>\u001b[1;34m()\u001b[0m\n",
      "\u001b[1;32m<string>\u001b[0m in \u001b[0;36mCalcF1\u001b[1;34m(SGCL)\u001b[0m\n",
      "\u001b[1;31mKeyError\u001b[0m: None"
     ]
    },
    {
     "ename": "KeyError",
     "evalue": "None",
     "output_type": "error",
     "traceback": [
      "\u001b[1;31m---------------------------------------------------------------------------\u001b[0m",
      "\u001b[1;31mKeyError\u001b[0m                                  Traceback (most recent call last)",
      "\u001b[1;32m<expression>\u001b[0m in \u001b[0;36m<module>\u001b[1;34m()\u001b[0m\n",
      "\u001b[1;32m<string>\u001b[0m in \u001b[0;36mCalcF1\u001b[1;34m(SGCL)\u001b[0m\n",
      "\u001b[1;31mKeyError\u001b[0m: None"
     ]
    },
    {
     "ename": "KeyError",
     "evalue": "None",
     "output_type": "error",
     "traceback": [
      "\u001b[1;31m---------------------------------------------------------------------------\u001b[0m",
      "\u001b[1;31mKeyError\u001b[0m                                  Traceback (most recent call last)",
      "\u001b[1;32m<expression>\u001b[0m in \u001b[0;36m<module>\u001b[1;34m()\u001b[0m\n",
      "\u001b[1;32m<string>\u001b[0m in \u001b[0;36mCalcF1\u001b[1;34m(SGCL)\u001b[0m\n",
      "\u001b[1;31mKeyError\u001b[0m: None"
     ]
    },
    {
     "ename": "KeyError",
     "evalue": "None",
     "output_type": "error",
     "traceback": [
      "\u001b[1;31m---------------------------------------------------------------------------\u001b[0m",
      "\u001b[1;31mKeyError\u001b[0m                                  Traceback (most recent call last)",
      "\u001b[1;32m<expression>\u001b[0m in \u001b[0;36m<module>\u001b[1;34m()\u001b[0m\n",
      "\u001b[1;32m<string>\u001b[0m in \u001b[0;36mCalcF1\u001b[1;34m(SGCL)\u001b[0m\n",
      "\u001b[1;31mKeyError\u001b[0m: None"
     ]
    },
    {
     "ename": "KeyError",
     "evalue": "None",
     "output_type": "error",
     "traceback": [
      "\u001b[1;31m---------------------------------------------------------------------------\u001b[0m",
      "\u001b[1;31mKeyError\u001b[0m                                  Traceback (most recent call last)",
      "\u001b[1;32m<expression>\u001b[0m in \u001b[0;36m<module>\u001b[1;34m()\u001b[0m\n",
      "\u001b[1;32m<string>\u001b[0m in \u001b[0;36mCalcF1\u001b[1;34m(SGCL)\u001b[0m\n",
      "\u001b[1;31mKeyError\u001b[0m: None"
     ]
    },
    {
     "ename": "KeyError",
     "evalue": "None",
     "output_type": "error",
     "traceback": [
      "\u001b[1;31m---------------------------------------------------------------------------\u001b[0m",
      "\u001b[1;31mKeyError\u001b[0m                                  Traceback (most recent call last)",
      "\u001b[1;32m<expression>\u001b[0m in \u001b[0;36m<module>\u001b[1;34m()\u001b[0m\n",
      "\u001b[1;32m<string>\u001b[0m in \u001b[0;36mCalcF1\u001b[1;34m(SGCL)\u001b[0m\n",
      "\u001b[1;31mKeyError\u001b[0m: None"
     ]
    },
    {
     "ename": "KeyError",
     "evalue": "None",
     "output_type": "error",
     "traceback": [
      "\u001b[1;31m---------------------------------------------------------------------------\u001b[0m",
      "\u001b[1;31mKeyError\u001b[0m                                  Traceback (most recent call last)",
      "\u001b[1;32m<expression>\u001b[0m in \u001b[0;36m<module>\u001b[1;34m()\u001b[0m\n",
      "\u001b[1;32m<string>\u001b[0m in \u001b[0;36mCalcF1\u001b[1;34m(SGCL)\u001b[0m\n",
      "\u001b[1;31mKeyError\u001b[0m: None"
     ]
    },
    {
     "ename": "KeyError",
     "evalue": "None",
     "output_type": "error",
     "traceback": [
      "\u001b[1;31m---------------------------------------------------------------------------\u001b[0m",
      "\u001b[1;31mKeyError\u001b[0m                                  Traceback (most recent call last)",
      "\u001b[1;32m<expression>\u001b[0m in \u001b[0;36m<module>\u001b[1;34m()\u001b[0m\n",
      "\u001b[1;32m<string>\u001b[0m in \u001b[0;36mCalcF1\u001b[1;34m(SGCL)\u001b[0m\n",
      "\u001b[1;31mKeyError\u001b[0m: None"
     ]
    },
    {
     "ename": "KeyError",
     "evalue": "None",
     "output_type": "error",
     "traceback": [
      "\u001b[1;31m---------------------------------------------------------------------------\u001b[0m",
      "\u001b[1;31mKeyError\u001b[0m                                  Traceback (most recent call last)",
      "\u001b[1;32m<expression>\u001b[0m in \u001b[0;36m<module>\u001b[1;34m()\u001b[0m\n",
      "\u001b[1;32m<string>\u001b[0m in \u001b[0;36mCalcF1\u001b[1;34m(SGCL)\u001b[0m\n",
      "\u001b[1;31mKeyError\u001b[0m: None"
     ]
    },
    {
     "ename": "KeyError",
     "evalue": "None",
     "output_type": "error",
     "traceback": [
      "\u001b[1;31m---------------------------------------------------------------------------\u001b[0m",
      "\u001b[1;31mKeyError\u001b[0m                                  Traceback (most recent call last)",
      "\u001b[1;32m<expression>\u001b[0m in \u001b[0;36m<module>\u001b[1;34m()\u001b[0m\n",
      "\u001b[1;32m<string>\u001b[0m in \u001b[0;36mCalcF1\u001b[1;34m(SGCL)\u001b[0m\n",
      "\u001b[1;31mKeyError\u001b[0m: None"
     ]
    },
    {
     "ename": "KeyError",
     "evalue": "None",
     "output_type": "error",
     "traceback": [
      "\u001b[1;31m---------------------------------------------------------------------------\u001b[0m",
      "\u001b[1;31mKeyError\u001b[0m                                  Traceback (most recent call last)",
      "\u001b[1;32m<expression>\u001b[0m in \u001b[0;36m<module>\u001b[1;34m()\u001b[0m\n",
      "\u001b[1;32m<string>\u001b[0m in \u001b[0;36mCalcF1\u001b[1;34m(SGCL)\u001b[0m\n",
      "\u001b[1;31mKeyError\u001b[0m: None"
     ]
    },
    {
     "ename": "KeyError",
     "evalue": "None",
     "output_type": "error",
     "traceback": [
      "\u001b[1;31m---------------------------------------------------------------------------\u001b[0m",
      "\u001b[1;31mKeyError\u001b[0m                                  Traceback (most recent call last)",
      "\u001b[1;32m<expression>\u001b[0m in \u001b[0;36m<module>\u001b[1;34m()\u001b[0m\n",
      "\u001b[1;32m<string>\u001b[0m in \u001b[0;36mCalcF1\u001b[1;34m(SGCL)\u001b[0m\n",
      "\u001b[1;31mKeyError\u001b[0m: None"
     ]
    },
    {
     "ename": "KeyError",
     "evalue": "None",
     "output_type": "error",
     "traceback": [
      "\u001b[1;31m---------------------------------------------------------------------------\u001b[0m",
      "\u001b[1;31mKeyError\u001b[0m                                  Traceback (most recent call last)",
      "\u001b[1;32m<expression>\u001b[0m in \u001b[0;36m<module>\u001b[1;34m()\u001b[0m\n",
      "\u001b[1;32m<string>\u001b[0m in \u001b[0;36mCalcF1\u001b[1;34m(SGCL)\u001b[0m\n",
      "\u001b[1;31mKeyError\u001b[0m: None"
     ]
    },
    {
     "ename": "KeyError",
     "evalue": "None",
     "output_type": "error",
     "traceback": [
      "\u001b[1;31m---------------------------------------------------------------------------\u001b[0m",
      "\u001b[1;31mKeyError\u001b[0m                                  Traceback (most recent call last)",
      "\u001b[1;32m<expression>\u001b[0m in \u001b[0;36m<module>\u001b[1;34m()\u001b[0m\n",
      "\u001b[1;32m<string>\u001b[0m in \u001b[0;36mCalcF1\u001b[1;34m(SGCL)\u001b[0m\n",
      "\u001b[1;31mKeyError\u001b[0m: None"
     ]
    },
    {
     "ename": "KeyError",
     "evalue": "None",
     "output_type": "error",
     "traceback": [
      "\u001b[1;31m---------------------------------------------------------------------------\u001b[0m",
      "\u001b[1;31mKeyError\u001b[0m                                  Traceback (most recent call last)",
      "\u001b[1;32m<expression>\u001b[0m in \u001b[0;36m<module>\u001b[1;34m()\u001b[0m\n",
      "\u001b[1;32m<string>\u001b[0m in \u001b[0;36mCalcF1\u001b[1;34m(SGCL)\u001b[0m\n",
      "\u001b[1;31mKeyError\u001b[0m: None"
     ]
    },
    {
     "ename": "KeyError",
     "evalue": "None",
     "output_type": "error",
     "traceback": [
      "\u001b[1;31m---------------------------------------------------------------------------\u001b[0m",
      "\u001b[1;31mKeyError\u001b[0m                                  Traceback (most recent call last)",
      "\u001b[1;32m<expression>\u001b[0m in \u001b[0;36m<module>\u001b[1;34m()\u001b[0m\n",
      "\u001b[1;32m<string>\u001b[0m in \u001b[0;36mCalcF1\u001b[1;34m(SGCL)\u001b[0m\n",
      "\u001b[1;31mKeyError\u001b[0m: None"
     ]
    },
    {
     "ename": "KeyError",
     "evalue": "None",
     "output_type": "error",
     "traceback": [
      "\u001b[1;31m---------------------------------------------------------------------------\u001b[0m",
      "\u001b[1;31mKeyError\u001b[0m                                  Traceback (most recent call last)",
      "\u001b[1;32m<expression>\u001b[0m in \u001b[0;36m<module>\u001b[1;34m()\u001b[0m\n",
      "\u001b[1;32m<string>\u001b[0m in \u001b[0;36mCalcF1\u001b[1;34m(SGCL)\u001b[0m\n",
      "\u001b[1;31mKeyError\u001b[0m: None"
     ]
    },
    {
     "ename": "KeyError",
     "evalue": "None",
     "output_type": "error",
     "traceback": [
      "\u001b[1;31m---------------------------------------------------------------------------\u001b[0m",
      "\u001b[1;31mKeyError\u001b[0m                                  Traceback (most recent call last)",
      "\u001b[1;32m<expression>\u001b[0m in \u001b[0;36m<module>\u001b[1;34m()\u001b[0m\n",
      "\u001b[1;32m<string>\u001b[0m in \u001b[0;36mCalcF1\u001b[1;34m(SGCL)\u001b[0m\n",
      "\u001b[1;31mKeyError\u001b[0m: None"
     ]
    },
    {
     "ename": "KeyError",
     "evalue": "None",
     "output_type": "error",
     "traceback": [
      "\u001b[1;31m---------------------------------------------------------------------------\u001b[0m",
      "\u001b[1;31mKeyError\u001b[0m                                  Traceback (most recent call last)",
      "\u001b[1;32m<expression>\u001b[0m in \u001b[0;36m<module>\u001b[1;34m()\u001b[0m\n",
      "\u001b[1;32m<string>\u001b[0m in \u001b[0;36mCalcF1\u001b[1;34m(SGCL)\u001b[0m\n",
      "\u001b[1;31mKeyError\u001b[0m: None"
     ]
    },
    {
     "ename": "KeyError",
     "evalue": "None",
     "output_type": "error",
     "traceback": [
      "\u001b[1;31m---------------------------------------------------------------------------\u001b[0m",
      "\u001b[1;31mKeyError\u001b[0m                                  Traceback (most recent call last)",
      "\u001b[1;32m<expression>\u001b[0m in \u001b[0;36m<module>\u001b[1;34m()\u001b[0m\n",
      "\u001b[1;32m<string>\u001b[0m in \u001b[0;36mCalcF1\u001b[1;34m(SGCL)\u001b[0m\n",
      "\u001b[1;31mKeyError\u001b[0m: None"
     ]
    },
    {
     "ename": "KeyError",
     "evalue": "None",
     "output_type": "error",
     "traceback": [
      "\u001b[1;31m---------------------------------------------------------------------------\u001b[0m",
      "\u001b[1;31mKeyError\u001b[0m                                  Traceback (most recent call last)",
      "\u001b[1;32m<expression>\u001b[0m in \u001b[0;36m<module>\u001b[1;34m()\u001b[0m\n",
      "\u001b[1;32m<string>\u001b[0m in \u001b[0;36mCalcF1\u001b[1;34m(SGCL)\u001b[0m\n",
      "\u001b[1;31mKeyError\u001b[0m: None"
     ]
    },
    {
     "ename": "KeyError",
     "evalue": "None",
     "output_type": "error",
     "traceback": [
      "\u001b[1;31m---------------------------------------------------------------------------\u001b[0m",
      "\u001b[1;31mKeyError\u001b[0m                                  Traceback (most recent call last)",
      "\u001b[1;32m<expression>\u001b[0m in \u001b[0;36m<module>\u001b[1;34m()\u001b[0m\n",
      "\u001b[1;32m<string>\u001b[0m in \u001b[0;36mCalcF1\u001b[1;34m(SGCL)\u001b[0m\n",
      "\u001b[1;31mKeyError\u001b[0m: None"
     ]
    },
    {
     "ename": "KeyError",
     "evalue": "None",
     "output_type": "error",
     "traceback": [
      "\u001b[1;31m---------------------------------------------------------------------------\u001b[0m",
      "\u001b[1;31mKeyError\u001b[0m                                  Traceback (most recent call last)",
      "\u001b[1;32m<expression>\u001b[0m in \u001b[0;36m<module>\u001b[1;34m()\u001b[0m\n",
      "\u001b[1;32m<string>\u001b[0m in \u001b[0;36mCalcF1\u001b[1;34m(SGCL)\u001b[0m\n",
      "\u001b[1;31mKeyError\u001b[0m: None"
     ]
    },
    {
     "ename": "KeyError",
     "evalue": "None",
     "output_type": "error",
     "traceback": [
      "\u001b[1;31m---------------------------------------------------------------------------\u001b[0m",
      "\u001b[1;31mKeyError\u001b[0m                                  Traceback (most recent call last)",
      "\u001b[1;32m<expression>\u001b[0m in \u001b[0;36m<module>\u001b[1;34m()\u001b[0m\n",
      "\u001b[1;32m<string>\u001b[0m in \u001b[0;36mCalcF1\u001b[1;34m(SGCL)\u001b[0m\n",
      "\u001b[1;31mKeyError\u001b[0m: None"
     ]
    },
    {
     "ename": "KeyError",
     "evalue": "None",
     "output_type": "error",
     "traceback": [
      "\u001b[1;31m---------------------------------------------------------------------------\u001b[0m",
      "\u001b[1;31mKeyError\u001b[0m                                  Traceback (most recent call last)",
      "\u001b[1;32m<expression>\u001b[0m in \u001b[0;36m<module>\u001b[1;34m()\u001b[0m\n",
      "\u001b[1;32m<string>\u001b[0m in \u001b[0;36mCalcF1\u001b[1;34m(SGCL)\u001b[0m\n",
      "\u001b[1;31mKeyError\u001b[0m: None"
     ]
    },
    {
     "ename": "KeyError",
     "evalue": "None",
     "output_type": "error",
     "traceback": [
      "\u001b[1;31m---------------------------------------------------------------------------\u001b[0m",
      "\u001b[1;31mKeyError\u001b[0m                                  Traceback (most recent call last)",
      "\u001b[1;32m<expression>\u001b[0m in \u001b[0;36m<module>\u001b[1;34m()\u001b[0m\n",
      "\u001b[1;32m<string>\u001b[0m in \u001b[0;36mCalcF1\u001b[1;34m(SGCL)\u001b[0m\n",
      "\u001b[1;31mKeyError\u001b[0m: None"
     ]
    },
    {
     "ename": "KeyError",
     "evalue": "None",
     "output_type": "error",
     "traceback": [
      "\u001b[1;31m---------------------------------------------------------------------------\u001b[0m",
      "\u001b[1;31mKeyError\u001b[0m                                  Traceback (most recent call last)",
      "\u001b[1;32m<expression>\u001b[0m in \u001b[0;36m<module>\u001b[1;34m()\u001b[0m\n",
      "\u001b[1;32m<string>\u001b[0m in \u001b[0;36mCalcF1\u001b[1;34m(SGCL)\u001b[0m\n",
      "\u001b[1;31mKeyError\u001b[0m: None"
     ]
    },
    {
     "ename": "KeyError",
     "evalue": "None",
     "output_type": "error",
     "traceback": [
      "\u001b[1;31m---------------------------------------------------------------------------\u001b[0m",
      "\u001b[1;31mKeyError\u001b[0m                                  Traceback (most recent call last)",
      "\u001b[1;32m<expression>\u001b[0m in \u001b[0;36m<module>\u001b[1;34m()\u001b[0m\n",
      "\u001b[1;32m<string>\u001b[0m in \u001b[0;36mCalcF1\u001b[1;34m(SGCL)\u001b[0m\n",
      "\u001b[1;31mKeyError\u001b[0m: None"
     ]
    },
    {
     "ename": "KeyError",
     "evalue": "None",
     "output_type": "error",
     "traceback": [
      "\u001b[1;31m---------------------------------------------------------------------------\u001b[0m",
      "\u001b[1;31mKeyError\u001b[0m                                  Traceback (most recent call last)",
      "\u001b[1;32m<expression>\u001b[0m in \u001b[0;36m<module>\u001b[1;34m()\u001b[0m\n",
      "\u001b[1;32m<string>\u001b[0m in \u001b[0;36mCalcF1\u001b[1;34m(SGCL)\u001b[0m\n",
      "\u001b[1;31mKeyError\u001b[0m: None"
     ]
    },
    {
     "ename": "KeyError",
     "evalue": "None",
     "output_type": "error",
     "traceback": [
      "\u001b[1;31m---------------------------------------------------------------------------\u001b[0m",
      "\u001b[1;31mKeyError\u001b[0m                                  Traceback (most recent call last)",
      "\u001b[1;32m<expression>\u001b[0m in \u001b[0;36m<module>\u001b[1;34m()\u001b[0m\n",
      "\u001b[1;32m<string>\u001b[0m in \u001b[0;36mCalcF1\u001b[1;34m(SGCL)\u001b[0m\n",
      "\u001b[1;31mKeyError\u001b[0m: None"
     ]
    },
    {
     "ename": "KeyError",
     "evalue": "None",
     "output_type": "error",
     "traceback": [
      "\u001b[1;31m---------------------------------------------------------------------------\u001b[0m",
      "\u001b[1;31mKeyError\u001b[0m                                  Traceback (most recent call last)",
      "\u001b[1;32m<expression>\u001b[0m in \u001b[0;36m<module>\u001b[1;34m()\u001b[0m\n",
      "\u001b[1;32m<string>\u001b[0m in \u001b[0;36mCalcF1\u001b[1;34m(SGCL)\u001b[0m\n",
      "\u001b[1;31mKeyError\u001b[0m: None"
     ]
    },
    {
     "ename": "KeyError",
     "evalue": "None",
     "output_type": "error",
     "traceback": [
      "\u001b[1;31m---------------------------------------------------------------------------\u001b[0m",
      "\u001b[1;31mKeyError\u001b[0m                                  Traceback (most recent call last)",
      "\u001b[1;32m<expression>\u001b[0m in \u001b[0;36m<module>\u001b[1;34m()\u001b[0m\n",
      "\u001b[1;32m<string>\u001b[0m in \u001b[0;36mCalcF1\u001b[1;34m(SGCL)\u001b[0m\n",
      "\u001b[1;31mKeyError\u001b[0m: None"
     ]
    },
    {
     "ename": "KeyError",
     "evalue": "None",
     "output_type": "error",
     "traceback": [
      "\u001b[1;31m---------------------------------------------------------------------------\u001b[0m",
      "\u001b[1;31mKeyError\u001b[0m                                  Traceback (most recent call last)",
      "\u001b[1;32m<expression>\u001b[0m in \u001b[0;36m<module>\u001b[1;34m()\u001b[0m\n",
      "\u001b[1;32m<string>\u001b[0m in \u001b[0;36mCalcF1\u001b[1;34m(SGCL)\u001b[0m\n",
      "\u001b[1;31mKeyError\u001b[0m: None"
     ]
    },
    {
     "ename": "KeyError",
     "evalue": "None",
     "output_type": "error",
     "traceback": [
      "\u001b[1;31m---------------------------------------------------------------------------\u001b[0m",
      "\u001b[1;31mKeyError\u001b[0m                                  Traceback (most recent call last)",
      "\u001b[1;32m<expression>\u001b[0m in \u001b[0;36m<module>\u001b[1;34m()\u001b[0m\n",
      "\u001b[1;32m<string>\u001b[0m in \u001b[0;36mCalcF1\u001b[1;34m(SGCL)\u001b[0m\n",
      "\u001b[1;31mKeyError\u001b[0m: None"
     ]
    },
    {
     "ename": "KeyError",
     "evalue": "None",
     "output_type": "error",
     "traceback": [
      "\u001b[1;31m---------------------------------------------------------------------------\u001b[0m",
      "\u001b[1;31mKeyError\u001b[0m                                  Traceback (most recent call last)",
      "\u001b[1;32m<expression>\u001b[0m in \u001b[0;36m<module>\u001b[1;34m()\u001b[0m\n",
      "\u001b[1;32m<string>\u001b[0m in \u001b[0;36mCalcF1\u001b[1;34m(SGCL)\u001b[0m\n",
      "\u001b[1;31mKeyError\u001b[0m: None"
     ]
    },
    {
     "ename": "KeyError",
     "evalue": "None",
     "output_type": "error",
     "traceback": [
      "\u001b[1;31m---------------------------------------------------------------------------\u001b[0m",
      "\u001b[1;31mKeyError\u001b[0m                                  Traceback (most recent call last)",
      "\u001b[1;32m<expression>\u001b[0m in \u001b[0;36m<module>\u001b[1;34m()\u001b[0m\n",
      "\u001b[1;32m<string>\u001b[0m in \u001b[0;36mCalcF1\u001b[1;34m(SGCL)\u001b[0m\n",
      "\u001b[1;31mKeyError\u001b[0m: None"
     ]
    },
    {
     "ename": "KeyError",
     "evalue": "None",
     "output_type": "error",
     "traceback": [
      "\u001b[1;31m---------------------------------------------------------------------------\u001b[0m",
      "\u001b[1;31mKeyError\u001b[0m                                  Traceback (most recent call last)",
      "\u001b[1;32m<expression>\u001b[0m in \u001b[0;36m<module>\u001b[1;34m()\u001b[0m\n",
      "\u001b[1;32m<string>\u001b[0m in \u001b[0;36mCalcF1\u001b[1;34m(SGCL)\u001b[0m\n",
      "\u001b[1;31mKeyError\u001b[0m: None"
     ]
    },
    {
     "ename": "KeyError",
     "evalue": "None",
     "output_type": "error",
     "traceback": [
      "\u001b[1;31m---------------------------------------------------------------------------\u001b[0m",
      "\u001b[1;31mKeyError\u001b[0m                                  Traceback (most recent call last)",
      "\u001b[1;32m<expression>\u001b[0m in \u001b[0;36m<module>\u001b[1;34m()\u001b[0m\n",
      "\u001b[1;32m<string>\u001b[0m in \u001b[0;36mCalcF1\u001b[1;34m(SGCL)\u001b[0m\n",
      "\u001b[1;31mKeyError\u001b[0m: None"
     ]
    },
    {
     "ename": "KeyError",
     "evalue": "None",
     "output_type": "error",
     "traceback": [
      "\u001b[1;31m---------------------------------------------------------------------------\u001b[0m",
      "\u001b[1;31mKeyError\u001b[0m                                  Traceback (most recent call last)",
      "\u001b[1;32m<expression>\u001b[0m in \u001b[0;36m<module>\u001b[1;34m()\u001b[0m\n",
      "\u001b[1;32m<string>\u001b[0m in \u001b[0;36mCalcF1\u001b[1;34m(SGCL)\u001b[0m\n",
      "\u001b[1;31mKeyError\u001b[0m: None"
     ]
    },
    {
     "ename": "KeyError",
     "evalue": "None",
     "output_type": "error",
     "traceback": [
      "\u001b[1;31m---------------------------------------------------------------------------\u001b[0m",
      "\u001b[1;31mKeyError\u001b[0m                                  Traceback (most recent call last)",
      "\u001b[1;32m<expression>\u001b[0m in \u001b[0;36m<module>\u001b[1;34m()\u001b[0m\n",
      "\u001b[1;32m<string>\u001b[0m in \u001b[0;36mCalcF1\u001b[1;34m(SGCL)\u001b[0m\n",
      "\u001b[1;31mKeyError\u001b[0m: None"
     ]
    },
    {
     "ename": "KeyError",
     "evalue": "None",
     "output_type": "error",
     "traceback": [
      "\u001b[1;31m---------------------------------------------------------------------------\u001b[0m",
      "\u001b[1;31mKeyError\u001b[0m                                  Traceback (most recent call last)",
      "\u001b[1;32m<expression>\u001b[0m in \u001b[0;36m<module>\u001b[1;34m()\u001b[0m\n",
      "\u001b[1;32m<string>\u001b[0m in \u001b[0;36mCalcF1\u001b[1;34m(SGCL)\u001b[0m\n",
      "\u001b[1;31mKeyError\u001b[0m: None"
     ]
    },
    {
     "ename": "KeyError",
     "evalue": "None",
     "output_type": "error",
     "traceback": [
      "\u001b[1;31m---------------------------------------------------------------------------\u001b[0m",
      "\u001b[1;31mKeyError\u001b[0m                                  Traceback (most recent call last)",
      "\u001b[1;32m<expression>\u001b[0m in \u001b[0;36m<module>\u001b[1;34m()\u001b[0m\n",
      "\u001b[1;32m<string>\u001b[0m in \u001b[0;36mCalcF1\u001b[1;34m(SGCL)\u001b[0m\n",
      "\u001b[1;31mKeyError\u001b[0m: None"
     ]
    },
    {
     "ename": "KeyError",
     "evalue": "None",
     "output_type": "error",
     "traceback": [
      "\u001b[1;31m---------------------------------------------------------------------------\u001b[0m",
      "\u001b[1;31mKeyError\u001b[0m                                  Traceback (most recent call last)",
      "\u001b[1;32m<expression>\u001b[0m in \u001b[0;36m<module>\u001b[1;34m()\u001b[0m\n",
      "\u001b[1;32m<string>\u001b[0m in \u001b[0;36mCalcF1\u001b[1;34m(SGCL)\u001b[0m\n",
      "\u001b[1;31mKeyError\u001b[0m: None"
     ]
    },
    {
     "ename": "KeyError",
     "evalue": "None",
     "output_type": "error",
     "traceback": [
      "\u001b[1;31m---------------------------------------------------------------------------\u001b[0m",
      "\u001b[1;31mKeyError\u001b[0m                                  Traceback (most recent call last)",
      "\u001b[1;32m<expression>\u001b[0m in \u001b[0;36m<module>\u001b[1;34m()\u001b[0m\n",
      "\u001b[1;32m<string>\u001b[0m in \u001b[0;36mCalcF1\u001b[1;34m(SGCL)\u001b[0m\n",
      "\u001b[1;31mKeyError\u001b[0m: None"
     ]
    },
    {
     "ename": "KeyError",
     "evalue": "None",
     "output_type": "error",
     "traceback": [
      "\u001b[1;31m---------------------------------------------------------------------------\u001b[0m",
      "\u001b[1;31mKeyError\u001b[0m                                  Traceback (most recent call last)",
      "\u001b[1;32m<expression>\u001b[0m in \u001b[0;36m<module>\u001b[1;34m()\u001b[0m\n",
      "\u001b[1;32m<string>\u001b[0m in \u001b[0;36mCalcF1\u001b[1;34m(SGCL)\u001b[0m\n",
      "\u001b[1;31mKeyError\u001b[0m: None"
     ]
    },
    {
     "ename": "KeyError",
     "evalue": "None",
     "output_type": "error",
     "traceback": [
      "\u001b[1;31m---------------------------------------------------------------------------\u001b[0m",
      "\u001b[1;31mKeyError\u001b[0m                                  Traceback (most recent call last)",
      "\u001b[1;32m<expression>\u001b[0m in \u001b[0;36m<module>\u001b[1;34m()\u001b[0m\n",
      "\u001b[1;32m<string>\u001b[0m in \u001b[0;36mCalcF1\u001b[1;34m(SGCL)\u001b[0m\n",
      "\u001b[1;31mKeyError\u001b[0m: None"
     ]
    },
    {
     "ename": "KeyError",
     "evalue": "None",
     "output_type": "error",
     "traceback": [
      "\u001b[1;31m---------------------------------------------------------------------------\u001b[0m",
      "\u001b[1;31mKeyError\u001b[0m                                  Traceback (most recent call last)",
      "\u001b[1;32m<expression>\u001b[0m in \u001b[0;36m<module>\u001b[1;34m()\u001b[0m\n",
      "\u001b[1;32m<string>\u001b[0m in \u001b[0;36mCalcF1\u001b[1;34m(SGCL)\u001b[0m\n",
      "\u001b[1;31mKeyError\u001b[0m: None"
     ]
    },
    {
     "ename": "KeyError",
     "evalue": "None",
     "output_type": "error",
     "traceback": [
      "\u001b[1;31m---------------------------------------------------------------------------\u001b[0m",
      "\u001b[1;31mKeyError\u001b[0m                                  Traceback (most recent call last)",
      "\u001b[1;32m<expression>\u001b[0m in \u001b[0;36m<module>\u001b[1;34m()\u001b[0m\n",
      "\u001b[1;32m<string>\u001b[0m in \u001b[0;36mCalcF1\u001b[1;34m(SGCL)\u001b[0m\n",
      "\u001b[1;31mKeyError\u001b[0m: None"
     ]
    },
    {
     "ename": "KeyError",
     "evalue": "None",
     "output_type": "error",
     "traceback": [
      "\u001b[1;31m---------------------------------------------------------------------------\u001b[0m",
      "\u001b[1;31mKeyError\u001b[0m                                  Traceback (most recent call last)",
      "\u001b[1;32m<expression>\u001b[0m in \u001b[0;36m<module>\u001b[1;34m()\u001b[0m\n",
      "\u001b[1;32m<string>\u001b[0m in \u001b[0;36mCalcF1\u001b[1;34m(SGCL)\u001b[0m\n",
      "\u001b[1;31mKeyError\u001b[0m: None"
     ]
    },
    {
     "ename": "KeyError",
     "evalue": "None",
     "output_type": "error",
     "traceback": [
      "\u001b[1;31m---------------------------------------------------------------------------\u001b[0m",
      "\u001b[1;31mKeyError\u001b[0m                                  Traceback (most recent call last)",
      "\u001b[1;32m<expression>\u001b[0m in \u001b[0;36m<module>\u001b[1;34m()\u001b[0m\n",
      "\u001b[1;32m<string>\u001b[0m in \u001b[0;36mCalcF1\u001b[1;34m(SGCL)\u001b[0m\n",
      "\u001b[1;31mKeyError\u001b[0m: None"
     ]
    },
    {
     "ename": "KeyError",
     "evalue": "None",
     "output_type": "error",
     "traceback": [
      "\u001b[1;31m---------------------------------------------------------------------------\u001b[0m",
      "\u001b[1;31mKeyError\u001b[0m                                  Traceback (most recent call last)",
      "\u001b[1;32m<expression>\u001b[0m in \u001b[0;36m<module>\u001b[1;34m()\u001b[0m\n",
      "\u001b[1;32m<string>\u001b[0m in \u001b[0;36mCalcF1\u001b[1;34m(SGCL)\u001b[0m\n",
      "\u001b[1;31mKeyError\u001b[0m: None"
     ]
    },
    {
     "ename": "KeyError",
     "evalue": "None",
     "output_type": "error",
     "traceback": [
      "\u001b[1;31m---------------------------------------------------------------------------\u001b[0m",
      "\u001b[1;31mKeyError\u001b[0m                                  Traceback (most recent call last)",
      "\u001b[1;32m<expression>\u001b[0m in \u001b[0;36m<module>\u001b[1;34m()\u001b[0m\n",
      "\u001b[1;32m<string>\u001b[0m in \u001b[0;36mCalcF1\u001b[1;34m(SGCL)\u001b[0m\n",
      "\u001b[1;31mKeyError\u001b[0m: None"
     ]
    },
    {
     "ename": "KeyError",
     "evalue": "None",
     "output_type": "error",
     "traceback": [
      "\u001b[1;31m---------------------------------------------------------------------------\u001b[0m",
      "\u001b[1;31mKeyError\u001b[0m                                  Traceback (most recent call last)",
      "\u001b[1;32m<expression>\u001b[0m in \u001b[0;36m<module>\u001b[1;34m()\u001b[0m\n",
      "\u001b[1;32m<string>\u001b[0m in \u001b[0;36mCalcF1\u001b[1;34m(SGCL)\u001b[0m\n",
      "\u001b[1;31mKeyError\u001b[0m: None"
     ]
    },
    {
     "ename": "KeyError",
     "evalue": "None",
     "output_type": "error",
     "traceback": [
      "\u001b[1;31m---------------------------------------------------------------------------\u001b[0m",
      "\u001b[1;31mKeyError\u001b[0m                                  Traceback (most recent call last)",
      "\u001b[1;32m<expression>\u001b[0m in \u001b[0;36m<module>\u001b[1;34m()\u001b[0m\n",
      "\u001b[1;32m<string>\u001b[0m in \u001b[0;36mCalcF1\u001b[1;34m(SGCL)\u001b[0m\n",
      "\u001b[1;31mKeyError\u001b[0m: None"
     ]
    },
    {
     "ename": "KeyError",
     "evalue": "None",
     "output_type": "error",
     "traceback": [
      "\u001b[1;31m---------------------------------------------------------------------------\u001b[0m",
      "\u001b[1;31mKeyError\u001b[0m                                  Traceback (most recent call last)",
      "\u001b[1;32m<expression>\u001b[0m in \u001b[0;36m<module>\u001b[1;34m()\u001b[0m\n",
      "\u001b[1;32m<string>\u001b[0m in \u001b[0;36mCalcF1\u001b[1;34m(SGCL)\u001b[0m\n",
      "\u001b[1;31mKeyError\u001b[0m: None"
     ]
    },
    {
     "ename": "KeyError",
     "evalue": "None",
     "output_type": "error",
     "traceback": [
      "\u001b[1;31m---------------------------------------------------------------------------\u001b[0m",
      "\u001b[1;31mKeyError\u001b[0m                                  Traceback (most recent call last)",
      "\u001b[1;32m<expression>\u001b[0m in \u001b[0;36m<module>\u001b[1;34m()\u001b[0m\n",
      "\u001b[1;32m<string>\u001b[0m in \u001b[0;36mCalcF1\u001b[1;34m(SGCL)\u001b[0m\n",
      "\u001b[1;31mKeyError\u001b[0m: None"
     ]
    },
    {
     "ename": "KeyError",
     "evalue": "None",
     "output_type": "error",
     "traceback": [
      "\u001b[1;31m---------------------------------------------------------------------------\u001b[0m",
      "\u001b[1;31mKeyError\u001b[0m                                  Traceback (most recent call last)",
      "\u001b[1;32m<expression>\u001b[0m in \u001b[0;36m<module>\u001b[1;34m()\u001b[0m\n",
      "\u001b[1;32m<string>\u001b[0m in \u001b[0;36mCalcF1\u001b[1;34m(SGCL)\u001b[0m\n",
      "\u001b[1;31mKeyError\u001b[0m: None"
     ]
    },
    {
     "ename": "KeyError",
     "evalue": "None",
     "output_type": "error",
     "traceback": [
      "\u001b[1;31m---------------------------------------------------------------------------\u001b[0m",
      "\u001b[1;31mKeyError\u001b[0m                                  Traceback (most recent call last)",
      "\u001b[1;32m<expression>\u001b[0m in \u001b[0;36m<module>\u001b[1;34m()\u001b[0m\n",
      "\u001b[1;32m<string>\u001b[0m in \u001b[0;36mCalcF1\u001b[1;34m(SGCL)\u001b[0m\n",
      "\u001b[1;31mKeyError\u001b[0m: None"
     ]
    },
    {
     "ename": "KeyError",
     "evalue": "None",
     "output_type": "error",
     "traceback": [
      "\u001b[1;31m---------------------------------------------------------------------------\u001b[0m",
      "\u001b[1;31mKeyError\u001b[0m                                  Traceback (most recent call last)",
      "\u001b[1;32m<expression>\u001b[0m in \u001b[0;36m<module>\u001b[1;34m()\u001b[0m\n",
      "\u001b[1;32m<string>\u001b[0m in \u001b[0;36mCalcF1\u001b[1;34m(SGCL)\u001b[0m\n",
      "\u001b[1;31mKeyError\u001b[0m: None"
     ]
    },
    {
     "ename": "KeyError",
     "evalue": "None",
     "output_type": "error",
     "traceback": [
      "\u001b[1;31m---------------------------------------------------------------------------\u001b[0m",
      "\u001b[1;31mKeyError\u001b[0m                                  Traceback (most recent call last)",
      "\u001b[1;32m<expression>\u001b[0m in \u001b[0;36m<module>\u001b[1;34m()\u001b[0m\n",
      "\u001b[1;32m<string>\u001b[0m in \u001b[0;36mCalcF1\u001b[1;34m(SGCL)\u001b[0m\n",
      "\u001b[1;31mKeyError\u001b[0m: None"
     ]
    },
    {
     "ename": "KeyError",
     "evalue": "None",
     "output_type": "error",
     "traceback": [
      "\u001b[1;31m---------------------------------------------------------------------------\u001b[0m",
      "\u001b[1;31mKeyError\u001b[0m                                  Traceback (most recent call last)",
      "\u001b[1;32m<expression>\u001b[0m in \u001b[0;36m<module>\u001b[1;34m()\u001b[0m\n",
      "\u001b[1;32m<string>\u001b[0m in \u001b[0;36mCalcF1\u001b[1;34m(SGCL)\u001b[0m\n",
      "\u001b[1;31mKeyError\u001b[0m: None"
     ]
    },
    {
     "ename": "KeyError",
     "evalue": "None",
     "output_type": "error",
     "traceback": [
      "\u001b[1;31m---------------------------------------------------------------------------\u001b[0m",
      "\u001b[1;31mKeyError\u001b[0m                                  Traceback (most recent call last)",
      "\u001b[1;32m<expression>\u001b[0m in \u001b[0;36m<module>\u001b[1;34m()\u001b[0m\n",
      "\u001b[1;32m<string>\u001b[0m in \u001b[0;36mCalcF1\u001b[1;34m(SGCL)\u001b[0m\n",
      "\u001b[1;31mKeyError\u001b[0m: None"
     ]
    },
    {
     "ename": "KeyError",
     "evalue": "None",
     "output_type": "error",
     "traceback": [
      "\u001b[1;31m---------------------------------------------------------------------------\u001b[0m",
      "\u001b[1;31mKeyError\u001b[0m                                  Traceback (most recent call last)",
      "\u001b[1;32m<expression>\u001b[0m in \u001b[0;36m<module>\u001b[1;34m()\u001b[0m\n",
      "\u001b[1;32m<string>\u001b[0m in \u001b[0;36mCalcF1\u001b[1;34m(SGCL)\u001b[0m\n",
      "\u001b[1;31mKeyError\u001b[0m: None"
     ]
    },
    {
     "ename": "KeyError",
     "evalue": "None",
     "output_type": "error",
     "traceback": [
      "\u001b[1;31m---------------------------------------------------------------------------\u001b[0m",
      "\u001b[1;31mKeyError\u001b[0m                                  Traceback (most recent call last)",
      "\u001b[1;32m<expression>\u001b[0m in \u001b[0;36m<module>\u001b[1;34m()\u001b[0m\n",
      "\u001b[1;32m<string>\u001b[0m in \u001b[0;36mCalcF1\u001b[1;34m(SGCL)\u001b[0m\n",
      "\u001b[1;31mKeyError\u001b[0m: None"
     ]
    },
    {
     "ename": "KeyError",
     "evalue": "None",
     "output_type": "error",
     "traceback": [
      "\u001b[1;31m---------------------------------------------------------------------------\u001b[0m",
      "\u001b[1;31mKeyError\u001b[0m                                  Traceback (most recent call last)",
      "\u001b[1;32m<expression>\u001b[0m in \u001b[0;36m<module>\u001b[1;34m()\u001b[0m\n",
      "\u001b[1;32m<string>\u001b[0m in \u001b[0;36mCalcF1\u001b[1;34m(SGCL)\u001b[0m\n",
      "\u001b[1;31mKeyError\u001b[0m: None"
     ]
    },
    {
     "ename": "KeyError",
     "evalue": "None",
     "output_type": "error",
     "traceback": [
      "\u001b[1;31m---------------------------------------------------------------------------\u001b[0m",
      "\u001b[1;31mKeyError\u001b[0m                                  Traceback (most recent call last)",
      "\u001b[1;32m<expression>\u001b[0m in \u001b[0;36m<module>\u001b[1;34m()\u001b[0m\n",
      "\u001b[1;32m<string>\u001b[0m in \u001b[0;36mCalcF1\u001b[1;34m(SGCL)\u001b[0m\n",
      "\u001b[1;31mKeyError\u001b[0m: None"
     ]
    },
    {
     "ename": "KeyError",
     "evalue": "None",
     "output_type": "error",
     "traceback": [
      "\u001b[1;31m---------------------------------------------------------------------------\u001b[0m",
      "\u001b[1;31mKeyError\u001b[0m                                  Traceback (most recent call last)",
      "\u001b[1;32m<expression>\u001b[0m in \u001b[0;36m<module>\u001b[1;34m()\u001b[0m\n",
      "\u001b[1;32m<string>\u001b[0m in \u001b[0;36mCalcF1\u001b[1;34m(SGCL)\u001b[0m\n",
      "\u001b[1;31mKeyError\u001b[0m: None"
     ]
    },
    {
     "ename": "KeyError",
     "evalue": "None",
     "output_type": "error",
     "traceback": [
      "\u001b[1;31m---------------------------------------------------------------------------\u001b[0m",
      "\u001b[1;31mKeyError\u001b[0m                                  Traceback (most recent call last)",
      "\u001b[1;32m<expression>\u001b[0m in \u001b[0;36m<module>\u001b[1;34m()\u001b[0m\n",
      "\u001b[1;32m<string>\u001b[0m in \u001b[0;36mCalcF1\u001b[1;34m(SGCL)\u001b[0m\n",
      "\u001b[1;31mKeyError\u001b[0m: None"
     ]
    },
    {
     "ename": "KeyError",
     "evalue": "None",
     "output_type": "error",
     "traceback": [
      "\u001b[1;31m---------------------------------------------------------------------------\u001b[0m",
      "\u001b[1;31mKeyError\u001b[0m                                  Traceback (most recent call last)",
      "\u001b[1;32m<expression>\u001b[0m in \u001b[0;36m<module>\u001b[1;34m()\u001b[0m\n",
      "\u001b[1;32m<string>\u001b[0m in \u001b[0;36mCalcF1\u001b[1;34m(SGCL)\u001b[0m\n",
      "\u001b[1;31mKeyError\u001b[0m: None"
     ]
    },
    {
     "ename": "KeyError",
     "evalue": "None",
     "output_type": "error",
     "traceback": [
      "\u001b[1;31m---------------------------------------------------------------------------\u001b[0m",
      "\u001b[1;31mKeyError\u001b[0m                                  Traceback (most recent call last)",
      "\u001b[1;32m<expression>\u001b[0m in \u001b[0;36m<module>\u001b[1;34m()\u001b[0m\n",
      "\u001b[1;32m<string>\u001b[0m in \u001b[0;36mCalcF1\u001b[1;34m(SGCL)\u001b[0m\n",
      "\u001b[1;31mKeyError\u001b[0m: None"
     ]
    },
    {
     "ename": "KeyError",
     "evalue": "None",
     "output_type": "error",
     "traceback": [
      "\u001b[1;31m---------------------------------------------------------------------------\u001b[0m",
      "\u001b[1;31mKeyError\u001b[0m                                  Traceback (most recent call last)",
      "\u001b[1;32m<expression>\u001b[0m in \u001b[0;36m<module>\u001b[1;34m()\u001b[0m\n",
      "\u001b[1;32m<string>\u001b[0m in \u001b[0;36mCalcF1\u001b[1;34m(SGCL)\u001b[0m\n",
      "\u001b[1;31mKeyError\u001b[0m: None"
     ]
    },
    {
     "ename": "KeyError",
     "evalue": "None",
     "output_type": "error",
     "traceback": [
      "\u001b[1;31m---------------------------------------------------------------------------\u001b[0m",
      "\u001b[1;31mKeyError\u001b[0m                                  Traceback (most recent call last)",
      "\u001b[1;32m<expression>\u001b[0m in \u001b[0;36m<module>\u001b[1;34m()\u001b[0m\n",
      "\u001b[1;32m<string>\u001b[0m in \u001b[0;36mCalcF1\u001b[1;34m(SGCL)\u001b[0m\n",
      "\u001b[1;31mKeyError\u001b[0m: None"
     ]
    },
    {
     "ename": "KeyError",
     "evalue": "None",
     "output_type": "error",
     "traceback": [
      "\u001b[1;31m---------------------------------------------------------------------------\u001b[0m",
      "\u001b[1;31mKeyError\u001b[0m                                  Traceback (most recent call last)",
      "\u001b[1;32m<expression>\u001b[0m in \u001b[0;36m<module>\u001b[1;34m()\u001b[0m\n",
      "\u001b[1;32m<string>\u001b[0m in \u001b[0;36mCalcF1\u001b[1;34m(SGCL)\u001b[0m\n",
      "\u001b[1;31mKeyError\u001b[0m: None"
     ]
    },
    {
     "ename": "KeyError",
     "evalue": "None",
     "output_type": "error",
     "traceback": [
      "\u001b[1;31m---------------------------------------------------------------------------\u001b[0m",
      "\u001b[1;31mKeyError\u001b[0m                                  Traceback (most recent call last)",
      "\u001b[1;32m<expression>\u001b[0m in \u001b[0;36m<module>\u001b[1;34m()\u001b[0m\n",
      "\u001b[1;32m<string>\u001b[0m in \u001b[0;36mCalcF1\u001b[1;34m(SGCL)\u001b[0m\n",
      "\u001b[1;31mKeyError\u001b[0m: None"
     ]
    },
    {
     "ename": "KeyError",
     "evalue": "None",
     "output_type": "error",
     "traceback": [
      "\u001b[1;31m---------------------------------------------------------------------------\u001b[0m",
      "\u001b[1;31mKeyError\u001b[0m                                  Traceback (most recent call last)",
      "\u001b[1;32m<expression>\u001b[0m in \u001b[0;36m<module>\u001b[1;34m()\u001b[0m\n",
      "\u001b[1;32m<string>\u001b[0m in \u001b[0;36mCalcF1\u001b[1;34m(SGCL)\u001b[0m\n",
      "\u001b[1;31mKeyError\u001b[0m: None"
     ]
    },
    {
     "ename": "KeyError",
     "evalue": "None",
     "output_type": "error",
     "traceback": [
      "\u001b[1;31m---------------------------------------------------------------------------\u001b[0m",
      "\u001b[1;31mKeyError\u001b[0m                                  Traceback (most recent call last)",
      "\u001b[1;32m<expression>\u001b[0m in \u001b[0;36m<module>\u001b[1;34m()\u001b[0m\n",
      "\u001b[1;32m<string>\u001b[0m in \u001b[0;36mCalcF1\u001b[1;34m(SGCL)\u001b[0m\n",
      "\u001b[1;31mKeyError\u001b[0m: None"
     ]
    },
    {
     "ename": "KeyError",
     "evalue": "None",
     "output_type": "error",
     "traceback": [
      "\u001b[1;31m---------------------------------------------------------------------------\u001b[0m",
      "\u001b[1;31mKeyError\u001b[0m                                  Traceback (most recent call last)",
      "\u001b[1;32m<expression>\u001b[0m in \u001b[0;36m<module>\u001b[1;34m()\u001b[0m\n",
      "\u001b[1;32m<string>\u001b[0m in \u001b[0;36mCalcF1\u001b[1;34m(SGCL)\u001b[0m\n",
      "\u001b[1;31mKeyError\u001b[0m: None"
     ]
    },
    {
     "ename": "KeyError",
     "evalue": "None",
     "output_type": "error",
     "traceback": [
      "\u001b[1;31m---------------------------------------------------------------------------\u001b[0m",
      "\u001b[1;31mKeyError\u001b[0m                                  Traceback (most recent call last)",
      "\u001b[1;32m<expression>\u001b[0m in \u001b[0;36m<module>\u001b[1;34m()\u001b[0m\n",
      "\u001b[1;32m<string>\u001b[0m in \u001b[0;36mCalcF1\u001b[1;34m(SGCL)\u001b[0m\n",
      "\u001b[1;31mKeyError\u001b[0m: None"
     ]
    },
    {
     "ename": "KeyError",
     "evalue": "None",
     "output_type": "error",
     "traceback": [
      "\u001b[1;31m---------------------------------------------------------------------------\u001b[0m",
      "\u001b[1;31mKeyError\u001b[0m                                  Traceback (most recent call last)",
      "\u001b[1;32m<expression>\u001b[0m in \u001b[0;36m<module>\u001b[1;34m()\u001b[0m\n",
      "\u001b[1;32m<string>\u001b[0m in \u001b[0;36mCalcF1\u001b[1;34m(SGCL)\u001b[0m\n",
      "\u001b[1;31mKeyError\u001b[0m: None"
     ]
    },
    {
     "ename": "KeyError",
     "evalue": "None",
     "output_type": "error",
     "traceback": [
      "\u001b[1;31m---------------------------------------------------------------------------\u001b[0m",
      "\u001b[1;31mKeyError\u001b[0m                                  Traceback (most recent call last)",
      "\u001b[1;32m<expression>\u001b[0m in \u001b[0;36m<module>\u001b[1;34m()\u001b[0m\n",
      "\u001b[1;32m<string>\u001b[0m in \u001b[0;36mCalcF1\u001b[1;34m(SGCL)\u001b[0m\n",
      "\u001b[1;31mKeyError\u001b[0m: None"
     ]
    },
    {
     "ename": "KeyError",
     "evalue": "None",
     "output_type": "error",
     "traceback": [
      "\u001b[1;31m---------------------------------------------------------------------------\u001b[0m",
      "\u001b[1;31mKeyError\u001b[0m                                  Traceback (most recent call last)",
      "\u001b[1;32m<expression>\u001b[0m in \u001b[0;36m<module>\u001b[1;34m()\u001b[0m\n",
      "\u001b[1;32m<string>\u001b[0m in \u001b[0;36mCalcF1\u001b[1;34m(SGCL)\u001b[0m\n",
      "\u001b[1;31mKeyError\u001b[0m: None"
     ]
    },
    {
     "ename": "KeyError",
     "evalue": "None",
     "output_type": "error",
     "traceback": [
      "\u001b[1;31m---------------------------------------------------------------------------\u001b[0m",
      "\u001b[1;31mKeyError\u001b[0m                                  Traceback (most recent call last)",
      "\u001b[1;32m<expression>\u001b[0m in \u001b[0;36m<module>\u001b[1;34m()\u001b[0m\n",
      "\u001b[1;32m<string>\u001b[0m in \u001b[0;36mCalcF1\u001b[1;34m(SGCL)\u001b[0m\n",
      "\u001b[1;31mKeyError\u001b[0m: None"
     ]
    },
    {
     "ename": "KeyError",
     "evalue": "None",
     "output_type": "error",
     "traceback": [
      "\u001b[1;31m---------------------------------------------------------------------------\u001b[0m",
      "\u001b[1;31mKeyError\u001b[0m                                  Traceback (most recent call last)",
      "\u001b[1;32m<expression>\u001b[0m in \u001b[0;36m<module>\u001b[1;34m()\u001b[0m\n",
      "\u001b[1;32m<string>\u001b[0m in \u001b[0;36mCalcF1\u001b[1;34m(SGCL)\u001b[0m\n",
      "\u001b[1;31mKeyError\u001b[0m: None"
     ]
    },
    {
     "ename": "KeyError",
     "evalue": "None",
     "output_type": "error",
     "traceback": [
      "\u001b[1;31m---------------------------------------------------------------------------\u001b[0m",
      "\u001b[1;31mKeyError\u001b[0m                                  Traceback (most recent call last)",
      "\u001b[1;32m<expression>\u001b[0m in \u001b[0;36m<module>\u001b[1;34m()\u001b[0m\n",
      "\u001b[1;32m<string>\u001b[0m in \u001b[0;36mCalcF1\u001b[1;34m(SGCL)\u001b[0m\n",
      "\u001b[1;31mKeyError\u001b[0m: None"
     ]
    },
    {
     "ename": "KeyError",
     "evalue": "None",
     "output_type": "error",
     "traceback": [
      "\u001b[1;31m---------------------------------------------------------------------------\u001b[0m",
      "\u001b[1;31mKeyError\u001b[0m                                  Traceback (most recent call last)",
      "\u001b[1;32m<expression>\u001b[0m in \u001b[0;36m<module>\u001b[1;34m()\u001b[0m\n",
      "\u001b[1;32m<string>\u001b[0m in \u001b[0;36mCalcF1\u001b[1;34m(SGCL)\u001b[0m\n",
      "\u001b[1;31mKeyError\u001b[0m: None"
     ]
    },
    {
     "ename": "KeyError",
     "evalue": "None",
     "output_type": "error",
     "traceback": [
      "\u001b[1;31m---------------------------------------------------------------------------\u001b[0m",
      "\u001b[1;31mKeyError\u001b[0m                                  Traceback (most recent call last)",
      "\u001b[1;32m<expression>\u001b[0m in \u001b[0;36m<module>\u001b[1;34m()\u001b[0m\n",
      "\u001b[1;32m<string>\u001b[0m in \u001b[0;36mCalcF1\u001b[1;34m(SGCL)\u001b[0m\n",
      "\u001b[1;31mKeyError\u001b[0m: None"
     ]
    },
    {
     "ename": "KeyError",
     "evalue": "None",
     "output_type": "error",
     "traceback": [
      "\u001b[1;31m---------------------------------------------------------------------------\u001b[0m",
      "\u001b[1;31mKeyError\u001b[0m                                  Traceback (most recent call last)",
      "\u001b[1;32m<expression>\u001b[0m in \u001b[0;36m<module>\u001b[1;34m()\u001b[0m\n",
      "\u001b[1;32m<string>\u001b[0m in \u001b[0;36mCalcF1\u001b[1;34m(SGCL)\u001b[0m\n",
      "\u001b[1;31mKeyError\u001b[0m: None"
     ]
    },
    {
     "ename": "KeyError",
     "evalue": "None",
     "output_type": "error",
     "traceback": [
      "\u001b[1;31m---------------------------------------------------------------------------\u001b[0m",
      "\u001b[1;31mKeyError\u001b[0m                                  Traceback (most recent call last)",
      "\u001b[1;32m<expression>\u001b[0m in \u001b[0;36m<module>\u001b[1;34m()\u001b[0m\n",
      "\u001b[1;32m<string>\u001b[0m in \u001b[0;36mCalcF1\u001b[1;34m(SGCL)\u001b[0m\n",
      "\u001b[1;31mKeyError\u001b[0m: None"
     ]
    },
    {
     "ename": "KeyError",
     "evalue": "None",
     "output_type": "error",
     "traceback": [
      "\u001b[1;31m---------------------------------------------------------------------------\u001b[0m",
      "\u001b[1;31mKeyError\u001b[0m                                  Traceback (most recent call last)",
      "\u001b[1;32m<expression>\u001b[0m in \u001b[0;36m<module>\u001b[1;34m()\u001b[0m\n",
      "\u001b[1;32m<string>\u001b[0m in \u001b[0;36mCalcF1\u001b[1;34m(SGCL)\u001b[0m\n",
      "\u001b[1;31mKeyError\u001b[0m: None"
     ]
    },
    {
     "ename": "KeyError",
     "evalue": "None",
     "output_type": "error",
     "traceback": [
      "\u001b[1;31m---------------------------------------------------------------------------\u001b[0m",
      "\u001b[1;31mKeyError\u001b[0m                                  Traceback (most recent call last)",
      "\u001b[1;32m<expression>\u001b[0m in \u001b[0;36m<module>\u001b[1;34m()\u001b[0m\n",
      "\u001b[1;32m<string>\u001b[0m in \u001b[0;36mCalcF1\u001b[1;34m(SGCL)\u001b[0m\n",
      "\u001b[1;31mKeyError\u001b[0m: None"
     ]
    },
    {
     "ename": "KeyError",
     "evalue": "None",
     "output_type": "error",
     "traceback": [
      "\u001b[1;31m---------------------------------------------------------------------------\u001b[0m",
      "\u001b[1;31mKeyError\u001b[0m                                  Traceback (most recent call last)",
      "\u001b[1;32m<expression>\u001b[0m in \u001b[0;36m<module>\u001b[1;34m()\u001b[0m\n",
      "\u001b[1;32m<string>\u001b[0m in \u001b[0;36mCalcF1\u001b[1;34m(SGCL)\u001b[0m\n",
      "\u001b[1;31mKeyError\u001b[0m: None"
     ]
    },
    {
     "ename": "KeyError",
     "evalue": "None",
     "output_type": "error",
     "traceback": [
      "\u001b[1;31m---------------------------------------------------------------------------\u001b[0m",
      "\u001b[1;31mKeyError\u001b[0m                                  Traceback (most recent call last)",
      "\u001b[1;32m<expression>\u001b[0m in \u001b[0;36m<module>\u001b[1;34m()\u001b[0m\n",
      "\u001b[1;32m<string>\u001b[0m in \u001b[0;36mCalcF1\u001b[1;34m(SGCL)\u001b[0m\n",
      "\u001b[1;31mKeyError\u001b[0m: None"
     ]
    },
    {
     "ename": "KeyError",
     "evalue": "None",
     "output_type": "error",
     "traceback": [
      "\u001b[1;31m---------------------------------------------------------------------------\u001b[0m",
      "\u001b[1;31mKeyError\u001b[0m                                  Traceback (most recent call last)",
      "\u001b[1;32m<expression>\u001b[0m in \u001b[0;36m<module>\u001b[1;34m()\u001b[0m\n",
      "\u001b[1;32m<string>\u001b[0m in \u001b[0;36mCalcF1\u001b[1;34m(SGCL)\u001b[0m\n",
      "\u001b[1;31mKeyError\u001b[0m: None"
     ]
    },
    {
     "ename": "KeyError",
     "evalue": "None",
     "output_type": "error",
     "traceback": [
      "\u001b[1;31m---------------------------------------------------------------------------\u001b[0m",
      "\u001b[1;31mKeyError\u001b[0m                                  Traceback (most recent call last)",
      "\u001b[1;32m<expression>\u001b[0m in \u001b[0;36m<module>\u001b[1;34m()\u001b[0m\n",
      "\u001b[1;32m<string>\u001b[0m in \u001b[0;36mCalcF1\u001b[1;34m(SGCL)\u001b[0m\n",
      "\u001b[1;31mKeyError\u001b[0m: None"
     ]
    },
    {
     "ename": "KeyError",
     "evalue": "None",
     "output_type": "error",
     "traceback": [
      "\u001b[1;31m---------------------------------------------------------------------------\u001b[0m",
      "\u001b[1;31mKeyError\u001b[0m                                  Traceback (most recent call last)",
      "\u001b[1;32m<expression>\u001b[0m in \u001b[0;36m<module>\u001b[1;34m()\u001b[0m\n",
      "\u001b[1;32m<string>\u001b[0m in \u001b[0;36mCalcF1\u001b[1;34m(SGCL)\u001b[0m\n",
      "\u001b[1;31mKeyError\u001b[0m: None"
     ]
    },
    {
     "ename": "KeyError",
     "evalue": "None",
     "output_type": "error",
     "traceback": [
      "\u001b[1;31m---------------------------------------------------------------------------\u001b[0m",
      "\u001b[1;31mKeyError\u001b[0m                                  Traceback (most recent call last)",
      "\u001b[1;32m<expression>\u001b[0m in \u001b[0;36m<module>\u001b[1;34m()\u001b[0m\n",
      "\u001b[1;32m<string>\u001b[0m in \u001b[0;36mCalcF1\u001b[1;34m(SGCL)\u001b[0m\n",
      "\u001b[1;31mKeyError\u001b[0m: None"
     ]
    },
    {
     "ename": "KeyError",
     "evalue": "None",
     "output_type": "error",
     "traceback": [
      "\u001b[1;31m---------------------------------------------------------------------------\u001b[0m",
      "\u001b[1;31mKeyError\u001b[0m                                  Traceback (most recent call last)",
      "\u001b[1;32m<expression>\u001b[0m in \u001b[0;36m<module>\u001b[1;34m()\u001b[0m\n",
      "\u001b[1;32m<string>\u001b[0m in \u001b[0;36mCalcF1\u001b[1;34m(SGCL)\u001b[0m\n",
      "\u001b[1;31mKeyError\u001b[0m: None"
     ]
    },
    {
     "ename": "KeyError",
     "evalue": "None",
     "output_type": "error",
     "traceback": [
      "\u001b[1;31m---------------------------------------------------------------------------\u001b[0m",
      "\u001b[1;31mKeyError\u001b[0m                                  Traceback (most recent call last)",
      "\u001b[1;32m<expression>\u001b[0m in \u001b[0;36m<module>\u001b[1;34m()\u001b[0m\n",
      "\u001b[1;32m<string>\u001b[0m in \u001b[0;36mCalcF1\u001b[1;34m(SGCL)\u001b[0m\n",
      "\u001b[1;31mKeyError\u001b[0m: None"
     ]
    },
    {
     "ename": "KeyError",
     "evalue": "None",
     "output_type": "error",
     "traceback": [
      "\u001b[1;31m---------------------------------------------------------------------------\u001b[0m",
      "\u001b[1;31mKeyError\u001b[0m                                  Traceback (most recent call last)",
      "\u001b[1;32m<expression>\u001b[0m in \u001b[0;36m<module>\u001b[1;34m()\u001b[0m\n",
      "\u001b[1;32m<string>\u001b[0m in \u001b[0;36mCalcF1\u001b[1;34m(SGCL)\u001b[0m\n",
      "\u001b[1;31mKeyError\u001b[0m: None"
     ]
    },
    {
     "ename": "KeyError",
     "evalue": "None",
     "output_type": "error",
     "traceback": [
      "\u001b[1;31m---------------------------------------------------------------------------\u001b[0m",
      "\u001b[1;31mKeyError\u001b[0m                                  Traceback (most recent call last)",
      "\u001b[1;32m<expression>\u001b[0m in \u001b[0;36m<module>\u001b[1;34m()\u001b[0m\n",
      "\u001b[1;32m<string>\u001b[0m in \u001b[0;36mCalcF1\u001b[1;34m(SGCL)\u001b[0m\n",
      "\u001b[1;31mKeyError\u001b[0m: None"
     ]
    },
    {
     "ename": "KeyError",
     "evalue": "None",
     "output_type": "error",
     "traceback": [
      "\u001b[1;31m---------------------------------------------------------------------------\u001b[0m",
      "\u001b[1;31mKeyError\u001b[0m                                  Traceback (most recent call last)",
      "\u001b[1;32m<expression>\u001b[0m in \u001b[0;36m<module>\u001b[1;34m()\u001b[0m\n",
      "\u001b[1;32m<string>\u001b[0m in \u001b[0;36mCalcF1\u001b[1;34m(SGCL)\u001b[0m\n",
      "\u001b[1;31mKeyError\u001b[0m: None"
     ]
    },
    {
     "ename": "KeyError",
     "evalue": "None",
     "output_type": "error",
     "traceback": [
      "\u001b[1;31m---------------------------------------------------------------------------\u001b[0m",
      "\u001b[1;31mKeyError\u001b[0m                                  Traceback (most recent call last)",
      "\u001b[1;32m<expression>\u001b[0m in \u001b[0;36m<module>\u001b[1;34m()\u001b[0m\n",
      "\u001b[1;32m<string>\u001b[0m in \u001b[0;36mCalcF1\u001b[1;34m(SGCL)\u001b[0m\n",
      "\u001b[1;31mKeyError\u001b[0m: None"
     ]
    },
    {
     "ename": "KeyError",
     "evalue": "None",
     "output_type": "error",
     "traceback": [
      "\u001b[1;31m---------------------------------------------------------------------------\u001b[0m",
      "\u001b[1;31mKeyError\u001b[0m                                  Traceback (most recent call last)",
      "\u001b[1;32m<expression>\u001b[0m in \u001b[0;36m<module>\u001b[1;34m()\u001b[0m\n",
      "\u001b[1;32m<string>\u001b[0m in \u001b[0;36mCalcF1\u001b[1;34m(SGCL)\u001b[0m\n",
      "\u001b[1;31mKeyError\u001b[0m: None"
     ]
    },
    {
     "ename": "KeyError",
     "evalue": "None",
     "output_type": "error",
     "traceback": [
      "\u001b[1;31m---------------------------------------------------------------------------\u001b[0m",
      "\u001b[1;31mKeyError\u001b[0m                                  Traceback (most recent call last)",
      "\u001b[1;32m<expression>\u001b[0m in \u001b[0;36m<module>\u001b[1;34m()\u001b[0m\n",
      "\u001b[1;32m<string>\u001b[0m in \u001b[0;36mCalcF1\u001b[1;34m(SGCL)\u001b[0m\n",
      "\u001b[1;31mKeyError\u001b[0m: None"
     ]
    },
    {
     "ename": "KeyError",
     "evalue": "None",
     "output_type": "error",
     "traceback": [
      "\u001b[1;31m---------------------------------------------------------------------------\u001b[0m",
      "\u001b[1;31mKeyError\u001b[0m                                  Traceback (most recent call last)",
      "\u001b[1;32m<expression>\u001b[0m in \u001b[0;36m<module>\u001b[1;34m()\u001b[0m\n",
      "\u001b[1;32m<string>\u001b[0m in \u001b[0;36mCalcF1\u001b[1;34m(SGCL)\u001b[0m\n",
      "\u001b[1;31mKeyError\u001b[0m: None"
     ]
    },
    {
     "ename": "KeyError",
     "evalue": "None",
     "output_type": "error",
     "traceback": [
      "\u001b[1;31m---------------------------------------------------------------------------\u001b[0m",
      "\u001b[1;31mKeyError\u001b[0m                                  Traceback (most recent call last)",
      "\u001b[1;32m<expression>\u001b[0m in \u001b[0;36m<module>\u001b[1;34m()\u001b[0m\n",
      "\u001b[1;32m<string>\u001b[0m in \u001b[0;36mCalcF1\u001b[1;34m(SGCL)\u001b[0m\n",
      "\u001b[1;31mKeyError\u001b[0m: None"
     ]
    },
    {
     "ename": "KeyError",
     "evalue": "None",
     "output_type": "error",
     "traceback": [
      "\u001b[1;31m---------------------------------------------------------------------------\u001b[0m",
      "\u001b[1;31mKeyError\u001b[0m                                  Traceback (most recent call last)",
      "\u001b[1;32m<expression>\u001b[0m in \u001b[0;36m<module>\u001b[1;34m()\u001b[0m\n",
      "\u001b[1;32m<string>\u001b[0m in \u001b[0;36mCalcF1\u001b[1;34m(SGCL)\u001b[0m\n",
      "\u001b[1;31mKeyError\u001b[0m: None"
     ]
    },
    {
     "ename": "KeyError",
     "evalue": "None",
     "output_type": "error",
     "traceback": [
      "\u001b[1;31m---------------------------------------------------------------------------\u001b[0m",
      "\u001b[1;31mKeyError\u001b[0m                                  Traceback (most recent call last)",
      "\u001b[1;32m<expression>\u001b[0m in \u001b[0;36m<module>\u001b[1;34m()\u001b[0m\n",
      "\u001b[1;32m<string>\u001b[0m in \u001b[0;36mCalcF1\u001b[1;34m(SGCL)\u001b[0m\n",
      "\u001b[1;31mKeyError\u001b[0m: None"
     ]
    },
    {
     "ename": "KeyError",
     "evalue": "None",
     "output_type": "error",
     "traceback": [
      "\u001b[1;31m---------------------------------------------------------------------------\u001b[0m",
      "\u001b[1;31mKeyError\u001b[0m                                  Traceback (most recent call last)",
      "\u001b[1;32m<expression>\u001b[0m in \u001b[0;36m<module>\u001b[1;34m()\u001b[0m\n",
      "\u001b[1;32m<string>\u001b[0m in \u001b[0;36mCalcF1\u001b[1;34m(SGCL)\u001b[0m\n",
      "\u001b[1;31mKeyError\u001b[0m: None"
     ]
    },
    {
     "ename": "KeyError",
     "evalue": "None",
     "output_type": "error",
     "traceback": [
      "\u001b[1;31m---------------------------------------------------------------------------\u001b[0m",
      "\u001b[1;31mKeyError\u001b[0m                                  Traceback (most recent call last)",
      "\u001b[1;32m<expression>\u001b[0m in \u001b[0;36m<module>\u001b[1;34m()\u001b[0m\n",
      "\u001b[1;32m<string>\u001b[0m in \u001b[0;36mCalcF1\u001b[1;34m(SGCL)\u001b[0m\n",
      "\u001b[1;31mKeyError\u001b[0m: None"
     ]
    },
    {
     "ename": "KeyError",
     "evalue": "None",
     "output_type": "error",
     "traceback": [
      "\u001b[1;31m---------------------------------------------------------------------------\u001b[0m",
      "\u001b[1;31mKeyError\u001b[0m                                  Traceback (most recent call last)",
      "\u001b[1;32m<expression>\u001b[0m in \u001b[0;36m<module>\u001b[1;34m()\u001b[0m\n",
      "\u001b[1;32m<string>\u001b[0m in \u001b[0;36mCalcF1\u001b[1;34m(SGCL)\u001b[0m\n",
      "\u001b[1;31mKeyError\u001b[0m: None"
     ]
    },
    {
     "ename": "KeyError",
     "evalue": "None",
     "output_type": "error",
     "traceback": [
      "\u001b[1;31m---------------------------------------------------------------------------\u001b[0m",
      "\u001b[1;31mKeyError\u001b[0m                                  Traceback (most recent call last)",
      "\u001b[1;32m<expression>\u001b[0m in \u001b[0;36m<module>\u001b[1;34m()\u001b[0m\n",
      "\u001b[1;32m<string>\u001b[0m in \u001b[0;36mCalcF1\u001b[1;34m(SGCL)\u001b[0m\n",
      "\u001b[1;31mKeyError\u001b[0m: None"
     ]
    },
    {
     "ename": "KeyError",
     "evalue": "None",
     "output_type": "error",
     "traceback": [
      "\u001b[1;31m---------------------------------------------------------------------------\u001b[0m",
      "\u001b[1;31mKeyError\u001b[0m                                  Traceback (most recent call last)",
      "\u001b[1;32m<expression>\u001b[0m in \u001b[0;36m<module>\u001b[1;34m()\u001b[0m\n",
      "\u001b[1;32m<string>\u001b[0m in \u001b[0;36mCalcF1\u001b[1;34m(SGCL)\u001b[0m\n",
      "\u001b[1;31mKeyError\u001b[0m: None"
     ]
    },
    {
     "ename": "KeyError",
     "evalue": "None",
     "output_type": "error",
     "traceback": [
      "\u001b[1;31m---------------------------------------------------------------------------\u001b[0m",
      "\u001b[1;31mKeyError\u001b[0m                                  Traceback (most recent call last)",
      "\u001b[1;32m<expression>\u001b[0m in \u001b[0;36m<module>\u001b[1;34m()\u001b[0m\n",
      "\u001b[1;32m<string>\u001b[0m in \u001b[0;36mCalcF1\u001b[1;34m(SGCL)\u001b[0m\n",
      "\u001b[1;31mKeyError\u001b[0m: None"
     ]
    },
    {
     "ename": "KeyError",
     "evalue": "None",
     "output_type": "error",
     "traceback": [
      "\u001b[1;31m---------------------------------------------------------------------------\u001b[0m",
      "\u001b[1;31mKeyError\u001b[0m                                  Traceback (most recent call last)",
      "\u001b[1;32m<expression>\u001b[0m in \u001b[0;36m<module>\u001b[1;34m()\u001b[0m\n",
      "\u001b[1;32m<string>\u001b[0m in \u001b[0;36mCalcF1\u001b[1;34m(SGCL)\u001b[0m\n",
      "\u001b[1;31mKeyError\u001b[0m: None"
     ]
    },
    {
     "ename": "KeyError",
     "evalue": "None",
     "output_type": "error",
     "traceback": [
      "\u001b[1;31m---------------------------------------------------------------------------\u001b[0m",
      "\u001b[1;31mKeyError\u001b[0m                                  Traceback (most recent call last)",
      "\u001b[1;32m<expression>\u001b[0m in \u001b[0;36m<module>\u001b[1;34m()\u001b[0m\n",
      "\u001b[1;32m<string>\u001b[0m in \u001b[0;36mCalcF1\u001b[1;34m(SGCL)\u001b[0m\n",
      "\u001b[1;31mKeyError\u001b[0m: None"
     ]
    },
    {
     "ename": "KeyError",
     "evalue": "None",
     "output_type": "error",
     "traceback": [
      "\u001b[1;31m---------------------------------------------------------------------------\u001b[0m",
      "\u001b[1;31mKeyError\u001b[0m                                  Traceback (most recent call last)",
      "\u001b[1;32m<expression>\u001b[0m in \u001b[0;36m<module>\u001b[1;34m()\u001b[0m\n",
      "\u001b[1;32m<string>\u001b[0m in \u001b[0;36mCalcF1\u001b[1;34m(SGCL)\u001b[0m\n",
      "\u001b[1;31mKeyError\u001b[0m: None"
     ]
    },
    {
     "ename": "KeyError",
     "evalue": "None",
     "output_type": "error",
     "traceback": [
      "\u001b[1;31m---------------------------------------------------------------------------\u001b[0m",
      "\u001b[1;31mKeyError\u001b[0m                                  Traceback (most recent call last)",
      "\u001b[1;32m<expression>\u001b[0m in \u001b[0;36m<module>\u001b[1;34m()\u001b[0m\n",
      "\u001b[1;32m<string>\u001b[0m in \u001b[0;36mCalcF1\u001b[1;34m(SGCL)\u001b[0m\n",
      "\u001b[1;31mKeyError\u001b[0m: None"
     ]
    },
    {
     "ename": "KeyError",
     "evalue": "None",
     "output_type": "error",
     "traceback": [
      "\u001b[1;31m---------------------------------------------------------------------------\u001b[0m",
      "\u001b[1;31mKeyError\u001b[0m                                  Traceback (most recent call last)",
      "\u001b[1;32m<expression>\u001b[0m in \u001b[0;36m<module>\u001b[1;34m()\u001b[0m\n",
      "\u001b[1;32m<string>\u001b[0m in \u001b[0;36mCalcF1\u001b[1;34m(SGCL)\u001b[0m\n",
      "\u001b[1;31mKeyError\u001b[0m: None"
     ]
    },
    {
     "ename": "KeyError",
     "evalue": "None",
     "output_type": "error",
     "traceback": [
      "\u001b[1;31m---------------------------------------------------------------------------\u001b[0m",
      "\u001b[1;31mKeyError\u001b[0m                                  Traceback (most recent call last)",
      "\u001b[1;32m<expression>\u001b[0m in \u001b[0;36m<module>\u001b[1;34m()\u001b[0m\n",
      "\u001b[1;32m<string>\u001b[0m in \u001b[0;36mCalcF1\u001b[1;34m(SGCL)\u001b[0m\n",
      "\u001b[1;31mKeyError\u001b[0m: None"
     ]
    },
    {
     "ename": "KeyError",
     "evalue": "None",
     "output_type": "error",
     "traceback": [
      "\u001b[1;31m---------------------------------------------------------------------------\u001b[0m",
      "\u001b[1;31mKeyError\u001b[0m                                  Traceback (most recent call last)",
      "\u001b[1;32m<expression>\u001b[0m in \u001b[0;36m<module>\u001b[1;34m()\u001b[0m\n",
      "\u001b[1;32m<string>\u001b[0m in \u001b[0;36mCalcF1\u001b[1;34m(SGCL)\u001b[0m\n",
      "\u001b[1;31mKeyError\u001b[0m: None"
     ]
    },
    {
     "ename": "KeyError",
     "evalue": "None",
     "output_type": "error",
     "traceback": [
      "\u001b[1;31m---------------------------------------------------------------------------\u001b[0m",
      "\u001b[1;31mKeyError\u001b[0m                                  Traceback (most recent call last)",
      "\u001b[1;32m<expression>\u001b[0m in \u001b[0;36m<module>\u001b[1;34m()\u001b[0m\n",
      "\u001b[1;32m<string>\u001b[0m in \u001b[0;36mCalcF1\u001b[1;34m(SGCL)\u001b[0m\n",
      "\u001b[1;31mKeyError\u001b[0m: None"
     ]
    },
    {
     "ename": "KeyError",
     "evalue": "None",
     "output_type": "error",
     "traceback": [
      "\u001b[1;31m---------------------------------------------------------------------------\u001b[0m",
      "\u001b[1;31mKeyError\u001b[0m                                  Traceback (most recent call last)",
      "\u001b[1;32m<expression>\u001b[0m in \u001b[0;36m<module>\u001b[1;34m()\u001b[0m\n",
      "\u001b[1;32m<string>\u001b[0m in \u001b[0;36mCalcF1\u001b[1;34m(SGCL)\u001b[0m\n",
      "\u001b[1;31mKeyError\u001b[0m: None"
     ]
    },
    {
     "ename": "KeyError",
     "evalue": "None",
     "output_type": "error",
     "traceback": [
      "\u001b[1;31m---------------------------------------------------------------------------\u001b[0m",
      "\u001b[1;31mKeyError\u001b[0m                                  Traceback (most recent call last)",
      "\u001b[1;32m<expression>\u001b[0m in \u001b[0;36m<module>\u001b[1;34m()\u001b[0m\n",
      "\u001b[1;32m<string>\u001b[0m in \u001b[0;36mCalcF1\u001b[1;34m(SGCL)\u001b[0m\n",
      "\u001b[1;31mKeyError\u001b[0m: None"
     ]
    },
    {
     "ename": "KeyError",
     "evalue": "None",
     "output_type": "error",
     "traceback": [
      "\u001b[1;31m---------------------------------------------------------------------------\u001b[0m",
      "\u001b[1;31mKeyError\u001b[0m                                  Traceback (most recent call last)",
      "\u001b[1;32m<expression>\u001b[0m in \u001b[0;36m<module>\u001b[1;34m()\u001b[0m\n",
      "\u001b[1;32m<string>\u001b[0m in \u001b[0;36mCalcF1\u001b[1;34m(SGCL)\u001b[0m\n",
      "\u001b[1;31mKeyError\u001b[0m: None"
     ]
    },
    {
     "ename": "KeyError",
     "evalue": "None",
     "output_type": "error",
     "traceback": [
      "\u001b[1;31m---------------------------------------------------------------------------\u001b[0m",
      "\u001b[1;31mKeyError\u001b[0m                                  Traceback (most recent call last)",
      "\u001b[1;32m<expression>\u001b[0m in \u001b[0;36m<module>\u001b[1;34m()\u001b[0m\n",
      "\u001b[1;32m<string>\u001b[0m in \u001b[0;36mCalcF1\u001b[1;34m(SGCL)\u001b[0m\n",
      "\u001b[1;31mKeyError\u001b[0m: None"
     ]
    },
    {
     "ename": "KeyError",
     "evalue": "None",
     "output_type": "error",
     "traceback": [
      "\u001b[1;31m---------------------------------------------------------------------------\u001b[0m",
      "\u001b[1;31mKeyError\u001b[0m                                  Traceback (most recent call last)",
      "\u001b[1;32m<expression>\u001b[0m in \u001b[0;36m<module>\u001b[1;34m()\u001b[0m\n",
      "\u001b[1;32m<string>\u001b[0m in \u001b[0;36mCalcF1\u001b[1;34m(SGCL)\u001b[0m\n",
      "\u001b[1;31mKeyError\u001b[0m: None"
     ]
    },
    {
     "ename": "KeyError",
     "evalue": "None",
     "output_type": "error",
     "traceback": [
      "\u001b[1;31m---------------------------------------------------------------------------\u001b[0m",
      "\u001b[1;31mKeyError\u001b[0m                                  Traceback (most recent call last)",
      "\u001b[1;32m<expression>\u001b[0m in \u001b[0;36m<module>\u001b[1;34m()\u001b[0m\n",
      "\u001b[1;32m<string>\u001b[0m in \u001b[0;36mCalcF1\u001b[1;34m(SGCL)\u001b[0m\n",
      "\u001b[1;31mKeyError\u001b[0m: None"
     ]
    },
    {
     "ename": "KeyError",
     "evalue": "None",
     "output_type": "error",
     "traceback": [
      "\u001b[1;31m---------------------------------------------------------------------------\u001b[0m",
      "\u001b[1;31mKeyError\u001b[0m                                  Traceback (most recent call last)",
      "\u001b[1;32m<expression>\u001b[0m in \u001b[0;36m<module>\u001b[1;34m()\u001b[0m\n",
      "\u001b[1;32m<string>\u001b[0m in \u001b[0;36mCalcF1\u001b[1;34m(SGCL)\u001b[0m\n",
      "\u001b[1;31mKeyError\u001b[0m: None"
     ]
    },
    {
     "ename": "KeyError",
     "evalue": "None",
     "output_type": "error",
     "traceback": [
      "\u001b[1;31m---------------------------------------------------------------------------\u001b[0m",
      "\u001b[1;31mKeyError\u001b[0m                                  Traceback (most recent call last)",
      "\u001b[1;32m<expression>\u001b[0m in \u001b[0;36m<module>\u001b[1;34m()\u001b[0m\n",
      "\u001b[1;32m<string>\u001b[0m in \u001b[0;36mCalcF1\u001b[1;34m(SGCL)\u001b[0m\n",
      "\u001b[1;31mKeyError\u001b[0m: None"
     ]
    },
    {
     "ename": "KeyError",
     "evalue": "None",
     "output_type": "error",
     "traceback": [
      "\u001b[1;31m---------------------------------------------------------------------------\u001b[0m",
      "\u001b[1;31mKeyError\u001b[0m                                  Traceback (most recent call last)",
      "\u001b[1;32m<expression>\u001b[0m in \u001b[0;36m<module>\u001b[1;34m()\u001b[0m\n",
      "\u001b[1;32m<string>\u001b[0m in \u001b[0;36mCalcF1\u001b[1;34m(SGCL)\u001b[0m\n",
      "\u001b[1;31mKeyError\u001b[0m: None"
     ]
    },
    {
     "ename": "KeyError",
     "evalue": "None",
     "output_type": "error",
     "traceback": [
      "\u001b[1;31m---------------------------------------------------------------------------\u001b[0m",
      "\u001b[1;31mKeyError\u001b[0m                                  Traceback (most recent call last)",
      "\u001b[1;32m<expression>\u001b[0m in \u001b[0;36m<module>\u001b[1;34m()\u001b[0m\n",
      "\u001b[1;32m<string>\u001b[0m in \u001b[0;36mCalcF1\u001b[1;34m(SGCL)\u001b[0m\n",
      "\u001b[1;31mKeyError\u001b[0m: None"
     ]
    },
    {
     "ename": "KeyError",
     "evalue": "None",
     "output_type": "error",
     "traceback": [
      "\u001b[1;31m---------------------------------------------------------------------------\u001b[0m",
      "\u001b[1;31mKeyError\u001b[0m                                  Traceback (most recent call last)",
      "\u001b[1;32m<expression>\u001b[0m in \u001b[0;36m<module>\u001b[1;34m()\u001b[0m\n",
      "\u001b[1;32m<string>\u001b[0m in \u001b[0;36mCalcF1\u001b[1;34m(SGCL)\u001b[0m\n",
      "\u001b[1;31mKeyError\u001b[0m: None"
     ]
    },
    {
     "ename": "KeyError",
     "evalue": "None",
     "output_type": "error",
     "traceback": [
      "\u001b[1;31m---------------------------------------------------------------------------\u001b[0m",
      "\u001b[1;31mKeyError\u001b[0m                                  Traceback (most recent call last)",
      "\u001b[1;32m<expression>\u001b[0m in \u001b[0;36m<module>\u001b[1;34m()\u001b[0m\n",
      "\u001b[1;32m<string>\u001b[0m in \u001b[0;36mCalcF1\u001b[1;34m(SGCL)\u001b[0m\n",
      "\u001b[1;31mKeyError\u001b[0m: None"
     ]
    },
    {
     "ename": "KeyError",
     "evalue": "None",
     "output_type": "error",
     "traceback": [
      "\u001b[1;31m---------------------------------------------------------------------------\u001b[0m",
      "\u001b[1;31mKeyError\u001b[0m                                  Traceback (most recent call last)",
      "\u001b[1;32m<expression>\u001b[0m in \u001b[0;36m<module>\u001b[1;34m()\u001b[0m\n",
      "\u001b[1;32m<string>\u001b[0m in \u001b[0;36mCalcF1\u001b[1;34m(SGCL)\u001b[0m\n",
      "\u001b[1;31mKeyError\u001b[0m: None"
     ]
    },
    {
     "ename": "KeyError",
     "evalue": "None",
     "output_type": "error",
     "traceback": [
      "\u001b[1;31m---------------------------------------------------------------------------\u001b[0m",
      "\u001b[1;31mKeyError\u001b[0m                                  Traceback (most recent call last)",
      "\u001b[1;32m<expression>\u001b[0m in \u001b[0;36m<module>\u001b[1;34m()\u001b[0m\n",
      "\u001b[1;32m<string>\u001b[0m in \u001b[0;36mCalcF1\u001b[1;34m(SGCL)\u001b[0m\n",
      "\u001b[1;31mKeyError\u001b[0m: None"
     ]
    },
    {
     "ename": "KeyError",
     "evalue": "None",
     "output_type": "error",
     "traceback": [
      "\u001b[1;31m---------------------------------------------------------------------------\u001b[0m",
      "\u001b[1;31mKeyError\u001b[0m                                  Traceback (most recent call last)",
      "\u001b[1;32m<expression>\u001b[0m in \u001b[0;36m<module>\u001b[1;34m()\u001b[0m\n",
      "\u001b[1;32m<string>\u001b[0m in \u001b[0;36mCalcF1\u001b[1;34m(SGCL)\u001b[0m\n",
      "\u001b[1;31mKeyError\u001b[0m: None"
     ]
    },
    {
     "ename": "KeyError",
     "evalue": "None",
     "output_type": "error",
     "traceback": [
      "\u001b[1;31m---------------------------------------------------------------------------\u001b[0m",
      "\u001b[1;31mKeyError\u001b[0m                                  Traceback (most recent call last)",
      "\u001b[1;32m<expression>\u001b[0m in \u001b[0;36m<module>\u001b[1;34m()\u001b[0m\n",
      "\u001b[1;32m<string>\u001b[0m in \u001b[0;36mCalcF1\u001b[1;34m(SGCL)\u001b[0m\n",
      "\u001b[1;31mKeyError\u001b[0m: None"
     ]
    },
    {
     "ename": "KeyError",
     "evalue": "None",
     "output_type": "error",
     "traceback": [
      "\u001b[1;31m---------------------------------------------------------------------------\u001b[0m",
      "\u001b[1;31mKeyError\u001b[0m                                  Traceback (most recent call last)",
      "\u001b[1;32m<expression>\u001b[0m in \u001b[0;36m<module>\u001b[1;34m()\u001b[0m\n",
      "\u001b[1;32m<string>\u001b[0m in \u001b[0;36mCalcF1\u001b[1;34m(SGCL)\u001b[0m\n",
      "\u001b[1;31mKeyError\u001b[0m: None"
     ]
    },
    {
     "ename": "KeyError",
     "evalue": "None",
     "output_type": "error",
     "traceback": [
      "\u001b[1;31m---------------------------------------------------------------------------\u001b[0m",
      "\u001b[1;31mKeyError\u001b[0m                                  Traceback (most recent call last)",
      "\u001b[1;32m<expression>\u001b[0m in \u001b[0;36m<module>\u001b[1;34m()\u001b[0m\n",
      "\u001b[1;32m<string>\u001b[0m in \u001b[0;36mCalcF1\u001b[1;34m(SGCL)\u001b[0m\n",
      "\u001b[1;31mKeyError\u001b[0m: None"
     ]
    },
    {
     "ename": "KeyError",
     "evalue": "None",
     "output_type": "error",
     "traceback": [
      "\u001b[1;31m---------------------------------------------------------------------------\u001b[0m",
      "\u001b[1;31mKeyError\u001b[0m                                  Traceback (most recent call last)",
      "\u001b[1;32m<expression>\u001b[0m in \u001b[0;36m<module>\u001b[1;34m()\u001b[0m\n",
      "\u001b[1;32m<string>\u001b[0m in \u001b[0;36mCalcF1\u001b[1;34m(SGCL)\u001b[0m\n",
      "\u001b[1;31mKeyError\u001b[0m: None"
     ]
    },
    {
     "ename": "KeyError",
     "evalue": "None",
     "output_type": "error",
     "traceback": [
      "\u001b[1;31m---------------------------------------------------------------------------\u001b[0m",
      "\u001b[1;31mKeyError\u001b[0m                                  Traceback (most recent call last)",
      "\u001b[1;32m<expression>\u001b[0m in \u001b[0;36m<module>\u001b[1;34m()\u001b[0m\n",
      "\u001b[1;32m<string>\u001b[0m in \u001b[0;36mCalcF1\u001b[1;34m(SGCL)\u001b[0m\n",
      "\u001b[1;31mKeyError\u001b[0m: None"
     ]
    },
    {
     "ename": "KeyError",
     "evalue": "None",
     "output_type": "error",
     "traceback": [
      "\u001b[1;31m---------------------------------------------------------------------------\u001b[0m",
      "\u001b[1;31mKeyError\u001b[0m                                  Traceback (most recent call last)",
      "\u001b[1;32m<expression>\u001b[0m in \u001b[0;36m<module>\u001b[1;34m()\u001b[0m\n",
      "\u001b[1;32m<string>\u001b[0m in \u001b[0;36mCalcF1\u001b[1;34m(SGCL)\u001b[0m\n",
      "\u001b[1;31mKeyError\u001b[0m: None"
     ]
    },
    {
     "ename": "KeyError",
     "evalue": "None",
     "output_type": "error",
     "traceback": [
      "\u001b[1;31m---------------------------------------------------------------------------\u001b[0m",
      "\u001b[1;31mKeyError\u001b[0m                                  Traceback (most recent call last)",
      "\u001b[1;32m<expression>\u001b[0m in \u001b[0;36m<module>\u001b[1;34m()\u001b[0m\n",
      "\u001b[1;32m<string>\u001b[0m in \u001b[0;36mCalcF1\u001b[1;34m(SGCL)\u001b[0m\n",
      "\u001b[1;31mKeyError\u001b[0m: None"
     ]
    },
    {
     "ename": "KeyError",
     "evalue": "None",
     "output_type": "error",
     "traceback": [
      "\u001b[1;31m---------------------------------------------------------------------------\u001b[0m",
      "\u001b[1;31mKeyError\u001b[0m                                  Traceback (most recent call last)",
      "\u001b[1;32m<expression>\u001b[0m in \u001b[0;36m<module>\u001b[1;34m()\u001b[0m\n",
      "\u001b[1;32m<string>\u001b[0m in \u001b[0;36mCalcF1\u001b[1;34m(SGCL)\u001b[0m\n",
      "\u001b[1;31mKeyError\u001b[0m: None"
     ]
    },
    {
     "ename": "KeyError",
     "evalue": "None",
     "output_type": "error",
     "traceback": [
      "\u001b[1;31m---------------------------------------------------------------------------\u001b[0m",
      "\u001b[1;31mKeyError\u001b[0m                                  Traceback (most recent call last)",
      "\u001b[1;32m<expression>\u001b[0m in \u001b[0;36m<module>\u001b[1;34m()\u001b[0m\n",
      "\u001b[1;32m<string>\u001b[0m in \u001b[0;36mCalcF1\u001b[1;34m(SGCL)\u001b[0m\n",
      "\u001b[1;31mKeyError\u001b[0m: None"
     ]
    },
    {
     "ename": "KeyError",
     "evalue": "None",
     "output_type": "error",
     "traceback": [
      "\u001b[1;31m---------------------------------------------------------------------------\u001b[0m",
      "\u001b[1;31mKeyError\u001b[0m                                  Traceback (most recent call last)",
      "\u001b[1;32m<expression>\u001b[0m in \u001b[0;36m<module>\u001b[1;34m()\u001b[0m\n",
      "\u001b[1;32m<string>\u001b[0m in \u001b[0;36mCalcF1\u001b[1;34m(SGCL)\u001b[0m\n",
      "\u001b[1;31mKeyError\u001b[0m: None"
     ]
    },
    {
     "ename": "KeyError",
     "evalue": "None",
     "output_type": "error",
     "traceback": [
      "\u001b[1;31m---------------------------------------------------------------------------\u001b[0m",
      "\u001b[1;31mKeyError\u001b[0m                                  Traceback (most recent call last)",
      "\u001b[1;32m<expression>\u001b[0m in \u001b[0;36m<module>\u001b[1;34m()\u001b[0m\n",
      "\u001b[1;32m<string>\u001b[0m in \u001b[0;36mCalcF1\u001b[1;34m(SGCL)\u001b[0m\n",
      "\u001b[1;31mKeyError\u001b[0m: None"
     ]
    },
    {
     "ename": "KeyError",
     "evalue": "None",
     "output_type": "error",
     "traceback": [
      "\u001b[1;31m---------------------------------------------------------------------------\u001b[0m",
      "\u001b[1;31mKeyError\u001b[0m                                  Traceback (most recent call last)",
      "\u001b[1;32m<expression>\u001b[0m in \u001b[0;36m<module>\u001b[1;34m()\u001b[0m\n",
      "\u001b[1;32m<string>\u001b[0m in \u001b[0;36mCalcF1\u001b[1;34m(SGCL)\u001b[0m\n",
      "\u001b[1;31mKeyError\u001b[0m: None"
     ]
    },
    {
     "ename": "KeyError",
     "evalue": "None",
     "output_type": "error",
     "traceback": [
      "\u001b[1;31m---------------------------------------------------------------------------\u001b[0m",
      "\u001b[1;31mKeyError\u001b[0m                                  Traceback (most recent call last)",
      "\u001b[1;32m<expression>\u001b[0m in \u001b[0;36m<module>\u001b[1;34m()\u001b[0m\n",
      "\u001b[1;32m<string>\u001b[0m in \u001b[0;36mCalcF1\u001b[1;34m(SGCL)\u001b[0m\n",
      "\u001b[1;31mKeyError\u001b[0m: None"
     ]
    },
    {
     "ename": "KeyError",
     "evalue": "None",
     "output_type": "error",
     "traceback": [
      "\u001b[1;31m---------------------------------------------------------------------------\u001b[0m",
      "\u001b[1;31mKeyError\u001b[0m                                  Traceback (most recent call last)",
      "\u001b[1;32m<expression>\u001b[0m in \u001b[0;36m<module>\u001b[1;34m()\u001b[0m\n",
      "\u001b[1;32m<string>\u001b[0m in \u001b[0;36mCalcF1\u001b[1;34m(SGCL)\u001b[0m\n",
      "\u001b[1;31mKeyError\u001b[0m: None"
     ]
    },
    {
     "ename": "KeyError",
     "evalue": "None",
     "output_type": "error",
     "traceback": [
      "\u001b[1;31m---------------------------------------------------------------------------\u001b[0m",
      "\u001b[1;31mKeyError\u001b[0m                                  Traceback (most recent call last)",
      "\u001b[1;32m<expression>\u001b[0m in \u001b[0;36m<module>\u001b[1;34m()\u001b[0m\n",
      "\u001b[1;32m<string>\u001b[0m in \u001b[0;36mCalcF1\u001b[1;34m(SGCL)\u001b[0m\n",
      "\u001b[1;31mKeyError\u001b[0m: None"
     ]
    },
    {
     "ename": "KeyError",
     "evalue": "None",
     "output_type": "error",
     "traceback": [
      "\u001b[1;31m---------------------------------------------------------------------------\u001b[0m",
      "\u001b[1;31mKeyError\u001b[0m                                  Traceback (most recent call last)",
      "\u001b[1;32m<expression>\u001b[0m in \u001b[0;36m<module>\u001b[1;34m()\u001b[0m\n",
      "\u001b[1;32m<string>\u001b[0m in \u001b[0;36mCalcF1\u001b[1;34m(SGCL)\u001b[0m\n",
      "\u001b[1;31mKeyError\u001b[0m: None"
     ]
    },
    {
     "ename": "KeyError",
     "evalue": "None",
     "output_type": "error",
     "traceback": [
      "\u001b[1;31m---------------------------------------------------------------------------\u001b[0m",
      "\u001b[1;31mKeyError\u001b[0m                                  Traceback (most recent call last)",
      "\u001b[1;32m<expression>\u001b[0m in \u001b[0;36m<module>\u001b[1;34m()\u001b[0m\n",
      "\u001b[1;32m<string>\u001b[0m in \u001b[0;36mCalcF1\u001b[1;34m(SGCL)\u001b[0m\n",
      "\u001b[1;31mKeyError\u001b[0m: None"
     ]
    },
    {
     "ename": "KeyError",
     "evalue": "None",
     "output_type": "error",
     "traceback": [
      "\u001b[1;31m---------------------------------------------------------------------------\u001b[0m",
      "\u001b[1;31mKeyError\u001b[0m                                  Traceback (most recent call last)",
      "\u001b[1;32m<expression>\u001b[0m in \u001b[0;36m<module>\u001b[1;34m()\u001b[0m\n",
      "\u001b[1;32m<string>\u001b[0m in \u001b[0;36mCalcF1\u001b[1;34m(SGCL)\u001b[0m\n",
      "\u001b[1;31mKeyError\u001b[0m: None"
     ]
    },
    {
     "ename": "KeyError",
     "evalue": "None",
     "output_type": "error",
     "traceback": [
      "\u001b[1;31m---------------------------------------------------------------------------\u001b[0m",
      "\u001b[1;31mKeyError\u001b[0m                                  Traceback (most recent call last)",
      "\u001b[1;32m<expression>\u001b[0m in \u001b[0;36m<module>\u001b[1;34m()\u001b[0m\n",
      "\u001b[1;32m<string>\u001b[0m in \u001b[0;36mCalcF1\u001b[1;34m(SGCL)\u001b[0m\n",
      "\u001b[1;31mKeyError\u001b[0m: None"
     ]
    },
    {
     "ename": "KeyError",
     "evalue": "None",
     "output_type": "error",
     "traceback": [
      "\u001b[1;31m---------------------------------------------------------------------------\u001b[0m",
      "\u001b[1;31mKeyError\u001b[0m                                  Traceback (most recent call last)",
      "\u001b[1;32m<expression>\u001b[0m in \u001b[0;36m<module>\u001b[1;34m()\u001b[0m\n",
      "\u001b[1;32m<string>\u001b[0m in \u001b[0;36mCalcF1\u001b[1;34m(SGCL)\u001b[0m\n",
      "\u001b[1;31mKeyError\u001b[0m: None"
     ]
    },
    {
     "ename": "KeyError",
     "evalue": "None",
     "output_type": "error",
     "traceback": [
      "\u001b[1;31m---------------------------------------------------------------------------\u001b[0m",
      "\u001b[1;31mKeyError\u001b[0m                                  Traceback (most recent call last)",
      "\u001b[1;32m<expression>\u001b[0m in \u001b[0;36m<module>\u001b[1;34m()\u001b[0m\n",
      "\u001b[1;32m<string>\u001b[0m in \u001b[0;36mCalcF1\u001b[1;34m(SGCL)\u001b[0m\n",
      "\u001b[1;31mKeyError\u001b[0m: None"
     ]
    },
    {
     "ename": "KeyError",
     "evalue": "None",
     "output_type": "error",
     "traceback": [
      "\u001b[1;31m---------------------------------------------------------------------------\u001b[0m",
      "\u001b[1;31mKeyError\u001b[0m                                  Traceback (most recent call last)",
      "\u001b[1;32m<expression>\u001b[0m in \u001b[0;36m<module>\u001b[1;34m()\u001b[0m\n",
      "\u001b[1;32m<string>\u001b[0m in \u001b[0;36mCalcF1\u001b[1;34m(SGCL)\u001b[0m\n",
      "\u001b[1;31mKeyError\u001b[0m: None"
     ]
    },
    {
     "ename": "KeyError",
     "evalue": "None",
     "output_type": "error",
     "traceback": [
      "\u001b[1;31m---------------------------------------------------------------------------\u001b[0m",
      "\u001b[1;31mKeyError\u001b[0m                                  Traceback (most recent call last)",
      "\u001b[1;32m<expression>\u001b[0m in \u001b[0;36m<module>\u001b[1;34m()\u001b[0m\n",
      "\u001b[1;32m<string>\u001b[0m in \u001b[0;36mCalcF1\u001b[1;34m(SGCL)\u001b[0m\n",
      "\u001b[1;31mKeyError\u001b[0m: None"
     ]
    },
    {
     "ename": "KeyError",
     "evalue": "None",
     "output_type": "error",
     "traceback": [
      "\u001b[1;31m---------------------------------------------------------------------------\u001b[0m",
      "\u001b[1;31mKeyError\u001b[0m                                  Traceback (most recent call last)",
      "\u001b[1;32m<expression>\u001b[0m in \u001b[0;36m<module>\u001b[1;34m()\u001b[0m\n",
      "\u001b[1;32m<string>\u001b[0m in \u001b[0;36mCalcF1\u001b[1;34m(SGCL)\u001b[0m\n",
      "\u001b[1;31mKeyError\u001b[0m: None"
     ]
    },
    {
     "ename": "KeyError",
     "evalue": "None",
     "output_type": "error",
     "traceback": [
      "\u001b[1;31m---------------------------------------------------------------------------\u001b[0m",
      "\u001b[1;31mKeyError\u001b[0m                                  Traceback (most recent call last)",
      "\u001b[1;32m<expression>\u001b[0m in \u001b[0;36m<module>\u001b[1;34m()\u001b[0m\n",
      "\u001b[1;32m<string>\u001b[0m in \u001b[0;36mCalcF1\u001b[1;34m(SGCL)\u001b[0m\n",
      "\u001b[1;31mKeyError\u001b[0m: None"
     ]
    },
    {
     "ename": "KeyError",
     "evalue": "None",
     "output_type": "error",
     "traceback": [
      "\u001b[1;31m---------------------------------------------------------------------------\u001b[0m",
      "\u001b[1;31mKeyError\u001b[0m                                  Traceback (most recent call last)",
      "\u001b[1;32m<expression>\u001b[0m in \u001b[0;36m<module>\u001b[1;34m()\u001b[0m\n",
      "\u001b[1;32m<string>\u001b[0m in \u001b[0;36mCalcF1\u001b[1;34m(SGCL)\u001b[0m\n",
      "\u001b[1;31mKeyError\u001b[0m: None"
     ]
    },
    {
     "ename": "KeyError",
     "evalue": "None",
     "output_type": "error",
     "traceback": [
      "\u001b[1;31m---------------------------------------------------------------------------\u001b[0m",
      "\u001b[1;31mKeyError\u001b[0m                                  Traceback (most recent call last)",
      "\u001b[1;32m<expression>\u001b[0m in \u001b[0;36m<module>\u001b[1;34m()\u001b[0m\n",
      "\u001b[1;32m<string>\u001b[0m in \u001b[0;36mCalcF1\u001b[1;34m(SGCL)\u001b[0m\n",
      "\u001b[1;31mKeyError\u001b[0m: None"
     ]
    },
    {
     "ename": "KeyError",
     "evalue": "None",
     "output_type": "error",
     "traceback": [
      "\u001b[1;31m---------------------------------------------------------------------------\u001b[0m",
      "\u001b[1;31mKeyError\u001b[0m                                  Traceback (most recent call last)",
      "\u001b[1;32m<expression>\u001b[0m in \u001b[0;36m<module>\u001b[1;34m()\u001b[0m\n",
      "\u001b[1;32m<string>\u001b[0m in \u001b[0;36mCalcF1\u001b[1;34m(SGCL)\u001b[0m\n",
      "\u001b[1;31mKeyError\u001b[0m: None"
     ]
    },
    {
     "ename": "KeyError",
     "evalue": "None",
     "output_type": "error",
     "traceback": [
      "\u001b[1;31m---------------------------------------------------------------------------\u001b[0m",
      "\u001b[1;31mKeyError\u001b[0m                                  Traceback (most recent call last)",
      "\u001b[1;32m<expression>\u001b[0m in \u001b[0;36m<module>\u001b[1;34m()\u001b[0m\n",
      "\u001b[1;32m<string>\u001b[0m in \u001b[0;36mCalcF1\u001b[1;34m(SGCL)\u001b[0m\n",
      "\u001b[1;31mKeyError\u001b[0m: None"
     ]
    },
    {
     "ename": "KeyError",
     "evalue": "None",
     "output_type": "error",
     "traceback": [
      "\u001b[1;31m---------------------------------------------------------------------------\u001b[0m",
      "\u001b[1;31mKeyError\u001b[0m                                  Traceback (most recent call last)",
      "\u001b[1;32m<expression>\u001b[0m in \u001b[0;36m<module>\u001b[1;34m()\u001b[0m\n",
      "\u001b[1;32m<string>\u001b[0m in \u001b[0;36mCalcF1\u001b[1;34m(SGCL)\u001b[0m\n",
      "\u001b[1;31mKeyError\u001b[0m: None"
     ]
    },
    {
     "ename": "KeyError",
     "evalue": "None",
     "output_type": "error",
     "traceback": [
      "\u001b[1;31m---------------------------------------------------------------------------\u001b[0m",
      "\u001b[1;31mKeyError\u001b[0m                                  Traceback (most recent call last)",
      "\u001b[1;32m<expression>\u001b[0m in \u001b[0;36m<module>\u001b[1;34m()\u001b[0m\n",
      "\u001b[1;32m<string>\u001b[0m in \u001b[0;36mCalcF1\u001b[1;34m(SGCL)\u001b[0m\n",
      "\u001b[1;31mKeyError\u001b[0m: None"
     ]
    },
    {
     "ename": "KeyError",
     "evalue": "None",
     "output_type": "error",
     "traceback": [
      "\u001b[1;31m---------------------------------------------------------------------------\u001b[0m",
      "\u001b[1;31mKeyError\u001b[0m                                  Traceback (most recent call last)",
      "\u001b[1;32m<expression>\u001b[0m in \u001b[0;36m<module>\u001b[1;34m()\u001b[0m\n",
      "\u001b[1;32m<string>\u001b[0m in \u001b[0;36mCalcF1\u001b[1;34m(SGCL)\u001b[0m\n",
      "\u001b[1;31mKeyError\u001b[0m: None"
     ]
    },
    {
     "ename": "KeyError",
     "evalue": "None",
     "output_type": "error",
     "traceback": [
      "\u001b[1;31m---------------------------------------------------------------------------\u001b[0m",
      "\u001b[1;31mKeyError\u001b[0m                                  Traceback (most recent call last)",
      "\u001b[1;32m<expression>\u001b[0m in \u001b[0;36m<module>\u001b[1;34m()\u001b[0m\n",
      "\u001b[1;32m<string>\u001b[0m in \u001b[0;36mCalcF1\u001b[1;34m(SGCL)\u001b[0m\n",
      "\u001b[1;31mKeyError\u001b[0m: None"
     ]
    },
    {
     "ename": "KeyError",
     "evalue": "None",
     "output_type": "error",
     "traceback": [
      "\u001b[1;31m---------------------------------------------------------------------------\u001b[0m",
      "\u001b[1;31mKeyError\u001b[0m                                  Traceback (most recent call last)",
      "\u001b[1;32m<expression>\u001b[0m in \u001b[0;36m<module>\u001b[1;34m()\u001b[0m\n",
      "\u001b[1;32m<string>\u001b[0m in \u001b[0;36mCalcF1\u001b[1;34m(SGCL)\u001b[0m\n",
      "\u001b[1;31mKeyError\u001b[0m: None"
     ]
    },
    {
     "ename": "KeyError",
     "evalue": "None",
     "output_type": "error",
     "traceback": [
      "\u001b[1;31m---------------------------------------------------------------------------\u001b[0m",
      "\u001b[1;31mKeyError\u001b[0m                                  Traceback (most recent call last)",
      "\u001b[1;32m<expression>\u001b[0m in \u001b[0;36m<module>\u001b[1;34m()\u001b[0m\n",
      "\u001b[1;32m<string>\u001b[0m in \u001b[0;36mCalcF1\u001b[1;34m(SGCL)\u001b[0m\n",
      "\u001b[1;31mKeyError\u001b[0m: None"
     ]
    },
    {
     "ename": "KeyError",
     "evalue": "None",
     "output_type": "error",
     "traceback": [
      "\u001b[1;31m---------------------------------------------------------------------------\u001b[0m",
      "\u001b[1;31mKeyError\u001b[0m                                  Traceback (most recent call last)",
      "\u001b[1;32m<expression>\u001b[0m in \u001b[0;36m<module>\u001b[1;34m()\u001b[0m\n",
      "\u001b[1;32m<string>\u001b[0m in \u001b[0;36mCalcF1\u001b[1;34m(SGCL)\u001b[0m\n",
      "\u001b[1;31mKeyError\u001b[0m: None"
     ]
    },
    {
     "ename": "KeyError",
     "evalue": "None",
     "output_type": "error",
     "traceback": [
      "\u001b[1;31m---------------------------------------------------------------------------\u001b[0m",
      "\u001b[1;31mKeyError\u001b[0m                                  Traceback (most recent call last)",
      "\u001b[1;32m<expression>\u001b[0m in \u001b[0;36m<module>\u001b[1;34m()\u001b[0m\n",
      "\u001b[1;32m<string>\u001b[0m in \u001b[0;36mCalcF1\u001b[1;34m(SGCL)\u001b[0m\n",
      "\u001b[1;31mKeyError\u001b[0m: None"
     ]
    },
    {
     "ename": "KeyError",
     "evalue": "None",
     "output_type": "error",
     "traceback": [
      "\u001b[1;31m---------------------------------------------------------------------------\u001b[0m",
      "\u001b[1;31mKeyError\u001b[0m                                  Traceback (most recent call last)",
      "\u001b[1;32m<expression>\u001b[0m in \u001b[0;36m<module>\u001b[1;34m()\u001b[0m\n",
      "\u001b[1;32m<string>\u001b[0m in \u001b[0;36mCalcF1\u001b[1;34m(SGCL)\u001b[0m\n",
      "\u001b[1;31mKeyError\u001b[0m: None"
     ]
    },
    {
     "ename": "KeyError",
     "evalue": "None",
     "output_type": "error",
     "traceback": [
      "\u001b[1;31m---------------------------------------------------------------------------\u001b[0m",
      "\u001b[1;31mKeyError\u001b[0m                                  Traceback (most recent call last)",
      "\u001b[1;32m<expression>\u001b[0m in \u001b[0;36m<module>\u001b[1;34m()\u001b[0m\n",
      "\u001b[1;32m<string>\u001b[0m in \u001b[0;36mCalcF1\u001b[1;34m(SGCL)\u001b[0m\n",
      "\u001b[1;31mKeyError\u001b[0m: None"
     ]
    },
    {
     "ename": "KeyError",
     "evalue": "None",
     "output_type": "error",
     "traceback": [
      "\u001b[1;31m---------------------------------------------------------------------------\u001b[0m",
      "\u001b[1;31mKeyError\u001b[0m                                  Traceback (most recent call last)",
      "\u001b[1;32m<expression>\u001b[0m in \u001b[0;36m<module>\u001b[1;34m()\u001b[0m\n",
      "\u001b[1;32m<string>\u001b[0m in \u001b[0;36mCalcF1\u001b[1;34m(SGCL)\u001b[0m\n",
      "\u001b[1;31mKeyError\u001b[0m: None"
     ]
    },
    {
     "ename": "KeyError",
     "evalue": "None",
     "output_type": "error",
     "traceback": [
      "\u001b[1;31m---------------------------------------------------------------------------\u001b[0m",
      "\u001b[1;31mKeyError\u001b[0m                                  Traceback (most recent call last)",
      "\u001b[1;32m<expression>\u001b[0m in \u001b[0;36m<module>\u001b[1;34m()\u001b[0m\n",
      "\u001b[1;32m<string>\u001b[0m in \u001b[0;36mCalcF1\u001b[1;34m(SGCL)\u001b[0m\n",
      "\u001b[1;31mKeyError\u001b[0m: None"
     ]
    },
    {
     "ename": "KeyError",
     "evalue": "None",
     "output_type": "error",
     "traceback": [
      "\u001b[1;31m---------------------------------------------------------------------------\u001b[0m",
      "\u001b[1;31mKeyError\u001b[0m                                  Traceback (most recent call last)",
      "\u001b[1;32m<expression>\u001b[0m in \u001b[0;36m<module>\u001b[1;34m()\u001b[0m\n",
      "\u001b[1;32m<string>\u001b[0m in \u001b[0;36mCalcF1\u001b[1;34m(SGCL)\u001b[0m\n",
      "\u001b[1;31mKeyError\u001b[0m: None"
     ]
    },
    {
     "ename": "KeyError",
     "evalue": "None",
     "output_type": "error",
     "traceback": [
      "\u001b[1;31m---------------------------------------------------------------------------\u001b[0m",
      "\u001b[1;31mKeyError\u001b[0m                                  Traceback (most recent call last)",
      "\u001b[1;32m<expression>\u001b[0m in \u001b[0;36m<module>\u001b[1;34m()\u001b[0m\n",
      "\u001b[1;32m<string>\u001b[0m in \u001b[0;36mCalcF1\u001b[1;34m(SGCL)\u001b[0m\n",
      "\u001b[1;31mKeyError\u001b[0m: None"
     ]
    },
    {
     "ename": "KeyError",
     "evalue": "None",
     "output_type": "error",
     "traceback": [
      "\u001b[1;31m---------------------------------------------------------------------------\u001b[0m",
      "\u001b[1;31mKeyError\u001b[0m                                  Traceback (most recent call last)",
      "\u001b[1;32m<expression>\u001b[0m in \u001b[0;36m<module>\u001b[1;34m()\u001b[0m\n",
      "\u001b[1;32m<string>\u001b[0m in \u001b[0;36mCalcF1\u001b[1;34m(SGCL)\u001b[0m\n",
      "\u001b[1;31mKeyError\u001b[0m: None"
     ]
    },
    {
     "ename": "KeyError",
     "evalue": "None",
     "output_type": "error",
     "traceback": [
      "\u001b[1;31m---------------------------------------------------------------------------\u001b[0m",
      "\u001b[1;31mKeyError\u001b[0m                                  Traceback (most recent call last)",
      "\u001b[1;32m<expression>\u001b[0m in \u001b[0;36m<module>\u001b[1;34m()\u001b[0m\n",
      "\u001b[1;32m<string>\u001b[0m in \u001b[0;36mCalcF1\u001b[1;34m(SGCL)\u001b[0m\n",
      "\u001b[1;31mKeyError\u001b[0m: None"
     ]
    },
    {
     "ename": "KeyError",
     "evalue": "None",
     "output_type": "error",
     "traceback": [
      "\u001b[1;31m---------------------------------------------------------------------------\u001b[0m",
      "\u001b[1;31mKeyError\u001b[0m                                  Traceback (most recent call last)",
      "\u001b[1;32m<expression>\u001b[0m in \u001b[0;36m<module>\u001b[1;34m()\u001b[0m\n",
      "\u001b[1;32m<string>\u001b[0m in \u001b[0;36mCalcF1\u001b[1;34m(SGCL)\u001b[0m\n",
      "\u001b[1;31mKeyError\u001b[0m: None"
     ]
    },
    {
     "ename": "KeyError",
     "evalue": "None",
     "output_type": "error",
     "traceback": [
      "\u001b[1;31m---------------------------------------------------------------------------\u001b[0m",
      "\u001b[1;31mKeyError\u001b[0m                                  Traceback (most recent call last)",
      "\u001b[1;32m<expression>\u001b[0m in \u001b[0;36m<module>\u001b[1;34m()\u001b[0m\n",
      "\u001b[1;32m<string>\u001b[0m in \u001b[0;36mCalcF1\u001b[1;34m(SGCL)\u001b[0m\n",
      "\u001b[1;31mKeyError\u001b[0m: None"
     ]
    },
    {
     "ename": "KeyError",
     "evalue": "None",
     "output_type": "error",
     "traceback": [
      "\u001b[1;31m---------------------------------------------------------------------------\u001b[0m",
      "\u001b[1;31mKeyError\u001b[0m                                  Traceback (most recent call last)",
      "\u001b[1;32m<expression>\u001b[0m in \u001b[0;36m<module>\u001b[1;34m()\u001b[0m\n",
      "\u001b[1;32m<string>\u001b[0m in \u001b[0;36mCalcF1\u001b[1;34m(SGCL)\u001b[0m\n",
      "\u001b[1;31mKeyError\u001b[0m: None"
     ]
    },
    {
     "ename": "KeyError",
     "evalue": "None",
     "output_type": "error",
     "traceback": [
      "\u001b[1;31m---------------------------------------------------------------------------\u001b[0m",
      "\u001b[1;31mKeyError\u001b[0m                                  Traceback (most recent call last)",
      "\u001b[1;32m<expression>\u001b[0m in \u001b[0;36m<module>\u001b[1;34m()\u001b[0m\n",
      "\u001b[1;32m<string>\u001b[0m in \u001b[0;36mCalcF1\u001b[1;34m(SGCL)\u001b[0m\n",
      "\u001b[1;31mKeyError\u001b[0m: None"
     ]
    },
    {
     "ename": "KeyError",
     "evalue": "None",
     "output_type": "error",
     "traceback": [
      "\u001b[1;31m---------------------------------------------------------------------------\u001b[0m",
      "\u001b[1;31mKeyError\u001b[0m                                  Traceback (most recent call last)",
      "\u001b[1;32m<expression>\u001b[0m in \u001b[0;36m<module>\u001b[1;34m()\u001b[0m\n",
      "\u001b[1;32m<string>\u001b[0m in \u001b[0;36mCalcF1\u001b[1;34m(SGCL)\u001b[0m\n",
      "\u001b[1;31mKeyError\u001b[0m: None"
     ]
    },
    {
     "ename": "KeyError",
     "evalue": "None",
     "output_type": "error",
     "traceback": [
      "\u001b[1;31m---------------------------------------------------------------------------\u001b[0m",
      "\u001b[1;31mKeyError\u001b[0m                                  Traceback (most recent call last)",
      "\u001b[1;32m<expression>\u001b[0m in \u001b[0;36m<module>\u001b[1;34m()\u001b[0m\n",
      "\u001b[1;32m<string>\u001b[0m in \u001b[0;36mCalcF1\u001b[1;34m(SGCL)\u001b[0m\n",
      "\u001b[1;31mKeyError\u001b[0m: None"
     ]
    },
    {
     "ename": "KeyError",
     "evalue": "None",
     "output_type": "error",
     "traceback": [
      "\u001b[1;31m---------------------------------------------------------------------------\u001b[0m",
      "\u001b[1;31mKeyError\u001b[0m                                  Traceback (most recent call last)",
      "\u001b[1;32m<expression>\u001b[0m in \u001b[0;36m<module>\u001b[1;34m()\u001b[0m\n",
      "\u001b[1;32m<string>\u001b[0m in \u001b[0;36mCalcF1\u001b[1;34m(SGCL)\u001b[0m\n",
      "\u001b[1;31mKeyError\u001b[0m: None"
     ]
    },
    {
     "ename": "KeyError",
     "evalue": "None",
     "output_type": "error",
     "traceback": [
      "\u001b[1;31m---------------------------------------------------------------------------\u001b[0m",
      "\u001b[1;31mKeyError\u001b[0m                                  Traceback (most recent call last)",
      "\u001b[1;32m<expression>\u001b[0m in \u001b[0;36m<module>\u001b[1;34m()\u001b[0m\n",
      "\u001b[1;32m<string>\u001b[0m in \u001b[0;36mCalcF1\u001b[1;34m(SGCL)\u001b[0m\n",
      "\u001b[1;31mKeyError\u001b[0m: None"
     ]
    },
    {
     "ename": "KeyError",
     "evalue": "None",
     "output_type": "error",
     "traceback": [
      "\u001b[1;31m---------------------------------------------------------------------------\u001b[0m",
      "\u001b[1;31mKeyError\u001b[0m                                  Traceback (most recent call last)",
      "\u001b[1;32m<expression>\u001b[0m in \u001b[0;36m<module>\u001b[1;34m()\u001b[0m\n",
      "\u001b[1;32m<string>\u001b[0m in \u001b[0;36mCalcF1\u001b[1;34m(SGCL)\u001b[0m\n",
      "\u001b[1;31mKeyError\u001b[0m: None"
     ]
    },
    {
     "ename": "KeyError",
     "evalue": "None",
     "output_type": "error",
     "traceback": [
      "\u001b[1;31m---------------------------------------------------------------------------\u001b[0m",
      "\u001b[1;31mKeyError\u001b[0m                                  Traceback (most recent call last)",
      "\u001b[1;32m<expression>\u001b[0m in \u001b[0;36m<module>\u001b[1;34m()\u001b[0m\n",
      "\u001b[1;32m<string>\u001b[0m in \u001b[0;36mCalcF1\u001b[1;34m(SGCL)\u001b[0m\n",
      "\u001b[1;31mKeyError\u001b[0m: None"
     ]
    },
    {
     "ename": "KeyError",
     "evalue": "None",
     "output_type": "error",
     "traceback": [
      "\u001b[1;31m---------------------------------------------------------------------------\u001b[0m",
      "\u001b[1;31mKeyError\u001b[0m                                  Traceback (most recent call last)",
      "\u001b[1;32m<expression>\u001b[0m in \u001b[0;36m<module>\u001b[1;34m()\u001b[0m\n",
      "\u001b[1;32m<string>\u001b[0m in \u001b[0;36mCalcF1\u001b[1;34m(SGCL)\u001b[0m\n",
      "\u001b[1;31mKeyError\u001b[0m: None"
     ]
    },
    {
     "ename": "KeyError",
     "evalue": "None",
     "output_type": "error",
     "traceback": [
      "\u001b[1;31m---------------------------------------------------------------------------\u001b[0m",
      "\u001b[1;31mKeyError\u001b[0m                                  Traceback (most recent call last)",
      "\u001b[1;32m<expression>\u001b[0m in \u001b[0;36m<module>\u001b[1;34m()\u001b[0m\n",
      "\u001b[1;32m<string>\u001b[0m in \u001b[0;36mCalcF1\u001b[1;34m(SGCL)\u001b[0m\n",
      "\u001b[1;31mKeyError\u001b[0m: None"
     ]
    },
    {
     "ename": "KeyError",
     "evalue": "None",
     "output_type": "error",
     "traceback": [
      "\u001b[1;31m---------------------------------------------------------------------------\u001b[0m",
      "\u001b[1;31mKeyError\u001b[0m                                  Traceback (most recent call last)",
      "\u001b[1;32m<expression>\u001b[0m in \u001b[0;36m<module>\u001b[1;34m()\u001b[0m\n",
      "\u001b[1;32m<string>\u001b[0m in \u001b[0;36mCalcF1\u001b[1;34m(SGCL)\u001b[0m\n",
      "\u001b[1;31mKeyError\u001b[0m: None"
     ]
    },
    {
     "ename": "KeyError",
     "evalue": "None",
     "output_type": "error",
     "traceback": [
      "\u001b[1;31m---------------------------------------------------------------------------\u001b[0m",
      "\u001b[1;31mKeyError\u001b[0m                                  Traceback (most recent call last)",
      "\u001b[1;32m<expression>\u001b[0m in \u001b[0;36m<module>\u001b[1;34m()\u001b[0m\n",
      "\u001b[1;32m<string>\u001b[0m in \u001b[0;36mCalcF1\u001b[1;34m(SGCL)\u001b[0m\n",
      "\u001b[1;31mKeyError\u001b[0m: None"
     ]
    },
    {
     "ename": "KeyError",
     "evalue": "None",
     "output_type": "error",
     "traceback": [
      "\u001b[1;31m---------------------------------------------------------------------------\u001b[0m",
      "\u001b[1;31mKeyError\u001b[0m                                  Traceback (most recent call last)",
      "\u001b[1;32m<expression>\u001b[0m in \u001b[0;36m<module>\u001b[1;34m()\u001b[0m\n",
      "\u001b[1;32m<string>\u001b[0m in \u001b[0;36mCalcF1\u001b[1;34m(SGCL)\u001b[0m\n",
      "\u001b[1;31mKeyError\u001b[0m: None"
     ]
    },
    {
     "ename": "KeyError",
     "evalue": "None",
     "output_type": "error",
     "traceback": [
      "\u001b[1;31m---------------------------------------------------------------------------\u001b[0m",
      "\u001b[1;31mKeyError\u001b[0m                                  Traceback (most recent call last)",
      "\u001b[1;32m<expression>\u001b[0m in \u001b[0;36m<module>\u001b[1;34m()\u001b[0m\n",
      "\u001b[1;32m<string>\u001b[0m in \u001b[0;36mCalcF1\u001b[1;34m(SGCL)\u001b[0m\n",
      "\u001b[1;31mKeyError\u001b[0m: None"
     ]
    },
    {
     "ename": "KeyError",
     "evalue": "None",
     "output_type": "error",
     "traceback": [
      "\u001b[1;31m---------------------------------------------------------------------------\u001b[0m",
      "\u001b[1;31mKeyError\u001b[0m                                  Traceback (most recent call last)",
      "\u001b[1;32m<expression>\u001b[0m in \u001b[0;36m<module>\u001b[1;34m()\u001b[0m\n",
      "\u001b[1;32m<string>\u001b[0m in \u001b[0;36mCalcF1\u001b[1;34m(SGCL)\u001b[0m\n",
      "\u001b[1;31mKeyError\u001b[0m: None"
     ]
    },
    {
     "ename": "KeyError",
     "evalue": "None",
     "output_type": "error",
     "traceback": [
      "\u001b[1;31m---------------------------------------------------------------------------\u001b[0m",
      "\u001b[1;31mKeyError\u001b[0m                                  Traceback (most recent call last)",
      "\u001b[1;32m<expression>\u001b[0m in \u001b[0;36m<module>\u001b[1;34m()\u001b[0m\n",
      "\u001b[1;32m<string>\u001b[0m in \u001b[0;36mCalcF1\u001b[1;34m(SGCL)\u001b[0m\n",
      "\u001b[1;31mKeyError\u001b[0m: None"
     ]
    },
    {
     "ename": "KeyError",
     "evalue": "None",
     "output_type": "error",
     "traceback": [
      "\u001b[1;31m---------------------------------------------------------------------------\u001b[0m",
      "\u001b[1;31mKeyError\u001b[0m                                  Traceback (most recent call last)",
      "\u001b[1;32m<expression>\u001b[0m in \u001b[0;36m<module>\u001b[1;34m()\u001b[0m\n",
      "\u001b[1;32m<string>\u001b[0m in \u001b[0;36mCalcF1\u001b[1;34m(SGCL)\u001b[0m\n",
      "\u001b[1;31mKeyError\u001b[0m: None"
     ]
    },
    {
     "ename": "KeyError",
     "evalue": "None",
     "output_type": "error",
     "traceback": [
      "\u001b[1;31m---------------------------------------------------------------------------\u001b[0m",
      "\u001b[1;31mKeyError\u001b[0m                                  Traceback (most recent call last)",
      "\u001b[1;32m<expression>\u001b[0m in \u001b[0;36m<module>\u001b[1;34m()\u001b[0m\n",
      "\u001b[1;32m<string>\u001b[0m in \u001b[0;36mCalcF1\u001b[1;34m(SGCL)\u001b[0m\n",
      "\u001b[1;31mKeyError\u001b[0m: None"
     ]
    },
    {
     "ename": "KeyError",
     "evalue": "None",
     "output_type": "error",
     "traceback": [
      "\u001b[1;31m---------------------------------------------------------------------------\u001b[0m",
      "\u001b[1;31mKeyError\u001b[0m                                  Traceback (most recent call last)",
      "\u001b[1;32m<expression>\u001b[0m in \u001b[0;36m<module>\u001b[1;34m()\u001b[0m\n",
      "\u001b[1;32m<string>\u001b[0m in \u001b[0;36mCalcF1\u001b[1;34m(SGCL)\u001b[0m\n",
      "\u001b[1;31mKeyError\u001b[0m: None"
     ]
    },
    {
     "ename": "KeyError",
     "evalue": "None",
     "output_type": "error",
     "traceback": [
      "\u001b[1;31m---------------------------------------------------------------------------\u001b[0m",
      "\u001b[1;31mKeyError\u001b[0m                                  Traceback (most recent call last)",
      "\u001b[1;32m<expression>\u001b[0m in \u001b[0;36m<module>\u001b[1;34m()\u001b[0m\n",
      "\u001b[1;32m<string>\u001b[0m in \u001b[0;36mCalcF1\u001b[1;34m(SGCL)\u001b[0m\n",
      "\u001b[1;31mKeyError\u001b[0m: None"
     ]
    },
    {
     "ename": "KeyError",
     "evalue": "None",
     "output_type": "error",
     "traceback": [
      "\u001b[1;31m---------------------------------------------------------------------------\u001b[0m",
      "\u001b[1;31mKeyError\u001b[0m                                  Traceback (most recent call last)",
      "\u001b[1;32m<expression>\u001b[0m in \u001b[0;36m<module>\u001b[1;34m()\u001b[0m\n",
      "\u001b[1;32m<string>\u001b[0m in \u001b[0;36mCalcF1\u001b[1;34m(SGCL)\u001b[0m\n",
      "\u001b[1;31mKeyError\u001b[0m: None"
     ]
    },
    {
     "ename": "KeyError",
     "evalue": "None",
     "output_type": "error",
     "traceback": [
      "\u001b[1;31m---------------------------------------------------------------------------\u001b[0m",
      "\u001b[1;31mKeyError\u001b[0m                                  Traceback (most recent call last)",
      "\u001b[1;32m<expression>\u001b[0m in \u001b[0;36m<module>\u001b[1;34m()\u001b[0m\n",
      "\u001b[1;32m<string>\u001b[0m in \u001b[0;36mCalcF1\u001b[1;34m(SGCL)\u001b[0m\n",
      "\u001b[1;31mKeyError\u001b[0m: None"
     ]
    },
    {
     "ename": "KeyError",
     "evalue": "None",
     "output_type": "error",
     "traceback": [
      "\u001b[1;31m---------------------------------------------------------------------------\u001b[0m",
      "\u001b[1;31mKeyError\u001b[0m                                  Traceback (most recent call last)",
      "\u001b[1;32m<expression>\u001b[0m in \u001b[0;36m<module>\u001b[1;34m()\u001b[0m\n",
      "\u001b[1;32m<string>\u001b[0m in \u001b[0;36mCalcF1\u001b[1;34m(SGCL)\u001b[0m\n",
      "\u001b[1;31mKeyError\u001b[0m: None"
     ]
    },
    {
     "ename": "KeyError",
     "evalue": "None",
     "output_type": "error",
     "traceback": [
      "\u001b[1;31m---------------------------------------------------------------------------\u001b[0m",
      "\u001b[1;31mKeyError\u001b[0m                                  Traceback (most recent call last)",
      "\u001b[1;32m<expression>\u001b[0m in \u001b[0;36m<module>\u001b[1;34m()\u001b[0m\n",
      "\u001b[1;32m<string>\u001b[0m in \u001b[0;36mCalcF1\u001b[1;34m(SGCL)\u001b[0m\n",
      "\u001b[1;31mKeyError\u001b[0m: None"
     ]
    },
    {
     "ename": "KeyError",
     "evalue": "None",
     "output_type": "error",
     "traceback": [
      "\u001b[1;31m---------------------------------------------------------------------------\u001b[0m",
      "\u001b[1;31mKeyError\u001b[0m                                  Traceback (most recent call last)",
      "\u001b[1;32m<expression>\u001b[0m in \u001b[0;36m<module>\u001b[1;34m()\u001b[0m\n",
      "\u001b[1;32m<string>\u001b[0m in \u001b[0;36mCalcF1\u001b[1;34m(SGCL)\u001b[0m\n",
      "\u001b[1;31mKeyError\u001b[0m: None"
     ]
    },
    {
     "ename": "KeyError",
     "evalue": "None",
     "output_type": "error",
     "traceback": [
      "\u001b[1;31m---------------------------------------------------------------------------\u001b[0m",
      "\u001b[1;31mKeyError\u001b[0m                                  Traceback (most recent call last)",
      "\u001b[1;32m<expression>\u001b[0m in \u001b[0;36m<module>\u001b[1;34m()\u001b[0m\n",
      "\u001b[1;32m<string>\u001b[0m in \u001b[0;36mCalcF1\u001b[1;34m(SGCL)\u001b[0m\n",
      "\u001b[1;31mKeyError\u001b[0m: None"
     ]
    },
    {
     "ename": "KeyError",
     "evalue": "None",
     "output_type": "error",
     "traceback": [
      "\u001b[1;31m---------------------------------------------------------------------------\u001b[0m",
      "\u001b[1;31mKeyError\u001b[0m                                  Traceback (most recent call last)",
      "\u001b[1;32m<expression>\u001b[0m in \u001b[0;36m<module>\u001b[1;34m()\u001b[0m\n",
      "\u001b[1;32m<string>\u001b[0m in \u001b[0;36mCalcF1\u001b[1;34m(SGCL)\u001b[0m\n",
      "\u001b[1;31mKeyError\u001b[0m: None"
     ]
    },
    {
     "ename": "KeyError",
     "evalue": "None",
     "output_type": "error",
     "traceback": [
      "\u001b[1;31m---------------------------------------------------------------------------\u001b[0m",
      "\u001b[1;31mKeyError\u001b[0m                                  Traceback (most recent call last)",
      "\u001b[1;32m<expression>\u001b[0m in \u001b[0;36m<module>\u001b[1;34m()\u001b[0m\n",
      "\u001b[1;32m<string>\u001b[0m in \u001b[0;36mCalcF1\u001b[1;34m(SGCL)\u001b[0m\n",
      "\u001b[1;31mKeyError\u001b[0m: None"
     ]
    },
    {
     "ename": "KeyError",
     "evalue": "None",
     "output_type": "error",
     "traceback": [
      "\u001b[1;31m---------------------------------------------------------------------------\u001b[0m",
      "\u001b[1;31mKeyError\u001b[0m                                  Traceback (most recent call last)",
      "\u001b[1;32m<expression>\u001b[0m in \u001b[0;36m<module>\u001b[1;34m()\u001b[0m\n",
      "\u001b[1;32m<string>\u001b[0m in \u001b[0;36mCalcF1\u001b[1;34m(SGCL)\u001b[0m\n",
      "\u001b[1;31mKeyError\u001b[0m: None"
     ]
    },
    {
     "ename": "KeyError",
     "evalue": "None",
     "output_type": "error",
     "traceback": [
      "\u001b[1;31m---------------------------------------------------------------------------\u001b[0m",
      "\u001b[1;31mKeyError\u001b[0m                                  Traceback (most recent call last)",
      "\u001b[1;32m<expression>\u001b[0m in \u001b[0;36m<module>\u001b[1;34m()\u001b[0m\n",
      "\u001b[1;32m<string>\u001b[0m in \u001b[0;36mCalcF1\u001b[1;34m(SGCL)\u001b[0m\n",
      "\u001b[1;31mKeyError\u001b[0m: None"
     ]
    },
    {
     "ename": "KeyError",
     "evalue": "None",
     "output_type": "error",
     "traceback": [
      "\u001b[1;31m---------------------------------------------------------------------------\u001b[0m",
      "\u001b[1;31mKeyError\u001b[0m                                  Traceback (most recent call last)",
      "\u001b[1;32m<expression>\u001b[0m in \u001b[0;36m<module>\u001b[1;34m()\u001b[0m\n",
      "\u001b[1;32m<string>\u001b[0m in \u001b[0;36mCalcF1\u001b[1;34m(SGCL)\u001b[0m\n",
      "\u001b[1;31mKeyError\u001b[0m: None"
     ]
    },
    {
     "ename": "KeyError",
     "evalue": "None",
     "output_type": "error",
     "traceback": [
      "\u001b[1;31m---------------------------------------------------------------------------\u001b[0m",
      "\u001b[1;31mKeyError\u001b[0m                                  Traceback (most recent call last)",
      "\u001b[1;32m<expression>\u001b[0m in \u001b[0;36m<module>\u001b[1;34m()\u001b[0m\n",
      "\u001b[1;32m<string>\u001b[0m in \u001b[0;36mCalcF1\u001b[1;34m(SGCL)\u001b[0m\n",
      "\u001b[1;31mKeyError\u001b[0m: None"
     ]
    },
    {
     "ename": "KeyError",
     "evalue": "None",
     "output_type": "error",
     "traceback": [
      "\u001b[1;31m---------------------------------------------------------------------------\u001b[0m",
      "\u001b[1;31mKeyError\u001b[0m                                  Traceback (most recent call last)",
      "\u001b[1;32m<expression>\u001b[0m in \u001b[0;36m<module>\u001b[1;34m()\u001b[0m\n",
      "\u001b[1;32m<string>\u001b[0m in \u001b[0;36mCalcF1\u001b[1;34m(SGCL)\u001b[0m\n",
      "\u001b[1;31mKeyError\u001b[0m: None"
     ]
    },
    {
     "ename": "KeyError",
     "evalue": "None",
     "output_type": "error",
     "traceback": [
      "\u001b[1;31m---------------------------------------------------------------------------\u001b[0m",
      "\u001b[1;31mKeyError\u001b[0m                                  Traceback (most recent call last)",
      "\u001b[1;32m<expression>\u001b[0m in \u001b[0;36m<module>\u001b[1;34m()\u001b[0m\n",
      "\u001b[1;32m<string>\u001b[0m in \u001b[0;36mCalcF1\u001b[1;34m(SGCL)\u001b[0m\n",
      "\u001b[1;31mKeyError\u001b[0m: None"
     ]
    },
    {
     "ename": "KeyError",
     "evalue": "None",
     "output_type": "error",
     "traceback": [
      "\u001b[1;31m---------------------------------------------------------------------------\u001b[0m",
      "\u001b[1;31mKeyError\u001b[0m                                  Traceback (most recent call last)",
      "\u001b[1;32m<expression>\u001b[0m in \u001b[0;36m<module>\u001b[1;34m()\u001b[0m\n",
      "\u001b[1;32m<string>\u001b[0m in \u001b[0;36mCalcF1\u001b[1;34m(SGCL)\u001b[0m\n",
      "\u001b[1;31mKeyError\u001b[0m: None"
     ]
    },
    {
     "ename": "KeyError",
     "evalue": "None",
     "output_type": "error",
     "traceback": [
      "\u001b[1;31m---------------------------------------------------------------------------\u001b[0m",
      "\u001b[1;31mKeyError\u001b[0m                                  Traceback (most recent call last)",
      "\u001b[1;32m<expression>\u001b[0m in \u001b[0;36m<module>\u001b[1;34m()\u001b[0m\n",
      "\u001b[1;32m<string>\u001b[0m in \u001b[0;36mCalcF1\u001b[1;34m(SGCL)\u001b[0m\n",
      "\u001b[1;31mKeyError\u001b[0m: None"
     ]
    },
    {
     "ename": "KeyError",
     "evalue": "None",
     "output_type": "error",
     "traceback": [
      "\u001b[1;31m---------------------------------------------------------------------------\u001b[0m",
      "\u001b[1;31mKeyError\u001b[0m                                  Traceback (most recent call last)",
      "\u001b[1;32m<expression>\u001b[0m in \u001b[0;36m<module>\u001b[1;34m()\u001b[0m\n",
      "\u001b[1;32m<string>\u001b[0m in \u001b[0;36mCalcF1\u001b[1;34m(SGCL)\u001b[0m\n",
      "\u001b[1;31mKeyError\u001b[0m: None"
     ]
    },
    {
     "ename": "KeyError",
     "evalue": "None",
     "output_type": "error",
     "traceback": [
      "\u001b[1;31m---------------------------------------------------------------------------\u001b[0m",
      "\u001b[1;31mKeyError\u001b[0m                                  Traceback (most recent call last)",
      "\u001b[1;32m<expression>\u001b[0m in \u001b[0;36m<module>\u001b[1;34m()\u001b[0m\n",
      "\u001b[1;32m<string>\u001b[0m in \u001b[0;36mCalcF1\u001b[1;34m(SGCL)\u001b[0m\n",
      "\u001b[1;31mKeyError\u001b[0m: None"
     ]
    },
    {
     "ename": "KeyError",
     "evalue": "None",
     "output_type": "error",
     "traceback": [
      "\u001b[1;31m---------------------------------------------------------------------------\u001b[0m",
      "\u001b[1;31mKeyError\u001b[0m                                  Traceback (most recent call last)",
      "\u001b[1;32m<expression>\u001b[0m in \u001b[0;36m<module>\u001b[1;34m()\u001b[0m\n",
      "\u001b[1;32m<string>\u001b[0m in \u001b[0;36mCalcF1\u001b[1;34m(SGCL)\u001b[0m\n",
      "\u001b[1;31mKeyError\u001b[0m: None"
     ]
    },
    {
     "ename": "KeyError",
     "evalue": "None",
     "output_type": "error",
     "traceback": [
      "\u001b[1;31m---------------------------------------------------------------------------\u001b[0m",
      "\u001b[1;31mKeyError\u001b[0m                                  Traceback (most recent call last)",
      "\u001b[1;32m<expression>\u001b[0m in \u001b[0;36m<module>\u001b[1;34m()\u001b[0m\n",
      "\u001b[1;32m<string>\u001b[0m in \u001b[0;36mCalcF1\u001b[1;34m(SGCL)\u001b[0m\n",
      "\u001b[1;31mKeyError\u001b[0m: None"
     ]
    },
    {
     "ename": "KeyError",
     "evalue": "None",
     "output_type": "error",
     "traceback": [
      "\u001b[1;31m---------------------------------------------------------------------------\u001b[0m",
      "\u001b[1;31mKeyError\u001b[0m                                  Traceback (most recent call last)",
      "\u001b[1;32m<expression>\u001b[0m in \u001b[0;36m<module>\u001b[1;34m()\u001b[0m\n",
      "\u001b[1;32m<string>\u001b[0m in \u001b[0;36mCalcF1\u001b[1;34m(SGCL)\u001b[0m\n",
      "\u001b[1;31mKeyError\u001b[0m: None"
     ]
    },
    {
     "ename": "KeyError",
     "evalue": "None",
     "output_type": "error",
     "traceback": [
      "\u001b[1;31m---------------------------------------------------------------------------\u001b[0m",
      "\u001b[1;31mKeyError\u001b[0m                                  Traceback (most recent call last)",
      "\u001b[1;32m<expression>\u001b[0m in \u001b[0;36m<module>\u001b[1;34m()\u001b[0m\n",
      "\u001b[1;32m<string>\u001b[0m in \u001b[0;36mCalcF1\u001b[1;34m(SGCL)\u001b[0m\n",
      "\u001b[1;31mKeyError\u001b[0m: None"
     ]
    },
    {
     "ename": "KeyError",
     "evalue": "None",
     "output_type": "error",
     "traceback": [
      "\u001b[1;31m---------------------------------------------------------------------------\u001b[0m",
      "\u001b[1;31mKeyError\u001b[0m                                  Traceback (most recent call last)",
      "\u001b[1;32m<expression>\u001b[0m in \u001b[0;36m<module>\u001b[1;34m()\u001b[0m\n",
      "\u001b[1;32m<string>\u001b[0m in \u001b[0;36mCalcF1\u001b[1;34m(SGCL)\u001b[0m\n",
      "\u001b[1;31mKeyError\u001b[0m: None"
     ]
    },
    {
     "ename": "KeyError",
     "evalue": "None",
     "output_type": "error",
     "traceback": [
      "\u001b[1;31m---------------------------------------------------------------------------\u001b[0m",
      "\u001b[1;31mKeyError\u001b[0m                                  Traceback (most recent call last)",
      "\u001b[1;32m<expression>\u001b[0m in \u001b[0;36m<module>\u001b[1;34m()\u001b[0m\n",
      "\u001b[1;32m<string>\u001b[0m in \u001b[0;36mCalcF1\u001b[1;34m(SGCL)\u001b[0m\n",
      "\u001b[1;31mKeyError\u001b[0m: None"
     ]
    },
    {
     "ename": "KeyError",
     "evalue": "None",
     "output_type": "error",
     "traceback": [
      "\u001b[1;31m---------------------------------------------------------------------------\u001b[0m",
      "\u001b[1;31mKeyError\u001b[0m                                  Traceback (most recent call last)",
      "\u001b[1;32m<expression>\u001b[0m in \u001b[0;36m<module>\u001b[1;34m()\u001b[0m\n",
      "\u001b[1;32m<string>\u001b[0m in \u001b[0;36mCalcF1\u001b[1;34m(SGCL)\u001b[0m\n",
      "\u001b[1;31mKeyError\u001b[0m: None"
     ]
    },
    {
     "ename": "KeyError",
     "evalue": "None",
     "output_type": "error",
     "traceback": [
      "\u001b[1;31m---------------------------------------------------------------------------\u001b[0m",
      "\u001b[1;31mKeyError\u001b[0m                                  Traceback (most recent call last)",
      "\u001b[1;32m<expression>\u001b[0m in \u001b[0;36m<module>\u001b[1;34m()\u001b[0m\n",
      "\u001b[1;32m<string>\u001b[0m in \u001b[0;36mCalcF1\u001b[1;34m(SGCL)\u001b[0m\n",
      "\u001b[1;31mKeyError\u001b[0m: None"
     ]
    },
    {
     "ename": "KeyError",
     "evalue": "None",
     "output_type": "error",
     "traceback": [
      "\u001b[1;31m---------------------------------------------------------------------------\u001b[0m",
      "\u001b[1;31mKeyError\u001b[0m                                  Traceback (most recent call last)",
      "\u001b[1;32m<expression>\u001b[0m in \u001b[0;36m<module>\u001b[1;34m()\u001b[0m\n",
      "\u001b[1;32m<string>\u001b[0m in \u001b[0;36mCalcF1\u001b[1;34m(SGCL)\u001b[0m\n",
      "\u001b[1;31mKeyError\u001b[0m: None"
     ]
    },
    {
     "ename": "KeyError",
     "evalue": "None",
     "output_type": "error",
     "traceback": [
      "\u001b[1;31m---------------------------------------------------------------------------\u001b[0m",
      "\u001b[1;31mKeyError\u001b[0m                                  Traceback (most recent call last)",
      "\u001b[1;32m<expression>\u001b[0m in \u001b[0;36m<module>\u001b[1;34m()\u001b[0m\n",
      "\u001b[1;32m<string>\u001b[0m in \u001b[0;36mCalcF1\u001b[1;34m(SGCL)\u001b[0m\n",
      "\u001b[1;31mKeyError\u001b[0m: None"
     ]
    },
    {
     "ename": "KeyError",
     "evalue": "None",
     "output_type": "error",
     "traceback": [
      "\u001b[1;31m---------------------------------------------------------------------------\u001b[0m",
      "\u001b[1;31mKeyError\u001b[0m                                  Traceback (most recent call last)",
      "\u001b[1;32m<expression>\u001b[0m in \u001b[0;36m<module>\u001b[1;34m()\u001b[0m\n",
      "\u001b[1;32m<string>\u001b[0m in \u001b[0;36mCalcF1\u001b[1;34m(SGCL)\u001b[0m\n",
      "\u001b[1;31mKeyError\u001b[0m: None"
     ]
    },
    {
     "ename": "KeyError",
     "evalue": "None",
     "output_type": "error",
     "traceback": [
      "\u001b[1;31m---------------------------------------------------------------------------\u001b[0m",
      "\u001b[1;31mKeyError\u001b[0m                                  Traceback (most recent call last)",
      "\u001b[1;32m<expression>\u001b[0m in \u001b[0;36m<module>\u001b[1;34m()\u001b[0m\n",
      "\u001b[1;32m<string>\u001b[0m in \u001b[0;36mCalcF1\u001b[1;34m(SGCL)\u001b[0m\n",
      "\u001b[1;31mKeyError\u001b[0m: None"
     ]
    },
    {
     "ename": "KeyError",
     "evalue": "None",
     "output_type": "error",
     "traceback": [
      "\u001b[1;31m---------------------------------------------------------------------------\u001b[0m",
      "\u001b[1;31mKeyError\u001b[0m                                  Traceback (most recent call last)",
      "\u001b[1;32m<expression>\u001b[0m in \u001b[0;36m<module>\u001b[1;34m()\u001b[0m\n",
      "\u001b[1;32m<string>\u001b[0m in \u001b[0;36mCalcF1\u001b[1;34m(SGCL)\u001b[0m\n",
      "\u001b[1;31mKeyError\u001b[0m: None"
     ]
    },
    {
     "ename": "KeyError",
     "evalue": "None",
     "output_type": "error",
     "traceback": [
      "\u001b[1;31m---------------------------------------------------------------------------\u001b[0m",
      "\u001b[1;31mKeyError\u001b[0m                                  Traceback (most recent call last)",
      "\u001b[1;32m<expression>\u001b[0m in \u001b[0;36m<module>\u001b[1;34m()\u001b[0m\n",
      "\u001b[1;32m<string>\u001b[0m in \u001b[0;36mCalcF1\u001b[1;34m(SGCL)\u001b[0m\n",
      "\u001b[1;31mKeyError\u001b[0m: None"
     ]
    },
    {
     "ename": "KeyError",
     "evalue": "None",
     "output_type": "error",
     "traceback": [
      "\u001b[1;31m---------------------------------------------------------------------------\u001b[0m",
      "\u001b[1;31mKeyError\u001b[0m                                  Traceback (most recent call last)",
      "\u001b[1;32m<expression>\u001b[0m in \u001b[0;36m<module>\u001b[1;34m()\u001b[0m\n",
      "\u001b[1;32m<string>\u001b[0m in \u001b[0;36mCalcF1\u001b[1;34m(SGCL)\u001b[0m\n",
      "\u001b[1;31mKeyError\u001b[0m: None"
     ]
    },
    {
     "ename": "KeyError",
     "evalue": "None",
     "output_type": "error",
     "traceback": [
      "\u001b[1;31m---------------------------------------------------------------------------\u001b[0m",
      "\u001b[1;31mKeyError\u001b[0m                                  Traceback (most recent call last)",
      "\u001b[1;32m<expression>\u001b[0m in \u001b[0;36m<module>\u001b[1;34m()\u001b[0m\n",
      "\u001b[1;32m<string>\u001b[0m in \u001b[0;36mCalcF1\u001b[1;34m(SGCL)\u001b[0m\n",
      "\u001b[1;31mKeyError\u001b[0m: None"
     ]
    },
    {
     "ename": "KeyError",
     "evalue": "None",
     "output_type": "error",
     "traceback": [
      "\u001b[1;31m---------------------------------------------------------------------------\u001b[0m",
      "\u001b[1;31mKeyError\u001b[0m                                  Traceback (most recent call last)",
      "\u001b[1;32m<expression>\u001b[0m in \u001b[0;36m<module>\u001b[1;34m()\u001b[0m\n",
      "\u001b[1;32m<string>\u001b[0m in \u001b[0;36mCalcF1\u001b[1;34m(SGCL)\u001b[0m\n",
      "\u001b[1;31mKeyError\u001b[0m: None"
     ]
    },
    {
     "ename": "KeyError",
     "evalue": "None",
     "output_type": "error",
     "traceback": [
      "\u001b[1;31m---------------------------------------------------------------------------\u001b[0m",
      "\u001b[1;31mKeyError\u001b[0m                                  Traceback (most recent call last)",
      "\u001b[1;32m<expression>\u001b[0m in \u001b[0;36m<module>\u001b[1;34m()\u001b[0m\n",
      "\u001b[1;32m<string>\u001b[0m in \u001b[0;36mCalcF1\u001b[1;34m(SGCL)\u001b[0m\n",
      "\u001b[1;31mKeyError\u001b[0m: None"
     ]
    },
    {
     "ename": "KeyError",
     "evalue": "None",
     "output_type": "error",
     "traceback": [
      "\u001b[1;31m---------------------------------------------------------------------------\u001b[0m",
      "\u001b[1;31mKeyError\u001b[0m                                  Traceback (most recent call last)",
      "\u001b[1;32m<expression>\u001b[0m in \u001b[0;36m<module>\u001b[1;34m()\u001b[0m\n",
      "\u001b[1;32m<string>\u001b[0m in \u001b[0;36mCalcF1\u001b[1;34m(SGCL)\u001b[0m\n",
      "\u001b[1;31mKeyError\u001b[0m: None"
     ]
    },
    {
     "ename": "KeyError",
     "evalue": "None",
     "output_type": "error",
     "traceback": [
      "\u001b[1;31m---------------------------------------------------------------------------\u001b[0m",
      "\u001b[1;31mKeyError\u001b[0m                                  Traceback (most recent call last)",
      "\u001b[1;32m<expression>\u001b[0m in \u001b[0;36m<module>\u001b[1;34m()\u001b[0m\n",
      "\u001b[1;32m<string>\u001b[0m in \u001b[0;36mCalcF1\u001b[1;34m(SGCL)\u001b[0m\n",
      "\u001b[1;31mKeyError\u001b[0m: None"
     ]
    },
    {
     "ename": "KeyError",
     "evalue": "None",
     "output_type": "error",
     "traceback": [
      "\u001b[1;31m---------------------------------------------------------------------------\u001b[0m",
      "\u001b[1;31mKeyError\u001b[0m                                  Traceback (most recent call last)",
      "\u001b[1;32m<expression>\u001b[0m in \u001b[0;36m<module>\u001b[1;34m()\u001b[0m\n",
      "\u001b[1;32m<string>\u001b[0m in \u001b[0;36mCalcF1\u001b[1;34m(SGCL)\u001b[0m\n",
      "\u001b[1;31mKeyError\u001b[0m: None"
     ]
    },
    {
     "ename": "KeyError",
     "evalue": "None",
     "output_type": "error",
     "traceback": [
      "\u001b[1;31m---------------------------------------------------------------------------\u001b[0m",
      "\u001b[1;31mKeyError\u001b[0m                                  Traceback (most recent call last)",
      "\u001b[1;32m<expression>\u001b[0m in \u001b[0;36m<module>\u001b[1;34m()\u001b[0m\n",
      "\u001b[1;32m<string>\u001b[0m in \u001b[0;36mCalcF1\u001b[1;34m(SGCL)\u001b[0m\n",
      "\u001b[1;31mKeyError\u001b[0m: None"
     ]
    },
    {
     "ename": "KeyError",
     "evalue": "None",
     "output_type": "error",
     "traceback": [
      "\u001b[1;31m---------------------------------------------------------------------------\u001b[0m",
      "\u001b[1;31mKeyError\u001b[0m                                  Traceback (most recent call last)",
      "\u001b[1;32m<expression>\u001b[0m in \u001b[0;36m<module>\u001b[1;34m()\u001b[0m\n",
      "\u001b[1;32m<string>\u001b[0m in \u001b[0;36mCalcF1\u001b[1;34m(SGCL)\u001b[0m\n",
      "\u001b[1;31mKeyError\u001b[0m: None"
     ]
    },
    {
     "ename": "KeyError",
     "evalue": "None",
     "output_type": "error",
     "traceback": [
      "\u001b[1;31m---------------------------------------------------------------------------\u001b[0m",
      "\u001b[1;31mKeyError\u001b[0m                                  Traceback (most recent call last)",
      "\u001b[1;32m<expression>\u001b[0m in \u001b[0;36m<module>\u001b[1;34m()\u001b[0m\n",
      "\u001b[1;32m<string>\u001b[0m in \u001b[0;36mCalcF1\u001b[1;34m(SGCL)\u001b[0m\n",
      "\u001b[1;31mKeyError\u001b[0m: None"
     ]
    },
    {
     "ename": "KeyError",
     "evalue": "None",
     "output_type": "error",
     "traceback": [
      "\u001b[1;31m---------------------------------------------------------------------------\u001b[0m",
      "\u001b[1;31mKeyError\u001b[0m                                  Traceback (most recent call last)",
      "\u001b[1;32m<expression>\u001b[0m in \u001b[0;36m<module>\u001b[1;34m()\u001b[0m\n",
      "\u001b[1;32m<string>\u001b[0m in \u001b[0;36mCalcF1\u001b[1;34m(SGCL)\u001b[0m\n",
      "\u001b[1;31mKeyError\u001b[0m: None"
     ]
    },
    {
     "ename": "KeyError",
     "evalue": "None",
     "output_type": "error",
     "traceback": [
      "\u001b[1;31m---------------------------------------------------------------------------\u001b[0m",
      "\u001b[1;31mKeyError\u001b[0m                                  Traceback (most recent call last)",
      "\u001b[1;32m<expression>\u001b[0m in \u001b[0;36m<module>\u001b[1;34m()\u001b[0m\n",
      "\u001b[1;32m<string>\u001b[0m in \u001b[0;36mCalcF1\u001b[1;34m(SGCL)\u001b[0m\n",
      "\u001b[1;31mKeyError\u001b[0m: None"
     ]
    },
    {
     "ename": "KeyError",
     "evalue": "None",
     "output_type": "error",
     "traceback": [
      "\u001b[1;31m---------------------------------------------------------------------------\u001b[0m",
      "\u001b[1;31mKeyError\u001b[0m                                  Traceback (most recent call last)",
      "\u001b[1;32m<expression>\u001b[0m in \u001b[0;36m<module>\u001b[1;34m()\u001b[0m\n",
      "\u001b[1;32m<string>\u001b[0m in \u001b[0;36mCalcF1\u001b[1;34m(SGCL)\u001b[0m\n",
      "\u001b[1;31mKeyError\u001b[0m: None"
     ]
    },
    {
     "ename": "KeyError",
     "evalue": "None",
     "output_type": "error",
     "traceback": [
      "\u001b[1;31m---------------------------------------------------------------------------\u001b[0m",
      "\u001b[1;31mKeyError\u001b[0m                                  Traceback (most recent call last)",
      "\u001b[1;32m<expression>\u001b[0m in \u001b[0;36m<module>\u001b[1;34m()\u001b[0m\n",
      "\u001b[1;32m<string>\u001b[0m in \u001b[0;36mCalcF1\u001b[1;34m(SGCL)\u001b[0m\n",
      "\u001b[1;31mKeyError\u001b[0m: None"
     ]
    },
    {
     "ename": "KeyError",
     "evalue": "None",
     "output_type": "error",
     "traceback": [
      "\u001b[1;31m---------------------------------------------------------------------------\u001b[0m",
      "\u001b[1;31mKeyError\u001b[0m                                  Traceback (most recent call last)",
      "\u001b[1;32m<expression>\u001b[0m in \u001b[0;36m<module>\u001b[1;34m()\u001b[0m\n",
      "\u001b[1;32m<string>\u001b[0m in \u001b[0;36mCalcF1\u001b[1;34m(SGCL)\u001b[0m\n",
      "\u001b[1;31mKeyError\u001b[0m: None"
     ]
    },
    {
     "ename": "KeyError",
     "evalue": "None",
     "output_type": "error",
     "traceback": [
      "\u001b[1;31m---------------------------------------------------------------------------\u001b[0m",
      "\u001b[1;31mKeyError\u001b[0m                                  Traceback (most recent call last)",
      "\u001b[1;32m<expression>\u001b[0m in \u001b[0;36m<module>\u001b[1;34m()\u001b[0m\n",
      "\u001b[1;32m<string>\u001b[0m in \u001b[0;36mCalcF1\u001b[1;34m(SGCL)\u001b[0m\n",
      "\u001b[1;31mKeyError\u001b[0m: None"
     ]
    },
    {
     "ename": "KeyError",
     "evalue": "None",
     "output_type": "error",
     "traceback": [
      "\u001b[1;31m---------------------------------------------------------------------------\u001b[0m",
      "\u001b[1;31mKeyError\u001b[0m                                  Traceback (most recent call last)",
      "\u001b[1;32m<expression>\u001b[0m in \u001b[0;36m<module>\u001b[1;34m()\u001b[0m\n",
      "\u001b[1;32m<string>\u001b[0m in \u001b[0;36mCalcF1\u001b[1;34m(SGCL)\u001b[0m\n",
      "\u001b[1;31mKeyError\u001b[0m: None"
     ]
    },
    {
     "ename": "KeyError",
     "evalue": "None",
     "output_type": "error",
     "traceback": [
      "\u001b[1;31m---------------------------------------------------------------------------\u001b[0m",
      "\u001b[1;31mKeyError\u001b[0m                                  Traceback (most recent call last)",
      "\u001b[1;32m<expression>\u001b[0m in \u001b[0;36m<module>\u001b[1;34m()\u001b[0m\n",
      "\u001b[1;32m<string>\u001b[0m in \u001b[0;36mCalcF1\u001b[1;34m(SGCL)\u001b[0m\n",
      "\u001b[1;31mKeyError\u001b[0m: None"
     ]
    },
    {
     "ename": "KeyError",
     "evalue": "None",
     "output_type": "error",
     "traceback": [
      "\u001b[1;31m---------------------------------------------------------------------------\u001b[0m",
      "\u001b[1;31mKeyError\u001b[0m                                  Traceback (most recent call last)",
      "\u001b[1;32m<expression>\u001b[0m in \u001b[0;36m<module>\u001b[1;34m()\u001b[0m\n",
      "\u001b[1;32m<string>\u001b[0m in \u001b[0;36mCalcF1\u001b[1;34m(SGCL)\u001b[0m\n",
      "\u001b[1;31mKeyError\u001b[0m: None"
     ]
    },
    {
     "ename": "KeyError",
     "evalue": "None",
     "output_type": "error",
     "traceback": [
      "\u001b[1;31m---------------------------------------------------------------------------\u001b[0m",
      "\u001b[1;31mKeyError\u001b[0m                                  Traceback (most recent call last)",
      "\u001b[1;32m<expression>\u001b[0m in \u001b[0;36m<module>\u001b[1;34m()\u001b[0m\n",
      "\u001b[1;32m<string>\u001b[0m in \u001b[0;36mCalcF1\u001b[1;34m(SGCL)\u001b[0m\n",
      "\u001b[1;31mKeyError\u001b[0m: None"
     ]
    },
    {
     "ename": "KeyError",
     "evalue": "None",
     "output_type": "error",
     "traceback": [
      "\u001b[1;31m---------------------------------------------------------------------------\u001b[0m",
      "\u001b[1;31mKeyError\u001b[0m                                  Traceback (most recent call last)",
      "\u001b[1;32m<expression>\u001b[0m in \u001b[0;36m<module>\u001b[1;34m()\u001b[0m\n",
      "\u001b[1;32m<string>\u001b[0m in \u001b[0;36mCalcF1\u001b[1;34m(SGCL)\u001b[0m\n",
      "\u001b[1;31mKeyError\u001b[0m: None"
     ]
    },
    {
     "ename": "KeyError",
     "evalue": "None",
     "output_type": "error",
     "traceback": [
      "\u001b[1;31m---------------------------------------------------------------------------\u001b[0m",
      "\u001b[1;31mKeyError\u001b[0m                                  Traceback (most recent call last)",
      "\u001b[1;32m<expression>\u001b[0m in \u001b[0;36m<module>\u001b[1;34m()\u001b[0m\n",
      "\u001b[1;32m<string>\u001b[0m in \u001b[0;36mCalcF1\u001b[1;34m(SGCL)\u001b[0m\n",
      "\u001b[1;31mKeyError\u001b[0m: None"
     ]
    },
    {
     "ename": "KeyError",
     "evalue": "None",
     "output_type": "error",
     "traceback": [
      "\u001b[1;31m---------------------------------------------------------------------------\u001b[0m",
      "\u001b[1;31mKeyError\u001b[0m                                  Traceback (most recent call last)",
      "\u001b[1;32m<expression>\u001b[0m in \u001b[0;36m<module>\u001b[1;34m()\u001b[0m\n",
      "\u001b[1;32m<string>\u001b[0m in \u001b[0;36mCalcF1\u001b[1;34m(SGCL)\u001b[0m\n",
      "\u001b[1;31mKeyError\u001b[0m: None"
     ]
    },
    {
     "ename": "KeyError",
     "evalue": "None",
     "output_type": "error",
     "traceback": [
      "\u001b[1;31m---------------------------------------------------------------------------\u001b[0m",
      "\u001b[1;31mKeyError\u001b[0m                                  Traceback (most recent call last)",
      "\u001b[1;32m<expression>\u001b[0m in \u001b[0;36m<module>\u001b[1;34m()\u001b[0m\n",
      "\u001b[1;32m<string>\u001b[0m in \u001b[0;36mCalcF1\u001b[1;34m(SGCL)\u001b[0m\n",
      "\u001b[1;31mKeyError\u001b[0m: None"
     ]
    },
    {
     "ename": "KeyError",
     "evalue": "None",
     "output_type": "error",
     "traceback": [
      "\u001b[1;31m---------------------------------------------------------------------------\u001b[0m",
      "\u001b[1;31mKeyError\u001b[0m                                  Traceback (most recent call last)",
      "\u001b[1;32m<expression>\u001b[0m in \u001b[0;36m<module>\u001b[1;34m()\u001b[0m\n",
      "\u001b[1;32m<string>\u001b[0m in \u001b[0;36mCalcF1\u001b[1;34m(SGCL)\u001b[0m\n",
      "\u001b[1;31mKeyError\u001b[0m: None"
     ]
    },
    {
     "ename": "KeyError",
     "evalue": "None",
     "output_type": "error",
     "traceback": [
      "\u001b[1;31m---------------------------------------------------------------------------\u001b[0m",
      "\u001b[1;31mKeyError\u001b[0m                                  Traceback (most recent call last)",
      "\u001b[1;32m<expression>\u001b[0m in \u001b[0;36m<module>\u001b[1;34m()\u001b[0m\n",
      "\u001b[1;32m<string>\u001b[0m in \u001b[0;36mCalcF1\u001b[1;34m(SGCL)\u001b[0m\n",
      "\u001b[1;31mKeyError\u001b[0m: None"
     ]
    },
    {
     "ename": "KeyError",
     "evalue": "None",
     "output_type": "error",
     "traceback": [
      "\u001b[1;31m---------------------------------------------------------------------------\u001b[0m",
      "\u001b[1;31mKeyError\u001b[0m                                  Traceback (most recent call last)",
      "\u001b[1;32m<expression>\u001b[0m in \u001b[0;36m<module>\u001b[1;34m()\u001b[0m\n",
      "\u001b[1;32m<string>\u001b[0m in \u001b[0;36mCalcF1\u001b[1;34m(SGCL)\u001b[0m\n",
      "\u001b[1;31mKeyError\u001b[0m: None"
     ]
    },
    {
     "ename": "KeyError",
     "evalue": "None",
     "output_type": "error",
     "traceback": [
      "\u001b[1;31m---------------------------------------------------------------------------\u001b[0m",
      "\u001b[1;31mKeyError\u001b[0m                                  Traceback (most recent call last)",
      "\u001b[1;32m<expression>\u001b[0m in \u001b[0;36m<module>\u001b[1;34m()\u001b[0m\n",
      "\u001b[1;32m<string>\u001b[0m in \u001b[0;36mCalcF1\u001b[1;34m(SGCL)\u001b[0m\n",
      "\u001b[1;31mKeyError\u001b[0m: None"
     ]
    },
    {
     "ename": "KeyError",
     "evalue": "None",
     "output_type": "error",
     "traceback": [
      "\u001b[1;31m---------------------------------------------------------------------------\u001b[0m",
      "\u001b[1;31mKeyError\u001b[0m                                  Traceback (most recent call last)",
      "\u001b[1;32m<expression>\u001b[0m in \u001b[0;36m<module>\u001b[1;34m()\u001b[0m\n",
      "\u001b[1;32m<string>\u001b[0m in \u001b[0;36mCalcF1\u001b[1;34m(SGCL)\u001b[0m\n",
      "\u001b[1;31mKeyError\u001b[0m: None"
     ]
    },
    {
     "ename": "KeyError",
     "evalue": "None",
     "output_type": "error",
     "traceback": [
      "\u001b[1;31m---------------------------------------------------------------------------\u001b[0m",
      "\u001b[1;31mKeyError\u001b[0m                                  Traceback (most recent call last)",
      "\u001b[1;32m<expression>\u001b[0m in \u001b[0;36m<module>\u001b[1;34m()\u001b[0m\n",
      "\u001b[1;32m<string>\u001b[0m in \u001b[0;36mCalcF1\u001b[1;34m(SGCL)\u001b[0m\n",
      "\u001b[1;31mKeyError\u001b[0m: None"
     ]
    },
    {
     "ename": "KeyError",
     "evalue": "None",
     "output_type": "error",
     "traceback": [
      "\u001b[1;31m---------------------------------------------------------------------------\u001b[0m",
      "\u001b[1;31mKeyError\u001b[0m                                  Traceback (most recent call last)",
      "\u001b[1;32m<expression>\u001b[0m in \u001b[0;36m<module>\u001b[1;34m()\u001b[0m\n",
      "\u001b[1;32m<string>\u001b[0m in \u001b[0;36mCalcF1\u001b[1;34m(SGCL)\u001b[0m\n",
      "\u001b[1;31mKeyError\u001b[0m: None"
     ]
    },
    {
     "ename": "KeyError",
     "evalue": "None",
     "output_type": "error",
     "traceback": [
      "\u001b[1;31m---------------------------------------------------------------------------\u001b[0m",
      "\u001b[1;31mKeyError\u001b[0m                                  Traceback (most recent call last)",
      "\u001b[1;32m<expression>\u001b[0m in \u001b[0;36m<module>\u001b[1;34m()\u001b[0m\n",
      "\u001b[1;32m<string>\u001b[0m in \u001b[0;36mCalcF1\u001b[1;34m(SGCL)\u001b[0m\n",
      "\u001b[1;31mKeyError\u001b[0m: None"
     ]
    },
    {
     "ename": "KeyError",
     "evalue": "None",
     "output_type": "error",
     "traceback": [
      "\u001b[1;31m---------------------------------------------------------------------------\u001b[0m",
      "\u001b[1;31mKeyError\u001b[0m                                  Traceback (most recent call last)",
      "\u001b[1;32m<expression>\u001b[0m in \u001b[0;36m<module>\u001b[1;34m()\u001b[0m\n",
      "\u001b[1;32m<string>\u001b[0m in \u001b[0;36mCalcF1\u001b[1;34m(SGCL)\u001b[0m\n",
      "\u001b[1;31mKeyError\u001b[0m: None"
     ]
    },
    {
     "ename": "KeyError",
     "evalue": "None",
     "output_type": "error",
     "traceback": [
      "\u001b[1;31m---------------------------------------------------------------------------\u001b[0m",
      "\u001b[1;31mKeyError\u001b[0m                                  Traceback (most recent call last)",
      "\u001b[1;32m<expression>\u001b[0m in \u001b[0;36m<module>\u001b[1;34m()\u001b[0m\n",
      "\u001b[1;32m<string>\u001b[0m in \u001b[0;36mCalcF1\u001b[1;34m(SGCL)\u001b[0m\n",
      "\u001b[1;31mKeyError\u001b[0m: None"
     ]
    },
    {
     "ename": "KeyError",
     "evalue": "None",
     "output_type": "error",
     "traceback": [
      "\u001b[1;31m---------------------------------------------------------------------------\u001b[0m",
      "\u001b[1;31mKeyError\u001b[0m                                  Traceback (most recent call last)",
      "\u001b[1;32m<expression>\u001b[0m in \u001b[0;36m<module>\u001b[1;34m()\u001b[0m\n",
      "\u001b[1;32m<string>\u001b[0m in \u001b[0;36mCalcF1\u001b[1;34m(SGCL)\u001b[0m\n",
      "\u001b[1;31mKeyError\u001b[0m: None"
     ]
    },
    {
     "ename": "KeyError",
     "evalue": "None",
     "output_type": "error",
     "traceback": [
      "\u001b[1;31m---------------------------------------------------------------------------\u001b[0m",
      "\u001b[1;31mKeyError\u001b[0m                                  Traceback (most recent call last)",
      "\u001b[1;32m<expression>\u001b[0m in \u001b[0;36m<module>\u001b[1;34m()\u001b[0m\n",
      "\u001b[1;32m<string>\u001b[0m in \u001b[0;36mCalcF1\u001b[1;34m(SGCL)\u001b[0m\n",
      "\u001b[1;31mKeyError\u001b[0m: None"
     ]
    },
    {
     "ename": "KeyError",
     "evalue": "None",
     "output_type": "error",
     "traceback": [
      "\u001b[1;31m---------------------------------------------------------------------------\u001b[0m",
      "\u001b[1;31mKeyError\u001b[0m                                  Traceback (most recent call last)",
      "\u001b[1;32m<expression>\u001b[0m in \u001b[0;36m<module>\u001b[1;34m()\u001b[0m\n",
      "\u001b[1;32m<string>\u001b[0m in \u001b[0;36mCalcF1\u001b[1;34m(SGCL)\u001b[0m\n",
      "\u001b[1;31mKeyError\u001b[0m: None"
     ]
    },
    {
     "ename": "KeyError",
     "evalue": "None",
     "output_type": "error",
     "traceback": [
      "\u001b[1;31m---------------------------------------------------------------------------\u001b[0m",
      "\u001b[1;31mKeyError\u001b[0m                                  Traceback (most recent call last)",
      "\u001b[1;32m<expression>\u001b[0m in \u001b[0;36m<module>\u001b[1;34m()\u001b[0m\n",
      "\u001b[1;32m<string>\u001b[0m in \u001b[0;36mCalcF1\u001b[1;34m(SGCL)\u001b[0m\n",
      "\u001b[1;31mKeyError\u001b[0m: None"
     ]
    },
    {
     "ename": "KeyError",
     "evalue": "None",
     "output_type": "error",
     "traceback": [
      "\u001b[1;31m---------------------------------------------------------------------------\u001b[0m",
      "\u001b[1;31mKeyError\u001b[0m                                  Traceback (most recent call last)",
      "\u001b[1;32m<expression>\u001b[0m in \u001b[0;36m<module>\u001b[1;34m()\u001b[0m\n",
      "\u001b[1;32m<string>\u001b[0m in \u001b[0;36mCalcF1\u001b[1;34m(SGCL)\u001b[0m\n",
      "\u001b[1;31mKeyError\u001b[0m: None"
     ]
    },
    {
     "ename": "KeyError",
     "evalue": "None",
     "output_type": "error",
     "traceback": [
      "\u001b[1;31m---------------------------------------------------------------------------\u001b[0m",
      "\u001b[1;31mKeyError\u001b[0m                                  Traceback (most recent call last)",
      "\u001b[1;32m<expression>\u001b[0m in \u001b[0;36m<module>\u001b[1;34m()\u001b[0m\n",
      "\u001b[1;32m<string>\u001b[0m in \u001b[0;36mCalcF1\u001b[1;34m(SGCL)\u001b[0m\n",
      "\u001b[1;31mKeyError\u001b[0m: None"
     ]
    },
    {
     "ename": "KeyError",
     "evalue": "None",
     "output_type": "error",
     "traceback": [
      "\u001b[1;31m---------------------------------------------------------------------------\u001b[0m",
      "\u001b[1;31mKeyError\u001b[0m                                  Traceback (most recent call last)",
      "\u001b[1;32m<expression>\u001b[0m in \u001b[0;36m<module>\u001b[1;34m()\u001b[0m\n",
      "\u001b[1;32m<string>\u001b[0m in \u001b[0;36mCalcF1\u001b[1;34m(SGCL)\u001b[0m\n",
      "\u001b[1;31mKeyError\u001b[0m: None"
     ]
    },
    {
     "ename": "KeyError",
     "evalue": "None",
     "output_type": "error",
     "traceback": [
      "\u001b[1;31m---------------------------------------------------------------------------\u001b[0m",
      "\u001b[1;31mKeyError\u001b[0m                                  Traceback (most recent call last)",
      "\u001b[1;32m<expression>\u001b[0m in \u001b[0;36m<module>\u001b[1;34m()\u001b[0m\n",
      "\u001b[1;32m<string>\u001b[0m in \u001b[0;36mCalcF1\u001b[1;34m(SGCL)\u001b[0m\n",
      "\u001b[1;31mKeyError\u001b[0m: None"
     ]
    },
    {
     "ename": "KeyError",
     "evalue": "None",
     "output_type": "error",
     "traceback": [
      "\u001b[1;31m---------------------------------------------------------------------------\u001b[0m",
      "\u001b[1;31mKeyError\u001b[0m                                  Traceback (most recent call last)",
      "\u001b[1;32m<expression>\u001b[0m in \u001b[0;36m<module>\u001b[1;34m()\u001b[0m\n",
      "\u001b[1;32m<string>\u001b[0m in \u001b[0;36mCalcF1\u001b[1;34m(SGCL)\u001b[0m\n",
      "\u001b[1;31mKeyError\u001b[0m: None"
     ]
    },
    {
     "ename": "KeyError",
     "evalue": "None",
     "output_type": "error",
     "traceback": [
      "\u001b[1;31m---------------------------------------------------------------------------\u001b[0m",
      "\u001b[1;31mKeyError\u001b[0m                                  Traceback (most recent call last)",
      "\u001b[1;32m<expression>\u001b[0m in \u001b[0;36m<module>\u001b[1;34m()\u001b[0m\n",
      "\u001b[1;32m<string>\u001b[0m in \u001b[0;36mCalcF1\u001b[1;34m(SGCL)\u001b[0m\n",
      "\u001b[1;31mKeyError\u001b[0m: None"
     ]
    },
    {
     "ename": "KeyError",
     "evalue": "None",
     "output_type": "error",
     "traceback": [
      "\u001b[1;31m---------------------------------------------------------------------------\u001b[0m",
      "\u001b[1;31mKeyError\u001b[0m                                  Traceback (most recent call last)",
      "\u001b[1;32m<expression>\u001b[0m in \u001b[0;36m<module>\u001b[1;34m()\u001b[0m\n",
      "\u001b[1;32m<string>\u001b[0m in \u001b[0;36mCalcF1\u001b[1;34m(SGCL)\u001b[0m\n",
      "\u001b[1;31mKeyError\u001b[0m: None"
     ]
    },
    {
     "ename": "KeyError",
     "evalue": "None",
     "output_type": "error",
     "traceback": [
      "\u001b[1;31m---------------------------------------------------------------------------\u001b[0m",
      "\u001b[1;31mKeyError\u001b[0m                                  Traceback (most recent call last)",
      "\u001b[1;32m<expression>\u001b[0m in \u001b[0;36m<module>\u001b[1;34m()\u001b[0m\n",
      "\u001b[1;32m<string>\u001b[0m in \u001b[0;36mCalcF1\u001b[1;34m(SGCL)\u001b[0m\n",
      "\u001b[1;31mKeyError\u001b[0m: None"
     ]
    },
    {
     "ename": "KeyError",
     "evalue": "None",
     "output_type": "error",
     "traceback": [
      "\u001b[1;31m---------------------------------------------------------------------------\u001b[0m",
      "\u001b[1;31mKeyError\u001b[0m                                  Traceback (most recent call last)",
      "\u001b[1;32m<expression>\u001b[0m in \u001b[0;36m<module>\u001b[1;34m()\u001b[0m\n",
      "\u001b[1;32m<string>\u001b[0m in \u001b[0;36mCalcF1\u001b[1;34m(SGCL)\u001b[0m\n",
      "\u001b[1;31mKeyError\u001b[0m: None"
     ]
    },
    {
     "ename": "KeyError",
     "evalue": "None",
     "output_type": "error",
     "traceback": [
      "\u001b[1;31m---------------------------------------------------------------------------\u001b[0m",
      "\u001b[1;31mKeyError\u001b[0m                                  Traceback (most recent call last)",
      "\u001b[1;32m<expression>\u001b[0m in \u001b[0;36m<module>\u001b[1;34m()\u001b[0m\n",
      "\u001b[1;32m<string>\u001b[0m in \u001b[0;36mCalcF1\u001b[1;34m(SGCL)\u001b[0m\n",
      "\u001b[1;31mKeyError\u001b[0m: None"
     ]
    },
    {
     "ename": "KeyError",
     "evalue": "None",
     "output_type": "error",
     "traceback": [
      "\u001b[1;31m---------------------------------------------------------------------------\u001b[0m",
      "\u001b[1;31mKeyError\u001b[0m                                  Traceback (most recent call last)",
      "\u001b[1;32m<expression>\u001b[0m in \u001b[0;36m<module>\u001b[1;34m()\u001b[0m\n",
      "\u001b[1;32m<string>\u001b[0m in \u001b[0;36mCalcF1\u001b[1;34m(SGCL)\u001b[0m\n",
      "\u001b[1;31mKeyError\u001b[0m: None"
     ]
    },
    {
     "ename": "KeyError",
     "evalue": "None",
     "output_type": "error",
     "traceback": [
      "\u001b[1;31m---------------------------------------------------------------------------\u001b[0m",
      "\u001b[1;31mKeyError\u001b[0m                                  Traceback (most recent call last)",
      "\u001b[1;32m<expression>\u001b[0m in \u001b[0;36m<module>\u001b[1;34m()\u001b[0m\n",
      "\u001b[1;32m<string>\u001b[0m in \u001b[0;36mCalcF1\u001b[1;34m(SGCL)\u001b[0m\n",
      "\u001b[1;31mKeyError\u001b[0m: None"
     ]
    },
    {
     "ename": "KeyError",
     "evalue": "None",
     "output_type": "error",
     "traceback": [
      "\u001b[1;31m---------------------------------------------------------------------------\u001b[0m",
      "\u001b[1;31mKeyError\u001b[0m                                  Traceback (most recent call last)",
      "\u001b[1;32m<expression>\u001b[0m in \u001b[0;36m<module>\u001b[1;34m()\u001b[0m\n",
      "\u001b[1;32m<string>\u001b[0m in \u001b[0;36mCalcF1\u001b[1;34m(SGCL)\u001b[0m\n",
      "\u001b[1;31mKeyError\u001b[0m: None"
     ]
    },
    {
     "ename": "KeyError",
     "evalue": "None",
     "output_type": "error",
     "traceback": [
      "\u001b[1;31m---------------------------------------------------------------------------\u001b[0m",
      "\u001b[1;31mKeyError\u001b[0m                                  Traceback (most recent call last)",
      "\u001b[1;32m<expression>\u001b[0m in \u001b[0;36m<module>\u001b[1;34m()\u001b[0m\n",
      "\u001b[1;32m<string>\u001b[0m in \u001b[0;36mCalcF1\u001b[1;34m(SGCL)\u001b[0m\n",
      "\u001b[1;31mKeyError\u001b[0m: None"
     ]
    },
    {
     "ename": "KeyError",
     "evalue": "None",
     "output_type": "error",
     "traceback": [
      "\u001b[1;31m---------------------------------------------------------------------------\u001b[0m",
      "\u001b[1;31mKeyError\u001b[0m                                  Traceback (most recent call last)",
      "\u001b[1;32m<expression>\u001b[0m in \u001b[0;36m<module>\u001b[1;34m()\u001b[0m\n",
      "\u001b[1;32m<string>\u001b[0m in \u001b[0;36mCalcF1\u001b[1;34m(SGCL)\u001b[0m\n",
      "\u001b[1;31mKeyError\u001b[0m: None"
     ]
    },
    {
     "ename": "KeyError",
     "evalue": "None",
     "output_type": "error",
     "traceback": [
      "\u001b[1;31m---------------------------------------------------------------------------\u001b[0m",
      "\u001b[1;31mKeyError\u001b[0m                                  Traceback (most recent call last)",
      "\u001b[1;32m<expression>\u001b[0m in \u001b[0;36m<module>\u001b[1;34m()\u001b[0m\n",
      "\u001b[1;32m<string>\u001b[0m in \u001b[0;36mCalcF1\u001b[1;34m(SGCL)\u001b[0m\n",
      "\u001b[1;31mKeyError\u001b[0m: None"
     ]
    },
    {
     "ename": "KeyError",
     "evalue": "None",
     "output_type": "error",
     "traceback": [
      "\u001b[1;31m---------------------------------------------------------------------------\u001b[0m",
      "\u001b[1;31mKeyError\u001b[0m                                  Traceback (most recent call last)",
      "\u001b[1;32m<expression>\u001b[0m in \u001b[0;36m<module>\u001b[1;34m()\u001b[0m\n",
      "\u001b[1;32m<string>\u001b[0m in \u001b[0;36mCalcF1\u001b[1;34m(SGCL)\u001b[0m\n",
      "\u001b[1;31mKeyError\u001b[0m: None"
     ]
    },
    {
     "ename": "KeyError",
     "evalue": "None",
     "output_type": "error",
     "traceback": [
      "\u001b[1;31m---------------------------------------------------------------------------\u001b[0m",
      "\u001b[1;31mKeyError\u001b[0m                                  Traceback (most recent call last)",
      "\u001b[1;32m<expression>\u001b[0m in \u001b[0;36m<module>\u001b[1;34m()\u001b[0m\n",
      "\u001b[1;32m<string>\u001b[0m in \u001b[0;36mCalcF1\u001b[1;34m(SGCL)\u001b[0m\n",
      "\u001b[1;31mKeyError\u001b[0m: None"
     ]
    },
    {
     "ename": "KeyError",
     "evalue": "None",
     "output_type": "error",
     "traceback": [
      "\u001b[1;31m---------------------------------------------------------------------------\u001b[0m",
      "\u001b[1;31mKeyError\u001b[0m                                  Traceback (most recent call last)",
      "\u001b[1;32m<expression>\u001b[0m in \u001b[0;36m<module>\u001b[1;34m()\u001b[0m\n",
      "\u001b[1;32m<string>\u001b[0m in \u001b[0;36mCalcF1\u001b[1;34m(SGCL)\u001b[0m\n",
      "\u001b[1;31mKeyError\u001b[0m: None"
     ]
    },
    {
     "ename": "KeyError",
     "evalue": "None",
     "output_type": "error",
     "traceback": [
      "\u001b[1;31m---------------------------------------------------------------------------\u001b[0m",
      "\u001b[1;31mKeyError\u001b[0m                                  Traceback (most recent call last)",
      "\u001b[1;32m<expression>\u001b[0m in \u001b[0;36m<module>\u001b[1;34m()\u001b[0m\n",
      "\u001b[1;32m<string>\u001b[0m in \u001b[0;36mCalcF1\u001b[1;34m(SGCL)\u001b[0m\n",
      "\u001b[1;31mKeyError\u001b[0m: None"
     ]
    },
    {
     "ename": "KeyError",
     "evalue": "None",
     "output_type": "error",
     "traceback": [
      "\u001b[1;31m---------------------------------------------------------------------------\u001b[0m",
      "\u001b[1;31mKeyError\u001b[0m                                  Traceback (most recent call last)",
      "\u001b[1;32m<expression>\u001b[0m in \u001b[0;36m<module>\u001b[1;34m()\u001b[0m\n",
      "\u001b[1;32m<string>\u001b[0m in \u001b[0;36mCalcF1\u001b[1;34m(SGCL)\u001b[0m\n",
      "\u001b[1;31mKeyError\u001b[0m: None"
     ]
    },
    {
     "ename": "KeyError",
     "evalue": "None",
     "output_type": "error",
     "traceback": [
      "\u001b[1;31m---------------------------------------------------------------------------\u001b[0m",
      "\u001b[1;31mKeyError\u001b[0m                                  Traceback (most recent call last)",
      "\u001b[1;32m<expression>\u001b[0m in \u001b[0;36m<module>\u001b[1;34m()\u001b[0m\n",
      "\u001b[1;32m<string>\u001b[0m in \u001b[0;36mCalcF1\u001b[1;34m(SGCL)\u001b[0m\n",
      "\u001b[1;31mKeyError\u001b[0m: None"
     ]
    },
    {
     "ename": "KeyError",
     "evalue": "None",
     "output_type": "error",
     "traceback": [
      "\u001b[1;31m---------------------------------------------------------------------------\u001b[0m",
      "\u001b[1;31mKeyError\u001b[0m                                  Traceback (most recent call last)",
      "\u001b[1;32m<expression>\u001b[0m in \u001b[0;36m<module>\u001b[1;34m()\u001b[0m\n",
      "\u001b[1;32m<string>\u001b[0m in \u001b[0;36mCalcF1\u001b[1;34m(SGCL)\u001b[0m\n",
      "\u001b[1;31mKeyError\u001b[0m: None"
     ]
    },
    {
     "ename": "KeyError",
     "evalue": "None",
     "output_type": "error",
     "traceback": [
      "\u001b[1;31m---------------------------------------------------------------------------\u001b[0m",
      "\u001b[1;31mKeyError\u001b[0m                                  Traceback (most recent call last)",
      "\u001b[1;32m<expression>\u001b[0m in \u001b[0;36m<module>\u001b[1;34m()\u001b[0m\n",
      "\u001b[1;32m<string>\u001b[0m in \u001b[0;36mCalcF1\u001b[1;34m(SGCL)\u001b[0m\n",
      "\u001b[1;31mKeyError\u001b[0m: None"
     ]
    },
    {
     "ename": "KeyError",
     "evalue": "None",
     "output_type": "error",
     "traceback": [
      "\u001b[1;31m---------------------------------------------------------------------------\u001b[0m",
      "\u001b[1;31mKeyError\u001b[0m                                  Traceback (most recent call last)",
      "\u001b[1;32m<expression>\u001b[0m in \u001b[0;36m<module>\u001b[1;34m()\u001b[0m\n",
      "\u001b[1;32m<string>\u001b[0m in \u001b[0;36mCalcF1\u001b[1;34m(SGCL)\u001b[0m\n",
      "\u001b[1;31mKeyError\u001b[0m: None"
     ]
    },
    {
     "ename": "KeyError",
     "evalue": "None",
     "output_type": "error",
     "traceback": [
      "\u001b[1;31m---------------------------------------------------------------------------\u001b[0m",
      "\u001b[1;31mKeyError\u001b[0m                                  Traceback (most recent call last)",
      "\u001b[1;32m<expression>\u001b[0m in \u001b[0;36m<module>\u001b[1;34m()\u001b[0m\n",
      "\u001b[1;32m<string>\u001b[0m in \u001b[0;36mCalcF1\u001b[1;34m(SGCL)\u001b[0m\n",
      "\u001b[1;31mKeyError\u001b[0m: None"
     ]
    },
    {
     "ename": "KeyError",
     "evalue": "None",
     "output_type": "error",
     "traceback": [
      "\u001b[1;31m---------------------------------------------------------------------------\u001b[0m",
      "\u001b[1;31mKeyError\u001b[0m                                  Traceback (most recent call last)",
      "\u001b[1;32m<expression>\u001b[0m in \u001b[0;36m<module>\u001b[1;34m()\u001b[0m\n",
      "\u001b[1;32m<string>\u001b[0m in \u001b[0;36mCalcF1\u001b[1;34m(SGCL)\u001b[0m\n",
      "\u001b[1;31mKeyError\u001b[0m: None"
     ]
    },
    {
     "ename": "KeyError",
     "evalue": "None",
     "output_type": "error",
     "traceback": [
      "\u001b[1;31m---------------------------------------------------------------------------\u001b[0m",
      "\u001b[1;31mKeyError\u001b[0m                                  Traceback (most recent call last)",
      "\u001b[1;32m<expression>\u001b[0m in \u001b[0;36m<module>\u001b[1;34m()\u001b[0m\n",
      "\u001b[1;32m<string>\u001b[0m in \u001b[0;36mCalcF1\u001b[1;34m(SGCL)\u001b[0m\n",
      "\u001b[1;31mKeyError\u001b[0m: None"
     ]
    },
    {
     "ename": "KeyError",
     "evalue": "None",
     "output_type": "error",
     "traceback": [
      "\u001b[1;31m---------------------------------------------------------------------------\u001b[0m",
      "\u001b[1;31mKeyError\u001b[0m                                  Traceback (most recent call last)",
      "\u001b[1;32m<expression>\u001b[0m in \u001b[0;36m<module>\u001b[1;34m()\u001b[0m\n",
      "\u001b[1;32m<string>\u001b[0m in \u001b[0;36mCalcF1\u001b[1;34m(SGCL)\u001b[0m\n",
      "\u001b[1;31mKeyError\u001b[0m: None"
     ]
    },
    {
     "ename": "KeyError",
     "evalue": "None",
     "output_type": "error",
     "traceback": [
      "\u001b[1;31m---------------------------------------------------------------------------\u001b[0m",
      "\u001b[1;31mKeyError\u001b[0m                                  Traceback (most recent call last)",
      "\u001b[1;32m<expression>\u001b[0m in \u001b[0;36m<module>\u001b[1;34m()\u001b[0m\n",
      "\u001b[1;32m<string>\u001b[0m in \u001b[0;36mCalcF1\u001b[1;34m(SGCL)\u001b[0m\n",
      "\u001b[1;31mKeyError\u001b[0m: None"
     ]
    },
    {
     "ename": "KeyError",
     "evalue": "None",
     "output_type": "error",
     "traceback": [
      "\u001b[1;31m---------------------------------------------------------------------------\u001b[0m",
      "\u001b[1;31mKeyError\u001b[0m                                  Traceback (most recent call last)",
      "\u001b[1;32m<expression>\u001b[0m in \u001b[0;36m<module>\u001b[1;34m()\u001b[0m\n",
      "\u001b[1;32m<string>\u001b[0m in \u001b[0;36mCalcF1\u001b[1;34m(SGCL)\u001b[0m\n",
      "\u001b[1;31mKeyError\u001b[0m: None"
     ]
    },
    {
     "ename": "KeyError",
     "evalue": "None",
     "output_type": "error",
     "traceback": [
      "\u001b[1;31m---------------------------------------------------------------------------\u001b[0m",
      "\u001b[1;31mKeyError\u001b[0m                                  Traceback (most recent call last)",
      "\u001b[1;32m<expression>\u001b[0m in \u001b[0;36m<module>\u001b[1;34m()\u001b[0m\n",
      "\u001b[1;32m<string>\u001b[0m in \u001b[0;36mCalcF1\u001b[1;34m(SGCL)\u001b[0m\n",
      "\u001b[1;31mKeyError\u001b[0m: None"
     ]
    },
    {
     "ename": "KeyError",
     "evalue": "None",
     "output_type": "error",
     "traceback": [
      "\u001b[1;31m---------------------------------------------------------------------------\u001b[0m",
      "\u001b[1;31mKeyError\u001b[0m                                  Traceback (most recent call last)",
      "\u001b[1;32m<expression>\u001b[0m in \u001b[0;36m<module>\u001b[1;34m()\u001b[0m\n",
      "\u001b[1;32m<string>\u001b[0m in \u001b[0;36mCalcF1\u001b[1;34m(SGCL)\u001b[0m\n",
      "\u001b[1;31mKeyError\u001b[0m: None"
     ]
    },
    {
     "ename": "KeyError",
     "evalue": "None",
     "output_type": "error",
     "traceback": [
      "\u001b[1;31m---------------------------------------------------------------------------\u001b[0m",
      "\u001b[1;31mKeyError\u001b[0m                                  Traceback (most recent call last)",
      "\u001b[1;32m<expression>\u001b[0m in \u001b[0;36m<module>\u001b[1;34m()\u001b[0m\n",
      "\u001b[1;32m<string>\u001b[0m in \u001b[0;36mCalcF1\u001b[1;34m(SGCL)\u001b[0m\n",
      "\u001b[1;31mKeyError\u001b[0m: None"
     ]
    },
    {
     "ename": "KeyError",
     "evalue": "None",
     "output_type": "error",
     "traceback": [
      "\u001b[1;31m---------------------------------------------------------------------------\u001b[0m",
      "\u001b[1;31mKeyError\u001b[0m                                  Traceback (most recent call last)",
      "\u001b[1;32m<expression>\u001b[0m in \u001b[0;36m<module>\u001b[1;34m()\u001b[0m\n",
      "\u001b[1;32m<string>\u001b[0m in \u001b[0;36mCalcF1\u001b[1;34m(SGCL)\u001b[0m\n",
      "\u001b[1;31mKeyError\u001b[0m: None"
     ]
    },
    {
     "ename": "KeyError",
     "evalue": "None",
     "output_type": "error",
     "traceback": [
      "\u001b[1;31m---------------------------------------------------------------------------\u001b[0m",
      "\u001b[1;31mKeyError\u001b[0m                                  Traceback (most recent call last)",
      "\u001b[1;32m<expression>\u001b[0m in \u001b[0;36m<module>\u001b[1;34m()\u001b[0m\n",
      "\u001b[1;32m<string>\u001b[0m in \u001b[0;36mCalcF1\u001b[1;34m(SGCL)\u001b[0m\n",
      "\u001b[1;31mKeyError\u001b[0m: None"
     ]
    },
    {
     "ename": "KeyError",
     "evalue": "None",
     "output_type": "error",
     "traceback": [
      "\u001b[1;31m---------------------------------------------------------------------------\u001b[0m",
      "\u001b[1;31mKeyError\u001b[0m                                  Traceback (most recent call last)",
      "\u001b[1;32m<expression>\u001b[0m in \u001b[0;36m<module>\u001b[1;34m()\u001b[0m\n",
      "\u001b[1;32m<string>\u001b[0m in \u001b[0;36mCalcF1\u001b[1;34m(SGCL)\u001b[0m\n",
      "\u001b[1;31mKeyError\u001b[0m: None"
     ]
    },
    {
     "ename": "KeyError",
     "evalue": "None",
     "output_type": "error",
     "traceback": [
      "\u001b[1;31m---------------------------------------------------------------------------\u001b[0m",
      "\u001b[1;31mKeyError\u001b[0m                                  Traceback (most recent call last)",
      "\u001b[1;32m<expression>\u001b[0m in \u001b[0;36m<module>\u001b[1;34m()\u001b[0m\n",
      "\u001b[1;32m<string>\u001b[0m in \u001b[0;36mCalcF1\u001b[1;34m(SGCL)\u001b[0m\n",
      "\u001b[1;31mKeyError\u001b[0m: None"
     ]
    },
    {
     "ename": "KeyError",
     "evalue": "None",
     "output_type": "error",
     "traceback": [
      "\u001b[1;31m---------------------------------------------------------------------------\u001b[0m",
      "\u001b[1;31mKeyError\u001b[0m                                  Traceback (most recent call last)",
      "\u001b[1;32m<expression>\u001b[0m in \u001b[0;36m<module>\u001b[1;34m()\u001b[0m\n",
      "\u001b[1;32m<string>\u001b[0m in \u001b[0;36mCalcF1\u001b[1;34m(SGCL)\u001b[0m\n",
      "\u001b[1;31mKeyError\u001b[0m: None"
     ]
    },
    {
     "ename": "KeyError",
     "evalue": "None",
     "output_type": "error",
     "traceback": [
      "\u001b[1;31m---------------------------------------------------------------------------\u001b[0m",
      "\u001b[1;31mKeyError\u001b[0m                                  Traceback (most recent call last)",
      "\u001b[1;32m<expression>\u001b[0m in \u001b[0;36m<module>\u001b[1;34m()\u001b[0m\n",
      "\u001b[1;32m<string>\u001b[0m in \u001b[0;36mCalcF1\u001b[1;34m(SGCL)\u001b[0m\n",
      "\u001b[1;31mKeyError\u001b[0m: None"
     ]
    },
    {
     "ename": "KeyError",
     "evalue": "None",
     "output_type": "error",
     "traceback": [
      "\u001b[1;31m---------------------------------------------------------------------------\u001b[0m",
      "\u001b[1;31mKeyError\u001b[0m                                  Traceback (most recent call last)",
      "\u001b[1;32m<expression>\u001b[0m in \u001b[0;36m<module>\u001b[1;34m()\u001b[0m\n",
      "\u001b[1;32m<string>\u001b[0m in \u001b[0;36mCalcF1\u001b[1;34m(SGCL)\u001b[0m\n",
      "\u001b[1;31mKeyError\u001b[0m: None"
     ]
    },
    {
     "ename": "KeyError",
     "evalue": "None",
     "output_type": "error",
     "traceback": [
      "\u001b[1;31m---------------------------------------------------------------------------\u001b[0m",
      "\u001b[1;31mKeyError\u001b[0m                                  Traceback (most recent call last)",
      "\u001b[1;32m<expression>\u001b[0m in \u001b[0;36m<module>\u001b[1;34m()\u001b[0m\n",
      "\u001b[1;32m<string>\u001b[0m in \u001b[0;36mCalcF1\u001b[1;34m(SGCL)\u001b[0m\n",
      "\u001b[1;31mKeyError\u001b[0m: None"
     ]
    },
    {
     "ename": "KeyError",
     "evalue": "None",
     "output_type": "error",
     "traceback": [
      "\u001b[1;31m---------------------------------------------------------------------------\u001b[0m",
      "\u001b[1;31mKeyError\u001b[0m                                  Traceback (most recent call last)",
      "\u001b[1;32m<expression>\u001b[0m in \u001b[0;36m<module>\u001b[1;34m()\u001b[0m\n",
      "\u001b[1;32m<string>\u001b[0m in \u001b[0;36mCalcF1\u001b[1;34m(SGCL)\u001b[0m\n",
      "\u001b[1;31mKeyError\u001b[0m: None"
     ]
    },
    {
     "ename": "KeyError",
     "evalue": "None",
     "output_type": "error",
     "traceback": [
      "\u001b[1;31m---------------------------------------------------------------------------\u001b[0m",
      "\u001b[1;31mKeyError\u001b[0m                                  Traceback (most recent call last)",
      "\u001b[1;32m<expression>\u001b[0m in \u001b[0;36m<module>\u001b[1;34m()\u001b[0m\n",
      "\u001b[1;32m<string>\u001b[0m in \u001b[0;36mCalcF1\u001b[1;34m(SGCL)\u001b[0m\n",
      "\u001b[1;31mKeyError\u001b[0m: None"
     ]
    },
    {
     "ename": "KeyError",
     "evalue": "None",
     "output_type": "error",
     "traceback": [
      "\u001b[1;31m---------------------------------------------------------------------------\u001b[0m",
      "\u001b[1;31mKeyError\u001b[0m                                  Traceback (most recent call last)",
      "\u001b[1;32m<expression>\u001b[0m in \u001b[0;36m<module>\u001b[1;34m()\u001b[0m\n",
      "\u001b[1;32m<string>\u001b[0m in \u001b[0;36mCalcF1\u001b[1;34m(SGCL)\u001b[0m\n",
      "\u001b[1;31mKeyError\u001b[0m: None"
     ]
    },
    {
     "ename": "KeyError",
     "evalue": "None",
     "output_type": "error",
     "traceback": [
      "\u001b[1;31m---------------------------------------------------------------------------\u001b[0m",
      "\u001b[1;31mKeyError\u001b[0m                                  Traceback (most recent call last)",
      "\u001b[1;32m<expression>\u001b[0m in \u001b[0;36m<module>\u001b[1;34m()\u001b[0m\n",
      "\u001b[1;32m<string>\u001b[0m in \u001b[0;36mCalcF1\u001b[1;34m(SGCL)\u001b[0m\n",
      "\u001b[1;31mKeyError\u001b[0m: None"
     ]
    },
    {
     "ename": "KeyError",
     "evalue": "None",
     "output_type": "error",
     "traceback": [
      "\u001b[1;31m---------------------------------------------------------------------------\u001b[0m",
      "\u001b[1;31mKeyError\u001b[0m                                  Traceback (most recent call last)",
      "\u001b[1;32m<expression>\u001b[0m in \u001b[0;36m<module>\u001b[1;34m()\u001b[0m\n",
      "\u001b[1;32m<string>\u001b[0m in \u001b[0;36mCalcF1\u001b[1;34m(SGCL)\u001b[0m\n",
      "\u001b[1;31mKeyError\u001b[0m: None"
     ]
    },
    {
     "ename": "KeyError",
     "evalue": "None",
     "output_type": "error",
     "traceback": [
      "\u001b[1;31m---------------------------------------------------------------------------\u001b[0m",
      "\u001b[1;31mKeyError\u001b[0m                                  Traceback (most recent call last)",
      "\u001b[1;32m<expression>\u001b[0m in \u001b[0;36m<module>\u001b[1;34m()\u001b[0m\n",
      "\u001b[1;32m<string>\u001b[0m in \u001b[0;36mCalcF1\u001b[1;34m(SGCL)\u001b[0m\n",
      "\u001b[1;31mKeyError\u001b[0m: None"
     ]
    },
    {
     "ename": "KeyError",
     "evalue": "None",
     "output_type": "error",
     "traceback": [
      "\u001b[1;31m---------------------------------------------------------------------------\u001b[0m",
      "\u001b[1;31mKeyError\u001b[0m                                  Traceback (most recent call last)",
      "\u001b[1;32m<expression>\u001b[0m in \u001b[0;36m<module>\u001b[1;34m()\u001b[0m\n",
      "\u001b[1;32m<string>\u001b[0m in \u001b[0;36mCalcF1\u001b[1;34m(SGCL)\u001b[0m\n",
      "\u001b[1;31mKeyError\u001b[0m: None"
     ]
    },
    {
     "ename": "KeyError",
     "evalue": "None",
     "output_type": "error",
     "traceback": [
      "\u001b[1;31m---------------------------------------------------------------------------\u001b[0m",
      "\u001b[1;31mKeyError\u001b[0m                                  Traceback (most recent call last)",
      "\u001b[1;32m<expression>\u001b[0m in \u001b[0;36m<module>\u001b[1;34m()\u001b[0m\n",
      "\u001b[1;32m<string>\u001b[0m in \u001b[0;36mCalcF1\u001b[1;34m(SGCL)\u001b[0m\n",
      "\u001b[1;31mKeyError\u001b[0m: None"
     ]
    },
    {
     "ename": "KeyError",
     "evalue": "None",
     "output_type": "error",
     "traceback": [
      "\u001b[1;31m---------------------------------------------------------------------------\u001b[0m",
      "\u001b[1;31mKeyError\u001b[0m                                  Traceback (most recent call last)",
      "\u001b[1;32m<expression>\u001b[0m in \u001b[0;36m<module>\u001b[1;34m()\u001b[0m\n",
      "\u001b[1;32m<string>\u001b[0m in \u001b[0;36mCalcF1\u001b[1;34m(SGCL)\u001b[0m\n",
      "\u001b[1;31mKeyError\u001b[0m: None"
     ]
    },
    {
     "ename": "KeyError",
     "evalue": "None",
     "output_type": "error",
     "traceback": [
      "\u001b[1;31m---------------------------------------------------------------------------\u001b[0m",
      "\u001b[1;31mKeyError\u001b[0m                                  Traceback (most recent call last)",
      "\u001b[1;32m<expression>\u001b[0m in \u001b[0;36m<module>\u001b[1;34m()\u001b[0m\n",
      "\u001b[1;32m<string>\u001b[0m in \u001b[0;36mCalcF1\u001b[1;34m(SGCL)\u001b[0m\n",
      "\u001b[1;31mKeyError\u001b[0m: None"
     ]
    },
    {
     "ename": "KeyError",
     "evalue": "None",
     "output_type": "error",
     "traceback": [
      "\u001b[1;31m---------------------------------------------------------------------------\u001b[0m",
      "\u001b[1;31mKeyError\u001b[0m                                  Traceback (most recent call last)",
      "\u001b[1;32m<expression>\u001b[0m in \u001b[0;36m<module>\u001b[1;34m()\u001b[0m\n",
      "\u001b[1;32m<string>\u001b[0m in \u001b[0;36mCalcF1\u001b[1;34m(SGCL)\u001b[0m\n",
      "\u001b[1;31mKeyError\u001b[0m: None"
     ]
    },
    {
     "ename": "KeyError",
     "evalue": "None",
     "output_type": "error",
     "traceback": [
      "\u001b[1;31m---------------------------------------------------------------------------\u001b[0m",
      "\u001b[1;31mKeyError\u001b[0m                                  Traceback (most recent call last)",
      "\u001b[1;32m<expression>\u001b[0m in \u001b[0;36m<module>\u001b[1;34m()\u001b[0m\n",
      "\u001b[1;32m<string>\u001b[0m in \u001b[0;36mCalcF1\u001b[1;34m(SGCL)\u001b[0m\n",
      "\u001b[1;31mKeyError\u001b[0m: None"
     ]
    },
    {
     "ename": "KeyError",
     "evalue": "None",
     "output_type": "error",
     "traceback": [
      "\u001b[1;31m---------------------------------------------------------------------------\u001b[0m",
      "\u001b[1;31mKeyError\u001b[0m                                  Traceback (most recent call last)",
      "\u001b[1;32m<expression>\u001b[0m in \u001b[0;36m<module>\u001b[1;34m()\u001b[0m\n",
      "\u001b[1;32m<string>\u001b[0m in \u001b[0;36mCalcF1\u001b[1;34m(SGCL)\u001b[0m\n",
      "\u001b[1;31mKeyError\u001b[0m: None"
     ]
    },
    {
     "ename": "KeyError",
     "evalue": "None",
     "output_type": "error",
     "traceback": [
      "\u001b[1;31m---------------------------------------------------------------------------\u001b[0m",
      "\u001b[1;31mKeyError\u001b[0m                                  Traceback (most recent call last)",
      "\u001b[1;32m<expression>\u001b[0m in \u001b[0;36m<module>\u001b[1;34m()\u001b[0m\n",
      "\u001b[1;32m<string>\u001b[0m in \u001b[0;36mCalcF1\u001b[1;34m(SGCL)\u001b[0m\n",
      "\u001b[1;31mKeyError\u001b[0m: None"
     ]
    },
    {
     "ename": "KeyError",
     "evalue": "None",
     "output_type": "error",
     "traceback": [
      "\u001b[1;31m---------------------------------------------------------------------------\u001b[0m",
      "\u001b[1;31mKeyError\u001b[0m                                  Traceback (most recent call last)",
      "\u001b[1;32m<expression>\u001b[0m in \u001b[0;36m<module>\u001b[1;34m()\u001b[0m\n",
      "\u001b[1;32m<string>\u001b[0m in \u001b[0;36mCalcF1\u001b[1;34m(SGCL)\u001b[0m\n",
      "\u001b[1;31mKeyError\u001b[0m: None"
     ]
    },
    {
     "ename": "KeyError",
     "evalue": "None",
     "output_type": "error",
     "traceback": [
      "\u001b[1;31m---------------------------------------------------------------------------\u001b[0m",
      "\u001b[1;31mKeyError\u001b[0m                                  Traceback (most recent call last)",
      "\u001b[1;32m<expression>\u001b[0m in \u001b[0;36m<module>\u001b[1;34m()\u001b[0m\n",
      "\u001b[1;32m<string>\u001b[0m in \u001b[0;36mCalcF1\u001b[1;34m(SGCL)\u001b[0m\n",
      "\u001b[1;31mKeyError\u001b[0m: None"
     ]
    },
    {
     "ename": "KeyError",
     "evalue": "None",
     "output_type": "error",
     "traceback": [
      "\u001b[1;31m---------------------------------------------------------------------------\u001b[0m",
      "\u001b[1;31mKeyError\u001b[0m                                  Traceback (most recent call last)",
      "\u001b[1;32m<expression>\u001b[0m in \u001b[0;36m<module>\u001b[1;34m()\u001b[0m\n",
      "\u001b[1;32m<string>\u001b[0m in \u001b[0;36mCalcF1\u001b[1;34m(SGCL)\u001b[0m\n",
      "\u001b[1;31mKeyError\u001b[0m: None"
     ]
    },
    {
     "ename": "KeyError",
     "evalue": "None",
     "output_type": "error",
     "traceback": [
      "\u001b[1;31m---------------------------------------------------------------------------\u001b[0m",
      "\u001b[1;31mKeyError\u001b[0m                                  Traceback (most recent call last)",
      "\u001b[1;32m<expression>\u001b[0m in \u001b[0;36m<module>\u001b[1;34m()\u001b[0m\n",
      "\u001b[1;32m<string>\u001b[0m in \u001b[0;36mCalcF1\u001b[1;34m(SGCL)\u001b[0m\n",
      "\u001b[1;31mKeyError\u001b[0m: None"
     ]
    },
    {
     "ename": "KeyError",
     "evalue": "None",
     "output_type": "error",
     "traceback": [
      "\u001b[1;31m---------------------------------------------------------------------------\u001b[0m",
      "\u001b[1;31mKeyError\u001b[0m                                  Traceback (most recent call last)",
      "\u001b[1;32m<expression>\u001b[0m in \u001b[0;36m<module>\u001b[1;34m()\u001b[0m\n",
      "\u001b[1;32m<string>\u001b[0m in \u001b[0;36mCalcF1\u001b[1;34m(SGCL)\u001b[0m\n",
      "\u001b[1;31mKeyError\u001b[0m: None"
     ]
    },
    {
     "ename": "KeyError",
     "evalue": "None",
     "output_type": "error",
     "traceback": [
      "\u001b[1;31m---------------------------------------------------------------------------\u001b[0m",
      "\u001b[1;31mKeyError\u001b[0m                                  Traceback (most recent call last)",
      "\u001b[1;32m<expression>\u001b[0m in \u001b[0;36m<module>\u001b[1;34m()\u001b[0m\n",
      "\u001b[1;32m<string>\u001b[0m in \u001b[0;36mCalcF1\u001b[1;34m(SGCL)\u001b[0m\n",
      "\u001b[1;31mKeyError\u001b[0m: None"
     ]
    },
    {
     "ename": "KeyError",
     "evalue": "None",
     "output_type": "error",
     "traceback": [
      "\u001b[1;31m---------------------------------------------------------------------------\u001b[0m",
      "\u001b[1;31mKeyError\u001b[0m                                  Traceback (most recent call last)",
      "\u001b[1;32m<expression>\u001b[0m in \u001b[0;36m<module>\u001b[1;34m()\u001b[0m\n",
      "\u001b[1;32m<string>\u001b[0m in \u001b[0;36mCalcF1\u001b[1;34m(SGCL)\u001b[0m\n",
      "\u001b[1;31mKeyError\u001b[0m: None"
     ]
    },
    {
     "ename": "KeyError",
     "evalue": "None",
     "output_type": "error",
     "traceback": [
      "\u001b[1;31m---------------------------------------------------------------------------\u001b[0m",
      "\u001b[1;31mKeyError\u001b[0m                                  Traceback (most recent call last)",
      "\u001b[1;32m<expression>\u001b[0m in \u001b[0;36m<module>\u001b[1;34m()\u001b[0m\n",
      "\u001b[1;32m<string>\u001b[0m in \u001b[0;36mCalcF1\u001b[1;34m(SGCL)\u001b[0m\n",
      "\u001b[1;31mKeyError\u001b[0m: None"
     ]
    },
    {
     "ename": "KeyError",
     "evalue": "None",
     "output_type": "error",
     "traceback": [
      "\u001b[1;31m---------------------------------------------------------------------------\u001b[0m",
      "\u001b[1;31mKeyError\u001b[0m                                  Traceback (most recent call last)",
      "\u001b[1;32m<expression>\u001b[0m in \u001b[0;36m<module>\u001b[1;34m()\u001b[0m\n",
      "\u001b[1;32m<string>\u001b[0m in \u001b[0;36mCalcF1\u001b[1;34m(SGCL)\u001b[0m\n",
      "\u001b[1;31mKeyError\u001b[0m: None"
     ]
    },
    {
     "ename": "KeyError",
     "evalue": "None",
     "output_type": "error",
     "traceback": [
      "\u001b[1;31m---------------------------------------------------------------------------\u001b[0m",
      "\u001b[1;31mKeyError\u001b[0m                                  Traceback (most recent call last)",
      "\u001b[1;32m<expression>\u001b[0m in \u001b[0;36m<module>\u001b[1;34m()\u001b[0m\n",
      "\u001b[1;32m<string>\u001b[0m in \u001b[0;36mCalcF1\u001b[1;34m(SGCL)\u001b[0m\n",
      "\u001b[1;31mKeyError\u001b[0m: None"
     ]
    },
    {
     "ename": "KeyError",
     "evalue": "None",
     "output_type": "error",
     "traceback": [
      "\u001b[1;31m---------------------------------------------------------------------------\u001b[0m",
      "\u001b[1;31mKeyError\u001b[0m                                  Traceback (most recent call last)",
      "\u001b[1;32m<expression>\u001b[0m in \u001b[0;36m<module>\u001b[1;34m()\u001b[0m\n",
      "\u001b[1;32m<string>\u001b[0m in \u001b[0;36mCalcF1\u001b[1;34m(SGCL)\u001b[0m\n",
      "\u001b[1;31mKeyError\u001b[0m: None"
     ]
    },
    {
     "ename": "KeyError",
     "evalue": "None",
     "output_type": "error",
     "traceback": [
      "\u001b[1;31m---------------------------------------------------------------------------\u001b[0m",
      "\u001b[1;31mKeyError\u001b[0m                                  Traceback (most recent call last)",
      "\u001b[1;32m<expression>\u001b[0m in \u001b[0;36m<module>\u001b[1;34m()\u001b[0m\n",
      "\u001b[1;32m<string>\u001b[0m in \u001b[0;36mCalcF1\u001b[1;34m(SGCL)\u001b[0m\n",
      "\u001b[1;31mKeyError\u001b[0m: None"
     ]
    },
    {
     "ename": "KeyError",
     "evalue": "None",
     "output_type": "error",
     "traceback": [
      "\u001b[1;31m---------------------------------------------------------------------------\u001b[0m",
      "\u001b[1;31mKeyError\u001b[0m                                  Traceback (most recent call last)",
      "\u001b[1;32m<expression>\u001b[0m in \u001b[0;36m<module>\u001b[1;34m()\u001b[0m\n",
      "\u001b[1;32m<string>\u001b[0m in \u001b[0;36mCalcF1\u001b[1;34m(SGCL)\u001b[0m\n",
      "\u001b[1;31mKeyError\u001b[0m: None"
     ]
    },
    {
     "ename": "KeyError",
     "evalue": "None",
     "output_type": "error",
     "traceback": [
      "\u001b[1;31m---------------------------------------------------------------------------\u001b[0m",
      "\u001b[1;31mKeyError\u001b[0m                                  Traceback (most recent call last)",
      "\u001b[1;32m<expression>\u001b[0m in \u001b[0;36m<module>\u001b[1;34m()\u001b[0m\n",
      "\u001b[1;32m<string>\u001b[0m in \u001b[0;36mCalcF1\u001b[1;34m(SGCL)\u001b[0m\n",
      "\u001b[1;31mKeyError\u001b[0m: None"
     ]
    },
    {
     "ename": "KeyError",
     "evalue": "None",
     "output_type": "error",
     "traceback": [
      "\u001b[1;31m---------------------------------------------------------------------------\u001b[0m",
      "\u001b[1;31mKeyError\u001b[0m                                  Traceback (most recent call last)",
      "\u001b[1;32m<expression>\u001b[0m in \u001b[0;36m<module>\u001b[1;34m()\u001b[0m\n",
      "\u001b[1;32m<string>\u001b[0m in \u001b[0;36mCalcF1\u001b[1;34m(SGCL)\u001b[0m\n",
      "\u001b[1;31mKeyError\u001b[0m: None"
     ]
    },
    {
     "ename": "KeyError",
     "evalue": "None",
     "output_type": "error",
     "traceback": [
      "\u001b[1;31m---------------------------------------------------------------------------\u001b[0m",
      "\u001b[1;31mKeyError\u001b[0m                                  Traceback (most recent call last)",
      "\u001b[1;32m<expression>\u001b[0m in \u001b[0;36m<module>\u001b[1;34m()\u001b[0m\n",
      "\u001b[1;32m<string>\u001b[0m in \u001b[0;36mCalcF1\u001b[1;34m(SGCL)\u001b[0m\n",
      "\u001b[1;31mKeyError\u001b[0m: None"
     ]
    },
    {
     "ename": "KeyError",
     "evalue": "None",
     "output_type": "error",
     "traceback": [
      "\u001b[1;31m---------------------------------------------------------------------------\u001b[0m",
      "\u001b[1;31mKeyError\u001b[0m                                  Traceback (most recent call last)",
      "\u001b[1;32m<expression>\u001b[0m in \u001b[0;36m<module>\u001b[1;34m()\u001b[0m\n",
      "\u001b[1;32m<string>\u001b[0m in \u001b[0;36mCalcF1\u001b[1;34m(SGCL)\u001b[0m\n",
      "\u001b[1;31mKeyError\u001b[0m: None"
     ]
    },
    {
     "ename": "KeyError",
     "evalue": "None",
     "output_type": "error",
     "traceback": [
      "\u001b[1;31m---------------------------------------------------------------------------\u001b[0m",
      "\u001b[1;31mKeyError\u001b[0m                                  Traceback (most recent call last)",
      "\u001b[1;32m<expression>\u001b[0m in \u001b[0;36m<module>\u001b[1;34m()\u001b[0m\n",
      "\u001b[1;32m<string>\u001b[0m in \u001b[0;36mCalcF1\u001b[1;34m(SGCL)\u001b[0m\n",
      "\u001b[1;31mKeyError\u001b[0m: None"
     ]
    },
    {
     "ename": "KeyError",
     "evalue": "None",
     "output_type": "error",
     "traceback": [
      "\u001b[1;31m---------------------------------------------------------------------------\u001b[0m",
      "\u001b[1;31mKeyError\u001b[0m                                  Traceback (most recent call last)",
      "\u001b[1;32m<expression>\u001b[0m in \u001b[0;36m<module>\u001b[1;34m()\u001b[0m\n",
      "\u001b[1;32m<string>\u001b[0m in \u001b[0;36mCalcF1\u001b[1;34m(SGCL)\u001b[0m\n",
      "\u001b[1;31mKeyError\u001b[0m: None"
     ]
    },
    {
     "ename": "KeyError",
     "evalue": "None",
     "output_type": "error",
     "traceback": [
      "\u001b[1;31m---------------------------------------------------------------------------\u001b[0m",
      "\u001b[1;31mKeyError\u001b[0m                                  Traceback (most recent call last)",
      "\u001b[1;32m<expression>\u001b[0m in \u001b[0;36m<module>\u001b[1;34m()\u001b[0m\n",
      "\u001b[1;32m<string>\u001b[0m in \u001b[0;36mCalcF1\u001b[1;34m(SGCL)\u001b[0m\n",
      "\u001b[1;31mKeyError\u001b[0m: None"
     ]
    },
    {
     "ename": "KeyError",
     "evalue": "None",
     "output_type": "error",
     "traceback": [
      "\u001b[1;31m---------------------------------------------------------------------------\u001b[0m",
      "\u001b[1;31mKeyError\u001b[0m                                  Traceback (most recent call last)",
      "\u001b[1;32m<expression>\u001b[0m in \u001b[0;36m<module>\u001b[1;34m()\u001b[0m\n",
      "\u001b[1;32m<string>\u001b[0m in \u001b[0;36mCalcF1\u001b[1;34m(SGCL)\u001b[0m\n",
      "\u001b[1;31mKeyError\u001b[0m: None"
     ]
    },
    {
     "ename": "KeyError",
     "evalue": "None",
     "output_type": "error",
     "traceback": [
      "\u001b[1;31m---------------------------------------------------------------------------\u001b[0m",
      "\u001b[1;31mKeyError\u001b[0m                                  Traceback (most recent call last)",
      "\u001b[1;32m<expression>\u001b[0m in \u001b[0;36m<module>\u001b[1;34m()\u001b[0m\n",
      "\u001b[1;32m<string>\u001b[0m in \u001b[0;36mCalcF1\u001b[1;34m(SGCL)\u001b[0m\n",
      "\u001b[1;31mKeyError\u001b[0m: None"
     ]
    },
    {
     "ename": "KeyError",
     "evalue": "None",
     "output_type": "error",
     "traceback": [
      "\u001b[1;31m---------------------------------------------------------------------------\u001b[0m",
      "\u001b[1;31mKeyError\u001b[0m                                  Traceback (most recent call last)",
      "\u001b[1;32m<expression>\u001b[0m in \u001b[0;36m<module>\u001b[1;34m()\u001b[0m\n",
      "\u001b[1;32m<string>\u001b[0m in \u001b[0;36mCalcF1\u001b[1;34m(SGCL)\u001b[0m\n",
      "\u001b[1;31mKeyError\u001b[0m: None"
     ]
    },
    {
     "ename": "KeyError",
     "evalue": "None",
     "output_type": "error",
     "traceback": [
      "\u001b[1;31m---------------------------------------------------------------------------\u001b[0m",
      "\u001b[1;31mKeyError\u001b[0m                                  Traceback (most recent call last)",
      "\u001b[1;32m<expression>\u001b[0m in \u001b[0;36m<module>\u001b[1;34m()\u001b[0m\n",
      "\u001b[1;32m<string>\u001b[0m in \u001b[0;36mCalcF1\u001b[1;34m(SGCL)\u001b[0m\n",
      "\u001b[1;31mKeyError\u001b[0m: None"
     ]
    },
    {
     "ename": "KeyError",
     "evalue": "None",
     "output_type": "error",
     "traceback": [
      "\u001b[1;31m---------------------------------------------------------------------------\u001b[0m",
      "\u001b[1;31mKeyError\u001b[0m                                  Traceback (most recent call last)",
      "\u001b[1;32m<expression>\u001b[0m in \u001b[0;36m<module>\u001b[1;34m()\u001b[0m\n",
      "\u001b[1;32m<string>\u001b[0m in \u001b[0;36mCalcF1\u001b[1;34m(SGCL)\u001b[0m\n",
      "\u001b[1;31mKeyError\u001b[0m: None"
     ]
    },
    {
     "ename": "KeyError",
     "evalue": "None",
     "output_type": "error",
     "traceback": [
      "\u001b[1;31m---------------------------------------------------------------------------\u001b[0m",
      "\u001b[1;31mKeyError\u001b[0m                                  Traceback (most recent call last)",
      "\u001b[1;32m<expression>\u001b[0m in \u001b[0;36m<module>\u001b[1;34m()\u001b[0m\n",
      "\u001b[1;32m<string>\u001b[0m in \u001b[0;36mCalcF1\u001b[1;34m(SGCL)\u001b[0m\n",
      "\u001b[1;31mKeyError\u001b[0m: None"
     ]
    },
    {
     "ename": "KeyError",
     "evalue": "None",
     "output_type": "error",
     "traceback": [
      "\u001b[1;31m---------------------------------------------------------------------------\u001b[0m",
      "\u001b[1;31mKeyError\u001b[0m                                  Traceback (most recent call last)",
      "\u001b[1;32m<expression>\u001b[0m in \u001b[0;36m<module>\u001b[1;34m()\u001b[0m\n",
      "\u001b[1;32m<string>\u001b[0m in \u001b[0;36mCalcF1\u001b[1;34m(SGCL)\u001b[0m\n",
      "\u001b[1;31mKeyError\u001b[0m: None"
     ]
    },
    {
     "ename": "KeyError",
     "evalue": "None",
     "output_type": "error",
     "traceback": [
      "\u001b[1;31m---------------------------------------------------------------------------\u001b[0m",
      "\u001b[1;31mKeyError\u001b[0m                                  Traceback (most recent call last)",
      "\u001b[1;32m<expression>\u001b[0m in \u001b[0;36m<module>\u001b[1;34m()\u001b[0m\n",
      "\u001b[1;32m<string>\u001b[0m in \u001b[0;36mCalcF1\u001b[1;34m(SGCL)\u001b[0m\n",
      "\u001b[1;31mKeyError\u001b[0m: None"
     ]
    },
    {
     "ename": "KeyError",
     "evalue": "None",
     "output_type": "error",
     "traceback": [
      "\u001b[1;31m---------------------------------------------------------------------------\u001b[0m",
      "\u001b[1;31mKeyError\u001b[0m                                  Traceback (most recent call last)",
      "\u001b[1;32m<expression>\u001b[0m in \u001b[0;36m<module>\u001b[1;34m()\u001b[0m\n",
      "\u001b[1;32m<string>\u001b[0m in \u001b[0;36mCalcF1\u001b[1;34m(SGCL)\u001b[0m\n",
      "\u001b[1;31mKeyError\u001b[0m: None"
     ]
    },
    {
     "ename": "KeyError",
     "evalue": "None",
     "output_type": "error",
     "traceback": [
      "\u001b[1;31m---------------------------------------------------------------------------\u001b[0m",
      "\u001b[1;31mKeyError\u001b[0m                                  Traceback (most recent call last)",
      "\u001b[1;32m<expression>\u001b[0m in \u001b[0;36m<module>\u001b[1;34m()\u001b[0m\n",
      "\u001b[1;32m<string>\u001b[0m in \u001b[0;36mCalcF1\u001b[1;34m(SGCL)\u001b[0m\n",
      "\u001b[1;31mKeyError\u001b[0m: None"
     ]
    },
    {
     "ename": "KeyError",
     "evalue": "None",
     "output_type": "error",
     "traceback": [
      "\u001b[1;31m---------------------------------------------------------------------------\u001b[0m",
      "\u001b[1;31mKeyError\u001b[0m                                  Traceback (most recent call last)",
      "\u001b[1;32m<expression>\u001b[0m in \u001b[0;36m<module>\u001b[1;34m()\u001b[0m\n",
      "\u001b[1;32m<string>\u001b[0m in \u001b[0;36mCalcF1\u001b[1;34m(SGCL)\u001b[0m\n",
      "\u001b[1;31mKeyError\u001b[0m: None"
     ]
    },
    {
     "ename": "KeyError",
     "evalue": "None",
     "output_type": "error",
     "traceback": [
      "\u001b[1;31m---------------------------------------------------------------------------\u001b[0m",
      "\u001b[1;31mKeyError\u001b[0m                                  Traceback (most recent call last)",
      "\u001b[1;32m<expression>\u001b[0m in \u001b[0;36m<module>\u001b[1;34m()\u001b[0m\n",
      "\u001b[1;32m<string>\u001b[0m in \u001b[0;36mCalcF1\u001b[1;34m(SGCL)\u001b[0m\n",
      "\u001b[1;31mKeyError\u001b[0m: None"
     ]
    },
    {
     "ename": "KeyError",
     "evalue": "None",
     "output_type": "error",
     "traceback": [
      "\u001b[1;31m---------------------------------------------------------------------------\u001b[0m",
      "\u001b[1;31mKeyError\u001b[0m                                  Traceback (most recent call last)",
      "\u001b[1;32m<expression>\u001b[0m in \u001b[0;36m<module>\u001b[1;34m()\u001b[0m\n",
      "\u001b[1;32m<string>\u001b[0m in \u001b[0;36mCalcF1\u001b[1;34m(SGCL)\u001b[0m\n",
      "\u001b[1;31mKeyError\u001b[0m: None"
     ]
    },
    {
     "ename": "KeyError",
     "evalue": "None",
     "output_type": "error",
     "traceback": [
      "\u001b[1;31m---------------------------------------------------------------------------\u001b[0m",
      "\u001b[1;31mKeyError\u001b[0m                                  Traceback (most recent call last)",
      "\u001b[1;32m<expression>\u001b[0m in \u001b[0;36m<module>\u001b[1;34m()\u001b[0m\n",
      "\u001b[1;32m<string>\u001b[0m in \u001b[0;36mCalcF1\u001b[1;34m(SGCL)\u001b[0m\n",
      "\u001b[1;31mKeyError\u001b[0m: None"
     ]
    },
    {
     "ename": "KeyError",
     "evalue": "None",
     "output_type": "error",
     "traceback": [
      "\u001b[1;31m---------------------------------------------------------------------------\u001b[0m",
      "\u001b[1;31mKeyError\u001b[0m                                  Traceback (most recent call last)",
      "\u001b[1;32m<expression>\u001b[0m in \u001b[0;36m<module>\u001b[1;34m()\u001b[0m\n",
      "\u001b[1;32m<string>\u001b[0m in \u001b[0;36mCalcF1\u001b[1;34m(SGCL)\u001b[0m\n",
      "\u001b[1;31mKeyError\u001b[0m: None"
     ]
    },
    {
     "ename": "KeyError",
     "evalue": "None",
     "output_type": "error",
     "traceback": [
      "\u001b[1;31m---------------------------------------------------------------------------\u001b[0m",
      "\u001b[1;31mKeyError\u001b[0m                                  Traceback (most recent call last)",
      "\u001b[1;32m<expression>\u001b[0m in \u001b[0;36m<module>\u001b[1;34m()\u001b[0m\n",
      "\u001b[1;32m<string>\u001b[0m in \u001b[0;36mCalcF1\u001b[1;34m(SGCL)\u001b[0m\n",
      "\u001b[1;31mKeyError\u001b[0m: None"
     ]
    },
    {
     "ename": "KeyError",
     "evalue": "None",
     "output_type": "error",
     "traceback": [
      "\u001b[1;31m---------------------------------------------------------------------------\u001b[0m",
      "\u001b[1;31mKeyError\u001b[0m                                  Traceback (most recent call last)",
      "\u001b[1;32m<expression>\u001b[0m in \u001b[0;36m<module>\u001b[1;34m()\u001b[0m\n",
      "\u001b[1;32m<string>\u001b[0m in \u001b[0;36mCalcF1\u001b[1;34m(SGCL)\u001b[0m\n",
      "\u001b[1;31mKeyError\u001b[0m: None"
     ]
    },
    {
     "ename": "KeyError",
     "evalue": "None",
     "output_type": "error",
     "traceback": [
      "\u001b[1;31m---------------------------------------------------------------------------\u001b[0m",
      "\u001b[1;31mKeyError\u001b[0m                                  Traceback (most recent call last)",
      "\u001b[1;32m<expression>\u001b[0m in \u001b[0;36m<module>\u001b[1;34m()\u001b[0m\n",
      "\u001b[1;32m<string>\u001b[0m in \u001b[0;36mCalcF1\u001b[1;34m(SGCL)\u001b[0m\n",
      "\u001b[1;31mKeyError\u001b[0m: None"
     ]
    },
    {
     "ename": "KeyError",
     "evalue": "None",
     "output_type": "error",
     "traceback": [
      "\u001b[1;31m---------------------------------------------------------------------------\u001b[0m",
      "\u001b[1;31mKeyError\u001b[0m                                  Traceback (most recent call last)",
      "\u001b[1;32m<expression>\u001b[0m in \u001b[0;36m<module>\u001b[1;34m()\u001b[0m\n",
      "\u001b[1;32m<string>\u001b[0m in \u001b[0;36mCalcF1\u001b[1;34m(SGCL)\u001b[0m\n",
      "\u001b[1;31mKeyError\u001b[0m: None"
     ]
    },
    {
     "ename": "KeyError",
     "evalue": "None",
     "output_type": "error",
     "traceback": [
      "\u001b[1;31m---------------------------------------------------------------------------\u001b[0m",
      "\u001b[1;31mKeyError\u001b[0m                                  Traceback (most recent call last)",
      "\u001b[1;32m<expression>\u001b[0m in \u001b[0;36m<module>\u001b[1;34m()\u001b[0m\n",
      "\u001b[1;32m<string>\u001b[0m in \u001b[0;36mCalcF1\u001b[1;34m(SGCL)\u001b[0m\n",
      "\u001b[1;31mKeyError\u001b[0m: None"
     ]
    },
    {
     "ename": "KeyError",
     "evalue": "None",
     "output_type": "error",
     "traceback": [
      "\u001b[1;31m---------------------------------------------------------------------------\u001b[0m",
      "\u001b[1;31mKeyError\u001b[0m                                  Traceback (most recent call last)",
      "\u001b[1;32m<expression>\u001b[0m in \u001b[0;36m<module>\u001b[1;34m()\u001b[0m\n",
      "\u001b[1;32m<string>\u001b[0m in \u001b[0;36mCalcF1\u001b[1;34m(SGCL)\u001b[0m\n",
      "\u001b[1;31mKeyError\u001b[0m: None"
     ]
    },
    {
     "ename": "KeyError",
     "evalue": "None",
     "output_type": "error",
     "traceback": [
      "\u001b[1;31m---------------------------------------------------------------------------\u001b[0m",
      "\u001b[1;31mKeyError\u001b[0m                                  Traceback (most recent call last)",
      "\u001b[1;32m<expression>\u001b[0m in \u001b[0;36m<module>\u001b[1;34m()\u001b[0m\n",
      "\u001b[1;32m<string>\u001b[0m in \u001b[0;36mCalcF1\u001b[1;34m(SGCL)\u001b[0m\n",
      "\u001b[1;31mKeyError\u001b[0m: None"
     ]
    },
    {
     "ename": "KeyError",
     "evalue": "None",
     "output_type": "error",
     "traceback": [
      "\u001b[1;31m---------------------------------------------------------------------------\u001b[0m",
      "\u001b[1;31mKeyError\u001b[0m                                  Traceback (most recent call last)",
      "\u001b[1;32m<expression>\u001b[0m in \u001b[0;36m<module>\u001b[1;34m()\u001b[0m\n",
      "\u001b[1;32m<string>\u001b[0m in \u001b[0;36mCalcF1\u001b[1;34m(SGCL)\u001b[0m\n",
      "\u001b[1;31mKeyError\u001b[0m: None"
     ]
    },
    {
     "ename": "KeyError",
     "evalue": "None",
     "output_type": "error",
     "traceback": [
      "\u001b[1;31m---------------------------------------------------------------------------\u001b[0m",
      "\u001b[1;31mKeyError\u001b[0m                                  Traceback (most recent call last)",
      "\u001b[1;32m<expression>\u001b[0m in \u001b[0;36m<module>\u001b[1;34m()\u001b[0m\n",
      "\u001b[1;32m<string>\u001b[0m in \u001b[0;36mCalcF1\u001b[1;34m(SGCL)\u001b[0m\n",
      "\u001b[1;31mKeyError\u001b[0m: None"
     ]
    },
    {
     "ename": "KeyError",
     "evalue": "None",
     "output_type": "error",
     "traceback": [
      "\u001b[1;31m---------------------------------------------------------------------------\u001b[0m",
      "\u001b[1;31mKeyError\u001b[0m                                  Traceback (most recent call last)",
      "\u001b[1;32m<expression>\u001b[0m in \u001b[0;36m<module>\u001b[1;34m()\u001b[0m\n",
      "\u001b[1;32m<string>\u001b[0m in \u001b[0;36mCalcF1\u001b[1;34m(SGCL)\u001b[0m\n",
      "\u001b[1;31mKeyError\u001b[0m: None"
     ]
    },
    {
     "ename": "KeyError",
     "evalue": "None",
     "output_type": "error",
     "traceback": [
      "\u001b[1;31m---------------------------------------------------------------------------\u001b[0m",
      "\u001b[1;31mKeyError\u001b[0m                                  Traceback (most recent call last)",
      "\u001b[1;32m<expression>\u001b[0m in \u001b[0;36m<module>\u001b[1;34m()\u001b[0m\n",
      "\u001b[1;32m<string>\u001b[0m in \u001b[0;36mCalcF1\u001b[1;34m(SGCL)\u001b[0m\n",
      "\u001b[1;31mKeyError\u001b[0m: None"
     ]
    },
    {
     "ename": "KeyError",
     "evalue": "None",
     "output_type": "error",
     "traceback": [
      "\u001b[1;31m---------------------------------------------------------------------------\u001b[0m",
      "\u001b[1;31mKeyError\u001b[0m                                  Traceback (most recent call last)",
      "\u001b[1;32m<expression>\u001b[0m in \u001b[0;36m<module>\u001b[1;34m()\u001b[0m\n",
      "\u001b[1;32m<string>\u001b[0m in \u001b[0;36mCalcF1\u001b[1;34m(SGCL)\u001b[0m\n",
      "\u001b[1;31mKeyError\u001b[0m: None"
     ]
    },
    {
     "ename": "KeyError",
     "evalue": "None",
     "output_type": "error",
     "traceback": [
      "\u001b[1;31m---------------------------------------------------------------------------\u001b[0m",
      "\u001b[1;31mKeyError\u001b[0m                                  Traceback (most recent call last)",
      "\u001b[1;32m<expression>\u001b[0m in \u001b[0;36m<module>\u001b[1;34m()\u001b[0m\n",
      "\u001b[1;32m<string>\u001b[0m in \u001b[0;36mCalcF1\u001b[1;34m(SGCL)\u001b[0m\n",
      "\u001b[1;31mKeyError\u001b[0m: None"
     ]
    },
    {
     "ename": "KeyError",
     "evalue": "None",
     "output_type": "error",
     "traceback": [
      "\u001b[1;31m---------------------------------------------------------------------------\u001b[0m",
      "\u001b[1;31mKeyError\u001b[0m                                  Traceback (most recent call last)",
      "\u001b[1;32m<expression>\u001b[0m in \u001b[0;36m<module>\u001b[1;34m()\u001b[0m\n",
      "\u001b[1;32m<string>\u001b[0m in \u001b[0;36mCalcF1\u001b[1;34m(SGCL)\u001b[0m\n",
      "\u001b[1;31mKeyError\u001b[0m: None"
     ]
    },
    {
     "ename": "KeyError",
     "evalue": "None",
     "output_type": "error",
     "traceback": [
      "\u001b[1;31m---------------------------------------------------------------------------\u001b[0m",
      "\u001b[1;31mKeyError\u001b[0m                                  Traceback (most recent call last)",
      "\u001b[1;32m<expression>\u001b[0m in \u001b[0;36m<module>\u001b[1;34m()\u001b[0m\n",
      "\u001b[1;32m<string>\u001b[0m in \u001b[0;36mCalcF1\u001b[1;34m(SGCL)\u001b[0m\n",
      "\u001b[1;31mKeyError\u001b[0m: None"
     ]
    },
    {
     "ename": "KeyError",
     "evalue": "None",
     "output_type": "error",
     "traceback": [
      "\u001b[1;31m---------------------------------------------------------------------------\u001b[0m",
      "\u001b[1;31mKeyError\u001b[0m                                  Traceback (most recent call last)",
      "\u001b[1;32m<expression>\u001b[0m in \u001b[0;36m<module>\u001b[1;34m()\u001b[0m\n",
      "\u001b[1;32m<string>\u001b[0m in \u001b[0;36mCalcF1\u001b[1;34m(SGCL)\u001b[0m\n",
      "\u001b[1;31mKeyError\u001b[0m: None"
     ]
    },
    {
     "ename": "KeyError",
     "evalue": "None",
     "output_type": "error",
     "traceback": [
      "\u001b[1;31m---------------------------------------------------------------------------\u001b[0m",
      "\u001b[1;31mKeyError\u001b[0m                                  Traceback (most recent call last)",
      "\u001b[1;32m<expression>\u001b[0m in \u001b[0;36m<module>\u001b[1;34m()\u001b[0m\n",
      "\u001b[1;32m<string>\u001b[0m in \u001b[0;36mCalcF1\u001b[1;34m(SGCL)\u001b[0m\n",
      "\u001b[1;31mKeyError\u001b[0m: None"
     ]
    },
    {
     "ename": "KeyError",
     "evalue": "None",
     "output_type": "error",
     "traceback": [
      "\u001b[1;31m---------------------------------------------------------------------------\u001b[0m",
      "\u001b[1;31mKeyError\u001b[0m                                  Traceback (most recent call last)",
      "\u001b[1;32m<expression>\u001b[0m in \u001b[0;36m<module>\u001b[1;34m()\u001b[0m\n",
      "\u001b[1;32m<string>\u001b[0m in \u001b[0;36mCalcF1\u001b[1;34m(SGCL)\u001b[0m\n",
      "\u001b[1;31mKeyError\u001b[0m: None"
     ]
    },
    {
     "ename": "KeyError",
     "evalue": "None",
     "output_type": "error",
     "traceback": [
      "\u001b[1;31m---------------------------------------------------------------------------\u001b[0m",
      "\u001b[1;31mKeyError\u001b[0m                                  Traceback (most recent call last)",
      "\u001b[1;32m<expression>\u001b[0m in \u001b[0;36m<module>\u001b[1;34m()\u001b[0m\n",
      "\u001b[1;32m<string>\u001b[0m in \u001b[0;36mCalcF1\u001b[1;34m(SGCL)\u001b[0m\n",
      "\u001b[1;31mKeyError\u001b[0m: None"
     ]
    },
    {
     "ename": "KeyError",
     "evalue": "None",
     "output_type": "error",
     "traceback": [
      "\u001b[1;31m---------------------------------------------------------------------------\u001b[0m",
      "\u001b[1;31mKeyError\u001b[0m                                  Traceback (most recent call last)",
      "\u001b[1;32m<expression>\u001b[0m in \u001b[0;36m<module>\u001b[1;34m()\u001b[0m\n",
      "\u001b[1;32m<string>\u001b[0m in \u001b[0;36mCalcF1\u001b[1;34m(SGCL)\u001b[0m\n",
      "\u001b[1;31mKeyError\u001b[0m: None"
     ]
    },
    {
     "ename": "KeyError",
     "evalue": "None",
     "output_type": "error",
     "traceback": [
      "\u001b[1;31m---------------------------------------------------------------------------\u001b[0m",
      "\u001b[1;31mKeyError\u001b[0m                                  Traceback (most recent call last)",
      "\u001b[1;32m<expression>\u001b[0m in \u001b[0;36m<module>\u001b[1;34m()\u001b[0m\n",
      "\u001b[1;32m<string>\u001b[0m in \u001b[0;36mCalcF1\u001b[1;34m(SGCL)\u001b[0m\n",
      "\u001b[1;31mKeyError\u001b[0m: None"
     ]
    },
    {
     "ename": "KeyError",
     "evalue": "None",
     "output_type": "error",
     "traceback": [
      "\u001b[1;31m---------------------------------------------------------------------------\u001b[0m",
      "\u001b[1;31mKeyError\u001b[0m                                  Traceback (most recent call last)",
      "\u001b[1;32m<expression>\u001b[0m in \u001b[0;36m<module>\u001b[1;34m()\u001b[0m\n",
      "\u001b[1;32m<string>\u001b[0m in \u001b[0;36mCalcF1\u001b[1;34m(SGCL)\u001b[0m\n",
      "\u001b[1;31mKeyError\u001b[0m: None"
     ]
    },
    {
     "ename": "KeyError",
     "evalue": "None",
     "output_type": "error",
     "traceback": [
      "\u001b[1;31m---------------------------------------------------------------------------\u001b[0m",
      "\u001b[1;31mKeyError\u001b[0m                                  Traceback (most recent call last)",
      "\u001b[1;32m<expression>\u001b[0m in \u001b[0;36m<module>\u001b[1;34m()\u001b[0m\n",
      "\u001b[1;32m<string>\u001b[0m in \u001b[0;36mCalcF1\u001b[1;34m(SGCL)\u001b[0m\n",
      "\u001b[1;31mKeyError\u001b[0m: None"
     ]
    },
    {
     "ename": "KeyError",
     "evalue": "None",
     "output_type": "error",
     "traceback": [
      "\u001b[1;31m---------------------------------------------------------------------------\u001b[0m",
      "\u001b[1;31mKeyError\u001b[0m                                  Traceback (most recent call last)",
      "\u001b[1;32m<expression>\u001b[0m in \u001b[0;36m<module>\u001b[1;34m()\u001b[0m\n",
      "\u001b[1;32m<string>\u001b[0m in \u001b[0;36mCalcF1\u001b[1;34m(SGCL)\u001b[0m\n",
      "\u001b[1;31mKeyError\u001b[0m: None"
     ]
    },
    {
     "ename": "KeyError",
     "evalue": "None",
     "output_type": "error",
     "traceback": [
      "\u001b[1;31m---------------------------------------------------------------------------\u001b[0m",
      "\u001b[1;31mKeyError\u001b[0m                                  Traceback (most recent call last)",
      "\u001b[1;32m<expression>\u001b[0m in \u001b[0;36m<module>\u001b[1;34m()\u001b[0m\n",
      "\u001b[1;32m<string>\u001b[0m in \u001b[0;36mCalcF1\u001b[1;34m(SGCL)\u001b[0m\n",
      "\u001b[1;31mKeyError\u001b[0m: None"
     ]
    },
    {
     "ename": "KeyError",
     "evalue": "None",
     "output_type": "error",
     "traceback": [
      "\u001b[1;31m---------------------------------------------------------------------------\u001b[0m",
      "\u001b[1;31mKeyError\u001b[0m                                  Traceback (most recent call last)",
      "\u001b[1;32m<expression>\u001b[0m in \u001b[0;36m<module>\u001b[1;34m()\u001b[0m\n",
      "\u001b[1;32m<string>\u001b[0m in \u001b[0;36mCalcF1\u001b[1;34m(SGCL)\u001b[0m\n",
      "\u001b[1;31mKeyError\u001b[0m: None"
     ]
    },
    {
     "ename": "KeyError",
     "evalue": "None",
     "output_type": "error",
     "traceback": [
      "\u001b[1;31m---------------------------------------------------------------------------\u001b[0m",
      "\u001b[1;31mKeyError\u001b[0m                                  Traceback (most recent call last)",
      "\u001b[1;32m<expression>\u001b[0m in \u001b[0;36m<module>\u001b[1;34m()\u001b[0m\n",
      "\u001b[1;32m<string>\u001b[0m in \u001b[0;36mCalcF1\u001b[1;34m(SGCL)\u001b[0m\n",
      "\u001b[1;31mKeyError\u001b[0m: None"
     ]
    },
    {
     "ename": "KeyError",
     "evalue": "None",
     "output_type": "error",
     "traceback": [
      "\u001b[1;31m---------------------------------------------------------------------------\u001b[0m",
      "\u001b[1;31mKeyError\u001b[0m                                  Traceback (most recent call last)",
      "\u001b[1;32m<expression>\u001b[0m in \u001b[0;36m<module>\u001b[1;34m()\u001b[0m\n",
      "\u001b[1;32m<string>\u001b[0m in \u001b[0;36mCalcF1\u001b[1;34m(SGCL)\u001b[0m\n",
      "\u001b[1;31mKeyError\u001b[0m: None"
     ]
    },
    {
     "ename": "KeyError",
     "evalue": "None",
     "output_type": "error",
     "traceback": [
      "\u001b[1;31m---------------------------------------------------------------------------\u001b[0m",
      "\u001b[1;31mKeyError\u001b[0m                                  Traceback (most recent call last)",
      "\u001b[1;32m<expression>\u001b[0m in \u001b[0;36m<module>\u001b[1;34m()\u001b[0m\n",
      "\u001b[1;32m<string>\u001b[0m in \u001b[0;36mCalcF1\u001b[1;34m(SGCL)\u001b[0m\n",
      "\u001b[1;31mKeyError\u001b[0m: None"
     ]
    },
    {
     "ename": "KeyError",
     "evalue": "None",
     "output_type": "error",
     "traceback": [
      "\u001b[1;31m---------------------------------------------------------------------------\u001b[0m",
      "\u001b[1;31mKeyError\u001b[0m                                  Traceback (most recent call last)",
      "\u001b[1;32m<expression>\u001b[0m in \u001b[0;36m<module>\u001b[1;34m()\u001b[0m\n",
      "\u001b[1;32m<string>\u001b[0m in \u001b[0;36mCalcF1\u001b[1;34m(SGCL)\u001b[0m\n",
      "\u001b[1;31mKeyError\u001b[0m: None"
     ]
    },
    {
     "ename": "KeyError",
     "evalue": "None",
     "output_type": "error",
     "traceback": [
      "\u001b[1;31m---------------------------------------------------------------------------\u001b[0m",
      "\u001b[1;31mKeyError\u001b[0m                                  Traceback (most recent call last)",
      "\u001b[1;32m<expression>\u001b[0m in \u001b[0;36m<module>\u001b[1;34m()\u001b[0m\n",
      "\u001b[1;32m<string>\u001b[0m in \u001b[0;36mCalcF1\u001b[1;34m(SGCL)\u001b[0m\n",
      "\u001b[1;31mKeyError\u001b[0m: None"
     ]
    },
    {
     "ename": "KeyError",
     "evalue": "None",
     "output_type": "error",
     "traceback": [
      "\u001b[1;31m---------------------------------------------------------------------------\u001b[0m",
      "\u001b[1;31mKeyError\u001b[0m                                  Traceback (most recent call last)",
      "\u001b[1;32m<expression>\u001b[0m in \u001b[0;36m<module>\u001b[1;34m()\u001b[0m\n",
      "\u001b[1;32m<string>\u001b[0m in \u001b[0;36mCalcF1\u001b[1;34m(SGCL)\u001b[0m\n",
      "\u001b[1;31mKeyError\u001b[0m: None"
     ]
    },
    {
     "ename": "KeyError",
     "evalue": "None",
     "output_type": "error",
     "traceback": [
      "\u001b[1;31m---------------------------------------------------------------------------\u001b[0m",
      "\u001b[1;31mKeyError\u001b[0m                                  Traceback (most recent call last)",
      "\u001b[1;32m<expression>\u001b[0m in \u001b[0;36m<module>\u001b[1;34m()\u001b[0m\n",
      "\u001b[1;32m<string>\u001b[0m in \u001b[0;36mCalcF1\u001b[1;34m(SGCL)\u001b[0m\n",
      "\u001b[1;31mKeyError\u001b[0m: None"
     ]
    },
    {
     "ename": "KeyError",
     "evalue": "None",
     "output_type": "error",
     "traceback": [
      "\u001b[1;31m---------------------------------------------------------------------------\u001b[0m",
      "\u001b[1;31mKeyError\u001b[0m                                  Traceback (most recent call last)",
      "\u001b[1;32m<expression>\u001b[0m in \u001b[0;36m<module>\u001b[1;34m()\u001b[0m\n",
      "\u001b[1;32m<string>\u001b[0m in \u001b[0;36mCalcF1\u001b[1;34m(SGCL)\u001b[0m\n",
      "\u001b[1;31mKeyError\u001b[0m: None"
     ]
    },
    {
     "ename": "KeyError",
     "evalue": "None",
     "output_type": "error",
     "traceback": [
      "\u001b[1;31m---------------------------------------------------------------------------\u001b[0m",
      "\u001b[1;31mKeyError\u001b[0m                                  Traceback (most recent call last)",
      "\u001b[1;32m<expression>\u001b[0m in \u001b[0;36m<module>\u001b[1;34m()\u001b[0m\n",
      "\u001b[1;32m<string>\u001b[0m in \u001b[0;36mCalcF1\u001b[1;34m(SGCL)\u001b[0m\n",
      "\u001b[1;31mKeyError\u001b[0m: None"
     ]
    },
    {
     "ename": "KeyError",
     "evalue": "None",
     "output_type": "error",
     "traceback": [
      "\u001b[1;31m---------------------------------------------------------------------------\u001b[0m",
      "\u001b[1;31mKeyError\u001b[0m                                  Traceback (most recent call last)",
      "\u001b[1;32m<expression>\u001b[0m in \u001b[0;36m<module>\u001b[1;34m()\u001b[0m\n",
      "\u001b[1;32m<string>\u001b[0m in \u001b[0;36mCalcF1\u001b[1;34m(SGCL)\u001b[0m\n",
      "\u001b[1;31mKeyError\u001b[0m: None"
     ]
    },
    {
     "ename": "KeyError",
     "evalue": "None",
     "output_type": "error",
     "traceback": [
      "\u001b[1;31m---------------------------------------------------------------------------\u001b[0m",
      "\u001b[1;31mKeyError\u001b[0m                                  Traceback (most recent call last)",
      "\u001b[1;32m<expression>\u001b[0m in \u001b[0;36m<module>\u001b[1;34m()\u001b[0m\n",
      "\u001b[1;32m<string>\u001b[0m in \u001b[0;36mCalcF1\u001b[1;34m(SGCL)\u001b[0m\n",
      "\u001b[1;31mKeyError\u001b[0m: None"
     ]
    },
    {
     "ename": "KeyError",
     "evalue": "None",
     "output_type": "error",
     "traceback": [
      "\u001b[1;31m---------------------------------------------------------------------------\u001b[0m",
      "\u001b[1;31mKeyError\u001b[0m                                  Traceback (most recent call last)",
      "\u001b[1;32m<expression>\u001b[0m in \u001b[0;36m<module>\u001b[1;34m()\u001b[0m\n",
      "\u001b[1;32m<string>\u001b[0m in \u001b[0;36mCalcF1\u001b[1;34m(SGCL)\u001b[0m\n",
      "\u001b[1;31mKeyError\u001b[0m: None"
     ]
    },
    {
     "ename": "KeyError",
     "evalue": "None",
     "output_type": "error",
     "traceback": [
      "\u001b[1;31m---------------------------------------------------------------------------\u001b[0m",
      "\u001b[1;31mKeyError\u001b[0m                                  Traceback (most recent call last)",
      "\u001b[1;32m<expression>\u001b[0m in \u001b[0;36m<module>\u001b[1;34m()\u001b[0m\n",
      "\u001b[1;32m<string>\u001b[0m in \u001b[0;36mCalcF1\u001b[1;34m(SGCL)\u001b[0m\n",
      "\u001b[1;31mKeyError\u001b[0m: None"
     ]
    },
    {
     "ename": "KeyError",
     "evalue": "None",
     "output_type": "error",
     "traceback": [
      "\u001b[1;31m---------------------------------------------------------------------------\u001b[0m",
      "\u001b[1;31mKeyError\u001b[0m                                  Traceback (most recent call last)",
      "\u001b[1;32m<expression>\u001b[0m in \u001b[0;36m<module>\u001b[1;34m()\u001b[0m\n",
      "\u001b[1;32m<string>\u001b[0m in \u001b[0;36mCalcF1\u001b[1;34m(SGCL)\u001b[0m\n",
      "\u001b[1;31mKeyError\u001b[0m: None"
     ]
    },
    {
     "ename": "KeyError",
     "evalue": "None",
     "output_type": "error",
     "traceback": [
      "\u001b[1;31m---------------------------------------------------------------------------\u001b[0m",
      "\u001b[1;31mKeyError\u001b[0m                                  Traceback (most recent call last)",
      "\u001b[1;32m<expression>\u001b[0m in \u001b[0;36m<module>\u001b[1;34m()\u001b[0m\n",
      "\u001b[1;32m<string>\u001b[0m in \u001b[0;36mCalcF1\u001b[1;34m(SGCL)\u001b[0m\n",
      "\u001b[1;31mKeyError\u001b[0m: None"
     ]
    },
    {
     "ename": "KeyError",
     "evalue": "None",
     "output_type": "error",
     "traceback": [
      "\u001b[1;31m---------------------------------------------------------------------------\u001b[0m",
      "\u001b[1;31mKeyError\u001b[0m                                  Traceback (most recent call last)",
      "\u001b[1;32m<expression>\u001b[0m in \u001b[0;36m<module>\u001b[1;34m()\u001b[0m\n",
      "\u001b[1;32m<string>\u001b[0m in \u001b[0;36mCalcF1\u001b[1;34m(SGCL)\u001b[0m\n",
      "\u001b[1;31mKeyError\u001b[0m: None"
     ]
    },
    {
     "ename": "KeyError",
     "evalue": "None",
     "output_type": "error",
     "traceback": [
      "\u001b[1;31m---------------------------------------------------------------------------\u001b[0m",
      "\u001b[1;31mKeyError\u001b[0m                                  Traceback (most recent call last)",
      "\u001b[1;32m<expression>\u001b[0m in \u001b[0;36m<module>\u001b[1;34m()\u001b[0m\n",
      "\u001b[1;32m<string>\u001b[0m in \u001b[0;36mCalcF1\u001b[1;34m(SGCL)\u001b[0m\n",
      "\u001b[1;31mKeyError\u001b[0m: None"
     ]
    },
    {
     "ename": "KeyError",
     "evalue": "None",
     "output_type": "error",
     "traceback": [
      "\u001b[1;31m---------------------------------------------------------------------------\u001b[0m",
      "\u001b[1;31mKeyError\u001b[0m                                  Traceback (most recent call last)",
      "\u001b[1;32m<expression>\u001b[0m in \u001b[0;36m<module>\u001b[1;34m()\u001b[0m\n",
      "\u001b[1;32m<string>\u001b[0m in \u001b[0;36mCalcF1\u001b[1;34m(SGCL)\u001b[0m\n",
      "\u001b[1;31mKeyError\u001b[0m: None"
     ]
    },
    {
     "ename": "KeyError",
     "evalue": "None",
     "output_type": "error",
     "traceback": [
      "\u001b[1;31m---------------------------------------------------------------------------\u001b[0m",
      "\u001b[1;31mKeyError\u001b[0m                                  Traceback (most recent call last)",
      "\u001b[1;32m<expression>\u001b[0m in \u001b[0;36m<module>\u001b[1;34m()\u001b[0m\n",
      "\u001b[1;32m<string>\u001b[0m in \u001b[0;36mCalcF1\u001b[1;34m(SGCL)\u001b[0m\n",
      "\u001b[1;31mKeyError\u001b[0m: None"
     ]
    },
    {
     "ename": "KeyError",
     "evalue": "None",
     "output_type": "error",
     "traceback": [
      "\u001b[1;31m---------------------------------------------------------------------------\u001b[0m",
      "\u001b[1;31mKeyError\u001b[0m                                  Traceback (most recent call last)",
      "\u001b[1;32m<expression>\u001b[0m in \u001b[0;36m<module>\u001b[1;34m()\u001b[0m\n",
      "\u001b[1;32m<string>\u001b[0m in \u001b[0;36mCalcF1\u001b[1;34m(SGCL)\u001b[0m\n",
      "\u001b[1;31mKeyError\u001b[0m: None"
     ]
    },
    {
     "ename": "KeyError",
     "evalue": "None",
     "output_type": "error",
     "traceback": [
      "\u001b[1;31m---------------------------------------------------------------------------\u001b[0m",
      "\u001b[1;31mKeyError\u001b[0m                                  Traceback (most recent call last)",
      "\u001b[1;32m<expression>\u001b[0m in \u001b[0;36m<module>\u001b[1;34m()\u001b[0m\n",
      "\u001b[1;32m<string>\u001b[0m in \u001b[0;36mCalcF1\u001b[1;34m(SGCL)\u001b[0m\n",
      "\u001b[1;31mKeyError\u001b[0m: None"
     ]
    },
    {
     "ename": "KeyError",
     "evalue": "None",
     "output_type": "error",
     "traceback": [
      "\u001b[1;31m---------------------------------------------------------------------------\u001b[0m",
      "\u001b[1;31mKeyError\u001b[0m                                  Traceback (most recent call last)",
      "\u001b[1;32m<expression>\u001b[0m in \u001b[0;36m<module>\u001b[1;34m()\u001b[0m\n",
      "\u001b[1;32m<string>\u001b[0m in \u001b[0;36mCalcF1\u001b[1;34m(SGCL)\u001b[0m\n",
      "\u001b[1;31mKeyError\u001b[0m: None"
     ]
    },
    {
     "ename": "KeyError",
     "evalue": "None",
     "output_type": "error",
     "traceback": [
      "\u001b[1;31m---------------------------------------------------------------------------\u001b[0m",
      "\u001b[1;31mKeyError\u001b[0m                                  Traceback (most recent call last)",
      "\u001b[1;32m<expression>\u001b[0m in \u001b[0;36m<module>\u001b[1;34m()\u001b[0m\n",
      "\u001b[1;32m<string>\u001b[0m in \u001b[0;36mCalcF1\u001b[1;34m(SGCL)\u001b[0m\n",
      "\u001b[1;31mKeyError\u001b[0m: None"
     ]
    },
    {
     "ename": "KeyError",
     "evalue": "None",
     "output_type": "error",
     "traceback": [
      "\u001b[1;31m---------------------------------------------------------------------------\u001b[0m",
      "\u001b[1;31mKeyError\u001b[0m                                  Traceback (most recent call last)",
      "\u001b[1;32m<expression>\u001b[0m in \u001b[0;36m<module>\u001b[1;34m()\u001b[0m\n",
      "\u001b[1;32m<string>\u001b[0m in \u001b[0;36mCalcF1\u001b[1;34m(SGCL)\u001b[0m\n",
      "\u001b[1;31mKeyError\u001b[0m: None"
     ]
    },
    {
     "ename": "KeyError",
     "evalue": "None",
     "output_type": "error",
     "traceback": [
      "\u001b[1;31m---------------------------------------------------------------------------\u001b[0m",
      "\u001b[1;31mKeyError\u001b[0m                                  Traceback (most recent call last)",
      "\u001b[1;32m<expression>\u001b[0m in \u001b[0;36m<module>\u001b[1;34m()\u001b[0m\n",
      "\u001b[1;32m<string>\u001b[0m in \u001b[0;36mCalcF1\u001b[1;34m(SGCL)\u001b[0m\n",
      "\u001b[1;31mKeyError\u001b[0m: None"
     ]
    },
    {
     "ename": "KeyError",
     "evalue": "None",
     "output_type": "error",
     "traceback": [
      "\u001b[1;31m---------------------------------------------------------------------------\u001b[0m",
      "\u001b[1;31mKeyError\u001b[0m                                  Traceback (most recent call last)",
      "\u001b[1;32m<expression>\u001b[0m in \u001b[0;36m<module>\u001b[1;34m()\u001b[0m\n",
      "\u001b[1;32m<string>\u001b[0m in \u001b[0;36mCalcF1\u001b[1;34m(SGCL)\u001b[0m\n",
      "\u001b[1;31mKeyError\u001b[0m: None"
     ]
    },
    {
     "ename": "KeyError",
     "evalue": "None",
     "output_type": "error",
     "traceback": [
      "\u001b[1;31m---------------------------------------------------------------------------\u001b[0m",
      "\u001b[1;31mKeyError\u001b[0m                                  Traceback (most recent call last)",
      "\u001b[1;32m<expression>\u001b[0m in \u001b[0;36m<module>\u001b[1;34m()\u001b[0m\n",
      "\u001b[1;32m<string>\u001b[0m in \u001b[0;36mCalcF1\u001b[1;34m(SGCL)\u001b[0m\n",
      "\u001b[1;31mKeyError\u001b[0m: None"
     ]
    },
    {
     "ename": "KeyError",
     "evalue": "None",
     "output_type": "error",
     "traceback": [
      "\u001b[1;31m---------------------------------------------------------------------------\u001b[0m",
      "\u001b[1;31mKeyError\u001b[0m                                  Traceback (most recent call last)",
      "\u001b[1;32m<expression>\u001b[0m in \u001b[0;36m<module>\u001b[1;34m()\u001b[0m\n",
      "\u001b[1;32m<string>\u001b[0m in \u001b[0;36mCalcF1\u001b[1;34m(SGCL)\u001b[0m\n",
      "\u001b[1;31mKeyError\u001b[0m: None"
     ]
    },
    {
     "ename": "KeyError",
     "evalue": "None",
     "output_type": "error",
     "traceback": [
      "\u001b[1;31m---------------------------------------------------------------------------\u001b[0m",
      "\u001b[1;31mKeyError\u001b[0m                                  Traceback (most recent call last)",
      "\u001b[1;32m<expression>\u001b[0m in \u001b[0;36m<module>\u001b[1;34m()\u001b[0m\n",
      "\u001b[1;32m<string>\u001b[0m in \u001b[0;36mCalcF1\u001b[1;34m(SGCL)\u001b[0m\n",
      "\u001b[1;31mKeyError\u001b[0m: None"
     ]
    },
    {
     "ename": "KeyError",
     "evalue": "None",
     "output_type": "error",
     "traceback": [
      "\u001b[1;31m---------------------------------------------------------------------------\u001b[0m",
      "\u001b[1;31mKeyError\u001b[0m                                  Traceback (most recent call last)",
      "\u001b[1;32m<expression>\u001b[0m in \u001b[0;36m<module>\u001b[1;34m()\u001b[0m\n",
      "\u001b[1;32m<string>\u001b[0m in \u001b[0;36mCalcF1\u001b[1;34m(SGCL)\u001b[0m\n",
      "\u001b[1;31mKeyError\u001b[0m: None"
     ]
    },
    {
     "ename": "KeyError",
     "evalue": "None",
     "output_type": "error",
     "traceback": [
      "\u001b[1;31m---------------------------------------------------------------------------\u001b[0m",
      "\u001b[1;31mKeyError\u001b[0m                                  Traceback (most recent call last)",
      "\u001b[1;32m<expression>\u001b[0m in \u001b[0;36m<module>\u001b[1;34m()\u001b[0m\n",
      "\u001b[1;32m<string>\u001b[0m in \u001b[0;36mCalcF1\u001b[1;34m(SGCL)\u001b[0m\n",
      "\u001b[1;31mKeyError\u001b[0m: None"
     ]
    },
    {
     "ename": "KeyError",
     "evalue": "None",
     "output_type": "error",
     "traceback": [
      "\u001b[1;31m---------------------------------------------------------------------------\u001b[0m",
      "\u001b[1;31mKeyError\u001b[0m                                  Traceback (most recent call last)",
      "\u001b[1;32m<expression>\u001b[0m in \u001b[0;36m<module>\u001b[1;34m()\u001b[0m\n",
      "\u001b[1;32m<string>\u001b[0m in \u001b[0;36mCalcF1\u001b[1;34m(SGCL)\u001b[0m\n",
      "\u001b[1;31mKeyError\u001b[0m: None"
     ]
    },
    {
     "ename": "KeyError",
     "evalue": "None",
     "output_type": "error",
     "traceback": [
      "\u001b[1;31m---------------------------------------------------------------------------\u001b[0m",
      "\u001b[1;31mKeyError\u001b[0m                                  Traceback (most recent call last)",
      "\u001b[1;32m<expression>\u001b[0m in \u001b[0;36m<module>\u001b[1;34m()\u001b[0m\n",
      "\u001b[1;32m<string>\u001b[0m in \u001b[0;36mCalcF1\u001b[1;34m(SGCL)\u001b[0m\n",
      "\u001b[1;31mKeyError\u001b[0m: None"
     ]
    },
    {
     "ename": "KeyError",
     "evalue": "None",
     "output_type": "error",
     "traceback": [
      "\u001b[1;31m---------------------------------------------------------------------------\u001b[0m",
      "\u001b[1;31mKeyError\u001b[0m                                  Traceback (most recent call last)",
      "\u001b[1;32m<expression>\u001b[0m in \u001b[0;36m<module>\u001b[1;34m()\u001b[0m\n",
      "\u001b[1;32m<string>\u001b[0m in \u001b[0;36mCalcF1\u001b[1;34m(SGCL)\u001b[0m\n",
      "\u001b[1;31mKeyError\u001b[0m: None"
     ]
    },
    {
     "ename": "KeyError",
     "evalue": "None",
     "output_type": "error",
     "traceback": [
      "\u001b[1;31m---------------------------------------------------------------------------\u001b[0m",
      "\u001b[1;31mKeyError\u001b[0m                                  Traceback (most recent call last)",
      "\u001b[1;32m<expression>\u001b[0m in \u001b[0;36m<module>\u001b[1;34m()\u001b[0m\n",
      "\u001b[1;32m<string>\u001b[0m in \u001b[0;36mCalcF1\u001b[1;34m(SGCL)\u001b[0m\n",
      "\u001b[1;31mKeyError\u001b[0m: None"
     ]
    },
    {
     "ename": "KeyError",
     "evalue": "None",
     "output_type": "error",
     "traceback": [
      "\u001b[1;31m---------------------------------------------------------------------------\u001b[0m",
      "\u001b[1;31mKeyError\u001b[0m                                  Traceback (most recent call last)",
      "\u001b[1;32m<expression>\u001b[0m in \u001b[0;36m<module>\u001b[1;34m()\u001b[0m\n",
      "\u001b[1;32m<string>\u001b[0m in \u001b[0;36mCalcF1\u001b[1;34m(SGCL)\u001b[0m\n",
      "\u001b[1;31mKeyError\u001b[0m: None"
     ]
    },
    {
     "ename": "KeyError",
     "evalue": "None",
     "output_type": "error",
     "traceback": [
      "\u001b[1;31m---------------------------------------------------------------------------\u001b[0m",
      "\u001b[1;31mKeyError\u001b[0m                                  Traceback (most recent call last)",
      "\u001b[1;32m<expression>\u001b[0m in \u001b[0;36m<module>\u001b[1;34m()\u001b[0m\n",
      "\u001b[1;32m<string>\u001b[0m in \u001b[0;36mCalcF1\u001b[1;34m(SGCL)\u001b[0m\n",
      "\u001b[1;31mKeyError\u001b[0m: None"
     ]
    },
    {
     "ename": "KeyError",
     "evalue": "None",
     "output_type": "error",
     "traceback": [
      "\u001b[1;31m---------------------------------------------------------------------------\u001b[0m",
      "\u001b[1;31mKeyError\u001b[0m                                  Traceback (most recent call last)",
      "\u001b[1;32m<expression>\u001b[0m in \u001b[0;36m<module>\u001b[1;34m()\u001b[0m\n",
      "\u001b[1;32m<string>\u001b[0m in \u001b[0;36mCalcF1\u001b[1;34m(SGCL)\u001b[0m\n",
      "\u001b[1;31mKeyError\u001b[0m: None"
     ]
    },
    {
     "ename": "KeyError",
     "evalue": "None",
     "output_type": "error",
     "traceback": [
      "\u001b[1;31m---------------------------------------------------------------------------\u001b[0m",
      "\u001b[1;31mKeyError\u001b[0m                                  Traceback (most recent call last)",
      "\u001b[1;32m<expression>\u001b[0m in \u001b[0;36m<module>\u001b[1;34m()\u001b[0m\n",
      "\u001b[1;32m<string>\u001b[0m in \u001b[0;36mCalcF1\u001b[1;34m(SGCL)\u001b[0m\n",
      "\u001b[1;31mKeyError\u001b[0m: None"
     ]
    },
    {
     "ename": "KeyError",
     "evalue": "None",
     "output_type": "error",
     "traceback": [
      "\u001b[1;31m---------------------------------------------------------------------------\u001b[0m",
      "\u001b[1;31mKeyError\u001b[0m                                  Traceback (most recent call last)",
      "\u001b[1;32m<expression>\u001b[0m in \u001b[0;36m<module>\u001b[1;34m()\u001b[0m\n",
      "\u001b[1;32m<string>\u001b[0m in \u001b[0;36mCalcF1\u001b[1;34m(SGCL)\u001b[0m\n",
      "\u001b[1;31mKeyError\u001b[0m: None"
     ]
    },
    {
     "ename": "KeyError",
     "evalue": "None",
     "output_type": "error",
     "traceback": [
      "\u001b[1;31m---------------------------------------------------------------------------\u001b[0m",
      "\u001b[1;31mKeyError\u001b[0m                                  Traceback (most recent call last)",
      "\u001b[1;32m<expression>\u001b[0m in \u001b[0;36m<module>\u001b[1;34m()\u001b[0m\n",
      "\u001b[1;32m<string>\u001b[0m in \u001b[0;36mCalcF1\u001b[1;34m(SGCL)\u001b[0m\n",
      "\u001b[1;31mKeyError\u001b[0m: None"
     ]
    },
    {
     "ename": "KeyError",
     "evalue": "None",
     "output_type": "error",
     "traceback": [
      "\u001b[1;31m---------------------------------------------------------------------------\u001b[0m",
      "\u001b[1;31mKeyError\u001b[0m                                  Traceback (most recent call last)",
      "\u001b[1;32m<expression>\u001b[0m in \u001b[0;36m<module>\u001b[1;34m()\u001b[0m\n",
      "\u001b[1;32m<string>\u001b[0m in \u001b[0;36mCalcF1\u001b[1;34m(SGCL)\u001b[0m\n",
      "\u001b[1;31mKeyError\u001b[0m: None"
     ]
    },
    {
     "ename": "KeyError",
     "evalue": "None",
     "output_type": "error",
     "traceback": [
      "\u001b[1;31m---------------------------------------------------------------------------\u001b[0m",
      "\u001b[1;31mKeyError\u001b[0m                                  Traceback (most recent call last)",
      "\u001b[1;32m<expression>\u001b[0m in \u001b[0;36m<module>\u001b[1;34m()\u001b[0m\n",
      "\u001b[1;32m<string>\u001b[0m in \u001b[0;36mCalcF1\u001b[1;34m(SGCL)\u001b[0m\n",
      "\u001b[1;31mKeyError\u001b[0m: None"
     ]
    },
    {
     "ename": "KeyError",
     "evalue": "None",
     "output_type": "error",
     "traceback": [
      "\u001b[1;31m---------------------------------------------------------------------------\u001b[0m",
      "\u001b[1;31mKeyError\u001b[0m                                  Traceback (most recent call last)",
      "\u001b[1;32m<expression>\u001b[0m in \u001b[0;36m<module>\u001b[1;34m()\u001b[0m\n",
      "\u001b[1;32m<string>\u001b[0m in \u001b[0;36mCalcF1\u001b[1;34m(SGCL)\u001b[0m\n",
      "\u001b[1;31mKeyError\u001b[0m: None"
     ]
    },
    {
     "ename": "KeyError",
     "evalue": "None",
     "output_type": "error",
     "traceback": [
      "\u001b[1;31m---------------------------------------------------------------------------\u001b[0m",
      "\u001b[1;31mKeyError\u001b[0m                                  Traceback (most recent call last)",
      "\u001b[1;32m<expression>\u001b[0m in \u001b[0;36m<module>\u001b[1;34m()\u001b[0m\n",
      "\u001b[1;32m<string>\u001b[0m in \u001b[0;36mCalcF1\u001b[1;34m(SGCL)\u001b[0m\n",
      "\u001b[1;31mKeyError\u001b[0m: None"
     ]
    },
    {
     "ename": "KeyError",
     "evalue": "None",
     "output_type": "error",
     "traceback": [
      "\u001b[1;31m---------------------------------------------------------------------------\u001b[0m",
      "\u001b[1;31mKeyError\u001b[0m                                  Traceback (most recent call last)",
      "\u001b[1;32m<expression>\u001b[0m in \u001b[0;36m<module>\u001b[1;34m()\u001b[0m\n",
      "\u001b[1;32m<string>\u001b[0m in \u001b[0;36mCalcF1\u001b[1;34m(SGCL)\u001b[0m\n",
      "\u001b[1;31mKeyError\u001b[0m: None"
     ]
    },
    {
     "ename": "KeyError",
     "evalue": "None",
     "output_type": "error",
     "traceback": [
      "\u001b[1;31m---------------------------------------------------------------------------\u001b[0m",
      "\u001b[1;31mKeyError\u001b[0m                                  Traceback (most recent call last)",
      "\u001b[1;32m<expression>\u001b[0m in \u001b[0;36m<module>\u001b[1;34m()\u001b[0m\n",
      "\u001b[1;32m<string>\u001b[0m in \u001b[0;36mCalcF1\u001b[1;34m(SGCL)\u001b[0m\n",
      "\u001b[1;31mKeyError\u001b[0m: None"
     ]
    },
    {
     "ename": "KeyError",
     "evalue": "None",
     "output_type": "error",
     "traceback": [
      "\u001b[1;31m---------------------------------------------------------------------------\u001b[0m",
      "\u001b[1;31mKeyError\u001b[0m                                  Traceback (most recent call last)",
      "\u001b[1;32m<expression>\u001b[0m in \u001b[0;36m<module>\u001b[1;34m()\u001b[0m\n",
      "\u001b[1;32m<string>\u001b[0m in \u001b[0;36mCalcF1\u001b[1;34m(SGCL)\u001b[0m\n",
      "\u001b[1;31mKeyError\u001b[0m: None"
     ]
    },
    {
     "ename": "KeyError",
     "evalue": "None",
     "output_type": "error",
     "traceback": [
      "\u001b[1;31m---------------------------------------------------------------------------\u001b[0m",
      "\u001b[1;31mKeyError\u001b[0m                                  Traceback (most recent call last)",
      "\u001b[1;32m<expression>\u001b[0m in \u001b[0;36m<module>\u001b[1;34m()\u001b[0m\n",
      "\u001b[1;32m<string>\u001b[0m in \u001b[0;36mCalcF1\u001b[1;34m(SGCL)\u001b[0m\n",
      "\u001b[1;31mKeyError\u001b[0m: None"
     ]
    },
    {
     "ename": "KeyError",
     "evalue": "None",
     "output_type": "error",
     "traceback": [
      "\u001b[1;31m---------------------------------------------------------------------------\u001b[0m",
      "\u001b[1;31mKeyError\u001b[0m                                  Traceback (most recent call last)",
      "\u001b[1;32m<expression>\u001b[0m in \u001b[0;36m<module>\u001b[1;34m()\u001b[0m\n",
      "\u001b[1;32m<string>\u001b[0m in \u001b[0;36mCalcF1\u001b[1;34m(SGCL)\u001b[0m\n",
      "\u001b[1;31mKeyError\u001b[0m: None"
     ]
    },
    {
     "ename": "KeyError",
     "evalue": "None",
     "output_type": "error",
     "traceback": [
      "\u001b[1;31m---------------------------------------------------------------------------\u001b[0m",
      "\u001b[1;31mKeyError\u001b[0m                                  Traceback (most recent call last)",
      "\u001b[1;32m<expression>\u001b[0m in \u001b[0;36m<module>\u001b[1;34m()\u001b[0m\n",
      "\u001b[1;32m<string>\u001b[0m in \u001b[0;36mCalcF1\u001b[1;34m(SGCL)\u001b[0m\n",
      "\u001b[1;31mKeyError\u001b[0m: None"
     ]
    },
    {
     "ename": "KeyError",
     "evalue": "None",
     "output_type": "error",
     "traceback": [
      "\u001b[1;31m---------------------------------------------------------------------------\u001b[0m",
      "\u001b[1;31mKeyError\u001b[0m                                  Traceback (most recent call last)",
      "\u001b[1;32m<expression>\u001b[0m in \u001b[0;36m<module>\u001b[1;34m()\u001b[0m\n",
      "\u001b[1;32m<string>\u001b[0m in \u001b[0;36mCalcF1\u001b[1;34m(SGCL)\u001b[0m\n",
      "\u001b[1;31mKeyError\u001b[0m: None"
     ]
    },
    {
     "ename": "KeyError",
     "evalue": "None",
     "output_type": "error",
     "traceback": [
      "\u001b[1;31m---------------------------------------------------------------------------\u001b[0m",
      "\u001b[1;31mKeyError\u001b[0m                                  Traceback (most recent call last)",
      "\u001b[1;32m<expression>\u001b[0m in \u001b[0;36m<module>\u001b[1;34m()\u001b[0m\n",
      "\u001b[1;32m<string>\u001b[0m in \u001b[0;36mCalcF1\u001b[1;34m(SGCL)\u001b[0m\n",
      "\u001b[1;31mKeyError\u001b[0m: None"
     ]
    },
    {
     "ename": "KeyError",
     "evalue": "None",
     "output_type": "error",
     "traceback": [
      "\u001b[1;31m---------------------------------------------------------------------------\u001b[0m",
      "\u001b[1;31mKeyError\u001b[0m                                  Traceback (most recent call last)",
      "\u001b[1;32m<expression>\u001b[0m in \u001b[0;36m<module>\u001b[1;34m()\u001b[0m\n",
      "\u001b[1;32m<string>\u001b[0m in \u001b[0;36mCalcF1\u001b[1;34m(SGCL)\u001b[0m\n",
      "\u001b[1;31mKeyError\u001b[0m: None"
     ]
    },
    {
     "ename": "KeyError",
     "evalue": "None",
     "output_type": "error",
     "traceback": [
      "\u001b[1;31m---------------------------------------------------------------------------\u001b[0m",
      "\u001b[1;31mKeyError\u001b[0m                                  Traceback (most recent call last)",
      "\u001b[1;32m<expression>\u001b[0m in \u001b[0;36m<module>\u001b[1;34m()\u001b[0m\n",
      "\u001b[1;32m<string>\u001b[0m in \u001b[0;36mCalcF1\u001b[1;34m(SGCL)\u001b[0m\n",
      "\u001b[1;31mKeyError\u001b[0m: None"
     ]
    },
    {
     "ename": "KeyError",
     "evalue": "None",
     "output_type": "error",
     "traceback": [
      "\u001b[1;31m---------------------------------------------------------------------------\u001b[0m",
      "\u001b[1;31mKeyError\u001b[0m                                  Traceback (most recent call last)",
      "\u001b[1;32m<expression>\u001b[0m in \u001b[0;36m<module>\u001b[1;34m()\u001b[0m\n",
      "\u001b[1;32m<string>\u001b[0m in \u001b[0;36mCalcF1\u001b[1;34m(SGCL)\u001b[0m\n",
      "\u001b[1;31mKeyError\u001b[0m: None"
     ]
    },
    {
     "ename": "KeyError",
     "evalue": "None",
     "output_type": "error",
     "traceback": [
      "\u001b[1;31m---------------------------------------------------------------------------\u001b[0m",
      "\u001b[1;31mKeyError\u001b[0m                                  Traceback (most recent call last)",
      "\u001b[1;32m<expression>\u001b[0m in \u001b[0;36m<module>\u001b[1;34m()\u001b[0m\n",
      "\u001b[1;32m<string>\u001b[0m in \u001b[0;36mCalcF1\u001b[1;34m(SGCL)\u001b[0m\n",
      "\u001b[1;31mKeyError\u001b[0m: None"
     ]
    },
    {
     "ename": "KeyError",
     "evalue": "None",
     "output_type": "error",
     "traceback": [
      "\u001b[1;31m---------------------------------------------------------------------------\u001b[0m",
      "\u001b[1;31mKeyError\u001b[0m                                  Traceback (most recent call last)",
      "\u001b[1;32m<expression>\u001b[0m in \u001b[0;36m<module>\u001b[1;34m()\u001b[0m\n",
      "\u001b[1;32m<string>\u001b[0m in \u001b[0;36mCalcF1\u001b[1;34m(SGCL)\u001b[0m\n",
      "\u001b[1;31mKeyError\u001b[0m: None"
     ]
    },
    {
     "ename": "KeyError",
     "evalue": "None",
     "output_type": "error",
     "traceback": [
      "\u001b[1;31m---------------------------------------------------------------------------\u001b[0m",
      "\u001b[1;31mKeyError\u001b[0m                                  Traceback (most recent call last)",
      "\u001b[1;32m<expression>\u001b[0m in \u001b[0;36m<module>\u001b[1;34m()\u001b[0m\n",
      "\u001b[1;32m<string>\u001b[0m in \u001b[0;36mCalcF1\u001b[1;34m(SGCL)\u001b[0m\n",
      "\u001b[1;31mKeyError\u001b[0m: None"
     ]
    },
    {
     "ename": "KeyError",
     "evalue": "None",
     "output_type": "error",
     "traceback": [
      "\u001b[1;31m---------------------------------------------------------------------------\u001b[0m",
      "\u001b[1;31mKeyError\u001b[0m                                  Traceback (most recent call last)",
      "\u001b[1;32m<expression>\u001b[0m in \u001b[0;36m<module>\u001b[1;34m()\u001b[0m\n",
      "\u001b[1;32m<string>\u001b[0m in \u001b[0;36mCalcF1\u001b[1;34m(SGCL)\u001b[0m\n",
      "\u001b[1;31mKeyError\u001b[0m: None"
     ]
    },
    {
     "ename": "KeyError",
     "evalue": "None",
     "output_type": "error",
     "traceback": [
      "\u001b[1;31m---------------------------------------------------------------------------\u001b[0m",
      "\u001b[1;31mKeyError\u001b[0m                                  Traceback (most recent call last)",
      "\u001b[1;32m<expression>\u001b[0m in \u001b[0;36m<module>\u001b[1;34m()\u001b[0m\n",
      "\u001b[1;32m<string>\u001b[0m in \u001b[0;36mCalcF1\u001b[1;34m(SGCL)\u001b[0m\n",
      "\u001b[1;31mKeyError\u001b[0m: None"
     ]
    },
    {
     "ename": "KeyError",
     "evalue": "None",
     "output_type": "error",
     "traceback": [
      "\u001b[1;31m---------------------------------------------------------------------------\u001b[0m",
      "\u001b[1;31mKeyError\u001b[0m                                  Traceback (most recent call last)",
      "\u001b[1;32m<expression>\u001b[0m in \u001b[0;36m<module>\u001b[1;34m()\u001b[0m\n",
      "\u001b[1;32m<string>\u001b[0m in \u001b[0;36mCalcF1\u001b[1;34m(SGCL)\u001b[0m\n",
      "\u001b[1;31mKeyError\u001b[0m: None"
     ]
    },
    {
     "ename": "KeyError",
     "evalue": "None",
     "output_type": "error",
     "traceback": [
      "\u001b[1;31m---------------------------------------------------------------------------\u001b[0m",
      "\u001b[1;31mKeyError\u001b[0m                                  Traceback (most recent call last)",
      "\u001b[1;32m<expression>\u001b[0m in \u001b[0;36m<module>\u001b[1;34m()\u001b[0m\n",
      "\u001b[1;32m<string>\u001b[0m in \u001b[0;36mCalcF1\u001b[1;34m(SGCL)\u001b[0m\n",
      "\u001b[1;31mKeyError\u001b[0m: None"
     ]
    },
    {
     "ename": "KeyError",
     "evalue": "None",
     "output_type": "error",
     "traceback": [
      "\u001b[1;31m---------------------------------------------------------------------------\u001b[0m",
      "\u001b[1;31mKeyError\u001b[0m                                  Traceback (most recent call last)",
      "\u001b[1;32m<expression>\u001b[0m in \u001b[0;36m<module>\u001b[1;34m()\u001b[0m\n",
      "\u001b[1;32m<string>\u001b[0m in \u001b[0;36mCalcF1\u001b[1;34m(SGCL)\u001b[0m\n",
      "\u001b[1;31mKeyError\u001b[0m: None"
     ]
    },
    {
     "ename": "KeyError",
     "evalue": "None",
     "output_type": "error",
     "traceback": [
      "\u001b[1;31m---------------------------------------------------------------------------\u001b[0m",
      "\u001b[1;31mKeyError\u001b[0m                                  Traceback (most recent call last)",
      "\u001b[1;32m<expression>\u001b[0m in \u001b[0;36m<module>\u001b[1;34m()\u001b[0m\n",
      "\u001b[1;32m<string>\u001b[0m in \u001b[0;36mCalcF1\u001b[1;34m(SGCL)\u001b[0m\n",
      "\u001b[1;31mKeyError\u001b[0m: None"
     ]
    },
    {
     "ename": "KeyError",
     "evalue": "None",
     "output_type": "error",
     "traceback": [
      "\u001b[1;31m---------------------------------------------------------------------------\u001b[0m",
      "\u001b[1;31mKeyError\u001b[0m                                  Traceback (most recent call last)",
      "\u001b[1;32m<expression>\u001b[0m in \u001b[0;36m<module>\u001b[1;34m()\u001b[0m\n",
      "\u001b[1;32m<string>\u001b[0m in \u001b[0;36mCalcF1\u001b[1;34m(SGCL)\u001b[0m\n",
      "\u001b[1;31mKeyError\u001b[0m: None"
     ]
    },
    {
     "ename": "KeyError",
     "evalue": "None",
     "output_type": "error",
     "traceback": [
      "\u001b[1;31m---------------------------------------------------------------------------\u001b[0m",
      "\u001b[1;31mKeyError\u001b[0m                                  Traceback (most recent call last)",
      "\u001b[1;32m<expression>\u001b[0m in \u001b[0;36m<module>\u001b[1;34m()\u001b[0m\n",
      "\u001b[1;32m<string>\u001b[0m in \u001b[0;36mCalcF1\u001b[1;34m(SGCL)\u001b[0m\n",
      "\u001b[1;31mKeyError\u001b[0m: None"
     ]
    },
    {
     "ename": "KeyError",
     "evalue": "None",
     "output_type": "error",
     "traceback": [
      "\u001b[1;31m---------------------------------------------------------------------------\u001b[0m",
      "\u001b[1;31mKeyError\u001b[0m                                  Traceback (most recent call last)",
      "\u001b[1;32m<expression>\u001b[0m in \u001b[0;36m<module>\u001b[1;34m()\u001b[0m\n",
      "\u001b[1;32m<string>\u001b[0m in \u001b[0;36mCalcF1\u001b[1;34m(SGCL)\u001b[0m\n",
      "\u001b[1;31mKeyError\u001b[0m: None"
     ]
    },
    {
     "ename": "KeyError",
     "evalue": "None",
     "output_type": "error",
     "traceback": [
      "\u001b[1;31m---------------------------------------------------------------------------\u001b[0m",
      "\u001b[1;31mKeyError\u001b[0m                                  Traceback (most recent call last)",
      "\u001b[1;32m<expression>\u001b[0m in \u001b[0;36m<module>\u001b[1;34m()\u001b[0m\n",
      "\u001b[1;32m<string>\u001b[0m in \u001b[0;36mCalcF1\u001b[1;34m(SGCL)\u001b[0m\n",
      "\u001b[1;31mKeyError\u001b[0m: None"
     ]
    },
    {
     "ename": "KeyError",
     "evalue": "None",
     "output_type": "error",
     "traceback": [
      "\u001b[1;31m---------------------------------------------------------------------------\u001b[0m",
      "\u001b[1;31mKeyError\u001b[0m                                  Traceback (most recent call last)",
      "\u001b[1;32m<expression>\u001b[0m in \u001b[0;36m<module>\u001b[1;34m()\u001b[0m\n",
      "\u001b[1;32m<string>\u001b[0m in \u001b[0;36mCalcF1\u001b[1;34m(SGCL)\u001b[0m\n",
      "\u001b[1;31mKeyError\u001b[0m: None"
     ]
    },
    {
     "ename": "KeyError",
     "evalue": "None",
     "output_type": "error",
     "traceback": [
      "\u001b[1;31m---------------------------------------------------------------------------\u001b[0m",
      "\u001b[1;31mKeyError\u001b[0m                                  Traceback (most recent call last)",
      "\u001b[1;32m<expression>\u001b[0m in \u001b[0;36m<module>\u001b[1;34m()\u001b[0m\n",
      "\u001b[1;32m<string>\u001b[0m in \u001b[0;36mCalcF1\u001b[1;34m(SGCL)\u001b[0m\n",
      "\u001b[1;31mKeyError\u001b[0m: None"
     ]
    },
    {
     "ename": "KeyError",
     "evalue": "None",
     "output_type": "error",
     "traceback": [
      "\u001b[1;31m---------------------------------------------------------------------------\u001b[0m",
      "\u001b[1;31mKeyError\u001b[0m                                  Traceback (most recent call last)",
      "\u001b[1;32m<expression>\u001b[0m in \u001b[0;36m<module>\u001b[1;34m()\u001b[0m\n",
      "\u001b[1;32m<string>\u001b[0m in \u001b[0;36mCalcF1\u001b[1;34m(SGCL)\u001b[0m\n",
      "\u001b[1;31mKeyError\u001b[0m: None"
     ]
    },
    {
     "ename": "KeyError",
     "evalue": "None",
     "output_type": "error",
     "traceback": [
      "\u001b[1;31m---------------------------------------------------------------------------\u001b[0m",
      "\u001b[1;31mKeyError\u001b[0m                                  Traceback (most recent call last)",
      "\u001b[1;32m<expression>\u001b[0m in \u001b[0;36m<module>\u001b[1;34m()\u001b[0m\n",
      "\u001b[1;32m<string>\u001b[0m in \u001b[0;36mCalcF1\u001b[1;34m(SGCL)\u001b[0m\n",
      "\u001b[1;31mKeyError\u001b[0m: None"
     ]
    },
    {
     "ename": "KeyError",
     "evalue": "None",
     "output_type": "error",
     "traceback": [
      "\u001b[1;31m---------------------------------------------------------------------------\u001b[0m",
      "\u001b[1;31mKeyError\u001b[0m                                  Traceback (most recent call last)",
      "\u001b[1;32m<expression>\u001b[0m in \u001b[0;36m<module>\u001b[1;34m()\u001b[0m\n",
      "\u001b[1;32m<string>\u001b[0m in \u001b[0;36mCalcF1\u001b[1;34m(SGCL)\u001b[0m\n",
      "\u001b[1;31mKeyError\u001b[0m: None"
     ]
    },
    {
     "ename": "KeyError",
     "evalue": "None",
     "output_type": "error",
     "traceback": [
      "\u001b[1;31m---------------------------------------------------------------------------\u001b[0m",
      "\u001b[1;31mKeyError\u001b[0m                                  Traceback (most recent call last)",
      "\u001b[1;32m<expression>\u001b[0m in \u001b[0;36m<module>\u001b[1;34m()\u001b[0m\n",
      "\u001b[1;32m<string>\u001b[0m in \u001b[0;36mCalcF1\u001b[1;34m(SGCL)\u001b[0m\n",
      "\u001b[1;31mKeyError\u001b[0m: None"
     ]
    },
    {
     "ename": "KeyError",
     "evalue": "None",
     "output_type": "error",
     "traceback": [
      "\u001b[1;31m---------------------------------------------------------------------------\u001b[0m",
      "\u001b[1;31mKeyError\u001b[0m                                  Traceback (most recent call last)",
      "\u001b[1;32m<expression>\u001b[0m in \u001b[0;36m<module>\u001b[1;34m()\u001b[0m\n",
      "\u001b[1;32m<string>\u001b[0m in \u001b[0;36mCalcF1\u001b[1;34m(SGCL)\u001b[0m\n",
      "\u001b[1;31mKeyError\u001b[0m: None"
     ]
    },
    {
     "ename": "KeyError",
     "evalue": "None",
     "output_type": "error",
     "traceback": [
      "\u001b[1;31m---------------------------------------------------------------------------\u001b[0m",
      "\u001b[1;31mKeyError\u001b[0m                                  Traceback (most recent call last)",
      "\u001b[1;32m<expression>\u001b[0m in \u001b[0;36m<module>\u001b[1;34m()\u001b[0m\n",
      "\u001b[1;32m<string>\u001b[0m in \u001b[0;36mCalcF1\u001b[1;34m(SGCL)\u001b[0m\n",
      "\u001b[1;31mKeyError\u001b[0m: None"
     ]
    },
    {
     "ename": "KeyError",
     "evalue": "None",
     "output_type": "error",
     "traceback": [
      "\u001b[1;31m---------------------------------------------------------------------------\u001b[0m",
      "\u001b[1;31mKeyError\u001b[0m                                  Traceback (most recent call last)",
      "\u001b[1;32m<expression>\u001b[0m in \u001b[0;36m<module>\u001b[1;34m()\u001b[0m\n",
      "\u001b[1;32m<string>\u001b[0m in \u001b[0;36mCalcF1\u001b[1;34m(SGCL)\u001b[0m\n",
      "\u001b[1;31mKeyError\u001b[0m: None"
     ]
    },
    {
     "ename": "KeyError",
     "evalue": "None",
     "output_type": "error",
     "traceback": [
      "\u001b[1;31m---------------------------------------------------------------------------\u001b[0m",
      "\u001b[1;31mKeyError\u001b[0m                                  Traceback (most recent call last)",
      "\u001b[1;32m<expression>\u001b[0m in \u001b[0;36m<module>\u001b[1;34m()\u001b[0m\n",
      "\u001b[1;32m<string>\u001b[0m in \u001b[0;36mCalcF1\u001b[1;34m(SGCL)\u001b[0m\n",
      "\u001b[1;31mKeyError\u001b[0m: None"
     ]
    },
    {
     "ename": "KeyError",
     "evalue": "None",
     "output_type": "error",
     "traceback": [
      "\u001b[1;31m---------------------------------------------------------------------------\u001b[0m",
      "\u001b[1;31mKeyError\u001b[0m                                  Traceback (most recent call last)",
      "\u001b[1;32m<expression>\u001b[0m in \u001b[0;36m<module>\u001b[1;34m()\u001b[0m\n",
      "\u001b[1;32m<string>\u001b[0m in \u001b[0;36mCalcF1\u001b[1;34m(SGCL)\u001b[0m\n",
      "\u001b[1;31mKeyError\u001b[0m: None"
     ]
    },
    {
     "ename": "KeyError",
     "evalue": "None",
     "output_type": "error",
     "traceback": [
      "\u001b[1;31m---------------------------------------------------------------------------\u001b[0m",
      "\u001b[1;31mKeyError\u001b[0m                                  Traceback (most recent call last)",
      "\u001b[1;32m<expression>\u001b[0m in \u001b[0;36m<module>\u001b[1;34m()\u001b[0m\n",
      "\u001b[1;32m<string>\u001b[0m in \u001b[0;36mCalcF1\u001b[1;34m(SGCL)\u001b[0m\n",
      "\u001b[1;31mKeyError\u001b[0m: None"
     ]
    },
    {
     "ename": "KeyError",
     "evalue": "None",
     "output_type": "error",
     "traceback": [
      "\u001b[1;31m---------------------------------------------------------------------------\u001b[0m",
      "\u001b[1;31mKeyError\u001b[0m                                  Traceback (most recent call last)",
      "\u001b[1;32m<expression>\u001b[0m in \u001b[0;36m<module>\u001b[1;34m()\u001b[0m\n",
      "\u001b[1;32m<string>\u001b[0m in \u001b[0;36mCalcF1\u001b[1;34m(SGCL)\u001b[0m\n",
      "\u001b[1;31mKeyError\u001b[0m: None"
     ]
    },
    {
     "ename": "KeyError",
     "evalue": "None",
     "output_type": "error",
     "traceback": [
      "\u001b[1;31m---------------------------------------------------------------------------\u001b[0m",
      "\u001b[1;31mKeyError\u001b[0m                                  Traceback (most recent call last)",
      "\u001b[1;32m<expression>\u001b[0m in \u001b[0;36m<module>\u001b[1;34m()\u001b[0m\n",
      "\u001b[1;32m<string>\u001b[0m in \u001b[0;36mCalcF1\u001b[1;34m(SGCL)\u001b[0m\n",
      "\u001b[1;31mKeyError\u001b[0m: None"
     ]
    },
    {
     "ename": "KeyError",
     "evalue": "None",
     "output_type": "error",
     "traceback": [
      "\u001b[1;31m---------------------------------------------------------------------------\u001b[0m",
      "\u001b[1;31mKeyError\u001b[0m                                  Traceback (most recent call last)",
      "\u001b[1;32m<expression>\u001b[0m in \u001b[0;36m<module>\u001b[1;34m()\u001b[0m\n",
      "\u001b[1;32m<string>\u001b[0m in \u001b[0;36mCalcF1\u001b[1;34m(SGCL)\u001b[0m\n",
      "\u001b[1;31mKeyError\u001b[0m: None"
     ]
    },
    {
     "ename": "KeyError",
     "evalue": "None",
     "output_type": "error",
     "traceback": [
      "\u001b[1;31m---------------------------------------------------------------------------\u001b[0m",
      "\u001b[1;31mKeyError\u001b[0m                                  Traceback (most recent call last)",
      "\u001b[1;32m<expression>\u001b[0m in \u001b[0;36m<module>\u001b[1;34m()\u001b[0m\n",
      "\u001b[1;32m<string>\u001b[0m in \u001b[0;36mCalcF1\u001b[1;34m(SGCL)\u001b[0m\n",
      "\u001b[1;31mKeyError\u001b[0m: None"
     ]
    },
    {
     "ename": "KeyError",
     "evalue": "None",
     "output_type": "error",
     "traceback": [
      "\u001b[1;31m---------------------------------------------------------------------------\u001b[0m",
      "\u001b[1;31mKeyError\u001b[0m                                  Traceback (most recent call last)",
      "\u001b[1;32m<expression>\u001b[0m in \u001b[0;36m<module>\u001b[1;34m()\u001b[0m\n",
      "\u001b[1;32m<string>\u001b[0m in \u001b[0;36mCalcF1\u001b[1;34m(SGCL)\u001b[0m\n",
      "\u001b[1;31mKeyError\u001b[0m: None"
     ]
    },
    {
     "ename": "KeyError",
     "evalue": "None",
     "output_type": "error",
     "traceback": [
      "\u001b[1;31m---------------------------------------------------------------------------\u001b[0m",
      "\u001b[1;31mKeyError\u001b[0m                                  Traceback (most recent call last)",
      "\u001b[1;32m<expression>\u001b[0m in \u001b[0;36m<module>\u001b[1;34m()\u001b[0m\n",
      "\u001b[1;32m<string>\u001b[0m in \u001b[0;36mCalcF1\u001b[1;34m(SGCL)\u001b[0m\n",
      "\u001b[1;31mKeyError\u001b[0m: None"
     ]
    },
    {
     "ename": "KeyError",
     "evalue": "None",
     "output_type": "error",
     "traceback": [
      "\u001b[1;31m---------------------------------------------------------------------------\u001b[0m",
      "\u001b[1;31mKeyError\u001b[0m                                  Traceback (most recent call last)",
      "\u001b[1;32m<expression>\u001b[0m in \u001b[0;36m<module>\u001b[1;34m()\u001b[0m\n",
      "\u001b[1;32m<string>\u001b[0m in \u001b[0;36mCalcF1\u001b[1;34m(SGCL)\u001b[0m\n",
      "\u001b[1;31mKeyError\u001b[0m: None"
     ]
    },
    {
     "ename": "KeyError",
     "evalue": "None",
     "output_type": "error",
     "traceback": [
      "\u001b[1;31m---------------------------------------------------------------------------\u001b[0m",
      "\u001b[1;31mKeyError\u001b[0m                                  Traceback (most recent call last)",
      "\u001b[1;32m<expression>\u001b[0m in \u001b[0;36m<module>\u001b[1;34m()\u001b[0m\n",
      "\u001b[1;32m<string>\u001b[0m in \u001b[0;36mCalcF1\u001b[1;34m(SGCL)\u001b[0m\n",
      "\u001b[1;31mKeyError\u001b[0m: None"
     ]
    },
    {
     "ename": "KeyError",
     "evalue": "None",
     "output_type": "error",
     "traceback": [
      "\u001b[1;31m---------------------------------------------------------------------------\u001b[0m",
      "\u001b[1;31mKeyError\u001b[0m                                  Traceback (most recent call last)",
      "\u001b[1;32m<expression>\u001b[0m in \u001b[0;36m<module>\u001b[1;34m()\u001b[0m\n",
      "\u001b[1;32m<string>\u001b[0m in \u001b[0;36mCalcF1\u001b[1;34m(SGCL)\u001b[0m\n",
      "\u001b[1;31mKeyError\u001b[0m: None"
     ]
    },
    {
     "ename": "KeyError",
     "evalue": "None",
     "output_type": "error",
     "traceback": [
      "\u001b[1;31m---------------------------------------------------------------------------\u001b[0m",
      "\u001b[1;31mKeyError\u001b[0m                                  Traceback (most recent call last)",
      "\u001b[1;32m<expression>\u001b[0m in \u001b[0;36m<module>\u001b[1;34m()\u001b[0m\n",
      "\u001b[1;32m<string>\u001b[0m in \u001b[0;36mCalcF1\u001b[1;34m(SGCL)\u001b[0m\n",
      "\u001b[1;31mKeyError\u001b[0m: None"
     ]
    },
    {
     "ename": "KeyError",
     "evalue": "None",
     "output_type": "error",
     "traceback": [
      "\u001b[1;31m---------------------------------------------------------------------------\u001b[0m",
      "\u001b[1;31mKeyError\u001b[0m                                  Traceback (most recent call last)",
      "\u001b[1;32m<expression>\u001b[0m in \u001b[0;36m<module>\u001b[1;34m()\u001b[0m\n",
      "\u001b[1;32m<string>\u001b[0m in \u001b[0;36mCalcF1\u001b[1;34m(SGCL)\u001b[0m\n",
      "\u001b[1;31mKeyError\u001b[0m: None"
     ]
    },
    {
     "ename": "KeyError",
     "evalue": "None",
     "output_type": "error",
     "traceback": [
      "\u001b[1;31m---------------------------------------------------------------------------\u001b[0m",
      "\u001b[1;31mKeyError\u001b[0m                                  Traceback (most recent call last)",
      "\u001b[1;32m<expression>\u001b[0m in \u001b[0;36m<module>\u001b[1;34m()\u001b[0m\n",
      "\u001b[1;32m<string>\u001b[0m in \u001b[0;36mCalcF1\u001b[1;34m(SGCL)\u001b[0m\n",
      "\u001b[1;31mKeyError\u001b[0m: None"
     ]
    },
    {
     "ename": "KeyError",
     "evalue": "None",
     "output_type": "error",
     "traceback": [
      "\u001b[1;31m---------------------------------------------------------------------------\u001b[0m",
      "\u001b[1;31mKeyError\u001b[0m                                  Traceback (most recent call last)",
      "\u001b[1;32m<expression>\u001b[0m in \u001b[0;36m<module>\u001b[1;34m()\u001b[0m\n",
      "\u001b[1;32m<string>\u001b[0m in \u001b[0;36mCalcF1\u001b[1;34m(SGCL)\u001b[0m\n",
      "\u001b[1;31mKeyError\u001b[0m: None"
     ]
    },
    {
     "ename": "KeyError",
     "evalue": "None",
     "output_type": "error",
     "traceback": [
      "\u001b[1;31m---------------------------------------------------------------------------\u001b[0m",
      "\u001b[1;31mKeyError\u001b[0m                                  Traceback (most recent call last)",
      "\u001b[1;32m<expression>\u001b[0m in \u001b[0;36m<module>\u001b[1;34m()\u001b[0m\n",
      "\u001b[1;32m<string>\u001b[0m in \u001b[0;36mCalcF1\u001b[1;34m(SGCL)\u001b[0m\n",
      "\u001b[1;31mKeyError\u001b[0m: None"
     ]
    },
    {
     "ename": "KeyError",
     "evalue": "None",
     "output_type": "error",
     "traceback": [
      "\u001b[1;31m---------------------------------------------------------------------------\u001b[0m",
      "\u001b[1;31mKeyError\u001b[0m                                  Traceback (most recent call last)",
      "\u001b[1;32m<expression>\u001b[0m in \u001b[0;36m<module>\u001b[1;34m()\u001b[0m\n",
      "\u001b[1;32m<string>\u001b[0m in \u001b[0;36mCalcF1\u001b[1;34m(SGCL)\u001b[0m\n",
      "\u001b[1;31mKeyError\u001b[0m: None"
     ]
    },
    {
     "ename": "KeyError",
     "evalue": "None",
     "output_type": "error",
     "traceback": [
      "\u001b[1;31m---------------------------------------------------------------------------\u001b[0m",
      "\u001b[1;31mKeyError\u001b[0m                                  Traceback (most recent call last)",
      "\u001b[1;32m<expression>\u001b[0m in \u001b[0;36m<module>\u001b[1;34m()\u001b[0m\n",
      "\u001b[1;32m<string>\u001b[0m in \u001b[0;36mCalcF1\u001b[1;34m(SGCL)\u001b[0m\n",
      "\u001b[1;31mKeyError\u001b[0m: None"
     ]
    },
    {
     "ename": "KeyError",
     "evalue": "None",
     "output_type": "error",
     "traceback": [
      "\u001b[1;31m---------------------------------------------------------------------------\u001b[0m",
      "\u001b[1;31mKeyError\u001b[0m                                  Traceback (most recent call last)",
      "\u001b[1;32m<expression>\u001b[0m in \u001b[0;36m<module>\u001b[1;34m()\u001b[0m\n",
      "\u001b[1;32m<string>\u001b[0m in \u001b[0;36mCalcF1\u001b[1;34m(SGCL)\u001b[0m\n",
      "\u001b[1;31mKeyError\u001b[0m: None"
     ]
    },
    {
     "ename": "KeyError",
     "evalue": "None",
     "output_type": "error",
     "traceback": [
      "\u001b[1;31m---------------------------------------------------------------------------\u001b[0m",
      "\u001b[1;31mKeyError\u001b[0m                                  Traceback (most recent call last)",
      "\u001b[1;32m<expression>\u001b[0m in \u001b[0;36m<module>\u001b[1;34m()\u001b[0m\n",
      "\u001b[1;32m<string>\u001b[0m in \u001b[0;36mCalcF1\u001b[1;34m(SGCL)\u001b[0m\n",
      "\u001b[1;31mKeyError\u001b[0m: None"
     ]
    },
    {
     "ename": "KeyError",
     "evalue": "None",
     "output_type": "error",
     "traceback": [
      "\u001b[1;31m---------------------------------------------------------------------------\u001b[0m",
      "\u001b[1;31mKeyError\u001b[0m                                  Traceback (most recent call last)",
      "\u001b[1;32m<expression>\u001b[0m in \u001b[0;36m<module>\u001b[1;34m()\u001b[0m\n",
      "\u001b[1;32m<string>\u001b[0m in \u001b[0;36mCalcF1\u001b[1;34m(SGCL)\u001b[0m\n",
      "\u001b[1;31mKeyError\u001b[0m: None"
     ]
    },
    {
     "ename": "KeyError",
     "evalue": "None",
     "output_type": "error",
     "traceback": [
      "\u001b[1;31m---------------------------------------------------------------------------\u001b[0m",
      "\u001b[1;31mKeyError\u001b[0m                                  Traceback (most recent call last)",
      "\u001b[1;32m<expression>\u001b[0m in \u001b[0;36m<module>\u001b[1;34m()\u001b[0m\n",
      "\u001b[1;32m<string>\u001b[0m in \u001b[0;36mCalcF1\u001b[1;34m(SGCL)\u001b[0m\n",
      "\u001b[1;31mKeyError\u001b[0m: None"
     ]
    },
    {
     "ename": "KeyError",
     "evalue": "None",
     "output_type": "error",
     "traceback": [
      "\u001b[1;31m---------------------------------------------------------------------------\u001b[0m",
      "\u001b[1;31mKeyError\u001b[0m                                  Traceback (most recent call last)",
      "\u001b[1;32m<expression>\u001b[0m in \u001b[0;36m<module>\u001b[1;34m()\u001b[0m\n",
      "\u001b[1;32m<string>\u001b[0m in \u001b[0;36mCalcF1\u001b[1;34m(SGCL)\u001b[0m\n",
      "\u001b[1;31mKeyError\u001b[0m: None"
     ]
    },
    {
     "ename": "KeyError",
     "evalue": "None",
     "output_type": "error",
     "traceback": [
      "\u001b[1;31m---------------------------------------------------------------------------\u001b[0m",
      "\u001b[1;31mKeyError\u001b[0m                                  Traceback (most recent call last)",
      "\u001b[1;32m<expression>\u001b[0m in \u001b[0;36m<module>\u001b[1;34m()\u001b[0m\n",
      "\u001b[1;32m<string>\u001b[0m in \u001b[0;36mCalcF1\u001b[1;34m(SGCL)\u001b[0m\n",
      "\u001b[1;31mKeyError\u001b[0m: None"
     ]
    },
    {
     "ename": "KeyError",
     "evalue": "None",
     "output_type": "error",
     "traceback": [
      "\u001b[1;31m---------------------------------------------------------------------------\u001b[0m",
      "\u001b[1;31mKeyError\u001b[0m                                  Traceback (most recent call last)",
      "\u001b[1;32m<expression>\u001b[0m in \u001b[0;36m<module>\u001b[1;34m()\u001b[0m\n",
      "\u001b[1;32m<string>\u001b[0m in \u001b[0;36mCalcF1\u001b[1;34m(SGCL)\u001b[0m\n",
      "\u001b[1;31mKeyError\u001b[0m: None"
     ]
    },
    {
     "ename": "KeyError",
     "evalue": "None",
     "output_type": "error",
     "traceback": [
      "\u001b[1;31m---------------------------------------------------------------------------\u001b[0m",
      "\u001b[1;31mKeyError\u001b[0m                                  Traceback (most recent call last)",
      "\u001b[1;32m<expression>\u001b[0m in \u001b[0;36m<module>\u001b[1;34m()\u001b[0m\n",
      "\u001b[1;32m<string>\u001b[0m in \u001b[0;36mCalcF1\u001b[1;34m(SGCL)\u001b[0m\n",
      "\u001b[1;31mKeyError\u001b[0m: None"
     ]
    },
    {
     "ename": "KeyError",
     "evalue": "None",
     "output_type": "error",
     "traceback": [
      "\u001b[1;31m---------------------------------------------------------------------------\u001b[0m",
      "\u001b[1;31mKeyError\u001b[0m                                  Traceback (most recent call last)",
      "\u001b[1;32m<expression>\u001b[0m in \u001b[0;36m<module>\u001b[1;34m()\u001b[0m\n",
      "\u001b[1;32m<string>\u001b[0m in \u001b[0;36mCalcF1\u001b[1;34m(SGCL)\u001b[0m\n",
      "\u001b[1;31mKeyError\u001b[0m: None"
     ]
    },
    {
     "ename": "KeyError",
     "evalue": "None",
     "output_type": "error",
     "traceback": [
      "\u001b[1;31m---------------------------------------------------------------------------\u001b[0m",
      "\u001b[1;31mKeyError\u001b[0m                                  Traceback (most recent call last)",
      "\u001b[1;32m<expression>\u001b[0m in \u001b[0;36m<module>\u001b[1;34m()\u001b[0m\n",
      "\u001b[1;32m<string>\u001b[0m in \u001b[0;36mCalcF1\u001b[1;34m(SGCL)\u001b[0m\n",
      "\u001b[1;31mKeyError\u001b[0m: None"
     ]
    },
    {
     "ename": "KeyError",
     "evalue": "None",
     "output_type": "error",
     "traceback": [
      "\u001b[1;31m---------------------------------------------------------------------------\u001b[0m",
      "\u001b[1;31mKeyError\u001b[0m                                  Traceback (most recent call last)",
      "\u001b[1;32m<expression>\u001b[0m in \u001b[0;36m<module>\u001b[1;34m()\u001b[0m\n",
      "\u001b[1;32m<string>\u001b[0m in \u001b[0;36mCalcF1\u001b[1;34m(SGCL)\u001b[0m\n",
      "\u001b[1;31mKeyError\u001b[0m: None"
     ]
    },
    {
     "ename": "KeyError",
     "evalue": "None",
     "output_type": "error",
     "traceback": [
      "\u001b[1;31m---------------------------------------------------------------------------\u001b[0m",
      "\u001b[1;31mKeyError\u001b[0m                                  Traceback (most recent call last)",
      "\u001b[1;32m<expression>\u001b[0m in \u001b[0;36m<module>\u001b[1;34m()\u001b[0m\n",
      "\u001b[1;32m<string>\u001b[0m in \u001b[0;36mCalcF1\u001b[1;34m(SGCL)\u001b[0m\n",
      "\u001b[1;31mKeyError\u001b[0m: None"
     ]
    },
    {
     "ename": "KeyError",
     "evalue": "None",
     "output_type": "error",
     "traceback": [
      "\u001b[1;31m---------------------------------------------------------------------------\u001b[0m",
      "\u001b[1;31mKeyError\u001b[0m                                  Traceback (most recent call last)",
      "\u001b[1;32m<expression>\u001b[0m in \u001b[0;36m<module>\u001b[1;34m()\u001b[0m\n",
      "\u001b[1;32m<string>\u001b[0m in \u001b[0;36mCalcF1\u001b[1;34m(SGCL)\u001b[0m\n",
      "\u001b[1;31mKeyError\u001b[0m: None"
     ]
    },
    {
     "ename": "KeyError",
     "evalue": "None",
     "output_type": "error",
     "traceback": [
      "\u001b[1;31m---------------------------------------------------------------------------\u001b[0m",
      "\u001b[1;31mKeyError\u001b[0m                                  Traceback (most recent call last)",
      "\u001b[1;32m<expression>\u001b[0m in \u001b[0;36m<module>\u001b[1;34m()\u001b[0m\n",
      "\u001b[1;32m<string>\u001b[0m in \u001b[0;36mCalcF1\u001b[1;34m(SGCL)\u001b[0m\n",
      "\u001b[1;31mKeyError\u001b[0m: None"
     ]
    },
    {
     "ename": "KeyError",
     "evalue": "None",
     "output_type": "error",
     "traceback": [
      "\u001b[1;31m---------------------------------------------------------------------------\u001b[0m",
      "\u001b[1;31mKeyError\u001b[0m                                  Traceback (most recent call last)",
      "\u001b[1;32m<expression>\u001b[0m in \u001b[0;36m<module>\u001b[1;34m()\u001b[0m\n",
      "\u001b[1;32m<string>\u001b[0m in \u001b[0;36mCalcF1\u001b[1;34m(SGCL)\u001b[0m\n",
      "\u001b[1;31mKeyError\u001b[0m: None"
     ]
    },
    {
     "ename": "KeyError",
     "evalue": "None",
     "output_type": "error",
     "traceback": [
      "\u001b[1;31m---------------------------------------------------------------------------\u001b[0m",
      "\u001b[1;31mKeyError\u001b[0m                                  Traceback (most recent call last)",
      "\u001b[1;32m<expression>\u001b[0m in \u001b[0;36m<module>\u001b[1;34m()\u001b[0m\n",
      "\u001b[1;32m<string>\u001b[0m in \u001b[0;36mCalcF1\u001b[1;34m(SGCL)\u001b[0m\n",
      "\u001b[1;31mKeyError\u001b[0m: None"
     ]
    },
    {
     "ename": "KeyError",
     "evalue": "None",
     "output_type": "error",
     "traceback": [
      "\u001b[1;31m---------------------------------------------------------------------------\u001b[0m",
      "\u001b[1;31mKeyError\u001b[0m                                  Traceback (most recent call last)",
      "\u001b[1;32m<expression>\u001b[0m in \u001b[0;36m<module>\u001b[1;34m()\u001b[0m\n",
      "\u001b[1;32m<string>\u001b[0m in \u001b[0;36mCalcF1\u001b[1;34m(SGCL)\u001b[0m\n",
      "\u001b[1;31mKeyError\u001b[0m: None"
     ]
    },
    {
     "ename": "KeyError",
     "evalue": "None",
     "output_type": "error",
     "traceback": [
      "\u001b[1;31m---------------------------------------------------------------------------\u001b[0m",
      "\u001b[1;31mKeyError\u001b[0m                                  Traceback (most recent call last)",
      "\u001b[1;32m<expression>\u001b[0m in \u001b[0;36m<module>\u001b[1;34m()\u001b[0m\n",
      "\u001b[1;32m<string>\u001b[0m in \u001b[0;36mCalcF1\u001b[1;34m(SGCL)\u001b[0m\n",
      "\u001b[1;31mKeyError\u001b[0m: None"
     ]
    },
    {
     "ename": "KeyError",
     "evalue": "None",
     "output_type": "error",
     "traceback": [
      "\u001b[1;31m---------------------------------------------------------------------------\u001b[0m",
      "\u001b[1;31mKeyError\u001b[0m                                  Traceback (most recent call last)",
      "\u001b[1;32m<expression>\u001b[0m in \u001b[0;36m<module>\u001b[1;34m()\u001b[0m\n",
      "\u001b[1;32m<string>\u001b[0m in \u001b[0;36mCalcF1\u001b[1;34m(SGCL)\u001b[0m\n",
      "\u001b[1;31mKeyError\u001b[0m: None"
     ]
    },
    {
     "ename": "KeyError",
     "evalue": "None",
     "output_type": "error",
     "traceback": [
      "\u001b[1;31m---------------------------------------------------------------------------\u001b[0m",
      "\u001b[1;31mKeyError\u001b[0m                                  Traceback (most recent call last)",
      "\u001b[1;32m<expression>\u001b[0m in \u001b[0;36m<module>\u001b[1;34m()\u001b[0m\n",
      "\u001b[1;32m<string>\u001b[0m in \u001b[0;36mCalcF1\u001b[1;34m(SGCL)\u001b[0m\n",
      "\u001b[1;31mKeyError\u001b[0m: None"
     ]
    },
    {
     "ename": "KeyError",
     "evalue": "None",
     "output_type": "error",
     "traceback": [
      "\u001b[1;31m---------------------------------------------------------------------------\u001b[0m",
      "\u001b[1;31mKeyError\u001b[0m                                  Traceback (most recent call last)",
      "\u001b[1;32m<expression>\u001b[0m in \u001b[0;36m<module>\u001b[1;34m()\u001b[0m\n",
      "\u001b[1;32m<string>\u001b[0m in \u001b[0;36mCalcF1\u001b[1;34m(SGCL)\u001b[0m\n",
      "\u001b[1;31mKeyError\u001b[0m: None"
     ]
    },
    {
     "ename": "KeyError",
     "evalue": "None",
     "output_type": "error",
     "traceback": [
      "\u001b[1;31m---------------------------------------------------------------------------\u001b[0m",
      "\u001b[1;31mKeyError\u001b[0m                                  Traceback (most recent call last)",
      "\u001b[1;32m<expression>\u001b[0m in \u001b[0;36m<module>\u001b[1;34m()\u001b[0m\n",
      "\u001b[1;32m<string>\u001b[0m in \u001b[0;36mCalcF1\u001b[1;34m(SGCL)\u001b[0m\n",
      "\u001b[1;31mKeyError\u001b[0m: None"
     ]
    },
    {
     "ename": "KeyError",
     "evalue": "None",
     "output_type": "error",
     "traceback": [
      "\u001b[1;31m---------------------------------------------------------------------------\u001b[0m",
      "\u001b[1;31mKeyError\u001b[0m                                  Traceback (most recent call last)",
      "\u001b[1;32m<expression>\u001b[0m in \u001b[0;36m<module>\u001b[1;34m()\u001b[0m\n",
      "\u001b[1;32m<string>\u001b[0m in \u001b[0;36mCalcF1\u001b[1;34m(SGCL)\u001b[0m\n",
      "\u001b[1;31mKeyError\u001b[0m: None"
     ]
    },
    {
     "ename": "KeyError",
     "evalue": "None",
     "output_type": "error",
     "traceback": [
      "\u001b[1;31m---------------------------------------------------------------------------\u001b[0m",
      "\u001b[1;31mKeyError\u001b[0m                                  Traceback (most recent call last)",
      "\u001b[1;32m<expression>\u001b[0m in \u001b[0;36m<module>\u001b[1;34m()\u001b[0m\n",
      "\u001b[1;32m<string>\u001b[0m in \u001b[0;36mCalcF1\u001b[1;34m(SGCL)\u001b[0m\n",
      "\u001b[1;31mKeyError\u001b[0m: None"
     ]
    },
    {
     "ename": "KeyError",
     "evalue": "None",
     "output_type": "error",
     "traceback": [
      "\u001b[1;31m---------------------------------------------------------------------------\u001b[0m",
      "\u001b[1;31mKeyError\u001b[0m                                  Traceback (most recent call last)",
      "\u001b[1;32m<expression>\u001b[0m in \u001b[0;36m<module>\u001b[1;34m()\u001b[0m\n",
      "\u001b[1;32m<string>\u001b[0m in \u001b[0;36mCalcF1\u001b[1;34m(SGCL)\u001b[0m\n",
      "\u001b[1;31mKeyError\u001b[0m: None"
     ]
    },
    {
     "ename": "KeyError",
     "evalue": "None",
     "output_type": "error",
     "traceback": [
      "\u001b[1;31m---------------------------------------------------------------------------\u001b[0m",
      "\u001b[1;31mKeyError\u001b[0m                                  Traceback (most recent call last)",
      "\u001b[1;32m<expression>\u001b[0m in \u001b[0;36m<module>\u001b[1;34m()\u001b[0m\n",
      "\u001b[1;32m<string>\u001b[0m in \u001b[0;36mCalcF1\u001b[1;34m(SGCL)\u001b[0m\n",
      "\u001b[1;31mKeyError\u001b[0m: None"
     ]
    },
    {
     "ename": "KeyError",
     "evalue": "None",
     "output_type": "error",
     "traceback": [
      "\u001b[1;31m---------------------------------------------------------------------------\u001b[0m",
      "\u001b[1;31mKeyError\u001b[0m                                  Traceback (most recent call last)",
      "\u001b[1;32m<expression>\u001b[0m in \u001b[0;36m<module>\u001b[1;34m()\u001b[0m\n",
      "\u001b[1;32m<string>\u001b[0m in \u001b[0;36mCalcF1\u001b[1;34m(SGCL)\u001b[0m\n",
      "\u001b[1;31mKeyError\u001b[0m: None"
     ]
    },
    {
     "ename": "KeyError",
     "evalue": "None",
     "output_type": "error",
     "traceback": [
      "\u001b[1;31m---------------------------------------------------------------------------\u001b[0m",
      "\u001b[1;31mKeyError\u001b[0m                                  Traceback (most recent call last)",
      "\u001b[1;32m<expression>\u001b[0m in \u001b[0;36m<module>\u001b[1;34m()\u001b[0m\n",
      "\u001b[1;32m<string>\u001b[0m in \u001b[0;36mCalcF1\u001b[1;34m(SGCL)\u001b[0m\n",
      "\u001b[1;31mKeyError\u001b[0m: None"
     ]
    },
    {
     "ename": "KeyError",
     "evalue": "None",
     "output_type": "error",
     "traceback": [
      "\u001b[1;31m---------------------------------------------------------------------------\u001b[0m",
      "\u001b[1;31mKeyError\u001b[0m                                  Traceback (most recent call last)",
      "\u001b[1;32m<expression>\u001b[0m in \u001b[0;36m<module>\u001b[1;34m()\u001b[0m\n",
      "\u001b[1;32m<string>\u001b[0m in \u001b[0;36mCalcF1\u001b[1;34m(SGCL)\u001b[0m\n",
      "\u001b[1;31mKeyError\u001b[0m: None"
     ]
    },
    {
     "ename": "KeyError",
     "evalue": "None",
     "output_type": "error",
     "traceback": [
      "\u001b[1;31m---------------------------------------------------------------------------\u001b[0m",
      "\u001b[1;31mKeyError\u001b[0m                                  Traceback (most recent call last)",
      "\u001b[1;32m<expression>\u001b[0m in \u001b[0;36m<module>\u001b[1;34m()\u001b[0m\n",
      "\u001b[1;32m<string>\u001b[0m in \u001b[0;36mCalcF1\u001b[1;34m(SGCL)\u001b[0m\n",
      "\u001b[1;31mKeyError\u001b[0m: None"
     ]
    },
    {
     "ename": "KeyError",
     "evalue": "None",
     "output_type": "error",
     "traceback": [
      "\u001b[1;31m---------------------------------------------------------------------------\u001b[0m",
      "\u001b[1;31mKeyError\u001b[0m                                  Traceback (most recent call last)",
      "\u001b[1;32m<expression>\u001b[0m in \u001b[0;36m<module>\u001b[1;34m()\u001b[0m\n",
      "\u001b[1;32m<string>\u001b[0m in \u001b[0;36mCalcF1\u001b[1;34m(SGCL)\u001b[0m\n",
      "\u001b[1;31mKeyError\u001b[0m: None"
     ]
    },
    {
     "ename": "KeyError",
     "evalue": "None",
     "output_type": "error",
     "traceback": [
      "\u001b[1;31m---------------------------------------------------------------------------\u001b[0m",
      "\u001b[1;31mKeyError\u001b[0m                                  Traceback (most recent call last)",
      "\u001b[1;32m<expression>\u001b[0m in \u001b[0;36m<module>\u001b[1;34m()\u001b[0m\n",
      "\u001b[1;32m<string>\u001b[0m in \u001b[0;36mCalcF1\u001b[1;34m(SGCL)\u001b[0m\n",
      "\u001b[1;31mKeyError\u001b[0m: None"
     ]
    },
    {
     "ename": "KeyError",
     "evalue": "None",
     "output_type": "error",
     "traceback": [
      "\u001b[1;31m---------------------------------------------------------------------------\u001b[0m",
      "\u001b[1;31mKeyError\u001b[0m                                  Traceback (most recent call last)",
      "\u001b[1;32m<expression>\u001b[0m in \u001b[0;36m<module>\u001b[1;34m()\u001b[0m\n",
      "\u001b[1;32m<string>\u001b[0m in \u001b[0;36mCalcF1\u001b[1;34m(SGCL)\u001b[0m\n",
      "\u001b[1;31mKeyError\u001b[0m: None"
     ]
    },
    {
     "ename": "KeyError",
     "evalue": "None",
     "output_type": "error",
     "traceback": [
      "\u001b[1;31m---------------------------------------------------------------------------\u001b[0m",
      "\u001b[1;31mKeyError\u001b[0m                                  Traceback (most recent call last)",
      "\u001b[1;32m<expression>\u001b[0m in \u001b[0;36m<module>\u001b[1;34m()\u001b[0m\n",
      "\u001b[1;32m<string>\u001b[0m in \u001b[0;36mCalcF1\u001b[1;34m(SGCL)\u001b[0m\n",
      "\u001b[1;31mKeyError\u001b[0m: None"
     ]
    },
    {
     "ename": "KeyError",
     "evalue": "None",
     "output_type": "error",
     "traceback": [
      "\u001b[1;31m---------------------------------------------------------------------------\u001b[0m",
      "\u001b[1;31mKeyError\u001b[0m                                  Traceback (most recent call last)",
      "\u001b[1;32m<expression>\u001b[0m in \u001b[0;36m<module>\u001b[1;34m()\u001b[0m\n",
      "\u001b[1;32m<string>\u001b[0m in \u001b[0;36mCalcF1\u001b[1;34m(SGCL)\u001b[0m\n",
      "\u001b[1;31mKeyError\u001b[0m: None"
     ]
    },
    {
     "ename": "KeyError",
     "evalue": "None",
     "output_type": "error",
     "traceback": [
      "\u001b[1;31m---------------------------------------------------------------------------\u001b[0m",
      "\u001b[1;31mKeyError\u001b[0m                                  Traceback (most recent call last)",
      "\u001b[1;32m<expression>\u001b[0m in \u001b[0;36m<module>\u001b[1;34m()\u001b[0m\n",
      "\u001b[1;32m<string>\u001b[0m in \u001b[0;36mCalcF1\u001b[1;34m(SGCL)\u001b[0m\n",
      "\u001b[1;31mKeyError\u001b[0m: None"
     ]
    },
    {
     "ename": "KeyError",
     "evalue": "None",
     "output_type": "error",
     "traceback": [
      "\u001b[1;31m---------------------------------------------------------------------------\u001b[0m",
      "\u001b[1;31mKeyError\u001b[0m                                  Traceback (most recent call last)",
      "\u001b[1;32m<expression>\u001b[0m in \u001b[0;36m<module>\u001b[1;34m()\u001b[0m\n",
      "\u001b[1;32m<string>\u001b[0m in \u001b[0;36mCalcF1\u001b[1;34m(SGCL)\u001b[0m\n",
      "\u001b[1;31mKeyError\u001b[0m: None"
     ]
    },
    {
     "ename": "KeyError",
     "evalue": "None",
     "output_type": "error",
     "traceback": [
      "\u001b[1;31m---------------------------------------------------------------------------\u001b[0m",
      "\u001b[1;31mKeyError\u001b[0m                                  Traceback (most recent call last)",
      "\u001b[1;32m<expression>\u001b[0m in \u001b[0;36m<module>\u001b[1;34m()\u001b[0m\n",
      "\u001b[1;32m<string>\u001b[0m in \u001b[0;36mCalcF1\u001b[1;34m(SGCL)\u001b[0m\n",
      "\u001b[1;31mKeyError\u001b[0m: None"
     ]
    },
    {
     "ename": "KeyError",
     "evalue": "None",
     "output_type": "error",
     "traceback": [
      "\u001b[1;31m---------------------------------------------------------------------------\u001b[0m",
      "\u001b[1;31mKeyError\u001b[0m                                  Traceback (most recent call last)",
      "\u001b[1;32m<expression>\u001b[0m in \u001b[0;36m<module>\u001b[1;34m()\u001b[0m\n",
      "\u001b[1;32m<string>\u001b[0m in \u001b[0;36mCalcF1\u001b[1;34m(SGCL)\u001b[0m\n",
      "\u001b[1;31mKeyError\u001b[0m: None"
     ]
    },
    {
     "ename": "KeyError",
     "evalue": "None",
     "output_type": "error",
     "traceback": [
      "\u001b[1;31m---------------------------------------------------------------------------\u001b[0m",
      "\u001b[1;31mKeyError\u001b[0m                                  Traceback (most recent call last)",
      "\u001b[1;32m<expression>\u001b[0m in \u001b[0;36m<module>\u001b[1;34m()\u001b[0m\n",
      "\u001b[1;32m<string>\u001b[0m in \u001b[0;36mCalcF1\u001b[1;34m(SGCL)\u001b[0m\n",
      "\u001b[1;31mKeyError\u001b[0m: None"
     ]
    },
    {
     "ename": "KeyError",
     "evalue": "None",
     "output_type": "error",
     "traceback": [
      "\u001b[1;31m---------------------------------------------------------------------------\u001b[0m",
      "\u001b[1;31mKeyError\u001b[0m                                  Traceback (most recent call last)",
      "\u001b[1;32m<expression>\u001b[0m in \u001b[0;36m<module>\u001b[1;34m()\u001b[0m\n",
      "\u001b[1;32m<string>\u001b[0m in \u001b[0;36mCalcF1\u001b[1;34m(SGCL)\u001b[0m\n",
      "\u001b[1;31mKeyError\u001b[0m: None"
     ]
    },
    {
     "ename": "KeyError",
     "evalue": "None",
     "output_type": "error",
     "traceback": [
      "\u001b[1;31m---------------------------------------------------------------------------\u001b[0m",
      "\u001b[1;31mKeyError\u001b[0m                                  Traceback (most recent call last)",
      "\u001b[1;32m<expression>\u001b[0m in \u001b[0;36m<module>\u001b[1;34m()\u001b[0m\n",
      "\u001b[1;32m<string>\u001b[0m in \u001b[0;36mCalcF1\u001b[1;34m(SGCL)\u001b[0m\n",
      "\u001b[1;31mKeyError\u001b[0m: None"
     ]
    },
    {
     "ename": "KeyError",
     "evalue": "None",
     "output_type": "error",
     "traceback": [
      "\u001b[1;31m---------------------------------------------------------------------------\u001b[0m",
      "\u001b[1;31mKeyError\u001b[0m                                  Traceback (most recent call last)",
      "\u001b[1;32m<expression>\u001b[0m in \u001b[0;36m<module>\u001b[1;34m()\u001b[0m\n",
      "\u001b[1;32m<string>\u001b[0m in \u001b[0;36mCalcF1\u001b[1;34m(SGCL)\u001b[0m\n",
      "\u001b[1;31mKeyError\u001b[0m: None"
     ]
    },
    {
     "ename": "KeyError",
     "evalue": "None",
     "output_type": "error",
     "traceback": [
      "\u001b[1;31m---------------------------------------------------------------------------\u001b[0m",
      "\u001b[1;31mKeyError\u001b[0m                                  Traceback (most recent call last)",
      "\u001b[1;32m<expression>\u001b[0m in \u001b[0;36m<module>\u001b[1;34m()\u001b[0m\n",
      "\u001b[1;32m<string>\u001b[0m in \u001b[0;36mCalcF1\u001b[1;34m(SGCL)\u001b[0m\n",
      "\u001b[1;31mKeyError\u001b[0m: None"
     ]
    },
    {
     "ename": "KeyError",
     "evalue": "None",
     "output_type": "error",
     "traceback": [
      "\u001b[1;31m---------------------------------------------------------------------------\u001b[0m",
      "\u001b[1;31mKeyError\u001b[0m                                  Traceback (most recent call last)",
      "\u001b[1;32m<expression>\u001b[0m in \u001b[0;36m<module>\u001b[1;34m()\u001b[0m\n",
      "\u001b[1;32m<string>\u001b[0m in \u001b[0;36mCalcF1\u001b[1;34m(SGCL)\u001b[0m\n",
      "\u001b[1;31mKeyError\u001b[0m: None"
     ]
    },
    {
     "ename": "KeyError",
     "evalue": "None",
     "output_type": "error",
     "traceback": [
      "\u001b[1;31m---------------------------------------------------------------------------\u001b[0m",
      "\u001b[1;31mKeyError\u001b[0m                                  Traceback (most recent call last)",
      "\u001b[1;32m<expression>\u001b[0m in \u001b[0;36m<module>\u001b[1;34m()\u001b[0m\n",
      "\u001b[1;32m<string>\u001b[0m in \u001b[0;36mCalcF1\u001b[1;34m(SGCL)\u001b[0m\n",
      "\u001b[1;31mKeyError\u001b[0m: None"
     ]
    },
    {
     "ename": "KeyError",
     "evalue": "None",
     "output_type": "error",
     "traceback": [
      "\u001b[1;31m---------------------------------------------------------------------------\u001b[0m",
      "\u001b[1;31mKeyError\u001b[0m                                  Traceback (most recent call last)",
      "\u001b[1;32m<expression>\u001b[0m in \u001b[0;36m<module>\u001b[1;34m()\u001b[0m\n",
      "\u001b[1;32m<string>\u001b[0m in \u001b[0;36mCalcF1\u001b[1;34m(SGCL)\u001b[0m\n",
      "\u001b[1;31mKeyError\u001b[0m: None"
     ]
    },
    {
     "ename": "KeyError",
     "evalue": "None",
     "output_type": "error",
     "traceback": [
      "\u001b[1;31m---------------------------------------------------------------------------\u001b[0m",
      "\u001b[1;31mKeyError\u001b[0m                                  Traceback (most recent call last)",
      "\u001b[1;32m<expression>\u001b[0m in \u001b[0;36m<module>\u001b[1;34m()\u001b[0m\n",
      "\u001b[1;32m<string>\u001b[0m in \u001b[0;36mCalcF1\u001b[1;34m(SGCL)\u001b[0m\n",
      "\u001b[1;31mKeyError\u001b[0m: None"
     ]
    },
    {
     "ename": "KeyError",
     "evalue": "None",
     "output_type": "error",
     "traceback": [
      "\u001b[1;31m---------------------------------------------------------------------------\u001b[0m",
      "\u001b[1;31mKeyError\u001b[0m                                  Traceback (most recent call last)",
      "\u001b[1;32m<expression>\u001b[0m in \u001b[0;36m<module>\u001b[1;34m()\u001b[0m\n",
      "\u001b[1;32m<string>\u001b[0m in \u001b[0;36mCalcF1\u001b[1;34m(SGCL)\u001b[0m\n",
      "\u001b[1;31mKeyError\u001b[0m: None"
     ]
    },
    {
     "ename": "KeyError",
     "evalue": "None",
     "output_type": "error",
     "traceback": [
      "\u001b[1;31m---------------------------------------------------------------------------\u001b[0m",
      "\u001b[1;31mKeyError\u001b[0m                                  Traceback (most recent call last)",
      "\u001b[1;32m<expression>\u001b[0m in \u001b[0;36m<module>\u001b[1;34m()\u001b[0m\n",
      "\u001b[1;32m<string>\u001b[0m in \u001b[0;36mCalcF1\u001b[1;34m(SGCL)\u001b[0m\n",
      "\u001b[1;31mKeyError\u001b[0m: None"
     ]
    },
    {
     "ename": "KeyError",
     "evalue": "None",
     "output_type": "error",
     "traceback": [
      "\u001b[1;31m---------------------------------------------------------------------------\u001b[0m",
      "\u001b[1;31mKeyError\u001b[0m                                  Traceback (most recent call last)",
      "\u001b[1;32m<expression>\u001b[0m in \u001b[0;36m<module>\u001b[1;34m()\u001b[0m\n",
      "\u001b[1;32m<string>\u001b[0m in \u001b[0;36mCalcF1\u001b[1;34m(SGCL)\u001b[0m\n",
      "\u001b[1;31mKeyError\u001b[0m: None"
     ]
    },
    {
     "ename": "KeyError",
     "evalue": "None",
     "output_type": "error",
     "traceback": [
      "\u001b[1;31m---------------------------------------------------------------------------\u001b[0m",
      "\u001b[1;31mKeyError\u001b[0m                                  Traceback (most recent call last)",
      "\u001b[1;32m<expression>\u001b[0m in \u001b[0;36m<module>\u001b[1;34m()\u001b[0m\n",
      "\u001b[1;32m<string>\u001b[0m in \u001b[0;36mCalcF1\u001b[1;34m(SGCL)\u001b[0m\n",
      "\u001b[1;31mKeyError\u001b[0m: None"
     ]
    },
    {
     "ename": "KeyError",
     "evalue": "None",
     "output_type": "error",
     "traceback": [
      "\u001b[1;31m---------------------------------------------------------------------------\u001b[0m",
      "\u001b[1;31mKeyError\u001b[0m                                  Traceback (most recent call last)",
      "\u001b[1;32m<expression>\u001b[0m in \u001b[0;36m<module>\u001b[1;34m()\u001b[0m\n",
      "\u001b[1;32m<string>\u001b[0m in \u001b[0;36mCalcF1\u001b[1;34m(SGCL)\u001b[0m\n",
      "\u001b[1;31mKeyError\u001b[0m: None"
     ]
    },
    {
     "ename": "KeyError",
     "evalue": "None",
     "output_type": "error",
     "traceback": [
      "\u001b[1;31m---------------------------------------------------------------------------\u001b[0m",
      "\u001b[1;31mKeyError\u001b[0m                                  Traceback (most recent call last)",
      "\u001b[1;32m<expression>\u001b[0m in \u001b[0;36m<module>\u001b[1;34m()\u001b[0m\n",
      "\u001b[1;32m<string>\u001b[0m in \u001b[0;36mCalcF1\u001b[1;34m(SGCL)\u001b[0m\n",
      "\u001b[1;31mKeyError\u001b[0m: None"
     ]
    },
    {
     "ename": "KeyError",
     "evalue": "None",
     "output_type": "error",
     "traceback": [
      "\u001b[1;31m---------------------------------------------------------------------------\u001b[0m",
      "\u001b[1;31mKeyError\u001b[0m                                  Traceback (most recent call last)",
      "\u001b[1;32m<expression>\u001b[0m in \u001b[0;36m<module>\u001b[1;34m()\u001b[0m\n",
      "\u001b[1;32m<string>\u001b[0m in \u001b[0;36mCalcF1\u001b[1;34m(SGCL)\u001b[0m\n",
      "\u001b[1;31mKeyError\u001b[0m: None"
     ]
    },
    {
     "ename": "KeyError",
     "evalue": "None",
     "output_type": "error",
     "traceback": [
      "\u001b[1;31m---------------------------------------------------------------------------\u001b[0m",
      "\u001b[1;31mKeyError\u001b[0m                                  Traceback (most recent call last)",
      "\u001b[1;32m<expression>\u001b[0m in \u001b[0;36m<module>\u001b[1;34m()\u001b[0m\n",
      "\u001b[1;32m<string>\u001b[0m in \u001b[0;36mCalcF1\u001b[1;34m(SGCL)\u001b[0m\n",
      "\u001b[1;31mKeyError\u001b[0m: None"
     ]
    },
    {
     "ename": "KeyError",
     "evalue": "None",
     "output_type": "error",
     "traceback": [
      "\u001b[1;31m---------------------------------------------------------------------------\u001b[0m",
      "\u001b[1;31mKeyError\u001b[0m                                  Traceback (most recent call last)",
      "\u001b[1;32m<expression>\u001b[0m in \u001b[0;36m<module>\u001b[1;34m()\u001b[0m\n",
      "\u001b[1;32m<string>\u001b[0m in \u001b[0;36mCalcF1\u001b[1;34m(SGCL)\u001b[0m\n",
      "\u001b[1;31mKeyError\u001b[0m: None"
     ]
    },
    {
     "ename": "KeyError",
     "evalue": "None",
     "output_type": "error",
     "traceback": [
      "\u001b[1;31m---------------------------------------------------------------------------\u001b[0m",
      "\u001b[1;31mKeyError\u001b[0m                                  Traceback (most recent call last)",
      "\u001b[1;32m<expression>\u001b[0m in \u001b[0;36m<module>\u001b[1;34m()\u001b[0m\n",
      "\u001b[1;32m<string>\u001b[0m in \u001b[0;36mCalcF1\u001b[1;34m(SGCL)\u001b[0m\n",
      "\u001b[1;31mKeyError\u001b[0m: None"
     ]
    },
    {
     "ename": "KeyError",
     "evalue": "None",
     "output_type": "error",
     "traceback": [
      "\u001b[1;31m---------------------------------------------------------------------------\u001b[0m",
      "\u001b[1;31mKeyError\u001b[0m                                  Traceback (most recent call last)",
      "\u001b[1;32m<expression>\u001b[0m in \u001b[0;36m<module>\u001b[1;34m()\u001b[0m\n",
      "\u001b[1;32m<string>\u001b[0m in \u001b[0;36mCalcF1\u001b[1;34m(SGCL)\u001b[0m\n",
      "\u001b[1;31mKeyError\u001b[0m: None"
     ]
    },
    {
     "ename": "KeyError",
     "evalue": "None",
     "output_type": "error",
     "traceback": [
      "\u001b[1;31m---------------------------------------------------------------------------\u001b[0m",
      "\u001b[1;31mKeyError\u001b[0m                                  Traceback (most recent call last)",
      "\u001b[1;32m<expression>\u001b[0m in \u001b[0;36m<module>\u001b[1;34m()\u001b[0m\n",
      "\u001b[1;32m<string>\u001b[0m in \u001b[0;36mCalcF1\u001b[1;34m(SGCL)\u001b[0m\n",
      "\u001b[1;31mKeyError\u001b[0m: None"
     ]
    },
    {
     "ename": "KeyError",
     "evalue": "None",
     "output_type": "error",
     "traceback": [
      "\u001b[1;31m---------------------------------------------------------------------------\u001b[0m",
      "\u001b[1;31mKeyError\u001b[0m                                  Traceback (most recent call last)",
      "\u001b[1;32m<expression>\u001b[0m in \u001b[0;36m<module>\u001b[1;34m()\u001b[0m\n",
      "\u001b[1;32m<string>\u001b[0m in \u001b[0;36mCalcF1\u001b[1;34m(SGCL)\u001b[0m\n",
      "\u001b[1;31mKeyError\u001b[0m: None"
     ]
    },
    {
     "ename": "KeyError",
     "evalue": "None",
     "output_type": "error",
     "traceback": [
      "\u001b[1;31m---------------------------------------------------------------------------\u001b[0m",
      "\u001b[1;31mKeyError\u001b[0m                                  Traceback (most recent call last)",
      "\u001b[1;32m<expression>\u001b[0m in \u001b[0;36m<module>\u001b[1;34m()\u001b[0m\n",
      "\u001b[1;32m<string>\u001b[0m in \u001b[0;36mCalcF1\u001b[1;34m(SGCL)\u001b[0m\n",
      "\u001b[1;31mKeyError\u001b[0m: None"
     ]
    },
    {
     "ename": "KeyError",
     "evalue": "None",
     "output_type": "error",
     "traceback": [
      "\u001b[1;31m---------------------------------------------------------------------------\u001b[0m",
      "\u001b[1;31mKeyError\u001b[0m                                  Traceback (most recent call last)",
      "\u001b[1;32m<expression>\u001b[0m in \u001b[0;36m<module>\u001b[1;34m()\u001b[0m\n",
      "\u001b[1;32m<string>\u001b[0m in \u001b[0;36mCalcF1\u001b[1;34m(SGCL)\u001b[0m\n",
      "\u001b[1;31mKeyError\u001b[0m: None"
     ]
    },
    {
     "ename": "KeyError",
     "evalue": "None",
     "output_type": "error",
     "traceback": [
      "\u001b[1;31m---------------------------------------------------------------------------\u001b[0m",
      "\u001b[1;31mKeyError\u001b[0m                                  Traceback (most recent call last)",
      "\u001b[1;32m<expression>\u001b[0m in \u001b[0;36m<module>\u001b[1;34m()\u001b[0m\n",
      "\u001b[1;32m<string>\u001b[0m in \u001b[0;36mCalcF1\u001b[1;34m(SGCL)\u001b[0m\n",
      "\u001b[1;31mKeyError\u001b[0m: None"
     ]
    },
    {
     "ename": "KeyError",
     "evalue": "None",
     "output_type": "error",
     "traceback": [
      "\u001b[1;31m---------------------------------------------------------------------------\u001b[0m",
      "\u001b[1;31mKeyError\u001b[0m                                  Traceback (most recent call last)",
      "\u001b[1;32m<expression>\u001b[0m in \u001b[0;36m<module>\u001b[1;34m()\u001b[0m\n",
      "\u001b[1;32m<string>\u001b[0m in \u001b[0;36mCalcF1\u001b[1;34m(SGCL)\u001b[0m\n",
      "\u001b[1;31mKeyError\u001b[0m: None"
     ]
    },
    {
     "ename": "KeyError",
     "evalue": "None",
     "output_type": "error",
     "traceback": [
      "\u001b[1;31m---------------------------------------------------------------------------\u001b[0m",
      "\u001b[1;31mKeyError\u001b[0m                                  Traceback (most recent call last)",
      "\u001b[1;32m<expression>\u001b[0m in \u001b[0;36m<module>\u001b[1;34m()\u001b[0m\n",
      "\u001b[1;32m<string>\u001b[0m in \u001b[0;36mCalcF1\u001b[1;34m(SGCL)\u001b[0m\n",
      "\u001b[1;31mKeyError\u001b[0m: None"
     ]
    },
    {
     "ename": "KeyError",
     "evalue": "None",
     "output_type": "error",
     "traceback": [
      "\u001b[1;31m---------------------------------------------------------------------------\u001b[0m",
      "\u001b[1;31mKeyError\u001b[0m                                  Traceback (most recent call last)",
      "\u001b[1;32m<expression>\u001b[0m in \u001b[0;36m<module>\u001b[1;34m()\u001b[0m\n",
      "\u001b[1;32m<string>\u001b[0m in \u001b[0;36mCalcF1\u001b[1;34m(SGCL)\u001b[0m\n",
      "\u001b[1;31mKeyError\u001b[0m: None"
     ]
    },
    {
     "ename": "KeyError",
     "evalue": "None",
     "output_type": "error",
     "traceback": [
      "\u001b[1;31m---------------------------------------------------------------------------\u001b[0m",
      "\u001b[1;31mKeyError\u001b[0m                                  Traceback (most recent call last)",
      "\u001b[1;32m<expression>\u001b[0m in \u001b[0;36m<module>\u001b[1;34m()\u001b[0m\n",
      "\u001b[1;32m<string>\u001b[0m in \u001b[0;36mCalcF1\u001b[1;34m(SGCL)\u001b[0m\n",
      "\u001b[1;31mKeyError\u001b[0m: None"
     ]
    },
    {
     "ename": "KeyError",
     "evalue": "None",
     "output_type": "error",
     "traceback": [
      "\u001b[1;31m---------------------------------------------------------------------------\u001b[0m",
      "\u001b[1;31mKeyError\u001b[0m                                  Traceback (most recent call last)",
      "\u001b[1;32m<expression>\u001b[0m in \u001b[0;36m<module>\u001b[1;34m()\u001b[0m\n",
      "\u001b[1;32m<string>\u001b[0m in \u001b[0;36mCalcF1\u001b[1;34m(SGCL)\u001b[0m\n",
      "\u001b[1;31mKeyError\u001b[0m: None"
     ]
    },
    {
     "ename": "KeyError",
     "evalue": "None",
     "output_type": "error",
     "traceback": [
      "\u001b[1;31m---------------------------------------------------------------------------\u001b[0m",
      "\u001b[1;31mKeyError\u001b[0m                                  Traceback (most recent call last)",
      "\u001b[1;32m<expression>\u001b[0m in \u001b[0;36m<module>\u001b[1;34m()\u001b[0m\n",
      "\u001b[1;32m<string>\u001b[0m in \u001b[0;36mCalcF1\u001b[1;34m(SGCL)\u001b[0m\n",
      "\u001b[1;31mKeyError\u001b[0m: None"
     ]
    },
    {
     "ename": "KeyError",
     "evalue": "None",
     "output_type": "error",
     "traceback": [
      "\u001b[1;31m---------------------------------------------------------------------------\u001b[0m",
      "\u001b[1;31mKeyError\u001b[0m                                  Traceback (most recent call last)",
      "\u001b[1;32m<expression>\u001b[0m in \u001b[0;36m<module>\u001b[1;34m()\u001b[0m\n",
      "\u001b[1;32m<string>\u001b[0m in \u001b[0;36mCalcF1\u001b[1;34m(SGCL)\u001b[0m\n",
      "\u001b[1;31mKeyError\u001b[0m: None"
     ]
    },
    {
     "ename": "KeyError",
     "evalue": "None",
     "output_type": "error",
     "traceback": [
      "\u001b[1;31m---------------------------------------------------------------------------\u001b[0m",
      "\u001b[1;31mKeyError\u001b[0m                                  Traceback (most recent call last)",
      "\u001b[1;32m<expression>\u001b[0m in \u001b[0;36m<module>\u001b[1;34m()\u001b[0m\n",
      "\u001b[1;32m<string>\u001b[0m in \u001b[0;36mCalcF1\u001b[1;34m(SGCL)\u001b[0m\n",
      "\u001b[1;31mKeyError\u001b[0m: None"
     ]
    },
    {
     "ename": "KeyError",
     "evalue": "None",
     "output_type": "error",
     "traceback": [
      "\u001b[1;31m---------------------------------------------------------------------------\u001b[0m",
      "\u001b[1;31mKeyError\u001b[0m                                  Traceback (most recent call last)",
      "\u001b[1;32m<expression>\u001b[0m in \u001b[0;36m<module>\u001b[1;34m()\u001b[0m\n",
      "\u001b[1;32m<string>\u001b[0m in \u001b[0;36mCalcF1\u001b[1;34m(SGCL)\u001b[0m\n",
      "\u001b[1;31mKeyError\u001b[0m: None"
     ]
    },
    {
     "ename": "KeyError",
     "evalue": "None",
     "output_type": "error",
     "traceback": [
      "\u001b[1;31m---------------------------------------------------------------------------\u001b[0m",
      "\u001b[1;31mKeyError\u001b[0m                                  Traceback (most recent call last)",
      "\u001b[1;32m<expression>\u001b[0m in \u001b[0;36m<module>\u001b[1;34m()\u001b[0m\n",
      "\u001b[1;32m<string>\u001b[0m in \u001b[0;36mCalcF1\u001b[1;34m(SGCL)\u001b[0m\n",
      "\u001b[1;31mKeyError\u001b[0m: None"
     ]
    },
    {
     "ename": "KeyError",
     "evalue": "None",
     "output_type": "error",
     "traceback": [
      "\u001b[1;31m---------------------------------------------------------------------------\u001b[0m",
      "\u001b[1;31mKeyError\u001b[0m                                  Traceback (most recent call last)",
      "\u001b[1;32m<expression>\u001b[0m in \u001b[0;36m<module>\u001b[1;34m()\u001b[0m\n",
      "\u001b[1;32m<string>\u001b[0m in \u001b[0;36mCalcF1\u001b[1;34m(SGCL)\u001b[0m\n",
      "\u001b[1;31mKeyError\u001b[0m: None"
     ]
    },
    {
     "ename": "KeyError",
     "evalue": "None",
     "output_type": "error",
     "traceback": [
      "\u001b[1;31m---------------------------------------------------------------------------\u001b[0m",
      "\u001b[1;31mKeyError\u001b[0m                                  Traceback (most recent call last)",
      "\u001b[1;32m<expression>\u001b[0m in \u001b[0;36m<module>\u001b[1;34m()\u001b[0m\n",
      "\u001b[1;32m<string>\u001b[0m in \u001b[0;36mCalcF1\u001b[1;34m(SGCL)\u001b[0m\n",
      "\u001b[1;31mKeyError\u001b[0m: None"
     ]
    },
    {
     "ename": "KeyError",
     "evalue": "None",
     "output_type": "error",
     "traceback": [
      "\u001b[1;31m---------------------------------------------------------------------------\u001b[0m",
      "\u001b[1;31mKeyError\u001b[0m                                  Traceback (most recent call last)",
      "\u001b[1;32m<expression>\u001b[0m in \u001b[0;36m<module>\u001b[1;34m()\u001b[0m\n",
      "\u001b[1;32m<string>\u001b[0m in \u001b[0;36mCalcF1\u001b[1;34m(SGCL)\u001b[0m\n",
      "\u001b[1;31mKeyError\u001b[0m: None"
     ]
    },
    {
     "ename": "KeyError",
     "evalue": "None",
     "output_type": "error",
     "traceback": [
      "\u001b[1;31m---------------------------------------------------------------------------\u001b[0m",
      "\u001b[1;31mKeyError\u001b[0m                                  Traceback (most recent call last)",
      "\u001b[1;32m<expression>\u001b[0m in \u001b[0;36m<module>\u001b[1;34m()\u001b[0m\n",
      "\u001b[1;32m<string>\u001b[0m in \u001b[0;36mCalcF1\u001b[1;34m(SGCL)\u001b[0m\n",
      "\u001b[1;31mKeyError\u001b[0m: None"
     ]
    },
    {
     "ename": "KeyError",
     "evalue": "None",
     "output_type": "error",
     "traceback": [
      "\u001b[1;31m---------------------------------------------------------------------------\u001b[0m",
      "\u001b[1;31mKeyError\u001b[0m                                  Traceback (most recent call last)",
      "\u001b[1;32m<expression>\u001b[0m in \u001b[0;36m<module>\u001b[1;34m()\u001b[0m\n",
      "\u001b[1;32m<string>\u001b[0m in \u001b[0;36mCalcF1\u001b[1;34m(SGCL)\u001b[0m\n",
      "\u001b[1;31mKeyError\u001b[0m: None"
     ]
    },
    {
     "ename": "KeyError",
     "evalue": "None",
     "output_type": "error",
     "traceback": [
      "\u001b[1;31m---------------------------------------------------------------------------\u001b[0m",
      "\u001b[1;31mKeyError\u001b[0m                                  Traceback (most recent call last)",
      "\u001b[1;32m<expression>\u001b[0m in \u001b[0;36m<module>\u001b[1;34m()\u001b[0m\n",
      "\u001b[1;32m<string>\u001b[0m in \u001b[0;36mCalcF1\u001b[1;34m(SGCL)\u001b[0m\n",
      "\u001b[1;31mKeyError\u001b[0m: None"
     ]
    },
    {
     "ename": "KeyError",
     "evalue": "None",
     "output_type": "error",
     "traceback": [
      "\u001b[1;31m---------------------------------------------------------------------------\u001b[0m",
      "\u001b[1;31mKeyError\u001b[0m                                  Traceback (most recent call last)",
      "\u001b[1;32m<expression>\u001b[0m in \u001b[0;36m<module>\u001b[1;34m()\u001b[0m\n",
      "\u001b[1;32m<string>\u001b[0m in \u001b[0;36mCalcF1\u001b[1;34m(SGCL)\u001b[0m\n",
      "\u001b[1;31mKeyError\u001b[0m: None"
     ]
    },
    {
     "ename": "KeyError",
     "evalue": "None",
     "output_type": "error",
     "traceback": [
      "\u001b[1;31m---------------------------------------------------------------------------\u001b[0m",
      "\u001b[1;31mKeyError\u001b[0m                                  Traceback (most recent call last)",
      "\u001b[1;32m<expression>\u001b[0m in \u001b[0;36m<module>\u001b[1;34m()\u001b[0m\n",
      "\u001b[1;32m<string>\u001b[0m in \u001b[0;36mCalcF1\u001b[1;34m(SGCL)\u001b[0m\n",
      "\u001b[1;31mKeyError\u001b[0m: None"
     ]
    },
    {
     "ename": "KeyError",
     "evalue": "None",
     "output_type": "error",
     "traceback": [
      "\u001b[1;31m---------------------------------------------------------------------------\u001b[0m",
      "\u001b[1;31mKeyError\u001b[0m                                  Traceback (most recent call last)",
      "\u001b[1;32m<expression>\u001b[0m in \u001b[0;36m<module>\u001b[1;34m()\u001b[0m\n",
      "\u001b[1;32m<string>\u001b[0m in \u001b[0;36mCalcF1\u001b[1;34m(SGCL)\u001b[0m\n",
      "\u001b[1;31mKeyError\u001b[0m: None"
     ]
    },
    {
     "ename": "KeyError",
     "evalue": "None",
     "output_type": "error",
     "traceback": [
      "\u001b[1;31m---------------------------------------------------------------------------\u001b[0m",
      "\u001b[1;31mKeyError\u001b[0m                                  Traceback (most recent call last)",
      "\u001b[1;32m<expression>\u001b[0m in \u001b[0;36m<module>\u001b[1;34m()\u001b[0m\n",
      "\u001b[1;32m<string>\u001b[0m in \u001b[0;36mCalcF1\u001b[1;34m(SGCL)\u001b[0m\n",
      "\u001b[1;31mKeyError\u001b[0m: None"
     ]
    },
    {
     "ename": "KeyError",
     "evalue": "None",
     "output_type": "error",
     "traceback": [
      "\u001b[1;31m---------------------------------------------------------------------------\u001b[0m",
      "\u001b[1;31mKeyError\u001b[0m                                  Traceback (most recent call last)",
      "\u001b[1;32m<expression>\u001b[0m in \u001b[0;36m<module>\u001b[1;34m()\u001b[0m\n",
      "\u001b[1;32m<string>\u001b[0m in \u001b[0;36mCalcF1\u001b[1;34m(SGCL)\u001b[0m\n",
      "\u001b[1;31mKeyError\u001b[0m: None"
     ]
    },
    {
     "ename": "KeyError",
     "evalue": "None",
     "output_type": "error",
     "traceback": [
      "\u001b[1;31m---------------------------------------------------------------------------\u001b[0m",
      "\u001b[1;31mKeyError\u001b[0m                                  Traceback (most recent call last)",
      "\u001b[1;32m<expression>\u001b[0m in \u001b[0;36m<module>\u001b[1;34m()\u001b[0m\n",
      "\u001b[1;32m<string>\u001b[0m in \u001b[0;36mCalcF1\u001b[1;34m(SGCL)\u001b[0m\n",
      "\u001b[1;31mKeyError\u001b[0m: None"
     ]
    },
    {
     "ename": "KeyError",
     "evalue": "None",
     "output_type": "error",
     "traceback": [
      "\u001b[1;31m---------------------------------------------------------------------------\u001b[0m",
      "\u001b[1;31mKeyError\u001b[0m                                  Traceback (most recent call last)",
      "\u001b[1;32m<expression>\u001b[0m in \u001b[0;36m<module>\u001b[1;34m()\u001b[0m\n",
      "\u001b[1;32m<string>\u001b[0m in \u001b[0;36mCalcF1\u001b[1;34m(SGCL)\u001b[0m\n",
      "\u001b[1;31mKeyError\u001b[0m: None"
     ]
    },
    {
     "ename": "KeyError",
     "evalue": "None",
     "output_type": "error",
     "traceback": [
      "\u001b[1;31m---------------------------------------------------------------------------\u001b[0m",
      "\u001b[1;31mKeyError\u001b[0m                                  Traceback (most recent call last)",
      "\u001b[1;32m<expression>\u001b[0m in \u001b[0;36m<module>\u001b[1;34m()\u001b[0m\n",
      "\u001b[1;32m<string>\u001b[0m in \u001b[0;36mCalcF1\u001b[1;34m(SGCL)\u001b[0m\n",
      "\u001b[1;31mKeyError\u001b[0m: None"
     ]
    },
    {
     "ename": "KeyError",
     "evalue": "None",
     "output_type": "error",
     "traceback": [
      "\u001b[1;31m---------------------------------------------------------------------------\u001b[0m",
      "\u001b[1;31mKeyError\u001b[0m                                  Traceback (most recent call last)",
      "\u001b[1;32m<expression>\u001b[0m in \u001b[0;36m<module>\u001b[1;34m()\u001b[0m\n",
      "\u001b[1;32m<string>\u001b[0m in \u001b[0;36mCalcF1\u001b[1;34m(SGCL)\u001b[0m\n",
      "\u001b[1;31mKeyError\u001b[0m: None"
     ]
    },
    {
     "ename": "KeyError",
     "evalue": "None",
     "output_type": "error",
     "traceback": [
      "\u001b[1;31m---------------------------------------------------------------------------\u001b[0m",
      "\u001b[1;31mKeyError\u001b[0m                                  Traceback (most recent call last)",
      "\u001b[1;32m<expression>\u001b[0m in \u001b[0;36m<module>\u001b[1;34m()\u001b[0m\n",
      "\u001b[1;32m<string>\u001b[0m in \u001b[0;36mCalcF1\u001b[1;34m(SGCL)\u001b[0m\n",
      "\u001b[1;31mKeyError\u001b[0m: None"
     ]
    },
    {
     "ename": "KeyError",
     "evalue": "None",
     "output_type": "error",
     "traceback": [
      "\u001b[1;31m---------------------------------------------------------------------------\u001b[0m",
      "\u001b[1;31mKeyError\u001b[0m                                  Traceback (most recent call last)",
      "\u001b[1;32m<expression>\u001b[0m in \u001b[0;36m<module>\u001b[1;34m()\u001b[0m\n",
      "\u001b[1;32m<string>\u001b[0m in \u001b[0;36mCalcF1\u001b[1;34m(SGCL)\u001b[0m\n",
      "\u001b[1;31mKeyError\u001b[0m: None"
     ]
    },
    {
     "ename": "KeyError",
     "evalue": "None",
     "output_type": "error",
     "traceback": [
      "\u001b[1;31m---------------------------------------------------------------------------\u001b[0m",
      "\u001b[1;31mKeyError\u001b[0m                                  Traceback (most recent call last)",
      "\u001b[1;32m<expression>\u001b[0m in \u001b[0;36m<module>\u001b[1;34m()\u001b[0m\n",
      "\u001b[1;32m<string>\u001b[0m in \u001b[0;36mCalcF1\u001b[1;34m(SGCL)\u001b[0m\n",
      "\u001b[1;31mKeyError\u001b[0m: None"
     ]
    },
    {
     "ename": "KeyError",
     "evalue": "None",
     "output_type": "error",
     "traceback": [
      "\u001b[1;31m---------------------------------------------------------------------------\u001b[0m",
      "\u001b[1;31mKeyError\u001b[0m                                  Traceback (most recent call last)",
      "\u001b[1;32m<expression>\u001b[0m in \u001b[0;36m<module>\u001b[1;34m()\u001b[0m\n",
      "\u001b[1;32m<string>\u001b[0m in \u001b[0;36mCalcF1\u001b[1;34m(SGCL)\u001b[0m\n",
      "\u001b[1;31mKeyError\u001b[0m: None"
     ]
    },
    {
     "ename": "KeyError",
     "evalue": "None",
     "output_type": "error",
     "traceback": [
      "\u001b[1;31m---------------------------------------------------------------------------\u001b[0m",
      "\u001b[1;31mKeyError\u001b[0m                                  Traceback (most recent call last)",
      "\u001b[1;32m<expression>\u001b[0m in \u001b[0;36m<module>\u001b[1;34m()\u001b[0m\n",
      "\u001b[1;32m<string>\u001b[0m in \u001b[0;36mCalcF1\u001b[1;34m(SGCL)\u001b[0m\n",
      "\u001b[1;31mKeyError\u001b[0m: None"
     ]
    },
    {
     "ename": "KeyError",
     "evalue": "None",
     "output_type": "error",
     "traceback": [
      "\u001b[1;31m---------------------------------------------------------------------------\u001b[0m",
      "\u001b[1;31mKeyError\u001b[0m                                  Traceback (most recent call last)",
      "\u001b[1;32m<expression>\u001b[0m in \u001b[0;36m<module>\u001b[1;34m()\u001b[0m\n",
      "\u001b[1;32m<string>\u001b[0m in \u001b[0;36mCalcF1\u001b[1;34m(SGCL)\u001b[0m\n",
      "\u001b[1;31mKeyError\u001b[0m: None"
     ]
    },
    {
     "ename": "KeyError",
     "evalue": "None",
     "output_type": "error",
     "traceback": [
      "\u001b[1;31m---------------------------------------------------------------------------\u001b[0m",
      "\u001b[1;31mKeyError\u001b[0m                                  Traceback (most recent call last)",
      "\u001b[1;32m<expression>\u001b[0m in \u001b[0;36m<module>\u001b[1;34m()\u001b[0m\n",
      "\u001b[1;32m<string>\u001b[0m in \u001b[0;36mCalcF1\u001b[1;34m(SGCL)\u001b[0m\n",
      "\u001b[1;31mKeyError\u001b[0m: None"
     ]
    },
    {
     "ename": "KeyError",
     "evalue": "None",
     "output_type": "error",
     "traceback": [
      "\u001b[1;31m---------------------------------------------------------------------------\u001b[0m",
      "\u001b[1;31mKeyError\u001b[0m                                  Traceback (most recent call last)",
      "\u001b[1;32m<expression>\u001b[0m in \u001b[0;36m<module>\u001b[1;34m()\u001b[0m\n",
      "\u001b[1;32m<string>\u001b[0m in \u001b[0;36mCalcF1\u001b[1;34m(SGCL)\u001b[0m\n",
      "\u001b[1;31mKeyError\u001b[0m: None"
     ]
    },
    {
     "ename": "KeyError",
     "evalue": "None",
     "output_type": "error",
     "traceback": [
      "\u001b[1;31m---------------------------------------------------------------------------\u001b[0m",
      "\u001b[1;31mKeyError\u001b[0m                                  Traceback (most recent call last)",
      "\u001b[1;32m<expression>\u001b[0m in \u001b[0;36m<module>\u001b[1;34m()\u001b[0m\n",
      "\u001b[1;32m<string>\u001b[0m in \u001b[0;36mCalcF1\u001b[1;34m(SGCL)\u001b[0m\n",
      "\u001b[1;31mKeyError\u001b[0m: None"
     ]
    },
    {
     "ename": "KeyError",
     "evalue": "None",
     "output_type": "error",
     "traceback": [
      "\u001b[1;31m---------------------------------------------------------------------------\u001b[0m",
      "\u001b[1;31mKeyError\u001b[0m                                  Traceback (most recent call last)",
      "\u001b[1;32m<expression>\u001b[0m in \u001b[0;36m<module>\u001b[1;34m()\u001b[0m\n",
      "\u001b[1;32m<string>\u001b[0m in \u001b[0;36mCalcF1\u001b[1;34m(SGCL)\u001b[0m\n",
      "\u001b[1;31mKeyError\u001b[0m: None"
     ]
    },
    {
     "ename": "KeyError",
     "evalue": "None",
     "output_type": "error",
     "traceback": [
      "\u001b[1;31m---------------------------------------------------------------------------\u001b[0m",
      "\u001b[1;31mKeyError\u001b[0m                                  Traceback (most recent call last)",
      "\u001b[1;32m<expression>\u001b[0m in \u001b[0;36m<module>\u001b[1;34m()\u001b[0m\n",
      "\u001b[1;32m<string>\u001b[0m in \u001b[0;36mCalcF1\u001b[1;34m(SGCL)\u001b[0m\n",
      "\u001b[1;31mKeyError\u001b[0m: None"
     ]
    },
    {
     "ename": "KeyError",
     "evalue": "None",
     "output_type": "error",
     "traceback": [
      "\u001b[1;31m---------------------------------------------------------------------------\u001b[0m",
      "\u001b[1;31mKeyError\u001b[0m                                  Traceback (most recent call last)",
      "\u001b[1;32m<expression>\u001b[0m in \u001b[0;36m<module>\u001b[1;34m()\u001b[0m\n",
      "\u001b[1;32m<string>\u001b[0m in \u001b[0;36mCalcF1\u001b[1;34m(SGCL)\u001b[0m\n",
      "\u001b[1;31mKeyError\u001b[0m: None"
     ]
    },
    {
     "ename": "KeyError",
     "evalue": "None",
     "output_type": "error",
     "traceback": [
      "\u001b[1;31m---------------------------------------------------------------------------\u001b[0m",
      "\u001b[1;31mKeyError\u001b[0m                                  Traceback (most recent call last)",
      "\u001b[1;32m<expression>\u001b[0m in \u001b[0;36m<module>\u001b[1;34m()\u001b[0m\n",
      "\u001b[1;32m<string>\u001b[0m in \u001b[0;36mCalcF1\u001b[1;34m(SGCL)\u001b[0m\n",
      "\u001b[1;31mKeyError\u001b[0m: None"
     ]
    },
    {
     "ename": "KeyError",
     "evalue": "None",
     "output_type": "error",
     "traceback": [
      "\u001b[1;31m---------------------------------------------------------------------------\u001b[0m",
      "\u001b[1;31mKeyError\u001b[0m                                  Traceback (most recent call last)",
      "\u001b[1;32m<expression>\u001b[0m in \u001b[0;36m<module>\u001b[1;34m()\u001b[0m\n",
      "\u001b[1;32m<string>\u001b[0m in \u001b[0;36mCalcF1\u001b[1;34m(SGCL)\u001b[0m\n",
      "\u001b[1;31mKeyError\u001b[0m: None"
     ]
    },
    {
     "ename": "KeyError",
     "evalue": "None",
     "output_type": "error",
     "traceback": [
      "\u001b[1;31m---------------------------------------------------------------------------\u001b[0m",
      "\u001b[1;31mKeyError\u001b[0m                                  Traceback (most recent call last)",
      "\u001b[1;32m<expression>\u001b[0m in \u001b[0;36m<module>\u001b[1;34m()\u001b[0m\n",
      "\u001b[1;32m<string>\u001b[0m in \u001b[0;36mCalcF1\u001b[1;34m(SGCL)\u001b[0m\n",
      "\u001b[1;31mKeyError\u001b[0m: None"
     ]
    },
    {
     "ename": "KeyError",
     "evalue": "None",
     "output_type": "error",
     "traceback": [
      "\u001b[1;31m---------------------------------------------------------------------------\u001b[0m",
      "\u001b[1;31mKeyError\u001b[0m                                  Traceback (most recent call last)",
      "\u001b[1;32m<expression>\u001b[0m in \u001b[0;36m<module>\u001b[1;34m()\u001b[0m\n",
      "\u001b[1;32m<string>\u001b[0m in \u001b[0;36mCalcF1\u001b[1;34m(SGCL)\u001b[0m\n",
      "\u001b[1;31mKeyError\u001b[0m: None"
     ]
    },
    {
     "ename": "KeyError",
     "evalue": "None",
     "output_type": "error",
     "traceback": [
      "\u001b[1;31m---------------------------------------------------------------------------\u001b[0m",
      "\u001b[1;31mKeyError\u001b[0m                                  Traceback (most recent call last)",
      "\u001b[1;32m<expression>\u001b[0m in \u001b[0;36m<module>\u001b[1;34m()\u001b[0m\n",
      "\u001b[1;32m<string>\u001b[0m in \u001b[0;36mCalcF1\u001b[1;34m(SGCL)\u001b[0m\n",
      "\u001b[1;31mKeyError\u001b[0m: None"
     ]
    },
    {
     "ename": "KeyError",
     "evalue": "None",
     "output_type": "error",
     "traceback": [
      "\u001b[1;31m---------------------------------------------------------------------------\u001b[0m",
      "\u001b[1;31mKeyError\u001b[0m                                  Traceback (most recent call last)",
      "\u001b[1;32m<expression>\u001b[0m in \u001b[0;36m<module>\u001b[1;34m()\u001b[0m\n",
      "\u001b[1;32m<string>\u001b[0m in \u001b[0;36mCalcF1\u001b[1;34m(SGCL)\u001b[0m\n",
      "\u001b[1;31mKeyError\u001b[0m: None"
     ]
    },
    {
     "ename": "KeyError",
     "evalue": "None",
     "output_type": "error",
     "traceback": [
      "\u001b[1;31m---------------------------------------------------------------------------\u001b[0m",
      "\u001b[1;31mKeyError\u001b[0m                                  Traceback (most recent call last)",
      "\u001b[1;32m<expression>\u001b[0m in \u001b[0;36m<module>\u001b[1;34m()\u001b[0m\n",
      "\u001b[1;32m<string>\u001b[0m in \u001b[0;36mCalcF1\u001b[1;34m(SGCL)\u001b[0m\n",
      "\u001b[1;31mKeyError\u001b[0m: None"
     ]
    },
    {
     "ename": "KeyError",
     "evalue": "None",
     "output_type": "error",
     "traceback": [
      "\u001b[1;31m---------------------------------------------------------------------------\u001b[0m",
      "\u001b[1;31mKeyError\u001b[0m                                  Traceback (most recent call last)",
      "\u001b[1;32m<expression>\u001b[0m in \u001b[0;36m<module>\u001b[1;34m()\u001b[0m\n",
      "\u001b[1;32m<string>\u001b[0m in \u001b[0;36mCalcF1\u001b[1;34m(SGCL)\u001b[0m\n",
      "\u001b[1;31mKeyError\u001b[0m: None"
     ]
    },
    {
     "ename": "KeyError",
     "evalue": "None",
     "output_type": "error",
     "traceback": [
      "\u001b[1;31m---------------------------------------------------------------------------\u001b[0m",
      "\u001b[1;31mKeyError\u001b[0m                                  Traceback (most recent call last)",
      "\u001b[1;32m<expression>\u001b[0m in \u001b[0;36m<module>\u001b[1;34m()\u001b[0m\n",
      "\u001b[1;32m<string>\u001b[0m in \u001b[0;36mCalcF1\u001b[1;34m(SGCL)\u001b[0m\n",
      "\u001b[1;31mKeyError\u001b[0m: None"
     ]
    },
    {
     "ename": "KeyError",
     "evalue": "None",
     "output_type": "error",
     "traceback": [
      "\u001b[1;31m---------------------------------------------------------------------------\u001b[0m",
      "\u001b[1;31mKeyError\u001b[0m                                  Traceback (most recent call last)",
      "\u001b[1;32m<expression>\u001b[0m in \u001b[0;36m<module>\u001b[1;34m()\u001b[0m\n",
      "\u001b[1;32m<string>\u001b[0m in \u001b[0;36mCalcF1\u001b[1;34m(SGCL)\u001b[0m\n",
      "\u001b[1;31mKeyError\u001b[0m: None"
     ]
    },
    {
     "ename": "KeyError",
     "evalue": "None",
     "output_type": "error",
     "traceback": [
      "\u001b[1;31m---------------------------------------------------------------------------\u001b[0m",
      "\u001b[1;31mKeyError\u001b[0m                                  Traceback (most recent call last)",
      "\u001b[1;32m<expression>\u001b[0m in \u001b[0;36m<module>\u001b[1;34m()\u001b[0m\n",
      "\u001b[1;32m<string>\u001b[0m in \u001b[0;36mCalcF1\u001b[1;34m(SGCL)\u001b[0m\n",
      "\u001b[1;31mKeyError\u001b[0m: None"
     ]
    },
    {
     "ename": "KeyError",
     "evalue": "None",
     "output_type": "error",
     "traceback": [
      "\u001b[1;31m---------------------------------------------------------------------------\u001b[0m",
      "\u001b[1;31mKeyError\u001b[0m                                  Traceback (most recent call last)",
      "\u001b[1;32m<expression>\u001b[0m in \u001b[0;36m<module>\u001b[1;34m()\u001b[0m\n",
      "\u001b[1;32m<string>\u001b[0m in \u001b[0;36mCalcF1\u001b[1;34m(SGCL)\u001b[0m\n",
      "\u001b[1;31mKeyError\u001b[0m: None"
     ]
    },
    {
     "ename": "KeyError",
     "evalue": "None",
     "output_type": "error",
     "traceback": [
      "\u001b[1;31m---------------------------------------------------------------------------\u001b[0m",
      "\u001b[1;31mKeyError\u001b[0m                                  Traceback (most recent call last)",
      "\u001b[1;32m<expression>\u001b[0m in \u001b[0;36m<module>\u001b[1;34m()\u001b[0m\n",
      "\u001b[1;32m<string>\u001b[0m in \u001b[0;36mCalcF1\u001b[1;34m(SGCL)\u001b[0m\n",
      "\u001b[1;31mKeyError\u001b[0m: None"
     ]
    },
    {
     "ename": "KeyError",
     "evalue": "None",
     "output_type": "error",
     "traceback": [
      "\u001b[1;31m---------------------------------------------------------------------------\u001b[0m",
      "\u001b[1;31mKeyError\u001b[0m                                  Traceback (most recent call last)",
      "\u001b[1;32m<expression>\u001b[0m in \u001b[0;36m<module>\u001b[1;34m()\u001b[0m\n",
      "\u001b[1;32m<string>\u001b[0m in \u001b[0;36mCalcF1\u001b[1;34m(SGCL)\u001b[0m\n",
      "\u001b[1;31mKeyError\u001b[0m: None"
     ]
    },
    {
     "ename": "KeyError",
     "evalue": "None",
     "output_type": "error",
     "traceback": [
      "\u001b[1;31m---------------------------------------------------------------------------\u001b[0m",
      "\u001b[1;31mKeyError\u001b[0m                                  Traceback (most recent call last)",
      "\u001b[1;32m<expression>\u001b[0m in \u001b[0;36m<module>\u001b[1;34m()\u001b[0m\n",
      "\u001b[1;32m<string>\u001b[0m in \u001b[0;36mCalcF1\u001b[1;34m(SGCL)\u001b[0m\n",
      "\u001b[1;31mKeyError\u001b[0m: None"
     ]
    },
    {
     "ename": "KeyError",
     "evalue": "None",
     "output_type": "error",
     "traceback": [
      "\u001b[1;31m---------------------------------------------------------------------------\u001b[0m",
      "\u001b[1;31mKeyError\u001b[0m                                  Traceback (most recent call last)",
      "\u001b[1;32m<expression>\u001b[0m in \u001b[0;36m<module>\u001b[1;34m()\u001b[0m\n",
      "\u001b[1;32m<string>\u001b[0m in \u001b[0;36mCalcF1\u001b[1;34m(SGCL)\u001b[0m\n",
      "\u001b[1;31mKeyError\u001b[0m: None"
     ]
    },
    {
     "ename": "KeyError",
     "evalue": "None",
     "output_type": "error",
     "traceback": [
      "\u001b[1;31m---------------------------------------------------------------------------\u001b[0m",
      "\u001b[1;31mKeyError\u001b[0m                                  Traceback (most recent call last)",
      "\u001b[1;32m<expression>\u001b[0m in \u001b[0;36m<module>\u001b[1;34m()\u001b[0m\n",
      "\u001b[1;32m<string>\u001b[0m in \u001b[0;36mCalcF1\u001b[1;34m(SGCL)\u001b[0m\n",
      "\u001b[1;31mKeyError\u001b[0m: None"
     ]
    },
    {
     "ename": "KeyError",
     "evalue": "None",
     "output_type": "error",
     "traceback": [
      "\u001b[1;31m---------------------------------------------------------------------------\u001b[0m",
      "\u001b[1;31mKeyError\u001b[0m                                  Traceback (most recent call last)",
      "\u001b[1;32m<expression>\u001b[0m in \u001b[0;36m<module>\u001b[1;34m()\u001b[0m\n",
      "\u001b[1;32m<string>\u001b[0m in \u001b[0;36mCalcF1\u001b[1;34m(SGCL)\u001b[0m\n",
      "\u001b[1;31mKeyError\u001b[0m: None"
     ]
    },
    {
     "ename": "KeyError",
     "evalue": "None",
     "output_type": "error",
     "traceback": [
      "\u001b[1;31m---------------------------------------------------------------------------\u001b[0m",
      "\u001b[1;31mKeyError\u001b[0m                                  Traceback (most recent call last)",
      "\u001b[1;32m<expression>\u001b[0m in \u001b[0;36m<module>\u001b[1;34m()\u001b[0m\n",
      "\u001b[1;32m<string>\u001b[0m in \u001b[0;36mCalcF1\u001b[1;34m(SGCL)\u001b[0m\n",
      "\u001b[1;31mKeyError\u001b[0m: None"
     ]
    },
    {
     "ename": "KeyError",
     "evalue": "None",
     "output_type": "error",
     "traceback": [
      "\u001b[1;31m---------------------------------------------------------------------------\u001b[0m",
      "\u001b[1;31mKeyError\u001b[0m                                  Traceback (most recent call last)",
      "\u001b[1;32m<expression>\u001b[0m in \u001b[0;36m<module>\u001b[1;34m()\u001b[0m\n",
      "\u001b[1;32m<string>\u001b[0m in \u001b[0;36mCalcF1\u001b[1;34m(SGCL)\u001b[0m\n",
      "\u001b[1;31mKeyError\u001b[0m: None"
     ]
    },
    {
     "ename": "KeyError",
     "evalue": "None",
     "output_type": "error",
     "traceback": [
      "\u001b[1;31m---------------------------------------------------------------------------\u001b[0m",
      "\u001b[1;31mKeyError\u001b[0m                                  Traceback (most recent call last)",
      "\u001b[1;32m<expression>\u001b[0m in \u001b[0;36m<module>\u001b[1;34m()\u001b[0m\n",
      "\u001b[1;32m<string>\u001b[0m in \u001b[0;36mCalcF1\u001b[1;34m(SGCL)\u001b[0m\n",
      "\u001b[1;31mKeyError\u001b[0m: None"
     ]
    },
    {
     "ename": "KeyError",
     "evalue": "None",
     "output_type": "error",
     "traceback": [
      "\u001b[1;31m---------------------------------------------------------------------------\u001b[0m",
      "\u001b[1;31mKeyError\u001b[0m                                  Traceback (most recent call last)",
      "\u001b[1;32m<expression>\u001b[0m in \u001b[0;36m<module>\u001b[1;34m()\u001b[0m\n",
      "\u001b[1;32m<string>\u001b[0m in \u001b[0;36mCalcF1\u001b[1;34m(SGCL)\u001b[0m\n",
      "\u001b[1;31mKeyError\u001b[0m: None"
     ]
    },
    {
     "ename": "KeyError",
     "evalue": "None",
     "output_type": "error",
     "traceback": [
      "\u001b[1;31m---------------------------------------------------------------------------\u001b[0m",
      "\u001b[1;31mKeyError\u001b[0m                                  Traceback (most recent call last)",
      "\u001b[1;32m<expression>\u001b[0m in \u001b[0;36m<module>\u001b[1;34m()\u001b[0m\n",
      "\u001b[1;32m<string>\u001b[0m in \u001b[0;36mCalcF1\u001b[1;34m(SGCL)\u001b[0m\n",
      "\u001b[1;31mKeyError\u001b[0m: None"
     ]
    },
    {
     "ename": "KeyError",
     "evalue": "None",
     "output_type": "error",
     "traceback": [
      "\u001b[1;31m---------------------------------------------------------------------------\u001b[0m",
      "\u001b[1;31mKeyError\u001b[0m                                  Traceback (most recent call last)",
      "\u001b[1;32m<expression>\u001b[0m in \u001b[0;36m<module>\u001b[1;34m()\u001b[0m\n",
      "\u001b[1;32m<string>\u001b[0m in \u001b[0;36mCalcF1\u001b[1;34m(SGCL)\u001b[0m\n",
      "\u001b[1;31mKeyError\u001b[0m: None"
     ]
    },
    {
     "ename": "KeyError",
     "evalue": "None",
     "output_type": "error",
     "traceback": [
      "\u001b[1;31m---------------------------------------------------------------------------\u001b[0m",
      "\u001b[1;31mKeyError\u001b[0m                                  Traceback (most recent call last)",
      "\u001b[1;32m<expression>\u001b[0m in \u001b[0;36m<module>\u001b[1;34m()\u001b[0m\n",
      "\u001b[1;32m<string>\u001b[0m in \u001b[0;36mCalcF1\u001b[1;34m(SGCL)\u001b[0m\n",
      "\u001b[1;31mKeyError\u001b[0m: None"
     ]
    },
    {
     "ename": "KeyError",
     "evalue": "None",
     "output_type": "error",
     "traceback": [
      "\u001b[1;31m---------------------------------------------------------------------------\u001b[0m",
      "\u001b[1;31mKeyError\u001b[0m                                  Traceback (most recent call last)",
      "\u001b[1;32m<expression>\u001b[0m in \u001b[0;36m<module>\u001b[1;34m()\u001b[0m\n",
      "\u001b[1;32m<string>\u001b[0m in \u001b[0;36mCalcF1\u001b[1;34m(SGCL)\u001b[0m\n",
      "\u001b[1;31mKeyError\u001b[0m: None"
     ]
    },
    {
     "ename": "KeyError",
     "evalue": "None",
     "output_type": "error",
     "traceback": [
      "\u001b[1;31m---------------------------------------------------------------------------\u001b[0m",
      "\u001b[1;31mKeyError\u001b[0m                                  Traceback (most recent call last)",
      "\u001b[1;32m<expression>\u001b[0m in \u001b[0;36m<module>\u001b[1;34m()\u001b[0m\n",
      "\u001b[1;32m<string>\u001b[0m in \u001b[0;36mCalcF1\u001b[1;34m(SGCL)\u001b[0m\n",
      "\u001b[1;31mKeyError\u001b[0m: None"
     ]
    },
    {
     "ename": "KeyError",
     "evalue": "None",
     "output_type": "error",
     "traceback": [
      "\u001b[1;31m---------------------------------------------------------------------------\u001b[0m",
      "\u001b[1;31mKeyError\u001b[0m                                  Traceback (most recent call last)",
      "\u001b[1;32m<expression>\u001b[0m in \u001b[0;36m<module>\u001b[1;34m()\u001b[0m\n",
      "\u001b[1;32m<string>\u001b[0m in \u001b[0;36mCalcF1\u001b[1;34m(SGCL)\u001b[0m\n",
      "\u001b[1;31mKeyError\u001b[0m: None"
     ]
    },
    {
     "ename": "KeyError",
     "evalue": "None",
     "output_type": "error",
     "traceback": [
      "\u001b[1;31m---------------------------------------------------------------------------\u001b[0m",
      "\u001b[1;31mKeyError\u001b[0m                                  Traceback (most recent call last)",
      "\u001b[1;32m<expression>\u001b[0m in \u001b[0;36m<module>\u001b[1;34m()\u001b[0m\n",
      "\u001b[1;32m<string>\u001b[0m in \u001b[0;36mCalcF1\u001b[1;34m(SGCL)\u001b[0m\n",
      "\u001b[1;31mKeyError\u001b[0m: None"
     ]
    },
    {
     "ename": "KeyError",
     "evalue": "None",
     "output_type": "error",
     "traceback": [
      "\u001b[1;31m---------------------------------------------------------------------------\u001b[0m",
      "\u001b[1;31mKeyError\u001b[0m                                  Traceback (most recent call last)",
      "\u001b[1;32m<expression>\u001b[0m in \u001b[0;36m<module>\u001b[1;34m()\u001b[0m\n",
      "\u001b[1;32m<string>\u001b[0m in \u001b[0;36mCalcF1\u001b[1;34m(SGCL)\u001b[0m\n",
      "\u001b[1;31mKeyError\u001b[0m: None"
     ]
    },
    {
     "ename": "KeyError",
     "evalue": "None",
     "output_type": "error",
     "traceback": [
      "\u001b[1;31m---------------------------------------------------------------------------\u001b[0m",
      "\u001b[1;31mKeyError\u001b[0m                                  Traceback (most recent call last)",
      "\u001b[1;32m<expression>\u001b[0m in \u001b[0;36m<module>\u001b[1;34m()\u001b[0m\n",
      "\u001b[1;32m<string>\u001b[0m in \u001b[0;36mCalcF1\u001b[1;34m(SGCL)\u001b[0m\n",
      "\u001b[1;31mKeyError\u001b[0m: None"
     ]
    },
    {
     "ename": "KeyError",
     "evalue": "None",
     "output_type": "error",
     "traceback": [
      "\u001b[1;31m---------------------------------------------------------------------------\u001b[0m",
      "\u001b[1;31mKeyError\u001b[0m                                  Traceback (most recent call last)",
      "\u001b[1;32m<expression>\u001b[0m in \u001b[0;36m<module>\u001b[1;34m()\u001b[0m\n",
      "\u001b[1;32m<string>\u001b[0m in \u001b[0;36mCalcF1\u001b[1;34m(SGCL)\u001b[0m\n",
      "\u001b[1;31mKeyError\u001b[0m: None"
     ]
    },
    {
     "ename": "KeyError",
     "evalue": "None",
     "output_type": "error",
     "traceback": [
      "\u001b[1;31m---------------------------------------------------------------------------\u001b[0m",
      "\u001b[1;31mKeyError\u001b[0m                                  Traceback (most recent call last)",
      "\u001b[1;32m<expression>\u001b[0m in \u001b[0;36m<module>\u001b[1;34m()\u001b[0m\n",
      "\u001b[1;32m<string>\u001b[0m in \u001b[0;36mCalcF1\u001b[1;34m(SGCL)\u001b[0m\n",
      "\u001b[1;31mKeyError\u001b[0m: None"
     ]
    },
    {
     "ename": "KeyError",
     "evalue": "None",
     "output_type": "error",
     "traceback": [
      "\u001b[1;31m---------------------------------------------------------------------------\u001b[0m",
      "\u001b[1;31mKeyError\u001b[0m                                  Traceback (most recent call last)",
      "\u001b[1;32m<expression>\u001b[0m in \u001b[0;36m<module>\u001b[1;34m()\u001b[0m\n",
      "\u001b[1;32m<string>\u001b[0m in \u001b[0;36mCalcF1\u001b[1;34m(SGCL)\u001b[0m\n",
      "\u001b[1;31mKeyError\u001b[0m: None"
     ]
    },
    {
     "ename": "KeyError",
     "evalue": "None",
     "output_type": "error",
     "traceback": [
      "\u001b[1;31m---------------------------------------------------------------------------\u001b[0m",
      "\u001b[1;31mKeyError\u001b[0m                                  Traceback (most recent call last)",
      "\u001b[1;32m<expression>\u001b[0m in \u001b[0;36m<module>\u001b[1;34m()\u001b[0m\n",
      "\u001b[1;32m<string>\u001b[0m in \u001b[0;36mCalcF1\u001b[1;34m(SGCL)\u001b[0m\n",
      "\u001b[1;31mKeyError\u001b[0m: None"
     ]
    },
    {
     "ename": "KeyError",
     "evalue": "None",
     "output_type": "error",
     "traceback": [
      "\u001b[1;31m---------------------------------------------------------------------------\u001b[0m",
      "\u001b[1;31mKeyError\u001b[0m                                  Traceback (most recent call last)",
      "\u001b[1;32m<expression>\u001b[0m in \u001b[0;36m<module>\u001b[1;34m()\u001b[0m\n",
      "\u001b[1;32m<string>\u001b[0m in \u001b[0;36mCalcF1\u001b[1;34m(SGCL)\u001b[0m\n",
      "\u001b[1;31mKeyError\u001b[0m: None"
     ]
    },
    {
     "ename": "KeyError",
     "evalue": "None",
     "output_type": "error",
     "traceback": [
      "\u001b[1;31m---------------------------------------------------------------------------\u001b[0m",
      "\u001b[1;31mKeyError\u001b[0m                                  Traceback (most recent call last)",
      "\u001b[1;32m<expression>\u001b[0m in \u001b[0;36m<module>\u001b[1;34m()\u001b[0m\n",
      "\u001b[1;32m<string>\u001b[0m in \u001b[0;36mCalcF1\u001b[1;34m(SGCL)\u001b[0m\n",
      "\u001b[1;31mKeyError\u001b[0m: None"
     ]
    },
    {
     "ename": "KeyError",
     "evalue": "None",
     "output_type": "error",
     "traceback": [
      "\u001b[1;31m---------------------------------------------------------------------------\u001b[0m",
      "\u001b[1;31mKeyError\u001b[0m                                  Traceback (most recent call last)",
      "\u001b[1;32m<expression>\u001b[0m in \u001b[0;36m<module>\u001b[1;34m()\u001b[0m\n",
      "\u001b[1;32m<string>\u001b[0m in \u001b[0;36mCalcF1\u001b[1;34m(SGCL)\u001b[0m\n",
      "\u001b[1;31mKeyError\u001b[0m: None"
     ]
    },
    {
     "ename": "KeyError",
     "evalue": "None",
     "output_type": "error",
     "traceback": [
      "\u001b[1;31m---------------------------------------------------------------------------\u001b[0m",
      "\u001b[1;31mKeyError\u001b[0m                                  Traceback (most recent call last)",
      "\u001b[1;32m<expression>\u001b[0m in \u001b[0;36m<module>\u001b[1;34m()\u001b[0m\n",
      "\u001b[1;32m<string>\u001b[0m in \u001b[0;36mCalcF1\u001b[1;34m(SGCL)\u001b[0m\n",
      "\u001b[1;31mKeyError\u001b[0m: None"
     ]
    },
    {
     "ename": "KeyError",
     "evalue": "None",
     "output_type": "error",
     "traceback": [
      "\u001b[1;31m---------------------------------------------------------------------------\u001b[0m",
      "\u001b[1;31mKeyError\u001b[0m                                  Traceback (most recent call last)",
      "\u001b[1;32m<expression>\u001b[0m in \u001b[0;36m<module>\u001b[1;34m()\u001b[0m\n",
      "\u001b[1;32m<string>\u001b[0m in \u001b[0;36mCalcF1\u001b[1;34m(SGCL)\u001b[0m\n",
      "\u001b[1;31mKeyError\u001b[0m: None"
     ]
    },
    {
     "ename": "KeyError",
     "evalue": "None",
     "output_type": "error",
     "traceback": [
      "\u001b[1;31m---------------------------------------------------------------------------\u001b[0m",
      "\u001b[1;31mKeyError\u001b[0m                                  Traceback (most recent call last)",
      "\u001b[1;32m<expression>\u001b[0m in \u001b[0;36m<module>\u001b[1;34m()\u001b[0m\n",
      "\u001b[1;32m<string>\u001b[0m in \u001b[0;36mCalcF1\u001b[1;34m(SGCL)\u001b[0m\n",
      "\u001b[1;31mKeyError\u001b[0m: None"
     ]
    },
    {
     "ename": "KeyError",
     "evalue": "None",
     "output_type": "error",
     "traceback": [
      "\u001b[1;31m---------------------------------------------------------------------------\u001b[0m",
      "\u001b[1;31mKeyError\u001b[0m                                  Traceback (most recent call last)",
      "\u001b[1;32m<expression>\u001b[0m in \u001b[0;36m<module>\u001b[1;34m()\u001b[0m\n",
      "\u001b[1;32m<string>\u001b[0m in \u001b[0;36mCalcF1\u001b[1;34m(SGCL)\u001b[0m\n",
      "\u001b[1;31mKeyError\u001b[0m: None"
     ]
    },
    {
     "ename": "KeyError",
     "evalue": "None",
     "output_type": "error",
     "traceback": [
      "\u001b[1;31m---------------------------------------------------------------------------\u001b[0m",
      "\u001b[1;31mKeyError\u001b[0m                                  Traceback (most recent call last)",
      "\u001b[1;32m<expression>\u001b[0m in \u001b[0;36m<module>\u001b[1;34m()\u001b[0m\n",
      "\u001b[1;32m<string>\u001b[0m in \u001b[0;36mCalcF1\u001b[1;34m(SGCL)\u001b[0m\n",
      "\u001b[1;31mKeyError\u001b[0m: None"
     ]
    },
    {
     "ename": "KeyError",
     "evalue": "None",
     "output_type": "error",
     "traceback": [
      "\u001b[1;31m---------------------------------------------------------------------------\u001b[0m",
      "\u001b[1;31mKeyError\u001b[0m                                  Traceback (most recent call last)",
      "\u001b[1;32m<expression>\u001b[0m in \u001b[0;36m<module>\u001b[1;34m()\u001b[0m\n",
      "\u001b[1;32m<string>\u001b[0m in \u001b[0;36mCalcF1\u001b[1;34m(SGCL)\u001b[0m\n",
      "\u001b[1;31mKeyError\u001b[0m: None"
     ]
    },
    {
     "ename": "KeyError",
     "evalue": "None",
     "output_type": "error",
     "traceback": [
      "\u001b[1;31m---------------------------------------------------------------------------\u001b[0m",
      "\u001b[1;31mKeyError\u001b[0m                                  Traceback (most recent call last)",
      "\u001b[1;32m<expression>\u001b[0m in \u001b[0;36m<module>\u001b[1;34m()\u001b[0m\n",
      "\u001b[1;32m<string>\u001b[0m in \u001b[0;36mCalcF1\u001b[1;34m(SGCL)\u001b[0m\n",
      "\u001b[1;31mKeyError\u001b[0m: None"
     ]
    },
    {
     "ename": "KeyError",
     "evalue": "None",
     "output_type": "error",
     "traceback": [
      "\u001b[1;31m---------------------------------------------------------------------------\u001b[0m",
      "\u001b[1;31mKeyError\u001b[0m                                  Traceback (most recent call last)",
      "\u001b[1;32m<expression>\u001b[0m in \u001b[0;36m<module>\u001b[1;34m()\u001b[0m\n",
      "\u001b[1;32m<string>\u001b[0m in \u001b[0;36mCalcF1\u001b[1;34m(SGCL)\u001b[0m\n",
      "\u001b[1;31mKeyError\u001b[0m: None"
     ]
    },
    {
     "ename": "KeyError",
     "evalue": "None",
     "output_type": "error",
     "traceback": [
      "\u001b[1;31m---------------------------------------------------------------------------\u001b[0m",
      "\u001b[1;31mKeyError\u001b[0m                                  Traceback (most recent call last)",
      "\u001b[1;32m<expression>\u001b[0m in \u001b[0;36m<module>\u001b[1;34m()\u001b[0m\n",
      "\u001b[1;32m<string>\u001b[0m in \u001b[0;36mCalcF1\u001b[1;34m(SGCL)\u001b[0m\n",
      "\u001b[1;31mKeyError\u001b[0m: None"
     ]
    },
    {
     "ename": "KeyError",
     "evalue": "None",
     "output_type": "error",
     "traceback": [
      "\u001b[1;31m---------------------------------------------------------------------------\u001b[0m",
      "\u001b[1;31mKeyError\u001b[0m                                  Traceback (most recent call last)",
      "\u001b[1;32m<expression>\u001b[0m in \u001b[0;36m<module>\u001b[1;34m()\u001b[0m\n",
      "\u001b[1;32m<string>\u001b[0m in \u001b[0;36mCalcF1\u001b[1;34m(SGCL)\u001b[0m\n",
      "\u001b[1;31mKeyError\u001b[0m: None"
     ]
    },
    {
     "ename": "KeyError",
     "evalue": "None",
     "output_type": "error",
     "traceback": [
      "\u001b[1;31m---------------------------------------------------------------------------\u001b[0m",
      "\u001b[1;31mKeyError\u001b[0m                                  Traceback (most recent call last)",
      "\u001b[1;32m<expression>\u001b[0m in \u001b[0;36m<module>\u001b[1;34m()\u001b[0m\n",
      "\u001b[1;32m<string>\u001b[0m in \u001b[0;36mCalcF1\u001b[1;34m(SGCL)\u001b[0m\n",
      "\u001b[1;31mKeyError\u001b[0m: None"
     ]
    },
    {
     "ename": "KeyError",
     "evalue": "None",
     "output_type": "error",
     "traceback": [
      "\u001b[1;31m---------------------------------------------------------------------------\u001b[0m",
      "\u001b[1;31mKeyError\u001b[0m                                  Traceback (most recent call last)",
      "\u001b[1;32m<expression>\u001b[0m in \u001b[0;36m<module>\u001b[1;34m()\u001b[0m\n",
      "\u001b[1;32m<string>\u001b[0m in \u001b[0;36mCalcF1\u001b[1;34m(SGCL)\u001b[0m\n",
      "\u001b[1;31mKeyError\u001b[0m: None"
     ]
    },
    {
     "ename": "KeyError",
     "evalue": "None",
     "output_type": "error",
     "traceback": [
      "\u001b[1;31m---------------------------------------------------------------------------\u001b[0m",
      "\u001b[1;31mKeyError\u001b[0m                                  Traceback (most recent call last)",
      "\u001b[1;32m<expression>\u001b[0m in \u001b[0;36m<module>\u001b[1;34m()\u001b[0m\n",
      "\u001b[1;32m<string>\u001b[0m in \u001b[0;36mCalcF1\u001b[1;34m(SGCL)\u001b[0m\n",
      "\u001b[1;31mKeyError\u001b[0m: None"
     ]
    },
    {
     "ename": "KeyError",
     "evalue": "None",
     "output_type": "error",
     "traceback": [
      "\u001b[1;31m---------------------------------------------------------------------------\u001b[0m",
      "\u001b[1;31mKeyError\u001b[0m                                  Traceback (most recent call last)",
      "\u001b[1;32m<expression>\u001b[0m in \u001b[0;36m<module>\u001b[1;34m()\u001b[0m\n",
      "\u001b[1;32m<string>\u001b[0m in \u001b[0;36mCalcF1\u001b[1;34m(SGCL)\u001b[0m\n",
      "\u001b[1;31mKeyError\u001b[0m: None"
     ]
    },
    {
     "ename": "KeyError",
     "evalue": "None",
     "output_type": "error",
     "traceback": [
      "\u001b[1;31m---------------------------------------------------------------------------\u001b[0m",
      "\u001b[1;31mKeyError\u001b[0m                                  Traceback (most recent call last)",
      "\u001b[1;32m<expression>\u001b[0m in \u001b[0;36m<module>\u001b[1;34m()\u001b[0m\n",
      "\u001b[1;32m<string>\u001b[0m in \u001b[0;36mCalcF1\u001b[1;34m(SGCL)\u001b[0m\n",
      "\u001b[1;31mKeyError\u001b[0m: None"
     ]
    },
    {
     "ename": "KeyError",
     "evalue": "None",
     "output_type": "error",
     "traceback": [
      "\u001b[1;31m---------------------------------------------------------------------------\u001b[0m",
      "\u001b[1;31mKeyError\u001b[0m                                  Traceback (most recent call last)",
      "\u001b[1;32m<expression>\u001b[0m in \u001b[0;36m<module>\u001b[1;34m()\u001b[0m\n",
      "\u001b[1;32m<string>\u001b[0m in \u001b[0;36mCalcF1\u001b[1;34m(SGCL)\u001b[0m\n",
      "\u001b[1;31mKeyError\u001b[0m: None"
     ]
    },
    {
     "ename": "KeyError",
     "evalue": "None",
     "output_type": "error",
     "traceback": [
      "\u001b[1;31m---------------------------------------------------------------------------\u001b[0m",
      "\u001b[1;31mKeyError\u001b[0m                                  Traceback (most recent call last)",
      "\u001b[1;32m<expression>\u001b[0m in \u001b[0;36m<module>\u001b[1;34m()\u001b[0m\n",
      "\u001b[1;32m<string>\u001b[0m in \u001b[0;36mCalcF1\u001b[1;34m(SGCL)\u001b[0m\n",
      "\u001b[1;31mKeyError\u001b[0m: None"
     ]
    },
    {
     "ename": "KeyError",
     "evalue": "None",
     "output_type": "error",
     "traceback": [
      "\u001b[1;31m---------------------------------------------------------------------------\u001b[0m",
      "\u001b[1;31mKeyError\u001b[0m                                  Traceback (most recent call last)",
      "\u001b[1;32m<expression>\u001b[0m in \u001b[0;36m<module>\u001b[1;34m()\u001b[0m\n",
      "\u001b[1;32m<string>\u001b[0m in \u001b[0;36mCalcF1\u001b[1;34m(SGCL)\u001b[0m\n",
      "\u001b[1;31mKeyError\u001b[0m: None"
     ]
    },
    {
     "ename": "KeyError",
     "evalue": "None",
     "output_type": "error",
     "traceback": [
      "\u001b[1;31m---------------------------------------------------------------------------\u001b[0m",
      "\u001b[1;31mKeyError\u001b[0m                                  Traceback (most recent call last)",
      "\u001b[1;32m<expression>\u001b[0m in \u001b[0;36m<module>\u001b[1;34m()\u001b[0m\n",
      "\u001b[1;32m<string>\u001b[0m in \u001b[0;36mCalcF1\u001b[1;34m(SGCL)\u001b[0m\n",
      "\u001b[1;31mKeyError\u001b[0m: None"
     ]
    },
    {
     "ename": "KeyError",
     "evalue": "None",
     "output_type": "error",
     "traceback": [
      "\u001b[1;31m---------------------------------------------------------------------------\u001b[0m",
      "\u001b[1;31mKeyError\u001b[0m                                  Traceback (most recent call last)",
      "\u001b[1;32m<expression>\u001b[0m in \u001b[0;36m<module>\u001b[1;34m()\u001b[0m\n",
      "\u001b[1;32m<string>\u001b[0m in \u001b[0;36mCalcF1\u001b[1;34m(SGCL)\u001b[0m\n",
      "\u001b[1;31mKeyError\u001b[0m: None"
     ]
    },
    {
     "ename": "KeyError",
     "evalue": "None",
     "output_type": "error",
     "traceback": [
      "\u001b[1;31m---------------------------------------------------------------------------\u001b[0m",
      "\u001b[1;31mKeyError\u001b[0m                                  Traceback (most recent call last)",
      "\u001b[1;32m<expression>\u001b[0m in \u001b[0;36m<module>\u001b[1;34m()\u001b[0m\n",
      "\u001b[1;32m<string>\u001b[0m in \u001b[0;36mCalcF1\u001b[1;34m(SGCL)\u001b[0m\n",
      "\u001b[1;31mKeyError\u001b[0m: None"
     ]
    },
    {
     "ename": "KeyError",
     "evalue": "None",
     "output_type": "error",
     "traceback": [
      "\u001b[1;31m---------------------------------------------------------------------------\u001b[0m",
      "\u001b[1;31mKeyError\u001b[0m                                  Traceback (most recent call last)",
      "\u001b[1;32m<expression>\u001b[0m in \u001b[0;36m<module>\u001b[1;34m()\u001b[0m\n",
      "\u001b[1;32m<string>\u001b[0m in \u001b[0;36mCalcF1\u001b[1;34m(SGCL)\u001b[0m\n",
      "\u001b[1;31mKeyError\u001b[0m: None"
     ]
    },
    {
     "ename": "KeyError",
     "evalue": "None",
     "output_type": "error",
     "traceback": [
      "\u001b[1;31m---------------------------------------------------------------------------\u001b[0m",
      "\u001b[1;31mKeyError\u001b[0m                                  Traceback (most recent call last)",
      "\u001b[1;32m<expression>\u001b[0m in \u001b[0;36m<module>\u001b[1;34m()\u001b[0m\n",
      "\u001b[1;32m<string>\u001b[0m in \u001b[0;36mCalcF1\u001b[1;34m(SGCL)\u001b[0m\n",
      "\u001b[1;31mKeyError\u001b[0m: None"
     ]
    },
    {
     "ename": "KeyError",
     "evalue": "None",
     "output_type": "error",
     "traceback": [
      "\u001b[1;31m---------------------------------------------------------------------------\u001b[0m",
      "\u001b[1;31mKeyError\u001b[0m                                  Traceback (most recent call last)",
      "\u001b[1;32m<expression>\u001b[0m in \u001b[0;36m<module>\u001b[1;34m()\u001b[0m\n",
      "\u001b[1;32m<string>\u001b[0m in \u001b[0;36mCalcF1\u001b[1;34m(SGCL)\u001b[0m\n",
      "\u001b[1;31mKeyError\u001b[0m: None"
     ]
    },
    {
     "ename": "KeyError",
     "evalue": "None",
     "output_type": "error",
     "traceback": [
      "\u001b[1;31m---------------------------------------------------------------------------\u001b[0m",
      "\u001b[1;31mKeyError\u001b[0m                                  Traceback (most recent call last)",
      "\u001b[1;32m<expression>\u001b[0m in \u001b[0;36m<module>\u001b[1;34m()\u001b[0m\n",
      "\u001b[1;32m<string>\u001b[0m in \u001b[0;36mCalcF1\u001b[1;34m(SGCL)\u001b[0m\n",
      "\u001b[1;31mKeyError\u001b[0m: None"
     ]
    },
    {
     "ename": "KeyError",
     "evalue": "None",
     "output_type": "error",
     "traceback": [
      "\u001b[1;31m---------------------------------------------------------------------------\u001b[0m",
      "\u001b[1;31mKeyError\u001b[0m                                  Traceback (most recent call last)",
      "\u001b[1;32m<expression>\u001b[0m in \u001b[0;36m<module>\u001b[1;34m()\u001b[0m\n",
      "\u001b[1;32m<string>\u001b[0m in \u001b[0;36mCalcF1\u001b[1;34m(SGCL)\u001b[0m\n",
      "\u001b[1;31mKeyError\u001b[0m: None"
     ]
    },
    {
     "ename": "KeyError",
     "evalue": "None",
     "output_type": "error",
     "traceback": [
      "\u001b[1;31m---------------------------------------------------------------------------\u001b[0m",
      "\u001b[1;31mKeyError\u001b[0m                                  Traceback (most recent call last)",
      "\u001b[1;32m<expression>\u001b[0m in \u001b[0;36m<module>\u001b[1;34m()\u001b[0m\n",
      "\u001b[1;32m<string>\u001b[0m in \u001b[0;36mCalcF1\u001b[1;34m(SGCL)\u001b[0m\n",
      "\u001b[1;31mKeyError\u001b[0m: None"
     ]
    },
    {
     "ename": "KeyError",
     "evalue": "None",
     "output_type": "error",
     "traceback": [
      "\u001b[1;31m---------------------------------------------------------------------------\u001b[0m",
      "\u001b[1;31mKeyError\u001b[0m                                  Traceback (most recent call last)",
      "\u001b[1;32m<expression>\u001b[0m in \u001b[0;36m<module>\u001b[1;34m()\u001b[0m\n",
      "\u001b[1;32m<string>\u001b[0m in \u001b[0;36mCalcF1\u001b[1;34m(SGCL)\u001b[0m\n",
      "\u001b[1;31mKeyError\u001b[0m: None"
     ]
    },
    {
     "ename": "KeyError",
     "evalue": "None",
     "output_type": "error",
     "traceback": [
      "\u001b[1;31m---------------------------------------------------------------------------\u001b[0m",
      "\u001b[1;31mKeyError\u001b[0m                                  Traceback (most recent call last)",
      "\u001b[1;32m<expression>\u001b[0m in \u001b[0;36m<module>\u001b[1;34m()\u001b[0m\n",
      "\u001b[1;32m<string>\u001b[0m in \u001b[0;36mCalcF1\u001b[1;34m(SGCL)\u001b[0m\n",
      "\u001b[1;31mKeyError\u001b[0m: None"
     ]
    },
    {
     "ename": "KeyError",
     "evalue": "None",
     "output_type": "error",
     "traceback": [
      "\u001b[1;31m---------------------------------------------------------------------------\u001b[0m",
      "\u001b[1;31mKeyError\u001b[0m                                  Traceback (most recent call last)",
      "\u001b[1;32m<expression>\u001b[0m in \u001b[0;36m<module>\u001b[1;34m()\u001b[0m\n",
      "\u001b[1;32m<string>\u001b[0m in \u001b[0;36mCalcF1\u001b[1;34m(SGCL)\u001b[0m\n",
      "\u001b[1;31mKeyError\u001b[0m: None"
     ]
    },
    {
     "ename": "KeyError",
     "evalue": "None",
     "output_type": "error",
     "traceback": [
      "\u001b[1;31m---------------------------------------------------------------------------\u001b[0m",
      "\u001b[1;31mKeyError\u001b[0m                                  Traceback (most recent call last)",
      "\u001b[1;32m<expression>\u001b[0m in \u001b[0;36m<module>\u001b[1;34m()\u001b[0m\n",
      "\u001b[1;32m<string>\u001b[0m in \u001b[0;36mCalcF1\u001b[1;34m(SGCL)\u001b[0m\n",
      "\u001b[1;31mKeyError\u001b[0m: None"
     ]
    },
    {
     "ename": "KeyError",
     "evalue": "None",
     "output_type": "error",
     "traceback": [
      "\u001b[1;31m---------------------------------------------------------------------------\u001b[0m",
      "\u001b[1;31mKeyError\u001b[0m                                  Traceback (most recent call last)",
      "\u001b[1;32m<expression>\u001b[0m in \u001b[0;36m<module>\u001b[1;34m()\u001b[0m\n",
      "\u001b[1;32m<string>\u001b[0m in \u001b[0;36mCalcF1\u001b[1;34m(SGCL)\u001b[0m\n",
      "\u001b[1;31mKeyError\u001b[0m: None"
     ]
    },
    {
     "ename": "KeyError",
     "evalue": "None",
     "output_type": "error",
     "traceback": [
      "\u001b[1;31m---------------------------------------------------------------------------\u001b[0m",
      "\u001b[1;31mKeyError\u001b[0m                                  Traceback (most recent call last)",
      "\u001b[1;32m<expression>\u001b[0m in \u001b[0;36m<module>\u001b[1;34m()\u001b[0m\n",
      "\u001b[1;32m<string>\u001b[0m in \u001b[0;36mCalcF1\u001b[1;34m(SGCL)\u001b[0m\n",
      "\u001b[1;31mKeyError\u001b[0m: None"
     ]
    },
    {
     "ename": "KeyError",
     "evalue": "None",
     "output_type": "error",
     "traceback": [
      "\u001b[1;31m---------------------------------------------------------------------------\u001b[0m",
      "\u001b[1;31mKeyError\u001b[0m                                  Traceback (most recent call last)",
      "\u001b[1;32m<expression>\u001b[0m in \u001b[0;36m<module>\u001b[1;34m()\u001b[0m\n",
      "\u001b[1;32m<string>\u001b[0m in \u001b[0;36mCalcF1\u001b[1;34m(SGCL)\u001b[0m\n",
      "\u001b[1;31mKeyError\u001b[0m: None"
     ]
    },
    {
     "ename": "KeyError",
     "evalue": "None",
     "output_type": "error",
     "traceback": [
      "\u001b[1;31m---------------------------------------------------------------------------\u001b[0m",
      "\u001b[1;31mKeyError\u001b[0m                                  Traceback (most recent call last)",
      "\u001b[1;32m<expression>\u001b[0m in \u001b[0;36m<module>\u001b[1;34m()\u001b[0m\n",
      "\u001b[1;32m<string>\u001b[0m in \u001b[0;36mCalcF1\u001b[1;34m(SGCL)\u001b[0m\n",
      "\u001b[1;31mKeyError\u001b[0m: None"
     ]
    },
    {
     "ename": "KeyError",
     "evalue": "None",
     "output_type": "error",
     "traceback": [
      "\u001b[1;31m---------------------------------------------------------------------------\u001b[0m",
      "\u001b[1;31mKeyError\u001b[0m                                  Traceback (most recent call last)",
      "\u001b[1;32m<expression>\u001b[0m in \u001b[0;36m<module>\u001b[1;34m()\u001b[0m\n",
      "\u001b[1;32m<string>\u001b[0m in \u001b[0;36mCalcF1\u001b[1;34m(SGCL)\u001b[0m\n",
      "\u001b[1;31mKeyError\u001b[0m: None"
     ]
    },
    {
     "ename": "KeyError",
     "evalue": "None",
     "output_type": "error",
     "traceback": [
      "\u001b[1;31m---------------------------------------------------------------------------\u001b[0m",
      "\u001b[1;31mKeyError\u001b[0m                                  Traceback (most recent call last)",
      "\u001b[1;32m<expression>\u001b[0m in \u001b[0;36m<module>\u001b[1;34m()\u001b[0m\n",
      "\u001b[1;32m<string>\u001b[0m in \u001b[0;36mCalcF1\u001b[1;34m(SGCL)\u001b[0m\n",
      "\u001b[1;31mKeyError\u001b[0m: None"
     ]
    },
    {
     "ename": "KeyError",
     "evalue": "None",
     "output_type": "error",
     "traceback": [
      "\u001b[1;31m---------------------------------------------------------------------------\u001b[0m",
      "\u001b[1;31mKeyError\u001b[0m                                  Traceback (most recent call last)",
      "\u001b[1;32m<expression>\u001b[0m in \u001b[0;36m<module>\u001b[1;34m()\u001b[0m\n",
      "\u001b[1;32m<string>\u001b[0m in \u001b[0;36mCalcF1\u001b[1;34m(SGCL)\u001b[0m\n",
      "\u001b[1;31mKeyError\u001b[0m: None"
     ]
    },
    {
     "ename": "KeyError",
     "evalue": "None",
     "output_type": "error",
     "traceback": [
      "\u001b[1;31m---------------------------------------------------------------------------\u001b[0m",
      "\u001b[1;31mKeyError\u001b[0m                                  Traceback (most recent call last)",
      "\u001b[1;32m<expression>\u001b[0m in \u001b[0;36m<module>\u001b[1;34m()\u001b[0m\n",
      "\u001b[1;32m<string>\u001b[0m in \u001b[0;36mCalcF1\u001b[1;34m(SGCL)\u001b[0m\n",
      "\u001b[1;31mKeyError\u001b[0m: None"
     ]
    },
    {
     "ename": "KeyError",
     "evalue": "None",
     "output_type": "error",
     "traceback": [
      "\u001b[1;31m---------------------------------------------------------------------------\u001b[0m",
      "\u001b[1;31mKeyError\u001b[0m                                  Traceback (most recent call last)",
      "\u001b[1;32m<expression>\u001b[0m in \u001b[0;36m<module>\u001b[1;34m()\u001b[0m\n",
      "\u001b[1;32m<string>\u001b[0m in \u001b[0;36mCalcF1\u001b[1;34m(SGCL)\u001b[0m\n",
      "\u001b[1;31mKeyError\u001b[0m: None"
     ]
    },
    {
     "ename": "KeyError",
     "evalue": "None",
     "output_type": "error",
     "traceback": [
      "\u001b[1;31m---------------------------------------------------------------------------\u001b[0m",
      "\u001b[1;31mKeyError\u001b[0m                                  Traceback (most recent call last)",
      "\u001b[1;32m<expression>\u001b[0m in \u001b[0;36m<module>\u001b[1;34m()\u001b[0m\n",
      "\u001b[1;32m<string>\u001b[0m in \u001b[0;36mCalcF1\u001b[1;34m(SGCL)\u001b[0m\n",
      "\u001b[1;31mKeyError\u001b[0m: None"
     ]
    },
    {
     "ename": "KeyError",
     "evalue": "None",
     "output_type": "error",
     "traceback": [
      "\u001b[1;31m---------------------------------------------------------------------------\u001b[0m",
      "\u001b[1;31mKeyError\u001b[0m                                  Traceback (most recent call last)",
      "\u001b[1;32m<expression>\u001b[0m in \u001b[0;36m<module>\u001b[1;34m()\u001b[0m\n",
      "\u001b[1;32m<string>\u001b[0m in \u001b[0;36mCalcF1\u001b[1;34m(SGCL)\u001b[0m\n",
      "\u001b[1;31mKeyError\u001b[0m: None"
     ]
    },
    {
     "ename": "KeyError",
     "evalue": "None",
     "output_type": "error",
     "traceback": [
      "\u001b[1;31m---------------------------------------------------------------------------\u001b[0m",
      "\u001b[1;31mKeyError\u001b[0m                                  Traceback (most recent call last)",
      "\u001b[1;32m<expression>\u001b[0m in \u001b[0;36m<module>\u001b[1;34m()\u001b[0m\n",
      "\u001b[1;32m<string>\u001b[0m in \u001b[0;36mCalcF1\u001b[1;34m(SGCL)\u001b[0m\n",
      "\u001b[1;31mKeyError\u001b[0m: None"
     ]
    },
    {
     "ename": "KeyError",
     "evalue": "None",
     "output_type": "error",
     "traceback": [
      "\u001b[1;31m---------------------------------------------------------------------------\u001b[0m",
      "\u001b[1;31mKeyError\u001b[0m                                  Traceback (most recent call last)",
      "\u001b[1;32m<expression>\u001b[0m in \u001b[0;36m<module>\u001b[1;34m()\u001b[0m\n",
      "\u001b[1;32m<string>\u001b[0m in \u001b[0;36mCalcF1\u001b[1;34m(SGCL)\u001b[0m\n",
      "\u001b[1;31mKeyError\u001b[0m: None"
     ]
    },
    {
     "ename": "KeyError",
     "evalue": "None",
     "output_type": "error",
     "traceback": [
      "\u001b[1;31m---------------------------------------------------------------------------\u001b[0m",
      "\u001b[1;31mKeyError\u001b[0m                                  Traceback (most recent call last)",
      "\u001b[1;32m<expression>\u001b[0m in \u001b[0;36m<module>\u001b[1;34m()\u001b[0m\n",
      "\u001b[1;32m<string>\u001b[0m in \u001b[0;36mCalcF1\u001b[1;34m(SGCL)\u001b[0m\n",
      "\u001b[1;31mKeyError\u001b[0m: None"
     ]
    },
    {
     "ename": "KeyError",
     "evalue": "None",
     "output_type": "error",
     "traceback": [
      "\u001b[1;31m---------------------------------------------------------------------------\u001b[0m",
      "\u001b[1;31mKeyError\u001b[0m                                  Traceback (most recent call last)",
      "\u001b[1;32m<expression>\u001b[0m in \u001b[0;36m<module>\u001b[1;34m()\u001b[0m\n",
      "\u001b[1;32m<string>\u001b[0m in \u001b[0;36mCalcF1\u001b[1;34m(SGCL)\u001b[0m\n",
      "\u001b[1;31mKeyError\u001b[0m: None"
     ]
    },
    {
     "ename": "KeyError",
     "evalue": "None",
     "output_type": "error",
     "traceback": [
      "\u001b[1;31m---------------------------------------------------------------------------\u001b[0m",
      "\u001b[1;31mKeyError\u001b[0m                                  Traceback (most recent call last)",
      "\u001b[1;32m<expression>\u001b[0m in \u001b[0;36m<module>\u001b[1;34m()\u001b[0m\n",
      "\u001b[1;32m<string>\u001b[0m in \u001b[0;36mCalcF1\u001b[1;34m(SGCL)\u001b[0m\n",
      "\u001b[1;31mKeyError\u001b[0m: None"
     ]
    },
    {
     "ename": "KeyError",
     "evalue": "None",
     "output_type": "error",
     "traceback": [
      "\u001b[1;31m---------------------------------------------------------------------------\u001b[0m",
      "\u001b[1;31mKeyError\u001b[0m                                  Traceback (most recent call last)",
      "\u001b[1;32m<expression>\u001b[0m in \u001b[0;36m<module>\u001b[1;34m()\u001b[0m\n",
      "\u001b[1;32m<string>\u001b[0m in \u001b[0;36mCalcF1\u001b[1;34m(SGCL)\u001b[0m\n",
      "\u001b[1;31mKeyError\u001b[0m: None"
     ]
    },
    {
     "ename": "KeyError",
     "evalue": "None",
     "output_type": "error",
     "traceback": [
      "\u001b[1;31m---------------------------------------------------------------------------\u001b[0m",
      "\u001b[1;31mKeyError\u001b[0m                                  Traceback (most recent call last)",
      "\u001b[1;32m<expression>\u001b[0m in \u001b[0;36m<module>\u001b[1;34m()\u001b[0m\n",
      "\u001b[1;32m<string>\u001b[0m in \u001b[0;36mCalcF1\u001b[1;34m(SGCL)\u001b[0m\n",
      "\u001b[1;31mKeyError\u001b[0m: None"
     ]
    },
    {
     "ename": "KeyError",
     "evalue": "None",
     "output_type": "error",
     "traceback": [
      "\u001b[1;31m---------------------------------------------------------------------------\u001b[0m",
      "\u001b[1;31mKeyError\u001b[0m                                  Traceback (most recent call last)",
      "\u001b[1;32m<expression>\u001b[0m in \u001b[0;36m<module>\u001b[1;34m()\u001b[0m\n",
      "\u001b[1;32m<string>\u001b[0m in \u001b[0;36mCalcF1\u001b[1;34m(SGCL)\u001b[0m\n",
      "\u001b[1;31mKeyError\u001b[0m: None"
     ]
    },
    {
     "ename": "KeyError",
     "evalue": "None",
     "output_type": "error",
     "traceback": [
      "\u001b[1;31m---------------------------------------------------------------------------\u001b[0m",
      "\u001b[1;31mKeyError\u001b[0m                                  Traceback (most recent call last)",
      "\u001b[1;32m<expression>\u001b[0m in \u001b[0;36m<module>\u001b[1;34m()\u001b[0m\n",
      "\u001b[1;32m<string>\u001b[0m in \u001b[0;36mCalcF1\u001b[1;34m(SGCL)\u001b[0m\n",
      "\u001b[1;31mKeyError\u001b[0m: None"
     ]
    },
    {
     "ename": "KeyError",
     "evalue": "None",
     "output_type": "error",
     "traceback": [
      "\u001b[1;31m---------------------------------------------------------------------------\u001b[0m",
      "\u001b[1;31mKeyError\u001b[0m                                  Traceback (most recent call last)",
      "\u001b[1;32m<expression>\u001b[0m in \u001b[0;36m<module>\u001b[1;34m()\u001b[0m\n",
      "\u001b[1;32m<string>\u001b[0m in \u001b[0;36mCalcF1\u001b[1;34m(SGCL)\u001b[0m\n",
      "\u001b[1;31mKeyError\u001b[0m: None"
     ]
    },
    {
     "ename": "KeyError",
     "evalue": "None",
     "output_type": "error",
     "traceback": [
      "\u001b[1;31m---------------------------------------------------------------------------\u001b[0m",
      "\u001b[1;31mKeyError\u001b[0m                                  Traceback (most recent call last)",
      "\u001b[1;32m<expression>\u001b[0m in \u001b[0;36m<module>\u001b[1;34m()\u001b[0m\n",
      "\u001b[1;32m<string>\u001b[0m in \u001b[0;36mCalcF1\u001b[1;34m(SGCL)\u001b[0m\n",
      "\u001b[1;31mKeyError\u001b[0m: None"
     ]
    },
    {
     "ename": "KeyError",
     "evalue": "None",
     "output_type": "error",
     "traceback": [
      "\u001b[1;31m---------------------------------------------------------------------------\u001b[0m",
      "\u001b[1;31mKeyError\u001b[0m                                  Traceback (most recent call last)",
      "\u001b[1;32m<expression>\u001b[0m in \u001b[0;36m<module>\u001b[1;34m()\u001b[0m\n",
      "\u001b[1;32m<string>\u001b[0m in \u001b[0;36mCalcF1\u001b[1;34m(SGCL)\u001b[0m\n",
      "\u001b[1;31mKeyError\u001b[0m: None"
     ]
    },
    {
     "ename": "KeyError",
     "evalue": "None",
     "output_type": "error",
     "traceback": [
      "\u001b[1;31m---------------------------------------------------------------------------\u001b[0m",
      "\u001b[1;31mKeyError\u001b[0m                                  Traceback (most recent call last)",
      "\u001b[1;32m<expression>\u001b[0m in \u001b[0;36m<module>\u001b[1;34m()\u001b[0m\n",
      "\u001b[1;32m<string>\u001b[0m in \u001b[0;36mCalcF1\u001b[1;34m(SGCL)\u001b[0m\n",
      "\u001b[1;31mKeyError\u001b[0m: None"
     ]
    },
    {
     "ename": "KeyError",
     "evalue": "None",
     "output_type": "error",
     "traceback": [
      "\u001b[1;31m---------------------------------------------------------------------------\u001b[0m",
      "\u001b[1;31mKeyError\u001b[0m                                  Traceback (most recent call last)",
      "\u001b[1;32m<expression>\u001b[0m in \u001b[0;36m<module>\u001b[1;34m()\u001b[0m\n",
      "\u001b[1;32m<string>\u001b[0m in \u001b[0;36mCalcF1\u001b[1;34m(SGCL)\u001b[0m\n",
      "\u001b[1;31mKeyError\u001b[0m: None"
     ]
    },
    {
     "ename": "KeyError",
     "evalue": "None",
     "output_type": "error",
     "traceback": [
      "\u001b[1;31m---------------------------------------------------------------------------\u001b[0m",
      "\u001b[1;31mKeyError\u001b[0m                                  Traceback (most recent call last)",
      "\u001b[1;32m<expression>\u001b[0m in \u001b[0;36m<module>\u001b[1;34m()\u001b[0m\n",
      "\u001b[1;32m<string>\u001b[0m in \u001b[0;36mCalcF1\u001b[1;34m(SGCL)\u001b[0m\n",
      "\u001b[1;31mKeyError\u001b[0m: None"
     ]
    },
    {
     "ename": "KeyError",
     "evalue": "None",
     "output_type": "error",
     "traceback": [
      "\u001b[1;31m---------------------------------------------------------------------------\u001b[0m",
      "\u001b[1;31mKeyError\u001b[0m                                  Traceback (most recent call last)",
      "\u001b[1;32m<expression>\u001b[0m in \u001b[0;36m<module>\u001b[1;34m()\u001b[0m\n",
      "\u001b[1;32m<string>\u001b[0m in \u001b[0;36mCalcF1\u001b[1;34m(SGCL)\u001b[0m\n",
      "\u001b[1;31mKeyError\u001b[0m: None"
     ]
    },
    {
     "ename": "KeyError",
     "evalue": "None",
     "output_type": "error",
     "traceback": [
      "\u001b[1;31m---------------------------------------------------------------------------\u001b[0m",
      "\u001b[1;31mKeyError\u001b[0m                                  Traceback (most recent call last)",
      "\u001b[1;32m<expression>\u001b[0m in \u001b[0;36m<module>\u001b[1;34m()\u001b[0m\n",
      "\u001b[1;32m<string>\u001b[0m in \u001b[0;36mCalcF1\u001b[1;34m(SGCL)\u001b[0m\n",
      "\u001b[1;31mKeyError\u001b[0m: None"
     ]
    },
    {
     "ename": "KeyError",
     "evalue": "None",
     "output_type": "error",
     "traceback": [
      "\u001b[1;31m---------------------------------------------------------------------------\u001b[0m",
      "\u001b[1;31mKeyError\u001b[0m                                  Traceback (most recent call last)",
      "\u001b[1;32m<expression>\u001b[0m in \u001b[0;36m<module>\u001b[1;34m()\u001b[0m\n",
      "\u001b[1;32m<string>\u001b[0m in \u001b[0;36mCalcF1\u001b[1;34m(SGCL)\u001b[0m\n",
      "\u001b[1;31mKeyError\u001b[0m: None"
     ]
    },
    {
     "ename": "KeyError",
     "evalue": "None",
     "output_type": "error",
     "traceback": [
      "\u001b[1;31m---------------------------------------------------------------------------\u001b[0m",
      "\u001b[1;31mKeyError\u001b[0m                                  Traceback (most recent call last)",
      "\u001b[1;32m<expression>\u001b[0m in \u001b[0;36m<module>\u001b[1;34m()\u001b[0m\n",
      "\u001b[1;32m<string>\u001b[0m in \u001b[0;36mCalcF1\u001b[1;34m(SGCL)\u001b[0m\n",
      "\u001b[1;31mKeyError\u001b[0m: None"
     ]
    },
    {
     "ename": "KeyError",
     "evalue": "None",
     "output_type": "error",
     "traceback": [
      "\u001b[1;31m---------------------------------------------------------------------------\u001b[0m",
      "\u001b[1;31mKeyError\u001b[0m                                  Traceback (most recent call last)",
      "\u001b[1;32m<expression>\u001b[0m in \u001b[0;36m<module>\u001b[1;34m()\u001b[0m\n",
      "\u001b[1;32m<string>\u001b[0m in \u001b[0;36mCalcF1\u001b[1;34m(SGCL)\u001b[0m\n",
      "\u001b[1;31mKeyError\u001b[0m: None"
     ]
    },
    {
     "ename": "KeyError",
     "evalue": "None",
     "output_type": "error",
     "traceback": [
      "\u001b[1;31m---------------------------------------------------------------------------\u001b[0m",
      "\u001b[1;31mKeyError\u001b[0m                                  Traceback (most recent call last)",
      "\u001b[1;32m<expression>\u001b[0m in \u001b[0;36m<module>\u001b[1;34m()\u001b[0m\n",
      "\u001b[1;32m<string>\u001b[0m in \u001b[0;36mCalcF1\u001b[1;34m(SGCL)\u001b[0m\n",
      "\u001b[1;31mKeyError\u001b[0m: None"
     ]
    },
    {
     "ename": "KeyError",
     "evalue": "None",
     "output_type": "error",
     "traceback": [
      "\u001b[1;31m---------------------------------------------------------------------------\u001b[0m",
      "\u001b[1;31mKeyError\u001b[0m                                  Traceback (most recent call last)",
      "\u001b[1;32m<expression>\u001b[0m in \u001b[0;36m<module>\u001b[1;34m()\u001b[0m\n",
      "\u001b[1;32m<string>\u001b[0m in \u001b[0;36mCalcF1\u001b[1;34m(SGCL)\u001b[0m\n",
      "\u001b[1;31mKeyError\u001b[0m: None"
     ]
    },
    {
     "ename": "KeyError",
     "evalue": "None",
     "output_type": "error",
     "traceback": [
      "\u001b[1;31m---------------------------------------------------------------------------\u001b[0m",
      "\u001b[1;31mKeyError\u001b[0m                                  Traceback (most recent call last)",
      "\u001b[1;32m<expression>\u001b[0m in \u001b[0;36m<module>\u001b[1;34m()\u001b[0m\n",
      "\u001b[1;32m<string>\u001b[0m in \u001b[0;36mCalcF1\u001b[1;34m(SGCL)\u001b[0m\n",
      "\u001b[1;31mKeyError\u001b[0m: None"
     ]
    },
    {
     "ename": "KeyError",
     "evalue": "None",
     "output_type": "error",
     "traceback": [
      "\u001b[1;31m---------------------------------------------------------------------------\u001b[0m",
      "\u001b[1;31mKeyError\u001b[0m                                  Traceback (most recent call last)",
      "\u001b[1;32m<expression>\u001b[0m in \u001b[0;36m<module>\u001b[1;34m()\u001b[0m\n",
      "\u001b[1;32m<string>\u001b[0m in \u001b[0;36mCalcF1\u001b[1;34m(SGCL)\u001b[0m\n",
      "\u001b[1;31mKeyError\u001b[0m: None"
     ]
    },
    {
     "ename": "KeyError",
     "evalue": "None",
     "output_type": "error",
     "traceback": [
      "\u001b[1;31m---------------------------------------------------------------------------\u001b[0m",
      "\u001b[1;31mKeyError\u001b[0m                                  Traceback (most recent call last)",
      "\u001b[1;32m<expression>\u001b[0m in \u001b[0;36m<module>\u001b[1;34m()\u001b[0m\n",
      "\u001b[1;32m<string>\u001b[0m in \u001b[0;36mCalcF1\u001b[1;34m(SGCL)\u001b[0m\n",
      "\u001b[1;31mKeyError\u001b[0m: None"
     ]
    },
    {
     "ename": "KeyError",
     "evalue": "None",
     "output_type": "error",
     "traceback": [
      "\u001b[1;31m---------------------------------------------------------------------------\u001b[0m",
      "\u001b[1;31mKeyError\u001b[0m                                  Traceback (most recent call last)",
      "\u001b[1;32m<expression>\u001b[0m in \u001b[0;36m<module>\u001b[1;34m()\u001b[0m\n",
      "\u001b[1;32m<string>\u001b[0m in \u001b[0;36mCalcF1\u001b[1;34m(SGCL)\u001b[0m\n",
      "\u001b[1;31mKeyError\u001b[0m: None"
     ]
    },
    {
     "ename": "KeyError",
     "evalue": "None",
     "output_type": "error",
     "traceback": [
      "\u001b[1;31m---------------------------------------------------------------------------\u001b[0m",
      "\u001b[1;31mKeyError\u001b[0m                                  Traceback (most recent call last)",
      "\u001b[1;32m<expression>\u001b[0m in \u001b[0;36m<module>\u001b[1;34m()\u001b[0m\n",
      "\u001b[1;32m<string>\u001b[0m in \u001b[0;36mCalcF1\u001b[1;34m(SGCL)\u001b[0m\n",
      "\u001b[1;31mKeyError\u001b[0m: None"
     ]
    },
    {
     "ename": "KeyError",
     "evalue": "None",
     "output_type": "error",
     "traceback": [
      "\u001b[1;31m---------------------------------------------------------------------------\u001b[0m",
      "\u001b[1;31mKeyError\u001b[0m                                  Traceback (most recent call last)",
      "\u001b[1;32m<expression>\u001b[0m in \u001b[0;36m<module>\u001b[1;34m()\u001b[0m\n",
      "\u001b[1;32m<string>\u001b[0m in \u001b[0;36mCalcF1\u001b[1;34m(SGCL)\u001b[0m\n",
      "\u001b[1;31mKeyError\u001b[0m: None"
     ]
    },
    {
     "ename": "KeyError",
     "evalue": "None",
     "output_type": "error",
     "traceback": [
      "\u001b[1;31m---------------------------------------------------------------------------\u001b[0m",
      "\u001b[1;31mKeyError\u001b[0m                                  Traceback (most recent call last)",
      "\u001b[1;32m<expression>\u001b[0m in \u001b[0;36m<module>\u001b[1;34m()\u001b[0m\n",
      "\u001b[1;32m<string>\u001b[0m in \u001b[0;36mCalcF1\u001b[1;34m(SGCL)\u001b[0m\n",
      "\u001b[1;31mKeyError\u001b[0m: None"
     ]
    },
    {
     "ename": "KeyError",
     "evalue": "None",
     "output_type": "error",
     "traceback": [
      "\u001b[1;31m---------------------------------------------------------------------------\u001b[0m",
      "\u001b[1;31mKeyError\u001b[0m                                  Traceback (most recent call last)",
      "\u001b[1;32m<expression>\u001b[0m in \u001b[0;36m<module>\u001b[1;34m()\u001b[0m\n",
      "\u001b[1;32m<string>\u001b[0m in \u001b[0;36mCalcF1\u001b[1;34m(SGCL)\u001b[0m\n",
      "\u001b[1;31mKeyError\u001b[0m: None"
     ]
    },
    {
     "ename": "KeyError",
     "evalue": "None",
     "output_type": "error",
     "traceback": [
      "\u001b[1;31m---------------------------------------------------------------------------\u001b[0m",
      "\u001b[1;31mKeyError\u001b[0m                                  Traceback (most recent call last)",
      "\u001b[1;32m<expression>\u001b[0m in \u001b[0;36m<module>\u001b[1;34m()\u001b[0m\n",
      "\u001b[1;32m<string>\u001b[0m in \u001b[0;36mCalcF1\u001b[1;34m(SGCL)\u001b[0m\n",
      "\u001b[1;31mKeyError\u001b[0m: None"
     ]
    },
    {
     "ename": "KeyError",
     "evalue": "None",
     "output_type": "error",
     "traceback": [
      "\u001b[1;31m---------------------------------------------------------------------------\u001b[0m",
      "\u001b[1;31mKeyError\u001b[0m                                  Traceback (most recent call last)",
      "\u001b[1;32m<expression>\u001b[0m in \u001b[0;36m<module>\u001b[1;34m()\u001b[0m\n",
      "\u001b[1;32m<string>\u001b[0m in \u001b[0;36mCalcF1\u001b[1;34m(SGCL)\u001b[0m\n",
      "\u001b[1;31mKeyError\u001b[0m: None"
     ]
    },
    {
     "ename": "KeyError",
     "evalue": "None",
     "output_type": "error",
     "traceback": [
      "\u001b[1;31m---------------------------------------------------------------------------\u001b[0m",
      "\u001b[1;31mKeyError\u001b[0m                                  Traceback (most recent call last)",
      "\u001b[1;32m<expression>\u001b[0m in \u001b[0;36m<module>\u001b[1;34m()\u001b[0m\n",
      "\u001b[1;32m<string>\u001b[0m in \u001b[0;36mCalcF1\u001b[1;34m(SGCL)\u001b[0m\n",
      "\u001b[1;31mKeyError\u001b[0m: None"
     ]
    },
    {
     "ename": "KeyError",
     "evalue": "None",
     "output_type": "error",
     "traceback": [
      "\u001b[1;31m---------------------------------------------------------------------------\u001b[0m",
      "\u001b[1;31mKeyError\u001b[0m                                  Traceback (most recent call last)",
      "\u001b[1;32m<expression>\u001b[0m in \u001b[0;36m<module>\u001b[1;34m()\u001b[0m\n",
      "\u001b[1;32m<string>\u001b[0m in \u001b[0;36mCalcF1\u001b[1;34m(SGCL)\u001b[0m\n",
      "\u001b[1;31mKeyError\u001b[0m: None"
     ]
    },
    {
     "ename": "KeyError",
     "evalue": "None",
     "output_type": "error",
     "traceback": [
      "\u001b[1;31m---------------------------------------------------------------------------\u001b[0m",
      "\u001b[1;31mKeyError\u001b[0m                                  Traceback (most recent call last)",
      "\u001b[1;32m<expression>\u001b[0m in \u001b[0;36m<module>\u001b[1;34m()\u001b[0m\n",
      "\u001b[1;32m<string>\u001b[0m in \u001b[0;36mCalcF1\u001b[1;34m(SGCL)\u001b[0m\n",
      "\u001b[1;31mKeyError\u001b[0m: None"
     ]
    },
    {
     "ename": "KeyError",
     "evalue": "None",
     "output_type": "error",
     "traceback": [
      "\u001b[1;31m---------------------------------------------------------------------------\u001b[0m",
      "\u001b[1;31mKeyError\u001b[0m                                  Traceback (most recent call last)",
      "\u001b[1;32m<expression>\u001b[0m in \u001b[0;36m<module>\u001b[1;34m()\u001b[0m\n",
      "\u001b[1;32m<string>\u001b[0m in \u001b[0;36mCalcF1\u001b[1;34m(SGCL)\u001b[0m\n",
      "\u001b[1;31mKeyError\u001b[0m: None"
     ]
    },
    {
     "ename": "KeyError",
     "evalue": "None",
     "output_type": "error",
     "traceback": [
      "\u001b[1;31m---------------------------------------------------------------------------\u001b[0m",
      "\u001b[1;31mKeyError\u001b[0m                                  Traceback (most recent call last)",
      "\u001b[1;32m<expression>\u001b[0m in \u001b[0;36m<module>\u001b[1;34m()\u001b[0m\n",
      "\u001b[1;32m<string>\u001b[0m in \u001b[0;36mCalcF1\u001b[1;34m(SGCL)\u001b[0m\n",
      "\u001b[1;31mKeyError\u001b[0m: None"
     ]
    },
    {
     "ename": "KeyError",
     "evalue": "None",
     "output_type": "error",
     "traceback": [
      "\u001b[1;31m---------------------------------------------------------------------------\u001b[0m",
      "\u001b[1;31mKeyError\u001b[0m                                  Traceback (most recent call last)",
      "\u001b[1;32m<expression>\u001b[0m in \u001b[0;36m<module>\u001b[1;34m()\u001b[0m\n",
      "\u001b[1;32m<string>\u001b[0m in \u001b[0;36mCalcF1\u001b[1;34m(SGCL)\u001b[0m\n",
      "\u001b[1;31mKeyError\u001b[0m: None"
     ]
    },
    {
     "ename": "KeyError",
     "evalue": "None",
     "output_type": "error",
     "traceback": [
      "\u001b[1;31m---------------------------------------------------------------------------\u001b[0m",
      "\u001b[1;31mKeyError\u001b[0m                                  Traceback (most recent call last)",
      "\u001b[1;32m<expression>\u001b[0m in \u001b[0;36m<module>\u001b[1;34m()\u001b[0m\n",
      "\u001b[1;32m<string>\u001b[0m in \u001b[0;36mCalcF1\u001b[1;34m(SGCL)\u001b[0m\n",
      "\u001b[1;31mKeyError\u001b[0m: None"
     ]
    },
    {
     "ename": "KeyError",
     "evalue": "None",
     "output_type": "error",
     "traceback": [
      "\u001b[1;31m---------------------------------------------------------------------------\u001b[0m",
      "\u001b[1;31mKeyError\u001b[0m                                  Traceback (most recent call last)",
      "\u001b[1;32m<expression>\u001b[0m in \u001b[0;36m<module>\u001b[1;34m()\u001b[0m\n",
      "\u001b[1;32m<string>\u001b[0m in \u001b[0;36mCalcF1\u001b[1;34m(SGCL)\u001b[0m\n",
      "\u001b[1;31mKeyError\u001b[0m: None"
     ]
    },
    {
     "ename": "KeyError",
     "evalue": "None",
     "output_type": "error",
     "traceback": [
      "\u001b[1;31m---------------------------------------------------------------------------\u001b[0m",
      "\u001b[1;31mKeyError\u001b[0m                                  Traceback (most recent call last)",
      "\u001b[1;32m<expression>\u001b[0m in \u001b[0;36m<module>\u001b[1;34m()\u001b[0m\n",
      "\u001b[1;32m<string>\u001b[0m in \u001b[0;36mCalcF1\u001b[1;34m(SGCL)\u001b[0m\n",
      "\u001b[1;31mKeyError\u001b[0m: None"
     ]
    },
    {
     "ename": "KeyError",
     "evalue": "None",
     "output_type": "error",
     "traceback": [
      "\u001b[1;31m---------------------------------------------------------------------------\u001b[0m",
      "\u001b[1;31mKeyError\u001b[0m                                  Traceback (most recent call last)",
      "\u001b[1;32m<expression>\u001b[0m in \u001b[0;36m<module>\u001b[1;34m()\u001b[0m\n",
      "\u001b[1;32m<string>\u001b[0m in \u001b[0;36mCalcF1\u001b[1;34m(SGCL)\u001b[0m\n",
      "\u001b[1;31mKeyError\u001b[0m: None"
     ]
    },
    {
     "ename": "KeyError",
     "evalue": "None",
     "output_type": "error",
     "traceback": [
      "\u001b[1;31m---------------------------------------------------------------------------\u001b[0m",
      "\u001b[1;31mKeyError\u001b[0m                                  Traceback (most recent call last)",
      "\u001b[1;32m<expression>\u001b[0m in \u001b[0;36m<module>\u001b[1;34m()\u001b[0m\n",
      "\u001b[1;32m<string>\u001b[0m in \u001b[0;36mCalcF1\u001b[1;34m(SGCL)\u001b[0m\n",
      "\u001b[1;31mKeyError\u001b[0m: None"
     ]
    },
    {
     "ename": "KeyError",
     "evalue": "None",
     "output_type": "error",
     "traceback": [
      "\u001b[1;31m---------------------------------------------------------------------------\u001b[0m",
      "\u001b[1;31mKeyError\u001b[0m                                  Traceback (most recent call last)",
      "\u001b[1;32m<expression>\u001b[0m in \u001b[0;36m<module>\u001b[1;34m()\u001b[0m\n",
      "\u001b[1;32m<string>\u001b[0m in \u001b[0;36mCalcF1\u001b[1;34m(SGCL)\u001b[0m\n",
      "\u001b[1;31mKeyError\u001b[0m: None"
     ]
    },
    {
     "ename": "KeyError",
     "evalue": "None",
     "output_type": "error",
     "traceback": [
      "\u001b[1;31m---------------------------------------------------------------------------\u001b[0m",
      "\u001b[1;31mKeyError\u001b[0m                                  Traceback (most recent call last)",
      "\u001b[1;32m<expression>\u001b[0m in \u001b[0;36m<module>\u001b[1;34m()\u001b[0m\n",
      "\u001b[1;32m<string>\u001b[0m in \u001b[0;36mCalcF1\u001b[1;34m(SGCL)\u001b[0m\n",
      "\u001b[1;31mKeyError\u001b[0m: None"
     ]
    },
    {
     "ename": "KeyError",
     "evalue": "None",
     "output_type": "error",
     "traceback": [
      "\u001b[1;31m---------------------------------------------------------------------------\u001b[0m",
      "\u001b[1;31mKeyError\u001b[0m                                  Traceback (most recent call last)",
      "\u001b[1;32m<expression>\u001b[0m in \u001b[0;36m<module>\u001b[1;34m()\u001b[0m\n",
      "\u001b[1;32m<string>\u001b[0m in \u001b[0;36mCalcF1\u001b[1;34m(SGCL)\u001b[0m\n",
      "\u001b[1;31mKeyError\u001b[0m: None"
     ]
    },
    {
     "ename": "KeyError",
     "evalue": "None",
     "output_type": "error",
     "traceback": [
      "\u001b[1;31m---------------------------------------------------------------------------\u001b[0m",
      "\u001b[1;31mKeyError\u001b[0m                                  Traceback (most recent call last)",
      "\u001b[1;32m<expression>\u001b[0m in \u001b[0;36m<module>\u001b[1;34m()\u001b[0m\n",
      "\u001b[1;32m<string>\u001b[0m in \u001b[0;36mCalcF1\u001b[1;34m(SGCL)\u001b[0m\n",
      "\u001b[1;31mKeyError\u001b[0m: None"
     ]
    },
    {
     "ename": "KeyError",
     "evalue": "None",
     "output_type": "error",
     "traceback": [
      "\u001b[1;31m---------------------------------------------------------------------------\u001b[0m",
      "\u001b[1;31mKeyError\u001b[0m                                  Traceback (most recent call last)",
      "\u001b[1;32m<expression>\u001b[0m in \u001b[0;36m<module>\u001b[1;34m()\u001b[0m\n",
      "\u001b[1;32m<string>\u001b[0m in \u001b[0;36mCalcF1\u001b[1;34m(SGCL)\u001b[0m\n",
      "\u001b[1;31mKeyError\u001b[0m: None"
     ]
    },
    {
     "ename": "KeyError",
     "evalue": "None",
     "output_type": "error",
     "traceback": [
      "\u001b[1;31m---------------------------------------------------------------------------\u001b[0m",
      "\u001b[1;31mKeyError\u001b[0m                                  Traceback (most recent call last)",
      "\u001b[1;32m<expression>\u001b[0m in \u001b[0;36m<module>\u001b[1;34m()\u001b[0m\n",
      "\u001b[1;32m<string>\u001b[0m in \u001b[0;36mCalcF1\u001b[1;34m(SGCL)\u001b[0m\n",
      "\u001b[1;31mKeyError\u001b[0m: None"
     ]
    },
    {
     "ename": "KeyError",
     "evalue": "None",
     "output_type": "error",
     "traceback": [
      "\u001b[1;31m---------------------------------------------------------------------------\u001b[0m",
      "\u001b[1;31mKeyError\u001b[0m                                  Traceback (most recent call last)",
      "\u001b[1;32m<expression>\u001b[0m in \u001b[0;36m<module>\u001b[1;34m()\u001b[0m\n",
      "\u001b[1;32m<string>\u001b[0m in \u001b[0;36mCalcF1\u001b[1;34m(SGCL)\u001b[0m\n",
      "\u001b[1;31mKeyError\u001b[0m: None"
     ]
    },
    {
     "ename": "KeyError",
     "evalue": "None",
     "output_type": "error",
     "traceback": [
      "\u001b[1;31m---------------------------------------------------------------------------\u001b[0m",
      "\u001b[1;31mKeyError\u001b[0m                                  Traceback (most recent call last)",
      "\u001b[1;32m<expression>\u001b[0m in \u001b[0;36m<module>\u001b[1;34m()\u001b[0m\n",
      "\u001b[1;32m<string>\u001b[0m in \u001b[0;36mCalcF1\u001b[1;34m(SGCL)\u001b[0m\n",
      "\u001b[1;31mKeyError\u001b[0m: None"
     ]
    },
    {
     "ename": "KeyError",
     "evalue": "None",
     "output_type": "error",
     "traceback": [
      "\u001b[1;31m---------------------------------------------------------------------------\u001b[0m",
      "\u001b[1;31mKeyError\u001b[0m                                  Traceback (most recent call last)",
      "\u001b[1;32m<expression>\u001b[0m in \u001b[0;36m<module>\u001b[1;34m()\u001b[0m\n",
      "\u001b[1;32m<string>\u001b[0m in \u001b[0;36mCalcF1\u001b[1;34m(SGCL)\u001b[0m\n",
      "\u001b[1;31mKeyError\u001b[0m: None"
     ]
    },
    {
     "ename": "KeyError",
     "evalue": "None",
     "output_type": "error",
     "traceback": [
      "\u001b[1;31m---------------------------------------------------------------------------\u001b[0m",
      "\u001b[1;31mKeyError\u001b[0m                                  Traceback (most recent call last)",
      "\u001b[1;32m<expression>\u001b[0m in \u001b[0;36m<module>\u001b[1;34m()\u001b[0m\n",
      "\u001b[1;32m<string>\u001b[0m in \u001b[0;36mCalcF1\u001b[1;34m(SGCL)\u001b[0m\n",
      "\u001b[1;31mKeyError\u001b[0m: None"
     ]
    },
    {
     "ename": "KeyError",
     "evalue": "None",
     "output_type": "error",
     "traceback": [
      "\u001b[1;31m---------------------------------------------------------------------------\u001b[0m",
      "\u001b[1;31mKeyError\u001b[0m                                  Traceback (most recent call last)",
      "\u001b[1;32m<expression>\u001b[0m in \u001b[0;36m<module>\u001b[1;34m()\u001b[0m\n",
      "\u001b[1;32m<string>\u001b[0m in \u001b[0;36mCalcF1\u001b[1;34m(SGCL)\u001b[0m\n",
      "\u001b[1;31mKeyError\u001b[0m: None"
     ]
    },
    {
     "ename": "KeyError",
     "evalue": "None",
     "output_type": "error",
     "traceback": [
      "\u001b[1;31m---------------------------------------------------------------------------\u001b[0m",
      "\u001b[1;31mKeyError\u001b[0m                                  Traceback (most recent call last)",
      "\u001b[1;32m<expression>\u001b[0m in \u001b[0;36m<module>\u001b[1;34m()\u001b[0m\n",
      "\u001b[1;32m<string>\u001b[0m in \u001b[0;36mCalcF1\u001b[1;34m(SGCL)\u001b[0m\n",
      "\u001b[1;31mKeyError\u001b[0m: None"
     ]
    },
    {
     "ename": "KeyError",
     "evalue": "None",
     "output_type": "error",
     "traceback": [
      "\u001b[1;31m---------------------------------------------------------------------------\u001b[0m",
      "\u001b[1;31mKeyError\u001b[0m                                  Traceback (most recent call last)",
      "\u001b[1;32m<expression>\u001b[0m in \u001b[0;36m<module>\u001b[1;34m()\u001b[0m\n",
      "\u001b[1;32m<string>\u001b[0m in \u001b[0;36mCalcF1\u001b[1;34m(SGCL)\u001b[0m\n",
      "\u001b[1;31mKeyError\u001b[0m: None"
     ]
    },
    {
     "ename": "KeyError",
     "evalue": "None",
     "output_type": "error",
     "traceback": [
      "\u001b[1;31m---------------------------------------------------------------------------\u001b[0m",
      "\u001b[1;31mKeyError\u001b[0m                                  Traceback (most recent call last)",
      "\u001b[1;32m<expression>\u001b[0m in \u001b[0;36m<module>\u001b[1;34m()\u001b[0m\n",
      "\u001b[1;32m<string>\u001b[0m in \u001b[0;36mCalcF1\u001b[1;34m(SGCL)\u001b[0m\n",
      "\u001b[1;31mKeyError\u001b[0m: None"
     ]
    },
    {
     "ename": "KeyError",
     "evalue": "None",
     "output_type": "error",
     "traceback": [
      "\u001b[1;31m---------------------------------------------------------------------------\u001b[0m",
      "\u001b[1;31mKeyError\u001b[0m                                  Traceback (most recent call last)",
      "\u001b[1;32m<expression>\u001b[0m in \u001b[0;36m<module>\u001b[1;34m()\u001b[0m\n",
      "\u001b[1;32m<string>\u001b[0m in \u001b[0;36mCalcF1\u001b[1;34m(SGCL)\u001b[0m\n",
      "\u001b[1;31mKeyError\u001b[0m: None"
     ]
    },
    {
     "ename": "KeyError",
     "evalue": "None",
     "output_type": "error",
     "traceback": [
      "\u001b[1;31m---------------------------------------------------------------------------\u001b[0m",
      "\u001b[1;31mKeyError\u001b[0m                                  Traceback (most recent call last)",
      "\u001b[1;32m<expression>\u001b[0m in \u001b[0;36m<module>\u001b[1;34m()\u001b[0m\n",
      "\u001b[1;32m<string>\u001b[0m in \u001b[0;36mCalcF1\u001b[1;34m(SGCL)\u001b[0m\n",
      "\u001b[1;31mKeyError\u001b[0m: None"
     ]
    },
    {
     "ename": "KeyError",
     "evalue": "None",
     "output_type": "error",
     "traceback": [
      "\u001b[1;31m---------------------------------------------------------------------------\u001b[0m",
      "\u001b[1;31mKeyError\u001b[0m                                  Traceback (most recent call last)",
      "\u001b[1;32m<expression>\u001b[0m in \u001b[0;36m<module>\u001b[1;34m()\u001b[0m\n",
      "\u001b[1;32m<string>\u001b[0m in \u001b[0;36mCalcF1\u001b[1;34m(SGCL)\u001b[0m\n",
      "\u001b[1;31mKeyError\u001b[0m: None"
     ]
    },
    {
     "ename": "KeyError",
     "evalue": "None",
     "output_type": "error",
     "traceback": [
      "\u001b[1;31m---------------------------------------------------------------------------\u001b[0m",
      "\u001b[1;31mKeyError\u001b[0m                                  Traceback (most recent call last)",
      "\u001b[1;32m<expression>\u001b[0m in \u001b[0;36m<module>\u001b[1;34m()\u001b[0m\n",
      "\u001b[1;32m<string>\u001b[0m in \u001b[0;36mCalcF1\u001b[1;34m(SGCL)\u001b[0m\n",
      "\u001b[1;31mKeyError\u001b[0m: None"
     ]
    },
    {
     "ename": "KeyError",
     "evalue": "None",
     "output_type": "error",
     "traceback": [
      "\u001b[1;31m---------------------------------------------------------------------------\u001b[0m",
      "\u001b[1;31mKeyError\u001b[0m                                  Traceback (most recent call last)",
      "\u001b[1;32m<expression>\u001b[0m in \u001b[0;36m<module>\u001b[1;34m()\u001b[0m\n",
      "\u001b[1;32m<string>\u001b[0m in \u001b[0;36mCalcF1\u001b[1;34m(SGCL)\u001b[0m\n",
      "\u001b[1;31mKeyError\u001b[0m: None"
     ]
    },
    {
     "ename": "KeyError",
     "evalue": "None",
     "output_type": "error",
     "traceback": [
      "\u001b[1;31m---------------------------------------------------------------------------\u001b[0m",
      "\u001b[1;31mKeyError\u001b[0m                                  Traceback (most recent call last)",
      "\u001b[1;32m<expression>\u001b[0m in \u001b[0;36m<module>\u001b[1;34m()\u001b[0m\n",
      "\u001b[1;32m<string>\u001b[0m in \u001b[0;36mCalcF1\u001b[1;34m(SGCL)\u001b[0m\n",
      "\u001b[1;31mKeyError\u001b[0m: None"
     ]
    },
    {
     "ename": "KeyError",
     "evalue": "None",
     "output_type": "error",
     "traceback": [
      "\u001b[1;31m---------------------------------------------------------------------------\u001b[0m",
      "\u001b[1;31mKeyError\u001b[0m                                  Traceback (most recent call last)",
      "\u001b[1;32m<expression>\u001b[0m in \u001b[0;36m<module>\u001b[1;34m()\u001b[0m\n",
      "\u001b[1;32m<string>\u001b[0m in \u001b[0;36mCalcF1\u001b[1;34m(SGCL)\u001b[0m\n",
      "\u001b[1;31mKeyError\u001b[0m: None"
     ]
    },
    {
     "ename": "KeyError",
     "evalue": "None",
     "output_type": "error",
     "traceback": [
      "\u001b[1;31m---------------------------------------------------------------------------\u001b[0m",
      "\u001b[1;31mKeyError\u001b[0m                                  Traceback (most recent call last)",
      "\u001b[1;32m<expression>\u001b[0m in \u001b[0;36m<module>\u001b[1;34m()\u001b[0m\n",
      "\u001b[1;32m<string>\u001b[0m in \u001b[0;36mCalcF1\u001b[1;34m(SGCL)\u001b[0m\n",
      "\u001b[1;31mKeyError\u001b[0m: None"
     ]
    },
    {
     "ename": "KeyError",
     "evalue": "None",
     "output_type": "error",
     "traceback": [
      "\u001b[1;31m---------------------------------------------------------------------------\u001b[0m",
      "\u001b[1;31mKeyError\u001b[0m                                  Traceback (most recent call last)",
      "\u001b[1;32m<expression>\u001b[0m in \u001b[0;36m<module>\u001b[1;34m()\u001b[0m\n",
      "\u001b[1;32m<string>\u001b[0m in \u001b[0;36mCalcF1\u001b[1;34m(SGCL)\u001b[0m\n",
      "\u001b[1;31mKeyError\u001b[0m: None"
     ]
    },
    {
     "ename": "KeyError",
     "evalue": "None",
     "output_type": "error",
     "traceback": [
      "\u001b[1;31m---------------------------------------------------------------------------\u001b[0m",
      "\u001b[1;31mKeyError\u001b[0m                                  Traceback (most recent call last)",
      "\u001b[1;32m<expression>\u001b[0m in \u001b[0;36m<module>\u001b[1;34m()\u001b[0m\n",
      "\u001b[1;32m<string>\u001b[0m in \u001b[0;36mCalcF1\u001b[1;34m(SGCL)\u001b[0m\n",
      "\u001b[1;31mKeyError\u001b[0m: None"
     ]
    },
    {
     "ename": "KeyError",
     "evalue": "None",
     "output_type": "error",
     "traceback": [
      "\u001b[1;31m---------------------------------------------------------------------------\u001b[0m",
      "\u001b[1;31mKeyError\u001b[0m                                  Traceback (most recent call last)",
      "\u001b[1;32m<expression>\u001b[0m in \u001b[0;36m<module>\u001b[1;34m()\u001b[0m\n",
      "\u001b[1;32m<string>\u001b[0m in \u001b[0;36mCalcF1\u001b[1;34m(SGCL)\u001b[0m\n",
      "\u001b[1;31mKeyError\u001b[0m: None"
     ]
    },
    {
     "ename": "KeyError",
     "evalue": "None",
     "output_type": "error",
     "traceback": [
      "\u001b[1;31m---------------------------------------------------------------------------\u001b[0m",
      "\u001b[1;31mKeyError\u001b[0m                                  Traceback (most recent call last)",
      "\u001b[1;32m<expression>\u001b[0m in \u001b[0;36m<module>\u001b[1;34m()\u001b[0m\n",
      "\u001b[1;32m<string>\u001b[0m in \u001b[0;36mCalcF1\u001b[1;34m(SGCL)\u001b[0m\n",
      "\u001b[1;31mKeyError\u001b[0m: None"
     ]
    },
    {
     "ename": "KeyError",
     "evalue": "None",
     "output_type": "error",
     "traceback": [
      "\u001b[1;31m---------------------------------------------------------------------------\u001b[0m",
      "\u001b[1;31mKeyError\u001b[0m                                  Traceback (most recent call last)",
      "\u001b[1;32m<expression>\u001b[0m in \u001b[0;36m<module>\u001b[1;34m()\u001b[0m\n",
      "\u001b[1;32m<string>\u001b[0m in \u001b[0;36mCalcF1\u001b[1;34m(SGCL)\u001b[0m\n",
      "\u001b[1;31mKeyError\u001b[0m: None"
     ]
    },
    {
     "ename": "KeyError",
     "evalue": "None",
     "output_type": "error",
     "traceback": [
      "\u001b[1;31m---------------------------------------------------------------------------\u001b[0m",
      "\u001b[1;31mKeyError\u001b[0m                                  Traceback (most recent call last)",
      "\u001b[1;32m<expression>\u001b[0m in \u001b[0;36m<module>\u001b[1;34m()\u001b[0m\n",
      "\u001b[1;32m<string>\u001b[0m in \u001b[0;36mCalcF1\u001b[1;34m(SGCL)\u001b[0m\n",
      "\u001b[1;31mKeyError\u001b[0m: None"
     ]
    },
    {
     "ename": "KeyError",
     "evalue": "None",
     "output_type": "error",
     "traceback": [
      "\u001b[1;31m---------------------------------------------------------------------------\u001b[0m",
      "\u001b[1;31mKeyError\u001b[0m                                  Traceback (most recent call last)",
      "\u001b[1;32m<expression>\u001b[0m in \u001b[0;36m<module>\u001b[1;34m()\u001b[0m\n",
      "\u001b[1;32m<string>\u001b[0m in \u001b[0;36mCalcF1\u001b[1;34m(SGCL)\u001b[0m\n",
      "\u001b[1;31mKeyError\u001b[0m: None"
     ]
    },
    {
     "ename": "KeyError",
     "evalue": "None",
     "output_type": "error",
     "traceback": [
      "\u001b[1;31m---------------------------------------------------------------------------\u001b[0m",
      "\u001b[1;31mKeyError\u001b[0m                                  Traceback (most recent call last)",
      "\u001b[1;32m<expression>\u001b[0m in \u001b[0;36m<module>\u001b[1;34m()\u001b[0m\n",
      "\u001b[1;32m<string>\u001b[0m in \u001b[0;36mCalcF1\u001b[1;34m(SGCL)\u001b[0m\n",
      "\u001b[1;31mKeyError\u001b[0m: None"
     ]
    },
    {
     "ename": "KeyError",
     "evalue": "None",
     "output_type": "error",
     "traceback": [
      "\u001b[1;31m---------------------------------------------------------------------------\u001b[0m",
      "\u001b[1;31mKeyError\u001b[0m                                  Traceback (most recent call last)",
      "\u001b[1;32m<expression>\u001b[0m in \u001b[0;36m<module>\u001b[1;34m()\u001b[0m\n",
      "\u001b[1;32m<string>\u001b[0m in \u001b[0;36mCalcF1\u001b[1;34m(SGCL)\u001b[0m\n",
      "\u001b[1;31mKeyError\u001b[0m: None"
     ]
    },
    {
     "ename": "KeyError",
     "evalue": "None",
     "output_type": "error",
     "traceback": [
      "\u001b[1;31m---------------------------------------------------------------------------\u001b[0m",
      "\u001b[1;31mKeyError\u001b[0m                                  Traceback (most recent call last)",
      "\u001b[1;32m<expression>\u001b[0m in \u001b[0;36m<module>\u001b[1;34m()\u001b[0m\n",
      "\u001b[1;32m<string>\u001b[0m in \u001b[0;36mCalcF1\u001b[1;34m(SGCL)\u001b[0m\n",
      "\u001b[1;31mKeyError\u001b[0m: None"
     ]
    },
    {
     "ename": "KeyError",
     "evalue": "None",
     "output_type": "error",
     "traceback": [
      "\u001b[1;31m---------------------------------------------------------------------------\u001b[0m",
      "\u001b[1;31mKeyError\u001b[0m                                  Traceback (most recent call last)",
      "\u001b[1;32m<expression>\u001b[0m in \u001b[0;36m<module>\u001b[1;34m()\u001b[0m\n",
      "\u001b[1;32m<string>\u001b[0m in \u001b[0;36mCalcF1\u001b[1;34m(SGCL)\u001b[0m\n",
      "\u001b[1;31mKeyError\u001b[0m: None"
     ]
    },
    {
     "ename": "KeyError",
     "evalue": "None",
     "output_type": "error",
     "traceback": [
      "\u001b[1;31m---------------------------------------------------------------------------\u001b[0m",
      "\u001b[1;31mKeyError\u001b[0m                                  Traceback (most recent call last)",
      "\u001b[1;32m<expression>\u001b[0m in \u001b[0;36m<module>\u001b[1;34m()\u001b[0m\n",
      "\u001b[1;32m<string>\u001b[0m in \u001b[0;36mCalcF1\u001b[1;34m(SGCL)\u001b[0m\n",
      "\u001b[1;31mKeyError\u001b[0m: None"
     ]
    },
    {
     "ename": "KeyError",
     "evalue": "None",
     "output_type": "error",
     "traceback": [
      "\u001b[1;31m---------------------------------------------------------------------------\u001b[0m",
      "\u001b[1;31mKeyError\u001b[0m                                  Traceback (most recent call last)",
      "\u001b[1;32m<expression>\u001b[0m in \u001b[0;36m<module>\u001b[1;34m()\u001b[0m\n",
      "\u001b[1;32m<string>\u001b[0m in \u001b[0;36mCalcF1\u001b[1;34m(SGCL)\u001b[0m\n",
      "\u001b[1;31mKeyError\u001b[0m: None"
     ]
    },
    {
     "ename": "KeyError",
     "evalue": "None",
     "output_type": "error",
     "traceback": [
      "\u001b[1;31m---------------------------------------------------------------------------\u001b[0m",
      "\u001b[1;31mKeyError\u001b[0m                                  Traceback (most recent call last)",
      "\u001b[1;32m<expression>\u001b[0m in \u001b[0;36m<module>\u001b[1;34m()\u001b[0m\n",
      "\u001b[1;32m<string>\u001b[0m in \u001b[0;36mCalcF1\u001b[1;34m(SGCL)\u001b[0m\n",
      "\u001b[1;31mKeyError\u001b[0m: None"
     ]
    },
    {
     "ename": "KeyError",
     "evalue": "None",
     "output_type": "error",
     "traceback": [
      "\u001b[1;31m---------------------------------------------------------------------------\u001b[0m",
      "\u001b[1;31mKeyError\u001b[0m                                  Traceback (most recent call last)",
      "\u001b[1;32m<expression>\u001b[0m in \u001b[0;36m<module>\u001b[1;34m()\u001b[0m\n",
      "\u001b[1;32m<string>\u001b[0m in \u001b[0;36mCalcF1\u001b[1;34m(SGCL)\u001b[0m\n",
      "\u001b[1;31mKeyError\u001b[0m: None"
     ]
    },
    {
     "ename": "KeyError",
     "evalue": "None",
     "output_type": "error",
     "traceback": [
      "\u001b[1;31m---------------------------------------------------------------------------\u001b[0m",
      "\u001b[1;31mKeyError\u001b[0m                                  Traceback (most recent call last)",
      "\u001b[1;32m<expression>\u001b[0m in \u001b[0;36m<module>\u001b[1;34m()\u001b[0m\n",
      "\u001b[1;32m<string>\u001b[0m in \u001b[0;36mCalcF1\u001b[1;34m(SGCL)\u001b[0m\n",
      "\u001b[1;31mKeyError\u001b[0m: None"
     ]
    },
    {
     "ename": "KeyError",
     "evalue": "None",
     "output_type": "error",
     "traceback": [
      "\u001b[1;31m---------------------------------------------------------------------------\u001b[0m",
      "\u001b[1;31mKeyError\u001b[0m                                  Traceback (most recent call last)",
      "\u001b[1;32m<expression>\u001b[0m in \u001b[0;36m<module>\u001b[1;34m()\u001b[0m\n",
      "\u001b[1;32m<string>\u001b[0m in \u001b[0;36mCalcF1\u001b[1;34m(SGCL)\u001b[0m\n",
      "\u001b[1;31mKeyError\u001b[0m: None"
     ]
    },
    {
     "ename": "KeyError",
     "evalue": "None",
     "output_type": "error",
     "traceback": [
      "\u001b[1;31m---------------------------------------------------------------------------\u001b[0m",
      "\u001b[1;31mKeyError\u001b[0m                                  Traceback (most recent call last)",
      "\u001b[1;32m<expression>\u001b[0m in \u001b[0;36m<module>\u001b[1;34m()\u001b[0m\n",
      "\u001b[1;32m<string>\u001b[0m in \u001b[0;36mCalcF1\u001b[1;34m(SGCL)\u001b[0m\n",
      "\u001b[1;31mKeyError\u001b[0m: None"
     ]
    },
    {
     "ename": "KeyError",
     "evalue": "None",
     "output_type": "error",
     "traceback": [
      "\u001b[1;31m---------------------------------------------------------------------------\u001b[0m",
      "\u001b[1;31mKeyError\u001b[0m                                  Traceback (most recent call last)",
      "\u001b[1;32m<expression>\u001b[0m in \u001b[0;36m<module>\u001b[1;34m()\u001b[0m\n",
      "\u001b[1;32m<string>\u001b[0m in \u001b[0;36mCalcF1\u001b[1;34m(SGCL)\u001b[0m\n",
      "\u001b[1;31mKeyError\u001b[0m: None"
     ]
    },
    {
     "ename": "KeyError",
     "evalue": "None",
     "output_type": "error",
     "traceback": [
      "\u001b[1;31m---------------------------------------------------------------------------\u001b[0m",
      "\u001b[1;31mKeyError\u001b[0m                                  Traceback (most recent call last)",
      "\u001b[1;32m<expression>\u001b[0m in \u001b[0;36m<module>\u001b[1;34m()\u001b[0m\n",
      "\u001b[1;32m<string>\u001b[0m in \u001b[0;36mCalcF1\u001b[1;34m(SGCL)\u001b[0m\n",
      "\u001b[1;31mKeyError\u001b[0m: None"
     ]
    },
    {
     "ename": "KeyError",
     "evalue": "None",
     "output_type": "error",
     "traceback": [
      "\u001b[1;31m---------------------------------------------------------------------------\u001b[0m",
      "\u001b[1;31mKeyError\u001b[0m                                  Traceback (most recent call last)",
      "\u001b[1;32m<expression>\u001b[0m in \u001b[0;36m<module>\u001b[1;34m()\u001b[0m\n",
      "\u001b[1;32m<string>\u001b[0m in \u001b[0;36mCalcF1\u001b[1;34m(SGCL)\u001b[0m\n",
      "\u001b[1;31mKeyError\u001b[0m: None"
     ]
    },
    {
     "ename": "KeyError",
     "evalue": "None",
     "output_type": "error",
     "traceback": [
      "\u001b[1;31m---------------------------------------------------------------------------\u001b[0m",
      "\u001b[1;31mKeyError\u001b[0m                                  Traceback (most recent call last)",
      "\u001b[1;32m<expression>\u001b[0m in \u001b[0;36m<module>\u001b[1;34m()\u001b[0m\n",
      "\u001b[1;32m<string>\u001b[0m in \u001b[0;36mCalcF1\u001b[1;34m(SGCL)\u001b[0m\n",
      "\u001b[1;31mKeyError\u001b[0m: None"
     ]
    },
    {
     "ename": "KeyError",
     "evalue": "None",
     "output_type": "error",
     "traceback": [
      "\u001b[1;31m---------------------------------------------------------------------------\u001b[0m",
      "\u001b[1;31mKeyError\u001b[0m                                  Traceback (most recent call last)",
      "\u001b[1;32m<expression>\u001b[0m in \u001b[0;36m<module>\u001b[1;34m()\u001b[0m\n",
      "\u001b[1;32m<string>\u001b[0m in \u001b[0;36mCalcF1\u001b[1;34m(SGCL)\u001b[0m\n",
      "\u001b[1;31mKeyError\u001b[0m: None"
     ]
    },
    {
     "ename": "KeyError",
     "evalue": "None",
     "output_type": "error",
     "traceback": [
      "\u001b[1;31m---------------------------------------------------------------------------\u001b[0m",
      "\u001b[1;31mKeyError\u001b[0m                                  Traceback (most recent call last)",
      "\u001b[1;32m<expression>\u001b[0m in \u001b[0;36m<module>\u001b[1;34m()\u001b[0m\n",
      "\u001b[1;32m<string>\u001b[0m in \u001b[0;36mCalcF1\u001b[1;34m(SGCL)\u001b[0m\n",
      "\u001b[1;31mKeyError\u001b[0m: None"
     ]
    },
    {
     "ename": "KeyError",
     "evalue": "None",
     "output_type": "error",
     "traceback": [
      "\u001b[1;31m---------------------------------------------------------------------------\u001b[0m",
      "\u001b[1;31mKeyError\u001b[0m                                  Traceback (most recent call last)",
      "\u001b[1;32m<expression>\u001b[0m in \u001b[0;36m<module>\u001b[1;34m()\u001b[0m\n",
      "\u001b[1;32m<string>\u001b[0m in \u001b[0;36mCalcF1\u001b[1;34m(SGCL)\u001b[0m\n",
      "\u001b[1;31mKeyError\u001b[0m: None"
     ]
    },
    {
     "ename": "KeyError",
     "evalue": "None",
     "output_type": "error",
     "traceback": [
      "\u001b[1;31m---------------------------------------------------------------------------\u001b[0m",
      "\u001b[1;31mKeyError\u001b[0m                                  Traceback (most recent call last)",
      "\u001b[1;32m<expression>\u001b[0m in \u001b[0;36m<module>\u001b[1;34m()\u001b[0m\n",
      "\u001b[1;32m<string>\u001b[0m in \u001b[0;36mCalcF1\u001b[1;34m(SGCL)\u001b[0m\n",
      "\u001b[1;31mKeyError\u001b[0m: None"
     ]
    },
    {
     "ename": "KeyError",
     "evalue": "None",
     "output_type": "error",
     "traceback": [
      "\u001b[1;31m---------------------------------------------------------------------------\u001b[0m",
      "\u001b[1;31mKeyError\u001b[0m                                  Traceback (most recent call last)",
      "\u001b[1;32m<expression>\u001b[0m in \u001b[0;36m<module>\u001b[1;34m()\u001b[0m\n",
      "\u001b[1;32m<string>\u001b[0m in \u001b[0;36mCalcF1\u001b[1;34m(SGCL)\u001b[0m\n",
      "\u001b[1;31mKeyError\u001b[0m: None"
     ]
    },
    {
     "ename": "KeyError",
     "evalue": "None",
     "output_type": "error",
     "traceback": [
      "\u001b[1;31m---------------------------------------------------------------------------\u001b[0m",
      "\u001b[1;31mKeyError\u001b[0m                                  Traceback (most recent call last)",
      "\u001b[1;32m<expression>\u001b[0m in \u001b[0;36m<module>\u001b[1;34m()\u001b[0m\n",
      "\u001b[1;32m<string>\u001b[0m in \u001b[0;36mCalcF1\u001b[1;34m(SGCL)\u001b[0m\n",
      "\u001b[1;31mKeyError\u001b[0m: None"
     ]
    },
    {
     "ename": "KeyError",
     "evalue": "None",
     "output_type": "error",
     "traceback": [
      "\u001b[1;31m---------------------------------------------------------------------------\u001b[0m",
      "\u001b[1;31mKeyError\u001b[0m                                  Traceback (most recent call last)",
      "\u001b[1;32m<expression>\u001b[0m in \u001b[0;36m<module>\u001b[1;34m()\u001b[0m\n",
      "\u001b[1;32m<string>\u001b[0m in \u001b[0;36mCalcF1\u001b[1;34m(SGCL)\u001b[0m\n",
      "\u001b[1;31mKeyError\u001b[0m: None"
     ]
    },
    {
     "ename": "KeyError",
     "evalue": "None",
     "output_type": "error",
     "traceback": [
      "\u001b[1;31m---------------------------------------------------------------------------\u001b[0m",
      "\u001b[1;31mKeyError\u001b[0m                                  Traceback (most recent call last)",
      "\u001b[1;32m<expression>\u001b[0m in \u001b[0;36m<module>\u001b[1;34m()\u001b[0m\n",
      "\u001b[1;32m<string>\u001b[0m in \u001b[0;36mCalcF1\u001b[1;34m(SGCL)\u001b[0m\n",
      "\u001b[1;31mKeyError\u001b[0m: None"
     ]
    },
    {
     "ename": "KeyError",
     "evalue": "None",
     "output_type": "error",
     "traceback": [
      "\u001b[1;31m---------------------------------------------------------------------------\u001b[0m",
      "\u001b[1;31mKeyError\u001b[0m                                  Traceback (most recent call last)",
      "\u001b[1;32m<expression>\u001b[0m in \u001b[0;36m<module>\u001b[1;34m()\u001b[0m\n",
      "\u001b[1;32m<string>\u001b[0m in \u001b[0;36mCalcF1\u001b[1;34m(SGCL)\u001b[0m\n",
      "\u001b[1;31mKeyError\u001b[0m: None"
     ]
    },
    {
     "ename": "KeyError",
     "evalue": "None",
     "output_type": "error",
     "traceback": [
      "\u001b[1;31m---------------------------------------------------------------------------\u001b[0m",
      "\u001b[1;31mKeyError\u001b[0m                                  Traceback (most recent call last)",
      "\u001b[1;32m<expression>\u001b[0m in \u001b[0;36m<module>\u001b[1;34m()\u001b[0m\n",
      "\u001b[1;32m<string>\u001b[0m in \u001b[0;36mCalcF1\u001b[1;34m(SGCL)\u001b[0m\n",
      "\u001b[1;31mKeyError\u001b[0m: None"
     ]
    },
    {
     "ename": "KeyError",
     "evalue": "None",
     "output_type": "error",
     "traceback": [
      "\u001b[1;31m---------------------------------------------------------------------------\u001b[0m",
      "\u001b[1;31mKeyError\u001b[0m                                  Traceback (most recent call last)",
      "\u001b[1;32m<expression>\u001b[0m in \u001b[0;36m<module>\u001b[1;34m()\u001b[0m\n",
      "\u001b[1;32m<string>\u001b[0m in \u001b[0;36mCalcF1\u001b[1;34m(SGCL)\u001b[0m\n",
      "\u001b[1;31mKeyError\u001b[0m: None"
     ]
    },
    {
     "ename": "KeyError",
     "evalue": "None",
     "output_type": "error",
     "traceback": [
      "\u001b[1;31m---------------------------------------------------------------------------\u001b[0m",
      "\u001b[1;31mKeyError\u001b[0m                                  Traceback (most recent call last)",
      "\u001b[1;32m<expression>\u001b[0m in \u001b[0;36m<module>\u001b[1;34m()\u001b[0m\n",
      "\u001b[1;32m<string>\u001b[0m in \u001b[0;36mCalcF1\u001b[1;34m(SGCL)\u001b[0m\n",
      "\u001b[1;31mKeyError\u001b[0m: None"
     ]
    },
    {
     "ename": "KeyError",
     "evalue": "None",
     "output_type": "error",
     "traceback": [
      "\u001b[1;31m---------------------------------------------------------------------------\u001b[0m",
      "\u001b[1;31mKeyError\u001b[0m                                  Traceback (most recent call last)",
      "\u001b[1;32m<expression>\u001b[0m in \u001b[0;36m<module>\u001b[1;34m()\u001b[0m\n",
      "\u001b[1;32m<string>\u001b[0m in \u001b[0;36mCalcF1\u001b[1;34m(SGCL)\u001b[0m\n",
      "\u001b[1;31mKeyError\u001b[0m: None"
     ]
    },
    {
     "ename": "KeyError",
     "evalue": "None",
     "output_type": "error",
     "traceback": [
      "\u001b[1;31m---------------------------------------------------------------------------\u001b[0m",
      "\u001b[1;31mKeyError\u001b[0m                                  Traceback (most recent call last)",
      "\u001b[1;32m<expression>\u001b[0m in \u001b[0;36m<module>\u001b[1;34m()\u001b[0m\n",
      "\u001b[1;32m<string>\u001b[0m in \u001b[0;36mCalcF1\u001b[1;34m(SGCL)\u001b[0m\n",
      "\u001b[1;31mKeyError\u001b[0m: None"
     ]
    },
    {
     "ename": "KeyError",
     "evalue": "None",
     "output_type": "error",
     "traceback": [
      "\u001b[1;31m---------------------------------------------------------------------------\u001b[0m",
      "\u001b[1;31mKeyError\u001b[0m                                  Traceback (most recent call last)",
      "\u001b[1;32m<expression>\u001b[0m in \u001b[0;36m<module>\u001b[1;34m()\u001b[0m\n",
      "\u001b[1;32m<string>\u001b[0m in \u001b[0;36mCalcF1\u001b[1;34m(SGCL)\u001b[0m\n",
      "\u001b[1;31mKeyError\u001b[0m: None"
     ]
    },
    {
     "ename": "KeyError",
     "evalue": "None",
     "output_type": "error",
     "traceback": [
      "\u001b[1;31m---------------------------------------------------------------------------\u001b[0m",
      "\u001b[1;31mKeyError\u001b[0m                                  Traceback (most recent call last)",
      "\u001b[1;32m<expression>\u001b[0m in \u001b[0;36m<module>\u001b[1;34m()\u001b[0m\n",
      "\u001b[1;32m<string>\u001b[0m in \u001b[0;36mCalcF1\u001b[1;34m(SGCL)\u001b[0m\n",
      "\u001b[1;31mKeyError\u001b[0m: None"
     ]
    },
    {
     "ename": "KeyError",
     "evalue": "None",
     "output_type": "error",
     "traceback": [
      "\u001b[1;31m---------------------------------------------------------------------------\u001b[0m",
      "\u001b[1;31mKeyError\u001b[0m                                  Traceback (most recent call last)",
      "\u001b[1;32m<expression>\u001b[0m in \u001b[0;36m<module>\u001b[1;34m()\u001b[0m\n",
      "\u001b[1;32m<string>\u001b[0m in \u001b[0;36mCalcF1\u001b[1;34m(SGCL)\u001b[0m\n",
      "\u001b[1;31mKeyError\u001b[0m: None"
     ]
    },
    {
     "ename": "KeyError",
     "evalue": "None",
     "output_type": "error",
     "traceback": [
      "\u001b[1;31m---------------------------------------------------------------------------\u001b[0m",
      "\u001b[1;31mKeyError\u001b[0m                                  Traceback (most recent call last)",
      "\u001b[1;32m<expression>\u001b[0m in \u001b[0;36m<module>\u001b[1;34m()\u001b[0m\n",
      "\u001b[1;32m<string>\u001b[0m in \u001b[0;36mCalcF1\u001b[1;34m(SGCL)\u001b[0m\n",
      "\u001b[1;31mKeyError\u001b[0m: None"
     ]
    },
    {
     "ename": "KeyError",
     "evalue": "None",
     "output_type": "error",
     "traceback": [
      "\u001b[1;31m---------------------------------------------------------------------------\u001b[0m",
      "\u001b[1;31mKeyError\u001b[0m                                  Traceback (most recent call last)",
      "\u001b[1;32m<expression>\u001b[0m in \u001b[0;36m<module>\u001b[1;34m()\u001b[0m\n",
      "\u001b[1;32m<string>\u001b[0m in \u001b[0;36mCalcF1\u001b[1;34m(SGCL)\u001b[0m\n",
      "\u001b[1;31mKeyError\u001b[0m: None"
     ]
    },
    {
     "ename": "KeyError",
     "evalue": "None",
     "output_type": "error",
     "traceback": [
      "\u001b[1;31m---------------------------------------------------------------------------\u001b[0m",
      "\u001b[1;31mKeyError\u001b[0m                                  Traceback (most recent call last)",
      "\u001b[1;32m<expression>\u001b[0m in \u001b[0;36m<module>\u001b[1;34m()\u001b[0m\n",
      "\u001b[1;32m<string>\u001b[0m in \u001b[0;36mCalcF1\u001b[1;34m(SGCL)\u001b[0m\n",
      "\u001b[1;31mKeyError\u001b[0m: None"
     ]
    },
    {
     "ename": "KeyError",
     "evalue": "None",
     "output_type": "error",
     "traceback": [
      "\u001b[1;31m---------------------------------------------------------------------------\u001b[0m",
      "\u001b[1;31mKeyError\u001b[0m                                  Traceback (most recent call last)",
      "\u001b[1;32m<expression>\u001b[0m in \u001b[0;36m<module>\u001b[1;34m()\u001b[0m\n",
      "\u001b[1;32m<string>\u001b[0m in \u001b[0;36mCalcF1\u001b[1;34m(SGCL)\u001b[0m\n",
      "\u001b[1;31mKeyError\u001b[0m: None"
     ]
    },
    {
     "ename": "KeyError",
     "evalue": "None",
     "output_type": "error",
     "traceback": [
      "\u001b[1;31m---------------------------------------------------------------------------\u001b[0m",
      "\u001b[1;31mKeyError\u001b[0m                                  Traceback (most recent call last)",
      "\u001b[1;32m<expression>\u001b[0m in \u001b[0;36m<module>\u001b[1;34m()\u001b[0m\n",
      "\u001b[1;32m<string>\u001b[0m in \u001b[0;36mCalcF1\u001b[1;34m(SGCL)\u001b[0m\n",
      "\u001b[1;31mKeyError\u001b[0m: None"
     ]
    },
    {
     "ename": "KeyError",
     "evalue": "None",
     "output_type": "error",
     "traceback": [
      "\u001b[1;31m---------------------------------------------------------------------------\u001b[0m",
      "\u001b[1;31mKeyError\u001b[0m                                  Traceback (most recent call last)",
      "\u001b[1;32m<expression>\u001b[0m in \u001b[0;36m<module>\u001b[1;34m()\u001b[0m\n",
      "\u001b[1;32m<string>\u001b[0m in \u001b[0;36mCalcF1\u001b[1;34m(SGCL)\u001b[0m\n",
      "\u001b[1;31mKeyError\u001b[0m: None"
     ]
    },
    {
     "ename": "KeyError",
     "evalue": "None",
     "output_type": "error",
     "traceback": [
      "\u001b[1;31m---------------------------------------------------------------------------\u001b[0m",
      "\u001b[1;31mKeyError\u001b[0m                                  Traceback (most recent call last)",
      "\u001b[1;32m<expression>\u001b[0m in \u001b[0;36m<module>\u001b[1;34m()\u001b[0m\n",
      "\u001b[1;32m<string>\u001b[0m in \u001b[0;36mCalcF1\u001b[1;34m(SGCL)\u001b[0m\n",
      "\u001b[1;31mKeyError\u001b[0m: None"
     ]
    },
    {
     "ename": "KeyError",
     "evalue": "None",
     "output_type": "error",
     "traceback": [
      "\u001b[1;31m---------------------------------------------------------------------------\u001b[0m",
      "\u001b[1;31mKeyError\u001b[0m                                  Traceback (most recent call last)",
      "\u001b[1;32m<expression>\u001b[0m in \u001b[0;36m<module>\u001b[1;34m()\u001b[0m\n",
      "\u001b[1;32m<string>\u001b[0m in \u001b[0;36mCalcF1\u001b[1;34m(SGCL)\u001b[0m\n",
      "\u001b[1;31mKeyError\u001b[0m: None"
     ]
    },
    {
     "ename": "KeyError",
     "evalue": "None",
     "output_type": "error",
     "traceback": [
      "\u001b[1;31m---------------------------------------------------------------------------\u001b[0m",
      "\u001b[1;31mKeyError\u001b[0m                                  Traceback (most recent call last)",
      "\u001b[1;32m<expression>\u001b[0m in \u001b[0;36m<module>\u001b[1;34m()\u001b[0m\n",
      "\u001b[1;32m<string>\u001b[0m in \u001b[0;36mCalcF1\u001b[1;34m(SGCL)\u001b[0m\n",
      "\u001b[1;31mKeyError\u001b[0m: None"
     ]
    },
    {
     "ename": "KeyError",
     "evalue": "None",
     "output_type": "error",
     "traceback": [
      "\u001b[1;31m---------------------------------------------------------------------------\u001b[0m",
      "\u001b[1;31mKeyError\u001b[0m                                  Traceback (most recent call last)",
      "\u001b[1;32m<expression>\u001b[0m in \u001b[0;36m<module>\u001b[1;34m()\u001b[0m\n",
      "\u001b[1;32m<string>\u001b[0m in \u001b[0;36mCalcF1\u001b[1;34m(SGCL)\u001b[0m\n",
      "\u001b[1;31mKeyError\u001b[0m: None"
     ]
    },
    {
     "ename": "KeyError",
     "evalue": "None",
     "output_type": "error",
     "traceback": [
      "\u001b[1;31m---------------------------------------------------------------------------\u001b[0m",
      "\u001b[1;31mKeyError\u001b[0m                                  Traceback (most recent call last)",
      "\u001b[1;32m<expression>\u001b[0m in \u001b[0;36m<module>\u001b[1;34m()\u001b[0m\n",
      "\u001b[1;32m<string>\u001b[0m in \u001b[0;36mCalcF1\u001b[1;34m(SGCL)\u001b[0m\n",
      "\u001b[1;31mKeyError\u001b[0m: None"
     ]
    },
    {
     "ename": "KeyError",
     "evalue": "None",
     "output_type": "error",
     "traceback": [
      "\u001b[1;31m---------------------------------------------------------------------------\u001b[0m",
      "\u001b[1;31mKeyError\u001b[0m                                  Traceback (most recent call last)",
      "\u001b[1;32m<expression>\u001b[0m in \u001b[0;36m<module>\u001b[1;34m()\u001b[0m\n",
      "\u001b[1;32m<string>\u001b[0m in \u001b[0;36mCalcF1\u001b[1;34m(SGCL)\u001b[0m\n",
      "\u001b[1;31mKeyError\u001b[0m: None"
     ]
    },
    {
     "ename": "KeyError",
     "evalue": "None",
     "output_type": "error",
     "traceback": [
      "\u001b[1;31m---------------------------------------------------------------------------\u001b[0m",
      "\u001b[1;31mKeyError\u001b[0m                                  Traceback (most recent call last)",
      "\u001b[1;32m<expression>\u001b[0m in \u001b[0;36m<module>\u001b[1;34m()\u001b[0m\n",
      "\u001b[1;32m<string>\u001b[0m in \u001b[0;36mCalcF1\u001b[1;34m(SGCL)\u001b[0m\n",
      "\u001b[1;31mKeyError\u001b[0m: None"
     ]
    },
    {
     "ename": "KeyError",
     "evalue": "None",
     "output_type": "error",
     "traceback": [
      "\u001b[1;31m---------------------------------------------------------------------------\u001b[0m",
      "\u001b[1;31mKeyError\u001b[0m                                  Traceback (most recent call last)",
      "\u001b[1;32m<expression>\u001b[0m in \u001b[0;36m<module>\u001b[1;34m()\u001b[0m\n",
      "\u001b[1;32m<string>\u001b[0m in \u001b[0;36mCalcF1\u001b[1;34m(SGCL)\u001b[0m\n",
      "\u001b[1;31mKeyError\u001b[0m: None"
     ]
    },
    {
     "ename": "KeyError",
     "evalue": "None",
     "output_type": "error",
     "traceback": [
      "\u001b[1;31m---------------------------------------------------------------------------\u001b[0m",
      "\u001b[1;31mKeyError\u001b[0m                                  Traceback (most recent call last)",
      "\u001b[1;32m<expression>\u001b[0m in \u001b[0;36m<module>\u001b[1;34m()\u001b[0m\n",
      "\u001b[1;32m<string>\u001b[0m in \u001b[0;36mCalcF1\u001b[1;34m(SGCL)\u001b[0m\n",
      "\u001b[1;31mKeyError\u001b[0m: None"
     ]
    },
    {
     "ename": "KeyError",
     "evalue": "None",
     "output_type": "error",
     "traceback": [
      "\u001b[1;31m---------------------------------------------------------------------------\u001b[0m",
      "\u001b[1;31mKeyError\u001b[0m                                  Traceback (most recent call last)",
      "\u001b[1;32m<expression>\u001b[0m in \u001b[0;36m<module>\u001b[1;34m()\u001b[0m\n",
      "\u001b[1;32m<string>\u001b[0m in \u001b[0;36mCalcF1\u001b[1;34m(SGCL)\u001b[0m\n",
      "\u001b[1;31mKeyError\u001b[0m: None"
     ]
    },
    {
     "ename": "KeyError",
     "evalue": "None",
     "output_type": "error",
     "traceback": [
      "\u001b[1;31m---------------------------------------------------------------------------\u001b[0m",
      "\u001b[1;31mKeyError\u001b[0m                                  Traceback (most recent call last)",
      "\u001b[1;32m<expression>\u001b[0m in \u001b[0;36m<module>\u001b[1;34m()\u001b[0m\n",
      "\u001b[1;32m<string>\u001b[0m in \u001b[0;36mCalcF1\u001b[1;34m(SGCL)\u001b[0m\n",
      "\u001b[1;31mKeyError\u001b[0m: None"
     ]
    },
    {
     "ename": "KeyError",
     "evalue": "None",
     "output_type": "error",
     "traceback": [
      "\u001b[1;31m---------------------------------------------------------------------------\u001b[0m",
      "\u001b[1;31mKeyError\u001b[0m                                  Traceback (most recent call last)",
      "\u001b[1;32m<expression>\u001b[0m in \u001b[0;36m<module>\u001b[1;34m()\u001b[0m\n",
      "\u001b[1;32m<string>\u001b[0m in \u001b[0;36mCalcF1\u001b[1;34m(SGCL)\u001b[0m\n",
      "\u001b[1;31mKeyError\u001b[0m: None"
     ]
    },
    {
     "ename": "KeyError",
     "evalue": "None",
     "output_type": "error",
     "traceback": [
      "\u001b[1;31m---------------------------------------------------------------------------\u001b[0m",
      "\u001b[1;31mKeyError\u001b[0m                                  Traceback (most recent call last)",
      "\u001b[1;32m<expression>\u001b[0m in \u001b[0;36m<module>\u001b[1;34m()\u001b[0m\n",
      "\u001b[1;32m<string>\u001b[0m in \u001b[0;36mCalcF1\u001b[1;34m(SGCL)\u001b[0m\n",
      "\u001b[1;31mKeyError\u001b[0m: None"
     ]
    },
    {
     "ename": "KeyError",
     "evalue": "None",
     "output_type": "error",
     "traceback": [
      "\u001b[1;31m---------------------------------------------------------------------------\u001b[0m",
      "\u001b[1;31mKeyError\u001b[0m                                  Traceback (most recent call last)",
      "\u001b[1;32m<expression>\u001b[0m in \u001b[0;36m<module>\u001b[1;34m()\u001b[0m\n",
      "\u001b[1;32m<string>\u001b[0m in \u001b[0;36mCalcF1\u001b[1;34m(SGCL)\u001b[0m\n",
      "\u001b[1;31mKeyError\u001b[0m: None"
     ]
    },
    {
     "ename": "KeyError",
     "evalue": "None",
     "output_type": "error",
     "traceback": [
      "\u001b[1;31m---------------------------------------------------------------------------\u001b[0m",
      "\u001b[1;31mKeyError\u001b[0m                                  Traceback (most recent call last)",
      "\u001b[1;32m<expression>\u001b[0m in \u001b[0;36m<module>\u001b[1;34m()\u001b[0m\n",
      "\u001b[1;32m<string>\u001b[0m in \u001b[0;36mCalcF1\u001b[1;34m(SGCL)\u001b[0m\n",
      "\u001b[1;31mKeyError\u001b[0m: None"
     ]
    },
    {
     "ename": "KeyError",
     "evalue": "None",
     "output_type": "error",
     "traceback": [
      "\u001b[1;31m---------------------------------------------------------------------------\u001b[0m",
      "\u001b[1;31mKeyError\u001b[0m                                  Traceback (most recent call last)",
      "\u001b[1;32m<expression>\u001b[0m in \u001b[0;36m<module>\u001b[1;34m()\u001b[0m\n",
      "\u001b[1;32m<string>\u001b[0m in \u001b[0;36mCalcF1\u001b[1;34m(SGCL)\u001b[0m\n",
      "\u001b[1;31mKeyError\u001b[0m: None"
     ]
    },
    {
     "ename": "KeyError",
     "evalue": "None",
     "output_type": "error",
     "traceback": [
      "\u001b[1;31m---------------------------------------------------------------------------\u001b[0m",
      "\u001b[1;31mKeyError\u001b[0m                                  Traceback (most recent call last)",
      "\u001b[1;32m<expression>\u001b[0m in \u001b[0;36m<module>\u001b[1;34m()\u001b[0m\n",
      "\u001b[1;32m<string>\u001b[0m in \u001b[0;36mCalcF1\u001b[1;34m(SGCL)\u001b[0m\n",
      "\u001b[1;31mKeyError\u001b[0m: None"
     ]
    },
    {
     "ename": "KeyError",
     "evalue": "None",
     "output_type": "error",
     "traceback": [
      "\u001b[1;31m---------------------------------------------------------------------------\u001b[0m",
      "\u001b[1;31mKeyError\u001b[0m                                  Traceback (most recent call last)",
      "\u001b[1;32m<expression>\u001b[0m in \u001b[0;36m<module>\u001b[1;34m()\u001b[0m\n",
      "\u001b[1;32m<string>\u001b[0m in \u001b[0;36mCalcF1\u001b[1;34m(SGCL)\u001b[0m\n",
      "\u001b[1;31mKeyError\u001b[0m: None"
     ]
    },
    {
     "ename": "KeyError",
     "evalue": "None",
     "output_type": "error",
     "traceback": [
      "\u001b[1;31m---------------------------------------------------------------------------\u001b[0m",
      "\u001b[1;31mKeyError\u001b[0m                                  Traceback (most recent call last)",
      "\u001b[1;32m<expression>\u001b[0m in \u001b[0;36m<module>\u001b[1;34m()\u001b[0m\n",
      "\u001b[1;32m<string>\u001b[0m in \u001b[0;36mCalcF1\u001b[1;34m(SGCL)\u001b[0m\n",
      "\u001b[1;31mKeyError\u001b[0m: None"
     ]
    },
    {
     "ename": "KeyError",
     "evalue": "None",
     "output_type": "error",
     "traceback": [
      "\u001b[1;31m---------------------------------------------------------------------------\u001b[0m",
      "\u001b[1;31mKeyError\u001b[0m                                  Traceback (most recent call last)",
      "\u001b[1;32m<expression>\u001b[0m in \u001b[0;36m<module>\u001b[1;34m()\u001b[0m\n",
      "\u001b[1;32m<string>\u001b[0m in \u001b[0;36mCalcF1\u001b[1;34m(SGCL)\u001b[0m\n",
      "\u001b[1;31mKeyError\u001b[0m: None"
     ]
    },
    {
     "ename": "KeyError",
     "evalue": "None",
     "output_type": "error",
     "traceback": [
      "\u001b[1;31m---------------------------------------------------------------------------\u001b[0m",
      "\u001b[1;31mKeyError\u001b[0m                                  Traceback (most recent call last)",
      "\u001b[1;32m<expression>\u001b[0m in \u001b[0;36m<module>\u001b[1;34m()\u001b[0m\n",
      "\u001b[1;32m<string>\u001b[0m in \u001b[0;36mCalcF1\u001b[1;34m(SGCL)\u001b[0m\n",
      "\u001b[1;31mKeyError\u001b[0m: None"
     ]
    },
    {
     "ename": "KeyError",
     "evalue": "None",
     "output_type": "error",
     "traceback": [
      "\u001b[1;31m---------------------------------------------------------------------------\u001b[0m",
      "\u001b[1;31mKeyError\u001b[0m                                  Traceback (most recent call last)",
      "\u001b[1;32m<expression>\u001b[0m in \u001b[0;36m<module>\u001b[1;34m()\u001b[0m\n",
      "\u001b[1;32m<string>\u001b[0m in \u001b[0;36mCalcF1\u001b[1;34m(SGCL)\u001b[0m\n",
      "\u001b[1;31mKeyError\u001b[0m: None"
     ]
    },
    {
     "ename": "KeyError",
     "evalue": "None",
     "output_type": "error",
     "traceback": [
      "\u001b[1;31m---------------------------------------------------------------------------\u001b[0m",
      "\u001b[1;31mKeyError\u001b[0m                                  Traceback (most recent call last)",
      "\u001b[1;32m<expression>\u001b[0m in \u001b[0;36m<module>\u001b[1;34m()\u001b[0m\n",
      "\u001b[1;32m<string>\u001b[0m in \u001b[0;36mCalcF1\u001b[1;34m(SGCL)\u001b[0m\n",
      "\u001b[1;31mKeyError\u001b[0m: None"
     ]
    },
    {
     "ename": "KeyError",
     "evalue": "None",
     "output_type": "error",
     "traceback": [
      "\u001b[1;31m---------------------------------------------------------------------------\u001b[0m",
      "\u001b[1;31mKeyError\u001b[0m                                  Traceback (most recent call last)",
      "\u001b[1;32m<expression>\u001b[0m in \u001b[0;36m<module>\u001b[1;34m()\u001b[0m\n",
      "\u001b[1;32m<string>\u001b[0m in \u001b[0;36mCalcF1\u001b[1;34m(SGCL)\u001b[0m\n",
      "\u001b[1;31mKeyError\u001b[0m: None"
     ]
    },
    {
     "ename": "KeyError",
     "evalue": "None",
     "output_type": "error",
     "traceback": [
      "\u001b[1;31m---------------------------------------------------------------------------\u001b[0m",
      "\u001b[1;31mKeyError\u001b[0m                                  Traceback (most recent call last)",
      "\u001b[1;32m<expression>\u001b[0m in \u001b[0;36m<module>\u001b[1;34m()\u001b[0m\n",
      "\u001b[1;32m<string>\u001b[0m in \u001b[0;36mCalcF1\u001b[1;34m(SGCL)\u001b[0m\n",
      "\u001b[1;31mKeyError\u001b[0m: None"
     ]
    },
    {
     "ename": "KeyError",
     "evalue": "None",
     "output_type": "error",
     "traceback": [
      "\u001b[1;31m---------------------------------------------------------------------------\u001b[0m",
      "\u001b[1;31mKeyError\u001b[0m                                  Traceback (most recent call last)",
      "\u001b[1;32m<expression>\u001b[0m in \u001b[0;36m<module>\u001b[1;34m()\u001b[0m\n",
      "\u001b[1;32m<string>\u001b[0m in \u001b[0;36mCalcF1\u001b[1;34m(SGCL)\u001b[0m\n",
      "\u001b[1;31mKeyError\u001b[0m: None"
     ]
    },
    {
     "ename": "KeyError",
     "evalue": "None",
     "output_type": "error",
     "traceback": [
      "\u001b[1;31m---------------------------------------------------------------------------\u001b[0m",
      "\u001b[1;31mKeyError\u001b[0m                                  Traceback (most recent call last)",
      "\u001b[1;32m<expression>\u001b[0m in \u001b[0;36m<module>\u001b[1;34m()\u001b[0m\n",
      "\u001b[1;32m<string>\u001b[0m in \u001b[0;36mCalcF1\u001b[1;34m(SGCL)\u001b[0m\n",
      "\u001b[1;31mKeyError\u001b[0m: None"
     ]
    },
    {
     "ename": "KeyError",
     "evalue": "None",
     "output_type": "error",
     "traceback": [
      "\u001b[1;31m---------------------------------------------------------------------------\u001b[0m",
      "\u001b[1;31mKeyError\u001b[0m                                  Traceback (most recent call last)",
      "\u001b[1;32m<expression>\u001b[0m in \u001b[0;36m<module>\u001b[1;34m()\u001b[0m\n",
      "\u001b[1;32m<string>\u001b[0m in \u001b[0;36mCalcF1\u001b[1;34m(SGCL)\u001b[0m\n",
      "\u001b[1;31mKeyError\u001b[0m: None"
     ]
    },
    {
     "ename": "KeyError",
     "evalue": "None",
     "output_type": "error",
     "traceback": [
      "\u001b[1;31m---------------------------------------------------------------------------\u001b[0m",
      "\u001b[1;31mKeyError\u001b[0m                                  Traceback (most recent call last)",
      "\u001b[1;32m<expression>\u001b[0m in \u001b[0;36m<module>\u001b[1;34m()\u001b[0m\n",
      "\u001b[1;32m<string>\u001b[0m in \u001b[0;36mCalcF1\u001b[1;34m(SGCL)\u001b[0m\n",
      "\u001b[1;31mKeyError\u001b[0m: None"
     ]
    },
    {
     "ename": "KeyError",
     "evalue": "None",
     "output_type": "error",
     "traceback": [
      "\u001b[1;31m---------------------------------------------------------------------------\u001b[0m",
      "\u001b[1;31mKeyError\u001b[0m                                  Traceback (most recent call last)",
      "\u001b[1;32m<expression>\u001b[0m in \u001b[0;36m<module>\u001b[1;34m()\u001b[0m\n",
      "\u001b[1;32m<string>\u001b[0m in \u001b[0;36mCalcF1\u001b[1;34m(SGCL)\u001b[0m\n",
      "\u001b[1;31mKeyError\u001b[0m: None"
     ]
    },
    {
     "ename": "KeyError",
     "evalue": "None",
     "output_type": "error",
     "traceback": [
      "\u001b[1;31m---------------------------------------------------------------------------\u001b[0m",
      "\u001b[1;31mKeyError\u001b[0m                                  Traceback (most recent call last)",
      "\u001b[1;32m<expression>\u001b[0m in \u001b[0;36m<module>\u001b[1;34m()\u001b[0m\n",
      "\u001b[1;32m<string>\u001b[0m in \u001b[0;36mCalcF1\u001b[1;34m(SGCL)\u001b[0m\n",
      "\u001b[1;31mKeyError\u001b[0m: None"
     ]
    },
    {
     "ename": "KeyError",
     "evalue": "None",
     "output_type": "error",
     "traceback": [
      "\u001b[1;31m---------------------------------------------------------------------------\u001b[0m",
      "\u001b[1;31mKeyError\u001b[0m                                  Traceback (most recent call last)",
      "\u001b[1;32m<expression>\u001b[0m in \u001b[0;36m<module>\u001b[1;34m()\u001b[0m\n",
      "\u001b[1;32m<string>\u001b[0m in \u001b[0;36mCalcF1\u001b[1;34m(SGCL)\u001b[0m\n",
      "\u001b[1;31mKeyError\u001b[0m: None"
     ]
    },
    {
     "ename": "KeyError",
     "evalue": "None",
     "output_type": "error",
     "traceback": [
      "\u001b[1;31m---------------------------------------------------------------------------\u001b[0m",
      "\u001b[1;31mKeyError\u001b[0m                                  Traceback (most recent call last)",
      "\u001b[1;32m<expression>\u001b[0m in \u001b[0;36m<module>\u001b[1;34m()\u001b[0m\n",
      "\u001b[1;32m<string>\u001b[0m in \u001b[0;36mCalcF1\u001b[1;34m(SGCL)\u001b[0m\n",
      "\u001b[1;31mKeyError\u001b[0m: None"
     ]
    },
    {
     "ename": "KeyError",
     "evalue": "None",
     "output_type": "error",
     "traceback": [
      "\u001b[1;31m---------------------------------------------------------------------------\u001b[0m",
      "\u001b[1;31mKeyError\u001b[0m                                  Traceback (most recent call last)",
      "\u001b[1;32m<expression>\u001b[0m in \u001b[0;36m<module>\u001b[1;34m()\u001b[0m\n",
      "\u001b[1;32m<string>\u001b[0m in \u001b[0;36mCalcF1\u001b[1;34m(SGCL)\u001b[0m\n",
      "\u001b[1;31mKeyError\u001b[0m: None"
     ]
    },
    {
     "ename": "KeyError",
     "evalue": "None",
     "output_type": "error",
     "traceback": [
      "\u001b[1;31m---------------------------------------------------------------------------\u001b[0m",
      "\u001b[1;31mKeyError\u001b[0m                                  Traceback (most recent call last)",
      "\u001b[1;32m<expression>\u001b[0m in \u001b[0;36m<module>\u001b[1;34m()\u001b[0m\n",
      "\u001b[1;32m<string>\u001b[0m in \u001b[0;36mCalcF1\u001b[1;34m(SGCL)\u001b[0m\n",
      "\u001b[1;31mKeyError\u001b[0m: None"
     ]
    },
    {
     "ename": "KeyError",
     "evalue": "None",
     "output_type": "error",
     "traceback": [
      "\u001b[1;31m---------------------------------------------------------------------------\u001b[0m",
      "\u001b[1;31mKeyError\u001b[0m                                  Traceback (most recent call last)",
      "\u001b[1;32m<expression>\u001b[0m in \u001b[0;36m<module>\u001b[1;34m()\u001b[0m\n",
      "\u001b[1;32m<string>\u001b[0m in \u001b[0;36mCalcF1\u001b[1;34m(SGCL)\u001b[0m\n",
      "\u001b[1;31mKeyError\u001b[0m: None"
     ]
    },
    {
     "ename": "KeyError",
     "evalue": "None",
     "output_type": "error",
     "traceback": [
      "\u001b[1;31m---------------------------------------------------------------------------\u001b[0m",
      "\u001b[1;31mKeyError\u001b[0m                                  Traceback (most recent call last)",
      "\u001b[1;32m<expression>\u001b[0m in \u001b[0;36m<module>\u001b[1;34m()\u001b[0m\n",
      "\u001b[1;32m<string>\u001b[0m in \u001b[0;36mCalcF1\u001b[1;34m(SGCL)\u001b[0m\n",
      "\u001b[1;31mKeyError\u001b[0m: None"
     ]
    },
    {
     "ename": "KeyError",
     "evalue": "None",
     "output_type": "error",
     "traceback": [
      "\u001b[1;31m---------------------------------------------------------------------------\u001b[0m",
      "\u001b[1;31mKeyError\u001b[0m                                  Traceback (most recent call last)",
      "\u001b[1;32m<expression>\u001b[0m in \u001b[0;36m<module>\u001b[1;34m()\u001b[0m\n",
      "\u001b[1;32m<string>\u001b[0m in \u001b[0;36mCalcF1\u001b[1;34m(SGCL)\u001b[0m\n",
      "\u001b[1;31mKeyError\u001b[0m: None"
     ]
    },
    {
     "ename": "KeyError",
     "evalue": "None",
     "output_type": "error",
     "traceback": [
      "\u001b[1;31m---------------------------------------------------------------------------\u001b[0m",
      "\u001b[1;31mKeyError\u001b[0m                                  Traceback (most recent call last)",
      "\u001b[1;32m<expression>\u001b[0m in \u001b[0;36m<module>\u001b[1;34m()\u001b[0m\n",
      "\u001b[1;32m<string>\u001b[0m in \u001b[0;36mCalcF1\u001b[1;34m(SGCL)\u001b[0m\n",
      "\u001b[1;31mKeyError\u001b[0m: None"
     ]
    },
    {
     "ename": "KeyError",
     "evalue": "None",
     "output_type": "error",
     "traceback": [
      "\u001b[1;31m---------------------------------------------------------------------------\u001b[0m",
      "\u001b[1;31mKeyError\u001b[0m                                  Traceback (most recent call last)",
      "\u001b[1;32m<expression>\u001b[0m in \u001b[0;36m<module>\u001b[1;34m()\u001b[0m\n",
      "\u001b[1;32m<string>\u001b[0m in \u001b[0;36mCalcF1\u001b[1;34m(SGCL)\u001b[0m\n",
      "\u001b[1;31mKeyError\u001b[0m: None"
     ]
    },
    {
     "ename": "KeyError",
     "evalue": "None",
     "output_type": "error",
     "traceback": [
      "\u001b[1;31m---------------------------------------------------------------------------\u001b[0m",
      "\u001b[1;31mKeyError\u001b[0m                                  Traceback (most recent call last)",
      "\u001b[1;32m<expression>\u001b[0m in \u001b[0;36m<module>\u001b[1;34m()\u001b[0m\n",
      "\u001b[1;32m<string>\u001b[0m in \u001b[0;36mCalcF1\u001b[1;34m(SGCL)\u001b[0m\n",
      "\u001b[1;31mKeyError\u001b[0m: None"
     ]
    },
    {
     "ename": "KeyError",
     "evalue": "None",
     "output_type": "error",
     "traceback": [
      "\u001b[1;31m---------------------------------------------------------------------------\u001b[0m",
      "\u001b[1;31mKeyError\u001b[0m                                  Traceback (most recent call last)",
      "\u001b[1;32m<expression>\u001b[0m in \u001b[0;36m<module>\u001b[1;34m()\u001b[0m\n",
      "\u001b[1;32m<string>\u001b[0m in \u001b[0;36mCalcF1\u001b[1;34m(SGCL)\u001b[0m\n",
      "\u001b[1;31mKeyError\u001b[0m: None"
     ]
    },
    {
     "ename": "KeyError",
     "evalue": "None",
     "output_type": "error",
     "traceback": [
      "\u001b[1;31m---------------------------------------------------------------------------\u001b[0m",
      "\u001b[1;31mKeyError\u001b[0m                                  Traceback (most recent call last)",
      "\u001b[1;32m<expression>\u001b[0m in \u001b[0;36m<module>\u001b[1;34m()\u001b[0m\n",
      "\u001b[1;32m<string>\u001b[0m in \u001b[0;36mCalcF1\u001b[1;34m(SGCL)\u001b[0m\n",
      "\u001b[1;31mKeyError\u001b[0m: None"
     ]
    },
    {
     "ename": "KeyError",
     "evalue": "None",
     "output_type": "error",
     "traceback": [
      "\u001b[1;31m---------------------------------------------------------------------------\u001b[0m",
      "\u001b[1;31mKeyError\u001b[0m                                  Traceback (most recent call last)",
      "\u001b[1;32m<expression>\u001b[0m in \u001b[0;36m<module>\u001b[1;34m()\u001b[0m\n",
      "\u001b[1;32m<string>\u001b[0m in \u001b[0;36mCalcF1\u001b[1;34m(SGCL)\u001b[0m\n",
      "\u001b[1;31mKeyError\u001b[0m: None"
     ]
    },
    {
     "ename": "KeyError",
     "evalue": "None",
     "output_type": "error",
     "traceback": [
      "\u001b[1;31m---------------------------------------------------------------------------\u001b[0m",
      "\u001b[1;31mKeyError\u001b[0m                                  Traceback (most recent call last)",
      "\u001b[1;32m<expression>\u001b[0m in \u001b[0;36m<module>\u001b[1;34m()\u001b[0m\n",
      "\u001b[1;32m<string>\u001b[0m in \u001b[0;36mCalcF1\u001b[1;34m(SGCL)\u001b[0m\n",
      "\u001b[1;31mKeyError\u001b[0m: None"
     ]
    },
    {
     "ename": "KeyError",
     "evalue": "None",
     "output_type": "error",
     "traceback": [
      "\u001b[1;31m---------------------------------------------------------------------------\u001b[0m",
      "\u001b[1;31mKeyError\u001b[0m                                  Traceback (most recent call last)",
      "\u001b[1;32m<expression>\u001b[0m in \u001b[0;36m<module>\u001b[1;34m()\u001b[0m\n",
      "\u001b[1;32m<string>\u001b[0m in \u001b[0;36mCalcF1\u001b[1;34m(SGCL)\u001b[0m\n",
      "\u001b[1;31mKeyError\u001b[0m: None"
     ]
    },
    {
     "ename": "KeyError",
     "evalue": "None",
     "output_type": "error",
     "traceback": [
      "\u001b[1;31m---------------------------------------------------------------------------\u001b[0m",
      "\u001b[1;31mKeyError\u001b[0m                                  Traceback (most recent call last)",
      "\u001b[1;32m<expression>\u001b[0m in \u001b[0;36m<module>\u001b[1;34m()\u001b[0m\n",
      "\u001b[1;32m<string>\u001b[0m in \u001b[0;36mCalcF1\u001b[1;34m(SGCL)\u001b[0m\n",
      "\u001b[1;31mKeyError\u001b[0m: None"
     ]
    },
    {
     "ename": "KeyError",
     "evalue": "None",
     "output_type": "error",
     "traceback": [
      "\u001b[1;31m---------------------------------------------------------------------------\u001b[0m",
      "\u001b[1;31mKeyError\u001b[0m                                  Traceback (most recent call last)",
      "\u001b[1;32m<expression>\u001b[0m in \u001b[0;36m<module>\u001b[1;34m()\u001b[0m\n",
      "\u001b[1;32m<string>\u001b[0m in \u001b[0;36mCalcF1\u001b[1;34m(SGCL)\u001b[0m\n",
      "\u001b[1;31mKeyError\u001b[0m: None"
     ]
    },
    {
     "ename": "KeyError",
     "evalue": "None",
     "output_type": "error",
     "traceback": [
      "\u001b[1;31m---------------------------------------------------------------------------\u001b[0m",
      "\u001b[1;31mKeyError\u001b[0m                                  Traceback (most recent call last)",
      "\u001b[1;32m<expression>\u001b[0m in \u001b[0;36m<module>\u001b[1;34m()\u001b[0m\n",
      "\u001b[1;32m<string>\u001b[0m in \u001b[0;36mCalcF1\u001b[1;34m(SGCL)\u001b[0m\n",
      "\u001b[1;31mKeyError\u001b[0m: None"
     ]
    },
    {
     "ename": "KeyError",
     "evalue": "None",
     "output_type": "error",
     "traceback": [
      "\u001b[1;31m---------------------------------------------------------------------------\u001b[0m",
      "\u001b[1;31mKeyError\u001b[0m                                  Traceback (most recent call last)",
      "\u001b[1;32m<expression>\u001b[0m in \u001b[0;36m<module>\u001b[1;34m()\u001b[0m\n",
      "\u001b[1;32m<string>\u001b[0m in \u001b[0;36mCalcF1\u001b[1;34m(SGCL)\u001b[0m\n",
      "\u001b[1;31mKeyError\u001b[0m: None"
     ]
    },
    {
     "ename": "KeyError",
     "evalue": "None",
     "output_type": "error",
     "traceback": [
      "\u001b[1;31m---------------------------------------------------------------------------\u001b[0m",
      "\u001b[1;31mKeyError\u001b[0m                                  Traceback (most recent call last)",
      "\u001b[1;32m<expression>\u001b[0m in \u001b[0;36m<module>\u001b[1;34m()\u001b[0m\n",
      "\u001b[1;32m<string>\u001b[0m in \u001b[0;36mCalcF1\u001b[1;34m(SGCL)\u001b[0m\n",
      "\u001b[1;31mKeyError\u001b[0m: None"
     ]
    },
    {
     "ename": "KeyError",
     "evalue": "None",
     "output_type": "error",
     "traceback": [
      "\u001b[1;31m---------------------------------------------------------------------------\u001b[0m",
      "\u001b[1;31mKeyError\u001b[0m                                  Traceback (most recent call last)",
      "\u001b[1;32m<expression>\u001b[0m in \u001b[0;36m<module>\u001b[1;34m()\u001b[0m\n",
      "\u001b[1;32m<string>\u001b[0m in \u001b[0;36mCalcF1\u001b[1;34m(SGCL)\u001b[0m\n",
      "\u001b[1;31mKeyError\u001b[0m: None"
     ]
    },
    {
     "ename": "KeyError",
     "evalue": "None",
     "output_type": "error",
     "traceback": [
      "\u001b[1;31m---------------------------------------------------------------------------\u001b[0m",
      "\u001b[1;31mKeyError\u001b[0m                                  Traceback (most recent call last)",
      "\u001b[1;32m<expression>\u001b[0m in \u001b[0;36m<module>\u001b[1;34m()\u001b[0m\n",
      "\u001b[1;32m<string>\u001b[0m in \u001b[0;36mCalcF1\u001b[1;34m(SGCL)\u001b[0m\n",
      "\u001b[1;31mKeyError\u001b[0m: None"
     ]
    },
    {
     "ename": "KeyError",
     "evalue": "None",
     "output_type": "error",
     "traceback": [
      "\u001b[1;31m---------------------------------------------------------------------------\u001b[0m",
      "\u001b[1;31mKeyError\u001b[0m                                  Traceback (most recent call last)",
      "\u001b[1;32m<expression>\u001b[0m in \u001b[0;36m<module>\u001b[1;34m()\u001b[0m\n",
      "\u001b[1;32m<string>\u001b[0m in \u001b[0;36mCalcF1\u001b[1;34m(SGCL)\u001b[0m\n",
      "\u001b[1;31mKeyError\u001b[0m: None"
     ]
    },
    {
     "ename": "KeyError",
     "evalue": "None",
     "output_type": "error",
     "traceback": [
      "\u001b[1;31m---------------------------------------------------------------------------\u001b[0m",
      "\u001b[1;31mKeyError\u001b[0m                                  Traceback (most recent call last)",
      "\u001b[1;32m<expression>\u001b[0m in \u001b[0;36m<module>\u001b[1;34m()\u001b[0m\n",
      "\u001b[1;32m<string>\u001b[0m in \u001b[0;36mCalcF1\u001b[1;34m(SGCL)\u001b[0m\n",
      "\u001b[1;31mKeyError\u001b[0m: None"
     ]
    },
    {
     "ename": "KeyError",
     "evalue": "None",
     "output_type": "error",
     "traceback": [
      "\u001b[1;31m---------------------------------------------------------------------------\u001b[0m",
      "\u001b[1;31mKeyError\u001b[0m                                  Traceback (most recent call last)",
      "\u001b[1;32m<expression>\u001b[0m in \u001b[0;36m<module>\u001b[1;34m()\u001b[0m\n",
      "\u001b[1;32m<string>\u001b[0m in \u001b[0;36mCalcF1\u001b[1;34m(SGCL)\u001b[0m\n",
      "\u001b[1;31mKeyError\u001b[0m: None"
     ]
    },
    {
     "ename": "KeyError",
     "evalue": "None",
     "output_type": "error",
     "traceback": [
      "\u001b[1;31m---------------------------------------------------------------------------\u001b[0m",
      "\u001b[1;31mKeyError\u001b[0m                                  Traceback (most recent call last)",
      "\u001b[1;32m<expression>\u001b[0m in \u001b[0;36m<module>\u001b[1;34m()\u001b[0m\n",
      "\u001b[1;32m<string>\u001b[0m in \u001b[0;36mCalcF1\u001b[1;34m(SGCL)\u001b[0m\n",
      "\u001b[1;31mKeyError\u001b[0m: None"
     ]
    },
    {
     "ename": "KeyError",
     "evalue": "None",
     "output_type": "error",
     "traceback": [
      "\u001b[1;31m---------------------------------------------------------------------------\u001b[0m",
      "\u001b[1;31mKeyError\u001b[0m                                  Traceback (most recent call last)",
      "\u001b[1;32m<expression>\u001b[0m in \u001b[0;36m<module>\u001b[1;34m()\u001b[0m\n",
      "\u001b[1;32m<string>\u001b[0m in \u001b[0;36mCalcF1\u001b[1;34m(SGCL)\u001b[0m\n",
      "\u001b[1;31mKeyError\u001b[0m: None"
     ]
    },
    {
     "ename": "KeyError",
     "evalue": "None",
     "output_type": "error",
     "traceback": [
      "\u001b[1;31m---------------------------------------------------------------------------\u001b[0m",
      "\u001b[1;31mKeyError\u001b[0m                                  Traceback (most recent call last)",
      "\u001b[1;32m<expression>\u001b[0m in \u001b[0;36m<module>\u001b[1;34m()\u001b[0m\n",
      "\u001b[1;32m<string>\u001b[0m in \u001b[0;36mCalcF1\u001b[1;34m(SGCL)\u001b[0m\n",
      "\u001b[1;31mKeyError\u001b[0m: None"
     ]
    },
    {
     "ename": "KeyError",
     "evalue": "None",
     "output_type": "error",
     "traceback": [
      "\u001b[1;31m---------------------------------------------------------------------------\u001b[0m",
      "\u001b[1;31mKeyError\u001b[0m                                  Traceback (most recent call last)",
      "\u001b[1;32m<expression>\u001b[0m in \u001b[0;36m<module>\u001b[1;34m()\u001b[0m\n",
      "\u001b[1;32m<string>\u001b[0m in \u001b[0;36mCalcF1\u001b[1;34m(SGCL)\u001b[0m\n",
      "\u001b[1;31mKeyError\u001b[0m: None"
     ]
    },
    {
     "ename": "KeyError",
     "evalue": "None",
     "output_type": "error",
     "traceback": [
      "\u001b[1;31m---------------------------------------------------------------------------\u001b[0m",
      "\u001b[1;31mKeyError\u001b[0m                                  Traceback (most recent call last)",
      "\u001b[1;32m<expression>\u001b[0m in \u001b[0;36m<module>\u001b[1;34m()\u001b[0m\n",
      "\u001b[1;32m<string>\u001b[0m in \u001b[0;36mCalcF1\u001b[1;34m(SGCL)\u001b[0m\n",
      "\u001b[1;31mKeyError\u001b[0m: None"
     ]
    },
    {
     "ename": "KeyError",
     "evalue": "None",
     "output_type": "error",
     "traceback": [
      "\u001b[1;31m---------------------------------------------------------------------------\u001b[0m",
      "\u001b[1;31mKeyError\u001b[0m                                  Traceback (most recent call last)",
      "\u001b[1;32m<expression>\u001b[0m in \u001b[0;36m<module>\u001b[1;34m()\u001b[0m\n",
      "\u001b[1;32m<string>\u001b[0m in \u001b[0;36mCalcF1\u001b[1;34m(SGCL)\u001b[0m\n",
      "\u001b[1;31mKeyError\u001b[0m: None"
     ]
    },
    {
     "ename": "KeyError",
     "evalue": "None",
     "output_type": "error",
     "traceback": [
      "\u001b[1;31m---------------------------------------------------------------------------\u001b[0m",
      "\u001b[1;31mKeyError\u001b[0m                                  Traceback (most recent call last)",
      "\u001b[1;32m<expression>\u001b[0m in \u001b[0;36m<module>\u001b[1;34m()\u001b[0m\n",
      "\u001b[1;32m<string>\u001b[0m in \u001b[0;36mCalcF1\u001b[1;34m(SGCL)\u001b[0m\n",
      "\u001b[1;31mKeyError\u001b[0m: None"
     ]
    },
    {
     "ename": "KeyError",
     "evalue": "None",
     "output_type": "error",
     "traceback": [
      "\u001b[1;31m---------------------------------------------------------------------------\u001b[0m",
      "\u001b[1;31mKeyError\u001b[0m                                  Traceback (most recent call last)",
      "\u001b[1;32m<expression>\u001b[0m in \u001b[0;36m<module>\u001b[1;34m()\u001b[0m\n",
      "\u001b[1;32m<string>\u001b[0m in \u001b[0;36mCalcF1\u001b[1;34m(SGCL)\u001b[0m\n",
      "\u001b[1;31mKeyError\u001b[0m: None"
     ]
    },
    {
     "ename": "KeyError",
     "evalue": "None",
     "output_type": "error",
     "traceback": [
      "\u001b[1;31m---------------------------------------------------------------------------\u001b[0m",
      "\u001b[1;31mKeyError\u001b[0m                                  Traceback (most recent call last)",
      "\u001b[1;32m<expression>\u001b[0m in \u001b[0;36m<module>\u001b[1;34m()\u001b[0m\n",
      "\u001b[1;32m<string>\u001b[0m in \u001b[0;36mCalcF1\u001b[1;34m(SGCL)\u001b[0m\n",
      "\u001b[1;31mKeyError\u001b[0m: None"
     ]
    },
    {
     "ename": "KeyError",
     "evalue": "None",
     "output_type": "error",
     "traceback": [
      "\u001b[1;31m---------------------------------------------------------------------------\u001b[0m",
      "\u001b[1;31mKeyError\u001b[0m                                  Traceback (most recent call last)",
      "\u001b[1;32m<expression>\u001b[0m in \u001b[0;36m<module>\u001b[1;34m()\u001b[0m\n",
      "\u001b[1;32m<string>\u001b[0m in \u001b[0;36mCalcF1\u001b[1;34m(SGCL)\u001b[0m\n",
      "\u001b[1;31mKeyError\u001b[0m: None"
     ]
    },
    {
     "ename": "KeyError",
     "evalue": "None",
     "output_type": "error",
     "traceback": [
      "\u001b[1;31m---------------------------------------------------------------------------\u001b[0m",
      "\u001b[1;31mKeyError\u001b[0m                                  Traceback (most recent call last)",
      "\u001b[1;32m<expression>\u001b[0m in \u001b[0;36m<module>\u001b[1;34m()\u001b[0m\n",
      "\u001b[1;32m<string>\u001b[0m in \u001b[0;36mCalcF1\u001b[1;34m(SGCL)\u001b[0m\n",
      "\u001b[1;31mKeyError\u001b[0m: None"
     ]
    },
    {
     "ename": "KeyError",
     "evalue": "None",
     "output_type": "error",
     "traceback": [
      "\u001b[1;31m---------------------------------------------------------------------------\u001b[0m",
      "\u001b[1;31mKeyError\u001b[0m                                  Traceback (most recent call last)",
      "\u001b[1;32m<expression>\u001b[0m in \u001b[0;36m<module>\u001b[1;34m()\u001b[0m\n",
      "\u001b[1;32m<string>\u001b[0m in \u001b[0;36mCalcF1\u001b[1;34m(SGCL)\u001b[0m\n",
      "\u001b[1;31mKeyError\u001b[0m: None"
     ]
    },
    {
     "ename": "KeyError",
     "evalue": "None",
     "output_type": "error",
     "traceback": [
      "\u001b[1;31m---------------------------------------------------------------------------\u001b[0m",
      "\u001b[1;31mKeyError\u001b[0m                                  Traceback (most recent call last)",
      "\u001b[1;32m<expression>\u001b[0m in \u001b[0;36m<module>\u001b[1;34m()\u001b[0m\n",
      "\u001b[1;32m<string>\u001b[0m in \u001b[0;36mCalcF1\u001b[1;34m(SGCL)\u001b[0m\n",
      "\u001b[1;31mKeyError\u001b[0m: None"
     ]
    },
    {
     "ename": "KeyError",
     "evalue": "None",
     "output_type": "error",
     "traceback": [
      "\u001b[1;31m---------------------------------------------------------------------------\u001b[0m",
      "\u001b[1;31mKeyError\u001b[0m                                  Traceback (most recent call last)",
      "\u001b[1;32m<expression>\u001b[0m in \u001b[0;36m<module>\u001b[1;34m()\u001b[0m\n",
      "\u001b[1;32m<string>\u001b[0m in \u001b[0;36mCalcF1\u001b[1;34m(SGCL)\u001b[0m\n",
      "\u001b[1;31mKeyError\u001b[0m: None"
     ]
    },
    {
     "ename": "KeyError",
     "evalue": "None",
     "output_type": "error",
     "traceback": [
      "\u001b[1;31m---------------------------------------------------------------------------\u001b[0m",
      "\u001b[1;31mKeyError\u001b[0m                                  Traceback (most recent call last)",
      "\u001b[1;32m<expression>\u001b[0m in \u001b[0;36m<module>\u001b[1;34m()\u001b[0m\n",
      "\u001b[1;32m<string>\u001b[0m in \u001b[0;36mCalcF1\u001b[1;34m(SGCL)\u001b[0m\n",
      "\u001b[1;31mKeyError\u001b[0m: None"
     ]
    },
    {
     "ename": "KeyError",
     "evalue": "None",
     "output_type": "error",
     "traceback": [
      "\u001b[1;31m---------------------------------------------------------------------------\u001b[0m",
      "\u001b[1;31mKeyError\u001b[0m                                  Traceback (most recent call last)",
      "\u001b[1;32m<expression>\u001b[0m in \u001b[0;36m<module>\u001b[1;34m()\u001b[0m\n",
      "\u001b[1;32m<string>\u001b[0m in \u001b[0;36mCalcF1\u001b[1;34m(SGCL)\u001b[0m\n",
      "\u001b[1;31mKeyError\u001b[0m: None"
     ]
    },
    {
     "ename": "KeyError",
     "evalue": "None",
     "output_type": "error",
     "traceback": [
      "\u001b[1;31m---------------------------------------------------------------------------\u001b[0m",
      "\u001b[1;31mKeyError\u001b[0m                                  Traceback (most recent call last)",
      "\u001b[1;32m<expression>\u001b[0m in \u001b[0;36m<module>\u001b[1;34m()\u001b[0m\n",
      "\u001b[1;32m<string>\u001b[0m in \u001b[0;36mCalcF1\u001b[1;34m(SGCL)\u001b[0m\n",
      "\u001b[1;31mKeyError\u001b[0m: None"
     ]
    },
    {
     "ename": "KeyError",
     "evalue": "None",
     "output_type": "error",
     "traceback": [
      "\u001b[1;31m---------------------------------------------------------------------------\u001b[0m",
      "\u001b[1;31mKeyError\u001b[0m                                  Traceback (most recent call last)",
      "\u001b[1;32m<expression>\u001b[0m in \u001b[0;36m<module>\u001b[1;34m()\u001b[0m\n",
      "\u001b[1;32m<string>\u001b[0m in \u001b[0;36mCalcF1\u001b[1;34m(SGCL)\u001b[0m\n",
      "\u001b[1;31mKeyError\u001b[0m: None"
     ]
    },
    {
     "ename": "KeyError",
     "evalue": "None",
     "output_type": "error",
     "traceback": [
      "\u001b[1;31m---------------------------------------------------------------------------\u001b[0m",
      "\u001b[1;31mKeyError\u001b[0m                                  Traceback (most recent call last)",
      "\u001b[1;32m<expression>\u001b[0m in \u001b[0;36m<module>\u001b[1;34m()\u001b[0m\n",
      "\u001b[1;32m<string>\u001b[0m in \u001b[0;36mCalcF1\u001b[1;34m(SGCL)\u001b[0m\n",
      "\u001b[1;31mKeyError\u001b[0m: None"
     ]
    },
    {
     "ename": "KeyError",
     "evalue": "None",
     "output_type": "error",
     "traceback": [
      "\u001b[1;31m---------------------------------------------------------------------------\u001b[0m",
      "\u001b[1;31mKeyError\u001b[0m                                  Traceback (most recent call last)",
      "\u001b[1;32m<expression>\u001b[0m in \u001b[0;36m<module>\u001b[1;34m()\u001b[0m\n",
      "\u001b[1;32m<string>\u001b[0m in \u001b[0;36mCalcF1\u001b[1;34m(SGCL)\u001b[0m\n",
      "\u001b[1;31mKeyError\u001b[0m: None"
     ]
    },
    {
     "ename": "KeyError",
     "evalue": "None",
     "output_type": "error",
     "traceback": [
      "\u001b[1;31m---------------------------------------------------------------------------\u001b[0m",
      "\u001b[1;31mKeyError\u001b[0m                                  Traceback (most recent call last)",
      "\u001b[1;32m<expression>\u001b[0m in \u001b[0;36m<module>\u001b[1;34m()\u001b[0m\n",
      "\u001b[1;32m<string>\u001b[0m in \u001b[0;36mCalcF1\u001b[1;34m(SGCL)\u001b[0m\n",
      "\u001b[1;31mKeyError\u001b[0m: None"
     ]
    },
    {
     "ename": "KeyError",
     "evalue": "None",
     "output_type": "error",
     "traceback": [
      "\u001b[1;31m---------------------------------------------------------------------------\u001b[0m",
      "\u001b[1;31mKeyError\u001b[0m                                  Traceback (most recent call last)",
      "\u001b[1;32m<expression>\u001b[0m in \u001b[0;36m<module>\u001b[1;34m()\u001b[0m\n",
      "\u001b[1;32m<string>\u001b[0m in \u001b[0;36mCalcF1\u001b[1;34m(SGCL)\u001b[0m\n",
      "\u001b[1;31mKeyError\u001b[0m: None"
     ]
    },
    {
     "ename": "KeyError",
     "evalue": "None",
     "output_type": "error",
     "traceback": [
      "\u001b[1;31m---------------------------------------------------------------------------\u001b[0m",
      "\u001b[1;31mKeyError\u001b[0m                                  Traceback (most recent call last)",
      "\u001b[1;32m<expression>\u001b[0m in \u001b[0;36m<module>\u001b[1;34m()\u001b[0m\n",
      "\u001b[1;32m<string>\u001b[0m in \u001b[0;36mCalcF1\u001b[1;34m(SGCL)\u001b[0m\n",
      "\u001b[1;31mKeyError\u001b[0m: None"
     ]
    },
    {
     "ename": "KeyError",
     "evalue": "None",
     "output_type": "error",
     "traceback": [
      "\u001b[1;31m---------------------------------------------------------------------------\u001b[0m",
      "\u001b[1;31mKeyError\u001b[0m                                  Traceback (most recent call last)",
      "\u001b[1;32m<expression>\u001b[0m in \u001b[0;36m<module>\u001b[1;34m()\u001b[0m\n",
      "\u001b[1;32m<string>\u001b[0m in \u001b[0;36mCalcF1\u001b[1;34m(SGCL)\u001b[0m\n",
      "\u001b[1;31mKeyError\u001b[0m: None"
     ]
    },
    {
     "ename": "KeyError",
     "evalue": "None",
     "output_type": "error",
     "traceback": [
      "\u001b[1;31m---------------------------------------------------------------------------\u001b[0m",
      "\u001b[1;31mKeyError\u001b[0m                                  Traceback (most recent call last)",
      "\u001b[1;32m<expression>\u001b[0m in \u001b[0;36m<module>\u001b[1;34m()\u001b[0m\n",
      "\u001b[1;32m<string>\u001b[0m in \u001b[0;36mCalcF1\u001b[1;34m(SGCL)\u001b[0m\n",
      "\u001b[1;31mKeyError\u001b[0m: None"
     ]
    },
    {
     "ename": "KeyError",
     "evalue": "None",
     "output_type": "error",
     "traceback": [
      "\u001b[1;31m---------------------------------------------------------------------------\u001b[0m",
      "\u001b[1;31mKeyError\u001b[0m                                  Traceback (most recent call last)",
      "\u001b[1;32m<expression>\u001b[0m in \u001b[0;36m<module>\u001b[1;34m()\u001b[0m\n",
      "\u001b[1;32m<string>\u001b[0m in \u001b[0;36mCalcF1\u001b[1;34m(SGCL)\u001b[0m\n",
      "\u001b[1;31mKeyError\u001b[0m: None"
     ]
    },
    {
     "ename": "KeyError",
     "evalue": "None",
     "output_type": "error",
     "traceback": [
      "\u001b[1;31m---------------------------------------------------------------------------\u001b[0m",
      "\u001b[1;31mKeyError\u001b[0m                                  Traceback (most recent call last)",
      "\u001b[1;32m<expression>\u001b[0m in \u001b[0;36m<module>\u001b[1;34m()\u001b[0m\n",
      "\u001b[1;32m<string>\u001b[0m in \u001b[0;36mCalcF1\u001b[1;34m(SGCL)\u001b[0m\n",
      "\u001b[1;31mKeyError\u001b[0m: None"
     ]
    },
    {
     "ename": "KeyError",
     "evalue": "None",
     "output_type": "error",
     "traceback": [
      "\u001b[1;31m---------------------------------------------------------------------------\u001b[0m",
      "\u001b[1;31mKeyError\u001b[0m                                  Traceback (most recent call last)",
      "\u001b[1;32m<expression>\u001b[0m in \u001b[0;36m<module>\u001b[1;34m()\u001b[0m\n",
      "\u001b[1;32m<string>\u001b[0m in \u001b[0;36mCalcF1\u001b[1;34m(SGCL)\u001b[0m\n",
      "\u001b[1;31mKeyError\u001b[0m: None"
     ]
    },
    {
     "ename": "KeyError",
     "evalue": "None",
     "output_type": "error",
     "traceback": [
      "\u001b[1;31m---------------------------------------------------------------------------\u001b[0m",
      "\u001b[1;31mKeyError\u001b[0m                                  Traceback (most recent call last)",
      "\u001b[1;32m<expression>\u001b[0m in \u001b[0;36m<module>\u001b[1;34m()\u001b[0m\n",
      "\u001b[1;32m<string>\u001b[0m in \u001b[0;36mCalcF1\u001b[1;34m(SGCL)\u001b[0m\n",
      "\u001b[1;31mKeyError\u001b[0m: None"
     ]
    },
    {
     "ename": "KeyError",
     "evalue": "None",
     "output_type": "error",
     "traceback": [
      "\u001b[1;31m---------------------------------------------------------------------------\u001b[0m",
      "\u001b[1;31mKeyError\u001b[0m                                  Traceback (most recent call last)",
      "\u001b[1;32m<expression>\u001b[0m in \u001b[0;36m<module>\u001b[1;34m()\u001b[0m\n",
      "\u001b[1;32m<string>\u001b[0m in \u001b[0;36mCalcF1\u001b[1;34m(SGCL)\u001b[0m\n",
      "\u001b[1;31mKeyError\u001b[0m: None"
     ]
    },
    {
     "ename": "KeyError",
     "evalue": "None",
     "output_type": "error",
     "traceback": [
      "\u001b[1;31m---------------------------------------------------------------------------\u001b[0m",
      "\u001b[1;31mKeyError\u001b[0m                                  Traceback (most recent call last)",
      "\u001b[1;32m<expression>\u001b[0m in \u001b[0;36m<module>\u001b[1;34m()\u001b[0m\n",
      "\u001b[1;32m<string>\u001b[0m in \u001b[0;36mCalcF1\u001b[1;34m(SGCL)\u001b[0m\n",
      "\u001b[1;31mKeyError\u001b[0m: None"
     ]
    },
    {
     "ename": "KeyError",
     "evalue": "None",
     "output_type": "error",
     "traceback": [
      "\u001b[1;31m---------------------------------------------------------------------------\u001b[0m",
      "\u001b[1;31mKeyError\u001b[0m                                  Traceback (most recent call last)",
      "\u001b[1;32m<expression>\u001b[0m in \u001b[0;36m<module>\u001b[1;34m()\u001b[0m\n",
      "\u001b[1;32m<string>\u001b[0m in \u001b[0;36mCalcF1\u001b[1;34m(SGCL)\u001b[0m\n",
      "\u001b[1;31mKeyError\u001b[0m: None"
     ]
    },
    {
     "ename": "KeyError",
     "evalue": "None",
     "output_type": "error",
     "traceback": [
      "\u001b[1;31m---------------------------------------------------------------------------\u001b[0m",
      "\u001b[1;31mKeyError\u001b[0m                                  Traceback (most recent call last)",
      "\u001b[1;32m<expression>\u001b[0m in \u001b[0;36m<module>\u001b[1;34m()\u001b[0m\n",
      "\u001b[1;32m<string>\u001b[0m in \u001b[0;36mCalcF1\u001b[1;34m(SGCL)\u001b[0m\n",
      "\u001b[1;31mKeyError\u001b[0m: None"
     ]
    },
    {
     "ename": "KeyError",
     "evalue": "None",
     "output_type": "error",
     "traceback": [
      "\u001b[1;31m---------------------------------------------------------------------------\u001b[0m",
      "\u001b[1;31mKeyError\u001b[0m                                  Traceback (most recent call last)",
      "\u001b[1;32m<expression>\u001b[0m in \u001b[0;36m<module>\u001b[1;34m()\u001b[0m\n",
      "\u001b[1;32m<string>\u001b[0m in \u001b[0;36mCalcF1\u001b[1;34m(SGCL)\u001b[0m\n",
      "\u001b[1;31mKeyError\u001b[0m: None"
     ]
    },
    {
     "ename": "KeyError",
     "evalue": "None",
     "output_type": "error",
     "traceback": [
      "\u001b[1;31m---------------------------------------------------------------------------\u001b[0m",
      "\u001b[1;31mKeyError\u001b[0m                                  Traceback (most recent call last)",
      "\u001b[1;32m<expression>\u001b[0m in \u001b[0;36m<module>\u001b[1;34m()\u001b[0m\n",
      "\u001b[1;32m<string>\u001b[0m in \u001b[0;36mCalcF1\u001b[1;34m(SGCL)\u001b[0m\n",
      "\u001b[1;31mKeyError\u001b[0m: None"
     ]
    },
    {
     "ename": "KeyError",
     "evalue": "None",
     "output_type": "error",
     "traceback": [
      "\u001b[1;31m---------------------------------------------------------------------------\u001b[0m",
      "\u001b[1;31mKeyError\u001b[0m                                  Traceback (most recent call last)",
      "\u001b[1;32m<expression>\u001b[0m in \u001b[0;36m<module>\u001b[1;34m()\u001b[0m\n",
      "\u001b[1;32m<string>\u001b[0m in \u001b[0;36mCalcF1\u001b[1;34m(SGCL)\u001b[0m\n",
      "\u001b[1;31mKeyError\u001b[0m: None"
     ]
    },
    {
     "ename": "KeyError",
     "evalue": "None",
     "output_type": "error",
     "traceback": [
      "\u001b[1;31m---------------------------------------------------------------------------\u001b[0m",
      "\u001b[1;31mKeyError\u001b[0m                                  Traceback (most recent call last)",
      "\u001b[1;32m<expression>\u001b[0m in \u001b[0;36m<module>\u001b[1;34m()\u001b[0m\n",
      "\u001b[1;32m<string>\u001b[0m in \u001b[0;36mCalcF1\u001b[1;34m(SGCL)\u001b[0m\n",
      "\u001b[1;31mKeyError\u001b[0m: None"
     ]
    },
    {
     "ename": "KeyError",
     "evalue": "None",
     "output_type": "error",
     "traceback": [
      "\u001b[1;31m---------------------------------------------------------------------------\u001b[0m",
      "\u001b[1;31mKeyError\u001b[0m                                  Traceback (most recent call last)",
      "\u001b[1;32m<expression>\u001b[0m in \u001b[0;36m<module>\u001b[1;34m()\u001b[0m\n",
      "\u001b[1;32m<string>\u001b[0m in \u001b[0;36mCalcF1\u001b[1;34m(SGCL)\u001b[0m\n",
      "\u001b[1;31mKeyError\u001b[0m: None"
     ]
    },
    {
     "ename": "KeyError",
     "evalue": "None",
     "output_type": "error",
     "traceback": [
      "\u001b[1;31m---------------------------------------------------------------------------\u001b[0m",
      "\u001b[1;31mKeyError\u001b[0m                                  Traceback (most recent call last)",
      "\u001b[1;32m<expression>\u001b[0m in \u001b[0;36m<module>\u001b[1;34m()\u001b[0m\n",
      "\u001b[1;32m<string>\u001b[0m in \u001b[0;36mCalcF1\u001b[1;34m(SGCL)\u001b[0m\n",
      "\u001b[1;31mKeyError\u001b[0m: None"
     ]
    },
    {
     "ename": "KeyError",
     "evalue": "None",
     "output_type": "error",
     "traceback": [
      "\u001b[1;31m---------------------------------------------------------------------------\u001b[0m",
      "\u001b[1;31mKeyError\u001b[0m                                  Traceback (most recent call last)",
      "\u001b[1;32m<expression>\u001b[0m in \u001b[0;36m<module>\u001b[1;34m()\u001b[0m\n",
      "\u001b[1;32m<string>\u001b[0m in \u001b[0;36mCalcF1\u001b[1;34m(SGCL)\u001b[0m\n",
      "\u001b[1;31mKeyError\u001b[0m: None"
     ]
    },
    {
     "ename": "KeyError",
     "evalue": "None",
     "output_type": "error",
     "traceback": [
      "\u001b[1;31m---------------------------------------------------------------------------\u001b[0m",
      "\u001b[1;31mKeyError\u001b[0m                                  Traceback (most recent call last)",
      "\u001b[1;32m<expression>\u001b[0m in \u001b[0;36m<module>\u001b[1;34m()\u001b[0m\n",
      "\u001b[1;32m<string>\u001b[0m in \u001b[0;36mCalcF1\u001b[1;34m(SGCL)\u001b[0m\n",
      "\u001b[1;31mKeyError\u001b[0m: None"
     ]
    },
    {
     "ename": "KeyError",
     "evalue": "None",
     "output_type": "error",
     "traceback": [
      "\u001b[1;31m---------------------------------------------------------------------------\u001b[0m",
      "\u001b[1;31mKeyError\u001b[0m                                  Traceback (most recent call last)",
      "\u001b[1;32m<expression>\u001b[0m in \u001b[0;36m<module>\u001b[1;34m()\u001b[0m\n",
      "\u001b[1;32m<string>\u001b[0m in \u001b[0;36mCalcF1\u001b[1;34m(SGCL)\u001b[0m\n",
      "\u001b[1;31mKeyError\u001b[0m: None"
     ]
    },
    {
     "ename": "KeyError",
     "evalue": "None",
     "output_type": "error",
     "traceback": [
      "\u001b[1;31m---------------------------------------------------------------------------\u001b[0m",
      "\u001b[1;31mKeyError\u001b[0m                                  Traceback (most recent call last)",
      "\u001b[1;32m<expression>\u001b[0m in \u001b[0;36m<module>\u001b[1;34m()\u001b[0m\n",
      "\u001b[1;32m<string>\u001b[0m in \u001b[0;36mCalcF1\u001b[1;34m(SGCL)\u001b[0m\n",
      "\u001b[1;31mKeyError\u001b[0m: None"
     ]
    },
    {
     "ename": "KeyError",
     "evalue": "None",
     "output_type": "error",
     "traceback": [
      "\u001b[1;31m---------------------------------------------------------------------------\u001b[0m",
      "\u001b[1;31mKeyError\u001b[0m                                  Traceback (most recent call last)",
      "\u001b[1;32m<expression>\u001b[0m in \u001b[0;36m<module>\u001b[1;34m()\u001b[0m\n",
      "\u001b[1;32m<string>\u001b[0m in \u001b[0;36mCalcF1\u001b[1;34m(SGCL)\u001b[0m\n",
      "\u001b[1;31mKeyError\u001b[0m: None"
     ]
    },
    {
     "ename": "KeyError",
     "evalue": "None",
     "output_type": "error",
     "traceback": [
      "\u001b[1;31m---------------------------------------------------------------------------\u001b[0m",
      "\u001b[1;31mKeyError\u001b[0m                                  Traceback (most recent call last)",
      "\u001b[1;32m<expression>\u001b[0m in \u001b[0;36m<module>\u001b[1;34m()\u001b[0m\n",
      "\u001b[1;32m<string>\u001b[0m in \u001b[0;36mCalcF1\u001b[1;34m(SGCL)\u001b[0m\n",
      "\u001b[1;31mKeyError\u001b[0m: None"
     ]
    },
    {
     "ename": "KeyError",
     "evalue": "None",
     "output_type": "error",
     "traceback": [
      "\u001b[1;31m---------------------------------------------------------------------------\u001b[0m",
      "\u001b[1;31mKeyError\u001b[0m                                  Traceback (most recent call last)",
      "\u001b[1;32m<expression>\u001b[0m in \u001b[0;36m<module>\u001b[1;34m()\u001b[0m\n",
      "\u001b[1;32m<string>\u001b[0m in \u001b[0;36mCalcF1\u001b[1;34m(SGCL)\u001b[0m\n",
      "\u001b[1;31mKeyError\u001b[0m: None"
     ]
    },
    {
     "ename": "KeyError",
     "evalue": "None",
     "output_type": "error",
     "traceback": [
      "\u001b[1;31m---------------------------------------------------------------------------\u001b[0m",
      "\u001b[1;31mKeyError\u001b[0m                                  Traceback (most recent call last)",
      "\u001b[1;32m<expression>\u001b[0m in \u001b[0;36m<module>\u001b[1;34m()\u001b[0m\n",
      "\u001b[1;32m<string>\u001b[0m in \u001b[0;36mCalcF1\u001b[1;34m(SGCL)\u001b[0m\n",
      "\u001b[1;31mKeyError\u001b[0m: None"
     ]
    },
    {
     "ename": "KeyError",
     "evalue": "None",
     "output_type": "error",
     "traceback": [
      "\u001b[1;31m---------------------------------------------------------------------------\u001b[0m",
      "\u001b[1;31mKeyError\u001b[0m                                  Traceback (most recent call last)",
      "\u001b[1;32m<expression>\u001b[0m in \u001b[0;36m<module>\u001b[1;34m()\u001b[0m\n",
      "\u001b[1;32m<string>\u001b[0m in \u001b[0;36mCalcF1\u001b[1;34m(SGCL)\u001b[0m\n",
      "\u001b[1;31mKeyError\u001b[0m: None"
     ]
    },
    {
     "ename": "KeyError",
     "evalue": "None",
     "output_type": "error",
     "traceback": [
      "\u001b[1;31m---------------------------------------------------------------------------\u001b[0m",
      "\u001b[1;31mKeyError\u001b[0m                                  Traceback (most recent call last)",
      "\u001b[1;32m<expression>\u001b[0m in \u001b[0;36m<module>\u001b[1;34m()\u001b[0m\n",
      "\u001b[1;32m<string>\u001b[0m in \u001b[0;36mCalcF1\u001b[1;34m(SGCL)\u001b[0m\n",
      "\u001b[1;31mKeyError\u001b[0m: None"
     ]
    },
    {
     "ename": "KeyError",
     "evalue": "None",
     "output_type": "error",
     "traceback": [
      "\u001b[1;31m---------------------------------------------------------------------------\u001b[0m",
      "\u001b[1;31mKeyError\u001b[0m                                  Traceback (most recent call last)",
      "\u001b[1;32m<expression>\u001b[0m in \u001b[0;36m<module>\u001b[1;34m()\u001b[0m\n",
      "\u001b[1;32m<string>\u001b[0m in \u001b[0;36mCalcF1\u001b[1;34m(SGCL)\u001b[0m\n",
      "\u001b[1;31mKeyError\u001b[0m: None"
     ]
    },
    {
     "ename": "KeyError",
     "evalue": "None",
     "output_type": "error",
     "traceback": [
      "\u001b[1;31m---------------------------------------------------------------------------\u001b[0m",
      "\u001b[1;31mKeyError\u001b[0m                                  Traceback (most recent call last)",
      "\u001b[1;32m<expression>\u001b[0m in \u001b[0;36m<module>\u001b[1;34m()\u001b[0m\n",
      "\u001b[1;32m<string>\u001b[0m in \u001b[0;36mCalcF1\u001b[1;34m(SGCL)\u001b[0m\n",
      "\u001b[1;31mKeyError\u001b[0m: None"
     ]
    },
    {
     "ename": "KeyError",
     "evalue": "None",
     "output_type": "error",
     "traceback": [
      "\u001b[1;31m---------------------------------------------------------------------------\u001b[0m",
      "\u001b[1;31mKeyError\u001b[0m                                  Traceback (most recent call last)",
      "\u001b[1;32m<expression>\u001b[0m in \u001b[0;36m<module>\u001b[1;34m()\u001b[0m\n",
      "\u001b[1;32m<string>\u001b[0m in \u001b[0;36mCalcF1\u001b[1;34m(SGCL)\u001b[0m\n",
      "\u001b[1;31mKeyError\u001b[0m: None"
     ]
    },
    {
     "ename": "KeyError",
     "evalue": "None",
     "output_type": "error",
     "traceback": [
      "\u001b[1;31m---------------------------------------------------------------------------\u001b[0m",
      "\u001b[1;31mKeyError\u001b[0m                                  Traceback (most recent call last)",
      "\u001b[1;32m<expression>\u001b[0m in \u001b[0;36m<module>\u001b[1;34m()\u001b[0m\n",
      "\u001b[1;32m<string>\u001b[0m in \u001b[0;36mCalcF1\u001b[1;34m(SGCL)\u001b[0m\n",
      "\u001b[1;31mKeyError\u001b[0m: None"
     ]
    },
    {
     "ename": "KeyError",
     "evalue": "None",
     "output_type": "error",
     "traceback": [
      "\u001b[1;31m---------------------------------------------------------------------------\u001b[0m",
      "\u001b[1;31mKeyError\u001b[0m                                  Traceback (most recent call last)",
      "\u001b[1;32m<expression>\u001b[0m in \u001b[0;36m<module>\u001b[1;34m()\u001b[0m\n",
      "\u001b[1;32m<string>\u001b[0m in \u001b[0;36mCalcF1\u001b[1;34m(SGCL)\u001b[0m\n",
      "\u001b[1;31mKeyError\u001b[0m: None"
     ]
    },
    {
     "ename": "KeyError",
     "evalue": "None",
     "output_type": "error",
     "traceback": [
      "\u001b[1;31m---------------------------------------------------------------------------\u001b[0m",
      "\u001b[1;31mKeyError\u001b[0m                                  Traceback (most recent call last)",
      "\u001b[1;32m<expression>\u001b[0m in \u001b[0;36m<module>\u001b[1;34m()\u001b[0m\n",
      "\u001b[1;32m<string>\u001b[0m in \u001b[0;36mCalcF1\u001b[1;34m(SGCL)\u001b[0m\n",
      "\u001b[1;31mKeyError\u001b[0m: None"
     ]
    },
    {
     "ename": "KeyError",
     "evalue": "None",
     "output_type": "error",
     "traceback": [
      "\u001b[1;31m---------------------------------------------------------------------------\u001b[0m",
      "\u001b[1;31mKeyError\u001b[0m                                  Traceback (most recent call last)",
      "\u001b[1;32m<expression>\u001b[0m in \u001b[0;36m<module>\u001b[1;34m()\u001b[0m\n",
      "\u001b[1;32m<string>\u001b[0m in \u001b[0;36mCalcF1\u001b[1;34m(SGCL)\u001b[0m\n",
      "\u001b[1;31mKeyError\u001b[0m: None"
     ]
    },
    {
     "ename": "KeyError",
     "evalue": "None",
     "output_type": "error",
     "traceback": [
      "\u001b[1;31m---------------------------------------------------------------------------\u001b[0m",
      "\u001b[1;31mKeyError\u001b[0m                                  Traceback (most recent call last)",
      "\u001b[1;32m<expression>\u001b[0m in \u001b[0;36m<module>\u001b[1;34m()\u001b[0m\n",
      "\u001b[1;32m<string>\u001b[0m in \u001b[0;36mCalcF1\u001b[1;34m(SGCL)\u001b[0m\n",
      "\u001b[1;31mKeyError\u001b[0m: None"
     ]
    },
    {
     "ename": "KeyError",
     "evalue": "None",
     "output_type": "error",
     "traceback": [
      "\u001b[1;31m---------------------------------------------------------------------------\u001b[0m",
      "\u001b[1;31mKeyError\u001b[0m                                  Traceback (most recent call last)",
      "\u001b[1;32m<expression>\u001b[0m in \u001b[0;36m<module>\u001b[1;34m()\u001b[0m\n",
      "\u001b[1;32m<string>\u001b[0m in \u001b[0;36mCalcF1\u001b[1;34m(SGCL)\u001b[0m\n",
      "\u001b[1;31mKeyError\u001b[0m: None"
     ]
    },
    {
     "ename": "KeyError",
     "evalue": "None",
     "output_type": "error",
     "traceback": [
      "\u001b[1;31m---------------------------------------------------------------------------\u001b[0m",
      "\u001b[1;31mKeyError\u001b[0m                                  Traceback (most recent call last)",
      "\u001b[1;32m<expression>\u001b[0m in \u001b[0;36m<module>\u001b[1;34m()\u001b[0m\n",
      "\u001b[1;32m<string>\u001b[0m in \u001b[0;36mCalcF1\u001b[1;34m(SGCL)\u001b[0m\n",
      "\u001b[1;31mKeyError\u001b[0m: None"
     ]
    },
    {
     "ename": "KeyError",
     "evalue": "None",
     "output_type": "error",
     "traceback": [
      "\u001b[1;31m---------------------------------------------------------------------------\u001b[0m",
      "\u001b[1;31mKeyError\u001b[0m                                  Traceback (most recent call last)",
      "\u001b[1;32m<expression>\u001b[0m in \u001b[0;36m<module>\u001b[1;34m()\u001b[0m\n",
      "\u001b[1;32m<string>\u001b[0m in \u001b[0;36mCalcF1\u001b[1;34m(SGCL)\u001b[0m\n",
      "\u001b[1;31mKeyError\u001b[0m: None"
     ]
    },
    {
     "ename": "KeyError",
     "evalue": "None",
     "output_type": "error",
     "traceback": [
      "\u001b[1;31m---------------------------------------------------------------------------\u001b[0m",
      "\u001b[1;31mKeyError\u001b[0m                                  Traceback (most recent call last)",
      "\u001b[1;32m<expression>\u001b[0m in \u001b[0;36m<module>\u001b[1;34m()\u001b[0m\n",
      "\u001b[1;32m<string>\u001b[0m in \u001b[0;36mCalcF1\u001b[1;34m(SGCL)\u001b[0m\n",
      "\u001b[1;31mKeyError\u001b[0m: None"
     ]
    },
    {
     "ename": "KeyError",
     "evalue": "None",
     "output_type": "error",
     "traceback": [
      "\u001b[1;31m---------------------------------------------------------------------------\u001b[0m",
      "\u001b[1;31mKeyError\u001b[0m                                  Traceback (most recent call last)",
      "\u001b[1;32m<expression>\u001b[0m in \u001b[0;36m<module>\u001b[1;34m()\u001b[0m\n",
      "\u001b[1;32m<string>\u001b[0m in \u001b[0;36mCalcF1\u001b[1;34m(SGCL)\u001b[0m\n",
      "\u001b[1;31mKeyError\u001b[0m: None"
     ]
    },
    {
     "ename": "KeyError",
     "evalue": "None",
     "output_type": "error",
     "traceback": [
      "\u001b[1;31m---------------------------------------------------------------------------\u001b[0m",
      "\u001b[1;31mKeyError\u001b[0m                                  Traceback (most recent call last)",
      "\u001b[1;32m<expression>\u001b[0m in \u001b[0;36m<module>\u001b[1;34m()\u001b[0m\n",
      "\u001b[1;32m<string>\u001b[0m in \u001b[0;36mCalcF1\u001b[1;34m(SGCL)\u001b[0m\n",
      "\u001b[1;31mKeyError\u001b[0m: None"
     ]
    },
    {
     "ename": "KeyError",
     "evalue": "None",
     "output_type": "error",
     "traceback": [
      "\u001b[1;31m---------------------------------------------------------------------------\u001b[0m",
      "\u001b[1;31mKeyError\u001b[0m                                  Traceback (most recent call last)",
      "\u001b[1;32m<expression>\u001b[0m in \u001b[0;36m<module>\u001b[1;34m()\u001b[0m\n",
      "\u001b[1;32m<string>\u001b[0m in \u001b[0;36mCalcF1\u001b[1;34m(SGCL)\u001b[0m\n",
      "\u001b[1;31mKeyError\u001b[0m: None"
     ]
    },
    {
     "ename": "KeyError",
     "evalue": "None",
     "output_type": "error",
     "traceback": [
      "\u001b[1;31m---------------------------------------------------------------------------\u001b[0m",
      "\u001b[1;31mKeyError\u001b[0m                                  Traceback (most recent call last)",
      "\u001b[1;32m<expression>\u001b[0m in \u001b[0;36m<module>\u001b[1;34m()\u001b[0m\n",
      "\u001b[1;32m<string>\u001b[0m in \u001b[0;36mCalcF1\u001b[1;34m(SGCL)\u001b[0m\n",
      "\u001b[1;31mKeyError\u001b[0m: None"
     ]
    },
    {
     "ename": "KeyError",
     "evalue": "None",
     "output_type": "error",
     "traceback": [
      "\u001b[1;31m---------------------------------------------------------------------------\u001b[0m",
      "\u001b[1;31mKeyError\u001b[0m                                  Traceback (most recent call last)",
      "\u001b[1;32m<expression>\u001b[0m in \u001b[0;36m<module>\u001b[1;34m()\u001b[0m\n",
      "\u001b[1;32m<string>\u001b[0m in \u001b[0;36mCalcF1\u001b[1;34m(SGCL)\u001b[0m\n",
      "\u001b[1;31mKeyError\u001b[0m: None"
     ]
    },
    {
     "ename": "KeyError",
     "evalue": "None",
     "output_type": "error",
     "traceback": [
      "\u001b[1;31m---------------------------------------------------------------------------\u001b[0m",
      "\u001b[1;31mKeyError\u001b[0m                                  Traceback (most recent call last)",
      "\u001b[1;32m<expression>\u001b[0m in \u001b[0;36m<module>\u001b[1;34m()\u001b[0m\n",
      "\u001b[1;32m<string>\u001b[0m in \u001b[0;36mCalcF1\u001b[1;34m(SGCL)\u001b[0m\n",
      "\u001b[1;31mKeyError\u001b[0m: None"
     ]
    },
    {
     "ename": "KeyError",
     "evalue": "None",
     "output_type": "error",
     "traceback": [
      "\u001b[1;31m---------------------------------------------------------------------------\u001b[0m",
      "\u001b[1;31mKeyError\u001b[0m                                  Traceback (most recent call last)",
      "\u001b[1;32m<expression>\u001b[0m in \u001b[0;36m<module>\u001b[1;34m()\u001b[0m\n",
      "\u001b[1;32m<string>\u001b[0m in \u001b[0;36mCalcF1\u001b[1;34m(SGCL)\u001b[0m\n",
      "\u001b[1;31mKeyError\u001b[0m: None"
     ]
    },
    {
     "ename": "KeyError",
     "evalue": "None",
     "output_type": "error",
     "traceback": [
      "\u001b[1;31m---------------------------------------------------------------------------\u001b[0m",
      "\u001b[1;31mKeyError\u001b[0m                                  Traceback (most recent call last)",
      "\u001b[1;32m<expression>\u001b[0m in \u001b[0;36m<module>\u001b[1;34m()\u001b[0m\n",
      "\u001b[1;32m<string>\u001b[0m in \u001b[0;36mCalcF1\u001b[1;34m(SGCL)\u001b[0m\n",
      "\u001b[1;31mKeyError\u001b[0m: None"
     ]
    },
    {
     "ename": "KeyError",
     "evalue": "None",
     "output_type": "error",
     "traceback": [
      "\u001b[1;31m---------------------------------------------------------------------------\u001b[0m",
      "\u001b[1;31mKeyError\u001b[0m                                  Traceback (most recent call last)",
      "\u001b[1;32m<expression>\u001b[0m in \u001b[0;36m<module>\u001b[1;34m()\u001b[0m\n",
      "\u001b[1;32m<string>\u001b[0m in \u001b[0;36mCalcF1\u001b[1;34m(SGCL)\u001b[0m\n",
      "\u001b[1;31mKeyError\u001b[0m: None"
     ]
    },
    {
     "ename": "KeyError",
     "evalue": "None",
     "output_type": "error",
     "traceback": [
      "\u001b[1;31m---------------------------------------------------------------------------\u001b[0m",
      "\u001b[1;31mKeyError\u001b[0m                                  Traceback (most recent call last)",
      "\u001b[1;32m<expression>\u001b[0m in \u001b[0;36m<module>\u001b[1;34m()\u001b[0m\n",
      "\u001b[1;32m<string>\u001b[0m in \u001b[0;36mCalcF1\u001b[1;34m(SGCL)\u001b[0m\n",
      "\u001b[1;31mKeyError\u001b[0m: None"
     ]
    },
    {
     "ename": "KeyError",
     "evalue": "None",
     "output_type": "error",
     "traceback": [
      "\u001b[1;31m---------------------------------------------------------------------------\u001b[0m",
      "\u001b[1;31mKeyError\u001b[0m                                  Traceback (most recent call last)",
      "\u001b[1;32m<expression>\u001b[0m in \u001b[0;36m<module>\u001b[1;34m()\u001b[0m\n",
      "\u001b[1;32m<string>\u001b[0m in \u001b[0;36mCalcF1\u001b[1;34m(SGCL)\u001b[0m\n",
      "\u001b[1;31mKeyError\u001b[0m: None"
     ]
    },
    {
     "ename": "KeyError",
     "evalue": "None",
     "output_type": "error",
     "traceback": [
      "\u001b[1;31m---------------------------------------------------------------------------\u001b[0m",
      "\u001b[1;31mKeyError\u001b[0m                                  Traceback (most recent call last)",
      "\u001b[1;32m<expression>\u001b[0m in \u001b[0;36m<module>\u001b[1;34m()\u001b[0m\n",
      "\u001b[1;32m<string>\u001b[0m in \u001b[0;36mCalcF1\u001b[1;34m(SGCL)\u001b[0m\n",
      "\u001b[1;31mKeyError\u001b[0m: None"
     ]
    },
    {
     "ename": "KeyError",
     "evalue": "None",
     "output_type": "error",
     "traceback": [
      "\u001b[1;31m---------------------------------------------------------------------------\u001b[0m",
      "\u001b[1;31mKeyError\u001b[0m                                  Traceback (most recent call last)",
      "\u001b[1;32m<expression>\u001b[0m in \u001b[0;36m<module>\u001b[1;34m()\u001b[0m\n",
      "\u001b[1;32m<string>\u001b[0m in \u001b[0;36mCalcF1\u001b[1;34m(SGCL)\u001b[0m\n",
      "\u001b[1;31mKeyError\u001b[0m: None"
     ]
    },
    {
     "ename": "KeyError",
     "evalue": "None",
     "output_type": "error",
     "traceback": [
      "\u001b[1;31m---------------------------------------------------------------------------\u001b[0m",
      "\u001b[1;31mKeyError\u001b[0m                                  Traceback (most recent call last)",
      "\u001b[1;32m<expression>\u001b[0m in \u001b[0;36m<module>\u001b[1;34m()\u001b[0m\n",
      "\u001b[1;32m<string>\u001b[0m in \u001b[0;36mCalcF1\u001b[1;34m(SGCL)\u001b[0m\n",
      "\u001b[1;31mKeyError\u001b[0m: None"
     ]
    },
    {
     "ename": "KeyError",
     "evalue": "None",
     "output_type": "error",
     "traceback": [
      "\u001b[1;31m---------------------------------------------------------------------------\u001b[0m",
      "\u001b[1;31mKeyError\u001b[0m                                  Traceback (most recent call last)",
      "\u001b[1;32m<expression>\u001b[0m in \u001b[0;36m<module>\u001b[1;34m()\u001b[0m\n",
      "\u001b[1;32m<string>\u001b[0m in \u001b[0;36mCalcF1\u001b[1;34m(SGCL)\u001b[0m\n",
      "\u001b[1;31mKeyError\u001b[0m: None"
     ]
    },
    {
     "ename": "KeyError",
     "evalue": "None",
     "output_type": "error",
     "traceback": [
      "\u001b[1;31m---------------------------------------------------------------------------\u001b[0m",
      "\u001b[1;31mKeyError\u001b[0m                                  Traceback (most recent call last)",
      "\u001b[1;32m<expression>\u001b[0m in \u001b[0;36m<module>\u001b[1;34m()\u001b[0m\n",
      "\u001b[1;32m<string>\u001b[0m in \u001b[0;36mCalcF1\u001b[1;34m(SGCL)\u001b[0m\n",
      "\u001b[1;31mKeyError\u001b[0m: None"
     ]
    },
    {
     "ename": "KeyError",
     "evalue": "None",
     "output_type": "error",
     "traceback": [
      "\u001b[1;31m---------------------------------------------------------------------------\u001b[0m",
      "\u001b[1;31mKeyError\u001b[0m                                  Traceback (most recent call last)",
      "\u001b[1;32m<expression>\u001b[0m in \u001b[0;36m<module>\u001b[1;34m()\u001b[0m\n",
      "\u001b[1;32m<string>\u001b[0m in \u001b[0;36mCalcF1\u001b[1;34m(SGCL)\u001b[0m\n",
      "\u001b[1;31mKeyError\u001b[0m: None"
     ]
    },
    {
     "ename": "KeyError",
     "evalue": "None",
     "output_type": "error",
     "traceback": [
      "\u001b[1;31m---------------------------------------------------------------------------\u001b[0m",
      "\u001b[1;31mKeyError\u001b[0m                                  Traceback (most recent call last)",
      "\u001b[1;32m<expression>\u001b[0m in \u001b[0;36m<module>\u001b[1;34m()\u001b[0m\n",
      "\u001b[1;32m<string>\u001b[0m in \u001b[0;36mCalcF1\u001b[1;34m(SGCL)\u001b[0m\n",
      "\u001b[1;31mKeyError\u001b[0m: None"
     ]
    },
    {
     "ename": "KeyError",
     "evalue": "None",
     "output_type": "error",
     "traceback": [
      "\u001b[1;31m---------------------------------------------------------------------------\u001b[0m",
      "\u001b[1;31mKeyError\u001b[0m                                  Traceback (most recent call last)",
      "\u001b[1;32m<expression>\u001b[0m in \u001b[0;36m<module>\u001b[1;34m()\u001b[0m\n",
      "\u001b[1;32m<string>\u001b[0m in \u001b[0;36mCalcF1\u001b[1;34m(SGCL)\u001b[0m\n",
      "\u001b[1;31mKeyError\u001b[0m: None"
     ]
    },
    {
     "ename": "KeyError",
     "evalue": "None",
     "output_type": "error",
     "traceback": [
      "\u001b[1;31m---------------------------------------------------------------------------\u001b[0m",
      "\u001b[1;31mKeyError\u001b[0m                                  Traceback (most recent call last)",
      "\u001b[1;32m<expression>\u001b[0m in \u001b[0;36m<module>\u001b[1;34m()\u001b[0m\n",
      "\u001b[1;32m<string>\u001b[0m in \u001b[0;36mCalcF1\u001b[1;34m(SGCL)\u001b[0m\n",
      "\u001b[1;31mKeyError\u001b[0m: None"
     ]
    },
    {
     "ename": "KeyError",
     "evalue": "None",
     "output_type": "error",
     "traceback": [
      "\u001b[1;31m---------------------------------------------------------------------------\u001b[0m",
      "\u001b[1;31mKeyError\u001b[0m                                  Traceback (most recent call last)",
      "\u001b[1;32m<expression>\u001b[0m in \u001b[0;36m<module>\u001b[1;34m()\u001b[0m\n",
      "\u001b[1;32m<string>\u001b[0m in \u001b[0;36mCalcF1\u001b[1;34m(SGCL)\u001b[0m\n",
      "\u001b[1;31mKeyError\u001b[0m: None"
     ]
    },
    {
     "ename": "KeyError",
     "evalue": "None",
     "output_type": "error",
     "traceback": [
      "\u001b[1;31m---------------------------------------------------------------------------\u001b[0m",
      "\u001b[1;31mKeyError\u001b[0m                                  Traceback (most recent call last)",
      "\u001b[1;32m<expression>\u001b[0m in \u001b[0;36m<module>\u001b[1;34m()\u001b[0m\n",
      "\u001b[1;32m<string>\u001b[0m in \u001b[0;36mCalcF1\u001b[1;34m(SGCL)\u001b[0m\n",
      "\u001b[1;31mKeyError\u001b[0m: None"
     ]
    },
    {
     "ename": "KeyError",
     "evalue": "None",
     "output_type": "error",
     "traceback": [
      "\u001b[1;31m---------------------------------------------------------------------------\u001b[0m",
      "\u001b[1;31mKeyError\u001b[0m                                  Traceback (most recent call last)",
      "\u001b[1;32m<expression>\u001b[0m in \u001b[0;36m<module>\u001b[1;34m()\u001b[0m\n",
      "\u001b[1;32m<string>\u001b[0m in \u001b[0;36mCalcF1\u001b[1;34m(SGCL)\u001b[0m\n",
      "\u001b[1;31mKeyError\u001b[0m: None"
     ]
    },
    {
     "ename": "KeyError",
     "evalue": "None",
     "output_type": "error",
     "traceback": [
      "\u001b[1;31m---------------------------------------------------------------------------\u001b[0m",
      "\u001b[1;31mKeyError\u001b[0m                                  Traceback (most recent call last)",
      "\u001b[1;32m<expression>\u001b[0m in \u001b[0;36m<module>\u001b[1;34m()\u001b[0m\n",
      "\u001b[1;32m<string>\u001b[0m in \u001b[0;36mCalcF1\u001b[1;34m(SGCL)\u001b[0m\n",
      "\u001b[1;31mKeyError\u001b[0m: None"
     ]
    },
    {
     "ename": "KeyError",
     "evalue": "None",
     "output_type": "error",
     "traceback": [
      "\u001b[1;31m---------------------------------------------------------------------------\u001b[0m",
      "\u001b[1;31mKeyError\u001b[0m                                  Traceback (most recent call last)",
      "\u001b[1;32m<expression>\u001b[0m in \u001b[0;36m<module>\u001b[1;34m()\u001b[0m\n",
      "\u001b[1;32m<string>\u001b[0m in \u001b[0;36mCalcF1\u001b[1;34m(SGCL)\u001b[0m\n",
      "\u001b[1;31mKeyError\u001b[0m: None"
     ]
    },
    {
     "ename": "KeyError",
     "evalue": "None",
     "output_type": "error",
     "traceback": [
      "\u001b[1;31m---------------------------------------------------------------------------\u001b[0m",
      "\u001b[1;31mKeyError\u001b[0m                                  Traceback (most recent call last)",
      "\u001b[1;32m<expression>\u001b[0m in \u001b[0;36m<module>\u001b[1;34m()\u001b[0m\n",
      "\u001b[1;32m<string>\u001b[0m in \u001b[0;36mCalcF1\u001b[1;34m(SGCL)\u001b[0m\n",
      "\u001b[1;31mKeyError\u001b[0m: None"
     ]
    },
    {
     "ename": "KeyError",
     "evalue": "None",
     "output_type": "error",
     "traceback": [
      "\u001b[1;31m---------------------------------------------------------------------------\u001b[0m",
      "\u001b[1;31mKeyError\u001b[0m                                  Traceback (most recent call last)",
      "\u001b[1;32m<expression>\u001b[0m in \u001b[0;36m<module>\u001b[1;34m()\u001b[0m\n",
      "\u001b[1;32m<string>\u001b[0m in \u001b[0;36mCalcF1\u001b[1;34m(SGCL)\u001b[0m\n",
      "\u001b[1;31mKeyError\u001b[0m: None"
     ]
    },
    {
     "ename": "KeyError",
     "evalue": "None",
     "output_type": "error",
     "traceback": [
      "\u001b[1;31m---------------------------------------------------------------------------\u001b[0m",
      "\u001b[1;31mKeyError\u001b[0m                                  Traceback (most recent call last)",
      "\u001b[1;32m<expression>\u001b[0m in \u001b[0;36m<module>\u001b[1;34m()\u001b[0m\n",
      "\u001b[1;32m<string>\u001b[0m in \u001b[0;36mCalcF1\u001b[1;34m(SGCL)\u001b[0m\n",
      "\u001b[1;31mKeyError\u001b[0m: None"
     ]
    },
    {
     "ename": "KeyError",
     "evalue": "None",
     "output_type": "error",
     "traceback": [
      "\u001b[1;31m---------------------------------------------------------------------------\u001b[0m",
      "\u001b[1;31mKeyError\u001b[0m                                  Traceback (most recent call last)",
      "\u001b[1;32m<expression>\u001b[0m in \u001b[0;36m<module>\u001b[1;34m()\u001b[0m\n",
      "\u001b[1;32m<string>\u001b[0m in \u001b[0;36mCalcF1\u001b[1;34m(SGCL)\u001b[0m\n",
      "\u001b[1;31mKeyError\u001b[0m: None"
     ]
    },
    {
     "ename": "KeyError",
     "evalue": "None",
     "output_type": "error",
     "traceback": [
      "\u001b[1;31m---------------------------------------------------------------------------\u001b[0m",
      "\u001b[1;31mKeyError\u001b[0m                                  Traceback (most recent call last)",
      "\u001b[1;32m<expression>\u001b[0m in \u001b[0;36m<module>\u001b[1;34m()\u001b[0m\n",
      "\u001b[1;32m<string>\u001b[0m in \u001b[0;36mCalcF1\u001b[1;34m(SGCL)\u001b[0m\n",
      "\u001b[1;31mKeyError\u001b[0m: None"
     ]
    },
    {
     "ename": "KeyError",
     "evalue": "None",
     "output_type": "error",
     "traceback": [
      "\u001b[1;31m---------------------------------------------------------------------------\u001b[0m",
      "\u001b[1;31mKeyError\u001b[0m                                  Traceback (most recent call last)",
      "\u001b[1;32m<expression>\u001b[0m in \u001b[0;36m<module>\u001b[1;34m()\u001b[0m\n",
      "\u001b[1;32m<string>\u001b[0m in \u001b[0;36mCalcF1\u001b[1;34m(SGCL)\u001b[0m\n",
      "\u001b[1;31mKeyError\u001b[0m: None"
     ]
    },
    {
     "ename": "KeyError",
     "evalue": "None",
     "output_type": "error",
     "traceback": [
      "\u001b[1;31m---------------------------------------------------------------------------\u001b[0m",
      "\u001b[1;31mKeyError\u001b[0m                                  Traceback (most recent call last)",
      "\u001b[1;32m<expression>\u001b[0m in \u001b[0;36m<module>\u001b[1;34m()\u001b[0m\n",
      "\u001b[1;32m<string>\u001b[0m in \u001b[0;36mCalcF1\u001b[1;34m(SGCL)\u001b[0m\n",
      "\u001b[1;31mKeyError\u001b[0m: None"
     ]
    },
    {
     "ename": "KeyError",
     "evalue": "None",
     "output_type": "error",
     "traceback": [
      "\u001b[1;31m---------------------------------------------------------------------------\u001b[0m",
      "\u001b[1;31mKeyError\u001b[0m                                  Traceback (most recent call last)",
      "\u001b[1;32m<expression>\u001b[0m in \u001b[0;36m<module>\u001b[1;34m()\u001b[0m\n",
      "\u001b[1;32m<string>\u001b[0m in \u001b[0;36mCalcF1\u001b[1;34m(SGCL)\u001b[0m\n",
      "\u001b[1;31mKeyError\u001b[0m: None"
     ]
    },
    {
     "ename": "KeyError",
     "evalue": "None",
     "output_type": "error",
     "traceback": [
      "\u001b[1;31m---------------------------------------------------------------------------\u001b[0m",
      "\u001b[1;31mKeyError\u001b[0m                                  Traceback (most recent call last)",
      "\u001b[1;32m<expression>\u001b[0m in \u001b[0;36m<module>\u001b[1;34m()\u001b[0m\n",
      "\u001b[1;32m<string>\u001b[0m in \u001b[0;36mCalcF1\u001b[1;34m(SGCL)\u001b[0m\n",
      "\u001b[1;31mKeyError\u001b[0m: None"
     ]
    },
    {
     "ename": "KeyError",
     "evalue": "None",
     "output_type": "error",
     "traceback": [
      "\u001b[1;31m---------------------------------------------------------------------------\u001b[0m",
      "\u001b[1;31mKeyError\u001b[0m                                  Traceback (most recent call last)",
      "\u001b[1;32m<expression>\u001b[0m in \u001b[0;36m<module>\u001b[1;34m()\u001b[0m\n",
      "\u001b[1;32m<string>\u001b[0m in \u001b[0;36mCalcF1\u001b[1;34m(SGCL)\u001b[0m\n",
      "\u001b[1;31mKeyError\u001b[0m: None"
     ]
    },
    {
     "ename": "KeyError",
     "evalue": "None",
     "output_type": "error",
     "traceback": [
      "\u001b[1;31m---------------------------------------------------------------------------\u001b[0m",
      "\u001b[1;31mKeyError\u001b[0m                                  Traceback (most recent call last)",
      "\u001b[1;32m<expression>\u001b[0m in \u001b[0;36m<module>\u001b[1;34m()\u001b[0m\n",
      "\u001b[1;32m<string>\u001b[0m in \u001b[0;36mCalcF1\u001b[1;34m(SGCL)\u001b[0m\n",
      "\u001b[1;31mKeyError\u001b[0m: None"
     ]
    },
    {
     "ename": "KeyError",
     "evalue": "None",
     "output_type": "error",
     "traceback": [
      "\u001b[1;31m---------------------------------------------------------------------------\u001b[0m",
      "\u001b[1;31mKeyError\u001b[0m                                  Traceback (most recent call last)",
      "\u001b[1;32m<expression>\u001b[0m in \u001b[0;36m<module>\u001b[1;34m()\u001b[0m\n",
      "\u001b[1;32m<string>\u001b[0m in \u001b[0;36mCalcF1\u001b[1;34m(SGCL)\u001b[0m\n",
      "\u001b[1;31mKeyError\u001b[0m: None"
     ]
    },
    {
     "ename": "KeyError",
     "evalue": "None",
     "output_type": "error",
     "traceback": [
      "\u001b[1;31m---------------------------------------------------------------------------\u001b[0m",
      "\u001b[1;31mKeyError\u001b[0m                                  Traceback (most recent call last)",
      "\u001b[1;32m<expression>\u001b[0m in \u001b[0;36m<module>\u001b[1;34m()\u001b[0m\n",
      "\u001b[1;32m<string>\u001b[0m in \u001b[0;36mCalcF1\u001b[1;34m(SGCL)\u001b[0m\n",
      "\u001b[1;31mKeyError\u001b[0m: None"
     ]
    },
    {
     "ename": "KeyError",
     "evalue": "None",
     "output_type": "error",
     "traceback": [
      "\u001b[1;31m---------------------------------------------------------------------------\u001b[0m",
      "\u001b[1;31mKeyError\u001b[0m                                  Traceback (most recent call last)",
      "\u001b[1;32m<expression>\u001b[0m in \u001b[0;36m<module>\u001b[1;34m()\u001b[0m\n",
      "\u001b[1;32m<string>\u001b[0m in \u001b[0;36mCalcF1\u001b[1;34m(SGCL)\u001b[0m\n",
      "\u001b[1;31mKeyError\u001b[0m: None"
     ]
    },
    {
     "ename": "KeyError",
     "evalue": "None",
     "output_type": "error",
     "traceback": [
      "\u001b[1;31m---------------------------------------------------------------------------\u001b[0m",
      "\u001b[1;31mKeyError\u001b[0m                                  Traceback (most recent call last)",
      "\u001b[1;32m<expression>\u001b[0m in \u001b[0;36m<module>\u001b[1;34m()\u001b[0m\n",
      "\u001b[1;32m<string>\u001b[0m in \u001b[0;36mCalcF1\u001b[1;34m(SGCL)\u001b[0m\n",
      "\u001b[1;31mKeyError\u001b[0m: None"
     ]
    },
    {
     "ename": "KeyError",
     "evalue": "None",
     "output_type": "error",
     "traceback": [
      "\u001b[1;31m---------------------------------------------------------------------------\u001b[0m",
      "\u001b[1;31mKeyError\u001b[0m                                  Traceback (most recent call last)",
      "\u001b[1;32m<expression>\u001b[0m in \u001b[0;36m<module>\u001b[1;34m()\u001b[0m\n",
      "\u001b[1;32m<string>\u001b[0m in \u001b[0;36mCalcF1\u001b[1;34m(SGCL)\u001b[0m\n",
      "\u001b[1;31mKeyError\u001b[0m: None"
     ]
    },
    {
     "ename": "KeyError",
     "evalue": "None",
     "output_type": "error",
     "traceback": [
      "\u001b[1;31m---------------------------------------------------------------------------\u001b[0m",
      "\u001b[1;31mKeyError\u001b[0m                                  Traceback (most recent call last)",
      "\u001b[1;32m<expression>\u001b[0m in \u001b[0;36m<module>\u001b[1;34m()\u001b[0m\n",
      "\u001b[1;32m<string>\u001b[0m in \u001b[0;36mCalcF1\u001b[1;34m(SGCL)\u001b[0m\n",
      "\u001b[1;31mKeyError\u001b[0m: None"
     ]
    },
    {
     "ename": "KeyError",
     "evalue": "None",
     "output_type": "error",
     "traceback": [
      "\u001b[1;31m---------------------------------------------------------------------------\u001b[0m",
      "\u001b[1;31mKeyError\u001b[0m                                  Traceback (most recent call last)",
      "\u001b[1;32m<expression>\u001b[0m in \u001b[0;36m<module>\u001b[1;34m()\u001b[0m\n",
      "\u001b[1;32m<string>\u001b[0m in \u001b[0;36mCalcF1\u001b[1;34m(SGCL)\u001b[0m\n",
      "\u001b[1;31mKeyError\u001b[0m: None"
     ]
    },
    {
     "ename": "KeyError",
     "evalue": "None",
     "output_type": "error",
     "traceback": [
      "\u001b[1;31m---------------------------------------------------------------------------\u001b[0m",
      "\u001b[1;31mKeyError\u001b[0m                                  Traceback (most recent call last)",
      "\u001b[1;32m<expression>\u001b[0m in \u001b[0;36m<module>\u001b[1;34m()\u001b[0m\n",
      "\u001b[1;32m<string>\u001b[0m in \u001b[0;36mCalcF1\u001b[1;34m(SGCL)\u001b[0m\n",
      "\u001b[1;31mKeyError\u001b[0m: None"
     ]
    },
    {
     "ename": "KeyError",
     "evalue": "None",
     "output_type": "error",
     "traceback": [
      "\u001b[1;31m---------------------------------------------------------------------------\u001b[0m",
      "\u001b[1;31mKeyError\u001b[0m                                  Traceback (most recent call last)",
      "\u001b[1;32m<expression>\u001b[0m in \u001b[0;36m<module>\u001b[1;34m()\u001b[0m\n",
      "\u001b[1;32m<string>\u001b[0m in \u001b[0;36mCalcF1\u001b[1;34m(SGCL)\u001b[0m\n",
      "\u001b[1;31mKeyError\u001b[0m: None"
     ]
    },
    {
     "ename": "KeyError",
     "evalue": "None",
     "output_type": "error",
     "traceback": [
      "\u001b[1;31m---------------------------------------------------------------------------\u001b[0m",
      "\u001b[1;31mKeyError\u001b[0m                                  Traceback (most recent call last)",
      "\u001b[1;32m<expression>\u001b[0m in \u001b[0;36m<module>\u001b[1;34m()\u001b[0m\n",
      "\u001b[1;32m<string>\u001b[0m in \u001b[0;36mCalcF1\u001b[1;34m(SGCL)\u001b[0m\n",
      "\u001b[1;31mKeyError\u001b[0m: None"
     ]
    },
    {
     "ename": "KeyError",
     "evalue": "None",
     "output_type": "error",
     "traceback": [
      "\u001b[1;31m---------------------------------------------------------------------------\u001b[0m",
      "\u001b[1;31mKeyError\u001b[0m                                  Traceback (most recent call last)",
      "\u001b[1;32m<expression>\u001b[0m in \u001b[0;36m<module>\u001b[1;34m()\u001b[0m\n",
      "\u001b[1;32m<string>\u001b[0m in \u001b[0;36mCalcF1\u001b[1;34m(SGCL)\u001b[0m\n",
      "\u001b[1;31mKeyError\u001b[0m: None"
     ]
    },
    {
     "ename": "KeyError",
     "evalue": "None",
     "output_type": "error",
     "traceback": [
      "\u001b[1;31m---------------------------------------------------------------------------\u001b[0m",
      "\u001b[1;31mKeyError\u001b[0m                                  Traceback (most recent call last)",
      "\u001b[1;32m<expression>\u001b[0m in \u001b[0;36m<module>\u001b[1;34m()\u001b[0m\n",
      "\u001b[1;32m<string>\u001b[0m in \u001b[0;36mCalcF1\u001b[1;34m(SGCL)\u001b[0m\n",
      "\u001b[1;31mKeyError\u001b[0m: None"
     ]
    },
    {
     "ename": "KeyError",
     "evalue": "None",
     "output_type": "error",
     "traceback": [
      "\u001b[1;31m---------------------------------------------------------------------------\u001b[0m",
      "\u001b[1;31mKeyError\u001b[0m                                  Traceback (most recent call last)",
      "\u001b[1;32m<expression>\u001b[0m in \u001b[0;36m<module>\u001b[1;34m()\u001b[0m\n",
      "\u001b[1;32m<string>\u001b[0m in \u001b[0;36mCalcF1\u001b[1;34m(SGCL)\u001b[0m\n",
      "\u001b[1;31mKeyError\u001b[0m: None"
     ]
    },
    {
     "ename": "KeyError",
     "evalue": "None",
     "output_type": "error",
     "traceback": [
      "\u001b[1;31m---------------------------------------------------------------------------\u001b[0m",
      "\u001b[1;31mKeyError\u001b[0m                                  Traceback (most recent call last)",
      "\u001b[1;32m<expression>\u001b[0m in \u001b[0;36m<module>\u001b[1;34m()\u001b[0m\n",
      "\u001b[1;32m<string>\u001b[0m in \u001b[0;36mCalcF1\u001b[1;34m(SGCL)\u001b[0m\n",
      "\u001b[1;31mKeyError\u001b[0m: None"
     ]
    },
    {
     "ename": "KeyError",
     "evalue": "None",
     "output_type": "error",
     "traceback": [
      "\u001b[1;31m---------------------------------------------------------------------------\u001b[0m",
      "\u001b[1;31mKeyError\u001b[0m                                  Traceback (most recent call last)",
      "\u001b[1;32m<expression>\u001b[0m in \u001b[0;36m<module>\u001b[1;34m()\u001b[0m\n",
      "\u001b[1;32m<string>\u001b[0m in \u001b[0;36mCalcF1\u001b[1;34m(SGCL)\u001b[0m\n",
      "\u001b[1;31mKeyError\u001b[0m: None"
     ]
    },
    {
     "ename": "KeyError",
     "evalue": "None",
     "output_type": "error",
     "traceback": [
      "\u001b[1;31m---------------------------------------------------------------------------\u001b[0m",
      "\u001b[1;31mKeyError\u001b[0m                                  Traceback (most recent call last)",
      "\u001b[1;32m<expression>\u001b[0m in \u001b[0;36m<module>\u001b[1;34m()\u001b[0m\n",
      "\u001b[1;32m<string>\u001b[0m in \u001b[0;36mCalcF1\u001b[1;34m(SGCL)\u001b[0m\n",
      "\u001b[1;31mKeyError\u001b[0m: None"
     ]
    },
    {
     "ename": "KeyError",
     "evalue": "None",
     "output_type": "error",
     "traceback": [
      "\u001b[1;31m---------------------------------------------------------------------------\u001b[0m",
      "\u001b[1;31mKeyError\u001b[0m                                  Traceback (most recent call last)",
      "\u001b[1;32m<expression>\u001b[0m in \u001b[0;36m<module>\u001b[1;34m()\u001b[0m\n",
      "\u001b[1;32m<string>\u001b[0m in \u001b[0;36mCalcF1\u001b[1;34m(SGCL)\u001b[0m\n",
      "\u001b[1;31mKeyError\u001b[0m: None"
     ]
    },
    {
     "ename": "KeyError",
     "evalue": "None",
     "output_type": "error",
     "traceback": [
      "\u001b[1;31m---------------------------------------------------------------------------\u001b[0m",
      "\u001b[1;31mKeyError\u001b[0m                                  Traceback (most recent call last)",
      "\u001b[1;32m<expression>\u001b[0m in \u001b[0;36m<module>\u001b[1;34m()\u001b[0m\n",
      "\u001b[1;32m<string>\u001b[0m in \u001b[0;36mCalcF1\u001b[1;34m(SGCL)\u001b[0m\n",
      "\u001b[1;31mKeyError\u001b[0m: None"
     ]
    },
    {
     "ename": "KeyError",
     "evalue": "None",
     "output_type": "error",
     "traceback": [
      "\u001b[1;31m---------------------------------------------------------------------------\u001b[0m",
      "\u001b[1;31mKeyError\u001b[0m                                  Traceback (most recent call last)",
      "\u001b[1;32m<expression>\u001b[0m in \u001b[0;36m<module>\u001b[1;34m()\u001b[0m\n",
      "\u001b[1;32m<string>\u001b[0m in \u001b[0;36mCalcF1\u001b[1;34m(SGCL)\u001b[0m\n",
      "\u001b[1;31mKeyError\u001b[0m: None"
     ]
    },
    {
     "ename": "KeyError",
     "evalue": "None",
     "output_type": "error",
     "traceback": [
      "\u001b[1;31m---------------------------------------------------------------------------\u001b[0m",
      "\u001b[1;31mKeyError\u001b[0m                                  Traceback (most recent call last)",
      "\u001b[1;32m<expression>\u001b[0m in \u001b[0;36m<module>\u001b[1;34m()\u001b[0m\n",
      "\u001b[1;32m<string>\u001b[0m in \u001b[0;36mCalcF1\u001b[1;34m(SGCL)\u001b[0m\n",
      "\u001b[1;31mKeyError\u001b[0m: None"
     ]
    },
    {
     "ename": "KeyError",
     "evalue": "None",
     "output_type": "error",
     "traceback": [
      "\u001b[1;31m---------------------------------------------------------------------------\u001b[0m",
      "\u001b[1;31mKeyError\u001b[0m                                  Traceback (most recent call last)",
      "\u001b[1;32m<expression>\u001b[0m in \u001b[0;36m<module>\u001b[1;34m()\u001b[0m\n",
      "\u001b[1;32m<string>\u001b[0m in \u001b[0;36mCalcF1\u001b[1;34m(SGCL)\u001b[0m\n",
      "\u001b[1;31mKeyError\u001b[0m: None"
     ]
    },
    {
     "ename": "KeyError",
     "evalue": "None",
     "output_type": "error",
     "traceback": [
      "\u001b[1;31m---------------------------------------------------------------------------\u001b[0m",
      "\u001b[1;31mKeyError\u001b[0m                                  Traceback (most recent call last)",
      "\u001b[1;32m<expression>\u001b[0m in \u001b[0;36m<module>\u001b[1;34m()\u001b[0m\n",
      "\u001b[1;32m<string>\u001b[0m in \u001b[0;36mCalcF1\u001b[1;34m(SGCL)\u001b[0m\n",
      "\u001b[1;31mKeyError\u001b[0m: None"
     ]
    },
    {
     "ename": "KeyError",
     "evalue": "None",
     "output_type": "error",
     "traceback": [
      "\u001b[1;31m---------------------------------------------------------------------------\u001b[0m",
      "\u001b[1;31mKeyError\u001b[0m                                  Traceback (most recent call last)",
      "\u001b[1;32m<expression>\u001b[0m in \u001b[0;36m<module>\u001b[1;34m()\u001b[0m\n",
      "\u001b[1;32m<string>\u001b[0m in \u001b[0;36mCalcF1\u001b[1;34m(SGCL)\u001b[0m\n",
      "\u001b[1;31mKeyError\u001b[0m: None"
     ]
    },
    {
     "ename": "KeyError",
     "evalue": "None",
     "output_type": "error",
     "traceback": [
      "\u001b[1;31m---------------------------------------------------------------------------\u001b[0m",
      "\u001b[1;31mKeyError\u001b[0m                                  Traceback (most recent call last)",
      "\u001b[1;32m<expression>\u001b[0m in \u001b[0;36m<module>\u001b[1;34m()\u001b[0m\n",
      "\u001b[1;32m<string>\u001b[0m in \u001b[0;36mCalcF1\u001b[1;34m(SGCL)\u001b[0m\n",
      "\u001b[1;31mKeyError\u001b[0m: None"
     ]
    },
    {
     "ename": "KeyError",
     "evalue": "None",
     "output_type": "error",
     "traceback": [
      "\u001b[1;31m---------------------------------------------------------------------------\u001b[0m",
      "\u001b[1;31mKeyError\u001b[0m                                  Traceback (most recent call last)",
      "\u001b[1;32m<expression>\u001b[0m in \u001b[0;36m<module>\u001b[1;34m()\u001b[0m\n",
      "\u001b[1;32m<string>\u001b[0m in \u001b[0;36mCalcF1\u001b[1;34m(SGCL)\u001b[0m\n",
      "\u001b[1;31mKeyError\u001b[0m: None"
     ]
    },
    {
     "ename": "KeyError",
     "evalue": "None",
     "output_type": "error",
     "traceback": [
      "\u001b[1;31m---------------------------------------------------------------------------\u001b[0m",
      "\u001b[1;31mKeyError\u001b[0m                                  Traceback (most recent call last)",
      "\u001b[1;32m<expression>\u001b[0m in \u001b[0;36m<module>\u001b[1;34m()\u001b[0m\n",
      "\u001b[1;32m<string>\u001b[0m in \u001b[0;36mCalcF1\u001b[1;34m(SGCL)\u001b[0m\n",
      "\u001b[1;31mKeyError\u001b[0m: None"
     ]
    },
    {
     "ename": "KeyError",
     "evalue": "None",
     "output_type": "error",
     "traceback": [
      "\u001b[1;31m---------------------------------------------------------------------------\u001b[0m",
      "\u001b[1;31mKeyError\u001b[0m                                  Traceback (most recent call last)",
      "\u001b[1;32m<expression>\u001b[0m in \u001b[0;36m<module>\u001b[1;34m()\u001b[0m\n",
      "\u001b[1;32m<string>\u001b[0m in \u001b[0;36mCalcF1\u001b[1;34m(SGCL)\u001b[0m\n",
      "\u001b[1;31mKeyError\u001b[0m: None"
     ]
    },
    {
     "ename": "KeyError",
     "evalue": "None",
     "output_type": "error",
     "traceback": [
      "\u001b[1;31m---------------------------------------------------------------------------\u001b[0m",
      "\u001b[1;31mKeyError\u001b[0m                                  Traceback (most recent call last)",
      "\u001b[1;32m<expression>\u001b[0m in \u001b[0;36m<module>\u001b[1;34m()\u001b[0m\n",
      "\u001b[1;32m<string>\u001b[0m in \u001b[0;36mCalcF1\u001b[1;34m(SGCL)\u001b[0m\n",
      "\u001b[1;31mKeyError\u001b[0m: None"
     ]
    },
    {
     "ename": "KeyError",
     "evalue": "None",
     "output_type": "error",
     "traceback": [
      "\u001b[1;31m---------------------------------------------------------------------------\u001b[0m",
      "\u001b[1;31mKeyError\u001b[0m                                  Traceback (most recent call last)",
      "\u001b[1;32m<expression>\u001b[0m in \u001b[0;36m<module>\u001b[1;34m()\u001b[0m\n",
      "\u001b[1;32m<string>\u001b[0m in \u001b[0;36mCalcF1\u001b[1;34m(SGCL)\u001b[0m\n",
      "\u001b[1;31mKeyError\u001b[0m: None"
     ]
    },
    {
     "ename": "KeyError",
     "evalue": "None",
     "output_type": "error",
     "traceback": [
      "\u001b[1;31m---------------------------------------------------------------------------\u001b[0m",
      "\u001b[1;31mKeyError\u001b[0m                                  Traceback (most recent call last)",
      "\u001b[1;32m<expression>\u001b[0m in \u001b[0;36m<module>\u001b[1;34m()\u001b[0m\n",
      "\u001b[1;32m<string>\u001b[0m in \u001b[0;36mCalcF1\u001b[1;34m(SGCL)\u001b[0m\n",
      "\u001b[1;31mKeyError\u001b[0m: None"
     ]
    },
    {
     "ename": "KeyError",
     "evalue": "None",
     "output_type": "error",
     "traceback": [
      "\u001b[1;31m---------------------------------------------------------------------------\u001b[0m",
      "\u001b[1;31mKeyError\u001b[0m                                  Traceback (most recent call last)",
      "\u001b[1;32m<expression>\u001b[0m in \u001b[0;36m<module>\u001b[1;34m()\u001b[0m\n",
      "\u001b[1;32m<string>\u001b[0m in \u001b[0;36mCalcF1\u001b[1;34m(SGCL)\u001b[0m\n",
      "\u001b[1;31mKeyError\u001b[0m: None"
     ]
    },
    {
     "ename": "KeyError",
     "evalue": "None",
     "output_type": "error",
     "traceback": [
      "\u001b[1;31m---------------------------------------------------------------------------\u001b[0m",
      "\u001b[1;31mKeyError\u001b[0m                                  Traceback (most recent call last)",
      "\u001b[1;32m<expression>\u001b[0m in \u001b[0;36m<module>\u001b[1;34m()\u001b[0m\n",
      "\u001b[1;32m<string>\u001b[0m in \u001b[0;36mCalcF1\u001b[1;34m(SGCL)\u001b[0m\n",
      "\u001b[1;31mKeyError\u001b[0m: None"
     ]
    },
    {
     "ename": "KeyError",
     "evalue": "None",
     "output_type": "error",
     "traceback": [
      "\u001b[1;31m---------------------------------------------------------------------------\u001b[0m",
      "\u001b[1;31mKeyError\u001b[0m                                  Traceback (most recent call last)",
      "\u001b[1;32m<expression>\u001b[0m in \u001b[0;36m<module>\u001b[1;34m()\u001b[0m\n",
      "\u001b[1;32m<string>\u001b[0m in \u001b[0;36mCalcF1\u001b[1;34m(SGCL)\u001b[0m\n",
      "\u001b[1;31mKeyError\u001b[0m: None"
     ]
    },
    {
     "ename": "KeyError",
     "evalue": "None",
     "output_type": "error",
     "traceback": [
      "\u001b[1;31m---------------------------------------------------------------------------\u001b[0m",
      "\u001b[1;31mKeyError\u001b[0m                                  Traceback (most recent call last)",
      "\u001b[1;32m<expression>\u001b[0m in \u001b[0;36m<module>\u001b[1;34m()\u001b[0m\n",
      "\u001b[1;32m<string>\u001b[0m in \u001b[0;36mCalcF1\u001b[1;34m(SGCL)\u001b[0m\n",
      "\u001b[1;31mKeyError\u001b[0m: None"
     ]
    },
    {
     "ename": "KeyError",
     "evalue": "None",
     "output_type": "error",
     "traceback": [
      "\u001b[1;31m---------------------------------------------------------------------------\u001b[0m",
      "\u001b[1;31mKeyError\u001b[0m                                  Traceback (most recent call last)",
      "\u001b[1;32m<expression>\u001b[0m in \u001b[0;36m<module>\u001b[1;34m()\u001b[0m\n",
      "\u001b[1;32m<string>\u001b[0m in \u001b[0;36mCalcF1\u001b[1;34m(SGCL)\u001b[0m\n",
      "\u001b[1;31mKeyError\u001b[0m: None"
     ]
    },
    {
     "ename": "KeyError",
     "evalue": "None",
     "output_type": "error",
     "traceback": [
      "\u001b[1;31m---------------------------------------------------------------------------\u001b[0m",
      "\u001b[1;31mKeyError\u001b[0m                                  Traceback (most recent call last)",
      "\u001b[1;32m<expression>\u001b[0m in \u001b[0;36m<module>\u001b[1;34m()\u001b[0m\n",
      "\u001b[1;32m<string>\u001b[0m in \u001b[0;36mCalcF1\u001b[1;34m(SGCL)\u001b[0m\n",
      "\u001b[1;31mKeyError\u001b[0m: None"
     ]
    },
    {
     "ename": "KeyError",
     "evalue": "None",
     "output_type": "error",
     "traceback": [
      "\u001b[1;31m---------------------------------------------------------------------------\u001b[0m",
      "\u001b[1;31mKeyError\u001b[0m                                  Traceback (most recent call last)",
      "\u001b[1;32m<expression>\u001b[0m in \u001b[0;36m<module>\u001b[1;34m()\u001b[0m\n",
      "\u001b[1;32m<string>\u001b[0m in \u001b[0;36mCalcF1\u001b[1;34m(SGCL)\u001b[0m\n",
      "\u001b[1;31mKeyError\u001b[0m: None"
     ]
    },
    {
     "name": "stdout",
     "output_type": "stream",
     "text": [
      "Pass\n"
     ]
    }
   ],
   "source": [
    "# Assuming Table is built inside function and may be where code is required to exist\n",
    "arcpy.management.CalculateField(\"syth2\", \"F1\", \"CalcF1(!SGCL!)\", \"PYTHON3\", r\"slopeMedians = {1:1.5, 2:6.5, 3:15.0, 4:25.0, 5:35.0, 6:37.5, 7:0}\\ndef CalcF1(SGCL):\\n    F1 = float((28.0 - slopeMedians[SGCL]) / (60.0/50))\\n    return F1\\n\")\n",
    "print (\"Pass\")"
   ]
  },
  {
   "cell_type": "markdown",
   "metadata": {},
   "source": [
    "# ================================================\n",
    "\n",
    "\n",
    "\n",
    "\n",
    "\n",
    "\n",
    "\n",
    "#                          Combining script logic with field map to calculate F1                  \n",
    "\n",
    "\n",
    "\n",
    "\n",
    "\n",
    "\n",
    "\n",
    "\n",
    "\n",
    "# ================================================"
   ]
  },
  {
   "cell_type": "markdown",
   "metadata": {},
   "source": [
    "For this step, I may need to use the arcpy function CalculateField_management to correctly calculate for F1. Basic argument should be:\n",
    "\n",
    "for values in synthFeature==> 'F1'\n",
    "where ccmvehicle and slpval are used in expression\n",
    "calculate F1\n",
    "need to create expression for code block\n",
    "\n",
    "        arcpy.CalculateField_management(synthFeature,\"F1\",expression,\"PYTHON_9.3\",block)\n",
    "\n",
    "maybe store first argument as expression for F1 where F1 is already defined"
   ]
  },
  {
   "cell_type": "code",
   "execution_count": 101,
   "metadata": {
    "scrolled": false
   },
   "outputs": [
    {
     "name": "stdout",
     "output_type": "stream",
     "text": [
      "Failed function\n"
     ]
    }
   ],
   "source": [
    "print(\"Failed function\")"
   ]
  },
  {
   "cell_type": "code",
   "execution_count": null,
   "metadata": {
    "collapsed": true
   },
   "outputs": [],
   "source": [
    "# Try Creating custom function\n",
    "# Calculating F1 \n",
    "# create f1 function\n",
    "f1Expression = \"CalcF1(!SGCL!)\"\n",
    "# Do not run code, will crash Jupyter\n",
    "f1CodeBlock = \"\"\"\n",
    "def CalcF1(SGCL):\\n    F1 = round((maxOffGrad-slpval[SGCL])/(maxOnGrad/maxSpeed),2)\\n    return\"\"\"\n",
    "arcpy.CalculateField_management(synthFeature,'F1',f1Expression,\"PYTHON_9.3\",f1CodeBlock)"
   ]
  },
  {
   "cell_type": "markdown",
   "metadata": {},
   "source": [
    "# Arguments for F2--- ==> Slope-intercept-frequency (SIF)"
   ]
  },
  {
   "cell_type": "code",
   "execution_count": null,
   "metadata": {},
   "outputs": [],
   "source": [
    "## assuming adjusted count for main argument\n",
    "# F2 = 280 - SIF count (adjusted) / 280\n",
    "\n",
    "# CalcF2 == name of function, SGCL == input field, Assume float input == field value at given input\n",
    "\n",
    "F2 = (280 - float(input()))/280\n",
    "print(round(F2,2))\n"
   ]
  },
  {
   "cell_type": "code",
   "execution_count": null,
   "metadata": {
    "collapsed": true
   },
   "outputs": [],
   "source": [
    "##example if/elif/else: statement using arcpy function to calculate field values\n",
    "## argument from arcpy.CalcualateField_management()\n",
    "def CalcF2(SGCL):\n",
    "    if SGCL == 1:\n",
    "        F2 = float(1.0)\n",
    "        return F2\n",
    "    elif SGCL == 2:\n",
    "        F2 = float(0.99)\n",
    "        return F2\n",
    "    elif SGCL == 3:\n",
    "        F2 = float(0.98)\n",
    "        return F2\n",
    "    elif SGCL == 4:\n",
    "        F2 = float(0.97)\n",
    "        return F2\n",
    "    elif SGCL == 5:\n",
    "        F2 = float(0.96)\n",
    "        return F2\n",
    "    elif SGCL == 6:\n",
    "        F2 = float(0.95)\n",
    "        return F2\n",
    "    elif SGCL == 7:\n",
    "        F2 = float(0.96)\n",
    "        return F2\n",
    "__esri_field_calculator_splitter__\n",
    "CalcF2( !SGCL!)"
   ]
  },
  {
   "cell_type": "raw",
   "metadata": {},
   "source": [
    "## Begin with slope cat dictionary"
   ]
  },
  {
   "cell_type": "code",
   "execution_count": null,
   "metadata": {},
   "outputs": [],
   "source": [
    "# verify calling single value\n",
    "slopeCategory = {'0-3': 1.5, '3-10': 6.5, '10-20':15.0, '20-30':25.0, '30-45':37.5, '>45':0}\n",
    "print(slopeCategory['0-3'])"
   ]
  },
  {
   "cell_type": "code",
   "execution_count": null,
   "metadata": {},
   "outputs": [],
   "source": [
    "# begin loop by stepping into each possible argument\n",
    "# F2 = 280 - SIF count (adjusted) / 280\n",
    "print(\"Enter a Slope category to calculate the slope intercept frequency\")\n",
    "SGCL = float(input())\n",
    "\n",
    "# CalcF2 == name of function, SGCL == input field, Assume float input == field value at given input\n",
    "for SGCL in slopeCategory:\n",
    "    if SGCL ==1:\n",
    "        calF2 = float(1.0)\n",
    "    elif SGCL ==2:\n",
    "        calF2 = float(.99)\n",
    "    elif SGCL ==3:\n",
    "        calF2 = float(.98)\n",
    "    elif SGCL ==4:\n",
    "        calF2 = float(.97)\n",
    "    elif SGCL ==5:\n",
    "        calF2 = float(.96)\n",
    "    elif SGCL ==6:\n",
    "        calF2 = float(.95)\n",
    "    elif SGCL ==7:\n",
    "        calF2 = float(.96)\n",
    "    else:\n",
    "        calcF2 = None\n",
    "        \n",
    "F2 = F2 = (280 - SGCL)/280\n",
    "print(round(F2,2))"
   ]
  },
  {
   "cell_type": "code",
   "execution_count": null,
   "metadata": {
    "collapsed": true
   },
   "outputs": [],
   "source": []
  }
 ],
 "metadata": {
  "kernelspec": {
   "display_name": "Python 3",
   "language": "python",
   "name": "python3"
  },
  "language_info": {
   "codemirror_mode": {
    "name": "ipython",
    "version": 3
   },
   "file_extension": ".py",
   "mimetype": "text/x-python",
   "name": "python",
   "nbconvert_exporter": "python",
   "pygments_lexer": "ipython3",
   "version": "3.6.2"
  }
 },
 "nbformat": 4,
 "nbformat_minor": 2
}
