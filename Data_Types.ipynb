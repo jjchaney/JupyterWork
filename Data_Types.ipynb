{
 "cells": [
  {
   "cell_type": "markdown",
   "metadata": {},
   "source": [
    "<b><center>UNCLASSIFIED</center></b>"
   ]
  },
  {
   "cell_type": "markdown",
   "metadata": {},
   "source": [
    "<img src=\"./GRAPHICS/Banner.png\" width=\"110%\">"
   ]
  },
  {
   "cell_type": "markdown",
   "metadata": {},
   "source": [
    "# Lesson 2: Data Types"
   ]
  },
  {
   "cell_type": "markdown",
   "metadata": {},
   "source": [
    "<hr>\n",
    "## Table of Contents\n",
    "\n",
    "* [2.1. Objectives](#Objectives)<br>\n",
    "* [2.2. Overview](#Overview)<br>\n",
    "* [2.3. Review](#Review)<br>\n",
    "    * [2.3.1. Computational Thinking](#ComputationalThinking)<br>\n",
    "    * [2.3.2. Keyboard Shortcuts](#KeyboardShortcuts)<br>\n",
    "    * [2.3.3. Variables](#Variables)<br>\n",
    "* [2.4. Lesson: Data Types](#Lesson)<br>\n",
    "    * [2.4.1. Introduction to Data Types](#Introduction)<br>\n",
    "    * [2.4.2. Boolean Values and Expressions](#Boolean)<br>\n",
    "    * [2.4.3. Reserved Words](#Keywords)<br>\n",
    "    * [2.4.4 Numbers and Arithmetic](#Numbers)<br>\n",
    "    * [2.4.5. The None Type](#None)<br>\n",
    "    * [2.4.6. If Statements](#IfStatements)<br>\n",
    "* [2.5. Guided Exercise: Calculations with Python](#GuidedExercise)<br>\n",
    "* [2.6. Practical Exercises](#PracticalExercises)<br>\n",
    "    * [2.6.1. Practical Exercise 1: How big is Washington, D.C.?](#PE1)<br>\n",
    "    * [2.6.2. Practical Exercise 2: Understand Boolean Types](#PE2)<br>\n",
    "    * [2.6.3. Practical Exercise 3: Casting](#PE3)<br>\n",
    "    * [2.6.4. Practical Exercise 4: Using the if Statement in Python](#PE4)<br>\n",
    "    * [2.6.5. Practical Exercise 5: Calculations with Python](#PE5)<br>\n",
    "    * [2.6.6. Practical Exercise 6: Calculations with Python](#PE6)<br>\n",
    "    * [2.6.7. Practical Exercise 7: Odd or Even?](#PE7)<br>\n",
    "* [2.7. Administrative Notes](#Administrative)<br>"
   ]
  },
  {
   "cell_type": "markdown",
   "metadata": {},
   "source": [
    "***\n",
    "<a id='Objectives'></a>\n",
    "## 2.1 Objectives\n",
    "\n",
    " - Examine the implications of using computation to solve a problem\n",
    "     - Discuss best practices for using computation to solve a problem\n",
    "     - Suggest types of problems that can be solved through computation\n",
    "     - Show how computation can solve a problem\n",
    "     <br><br>\n",
    " -  Recognize key computer science concepts\n",
    "     -  Identify various data types and structures used in Python scripting\n",
    "     -  Define variables and strings\n",
    "     <br><br>\n",
    " -  Demonstrate the ability to build basic scripts using Python scripting language\n",
    "     - Use various data types and structures in Python scripting"
   ]
  },
  {
   "cell_type": "markdown",
   "metadata": {},
   "source": [
    "<hr>\n",
    "<a id='Overview'></a>\n",
    "## 2.2. Overview\n",
    "The following material is divided into three main parts:\n",
    "* Lesson: Data Types\n",
    "* Guided Exercise: Calculations with Python\n",
    "* Practical Exercises"
   ]
  },
  {
   "cell_type": "markdown",
   "metadata": {
    "collapsed": true
   },
   "source": [
    "<b><font color=\"firebrick\">Instructor Guidance:</font> Refer back to Lesson 1 and relate the four steps of problem solving using Computational Thinking (Decomposition, Pattern Recognition, Abstraction, & Algorithm Design) to lessons, exercises, examples, student questions/comments, etc., as appropriate throughout this lesson.</b>"
   ]
  },
  {
   "cell_type": "markdown",
   "metadata": {},
   "source": [
    "<hr>\n",
    "<a id='Review'></a>\n",
    "## 2.3. Review"
   ]
  },
  {
   "cell_type": "markdown",
   "metadata": {},
   "source": [
    "<a id=\"ComputationalThinking\"></a>\n",
    "<hr>\n",
    "### 2.3.1. Computational Thinking\n",
    "\n",
    "Computers are not smart, but they are fast. They need explicit instructions in order to solve a problem. Programming languages are designed to eliminate the ambiguity found in natural language. This means that when we, as programmers, are presented with a problem, we have to provide the computer a complete set of instructions in a programming language for it to do what we want. This requires a special, rigorous mode of reasoning that we call computational thinking.\n",
    "\n",
    "<img src=\"./GRAPHICS/IconKeyPoster.png\" width=\"60%\">\n",
    "<img src=\"./GRAPHICS/IconPlacematt.png\" width=\"60%\">\n"
   ]
  },
  {
   "cell_type": "markdown",
   "metadata": {},
   "source": [
    "The basic steps for approaching a computational problem are:\n",
    "\n",
    ">1. **Decomposition:** Breaking down data, processes, or problems into smaller, manageable parts\n",
    ">    1. Make sure you understand the problem\n",
    ">        1. Identify the inputs\n",
    ">        2. Identify what the answer should look like\n",
    ">    2. If it’s a large scale problem, identify possible smaller components\n",
    "<br><br>    \n",
    ">2. **Pattern Recognition:** Observing patterns, trends, and regularities in data\n",
    ">    1. Inspect your data\n",
    ">        1. Make sure the inputs and outputs you’ve identified make sense\n",
    ">        2. Look for trends or possible fringe cases\n",
    "<br><br>       \n",
    ">3. **Abstraction:** Identifying the general principles that generate these patterns\n",
    ">    1. Work out a problem by hand\n",
    ">        2. As you work out by hand, attempt to make simple steps\n",
    "<br><br>\n",
    ">4. **Algorithm Design:** Developing the step by step instructions for solving this and similar problems \n",
    ">    1. Begin to formalize your steps into a set of pseudocode\n",
    ">    2. Identify available software tools\n",
    ">        1. These may be outside packages, things you’ve written in the past, or built-in python functionality\n",
    ">    3. Implement your pseudocode"
   ]
  },
  {
   "cell_type": "markdown",
   "metadata": {},
   "source": [
    "<a id='KeyboardShortcuts'></a>\n",
    "### 2.3.2. Keyboard Shortcuts"
   ]
  },
  {
   "cell_type": "markdown",
   "metadata": {},
   "source": [
    "<center>**Keyboard Shortcuts for All Modes**</center>\n",
    "\n",
    "| Shortcut | Description|\n",
    "|---|---|\n",
    "| Shift + Enter| Execute the contents of the cell, and move onto the next cell |\n",
    "| Ctrl + Enter | Execute the contents of the cell, but stay with this cell|\n",
    "| Alt + Enter | Execute the contents of the cell, insert a new cell below|"
   ]
  },
  {
   "cell_type": "markdown",
   "metadata": {},
   "source": [
    "Run the code cell below by clicking the play button on the toolbar or using one of the keyboard shortcuts in the table above."
   ]
  },
  {
   "cell_type": "code",
   "execution_count": null,
   "metadata": {
    "collapsed": true
   },
   "outputs": [],
   "source": [
    "print('Good Job!')"
   ]
  },
  {
   "cell_type": "markdown",
   "metadata": {},
   "source": [
    "<hr>\n",
    "<a id='Variables'></a>\n",
    "### 2.3.3. Variables\n",
    "\n",
    "A variable is a stand-in for some data value. Think back to junior high algebra where you learned to use \"x\" as a stand-in for numbers. Variables in Python can hold any data type, and we can access the values they store by simply typing their name. Variable names in Python can be any combination of letters, numbers, and underscores, but they must not start with a number or contain spaces."
   ]
  },
  {
   "cell_type": "markdown",
   "metadata": {},
   "source": [
    "<hr>\n",
    "<a id='Lesson'></a>\n",
    "## 2.4. Lesson: Data Types\n",
    "<hr>\n",
    "### References\n",
    "* [Python: Data Types](https://docs.python.org/2/library/datatypes.html)\n",
    "* [Python: Type()](https://docs.python.org/2.7/library/functions.html#type)\n",
    "<hr>"
   ]
  },
  {
   "cell_type": "markdown",
   "metadata": {},
   "source": [
    "<a id='Introduction'></a>\n",
    "### 2.4.1. Introduction to Data Types\n",
    "\n",
    "There are many data types in Python, but to keep things simple we will begin by covering the basics: Boolean, integer, float, string, and <font color=green>**None**</font>. See the table below for short descriptions of these basic data types. \n",
    "\n",
    "| Plain Language Description                              | Python Data Type | `type()` Output |\n",
    "| :------------------------------------------ | :---------------: | :-------------: |\n",
    "| True or False                               | Boolean          | `bool`            |\n",
    "| Whole Numbers                               | Integer          | `int`             |\n",
    "| Decimal Numbers                             | Float            | `float`           |\n",
    "| Sequences of characters including letters, <br>numbers, formatting characters, and/or punctuation   | String   | `str` |\n",
    "| Nothingness, non-existence; not the same as <br>zero or empty                 | None          | `NoneType`            |"
   ]
  },
  {
   "cell_type": "markdown",
   "metadata": {},
   "source": [
    "It can sometimes be difficult to know the type of a data object just by looking at it.  Luckily, there is a built-in function that tells us the type of any argument we pass it, the `type()` function. Remember, functions always have parentheses after their name and functions' inputs always go inside of those parentheses. Try calling `type()` in the cells below."
   ]
  },
  {
   "cell_type": "code",
   "execution_count": null,
   "metadata": {
    "collapsed": true
   },
   "outputs": [],
   "source": [
    "type(True)"
   ]
  },
  {
   "cell_type": "code",
   "execution_count": null,
   "metadata": {
    "collapsed": true
   },
   "outputs": [],
   "source": [
    "type(3)"
   ]
  },
  {
   "cell_type": "code",
   "execution_count": null,
   "metadata": {
    "collapsed": true
   },
   "outputs": [],
   "source": [
    "type(3.14)"
   ]
  },
  {
   "cell_type": "code",
   "execution_count": null,
   "metadata": {
    "collapsed": true
   },
   "outputs": [],
   "source": [
    "type('3.14') "
   ]
  },
  {
   "cell_type": "code",
   "execution_count": null,
   "metadata": {
    "collapsed": true
   },
   "outputs": [],
   "source": [
    "thing = 'This is a string.'\n",
    "type(thing)"
   ]
  },
  {
   "cell_type": "markdown",
   "metadata": {},
   "source": [
    "In the code cells below, assign value to a variable, then use the `type()` function to output the data type for that variable."
   ]
  },
  {
   "cell_type": "code",
   "execution_count": null,
   "metadata": {
    "collapsed": true
   },
   "outputs": [],
   "source": [
    "## Try some code ideas here ##"
   ]
  },
  {
   "cell_type": "code",
   "execution_count": null,
   "metadata": {
    "collapsed": true
   },
   "outputs": [],
   "source": [
    "## Try some code ideas here ##"
   ]
  },
  {
   "cell_type": "markdown",
   "metadata": {},
   "source": [
    "\n",
    "#### 2.4.1.1. Why do data types matter?\n",
    "\n",
    "Different <i>data objects</i> (e.g. some text, a bunch of numbers, or a list of things) are given specific data types so that computers know how they can use, manipulate, and store them.  Consider this figurative example: you should not try to eat your car keys because they are not a \"food type\" object.  If you tried to eat your car keys your system would crash, in the form of broken teeth or an upset stomach. A Python program would likewise crash if it tried to add `'one'`, which is text, to `2`, which is a number.  People can make the mental leap that `'one'` also means the numeric value `1`, but a computer program cannot make this leap on its own."
   ]
  },
  {
   "cell_type": "markdown",
   "metadata": {},
   "source": [
    "***\n",
    "<a id='Boolean'></a>\n",
    "### 2.4.2. Boolean Values and Operators\n",
    "\n",
    "<hr>\n",
    "#### References:\n",
    "* [Python: Boolean Values](https://docs.python.org/3.4/library/stdtypes.html#boolean-values)\n",
    "* [Python: Truth-Value Testing](https://docs.python.org/3.4/library/stdtypes.html#truth)\n",
    "* [Wikipedia: Boolean](https://en.wikipedia.org/wiki/Boolean)\n",
    "\n",
    "<hr>\n",
    "\n",
    "A Boolean can only be one of two values: <b><font color=\"green\">True</font></b> or <b><font color=\"green\">False</font></b>.  These values can be explicitly defined or defined as the result of a test expression. Any Python object can be included in a Boolean expression.  For example, if the variable `x` was assigned the value of `35`, then the expression `x > 40` (i.e., is `x` greater than `40`?) would evaluate to <b><font color=\"green\">False</font></b>.  \n",
    "\n",
    "This ability to compare and contrast one value against another is very important in computer programming.   It allows computers to execute, or not execute, a task based on a condition.  You can think of Booleans as your program's way of responding to you when you ask it a yes-or-no question. Can you think of an instance when you would need to ask your program a question, and execute different commands based on its answer?\n",
    "\n",
    "In Jupyter Notebook code cells you will see the capitalized words <b><font color=\"green\">True</font></b> and <b><font color=\"green\">False</font></b> always show up colored green and bold because they are <i>reserved key words</i> in Python.  Reserved words can only be used for a specific purpose in Python code and cannot be used for any other purpose."
   ]
  },
  {
   "cell_type": "code",
   "execution_count": null,
   "metadata": {
    "collapsed": true
   },
   "outputs": [],
   "source": [
    "type(True)"
   ]
  },
  {
   "cell_type": "markdown",
   "metadata": {},
   "source": [
    "NOTE: Boolean values must always be capitalized."
   ]
  },
  {
   "cell_type": "markdown",
   "metadata": {},
   "source": [
    "What happens when you check the type of lowercase `true`? True with a small `'t'` is not a reserved word in Python because Python is case sensitive. Since `'true'` is not a reserved word or a built in function, Python interprets it as a variable or user-defined function name. And because we haven't assigned this name to anything yet in this notebook, we'll get a `NameError`."
   ]
  },
  {
   "cell_type": "code",
   "execution_count": null,
   "metadata": {
    "collapsed": true
   },
   "outputs": [],
   "source": [
    "type(true)"
   ]
  },
  {
   "cell_type": "markdown",
   "metadata": {},
   "source": [
    "<br>\n",
    "As we mentioned above, a basic Boolean value can be explicitly assigned to a variable:"
   ]
  },
  {
   "cell_type": "code",
   "execution_count": null,
   "metadata": {
    "collapsed": true
   },
   "outputs": [],
   "source": [
    "my_boolean = True\n",
    "my_boolean"
   ]
  },
  {
   "cell_type": "code",
   "execution_count": null,
   "metadata": {
    "collapsed": true
   },
   "outputs": [],
   "source": [
    "my_boolean = False\n",
    "my_boolean "
   ]
  },
  {
   "cell_type": "markdown",
   "metadata": {},
   "source": [
    "<hr>\n",
    "Or a Boolean type can be created by evaluating a Boolean expression. There are several types of Boolean expression. The first type we'll talk about are comparisons.\n",
    "\n",
    "#### 2.4.2.1. Comparison Operators\n",
    "Comparison operators are used in a comparison expression.\n",
    "\n",
    "| Operator  | Operation                |\n",
    "| :-------: | :----------------------- |\n",
    "| `==`        | equal to                 |\n",
    "| `!=`        | not equal to             |\n",
    "| `>`         | greater than             |\n",
    "| `>=`        | greater than or equal to |\n",
    "| `<`         | less than                |\n",
    "| `<=`        | less than or equal to    |"
   ]
  },
  {
   "cell_type": "code",
   "execution_count": null,
   "metadata": {
    "collapsed": true
   },
   "outputs": [],
   "source": [
    "500 == 630"
   ]
  },
  {
   "cell_type": "code",
   "execution_count": null,
   "metadata": {
    "collapsed": true
   },
   "outputs": [],
   "source": [
    "14 < 25"
   ]
  },
  {
   "cell_type": "code",
   "execution_count": null,
   "metadata": {
    "collapsed": true
   },
   "outputs": [],
   "source": [
    "a = 2\n",
    "b = 4\n",
    "\n",
    "a < b"
   ]
  },
  {
   "cell_type": "markdown",
   "metadata": {},
   "source": [
    "Exercise: Create your own comparison expression here to assign a Boolean value to a variable."
   ]
  },
  {
   "cell_type": "code",
   "execution_count": null,
   "metadata": {
    "collapsed": true
   },
   "outputs": [],
   "source": [
    "## YOUR CODE GOES HERE ##"
   ]
  },
  {
   "cell_type": "markdown",
   "metadata": {},
   "source": [
    "<hr>\n",
    "#### 2.4.2.2. Membership Operators\n",
    "Membership operators are used for a membership test. We can test for membership in any kind of sequence or collection.\n",
    "\n",
    "| Operator | Operation                                                            |\n",
    "| :------: | :------------------------------------------------------------------- |\n",
    "| <b><font color=\"green\">in</font></b>       | Checks if the left side of expression contained in the right side of expression |\n",
    "| <b><font color=\"green\">not in</font></b>   | Checks if the left side of expression is not contained in the right side of expression |"
   ]
  },
  {
   "cell_type": "markdown",
   "metadata": {},
   "source": [
    "A string is a type of collection, it's a sequence of individual characters. So we can check for membership in a string."
   ]
  },
  {
   "cell_type": "code",
   "execution_count": null,
   "metadata": {
    "collapsed": true
   },
   "outputs": [],
   "source": [
    "'c' in 'supercalifragilisticexpialidocious'"
   ]
  },
  {
   "cell_type": "code",
   "execution_count": null,
   "metadata": {
    "collapsed": true
   },
   "outputs": [],
   "source": [
    "'k' not in 'supercalifragilisticexpialidocious'"
   ]
  },
  {
   "cell_type": "markdown",
   "metadata": {},
   "source": [
    "We can check for the presence of more than one character too."
   ]
  },
  {
   "cell_type": "code",
   "execution_count": null,
   "metadata": {
    "collapsed": true
   },
   "outputs": [],
   "source": [
    "'list' in 'supercalifragilisticexpialidocious'"
   ]
  },
  {
   "cell_type": "markdown",
   "metadata": {},
   "source": [
    "Another basic type of collection is a list. So membership tests work for lists as well."
   ]
  },
  {
   "cell_type": "code",
   "execution_count": null,
   "metadata": {
    "collapsed": true
   },
   "outputs": [],
   "source": [
    "56 in [79, 54, -9, 80, 56, 63, 67, -1, 6, 73, 9, -58]"
   ]
  },
  {
   "cell_type": "code",
   "execution_count": null,
   "metadata": {
    "collapsed": true
   },
   "outputs": [],
   "source": [
    "80 not in [79, 54, -9, 80, 56, 63, 67, -1, 6, 73, 9, -58]"
   ]
  },
  {
   "cell_type": "markdown",
   "metadata": {},
   "source": [
    "Exercise: Create your own membership test here."
   ]
  },
  {
   "cell_type": "code",
   "execution_count": null,
   "metadata": {
    "collapsed": true
   },
   "outputs": [],
   "source": [
    "## YOUR CODE GOES HERE ##"
   ]
  },
  {
   "cell_type": "markdown",
   "metadata": {},
   "source": [
    "<hr>\n",
    "#### 2.4.2.3. Logic Operators\n",
    "A Boolean type can be used for logic tests.\n",
    "\n",
    "| Operator  | Operation                |\n",
    "| :-------: | :----------------------- |\n",
    "| <b><font color=\"green\">and</font></b>        | Checks if two statements are _both_ True     |\n",
    "| <b><font color=\"green\">or</font></b>    | Checks if _either_ of two statements are True |\n",
    "\n",
    "The <b><font color=\"green\">and</font></b> and <b><font color=\"green\">or</font></b> operators work like they do in plain language. For example, the statement \"I have a black dog <b><font color=\"green\">and</font></b> a brown dog\" is only true if I have both a black and a brown dog.  However, the statement \"I have a black dog <b><font color=\"green\">or</font></b> a brown dog\" is true if I have a dog of either color."
   ]
  },
  {
   "cell_type": "code",
   "execution_count": null,
   "metadata": {
    "collapsed": true
   },
   "outputs": [],
   "source": [
    "11 > 10 and 6 >= 10"
   ]
  },
  {
   "cell_type": "code",
   "execution_count": null,
   "metadata": {
    "collapsed": true
   },
   "outputs": [],
   "source": [
    "10 == 10 or 2 == 10"
   ]
  },
  {
   "cell_type": "markdown",
   "metadata": {},
   "source": [
    "Exercise: Combine two Boolean values or expressions with a logical operator to create a new Boolean expression."
   ]
  },
  {
   "cell_type": "code",
   "execution_count": null,
   "metadata": {
    "collapsed": true
   },
   "outputs": [],
   "source": [
    "## YOUR CODE GOES HERE ##"
   ]
  },
  {
   "cell_type": "markdown",
   "metadata": {},
   "source": [
    "One last thing to know about <b><font color=\"green\">True</font></b> and <b><font color=\"green\">False</font></b> is that they each have a numeric value: <b><font color=\"green\">True</font></b> equals `1` and <b><font color=\"green\">False</font></b> equals `0`.  We can demonstrate this by adding them together."
   ]
  },
  {
   "cell_type": "code",
   "execution_count": null,
   "metadata": {
    "collapsed": true
   },
   "outputs": [],
   "source": [
    "True + True + False"
   ]
  },
  {
   "cell_type": "markdown",
   "metadata": {},
   "source": [
    "Exercise: Write a few more test expressions in the code cells below.  Try to combine the different operators you have just learned."
   ]
  },
  {
   "cell_type": "code",
   "execution_count": null,
   "metadata": {
    "collapsed": true
   },
   "outputs": [],
   "source": [
    "## Try some code ideas here ##"
   ]
  },
  {
   "cell_type": "code",
   "execution_count": null,
   "metadata": {
    "collapsed": true
   },
   "outputs": [],
   "source": [
    "## Try some code ideas here ##"
   ]
  },
  {
   "cell_type": "code",
   "execution_count": null,
   "metadata": {
    "collapsed": true
   },
   "outputs": [],
   "source": [
    "## Try some code ideas here ##"
   ]
  },
  {
   "cell_type": "markdown",
   "metadata": {},
   "source": [
    "***\n",
    "<a id='Keywords'></a>\n",
    "### 2.4.3. Reserved Keywords and Built-In Functions\n",
    "<hr>\n",
    "#### References:\n",
    "* [Python: Keywords](https://docs.python.org/3.4/library/keyword.html)\n",
    "\n",
    "<hr>\n",
    "\n",
    "Reserved words are words within Python that have specific use cases and cannot be used as variable names. They show up as green and bold in Jupyter Notebook."
   ]
  },
  {
   "cell_type": "code",
   "execution_count": null,
   "metadata": {
    "collapsed": true,
    "scrolled": true
   },
   "outputs": [],
   "source": [
    "import keyword\n",
    "\n",
    "print(keyword.kwlist)"
   ]
  },
  {
   "cell_type": "markdown",
   "metadata": {},
   "source": [
    "All the above words are not useable as variable names or for any other purpose than what is intended by Python. However, remember that Python is case sensitive. It is possible, for instance, to use `Elif` instead of `elif` as a variable name, but it is generally considered bad practice. We can prove this by running the code below. But again, possible doesn't mean you should be doing it."
   ]
  },
  {
   "cell_type": "code",
   "execution_count": null,
   "metadata": {
    "collapsed": true
   },
   "outputs": [],
   "source": [
    "Elif = 1\n",
    "Elif"
   ]
  },
  {
   "cell_type": "markdown",
   "metadata": {},
   "source": [
    "Try out typing some of the keywords in the cell below."
   ]
  },
  {
   "cell_type": "code",
   "execution_count": null,
   "metadata": {
    "collapsed": true
   },
   "outputs": [],
   "source": [
    "## YOUR CODE GOES HERE ##"
   ]
  },
  {
   "cell_type": "markdown",
   "metadata": {},
   "source": [
    "***\n",
    "#### 2.4.3.1. Built-In Functions\n",
    "\n",
    "You will also notice that some words show up as <font color=\"green\">light green</font> (as opposed to <b><font color=\"green\">bold green</font></b>) when you type them into a code cell.  These are built-in functions (i.e., functions that come prepackaged for you with any installation of Python).  Unlike reserved words, Python will let you re-assign built-in function names to other values, <i>but you should not do this</i>. Once you re-assign a function's name to something else, you lose the ability to use that function, which is bad because these functions are fundamental to some core Python capabilities.\n",
    "\n",
    "Here are some built-in functions you are already familiar with.\n",
    "```python\n",
    "print()\n",
    "type()\n",
    "```\n",
    "Run the code cells below to see what happens if you assign a value to a variable named `print`.  "
   ]
  },
  {
   "cell_type": "code",
   "execution_count": null,
   "metadata": {
    "collapsed": true,
    "scrolled": false
   },
   "outputs": [],
   "source": [
    "print = 'dog'\n",
    "print"
   ]
  },
  {
   "cell_type": "markdown",
   "metadata": {},
   "source": [
    "We've successfully stored the string `'dog'` in the variable `print`. Now run the next cell to see what happens when we try to use the `print()` function again."
   ]
  },
  {
   "cell_type": "code",
   "execution_count": null,
   "metadata": {
    "collapsed": true
   },
   "outputs": [],
   "source": [
    "print('cat')"
   ]
  },
  {
   "cell_type": "markdown",
   "metadata": {},
   "source": [
    "To regain the use of `print()`, restart your kernel."
   ]
  },
  {
   "cell_type": "markdown",
   "metadata": {},
   "source": [
    "***\n",
    "<a id='Numbers'></a>\n",
    "### 2.4.4. Numbers (Integers and Floats) and Arithmetic Operators\n",
    "\n",
    "<hr>\n",
    "\n",
    "#### References:\n",
    "* [TutorialsPoint: Python - Basic Operators](https://www.tutorialspoint.com/python/python_basic_operators.htm)\n",
    "\n",
    "<hr>\n",
    "The difference between integers, which are always whole numbers, and floats is the decimal.  The decimal point is sometimes called a floating point.\n",
    "\n",
    "Even if a number is equivalent to an integer, like `2.0`, the presence of a decimal makes it a float."
   ]
  },
  {
   "cell_type": "code",
   "execution_count": null,
   "metadata": {
    "collapsed": true
   },
   "outputs": [],
   "source": [
    "2 == 2.0"
   ]
  },
  {
   "cell_type": "code",
   "execution_count": null,
   "metadata": {
    "collapsed": true
   },
   "outputs": [],
   "source": [
    "type(2)"
   ]
  },
  {
   "cell_type": "code",
   "execution_count": null,
   "metadata": {
    "collapsed": true
   },
   "outputs": [],
   "source": [
    "type(2.0)"
   ]
  },
  {
   "cell_type": "markdown",
   "metadata": {},
   "source": [
    "When doing mathematic calculations in Python, you can use integers and floats together."
   ]
  },
  {
   "cell_type": "code",
   "execution_count": null,
   "metadata": {
    "collapsed": true
   },
   "outputs": [],
   "source": [
    "2.5 + 10"
   ]
  },
  {
   "cell_type": "markdown",
   "metadata": {},
   "source": [
    ">NOTE: There is a difference between Python 2.7 (which you may have on your work computer) and 3.5 (which we are using in this class) when doing division with integers.</b>\n",
    "* Python 2.7: Division operations involving only integers will result in a rounded down integer.  \n",
    "* Python 3.5: Division operations involving only integers will result in a float. \n",
    "\n",
    ">Python 2.7:\n",
    "```python\n",
    "2/5 = 0``` \n",
    "\n",
    ">Python 3.5:\n",
    "```python\n",
    "2/5 = 0.4```\n",
    "\n",
    ">You can get Python 2.7 to output the float result by making one of the numbers in your expression a float (i.e. `2/5.0`)"
   ]
  },
  {
   "cell_type": "markdown",
   "metadata": {},
   "source": [
    "Just like Boolean values, we can assign numbers explicitly to variables or create them with expressions."
   ]
  },
  {
   "cell_type": "code",
   "execution_count": null,
   "metadata": {
    "collapsed": true
   },
   "outputs": [],
   "source": [
    "side_of_square = 5\n",
    "side_of_square"
   ]
  },
  {
   "cell_type": "code",
   "execution_count": null,
   "metadata": {
    "collapsed": true
   },
   "outputs": [],
   "source": [
    "area_of_square = side_of_square * side_of_square\n",
    "area_of_square"
   ]
  },
  {
   "cell_type": "markdown",
   "metadata": {},
   "source": [
    "Exercise: Write an expression involving integers and floats, and assign the result to a variable."
   ]
  },
  {
   "cell_type": "code",
   "execution_count": null,
   "metadata": {
    "collapsed": true
   },
   "outputs": [],
   "source": [
    "## YOUR CODE GOES HERE ##"
   ]
  },
  {
   "cell_type": "markdown",
   "metadata": {},
   "source": [
    "<hr>\n",
    "#### 2.4.4.1. Casting\n",
    "\n",
    "String representations of numbers can be converted to integers and floats using the built-in `int()` and `float()` functions.  Using these functions to change something's data type is called casting.  Casting is very helpful when you get data where numbers are formatted as strings, for example.  Other data types have their own functions for casting data objects. \n",
    "\n",
    "In the code cells below, observe how the string `'4'` is cast to an integer so that we can calculate the perimeter of a triangle."
   ]
  },
  {
   "cell_type": "code",
   "execution_count": null,
   "metadata": {
    "collapsed": true
   },
   "outputs": [],
   "source": [
    "side_of_triangle = '4'\n",
    "side_of_triangle"
   ]
  },
  {
   "cell_type": "markdown",
   "metadata": {},
   "source": [
    "You can tell the above value is a string because it is wrapped in quotation marks. To do math, we need to cast it to an integer or float."
   ]
  },
  {
   "cell_type": "code",
   "execution_count": null,
   "metadata": {
    "collapsed": true
   },
   "outputs": [],
   "source": [
    "side = int(side_of_triangle)\n",
    "side"
   ]
  },
  {
   "cell_type": "code",
   "execution_count": null,
   "metadata": {
    "collapsed": true
   },
   "outputs": [],
   "source": [
    "side + side + side"
   ]
  },
  {
   "cell_type": "markdown",
   "metadata": {},
   "source": [
    "We could have also cast our value to a float if we wanted to."
   ]
  },
  {
   "cell_type": "code",
   "execution_count": null,
   "metadata": {
    "collapsed": true
   },
   "outputs": [],
   "source": [
    "side_float = float(side)\n",
    "side_float"
   ]
  },
  {
   "cell_type": "markdown",
   "metadata": {},
   "source": [
    "Exercise: In the following code cell, assign a number as a string to a variable (wrap your number in quotation marks). Then cast that variable to an integer or float and do some arithmetic with it."
   ]
  },
  {
   "cell_type": "code",
   "execution_count": null,
   "metadata": {
    "collapsed": true
   },
   "outputs": [],
   "source": [
    "## YOUR CODE GOES HERE ##"
   ]
  },
  {
   "cell_type": "markdown",
   "metadata": {},
   "source": [
    "<hr>\n",
    "#### 2.4.4.2. Arithmetic Operators\n",
    "\n",
    "| Operator  | Operation                            |\n",
    "| :-------: | :----------------------------------- |\n",
    "| `**`        | exponent                             |\n",
    "| `*`         | multiplication                       |\n",
    "| `/`         | division                             |\n",
    "| `//`        | floor division - rounds down the result of division                       |\n",
    "| `%`         | modulus - returns only the remainder of division|\n",
    "| `+`         | addition                             |\n",
    "| `-`         | subtraction                          |"
   ]
  },
  {
   "cell_type": "markdown",
   "metadata": {},
   "source": [
    "View the arithmetic expressions in the cells below. Note that each `print()` statement combines a string denoting the operation performed, and the expression itself. The expression is evaluated and only its result is printed."
   ]
  },
  {
   "cell_type": "code",
   "execution_count": null,
   "metadata": {
    "collapsed": true
   },
   "outputs": [],
   "source": [
    "print('4 + 5 =', 4 + 5)\n",
    "print('10.2 + 0.8 =', 10.2 + 0.8)\n",
    "print('6 - 4 =', 6 - 4)\n",
    "print('4 - 6 =', 4 - 6)"
   ]
  },
  {
   "cell_type": "code",
   "execution_count": null,
   "metadata": {
    "collapsed": true
   },
   "outputs": [],
   "source": [
    "print('8 * 2 =', 8 * 2)\n",
    "print('10 / 3 =', 10 / 3) "
   ]
  },
  {
   "cell_type": "code",
   "execution_count": null,
   "metadata": {
    "collapsed": true
   },
   "outputs": [],
   "source": [
    "print('10 // 3 =', 10 // 3)\n",
    "print('10 % 3 =', 10 % 3)\n",
    "print('2 ** 3 =', 2 ** 3) "
   ]
  },
  {
   "cell_type": "markdown",
   "metadata": {
    "collapsed": true
   },
   "source": [
    "<b><font color=\"firebrick\">Instructor Guidance</font>: Ensure that students understand modular division and floor division</b>."
   ]
  },
  {
   "cell_type": "markdown",
   "metadata": {},
   "source": [
    "Python will evaluate arithmetic expressions in the order PEMDAS: parentheses, exponents, multiplication, division (floor division, modulus), addition, and subtraction.  Work through the formula/expression below to understand how it produces the result."
   ]
  },
  {
   "cell_type": "code",
   "execution_count": null,
   "metadata": {
    "collapsed": true
   },
   "outputs": [],
   "source": [
    "(5 + 4 - 3) ** (2 * 3) / 4 - 1000 * 10"
   ]
  },
  {
   "cell_type": "markdown",
   "metadata": {},
   "source": [
    "Floor division can be tricky when you're working with negative numbers. Look at the expressions below for an example of the difference between floor division with positive and negative numbers."
   ]
  },
  {
   "cell_type": "code",
   "execution_count": null,
   "metadata": {
    "collapsed": true
   },
   "outputs": [],
   "source": [
    "print('5 // 2 =', 5 // 2)\n",
    "print('-5 // 2 =', -5 // 2)\n",
    "print('-(5 // 2) =', -(5 // 2))"
   ]
  },
  {
   "cell_type": "markdown",
   "metadata": {},
   "source": [
    "Exercise: Write a few arithmetic expressions in the code cells below.  Include a string-to-number casting function in one of them. "
   ]
  },
  {
   "cell_type": "code",
   "execution_count": null,
   "metadata": {
    "collapsed": true
   },
   "outputs": [],
   "source": [
    "## Try some code ideas here ##"
   ]
  },
  {
   "cell_type": "code",
   "execution_count": null,
   "metadata": {
    "collapsed": true
   },
   "outputs": [],
   "source": [
    "## Try some code ideas here ##"
   ]
  },
  {
   "cell_type": "code",
   "execution_count": null,
   "metadata": {
    "collapsed": true
   },
   "outputs": [],
   "source": [
    "## Try some code ideas here ##"
   ]
  },
  {
   "cell_type": "markdown",
   "metadata": {},
   "source": [
    "<hr>\n",
    "#### 2.4.4.3. Assignment Operators\n",
    "\n",
    "We have seen that a single equals sign, `=`, is used to assign values to variables.  These new assignment operators are used to recalculate and assign values simultaneously.\n",
    "\n",
    "| Operator  | Operation                            |\n",
    "| :-------: | :----------------------------------- |\n",
    "| `=`         | assigns a value to a variable                           |\n",
    "| `+=`        | adds right operand to the left operand, then assigns the result to left operand |\n",
    "| `-=`        | subtracts right operand from the left operand, then assigns the result to left operand |\n",
    "| `*=`        | multiply right operand by the left operand, then assigns the result to left operand |\n",
    "| `/=`        | divide left operand by the right operand, then assigns the result to left operand |\n",
    "| `%=`        | takes modulus using two operands, then assigns the result to left operand |\n",
    "| `**=`       | exponent calculation on operands, then assigns result to the left operand |\n",
    "| `//=`       | performs floor division on operators, then assigns value to the left operand |  \n",
    "\n",
    "These new operators are really just abbreviations of the longer equations.  See the examples below, then create your own."
   ]
  },
  {
   "cell_type": "code",
   "execution_count": null,
   "metadata": {
    "collapsed": true
   },
   "outputs": [],
   "source": [
    "n = 100\n",
    "n += 1\n",
    "n"
   ]
  },
  {
   "cell_type": "markdown",
   "metadata": {},
   "source": [
    "The above is equivalent to the equation below, where we add `1` to `n` and assign the result back to `n`."
   ]
  },
  {
   "cell_type": "code",
   "execution_count": null,
   "metadata": {
    "collapsed": true
   },
   "outputs": [],
   "source": [
    "n = 100\n",
    "n = n + 1\n",
    "n"
   ]
  },
  {
   "cell_type": "markdown",
   "metadata": {},
   "source": [
    "Assignment operators also support multiplication and any of the operators in the table above. "
   ]
  },
  {
   "cell_type": "code",
   "execution_count": null,
   "metadata": {
    "collapsed": true
   },
   "outputs": [],
   "source": [
    "y = 100\n",
    "y *= 2\n",
    "y"
   ]
  },
  {
   "cell_type": "markdown",
   "metadata": {},
   "source": [
    "Exercise: Write your own equation using an assignment operator below."
   ]
  },
  {
   "cell_type": "code",
   "execution_count": null,
   "metadata": {
    "collapsed": true
   },
   "outputs": [],
   "source": [
    "## YOUR CODE GOES HERE ##"
   ]
  },
  {
   "cell_type": "markdown",
   "metadata": {},
   "source": [
    "<hr>\n",
    "<a id='None'></a>\n",
    "### 2.4.5. The None Type\n",
    "<hr>\n",
    "#### References:\n",
    "* [Python: The None Object](https://docs.python.org/3.4/c-api/none.html#the-none-object)\n",
    "\n",
    "<hr>\n",
    "\n",
    "The `None` data type only has one possible value, <b><font color=\"green\">None</font></b>, which is used to indicate the absence of data.  <b><font color=\"green\">None</font></b> is not the same as zero or an empty list or a string with no letters.  If a folder with a blank piece of paper is like an empty string, then a folder with no paper in it at all is like <b><font color=\"green\">None</font></b>.\n",
    "\n",
    "The `None` type is used to indicate an empty cell in a table or spreadsheet. The uses of <b><font color=\"green\">None</font></b> will become evident when we begin to use and create functions in this course. "
   ]
  },
  {
   "cell_type": "code",
   "execution_count": null,
   "metadata": {
    "collapsed": true
   },
   "outputs": [],
   "source": [
    "type(None)"
   ]
  },
  {
   "cell_type": "markdown",
   "metadata": {},
   "source": [
    "<b><font color=\"green\">None</font></b> is not equivalent to empty data structures such as the empty string (`''`), or the empty list (`[]`), nor is it equivalent to zero."
   ]
  },
  {
   "cell_type": "code",
   "execution_count": null,
   "metadata": {
    "collapsed": true
   },
   "outputs": [],
   "source": [
    "None == 0"
   ]
  },
  {
   "cell_type": "markdown",
   "metadata": {
    "collapsed": true
   },
   "source": [
    "<b><font color=\"firebrick\">Instructor Guidance</font>: If students ask about another purpose of None type, mention the idea of a placeholder in data.</b>"
   ]
  },
  {
   "cell_type": "markdown",
   "metadata": {},
   "source": [
    "<hr>\n",
    "<a id='IfStatements'></a>\n",
    "### 2.4.6. If Statements\n",
    "<hr>\n",
    "#### References:\n",
    "* [Python: The if statement](https://docs.python.org/3.5/reference/compound_stmts.html#if)\n",
    "* [TutorialsPoint: Python IF...ELIF...ELSE Statements](https://www.tutorialspoint.com/python/python_if_else.htm)\n",
    "<hr>\n",
    "\n",
    "We have seen how operators can be used to tell a computer program what to do, but sometimes we want to execute certain snippets of code only under certain conditions. We hinted at this when we introduced Boolean values, saying that that's how your script answers yes-or-no questions. But how do we ask our programs such questions?\n",
    "\n",
    "![](./GRAPHICS/IfElse.png)\n",
    "\n",
    "The <font color=\"green\">**if**</font> statement is used for conditional execution of code. The code below illustrates how if blocks are written in Python. The logic works as follows. If the Boolean expression after the <font color=\"green\">**if**</font> is true, Python will execute the code indented under the <font color=\"green\">**if**</font>. Then the program will skip the rest of the <font color=\"green\">**if**</font> block, if there is any.  If the condition is false, the code will be ignored and the program will move on to either evaluate the next Boolean expression in the block, which comes after an <font color=\"green\">**elif**</font>, or run the code under the <font color=\"green\">**else**</font> if that's what comes next.\n",
    "\n",
    "```python\n",
    "if boolean_test_expression:\n",
    "    code_to_do_something()\n",
    "    \n",
    "elif second_boolean_test_expression:\n",
    "    code_to_do_something_else()\n",
    "    \n",
    "else:\n",
    "    code_to_do_a_third_thing()\n",
    "```"
   ]
  },
  {
   "cell_type": "markdown",
   "metadata": {},
   "source": [
    "<b><font color=\"firebrick\">Instructor Guidance</font>: Provide students with a plain if/else since this is just a brief intro. Leave complex examples for lesson four.</b>"
   ]
  },
  {
   "cell_type": "code",
   "execution_count": null,
   "metadata": {
    "collapsed": true
   },
   "outputs": [],
   "source": [
    "my_age = 9\n",
    "\n",
    "if my_age <= 10:\n",
    "    print ('Ticket price is free for children 10 and under')\n",
    "    \n",
    "elif my_age < 65:\n",
    "    print ('Ticket price is $15')\n",
    "\n",
    "else:\n",
    "    print ('Ticket price is $10')"
   ]
  },
  {
   "cell_type": "markdown",
   "metadata": {},
   "source": [
    "In the code cell below write your own <font color=\"green\">**if**</font> block to see if your favorite number is higher or lower than your classmate's favorite number. Have it print out `'Your favorite number is bigger'` or `'Your favorite number is smaller'` depending on the numbers you both choose. "
   ]
  },
  {
   "cell_type": "code",
   "execution_count": null,
   "metadata": {
    "collapsed": true
   },
   "outputs": [],
   "source": [
    "## YOUR CODE GOES HERE ##"
   ]
  },
  {
   "cell_type": "markdown",
   "metadata": {},
   "source": [
    "<hr>\n",
    "<a id='GuidedExercise'></a>\n",
    "## 2.5. Guided Exercise: Calculations with Python"
   ]
  },
  {
   "cell_type": "markdown",
   "metadata": {},
   "source": [
    "<b><font color=\"firebrick\">Instructor Guidance:</font> Refer back to Lesson 1 and relate the four steps of problem-solving using Computational Thinking (Decomposition, Pattern Recognition, Abstraction, & Algorithm Design) as appropriate throughout these exercises.</b>"
   ]
  },
  {
   "cell_type": "markdown",
   "metadata": {},
   "source": [
    "Given a circle with a radius of 20 nautical miles, calculate the circle's area and circumference:\n",
    "\n",
    "* [Area](http://www.wikihow.com/Calculate-the-Area-of-a-Circle) of a circle equals (`PI * radius ** 2`)\n",
    "* [Circumference](http://www.wikihow.com/Calculate-the-Circumference-of-a-Circle) of a circle equals (`2 * radius * PI`) or (`diameter * PI`) \n",
    "* `PI` equals approximately `3.14`"
   ]
  },
  {
   "cell_type": "markdown",
   "metadata": {},
   "source": [
    "First, we set up two variables with the inputs to our problem."
   ]
  },
  {
   "cell_type": "code",
   "execution_count": null,
   "metadata": {
    "collapsed": true
   },
   "outputs": [],
   "source": [
    "radius = 20\n",
    "PI = 3.14"
   ]
  },
  {
   "cell_type": "markdown",
   "metadata": {},
   "source": [
    "Next, we perform the calculations, setting the results into two new variables."
   ]
  },
  {
   "cell_type": "code",
   "execution_count": null,
   "metadata": {
    "collapsed": true
   },
   "outputs": [],
   "source": [
    "area = PI * radius ** 2\n",
    "circumference = 2 * radius * PI"
   ]
  },
  {
   "cell_type": "markdown",
   "metadata": {},
   "source": [
    "Finally, we print the results of our calculations, using strings to label what each result denotes."
   ]
  },
  {
   "cell_type": "code",
   "execution_count": null,
   "metadata": {
    "collapsed": true
   },
   "outputs": [],
   "source": [
    "print('Area:', area)\n",
    "print('Circumference:', circumference)"
   ]
  },
  {
   "cell_type": "markdown",
   "metadata": {},
   "source": [
    "**Follow-Up Questions:**\n",
    "1. What are the units for the area and circumference?\n",
    "2. Conceptually, how could you use the radius about a point to filter a dataset?\n",
    "3. What is the data type of the answer?"
   ]
  },
  {
   "cell_type": "markdown",
   "metadata": {},
   "source": [
    "<hr>\n",
    "<a id='PracticalExercises'></a>\n",
    "## 2.6. Practical Exercises"
   ]
  },
  {
   "cell_type": "markdown",
   "metadata": {},
   "source": [
    "<b><font color=\"firebrick\">Instructor Guidance:</font> Refer back to Lesson 1 and relate the four steps of problem-solving using Computational Thinking (Decomposition, Pattern Recognition, Abstraction, & Algorithm Design) as appropriate throughout these exercises.\n",
    "\n",
    "<font color=\"firebrick\">Instructor Guidance:</font> The practical exercises deemed most important for this lesson, due to content and/or a cumulative result, which should be completed first in the interest of maximum training value in relation to time are Practical Exercises 1, 4, and 6. Ensure you go over the exercise solutions and (as necessary) the processes to arrive at the solutions with the students.\n",
    "\n",
    "<font color=\"firebrick\">Instructor Guidance:</font> Follow-up questions are designed to be asked by the facilitators individually as each student completes the task and has it looked at by a facilitator.</b>"
   ]
  },
  {
   "cell_type": "markdown",
   "metadata": {},
   "source": [
    "<a id='PE1'></a>\n",
    "### 2.6.1. Practical Exercise 1: How big is Washington, D.C.?\n",
    "\n",
    "In accordance with the Residence Act of 1790, Washington, D.C. was declared to be a square diamond 10 miles wide by 10 miles wide using land ceded from Maryland and Virginia.  However, in the 1840s the Virginia state government said, \"Give us our land back! We want those citizens to vote in our commonwealth.\" and Virginia got 31.6518 square miles of land back from the nation's capital. So, how big is D.C. today?\n",
    "\n",
    "![](./GRAPHICS/WashingtonDC.png)\n",
    "\n",
    "HINT: Area of a square = (`length_of_a_side ** 2`) or (`length_of_a_side * length_of_a_side`)\n",
    "\n",
    "Assign your numeric values to variables before doing calculations.  Use `print()` to give your final answer as a full sentence like the answers to the guided exercise above."
   ]
  },
  {
   "cell_type": "code",
   "execution_count": null,
   "metadata": {
    "collapsed": true
   },
   "outputs": [],
   "source": [
    "## YOUR CODE GOES HERE ##"
   ]
  },
  {
   "cell_type": "code",
   "execution_count": null,
   "metadata": {
    "collapsed": true
   },
   "outputs": [],
   "source": [
    "## INSTRUCTION SOLUTION(S) ##\n",
    "side = 10.0\n",
    "\n",
    "old_area = side * side\n",
    "\n",
    "VA_land = 31.6518\n",
    "\n",
    "new_area = old_area - VA_land\n",
    "\n",
    "print('The area of Washington, D.C. is', new_area, 'square miles.')"
   ]
  },
  {
   "cell_type": "markdown",
   "metadata": {},
   "source": [
    "<hr>\n",
    "<a id='PE2'></a>\n",
    "### 2.6.2. Practical Exercise 2: Understanding Boolean Types\n",
    "***\n",
    "<b>References:</b>\n",
    "* [Python: Boolean Values](https://docs.python.org/3.4/library/stdtypes.html#boolean-values)\n",
    "* [Python: Truth Value Testing](https://docs.python.org/3.4/library/stdtypes.html#truth)\n",
    "* [Python: if Statements](https://docs.python.org/3.4/tutorial/controlflow.html#if-statements)\n",
    "\n",
    "<hr>\n",
    "\n",
    "Answer the problems below with your own code.  DO NOT copy the examples; make up your own.\n",
    "\n",
    "Problem 1. Use Comparison Operators to write a statement that outputs `True` and another statement that outputs `False`. \n",
    "      \n",
    ">Example:\n",
    "```python\n",
    "3 > 2\n",
    ">\n",
    "'words' == 'word'\n",
    "```"
   ]
  },
  {
   "cell_type": "code",
   "execution_count": null,
   "metadata": {
    "collapsed": true
   },
   "outputs": [],
   "source": [
    "## YOUR CODE GOES HERE ##"
   ]
  },
  {
   "cell_type": "code",
   "execution_count": null,
   "metadata": {
    "collapsed": true,
    "scrolled": true
   },
   "outputs": [],
   "source": [
    "## INSTRUCTION SOLUTION(S) ##\n",
    "print(3 > 2)\n",
    "\n",
    "print('Order' == 66)"
   ]
  },
  {
   "cell_type": "markdown",
   "metadata": {},
   "source": [
    "Problem 2. Use a Logic Operator (<font color=\"green\">**and**</font>, <font color=\"green\">**or**</font>) to evaluate two statements and print `True`.\n",
    "     \n",
    ">Example:\n",
    "```python\n",
    "'fi' != 'fo' or 24 < 7\n",
    "```"
   ]
  },
  {
   "cell_type": "code",
   "execution_count": null,
   "metadata": {
    "collapsed": true
   },
   "outputs": [],
   "source": [
    "## YOUR CODE GOES HERE ##"
   ]
  },
  {
   "cell_type": "code",
   "execution_count": null,
   "metadata": {
    "collapsed": true
   },
   "outputs": [],
   "source": [
    "## INSTRUCTION SOLUTION(S) ##\n",
    "'dog' == 'dog' and 5 > 2+2"
   ]
  },
  {
   "cell_type": "markdown",
   "metadata": {},
   "source": [
    "Problem 3. Use a Logic Operator (<font color=\"green\">**and**</font>, <font color=\"green\">**or**</font>) to evaluate two statements and print `False`.\n",
    "    \n",
    ">Example: \n",
    "```python \n",
    "'Tom' == 'Tina' and 7 > 2+2\n",
    "```"
   ]
  },
  {
   "cell_type": "code",
   "execution_count": null,
   "metadata": {
    "collapsed": true
   },
   "outputs": [],
   "source": [
    "## YOUR CODE GOES HERE ##"
   ]
  },
  {
   "cell_type": "code",
   "execution_count": null,
   "metadata": {
    "collapsed": true
   },
   "outputs": [],
   "source": [
    "## INSTRUCTION SOLUTION(S) ##\n",
    "'dog' != 'cat' and -4 > 2+2"
   ]
  },
  {
   "cell_type": "markdown",
   "metadata": {},
   "source": [
    "Problem 4. Use Membership (<font color=\"green\">**in**</font>, <font color=\"green\">**not in**</font>) and Logic Operators to write a statement with the string `'antidisestablishmentarianism'` that prints `True`.\n",
    "\n",
    ">Example: \n",
    "```python\n",
    "'establish' in 'antidisestablishmentarianism'\n",
    "```"
   ]
  },
  {
   "cell_type": "code",
   "execution_count": null,
   "metadata": {
    "collapsed": true
   },
   "outputs": [],
   "source": [
    "## YOUR CODE GOES HERE ##"
   ]
  },
  {
   "cell_type": "code",
   "execution_count": null,
   "metadata": {
    "collapsed": true
   },
   "outputs": [],
   "source": [
    "## INSTRUCTION SOLUTION(S) ##\n",
    "'parliament' not in 'antidisestablishmentarianism'"
   ]
  },
  {
   "cell_type": "markdown",
   "metadata": {},
   "source": [
    "**Follow-Up Question:**\n",
    "\n",
    "What is the integer value of a Boolean <b><font color=\"green\">False</font></b>?"
   ]
  },
  {
   "cell_type": "markdown",
   "metadata": {},
   "source": [
    "<hr>\n",
    "<a id='PE3'></a>\n",
    "### 2.6.3. Practical Exercise 3: Casting\n",
    "\n",
    "<b>References:</b>\n",
    "* [PythonSpot: Datatype casting](https://pythonspot.com/datatype-casting/)\n",
    "<hr>\n",
    "\n",
    "Create a variable of some data type, then cast that variable to another data type. \n",
    "\n",
    "WARNING: Not all values can be cast as all data types. \n",
    "  \n",
    ">Example\n",
    "```python  \n",
    "new_string = '34'\n",
    ">\n",
    "some_int = int(new_string)\n",
    "```"
   ]
  },
  {
   "cell_type": "code",
   "execution_count": null,
   "metadata": {
    "collapsed": true
   },
   "outputs": [],
   "source": [
    "## INSTRUCTION SOLUTION(S) ##\n",
    "new_string = '2.0'\n",
    "some_float = float(new_string)\n",
    "type(some_float)"
   ]
  },
  {
   "cell_type": "markdown",
   "metadata": {},
   "source": [
    "<hr>\n",
    "<a id='PE4'></a>\n",
    "### 2.6.4. Practical Exercise 4: Using the if statement in Python\n",
    "\n",
    "<b>References:</b>\n",
    "* [Python: Boolean Values](https://docs.python.org/3.4/library/stdtypes.html#boolean-values)\n",
    "* [Python: Truth Value Testing](https://docs.python.org/3.4/library/stdtypes.html#truth)\n",
    "* [Python: if Statements](https://docs.python.org/3.4/tutorial/controlflow.html#if-statements)\n",
    "* [TutorialsPoint: Python - Basic Operators](https://www.tutorialspoint.com/python/python_basic_operators.htm)\n",
    "<hr>\n",
    "\n",
    "Without running the Python script below, what is the final value of `number`?\n",
    "```python\n",
    "number = 10\n",
    "\n",
    "if number == '10':\n",
    "    number = number + 9\n",
    "elif number > 1 and type(number) == float:\n",
    "    number += 5\n",
    "elif number % 2 == 0:\n",
    "    number = number ** 2\n",
    "else:\n",
    "    number *= 2.5\n",
    "```"
   ]
  },
  {
   "cell_type": "code",
   "execution_count": null,
   "metadata": {
    "collapsed": true
   },
   "outputs": [],
   "source": [
    "## YOUR CODE GOES HERE ##"
   ]
  },
  {
   "cell_type": "code",
   "execution_count": null,
   "metadata": {
    "collapsed": true
   },
   "outputs": [],
   "source": [
    "## INSTRUCTION SOLUTION(S) ##\n",
    "\n",
    "## The answer is 100; after the class has a chance to write an answer, have them type \"number\" ##\n",
    "## at the bottom and execute ##\n",
    "\n",
    "number = 10\n",
    "    \n",
    "if number == \"10\":\n",
    "    number = number + 9\n",
    "elif number > 1 and type(number) == float:\n",
    "    number += 5\n",
    "elif number % 2 == 0:\n",
    "    number = number ** 2\n",
    "else:\n",
    "    number *= 2.5\n",
    "\n",
    "number"
   ]
  },
  {
   "cell_type": "markdown",
   "metadata": {},
   "source": [
    "**Follow-Up Questions:**\n",
    "\n",
    "1. How does this if block execute?\n",
    "2. In plain English, what is each Boolean statement asking?\n",
    "3. How does each of the Boolean expressions in the if block evaluate (`True` or `False`)?\n",
    "4. What is the data type of the answer?"
   ]
  },
  {
   "cell_type": "markdown",
   "metadata": {},
   "source": [
    "<hr>\n",
    "<a id='PE5'></a>\n",
    "### 2.6.5. Practical Exercise 5: Calculations with Python\n",
    "***\n",
    "#### References:\n",
    "* [TutorialsPoint: Python - Basic Operators](https://www.tutorialspoint.com/python/python_basic_operators.htm)\n",
    "* [Math is Fun: Area of a Rectangle](https://www.mathsisfun.com/geometry/rectangle.html#Area)\n",
    "* [Math is Fun: Perimeter of a Rectangle](https://www.mathsisfun.com/geometry/rectangle.html#Perimeter)\n",
    "\n",
    "<hr>\n",
    "\n",
    "Write a Python script that calculates the area and perimeter of the shape below:\n",
    "\n",
    "![](./GRAPHICS/PE_2_04_Plot.png)"
   ]
  },
  {
   "cell_type": "code",
   "execution_count": null,
   "metadata": {
    "collapsed": true
   },
   "outputs": [],
   "source": [
    "## YOUR CODE GOES HERE ##"
   ]
  },
  {
   "cell_type": "code",
   "execution_count": null,
   "metadata": {
    "collapsed": true
   },
   "outputs": [],
   "source": [
    "## INSTRUCTION SOLUTION(S) ##\n",
    "\n",
    "## Break up the shape into two rectangles ##\n",
    "\n",
    "## Rectangle 1 ##\n",
    "rect1_x = 2.0\n",
    "rect1_y = 1.5\n",
    "\n",
    "## Rectangle 2 ##\n",
    "rect2_x = 2.0 \n",
    "rect2_y = 4.5\n",
    "    \n",
    "print('Area:', (rect1_x * rect1_y) + (rect2_x * rect2_y))\n",
    "print('Perimeter:', (rect1_x * 2) + (rect2_x * 2) + (rect2_y * 2))"
   ]
  },
  {
   "cell_type": "markdown",
   "metadata": {},
   "source": [
    "<b>Follow-Up Questions:</b>\n",
    "\n",
    "1. What are the units for the area and perimeter?\n",
    "2. What data types did you use to define the shape?\n",
    "3. What is the data type of the answer?"
   ]
  },
  {
   "cell_type": "markdown",
   "metadata": {},
   "source": [
    "<hr>\n",
    "<a id='PE6'></a>\n",
    "### 2.6.6. Practical Exercise 6: Calculations with Python\n",
    "\n",
    "Calculate to see how long, in hours, a radio signal (which travels at the speed of light) takes to reach Earth from the Voyager 1 spacecraft.\n",
    "<img src=\"./GRAPHICS/Voyager.png\" width=\"33%\">\n",
    "\n",
    ">Speed of light in meters per second: `299792458`<br>\n",
    ">Speed of light in kilometers per hour: `1079252848.8`<br>\n",
    ">Voyager 1 distance from Earth in kilometers: `20836509700` <br>\n",
    "\n",
    "\n",
    "First use comments in the code cell below to write out the steps of calculation or unit conversion that are needed to find the answer.  Then write the code to execute these steps. Make your answer print out as a complete sentence.\n",
    "\n",
    "HINT: Start with the speed of light in kilometers per hour to write less code."
   ]
  },
  {
   "cell_type": "code",
   "execution_count": null,
   "metadata": {
    "collapsed": true
   },
   "outputs": [],
   "source": [
    "## YOUR CODE GOES HERE ##"
   ]
  },
  {
   "cell_type": "code",
   "execution_count": null,
   "metadata": {
    "collapsed": true
   },
   "outputs": [],
   "source": [
    "## INSTRUCTION SOLUTION(S) ##\n",
    "\n",
    "## Convert the speed of light to kms per second ##\n",
    "## Calculate time of message travel in seconds ##\n",
    "## Convert time of message travel to hours ## \n",
    "\n",
    "voyager_1_dist_in_km = 20836509700\n",
    "\n",
    "c = 299792458    # m/s\n",
    "\n",
    "c_in_km_per_sec = c / 1000\n",
    "\n",
    "message_time_in_sec = voyager_1_dist_in_km / c_in_km_per_sec\n",
    "\n",
    "message_time_in_hrs = message_time_in_sec / 3600\n",
    "\n",
    "print('It takes', message_time_in_hrs, 'hours for a message to reach Earth')"
   ]
  },
  {
   "cell_type": "code",
   "execution_count": null,
   "metadata": {
    "collapsed": true
   },
   "outputs": [],
   "source": [
    "## ALTERNATIVE INSTRUCTION SOLUTION(S) ##\n",
    "\n",
    "## Calculate time of message in hours, using given speed of light km/hr ##\n",
    "\n",
    "voyager_1_dist_in_km = 20836509700\n",
    "\n",
    "better_c = 1079252848.8    #km/hr\n",
    "\n",
    "message_time = voyager_1_dist_in_km / better_c\n",
    "\n",
    "print('It takes', message_time, 'hours for a message to reach Earth')"
   ]
  },
  {
   "cell_type": "markdown",
   "metadata": {},
   "source": [
    "<hr>\n",
    "<a id='PE7'></a>\n",
    "### 2.6.7. Practical Exercise 7: Odd or Even? \n",
    "<hr>\n",
    "#### References:\n",
    "* [Python: Boolean Values](https://docs.python.org/3.4/library/stdtypes.html#boolean-values)\n",
    "* [Python: Truth Value Testing](https://docs.python.org/3.4/library/stdtypes.html#truth)\n",
    "* [Python: if Statements](https://docs.python.org/3.4/tutorial/controlflow.html#if-statements)\n",
    "* [TutorialsPoint: Python - Basic Operators](https://www.tutorialspoint.com/python/python_basic_operators.htm)\n",
    "\n",
    "<hr>\n",
    "\n",
    "Write a Python script that will take an integer variable and print whether it is even or odd.\n",
    "\n",
    "Sample inputs and expected outputs:\n",
    "\n",
    "| Input | Expected Output |\n",
    "|-------|-----------------|\n",
    "| `2` | `Even` |\n",
    "| `9` | `Odd` |"
   ]
  },
  {
   "cell_type": "code",
   "execution_count": null,
   "metadata": {
    "collapsed": true
   },
   "outputs": [],
   "source": [
    "## YOUR CODE GOES HERE ##"
   ]
  },
  {
   "cell_type": "code",
   "execution_count": null,
   "metadata": {
    "collapsed": true
   },
   "outputs": [],
   "source": [
    "## INSTRUCTION SOLUTION(S) ##\n",
    "integer_variable = 9\n",
    "\n",
    "if integer_variable % 2 == 0:\n",
    "    print('Even')\n",
    "else:\n",
    "    print('Odd')"
   ]
  },
  {
   "cell_type": "markdown",
   "metadata": {},
   "source": [
    "**Follow-Up Questions:**\n",
    "\n",
    "1. What should the output be if the input is `0`?\n",
    "2. How did you determine if an integer is even or odd?\n",
    "3. What is the data type of the answer?"
   ]
  },
  {
   "cell_type": "markdown",
   "metadata": {
    "collapsed": true
   },
   "source": [
    "<hr>\n",
    "<a id='Administrative'></a>\n",
    "## 2.7. Administrative Notes\n",
    "* Save your Lesson 2 .ipynb file to your H drive."
   ]
  },
  {
   "cell_type": "markdown",
   "metadata": {},
   "source": [
    "<b><center>UNCLASSIFIED</center></b>"
   ]
  }
 ],
 "metadata": {
  "anaconda-cloud": {},
  "kernelspec": {
   "display_name": "Python [default]",
   "language": "python",
   "name": "python3"
  },
  "language_info": {
   "codemirror_mode": {
    "name": "ipython",
    "version": 3
   },
   "file_extension": ".py",
   "mimetype": "text/x-python",
   "name": "python",
   "nbconvert_exporter": "python",
   "pygments_lexer": "ipython3",
   "version": "3.5.2"
  }
 },
 "nbformat": 4,
 "nbformat_minor": 1
}
