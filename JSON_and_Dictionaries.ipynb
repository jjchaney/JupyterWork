{
 "cells": [
  {
   "cell_type": "markdown",
   "metadata": {},
   "source": [
    "## Friday Session Challenge - Solutions\n",
    "\n",
    "1. Download the .json file from: https://catalog.data.gov/dataset/crime-mapping\n",
    "2. Save in your class folder in the data folder"
   ]
  },
  {
   "cell_type": "markdown",
   "metadata": {},
   "source": [
    "#### Part 1\n",
    "Read in the data (Lesson 7)"
   ]
  },
  {
   "cell_type": "code",
   "execution_count": 1,
   "metadata": {
    "collapsed": true
   },
   "outputs": [],
   "source": [
    "import json\n",
    "\n",
    "with open('data/crime-mapping.json') as file_obj:\n",
    "    crime_data = json.load(file_obj)"
   ]
  },
  {
   "cell_type": "markdown",
   "metadata": {},
   "source": [
    "#### Part 2\n",
    "Explore the data\n",
    "- what is the main data structure?\n",
    "- how many items are in the structure?\n",
    "- what type are the sub-structures?"
   ]
  },
  {
   "cell_type": "code",
   "execution_count": 3,
   "metadata": {
    "collapsed": false
   },
   "outputs": [
    {
     "data": {
      "text/plain": [
       "dict"
      ]
     },
     "execution_count": 3,
     "metadata": {},
     "output_type": "execute_result"
    }
   ],
   "source": [
    "type(crime_data) ## list\n",
    "len(crime_data) ## 4,454\n",
    "type(crime_data[0]) ## each sub-structure is a dictionary"
   ]
  },
  {
   "cell_type": "markdown",
   "metadata": {},
   "source": [
    "#### Part 3\n",
    "How many unique crimes are in the data?"
   ]
  },
  {
   "cell_type": "code",
   "execution_count": 4,
   "metadata": {
    "collapsed": false
   },
   "outputs": [
    {
     "data": {
      "text/plain": [
       "82"
      ]
     },
     "execution_count": 4,
     "metadata": {},
     "output_type": "execute_result"
    }
   ],
   "source": [
    "crime_master_list = []\n",
    "\n",
    "for incident in crime_data:\n",
    "    curr_crime_type = incident['crime_type']\n",
    "    crime_master_list.append(curr_crime_type)\n",
    "    \n",
    "len(set(crime_master_list))"
   ]
  },
  {
   "cell_type": "markdown",
   "metadata": {},
   "source": [
    "#### Part 4\n",
    "Create a dictionary of all of the crime types and the count of how many times each one happened? What is the most popular crime in this data set?\n",
    "\n",
    "i.e {'Robbery': 12, 'Kidnapping': 0, 'Murder': 3}"
   ]
  },
  {
   "cell_type": "code",
   "execution_count": 5,
   "metadata": {
    "collapsed": true
   },
   "outputs": [],
   "source": [
    "## Option 1\n",
    "crime_dict = {}\n",
    "\n",
    "for incident in crime_data:\n",
    "    \n",
    "    curr_crime_type = incident['crime_type']\n",
    "    \n",
    "    if curr_crime_type in crime_dict.keys():\n",
    "        crime_dict[curr_crime_type] += 1\n",
    "    else: \n",
    "        crime_dict[curr_crime_type] = 1"
   ]
  },
  {
   "cell_type": "code",
   "execution_count": 6,
   "metadata": {
    "collapsed": false
   },
   "outputs": [
    {
     "name": "stdout",
     "output_type": "stream",
     "text": [
      "LARCENY - ALL OTHER LARCENY 477\n"
     ]
    }
   ],
   "source": [
    "max_count = 0\n",
    "\n",
    "for crime, count in crime_dict.items():\n",
    "    if count > max_count:\n",
    "        max_count = count\n",
    "        max_crime = crime\n",
    "        \n",
    "print(max_crime,max_count)"
   ]
  },
  {
   "cell_type": "code",
   "execution_count": 7,
   "metadata": {
    "collapsed": true
   },
   "outputs": [],
   "source": [
    "## Option 2\n",
    "unique_crimes = list(set(crime_master_list))\n",
    "crime_dict = {}\n",
    "\n",
    "for crime in unique_crimes:\n",
    "    crime_dict[crime] = crime_master_list.count(crime)"
   ]
  },
  {
   "cell_type": "code",
   "execution_count": 8,
   "metadata": {
    "collapsed": false
   },
   "outputs": [
    {
     "name": "stdout",
     "output_type": "stream",
     "text": [
      "LARCENY - ALL OTHER LARCENY 477\n"
     ]
    }
   ],
   "source": [
    "max_count = 0\n",
    "\n",
    "for crime, count in crime_dict.items():\n",
    "    if count > max_count:\n",
    "        max_count = count\n",
    "        max_crime = crime\n",
    "        \n",
    "print(max_crime,max_count)"
   ]
  },
  {
   "cell_type": "markdown",
   "metadata": {},
   "source": [
    "#### Part 5\n",
    "What is the most popular day for crime?"
   ]
  },
  {
   "cell_type": "code",
   "execution_count": 9,
   "metadata": {
    "collapsed": false
   },
   "outputs": [
    {
     "data": {
      "text/plain": [
       "{'FRIDAY': 696,\n",
       " 'MONDAY': 605,\n",
       " 'SATURDAY': 613,\n",
       " 'SUNDAY': 663,\n",
       " 'THURSDAY': 598,\n",
       " 'TUESDAY': 688,\n",
       " 'WEDNESDAY': 591}"
      ]
     },
     "execution_count": 9,
     "metadata": {},
     "output_type": "execute_result"
    }
   ],
   "source": [
    "day_dict = {}\n",
    "\n",
    "for incident in crime_data:\n",
    "\n",
    "    crime_day = incident['crimeday']\n",
    "    \n",
    "    if crime_day in day_dict.keys():\n",
    "        day_dict[crime_day] += 1\n",
    "    else: \n",
    "        day_dict[crime_day] = 1\n",
    "        \n",
    "day_dict"
   ]
  },
  {
   "cell_type": "markdown",
   "metadata": {},
   "source": [
    "#### Part 6\n",
    "\n",
    "Store all of the coordinates inside of a dictionary where the incident_number is the key and the value is a dictionary with \"lat\" and \"long\"."
   ]
  },
  {
   "cell_type": "code",
   "execution_count": 11,
   "metadata": {
    "collapsed": false
   },
   "outputs": [],
   "source": [
    "incident_id_dict = {}\n",
    "\n",
    "for incident in crime_data:\n",
    "    \n",
    "    curr_crime_id = incident['incident_number']\n",
    "    incident_id_dict[curr_crime_id] = incident['location']\n"
   ]
  },
  {
   "cell_type": "code",
   "execution_count": 12,
   "metadata": {
    "collapsed": false
   },
   "outputs": [
    {
     "data": {
      "text/plain": [
       "{'lat': 35.735383168, 'lon': -78.77715332}"
      ]
     },
     "execution_count": 12,
     "metadata": {},
     "output_type": "execute_result"
    }
   ],
   "source": [
    "incident_id_dict['18005633']"
   ]
  }
 ],
 "metadata": {
  "anaconda-cloud": {},
  "kernelspec": {
   "display_name": "Python [default]",
   "language": "python",
   "name": "python3"
  },
  "language_info": {
   "codemirror_mode": {
    "name": "ipython",
    "version": 3
   },
   "file_extension": ".py",
   "mimetype": "text/x-python",
   "name": "python",
   "nbconvert_exporter": "python",
   "pygments_lexer": "ipython3",
   "version": "3.5.2"
  }
 },
 "nbformat": 4,
 "nbformat_minor": 1
}
