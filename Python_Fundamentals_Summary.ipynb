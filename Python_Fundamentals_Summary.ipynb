{
 "cells": [
  {
   "cell_type": "markdown",
   "metadata": {},
   "source": [
    "<b><center>UNCLASSIFIED</center></b>"
   ]
  },
  {
   "cell_type": "markdown",
   "metadata": {},
   "source": [
    "<img src=\"./GRAPHICS/Banner.png\" width=\"110%\">"
   ]
  },
  {
   "cell_type": "markdown",
   "metadata": {},
   "source": [
    "# Lesson 8: Prepare for the Final Exercise"
   ]
  },
  {
   "cell_type": "markdown",
   "metadata": {},
   "source": [
    "***\n",
    "## Table of Contents\n",
    "\n",
    "* [8.1. Objectives](#objectives)<br>\n",
    "* [8.2. Overview](#overview)<br>\n",
    "* [8.3. Computational Thinking](#CompT)<br>\n",
    "* [8.4. Python Data Types](#DataTypes)<br>\n",
    "   * [8.4.1. Boolean Values and Operators](#boolean)<br>\n",
    "   * [8.4.2. Reserved Python Keywords](#Keywords)<br>\n",
    "   * [8.4.3. Numbers (Integers and Floating-Point)](#numbers)<br>\n",
    "   * [8.4.4. None](#none)<br>\n",
    "* [8.5. Python Data Structures](#Structures)<br>\n",
    "   * [8.5.1. Sequences: Lists, Tuples, Strings](#Sequences)<br>\n",
    "   * [8.5.2. Sets](#sets)<br>\n",
    "   * [8.5.3. Dictionaries](#dictionaries)<br>\n",
    "* [8.6. Flow Control](#codeflow)<br>\n",
    "   * [8.6.1. If Statements](#if)<br>\n",
    "   * [8.6.2. For Loops](#for)<br>\n",
    "   * [8.6.3. While Loops](#while)<br>\n",
    "   * [8.6.4. Break and Continue](#break)<br>\n",
    "   * [8.6.5. Functions](#function)<br>\n",
    "* [8.7. Getting Data](#GettingData)<br>\n",
    "   * [8.7.1. Entering Data From the Prompt](#Prompt)<br>\n",
    "   * [8.7.2. Loading a Local Data File](#Local)<br>\n",
    "   * [8.7.3. Getting Data with the CSV Library](#csv)<br>\n",
    "   * [8.7.4. The Glob Library](#glob)<br>\n",
    "   * [8.7.5. The JSON Library](#json)<br>\n",
    "* [8.8. Administrative Notes](#Administrative)<br>"
   ]
  },
  {
   "cell_type": "markdown",
   "metadata": {},
   "source": [
    "***\n",
    "<a id=\"objectives\"></a>\n",
    "## 8.1. Objectives\n",
    "Using conditionals, loops, Python dictionaries, local data, the CSV Library, and the Glob Library, students will be able to:\n",
    "\n",
    "* Examine the implications of using computation to solve a problem\n",
    "    * Discuss best practices for using computation to solve a problem\n",
    "    * Suggest types of problems that can be solved through computation\n",
    "    * Show how computation can solve a problem\n",
    "<br><br>    \n",
    "* Recognize key computer science concepts\n",
    "    * Identify data types used in Python scripting\n",
    "    * Identify data structures used in Python scripting\n",
    "    * Define variables and strings\n",
    "    * Recognize how queries operate\n",
    "<br><br>    \n",
    "* Demonstrate the ability to build basic scripts using Python scripting language\n",
    "    * Use various data types and structures in Python scripting\n",
    "    * Collect data using Python scripting\n",
    "    * Extract data using Python scripting\n",
    "    * Develop advanced data structures using Python scripting"
   ]
  },
  {
   "cell_type": "markdown",
   "metadata": {},
   "source": [
    "<hr> <a id=\"overview\"></a>\n",
    "## 8.2. Overview\n",
    "\n",
    "<b><font color=\"brick\">Instructor Guidance</font>: Refer back to Lesson 1 and relate the four steps of problem-solving using Computational Thinking (Decomposition, Pattern Recognition, Abstraction, & Algorithm Design) to lessons, exercises, examples, student questions/comments, etc., as appropriate throughout this lesson.</b>\n",
    "\n",
    "<b><font color=\"brick\">Instructor Guidance</font>: Technical Facilitators found that this lesson works best when allowing students at least an hour at the beginning of the session to work through the lesson at their own pace and to identify issues they may have. These issues can be addressed either one-on-one, or with the entire class.</b>"
   ]
  },
  {
   "cell_type": "markdown",
   "metadata": {},
   "source": [
    "#### Welcome to Lesson 8\n",
    "\n",
    "You've made it to Lesson 8. We have covered a lot of material in a very short time, so it is time to do a more comprehensive review. So far we have spent a lot of time learning about:\n",
    "\n",
    "   * Computational Thinking\n",
    "   * Python Data Types and Structures\n",
    "   * Python Script Flow Control\n",
    "   * Getting Data\n",
    "   * Working with Data\n",
    "\n",
    "Today we are going to review everything that has been covered in the course thus far."
   ]
  },
  {
   "cell_type": "markdown",
   "metadata": {},
   "source": [
    "<a id=\"CompT\"></a>\n",
    "<hr>\n",
    "## 8.3. Computational Thinking\n",
    "\n",
    "Computers are not smart, but they are fast. They need explicit instructions in order to solve a problem. Programming languages are designed to eliminate the ambiguity found in natural language. This means that when we, as programmers, are presented with a problem, we have to provide the computer a complete set of instructions in a programming language for it to do what we want. This requires a special, rigorous mode of reasoning that we call computational thinking."
   ]
  },
  {
   "cell_type": "markdown",
   "metadata": {},
   "source": [
    "<img src=\"./GRAPHICS/IconKeyPoster.png\" width=\"60%\">\n",
    "<img src=\"./GRAPHICS/IconPlacematt.png\" width=\"60%\">"
   ]
  },
  {
   "cell_type": "markdown",
   "metadata": {},
   "source": [
    "The basic steps for approaching a computational problem are:\n",
    "\n",
    ">1. **Decomposition:** Breaking down data, processes, or problems into smaller, manageable parts\n",
    ">    1. Make sure you understand the problem\n",
    ">        1. Identify the inputs\n",
    ">        2. Identify what the answer should look like\n",
    ">    2. If it’s a large scale problem, identify possible smaller components\n",
    "<br><br>    \n",
    ">2. **Pattern Recognition:** Observing patterns, trends, and regularities in data\n",
    ">    1. Inspect your data\n",
    ">        1. Make sure the inputs and outputs you’ve identified make sense\n",
    ">        2. Look for trends or possible fringe cases\n",
    "<br><br>       \n",
    ">3. **Abstraction:** Identifying the general principles that generate these patterns\n",
    ">    1. Work out a problem by hand\n",
    ">        2. As you work out by hand, attempt to make simple steps\n",
    "<br><br>\n",
    ">4. **Algorithm Design:** Developing the step by step instructions for solving this and similar problems \n",
    ">    1. Begin to formalize your steps into a set of pseudocode\n",
    ">    2. Identify available software tools\n",
    ">        1. These may be outside packages, things you’ve written in the past, or built-in python functionality\n",
    ">    3. Implement your pseudocode"
   ]
  },
  {
   "cell_type": "markdown",
   "metadata": {},
   "source": [
    "Writing pseudocode is a great way to think through a problem fully before you start coding. Writing pseudocode allows you to practice computational thinking without worrying about code syntax. For any given problem, your pseudocode should be a list of step-by-step instructions to go from your inputs to your desired outputs. \n",
    "\n",
    "Example Problem:\n",
    "- Given a list of numbers, find the difference between the maximum and minimum values in the list.\n",
    "\n",
    "Pseudocode:\n",
    "1. Store the list of numbers in a variable (call it `my_list` for now)\n",
    "2. Find the maximum value in the list (call it `my_max`)\n",
    "3. Find the minimum value in the list (call it `my_min`)\n",
    "4. Return the result of `my_max - my_min`\n",
    "\n",
    "Your pseudocode serves as a template when you start writing your Python code. Once your pseudocode is written, you can focus on the syntax rather than the logic of your script."
   ]
  },
  {
   "cell_type": "markdown",
   "metadata": {},
   "source": [
    "<b><font color=\"firebrick\">Instructor Guidance</font>: Poll the class for any coding problems to work through in the code cells below.</b>"
   ]
  },
  {
   "cell_type": "markdown",
   "metadata": {},
   "source": [
    "NOTE: For each exercise in this notebook, write your own pseudocode before you begin coding a solution."
   ]
  },
  {
   "cell_type": "code",
   "execution_count": 1,
   "metadata": {
    "collapsed": true
   },
   "outputs": [],
   "source": [
    "## Try some code ideas here ##"
   ]
  },
  {
   "cell_type": "markdown",
   "metadata": {},
   "source": [
    "<hr> <a id=\"DataTypes\"></a>\n",
    "## 8.4. Python Data Types \n",
    "\n",
    "There are many data types in Python, but these are the basics: Boolean, integer, float, string, and None. See the table below for descriptions of each data type. See the table below for descriptions of each type.\n",
    "\n",
    "| Plain Language Description                              | Python Data Type | `type()` Output |\n",
    "| :------------------------------------------ | :---------------: | :-------------: |\n",
    "| True or False                               | Boolean          | `bool`            |\n",
    "| Whole Numbers                               | Integer          | `int`             |\n",
    "| Decimal Numbers                             | Float            | `float`           |\n",
    "| Sequences of characters including letters, <br>numbers, formatting characters, and/or punctuation   | String   | `str` |\n",
    "| Nothingness, non-existence; not the same as <br>zero or empty                 | None          | `NoneType`            |"
   ]
  },
  {
   "cell_type": "markdown",
   "metadata": {},
   "source": [
    "<hr> <a id=\"boolean\"></a>\n",
    "### 8.4.1. Boolean Values and Operators\n",
    "\n",
    "In Python, a Boolean type can only be one of two possible values: <b><font color=\"green\">True</font></b> or <b><font color=\"green\">False</font></b>.  <b><font color=\"green\">True</font></b> or <b><font color=\"green\">False</font></b> can be explicitly defined or defined as the result of a test expression. \n",
    "\n",
    "Example: Both of the following lines of code create a Boolean value, i.e. either `True` or `False`.\n",
    "```python\n",
    "my_bool = True \n",
    "\n",
    "my_bool = 100 >= 101\n",
    "```\n",
    "\n",
    "Any Python object can be tested in a Boolean expression.  For example, if the variable `x` was assigned the value of `35`, then the expression `x > 40` (i.e., is `x` greater than `40`?) would evaluate to <b><font color=\"green\">False</font></b>. Booleans are instrumental in flow control, because they allow us to capture facts about the state of our script and run certain blocks of code depending on those facts.\n",
    "\n",
    "Below we create two Boolean values explicitly, and store them in variables."
   ]
  },
  {
   "cell_type": "code",
   "execution_count": 2,
   "metadata": {
    "collapsed": false
   },
   "outputs": [
    {
     "data": {
      "text/plain": [
       "True"
      ]
     },
     "execution_count": 2,
     "metadata": {},
     "output_type": "execute_result"
    }
   ],
   "source": [
    "my_boolean_1 = True\n",
    "my_boolean_1"
   ]
  },
  {
   "cell_type": "code",
   "execution_count": 3,
   "metadata": {
    "collapsed": false
   },
   "outputs": [
    {
     "data": {
      "text/plain": [
       "False"
      ]
     },
     "execution_count": 3,
     "metadata": {},
     "output_type": "execute_result"
    }
   ],
   "source": [
    "my_boolean_2 = False\n",
    "my_boolean_2"
   ]
  },
  {
   "cell_type": "markdown",
   "metadata": {},
   "source": [
    "<hr>\n",
    "#### 8.4.1.1. Comparison Operators\n",
    "\n",
    "Another way to create a Boolean value is to ask Python to compare two different values. You can compare values in a number of different ways, shown in the table below.\n",
    "\n",
    "| Operator  | Operation                |\n",
    "| :-------: | :----------------------- |\n",
    "| `==`        | equals                |\n",
    "| `!=`        | not equal to             |\n",
    "| `>`         | greater than             |\n",
    "| `>=`        | greater than or equal to |\n",
    "| `<`         | less than                |\n",
    "| `<=`        | less than or equal to    |"
   ]
  },
  {
   "cell_type": "markdown",
   "metadata": {},
   "source": [
    "Below we initialize a variable that holds an integer. Can you guess the result of the expressions below? Run each cell to output the result. You can also change the value of `grade` and see how the results change."
   ]
  },
  {
   "cell_type": "code",
   "execution_count": 4,
   "metadata": {
    "collapsed": true
   },
   "outputs": [],
   "source": [
    "grade = 50"
   ]
  },
  {
   "cell_type": "code",
   "execution_count": 5,
   "metadata": {
    "collapsed": false
   },
   "outputs": [
    {
     "data": {
      "text/plain": [
       "False"
      ]
     },
     "execution_count": 5,
     "metadata": {},
     "output_type": "execute_result"
    }
   ],
   "source": [
    "grade > 50"
   ]
  },
  {
   "cell_type": "code",
   "execution_count": 6,
   "metadata": {
    "collapsed": false
   },
   "outputs": [
    {
     "data": {
      "text/plain": [
       "True"
      ]
     },
     "execution_count": 6,
     "metadata": {},
     "output_type": "execute_result"
    }
   ],
   "source": [
    "grade <= 50"
   ]
  },
  {
   "cell_type": "code",
   "execution_count": 7,
   "metadata": {
    "collapsed": false
   },
   "outputs": [
    {
     "data": {
      "text/plain": [
       "True"
      ]
     },
     "execution_count": 7,
     "metadata": {},
     "output_type": "execute_result"
    }
   ],
   "source": [
    "grade == 50"
   ]
  },
  {
   "cell_type": "code",
   "execution_count": 8,
   "metadata": {
    "collapsed": true
   },
   "outputs": [],
   "source": [
    "## Try some code ideas here ##"
   ]
  },
  {
   "cell_type": "markdown",
   "metadata": {},
   "source": [
    "##### 8.4.1.1.1. Comparison Operators Exercise\n",
    "Define two variables that store numeric values (either `int` or `float`), and write expressions that check whether the values are equal to, not equal to, greater than, or less than each other."
   ]
  },
  {
   "cell_type": "code",
   "execution_count": 9,
   "metadata": {
    "collapsed": true
   },
   "outputs": [],
   "source": [
    "## YOUR CODE GOES HERE ##"
   ]
  },
  {
   "cell_type": "code",
   "execution_count": 10,
   "metadata": {
    "collapsed": false
   },
   "outputs": [
    {
     "name": "stdout",
     "output_type": "stream",
     "text": [
      "False\n",
      "True\n",
      "False\n",
      "True\n"
     ]
    }
   ],
   "source": [
    "## INSTRUCTION SOLUTION(S) ##\n",
    "num_1 = 67\n",
    "num_2 = 188.5\n",
    "\n",
    "print(num_1 == num_2)\n",
    "print(num_1 != num_2)\n",
    "print(num_1 > num_2)\n",
    "print(num_1 < num_2)"
   ]
  },
  {
   "cell_type": "markdown",
   "metadata": {
    "collapsed": true
   },
   "source": [
    "***\n",
    "#### 8.4.1.2. Membership Operators\n",
    "Another type of expression that creates a Boolean value is a membership test. The membership operators below are used to write membership tests.\n",
    "\n",
    "| Operator | Operation                                                            |\n",
    "| :------: | :------------------------------------------------------------------- |\n",
    "| <b><font color=\"green\">in</font></b>       | Checks if the left side of expression contained in the right side of expression |\n",
    "| <b><font color=\"green\">not in</font></b>   | Checks if the left side of expression is not contained in the right side of expression |"
   ]
  },
  {
   "cell_type": "markdown",
   "metadata": {},
   "source": [
    "Below we save a list of strings to a variable, an run membership tests on it. Guess the results and then run each expression to output the result."
   ]
  },
  {
   "cell_type": "code",
   "execution_count": 11,
   "metadata": {
    "collapsed": true
   },
   "outputs": [],
   "source": [
    "NATO = ['Belgium', 'Canada', 'Denmark', 'France', 'Iceland', 'Italy', 'Luxembourg', 'Netherlands',\n",
    "        'Norway', 'Portugal', 'United Kingdom', 'United States', 'Greece', 'Turkey', 'Germany',\n",
    "        'Spain', 'Czech Republic', 'Hungary', 'Poland', 'Bulgaria', 'Estonia', 'Latvia',\n",
    "        'Lithuania', 'Romania', 'Slovakia', 'Slovenia', 'Albania', 'Croatia', 'Montenegro']"
   ]
  },
  {
   "cell_type": "code",
   "execution_count": 12,
   "metadata": {
    "collapsed": false
   },
   "outputs": [
    {
     "data": {
      "text/plain": [
       "True"
      ]
     },
     "execution_count": 12,
     "metadata": {},
     "output_type": "execute_result"
    }
   ],
   "source": [
    "'United Kingdom' in NATO"
   ]
  },
  {
   "cell_type": "code",
   "execution_count": 13,
   "metadata": {
    "collapsed": false
   },
   "outputs": [
    {
     "data": {
      "text/plain": [
       "True"
      ]
     },
     "execution_count": 13,
     "metadata": {},
     "output_type": "execute_result"
    }
   ],
   "source": [
    "'United Kingdom' in NATO"
   ]
  },
  {
   "cell_type": "code",
   "execution_count": 14,
   "metadata": {
    "collapsed": false
   },
   "outputs": [
    {
     "data": {
      "text/plain": [
       "False"
      ]
     },
     "execution_count": 14,
     "metadata": {},
     "output_type": "execute_result"
    }
   ],
   "source": [
    "'Sweden' in NATO"
   ]
  },
  {
   "cell_type": "code",
   "execution_count": 15,
   "metadata": {
    "collapsed": false
   },
   "outputs": [
    {
     "data": {
      "text/plain": [
       "True"
      ]
     },
     "execution_count": 15,
     "metadata": {},
     "output_type": "execute_result"
    }
   ],
   "source": [
    "'Sweden' not in NATO"
   ]
  },
  {
   "cell_type": "markdown",
   "metadata": {},
   "source": [
    "***\n",
    "##### 8.4.1.2.1 Membership Operators Exercises\n",
    "Exercise 1. Create a variable that stores a string, and write a membership test to check whether that string is contained in the list `NATO`. Does changing the capitalization in your string affect the outcome?"
   ]
  },
  {
   "cell_type": "code",
   "execution_count": 16,
   "metadata": {
    "collapsed": true
   },
   "outputs": [],
   "source": [
    "## YOUR CODE GOES HERE ##"
   ]
  },
  {
   "cell_type": "code",
   "execution_count": 17,
   "metadata": {
    "collapsed": false
   },
   "outputs": [
    {
     "data": {
      "text/plain": [
       "True"
      ]
     },
     "execution_count": 17,
     "metadata": {},
     "output_type": "execute_result"
    }
   ],
   "source": [
    "## INSTRUCTION SOLUTION(S) ##\n",
    "\n",
    "my_string = 'Slovakia'\n",
    "\n",
    "my_string in NATO"
   ]
  },
  {
   "cell_type": "markdown",
   "metadata": {},
   "source": [
    "Exercise 2. Create a variable that stores a number, and write a membership test to check whether that value is contained in the list below. Does using a float vs. an integer affect your result?\n",
    "\n",
    "```python\n",
    "test_list = [493, 168, 75, 361, 297, 71, 308, 5, 36, 174, 378, 155, 252, 348, 151, 354, 181]\n",
    "```"
   ]
  },
  {
   "cell_type": "code",
   "execution_count": 18,
   "metadata": {
    "collapsed": true
   },
   "outputs": [],
   "source": [
    "## YOUR CODE GOES HERE ##"
   ]
  },
  {
   "cell_type": "code",
   "execution_count": 19,
   "metadata": {
    "collapsed": false
   },
   "outputs": [
    {
     "data": {
      "text/plain": [
       "True"
      ]
     },
     "execution_count": 19,
     "metadata": {},
     "output_type": "execute_result"
    }
   ],
   "source": [
    "## INSTRUCTION SOLUTION(S) ##\n",
    "test_list = [493, 168, 75, 361, 297, 71, 308, 5, 36, 174, 378, 155, 252, 348, 151, 354, 181]\n",
    "\n",
    "my_num = 36.0\n",
    "\n",
    "my_num in test_list"
   ]
  },
  {
   "cell_type": "markdown",
   "metadata": {},
   "source": [
    "<hr>\n",
    "#### 8.4.1.3. Logic Operators\n",
    "Logical operators are used to combine Boolean expressions or values into larger Boolean expressions.\n",
    "\n",
    "| Operator  | Operation                |\n",
    "| :-------: | :----------------------- |\n",
    "| <b><font color=\"green\">and</font></b>        | Checks if two statements are _both_ <b><font color=\"green\">True</font></b>     |\n",
    "| <b><font color=\"green\">or</font></b>    | Checks if _either_ of two statements are <b><font color=\"green\">True</font></b> |\n",
    "\n",
    "The <b><font color=\"green\">and</font></b> and <b><font color=\"green\">or</font></b> operators work like they do in plain language. For example, the statement \"I have a black dog <b><font color=\"green\">and</font></b> a brown dog\" is only true if I have both a black and a brown dog.  However, the statement \"I have a black dog <b><font color=\"green\">or</font></b> a brown dog\" is true if I have a dog of either color."
   ]
  },
  {
   "cell_type": "code",
   "execution_count": 20,
   "metadata": {
    "collapsed": true
   },
   "outputs": [],
   "source": [
    "NATO = ['Belgium','Canada','Denmark','France','Iceland','Italy','Luxembourg','Netherlands',\n",
    "        'Norway','Portugal','United Kingdom','United States','Greece','Turkey','Germany',\n",
    "        'Spain','Czech Republic','Hungary','Poland','Bulgaria','Estonia','Latvia',\n",
    "        'Lithuania','Romania','Slovakia','Slovenia','Albania','Croatia','Montenegro']"
   ]
  },
  {
   "cell_type": "markdown",
   "metadata": {},
   "source": [
    "Inside a compound Boolean expression, your smaller expressions may be wrapped in parentheses."
   ]
  },
  {
   "cell_type": "code",
   "execution_count": 21,
   "metadata": {
    "collapsed": false,
    "scrolled": true
   },
   "outputs": [
    {
     "data": {
      "text/plain": [
       "False"
      ]
     },
     "execution_count": 21,
     "metadata": {},
     "output_type": "execute_result"
    }
   ],
   "source": [
    "('United Kingdom' in NATO) and ('Sweden' in NATO)"
   ]
  },
  {
   "cell_type": "markdown",
   "metadata": {},
   "source": [
    "At times, using parentheses isn't necessary, but it can improve your code's readability."
   ]
  },
  {
   "cell_type": "code",
   "execution_count": 22,
   "metadata": {
    "collapsed": false
   },
   "outputs": [
    {
     "data": {
      "text/plain": [
       "True"
      ]
     },
     "execution_count": 22,
     "metadata": {},
     "output_type": "execute_result"
    }
   ],
   "source": [
    "'United Kingdom' in NATO or 'Sweden' in NATO"
   ]
  },
  {
   "cell_type": "markdown",
   "metadata": {},
   "source": [
    "##### 8.4.1.4. Boolean Values and Operators Exercises\n",
    "\n",
    "In the cells below, replace the `?`'s with Python operators or keywords that make each of the statements output <font color=green>**True**</font>.\n",
    "\n",
    "Exercise 1."
   ]
  },
  {
   "cell_type": "code",
   "execution_count": null,
   "metadata": {
    "collapsed": true
   },
   "outputs": [],
   "source": [
    "('Estonia' in NATO) ? ('Atlantis' in NATO)"
   ]
  },
  {
   "cell_type": "code",
   "execution_count": 23,
   "metadata": {
    "collapsed": false
   },
   "outputs": [
    {
     "data": {
      "text/plain": [
       "True"
      ]
     },
     "execution_count": 23,
     "metadata": {},
     "output_type": "execute_result"
    }
   ],
   "source": [
    "## INSTRUCTION SOLUTION(S) ##\n",
    "('Estonia' in NATO) or ('Atlantis' in NATO)"
   ]
  },
  {
   "cell_type": "markdown",
   "metadata": {},
   "source": [
    "Exercise 2."
   ]
  },
  {
   "cell_type": "code",
   "execution_count": null,
   "metadata": {
    "collapsed": true
   },
   "outputs": [],
   "source": [
    "100 ? 55"
   ]
  },
  {
   "cell_type": "code",
   "execution_count": 24,
   "metadata": {
    "collapsed": false
   },
   "outputs": [
    {
     "data": {
      "text/plain": [
       "True"
      ]
     },
     "execution_count": 24,
     "metadata": {},
     "output_type": "execute_result"
    }
   ],
   "source": [
    "## INSTRUCTION SOLUTION(S) ##\n",
    "100 > 55"
   ]
  },
  {
   "cell_type": "markdown",
   "metadata": {},
   "source": [
    "Exercise 3."
   ]
  },
  {
   "cell_type": "code",
   "execution_count": null,
   "metadata": {
    "collapsed": true
   },
   "outputs": [],
   "source": [
    "'Russia' ? NATO"
   ]
  },
  {
   "cell_type": "code",
   "execution_count": 25,
   "metadata": {
    "collapsed": false
   },
   "outputs": [
    {
     "data": {
      "text/plain": [
       "True"
      ]
     },
     "execution_count": 25,
     "metadata": {},
     "output_type": "execute_result"
    }
   ],
   "source": [
    "## INSTRUCTION SOLUTION(S) ##\n",
    "'Russia' not in NATO"
   ]
  },
  {
   "cell_type": "markdown",
   "metadata": {},
   "source": [
    "Exercise 4."
   ]
  },
  {
   "cell_type": "code",
   "execution_count": null,
   "metadata": {
    "collapsed": true
   },
   "outputs": [],
   "source": [
    "78 ? 73"
   ]
  },
  {
   "cell_type": "code",
   "execution_count": 26,
   "metadata": {
    "collapsed": false
   },
   "outputs": [
    {
     "data": {
      "text/plain": [
       "True"
      ]
     },
     "execution_count": 26,
     "metadata": {},
     "output_type": "execute_result"
    }
   ],
   "source": [
    "## INSTRUCTION SOLUTION(S) ##\n",
    "78 != 73"
   ]
  },
  {
   "cell_type": "markdown",
   "metadata": {},
   "source": [
    "<a id='Keywords'></a>\n",
    "### 8.4.2. Reserved Python Keywords\n",
    "\n",
    "There are words within Python that have specific use cases and cannot be used as variable names. These words show up <b><font color=\"green\">green</font></b> and bold in Jupyter Notebook code cells. Run the following cell to output a list of all of Python's reserved keywords. Look through the list and define in your own words any keyword you've learned in this class."
   ]
  },
  {
   "cell_type": "code",
   "execution_count": 27,
   "metadata": {
    "collapsed": false,
    "scrolled": true
   },
   "outputs": [
    {
     "name": "stdout",
     "output_type": "stream",
     "text": [
      "['False', 'None', 'True', 'and', 'as', 'assert', 'break', 'class', 'continue', 'def', 'del', 'elif', 'else', 'except', 'finally', 'for', 'from', 'global', 'if', 'import', 'in', 'is', 'lambda', 'nonlocal', 'not', 'or', 'pass', 'raise', 'return', 'try', 'while', 'with', 'yield']\n"
     ]
    }
   ],
   "source": [
    "import keyword\n",
    "\n",
    "print(keyword.kwlist)"
   ]
  },
  {
   "cell_type": "markdown",
   "metadata": {},
   "source": [
    "***\n",
    "#### 8.4.2.1. Built-In Functions\n",
    "\n",
    "You will also notice that some words show up as <font color=\"green\">light green</font> (as opposed to keywords' <b><font color=\"green\">bold green</font></b>). These words are built-in functions, functions that come pre-packaged for you to use with Python. Unlike reserved words, Python will let you re-assign built-in function names as variables or names of custom functions that you define. But a word of warning: just because you can overwrite these function names doesn't mean you should! \n",
    "\n",
    "Beginning programmers should never overwrite built-in function names. Once you re-assign the function's name to something else, you have lost the ability to use that function, which is bad because these functions are fundamental to some core Python capabilities. Moreover, errors stemming from accidental overwrites of Python functions can be very hard to debug. Here are some built-in functions you are already familiar with. Do you remember what they do?\n",
    "```python\n",
    "print()\n",
    "type()\n",
    "max()\n",
    "min()\n",
    "int()\n",
    "list()\n",
    "dict()\n",
    "str()\n",
    "```"
   ]
  },
  {
   "cell_type": "markdown",
   "metadata": {},
   "source": [
    "The cell below is an example of what you shouldn't do. We assign the string `'dog'` to a variable called `print`. Python allows us to do this, but we then lose the functionality of `print()`. This causes an error every time we try to use `print()` to print something to the screen. If you run the cell below, restart your kernel before moving on."
   ]
  },
  {
   "cell_type": "code",
   "execution_count": null,
   "metadata": {
    "collapsed": true,
    "scrolled": false
   },
   "outputs": [],
   "source": [
    "print = 'dog'\n",
    "print('cat')"
   ]
  },
  {
   "cell_type": "markdown",
   "metadata": {},
   "source": [
    "NOTE: You must restart the kernel after running this code to regain the use of `print()`."
   ]
  },
  {
   "cell_type": "markdown",
   "metadata": {},
   "source": [
    "***\n",
    "<a class=\"anchor\" id=\"numbers\"></a>\n",
    "### 8.4.3. Numbers (Integers and Floating-Point)\n",
    "\n",
    "The difference between integers and floats is the decimal. The decimal point is also called a floating point, hence the name \"float.\" Python treats all numbers that contain a decimal as floats, even if the number is equivalent to an integer value, such as `2.0`. But an equality test between an integer and its float equivalent will return `True`, as shown in the example below."
   ]
  },
  {
   "cell_type": "code",
   "execution_count": 28,
   "metadata": {
    "collapsed": false
   },
   "outputs": [
    {
     "data": {
      "text/plain": [
       "True"
      ]
     },
     "execution_count": 28,
     "metadata": {},
     "output_type": "execute_result"
    }
   ],
   "source": [
    "2 == 2.0"
   ]
  },
  {
   "cell_type": "markdown",
   "metadata": {},
   "source": [
    "However, Python still recognizes them as different types."
   ]
  },
  {
   "cell_type": "code",
   "execution_count": 29,
   "metadata": {
    "collapsed": false
   },
   "outputs": [
    {
     "data": {
      "text/plain": [
       "False"
      ]
     },
     "execution_count": 29,
     "metadata": {},
     "output_type": "execute_result"
    }
   ],
   "source": [
    "type(2) == type(2.0)"
   ]
  },
  {
   "cell_type": "markdown",
   "metadata": {},
   "source": [
    "Doing mathematical operations with integers and floats returns a float as the result."
   ]
  },
  {
   "cell_type": "code",
   "execution_count": 30,
   "metadata": {
    "collapsed": false
   },
   "outputs": [
    {
     "data": {
      "text/plain": [
       "18.0"
      ]
     },
     "execution_count": 30,
     "metadata": {},
     "output_type": "execute_result"
    }
   ],
   "source": [
    "4 + 4.0 + 10"
   ]
  },
  {
   "cell_type": "markdown",
   "metadata": {},
   "source": [
    "#### 8.4.3.1. Arithmetic Operators\n",
    "\n",
    "| Operator  | Operation                            |\n",
    "| :-------: | :----------------------------------- |\n",
    "| `+`         | addition                             |\n",
    "| `-`         | subtraction                          |\n",
    "| `/`         | division                             |\n",
    "| `*`         | multiplication                       |\n",
    "| `//`        | floor division                       |\n",
    "| `%`         | modulus - returns only the remainder |\n",
    "| `**`        | exponent                             |\n"
   ]
  },
  {
   "cell_type": "markdown",
   "metadata": {},
   "source": [
    "Examples of calling the exponent operator:"
   ]
  },
  {
   "cell_type": "code",
   "execution_count": 31,
   "metadata": {
    "collapsed": false
   },
   "outputs": [
    {
     "data": {
      "text/plain": [
       "27"
      ]
     },
     "execution_count": 31,
     "metadata": {},
     "output_type": "execute_result"
    }
   ],
   "source": [
    "3 ** 3"
   ]
  },
  {
   "cell_type": "code",
   "execution_count": 32,
   "metadata": {
    "collapsed": false
   },
   "outputs": [
    {
     "data": {
      "text/plain": [
       "1024"
      ]
     },
     "execution_count": 32,
     "metadata": {},
     "output_type": "execute_result"
    }
   ],
   "source": [
    "2 ** 10"
   ]
  },
  {
   "cell_type": "code",
   "execution_count": 33,
   "metadata": {
    "collapsed": false,
    "scrolled": true
   },
   "outputs": [
    {
     "data": {
      "text/plain": [
       "5.0"
      ]
     },
     "execution_count": 33,
     "metadata": {},
     "output_type": "execute_result"
    }
   ],
   "source": [
    "25 ** 0.5"
   ]
  },
  {
   "cell_type": "markdown",
   "metadata": {},
   "source": [
    "Examples of calling the modulus operator:"
   ]
  },
  {
   "cell_type": "code",
   "execution_count": 34,
   "metadata": {
    "collapsed": false
   },
   "outputs": [
    {
     "data": {
      "text/plain": [
       "1"
      ]
     },
     "execution_count": 34,
     "metadata": {},
     "output_type": "execute_result"
    }
   ],
   "source": [
    "17 % 4"
   ]
  },
  {
   "cell_type": "code",
   "execution_count": 35,
   "metadata": {
    "collapsed": false
   },
   "outputs": [
    {
     "data": {
      "text/plain": [
       "2"
      ]
     },
     "execution_count": 35,
     "metadata": {},
     "output_type": "execute_result"
    }
   ],
   "source": [
    "16 % 7"
   ]
  },
  {
   "cell_type": "code",
   "execution_count": 36,
   "metadata": {
    "collapsed": false
   },
   "outputs": [
    {
     "data": {
      "text/plain": [
       "0"
      ]
     },
     "execution_count": 36,
     "metadata": {},
     "output_type": "execute_result"
    }
   ],
   "source": [
    "248 % 2"
   ]
  },
  {
   "cell_type": "markdown",
   "metadata": {},
   "source": [
    "Examples of floor division:"
   ]
  },
  {
   "cell_type": "code",
   "execution_count": 37,
   "metadata": {
    "collapsed": false
   },
   "outputs": [
    {
     "data": {
      "text/plain": [
       "4"
      ]
     },
     "execution_count": 37,
     "metadata": {},
     "output_type": "execute_result"
    }
   ],
   "source": [
    "17 // 4"
   ]
  },
  {
   "cell_type": "code",
   "execution_count": 38,
   "metadata": {
    "collapsed": false
   },
   "outputs": [
    {
     "data": {
      "text/plain": [
       "2"
      ]
     },
     "execution_count": 38,
     "metadata": {},
     "output_type": "execute_result"
    }
   ],
   "source": [
    "5 // 2"
   ]
  },
  {
   "cell_type": "code",
   "execution_count": 39,
   "metadata": {
    "collapsed": false
   },
   "outputs": [
    {
     "data": {
      "text/plain": [
       "-3"
      ]
     },
     "execution_count": 39,
     "metadata": {},
     "output_type": "execute_result"
    }
   ],
   "source": [
    "-5 // 2"
   ]
  },
  {
   "cell_type": "markdown",
   "metadata": {},
   "source": [
    "***\n",
    "#### 8.4.3.2. Assignment Operators\n",
    "\n",
    "Assignment operators combine arithmetic and assignment into a single statement.\n",
    "\n",
    "| Operator  | Operation                            |\n",
    "| :-------: | :----------------------------------- |\n",
    "| `=`         | assignment                           |\n",
    "| `+=`        | add right operand to the left operand and assign the result to left operand |\n",
    "| `-=`        | subtract right operand from the left operand and assign the result to left operand |\n",
    "| `*=`        | multiply right operand and the left operand and assign the result to left operand |\n",
    "| `/=`        | divide left operand by right operand and assign the result to left operand |\n",
    "| `%=`        | take left operand modulo right operand and assign the result to left operand |\n",
    "| `**=`       | raise left operand to the power of right operand and assign value to the left operand |\n",
    "| `//=`       | floor divide left operand by right operand and assign value to the left operand |\n",
    "\n",
    "Examples of assignment operators:"
   ]
  },
  {
   "cell_type": "code",
   "execution_count": 40,
   "metadata": {
    "collapsed": false
   },
   "outputs": [
    {
     "data": {
      "text/plain": [
       "4"
      ]
     },
     "execution_count": 40,
     "metadata": {},
     "output_type": "execute_result"
    }
   ],
   "source": [
    "number = 4\n",
    "number"
   ]
  },
  {
   "cell_type": "code",
   "execution_count": 41,
   "metadata": {
    "collapsed": false
   },
   "outputs": [
    {
     "data": {
      "text/plain": [
       "9"
      ]
     },
     "execution_count": 41,
     "metadata": {},
     "output_type": "execute_result"
    }
   ],
   "source": [
    "number += 5\n",
    "number"
   ]
  },
  {
   "cell_type": "code",
   "execution_count": 42,
   "metadata": {
    "collapsed": false
   },
   "outputs": [
    {
     "data": {
      "text/plain": [
       "27"
      ]
     },
     "execution_count": 42,
     "metadata": {},
     "output_type": "execute_result"
    }
   ],
   "source": [
    "number *= 3\n",
    "number"
   ]
  },
  {
   "cell_type": "markdown",
   "metadata": {},
   "source": [
    "#### 8.4.3.3. Casting\n",
    "String representations of integers and floating-point numbers can be converted to integers and floats using the built-in `int()` and `float()` functions.  Using these functions to change the data type of something is called casting.  Casting is very helpful when you get data where numbers are formatted as strings. Each data type has its own functions for casting data objects. See what happens when you try to do arithmetic with a string:"
   ]
  },
  {
   "cell_type": "code",
   "execution_count": 43,
   "metadata": {
    "collapsed": false,
    "scrolled": true
   },
   "outputs": [
    {
     "ename": "TypeError",
     "evalue": "Can't convert 'int' object to str implicitly",
     "output_type": "error",
     "traceback": [
      "\u001b[0;31m---------------------------------------------------------------------------\u001b[0m",
      "\u001b[0;31mTypeError\u001b[0m                                 Traceback (most recent call last)",
      "\u001b[0;32m<ipython-input-43-83abebd38478>\u001b[0m in \u001b[0;36m<module>\u001b[0;34m()\u001b[0m\n\u001b[0;32m----> 1\u001b[0;31m \u001b[1;34m'11.186'\u001b[0m \u001b[1;33m+\u001b[0m \u001b[1;36m2\u001b[0m\u001b[1;33m\u001b[0m\u001b[0m\n\u001b[0m",
      "\u001b[0;31mTypeError\u001b[0m: Can't convert 'int' object to str implicitly"
     ]
    }
   ],
   "source": [
    "'11.186' + 2 "
   ]
  },
  {
   "cell_type": "markdown",
   "metadata": {},
   "source": [
    "To avoid this error, we can cast our string to a float and then do the arithmetic:"
   ]
  },
  {
   "cell_type": "code",
   "execution_count": 44,
   "metadata": {
    "collapsed": false
   },
   "outputs": [
    {
     "data": {
      "text/plain": [
       "13.186"
      ]
     },
     "execution_count": 44,
     "metadata": {},
     "output_type": "execute_result"
    }
   ],
   "source": [
    "float('11.186') + 2"
   ]
  },
  {
   "cell_type": "markdown",
   "metadata": {},
   "source": [
    "##### 8.4.3.3.1. Casting Exercises\n",
    "In the code cells below, replace the `???`'s with casting functions to make the code run without errors."
   ]
  },
  {
   "cell_type": "markdown",
   "metadata": {},
   "source": [
    "Exercise 1."
   ]
  },
  {
   "cell_type": "code",
   "execution_count": null,
   "metadata": {
    "collapsed": true
   },
   "outputs": [],
   "source": [
    "7 ** ???('2')"
   ]
  },
  {
   "cell_type": "code",
   "execution_count": 45,
   "metadata": {
    "collapsed": false
   },
   "outputs": [
    {
     "data": {
      "text/plain": [
       "49"
      ]
     },
     "execution_count": 45,
     "metadata": {},
     "output_type": "execute_result"
    }
   ],
   "source": [
    "## INSTRUCTION SOLUTION(S) ##\n",
    "7 ** int('2')"
   ]
  },
  {
   "cell_type": "markdown",
   "metadata": {},
   "source": [
    "Exercise 2."
   ]
  },
  {
   "cell_type": "code",
   "execution_count": null,
   "metadata": {
    "collapsed": true
   },
   "outputs": [],
   "source": [
    "print(\"My team has won \" + ???(20) + \" awards collectively.\")"
   ]
  },
  {
   "cell_type": "code",
   "execution_count": 46,
   "metadata": {
    "collapsed": false
   },
   "outputs": [
    {
     "name": "stdout",
     "output_type": "stream",
     "text": [
      "My team has won 20 awards collectively.\n"
     ]
    }
   ],
   "source": [
    "## INSTRUCTION SOLUTION(S) ##\n",
    "print(\"My team has won \" + str(20) + \" awards collectively.\")"
   ]
  },
  {
   "cell_type": "markdown",
   "metadata": {},
   "source": [
    "Exercise 3."
   ]
  },
  {
   "cell_type": "code",
   "execution_count": null,
   "metadata": {
    "collapsed": true
   },
   "outputs": [],
   "source": [
    "PI = '3.14159'\n",
    "int(???(PI) * 100) / 100"
   ]
  },
  {
   "cell_type": "code",
   "execution_count": 47,
   "metadata": {
    "collapsed": false
   },
   "outputs": [
    {
     "data": {
      "text/plain": [
       "3.14"
      ]
     },
     "execution_count": 47,
     "metadata": {},
     "output_type": "execute_result"
    }
   ],
   "source": [
    "## INSTRUCTION SOLUTION(S) ##\n",
    "PI = '3.14159'\n",
    "int(float(PI) * 100) / 100"
   ]
  },
  {
   "cell_type": "markdown",
   "metadata": {},
   "source": [
    "Exercise 4."
   ]
  },
  {
   "cell_type": "code",
   "execution_count": null,
   "metadata": {
    "collapsed": true
   },
   "outputs": [],
   "source": [
    "my_num = 654321\n",
    "print(\"The first three digits in my_num are \" + ???(my_num)[:3])"
   ]
  },
  {
   "cell_type": "code",
   "execution_count": 48,
   "metadata": {
    "collapsed": false
   },
   "outputs": [
    {
     "name": "stdout",
     "output_type": "stream",
     "text": [
      "The first three digits in my_num are 654\n"
     ]
    }
   ],
   "source": [
    "## INSTRUCTION SOLUTION(S) ##\n",
    "my_num = 654321\n",
    "print(\"The first three digits in my_num are \" + str(my_num)[:3])"
   ]
  },
  {
   "cell_type": "markdown",
   "metadata": {},
   "source": [
    "<a id=\"none\"></a>\n",
    "### 8.4.4. None\n",
    "\n",
    "The <b><font color=\"green\">None</font></b> data type is used to denote the absence of data. It's used as a placeholder for empty cells in a table or a variable that doesn't hold anything yet."
   ]
  },
  {
   "cell_type": "code",
   "execution_count": 49,
   "metadata": {
    "collapsed": false
   },
   "outputs": [
    {
     "data": {
      "text/plain": [
       "NoneType"
      ]
     },
     "execution_count": 49,
     "metadata": {},
     "output_type": "execute_result"
    }
   ],
   "source": [
    "type(None)"
   ]
  },
  {
   "cell_type": "markdown",
   "metadata": {},
   "source": [
    "One helpful note about the <b><font color=\"green\">None</font></b> data type is that when cast to a Boolean it evaluates to `False`"
   ]
  },
  {
   "cell_type": "code",
   "execution_count": 50,
   "metadata": {
    "collapsed": false
   },
   "outputs": [
    {
     "data": {
      "text/plain": [
       "False"
      ]
     },
     "execution_count": 50,
     "metadata": {},
     "output_type": "execute_result"
    }
   ],
   "source": [
    "bool(None)"
   ]
  },
  {
   "cell_type": "markdown",
   "metadata": {},
   "source": [
    "<hr>\n",
    "<a id=\"Structures\"></a>\n",
    "## 8.5. Python Data Structures\n",
    "<a id=\"Sequences\"></a>\n",
    "### 8.5.1. Sequences: Lists, Tuples, Strings\n",
    "\n",
    "A sequence is an ordered grouping of elements.  Each element of a sequence is assigned a number which is its position or index. The first index in a sequence is `[0]`; the second index is `[1]`; and so forth.\n",
    "\n",
    "Let's look at a very basic sequence: the string `'Hello!'`\n",
    "\n",
    "<img src=\"./GRAPHICS/arrayIndex.png\" width=\"50%\"><br>\n",
    "\n",
    "While Python has six types of sequences, this course will only be covering lists, tuples, and strings."
   ]
  },
  {
   "cell_type": "markdown",
   "metadata": {},
   "source": [
    "#### 8.5.1.1. Sequences: Lists\n",
    "\n",
    "Lists are containers for holding objects in order. Lists are mutable and allow you to add, remove, and overwrite individual elements. Lists are always wrapped in square brackets: `[]`.\n",
    "\n",
    "Lists can be initialized several ways in a Python script:\n",
    "\n",
    "| Code | Action |\n",
    "|:----------------------------|:--------------------------------------------------|\n",
    "| `list1 = list( )`                  | Initializes an empty list |\n",
    "| `list2 = []`                      | Initializes an empty list |\n",
    "|` list3 = [1, 'a', 3.1415] `         | Initializes a list with multiple elements |\n"
   ]
  },
  {
   "cell_type": "markdown",
   "metadata": {},
   "source": [
    "Data in lists can be accessed via indexing or slicing:\n",
    "\n",
    "| Code                 | Action                          |\n",
    "|:--------------------|------------------------------|\n",
    "| `list3[0]`                        | Indexes a list |\n",
    "| `list3[1:2]`                      | Slices a list |\n"
   ]
  },
  {
   "cell_type": "markdown",
   "metadata": {},
   "source": [
    "Here is a table of some useful list methods:\n",
    "\n",
    "| Code                 | Action                          |\n",
    "|:--------------------------------|------------------------------|\n",
    "|`list_variable.append(x)`         | Appends `x` to the end of the list |\n",
    "|`list_variable.extend(my_list)`   | Appends each element of `my_list` to the list |\n",
    "|`list_variable.insert(i,x)`       | Inserts `x` at index `i` in the list |\n",
    "|`list_variable.remove(x)`         | Removes the first appearance of `x` in the list |\n",
    "|`list_variable.pop(i)`            | Removes the item at index `i` in the list and returns that value |\n",
    "|`list_variable.index(x)`          | Returns the index where `x` first appears in the list; <br>throws an error if `x` is not contained in the list  |\n",
    "|`list_variable.count(x)`          | Counts the number of times `x` appears in the list |\n",
    "|`list_variable.sort(cmp=None, reverse=False)`            | Sorts the order of the list |\n",
    "|`list_variable.reverse()`         | Reverses the order of the list |\n",
    "\n",
    "Start by initializing a list."
   ]
  },
  {
   "cell_type": "code",
   "execution_count": 51,
   "metadata": {
    "collapsed": true
   },
   "outputs": [],
   "source": [
    "grocery_list = ['apples', 'ice cream', 'yogurt']"
   ]
  },
  {
   "cell_type": "markdown",
   "metadata": {},
   "source": [
    "Append `'walnuts'` to the list:"
   ]
  },
  {
   "cell_type": "code",
   "execution_count": 52,
   "metadata": {
    "collapsed": false
   },
   "outputs": [
    {
     "data": {
      "text/plain": [
       "['apples', 'ice cream', 'yogurt', 'walnuts']"
      ]
     },
     "execution_count": 52,
     "metadata": {},
     "output_type": "execute_result"
    }
   ],
   "source": [
    "grocery_list.append('walnuts')\n",
    "grocery_list"
   ]
  },
  {
   "cell_type": "markdown",
   "metadata": {},
   "source": [
    "Reverse the list:"
   ]
  },
  {
   "cell_type": "code",
   "execution_count": 53,
   "metadata": {
    "collapsed": false
   },
   "outputs": [
    {
     "data": {
      "text/plain": [
       "['walnuts', 'yogurt', 'ice cream', 'apples']"
      ]
     },
     "execution_count": 53,
     "metadata": {},
     "output_type": "execute_result"
    }
   ],
   "source": [
    "grocery_list.reverse()\n",
    "grocery_list"
   ]
  },
  {
   "cell_type": "markdown",
   "metadata": {},
   "source": [
    "Remove the last item from the list and save that item to a variable:"
   ]
  },
  {
   "cell_type": "code",
   "execution_count": 54,
   "metadata": {
    "collapsed": false
   },
   "outputs": [
    {
     "name": "stdout",
     "output_type": "stream",
     "text": [
      "apples\n",
      "['walnuts', 'yogurt', 'ice cream']\n"
     ]
    }
   ],
   "source": [
    "apples = grocery_list.pop()\n",
    "print(apples)\n",
    "print(grocery_list)"
   ]
  },
  {
   "cell_type": "markdown",
   "metadata": {},
   "source": [
    "Create a new grocery list and append each item to your grocery list:"
   ]
  },
  {
   "cell_type": "code",
   "execution_count": 55,
   "metadata": {
    "collapsed": false
   },
   "outputs": [
    {
     "data": {
      "text/plain": [
       "['walnuts', 'yogurt', 'ice cream', 'margarita mix', 'tequila', 'limes']"
      ]
     },
     "execution_count": 55,
     "metadata": {},
     "output_type": "execute_result"
    }
   ],
   "source": [
    "new_grocery_list = ['margarita mix', 'tequila', 'limes']\n",
    "\n",
    "grocery_list.extend(new_grocery_list)\n",
    "grocery_list"
   ]
  },
  {
   "cell_type": "markdown",
   "metadata": {},
   "source": [
    "You can also add two lists together, which does the same thing as `.extend()`."
   ]
  },
  {
   "cell_type": "code",
   "execution_count": 56,
   "metadata": {
    "collapsed": false
   },
   "outputs": [
    {
     "data": {
      "text/plain": [
       "['walnuts',\n",
       " 'yogurt',\n",
       " 'ice cream',\n",
       " 'margarita mix',\n",
       " 'tequila',\n",
       " 'limes',\n",
       " 'taco shells',\n",
       " 'beef',\n",
       " 'cheese',\n",
       " 'salsa',\n",
       " 'chips']"
      ]
     },
     "execution_count": 56,
     "metadata": {},
     "output_type": "execute_result"
    }
   ],
   "source": [
    "taco_night_grocery_list = ['taco shells', 'beef', 'cheese', 'salsa', 'chips']\n",
    "\n",
    "grocery_list + taco_night_grocery_list"
   ]
  },
  {
   "cell_type": "markdown",
   "metadata": {},
   "source": [
    "<hr>\n",
    "##### 8.5.1.1.1. List Exercises (Using a List of Courses)\n",
    "\n",
    "Using the list provided, make the following changes.  "
   ]
  },
  {
   "cell_type": "code",
   "execution_count": 57,
   "metadata": {
    "collapsed": true
   },
   "outputs": [],
   "source": [
    "courses2018 = ['Chemistry 237', 'Archery 101', 'Bowling 201', 'Computer Science 211', 'Geology 301']"
   ]
  },
  {
   "cell_type": "markdown",
   "metadata": {},
   "source": [
    "Exercise 1. Remove `'Archery 101'` from the course list."
   ]
  },
  {
   "cell_type": "code",
   "execution_count": 58,
   "metadata": {
    "collapsed": true
   },
   "outputs": [],
   "source": [
    "## YOUR CODE GOES HERE ##"
   ]
  },
  {
   "cell_type": "code",
   "execution_count": 59,
   "metadata": {
    "collapsed": false
   },
   "outputs": [
    {
     "data": {
      "text/plain": [
       "['Chemistry 237', 'Bowling 201', 'Computer Science 211', 'Geology 301']"
      ]
     },
     "execution_count": 59,
     "metadata": {},
     "output_type": "execute_result"
    }
   ],
   "source": [
    "## INSTRUCTION SOLUTION(S) ##\n",
    "courses2018.remove('Archery 101')\n",
    "courses2018"
   ]
  },
  {
   "cell_type": "markdown",
   "metadata": {},
   "source": [
    "Exercise 2. Add `'Physics 202'` to the list."
   ]
  },
  {
   "cell_type": "code",
   "execution_count": 60,
   "metadata": {
    "collapsed": true
   },
   "outputs": [],
   "source": [
    "## YOUR CODE GOES HERE ##"
   ]
  },
  {
   "cell_type": "code",
   "execution_count": 61,
   "metadata": {
    "collapsed": false
   },
   "outputs": [
    {
     "data": {
      "text/plain": [
       "['Chemistry 237',\n",
       " 'Bowling 201',\n",
       " 'Computer Science 211',\n",
       " 'Geology 301',\n",
       " 'Physics 202']"
      ]
     },
     "execution_count": 61,
     "metadata": {},
     "output_type": "execute_result"
    }
   ],
   "source": [
    "## INSTRUCTION SOLUTION(S) ##\n",
    "courses2018.append('Physics 202')\n",
    "courses2018"
   ]
  },
  {
   "cell_type": "markdown",
   "metadata": {},
   "source": [
    "Exercise 3. Add each of the following classes to the `courses2018` list: `['Wine Tasting 101', 'Geometry 204']`."
   ]
  },
  {
   "cell_type": "code",
   "execution_count": 62,
   "metadata": {
    "collapsed": true
   },
   "outputs": [],
   "source": [
    "## YOUR CODE GOES HERE ##"
   ]
  },
  {
   "cell_type": "code",
   "execution_count": 63,
   "metadata": {
    "collapsed": false
   },
   "outputs": [
    {
     "data": {
      "text/plain": [
       "['Chemistry 237',\n",
       " 'Bowling 201',\n",
       " 'Computer Science 211',\n",
       " 'Geology 301',\n",
       " 'Physics 202',\n",
       " 'Wine Tasting 101',\n",
       " 'Geometry 204']"
      ]
     },
     "execution_count": 63,
     "metadata": {},
     "output_type": "execute_result"
    }
   ],
   "source": [
    "## INSTRUCTION SOLUTION(S) ##\n",
    "courses2018.extend(['Wine Tasting 101', 'Geometry 204'])\n",
    "courses2018"
   ]
  },
  {
   "cell_type": "markdown",
   "metadata": {},
   "source": [
    "Exercise 4. Sort the list alphabetically, descending (Z-A)."
   ]
  },
  {
   "cell_type": "code",
   "execution_count": 64,
   "metadata": {
    "collapsed": true
   },
   "outputs": [],
   "source": [
    "courses2018 = ['Chemistry 237', 'Archery 101', 'Bowling 201', 'Computer Science 211', 'Geology 301']"
   ]
  },
  {
   "cell_type": "code",
   "execution_count": 65,
   "metadata": {
    "collapsed": true
   },
   "outputs": [],
   "source": [
    "## YOUR CODE GOES HERE ##"
   ]
  },
  {
   "cell_type": "code",
   "execution_count": 66,
   "metadata": {
    "collapsed": false
   },
   "outputs": [
    {
     "data": {
      "text/plain": [
       "['Geology 301',\n",
       " 'Computer Science 211',\n",
       " 'Chemistry 237',\n",
       " 'Bowling 201',\n",
       " 'Archery 101']"
      ]
     },
     "execution_count": 66,
     "metadata": {},
     "output_type": "execute_result"
    }
   ],
   "source": [
    "## INSTRUCTION SOLUTION(S) ##\n",
    "\n",
    "courses2018.sort(reverse=True)\n",
    "courses2018"
   ]
  },
  {
   "cell_type": "markdown",
   "metadata": {},
   "source": [
    "<hr>\n",
    "##### 8.5.1.1.2. List Exercises (Using a List of Numbers)\n",
    "\n",
    "Using the list provided, make the following changes using Python:   "
   ]
  },
  {
   "cell_type": "code",
   "execution_count": 67,
   "metadata": {
    "collapsed": true
   },
   "outputs": [],
   "source": [
    "num_list = [68, 5, 76, 81, 19, 33, 8, 26, 84, 47, 43, 25, 61, 22, 27]"
   ]
  },
  {
   "cell_type": "markdown",
   "metadata": {},
   "source": [
    "Exercise 1. Count the number of items in the list (using code, not your fingers!)."
   ]
  },
  {
   "cell_type": "code",
   "execution_count": 68,
   "metadata": {
    "collapsed": true
   },
   "outputs": [],
   "source": [
    "## YOUR CODE GOES HERE ##"
   ]
  },
  {
   "cell_type": "code",
   "execution_count": 69,
   "metadata": {
    "collapsed": false
   },
   "outputs": [
    {
     "data": {
      "text/plain": [
       "15"
      ]
     },
     "execution_count": 69,
     "metadata": {},
     "output_type": "execute_result"
    }
   ],
   "source": [
    "## INSTRUCTION SOLUTION(S) ##\n",
    "len(num_list)"
   ]
  },
  {
   "cell_type": "markdown",
   "metadata": {},
   "source": [
    "Exercise 2. Move the first item in the list to the end of the list."
   ]
  },
  {
   "cell_type": "code",
   "execution_count": 70,
   "metadata": {
    "collapsed": true
   },
   "outputs": [],
   "source": [
    "## YOUR CODE GOES HERE ##"
   ]
  },
  {
   "cell_type": "code",
   "execution_count": 71,
   "metadata": {
    "collapsed": false
   },
   "outputs": [
    {
     "data": {
      "text/plain": [
       "[5, 76, 81, 19, 33, 8, 26, 84, 47, 43, 25, 61, 22, 27, 68]"
      ]
     },
     "execution_count": 71,
     "metadata": {},
     "output_type": "execute_result"
    }
   ],
   "source": [
    "## INSTRUCTION SOLUTION(S) ##\n",
    "num_list.append(num_list.pop(0))\n",
    "num_list"
   ]
  },
  {
   "cell_type": "markdown",
   "metadata": {},
   "source": [
    "Exercise 3. Find the maximum value in the list using the built-in `max()` function."
   ]
  },
  {
   "cell_type": "code",
   "execution_count": 72,
   "metadata": {
    "collapsed": true
   },
   "outputs": [],
   "source": [
    "## YOUR CODE GOES HERE ##"
   ]
  },
  {
   "cell_type": "code",
   "execution_count": 73,
   "metadata": {
    "collapsed": false
   },
   "outputs": [
    {
     "data": {
      "text/plain": [
       "84"
      ]
     },
     "execution_count": 73,
     "metadata": {},
     "output_type": "execute_result"
    }
   ],
   "source": [
    "## INSTRUCTION SOLUTION(S) ##\n",
    "max(num_list)"
   ]
  },
  {
   "cell_type": "markdown",
   "metadata": {},
   "source": [
    "Exercise 4. Find the maximum value in the list by sorting the list and then grabbing the last element."
   ]
  },
  {
   "cell_type": "code",
   "execution_count": 74,
   "metadata": {
    "collapsed": true
   },
   "outputs": [],
   "source": [
    "## YOUR CODE GOES HERE ##"
   ]
  },
  {
   "cell_type": "code",
   "execution_count": 75,
   "metadata": {
    "collapsed": false
   },
   "outputs": [
    {
     "data": {
      "text/plain": [
       "84"
      ]
     },
     "execution_count": 75,
     "metadata": {},
     "output_type": "execute_result"
    }
   ],
   "source": [
    "## INSTRUCTION SOLUTION(S) ##\n",
    "sorted(num_list)[-1]"
   ]
  },
  {
   "cell_type": "markdown",
   "metadata": {},
   "source": [
    "<hr>\n",
    "#### 8.5.1.3. Sequences: Tuples\n",
    "\n",
    "Tuples are Python sequences similar to lists except that they are immutable, meaning their individual elements cannot be changed. Tuples are always wrapped in parentheses: `()`.\n",
    "\n",
    "Tuple can be initialized a number of ways:\n",
    "\n",
    "| Code                        | Action                                           | \n",
    "|-----------------------------|--------------------------------------------------|\n",
    "|`temp_tuple = ()`               | Initializes an empty tuple |\n",
    "|`temp_tuple1 = (1,)`            | Initializes a tuple with one element |\n",
    "|`temp_tuple2 = (1, 'a', 3.1415)`  | Initializes a tuple with multiple elements |\n",
    "\n",
    "    "
   ]
  },
  {
   "cell_type": "markdown",
   "metadata": {},
   "source": [
    "Data in tuples can be accessed via indexing or unpacking (multiple assignments):\n",
    "\n",
    "|Code                           |Action                  |\n",
    "|-------------------------------|------------------------|\n",
    "|`temp_tuple2[0]`                  | Indexing a tuple |\n",
    "|`x, y, z = temp_tuple2`             | Multiple assignment |"
   ]
  },
  {
   "cell_type": "markdown",
   "metadata": {},
   "source": [
    "To illustrate the difference between tuples and lists, let's initialize and tuple and a list with the same elements, and try to edit the same item."
   ]
  },
  {
   "cell_type": "code",
   "execution_count": 76,
   "metadata": {
    "collapsed": true
   },
   "outputs": [],
   "source": [
    "multi_element_tuple = ('Monday','Tuesday','Wednesday','Thursday','Friday') \n",
    "multi_element_list = ['Monday','Tuesday','Wednesday','Thursday','Friday']"
   ]
  },
  {
   "cell_type": "markdown",
   "metadata": {},
   "source": [
    "You can change an element within a list."
   ]
  },
  {
   "cell_type": "code",
   "execution_count": 77,
   "metadata": {
    "collapsed": false
   },
   "outputs": [
    {
     "data": {
      "text/plain": [
       "['Lunes', 'Tuesday', 'Wednesday', 'Thursday', 'Friday']"
      ]
     },
     "execution_count": 77,
     "metadata": {},
     "output_type": "execute_result"
    }
   ],
   "source": [
    "multi_element_list[0] = 'Lunes'\n",
    "multi_element_list"
   ]
  },
  {
   "cell_type": "markdown",
   "metadata": {},
   "source": [
    "But you cannot change an element within a tuple."
   ]
  },
  {
   "cell_type": "code",
   "execution_count": 78,
   "metadata": {
    "collapsed": false,
    "scrolled": true
   },
   "outputs": [
    {
     "ename": "TypeError",
     "evalue": "'tuple' object does not support item assignment",
     "output_type": "error",
     "traceback": [
      "\u001b[0;31m---------------------------------------------------------------------------\u001b[0m",
      "\u001b[0;31mTypeError\u001b[0m                                 Traceback (most recent call last)",
      "\u001b[0;32m<ipython-input-78-e1b432260aad>\u001b[0m in \u001b[0;36m<module>\u001b[0;34m()\u001b[0m\n\u001b[0;32m----> 1\u001b[0;31m \u001b[0mmulti_element_tuple\u001b[0m\u001b[1;33m[\u001b[0m\u001b[1;36m0\u001b[0m\u001b[1;33m]\u001b[0m  \u001b[1;33m=\u001b[0m \u001b[1;34m'Lunes'\u001b[0m\u001b[1;33m\u001b[0m\u001b[0m\n\u001b[0m\u001b[1;32m      2\u001b[0m \u001b[0mmulti_element_tuple\u001b[0m\u001b[1;33m\u001b[0m\u001b[0m\n",
      "\u001b[0;31mTypeError\u001b[0m: 'tuple' object does not support item assignment"
     ]
    }
   ],
   "source": [
    "multi_element_tuple[0]  = 'Lunes'\n",
    "multi_element_tuple"
   ]
  },
  {
   "cell_type": "markdown",
   "metadata": {},
   "source": [
    "***\n",
    "##### 8.5.1.2.1. Tuples Exercise\n",
    "Using bracket notation, extract the third element from within the third-to-last element of the following tuple:"
   ]
  },
  {
   "cell_type": "code",
   "execution_count": 79,
   "metadata": {
    "collapsed": true
   },
   "outputs": [],
   "source": [
    "my_tuple = ((13, 2, 60, 6),\n",
    "             (54, 0, 20, 37),\n",
    "             (65, 62, 9, 49),\n",
    "             (18, 69, 8, 54),\n",
    "             (55, 52, 22, 53),\n",
    "             (62, 57, 75, 20))"
   ]
  },
  {
   "cell_type": "code",
   "execution_count": 80,
   "metadata": {
    "collapsed": true
   },
   "outputs": [],
   "source": [
    "## YOUR CODE GOES HERE ##"
   ]
  },
  {
   "cell_type": "code",
   "execution_count": 81,
   "metadata": {
    "collapsed": false
   },
   "outputs": [
    {
     "data": {
      "text/plain": [
       "8"
      ]
     },
     "execution_count": 81,
     "metadata": {},
     "output_type": "execute_result"
    }
   ],
   "source": [
    "## INSTRUCTION SOLUTION(S) ##\n",
    "my_tuple[-3][2]"
   ]
  },
  {
   "cell_type": "markdown",
   "metadata": {},
   "source": [
    "<hr>\n",
    "#### 8.5.1.3. Sequences: Strings\n",
    "\n",
    "Strings are immutable sequences of zero or more characters. In Python 3, strings can include extended character sets such as Unicode. Example Unicode characters are shown below:\n",
    "\n",
    "| Type of Characters    | Unicode Characters |\n",
    "|:----------------------:|:------------------------------------------------:|\n",
    "| Foreign Languages     | ` 片仮名, カタカナ    فارسی    राष्ट्र सेवकोत्तम `  |\n",
    "| Emoji                 | ` ✈️    ⛄️    🦄    🐐 `|\n",
    "| Symbols               | ` ∑     ∆    √     ⊠ `|\n",
    "\n",
    "Strings are always wrapped in quotation marks. We can use single quotes (`''`), double quotes (`\"\"`), or three sets of quotation marks often called triple quotes (`\"\"\" \"\"\"`).\n",
    "\n",
    "```python\n",
    "unicode_str = u'🦄'\n",
    "string_a = ''\n",
    "string_b = \"\"\n",
    "\n",
    "string_3 = \"\"\"Oh, tú, tú eres el imán y yo soy el metal\n",
    "              Me voy acercando y voy armando el plan\n",
    "              Sólo con pensarlo se acelera el pulso\n",
    "              Oh, yeah Ya, ya me está gustando más de lo normal\n",
    "              Todos mis sentidos van pidiendo más\n",
    "              Esto hay que tomarlo sin ningún apuro\"\"\"\n",
    "```                       "
   ]
  },
  {
   "cell_type": "markdown",
   "metadata": {},
   "source": [
    "<hr>\n",
    "##### 8.5.1.3.1. String Methods and Operations\n",
    "There are a number of string methods and operations that can be applied to manipulate strings.\n",
    "\n",
    "| Code                             |                                                                                  |\n",
    "|----------------------------------|----------------------------------------------------------------------------------|\n",
    "|`string_pi = str(3.1415) `           | Converts other data types to string data type |\n",
    "|`string_a + string_b`                | Concatenation: appends `string_b` to `string_a` |\n",
    "|`string_pi * 3  `                    | Repeats the string 3 times |\n",
    "|`string_pi[i] `                  | String indexing |\n",
    "|`string_pi[begin_index:end_index]`   | String slicing |\n",
    "|`string_variable.upper()`           | Converts all of the alpha characters to uppercase |\n",
    "|`string_variable.lower()`           | Converts all of the alpha characters to lowercase |\n",
    "|`string_variable.title()`           | Converts a string to title case in which the first letter of each word is <br>  capitalized and the remaining letters are lowercase |\n",
    "|`string_variable.strip()`           | Removes leading and trailing whitespace from a string |\n",
    "|`string_variable.split(sub_string)` | Splits a string using `sub_string` as a delimiter; returns a list <br>of string fragments |\n",
    "|`string_variable.replace(sub_string, replacement_string)` | Replaces all occurences of `sub_string` with <br>the `replacement_string` |\n",
    "|`string_variable.zfill(integer)`    | Pads the string with zeros to a string length specified by the <br>`integer` parameter |\n",
    "|`string.find(sub_string)`           | Searches a string for `sub_string`, returns the index location of <br>first character of substring (or -1 if `sub_string` is not found) |\n",
    "                            \n",
    "Below, we demonstrate some of the things you can do with strings.                         "
   ]
  },
  {
   "cell_type": "code",
   "execution_count": 82,
   "metadata": {
    "collapsed": true
   },
   "outputs": [],
   "source": [
    "string_variable = '   Hello World   '"
   ]
  },
  {
   "cell_type": "markdown",
   "metadata": {},
   "source": [
    "Convert all the characters to uppercase."
   ]
  },
  {
   "cell_type": "code",
   "execution_count": 83,
   "metadata": {
    "collapsed": false,
    "scrolled": true
   },
   "outputs": [
    {
     "data": {
      "text/plain": [
       "'   HELLO WORLD   '"
      ]
     },
     "execution_count": 83,
     "metadata": {},
     "output_type": "execute_result"
    }
   ],
   "source": [
    "string_variable.upper()"
   ]
  },
  {
   "cell_type": "markdown",
   "metadata": {},
   "source": [
    "Convert all the characters to lowercase."
   ]
  },
  {
   "cell_type": "code",
   "execution_count": 84,
   "metadata": {
    "collapsed": false
   },
   "outputs": [
    {
     "data": {
      "text/plain": [
       "'   hello world   '"
      ]
     },
     "execution_count": 84,
     "metadata": {},
     "output_type": "execute_result"
    }
   ],
   "source": [
    "string_variable.lower()"
   ]
  },
  {
   "cell_type": "markdown",
   "metadata": {},
   "source": [
    "Convert the string to title case."
   ]
  },
  {
   "cell_type": "code",
   "execution_count": 85,
   "metadata": {
    "collapsed": false
   },
   "outputs": [
    {
     "data": {
      "text/plain": [
       "'   Hello World   '"
      ]
     },
     "execution_count": 85,
     "metadata": {},
     "output_type": "execute_result"
    }
   ],
   "source": [
    "string_variable.title()"
   ]
  },
  {
   "cell_type": "markdown",
   "metadata": {},
   "source": [
    "Remove the leading and trailing white space from the string."
   ]
  },
  {
   "cell_type": "code",
   "execution_count": 86,
   "metadata": {
    "collapsed": false
   },
   "outputs": [
    {
     "data": {
      "text/plain": [
       "'Hello World'"
      ]
     },
     "execution_count": 86,
     "metadata": {},
     "output_type": "execute_result"
    }
   ],
   "source": [
    "string_variable.strip()"
   ]
  },
  {
   "cell_type": "markdown",
   "metadata": {},
   "source": [
    "Split the words in the string."
   ]
  },
  {
   "cell_type": "code",
   "execution_count": 87,
   "metadata": {
    "collapsed": false
   },
   "outputs": [
    {
     "data": {
      "text/plain": [
       "['Hello', 'World']"
      ]
     },
     "execution_count": 87,
     "metadata": {},
     "output_type": "execute_result"
    }
   ],
   "source": [
    "string_variable.split()"
   ]
  },
  {
   "cell_type": "markdown",
   "metadata": {},
   "source": [
    "<hr>\n",
    "##### 8.5.1.3.2. String Exercises\n",
    "\n",
    "Exercise 1. Write a Python program to make a new string from a given string where all occurrences of the first character have been changed to `'$'`, except the first character itself.     \n",
    "\n",
    "| Example Input | Expected Output |\n",
    "|:---------:|:----------:|\n",
    "| `restart` | `resta$t` |\n",
    "| `pineapple` | `pinea$$le` |\n",
    "\n",
    "HINT: Use slicing and replace."
   ]
  },
  {
   "cell_type": "code",
   "execution_count": 88,
   "metadata": {
    "collapsed": true
   },
   "outputs": [],
   "source": [
    "## YOUR CODE GOES HERE ##"
   ]
  },
  {
   "cell_type": "code",
   "execution_count": 89,
   "metadata": {
    "collapsed": false
   },
   "outputs": [
    {
     "data": {
      "text/plain": [
       "'resta$t'"
      ]
     },
     "execution_count": 89,
     "metadata": {},
     "output_type": "execute_result"
    }
   ],
   "source": [
    "## INSTRUCTION SOLUTION(S) ##\n",
    "input_string = 'restart'\n",
    "\n",
    "output_string = input_string[0] + input_string[1:].replace(input_string[0], '$')\n",
    "output_string"
   ]
  },
  {
   "cell_type": "markdown",
   "metadata": {},
   "source": [
    "Exercise 2. Write a Python program to get a single string from two given strings, separated by a space, and swap the first two characters of each string.\n",
    "\n",
    "| Example Input | Expected Output |\n",
    "|:---------:|:----------:|\n",
    "| `s1, s2 = 'abc', 'xyz'` | `'xyc abz'` |\n",
    "| `s1, s2 = 'magic', 'carpet'` | `'cagic marpet'` |\n",
    "\n",
    "HINT: Try using slicing."
   ]
  },
  {
   "cell_type": "code",
   "execution_count": 90,
   "metadata": {
    "collapsed": true
   },
   "outputs": [],
   "source": [
    "## YOUR CODE GOES HERE ##"
   ]
  },
  {
   "cell_type": "code",
   "execution_count": 91,
   "metadata": {
    "collapsed": false
   },
   "outputs": [
    {
     "data": {
      "text/plain": [
       "'xyc abz'"
      ]
     },
     "execution_count": 91,
     "metadata": {},
     "output_type": "execute_result"
    }
   ],
   "source": [
    "## INSTRUCTION SOLUTION(S) ##\n",
    "s1, s2 = 'abc', 'xyz'\n",
    "\n",
    "output_string = s2[:2] + s1[2:] + ' ' + s1[:2] + s2[2:]\n",
    "output_string"
   ]
  },
  {
   "cell_type": "markdown",
   "metadata": {},
   "source": [
    "<hr>\n",
    "#### 8.5.1.4. Common Operations Across Sequences\n",
    "\n",
    "There are certain things you can do with all sequence types. These operations include indexing, slicing, adding, multiplying, and checking for membership. In addition, Python has built-in functions for finding the length of a sequence and for finding its largest and smallest elements.\n",
    "\n",
    "`max()` returns the maximum value contained in the sequence.\n",
    "\n",
    ">Example: `max([1, 2, 3, 4, 5])` \n",
    "\n",
    "`min()` returns the minimum value contained in the sequence.\n",
    "\n",
    ">Example: `min([1, 2, 3, 4, 5])` \n",
    "\n",
    "`len()` returns the length of the sequence as an integer.\n",
    "\n",
    ">Example: `len([1, 2, 3, 4, 5])`\n",
    "\n",
    "`sorted()` sorts the order of the sequence.\n",
    "\n",
    ">Example: `sorted([3, 5, 1, 4, 2])`\n",
    "\n",
    "Let's get some practice with these. First, initialize a string, a list, and a tuple."
   ]
  },
  {
   "cell_type": "code",
   "execution_count": 92,
   "metadata": {
    "collapsed": true
   },
   "outputs": [],
   "source": [
    "sample_string = 'four score and seven years ago'\n",
    "sample_list = [4, 20, 7]\n",
    "sample_tuple = ('Abe', 1863)"
   ]
  },
  {
   "cell_type": "markdown",
   "metadata": {},
   "source": [
    "Print the maximum value in the string and the list."
   ]
  },
  {
   "cell_type": "code",
   "execution_count": 93,
   "metadata": {
    "collapsed": false
   },
   "outputs": [
    {
     "name": "stdout",
     "output_type": "stream",
     "text": [
      "y\n",
      "20\n"
     ]
    }
   ],
   "source": [
    "print(max(sample_string))\n",
    "print(max(sample_list))"
   ]
  },
  {
   "cell_type": "markdown",
   "metadata": {},
   "source": [
    "Print the length of the string, list, and tuple."
   ]
  },
  {
   "cell_type": "code",
   "execution_count": 94,
   "metadata": {
    "collapsed": false
   },
   "outputs": [
    {
     "name": "stdout",
     "output_type": "stream",
     "text": [
      "30\n",
      "3\n",
      "2\n"
     ]
    }
   ],
   "source": [
    "print(len(sample_string))\n",
    "print(len(sample_list))\n",
    "print(len(sample_tuple))"
   ]
  },
  {
   "cell_type": "markdown",
   "metadata": {},
   "source": [
    "Sort the characters that appear in the string. "
   ]
  },
  {
   "cell_type": "code",
   "execution_count": 95,
   "metadata": {
    "collapsed": false,
    "scrolled": true
   },
   "outputs": [
    {
     "data": {
      "text/plain": [
       "[' ',\n",
       " ' ',\n",
       " ' ',\n",
       " ' ',\n",
       " ' ',\n",
       " 'a',\n",
       " 'a',\n",
       " 'a',\n",
       " 'c',\n",
       " 'd',\n",
       " 'e',\n",
       " 'e',\n",
       " 'e',\n",
       " 'e',\n",
       " 'f',\n",
       " 'g',\n",
       " 'n',\n",
       " 'n',\n",
       " 'o',\n",
       " 'o',\n",
       " 'o',\n",
       " 'r',\n",
       " 'r',\n",
       " 'r',\n",
       " 's',\n",
       " 's',\n",
       " 's',\n",
       " 'u',\n",
       " 'v',\n",
       " 'y']"
      ]
     },
     "execution_count": 95,
     "metadata": {},
     "output_type": "execute_result"
    }
   ],
   "source": [
    "sorted(sample_string)"
   ]
  },
  {
   "cell_type": "markdown",
   "metadata": {},
   "source": [
    "Sort the list."
   ]
  },
  {
   "cell_type": "code",
   "execution_count": 96,
   "metadata": {
    "collapsed": false
   },
   "outputs": [
    {
     "data": {
      "text/plain": [
       "[4, 7, 20]"
      ]
     },
     "execution_count": 96,
     "metadata": {},
     "output_type": "execute_result"
    }
   ],
   "source": [
    "sorted(sample_list)"
   ]
  },
  {
   "cell_type": "markdown",
   "metadata": {},
   "source": [
    "<a id=\"sets\"></a>\n",
    "### 8.5.2. Sets\n",
    "\n",
    "Python sets are mutable, unordered collections of unique elements. They are not considered sequences and do not support indexing or slicing. Sets also do not allow duplicate elements and will automatically deduplicate themselves, retaining only one instance of each unique value. Basic uses for sets include membership testing and deduplication of other sequences. Sets also support mathematical operations like union, intersection, difference, and symmetric difference. \n",
    "\n",
    "Sets are always wrapped in curly braces: `{}`\n",
    "\n",
    "| Code                    | Action                                     |\n",
    "|-------------------------|--------------------------------------------|\n",
    "|`set1 = set()`              | Initializes an empty set |\n",
    "|`set3 = {1, 'a', 3.1415}`     | Initializes a set with multiple elements |\n",
    "   "
   ]
  },
  {
   "cell_type": "markdown",
   "metadata": {},
   "source": [
    "To add or remove elements to or from a set, use the `.add()` or `.remove()` methods.\n",
    "\n",
    "| Code                    | Action                                     |\n",
    "|-------------------------|--------------------------------------------|\n",
    "|`set2.add(x)`       | Adds the value stored in `x` to `set2` |\n",
    "|`set2.remove(x)`       | Removes the value stored in `x` from `set2` |"
   ]
  },
  {
   "cell_type": "markdown",
   "metadata": {},
   "source": [
    "Membership testing with sets:\n",
    "\n",
    "| Code                    | Action                                     |\n",
    "|-------------------------|--------------------------------------------|\n",
    "|`x in set2`                 | Asks is `x` in `set2`? |"
   ]
  },
  {
   "cell_type": "markdown",
   "metadata": {},
   "source": [
    "Mathematical operations with sets:\n",
    "\n",
    "| Code                    | Action                                     |\n",
    "|-------------------------|--------------------------------------------|\n",
    "|`set1 - set2   `               | Values in `set1` but not in `set2`|\n",
    "|`set1 ` &#124; ` set2    `              | Values in either `set1` or `set2` |\n",
    "|`set1 & set2   `               | Values in both `set1` and `set2` |\n",
    "|`set1 ^ set2   `               | Values in `set1` or `set2` but not both  |\n"
   ]
  },
  {
   "cell_type": "markdown",
   "metadata": {},
   "source": [
    "<b><font color=\"firebrick\">Instructor Guidance</font>: Work through any questions about Python sets in the code cells below. Be sure to demonstrate the initialization of an empty set below.</b>"
   ]
  },
  {
   "cell_type": "markdown",
   "metadata": {},
   "source": [
    "To demonstrate these capabilities, first initialize values into two sets. Both sets contain geocoordinates as tuples. Use set math to compare them."
   ]
  },
  {
   "cell_type": "code",
   "execution_count": 97,
   "metadata": {
    "collapsed": true
   },
   "outputs": [],
   "source": [
    "set1 = {(40.3359, -73.8519), (40.1395, -73.1847), (40.9018, -73.6472), (41.3114, -74.9317), (40.0574, -73.7093), (40.3283, -73.5393), (41.4963, -74.7807), (41.306, -74.1903), (41.3009, -74.3318), (41.0859, -74.1065), (41.476, -74.8781), (41.4132, -74.4966), (41.5069, -74.9362), (40.7464, -73.3113), (39.9643, -74.2852), (40.2784, -74.4275), (40.1685, -74.4684), (40.6913, -74.7727), (40.9869, -74.3098), (40.5029, -74.1455), (39.7886, -73.7916), (41.3454, -73.0848), (41.0134, -73.5366), (41.1706, -73.6227), (39.9752, -73.6027)}\n",
    "set2 = {(40.7464, -73.3113), (40.4534, -73.5302), (40.1395, -73.1847), (40.9401, -73.6553), (40.9985, -73.1145), (40.3359, -73.8519), (41.5069, -74.9362), (41.3114, -74.9317), (41.2716, -74.7067), (41.0532, -74.9857), (41.1434, -74.6219), (41.2259, -74.3201), (41.55, -74.9327), (41.4962, -74.5411), (39.8443, -74.0483), (39.9222, -74.5679), (40.506, -74.1934), (40.2784, -74.4275), (40.5449, -73.5188), (40.1014, -74.3324), (40.7861, -74.7268), (41.3841, -73.2179), (41.1719, -73.7924), (41.3193, -73.9454), (39.7886, -73.7916)}"
   ]
  },
  {
   "cell_type": "markdown",
   "metadata": {},
   "source": [
    "Show values in `set1` that are not in `set2`."
   ]
  },
  {
   "cell_type": "code",
   "execution_count": 98,
   "metadata": {
    "collapsed": false
   },
   "outputs": [
    {
     "data": {
      "text/plain": [
       "{(39.9643, -74.2852),\n",
       " (39.9752, -73.6027),\n",
       " (40.0574, -73.7093),\n",
       " (40.1685, -74.4684),\n",
       " (40.3283, -73.5393),\n",
       " (40.5029, -74.1455),\n",
       " (40.6913, -74.7727),\n",
       " (40.9018, -73.6472),\n",
       " (40.9869, -74.3098),\n",
       " (41.0134, -73.5366),\n",
       " (41.0859, -74.1065),\n",
       " (41.1706, -73.6227),\n",
       " (41.3009, -74.3318),\n",
       " (41.306, -74.1903),\n",
       " (41.3454, -73.0848),\n",
       " (41.4132, -74.4966),\n",
       " (41.476, -74.8781),\n",
       " (41.4963, -74.7807)}"
      ]
     },
     "execution_count": 98,
     "metadata": {},
     "output_type": "execute_result"
    }
   ],
   "source": [
    "set1 - set2"
   ]
  },
  {
   "cell_type": "markdown",
   "metadata": {},
   "source": [
    "Show values in either `set1` or `set2`."
   ]
  },
  {
   "cell_type": "code",
   "execution_count": 99,
   "metadata": {
    "collapsed": false
   },
   "outputs": [
    {
     "data": {
      "text/plain": [
       "{(39.7886, -73.7916),\n",
       " (39.8443, -74.0483),\n",
       " (39.9222, -74.5679),\n",
       " (39.9643, -74.2852),\n",
       " (39.9752, -73.6027),\n",
       " (40.0574, -73.7093),\n",
       " (40.1014, -74.3324),\n",
       " (40.1395, -73.1847),\n",
       " (40.1685, -74.4684),\n",
       " (40.2784, -74.4275),\n",
       " (40.3283, -73.5393),\n",
       " (40.3359, -73.8519),\n",
       " (40.4534, -73.5302),\n",
       " (40.5029, -74.1455),\n",
       " (40.506, -74.1934),\n",
       " (40.5449, -73.5188),\n",
       " (40.6913, -74.7727),\n",
       " (40.7464, -73.3113),\n",
       " (40.7861, -74.7268),\n",
       " (40.9018, -73.6472),\n",
       " (40.9401, -73.6553),\n",
       " (40.9869, -74.3098),\n",
       " (40.9985, -73.1145),\n",
       " (41.0134, -73.5366),\n",
       " (41.0532, -74.9857),\n",
       " (41.0859, -74.1065),\n",
       " (41.1434, -74.6219),\n",
       " (41.1706, -73.6227),\n",
       " (41.1719, -73.7924),\n",
       " (41.2259, -74.3201),\n",
       " (41.2716, -74.7067),\n",
       " (41.3009, -74.3318),\n",
       " (41.306, -74.1903),\n",
       " (41.3114, -74.9317),\n",
       " (41.3193, -73.9454),\n",
       " (41.3454, -73.0848),\n",
       " (41.3841, -73.2179),\n",
       " (41.4132, -74.4966),\n",
       " (41.476, -74.8781),\n",
       " (41.4962, -74.5411),\n",
       " (41.4963, -74.7807),\n",
       " (41.5069, -74.9362),\n",
       " (41.55, -74.9327)}"
      ]
     },
     "execution_count": 99,
     "metadata": {},
     "output_type": "execute_result"
    }
   ],
   "source": [
    "set1 | set2 "
   ]
  },
  {
   "cell_type": "markdown",
   "metadata": {},
   "source": [
    "Show the elements that belong to both sets."
   ]
  },
  {
   "cell_type": "code",
   "execution_count": 100,
   "metadata": {
    "collapsed": false
   },
   "outputs": [
    {
     "data": {
      "text/plain": [
       "{(39.7886, -73.7916),\n",
       " (40.1395, -73.1847),\n",
       " (40.2784, -74.4275),\n",
       " (40.3359, -73.8519),\n",
       " (40.7464, -73.3113),\n",
       " (41.3114, -74.9317),\n",
       " (41.5069, -74.9362)}"
      ]
     },
     "execution_count": 100,
     "metadata": {},
     "output_type": "execute_result"
    }
   ],
   "source": [
    "set1 & set2 "
   ]
  },
  {
   "cell_type": "markdown",
   "metadata": {},
   "source": [
    "Show values in `set1` or `set2`, but not both."
   ]
  },
  {
   "cell_type": "code",
   "execution_count": 101,
   "metadata": {
    "collapsed": false
   },
   "outputs": [
    {
     "data": {
      "text/plain": [
       "{(39.8443, -74.0483),\n",
       " (39.9222, -74.5679),\n",
       " (39.9643, -74.2852),\n",
       " (39.9752, -73.6027),\n",
       " (40.0574, -73.7093),\n",
       " (40.1014, -74.3324),\n",
       " (40.1685, -74.4684),\n",
       " (40.3283, -73.5393),\n",
       " (40.4534, -73.5302),\n",
       " (40.5029, -74.1455),\n",
       " (40.506, -74.1934),\n",
       " (40.5449, -73.5188),\n",
       " (40.6913, -74.7727),\n",
       " (40.7861, -74.7268),\n",
       " (40.9018, -73.6472),\n",
       " (40.9401, -73.6553),\n",
       " (40.9869, -74.3098),\n",
       " (40.9985, -73.1145),\n",
       " (41.0134, -73.5366),\n",
       " (41.0532, -74.9857),\n",
       " (41.0859, -74.1065),\n",
       " (41.1434, -74.6219),\n",
       " (41.1706, -73.6227),\n",
       " (41.1719, -73.7924),\n",
       " (41.2259, -74.3201),\n",
       " (41.2716, -74.7067),\n",
       " (41.3009, -74.3318),\n",
       " (41.306, -74.1903),\n",
       " (41.3193, -73.9454),\n",
       " (41.3454, -73.0848),\n",
       " (41.3841, -73.2179),\n",
       " (41.4132, -74.4966),\n",
       " (41.476, -74.8781),\n",
       " (41.4962, -74.5411),\n",
       " (41.4963, -74.7807),\n",
       " (41.55, -74.9327)}"
      ]
     },
     "execution_count": 101,
     "metadata": {},
     "output_type": "execute_result"
    }
   ],
   "source": [
    "set1 ^ set2 "
   ]
  },
  {
   "cell_type": "markdown",
   "metadata": {},
   "source": [
    "<hr> <a id=\"dictionaries\"></a>\n",
    "### 8.5.3. Dictionaries\n",
    "\n",
    "Dictionaries are collections of key-value pairs. Unlike sequences, which are indexed by a range of numbers, dictionaries are indexed by keys, which can be any immutable type. Strings and numbers can always be keys. The values in a dictionary can be any data type or data structure.\n",
    "\n",
    "Dictionaries share many properties with sets:\n",
    "* Both sets and dictionaries are unordered\n",
    "* Both sets and dictionaries are wrapped in curly braces\n",
    "* Sets must have unique entries, dictionaries must have unique keys                               \n",
    "\n",
    "There are three dictionary methods we covered in this class.\n",
    "\n",
    "| Code                    | Action                                     |\n",
    "|-------------------------|--------------------------------------------|\n",
    "|`.keys()`     | Returns a collection of the dictionary keys |\n",
    "|`.values()`   | Returns a collection of the dictionary values |\n",
    "|`.items()`    | Returns a collection of tuples of key-value pairs <br>that can be unpacked using multiple assignments |\n"
   ]
  },
  {
   "cell_type": "markdown",
   "metadata": {},
   "source": [
    "There are a number of ways to iterate through a dictionary, but using `.items()` is usually the easiest.\n",
    "\n",
    "```python\n",
    "for key, value in dict_object.items(): \n",
    "    do_something_with(key)\n",
    "    do_something_with(value)\n",
    "```   \n",
    "<hr>"
   ]
  },
  {
   "cell_type": "markdown",
   "metadata": {},
   "source": [
    "<b><font color=\"firebrick\">Instructor Guidance</font>: Work through any questions about Python dictionaries in the code cells below.</b>"
   ]
  },
  {
   "cell_type": "markdown",
   "metadata": {},
   "source": [
    "Initialize a dictionary to get some practice."
   ]
  },
  {
   "cell_type": "code",
   "execution_count": 102,
   "metadata": {
    "collapsed": true
   },
   "outputs": [],
   "source": [
    "inventory = {'apples': 430, \n",
    "             'bananas': 312, \n",
    "             'oranges': 525, \n",
    "             'pears': 217}"
   ]
  },
  {
   "cell_type": "markdown",
   "metadata": {},
   "source": [
    "Show the dictionary keys."
   ]
  },
  {
   "cell_type": "code",
   "execution_count": 103,
   "metadata": {
    "collapsed": false
   },
   "outputs": [
    {
     "data": {
      "text/plain": [
       "dict_keys(['pears', 'oranges', 'apples', 'bananas'])"
      ]
     },
     "execution_count": 103,
     "metadata": {},
     "output_type": "execute_result"
    }
   ],
   "source": [
    "inventory.keys()"
   ]
  },
  {
   "cell_type": "markdown",
   "metadata": {},
   "source": [
    "Print the current stock for bananas."
   ]
  },
  {
   "cell_type": "code",
   "execution_count": 104,
   "metadata": {
    "collapsed": false,
    "scrolled": true
   },
   "outputs": [
    {
     "data": {
      "text/plain": [
       "312"
      ]
     },
     "execution_count": 104,
     "metadata": {},
     "output_type": "execute_result"
    }
   ],
   "source": [
    "inventory['bananas']"
   ]
  },
  {
   "cell_type": "markdown",
   "metadata": {},
   "source": [
    "Add `'avocados'` to your dictionary with a value of `543`."
   ]
  },
  {
   "cell_type": "code",
   "execution_count": 105,
   "metadata": {
    "collapsed": false
   },
   "outputs": [
    {
     "data": {
      "text/plain": [
       "{'apples': 430, 'avocados': 543, 'bananas': 312, 'oranges': 525, 'pears': 217}"
      ]
     },
     "execution_count": 105,
     "metadata": {},
     "output_type": "execute_result"
    }
   ],
   "source": [
    "inventory['avocados'] = 543\n",
    "inventory"
   ]
  },
  {
   "cell_type": "markdown",
   "metadata": {},
   "source": [
    "Edit the value of `'oranges'` by subtracting `83` from the current value."
   ]
  },
  {
   "cell_type": "code",
   "execution_count": 106,
   "metadata": {
    "collapsed": false
   },
   "outputs": [
    {
     "data": {
      "text/plain": [
       "{'apples': 430, 'avocados': 543, 'bananas': 312, 'oranges': 442, 'pears': 217}"
      ]
     },
     "execution_count": 106,
     "metadata": {},
     "output_type": "execute_result"
    }
   ],
   "source": [
    "inventory['oranges'] -= 83\n",
    "inventory"
   ]
  },
  {
   "cell_type": "markdown",
   "metadata": {},
   "source": [
    "Delete `'pears'` from your dictionary."
   ]
  },
  {
   "cell_type": "code",
   "execution_count": 107,
   "metadata": {
    "collapsed": false
   },
   "outputs": [
    {
     "data": {
      "text/plain": [
       "{'apples': 430, 'avocados': 543, 'bananas': 312, 'oranges': 442}"
      ]
     },
     "execution_count": 107,
     "metadata": {},
     "output_type": "execute_result"
    }
   ],
   "source": [
    "del inventory['pears']\n",
    "inventory"
   ]
  },
  {
   "cell_type": "markdown",
   "metadata": {},
   "source": [
    "<hr>\n",
    "#### 8.5.3.1. Dictionary Exercises\n",
    "\n",
    "Using the provided dictionary, let's make some changes."
   ]
  },
  {
   "cell_type": "code",
   "execution_count": 108,
   "metadata": {
    "collapsed": true
   },
   "outputs": [],
   "source": [
    "grocery_prices = {'Eggs': 2.59,\n",
    "                  'Milk': 3.19,\n",
    "                  'Cheese': {'American': 4.80,\n",
    "                             'Swiss': 4.11,\n",
    "                             'Cheddar': 3.59\n",
    "                            },\n",
    "                  'Yogurt': {'Regular': 2.35,\n",
    "                             'Sale': 1.11\n",
    "                            },\n",
    "                  'Butter': 2.59\n",
    "                 }"
   ]
  },
  {
   "cell_type": "markdown",
   "metadata": {},
   "source": [
    "Exercise 1. Egg prices have dropped. Let's change the price of `'Eggs'` to `1.99`."
   ]
  },
  {
   "cell_type": "code",
   "execution_count": 109,
   "metadata": {
    "collapsed": true
   },
   "outputs": [],
   "source": [
    "## YOUR CODE GOES HERE ##"
   ]
  },
  {
   "cell_type": "code",
   "execution_count": 110,
   "metadata": {
    "collapsed": false
   },
   "outputs": [
    {
     "data": {
      "text/plain": [
       "{'Butter': 2.59,\n",
       " 'Cheese': {'American': 4.8, 'Cheddar': 3.59, 'Swiss': 4.11},\n",
       " 'Eggs': 1.99,\n",
       " 'Milk': 3.19,\n",
       " 'Yogurt': {'Regular': 2.35, 'Sale': 1.11}}"
      ]
     },
     "execution_count": 110,
     "metadata": {},
     "output_type": "execute_result"
    }
   ],
   "source": [
    "## INSTRUCTION SOLUTION(S) ##\n",
    "grocery_prices['Eggs'] = 1.99\n",
    "grocery_prices"
   ]
  },
  {
   "cell_type": "markdown",
   "metadata": {},
   "source": [
    "Exercise 2. Change the `'Sale'` price of `'Yogurt'` to `1.49`."
   ]
  },
  {
   "cell_type": "code",
   "execution_count": 111,
   "metadata": {
    "collapsed": true
   },
   "outputs": [],
   "source": [
    "## YOUR CODE GOES HERE ##"
   ]
  },
  {
   "cell_type": "code",
   "execution_count": 112,
   "metadata": {
    "collapsed": false
   },
   "outputs": [
    {
     "data": {
      "text/plain": [
       "{'Butter': 2.59,\n",
       " 'Cheese': {'American': 4.8, 'Cheddar': 3.59, 'Swiss': 4.11},\n",
       " 'Eggs': 1.99,\n",
       " 'Milk': 3.19,\n",
       " 'Yogurt': {'Regular': 2.35, 'Sale': 1.49}}"
      ]
     },
     "execution_count": 112,
     "metadata": {},
     "output_type": "execute_result"
    }
   ],
   "source": [
    "## INSTRUCTION SOLUTION(S) ##\n",
    "grocery_prices['Yogurt']['Sale'] = 1.49\n",
    "grocery_prices"
   ]
  },
  {
   "cell_type": "markdown",
   "metadata": {},
   "source": [
    "Exercise 3. Add `'Honey'` to our dictionary, with the price of `3.49`."
   ]
  },
  {
   "cell_type": "code",
   "execution_count": 113,
   "metadata": {
    "collapsed": true
   },
   "outputs": [],
   "source": [
    "## YOUR CODE GOES HERE ##"
   ]
  },
  {
   "cell_type": "code",
   "execution_count": 114,
   "metadata": {
    "collapsed": false
   },
   "outputs": [
    {
     "data": {
      "text/plain": [
       "{'Butter': 2.59,\n",
       " 'Cheese': {'American': 4.8, 'Cheddar': 3.59, 'Swiss': 4.11},\n",
       " 'Eggs': 1.99,\n",
       " 'Honey': 3.49,\n",
       " 'Milk': 3.19,\n",
       " 'Yogurt': {'Regular': 2.35, 'Sale': 1.49}}"
      ]
     },
     "execution_count": 114,
     "metadata": {},
     "output_type": "execute_result"
    }
   ],
   "source": [
    "## INSTRUCTION SOLUTION(S) ##\n",
    "grocery_prices['Honey'] = 3.49\n",
    "grocery_prices"
   ]
  },
  {
   "cell_type": "markdown",
   "metadata": {},
   "source": [
    "Exercise 4. We recently lost our butter supplier. Remove `'Butter'` from our dictionary."
   ]
  },
  {
   "cell_type": "code",
   "execution_count": 115,
   "metadata": {
    "collapsed": true
   },
   "outputs": [],
   "source": [
    "## YOUR CODE GOES HERE ##"
   ]
  },
  {
   "cell_type": "code",
   "execution_count": 116,
   "metadata": {
    "collapsed": false
   },
   "outputs": [
    {
     "data": {
      "text/plain": [
       "{'Cheese': {'American': 4.8, 'Cheddar': 3.59, 'Swiss': 4.11},\n",
       " 'Eggs': 1.99,\n",
       " 'Honey': 3.49,\n",
       " 'Milk': 3.19,\n",
       " 'Yogurt': {'Regular': 2.35, 'Sale': 1.49}}"
      ]
     },
     "execution_count": 116,
     "metadata": {},
     "output_type": "execute_result"
    }
   ],
   "source": [
    "## INSTRUCTION SOLUTION(S) ##\n",
    "del grocery_prices['Butter']\n",
    "grocery_prices"
   ]
  },
  {
   "cell_type": "markdown",
   "metadata": {},
   "source": [
    "Exercise 5. Add `'Lobster'` to our dictionary with the value `'Market Price'`."
   ]
  },
  {
   "cell_type": "code",
   "execution_count": 117,
   "metadata": {
    "collapsed": true
   },
   "outputs": [],
   "source": [
    "## YOUR CODE GOES HERE ##"
   ]
  },
  {
   "cell_type": "code",
   "execution_count": 118,
   "metadata": {
    "collapsed": false
   },
   "outputs": [
    {
     "data": {
      "text/plain": [
       "{'Cheese': {'American': 4.8, 'Cheddar': 3.59, 'Swiss': 4.11},\n",
       " 'Eggs': 1.99,\n",
       " 'Honey': 3.49,\n",
       " 'Lobster': 'Market Price',\n",
       " 'Milk': 3.19,\n",
       " 'Yogurt': {'Regular': 2.35, 'Sale': 1.49}}"
      ]
     },
     "execution_count": 118,
     "metadata": {},
     "output_type": "execute_result"
    }
   ],
   "source": [
    "## INSTRUCTION SOLUTION(S) ##\n",
    "grocery_prices['Lobster'] = 'Market Price'\n",
    "grocery_prices"
   ]
  },
  {
   "cell_type": "markdown",
   "metadata": {},
   "source": [
    "Exercise 6. We found that Swiss cheese is not selling. Remove `'Swiss'` cheese from our dictionary."
   ]
  },
  {
   "cell_type": "code",
   "execution_count": 119,
   "metadata": {
    "collapsed": true
   },
   "outputs": [],
   "source": [
    "## YOUR CODE GOES HERE ##"
   ]
  },
  {
   "cell_type": "code",
   "execution_count": 120,
   "metadata": {
    "collapsed": false
   },
   "outputs": [
    {
     "data": {
      "text/plain": [
       "{'Cheese': {'American': 4.8, 'Cheddar': 3.59},\n",
       " 'Eggs': 1.99,\n",
       " 'Honey': 3.49,\n",
       " 'Lobster': 'Market Price',\n",
       " 'Milk': 3.19,\n",
       " 'Yogurt': {'Regular': 2.35, 'Sale': 1.49}}"
      ]
     },
     "execution_count": 120,
     "metadata": {},
     "output_type": "execute_result"
    }
   ],
   "source": [
    "## INSTRUCTION SOLUTION(S) ##\n",
    "del grocery_prices['Cheese']['Swiss']\n",
    "grocery_prices"
   ]
  },
  {
   "cell_type": "markdown",
   "metadata": {},
   "source": [
    "<hr> <a id=\"codeflow\"></a>\n",
    "## 8.6. Flow Control"
   ]
  },
  {
   "cell_type": "markdown",
   "metadata": {},
   "source": [
    "<a id=\"if\"></a>\n",
    "### 8.6.1. If Statements\n",
    "\n",
    "The <font color=green>**if**</font> statement is used for conditional execution. Here's the basic structure of an <font color=green>**if**</font> block.\n",
    "```python\n",
    "if boolean_test_expression:\n",
    "    do_something()\n",
    "elif second_boolean_test_expression:\n",
    "    do_something_else()\n",
    "else:\n",
    "    do_a_third_thing()\n",
    "```"
   ]
  },
  {
   "cell_type": "markdown",
   "metadata": {},
   "source": [
    "Let's look at a simple example. The below code checks the value of `stock_price` and prints a message depending on its value."
   ]
  },
  {
   "cell_type": "code",
   "execution_count": 121,
   "metadata": {
    "collapsed": false
   },
   "outputs": [
    {
     "name": "stdout",
     "output_type": "stream",
     "text": [
      "BUY!\n"
     ]
    }
   ],
   "source": [
    "stock_price = 14000\n",
    "\n",
    "if stock_price > 20000:\n",
    "    print('SELL!')\n",
    "    \n",
    "elif stock_price < 15000:\n",
    "    print('BUY!')\n",
    "    \n",
    "else:\n",
    "    print('Do Nothing.')"
   ]
  },
  {
   "cell_type": "markdown",
   "metadata": {},
   "source": [
    "We can add as many `elif` statements as we want to an `if` block. But remember, only one clause in an `if` block will execute. When a clause evaluates to `True` and its code is run, all subsequent clauses are skipped."
   ]
  },
  {
   "cell_type": "code",
   "execution_count": 122,
   "metadata": {
    "collapsed": false
   },
   "outputs": [
    {
     "name": "stdout",
     "output_type": "stream",
     "text": [
      "Student got a B\n"
     ]
    }
   ],
   "source": [
    "grade = 86\n",
    "\n",
    "if 60 <= grade < 70:\n",
    "    print('Student got a D')\n",
    "    \n",
    "elif 70 <= grade < 80:\n",
    "    print('Student got a C')\n",
    "    \n",
    "elif 80 <= grade < 90:\n",
    "    print('Student got a B')\n",
    "    \n",
    "elif grade >= 90:\n",
    "    print('Student got a A')\n",
    "    \n",
    "else:\n",
    "    print('Student did not pass')"
   ]
  },
  {
   "cell_type": "code",
   "execution_count": 123,
   "metadata": {
    "collapsed": true
   },
   "outputs": [],
   "source": [
    "## Try some code ideas here ##"
   ]
  },
  {
   "cell_type": "markdown",
   "metadata": {},
   "source": [
    "#### 8.6.1.1 Flow Control Exercise\n",
    "\n",
    "Create an <b><font color=\"green\">if</font></b> block (using <b><font color=\"green\">if</font></b>, <b><font color=\"green\">elif</font></b>, and/or <b><font color=\"green\">else</font></b> statements as needed) that will evaluate as follows:\n",
    "\n",
    " |Variable Values|Print|\n",
    " |:-------------:|:----:|\n",
    " | \"sunny\" and \"weekday\"| \"Have lunch outside.\"|\n",
    " | \"rainy\" and \"weekday\"| \"Sigh and eat at your desk.\"|\n",
    " | \"sunny\" and \"weekend\"| \"Go on a hike.\"|\n",
    " | \"rainy\" and \"weekend\"| \"Play board games with friends.\"|\n",
    " | any other weather and \"weekday\"| \"Go to work.\"|\n",
    " | any other weather and \"weekend\"| \"Stay home and read.\"|"
   ]
  },
  {
   "cell_type": "code",
   "execution_count": 124,
   "metadata": {
    "collapsed": true
   },
   "outputs": [],
   "source": [
    "## YOUR CODE GOES HERE ##"
   ]
  },
  {
   "cell_type": "code",
   "execution_count": 125,
   "metadata": {
    "collapsed": false
   },
   "outputs": [
    {
     "name": "stdout",
     "output_type": "stream",
     "text": [
      "Have lunch outside.\n"
     ]
    }
   ],
   "source": [
    "## INSTRUCTION SOLUTION(S) ##\n",
    "weather = 'sunny'\n",
    "day_of_week = 'weekday'\n",
    "\n",
    "if weather.lower() == 'sunny':\n",
    "    \n",
    "    if day_of_week.lower() == 'weekday':\n",
    "        print('Have lunch outside.')\n",
    "    elif day_of_week.lower() == 'weekend':\n",
    "        print('Go on a hike.')\n",
    "    else:\n",
    "        print('Invalid input...')\n",
    "        \n",
    "elif weather.lower() == 'rainy':\n",
    "    \n",
    "    if day_of_week.lower() == 'weekday':\n",
    "        print('Sigh and eat at your desk.')\n",
    "    elif day_of_week.lower() == 'weekend':\n",
    "        print('Play board games with friends.')\n",
    "    else:\n",
    "        print('Invalid input...')\n",
    "        \n",
    "else:\n",
    "    if day_of_week.lower() == 'weekday':\n",
    "        print('Go to work.')\n",
    "    elif day_of_week.lower() == 'weekend':\n",
    "        print('Stay home and read.')\n",
    "    else:\n",
    "        print('Invalid input...')"
   ]
  },
  {
   "cell_type": "markdown",
   "metadata": {},
   "source": [
    "<hr> <a id=\"for\"></a>\n",
    "### 8.6.2. For Loops\n",
    "\n",
    "The <font color=green>**for**</font> statement allows you to iterate over the elements of a sequence (such as a string, tuple or list) or other collection like a dictionary. The basic structure of a <font color=green>**for**</font> loop is below.\n",
    "```python\n",
    "for item in collection_of_items:\n",
    "    do_something()\n",
    "```"
   ]
  },
  {
   "cell_type": "markdown",
   "metadata": {},
   "source": [
    "See the simple example below. We begin with a list of strings, then loop over each string and print it five times."
   ]
  },
  {
   "cell_type": "code",
   "execution_count": 126,
   "metadata": {
    "collapsed": false
   },
   "outputs": [
    {
     "name": "stdout",
     "output_type": "stream",
     "text": [
      "aaaaa\n",
      "bbbbb\n",
      "ccccc\n",
      "ddddd\n",
      "eeeee\n",
      "fffff\n",
      "ggggg\n",
      "hhhhh\n",
      "iiiii\n",
      "jjjjj\n",
      "kkkkk\n",
      "lllll\n",
      "mmmmm\n",
      "nnnnn\n",
      "ooooo\n",
      "ppppp\n",
      "qqqqq\n",
      "rrrrr\n",
      "sssss\n",
      "ttttt\n",
      "uuuuu\n",
      "vvvvv\n",
      "wwwww\n",
      "xxxxx\n",
      "yyyyy\n",
      "zzzzz\n"
     ]
    }
   ],
   "source": [
    "letter_list = ['A', 'B', 'C', 'D', 'E', 'F', 'G', 'H', 'I', 'J', 'K', 'L', 'M', 'N', 'O', 'P', 'Q', 'R', 'S', 'T', 'U', 'V', 'W', 'X', 'Y', 'Z']\n",
    "\n",
    "for letter in letter_list:\n",
    "    print(letter.lower() * 5)"
   ]
  },
  {
   "cell_type": "code",
   "execution_count": 127,
   "metadata": {
    "collapsed": true
   },
   "outputs": [],
   "source": [
    "## Try some code ideas here ##"
   ]
  },
  {
   "cell_type": "markdown",
   "metadata": {},
   "source": [
    "#### 8.6.2.1 For Loops Exercises\n",
    "Exercise 1. Write a <b><font color=\"green\">for</font></b> loop that will iterate through the list of letters below and print only the vowels."
   ]
  },
  {
   "cell_type": "code",
   "execution_count": 128,
   "metadata": {
    "collapsed": true
   },
   "outputs": [],
   "source": [
    "letter_list = ['A', 'B', 'C', 'D', 'E', 'F', 'G', 'H', 'I', 'J', 'K', 'L', 'M', 'N', 'O', 'P', 'Q', 'R', 'S', 'T', 'U', 'V', 'W', 'X', 'Y', 'Z']"
   ]
  },
  {
   "cell_type": "code",
   "execution_count": 129,
   "metadata": {
    "collapsed": true
   },
   "outputs": [],
   "source": [
    "## YOUR CODE GOES HERE ##"
   ]
  },
  {
   "cell_type": "code",
   "execution_count": 130,
   "metadata": {
    "collapsed": false,
    "scrolled": true
   },
   "outputs": [
    {
     "name": "stdout",
     "output_type": "stream",
     "text": [
      "A\n",
      "E\n",
      "I\n",
      "O\n",
      "U\n"
     ]
    }
   ],
   "source": [
    "## INSTRUCTION SOLUTION(S) ##\n",
    "vowels = ['A', 'E', 'I', 'O', 'U']\n",
    "\n",
    "for letter in letter_list:\n",
    "    \n",
    "    if letter in vowels:\n",
    "        print(letter)"
   ]
  },
  {
   "cell_type": "markdown",
   "metadata": {},
   "source": [
    "Exercise 2. Create a <b><font color=\"green\">for</font></b> loop that will print the names of animals from `my_animals` that eat `'Shrubbery'`."
   ]
  },
  {
   "cell_type": "code",
   "execution_count": 131,
   "metadata": {
    "collapsed": true
   },
   "outputs": [],
   "source": [
    "my_animals = [{'Name': 'Giraffe', 'Weight': '2600', 'Diet': 'Shrubbery', 'Average Lifespan': '25'}, \n",
    "              {'Name': 'Moose', 'Weight': '1300', 'Diet': 'Shrubbery', 'Average Lifespan': '20'}, \n",
    "              {'Name': 'Giant Panda', 'Weight': '220', 'Diet': 'Bamboo', 'Average Lifespan': '20'}, \n",
    "              {'Name': 'Red Panda', 'Weight': '14', 'Diet': 'Bamboo', 'Average Lifespan': '14'}, \n",
    "              {'Name': 'Hippopotamus', 'Weight': '3800', 'Diet': 'Grass', 'Average Lifespan': '45'}, \n",
    "              {'Name': 'Lion', 'Weight': '400', 'Diet': 'Gazelle', 'Average Lifespan': '12'}, \n",
    "              {'Name': 'Tortoise', 'Weight': '100', 'Diet': 'Grass', 'Average Lifespan': '100'}]"
   ]
  },
  {
   "cell_type": "code",
   "execution_count": 132,
   "metadata": {
    "collapsed": true
   },
   "outputs": [],
   "source": [
    "## YOUR CODE GOES HERE ##"
   ]
  },
  {
   "cell_type": "code",
   "execution_count": 133,
   "metadata": {
    "collapsed": false
   },
   "outputs": [
    {
     "name": "stdout",
     "output_type": "stream",
     "text": [
      "Giraffe\n",
      "Moose\n"
     ]
    }
   ],
   "source": [
    "## INSTRUCTION SOLUTION(S) ##\n",
    "for animal in my_animals:\n",
    "    \n",
    "    if animal['Diet'] == 'Shrubbery':\n",
    "        print(animal['Name'])"
   ]
  },
  {
   "cell_type": "markdown",
   "metadata": {},
   "source": [
    "<hr> <a id=\"while\"></a>\n",
    "### 8.6.3. While Loops\n",
    "\n",
    "The <b><font color=\"green\">while</font></b> loop repeats a statement or group of statements while a given Boolean test expression is <b><font color=\"green\">True</font></b>. The <b><font color=\"green\">while</font></b> loop tests the Boolean test expression before executing the loop body, as illustrated in the graphic.\n",
    "\n",
    "<img src=\"./GRAPHICS/While_Loop.png\" width=\"33%\"><br>\n",
    "\n",
    "The code below shows the basic template for a <b><font color=\"green\">while</font></b> loop. Once the Boolean expression becomes <b><font color=\"green\">False</font></b>, the loop is terminated.\n",
    "\n",
    "```python\n",
    "while boolean_expression:\n",
    "    do_something()\n",
    "```"
   ]
  },
  {
   "cell_type": "markdown",
   "metadata": {},
   "source": [
    "Here's a simple example. We initialize our `count` variable as `0`. Then we jump into a `while` loop that checks if `count` is not equal to `10`. If that is true, our code prints the value of `count` to the screen and then increments `count` by `1`. Try to guess what the output will look like before running the cell below."
   ]
  },
  {
   "cell_type": "code",
   "execution_count": 134,
   "metadata": {
    "collapsed": false
   },
   "outputs": [
    {
     "name": "stdout",
     "output_type": "stream",
     "text": [
      "0\n",
      "1\n",
      "2\n",
      "3\n",
      "4\n",
      "5\n",
      "6\n",
      "7\n",
      "8\n",
      "9\n"
     ]
    }
   ],
   "source": [
    "count = 0\n",
    "\n",
    "while count != 10:\n",
    "    print(count)\n",
    "    count += 1"
   ]
  },
  {
   "cell_type": "markdown",
   "metadata": {},
   "source": [
    "Here's a more complicated example. Try to read the code below and guess what the output will be before running it."
   ]
  },
  {
   "cell_type": "code",
   "execution_count": 135,
   "metadata": {
    "collapsed": false
   },
   "outputs": [
    {
     "name": "stdout",
     "output_type": "stream",
     "text": [
      "boolean_val: False.\n",
      "boolean_val: False.\n",
      "boolean_val: False.\n",
      "boolean_val: False.\n",
      "boolean_val: False.\n",
      "boolean_val: False.\n",
      "boolean_val: False.\n",
      "boolean_val: False.\n",
      "boolean_val: False.\n",
      "boolean_val: False.\n",
      "boolean_val: True.\n"
     ]
    }
   ],
   "source": [
    "count = 0\n",
    "boolean_val = False\n",
    "\n",
    "while boolean_val == False:\n",
    "    \n",
    "    if count == 10:\n",
    "        boolean_val = True\n",
    "        print('boolean_val: True.')\n",
    "        \n",
    "    else:\n",
    "        count = count + 1\n",
    "        print('boolean_val: False.')"
   ]
  },
  {
   "cell_type": "code",
   "execution_count": 136,
   "metadata": {
    "collapsed": true
   },
   "outputs": [],
   "source": [
    "## Try some code ideas here ##"
   ]
  },
  {
   "cell_type": "markdown",
   "metadata": {},
   "source": [
    "#### 8.6.3.1 While Loops Exercise\n",
    "\n",
    "Given a list of numbers sorted in ascending order, count how many numbers in the list are less than `1000`.\n",
    "```python\n",
    "nums_list = [16, 46, 48, 50, 78, 94, 96, 105, 109, 110, 115, 141, 141, 152, 154, 155, 180, 195, 197, 206, 225, 235, 238, 262, 278, 283, 295, 304, 310, 322, 322, 334, 352, 357, 371, 383, 388, 392, 395, 404, 412, 419, 447, 465, 480, 485, 493, 506, 514, 519, 537, 539, 553, 555, 567, 572, 600, 612, 614, 614, 615, 629, 648, 652, 653, 660, 674, 695, 709, 710, 714, 729, 746, 763, 769, 783, 788, 793, 821, 832, 833, 843, 847, 863, 866, 875, 891, 899, 904, 915, 916, 926, 968, 969, 973, 980, 982, 986, 1003, 1017, 1037, 1041, 1048, 1052, 1065, 1071, 1073, 1090, 1096, 1105, 1124, 1142, 1148, 1155, 1157, 1160, 1187, 1198, 1207, 1210, 1229, 1252, 1257, 1258, 1267, 1272, 1272, 1289, 1309, 1319, 1321, 1330, 1352, 1352, 1363, 1371, 1384, 1393, 1401, 1422, 1435, 1439, 1446, 1447, 1454, 1486, 1492, 1495, 1505, 1509]\n",
    "```\n",
    "HINT: the answer is 98."
   ]
  },
  {
   "cell_type": "code",
   "execution_count": 137,
   "metadata": {
    "collapsed": true
   },
   "outputs": [],
   "source": [
    "nums_list = [16, 46, 48, 50, 78, 94, 96, 105, 109, 110, 115, 141, 141, 152, 154, 155, 180, 195, 197, 206, 225, 235, 238, 262, 278, 283, 295, 304, 310, 322, 322, 334, 352, 357, 371, 383, 388, 392, 395, 404, 412, 419, 447, 465, 480, 485, 493, 506, 514, 519, 537, 539, 553, 555, 567, 572, 600, 612, 614, 614, 615, 629, 648, 652, 653, 660, 674, 695, 709, 710, 714, 729, 746, 763, 769, 783, 788, 793, 821, 832, 833, 843, 847, 863, 866, 875, 891, 899, 904, 915, 916, 926, 968, 969, 973, 980, 982, 986, 1003, 1017, 1037, 1041, 1048, 1052, 1065, 1071, 1073, 1090, 1096, 1105, 1124, 1142, 1148, 1155, 1157, 1160, 1187, 1198, 1207, 1210, 1229, 1252, 1257, 1258, 1267, 1272, 1272, 1289, 1309, 1319, 1321, 1330, 1352, 1352, 1363, 1371, 1384, 1393, 1401, 1422, 1435, 1439, 1446, 1447, 1454, 1486, 1492, 1495, 1505, 1509]"
   ]
  },
  {
   "cell_type": "code",
   "execution_count": 138,
   "metadata": {
    "collapsed": true,
    "scrolled": true
   },
   "outputs": [],
   "source": [
    "## YOUR CODE GOES HERE ##"
   ]
  },
  {
   "cell_type": "code",
   "execution_count": 139,
   "metadata": {
    "collapsed": false
   },
   "outputs": [
    {
     "data": {
      "text/plain": [
       "98"
      ]
     },
     "execution_count": 139,
     "metadata": {},
     "output_type": "execute_result"
    }
   ],
   "source": [
    "## INSTRUCTION SOLUTION(S) ##\n",
    "\n",
    "count = 0\n",
    "\n",
    "for num in nums_list:\n",
    "    \n",
    "    if num < 1000:\n",
    "        count += 1\n",
    "\n",
    "count"
   ]
  },
  {
   "cell_type": "markdown",
   "metadata": {},
   "source": [
    "<hr> <a id=\"break\"></a>\n",
    "### 8.6.4. Break and Continue\n",
    "\n",
    "The <font color=green>**break**</font> statement in Python terminates the `for` or `while` loop that the <font color=green>**break**</font> statement is contained in, and resumes execution at the next statement in the script.\n",
    "\n",
    "![](./GRAPHICS/break.png) "
   ]
  },
  {
   "cell_type": "markdown",
   "metadata": {},
   "source": [
    "Another flow control statement is <font color=green>**continue**</font>. This statement tells Python to skip any code following it in the current loop, and begin the next loop iteration. This is useful if you want to bypass a certain item in your sequence, but don't want to exit the loop entirely.\n",
    "\n",
    "![](./GRAPHICS/continue.png)"
   ]
  },
  {
   "cell_type": "markdown",
   "metadata": {},
   "source": [
    "Let's take the same loop and insert a `break` and `continue` statement to demonstrate the difference between how they affect the code flow."
   ]
  },
  {
   "cell_type": "code",
   "execution_count": 140,
   "metadata": {
    "collapsed": false
   },
   "outputs": [
    {
     "name": "stdout",
     "output_type": "stream",
     "text": [
      "count: 9\n",
      "count: 8\n",
      "Done!\n"
     ]
    }
   ],
   "source": [
    "count = 10\n",
    "\n",
    "while count > 0:\n",
    "    count -= 1\n",
    "    \n",
    "    if count == 7:\n",
    "        break\n",
    "        \n",
    "    print('count:', count)\n",
    "    \n",
    "print('Done!')"
   ]
  },
  {
   "cell_type": "markdown",
   "metadata": {},
   "source": [
    "Note the difference in output between the above and below code cells. The `continue` command skips an iteration but does not exit the entire loop."
   ]
  },
  {
   "cell_type": "code",
   "execution_count": 141,
   "metadata": {
    "collapsed": false
   },
   "outputs": [
    {
     "name": "stdout",
     "output_type": "stream",
     "text": [
      "count: 9\n",
      "count: 8\n",
      "count: 6\n",
      "count: 5\n",
      "count: 4\n",
      "count: 3\n",
      "count: 2\n",
      "count: 1\n",
      "count: 0\n",
      "Done!\n"
     ]
    }
   ],
   "source": [
    "count = 10\n",
    "\n",
    "while count > 0:\n",
    "    count -= 1\n",
    "    \n",
    "    if count == 7:\n",
    "        continue\n",
    "        \n",
    "    print('count:', count)\n",
    "    \n",
    "print('Done!')"
   ]
  },
  {
   "cell_type": "code",
   "execution_count": 142,
   "metadata": {
    "collapsed": true
   },
   "outputs": [],
   "source": [
    "## Try some code ideas here ##"
   ]
  },
  {
   "cell_type": "markdown",
   "metadata": {},
   "source": [
    "#### 8.6.4.1 Break and Continue Exercises\n",
    "\n",
    "Exercise 1. Edit your code from the While Loop Exercise in the previous section. Add a `break` statement to halt the execution of your loop once you reach a number that is greater or equal to `1000`. (The series is increasing, there's no need to keep checking numbers after that.)"
   ]
  },
  {
   "cell_type": "code",
   "execution_count": 143,
   "metadata": {
    "collapsed": true
   },
   "outputs": [],
   "source": [
    "nums_list = [16, 46, 48, 50, 78, 94, 96, 105, 109, 110, 115, 141, 141, 152, 154, 155, 180, 195, 197, 206, 225, 235, 238, 262, 278, 283, 295, 304, 310, 322, 322, 334, 352, 357, 371, 383, 388, 392, 395, 404, 412, 419, 447, 465, 480, 485, 493, 506, 514, 519, 537, 539, 553, 555, 567, 572, 600, 612, 614, 614, 615, 629, 648, 652, 653, 660, 674, 695, 709, 710, 714, 729, 746, 763, 769, 783, 788, 793, 821, 832, 833, 843, 847, 863, 866, 875, 891, 899, 904, 915, 916, 926, 968, 969, 973, 980, 982, 986, 1003, 1017, 1037, 1041, 1048, 1052, 1065, 1071, 1073, 1090, 1096, 1105, 1124, 1142, 1148, 1155, 1157, 1160, 1187, 1198, 1207, 1210, 1229, 1252, 1257, 1258, 1267, 1272, 1272, 1289, 1309, 1319, 1321, 1330, 1352, 1352, 1363, 1371, 1384, 1393, 1401, 1422, 1435, 1439, 1446, 1447, 1454, 1486, 1492, 1495, 1505, 1509]"
   ]
  },
  {
   "cell_type": "code",
   "execution_count": 144,
   "metadata": {
    "collapsed": true
   },
   "outputs": [],
   "source": [
    "## YOUR CODE GOES HERE ##"
   ]
  },
  {
   "cell_type": "code",
   "execution_count": 145,
   "metadata": {
    "collapsed": false,
    "scrolled": true
   },
   "outputs": [
    {
     "data": {
      "text/plain": [
       "98"
      ]
     },
     "execution_count": 145,
     "metadata": {},
     "output_type": "execute_result"
    }
   ],
   "source": [
    "## INSTRUCTION SOLUTION(S) ##\n",
    "count = 0\n",
    "\n",
    "for num in nums_list:\n",
    "    \n",
    "    if num < 1000:\n",
    "        count += 1\n",
    "        \n",
    "    else:\n",
    "        break\n",
    "\n",
    "count"
   ]
  },
  {
   "cell_type": "markdown",
   "metadata": {},
   "source": [
    "Exercise 2. You are given a list of codes that have a mix of alphabetical, numerical, and special characters. From this list, create a new list of only the codes where every character is alphabetical. Use `continue` to skip items that fail to meet the condition.\n",
    "```python\n",
    "codes_list = ['hQ ', '~$\"', 'x%[', '#^l', 'N]\\x0c', 'Yd\\\\', '.D>', '/{$', '_d]', '|0-', 'gmY', '+\\\\J', 'l@G', 'GOx', 'X\"#', '1>G', 'P1#', 'f+0', 'tma', 'A<|', '-D]', '?u{', ' TW', '}.Q', 'K$E', '[8|', '~r+', '6@J', 'O=4', '{,]', '\\t+w', 'z9!', 'NQh', ',H/', 'E5s', 'lgd', 'K\\tk', '4Qd', '\\nvd', \"P.'\"]\n",
    "\n",
    "## Expected Output: `['gmY', 'GOx', 'tma', 'NQh', 'lgd']` ##\n",
    "```\n",
    "HINT: For each item in the list, use the string method `.isalpha()` to determine if every character is alphabetical."
   ]
  },
  {
   "cell_type": "code",
   "execution_count": 146,
   "metadata": {
    "collapsed": true
   },
   "outputs": [],
   "source": [
    "codes_list = ['hQ ', '~$\"', 'x%[', '#^l', 'N]\\x0c', 'Yd\\\\', '.D>', '/{$', '_d]', '|0-', 'gmY', '+\\\\J', 'l@G', 'GOx', 'X\"#', '1>G', 'P1#', 'f+0', 'tma', 'A<|', '-D]', '?u{', ' TW', '}.Q', 'K$E', '[8|', '~r+', '6@J', 'O=4', '{,]', '\\t+w', 'z9!', 'NQh', ',H/', 'E5s', 'lgd', 'K\\tk', '4Qd', '\\nvd', \"P.'\"]"
   ]
  },
  {
   "cell_type": "code",
   "execution_count": 147,
   "metadata": {
    "collapsed": true
   },
   "outputs": [],
   "source": [
    "## YOUR CODE GOES HERE ##"
   ]
  },
  {
   "cell_type": "code",
   "execution_count": 148,
   "metadata": {
    "collapsed": false
   },
   "outputs": [
    {
     "data": {
      "text/plain": [
       "['gmY', 'GOx', 'tma', 'NQh', 'lgd']"
      ]
     },
     "execution_count": 148,
     "metadata": {},
     "output_type": "execute_result"
    }
   ],
   "source": [
    "## INSTRUCTION SOLUTION(S) ##\n",
    "new_list = []\n",
    "\n",
    "for item in codes_list:\n",
    "    \n",
    "    if not item.isalpha():\n",
    "        continue\n",
    "        \n",
    "    new_list.append(item)\n",
    "    \n",
    "new_list"
   ]
  },
  {
   "cell_type": "markdown",
   "metadata": {},
   "source": [
    "Exercise 3. Create a <b><font color=\"green\">while</font></b> loop that will validate a user's input. First get an input from the keyboard. You can assume your input will be numeric, i.e. only digits will be included. However, you can't assume that your input will be in the range of acceptable values. If the input is not between `1` and `25` (inclusive), ask for the input again. Otherwise, print the input integer raised to the power of three (aka \"cubed\") and exit the loop."
   ]
  },
  {
   "cell_type": "code",
   "execution_count": 149,
   "metadata": {
    "collapsed": true
   },
   "outputs": [],
   "source": [
    "## YOUR CODE GOES HERE ##"
   ]
  },
  {
   "cell_type": "code",
   "execution_count": 150,
   "metadata": {
    "collapsed": false
   },
   "outputs": [
    {
     "name": "stdout",
     "output_type": "stream",
     "text": [
      "Please give an integer between 1 and 25. 24\n",
      "Your number cubed is: 13824\n"
     ]
    }
   ],
   "source": [
    "## INSTRUCTION SOLUTION(S) ##\n",
    "\n",
    "while True: \n",
    "    \n",
    "    your_num = int(input('Please give an integer between 1 and 25. '))\n",
    "    \n",
    "    if 1 <= your_num <= 25:\n",
    "        print('Your number cubed is:', your_num ** 3)\n",
    "        break"
   ]
  },
  {
   "cell_type": "markdown",
   "metadata": {},
   "source": [
    "<hr>\n",
    "<a id=\"function\"></a>\n",
    "### 8.6.5. Functions\n",
    "\n",
    "Functions in Python are blocks of code that you can call and execute just by typing their name. Functions better organize your code and increase readability and reusability. The basic structure of a Python function is as follows:\n",
    "\n",
    "```Python        \n",
    "def function_name():\n",
    "    print('Test')\n",
    " ```  \n",
    "Once you have defined a function, you can execute it by using the syntax below. Note that the parentheses are required.\n",
    "        \n",
    "```Python\n",
    "function_name()\n",
    "```     "
   ]
  },
  {
   "cell_type": "markdown",
   "metadata": {},
   "source": [
    "We've used functions that are pre-defined for us, either by being built into Python or included in some library. The `print()` function is a built-in function in Python and the `.upper()` function belongs to the String library for example. But we can also define our own functions. Below we define a function called `say_goodmorning`."
   ]
  },
  {
   "cell_type": "code",
   "execution_count": 151,
   "metadata": {
    "collapsed": true
   },
   "outputs": [],
   "source": [
    "def say_goodmorning(name):\n",
    "    print('Good morning, ' + name + '!')"
   ]
  },
  {
   "cell_type": "markdown",
   "metadata": {},
   "source": [
    "To call a defined function, simply type the function's name and a set of parentheses containing any arguments the function requires."
   ]
  },
  {
   "cell_type": "code",
   "execution_count": 152,
   "metadata": {
    "collapsed": false,
    "scrolled": true
   },
   "outputs": [
    {
     "name": "stdout",
     "output_type": "stream",
     "text": [
      "Good morning, John!\n"
     ]
    }
   ],
   "source": [
    "say_goodmorning('John')"
   ]
  },
  {
   "cell_type": "markdown",
   "metadata": {},
   "source": [
    "Functions can contain as many arguments as you want. The function below takes three arguments."
   ]
  },
  {
   "cell_type": "code",
   "execution_count": 153,
   "metadata": {
    "collapsed": true
   },
   "outputs": [],
   "source": [
    "def say_goodmorning_2(fname, lname, age):\n",
    "    print('Good morning,', fname, lname)\n",
    "    print('You are', age, 'years old.')"
   ]
  },
  {
   "cell_type": "code",
   "execution_count": 154,
   "metadata": {
    "collapsed": false
   },
   "outputs": [
    {
     "name": "stdout",
     "output_type": "stream",
     "text": [
      "Good morning, John Doe\n",
      "You are 40 years old.\n"
     ]
    }
   ],
   "source": [
    "say_goodmorning_2('John', 'Doe', 40)"
   ]
  },
  {
   "cell_type": "code",
   "execution_count": 155,
   "metadata": {
    "collapsed": true
   },
   "outputs": [],
   "source": [
    "## Try some code ideas here ##"
   ]
  },
  {
   "cell_type": "markdown",
   "metadata": {},
   "source": [
    "<hr>\n",
    "#### 8.6.5.1. The Return Statement\n",
    "The <b><font color=\"green\">return</font></b> statement exits a function, optionally passing back values into the script. A <b><font color=\"green\">return</font></b> statement with nothing following it is the same as <b><font color=\"green\">return None</font></b>. If a function returns `None`, you won't be able to do anything with data created inside the function once the function is done executing. Below we define a function that returns `None`. When we try to print the output of the function, we can see that `None` is the result. The variable we created inside the function is not available."
   ]
  },
  {
   "cell_type": "code",
   "execution_count": 156,
   "metadata": {
    "collapsed": true
   },
   "outputs": [],
   "source": [
    "def squared(number):\n",
    "    result = number * number"
   ]
  },
  {
   "cell_type": "code",
   "execution_count": 157,
   "metadata": {
    "collapsed": false
   },
   "outputs": [
    {
     "name": "stdout",
     "output_type": "stream",
     "text": [
      "None\n"
     ]
    }
   ],
   "source": [
    "print(squared(50))"
   ]
  },
  {
   "cell_type": "markdown",
   "metadata": {},
   "source": [
    "Let's add a <b><font color=\"green\">return</font></b> statement and try again."
   ]
  },
  {
   "cell_type": "code",
   "execution_count": 158,
   "metadata": {
    "collapsed": true
   },
   "outputs": [],
   "source": [
    "def squared(number):\n",
    "    result = number * number\n",
    "    return result"
   ]
  },
  {
   "cell_type": "code",
   "execution_count": 159,
   "metadata": {
    "collapsed": false,
    "scrolled": true
   },
   "outputs": [
    {
     "name": "stdout",
     "output_type": "stream",
     "text": [
      "2500\n"
     ]
    }
   ],
   "source": [
    "print(squared(50))"
   ]
  },
  {
   "cell_type": "markdown",
   "metadata": {},
   "source": [
    "Passing our function's output into the `print()` function simply shows us what our function returns to our script. But more often, you'll be passing this output into variables or other functions. The <b><font color=\"green\">return</font></b> statement is how you make your functions talk to each other or to our larger scripts. For example, below we call our custom function `squared` inside of `math.sqrt`:"
   ]
  },
  {
   "cell_type": "code",
   "execution_count": 160,
   "metadata": {
    "collapsed": false
   },
   "outputs": [
    {
     "data": {
      "text/plain": [
       "50.0"
      ]
     },
     "execution_count": 160,
     "metadata": {},
     "output_type": "execute_result"
    }
   ],
   "source": [
    "import math\n",
    "\n",
    "math.sqrt(squared(50))"
   ]
  },
  {
   "cell_type": "markdown",
   "metadata": {},
   "source": [
    "In the following example, we call `squared` in both the `if` statement and the `print()` statement."
   ]
  },
  {
   "cell_type": "code",
   "execution_count": 161,
   "metadata": {
    "collapsed": false
   },
   "outputs": [
    {
     "name": "stdout",
     "output_type": "stream",
     "text": [
      "2500, what a large result!\n"
     ]
    }
   ],
   "source": [
    "n = 50\n",
    "\n",
    "if squared(n) > 1000:\n",
    "    print(str(squared(n)) + ', what a large result!')"
   ]
  },
  {
   "cell_type": "code",
   "execution_count": 162,
   "metadata": {
    "collapsed": true
   },
   "outputs": [],
   "source": [
    "## Try some code ideas here ##"
   ]
  },
  {
   "cell_type": "markdown",
   "metadata": {},
   "source": [
    "<hr>\n",
    "#### 8.6.5.2. Namespaces\n",
    "\n",
    "Variables in Python exist in *namespaces*, and a function has its own namespace that is separate from the larger script. Practically speaking, this means variables created inside functions are only accessible inside those functions unless they are returned by the function and assigned to a *global* variable. A variable's *scope* is defined by everywhere it can be accessed in your code. \n",
    "\n",
    "Scope determines:\n",
    "* What segments of your code have access to a variable\n",
    "* What value the variable will map to when called  \n",
    "* What will be impacted when that variable is edited"
   ]
  },
  {
   "cell_type": "markdown",
   "metadata": {},
   "source": [
    "The example below illustrates that assigning the variable `temp` inside the function `function_namespace()` does not affect the global variable `temp`. Run the code cells below to see it in action!"
   ]
  },
  {
   "cell_type": "code",
   "execution_count": 163,
   "metadata": {
    "collapsed": true
   },
   "outputs": [],
   "source": [
    "def function_namespace():\n",
    "    temp = \"I'm local.\"\n",
    "    print(temp)"
   ]
  },
  {
   "cell_type": "code",
   "execution_count": 164,
   "metadata": {
    "collapsed": false
   },
   "outputs": [
    {
     "name": "stdout",
     "output_type": "stream",
     "text": [
      "I'm global!\n",
      "I'm local.\n",
      "I'm global!\n"
     ]
    }
   ],
   "source": [
    "temp = \"I'm global!\"\n",
    "print(temp)\n",
    "\n",
    "function_namespace()\n",
    "\n",
    "print(temp)"
   ]
  },
  {
   "cell_type": "markdown",
   "metadata": {},
   "source": [
    "We see that `temp` still has its global value even after we call `function_namespace`, which assigns its own variable `temp` a different value and prints it to the screen. How could you change the code cells above to make `function_namespace` overwrite the global `temp` with its new value?"
   ]
  },
  {
   "cell_type": "code",
   "execution_count": 165,
   "metadata": {
    "collapsed": true
   },
   "outputs": [],
   "source": [
    "## Try some code ideas here ##"
   ]
  },
  {
   "cell_type": "markdown",
   "metadata": {},
   "source": [
    "#### 8.6.5.3. Functions Exercise\n",
    "\n",
    "Assign your height in feet and inches to a list in the format: `[feet, inches]`.  Write a function that takes your list as an argument (i.e., an input) and returns your total height in inches. Use this function to store your height in inches to a global variable."
   ]
  },
  {
   "cell_type": "code",
   "execution_count": 166,
   "metadata": {
    "collapsed": true
   },
   "outputs": [],
   "source": [
    "## YOUR CODE GOES HERE ##"
   ]
  },
  {
   "cell_type": "code",
   "execution_count": 167,
   "metadata": {
    "collapsed": false,
    "scrolled": true
   },
   "outputs": [
    {
     "name": "stdout",
     "output_type": "stream",
     "text": [
      "74\n"
     ]
    }
   ],
   "source": [
    "## INSTRUCTION SOLUTION(S) ##\n",
    "height = [6, 2]\n",
    "\n",
    "def height_inches(height):\n",
    "    return(height[0] * 12 + height[1])\n",
    "\n",
    "inch_height = height_inches(height)\n",
    "print(inch_height)"
   ]
  },
  {
   "cell_type": "markdown",
   "metadata": {},
   "source": [
    "<hr> <a id=\"GettingData\"></a>\n",
    "## 8.7. Getting Data\n",
    "<a id=\"Prompt\"></a>\n",
    "### 8.7.1. Entering Data from the Prompt\n",
    "\n",
    "Python's built-in `input()` function allows the user to input values from the keyboard in a Python script. The syntax to use `input()` is below:\n",
    "```python\n",
    "name = input(optional_text_prompt)\n",
    "```    \n",
    "In the example above, the `input()` function will prompt the user for input and assign that input as a string to the variable `name`."
   ]
  },
  {
   "cell_type": "code",
   "execution_count": 168,
   "metadata": {
    "collapsed": false,
    "scrolled": true
   },
   "outputs": [
    {
     "name": "stdout",
     "output_type": "stream",
     "text": [
      "Please enter your name: \n",
      "\n",
      "Hello ! Your name spelled backwards is \n"
     ]
    }
   ],
   "source": [
    "name = input('Please enter your name: ')\n",
    "\n",
    "print('\\nHello ' + name + '! Your name spelled backwards is ' \n",
    "      + name[::-1].title())"
   ]
  },
  {
   "cell_type": "markdown",
   "metadata": {},
   "source": [
    "You can also cast an input to a numerical data type, e.g. an integer, by wrapping the `input()` function in a casting function. But make sure that you make it clear to the user that you expect a numerical input. You'll get an error if the input string can't be cast to a number."
   ]
  },
  {
   "cell_type": "code",
   "execution_count": 169,
   "metadata": {
    "collapsed": false
   },
   "outputs": [
    {
     "name": "stdout",
     "output_type": "stream",
     "text": [
      "Please enter any integer: 24\n",
      "Your number squared is 576\n"
     ]
    }
   ],
   "source": [
    "number = int(input('Please enter any integer: '))\n",
    "\n",
    "print('Your number squared is', number ** 2)"
   ]
  },
  {
   "cell_type": "markdown",
   "metadata": {},
   "source": [
    "#### 8.7.1.1. Data From the Prompt Exercise\n",
    "Ask the user for their favorite number, then print their favorite number times 10."
   ]
  },
  {
   "cell_type": "code",
   "execution_count": 170,
   "metadata": {
    "collapsed": true
   },
   "outputs": [],
   "source": [
    "## YOUR CODE GOES HERE ##"
   ]
  },
  {
   "cell_type": "code",
   "execution_count": 171,
   "metadata": {
    "collapsed": false
   },
   "outputs": [
    {
     "name": "stdout",
     "output_type": "stream",
     "text": [
      "Please enter your favorite number: 15\n",
      "150\n"
     ]
    }
   ],
   "source": [
    "## INSTRUCTION SOLUTION(S) ##\n",
    "favorite_num = int(input('Please enter your favorite number: '))\n",
    "\n",
    "print(favorite_num * 10)"
   ]
  },
  {
   "cell_type": "markdown",
   "metadata": {},
   "source": [
    "<hr>\n",
    "<a id=\"Local\"></a>\n",
    "### 8.7.2. Loading a Local Data File\n",
    "\n",
    "Another method for getting data into a Python program involves reading a local file using the built-in `open()` function. We typically use the <b><font color=\"green\">with</font></b> keyword to store the open file in a temporary variable. Then we indent our code just like with <b><font color=\"green\">if</font></b> statements and loops, and the file will close automatically when the indentation ends. \n",
    "\n",
    "* To read a file, the mode is `'r'` (but this is the default value so we need not specify).\n",
    "* To write a file, the mode is `'w'`.\n",
    "\n",
    "In the following example, we read in some data and store it in our script. Remember that `.read()` always brings data in as a string."
   ]
  },
  {
   "cell_type": "code",
   "execution_count": 172,
   "metadata": {
    "collapsed": false
   },
   "outputs": [
    {
     "data": {
      "text/plain": [
       "'<?xml version=\"1.0\" encoding=\"UTF-8\"?>\\n<feed xmlns=\"http://www.w3.org/2005/Atom\" xmlns:georss=\"http://www.georss.org/georss\"><title>USGS All Earthquakes, Past Hour</title><updated>2017-08-18T02:10:18Z</updated><author><name>U.S. Geological Survey</name><uri>https://earthquake.usgs.gov/</uri></author><id>https://earthquake.usgs.gov/earthquakes/feed/v1.0/summary/all_hour.atom</id><link rel=\"self\" href=\"https://earthquake.usgs.gov/earthquakes/feed/v1.0/summary/all_hour.atom\"/><icon>https://earthquake.usgs.gov/favicon.ico</icon>\\n<entry><id>urn:earthquake-usgs-gov:us:2000a98e</id><title>M 2.5 - 81km W of Miramichi, Canada</title><updated>2017-08-18T01:47:05.040Z</updated><link rel=\"alternate\" type=\"text/html\" href=\"https://earthquake.usgs.gov/earthquakes/eventpage/us2000a98e\"/><summary type=\"html\"><![CDATA[<dl><dt>Time</dt><dd>2017-08-18 01:26:42 UTC</dd><dd>2017-08-17 21:26:42 -04:00 at epicenter</dd><dt>Location</dt><dd>46.980&deg;N 66.536&deg;W</dd><dt>Depth</dt><dd>9.00 km (5.59 mi)</dd></dl>]]></summary><georss:point>465847.64N 0663209.60W</georss:point><georss:elev>-9000</georss:elev><category label=\"Age\" term=\"Past Hour\"/><category label=\"Magnitude\" term=\"Magnitude 2\"/><category label=\"Contributor\" term=\"us\"/><category label=\"Author\" term=\"us\"/></entry>\\n</feed>'"
      ]
     },
     "execution_count": 172,
     "metadata": {},
     "output_type": "execute_result"
    }
   ],
   "source": [
    "with open('data/USGS_earthquake_data.xml') as my_file:\n",
    "    USGS_xml_data = my_file.read()\n",
    "\n",
    "USGS_xml_data"
   ]
  },
  {
   "cell_type": "code",
   "execution_count": 173,
   "metadata": {
    "collapsed": true
   },
   "outputs": [],
   "source": [
    "## Try some code ideas here ##"
   ]
  },
  {
   "cell_type": "markdown",
   "metadata": {},
   "source": [
    "#### 8.7.2.1. Local Data File Exercise\n",
    "Read in the file `'data/guided_exercise_01.txt'` and find how many times the word `'Muppets'` appears in the file."
   ]
  },
  {
   "cell_type": "code",
   "execution_count": 174,
   "metadata": {
    "collapsed": true
   },
   "outputs": [],
   "source": [
    "## YOUR CODE GOES HERE ##"
   ]
  },
  {
   "cell_type": "code",
   "execution_count": 175,
   "metadata": {
    "collapsed": false
   },
   "outputs": [
    {
     "data": {
      "text/plain": [
       "20"
      ]
     },
     "execution_count": 175,
     "metadata": {},
     "output_type": "execute_result"
    }
   ],
   "source": [
    "## INSTRUCTION SOLUTION(S) ##\n",
    "with open('data/guided_exercise_01.txt') as f:\n",
    "    text = f.read()\n",
    "\n",
    "text.lower().count('muppets')"
   ]
  },
  {
   "cell_type": "markdown",
   "metadata": {},
   "source": [
    "<hr> <a id=\"csv\"></a>\n",
    "### 8.7.3. Getting Data with the CSV Library\n",
    "<img src=\"./GRAPHICS/csvReader.png\" width=\"30%\"><br>\n",
    "\n",
    "The comma separated values (CSV) file format is a common import and export format for spreadsheets, databases and programming languages. There are two methods for reading data with the CSV Library that are of interest in this course: `csv.reader()` and `csv.DictReader()`. Example for both methods are below.\n",
    "\n",
    "```python\n",
    "with open(filepath) as csvfile:\n",
    "    temp = csv.reader(csvfile)\n",
    "    for row in temp:\n",
    "        print(row)\n",
    "\n",
    "with open(filepath) as csvfile:\n",
    "    temp = csv.DictReader(csvfile)\n",
    "    for row in temp:\n",
    "        print(row)\n",
    "```"
   ]
  },
  {
   "cell_type": "markdown",
   "metadata": {},
   "source": [
    "Whenever we use methods from a library, we have to import the library into our script. We only need to do this once per kernel."
   ]
  },
  {
   "cell_type": "code",
   "execution_count": 176,
   "metadata": {
    "collapsed": true
   },
   "outputs": [],
   "source": [
    "import csv"
   ]
  },
  {
   "cell_type": "markdown",
   "metadata": {},
   "source": [
    "The CSV Library's methods for reading files create objects that we can iterate over but not print or manipulate easily. Therefore, a common tactic is to iterate over these objects and store their contents to a list. Below, we store each row of CSV data into a list of dictionaries."
   ]
  },
  {
   "cell_type": "code",
   "execution_count": 177,
   "metadata": {
    "collapsed": false,
    "scrolled": false
   },
   "outputs": [
    {
     "data": {
      "text/plain": [
       "[{'Average Lifespan': '25',\n",
       "  'Diet': 'Shrubbery',\n",
       "  'Name': 'Giraffe',\n",
       "  'Weight': '2600'},\n",
       " {'Average Lifespan': '20',\n",
       "  'Diet': 'Shrubbery',\n",
       "  'Name': 'Moose',\n",
       "  'Weight': '1300'},\n",
       " {'Average Lifespan': '20',\n",
       "  'Diet': 'Bamboo',\n",
       "  'Name': 'Giant Panda',\n",
       "  'Weight': '220'},\n",
       " {'Average Lifespan': '14',\n",
       "  'Diet': 'Bamboo',\n",
       "  'Name': 'Red Panda',\n",
       "  'Weight': '14'},\n",
       " {'Average Lifespan': '45',\n",
       "  'Diet': 'Grass',\n",
       "  'Name': 'Hippopotamus',\n",
       "  'Weight': '3800'},\n",
       " {'Average Lifespan': '12',\n",
       "  'Diet': 'Gazelle',\n",
       "  'Name': 'Lion',\n",
       "  'Weight': '400'},\n",
       " {'Average Lifespan': '100',\n",
       "  'Diet': 'Grass',\n",
       "  'Name': 'Tortoise',\n",
       "  'Weight': '100'}]"
      ]
     },
     "execution_count": 177,
     "metadata": {},
     "output_type": "execute_result"
    }
   ],
   "source": [
    "land_animals = []\n",
    "\n",
    "with open('data/animal/animal_info_land.csv') as csvfile:\n",
    "    \n",
    "    animal = csv.DictReader(csvfile)\n",
    "    \n",
    "    for row in animal:\n",
    "        land_animals.append(row)\n",
    "\n",
    "land_animals"
   ]
  },
  {
   "cell_type": "markdown",
   "metadata": {},
   "source": [
    "#### 8.7.3.1. CSV File Exercises\n",
    "Exercise 1. Find how many rows are in the csv data in `land_animals` (using code, not your counting skills!)."
   ]
  },
  {
   "cell_type": "code",
   "execution_count": 178,
   "metadata": {
    "collapsed": true
   },
   "outputs": [],
   "source": [
    "## YOUR CODE GOES HERE ##"
   ]
  },
  {
   "cell_type": "code",
   "execution_count": 179,
   "metadata": {
    "collapsed": false
   },
   "outputs": [
    {
     "data": {
      "text/plain": [
       "7"
      ]
     },
     "execution_count": 179,
     "metadata": {},
     "output_type": "execute_result"
    }
   ],
   "source": [
    "## INSTRUCTION SOLUTION(S) ##\n",
    "len(land_animals)"
   ]
  },
  {
   "cell_type": "markdown",
   "metadata": {},
   "source": [
    "Exercise 2. Find how many items are in each row in the csv data. \n",
    "\n",
    "HINT: Every row contains the same number of items"
   ]
  },
  {
   "cell_type": "code",
   "execution_count": 180,
   "metadata": {
    "collapsed": true
   },
   "outputs": [],
   "source": [
    "## YOUR CODE GOES HERE ##"
   ]
  },
  {
   "cell_type": "code",
   "execution_count": 181,
   "metadata": {
    "collapsed": false
   },
   "outputs": [
    {
     "data": {
      "text/plain": [
       "4"
      ]
     },
     "execution_count": 181,
     "metadata": {},
     "output_type": "execute_result"
    }
   ],
   "source": [
    "## INSTRUCTION SOLUTION(S) ##\n",
    "len(land_animals[0])"
   ]
  },
  {
   "cell_type": "markdown",
   "metadata": {},
   "source": [
    "Exercise 3. Find the data type of the values stored in the `'Average Lifespan'` column in the csv data.\n",
    "\n",
    "HINT : Every row contains a value of the same data type for this column."
   ]
  },
  {
   "cell_type": "code",
   "execution_count": 182,
   "metadata": {
    "collapsed": true
   },
   "outputs": [],
   "source": [
    "## YOUR CODE GOES HERE ##"
   ]
  },
  {
   "cell_type": "code",
   "execution_count": 183,
   "metadata": {
    "collapsed": false
   },
   "outputs": [
    {
     "data": {
      "text/plain": [
       "str"
      ]
     },
     "execution_count": 183,
     "metadata": {},
     "output_type": "execute_result"
    }
   ],
   "source": [
    "## INSTRUCTION SOLUTION(S) ##\n",
    "type(land_animals[0]['Average Lifespan'])"
   ]
  },
  {
   "cell_type": "markdown",
   "metadata": {},
   "source": [
    "Exercise 4. Add a row to `land_animals`. Make sure your keys match the other keys in the dataset. Then write your new data out to a file in the `data/` folder. You can call the file whatever you want, but don't overwrite any existing files."
   ]
  },
  {
   "cell_type": "code",
   "execution_count": 184,
   "metadata": {
    "collapsed": true
   },
   "outputs": [],
   "source": [
    "## YOUR CODE GOES HERE ##"
   ]
  },
  {
   "cell_type": "code",
   "execution_count": 185,
   "metadata": {
    "collapsed": true
   },
   "outputs": [],
   "source": [
    "## INSTRUCTION SOLUTION(S) ##\n",
    "\n",
    "land_animals.append({'Name': 'Mouse', 'Weight': 1, 'Diet': 'Cheese', 'Average Lifespan': 5})\n",
    "\n",
    "with open('data/new_land_animals.csv', 'w', newline='') as f:\n",
    "    \n",
    "    fieldnames = ['Name', 'Weight', 'Diet', 'Average Lifespan']\n",
    "    writer = csv.DictWriter(f, fieldnames=fieldnames)\n",
    "    writer.writeheader()\n",
    "    writer.writerows(land_animals)"
   ]
  },
  {
   "cell_type": "markdown",
   "metadata": {},
   "source": [
    "<hr> <a class=\"anchor\" id=\"glob\"></a>\n",
    "### 8.7.4. The Glob Library\n",
    "\n",
    "The Glob Library finds all the filepaths matching a specified pattern. The syntax for implementing glob is below:\n",
    "\n",
    "```python\n",
    "files = glob.glob('data/fr24/*')\n",
    "```\n",
    "\n",
    "In the example above, the pattern will get everything that includes the path `data/fr24/`, including every file that lives in a subfolder inside `fr24`.\n",
    "\n",
    "A more restrictive pattern would be: `'data/fr24/*.csv'`. This would only get items in the `fr24` folder that ended in `'.csv'`, or in other words every CSV file. When you build patterns with `.glob()`, make sure your pattern is neither too restrictive nor too broad. Before we can use `.glob()` we need to import the Glob Library."
   ]
  },
  {
   "cell_type": "code",
   "execution_count": 186,
   "metadata": {
    "collapsed": true
   },
   "outputs": [],
   "source": [
    "import glob"
   ]
  },
  {
   "cell_type": "code",
   "execution_count": 187,
   "metadata": {
    "collapsed": false
   },
   "outputs": [
    {
     "data": {
      "text/plain": [
       "['data/animal\\\\animal_dict_output.csv',\n",
       " 'data/animal\\\\animal_info_land.csv',\n",
       " 'data/animal\\\\animal_info_sea.csv',\n",
       " 'data/animal\\\\animal_output.csv']"
      ]
     },
     "execution_count": 187,
     "metadata": {},
     "output_type": "execute_result"
    }
   ],
   "source": [
    "files = glob.glob('data/animal/*.csv')\n",
    "files"
   ]
  },
  {
   "cell_type": "code",
   "execution_count": 188,
   "metadata": {
    "collapsed": true
   },
   "outputs": [],
   "source": [
    "## Try some code ideas here ##"
   ]
  },
  {
   "cell_type": "markdown",
   "metadata": {},
   "source": [
    "<b><font color=\"firebrick\">Instructor Guidance</font>: Poll the class for any questions about the functions and libraries covered in Getting Data. Work through questions in the code cell below.</b>"
   ]
  },
  {
   "cell_type": "markdown",
   "metadata": {},
   "source": [
    "#### 8.7.4.1. Glob Library Exercises\n",
    "\n",
    "Exercise 1. Read in all the CSV files from the `data/animal/` subfolder that include the word `info` in their filename. Put all the data into a single list."
   ]
  },
  {
   "cell_type": "code",
   "execution_count": 189,
   "metadata": {
    "collapsed": true
   },
   "outputs": [],
   "source": [
    "## YOUR CODE GOES HERE ##"
   ]
  },
  {
   "cell_type": "code",
   "execution_count": 190,
   "metadata": {
    "collapsed": false,
    "scrolled": true
   },
   "outputs": [
    {
     "data": {
      "text/plain": [
       "[{'Average Lifespan': '25',\n",
       "  'Diet': 'Shrubbery',\n",
       "  'Name': 'Giraffe',\n",
       "  'Weight': '2600'},\n",
       " {'Average Lifespan': '20',\n",
       "  'Diet': 'Shrubbery',\n",
       "  'Name': 'Moose',\n",
       "  'Weight': '1300'},\n",
       " {'Average Lifespan': '20',\n",
       "  'Diet': 'Bamboo',\n",
       "  'Name': 'Giant Panda',\n",
       "  'Weight': '220'},\n",
       " {'Average Lifespan': '14',\n",
       "  'Diet': 'Bamboo',\n",
       "  'Name': 'Red Panda',\n",
       "  'Weight': '14'},\n",
       " {'Average Lifespan': '45',\n",
       "  'Diet': 'Grass',\n",
       "  'Name': 'Hippopotamus',\n",
       "  'Weight': '3800'},\n",
       " {'Average Lifespan': '12',\n",
       "  'Diet': 'Gazelle',\n",
       "  'Name': 'Lion',\n",
       "  'Weight': '400'},\n",
       " {'Average Lifespan': '100',\n",
       "  'Diet': 'Grass',\n",
       "  'Name': 'Tortoise',\n",
       "  'Weight': '100'},\n",
       " {'Average Lifespan': '95',\n",
       "  'Diet': 'Krill',\n",
       "  'Name': 'Blue Whale',\n",
       "  'Weight': '300000'},\n",
       " {'Average Lifespan': '70',\n",
       "  'Diet': 'Fish',\n",
       "  'Name': 'Great White Shark',\n",
       "  'Weight': '2000'},\n",
       " {'Average Lifespan': '10',\n",
       "  'Diet': 'Jellyfish',\n",
       "  'Name': 'Ocean Sunfish',\n",
       "  'Weight': '2200'},\n",
       " {'Average Lifespan': '50',\n",
       "  'Diet': 'Fish',\n",
       "  'Name': 'Narwhal',\n",
       "  'Weight': '2100'},\n",
       " {'Average Lifespan': '8',\n",
       "  'Diet': 'Fish',\n",
       "  'Name': 'Yellowfin Tuna',\n",
       "  'Weight': '400'},\n",
       " {'Average Lifespan': '80',\n",
       "  'Diet': 'Seaweed',\n",
       "  'Name': 'Sea Turtle',\n",
       "  'Weight': '350'}]"
      ]
     },
     "execution_count": 190,
     "metadata": {},
     "output_type": "execute_result"
    }
   ],
   "source": [
    "## INSTRUCTION SOLUTION(S) ##\n",
    "animal_info = []\n",
    "\n",
    "files = glob.glob('data/animal/*info*.csv')\n",
    "\n",
    "for file in files:\n",
    "    \n",
    "    with open(file) as f:\n",
    "        \n",
    "        reader = csv.DictReader(f)\n",
    "        \n",
    "        for row in reader:\n",
    "            animal_info.append(row)\n",
    "            \n",
    "animal_info"
   ]
  },
  {
   "cell_type": "markdown",
   "metadata": {},
   "source": [
    "Exercise 2. Take that data from Exercise 1 above and write it out to a single CSV file named `'animal_info_all.csv`' in the `data/animal/` folder, be sure to include column names."
   ]
  },
  {
   "cell_type": "code",
   "execution_count": 191,
   "metadata": {
    "collapsed": true
   },
   "outputs": [],
   "source": [
    "## YOUR CODE GOES HERE ##"
   ]
  },
  {
   "cell_type": "code",
   "execution_count": 192,
   "metadata": {
    "collapsed": true
   },
   "outputs": [],
   "source": [
    "## INSTRUCTION SOLUTION(S) ##\n",
    "\n",
    "with open('data/animal/animal_info_all.csv', mode='w', newline='') as f:\n",
    "    \n",
    "    fieldnames = animal_info[0].keys()\n",
    "    writer = csv.DictWriter(f, fieldnames=fieldnames)\n",
    "    writer.writeheader()\n",
    "    writer.writerows(animal_info)"
   ]
  },
  {
   "cell_type": "markdown",
   "metadata": {},
   "source": [
    "<hr> <a id=\"json\"></a>\n",
    "### 8.7.5. The JSON Library\n",
    "<img src=\"./GRAPHICS/JSON.png\" width=\"50%\"><br>\n",
    "\n",
    "The JSON Library allows Python to import JSON-formatted strings as dictionaries and export dictionaries as JSON-formatted strings or files.  The implementation syntax is below.\n",
    "\n",
    "| Code                    | Action                                     |\n",
    "|-------------------------|--------------------------------------------|\n",
    "|`json.loads(json_formatted_string)`    | Converts a JSON string to a Python dictionary |\n",
    "|`json.load(json_formatted_file_obj)`   | Converts a JSON file to a Python dictionary |\n",
    "|`json.dumps(my_dictionary)`            | Converts a Python dictionary to a JSON string |\n",
    "|`json.dump(my_dictionary, file_obj)`   | Converts a Python dictionary to a JSON file |\n",
    "\n",
    "\n",
    "As always, we must import the JSON Library before we can use its methods."
   ]
  },
  {
   "cell_type": "code",
   "execution_count": 193,
   "metadata": {
    "collapsed": true
   },
   "outputs": [],
   "source": [
    "import json"
   ]
  },
  {
   "cell_type": "markdown",
   "metadata": {},
   "source": [
    "Now we can read in some JSON data stored on our computers. The code below reaches out to a file in the `data/` folder and parses the data inside it into a Python dictionary."
   ]
  },
  {
   "cell_type": "code",
   "execution_count": 194,
   "metadata": {
    "collapsed": false,
    "scrolled": true
   },
   "outputs": [
    {
     "data": {
      "text/plain": [
       "{'bbox': [-155.4211731, 19.2338333, 2.85, -89.6829987, 64.5602, 64.22],\n",
       " 'features': [{'geometry': {'coordinates': [-149.3078, 64.5602, 8.6],\n",
       "    'type': 'Point'},\n",
       "   'id': 'ak18070078',\n",
       "   'properties': {'alert': None,\n",
       "    'cdi': None,\n",
       "    'code': '18070078',\n",
       "    'detail': 'https://earthquake.usgs.gov/earthquakes/feed/v1.0/detail/ak18070078.geojson',\n",
       "    'dmin': None,\n",
       "    'felt': None,\n",
       "    'gap': None,\n",
       "    'ids': ',ak18070078,',\n",
       "    'mag': 1.5,\n",
       "    'magType': 'ml',\n",
       "    'mmi': None,\n",
       "    'net': 'ak',\n",
       "    'nst': None,\n",
       "    'place': '9km WSW of North Nenana, Alaska',\n",
       "    'rms': 0.65,\n",
       "    'sig': 35,\n",
       "    'sources': ',ak,',\n",
       "    'status': 'automatic',\n",
       "    'time': 1516119891807,\n",
       "    'title': 'M 1.5 - 9km WSW of North Nenana, Alaska',\n",
       "    'tsunami': 0,\n",
       "    'type': 'earthquake',\n",
       "    'types': ',geoserve,origin,',\n",
       "    'tz': -540,\n",
       "    'updated': 1516120348239,\n",
       "    'url': 'https://earthquake.usgs.gov/earthquakes/eventpage/ak18070078'},\n",
       "   'type': 'Feature'}],\n",
       " 'metadata': {'api': '1.5.8',\n",
       "  'count': 1,\n",
       "  'generated': 1516122464000,\n",
       "  'status': 200,\n",
       "  'title': 'USGS All Earthquakes, Past Hour',\n",
       "  'url': 'https://earthquake.usgs.gov/earthquakes/feed/v1.0/summary/all_hour.geojson'},\n",
       " 'type': 'FeatureCollection'}"
      ]
     },
     "execution_count": 194,
     "metadata": {},
     "output_type": "execute_result"
    }
   ],
   "source": [
    "with open('data/USGS_Earthquake_Data_Single.geojson') as f:\n",
    "    USGS_dict_single = json.load(f)\n",
    "\n",
    "USGS_dict_single"
   ]
  },
  {
   "cell_type": "markdown",
   "metadata": {},
   "source": [
    "Use the `type()` function to verify the data structure above is a dictionary."
   ]
  },
  {
   "cell_type": "code",
   "execution_count": 195,
   "metadata": {
    "collapsed": true
   },
   "outputs": [],
   "source": [
    "## Try some code ideas here ##"
   ]
  },
  {
   "cell_type": "markdown",
   "metadata": {},
   "source": [
    "#### 8.7.5.1. JSON Library Exercise\n",
    "Read in the file `'data/USGS_Earthquake_Data_Multiple.geojson'` and convert it to a Python dictionary. Then figure out how many unique earthquakes have information stored in the file."
   ]
  },
  {
   "cell_type": "code",
   "execution_count": 196,
   "metadata": {
    "collapsed": true
   },
   "outputs": [],
   "source": [
    "## YOUR CODE GOES HERE ##"
   ]
  },
  {
   "cell_type": "code",
   "execution_count": 197,
   "metadata": {
    "collapsed": false
   },
   "outputs": [
    {
     "data": {
      "text/plain": [
       "6"
      ]
     },
     "execution_count": 197,
     "metadata": {},
     "output_type": "execute_result"
    }
   ],
   "source": [
    "## INSTRUCTION SOLUTION(S) ##\n",
    "with open('data/USGS_Earthquake_Data_Multiple.geojson') as f:\n",
    "    quake_dict = json.load(f)\n",
    "\n",
    "len(quake_dict['features'])"
   ]
  },
  {
   "cell_type": "markdown",
   "metadata": {},
   "source": [
    "<hr>\n",
    "<a id=\"Administrative\"></a>\n",
    "## 8.8. Administrative Notes\n",
    "* Save your Lesson 8 .ipynb file to your H drive."
   ]
  },
  {
   "cell_type": "markdown",
   "metadata": {},
   "source": [
    "<b><center>UNCLASSIFIED</center></b>"
   ]
  }
 ],
 "metadata": {
  "anaconda-cloud": {},
  "kernelspec": {
   "display_name": "Python [default]",
   "language": "python",
   "name": "python3"
  },
  "language_info": {
   "codemirror_mode": {
    "name": "ipython",
    "version": 3
   },
   "file_extension": ".py",
   "mimetype": "text/x-python",
   "name": "python",
   "nbconvert_exporter": "python",
   "pygments_lexer": "ipython3",
   "version": "3.5.2"
  }
 },
 "nbformat": 4,
 "nbformat_minor": 1
}
