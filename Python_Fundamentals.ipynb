{
 "cells": [
  {
   "cell_type": "markdown",
   "metadata": {},
   "source": [
    "<b><center>UNCLASSIFIED</center></b>"
   ]
  },
  {
   "cell_type": "markdown",
   "metadata": {
    "collapsed": true
   },
   "source": [
    "<img src=\"./GRAPHICS/Banner.png\" width=\"100%\">"
   ]
  },
  {
   "cell_type": "markdown",
   "metadata": {},
   "source": [
    "# Lesson 1: Welcome to Fundamentals I"
   ]
  },
  {
   "cell_type": "markdown",
   "metadata": {},
   "source": [
    "<hr>\n",
    "\n",
    "## Table of Contents\n",
    "\n",
    "* [1.1. Objectives](#Objectives)<br>\n",
    "* [1.2. Overview](#Overview)<br>\n",
    "* [1.3. Course Overview](#CourseOverview)<br>\n",
    "* [1.4. Additional Assistance](#Additional)<br>\n",
    "* [1.5. Computational Thinking](#ComputationalThinking)<br>\n",
    "* [1.6. Python](#Python)<br>\n",
    "   * [1.6.1. Python 3](#Python3)<br>\n",
    "   * [1.6.2. Some Vocabulary for Python](#Vocabulary)<br>\n",
    "   * [1.6.3. Guided Exercise: Finding the Square Root of 4](#Square)<br>\n",
    "   * [1.6.4. Python Resources on the Web](#Resources)<br>\n",
    "   * [1.6.5. Python Resources Locally](#Locally)<br>\n",
    "   * [1.6.6. Python's Help Function](#Help)<br>\n",
    "* [1.7. Using Jupyter Notebook](#Jupyter)<br>\n",
    "   * [1.7.1. Guided Exercise: Jupyter Notebooks](#Notebooks)<br>\n",
    "   * [1.7.2. Guided Exercise: The Kernel Dropdown](#Kernel)<br>\n",
    "   * [1.7.3. Guided Exercise: The Cell Dropdown](#Cell)<br>\n",
    "* [1.8. Administrative Notes](#Administrative)<br>"
   ]
  },
  {
   "cell_type": "markdown",
   "metadata": {},
   "source": [
    "<a id='Objectives'></a>\n",
    "## 1.1. Objectives\n",
    "\n",
    "* Examine the implications of using computation to solve a problem\n",
    "    * Discuss best practices for using computation to solve a problem\n",
    "    * Suggest types of problems that can be solved through computation\n",
    "    * Show how computation can solve a problem\n",
    "<br><br>    \n",
    "* Recognize key computer science concepts\n",
    "    * Identify data types used in Python scripting\n",
    "    * Identify data structures used in Python scripting\n",
    "    * Define variables and strings\n",
    "    * Recognize how queries operate\n",
    "<br><br>    \n",
    "* Demonstrate the ability to build basic scripts using Python scripting language\n",
    "    * Use various data types and structures in Python scripting\n",
    "    * Collect data using Python scripting\n",
    "    * Extract data using Python scripting\n",
    "    * Develop advanced data structures using Python scripting"
   ]
  },
  {
   "cell_type": "markdown",
   "metadata": {},
   "source": [
    "<hr>\n",
    "<a id='Overview'></a>\n",
    "## 1.2. Overview\n",
    "The following lesson is broken up into five main parts:\n",
    "* Course Overview\n",
    "* Additional Assistance\n",
    "* Computational Thinking\n",
    "* Python\n",
    "* Using Jupyter Notebook"
   ]
  },
  {
   "cell_type": "markdown",
   "metadata": {},
   "source": [
    "<hr>\n",
    "<a id='CourseOverview'></a>\n",
    "## 1.3. Course Overview\n",
    "\n",
    "This is an instructor-led course designed to help shift how you think about solving problems. Its intent is to show you the potential application of coding as a tool to solve problems.\n",
    "\n",
    "This course will not turn you into a computer scientist, data scientist, or Silicon Valley CEO in 48 hours of classroom time. The emphasis is data-related learning objectives that can help you meet the mission with greater speed and precision."
   ]
  },
  {
   "cell_type": "markdown",
   "metadata": {},
   "source": [
    "<hr>\n",
    "<a id=\"Additional\"></a>\n",
    "## 1.4. Additional Assistance\n",
    "\n",
    "| Type | When |\n",
    "|---|---|\n",
    "| **Open Lab with Instructors** | Monday - Friday, 1100-1200 and 1600-1700 |\n",
    "| **Community of Practice (CoP)** | Anytime, anywhere |"
   ]
  },
  {
   "cell_type": "markdown",
   "metadata": {},
   "source": [
    "<b><font color=\"firebrick\">Instructor Guidance</font>: Discuss days and times for lab hours (with and without instructors).  Write emails on the board as appropriate.  </b>"
   ]
  },
  {
   "cell_type": "markdown",
   "metadata": {},
   "source": [
    "<a id=\"ComputationalThinking\"></a>\n",
    "<hr>\n",
    "## 1.5. Computational Thinking"
   ]
  },
  {
   "cell_type": "markdown",
   "metadata": {},
   "source": [
    "<b><font color=\"firebrick\">Instructor Guidance:</font> Solving problems using Python (or any programming language) at NGA requires a clear understanding of computational thinking and how each component can be leveraged to further understand and answer problems. You will be expected to refer back to this section of Lesson 1 and address the four steps of computational thinking to solve problems as they relate to lessons, exercises, examples, student questions/comments, etc., throughout the course.</b>"
   ]
  },
  {
   "cell_type": "markdown",
   "metadata": {},
   "source": [
    "Computers are not smart, but they are fast. They need explicit instructions in order to solve a problem.  Programming languages are designed to eliminate the ambiguity found in natural language. This means that when we, as programmers, are presented with a problem, we have to provide the computer a complete set of instructions in a programming language for it to do what we want. This requires a special, rigorous mode of reasoning that we call *computational thinking*."
   ]
  },
  {
   "cell_type": "markdown",
   "metadata": {},
   "source": [
    "<b><font color=\"firebrick\">Instructor Guidance:</font> Use the embedded computational thinking graphic taken from CMPT1000. Throughout CSCI2011, refer back to this graphic when discussing the process of thinking computationally.</b>"
   ]
  },
  {
   "cell_type": "markdown",
   "metadata": {},
   "source": [
    "<img src=\"./GRAPHICS/IconKeyPoster.png\" width=\"60%\">\n",
    "<img src=\"./GRAPHICS/IconPlacematt.png\" width=\"60%\">"
   ]
  },
  {
   "cell_type": "markdown",
   "metadata": {},
   "source": [
    "The basic steps for approaching a computational problem are:\n",
    "\n",
    ">1. **Decomposition:** Breaking down data, processes, or problems into smaller, manageable parts\n",
    ">    1. Make sure you understand the problem\n",
    ">        1. Identify the inputs\n",
    ">        2. Identify what the answer should look like\n",
    ">    2. If it’s a large scale problem, identify possible smaller components\n",
    "<br><br>    \n",
    ">2. **Pattern Recognition:** Observing patterns, trends, and regularities in data\n",
    ">    1. Inspect your data\n",
    ">        1. Make sure the inputs and outputs you’ve identified make sense\n",
    ">        2. Look for trends or possible fringe cases\n",
    "<br><br>       \n",
    ">3. **Abstraction:** Identifying the general principles that generate these patterns\n",
    ">    1. Work out a problem by hand\n",
    ">        2. As you work out by hand, attempt to make simple steps\n",
    "<br><br>\n",
    ">4. **Algorithm Design:** Developing the step by step instructions for solving this and similar problems \n",
    ">    1. Begin to formalize your steps into a set of pseudocode\n",
    ">    2. Identify available software tools\n",
    ">        1. These may be outside packages, things you’ve written in the past, or built-in python functionality\n",
    ">    3. Implement your pseudocode"
   ]
  },
  {
   "cell_type": "markdown",
   "metadata": {},
   "source": [
    "### Example Problem\n",
    "\n",
    "Given the paragraph below, identify which sentence has the most words in it.  \n",
    "```python\n",
    "'''Security has been tightened in Kenya ahead of a controversial re-run of the presidential election which is being boycotted by the main opposition. Kenya's President Uhuru Kenyatta, who is seeking a second term, has urged people to vote and remain peaceful. Opposition leader Raila Odinga, who has pulled out of the election re-run, has called on his supporters to boycott it. Mr. Kenyatta was announced the winner in an 8 August vote but the poll is being held again because of \"irregularities\".'''\n",
    "```"
   ]
  },
  {
   "cell_type": "markdown",
   "metadata": {},
   "source": [
    "<b><font color=\"firebrick\">Instructor Guidance</font>: Work problem out with the students.  Highlight that the end result should be to have a process that someone who doesn't understand the goal of what they're doing can follow and consistently get the right result.</b>\n",
    "\n"
   ]
  },
  {
   "cell_type": "markdown",
   "metadata": {},
   "source": [
    "### Step 1. Decomposition\n",
    "\n",
    "The first step to tackling any problem is to make sure you understand it, and break it down into smaller, more manageable parts.\n",
    "\n",
    "#### A. Make sure we understand the problem\n",
    "\n",
    "All computational problems have some input and some output.  So our solution is going to take our input, apply some process, and create or return our output. \n",
    "\n",
    ">##### a. What are the inputs?\n",
    "\n",
    ">In this example problem, our input is a paragraph.  In this case the paragraph is given to us, but the great thing about coding is that even if the input changes (i.e., we're given a new paragraph), once you have a solution re-applying it is easy. \n",
    "\n",
    ">In this particular case, it may be easiest to perform this function by hand. However, if you wanted the longest sentence in many documents, having a programmatic solution becomes very handy. \n",
    "\n",
    ">##### b. What are the outputs?\n",
    "\n",
    ">We've been asked to identify the longest sentence in a paragraph.  The output will be <i>either</i> the sentence itself, or perhaps just the number of words in the sentence.\n",
    "\n",
    "#### B. If it’s a large scale problem, identify possible smaller components\n",
    "\n",
    "This problem has one major task, but a couple possible sub-tasks.  We need to be able to split a paragraph into sentences, and each sentence into a group of words. "
   ]
  },
  {
   "cell_type": "markdown",
   "metadata": {},
   "source": [
    "### Step 2. Pattern Recognition\n",
    "\n",
    "#### A. Inspect your data\n",
    "\n",
    ">##### a. Make sure the inputs and outputs you’ve identified make sense\n",
    "\n",
    ">Looking at the paragraph we've been given, the inputs and outputs make sense.  If we end up applying this to a much larger dataset, like a news article or resume, we may have to worry about things like article titles being treated as paragraphs, or a set of skills being treated as a paragraph. \n",
    "   \n",
    ">##### b. Look for trends or possible fringe cases\n",
    "\n",
    ">*Trends: * Looking at the paragraph, what can we use to divide this into sentences?  What can we use to divide each sentence into words?\n",
    "\n",
    ">*Fringe Cases: * \n",
    "While most English sentences end with a period, sometimes they also end with an exclamation point (\"!\") or a question mark(\"?\"). Such sentences would be called fringe cases, or cases that deviate from the norm. On the other hand, a period does not always denote the end of a sentence. For example, it could be part of a decimal number (2.15) or an abbreviation, such as \"Mr.\" These would also be considered fringe cases because we would have to treat them differently than we would treat a period at the end of a sentence.\n"
   ]
  },
  {
   "cell_type": "markdown",
   "metadata": {},
   "source": [
    "### Step 3. Abstraction\n",
    "\n",
    "#### A. Work out an example manually\n",
    "\n",
    "We've been given a good example as part of the problem.  Let's work out how we'd go about solving this.  This doesn't just mean thinking about how to solve it conceptually, but doing it in a systematic way.  \n",
    "\n",
    "Systematic in this case means writing out the steps explicitly so that someone who has no idea what the goal is can follow them and come up with the right answer. Making them simple and explicit is helpful.\n",
    "\n",
    "We can use any patterns we identified in the last step to help us."
   ]
  },
  {
   "cell_type": "markdown",
   "metadata": {},
   "source": [
    "### Step 4. Algorithm Design\n",
    "\n",
    "#### A. Write pseudocode\n",
    "\n",
    "We certainly could just jump right in to writing code once we have a tentative solution.  For simple problems this should work out okay. \n",
    "\n",
    "For more complex problems, or even simple problems as a beginner, writing something called pseudocode to work through your solution in a more human-readable way can be very helpful. \n",
    "\n",
    "What is pseudocode?  (from Introduction to Computational Thinking):\n",
    "    \n",
    ">Pseudocode is a detailed yet human-readable description of what a computer program or an algorithm must do. It is captured by using a formally styled natural language instead of a programming language.\n",
    "    \n",
    "Your pseudocode will look a lot like your implementation language, but will be a lot less formal."
   ]
  },
  {
   "cell_type": "markdown",
   "metadata": {
    "collapsed": true
   },
   "source": [
    "In this case, our pseudocode might look something like this:\n",
    "\n",
    ">**Pseudocode**\n",
    "> 1. Split the paragraph by periods to separate sentences\n",
    "2. For each sentence:\n",
    "    1. Count how many words are in the sentence\n",
    "    2. Compare the word count with the longest sentence you've seen so far\n",
    "    3. If it's the longest sentence, hold on to it, otherwise move to the next sentence\n",
    "3. Finally, print out the longest sentence and its word count"
   ]
  },
  {
   "cell_type": "markdown",
   "metadata": {},
   "source": [
    "Run through the pseudocode by hand with your example, and make sure it works like you'd expect. Will this process work for any paragraph?"
   ]
  },
  {
   "cell_type": "markdown",
   "metadata": {},
   "source": [
    "\n",
    "#### B. Identify tools available to replicate your solution\n",
    "\n",
    "We haven't yet covered all the tools available to you in Python, but we will cover some of them."
   ]
  },
  {
   "cell_type": "markdown",
   "metadata": {},
   "source": [
    "#### C. Implement\n",
    "\n",
    "We haven't taught you how to code yet, but here's what our algorithm would look like in Python."
   ]
  },
  {
   "cell_type": "code",
   "execution_count": 1,
   "metadata": {
    "collapsed": false
   },
   "outputs": [
    {
     "name": "stdout",
     "output_type": "stream",
     "text": [
      "22\n",
      "Security has been tightened in Kenya ahead of a controversial re-run of the presidential\n",
      "election which is being boycotted by the main opposition.\n"
     ]
    }
   ],
   "source": [
    "paragraph = \"\"\"Security has been tightened in Kenya ahead of a controversial re-run of the presidential\n",
    "election which is being boycotted by the main opposition. Kenya's President Uhuru Kenyatta, who is seeking a \n",
    "second term, has urged people to vote and remain peaceful. Opposition leader Raila Odinga, who has pulled out \n",
    "of the election re-run, has called on his supporters to boycott it. Mr. Kenyatta was announced the winner in \n",
    "an 8 August vote but the poll is being held again because of \"irregularities\".\"\"\"\n",
    "\n",
    "## 1. Split the paragraph on \".\"\n",
    "sentences = paragraph.split(\".\")\n",
    "\n",
    "longest_sentence = \"\"\n",
    "\n",
    "## 2. For each sentence...\n",
    "for sentence in sentences:\n",
    "    \n",
    "    ## 2A-B. Count words and compare to the longest sentence we've seen so far\n",
    "    if len(sentence.split(\" \")) > len(longest_sentence.split(\" \")):\n",
    "        \n",
    "        ## 2C. If it's the longest, hold on to it\n",
    "        longest_sentence = sentence + \".\" #\n",
    "\n",
    "## 3. Finally, print the longest sentence and its word count\n",
    "print(len(longest_sentence.split(\" \")))\n",
    "print(longest_sentence)"
   ]
  },
  {
   "cell_type": "markdown",
   "metadata": {},
   "source": [
    "<hr>\n",
    "<a id='Python'></a>\n",
    "## 1.6. Python\n",
    "\n",
    "* [Wikipedia: Python (programming language)](https://en.wikipedia.org/wiki/Python_%28programming_language%29)\n",
    "\n",
    "Python is a widely used high-level programming language for general-purpose programming. Python was created by Guido van Rossum and first released in 1991. Python has a design philosophy that emphasizes code readability (notably using whitespace indentation to delimit code blocks rather than curly brackets or keywords), and a syntax that allows programmers to express concepts in fewer lines of code than might be used in languages such as C++ or Java. Van Rossum is Python's principal author, and his continuing central role in deciding the direction of Python is reflected in the title given to him by the Python community: Benevolent Dictator For Life (BDFL).\n",
    "\n",
    "It is named after [Monty Python's Flying Circus](https://en.wikipedia.org/wiki/Monty_Python%27s_Flying_Circus).\n",
    "\n",
    "The core philosophy of the language is summarized by the document [The Zen of Python](https://en.wikipedia.org/wiki/Zen_of_Python), which includes aphorisms such as:\n",
    "\n",
    "* Beautiful is better than ugly\n",
    "* Explicit is better than implicit\n",
    "* Simple is better than complex\n",
    "* Complex is better than complicated\n",
    "* Readability counts"
   ]
  },
  {
   "cell_type": "markdown",
   "metadata": {},
   "source": [
    "The [PEP8 Style Guide for Python](https://www.python.org/dev/peps/pep-0008/) is a fairly short web document.  Although your Python code is not being graded for elegance in this course, it is a good practice to adhere to the Python Style Guide if only to increase the readability of your code by others, especially if you are seeking their help to solve a problem.\n",
    "\n",
    "<b>Some of the style highlights:</b>\n",
    "\n",
    "* *Indentation* - Use four spaces per indentation level (Tabs are set to four spaces in Jupyter Notebooks)\n",
    "* *Maximum Line Length* - Limit lines to a maximum of 79 characters\n",
    "* *Comments* - Block Comments are preferred. Comments should be complete sentences. If a comment is a phrase or sentence, its first word should be capitalized, unless it is an identifier that begins with a lower case letter (never alter the case of identifiers).\n",
    "* *General Naming Styles* - lower_case_with_underscores\n",
    "    * *Function Names* - Function names should be lowercase, with words separated by underscores as necessary to improve readability.\n",
    "    * *Constants* - Constants are usually defined on a module level and written in all capital letters with underscores separating words. Examples include PLANCKS_CONSTANT and PI.\n",
    "\n",
    "Regardless of whether you adhere to a style guide or not, <i>be consistent in your code.</i>"
   ]
  },
  {
   "cell_type": "markdown",
   "metadata": {},
   "source": [
    "<hr>\n",
    "<a id='Python3'></a>\n",
    "### 1.6.1. Python 3\n",
    "\n",
    "In the classroom, we will be using Python v3.5. Some of you who've seen Python before might have used other versions.  There are slight differences between versions, but we will stay consistent throughout the course with our version."
   ]
  },
  {
   "cell_type": "markdown",
   "metadata": {},
   "source": [
    "<hr>\n",
    "<a id='Vocabulary'></a>\n",
    "### 1.6.2. Some Vocabulary for Python \n",
    "\n",
    "Here is list of some common terms and concepts that you will hear in this course.\n",
    "\n",
    "* *Syntax* - Syntax refers to how you write code, such as spacing, punctuation, and indentation.  Python depends on correct syntax to properly read and execute the code you write.  A single mistake in syntax will cause Python to execute the code differently than you intended or to throw an error, meaning Python will stop running your code and then give you an error message describing what went wrong. <br><br>\n",
    "REMEMBER: computers are not smart; they are just really fast. You need to be very explicit in what you tell them to do in order to get them to do it.\n",
    "<br><br>\n",
    "* *Variable* - A variable name is like a stand-in for some data value.  Think back to junior high algebra where you learned to use \"x\" as a stand-in for numbers.  Variables work just like this, but super-charged.  First, a variable name in Python can be <i>almost</i> any letter, word, or series of words linked by an underscore (`_`). However, just because you can use almost any word for variable names, <i>make sure they make sense</i>.  Second, variables stand in not just for numbers, but also for text, Boolean values, lists of things, or almost any other type of data.  To assign a data value to a variable in Python we use a single equals sign, like `x = 4` or `some_text = 'Hello world!'`."
   ]
  },
  {
   "cell_type": "markdown",
   "metadata": {},
   "source": [
    ">Example 1:<br>\n",
    "* `x = 5`.<br>\n",
    "* `another_number = 6`.<br>\n",
    "* What is the result of the expression: `x + another_number`? "
   ]
  },
  {
   "cell_type": "markdown",
   "metadata": {},
   "source": [
    ">Example 2:<br>\n",
    "* `words = 'I like '`.<br>\n",
    "* `other_text = 'dogs'`.<br>\n",
    "* What is the result of the expression: `words + other_text`?"
   ]
  },
  {
   "cell_type": "markdown",
   "metadata": {},
   "source": [
    ">Example 3:<br>\n",
    "* Which of the following are appropriate variable names to store the value `'apples'`?\n",
    "    * `n`\n",
    "    * `my_fruit`\n",
    "    * `string_value`\n",
    "    * `a1234`"
   ]
  },
  {
   "cell_type": "markdown",
   "metadata": {},
   "source": [
    "Exercise: In the code cell below, the variable `y` is assigned to the integer `4`. Create a new variable `z` and assign it the integer `3`. Then, add `y + z` and run the code you have written."
   ]
  },
  {
   "cell_type": "code",
   "execution_count": 2,
   "metadata": {
    "collapsed": true
   },
   "outputs": [],
   "source": [
    "## Run this code by pressing the play button below the 'Cell' tab above ##\n",
    "y = 4"
   ]
  },
  {
   "cell_type": "markdown",
   "metadata": {},
   "source": [
    "<b><font color=\"firebrick\">Instructor Guidance</font>: Walk students through Example 4 in this code cell, and have them type along. </b>"
   ]
  },
  {
   "cell_type": "markdown",
   "metadata": {},
   "source": [
    "* *Function* or *Method* - Think of functions and methods as little programs or apps.  They are bodies of code that take specified input(s), do some actions (even running other functions), and then usually provide some output.  You can think of every computer program you use (i.e., Microsoft Word, Internet Explorer, Super Mario, etc.) as a group of functions that work together to carry out all of the things the program does.  You will be writing some simple functions in this course before too long.\n",
    "\n",
    "The first function we will use is the `print()` function. \n",
    "\n",
    "NOTE: The name of the function is followed by parentheses.  All functions and methods are written this way; it's the easiest way to identify a function in code.  The input(s) for a function or method go inside of those parentheses. In the code cell below `print()` has the input `'Hello world!'`.  Run the code in the cell below to see what `print()` does."
   ]
  },
  {
   "cell_type": "code",
   "execution_count": 3,
   "metadata": {
    "collapsed": false
   },
   "outputs": [
    {
     "name": "stdout",
     "output_type": "stream",
     "text": [
      "Hello world!\n"
     ]
    }
   ],
   "source": [
    "## Run this code by pressing the play button below the 'Cell' tab above ##\n",
    "print('Hello world!')"
   ]
  },
  {
   "cell_type": "markdown",
   "metadata": {},
   "source": [
    "<b><font color=\"firebrick\">Instructor Guidance</font>: Ask students what they think the code cell above does.  Run the code cell together.  Discuss the arguments (see below) in the context of this function. </b>"
   ]
  },
  {
   "cell_type": "markdown",
   "metadata": {},
   "source": [
    "* *Arguments* or *Parameters* - These are just the technical terms for the inputs that a function or method takes.  Some functions and methods require certain input(s), while others require no inputs. In the code cell above `'Hello world!'` is the argument for `print()`.<br><br>\n",
    "\n",
    "* *Library* - A library is a collection of code that defines certain methods and may also define the nature of special data types, like `datetime` objects made to calculate or track dates and times. When you need to use a particular method or special data type, you just <font color=green>**import**</font> that library into the Python script you are writing.  Where do libraries come from?  They are written by programmers and shared with others, usually online.<br>"
   ]
  },
  {
   "cell_type": "markdown",
   "metadata": {},
   "source": [
    "<hr>\n",
    "<a id='Square'></a>\n",
    "### 1.6.3. Guided Exercise: Finding the Square Root of 4\n",
    "\n",
    "In the cell below, try to use the square root method, `sqrt()`, from the math library with 4 as the input (the square root of 4 is 2, meaning `2 * 2 = 4`). Thus, we would expect `sqrt(4)` to output the value of 2."
   ]
  },
  {
   "cell_type": "markdown",
   "metadata": {},
   "source": [
    "<b><font color=\"firebrick\">Instructor Guidance</font>: Walk the students through each step to demonstrate how to import libraries and how to call functions inside the library. Point out how these are always available to import once installed, but are only brought into your project on request.</b>"
   ]
  },
  {
   "cell_type": "code",
   "execution_count": 4,
   "metadata": {
    "collapsed": false,
    "scrolled": true
   },
   "outputs": [
    {
     "ename": "NameError",
     "evalue": "name 'sqrt' is not defined",
     "output_type": "error",
     "traceback": [
      "\u001b[0;31m---------------------------------------------------------------------------\u001b[0m",
      "\u001b[0;31mNameError\u001b[0m                                 Traceback (most recent call last)",
      "\u001b[0;32m<ipython-input-4-718d7f173e1d>\u001b[0m in \u001b[0;36m<module>\u001b[0;34m()\u001b[0m\n\u001b[0;32m----> 1\u001b[0;31m \u001b[0msqrt\u001b[0m\u001b[1;33m(\u001b[0m\u001b[1;36m4\u001b[0m\u001b[1;33m)\u001b[0m\u001b[1;33m\u001b[0m\u001b[0m\n\u001b[0m",
      "\u001b[0;31mNameError\u001b[0m: name 'sqrt' is not defined"
     ]
    }
   ],
   "source": [
    "sqrt(4)"
   ]
  },
  {
   "cell_type": "markdown",
   "metadata": {},
   "source": [
    "Congratulations on your first of many error messages! Error messages are your friends.  They tell you what went wrong so you know what to fix in your code. Error messages won't harm or break your script, but Python will stop executing code when it throws an error message.\n",
    "\n",
    "The `NameError` tells us that Python does not know what `sqrt()` is. Why? Because `sqrt()` is from the math library and we did not import that library.  So, to use `sqrt()` we just need to import math using a special command: <b><font color=\"green\">import</font></b>."
   ]
  },
  {
   "cell_type": "code",
   "execution_count": 5,
   "metadata": {
    "collapsed": false
   },
   "outputs": [
    {
     "data": {
      "text/plain": [
       "2.0"
      ]
     },
     "execution_count": 5,
     "metadata": {},
     "output_type": "execute_result"
    }
   ],
   "source": [
    "## Run the code by holding Ctrl, and hitting Enter ##\n",
    "import math\n",
    "\n",
    "math.sqrt(4)"
   ]
  },
  {
   "cell_type": "markdown",
   "metadata": {},
   "source": [
    "Now `sqrt()` is available inside our script, but notice you have to type it as `math.sqrt(4)` because even though we imported the Math Library we still have to tell Python where to find the `sqrt()` method. This syntax of `library_name.method_name(inputs)` is what you will use when you want to use methods from libraries, so try to remember it. \n",
    "\n",
    "Also, you will notice that the text <b><font color=\"green\">import</font></b> shows up bold green in the code cell above, while `math` is in normal black text. This is because <b><font color=\"green\">import</font></b> is a reserved word, or key word, in Python.  Reserved words are words that are already assigned some special purpose and cannot be used for other things, like variable names or function names. You will learn more reserved words and what they do throughout this course."
   ]
  },
  {
   "cell_type": "markdown",
   "metadata": {},
   "source": [
    "<b><font color=\"firebrick\">Instructor Guidance</font>: Point out how an import only needs to occur once per program.  Once imported, the library is available until a kernel restart.</b>\n",
    "\n"
   ]
  },
  {
   "cell_type": "markdown",
   "metadata": {},
   "source": [
    "<hr>\n",
    "<a id='Resources'></a>\n",
    "### 1.6.4. Python Resources on the Web\n",
    "\n",
    "* [Python.org](https://www.python.org/)\n",
    "    * [Python for Non-programmers](https://wiki.python.org/moin/BeginnersGuide/NonProgrammers)\n",
    "    * [The Hitchhikers Guide to Python](http://docs.python-guide.org/en/latest/)\n",
    "    * [PEP8 Style Guide for Python](https://www.python.org/dev/peps/pep-0008/)\n",
    "    \n",
    "* [O'Reilly's Think Python: How To Think Like a Computer Scientist, 2nd Edition](http://greenteapress.com/thinkpython2/thinkpython2.pdf) - Allen Downey had made this great introduction to Python 2.7 available for free at Green Tea Press. Should you decide to do the practical exercises in the book, Mr. Downey has made the [solutions](http://greenteapress.com/thinkpython/code/) available as Jupyter Notebooks.\n",
    "\n",
    "* [Automate the Boring Stuff with Python - Practical Programming for Total Beginners](https://automatetheboringstuff.com/) - Written for office workers, students, administrators, and anyone who uses a computer to learn how to code small, practical programs to automate tasks on their computer.\n",
    "\n",
    "* [StackOverflow](https://stackoverflow.com/questions/tagged/python) - A great resource to find solutions for any coding problem you might have in this course and in your jobs. If you find yourself stuck with a problem during the practical exercises, think about the problem you are trying to solve and ask Google. You will more than likely find that you are not the first to have the problem and there are plenty of people out in the StackOverflow community who can help.\n",
    "\n",
    "* [Jupyter Notebook (software)](https://jupyter.org/) - The classroom exercises will be conducted using Jupyter Notebooks. Jupyter Notebooks, or iPython Notebooks as they were called previously, are a great way to create code, add documentation, and share the results with others.\n",
    "    * [What is Jupyter Notebook (YouTube)](https://video.search.yahoo.com/search/video;_ylt=A0LEVxT2upRZU94AX1tXNyoA;_ylu=X3oDMTEyNGJkYnFqBGNvbG8DYmYxBHBvcwMxBHZ0aWQDQjQ0ODJfMQRzZWMDc2M-?p=jupyter+notebook+tutorial&fr=dss_yset_chr#id=8&vid=74d3ef639eeabb387d6267364dab002b&action=view)\n",
    "    * [Jupyter Notebook Users Manual](https://athena.brynmawr.edu/jupyter/hub/dblank/public/Jupyter%20Notebook%20Users%20Manual.ipynb)"
   ]
  },
  {
   "cell_type": "markdown",
   "metadata": {},
   "source": [
    "<hr>\n",
    "<a id='Locally'></a>\n",
    "### 1.6.5. Python Resources Locally\n",
    "\n",
    "Open the following resources with your facilitator(s) and explore along with them:\n",
    "\n",
    "* Glossary\n",
    "* Student Handout\n",
    "* Blog/Parking Lot\n",
    "* Python's `help()` function"
   ]
  },
  {
   "cell_type": "markdown",
   "metadata": {},
   "source": [
    "<b><font color=\"firebrick\">Instructor Guidance</font>: Open up all of these and go over their contents. </b>\n",
    "\n"
   ]
  },
  {
   "cell_type": "markdown",
   "metadata": {},
   "source": [
    "<hr>\n",
    "<a id='Help'></a>\n",
    "### 1.6.6. Python's `help()` Function\n",
    "\n",
    "Python includes an interactive `help()` function, which produces an interactive menu. If an argument is passed into the `help()` function (such as `math`), the documentation for that library will be printed."
   ]
  },
  {
   "cell_type": "markdown",
   "metadata": {},
   "source": [
    "<b><font color=\"firebrick\">Instructor Guidance</font>: Have them type \"math\" at the `input()` prompt for the first choice. After that, participants should make their own choices. As it says, when done, \"just type \"quit\".\"</b>"
   ]
  },
  {
   "cell_type": "code",
   "execution_count": 8,
   "metadata": {
    "collapsed": false,
    "scrolled": true
   },
   "outputs": [
    {
     "name": "stdout",
     "output_type": "stream",
     "text": [
      "\n",
      "Welcome to Python 3.5's help utility!\n",
      "\n",
      "If this is your first time using Python, you should definitely check out\n",
      "the tutorial on the Internet at http://docs.python.org/3.5/tutorial/.\n",
      "\n",
      "Enter the name of any module, keyword, or topic to get help on writing\n",
      "Python programs and using Python modules.  To quit this help utility and\n",
      "return to the interpreter, just type \"quit\".\n",
      "\n",
      "To get a list of available modules, keywords, symbols, or topics, type\n",
      "\"modules\", \"keywords\", \"symbols\", or \"topics\".  Each module also comes\n",
      "with a one-line summary of what it does; to list the modules whose name\n",
      "or summary contain a given string such as \"spam\", type \"modules spam\".\n",
      "\n",
      "help> keywords\n",
      "\n",
      "Here is a list of the Python keywords.  Enter any keyword to get more help.\n",
      "\n",
      "False               def                 if                  raise\n",
      "None                del                 import              return\n",
      "True                elif                in                  try\n",
      "and                 else                is                  while\n",
      "as                  except              lambda              with\n",
      "assert              finally             nonlocal            yield\n",
      "break               for                 not                 \n",
      "class               from                or                  \n",
      "continue            global              pass                \n",
      "\n",
      "help> math\n",
      "Help on built-in module math:\n",
      "\n",
      "NAME\n",
      "    math\n",
      "\n",
      "DESCRIPTION\n",
      "    This module is always available.  It provides access to the\n",
      "    mathematical functions defined by the C standard.\n",
      "\n",
      "FUNCTIONS\n",
      "    acos(...)\n",
      "        acos(x)\n",
      "        \n",
      "        Return the arc cosine (measured in radians) of x.\n",
      "    \n",
      "    acosh(...)\n",
      "        acosh(x)\n",
      "        \n",
      "        Return the inverse hyperbolic cosine of x.\n",
      "    \n",
      "    asin(...)\n",
      "        asin(x)\n",
      "        \n",
      "        Return the arc sine (measured in radians) of x.\n",
      "    \n",
      "    asinh(...)\n",
      "        asinh(x)\n",
      "        \n",
      "        Return the inverse hyperbolic sine of x.\n",
      "    \n",
      "    atan(...)\n",
      "        atan(x)\n",
      "        \n",
      "        Return the arc tangent (measured in radians) of x.\n",
      "    \n",
      "    atan2(...)\n",
      "        atan2(y, x)\n",
      "        \n",
      "        Return the arc tangent (measured in radians) of y/x.\n",
      "        Unlike atan(y/x), the signs of both x and y are considered.\n",
      "    \n",
      "    atanh(...)\n",
      "        atanh(x)\n",
      "        \n",
      "        Return the inverse hyperbolic tangent of x.\n",
      "    \n",
      "    ceil(...)\n",
      "        ceil(x)\n",
      "        \n",
      "        Return the ceiling of x as an Integral.\n",
      "        This is the smallest integer >= x.\n",
      "    \n",
      "    copysign(...)\n",
      "        copysign(x, y)\n",
      "        \n",
      "        Return a float with the magnitude (absolute value) of x but the sign \n",
      "        of y. On platforms that support signed zeros, copysign(1.0, -0.0) \n",
      "        returns -1.0.\n",
      "    \n",
      "    cos(...)\n",
      "        cos(x)\n",
      "        \n",
      "        Return the cosine of x (measured in radians).\n",
      "    \n",
      "    cosh(...)\n",
      "        cosh(x)\n",
      "        \n",
      "        Return the hyperbolic cosine of x.\n",
      "    \n",
      "    degrees(...)\n",
      "        degrees(x)\n",
      "        \n",
      "        Convert angle x from radians to degrees.\n",
      "    \n",
      "    erf(...)\n",
      "        erf(x)\n",
      "        \n",
      "        Error function at x.\n",
      "    \n",
      "    erfc(...)\n",
      "        erfc(x)\n",
      "        \n",
      "        Complementary error function at x.\n",
      "    \n",
      "    exp(...)\n",
      "        exp(x)\n",
      "        \n",
      "        Return e raised to the power of x.\n",
      "    \n",
      "    expm1(...)\n",
      "        expm1(x)\n",
      "        \n",
      "        Return exp(x)-1.\n",
      "        This function avoids the loss of precision involved in the direct evaluation of exp(x)-1 for small x.\n",
      "    \n",
      "    fabs(...)\n",
      "        fabs(x)\n",
      "        \n",
      "        Return the absolute value of the float x.\n",
      "    \n",
      "    factorial(...)\n",
      "        factorial(x) -> Integral\n",
      "        \n",
      "        Find x!. Raise a ValueError if x is negative or non-integral.\n",
      "    \n",
      "    floor(...)\n",
      "        floor(x)\n",
      "        \n",
      "        Return the floor of x as an Integral.\n",
      "        This is the largest integer <= x.\n",
      "    \n",
      "    fmod(...)\n",
      "        fmod(x, y)\n",
      "        \n",
      "        Return fmod(x, y), according to platform C.  x % y may differ.\n",
      "    \n",
      "    frexp(...)\n",
      "        frexp(x)\n",
      "        \n",
      "        Return the mantissa and exponent of x, as pair (m, e).\n",
      "        m is a float and e is an int, such that x = m * 2.**e.\n",
      "        If x is 0, m and e are both 0.  Else 0.5 <= abs(m) < 1.0.\n",
      "    \n",
      "    fsum(...)\n",
      "        fsum(iterable)\n",
      "        \n",
      "        Return an accurate floating point sum of values in the iterable.\n",
      "        Assumes IEEE-754 floating point arithmetic.\n",
      "    \n",
      "    gamma(...)\n",
      "        gamma(x)\n",
      "        \n",
      "        Gamma function at x.\n",
      "    \n",
      "    gcd(...)\n",
      "        gcd(x, y) -> int\n",
      "        greatest common divisor of x and y\n",
      "    \n",
      "    hypot(...)\n",
      "        hypot(x, y)\n",
      "        \n",
      "        Return the Euclidean distance, sqrt(x*x + y*y).\n",
      "    \n",
      "    isclose(...)\n",
      "        isclose(a, b, *, rel_tol=1e-09, abs_tol=0.0) -> bool\n",
      "        \n",
      "        Determine whether two floating point numbers are close in value.\n",
      "        \n",
      "           rel_tol\n",
      "               maximum difference for being considered \"close\", relative to the\n",
      "               magnitude of the input values\n",
      "            abs_tol\n",
      "               maximum difference for being considered \"close\", regardless of the\n",
      "               magnitude of the input values\n",
      "        \n",
      "        Return True if a is close in value to b, and False otherwise.\n",
      "        \n",
      "        For the values to be considered close, the difference between them\n",
      "        must be smaller than at least one of the tolerances.\n",
      "        \n",
      "        -inf, inf and NaN behave similarly to the IEEE 754 Standard.  That\n",
      "        is, NaN is not close to anything, even itself.  inf and -inf are\n",
      "        only close to themselves.\n",
      "    \n",
      "    isfinite(...)\n",
      "        isfinite(x) -> bool\n",
      "        \n",
      "        Return True if x is neither an infinity nor a NaN, and False otherwise.\n",
      "    \n",
      "    isinf(...)\n",
      "        isinf(x) -> bool\n",
      "        \n",
      "        Return True if x is a positive or negative infinity, and False otherwise.\n",
      "    \n",
      "    isnan(...)\n",
      "        isnan(x) -> bool\n",
      "        \n",
      "        Return True if x is a NaN (not a number), and False otherwise.\n",
      "    \n",
      "    ldexp(...)\n",
      "        ldexp(x, i)\n",
      "        \n",
      "        Return x * (2**i).\n",
      "    \n",
      "    lgamma(...)\n",
      "        lgamma(x)\n",
      "        \n",
      "        Natural logarithm of absolute value of Gamma function at x.\n",
      "    \n",
      "    log(...)\n",
      "        log(x[, base])\n",
      "        \n",
      "        Return the logarithm of x to the given base.\n",
      "        If the base not specified, returns the natural logarithm (base e) of x.\n",
      "    \n",
      "    log10(...)\n",
      "        log10(x)\n",
      "        \n",
      "        Return the base 10 logarithm of x.\n",
      "    \n",
      "    log1p(...)\n",
      "        log1p(x)\n",
      "        \n",
      "        Return the natural logarithm of 1+x (base e).\n",
      "        The result is computed in a way which is accurate for x near zero.\n",
      "    \n",
      "    log2(...)\n",
      "        log2(x)\n",
      "        \n",
      "        Return the base 2 logarithm of x.\n",
      "    \n",
      "    modf(...)\n",
      "        modf(x)\n",
      "        \n",
      "        Return the fractional and integer parts of x.  Both results carry the sign\n",
      "        of x and are floats.\n",
      "    \n",
      "    pow(...)\n",
      "        pow(x, y)\n",
      "        \n",
      "        Return x**y (x to the power of y).\n",
      "    \n",
      "    radians(...)\n",
      "        radians(x)\n",
      "        \n",
      "        Convert angle x from degrees to radians.\n",
      "    \n",
      "    sin(...)\n",
      "        sin(x)\n",
      "        \n",
      "        Return the sine of x (measured in radians).\n",
      "    \n",
      "    sinh(...)\n",
      "        sinh(x)\n",
      "        \n",
      "        Return the hyperbolic sine of x.\n",
      "    \n",
      "    sqrt(...)\n",
      "        sqrt(x)\n",
      "        \n",
      "        Return the square root of x.\n",
      "    \n",
      "    tan(...)\n",
      "        tan(x)\n",
      "        \n",
      "        Return the tangent of x (measured in radians).\n",
      "    \n",
      "    tanh(...)\n",
      "        tanh(x)\n",
      "        \n",
      "        Return the hyperbolic tangent of x.\n",
      "    \n",
      "    trunc(...)\n",
      "        trunc(x:Real) -> Integral\n",
      "        \n",
      "        Truncates x to the nearest Integral toward 0. Uses the __trunc__ magic method.\n",
      "\n",
      "DATA\n",
      "    e = 2.718281828459045\n",
      "    inf = inf\n",
      "    nan = nan\n",
      "    pi = 3.141592653589793\n",
      "\n",
      "FILE\n",
      "    (built-in)\n",
      "\n",
      "\n",
      "help> quit\n",
      "\n",
      "You are now leaving help and returning to the Python interpreter.\n",
      "If you want to ask for help on a particular object directly from the\n",
      "interpreter, you can type \"help(object)\".  Executing \"help('string')\"\n",
      "has the same effect as typing a particular string at the help> prompt.\n"
     ]
    }
   ],
   "source": [
    "help()"
   ]
  },
  {
   "cell_type": "code",
   "execution_count": 7,
   "metadata": {
    "collapsed": false
   },
   "outputs": [
    {
     "name": "stdout",
     "output_type": "stream",
     "text": [
      "\n",
      "Here is a list of the Python keywords.  Enter any keyword to get more help.\n",
      "\n",
      "False               def                 if                  raise\n",
      "None                del                 import              return\n",
      "True                elif                in                  try\n",
      "and                 else                is                  while\n",
      "as                  except              lambda              with\n",
      "assert              finally             nonlocal            yield\n",
      "break               for                 not                 \n",
      "class               from                or                  \n",
      "continue            global              pass                \n",
      "\n"
     ]
    }
   ],
   "source": [
    "help('keywords')"
   ]
  },
  {
   "cell_type": "markdown",
   "metadata": {},
   "source": [
    "<hr>\n",
    "<a id=\"Jupyter\"></a>\n",
    "## 1.7. Using Jupyter Notebooks\n",
    "\n",
    "As shown below, Jupyter Notebooks consist of a number of cells that can be set to accept code, Markdown formatted text, and HTML.  You can add additional cells using the \"+\" button in the toolbar above or one of Jupyter's keyboard shortcuts. Set the type of any cell with the drop-down on the right end of the toolbar. Markdown allows you to write notes and text in various forms such as lists or tables. The Jupyter Notebook Users Manual above is a great resource to learning more details about Markdown formatting.\n",
    "\n",
    "![](./GRAPHICS/Jupyter_Toolbar.png)"
   ]
  },
  {
   "cell_type": "markdown",
   "metadata": {},
   "source": [
    "<hr>\n",
    "<a id='Notebooks'></a>\n",
    "### 1.7.1. Guided Exercise: Jupyter Notebooks\n",
    "\n",
    "These notebooks can be very helpful as you navigate this course. You may want to reference previous classes as we move into new lessons. Let's check out some of the functionality built into Jupyter Notebooks.\n",
    "\n",
    "There are a number of keyboard shortcuts that work in Jupyter Notebook. You can find a complete list of shortcuts by clicking the keyboard button in the menu above. The following three shortcuts are very useful because they allow you to run cells."
   ]
  },
  {
   "cell_type": "markdown",
   "metadata": {},
   "source": [
    "<center> **Keyboard Shortcuts for All Modes**</center>\n",
    "\n",
    "| Shortcut | Description|\n",
    "|---|---|\n",
    "| Shift + Enter| Execute the contents of the cell, and move onto the next cell |\n",
    "| Ctrl + Enter | Execute the contents of the cell, but stay with this cell|\n",
    "| Alt + Enter | Execute the contents of the cell, insert a new cell below|"
   ]
  },
  {
   "cell_type": "markdown",
   "metadata": {},
   "source": [
    "#### 1.7.1.1. Part 1: Execute a Code Cell\n",
    "\n",
    "The code cell below has a print statement.  Try executing it using the toolbar or the three keyboard shortcuts.  When the cell below the code cell is selected, return to it using the Up Arrow."
   ]
  },
  {
   "cell_type": "code",
   "execution_count": 9,
   "metadata": {
    "collapsed": false
   },
   "outputs": [
    {
     "name": "stdout",
     "output_type": "stream",
     "text": [
      "Good job!\n"
     ]
    }
   ],
   "source": [
    "print('Good job!')"
   ]
  },
  {
   "cell_type": "markdown",
   "metadata": {},
   "source": [
    "#### 1.7.1.2. Part 2: Edit Mode\n",
    "\n",
    "When you're inside a Jupyter Notebook, you're operating in one of two modes: Edit Mode (green cell margin) and Command Mode (blue cell margin). Edit Mode allows you to change the contents of a cell, whereas Command Mode allows you to perform operations on a cell as a whole, such as running it, copying it, or deleting it. To enter Edit Mode, either click inside the cell or hit Enter when the cell is highlighted. To enter Command Mode, either click outside of the cell or hit Esc."
   ]
  },
  {
   "cell_type": "markdown",
   "metadata": {},
   "source": [
    "<center>**Keyboard Shortcuts for Switching Between Modes**</center>\n",
    "\n",
    "| Shortcut | Description|\n",
    "|:---:|---|\n",
    "| Enter | enter Edit Mode |\n",
    "| Esc | enter Command Mode |"
   ]
  },
  {
   "cell_type": "markdown",
   "metadata": {},
   "source": [
    "Jupyter also supports _Tab Completion_. This feature will complete certain code snippets for you, and is mostly used for completing variable and function names. Tab Completion is useful because it allows you to type code faster and prevents typos. In the code cell below, a variable is created for you.  If you have to type this variable name with some frequency, that can get cumbersome.  Put the cell in Edit Mode, start to type the variable name, then hit Tab to complete it."
   ]
  },
  {
   "cell_type": "code",
   "execution_count": 10,
   "metadata": {
    "collapsed": true
   },
   "outputs": [],
   "source": [
    "very_long_variable_name = 'test string'\n",
    "\n",
    "## Start typing in the variable name, then hit Tab ##"
   ]
  },
  {
   "cell_type": "markdown",
   "metadata": {},
   "source": [
    "#### 1.7.1.3. Part 3: Command Mode\n",
    "<br>\n",
    "\n",
    "<center>**Keyboard Shortcuts for Command Mode**</center>\n",
    "\n",
    "| Shortcut | Description|\n",
    "|:---:|---|\n",
    "| m | Convert a cell to Markdown|\n",
    "| y | Convert a cell to Code|\n",
    "| a | Insert a cell above the selected cell|\n",
    "| b | Insert a cell below the selected cell|\n",
    "| c | Copy the selected cell|\n",
    "| x | Cut the selected cell|\n",
    "| v | Paste cell below the selected cell|\n",
    "| dd | Delete selected cell |\n",
    "| z | Undo a cell deletion |\n",
    "| Up Arrow | Move to the cell above |\n",
    "| Down Arrow | Move to the cell below|"
   ]
  },
  {
   "cell_type": "markdown",
   "metadata": {},
   "source": [
    "#### 1.7.1.3.1. Changing Cell Type "
   ]
  },
  {
   "cell_type": "markdown",
   "metadata": {
    "collapsed": true
   },
   "source": [
    "#Change the type of this cell from Markdown to Code and run the cell.\n",
    "#You can do this by using the toolbar or the keyboard shortcuts.  Try both.\n",
    "\n",
    "print('Nice Job!')"
   ]
  },
  {
   "cell_type": "markdown",
   "metadata": {},
   "source": [
    "#### 1.7.1.3.2. Removing Extra Cells"
   ]
  },
  {
   "cell_type": "markdown",
   "metadata": {
    "collapsed": true
   },
   "source": [
    "This cell is in here twice, get rid of one of them"
   ]
  },
  {
   "cell_type": "markdown",
   "metadata": {
    "collapsed": true
   },
   "source": [
    "This cell is in here twice, get rid of one of them"
   ]
  },
  {
   "cell_type": "markdown",
   "metadata": {},
   "source": [
    "#### 1.7.1.3.3. Undoing a deletion\n",
    "\n",
    "In case you accidentally delete a code or markdown cell you've been working hard on, you *can* undo it.  Undo the deletion from 3.2"
   ]
  },
  {
   "cell_type": "markdown",
   "metadata": {},
   "source": [
    "#### 1.7.1.3.4. Adding Cells\n",
    "\n",
    "Add a code cell below and copy the following line and run it:\n",
    "```python\n",
    "print(\"Woah! You're getting the hang of this!\")\n",
    "```"
   ]
  },
  {
   "cell_type": "code",
   "execution_count": null,
   "metadata": {
    "collapsed": true
   },
   "outputs": [],
   "source": [
    "## Try some code ideas here ##"
   ]
  },
  {
   "cell_type": "markdown",
   "metadata": {},
   "source": [
    "#### 1.7.1.4. Part 4: Try Out Other Jupyter Notebook Functionality"
   ]
  },
  {
   "cell_type": "markdown",
   "metadata": {},
   "source": [
    "<b><font color=\"firebrick\">Instructor Guidance</font>: Poll the students for any other functionality they're interested in, or demonstrate some you feel is useful.  They haven't had much experience at this point, so many not know what to ask.  Point out that this can be used as a reference so they can refer to it later as they'll continue to have access to this notebook.</b>\n",
    "\n"
   ]
  },
  {
   "cell_type": "code",
   "execution_count": null,
   "metadata": {
    "collapsed": true
   },
   "outputs": [],
   "source": [
    "## Try some code ideas here ##"
   ]
  },
  {
   "cell_type": "code",
   "execution_count": null,
   "metadata": {
    "collapsed": true
   },
   "outputs": [],
   "source": [
    "## Try some code ideas here ##"
   ]
  },
  {
   "cell_type": "code",
   "execution_count": null,
   "metadata": {
    "collapsed": true
   },
   "outputs": [],
   "source": [
    "## Try some code ideas here ##"
   ]
  },
  {
   "cell_type": "code",
   "execution_count": null,
   "metadata": {
    "collapsed": true
   },
   "outputs": [],
   "source": [
    "## Try some code ideas here ##"
   ]
  },
  {
   "cell_type": "markdown",
   "metadata": {
    "collapsed": true
   },
   "source": [
    "If you want a more in-depth review of Jupyter Notebooks and how you can customize them, check out the excellent [Jupyter Notebook Users Manual](https://athena.brynmawr.edu/jupyter/hub/dblank/public/Jupyter%20Notebook%20Users%20Manual.ipynb)."
   ]
  },
  {
   "cell_type": "markdown",
   "metadata": {},
   "source": [
    "<hr>\n",
    "<a id='Kernel'></a>\n",
    "### 1.7.2. Guided Exercise: The Kernel Dropdown\n",
    "\n",
    "Under the hood, Jupyter Notebook has a Python _kernel_ that stores the variables you've created and remembers what libraries you've imported.  The kernel can only run one code cell at a time, but everything stored in the kernel is available anywhere inside your Jupyter Notebook. Splitting up code into different cells allows you to view outputs at every step. For example, the variable we create in the first cell below is still available to us in the second cell."
   ]
  },
  {
   "cell_type": "code",
   "execution_count": 11,
   "metadata": {
    "collapsed": true
   },
   "outputs": [],
   "source": [
    "string_variable = 'Test String'"
   ]
  },
  {
   "cell_type": "code",
   "execution_count": 12,
   "metadata": {
    "collapsed": false
   },
   "outputs": [
    {
     "name": "stdout",
     "output_type": "stream",
     "text": [
      "Test String\n"
     ]
    }
   ],
   "source": [
    "print(string_variable)"
   ]
  },
  {
   "cell_type": "markdown",
   "metadata": {},
   "source": [
    "Kernels can break, and when they do we need to restart them. Let's break our kernel on purpose and walk through how to restart it. Run the code cell below.  "
   ]
  },
  {
   "cell_type": "code",
   "execution_count": null,
   "metadata": {
    "collapsed": false
   },
   "outputs": [
    {
     "name": "stdout",
     "output_type": "stream",
     "text": [
      "\n",
      "Welcome to Python 3.5's help utility!\n",
      "\n",
      "If this is your first time using Python, you should definitely check out\n",
      "the tutorial on the Internet at http://docs.python.org/3.5/tutorial/.\n",
      "\n",
      "Enter the name of any module, keyword, or topic to get help on writing\n",
      "Python programs and using Python modules.  To quit this help utility and\n",
      "return to the interpreter, just type \"quit\".\n",
      "\n",
      "To get a list of available modules, keywords, symbols, or topics, type\n",
      "\"modules\", \"keywords\", \"symbols\", or \"topics\".  Each module also comes\n",
      "with a one-line summary of what it does; to list the modules whose name\n",
      "or summary contain a given string such as \"spam\", type \"modules spam\".\n",
      "\n"
     ]
    }
   ],
   "source": [
    "help()"
   ]
  },
  {
   "cell_type": "markdown",
   "metadata": {},
   "source": [
    "Notice the `[*]` next to the cell. \n",
    "\n",
    "![](./GRAPHICS/runningCell.png)\n",
    "\n",
    "When you see an asterisk in the brackets next to a cell, it means that cell is running. Sometimes, this is because the code is taking a while to complete, but this cell is waiting for an input in the dialog box, and until it gets that input it will hang there, waiting.\n",
    "\n",
    "When a cell is finished executing its code, you'll know because a number will appear in the brackets next to the cell. That number shows the order in which you ran the cells in this notebook. An empty set of brackets next to a code cell means it hasn't been run in the current kernel.\n",
    "\n",
    "![](./GRAPHICS/finishedCell.png)\n",
    "\n",
    "Now run the above cell again. Because we ran the cell while it was still waiting on user input, it will never stop. Now we have to restart the kernel. \n",
    "\n",
    "![](./GRAPHICS/kernel.png)\n",
    "\n",
    "Go to the \"Kernel\" dropdown at the top, and click \"Restart and Clear Output\".  You'll see a popup, select \"Restart and Clear Output\" in the popup.  \n",
    "\n",
    "Wait for a moment until the `[*]` disappears.  Now another code cell can be run.  Let's try to reference our variable from before."
   ]
  },
  {
   "cell_type": "code",
   "execution_count": 14,
   "metadata": {
    "collapsed": false
   },
   "outputs": [
    {
     "name": "stdout",
     "output_type": "stream",
     "text": [
      "Test String\n"
     ]
    }
   ],
   "source": [
    "print(string_variable)"
   ]
  },
  {
   "cell_type": "markdown",
   "metadata": {},
   "source": [
    "Restarting the kernel means that all the previously stored memory is lost. If we need to access variables we created earlier in the script, we'll need to scroll up and rerun the cells that initialize them."
   ]
  },
  {
   "cell_type": "markdown",
   "metadata": {},
   "source": [
    "<hr>\n",
    "<a id='Cell'></a>\n",
    "### 1.7.3. Guided Exercise: The Cell Dropdown\n",
    "\n",
    "We'll need to re-initialize our variables, which means re-running the code cells that define variables we're interested in.  In a longer notebook, the \"Cell\" dropdown has an option to re-run all the code cells above the selected cell. But in this example, we only have one variable so we can just re-run that code cell. \n",
    "\n",
    "Re-run the code cell that initializes the `string_variable` above, then run the code cell below."
   ]
  },
  {
   "cell_type": "code",
   "execution_count": 15,
   "metadata": {
    "collapsed": false,
    "scrolled": true
   },
   "outputs": [
    {
     "name": "stdout",
     "output_type": "stream",
     "text": [
      "Test String\n"
     ]
    }
   ],
   "source": [
    "print(string_variable)"
   ]
  },
  {
   "cell_type": "markdown",
   "metadata": {},
   "source": [
    "<hr>\n",
    "<a id='Administrative'></a>\n",
    "## 1.8. Administrative Notes\n",
    "* Save your Lesson 1 .ipynb file to your H drive."
   ]
  },
  {
   "cell_type": "markdown",
   "metadata": {},
   "source": [
    "<b><center>UNCLASSIFIED</center></b>"
   ]
  }
 ],
 "metadata": {
  "anaconda-cloud": {},
  "kernelspec": {
   "display_name": "Python [default]",
   "language": "python",
   "name": "python3"
  },
  "language_info": {
   "codemirror_mode": {
    "name": "ipython",
    "version": 3
   },
   "file_extension": ".py",
   "mimetype": "text/x-python",
   "name": "python",
   "nbconvert_exporter": "python",
   "pygments_lexer": "ipython3",
   "version": "3.5.2"
  }
 },
 "nbformat": 4,
 "nbformat_minor": 1
}
